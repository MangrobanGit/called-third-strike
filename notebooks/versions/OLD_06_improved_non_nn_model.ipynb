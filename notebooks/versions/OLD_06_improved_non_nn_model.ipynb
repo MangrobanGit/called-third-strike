{
 "cells": [
  {
   "cell_type": "markdown",
   "id": "1d9a73fe-22ef-46f3-af36-3ed41d28fa72",
   "metadata": {},
   "source": [
    "# Called Third Strike\n",
    "## Part 6. Improved non-neural network model\n",
    "\n",
    "![](./resources/baseball_umpire_home_plate_1.jpg)\n",
    "\n",
    "This project's goal is to build probability models for as to whether a pitch will be called a strike or not. The intended models are to be:\n",
    "1. A neural network (NN) based approach.\n",
    "2. A non-NN based approach.\n",
    "\n",
    "---\n",
    "\n",
    "__**This Notebook's**__ objective is to iterate on the work done with the [first attempts](04_first_crude_non_nn_model.ipynb) at a \"classical\" ML classication model. As with the ['improved' neural network model](05_improved_neural_network.ipynb), we will be adding in these other features:\n",
    "- Included Handedness of both pitcher and batter; I hypothesize that this will have some signal with regards to the 'strike-ness' of the horizontal movement of the pitch. As for verticality, I think that the stringer data helps with that since it provides fairly concrete guardrails as to the strike-ness (assuming the umpire sees the same thing haha).\n",
    "- Include pitch break and angle. I hypothesize this acts like a proxy to the pitcher, without having to rely on the pitcher_IDs. Rough analogy but I think of it kind of like latent factors in ALS matrix factorization (which I need to brush up on heh).\n",
    "\n",
    "---\n",
    "---"
   ]
  },
  {
   "cell_type": "markdown",
   "id": "7c603889-4d23-4c1d-8e4d-8d45d1a72da4",
   "metadata": {},
   "source": [
    "### Table of Contents<a id='toc'></a>\n",
    "\n",
    "<a href='#data_prep'>1. Data Preprocessing</a>\n",
    "\n",
    "~<a href='#build_model'>2. Build Model</a>~ Straight to Random Search!\n",
    "\n",
    "<a href='#random_search'>3. Random Hyperparameter Search</a>\n",
    "\n",
    "<a href='#summary'>4. Summary</a>\n",
    "\n",
    "<a href='#tuning'>5. (Re-)Tuning</a>\n",
    "\n",
    "<a href='#more_tuning'>6. More Tuning</a>\n",
    "\n",
    "...\n",
    "\n",
    "<a href='#the_end'>Go to the End</a>\n",
    "\n",
    "---"
   ]
  },
  {
   "cell_type": "markdown",
   "id": "4fcfd9aa-eac1-4789-af6d-cf5700a82979",
   "metadata": {},
   "source": [
    "---  \n",
    "\n",
    "<span style=\"font-size:0.5em;\">Tag 1</span>\n",
    "\n",
    "### Data Preprocessing<a id='data_prep'></a>\n",
    "\n",
    "<span style=\"font-size:0.5em;\"><a href='#toc'>Back to TOC</a></span>\n"
   ]
  },
  {
   "cell_type": "markdown",
   "id": "053be28f-4156-45c6-8a93-99c50dd76e39",
   "metadata": {},
   "source": [
    "#### Libraries\n"
   ]
  },
  {
   "cell_type": "code",
   "execution_count": 136,
   "id": "907b6406-cf7b-41c0-baca-5095c77e7b17",
   "metadata": {},
   "outputs": [],
   "source": [
    "# Data wrangling and operations\n",
    "import pandas as pd\n",
    "import numpy as np\n",
    "from datetime import datetime, timezone\n",
    "import pytz\n",
    "import pickle\n",
    "\n",
    "# Visualization\n",
    "import matplotlib.pyplot as plt\n",
    "import seaborn as sns\n",
    "\n",
    "# try:\n",
    "#     import plotly_express as pex\n",
    "# except ImportError:\n",
    "#     !pip install plotly_express\n",
    "# except ModuleNotFoundError:\n",
    "#     !pip install plotly_express\n",
    "\n",
    "# Estimators\n",
    "from sklearn.linear_model import LinearRegression\n",
    "from sklearn.linear_model import LogisticRegression\n",
    "import xgboost as xgb\n",
    "from xgboost import XGBClassifier\n",
    "from sklearn.tree import DecisionTreeClassifier\n",
    "from sklearn.ensemble import BaggingClassifier, RandomForestClassifier\n",
    "from sklearn.ensemble import GradientBoostingClassifier\n",
    "from sklearn.base import BaseEstimator\n",
    "\n",
    "# Processing\n",
    "from sklearn.preprocessing import OneHotEncoder\n",
    "from sklearn.preprocessing import LabelBinarizer\n",
    "from sklearn.preprocessing import StandardScaler\n",
    "from sklearn.compose import ColumnTransformer\n",
    "from sklearn.model_selection import GridSearchCV\n",
    "from sklearn.model_selection import RandomizedSearchCV\n",
    "\n",
    "# Assessment\n",
    "from sklearn.pipeline import Pipeline\n",
    "from sklearn.model_selection import train_test_split\n",
    "from sklearn.model_selection import cross_val_score\n",
    "from sklearn.metrics import accuracy_score\n",
    "from sklearn.metrics import mean_squared_error, mean_absolute_error\n",
    "from sklearn.metrics import f1_score\n",
    "from sklearn.metrics import confusion_matrix\n",
    "from sklearn.metrics import recall_score, precision_score, auc\n",
    "from sklearn.metrics import roc_curve, RocCurveDisplay"
   ]
  },
  {
   "cell_type": "markdown",
   "id": "987afa32-26cc-421f-bfdd-dd2cd8a29e62",
   "metadata": {},
   "source": [
    "---\n",
    "\n",
    "#### Data Import \n",
    "\n",
    "Retrieve the latest version of our train/test files that we built during [initial exploration](02_data_exploration.ipynb)."
   ]
  },
  {
   "cell_type": "code",
   "execution_count": 137,
   "id": "56973127-9122-4525-9194-c3545f95384f",
   "metadata": {},
   "outputs": [],
   "source": [
    "df_train = pd.read_pickle('../data/train_enriched.pkl')\n",
    "df_test = pd.read_pickle('../data/test_enriched.pkl')"
   ]
  },
  {
   "cell_type": "markdown",
   "id": "a0999ceb-8cfd-40a1-98c5-97162be73173",
   "metadata": {},
   "source": [
    "Let's refamiliarize ourselves with the features."
   ]
  },
  {
   "cell_type": "code",
   "execution_count": 138,
   "id": "ac6b3a5a-8999-4e9f-9c09-9b14b30813bb",
   "metadata": {},
   "outputs": [
    {
     "name": "stdout",
     "output_type": "stream",
     "text": [
      "<class 'pandas.core.frame.DataFrame'>\n",
      "Int64Index: 350959 entries, 0 to 354038\n",
      "Data columns (total 31 columns):\n",
      " #   Column                Non-Null Count   Dtype         \n",
      "---  ------                --------------   -----         \n",
      " 0   pitch_id              350959 non-null  object        \n",
      " 1   inning                350959 non-null  int64         \n",
      " 2   side                  350959 non-null  object        \n",
      " 3   run_diff              350959 non-null  int64         \n",
      " 4   at_bat_index          350959 non-null  int64         \n",
      " 5   pitch_of_ab           350959 non-null  int64         \n",
      " 6   batter                350959 non-null  int64         \n",
      " 7   pitcher               350959 non-null  int64         \n",
      " 8   catcher               350959 non-null  int64         \n",
      " 9   umpire                350959 non-null  int64         \n",
      " 10  bside                 350959 non-null  object        \n",
      " 11  pside                 350959 non-null  object        \n",
      " 12  stringer_zone_bottom  350959 non-null  float64       \n",
      " 13  stringer_zone_top     350959 non-null  float64       \n",
      " 14  on_1b_mlbid           106013 non-null  float64       \n",
      " 15  on_2b_mlbid           64287 non-null   float64       \n",
      " 16  on_3b_mlbid           31158 non-null   float64       \n",
      " 17  outs                  350959 non-null  int64         \n",
      " 18  balls                 350959 non-null  int64         \n",
      " 19  strikes               350959 non-null  int64         \n",
      " 20  pitch_speed           350959 non-null  float64       \n",
      " 21  px                    350959 non-null  float64       \n",
      " 22  pz                    350959 non-null  float64       \n",
      " 23  break_x               350959 non-null  float64       \n",
      " 24  break_z               350959 non-null  float64       \n",
      " 25  angle_x               350959 non-null  float64       \n",
      " 26  angle_z               350959 non-null  float64       \n",
      " 27  pitch_type            350959 non-null  object        \n",
      " 28  strike_bool           350959 non-null  int64         \n",
      " 29  game_date_dt          350959 non-null  datetime64[ns]\n",
      " 30  strike_bool_tf        350959 non-null  bool          \n",
      "dtypes: bool(1), datetime64[ns](1), float64(12), int64(12), object(5)\n",
      "memory usage: 83.3+ MB\n"
     ]
    }
   ],
   "source": [
    "df_train.info()"
   ]
  },
  {
   "cell_type": "markdown",
   "id": "c40f40c9-a8e1-481f-8695-767b80df332f",
   "metadata": {},
   "source": [
    "---\n",
    "\n",
    "#### Feature Selection and Prep, revisited\n",
    "\n",
    "Select features:"
   ]
  },
  {
   "cell_type": "markdown",
   "id": "e4f2815c-a590-445b-b633-2ce66fb878e6",
   "metadata": {},
   "source": [
    "For our initial super simple model, we had picked just four features: \n",
    "- `px` which is the horizontal location of the pitch at the plate\n",
    "- `pz` which is the vertical location\n",
    "- `stringer_zone_bottom` which is an estimate of current batter's strike zone bottom\n",
    "- `stringer_zone_top` which is an estimate of current batter's strike zone top"
   ]
  },
  {
   "cell_type": "code",
   "execution_count": 139,
   "id": "38506c32-d1a1-4bb3-ba0a-0968153418f5",
   "metadata": {},
   "outputs": [],
   "source": [
    "# Features selected\n",
    "feat_select = ['px', 'pz', 'stringer_zone_bottom', 'stringer_zone_top']"
   ]
  },
  {
   "cell_type": "markdown",
   "id": "c20eabfa-5e70-4269-b37e-d5aab577593c",
   "metadata": {},
   "source": [
    "But as mentioned in the intro, I want to try adding `bside` and `pside`, as well as vertical/horizontal breaks and angles (`break_x`, `break_z`, `angle_x`, `angle_z`), and `pitch_speed`. "
   ]
  },
  {
   "cell_type": "markdown",
   "id": "4a923ba1-1c96-4a18-ba32-8b349fb779af",
   "metadata": {},
   "source": [
    "##### Adding `break_x`, `break_z`, `angle_x`, `angle_z`, `pitch_speed`\n",
    "\n",
    "These are numeric so I will add on to `feat_select`"
   ]
  },
  {
   "cell_type": "code",
   "execution_count": 140,
   "id": "67287484-f02f-4435-9885-6df0e6a4779c",
   "metadata": {},
   "outputs": [
    {
     "data": {
      "text/plain": [
       "['stringer_zone_top',\n",
       " 'angle_x',\n",
       " 'px',\n",
       " 'pitch_speed',\n",
       " 'pz',\n",
       " 'break_x',\n",
       " 'stringer_zone_bottom',\n",
       " 'angle_z',\n",
       " 'break_z']"
      ]
     },
     "metadata": {},
     "output_type": "display_data"
    }
   ],
   "source": [
    "feat_select = feat_select + ['break_x', 'break_z', 'angle_x', 'angle_z', 'pitch_speed']\n",
    "feat_select = list(set(feat_select)) #Just to ensure no dupes if this cell gets executed again\n",
    "display(feat_select)"
   ]
  },
  {
   "cell_type": "markdown",
   "id": "a7fc4e27-662e-43de-879b-c48918a3e38f",
   "metadata": {},
   "source": [
    "##### Adding `b_side`, `p_side`\n",
    "\n",
    "These are strings so I will one-hot encode them."
   ]
  },
  {
   "cell_type": "code",
   "execution_count": 141,
   "id": "99c9fb2c-cc09-49dd-bf51-085463a9a8c3",
   "metadata": {},
   "outputs": [],
   "source": [
    "feat_cat_select = ['bside', 'pside']"
   ]
  },
  {
   "cell_type": "code",
   "execution_count": 142,
   "id": "ea566257-25aa-4ddf-bcde-f00cbb9d416c",
   "metadata": {},
   "outputs": [],
   "source": [
    "df_train_cat_ohe = pd.get_dummies(df_train[feat_cat_select])"
   ]
  },
  {
   "cell_type": "code",
   "execution_count": 143,
   "id": "0effabf6-ab9c-495b-a4a4-1167ca7e966b",
   "metadata": {},
   "outputs": [
    {
     "data": {
      "application/com.datacamp.data-table.v1+json": {
       "is_truncated": false,
       "table": {
        "data": [
         {
          "bside_L": 0,
          "bside_R": 1,
          "index": 0,
          "pside_L": 1,
          "pside_R": 0
         },
         {
          "bside_L": 1,
          "bside_R": 0,
          "index": 1,
          "pside_L": 0,
          "pside_R": 1
         },
         {
          "bside_L": 1,
          "bside_R": 0,
          "index": 2,
          "pside_L": 1,
          "pside_R": 0
         }
        ],
        "schema": {
         "fields": [
          {
           "name": "index",
           "type": "integer"
          },
          {
           "name": "bside_L",
           "type": "integer"
          },
          {
           "name": "bside_R",
           "type": "integer"
          },
          {
           "name": "pside_L",
           "type": "integer"
          },
          {
           "name": "pside_R",
           "type": "integer"
          }
         ],
         "pandas_version": "0.20.0",
         "primaryKey": [
          "index"
         ]
        }
       },
       "total_rows": 3
      },
      "text/html": [
       "<div>\n",
       "<style scoped>\n",
       "    .dataframe tbody tr th:only-of-type {\n",
       "        vertical-align: middle;\n",
       "    }\n",
       "\n",
       "    .dataframe tbody tr th {\n",
       "        vertical-align: top;\n",
       "    }\n",
       "\n",
       "    .dataframe thead th {\n",
       "        text-align: right;\n",
       "    }\n",
       "</style>\n",
       "<table border=\"1\" class=\"dataframe\">\n",
       "  <thead>\n",
       "    <tr style=\"text-align: right;\">\n",
       "      <th></th>\n",
       "      <th>bside_L</th>\n",
       "      <th>bside_R</th>\n",
       "      <th>pside_L</th>\n",
       "      <th>pside_R</th>\n",
       "    </tr>\n",
       "  </thead>\n",
       "  <tbody>\n",
       "    <tr>\n",
       "      <th>0</th>\n",
       "      <td>0</td>\n",
       "      <td>1</td>\n",
       "      <td>1</td>\n",
       "      <td>0</td>\n",
       "    </tr>\n",
       "    <tr>\n",
       "      <th>1</th>\n",
       "      <td>1</td>\n",
       "      <td>0</td>\n",
       "      <td>0</td>\n",
       "      <td>1</td>\n",
       "    </tr>\n",
       "    <tr>\n",
       "      <th>2</th>\n",
       "      <td>1</td>\n",
       "      <td>0</td>\n",
       "      <td>1</td>\n",
       "      <td>0</td>\n",
       "    </tr>\n",
       "  </tbody>\n",
       "</table>\n",
       "</div>"
      ],
      "text/plain": [
       "   bside_L  bside_R  pside_L  pside_R\n",
       "0        0        1        1        0\n",
       "1        1        0        0        1\n",
       "2        1        0        1        0"
      ]
     },
     "execution_count": 143,
     "metadata": {},
     "output_type": "execute_result"
    }
   ],
   "source": [
    "df_train_cat_ohe.head(3)"
   ]
  },
  {
   "cell_type": "code",
   "execution_count": 144,
   "id": "5678f19d-12ed-4047-a3f3-575f63c5c209",
   "metadata": {},
   "outputs": [
    {
     "data": {
      "text/plain": [
       "(350959, 4)"
      ]
     },
     "execution_count": 144,
     "metadata": {},
     "output_type": "execute_result"
    }
   ],
   "source": [
    "df_train_cat_ohe.shape"
   ]
  },
  {
   "cell_type": "markdown",
   "id": "d15574e0-60b0-4385-be19-d0786af47677",
   "metadata": {},
   "source": [
    "Prep features:\n",
    "\n",
    "Gather up all the selected features."
   ]
  },
  {
   "cell_type": "code",
   "execution_count": 145,
   "id": "b000ae21-12ac-4ee9-9ca8-8ce9445c1bc1",
   "metadata": {},
   "outputs": [
    {
     "name": "stdout",
     "output_type": "stream",
     "text": [
      "<class 'pandas.core.frame.DataFrame'>\n",
      "Int64Index: 350959 entries, 0 to 354038\n",
      "Data columns (total 13 columns):\n",
      " #   Column                Non-Null Count   Dtype  \n",
      "---  ------                --------------   -----  \n",
      " 0   stringer_zone_top     350959 non-null  float64\n",
      " 1   angle_x               350959 non-null  float64\n",
      " 2   px                    350959 non-null  float64\n",
      " 3   pitch_speed           350959 non-null  float64\n",
      " 4   pz                    350959 non-null  float64\n",
      " 5   break_x               350959 non-null  float64\n",
      " 6   stringer_zone_bottom  350959 non-null  float64\n",
      " 7   angle_z               350959 non-null  float64\n",
      " 8   break_z               350959 non-null  float64\n",
      " 9   bside_L               350959 non-null  uint8  \n",
      " 10  bside_R               350959 non-null  uint8  \n",
      " 11  pside_L               350959 non-null  uint8  \n",
      " 12  pside_R               350959 non-null  uint8  \n",
      "dtypes: float64(9), uint8(4)\n",
      "memory usage: 28.1 MB\n"
     ]
    },
    {
     "data": {
      "text/plain": [
       "None"
      ]
     },
     "metadata": {},
     "output_type": "display_data"
    }
   ],
   "source": [
    "# Get just the selected features\n",
    "df_X = pd.concat([df_train[feat_select], df_train_cat_ohe], axis=1)\n",
    "# df_X = df_train_cat_ohe.copy()\n",
    "display(df_X.info())"
   ]
  },
  {
   "cell_type": "code",
   "execution_count": 146,
   "id": "e44045e8-2a8b-4e6f-9e3f-ed286ac3c4d1",
   "metadata": {},
   "outputs": [
    {
     "data": {
      "application/com.datacamp.data-table.v1+json": {
       "is_truncated": false,
       "table": {
        "data": [
         {
          "angle_x": 3.02727,
          "angle_z": 5.59379,
          "break_x": 1.91535,
          "break_z": -9.54142,
          "bside_L": 0,
          "bside_R": 1,
          "index": 0,
          "pitch_speed": 97.4298,
          "pside_L": 1,
          "pside_R": 0,
          "px": -1.2981,
          "pz": 2.30217,
          "stringer_zone_bottom": 1.56,
          "stringer_zone_top": 3.41
         },
         {
          "angle_x": -1.56782,
          "angle_z": 6.86676,
          "break_x": -12.1373,
          "break_z": -21.9427,
          "bside_L": 1,
          "bside_R": 0,
          "index": 1,
          "pitch_speed": 91.7712,
          "pside_L": 0,
          "pside_R": 1,
          "px": 1.41222,
          "pz": 1.57443,
          "stringer_zone_bottom": 1.59,
          "stringer_zone_top": 3.47
         },
         {
          "angle_x": 2.04966,
          "angle_z": 7.17281,
          "break_x": -0.992261,
          "break_z": -25.5107,
          "bside_L": 1,
          "bside_R": 0,
          "index": 2,
          "pitch_speed": 87.813,
          "pside_L": 1,
          "pside_R": 0,
          "px": -0.18119,
          "pz": 2.11248,
          "stringer_zone_bottom": 1.68,
          "stringer_zone_top": 3.58
         },
         {
          "angle_x": 2.96845,
          "angle_z": 8.50392,
          "break_x": -2.8393,
          "break_z": -27.2509,
          "bside_L": 0,
          "bside_R": 1,
          "index": 3,
          "pitch_speed": 86.5546,
          "pside_L": 1,
          "pside_R": 0,
          "px": -0.885538,
          "pz": 0.598692,
          "stringer_zone_bottom": 1.63,
          "stringer_zone_top": 3.55
         },
         {
          "angle_x": -1.6463,
          "angle_z": 9.33291,
          "break_x": 8.90615,
          "break_z": -59.4133,
          "bside_L": 1,
          "bside_R": 0,
          "index": 5,
          "pitch_speed": 72.0904,
          "pside_L": 0,
          "pside_R": 1,
          "px": -1.45954,
          "pz": 3.39951,
          "stringer_zone_bottom": 1.5,
          "stringer_zone_top": 3.3
         }
        ],
        "schema": {
         "fields": [
          {
           "name": "index",
           "type": "integer"
          },
          {
           "name": "stringer_zone_top",
           "type": "number"
          },
          {
           "name": "angle_x",
           "type": "number"
          },
          {
           "name": "px",
           "type": "number"
          },
          {
           "name": "pitch_speed",
           "type": "number"
          },
          {
           "name": "pz",
           "type": "number"
          },
          {
           "name": "break_x",
           "type": "number"
          },
          {
           "name": "stringer_zone_bottom",
           "type": "number"
          },
          {
           "name": "angle_z",
           "type": "number"
          },
          {
           "name": "break_z",
           "type": "number"
          },
          {
           "name": "bside_L",
           "type": "integer"
          },
          {
           "name": "bside_R",
           "type": "integer"
          },
          {
           "name": "pside_L",
           "type": "integer"
          },
          {
           "name": "pside_R",
           "type": "integer"
          }
         ],
         "pandas_version": "0.20.0",
         "primaryKey": [
          "index"
         ]
        }
       },
       "total_rows": 5
      },
      "text/html": [
       "<div>\n",
       "<style scoped>\n",
       "    .dataframe tbody tr th:only-of-type {\n",
       "        vertical-align: middle;\n",
       "    }\n",
       "\n",
       "    .dataframe tbody tr th {\n",
       "        vertical-align: top;\n",
       "    }\n",
       "\n",
       "    .dataframe thead th {\n",
       "        text-align: right;\n",
       "    }\n",
       "</style>\n",
       "<table border=\"1\" class=\"dataframe\">\n",
       "  <thead>\n",
       "    <tr style=\"text-align: right;\">\n",
       "      <th></th>\n",
       "      <th>stringer_zone_top</th>\n",
       "      <th>angle_x</th>\n",
       "      <th>px</th>\n",
       "      <th>pitch_speed</th>\n",
       "      <th>pz</th>\n",
       "      <th>break_x</th>\n",
       "      <th>stringer_zone_bottom</th>\n",
       "      <th>angle_z</th>\n",
       "      <th>break_z</th>\n",
       "      <th>bside_L</th>\n",
       "      <th>bside_R</th>\n",
       "      <th>pside_L</th>\n",
       "      <th>pside_R</th>\n",
       "    </tr>\n",
       "  </thead>\n",
       "  <tbody>\n",
       "    <tr>\n",
       "      <th>0</th>\n",
       "      <td>3.41</td>\n",
       "      <td>3.02727</td>\n",
       "      <td>-1.298100</td>\n",
       "      <td>97.4298</td>\n",
       "      <td>2.302170</td>\n",
       "      <td>1.915350</td>\n",
       "      <td>1.56</td>\n",
       "      <td>5.59379</td>\n",
       "      <td>-9.54142</td>\n",
       "      <td>0</td>\n",
       "      <td>1</td>\n",
       "      <td>1</td>\n",
       "      <td>0</td>\n",
       "    </tr>\n",
       "    <tr>\n",
       "      <th>1</th>\n",
       "      <td>3.47</td>\n",
       "      <td>-1.56782</td>\n",
       "      <td>1.412220</td>\n",
       "      <td>91.7712</td>\n",
       "      <td>1.574430</td>\n",
       "      <td>-12.137300</td>\n",
       "      <td>1.59</td>\n",
       "      <td>6.86676</td>\n",
       "      <td>-21.94270</td>\n",
       "      <td>1</td>\n",
       "      <td>0</td>\n",
       "      <td>0</td>\n",
       "      <td>1</td>\n",
       "    </tr>\n",
       "    <tr>\n",
       "      <th>2</th>\n",
       "      <td>3.58</td>\n",
       "      <td>2.04966</td>\n",
       "      <td>-0.181190</td>\n",
       "      <td>87.8130</td>\n",
       "      <td>2.112480</td>\n",
       "      <td>-0.992261</td>\n",
       "      <td>1.68</td>\n",
       "      <td>7.17281</td>\n",
       "      <td>-25.51070</td>\n",
       "      <td>1</td>\n",
       "      <td>0</td>\n",
       "      <td>1</td>\n",
       "      <td>0</td>\n",
       "    </tr>\n",
       "    <tr>\n",
       "      <th>3</th>\n",
       "      <td>3.55</td>\n",
       "      <td>2.96845</td>\n",
       "      <td>-0.885538</td>\n",
       "      <td>86.5546</td>\n",
       "      <td>0.598692</td>\n",
       "      <td>-2.839300</td>\n",
       "      <td>1.63</td>\n",
       "      <td>8.50392</td>\n",
       "      <td>-27.25090</td>\n",
       "      <td>0</td>\n",
       "      <td>1</td>\n",
       "      <td>1</td>\n",
       "      <td>0</td>\n",
       "    </tr>\n",
       "    <tr>\n",
       "      <th>5</th>\n",
       "      <td>3.30</td>\n",
       "      <td>-1.64630</td>\n",
       "      <td>-1.459540</td>\n",
       "      <td>72.0904</td>\n",
       "      <td>3.399510</td>\n",
       "      <td>8.906150</td>\n",
       "      <td>1.50</td>\n",
       "      <td>9.33291</td>\n",
       "      <td>-59.41330</td>\n",
       "      <td>1</td>\n",
       "      <td>0</td>\n",
       "      <td>0</td>\n",
       "      <td>1</td>\n",
       "    </tr>\n",
       "  </tbody>\n",
       "</table>\n",
       "</div>"
      ],
      "text/plain": [
       "   stringer_zone_top  angle_x        px  pitch_speed        pz    break_x  \\\n",
       "0               3.41  3.02727 -1.298100      97.4298  2.302170   1.915350   \n",
       "1               3.47 -1.56782  1.412220      91.7712  1.574430 -12.137300   \n",
       "2               3.58  2.04966 -0.181190      87.8130  2.112480  -0.992261   \n",
       "3               3.55  2.96845 -0.885538      86.5546  0.598692  -2.839300   \n",
       "5               3.30 -1.64630 -1.459540      72.0904  3.399510   8.906150   \n",
       "\n",
       "   stringer_zone_bottom  angle_z   break_z  bside_L  bside_R  pside_L  pside_R  \n",
       "0                  1.56  5.59379  -9.54142        0        1        1        0  \n",
       "1                  1.59  6.86676 -21.94270        1        0        0        1  \n",
       "2                  1.68  7.17281 -25.51070        1        0        1        0  \n",
       "3                  1.63  8.50392 -27.25090        0        1        1        0  \n",
       "5                  1.50  9.33291 -59.41330        1        0        0        1  "
      ]
     },
     "execution_count": 146,
     "metadata": {},
     "output_type": "execute_result"
    }
   ],
   "source": [
    "df_X.head()"
   ]
  },
  {
   "cell_type": "markdown",
   "id": "4272f150-d2d1-42f6-8786-28066dbf8105",
   "metadata": {},
   "source": [
    "While we are at it, let's prep our targets:"
   ]
  },
  {
   "cell_type": "code",
   "execution_count": 147,
   "id": "a856e547-9af8-456b-a5cb-41c5296d7e41",
   "metadata": {},
   "outputs": [
    {
     "name": "stdout",
     "output_type": "stream",
     "text": [
      "<class 'pandas.core.frame.DataFrame'>\n",
      "Int64Index: 350959 entries, 0 to 354038\n",
      "Data columns (total 1 columns):\n",
      " #   Column       Non-Null Count   Dtype\n",
      "---  ------       --------------   -----\n",
      " 0   strike_bool  350959 non-null  int64\n",
      "dtypes: int64(1)\n",
      "memory usage: 5.4 MB\n"
     ]
    },
    {
     "data": {
      "text/plain": [
       "None"
      ]
     },
     "metadata": {},
     "output_type": "display_data"
    }
   ],
   "source": [
    "df_y = df_train['strike_bool']\n",
    "display(pd.DataFrame(df_y).info())"
   ]
  },
  {
   "cell_type": "markdown",
   "id": "4379dca5-6ed7-4edd-bba3-37617afea026",
   "metadata": {},
   "source": [
    "---\n",
    "\n",
    "#### Feature Engineering\n",
    "\n",
    "Select features:"
   ]
  },
  {
   "cell_type": "markdown",
   "id": "364ddb3b-f17e-47bf-9c0f-c51ae3d6e26a",
   "metadata": {},
   "source": [
    "For a neural network we will need to numerically represent our data (e.g. one-hot-encode any categorical features), as well as scale/normalize the data. \n",
    "\n",
    "All the selected features for this round are numerical, so we don't have to worry about encoding any categories. For scaling I'm choosing to *standardize*."
   ]
  },
  {
   "cell_type": "code",
   "execution_count": 148,
   "id": "48310753-73b3-4530-8ca9-1856e0b0d60e",
   "metadata": {},
   "outputs": [],
   "source": [
    "scaler = StandardScaler()\n",
    "X_scaled = scaler.fit_transform(df_X)"
   ]
  },
  {
   "cell_type": "markdown",
   "id": "4ecfa19b-73d0-4a23-823c-af2387fee0cb",
   "metadata": {},
   "source": [
    "---\n",
    "\n",
    "#### Train / Test\n",
    "\n",
    "\n",
    "Create train/test splits.\n",
    "\n",
    "Breakout parameters for easy access."
   ]
  },
  {
   "cell_type": "code",
   "execution_count": 149,
   "id": "9ae261da-ff35-46e0-9561-237f65d76a1d",
   "metadata": {},
   "outputs": [],
   "source": [
    "# Parameters\n",
    "test_size = 0.20\n",
    "random_state = 24"
   ]
  },
  {
   "cell_type": "code",
   "execution_count": 150,
   "id": "758d38a7-5a66-4383-af5a-cf244ae34374",
   "metadata": {},
   "outputs": [],
   "source": [
    "X_train, X_test, y_train, y_test = train_test_split(X_scaled, df_y, test_size=test_size\n",
    "                                                    ,stratify=df_y, random_state = random_state)"
   ]
  },
  {
   "cell_type": "markdown",
   "id": "827d5ee7-b2c8-417b-9c62-3fa63e66ff10",
   "metadata": {},
   "source": [
    "---  \n",
    "\n",
    "<span style=\"font-size:0.5em;\">Tag 2</span>\n",
    "\n",
    "### Build Model / Hyperparameter Search<a id='random_search'></a>\n",
    "\n",
    "<span style=\"font-size:0.5em;\"><a href='#toc'>Back to TOC</a></span>\n",
    "\n",
    "---  "
   ]
  },
  {
   "cell_type": "markdown",
   "id": "daa063d4-34c1-4287-b991-cfa218da9580",
   "metadata": {},
   "source": [
    "For expediency we are going to use a pipeline and random hyperparameter search to scour through different classifiers and hyperparameter sets to come up with a good candidate."
   ]
  },
  {
   "cell_type": "markdown",
   "id": "ffc5cc6a-a95b-4a61-b774-fe0ec70a1453",
   "metadata": {},
   "source": [
    "We'll create a `DummyEstimator` class to act as a placeholder to which we can pass the different classifiers."
   ]
  },
  {
   "cell_type": "code",
   "execution_count": 18,
   "id": "538b6d34-4c51-4008-b4bd-16c5ac0479a9",
   "metadata": {},
   "outputs": [],
   "source": [
    "class DummyEstimator(BaseEstimator):\n",
    "    def fit(self): pass\n",
    "    def score(self): pass"
   ]
  },
  {
   "cell_type": "markdown",
   "id": "652c91ea-a454-46b3-8a13-6161ebf55a22",
   "metadata": {},
   "source": [
    "Create the pipeline of dictionaries of classifiers and their respective grids of potential hyperparameters."
   ]
  },
  {
   "cell_type": "code",
   "execution_count": 17,
   "id": "95072a54-a4ad-459e-ad51-b92f915a1aa0",
   "metadata": {},
   "outputs": [],
   "source": [
    "# Create a pipeline\n",
    "pipe = Pipeline([('clf', DummyEstimator())]) # Placeholder Estimator\n",
    "\n",
    "# Candidate learning algorithms and their hyperparameters\n",
    "# For selected hyperparameters aimed to select a reasonable range for each.\n",
    "search_space = [{'clf': [LogisticRegression()], # Actual Estimator\n",
    "                 'clf__penalty': ['l1', 'l2', 'elasticnet'],\n",
    "                 'clf__C': np.logspace(-4, 4, 20)\n",
    "                },\n",
    "                {'clf': [DecisionTreeClassifier()],  # Actual Estimator\n",
    "                 'clf__criterion': ['gini', 'entropy'],\n",
    "                 'clf__max_depth': np.arange(3,11,1),\n",
    "                 'clf__min_samples_split': np.linspace(0.1, 0.5, 10, endpoint=False),\n",
    "                 'clf__max_features': [0.25, 0.5, 0.75, 1]\n",
    "                },\n",
    "                {'clf': [RandomForestClassifier()],  # Actual Estimator\n",
    "                 'clf__n_estimators': [50, 100, 200],\n",
    "                 'clf__criterion': ['gini', 'entropy'],                 \n",
    "                 'clf__max_depth': np.arange(3,11,1),\n",
    "                 'clf__min_samples_split': np.linspace(0.1, 0.5, 10, endpoint=False),\n",
    "                 'clf__max_features': [\"auto\", \"sqrt\", \"log2\"],\n",
    "                 'clf__max_samples': [0.25, 0.5, 0.75, 1]\n",
    "                },\n",
    "                {'clf': [GradientBoostingClassifier()],  # Actual Estimator\n",
    "                 'clf__n_estimators': [50, 100, 200],\n",
    "                 'clf__criterion': ['gini', 'entropy'],                 \n",
    "                 'clf__max_depth': np.arange(3,11,1),\n",
    "                 'clf__min_samples_split': np.linspace(0.1, 0.5, 10, endpoint=False),\n",
    "                 'clf__max_features': [\"auto\", \"sqrt\", \"log2\"],\n",
    "                },\n",
    "                {'clf': [XGBClassifier()],  # Actual Estimator\n",
    "                 'clf__n_estimators': [50, 100, 200],\n",
    "                 'clf__criterion': ['gini', 'entropy'],                 \n",
    "                 'clf__max_depth': np.arange(3,11,1),\n",
    "                 'clf__min_samples_split': np.linspace(0.1, 0.5, 10, endpoint=False),\n",
    "                 'clf__max_features': [\"auto\", \"sqrt\", \"log2\"],\n",
    "                 'clf__max_samples': [0.25, 0.5, 0.75, 1]\n",
    "                }\n",
    "               ]\n",
    "\n",
    "# GradientBoostingClassifier(\n",
    "# RandomForestClassifier(\n",
    "    \n",
    "# Create grid search \n",
    "# gs = GridSearchCV(pipe, search_space, random_state=random_state)\n",
    "rs = RandomizedSearchCV(pipe, search_space, random_state=random_state\n",
    "                        ,n_iter=10 # To limit search time \n",
    "                        ,cv=3      # I like 5 as rule of thumb, but again to limit search time\n",
    "                        ,verbose=True, refit=True, scoring='accuracy')"
   ]
  },
  {
   "cell_type": "markdown",
   "id": "f89c3c4a-be0c-48dc-a83c-73963a480d53",
   "metadata": {},
   "source": [
    "Fit the random search cv object."
   ]
  },
  {
   "cell_type": "code",
   "execution_count": 19,
   "id": "7546ee03-29c0-45e4-9b70-66a95dd9b217",
   "metadata": {},
   "outputs": [
    {
     "name": "stdout",
     "output_type": "stream",
     "text": [
      "Fitting 3 folds for each of 10 candidates, totalling 30 fits\n",
      "[01:31:47] WARNING: ../src/learner.cc:541: \n",
      "Parameters: { criterion, max_features, max_samples, min_samples_split } might not be used.\n",
      "\n",
      "  This may not be accurate due to some parameters are only used in language bindings but\n",
      "  passed down to XGBoost core.  Or some parameters are not used but slip through this\n",
      "  verification. Please open an issue if you find above cases.\n",
      "\n",
      "\n",
      "[01:31:48] WARNING: ../src/learner.cc:1061: Starting in XGBoost 1.3.0, the default evaluation metric used with the objective 'binary:logistic' was changed from 'error' to 'logloss'. Explicitly set eval_metric if you'd like to restore the old behavior.\n",
      "[01:32:50] WARNING: ../src/learner.cc:541: \n",
      "Parameters: { criterion, max_features, max_samples, min_samples_split } might not be used.\n",
      "\n",
      "  This may not be accurate due to some parameters are only used in language bindings but\n",
      "  passed down to XGBoost core.  Or some parameters are not used but slip through this\n",
      "  verification. Please open an issue if you find above cases.\n",
      "\n",
      "\n",
      "[01:32:52] WARNING: ../src/learner.cc:1061: Starting in XGBoost 1.3.0, the default evaluation metric used with the objective 'binary:logistic' was changed from 'error' to 'logloss'. Explicitly set eval_metric if you'd like to restore the old behavior.\n",
      "[01:33:53] WARNING: ../src/learner.cc:541: \n",
      "Parameters: { criterion, max_features, max_samples, min_samples_split } might not be used.\n",
      "\n",
      "  This may not be accurate due to some parameters are only used in language bindings but\n",
      "  passed down to XGBoost core.  Or some parameters are not used but slip through this\n",
      "  verification. Please open an issue if you find above cases.\n",
      "\n",
      "\n",
      "[01:33:54] WARNING: ../src/learner.cc:1061: Starting in XGBoost 1.3.0, the default evaluation metric used with the objective 'binary:logistic' was changed from 'error' to 'logloss'. Explicitly set eval_metric if you'd like to restore the old behavior.\n",
      "[01:35:17] WARNING: ../src/learner.cc:541: \n",
      "Parameters: { criterion, max_features, max_samples, min_samples_split } might not be used.\n",
      "\n",
      "  This may not be accurate due to some parameters are only used in language bindings but\n",
      "  passed down to XGBoost core.  Or some parameters are not used but slip through this\n",
      "  verification. Please open an issue if you find above cases.\n",
      "\n",
      "\n",
      "[01:35:18] WARNING: ../src/learner.cc:1061: Starting in XGBoost 1.3.0, the default evaluation metric used with the objective 'binary:logistic' was changed from 'error' to 'logloss'. Explicitly set eval_metric if you'd like to restore the old behavior.\n",
      "[01:37:15] WARNING: ../src/learner.cc:541: \n",
      "Parameters: { criterion, max_features, max_samples, min_samples_split } might not be used.\n",
      "\n",
      "  This may not be accurate due to some parameters are only used in language bindings but\n",
      "  passed down to XGBoost core.  Or some parameters are not used but slip through this\n",
      "  verification. Please open an issue if you find above cases.\n",
      "\n",
      "\n",
      "[01:37:15] WARNING: ../src/learner.cc:1061: Starting in XGBoost 1.3.0, the default evaluation metric used with the objective 'binary:logistic' was changed from 'error' to 'logloss'. Explicitly set eval_metric if you'd like to restore the old behavior.\n",
      "[01:39:12] WARNING: ../src/learner.cc:541: \n",
      "Parameters: { criterion, max_features, max_samples, min_samples_split } might not be used.\n",
      "\n",
      "  This may not be accurate due to some parameters are only used in language bindings but\n",
      "  passed down to XGBoost core.  Or some parameters are not used but slip through this\n",
      "  verification. Please open an issue if you find above cases.\n",
      "\n",
      "\n",
      "[01:39:13] WARNING: ../src/learner.cc:1061: Starting in XGBoost 1.3.0, the default evaluation metric used with the objective 'binary:logistic' was changed from 'error' to 'logloss'. Explicitly set eval_metric if you'd like to restore the old behavior.\n",
      "[01:41:17] WARNING: ../src/learner.cc:541: \n",
      "Parameters: { criterion, max_features, max_samples, min_samples_split } might not be used.\n",
      "\n",
      "  This may not be accurate due to some parameters are only used in language bindings but\n",
      "  passed down to XGBoost core.  Or some parameters are not used but slip through this\n",
      "  verification. Please open an issue if you find above cases.\n",
      "\n",
      "\n",
      "[01:41:18] WARNING: ../src/learner.cc:1061: Starting in XGBoost 1.3.0, the default evaluation metric used with the objective 'binary:logistic' was changed from 'error' to 'logloss'. Explicitly set eval_metric if you'd like to restore the old behavior.\n",
      "[01:43:34] WARNING: ../src/learner.cc:541: \n",
      "Parameters: { criterion, max_features, max_samples, min_samples_split } might not be used.\n",
      "\n",
      "  This may not be accurate due to some parameters are only used in language bindings but\n",
      "  passed down to XGBoost core.  Or some parameters are not used but slip through this\n",
      "  verification. Please open an issue if you find above cases.\n",
      "\n",
      "\n",
      "[01:43:35] WARNING: ../src/learner.cc:1061: Starting in XGBoost 1.3.0, the default evaluation metric used with the objective 'binary:logistic' was changed from 'error' to 'logloss'. Explicitly set eval_metric if you'd like to restore the old behavior.\n",
      "[02:00:42] WARNING: ../src/learner.cc:541: \n",
      "Parameters: { criterion, max_features, max_samples, min_samples_split } might not be used.\n",
      "\n",
      "  This may not be accurate due to some parameters are only used in language bindings but\n",
      "  passed down to XGBoost core.  Or some parameters are not used but slip through this\n",
      "  verification. Please open an issue if you find above cases.\n",
      "\n",
      "\n",
      "[02:00:44] WARNING: ../src/learner.cc:1061: Starting in XGBoost 1.3.0, the default evaluation metric used with the objective 'binary:logistic' was changed from 'error' to 'logloss'. Explicitly set eval_metric if you'd like to restore the old behavior.\n"
     ]
    }
   ],
   "source": [
    "rs_results = rs.fit(X_train, y_train)"
   ]
  },
  {
   "cell_type": "markdown",
   "id": "aba7ce54-a667-46e4-b687-4d35d9783a58",
   "metadata": {},
   "source": [
    "Let's pickle the random search results."
   ]
  },
  {
   "cell_type": "code",
   "execution_count": 59,
   "id": "e5aef4ad-d57b-4d4f-815e-89efe8c46eab",
   "metadata": {
    "tags": []
   },
   "outputs": [
    {
     "data": {
      "text/plain": [
       "'./models/rs_results/classic_rs_1st_pass_20220507_1926.pickle'"
      ]
     },
     "metadata": {},
     "output_type": "display_data"
    }
   ],
   "source": [
    "str_ts = datetime.now(timezone.utc).astimezone(pytz.timezone('US/Pacific')).strftime(\"%Y%m%d_%H%M\")\n",
    "file_nm = 'classic_rs_2nd_pass_' + str_ts\n",
    "file_path = './models/rs_results/' + file_nm + '.pickle'\n",
    "# pred_path = './predictions/test/' + file_nm + '.csv'\n",
    "\n",
    "display(file_path)\n",
    "\n",
    "with open(file_path, 'wb') as f:\n",
    "    # Pickle the 'data' dictionary using the highest protocol available.\n",
    "    pickle.dump(rs_results, f, pickle.HIGHEST_PROTOCOL)"
   ]
  },
  {
   "cell_type": "code",
   "execution_count": 61,
   "id": "19a20ae2-7330-4d60-875a-0e9fc967428e",
   "metadata": {
    "tags": []
   },
   "outputs": [
    {
     "name": "stdout",
     "output_type": "stream",
     "text": [
      "skipping\n"
     ]
    }
   ],
   "source": [
    "%%script echo skipping\n",
    "# Test loading pickle\n",
    "load_path = './models/rs_results/classic_rs_1st_pass_20220505_1544.pickle'\n",
    "\n",
    "with open(load_path, 'rb') as f:\n",
    "    # The protocol version used is detected automatically, so we do not\n",
    "    # have to specify it.\n",
    "    rs_rez_unpkl = pickle.load(f)    "
   ]
  },
  {
   "cell_type": "markdown",
   "id": "ba23a504-829e-4f2f-b1cc-baf311d80646",
   "metadata": {},
   "source": [
    "Check the results."
   ]
  },
  {
   "cell_type": "code",
   "execution_count": 62,
   "id": "a349a80f-cc47-4ae6-9392-155b2d72b5ff",
   "metadata": {},
   "outputs": [
    {
     "data": {
      "text/plain": [
       "Pipeline(steps=[('clf',\n",
       "                 XGBClassifier(base_score=0.5, booster='gbtree',\n",
       "                               colsample_bylevel=1, colsample_bynode=1,\n",
       "                               colsample_bytree=1, criterion='entropy', gamma=0,\n",
       "                               gpu_id=-1, importance_type='gain',\n",
       "                               interaction_constraints='',\n",
       "                               learning_rate=0.300000012, max_delta_step=0,\n",
       "                               max_depth=7, max_features='auto',\n",
       "                               max_samples=0.5, min_child_weight=1,\n",
       "                               min_samples_split=0.38, missing=nan,\n",
       "                               monotone_constraints='()', n_estimators=50,\n",
       "                               n_jobs=16, num_parallel_tree=1, random_state=0,\n",
       "                               reg_alpha=0, reg_lambda=1, scale_pos_weight=1,\n",
       "                               subsample=1, tree_method='exact',\n",
       "                               validate_parameters=1, verbosity=None))])"
      ]
     },
     "execution_count": 62,
     "metadata": {},
     "output_type": "execute_result"
    }
   ],
   "source": [
    "rs_results.best_estimator_"
   ]
  },
  {
   "cell_type": "code",
   "execution_count": 63,
   "id": "84a703f8-2256-4f75-83d4-3ac5a95924da",
   "metadata": {},
   "outputs": [
    {
     "data": {
      "text/plain": [
       "{'clf__n_estimators': 50,\n",
       " 'clf__min_samples_split': 0.38,\n",
       " 'clf__max_samples': 0.5,\n",
       " 'clf__max_features': 'auto',\n",
       " 'clf__max_depth': 7,\n",
       " 'clf__criterion': 'entropy',\n",
       " 'clf': XGBClassifier(base_score=None, booster=None, colsample_bylevel=None,\n",
       "               colsample_bynode=None, colsample_bytree=None, criterion='entropy',\n",
       "               gamma=None, gpu_id=None, importance_type='gain',\n",
       "               interaction_constraints=None, learning_rate=None,\n",
       "               max_delta_step=None, max_depth=7, max_features='auto',\n",
       "               max_samples=0.5, min_child_weight=None, min_samples_split=0.38,\n",
       "               missing=nan, monotone_constraints=None, n_estimators=50,\n",
       "               n_jobs=None, num_parallel_tree=None, random_state=None,\n",
       "               reg_alpha=None, reg_lambda=None, scale_pos_weight=None,\n",
       "               subsample=None, tree_method=None, validate_parameters=None,\n",
       "               verbosity=None)}"
      ]
     },
     "execution_count": 63,
     "metadata": {},
     "output_type": "execute_result"
    }
   ],
   "source": [
    "rs_results.best_params_"
   ]
  },
  {
   "cell_type": "code",
   "execution_count": 64,
   "id": "89f54714-d825-495b-a150-40de7f885ad0",
   "metadata": {},
   "outputs": [
    {
     "data": {
      "text/plain": [
       "0.9311742476858035"
      ]
     },
     "execution_count": 64,
     "metadata": {},
     "output_type": "execute_result"
    }
   ],
   "source": [
    "rs_results.best_score_"
   ]
  },
  {
   "cell_type": "code",
   "execution_count": 65,
   "id": "5fec844e-5636-4729-b68b-e7009f8a7190",
   "metadata": {},
   "outputs": [
    {
     "data": {
      "text/plain": [
       "{'mean_fit_time': array([6.24537433e+01, 6.97577127e+00, 1.17510913e+02, 1.56365665e+00,\n",
       "        1.31909710e+02, 1.44591689e+00, 3.71584892e-02, 2.02338410e+02,\n",
       "        3.93873851e-02, 5.12300500e+01]),\n",
       " 'std_fit_time': array([5.89397008e-01, 2.90986308e-01, 8.50715299e-01, 2.82637212e-02,\n",
       "        3.79497426e+00, 2.26258531e-02, 8.11709933e-04, 7.27908520e-01,\n",
       "        4.35671146e-03, 1.35348041e+00]),\n",
       " 'mean_score_time': array([0.31588395, 0.42135564, 0.31949464, 0.32197293, 0.37204138,\n",
       "        0.32998506, 0.        , 0.47979339, 0.        , 0.29422458]),\n",
       " 'std_score_time': array([0.09396986, 0.00358831, 0.08885166, 0.00124982, 0.04526548,\n",
       "        0.00796864, 0.        , 0.07697114, 0.        , 0.07210862]),\n",
       " 'param_clf__n_estimators': masked_array(data=[50, 100, 200, 100, 100, 100, 100, 200, 50, 50],\n",
       "              mask=[False, False, False, False, False, False, False, False,\n",
       "                    False, False],\n",
       "        fill_value='?',\n",
       "             dtype=object),\n",
       " 'param_clf__min_samples_split': masked_array(data=[0.18, 0.33999999999999997, 0.14, 0.26,\n",
       "                    0.42000000000000004, 0.33999999999999997, 0.22, 0.22,\n",
       "                    0.30000000000000004, 0.38],\n",
       "              mask=[False, False, False, False, False, False, False, False,\n",
       "                    False, False],\n",
       "        fill_value='?',\n",
       "             dtype=object),\n",
       " 'param_clf__max_samples': masked_array(data=[0.25, 0.75, 0.5, 0.25, 0.75, 1, --, 0.75, --, 0.5],\n",
       "              mask=[False, False, False, False, False, False,  True, False,\n",
       "                     True, False],\n",
       "        fill_value='?',\n",
       "             dtype=object),\n",
       " 'param_clf__max_features': masked_array(data=['sqrt', 'sqrt', 'log2', 'log2', 'log2', 'sqrt', 'sqrt',\n",
       "                    'sqrt', 'auto', 'auto'],\n",
       "              mask=[False, False, False, False, False, False, False, False,\n",
       "                    False, False],\n",
       "        fill_value='?',\n",
       "             dtype=object),\n",
       " 'param_clf__max_depth': masked_array(data=[8, 3, 4, 10, 9, 7, 3, 7, 5, 7],\n",
       "              mask=[False, False, False, False, False, False, False, False,\n",
       "                    False, False],\n",
       "        fill_value='?',\n",
       "             dtype=object),\n",
       " 'param_clf__criterion': masked_array(data=['entropy', 'gini', 'gini', 'gini', 'gini', 'entropy',\n",
       "                    'gini', 'entropy', 'entropy', 'entropy'],\n",
       "              mask=[False, False, False, False, False, False, False, False,\n",
       "                    False, False],\n",
       "        fill_value='?',\n",
       "             dtype=object),\n",
       " 'param_clf': masked_array(data=[XGBClassifier(base_score=None, booster=None, colsample_bylevel=None,\n",
       "                                  colsample_bynode=None, colsample_bytree=None, criterion='entropy',\n",
       "                                  gamma=None, gpu_id=None, importance_type='gain',\n",
       "                                  interaction_constraints=None, learning_rate=None,\n",
       "                                  max_delta_step=None, max_depth=7, max_features='auto',\n",
       "                                  max_samples=0.5, min_child_weight=None, min_samples_split=0.38,\n",
       "                                  missing=nan, monotone_constraints=None, n_estimators=50,\n",
       "                                  n_jobs=None, num_parallel_tree=None, random_state=None,\n",
       "                                  reg_alpha=None, reg_lambda=None, scale_pos_weight=None,\n",
       "                                  subsample=None, tree_method=None, validate_parameters=None,\n",
       "                                  verbosity=None)                                                   ,\n",
       "                    RandomForestClassifier(),\n",
       "                    XGBClassifier(base_score=None, booster=None, colsample_bylevel=None,\n",
       "                                  colsample_bynode=None, colsample_bytree=None, criterion='entropy',\n",
       "                                  gamma=None, gpu_id=None, importance_type='gain',\n",
       "                                  interaction_constraints=None, learning_rate=None,\n",
       "                                  max_delta_step=None, max_depth=7, max_features='auto',\n",
       "                                  max_samples=0.5, min_child_weight=None, min_samples_split=0.38,\n",
       "                                  missing=nan, monotone_constraints=None, n_estimators=50,\n",
       "                                  n_jobs=None, num_parallel_tree=None, random_state=None,\n",
       "                                  reg_alpha=None, reg_lambda=None, scale_pos_weight=None,\n",
       "                                  subsample=None, tree_method=None, validate_parameters=None,\n",
       "                                  verbosity=None)                                                   ,\n",
       "                    RandomForestClassifier(),\n",
       "                    XGBClassifier(base_score=None, booster=None, colsample_bylevel=None,\n",
       "                                  colsample_bynode=None, colsample_bytree=None, criterion='entropy',\n",
       "                                  gamma=None, gpu_id=None, importance_type='gain',\n",
       "                                  interaction_constraints=None, learning_rate=None,\n",
       "                                  max_delta_step=None, max_depth=7, max_features='auto',\n",
       "                                  max_samples=0.5, min_child_weight=None, min_samples_split=0.38,\n",
       "                                  missing=nan, monotone_constraints=None, n_estimators=50,\n",
       "                                  n_jobs=None, num_parallel_tree=None, random_state=None,\n",
       "                                  reg_alpha=None, reg_lambda=None, scale_pos_weight=None,\n",
       "                                  subsample=None, tree_method=None, validate_parameters=None,\n",
       "                                  verbosity=None)                                                   ,\n",
       "                    RandomForestClassifier(), GradientBoostingClassifier(),\n",
       "                    XGBClassifier(base_score=None, booster=None, colsample_bylevel=None,\n",
       "                                  colsample_bynode=None, colsample_bytree=None, criterion='entropy',\n",
       "                                  gamma=None, gpu_id=None, importance_type='gain',\n",
       "                                  interaction_constraints=None, learning_rate=None,\n",
       "                                  max_delta_step=None, max_depth=7, max_features='auto',\n",
       "                                  max_samples=0.5, min_child_weight=None, min_samples_split=0.38,\n",
       "                                  missing=nan, monotone_constraints=None, n_estimators=50,\n",
       "                                  n_jobs=None, num_parallel_tree=None, random_state=None,\n",
       "                                  reg_alpha=None, reg_lambda=None, scale_pos_weight=None,\n",
       "                                  subsample=None, tree_method=None, validate_parameters=None,\n",
       "                                  verbosity=None)                                                   ,\n",
       "                    GradientBoostingClassifier(),\n",
       "                    XGBClassifier(base_score=None, booster=None, colsample_bylevel=None,\n",
       "                                  colsample_bynode=None, colsample_bytree=None, criterion='entropy',\n",
       "                                  gamma=None, gpu_id=None, importance_type='gain',\n",
       "                                  interaction_constraints=None, learning_rate=None,\n",
       "                                  max_delta_step=None, max_depth=7, max_features='auto',\n",
       "                                  max_samples=0.5, min_child_weight=None, min_samples_split=0.38,\n",
       "                                  missing=nan, monotone_constraints=None, n_estimators=50,\n",
       "                                  n_jobs=None, num_parallel_tree=None, random_state=None,\n",
       "                                  reg_alpha=None, reg_lambda=None, scale_pos_weight=None,\n",
       "                                  subsample=None, tree_method=None, validate_parameters=None,\n",
       "                                  verbosity=None)                                                   ],\n",
       "              mask=[False, False, False, False, False, False, False, False,\n",
       "                    False, False],\n",
       "        fill_value='?',\n",
       "             dtype=object),\n",
       " 'params': [{'clf__n_estimators': 50,\n",
       "   'clf__min_samples_split': 0.18,\n",
       "   'clf__max_samples': 0.25,\n",
       "   'clf__max_features': 'sqrt',\n",
       "   'clf__max_depth': 8,\n",
       "   'clf__criterion': 'entropy',\n",
       "   'clf': XGBClassifier(base_score=None, booster=None, colsample_bylevel=None,\n",
       "                 colsample_bynode=None, colsample_bytree=None, criterion='entropy',\n",
       "                 gamma=None, gpu_id=None, importance_type='gain',\n",
       "                 interaction_constraints=None, learning_rate=None,\n",
       "                 max_delta_step=None, max_depth=7, max_features='auto',\n",
       "                 max_samples=0.5, min_child_weight=None, min_samples_split=0.38,\n",
       "                 missing=nan, monotone_constraints=None, n_estimators=50,\n",
       "                 n_jobs=None, num_parallel_tree=None, random_state=None,\n",
       "                 reg_alpha=None, reg_lambda=None, scale_pos_weight=None,\n",
       "                 subsample=None, tree_method=None, validate_parameters=None,\n",
       "                 verbosity=None)},\n",
       "  {'clf__n_estimators': 100,\n",
       "   'clf__min_samples_split': 0.33999999999999997,\n",
       "   'clf__max_samples': 0.75,\n",
       "   'clf__max_features': 'sqrt',\n",
       "   'clf__max_depth': 3,\n",
       "   'clf__criterion': 'gini',\n",
       "   'clf': RandomForestClassifier()},\n",
       "  {'clf__n_estimators': 200,\n",
       "   'clf__min_samples_split': 0.14,\n",
       "   'clf__max_samples': 0.5,\n",
       "   'clf__max_features': 'log2',\n",
       "   'clf__max_depth': 4,\n",
       "   'clf__criterion': 'gini',\n",
       "   'clf': XGBClassifier(base_score=None, booster=None, colsample_bylevel=None,\n",
       "                 colsample_bynode=None, colsample_bytree=None, criterion='entropy',\n",
       "                 gamma=None, gpu_id=None, importance_type='gain',\n",
       "                 interaction_constraints=None, learning_rate=None,\n",
       "                 max_delta_step=None, max_depth=7, max_features='auto',\n",
       "                 max_samples=0.5, min_child_weight=None, min_samples_split=0.38,\n",
       "                 missing=nan, monotone_constraints=None, n_estimators=50,\n",
       "                 n_jobs=None, num_parallel_tree=None, random_state=None,\n",
       "                 reg_alpha=None, reg_lambda=None, scale_pos_weight=None,\n",
       "                 subsample=None, tree_method=None, validate_parameters=None,\n",
       "                 verbosity=None)},\n",
       "  {'clf__n_estimators': 100,\n",
       "   'clf__min_samples_split': 0.26,\n",
       "   'clf__max_samples': 0.25,\n",
       "   'clf__max_features': 'log2',\n",
       "   'clf__max_depth': 10,\n",
       "   'clf__criterion': 'gini',\n",
       "   'clf': RandomForestClassifier()},\n",
       "  {'clf__n_estimators': 100,\n",
       "   'clf__min_samples_split': 0.42000000000000004,\n",
       "   'clf__max_samples': 0.75,\n",
       "   'clf__max_features': 'log2',\n",
       "   'clf__max_depth': 9,\n",
       "   'clf__criterion': 'gini',\n",
       "   'clf': XGBClassifier(base_score=None, booster=None, colsample_bylevel=None,\n",
       "                 colsample_bynode=None, colsample_bytree=None, criterion='entropy',\n",
       "                 gamma=None, gpu_id=None, importance_type='gain',\n",
       "                 interaction_constraints=None, learning_rate=None,\n",
       "                 max_delta_step=None, max_depth=7, max_features='auto',\n",
       "                 max_samples=0.5, min_child_weight=None, min_samples_split=0.38,\n",
       "                 missing=nan, monotone_constraints=None, n_estimators=50,\n",
       "                 n_jobs=None, num_parallel_tree=None, random_state=None,\n",
       "                 reg_alpha=None, reg_lambda=None, scale_pos_weight=None,\n",
       "                 subsample=None, tree_method=None, validate_parameters=None,\n",
       "                 verbosity=None)},\n",
       "  {'clf__n_estimators': 100,\n",
       "   'clf__min_samples_split': 0.33999999999999997,\n",
       "   'clf__max_samples': 1,\n",
       "   'clf__max_features': 'sqrt',\n",
       "   'clf__max_depth': 7,\n",
       "   'clf__criterion': 'entropy',\n",
       "   'clf': RandomForestClassifier()},\n",
       "  {'clf__n_estimators': 100,\n",
       "   'clf__min_samples_split': 0.22,\n",
       "   'clf__max_features': 'sqrt',\n",
       "   'clf__max_depth': 3,\n",
       "   'clf__criterion': 'gini',\n",
       "   'clf': GradientBoostingClassifier()},\n",
       "  {'clf__n_estimators': 200,\n",
       "   'clf__min_samples_split': 0.22,\n",
       "   'clf__max_samples': 0.75,\n",
       "   'clf__max_features': 'sqrt',\n",
       "   'clf__max_depth': 7,\n",
       "   'clf__criterion': 'entropy',\n",
       "   'clf': XGBClassifier(base_score=None, booster=None, colsample_bylevel=None,\n",
       "                 colsample_bynode=None, colsample_bytree=None, criterion='entropy',\n",
       "                 gamma=None, gpu_id=None, importance_type='gain',\n",
       "                 interaction_constraints=None, learning_rate=None,\n",
       "                 max_delta_step=None, max_depth=7, max_features='auto',\n",
       "                 max_samples=0.5, min_child_weight=None, min_samples_split=0.38,\n",
       "                 missing=nan, monotone_constraints=None, n_estimators=50,\n",
       "                 n_jobs=None, num_parallel_tree=None, random_state=None,\n",
       "                 reg_alpha=None, reg_lambda=None, scale_pos_weight=None,\n",
       "                 subsample=None, tree_method=None, validate_parameters=None,\n",
       "                 verbosity=None)},\n",
       "  {'clf__n_estimators': 50,\n",
       "   'clf__min_samples_split': 0.30000000000000004,\n",
       "   'clf__max_features': 'auto',\n",
       "   'clf__max_depth': 5,\n",
       "   'clf__criterion': 'entropy',\n",
       "   'clf': GradientBoostingClassifier()},\n",
       "  {'clf__n_estimators': 50,\n",
       "   'clf__min_samples_split': 0.38,\n",
       "   'clf__max_samples': 0.5,\n",
       "   'clf__max_features': 'auto',\n",
       "   'clf__max_depth': 7,\n",
       "   'clf__criterion': 'entropy',\n",
       "   'clf': XGBClassifier(base_score=None, booster=None, colsample_bylevel=None,\n",
       "                 colsample_bynode=None, colsample_bytree=None, criterion='entropy',\n",
       "                 gamma=None, gpu_id=None, importance_type='gain',\n",
       "                 interaction_constraints=None, learning_rate=None,\n",
       "                 max_delta_step=None, max_depth=7, max_features='auto',\n",
       "                 max_samples=0.5, min_child_weight=None, min_samples_split=0.38,\n",
       "                 missing=nan, monotone_constraints=None, n_estimators=50,\n",
       "                 n_jobs=None, num_parallel_tree=None, random_state=None,\n",
       "                 reg_alpha=None, reg_lambda=None, scale_pos_weight=None,\n",
       "                 subsample=None, tree_method=None, validate_parameters=None,\n",
       "                 verbosity=None)}],\n",
       " 'split0_test_score': array([0.93098548, 0.68636271, 0.93086794, 0.68636271, 0.9294041 ,\n",
       "        0.68636271,        nan, 0.92930793,        nan, 0.9308252 ]),\n",
       " 'split1_test_score': array([0.93142356, 0.68787999, 0.9315411 , 0.68787999, 0.93008794,\n",
       "        0.68787999,        nan, 0.93040849,        nan, 0.93221426]),\n",
       " 'split2_test_score': array([0.92992766, 0.68635203, 0.9306115 , 0.68635203, 0.92834628,\n",
       "        0.68635203,        nan, 0.92849587,        nan, 0.93048328]),\n",
       " 'mean_test_score': array([0.9307789 , 0.68686491, 0.93100685, 0.68686491, 0.92927944,\n",
       "        0.68686491,        nan, 0.9294041 ,        nan, 0.93117425]),\n",
       " 'std_test_score': array([0.00062793, 0.00071778, 0.00039201, 0.00071778, 0.00071647,\n",
       "        0.00071778,        nan, 0.00078378,        nan, 0.00074853]),\n",
       " 'rank_test_score': array([ 3,  6,  2,  6,  5,  6,  9,  4, 10,  1], dtype=int32)}"
      ]
     },
     "execution_count": 65,
     "metadata": {},
     "output_type": "execute_result"
    }
   ],
   "source": [
    "rs_results.cv_results_"
   ]
  },
  {
   "cell_type": "code",
   "execution_count": 66,
   "id": "054b1e3d-f7a5-40b9-b68b-0a6b2e835b9b",
   "metadata": {},
   "outputs": [],
   "source": [
    "df_rs_res = pd.DataFrame(rs_results.cv_results_)"
   ]
  },
  {
   "cell_type": "code",
   "execution_count": 67,
   "id": "62f139d0-58a0-49ff-80bc-0ca81e1e5217",
   "metadata": {},
   "outputs": [
    {
     "data": {
      "text/plain": [
       "(10, 18)"
      ]
     },
     "execution_count": 67,
     "metadata": {},
     "output_type": "execute_result"
    }
   ],
   "source": [
    "df_rs_res.shape"
   ]
  },
  {
   "cell_type": "code",
   "execution_count": 68,
   "id": "e4d52a21-d62b-4d63-bd7e-15cff7da8b19",
   "metadata": {},
   "outputs": [
    {
     "data": {
      "application/com.datacamp.data-table.v1+json": {
       "is_truncated": false,
       "table": {
        "data": [
         {
          "0": 62.4537432988,
          "1": 6.9757712682,
          "2": 117.5109128157,
          "3": 1.563656648,
          "4": 131.9097104867,
          "5": 1.4459168911,
          "6": 0.0371584892,
          "7": 202.3384095828,
          "8": 0.0393873851,
          "9": 51.2300500075,
          "index": "mean_fit_time"
         },
         {
          "0": 0.5893970083,
          "1": 0.2909863084,
          "2": 0.8507152993,
          "3": 0.0282637212,
          "4": 3.794974256,
          "5": 0.0226258531,
          "6": 0.0008117099,
          "7": 0.7279085201,
          "8": 0.0043567115,
          "9": 1.3534804067,
          "index": "std_fit_time"
         },
         {
          "0": 0.3158839544,
          "1": 0.4213556449,
          "2": 0.3194946448,
          "3": 0.3219729265,
          "4": 0.3720413844,
          "5": 0.3299850623,
          "6": 0,
          "7": 0.4797933896,
          "8": 0,
          "9": 0.2942245801,
          "index": "mean_score_time"
         },
         {
          "0": 0.0939698582,
          "1": 0.0035883148,
          "2": 0.088851662,
          "3": 0.001249817,
          "4": 0.0452654818,
          "5": 0.0079686353,
          "6": 0,
          "7": 0.0769711412,
          "8": 0,
          "9": 0.0721086183,
          "index": "std_score_time"
         },
         {
          "0": 50,
          "1": 100,
          "2": 200,
          "3": 100,
          "4": 100,
          "5": 100,
          "6": 100,
          "7": 200,
          "8": 50,
          "9": 50,
          "index": "param_clf__n_estimators"
         },
         {
          "0": 0.18,
          "1": 0.34,
          "2": 0.14,
          "3": 0.26,
          "4": 0.42,
          "5": 0.34,
          "6": 0.22,
          "7": 0.22,
          "8": 0.3,
          "9": 0.38,
          "index": "param_clf__min_samples_split"
         },
         {
          "0": 0.25,
          "1": 0.75,
          "2": 0.5,
          "3": 0.25,
          "4": 0.75,
          "5": 1,
          "6": null,
          "7": 0.75,
          "8": null,
          "9": 0.5,
          "index": "param_clf__max_samples"
         },
         {
          "0": "sqrt",
          "1": "sqrt",
          "2": "log2",
          "3": "log2",
          "4": "log2",
          "5": "sqrt",
          "6": "sqrt",
          "7": "sqrt",
          "8": "auto",
          "9": "auto",
          "index": "param_clf__max_features"
         },
         {
          "0": 8,
          "1": 3,
          "2": 4,
          "3": 10,
          "4": 9,
          "5": 7,
          "6": 3,
          "7": 7,
          "8": 5,
          "9": 7,
          "index": "param_clf__max_depth"
         },
         {
          "0": "entropy",
          "1": "gini",
          "2": "gini",
          "3": "gini",
          "4": "gini",
          "5": "entropy",
          "6": "gini",
          "7": "entropy",
          "8": "entropy",
          "9": "entropy",
          "index": "param_clf__criterion"
         },
         {
          "0": {
           "base_score": null,
           "colsample_bylevel": null,
           "colsample_bytree": null,
           "gamma": null,
           "gpu_id": null,
           "interaction_constraints": null,
           "kwargs": {
            "criterion": "entropy",
            "max_features": "auto",
            "max_samples": 0.5,
            "min_samples_split": 0.38
           },
           "max_delta_step": null,
           "min_child_weight": null,
           "monotone_constraints": null,
           "n_jobs": null,
           "objective": "binary:logistic",
           "random_state": null,
           "reg_lambda": null,
           "scale_pos_weight": null,
           "subsample": null,
           "use_label_encoder": true,
           "verbosity": null
          },
          "1": {
           "base_estimator": {
            "ccp_alpha": 0,
            "criterion": "gini",
            "max_depth": null,
            "max_leaf_nodes": null,
            "min_samples_leaf": 1,
            "min_weight_fraction_leaf": 0,
            "random_state": null,
            "splitter": "best"
           },
           "ccp_alpha": 0,
           "criterion": "gini",
           "estimator_params": [
            "criterion",
            "max_depth",
            "min_samples_split",
            "min_samples_leaf",
            "min_weight_fraction_leaf",
            "max_features",
            "max_leaf_nodes",
            "min_impurity_decrease",
            "random_state",
            "ccp_alpha"
           ],
           "max_depth": null,
           "max_leaf_nodes": null,
           "min_impurity_decrease": 0,
           "min_samples_split": 2,
           "n_estimators": 100,
           "n_jobs": null,
           "random_state": null,
           "verbose": 0
          },
          "2": {
           "base_score": null,
           "colsample_bylevel": null,
           "colsample_bytree": null,
           "gamma": null,
           "gpu_id": null,
           "interaction_constraints": null,
           "kwargs": {
            "criterion": "entropy",
            "max_features": "auto",
            "max_samples": 0.5,
            "min_samples_split": 0.38
           },
           "max_delta_step": null,
           "min_child_weight": null,
           "monotone_constraints": null,
           "n_jobs": null,
           "objective": "binary:logistic",
           "random_state": null,
           "reg_lambda": null,
           "scale_pos_weight": null,
           "subsample": null,
           "use_label_encoder": true,
           "verbosity": null
          },
          "3": {
           "base_estimator": {
            "ccp_alpha": 0,
            "criterion": "gini",
            "max_depth": null,
            "max_leaf_nodes": null,
            "min_samples_leaf": 1,
            "min_weight_fraction_leaf": 0,
            "random_state": null,
            "splitter": "best"
           },
           "ccp_alpha": 0,
           "criterion": "gini",
           "estimator_params": [
            "criterion",
            "max_depth",
            "min_samples_split",
            "min_samples_leaf",
            "min_weight_fraction_leaf",
            "max_features",
            "max_leaf_nodes",
            "min_impurity_decrease",
            "random_state",
            "ccp_alpha"
           ],
           "max_depth": null,
           "max_leaf_nodes": null,
           "min_impurity_decrease": 0,
           "min_samples_split": 2,
           "n_estimators": 100,
           "n_jobs": null,
           "random_state": null,
           "verbose": 0
          },
          "4": {
           "base_score": null,
           "colsample_bylevel": null,
           "colsample_bytree": null,
           "gamma": null,
           "gpu_id": null,
           "interaction_constraints": null,
           "kwargs": {
            "criterion": "entropy",
            "max_features": "auto",
            "max_samples": 0.5,
            "min_samples_split": 0.38
           },
           "max_delta_step": null,
           "min_child_weight": null,
           "monotone_constraints": null,
           "n_jobs": null,
           "objective": "binary:logistic",
           "random_state": null,
           "reg_lambda": null,
           "scale_pos_weight": null,
           "subsample": null,
           "use_label_encoder": true,
           "verbosity": null
          },
          "5": {
           "base_estimator": {
            "ccp_alpha": 0,
            "criterion": "gini",
            "max_depth": null,
            "max_leaf_nodes": null,
            "min_samples_leaf": 1,
            "min_weight_fraction_leaf": 0,
            "random_state": null,
            "splitter": "best"
           },
           "ccp_alpha": 0,
           "criterion": "gini",
           "estimator_params": [
            "criterion",
            "max_depth",
            "min_samples_split",
            "min_samples_leaf",
            "min_weight_fraction_leaf",
            "max_features",
            "max_leaf_nodes",
            "min_impurity_decrease",
            "random_state",
            "ccp_alpha"
           ],
           "max_depth": null,
           "max_leaf_nodes": null,
           "min_impurity_decrease": 0,
           "min_samples_split": 2,
           "n_estimators": 100,
           "n_jobs": null,
           "random_state": null,
           "verbose": 0
          },
          "6": {
           "alpha": 0.9,
           "ccp_alpha": 0,
           "init": null,
           "loss": "deviance",
           "max_features": null,
           "min_impurity_decrease": 0,
           "min_samples_split": 2,
           "n_estimators": 100,
           "n_iter_no_change": null,
           "random_state": null,
           "subsample": 1,
           "validation_fraction": 0.1,
           "warm_start": false
          },
          "7": {
           "base_score": null,
           "colsample_bylevel": null,
           "colsample_bytree": null,
           "gamma": null,
           "gpu_id": null,
           "interaction_constraints": null,
           "kwargs": {
            "criterion": "entropy",
            "max_features": "auto",
            "max_samples": 0.5,
            "min_samples_split": 0.38
           },
           "max_delta_step": null,
           "min_child_weight": null,
           "monotone_constraints": null,
           "n_jobs": null,
           "objective": "binary:logistic",
           "random_state": null,
           "reg_lambda": null,
           "scale_pos_weight": null,
           "subsample": null,
           "use_label_encoder": true,
           "verbosity": null
          },
          "8": {
           "alpha": 0.9,
           "ccp_alpha": 0,
           "init": null,
           "loss": "deviance",
           "max_features": null,
           "min_impurity_decrease": 0,
           "min_samples_split": 2,
           "n_estimators": 100,
           "n_iter_no_change": null,
           "random_state": null,
           "subsample": 1,
           "validation_fraction": 0.1,
           "warm_start": false
          },
          "9": {
           "base_score": null,
           "colsample_bylevel": null,
           "colsample_bytree": null,
           "gamma": null,
           "gpu_id": null,
           "interaction_constraints": null,
           "kwargs": {
            "criterion": "entropy",
            "max_features": "auto",
            "max_samples": 0.5,
            "min_samples_split": 0.38
           },
           "max_delta_step": null,
           "min_child_weight": null,
           "monotone_constraints": null,
           "n_jobs": null,
           "objective": "binary:logistic",
           "random_state": null,
           "reg_lambda": null,
           "scale_pos_weight": null,
           "subsample": null,
           "use_label_encoder": true,
           "verbosity": null
          },
          "index": "param_clf"
         },
         {
          "0": {
           "clf": {
            "base_score": null,
            "colsample_bylevel": null,
            "colsample_bytree": null,
            "gamma": null,
            "gpu_id": null,
            "interaction_constraints": null,
            "kwargs": {
             "criterion": "entropy",
             "max_features": "auto",
             "max_samples": 0.5,
             "min_samples_split": 0.38
            },
            "max_delta_step": null,
            "min_child_weight": null,
            "monotone_constraints": null,
            "n_jobs": null,
            "objective": "binary:logistic",
            "random_state": null,
            "reg_lambda": null,
            "scale_pos_weight": null,
            "subsample": null,
            "use_label_encoder": true,
            "verbosity": null
           },
           "clf__criterion": "entropy",
           "clf__max_depth": 8,
           "clf__max_features": "sqrt",
           "clf__max_samples": 0.25,
           "clf__min_samples_split": 0.18,
           "clf__n_estimators": 50
          },
          "1": {
           "clf": {
            "base_estimator": {
             "ccp_alpha": 0,
             "criterion": "gini",
             "max_depth": null,
             "max_leaf_nodes": null,
             "min_samples_leaf": 1,
             "min_weight_fraction_leaf": 0,
             "random_state": null,
             "splitter": "best"
            },
            "ccp_alpha": 0,
            "criterion": "gini",
            "estimator_params": [
             "criterion",
             "max_depth",
             "min_samples_split",
             "min_samples_leaf",
             "min_weight_fraction_leaf",
             "max_features",
             "max_leaf_nodes",
             "min_impurity_decrease",
             "random_state",
             "ccp_alpha"
            ],
            "max_depth": null,
            "max_leaf_nodes": null,
            "min_impurity_decrease": 0,
            "min_samples_split": 2,
            "n_estimators": 100,
            "n_jobs": null,
            "random_state": null,
            "verbose": 0
           },
           "clf__criterion": "gini",
           "clf__max_depth": 3,
           "clf__max_features": "sqrt",
           "clf__max_samples": 0.75,
           "clf__min_samples_split": 0.34,
           "clf__n_estimators": 100
          },
          "2": {
           "clf": {
            "base_score": null,
            "colsample_bylevel": null,
            "colsample_bytree": null,
            "gamma": null,
            "gpu_id": null,
            "interaction_constraints": null,
            "kwargs": {
             "criterion": "entropy",
             "max_features": "auto",
             "max_samples": 0.5,
             "min_samples_split": 0.38
            },
            "max_delta_step": null,
            "min_child_weight": null,
            "monotone_constraints": null,
            "n_jobs": null,
            "objective": "binary:logistic",
            "random_state": null,
            "reg_lambda": null,
            "scale_pos_weight": null,
            "subsample": null,
            "use_label_encoder": true,
            "verbosity": null
           },
           "clf__criterion": "gini",
           "clf__max_depth": 4,
           "clf__max_features": "log2",
           "clf__max_samples": 0.5,
           "clf__min_samples_split": 0.14,
           "clf__n_estimators": 200
          },
          "3": {
           "clf": {
            "base_estimator": {
             "ccp_alpha": 0,
             "criterion": "gini",
             "max_depth": null,
             "max_leaf_nodes": null,
             "min_samples_leaf": 1,
             "min_weight_fraction_leaf": 0,
             "random_state": null,
             "splitter": "best"
            },
            "ccp_alpha": 0,
            "criterion": "gini",
            "estimator_params": [
             "criterion",
             "max_depth",
             "min_samples_split",
             "min_samples_leaf",
             "min_weight_fraction_leaf",
             "max_features",
             "max_leaf_nodes",
             "min_impurity_decrease",
             "random_state",
             "ccp_alpha"
            ],
            "max_depth": null,
            "max_leaf_nodes": null,
            "min_impurity_decrease": 0,
            "min_samples_split": 2,
            "n_estimators": 100,
            "n_jobs": null,
            "random_state": null,
            "verbose": 0
           },
           "clf__criterion": "gini",
           "clf__max_depth": 10,
           "clf__max_features": "log2",
           "clf__max_samples": 0.25,
           "clf__min_samples_split": 0.26,
           "clf__n_estimators": 100
          },
          "4": {
           "clf": {
            "base_score": null,
            "colsample_bylevel": null,
            "colsample_bytree": null,
            "gamma": null,
            "gpu_id": null,
            "interaction_constraints": null,
            "kwargs": {
             "criterion": "entropy",
             "max_features": "auto",
             "max_samples": 0.5,
             "min_samples_split": 0.38
            },
            "max_delta_step": null,
            "min_child_weight": null,
            "monotone_constraints": null,
            "n_jobs": null,
            "objective": "binary:logistic",
            "random_state": null,
            "reg_lambda": null,
            "scale_pos_weight": null,
            "subsample": null,
            "use_label_encoder": true,
            "verbosity": null
           },
           "clf__criterion": "gini",
           "clf__max_depth": 9,
           "clf__max_features": "log2",
           "clf__max_samples": 0.75,
           "clf__min_samples_split": 0.42,
           "clf__n_estimators": 100
          },
          "5": {
           "clf": {
            "base_estimator": {
             "ccp_alpha": 0,
             "criterion": "gini",
             "max_depth": null,
             "max_leaf_nodes": null,
             "min_samples_leaf": 1,
             "min_weight_fraction_leaf": 0,
             "random_state": null,
             "splitter": "best"
            },
            "ccp_alpha": 0,
            "criterion": "gini",
            "estimator_params": [
             "criterion",
             "max_depth",
             "min_samples_split",
             "min_samples_leaf",
             "min_weight_fraction_leaf",
             "max_features",
             "max_leaf_nodes",
             "min_impurity_decrease",
             "random_state",
             "ccp_alpha"
            ],
            "max_depth": null,
            "max_leaf_nodes": null,
            "min_impurity_decrease": 0,
            "min_samples_split": 2,
            "n_estimators": 100,
            "n_jobs": null,
            "random_state": null,
            "verbose": 0
           },
           "clf__criterion": "entropy",
           "clf__max_depth": 7,
           "clf__max_features": "sqrt",
           "clf__max_samples": 1,
           "clf__min_samples_split": 0.34,
           "clf__n_estimators": 100
          },
          "6": {
           "clf": {
            "alpha": 0.9,
            "ccp_alpha": 0,
            "init": null,
            "loss": "deviance",
            "max_features": null,
            "min_impurity_decrease": 0,
            "min_samples_split": 2,
            "n_estimators": 100,
            "n_iter_no_change": null,
            "random_state": null,
            "subsample": 1,
            "validation_fraction": 0.1,
            "warm_start": false
           },
           "clf__criterion": "gini",
           "clf__max_depth": 3,
           "clf__max_features": "sqrt",
           "clf__min_samples_split": 0.22,
           "clf__n_estimators": 100
          },
          "7": {
           "clf": {
            "base_score": null,
            "colsample_bylevel": null,
            "colsample_bytree": null,
            "gamma": null,
            "gpu_id": null,
            "interaction_constraints": null,
            "kwargs": {
             "criterion": "entropy",
             "max_features": "auto",
             "max_samples": 0.5,
             "min_samples_split": 0.38
            },
            "max_delta_step": null,
            "min_child_weight": null,
            "monotone_constraints": null,
            "n_jobs": null,
            "objective": "binary:logistic",
            "random_state": null,
            "reg_lambda": null,
            "scale_pos_weight": null,
            "subsample": null,
            "use_label_encoder": true,
            "verbosity": null
           },
           "clf__criterion": "entropy",
           "clf__max_depth": 7,
           "clf__max_features": "sqrt",
           "clf__max_samples": 0.75,
           "clf__min_samples_split": 0.22,
           "clf__n_estimators": 200
          },
          "8": {
           "clf": {
            "alpha": 0.9,
            "ccp_alpha": 0,
            "init": null,
            "loss": "deviance",
            "max_features": null,
            "min_impurity_decrease": 0,
            "min_samples_split": 2,
            "n_estimators": 100,
            "n_iter_no_change": null,
            "random_state": null,
            "subsample": 1,
            "validation_fraction": 0.1,
            "warm_start": false
           },
           "clf__criterion": "entropy",
           "clf__max_depth": 5,
           "clf__max_features": "auto",
           "clf__min_samples_split": 0.3,
           "clf__n_estimators": 50
          },
          "9": {
           "clf": {
            "base_score": null,
            "colsample_bylevel": null,
            "colsample_bytree": null,
            "gamma": null,
            "gpu_id": null,
            "interaction_constraints": null,
            "kwargs": {
             "criterion": "entropy",
             "max_features": "auto",
             "max_samples": 0.5,
             "min_samples_split": 0.38
            },
            "max_delta_step": null,
            "min_child_weight": null,
            "monotone_constraints": null,
            "n_jobs": null,
            "objective": "binary:logistic",
            "random_state": null,
            "reg_lambda": null,
            "scale_pos_weight": null,
            "subsample": null,
            "use_label_encoder": true,
            "verbosity": null
           },
           "clf__criterion": "entropy",
           "clf__max_depth": 7,
           "clf__max_features": "auto",
           "clf__max_samples": 0.5,
           "clf__min_samples_split": 0.38,
           "clf__n_estimators": 50
          },
          "index": "params"
         },
         {
          "0": 0.9309854791,
          "1": 0.6863627136,
          "2": 0.9308679439,
          "3": 0.6863627136,
          "4": 0.9294040966,
          "5": 0.6863627136,
          "6": null,
          "7": 0.9293079315,
          "8": null,
          "9": 0.9308252038,
          "index": "split0_test_score"
         },
         {
          "0": 0.9314235647,
          "1": 0.6878799859,
          "2": 0.9315410999,
          "3": 0.6878799859,
          "4": 0.9300879377,
          "5": 0.6878799859,
          "6": null,
          "7": 0.9304084882,
          "8": null,
          "9": 0.9322142559,
          "index": "split1_test_score"
         },
         {
          "0": 0.9299276624,
          "1": 0.6863520286,
          "2": 0.9306115035,
          "3": 0.6863520286,
          "4": 0.92834628,
          "5": 0.6863520286,
          "6": null,
          "7": 0.9284958702,
          "8": null,
          "9": 0.9304832833,
          "index": "split2_test_score"
         },
         {
          "0": 0.9307789021,
          "1": 0.6868649093,
          "2": 0.9310068491,
          "3": 0.6868649093,
          "4": 0.9292794381,
          "5": 0.6868649093,
          "6": null,
          "7": 0.9294040966,
          "8": null,
          "9": 0.9311742477,
          "index": "mean_test_score"
         },
         {
          "0": 0.0006279259,
          "1": 0.0007177808,
          "2": 0.0003920105,
          "3": 0.0007177808,
          "4": 0.0007164718,
          "5": 0.0007177808,
          "6": null,
          "7": 0.0007837783,
          "8": null,
          "9": 0.0007485276,
          "index": "std_test_score"
         },
         {
          "0": 3,
          "1": 6,
          "2": 2,
          "3": 6,
          "4": 5,
          "5": 6,
          "6": 9,
          "7": 4,
          "8": 10,
          "9": 1,
          "index": "rank_test_score"
         }
        ],
        "schema": {
         "fields": [
          {
           "name": "index",
           "type": "string"
          },
          {
           "name": 0,
           "type": "string"
          },
          {
           "name": 1,
           "type": "string"
          },
          {
           "name": 2,
           "type": "string"
          },
          {
           "name": 3,
           "type": "string"
          },
          {
           "name": 4,
           "type": "string"
          },
          {
           "name": 5,
           "type": "string"
          },
          {
           "name": 6,
           "type": "string"
          },
          {
           "name": 7,
           "type": "string"
          },
          {
           "name": 8,
           "type": "string"
          },
          {
           "name": 9,
           "type": "string"
          }
         ],
         "pandas_version": "0.20.0",
         "primaryKey": [
          "index"
         ]
        }
       },
       "total_rows": 18
      },
      "text/html": [
       "<div>\n",
       "<style scoped>\n",
       "    .dataframe tbody tr th:only-of-type {\n",
       "        vertical-align: middle;\n",
       "    }\n",
       "\n",
       "    .dataframe tbody tr th {\n",
       "        vertical-align: top;\n",
       "    }\n",
       "\n",
       "    .dataframe thead th {\n",
       "        text-align: right;\n",
       "    }\n",
       "</style>\n",
       "<table border=\"1\" class=\"dataframe\">\n",
       "  <thead>\n",
       "    <tr style=\"text-align: right;\">\n",
       "      <th></th>\n",
       "      <th>0</th>\n",
       "      <th>1</th>\n",
       "      <th>2</th>\n",
       "      <th>3</th>\n",
       "      <th>4</th>\n",
       "      <th>5</th>\n",
       "      <th>6</th>\n",
       "      <th>7</th>\n",
       "      <th>8</th>\n",
       "      <th>9</th>\n",
       "    </tr>\n",
       "  </thead>\n",
       "  <tbody>\n",
       "    <tr>\n",
       "      <th>mean_fit_time</th>\n",
       "      <td>62.453743</td>\n",
       "      <td>6.975771</td>\n",
       "      <td>117.510913</td>\n",
       "      <td>1.563657</td>\n",
       "      <td>131.90971</td>\n",
       "      <td>1.445917</td>\n",
       "      <td>0.037158</td>\n",
       "      <td>202.33841</td>\n",
       "      <td>0.039387</td>\n",
       "      <td>51.23005</td>\n",
       "    </tr>\n",
       "    <tr>\n",
       "      <th>std_fit_time</th>\n",
       "      <td>0.589397</td>\n",
       "      <td>0.290986</td>\n",
       "      <td>0.850715</td>\n",
       "      <td>0.028264</td>\n",
       "      <td>3.794974</td>\n",
       "      <td>0.022626</td>\n",
       "      <td>0.000812</td>\n",
       "      <td>0.727909</td>\n",
       "      <td>0.004357</td>\n",
       "      <td>1.35348</td>\n",
       "    </tr>\n",
       "    <tr>\n",
       "      <th>mean_score_time</th>\n",
       "      <td>0.315884</td>\n",
       "      <td>0.421356</td>\n",
       "      <td>0.319495</td>\n",
       "      <td>0.321973</td>\n",
       "      <td>0.372041</td>\n",
       "      <td>0.329985</td>\n",
       "      <td>0.0</td>\n",
       "      <td>0.479793</td>\n",
       "      <td>0.0</td>\n",
       "      <td>0.294225</td>\n",
       "    </tr>\n",
       "    <tr>\n",
       "      <th>std_score_time</th>\n",
       "      <td>0.09397</td>\n",
       "      <td>0.003588</td>\n",
       "      <td>0.088852</td>\n",
       "      <td>0.00125</td>\n",
       "      <td>0.045265</td>\n",
       "      <td>0.007969</td>\n",
       "      <td>0.0</td>\n",
       "      <td>0.076971</td>\n",
       "      <td>0.0</td>\n",
       "      <td>0.072109</td>\n",
       "    </tr>\n",
       "    <tr>\n",
       "      <th>param_clf__n_estimators</th>\n",
       "      <td>50</td>\n",
       "      <td>100</td>\n",
       "      <td>200</td>\n",
       "      <td>100</td>\n",
       "      <td>100</td>\n",
       "      <td>100</td>\n",
       "      <td>100</td>\n",
       "      <td>200</td>\n",
       "      <td>50</td>\n",
       "      <td>50</td>\n",
       "    </tr>\n",
       "    <tr>\n",
       "      <th>param_clf__min_samples_split</th>\n",
       "      <td>0.18</td>\n",
       "      <td>0.34</td>\n",
       "      <td>0.14</td>\n",
       "      <td>0.26</td>\n",
       "      <td>0.42</td>\n",
       "      <td>0.34</td>\n",
       "      <td>0.22</td>\n",
       "      <td>0.22</td>\n",
       "      <td>0.3</td>\n",
       "      <td>0.38</td>\n",
       "    </tr>\n",
       "    <tr>\n",
       "      <th>param_clf__max_samples</th>\n",
       "      <td>0.25</td>\n",
       "      <td>0.75</td>\n",
       "      <td>0.5</td>\n",
       "      <td>0.25</td>\n",
       "      <td>0.75</td>\n",
       "      <td>1</td>\n",
       "      <td>NaN</td>\n",
       "      <td>0.75</td>\n",
       "      <td>NaN</td>\n",
       "      <td>0.5</td>\n",
       "    </tr>\n",
       "    <tr>\n",
       "      <th>param_clf__max_features</th>\n",
       "      <td>sqrt</td>\n",
       "      <td>sqrt</td>\n",
       "      <td>log2</td>\n",
       "      <td>log2</td>\n",
       "      <td>log2</td>\n",
       "      <td>sqrt</td>\n",
       "      <td>sqrt</td>\n",
       "      <td>sqrt</td>\n",
       "      <td>auto</td>\n",
       "      <td>auto</td>\n",
       "    </tr>\n",
       "    <tr>\n",
       "      <th>param_clf__max_depth</th>\n",
       "      <td>8</td>\n",
       "      <td>3</td>\n",
       "      <td>4</td>\n",
       "      <td>10</td>\n",
       "      <td>9</td>\n",
       "      <td>7</td>\n",
       "      <td>3</td>\n",
       "      <td>7</td>\n",
       "      <td>5</td>\n",
       "      <td>7</td>\n",
       "    </tr>\n",
       "    <tr>\n",
       "      <th>param_clf__criterion</th>\n",
       "      <td>entropy</td>\n",
       "      <td>gini</td>\n",
       "      <td>gini</td>\n",
       "      <td>gini</td>\n",
       "      <td>gini</td>\n",
       "      <td>entropy</td>\n",
       "      <td>gini</td>\n",
       "      <td>entropy</td>\n",
       "      <td>entropy</td>\n",
       "      <td>entropy</td>\n",
       "    </tr>\n",
       "    <tr>\n",
       "      <th>param_clf</th>\n",
       "      <td>XGBClassifier(base_score=None, booster=None, c...</td>\n",
       "      <td>RandomForestClassifier()</td>\n",
       "      <td>XGBClassifier(base_score=None, booster=None, c...</td>\n",
       "      <td>RandomForestClassifier()</td>\n",
       "      <td>XGBClassifier(base_score=None, booster=None, c...</td>\n",
       "      <td>RandomForestClassifier()</td>\n",
       "      <td>GradientBoostingClassifier()</td>\n",
       "      <td>XGBClassifier(base_score=None, booster=None, c...</td>\n",
       "      <td>GradientBoostingClassifier()</td>\n",
       "      <td>XGBClassifier(base_score=None, booster=None, c...</td>\n",
       "    </tr>\n",
       "    <tr>\n",
       "      <th>params</th>\n",
       "      <td>{'clf__n_estimators': 50, 'clf__min_samples_sp...</td>\n",
       "      <td>{'clf__n_estimators': 100, 'clf__min_samples_s...</td>\n",
       "      <td>{'clf__n_estimators': 200, 'clf__min_samples_s...</td>\n",
       "      <td>{'clf__n_estimators': 100, 'clf__min_samples_s...</td>\n",
       "      <td>{'clf__n_estimators': 100, 'clf__min_samples_s...</td>\n",
       "      <td>{'clf__n_estimators': 100, 'clf__min_samples_s...</td>\n",
       "      <td>{'clf__n_estimators': 100, 'clf__min_samples_s...</td>\n",
       "      <td>{'clf__n_estimators': 200, 'clf__min_samples_s...</td>\n",
       "      <td>{'clf__n_estimators': 50, 'clf__min_samples_sp...</td>\n",
       "      <td>{'clf__n_estimators': 50, 'clf__min_samples_sp...</td>\n",
       "    </tr>\n",
       "    <tr>\n",
       "      <th>split0_test_score</th>\n",
       "      <td>0.930985</td>\n",
       "      <td>0.686363</td>\n",
       "      <td>0.930868</td>\n",
       "      <td>0.686363</td>\n",
       "      <td>0.929404</td>\n",
       "      <td>0.686363</td>\n",
       "      <td>NaN</td>\n",
       "      <td>0.929308</td>\n",
       "      <td>NaN</td>\n",
       "      <td>0.930825</td>\n",
       "    </tr>\n",
       "    <tr>\n",
       "      <th>split1_test_score</th>\n",
       "      <td>0.931424</td>\n",
       "      <td>0.68788</td>\n",
       "      <td>0.931541</td>\n",
       "      <td>0.68788</td>\n",
       "      <td>0.930088</td>\n",
       "      <td>0.68788</td>\n",
       "      <td>NaN</td>\n",
       "      <td>0.930408</td>\n",
       "      <td>NaN</td>\n",
       "      <td>0.932214</td>\n",
       "    </tr>\n",
       "    <tr>\n",
       "      <th>split2_test_score</th>\n",
       "      <td>0.929928</td>\n",
       "      <td>0.686352</td>\n",
       "      <td>0.930612</td>\n",
       "      <td>0.686352</td>\n",
       "      <td>0.928346</td>\n",
       "      <td>0.686352</td>\n",
       "      <td>NaN</td>\n",
       "      <td>0.928496</td>\n",
       "      <td>NaN</td>\n",
       "      <td>0.930483</td>\n",
       "    </tr>\n",
       "    <tr>\n",
       "      <th>mean_test_score</th>\n",
       "      <td>0.930779</td>\n",
       "      <td>0.686865</td>\n",
       "      <td>0.931007</td>\n",
       "      <td>0.686865</td>\n",
       "      <td>0.929279</td>\n",
       "      <td>0.686865</td>\n",
       "      <td>NaN</td>\n",
       "      <td>0.929404</td>\n",
       "      <td>NaN</td>\n",
       "      <td>0.931174</td>\n",
       "    </tr>\n",
       "    <tr>\n",
       "      <th>std_test_score</th>\n",
       "      <td>0.000628</td>\n",
       "      <td>0.000718</td>\n",
       "      <td>0.000392</td>\n",
       "      <td>0.000718</td>\n",
       "      <td>0.000716</td>\n",
       "      <td>0.000718</td>\n",
       "      <td>NaN</td>\n",
       "      <td>0.000784</td>\n",
       "      <td>NaN</td>\n",
       "      <td>0.000749</td>\n",
       "    </tr>\n",
       "    <tr>\n",
       "      <th>rank_test_score</th>\n",
       "      <td>3</td>\n",
       "      <td>6</td>\n",
       "      <td>2</td>\n",
       "      <td>6</td>\n",
       "      <td>5</td>\n",
       "      <td>6</td>\n",
       "      <td>9</td>\n",
       "      <td>4</td>\n",
       "      <td>10</td>\n",
       "      <td>1</td>\n",
       "    </tr>\n",
       "  </tbody>\n",
       "</table>\n",
       "</div>"
      ],
      "text/plain": [
       "                                                                              0  \\\n",
       "mean_fit_time                                                         62.453743   \n",
       "std_fit_time                                                           0.589397   \n",
       "mean_score_time                                                        0.315884   \n",
       "std_score_time                                                          0.09397   \n",
       "param_clf__n_estimators                                                      50   \n",
       "param_clf__min_samples_split                                               0.18   \n",
       "param_clf__max_samples                                                     0.25   \n",
       "param_clf__max_features                                                    sqrt   \n",
       "param_clf__max_depth                                                          8   \n",
       "param_clf__criterion                                                    entropy   \n",
       "param_clf                     XGBClassifier(base_score=None, booster=None, c...   \n",
       "params                        {'clf__n_estimators': 50, 'clf__min_samples_sp...   \n",
       "split0_test_score                                                      0.930985   \n",
       "split1_test_score                                                      0.931424   \n",
       "split2_test_score                                                      0.929928   \n",
       "mean_test_score                                                        0.930779   \n",
       "std_test_score                                                         0.000628   \n",
       "rank_test_score                                                               3   \n",
       "\n",
       "                                                                              1  \\\n",
       "mean_fit_time                                                          6.975771   \n",
       "std_fit_time                                                           0.290986   \n",
       "mean_score_time                                                        0.421356   \n",
       "std_score_time                                                         0.003588   \n",
       "param_clf__n_estimators                                                     100   \n",
       "param_clf__min_samples_split                                               0.34   \n",
       "param_clf__max_samples                                                     0.75   \n",
       "param_clf__max_features                                                    sqrt   \n",
       "param_clf__max_depth                                                          3   \n",
       "param_clf__criterion                                                       gini   \n",
       "param_clf                                              RandomForestClassifier()   \n",
       "params                        {'clf__n_estimators': 100, 'clf__min_samples_s...   \n",
       "split0_test_score                                                      0.686363   \n",
       "split1_test_score                                                       0.68788   \n",
       "split2_test_score                                                      0.686352   \n",
       "mean_test_score                                                        0.686865   \n",
       "std_test_score                                                         0.000718   \n",
       "rank_test_score                                                               6   \n",
       "\n",
       "                                                                              2  \\\n",
       "mean_fit_time                                                        117.510913   \n",
       "std_fit_time                                                           0.850715   \n",
       "mean_score_time                                                        0.319495   \n",
       "std_score_time                                                         0.088852   \n",
       "param_clf__n_estimators                                                     200   \n",
       "param_clf__min_samples_split                                               0.14   \n",
       "param_clf__max_samples                                                      0.5   \n",
       "param_clf__max_features                                                    log2   \n",
       "param_clf__max_depth                                                          4   \n",
       "param_clf__criterion                                                       gini   \n",
       "param_clf                     XGBClassifier(base_score=None, booster=None, c...   \n",
       "params                        {'clf__n_estimators': 200, 'clf__min_samples_s...   \n",
       "split0_test_score                                                      0.930868   \n",
       "split1_test_score                                                      0.931541   \n",
       "split2_test_score                                                      0.930612   \n",
       "mean_test_score                                                        0.931007   \n",
       "std_test_score                                                         0.000392   \n",
       "rank_test_score                                                               2   \n",
       "\n",
       "                                                                              3  \\\n",
       "mean_fit_time                                                          1.563657   \n",
       "std_fit_time                                                           0.028264   \n",
       "mean_score_time                                                        0.321973   \n",
       "std_score_time                                                          0.00125   \n",
       "param_clf__n_estimators                                                     100   \n",
       "param_clf__min_samples_split                                               0.26   \n",
       "param_clf__max_samples                                                     0.25   \n",
       "param_clf__max_features                                                    log2   \n",
       "param_clf__max_depth                                                         10   \n",
       "param_clf__criterion                                                       gini   \n",
       "param_clf                                              RandomForestClassifier()   \n",
       "params                        {'clf__n_estimators': 100, 'clf__min_samples_s...   \n",
       "split0_test_score                                                      0.686363   \n",
       "split1_test_score                                                       0.68788   \n",
       "split2_test_score                                                      0.686352   \n",
       "mean_test_score                                                        0.686865   \n",
       "std_test_score                                                         0.000718   \n",
       "rank_test_score                                                               6   \n",
       "\n",
       "                                                                              4  \\\n",
       "mean_fit_time                                                         131.90971   \n",
       "std_fit_time                                                           3.794974   \n",
       "mean_score_time                                                        0.372041   \n",
       "std_score_time                                                         0.045265   \n",
       "param_clf__n_estimators                                                     100   \n",
       "param_clf__min_samples_split                                               0.42   \n",
       "param_clf__max_samples                                                     0.75   \n",
       "param_clf__max_features                                                    log2   \n",
       "param_clf__max_depth                                                          9   \n",
       "param_clf__criterion                                                       gini   \n",
       "param_clf                     XGBClassifier(base_score=None, booster=None, c...   \n",
       "params                        {'clf__n_estimators': 100, 'clf__min_samples_s...   \n",
       "split0_test_score                                                      0.929404   \n",
       "split1_test_score                                                      0.930088   \n",
       "split2_test_score                                                      0.928346   \n",
       "mean_test_score                                                        0.929279   \n",
       "std_test_score                                                         0.000716   \n",
       "rank_test_score                                                               5   \n",
       "\n",
       "                                                                              5  \\\n",
       "mean_fit_time                                                          1.445917   \n",
       "std_fit_time                                                           0.022626   \n",
       "mean_score_time                                                        0.329985   \n",
       "std_score_time                                                         0.007969   \n",
       "param_clf__n_estimators                                                     100   \n",
       "param_clf__min_samples_split                                               0.34   \n",
       "param_clf__max_samples                                                        1   \n",
       "param_clf__max_features                                                    sqrt   \n",
       "param_clf__max_depth                                                          7   \n",
       "param_clf__criterion                                                    entropy   \n",
       "param_clf                                              RandomForestClassifier()   \n",
       "params                        {'clf__n_estimators': 100, 'clf__min_samples_s...   \n",
       "split0_test_score                                                      0.686363   \n",
       "split1_test_score                                                       0.68788   \n",
       "split2_test_score                                                      0.686352   \n",
       "mean_test_score                                                        0.686865   \n",
       "std_test_score                                                         0.000718   \n",
       "rank_test_score                                                               6   \n",
       "\n",
       "                                                                              6  \\\n",
       "mean_fit_time                                                          0.037158   \n",
       "std_fit_time                                                           0.000812   \n",
       "mean_score_time                                                             0.0   \n",
       "std_score_time                                                              0.0   \n",
       "param_clf__n_estimators                                                     100   \n",
       "param_clf__min_samples_split                                               0.22   \n",
       "param_clf__max_samples                                                      NaN   \n",
       "param_clf__max_features                                                    sqrt   \n",
       "param_clf__max_depth                                                          3   \n",
       "param_clf__criterion                                                       gini   \n",
       "param_clf                                          GradientBoostingClassifier()   \n",
       "params                        {'clf__n_estimators': 100, 'clf__min_samples_s...   \n",
       "split0_test_score                                                           NaN   \n",
       "split1_test_score                                                           NaN   \n",
       "split2_test_score                                                           NaN   \n",
       "mean_test_score                                                             NaN   \n",
       "std_test_score                                                              NaN   \n",
       "rank_test_score                                                               9   \n",
       "\n",
       "                                                                              7  \\\n",
       "mean_fit_time                                                         202.33841   \n",
       "std_fit_time                                                           0.727909   \n",
       "mean_score_time                                                        0.479793   \n",
       "std_score_time                                                         0.076971   \n",
       "param_clf__n_estimators                                                     200   \n",
       "param_clf__min_samples_split                                               0.22   \n",
       "param_clf__max_samples                                                     0.75   \n",
       "param_clf__max_features                                                    sqrt   \n",
       "param_clf__max_depth                                                          7   \n",
       "param_clf__criterion                                                    entropy   \n",
       "param_clf                     XGBClassifier(base_score=None, booster=None, c...   \n",
       "params                        {'clf__n_estimators': 200, 'clf__min_samples_s...   \n",
       "split0_test_score                                                      0.929308   \n",
       "split1_test_score                                                      0.930408   \n",
       "split2_test_score                                                      0.928496   \n",
       "mean_test_score                                                        0.929404   \n",
       "std_test_score                                                         0.000784   \n",
       "rank_test_score                                                               4   \n",
       "\n",
       "                                                                              8  \\\n",
       "mean_fit_time                                                          0.039387   \n",
       "std_fit_time                                                           0.004357   \n",
       "mean_score_time                                                             0.0   \n",
       "std_score_time                                                              0.0   \n",
       "param_clf__n_estimators                                                      50   \n",
       "param_clf__min_samples_split                                                0.3   \n",
       "param_clf__max_samples                                                      NaN   \n",
       "param_clf__max_features                                                    auto   \n",
       "param_clf__max_depth                                                          5   \n",
       "param_clf__criterion                                                    entropy   \n",
       "param_clf                                          GradientBoostingClassifier()   \n",
       "params                        {'clf__n_estimators': 50, 'clf__min_samples_sp...   \n",
       "split0_test_score                                                           NaN   \n",
       "split1_test_score                                                           NaN   \n",
       "split2_test_score                                                           NaN   \n",
       "mean_test_score                                                             NaN   \n",
       "std_test_score                                                              NaN   \n",
       "rank_test_score                                                              10   \n",
       "\n",
       "                                                                              9  \n",
       "mean_fit_time                                                          51.23005  \n",
       "std_fit_time                                                            1.35348  \n",
       "mean_score_time                                                        0.294225  \n",
       "std_score_time                                                         0.072109  \n",
       "param_clf__n_estimators                                                      50  \n",
       "param_clf__min_samples_split                                               0.38  \n",
       "param_clf__max_samples                                                      0.5  \n",
       "param_clf__max_features                                                    auto  \n",
       "param_clf__max_depth                                                          7  \n",
       "param_clf__criterion                                                    entropy  \n",
       "param_clf                     XGBClassifier(base_score=None, booster=None, c...  \n",
       "params                        {'clf__n_estimators': 50, 'clf__min_samples_sp...  \n",
       "split0_test_score                                                      0.930825  \n",
       "split1_test_score                                                      0.932214  \n",
       "split2_test_score                                                      0.930483  \n",
       "mean_test_score                                                        0.931174  \n",
       "std_test_score                                                         0.000749  \n",
       "rank_test_score                                                               1  "
      ]
     },
     "execution_count": 68,
     "metadata": {},
     "output_type": "execute_result"
    }
   ],
   "source": [
    "df_rs_res.head(10).T"
   ]
  },
  {
   "cell_type": "markdown",
   "id": "2598e25e-1ad8-4dc3-862a-4deda729cbb2",
   "metadata": {},
   "source": [
    "#### Review Results\n",
    "\n",
    "Let's review the best model of the random selected models. Load from pickle if necessary."
   ]
  },
  {
   "cell_type": "code",
   "execution_count": 70,
   "id": "929df2d8-cebc-495c-97bb-56f010cb8226",
   "metadata": {},
   "outputs": [
    {
     "data": {
      "text/plain": [
       "Pipeline(steps=[('clf',\n",
       "                 XGBClassifier(base_score=0.5, booster='gbtree',\n",
       "                               colsample_bylevel=1, colsample_bynode=1,\n",
       "                               colsample_bytree=1, criterion='entropy', gamma=0,\n",
       "                               gpu_id=-1, importance_type='gain',\n",
       "                               interaction_constraints='',\n",
       "                               learning_rate=0.300000012, max_delta_step=0,\n",
       "                               max_depth=7, max_features='auto',\n",
       "                               max_samples=0.5, min_child_weight=1,\n",
       "                               min_samples_split=0.38, missing=nan,\n",
       "                               monotone_constraints='()', n_estimators=50,\n",
       "                               n_jobs=16, num_parallel_tree=1, random_state=0,\n",
       "                               reg_alpha=0, reg_lambda=1, scale_pos_weight=1,\n",
       "                               subsample=1, tree_method='exact',\n",
       "                               validate_parameters=1, verbosity=None))])"
      ]
     },
     "execution_count": 70,
     "metadata": {},
     "output_type": "execute_result"
    }
   ],
   "source": [
    "rs_results.best_estimator_"
   ]
  },
  {
   "cell_type": "markdown",
   "id": "e8584335-2930-431d-99f6-331dadfd78ca",
   "metadata": {},
   "source": [
    "Let's look at the best accuracy score, and the parameters that produced them."
   ]
  },
  {
   "cell_type": "code",
   "execution_count": 71,
   "id": "56c3099d-76a6-4dd6-aa70-8d75e3146bcb",
   "metadata": {},
   "outputs": [
    {
     "data": {
      "text/plain": [
       "0.9311742476858035"
      ]
     },
     "metadata": {},
     "output_type": "display_data"
    },
    {
     "data": {
      "text/plain": [
       "{'clf__n_estimators': 50,\n",
       " 'clf__min_samples_split': 0.38,\n",
       " 'clf__max_samples': 0.5,\n",
       " 'clf__max_features': 'auto',\n",
       " 'clf__max_depth': 7,\n",
       " 'clf__criterion': 'entropy',\n",
       " 'clf': XGBClassifier(base_score=None, booster=None, colsample_bylevel=None,\n",
       "               colsample_bynode=None, colsample_bytree=None, criterion='entropy',\n",
       "               gamma=None, gpu_id=None, importance_type='gain',\n",
       "               interaction_constraints=None, learning_rate=None,\n",
       "               max_delta_step=None, max_depth=7, max_features='auto',\n",
       "               max_samples=0.5, min_child_weight=None, min_samples_split=0.38,\n",
       "               missing=nan, monotone_constraints=None, n_estimators=50,\n",
       "               n_jobs=None, num_parallel_tree=None, random_state=None,\n",
       "               reg_alpha=None, reg_lambda=None, scale_pos_weight=None,\n",
       "               subsample=None, tree_method=None, validate_parameters=None,\n",
       "               verbosity=None)}"
      ]
     },
     "metadata": {},
     "output_type": "display_data"
    }
   ],
   "source": [
    "display(rs_results.best_score_, rs_results.best_params_)"
   ]
  },
  {
   "cell_type": "markdown",
   "id": "52e0796f-d45d-40ff-a51d-b8946228714c",
   "metadata": {},
   "source": [
    "Let's look at it as an estimator object."
   ]
  },
  {
   "cell_type": "code",
   "execution_count": 72,
   "id": "a9e9216c-e0f7-4240-b526-27c2d59cba77",
   "metadata": {
    "tags": []
   },
   "outputs": [
    {
     "data": {
      "text/plain": [
       "Pipeline(steps=[('clf',\n",
       "                 XGBClassifier(base_score=0.5, booster='gbtree',\n",
       "                               colsample_bylevel=1, colsample_bynode=1,\n",
       "                               colsample_bytree=1, criterion='entropy', gamma=0,\n",
       "                               gpu_id=-1, importance_type='gain',\n",
       "                               interaction_constraints='',\n",
       "                               learning_rate=0.300000012, max_delta_step=0,\n",
       "                               max_depth=7, max_features='auto',\n",
       "                               max_samples=0.5, min_child_weight=1,\n",
       "                               min_samples_split=0.38, missing=nan,\n",
       "                               monotone_constraints='()', n_estimators=50,\n",
       "                               n_jobs=16, num_parallel_tree=1, random_state=0,\n",
       "                               reg_alpha=0, reg_lambda=1, scale_pos_weight=1,\n",
       "                               subsample=1, tree_method='exact',\n",
       "                               validate_parameters=1, verbosity=None))])"
      ]
     },
     "metadata": {},
     "output_type": "display_data"
    }
   ],
   "source": [
    "rs_best = rs_results.best_estimator_\n",
    "display(rs_best)"
   ]
  },
  {
   "cell_type": "markdown",
   "id": "2d03e6e1-db8d-482b-8b7d-d895fa46da73",
   "metadata": {},
   "source": [
    "Now let's look at performance vs Test."
   ]
  },
  {
   "cell_type": "code",
   "execution_count": 73,
   "id": "824a10c9-3c11-47dc-a8a5-2375a2c961ee",
   "metadata": {},
   "outputs": [
    {
     "data": {
      "text/plain": [
       "'test accuracy: 0.931245726008662'"
      ]
     },
     "metadata": {},
     "output_type": "display_data"
    },
    {
     "data": {
      "text/plain": [
       "'train accuracy: 0.9311742476858035'"
      ]
     },
     "metadata": {},
     "output_type": "display_data"
    }
   ],
   "source": [
    "display(f\"test accuracy: {rs_best.score(X_test, y_test)}\")\n",
    "display(f\"train accuracy: {rs_results.best_score_}\")"
   ]
  },
  {
   "cell_type": "markdown",
   "id": "03e66852-72db-426f-98d2-be1220b5b902",
   "metadata": {},
   "source": [
    "Consistent, and aligns. That Test score is a smidge higher than train is a little weird, but isn't egregiously so, so will go with it for now."
   ]
  },
  {
   "cell_type": "markdown",
   "id": "ab2ea030-2591-4ca3-b829-ba3b0af68100",
   "metadata": {},
   "source": [
    "Let's get some predictions and review some high level classification metrics:"
   ]
  },
  {
   "cell_type": "code",
   "execution_count": 74,
   "id": "fac1d3e6-fa28-4cd8-9fc8-2e17dcdebd7f",
   "metadata": {},
   "outputs": [],
   "source": [
    "rs_pred = rs_best.predict(X_test)"
   ]
  },
  {
   "cell_type": "markdown",
   "id": "341b590e-455f-4ebd-90b5-98aa6c97f9d9",
   "metadata": {},
   "source": [
    "*Confusion Matrix*"
   ]
  },
  {
   "cell_type": "code",
   "execution_count": 75,
   "id": "76fb661e-fc02-4ef3-9f28-82c5e8bee79e",
   "metadata": {},
   "outputs": [],
   "source": [
    "from sklearn.metrics import (confusion_matrix, precision_score, recall_score\n",
    "                             ,plot_roc_curve\n",
    "                            )"
   ]
  },
  {
   "cell_type": "code",
   "execution_count": 76,
   "id": "195d2d59-ff3f-4679-82ea-2679ec000be6",
   "metadata": {},
   "outputs": [
    {
     "data": {
      "text/plain": [
       "array([[45709,  2503],\n",
       "       [ 2323, 19657]])"
      ]
     },
     "metadata": {},
     "output_type": "display_data"
    }
   ],
   "source": [
    "cm = confusion_matrix(y_test, rs_pred)\n",
    "display(cm)"
   ]
  },
  {
   "cell_type": "markdown",
   "id": "0292f14c-7b50-4080-ab0b-53e08a3beda4",
   "metadata": {},
   "source": [
    "*Accuracy*"
   ]
  },
  {
   "cell_type": "code",
   "execution_count": 77,
   "id": "f21711f9-ec8b-4140-bcdc-ac6311466bdc",
   "metadata": {},
   "outputs": [
    {
     "data": {
      "text/plain": [
       "'What % of pitches did we correctly categorize?'"
      ]
     },
     "metadata": {},
     "output_type": "display_data"
    },
    {
     "data": {
      "text/plain": [
       "'test accuracy: 0.931'"
      ]
     },
     "metadata": {},
     "output_type": "display_data"
    }
   ],
   "source": [
    "display(\"What % of pitches did we correctly categorize?\")\n",
    "display(f\"test accuracy: {round(rs_best.score(X_test, y_test), 3)}\")"
   ]
  },
  {
   "cell_type": "markdown",
   "id": "5bb9aa10-00aa-4acc-a837-e6e961860d13",
   "metadata": {},
   "source": [
    "*Precision*"
   ]
  },
  {
   "cell_type": "code",
   "execution_count": 78,
   "id": "f4f6fb94-fb75-4ce7-ae51-e346e355561d",
   "metadata": {},
   "outputs": [
    {
     "data": {
      "text/plain": [
       "'What % predicted strikes did we get correct?'"
      ]
     },
     "metadata": {},
     "output_type": "display_data"
    },
    {
     "data": {
      "text/plain": [
       "'Positive Predictive Value: 0.88705'"
      ]
     },
     "metadata": {},
     "output_type": "display_data"
    }
   ],
   "source": [
    "precision = precision_score(y_test, rs_pred)\n",
    "display(\"What % predicted strikes did we get correct?\")\n",
    "display(f\"Positive Predictive Value: {round(precision,5)}\")"
   ]
  },
  {
   "cell_type": "markdown",
   "id": "4cfc7e9a-f72e-499c-a35c-16958c2a701e",
   "metadata": {},
   "source": [
    "*Recall*"
   ]
  },
  {
   "cell_type": "code",
   "execution_count": 79,
   "id": "b527f3fb-3f4e-4442-93cc-13bdd1c3335c",
   "metadata": {},
   "outputs": [
    {
     "data": {
      "text/plain": [
       "'What percent of actual strikes did we get capture?'"
      ]
     },
     "metadata": {},
     "output_type": "display_data"
    },
    {
     "data": {
      "text/plain": [
       "'True Positive Rate: 0.89431'"
      ]
     },
     "metadata": {},
     "output_type": "display_data"
    }
   ],
   "source": [
    "recall = recall_score(y_test, rs_pred)\n",
    "display(\"What percent of actual strikes did we get capture?\")\n",
    "display(f\"True Positive Rate: {round(recall, 5)}\")"
   ]
  },
  {
   "cell_type": "markdown",
   "id": "383452e8-766f-4136-ad3a-ef60ebcba0da",
   "metadata": {},
   "source": [
    "*ROC/AUC*"
   ]
  },
  {
   "cell_type": "code",
   "execution_count": 80,
   "id": "a5adb410-570d-49e9-bfdb-28d90c6ae77c",
   "metadata": {},
   "outputs": [
    {
     "data": {
      "image/png": "[encoded data removed]",
      "text/plain": [
       "<Figure size 432x288 with 1 Axes>"
      ]
     },
     "metadata": {
      "needs_background": "light"
     },
     "output_type": "display_data"
    }
   ],
   "source": [
    "fpr, tpr, thresholds = roc_curve(y_test, rs_best.predict_proba(X_test)[:,1])\n",
    "roc_auc = auc(fpr, tpr)\n",
    "roc_display = RocCurveDisplay(fpr=fpr, tpr=tpr, roc_auc=roc_auc)\n",
    "roc_display.plot()\n",
    "plt.show()"
   ]
  },
  {
   "cell_type": "markdown",
   "id": "4a64b5a0-47b6-4cf6-82ba-c851faa44042",
   "metadata": {},
   "source": [
    "AUC of 0.98!"
   ]
  },
  {
   "cell_type": "markdown",
   "id": "0739cd97-0ee2-456e-b70e-508fe2d36df6",
   "metadata": {},
   "source": [
    "---  \n",
    "\n",
    "<span style=\"font-size:0.5em;\">Tag 5</span>\n",
    "\n",
    "### Summary <a id='summary'></a>\n",
    "\n",
    "<span style=\"font-size:0.5em;\"><a href='#toc'>Back to TOC</a></span>"
   ]
  },
  {
   "cell_type": "markdown",
   "id": "608bbb32-1917-4c56-b3c8-04e887944e16",
   "metadata": {},
   "source": [
    "Show best model again:"
   ]
  },
  {
   "cell_type": "code",
   "execution_count": 81,
   "id": "cfad45e8-fa40-4172-8656-90b0dbdf4b4f",
   "metadata": {},
   "outputs": [
    {
     "data": {
      "text/plain": [
       "<bound method Pipeline.get_params of Pipeline(steps=[('clf',\n",
       "                 XGBClassifier(base_score=0.5, booster='gbtree',\n",
       "                               colsample_bylevel=1, colsample_bynode=1,\n",
       "                               colsample_bytree=1, criterion='entropy', gamma=0,\n",
       "                               gpu_id=-1, importance_type='gain',\n",
       "                               interaction_constraints='',\n",
       "                               learning_rate=0.300000012, max_delta_step=0,\n",
       "                               max_depth=7, max_features='auto',\n",
       "                               max_samples=0.5, min_child_weight=1,\n",
       "                               min_samples_split=0.38, missing=nan,\n",
       "                               monotone_constraints='()', n_estimators=50,\n",
       "                               n_jobs=16, num_parallel_tree=1, random_state=0,\n",
       "                               reg_alpha=0, reg_lambda=1, scale_pos_weight=1,\n",
       "                               subsample=1, tree_method='exact',\n",
       "                               validate_parameters=1, verbosity=None))])>"
      ]
     },
     "execution_count": 81,
     "metadata": {},
     "output_type": "execute_result"
    }
   ],
   "source": [
    "rs_best.get_params"
   ]
  },
  {
   "cell_type": "markdown",
   "id": "cb3ce25a-e8fa-460a-83f2-34fa9b47f173",
   "metadata": {},
   "source": [
    "<span style=\"color:blue\">\n",
    "    \n",
    "Our metric of choice is Accuracy, and the best model found by the random search over **10** iterations had a:  \n",
    "\n",
    "- training accuracy of **0.931**\n",
    "- test accuracy was **0.931** as well\n",
    "    \n",
    "The best model is an **XGBoost classifier**.\n",
    "\n",
    "Other classification metrics for context are:\n",
    "- Precision/Positive Predictive Value: **0.887**\n",
    "- Recall/True Positive Rate: **0.894**\n",
    "- ROC AUC: **0.98**\n",
    "\n",
    "All these metrics I would consider to be very good performance, contigent on specific use case of ultimate customer(s). For example a requirement might that the customer might want to maximize PPV as much as possible and would like to target >0.90.\n",
    "    \n",
    "Also, note that these results are actually a little better across the board vs our most <u>[recent neural network](./05_improved_neural_network.ipynb)</u>! But let's keep in mind the improvements in the hundredths.\n",
    "    \n",
    "</span>"
   ]
  },
  {
   "cell_type": "markdown",
   "id": "01e2106a-a7f8-48b2-994a-790c5ffc85f8",
   "metadata": {},
   "source": [
    "<span style=\"color:blue\">\n",
    "Compare this to the first run, before the addition of 8 more features:\n",
    "</span>"
   ]
  },
  {
   "cell_type": "markdown",
   "id": "7902a5fa-3fe9-45e1-a29d-44c1ab2514f0",
   "metadata": {},
   "source": [
    "<span style=\"color:dodgerblue\">\n",
    "\n",
    "Was also a **XGBoost classifier**.\n",
    "\n",
    "- training accuracy of **0.928**\n",
    "- test accuracy was **0.928** as well\n",
    "\n",
    "Other classification metrics for context are:\n",
    "- Precision/Positive Predictive Value: **0.885**\n",
    "- Recall/True Positive Rate: **0.885**\n",
    "- ROC AUC: **0.98**\n",
    "</span>"
   ]
  },
  {
   "cell_type": "markdown",
   "id": "0c6a1a19-8063-448a-9998-52a41982563e",
   "metadata": {},
   "source": [
    "<span style=\"color:blue\">\n",
    "This run is an improvement over that as well (again we're talking about differences in the hundredths).\n",
    "</span>"
   ]
  },
  {
   "cell_type": "markdown",
   "id": "a63e1601-6c60-4f5e-9c06-bb5313a49967",
   "metadata": {},
   "source": [
    "<span style=color:blue>    \n",
    "**So is it worth it to add these features? I think on balance it is.** \n",
    "    \n",
    "My reasoning is that I consider the addition of them:\n",
    "\n",
    "- `bside`\n",
    "- `pside`\n",
    "- `break_x`\n",
    "- `break_z`\n",
    "- `angle_x`\n",
    "- `angle_z`\n",
    "- `pitch_speed`\n",
    "        \n",
    "...to be 'costless', on the assumption that whatever process captures the original features that were used in the first run also 'simultaneously' capture these additional features; so no substantial extra effort is required to gather the data.\n",
    "</span>"
   ]
  },
  {
   "cell_type": "markdown",
   "id": "9aa09431-0d9b-4707-be97-4ccf0957b51e",
   "metadata": {},
   "source": [
    "---  \n",
    "\n",
    "<span style=\"font-size:0.5em;\">Tag 5</span>\n",
    "\n",
    "#### (Re-)Tuning<a id='tuning'></a>\n",
    "\n",
    "<span style=\"font-size:0.5em;\"><a href='#toc'>Back to TOC</a></span>"
   ]
  },
  {
   "cell_type": "markdown",
   "id": "727b94f6-a7ec-449e-8323-331e81a13612",
   "metadata": {},
   "source": [
    "Let's do another round of random searching, just to make sure we get decent coverage of potential parameters.\n",
    "\n",
    "While the best classifer last round as an XGBoost classifier, on average was it the best?"
   ]
  },
  {
   "cell_type": "code",
   "execution_count": 18,
   "id": "69854174-ba18-4752-8112-baefaab85453",
   "metadata": {},
   "outputs": [],
   "source": [
    "#Declare again if picking up again after kernel restart\n",
    "class DummyEstimator(BaseEstimator):\n",
    "    def fit(self): pass\n",
    "    def score(self): pass"
   ]
  },
  {
   "cell_type": "code",
   "execution_count": 19,
   "id": "5117b7ef-9a39-4ba5-aea1-cf3a7c5b08f4",
   "metadata": {
    "tags": []
   },
   "outputs": [],
   "source": [
    "#%%script echo skipping\n",
    "# Test loading pickle\n",
    "load_path = './models/rs_results/classic_rs_1st_pass_20220507_1926.pickle'\n",
    "\n",
    "with open(load_path, 'rb') as f:\n",
    "    # The protocol version used is detected automatically, so we do not\n",
    "    # have to specify it.\n",
    "    rs_results = pickle.load(f)    "
   ]
  },
  {
   "cell_type": "code",
   "execution_count": 20,
   "id": "584a94d1-79a5-449e-a805-37451fbaf74f",
   "metadata": {},
   "outputs": [],
   "source": [
    "df_rs_res = pd.DataFrame(rs_results.cv_results_)"
   ]
  },
  {
   "cell_type": "code",
   "execution_count": 21,
   "id": "7e6cef27-39a3-40a4-988a-45f6f5d99122",
   "metadata": {},
   "outputs": [
    {
     "data": {
      "application/com.datacamp.data-table.v1+json": {
       "is_truncated": false,
       "table": {
        "data": [
         {
          "0": 62.4537432988,
          "1": 6.9757712682,
          "2": 117.5109128157,
          "3": 1.563656648,
          "4": 131.9097104867,
          "5": 1.4459168911,
          "6": 0.0371584892,
          "7": 202.3384095828,
          "8": 0.0393873851,
          "9": 51.2300500075,
          "index": "mean_fit_time"
         },
         {
          "0": 0.5893970083,
          "1": 0.2909863084,
          "2": 0.8507152993,
          "3": 0.0282637212,
          "4": 3.794974256,
          "5": 0.0226258531,
          "6": 0.0008117099,
          "7": 0.7279085201,
          "8": 0.0043567115,
          "9": 1.3534804067,
          "index": "std_fit_time"
         },
         {
          "0": 0.3158839544,
          "1": 0.4213556449,
          "2": 0.3194946448,
          "3": 0.3219729265,
          "4": 0.3720413844,
          "5": 0.3299850623,
          "6": 0,
          "7": 0.4797933896,
          "8": 0,
          "9": 0.2942245801,
          "index": "mean_score_time"
         },
         {
          "0": 0.0939698582,
          "1": 0.0035883148,
          "2": 0.088851662,
          "3": 0.001249817,
          "4": 0.0452654818,
          "5": 0.0079686353,
          "6": 0,
          "7": 0.0769711412,
          "8": 0,
          "9": 0.0721086183,
          "index": "std_score_time"
         },
         {
          "0": 50,
          "1": 100,
          "2": 200,
          "3": 100,
          "4": 100,
          "5": 100,
          "6": 100,
          "7": 200,
          "8": 50,
          "9": 50,
          "index": "param_clf__n_estimators"
         },
         {
          "0": 0.18,
          "1": 0.34,
          "2": 0.14,
          "3": 0.26,
          "4": 0.42,
          "5": 0.34,
          "6": 0.22,
          "7": 0.22,
          "8": 0.3,
          "9": 0.38,
          "index": "param_clf__min_samples_split"
         },
         {
          "0": 0.25,
          "1": 0.75,
          "2": 0.5,
          "3": 0.25,
          "4": 0.75,
          "5": 1,
          "6": null,
          "7": 0.75,
          "8": null,
          "9": 0.5,
          "index": "param_clf__max_samples"
         },
         {
          "0": "sqrt",
          "1": "sqrt",
          "2": "log2",
          "3": "log2",
          "4": "log2",
          "5": "sqrt",
          "6": "sqrt",
          "7": "sqrt",
          "8": "auto",
          "9": "auto",
          "index": "param_clf__max_features"
         },
         {
          "0": 8,
          "1": 3,
          "2": 4,
          "3": 10,
          "4": 9,
          "5": 7,
          "6": 3,
          "7": 7,
          "8": 5,
          "9": 7,
          "index": "param_clf__max_depth"
         },
         {
          "0": "entropy",
          "1": "gini",
          "2": "gini",
          "3": "gini",
          "4": "gini",
          "5": "entropy",
          "6": "gini",
          "7": "entropy",
          "8": "entropy",
          "9": "entropy",
          "index": "param_clf__criterion"
         },
         {
          "0": {
           "base_score": null,
           "colsample_bylevel": null,
           "colsample_bytree": null,
           "gamma": null,
           "gpu_id": null,
           "interaction_constraints": null,
           "kwargs": {
            "criterion": "entropy",
            "max_features": "auto",
            "max_samples": 0.5,
            "min_samples_split": 0.38
           },
           "max_delta_step": null,
           "min_child_weight": null,
           "monotone_constraints": null,
           "n_jobs": null,
           "objective": "binary:logistic",
           "random_state": null,
           "reg_lambda": null,
           "scale_pos_weight": null,
           "subsample": null,
           "use_label_encoder": true,
           "verbosity": null
          },
          "1": {
           "base_estimator": {
            "ccp_alpha": 0,
            "criterion": "gini",
            "max_depth": null,
            "max_leaf_nodes": null,
            "min_samples_leaf": 1,
            "min_weight_fraction_leaf": 0,
            "random_state": null,
            "splitter": "best"
           },
           "ccp_alpha": 0,
           "criterion": "gini",
           "estimator_params": [
            "criterion",
            "max_depth",
            "min_samples_split",
            "min_samples_leaf",
            "min_weight_fraction_leaf",
            "max_features",
            "max_leaf_nodes",
            "min_impurity_decrease",
            "random_state",
            "ccp_alpha"
           ],
           "max_depth": null,
           "max_leaf_nodes": null,
           "min_impurity_decrease": 0,
           "min_samples_split": 2,
           "n_estimators": 100,
           "n_jobs": null,
           "random_state": null,
           "verbose": 0
          },
          "2": {
           "base_score": null,
           "colsample_bylevel": null,
           "colsample_bytree": null,
           "gamma": null,
           "gpu_id": null,
           "interaction_constraints": null,
           "kwargs": {
            "criterion": "entropy",
            "max_features": "auto",
            "max_samples": 0.5,
            "min_samples_split": 0.38
           },
           "max_delta_step": null,
           "min_child_weight": null,
           "monotone_constraints": null,
           "n_jobs": null,
           "objective": "binary:logistic",
           "random_state": null,
           "reg_lambda": null,
           "scale_pos_weight": null,
           "subsample": null,
           "use_label_encoder": true,
           "verbosity": null
          },
          "3": {
           "base_estimator": {
            "ccp_alpha": 0,
            "criterion": "gini",
            "max_depth": null,
            "max_leaf_nodes": null,
            "min_samples_leaf": 1,
            "min_weight_fraction_leaf": 0,
            "random_state": null,
            "splitter": "best"
           },
           "ccp_alpha": 0,
           "criterion": "gini",
           "estimator_params": [
            "criterion",
            "max_depth",
            "min_samples_split",
            "min_samples_leaf",
            "min_weight_fraction_leaf",
            "max_features",
            "max_leaf_nodes",
            "min_impurity_decrease",
            "random_state",
            "ccp_alpha"
           ],
           "max_depth": null,
           "max_leaf_nodes": null,
           "min_impurity_decrease": 0,
           "min_samples_split": 2,
           "n_estimators": 100,
           "n_jobs": null,
           "random_state": null,
           "verbose": 0
          },
          "4": {
           "base_score": null,
           "colsample_bylevel": null,
           "colsample_bytree": null,
           "gamma": null,
           "gpu_id": null,
           "interaction_constraints": null,
           "kwargs": {
            "criterion": "entropy",
            "max_features": "auto",
            "max_samples": 0.5,
            "min_samples_split": 0.38
           },
           "max_delta_step": null,
           "min_child_weight": null,
           "monotone_constraints": null,
           "n_jobs": null,
           "objective": "binary:logistic",
           "random_state": null,
           "reg_lambda": null,
           "scale_pos_weight": null,
           "subsample": null,
           "use_label_encoder": true,
           "verbosity": null
          },
          "5": {
           "base_estimator": {
            "ccp_alpha": 0,
            "criterion": "gini",
            "max_depth": null,
            "max_leaf_nodes": null,
            "min_samples_leaf": 1,
            "min_weight_fraction_leaf": 0,
            "random_state": null,
            "splitter": "best"
           },
           "ccp_alpha": 0,
           "criterion": "gini",
           "estimator_params": [
            "criterion",
            "max_depth",
            "min_samples_split",
            "min_samples_leaf",
            "min_weight_fraction_leaf",
            "max_features",
            "max_leaf_nodes",
            "min_impurity_decrease",
            "random_state",
            "ccp_alpha"
           ],
           "max_depth": null,
           "max_leaf_nodes": null,
           "min_impurity_decrease": 0,
           "min_samples_split": 2,
           "n_estimators": 100,
           "n_jobs": null,
           "random_state": null,
           "verbose": 0
          },
          "6": {
           "alpha": 0.9,
           "ccp_alpha": 0,
           "init": null,
           "loss": "deviance",
           "max_features": null,
           "min_impurity_decrease": 0,
           "min_samples_split": 2,
           "n_estimators": 100,
           "n_iter_no_change": null,
           "random_state": null,
           "subsample": 1,
           "validation_fraction": 0.1,
           "warm_start": false
          },
          "7": {
           "base_score": null,
           "colsample_bylevel": null,
           "colsample_bytree": null,
           "gamma": null,
           "gpu_id": null,
           "interaction_constraints": null,
           "kwargs": {
            "criterion": "entropy",
            "max_features": "auto",
            "max_samples": 0.5,
            "min_samples_split": 0.38
           },
           "max_delta_step": null,
           "min_child_weight": null,
           "monotone_constraints": null,
           "n_jobs": null,
           "objective": "binary:logistic",
           "random_state": null,
           "reg_lambda": null,
           "scale_pos_weight": null,
           "subsample": null,
           "use_label_encoder": true,
           "verbosity": null
          },
          "8": {
           "alpha": 0.9,
           "ccp_alpha": 0,
           "init": null,
           "loss": "deviance",
           "max_features": null,
           "min_impurity_decrease": 0,
           "min_samples_split": 2,
           "n_estimators": 100,
           "n_iter_no_change": null,
           "random_state": null,
           "subsample": 1,
           "validation_fraction": 0.1,
           "warm_start": false
          },
          "9": {
           "base_score": null,
           "colsample_bylevel": null,
           "colsample_bytree": null,
           "gamma": null,
           "gpu_id": null,
           "interaction_constraints": null,
           "kwargs": {
            "criterion": "entropy",
            "max_features": "auto",
            "max_samples": 0.5,
            "min_samples_split": 0.38
           },
           "max_delta_step": null,
           "min_child_weight": null,
           "monotone_constraints": null,
           "n_jobs": null,
           "objective": "binary:logistic",
           "random_state": null,
           "reg_lambda": null,
           "scale_pos_weight": null,
           "subsample": null,
           "use_label_encoder": true,
           "verbosity": null
          },
          "index": "param_clf"
         },
         {
          "0": {
           "clf": {
            "base_score": null,
            "colsample_bylevel": null,
            "colsample_bytree": null,
            "gamma": null,
            "gpu_id": null,
            "interaction_constraints": null,
            "kwargs": {
             "criterion": "entropy",
             "max_features": "auto",
             "max_samples": 0.5,
             "min_samples_split": 0.38
            },
            "max_delta_step": null,
            "min_child_weight": null,
            "monotone_constraints": null,
            "n_jobs": null,
            "objective": "binary:logistic",
            "random_state": null,
            "reg_lambda": null,
            "scale_pos_weight": null,
            "subsample": null,
            "use_label_encoder": true,
            "verbosity": null
           },
           "clf__criterion": "entropy",
           "clf__max_depth": 8,
           "clf__max_features": "sqrt",
           "clf__max_samples": 0.25,
           "clf__min_samples_split": 0.18,
           "clf__n_estimators": 50
          },
          "1": {
           "clf": {
            "base_estimator": {
             "ccp_alpha": 0,
             "criterion": "gini",
             "max_depth": null,
             "max_leaf_nodes": null,
             "min_samples_leaf": 1,
             "min_weight_fraction_leaf": 0,
             "random_state": null,
             "splitter": "best"
            },
            "ccp_alpha": 0,
            "criterion": "gini",
            "estimator_params": [
             "criterion",
             "max_depth",
             "min_samples_split",
             "min_samples_leaf",
             "min_weight_fraction_leaf",
             "max_features",
             "max_leaf_nodes",
             "min_impurity_decrease",
             "random_state",
             "ccp_alpha"
            ],
            "max_depth": null,
            "max_leaf_nodes": null,
            "min_impurity_decrease": 0,
            "min_samples_split": 2,
            "n_estimators": 100,
            "n_jobs": null,
            "random_state": null,
            "verbose": 0
           },
           "clf__criterion": "gini",
           "clf__max_depth": 3,
           "clf__max_features": "sqrt",
           "clf__max_samples": 0.75,
           "clf__min_samples_split": 0.34,
           "clf__n_estimators": 100
          },
          "2": {
           "clf": {
            "base_score": null,
            "colsample_bylevel": null,
            "colsample_bytree": null,
            "gamma": null,
            "gpu_id": null,
            "interaction_constraints": null,
            "kwargs": {
             "criterion": "entropy",
             "max_features": "auto",
             "max_samples": 0.5,
             "min_samples_split": 0.38
            },
            "max_delta_step": null,
            "min_child_weight": null,
            "monotone_constraints": null,
            "n_jobs": null,
            "objective": "binary:logistic",
            "random_state": null,
            "reg_lambda": null,
            "scale_pos_weight": null,
            "subsample": null,
            "use_label_encoder": true,
            "verbosity": null
           },
           "clf__criterion": "gini",
           "clf__max_depth": 4,
           "clf__max_features": "log2",
           "clf__max_samples": 0.5,
           "clf__min_samples_split": 0.14,
           "clf__n_estimators": 200
          },
          "3": {
           "clf": {
            "base_estimator": {
             "ccp_alpha": 0,
             "criterion": "gini",
             "max_depth": null,
             "max_leaf_nodes": null,
             "min_samples_leaf": 1,
             "min_weight_fraction_leaf": 0,
             "random_state": null,
             "splitter": "best"
            },
            "ccp_alpha": 0,
            "criterion": "gini",
            "estimator_params": [
             "criterion",
             "max_depth",
             "min_samples_split",
             "min_samples_leaf",
             "min_weight_fraction_leaf",
             "max_features",
             "max_leaf_nodes",
             "min_impurity_decrease",
             "random_state",
             "ccp_alpha"
            ],
            "max_depth": null,
            "max_leaf_nodes": null,
            "min_impurity_decrease": 0,
            "min_samples_split": 2,
            "n_estimators": 100,
            "n_jobs": null,
            "random_state": null,
            "verbose": 0
           },
           "clf__criterion": "gini",
           "clf__max_depth": 10,
           "clf__max_features": "log2",
           "clf__max_samples": 0.25,
           "clf__min_samples_split": 0.26,
           "clf__n_estimators": 100
          },
          "4": {
           "clf": {
            "base_score": null,
            "colsample_bylevel": null,
            "colsample_bytree": null,
            "gamma": null,
            "gpu_id": null,
            "interaction_constraints": null,
            "kwargs": {
             "criterion": "entropy",
             "max_features": "auto",
             "max_samples": 0.5,
             "min_samples_split": 0.38
            },
            "max_delta_step": null,
            "min_child_weight": null,
            "monotone_constraints": null,
            "n_jobs": null,
            "objective": "binary:logistic",
            "random_state": null,
            "reg_lambda": null,
            "scale_pos_weight": null,
            "subsample": null,
            "use_label_encoder": true,
            "verbosity": null
           },
           "clf__criterion": "gini",
           "clf__max_depth": 9,
           "clf__max_features": "log2",
           "clf__max_samples": 0.75,
           "clf__min_samples_split": 0.42,
           "clf__n_estimators": 100
          },
          "5": {
           "clf": {
            "base_estimator": {
             "ccp_alpha": 0,
             "criterion": "gini",
             "max_depth": null,
             "max_leaf_nodes": null,
             "min_samples_leaf": 1,
             "min_weight_fraction_leaf": 0,
             "random_state": null,
             "splitter": "best"
            },
            "ccp_alpha": 0,
            "criterion": "gini",
            "estimator_params": [
             "criterion",
             "max_depth",
             "min_samples_split",
             "min_samples_leaf",
             "min_weight_fraction_leaf",
             "max_features",
             "max_leaf_nodes",
             "min_impurity_decrease",
             "random_state",
             "ccp_alpha"
            ],
            "max_depth": null,
            "max_leaf_nodes": null,
            "min_impurity_decrease": 0,
            "min_samples_split": 2,
            "n_estimators": 100,
            "n_jobs": null,
            "random_state": null,
            "verbose": 0
           },
           "clf__criterion": "entropy",
           "clf__max_depth": 7,
           "clf__max_features": "sqrt",
           "clf__max_samples": 1,
           "clf__min_samples_split": 0.34,
           "clf__n_estimators": 100
          },
          "6": {
           "clf": {
            "alpha": 0.9,
            "ccp_alpha": 0,
            "init": null,
            "loss": "deviance",
            "max_features": null,
            "min_impurity_decrease": 0,
            "min_samples_split": 2,
            "n_estimators": 100,
            "n_iter_no_change": null,
            "random_state": null,
            "subsample": 1,
            "validation_fraction": 0.1,
            "warm_start": false
           },
           "clf__criterion": "gini",
           "clf__max_depth": 3,
           "clf__max_features": "sqrt",
           "clf__min_samples_split": 0.22,
           "clf__n_estimators": 100
          },
          "7": {
           "clf": {
            "base_score": null,
            "colsample_bylevel": null,
            "colsample_bytree": null,
            "gamma": null,
            "gpu_id": null,
            "interaction_constraints": null,
            "kwargs": {
             "criterion": "entropy",
             "max_features": "auto",
             "max_samples": 0.5,
             "min_samples_split": 0.38
            },
            "max_delta_step": null,
            "min_child_weight": null,
            "monotone_constraints": null,
            "n_jobs": null,
            "objective": "binary:logistic",
            "random_state": null,
            "reg_lambda": null,
            "scale_pos_weight": null,
            "subsample": null,
            "use_label_encoder": true,
            "verbosity": null
           },
           "clf__criterion": "entropy",
           "clf__max_depth": 7,
           "clf__max_features": "sqrt",
           "clf__max_samples": 0.75,
           "clf__min_samples_split": 0.22,
           "clf__n_estimators": 200
          },
          "8": {
           "clf": {
            "alpha": 0.9,
            "ccp_alpha": 0,
            "init": null,
            "loss": "deviance",
            "max_features": null,
            "min_impurity_decrease": 0,
            "min_samples_split": 2,
            "n_estimators": 100,
            "n_iter_no_change": null,
            "random_state": null,
            "subsample": 1,
            "validation_fraction": 0.1,
            "warm_start": false
           },
           "clf__criterion": "entropy",
           "clf__max_depth": 5,
           "clf__max_features": "auto",
           "clf__min_samples_split": 0.3,
           "clf__n_estimators": 50
          },
          "9": {
           "clf": {
            "base_score": null,
            "colsample_bylevel": null,
            "colsample_bytree": null,
            "gamma": null,
            "gpu_id": null,
            "interaction_constraints": null,
            "kwargs": {
             "criterion": "entropy",
             "max_features": "auto",
             "max_samples": 0.5,
             "min_samples_split": 0.38
            },
            "max_delta_step": null,
            "min_child_weight": null,
            "monotone_constraints": null,
            "n_jobs": null,
            "objective": "binary:logistic",
            "random_state": null,
            "reg_lambda": null,
            "scale_pos_weight": null,
            "subsample": null,
            "use_label_encoder": true,
            "verbosity": null
           },
           "clf__criterion": "entropy",
           "clf__max_depth": 7,
           "clf__max_features": "auto",
           "clf__max_samples": 0.5,
           "clf__min_samples_split": 0.38,
           "clf__n_estimators": 50
          },
          "index": "params"
         },
         {
          "0": 0.9309854791,
          "1": 0.6863627136,
          "2": 0.9308679439,
          "3": 0.6863627136,
          "4": 0.9294040966,
          "5": 0.6863627136,
          "6": null,
          "7": 0.9293079315,
          "8": null,
          "9": 0.9308252038,
          "index": "split0_test_score"
         },
         {
          "0": 0.9314235647,
          "1": 0.6878799859,
          "2": 0.9315410999,
          "3": 0.6878799859,
          "4": 0.9300879377,
          "5": 0.6878799859,
          "6": null,
          "7": 0.9304084882,
          "8": null,
          "9": 0.9322142559,
          "index": "split1_test_score"
         },
         {
          "0": 0.9299276624,
          "1": 0.6863520286,
          "2": 0.9306115035,
          "3": 0.6863520286,
          "4": 0.92834628,
          "5": 0.6863520286,
          "6": null,
          "7": 0.9284958702,
          "8": null,
          "9": 0.9304832833,
          "index": "split2_test_score"
         },
         {
          "0": 0.9307789021,
          "1": 0.6868649093,
          "2": 0.9310068491,
          "3": 0.6868649093,
          "4": 0.9292794381,
          "5": 0.6868649093,
          "6": null,
          "7": 0.9294040966,
          "8": null,
          "9": 0.9311742477,
          "index": "mean_test_score"
         },
         {
          "0": 0.0006279259,
          "1": 0.0007177808,
          "2": 0.0003920105,
          "3": 0.0007177808,
          "4": 0.0007164718,
          "5": 0.0007177808,
          "6": null,
          "7": 0.0007837783,
          "8": null,
          "9": 0.0007485276,
          "index": "std_test_score"
         },
         {
          "0": 3,
          "1": 6,
          "2": 2,
          "3": 6,
          "4": 5,
          "5": 6,
          "6": 9,
          "7": 4,
          "8": 10,
          "9": 1,
          "index": "rank_test_score"
         }
        ],
        "schema": {
         "fields": [
          {
           "name": "index",
           "type": "string"
          },
          {
           "name": 0,
           "type": "string"
          },
          {
           "name": 1,
           "type": "string"
          },
          {
           "name": 2,
           "type": "string"
          },
          {
           "name": 3,
           "type": "string"
          },
          {
           "name": 4,
           "type": "string"
          },
          {
           "name": 5,
           "type": "string"
          },
          {
           "name": 6,
           "type": "string"
          },
          {
           "name": 7,
           "type": "string"
          },
          {
           "name": 8,
           "type": "string"
          },
          {
           "name": 9,
           "type": "string"
          }
         ],
         "pandas_version": "0.20.0",
         "primaryKey": [
          "index"
         ]
        }
       },
       "total_rows": 18
      },
      "text/html": [
       "<div>\n",
       "<style scoped>\n",
       "    .dataframe tbody tr th:only-of-type {\n",
       "        vertical-align: middle;\n",
       "    }\n",
       "\n",
       "    .dataframe tbody tr th {\n",
       "        vertical-align: top;\n",
       "    }\n",
       "\n",
       "    .dataframe thead th {\n",
       "        text-align: right;\n",
       "    }\n",
       "</style>\n",
       "<table border=\"1\" class=\"dataframe\">\n",
       "  <thead>\n",
       "    <tr style=\"text-align: right;\">\n",
       "      <th></th>\n",
       "      <th>0</th>\n",
       "      <th>1</th>\n",
       "      <th>2</th>\n",
       "      <th>3</th>\n",
       "      <th>4</th>\n",
       "      <th>5</th>\n",
       "      <th>6</th>\n",
       "      <th>7</th>\n",
       "      <th>8</th>\n",
       "      <th>9</th>\n",
       "    </tr>\n",
       "  </thead>\n",
       "  <tbody>\n",
       "    <tr>\n",
       "      <th>mean_fit_time</th>\n",
       "      <td>62.453743</td>\n",
       "      <td>6.975771</td>\n",
       "      <td>117.510913</td>\n",
       "      <td>1.563657</td>\n",
       "      <td>131.90971</td>\n",
       "      <td>1.445917</td>\n",
       "      <td>0.037158</td>\n",
       "      <td>202.33841</td>\n",
       "      <td>0.039387</td>\n",
       "      <td>51.23005</td>\n",
       "    </tr>\n",
       "    <tr>\n",
       "      <th>std_fit_time</th>\n",
       "      <td>0.589397</td>\n",
       "      <td>0.290986</td>\n",
       "      <td>0.850715</td>\n",
       "      <td>0.028264</td>\n",
       "      <td>3.794974</td>\n",
       "      <td>0.022626</td>\n",
       "      <td>0.000812</td>\n",
       "      <td>0.727909</td>\n",
       "      <td>0.004357</td>\n",
       "      <td>1.35348</td>\n",
       "    </tr>\n",
       "    <tr>\n",
       "      <th>mean_score_time</th>\n",
       "      <td>0.315884</td>\n",
       "      <td>0.421356</td>\n",
       "      <td>0.319495</td>\n",
       "      <td>0.321973</td>\n",
       "      <td>0.372041</td>\n",
       "      <td>0.329985</td>\n",
       "      <td>0.0</td>\n",
       "      <td>0.479793</td>\n",
       "      <td>0.0</td>\n",
       "      <td>0.294225</td>\n",
       "    </tr>\n",
       "    <tr>\n",
       "      <th>std_score_time</th>\n",
       "      <td>0.09397</td>\n",
       "      <td>0.003588</td>\n",
       "      <td>0.088852</td>\n",
       "      <td>0.00125</td>\n",
       "      <td>0.045265</td>\n",
       "      <td>0.007969</td>\n",
       "      <td>0.0</td>\n",
       "      <td>0.076971</td>\n",
       "      <td>0.0</td>\n",
       "      <td>0.072109</td>\n",
       "    </tr>\n",
       "    <tr>\n",
       "      <th>param_clf__n_estimators</th>\n",
       "      <td>50</td>\n",
       "      <td>100</td>\n",
       "      <td>200</td>\n",
       "      <td>100</td>\n",
       "      <td>100</td>\n",
       "      <td>100</td>\n",
       "      <td>100</td>\n",
       "      <td>200</td>\n",
       "      <td>50</td>\n",
       "      <td>50</td>\n",
       "    </tr>\n",
       "    <tr>\n",
       "      <th>param_clf__min_samples_split</th>\n",
       "      <td>0.18</td>\n",
       "      <td>0.34</td>\n",
       "      <td>0.14</td>\n",
       "      <td>0.26</td>\n",
       "      <td>0.42</td>\n",
       "      <td>0.34</td>\n",
       "      <td>0.22</td>\n",
       "      <td>0.22</td>\n",
       "      <td>0.3</td>\n",
       "      <td>0.38</td>\n",
       "    </tr>\n",
       "    <tr>\n",
       "      <th>param_clf__max_samples</th>\n",
       "      <td>0.25</td>\n",
       "      <td>0.75</td>\n",
       "      <td>0.5</td>\n",
       "      <td>0.25</td>\n",
       "      <td>0.75</td>\n",
       "      <td>1</td>\n",
       "      <td>NaN</td>\n",
       "      <td>0.75</td>\n",
       "      <td>NaN</td>\n",
       "      <td>0.5</td>\n",
       "    </tr>\n",
       "    <tr>\n",
       "      <th>param_clf__max_features</th>\n",
       "      <td>sqrt</td>\n",
       "      <td>sqrt</td>\n",
       "      <td>log2</td>\n",
       "      <td>log2</td>\n",
       "      <td>log2</td>\n",
       "      <td>sqrt</td>\n",
       "      <td>sqrt</td>\n",
       "      <td>sqrt</td>\n",
       "      <td>auto</td>\n",
       "      <td>auto</td>\n",
       "    </tr>\n",
       "    <tr>\n",
       "      <th>param_clf__max_depth</th>\n",
       "      <td>8</td>\n",
       "      <td>3</td>\n",
       "      <td>4</td>\n",
       "      <td>10</td>\n",
       "      <td>9</td>\n",
       "      <td>7</td>\n",
       "      <td>3</td>\n",
       "      <td>7</td>\n",
       "      <td>5</td>\n",
       "      <td>7</td>\n",
       "    </tr>\n",
       "    <tr>\n",
       "      <th>param_clf__criterion</th>\n",
       "      <td>entropy</td>\n",
       "      <td>gini</td>\n",
       "      <td>gini</td>\n",
       "      <td>gini</td>\n",
       "      <td>gini</td>\n",
       "      <td>entropy</td>\n",
       "      <td>gini</td>\n",
       "      <td>entropy</td>\n",
       "      <td>entropy</td>\n",
       "      <td>entropy</td>\n",
       "    </tr>\n",
       "    <tr>\n",
       "      <th>param_clf</th>\n",
       "      <td>XGBClassifier(base_score=None, booster=None, c...</td>\n",
       "      <td>RandomForestClassifier()</td>\n",
       "      <td>XGBClassifier(base_score=None, booster=None, c...</td>\n",
       "      <td>RandomForestClassifier()</td>\n",
       "      <td>XGBClassifier(base_score=None, booster=None, c...</td>\n",
       "      <td>RandomForestClassifier()</td>\n",
       "      <td>GradientBoostingClassifier()</td>\n",
       "      <td>XGBClassifier(base_score=None, booster=None, c...</td>\n",
       "      <td>GradientBoostingClassifier()</td>\n",
       "      <td>XGBClassifier(base_score=None, booster=None, c...</td>\n",
       "    </tr>\n",
       "    <tr>\n",
       "      <th>params</th>\n",
       "      <td>{'clf__n_estimators': 50, 'clf__min_samples_sp...</td>\n",
       "      <td>{'clf__n_estimators': 100, 'clf__min_samples_s...</td>\n",
       "      <td>{'clf__n_estimators': 200, 'clf__min_samples_s...</td>\n",
       "      <td>{'clf__n_estimators': 100, 'clf__min_samples_s...</td>\n",
       "      <td>{'clf__n_estimators': 100, 'clf__min_samples_s...</td>\n",
       "      <td>{'clf__n_estimators': 100, 'clf__min_samples_s...</td>\n",
       "      <td>{'clf__n_estimators': 100, 'clf__min_samples_s...</td>\n",
       "      <td>{'clf__n_estimators': 200, 'clf__min_samples_s...</td>\n",
       "      <td>{'clf__n_estimators': 50, 'clf__min_samples_sp...</td>\n",
       "      <td>{'clf__n_estimators': 50, 'clf__min_samples_sp...</td>\n",
       "    </tr>\n",
       "    <tr>\n",
       "      <th>split0_test_score</th>\n",
       "      <td>0.930985</td>\n",
       "      <td>0.686363</td>\n",
       "      <td>0.930868</td>\n",
       "      <td>0.686363</td>\n",
       "      <td>0.929404</td>\n",
       "      <td>0.686363</td>\n",
       "      <td>NaN</td>\n",
       "      <td>0.929308</td>\n",
       "      <td>NaN</td>\n",
       "      <td>0.930825</td>\n",
       "    </tr>\n",
       "    <tr>\n",
       "      <th>split1_test_score</th>\n",
       "      <td>0.931424</td>\n",
       "      <td>0.68788</td>\n",
       "      <td>0.931541</td>\n",
       "      <td>0.68788</td>\n",
       "      <td>0.930088</td>\n",
       "      <td>0.68788</td>\n",
       "      <td>NaN</td>\n",
       "      <td>0.930408</td>\n",
       "      <td>NaN</td>\n",
       "      <td>0.932214</td>\n",
       "    </tr>\n",
       "    <tr>\n",
       "      <th>split2_test_score</th>\n",
       "      <td>0.929928</td>\n",
       "      <td>0.686352</td>\n",
       "      <td>0.930612</td>\n",
       "      <td>0.686352</td>\n",
       "      <td>0.928346</td>\n",
       "      <td>0.686352</td>\n",
       "      <td>NaN</td>\n",
       "      <td>0.928496</td>\n",
       "      <td>NaN</td>\n",
       "      <td>0.930483</td>\n",
       "    </tr>\n",
       "    <tr>\n",
       "      <th>mean_test_score</th>\n",
       "      <td>0.930779</td>\n",
       "      <td>0.686865</td>\n",
       "      <td>0.931007</td>\n",
       "      <td>0.686865</td>\n",
       "      <td>0.929279</td>\n",
       "      <td>0.686865</td>\n",
       "      <td>NaN</td>\n",
       "      <td>0.929404</td>\n",
       "      <td>NaN</td>\n",
       "      <td>0.931174</td>\n",
       "    </tr>\n",
       "    <tr>\n",
       "      <th>std_test_score</th>\n",
       "      <td>0.000628</td>\n",
       "      <td>0.000718</td>\n",
       "      <td>0.000392</td>\n",
       "      <td>0.000718</td>\n",
       "      <td>0.000716</td>\n",
       "      <td>0.000718</td>\n",
       "      <td>NaN</td>\n",
       "      <td>0.000784</td>\n",
       "      <td>NaN</td>\n",
       "      <td>0.000749</td>\n",
       "    </tr>\n",
       "    <tr>\n",
       "      <th>rank_test_score</th>\n",
       "      <td>3</td>\n",
       "      <td>6</td>\n",
       "      <td>2</td>\n",
       "      <td>6</td>\n",
       "      <td>5</td>\n",
       "      <td>6</td>\n",
       "      <td>9</td>\n",
       "      <td>4</td>\n",
       "      <td>10</td>\n",
       "      <td>1</td>\n",
       "    </tr>\n",
       "  </tbody>\n",
       "</table>\n",
       "</div>"
      ],
      "text/plain": [
       "                                                                              0  \\\n",
       "mean_fit_time                                                         62.453743   \n",
       "std_fit_time                                                           0.589397   \n",
       "mean_score_time                                                        0.315884   \n",
       "std_score_time                                                          0.09397   \n",
       "param_clf__n_estimators                                                      50   \n",
       "param_clf__min_samples_split                                               0.18   \n",
       "param_clf__max_samples                                                     0.25   \n",
       "param_clf__max_features                                                    sqrt   \n",
       "param_clf__max_depth                                                          8   \n",
       "param_clf__criterion                                                    entropy   \n",
       "param_clf                     XGBClassifier(base_score=None, booster=None, c...   \n",
       "params                        {'clf__n_estimators': 50, 'clf__min_samples_sp...   \n",
       "split0_test_score                                                      0.930985   \n",
       "split1_test_score                                                      0.931424   \n",
       "split2_test_score                                                      0.929928   \n",
       "mean_test_score                                                        0.930779   \n",
       "std_test_score                                                         0.000628   \n",
       "rank_test_score                                                               3   \n",
       "\n",
       "                                                                              1  \\\n",
       "mean_fit_time                                                          6.975771   \n",
       "std_fit_time                                                           0.290986   \n",
       "mean_score_time                                                        0.421356   \n",
       "std_score_time                                                         0.003588   \n",
       "param_clf__n_estimators                                                     100   \n",
       "param_clf__min_samples_split                                               0.34   \n",
       "param_clf__max_samples                                                     0.75   \n",
       "param_clf__max_features                                                    sqrt   \n",
       "param_clf__max_depth                                                          3   \n",
       "param_clf__criterion                                                       gini   \n",
       "param_clf                                              RandomForestClassifier()   \n",
       "params                        {'clf__n_estimators': 100, 'clf__min_samples_s...   \n",
       "split0_test_score                                                      0.686363   \n",
       "split1_test_score                                                       0.68788   \n",
       "split2_test_score                                                      0.686352   \n",
       "mean_test_score                                                        0.686865   \n",
       "std_test_score                                                         0.000718   \n",
       "rank_test_score                                                               6   \n",
       "\n",
       "                                                                              2  \\\n",
       "mean_fit_time                                                        117.510913   \n",
       "std_fit_time                                                           0.850715   \n",
       "mean_score_time                                                        0.319495   \n",
       "std_score_time                                                         0.088852   \n",
       "param_clf__n_estimators                                                     200   \n",
       "param_clf__min_samples_split                                               0.14   \n",
       "param_clf__max_samples                                                      0.5   \n",
       "param_clf__max_features                                                    log2   \n",
       "param_clf__max_depth                                                          4   \n",
       "param_clf__criterion                                                       gini   \n",
       "param_clf                     XGBClassifier(base_score=None, booster=None, c...   \n",
       "params                        {'clf__n_estimators': 200, 'clf__min_samples_s...   \n",
       "split0_test_score                                                      0.930868   \n",
       "split1_test_score                                                      0.931541   \n",
       "split2_test_score                                                      0.930612   \n",
       "mean_test_score                                                        0.931007   \n",
       "std_test_score                                                         0.000392   \n",
       "rank_test_score                                                               2   \n",
       "\n",
       "                                                                              3  \\\n",
       "mean_fit_time                                                          1.563657   \n",
       "std_fit_time                                                           0.028264   \n",
       "mean_score_time                                                        0.321973   \n",
       "std_score_time                                                          0.00125   \n",
       "param_clf__n_estimators                                                     100   \n",
       "param_clf__min_samples_split                                               0.26   \n",
       "param_clf__max_samples                                                     0.25   \n",
       "param_clf__max_features                                                    log2   \n",
       "param_clf__max_depth                                                         10   \n",
       "param_clf__criterion                                                       gini   \n",
       "param_clf                                              RandomForestClassifier()   \n",
       "params                        {'clf__n_estimators': 100, 'clf__min_samples_s...   \n",
       "split0_test_score                                                      0.686363   \n",
       "split1_test_score                                                       0.68788   \n",
       "split2_test_score                                                      0.686352   \n",
       "mean_test_score                                                        0.686865   \n",
       "std_test_score                                                         0.000718   \n",
       "rank_test_score                                                               6   \n",
       "\n",
       "                                                                              4  \\\n",
       "mean_fit_time                                                         131.90971   \n",
       "std_fit_time                                                           3.794974   \n",
       "mean_score_time                                                        0.372041   \n",
       "std_score_time                                                         0.045265   \n",
       "param_clf__n_estimators                                                     100   \n",
       "param_clf__min_samples_split                                               0.42   \n",
       "param_clf__max_samples                                                     0.75   \n",
       "param_clf__max_features                                                    log2   \n",
       "param_clf__max_depth                                                          9   \n",
       "param_clf__criterion                                                       gini   \n",
       "param_clf                     XGBClassifier(base_score=None, booster=None, c...   \n",
       "params                        {'clf__n_estimators': 100, 'clf__min_samples_s...   \n",
       "split0_test_score                                                      0.929404   \n",
       "split1_test_score                                                      0.930088   \n",
       "split2_test_score                                                      0.928346   \n",
       "mean_test_score                                                        0.929279   \n",
       "std_test_score                                                         0.000716   \n",
       "rank_test_score                                                               5   \n",
       "\n",
       "                                                                              5  \\\n",
       "mean_fit_time                                                          1.445917   \n",
       "std_fit_time                                                           0.022626   \n",
       "mean_score_time                                                        0.329985   \n",
       "std_score_time                                                         0.007969   \n",
       "param_clf__n_estimators                                                     100   \n",
       "param_clf__min_samples_split                                               0.34   \n",
       "param_clf__max_samples                                                        1   \n",
       "param_clf__max_features                                                    sqrt   \n",
       "param_clf__max_depth                                                          7   \n",
       "param_clf__criterion                                                    entropy   \n",
       "param_clf                                              RandomForestClassifier()   \n",
       "params                        {'clf__n_estimators': 100, 'clf__min_samples_s...   \n",
       "split0_test_score                                                      0.686363   \n",
       "split1_test_score                                                       0.68788   \n",
       "split2_test_score                                                      0.686352   \n",
       "mean_test_score                                                        0.686865   \n",
       "std_test_score                                                         0.000718   \n",
       "rank_test_score                                                               6   \n",
       "\n",
       "                                                                              6  \\\n",
       "mean_fit_time                                                          0.037158   \n",
       "std_fit_time                                                           0.000812   \n",
       "mean_score_time                                                             0.0   \n",
       "std_score_time                                                              0.0   \n",
       "param_clf__n_estimators                                                     100   \n",
       "param_clf__min_samples_split                                               0.22   \n",
       "param_clf__max_samples                                                      NaN   \n",
       "param_clf__max_features                                                    sqrt   \n",
       "param_clf__max_depth                                                          3   \n",
       "param_clf__criterion                                                       gini   \n",
       "param_clf                                          GradientBoostingClassifier()   \n",
       "params                        {'clf__n_estimators': 100, 'clf__min_samples_s...   \n",
       "split0_test_score                                                           NaN   \n",
       "split1_test_score                                                           NaN   \n",
       "split2_test_score                                                           NaN   \n",
       "mean_test_score                                                             NaN   \n",
       "std_test_score                                                              NaN   \n",
       "rank_test_score                                                               9   \n",
       "\n",
       "                                                                              7  \\\n",
       "mean_fit_time                                                         202.33841   \n",
       "std_fit_time                                                           0.727909   \n",
       "mean_score_time                                                        0.479793   \n",
       "std_score_time                                                         0.076971   \n",
       "param_clf__n_estimators                                                     200   \n",
       "param_clf__min_samples_split                                               0.22   \n",
       "param_clf__max_samples                                                     0.75   \n",
       "param_clf__max_features                                                    sqrt   \n",
       "param_clf__max_depth                                                          7   \n",
       "param_clf__criterion                                                    entropy   \n",
       "param_clf                     XGBClassifier(base_score=None, booster=None, c...   \n",
       "params                        {'clf__n_estimators': 200, 'clf__min_samples_s...   \n",
       "split0_test_score                                                      0.929308   \n",
       "split1_test_score                                                      0.930408   \n",
       "split2_test_score                                                      0.928496   \n",
       "mean_test_score                                                        0.929404   \n",
       "std_test_score                                                         0.000784   \n",
       "rank_test_score                                                               4   \n",
       "\n",
       "                                                                              8  \\\n",
       "mean_fit_time                                                          0.039387   \n",
       "std_fit_time                                                           0.004357   \n",
       "mean_score_time                                                             0.0   \n",
       "std_score_time                                                              0.0   \n",
       "param_clf__n_estimators                                                      50   \n",
       "param_clf__min_samples_split                                                0.3   \n",
       "param_clf__max_samples                                                      NaN   \n",
       "param_clf__max_features                                                    auto   \n",
       "param_clf__max_depth                                                          5   \n",
       "param_clf__criterion                                                    entropy   \n",
       "param_clf                                          GradientBoostingClassifier()   \n",
       "params                        {'clf__n_estimators': 50, 'clf__min_samples_sp...   \n",
       "split0_test_score                                                           NaN   \n",
       "split1_test_score                                                           NaN   \n",
       "split2_test_score                                                           NaN   \n",
       "mean_test_score                                                             NaN   \n",
       "std_test_score                                                              NaN   \n",
       "rank_test_score                                                              10   \n",
       "\n",
       "                                                                              9  \n",
       "mean_fit_time                                                          51.23005  \n",
       "std_fit_time                                                            1.35348  \n",
       "mean_score_time                                                        0.294225  \n",
       "std_score_time                                                         0.072109  \n",
       "param_clf__n_estimators                                                      50  \n",
       "param_clf__min_samples_split                                               0.38  \n",
       "param_clf__max_samples                                                      0.5  \n",
       "param_clf__max_features                                                    auto  \n",
       "param_clf__max_depth                                                          7  \n",
       "param_clf__criterion                                                    entropy  \n",
       "param_clf                     XGBClassifier(base_score=None, booster=None, c...  \n",
       "params                        {'clf__n_estimators': 50, 'clf__min_samples_sp...  \n",
       "split0_test_score                                                      0.930825  \n",
       "split1_test_score                                                      0.932214  \n",
       "split2_test_score                                                      0.930483  \n",
       "mean_test_score                                                        0.931174  \n",
       "std_test_score                                                         0.000749  \n",
       "rank_test_score                                                               1  "
      ]
     },
     "execution_count": 21,
     "metadata": {},
     "output_type": "execute_result"
    }
   ],
   "source": [
    "df_rs_res.head(10).T"
   ]
  },
  {
   "cell_type": "markdown",
   "id": "c2ada5cf-2be1-4e65-b60c-67cdb5ea4dc6",
   "metadata": {},
   "source": [
    "Let's group by `param_clf`.\n",
    "\n",
    "Actually, turns out that this object is actually a Classifier object, and `pandas` doesn't know how to perform `agg`s on it. So we'll need to figure out a way to get a string representing the type of classifier it is."
   ]
  },
  {
   "cell_type": "code",
   "execution_count": 22,
   "id": "5bb8b8de-4d68-4fca-8d8c-45abafe33fbd",
   "metadata": {},
   "outputs": [],
   "source": [
    "df_rs_res['type_clf'] = df_rs_res['param_clf'].apply(lambda x: type(x).__name__)"
   ]
  },
  {
   "cell_type": "code",
   "execution_count": 23,
   "id": "8c8cc5d0-91f1-42de-9883-dca44a80bbe9",
   "metadata": {},
   "outputs": [
    {
     "data": {
      "application/com.datacamp.data-table.v1+json": {
       "is_truncated": false,
       "table": {
        "data": [
         {
          "mean_test_score": null,
          "type_clf": "GradientBoostingClassifier"
         },
         {
          "mean_test_score": 0.6868649093,
          "type_clf": "RandomForestClassifier"
         },
         {
          "mean_test_score": 0.9303287067,
          "type_clf": "XGBClassifier"
         }
        ],
        "schema": {
         "fields": [
          {
           "name": "type_clf",
           "type": "string"
          },
          {
           "name": "mean_test_score",
           "type": "number"
          }
         ],
         "pandas_version": "0.20.0",
         "primaryKey": [
          "type_clf"
         ]
        }
       },
       "total_rows": 3
      },
      "text/html": [
       "<div>\n",
       "<style scoped>\n",
       "    .dataframe tbody tr th:only-of-type {\n",
       "        vertical-align: middle;\n",
       "    }\n",
       "\n",
       "    .dataframe tbody tr th {\n",
       "        vertical-align: top;\n",
       "    }\n",
       "\n",
       "    .dataframe thead th {\n",
       "        text-align: right;\n",
       "    }\n",
       "</style>\n",
       "<table border=\"1\" class=\"dataframe\">\n",
       "  <thead>\n",
       "    <tr style=\"text-align: right;\">\n",
       "      <th></th>\n",
       "      <th>mean_test_score</th>\n",
       "    </tr>\n",
       "    <tr>\n",
       "      <th>type_clf</th>\n",
       "      <th></th>\n",
       "    </tr>\n",
       "  </thead>\n",
       "  <tbody>\n",
       "    <tr>\n",
       "      <th>GradientBoostingClassifier</th>\n",
       "      <td>NaN</td>\n",
       "    </tr>\n",
       "    <tr>\n",
       "      <th>RandomForestClassifier</th>\n",
       "      <td>0.686865</td>\n",
       "    </tr>\n",
       "    <tr>\n",
       "      <th>XGBClassifier</th>\n",
       "      <td>0.930329</td>\n",
       "    </tr>\n",
       "  </tbody>\n",
       "</table>\n",
       "</div>"
      ],
      "text/plain": [
       "                            mean_test_score\n",
       "type_clf                                   \n",
       "GradientBoostingClassifier              NaN\n",
       "RandomForestClassifier             0.686865\n",
       "XGBClassifier                      0.930329"
      ]
     },
     "execution_count": 23,
     "metadata": {},
     "output_type": "execute_result"
    }
   ],
   "source": [
    "df_rs_res.groupby(['type_clf']).agg({'mean_test_score': 'mean'})"
   ]
  },
  {
   "cell_type": "markdown",
   "id": "eb9f9843-a03b-4781-a00d-9024fc055ca8",
   "metadata": {
    "tags": []
   },
   "source": [
    "Looks like that the GBM I added might have had bad parameters. Additionally, looks like Logistic Regression never made it in. I will need to look into both.\n",
    "\n",
    "Let's test with just the GBM grid."
   ]
  },
  {
   "cell_type": "code",
   "execution_count": 53,
   "id": "be7d483a-96f3-4051-9975-fef714415b10",
   "metadata": {},
   "outputs": [],
   "source": [
    "# Create a pipeline\n",
    "pipe_2 = Pipeline([('clf', DummyEstimator())]) # Placeholder Estimator\n",
    "\n",
    "# Candidate learning algorithms and their hyperparameters\n",
    "# For selected hyperparameters aimed to select a reasonable range for each.\n",
    "search_space = [{'clf': [GradientBoostingClassifier()],  # Actual Estimator\n",
    "                 'clf__learning_rate': [0.001, 0.01, 0.1, 0.3],\n",
    "                 'clf__n_estimators': [50, 100, 200, 400],\n",
    "                 'clf__max_depth': np.arange(3,11,1),\n",
    "                 'clf__min_samples_split': np.linspace(0.1, 0.5, 10, endpoint=False),\n",
    "                 'clf__max_features': [\"auto\", \"sqrt\", \"log2\"],\n",
    "                }\n",
    "               ]\n",
    "\n",
    "# GradientBoostingClassifier(\n",
    "# RandomForestClassifier(\n",
    "    \n",
    "# Create grid search \n",
    "# gs = GridSearchCV(pipe, search_space, random_state=random_state)\n",
    "rs_2 = RandomizedSearchCV(pipe_2, search_space, random_state=random_state\n",
    "                        ,n_iter=10 # To limit search time \n",
    "                        ,cv=2      # I like 5 as rule of thumb, but again to limit search time\n",
    "                        ,verbose=True, refit=True, scoring='accuracy')"
   ]
  },
  {
   "cell_type": "markdown",
   "id": "769a0eff-f41a-4f0b-8a36-6c8b82ee8aec",
   "metadata": {},
   "source": [
    "Fit the random search cv object."
   ]
  },
  {
   "cell_type": "code",
   "execution_count": 54,
   "id": "97f41f68-c090-49d1-bba5-7ea9d859521f",
   "metadata": {},
   "outputs": [
    {
     "name": "stdout",
     "output_type": "stream",
     "text": [
      "Fitting 2 folds for each of 10 candidates, totalling 20 fits\n"
     ]
    }
   ],
   "source": [
    "rs_results_2 = rs_2.fit(X_train, y_train)"
   ]
  },
  {
   "cell_type": "code",
   "execution_count": 55,
   "id": "49d53c51-434b-4284-9430-426c0d22f1af",
   "metadata": {},
   "outputs": [
    {
     "data": {
      "text/plain": [
       "{'mean_fit_time': array([ 30.53026021,  63.40619898,   9.62312722,  57.45315933,\n",
       "         13.87986457,  41.52631819,  11.84277916,  37.22349918,\n",
       "        250.34181857, 275.22873259]),\n",
       " 'std_fit_time': array([0.4748894 , 0.06086659, 0.17480278, 0.1748364 , 0.12247169,\n",
       "        0.78909934, 0.29861212, 0.47789991, 0.95397139, 8.64056563]),\n",
       " 'mean_score_time': array([0.57724845, 1.12949419, 0.18323421, 1.00529218, 0.23878634,\n",
       "        0.21309173, 0.22336113, 0.1950556 , 1.09769142, 0.77375615]),\n",
       " 'std_score_time': array([0.00898397, 0.00578666, 0.00346708, 0.0024755 , 0.00165403,\n",
       "        0.00184429, 0.00147474, 0.00047338, 0.00715911, 0.01001489]),\n",
       " 'param_clf__n_estimators': masked_array(data=[200, 400, 50, 400, 100, 100, 100, 50, 400, 400],\n",
       "              mask=[False, False, False, False, False, False, False, False,\n",
       "                    False, False],\n",
       "        fill_value='?',\n",
       "             dtype=object),\n",
       " 'param_clf__min_samples_split': masked_array(data=[0.26, 0.26, 0.1, 0.30000000000000004,\n",
       "                    0.42000000000000004, 0.42000000000000004,\n",
       "                    0.42000000000000004, 0.14, 0.1, 0.45999999999999996],\n",
       "              mask=[False, False, False, False, False, False, False, False,\n",
       "                    False, False],\n",
       "        fill_value='?',\n",
       "             dtype=object),\n",
       " 'param_clf__max_features': masked_array(data=['sqrt', 'sqrt', 'log2', 'log2', 'log2', 'auto', 'sqrt',\n",
       "                    'auto', 'auto', 'auto'],\n",
       "              mask=[False, False, False, False, False, False, False, False,\n",
       "                    False, False],\n",
       "        fill_value='?',\n",
       "             dtype=object),\n",
       " 'param_clf__max_depth': masked_array(data=[6, 10, 5, 5, 7, 5, 4, 7, 4, 6],\n",
       "              mask=[False, False, False, False, False, False, False, False,\n",
       "                    False, False],\n",
       "        fill_value='?',\n",
       "             dtype=object),\n",
       " 'param_clf__learning_rate': masked_array(data=[0.001, 0.001, 0.1, 0.001, 0.3, 0.1, 0.01, 0.1, 0.001,\n",
       "                    0.3],\n",
       "              mask=[False, False, False, False, False, False, False, False,\n",
       "                    False, False],\n",
       "        fill_value='?',\n",
       "             dtype=object),\n",
       " 'param_clf': masked_array(data=[GradientBoostingClassifier(learning_rate=0.3, max_depth=6, max_features='auto',\n",
       "                                               min_samples_split=0.45999999999999996,\n",
       "                                               n_estimators=400)                                   ,\n",
       "                    GradientBoostingClassifier(learning_rate=0.3, max_depth=6, max_features='auto',\n",
       "                                               min_samples_split=0.45999999999999996,\n",
       "                                               n_estimators=400)                                   ,\n",
       "                    GradientBoostingClassifier(learning_rate=0.3, max_depth=6, max_features='auto',\n",
       "                                               min_samples_split=0.45999999999999996,\n",
       "                                               n_estimators=400)                                   ,\n",
       "                    GradientBoostingClassifier(learning_rate=0.3, max_depth=6, max_features='auto',\n",
       "                                               min_samples_split=0.45999999999999996,\n",
       "                                               n_estimators=400)                                   ,\n",
       "                    GradientBoostingClassifier(learning_rate=0.3, max_depth=6, max_features='auto',\n",
       "                                               min_samples_split=0.45999999999999996,\n",
       "                                               n_estimators=400)                                   ,\n",
       "                    GradientBoostingClassifier(learning_rate=0.3, max_depth=6, max_features='auto',\n",
       "                                               min_samples_split=0.45999999999999996,\n",
       "                                               n_estimators=400)                                   ,\n",
       "                    GradientBoostingClassifier(learning_rate=0.3, max_depth=6, max_features='auto',\n",
       "                                               min_samples_split=0.45999999999999996,\n",
       "                                               n_estimators=400)                                   ,\n",
       "                    GradientBoostingClassifier(learning_rate=0.3, max_depth=6, max_features='auto',\n",
       "                                               min_samples_split=0.45999999999999996,\n",
       "                                               n_estimators=400)                                   ,\n",
       "                    GradientBoostingClassifier(learning_rate=0.3, max_depth=6, max_features='auto',\n",
       "                                               min_samples_split=0.45999999999999996,\n",
       "                                               n_estimators=400)                                   ,\n",
       "                    GradientBoostingClassifier(learning_rate=0.3, max_depth=6, max_features='auto',\n",
       "                                               min_samples_split=0.45999999999999996,\n",
       "                                               n_estimators=400)                                   ],\n",
       "              mask=[False, False, False, False, False, False, False, False,\n",
       "                    False, False],\n",
       "        fill_value='?',\n",
       "             dtype=object),\n",
       " 'params': [{'clf__n_estimators': 200,\n",
       "   'clf__min_samples_split': 0.26,\n",
       "   'clf__max_features': 'sqrt',\n",
       "   'clf__max_depth': 6,\n",
       "   'clf__learning_rate': 0.001,\n",
       "   'clf': GradientBoostingClassifier(learning_rate=0.3, max_depth=6, max_features='auto',\n",
       "                              min_samples_split=0.45999999999999996,\n",
       "                              n_estimators=400)},\n",
       "  {'clf__n_estimators': 400,\n",
       "   'clf__min_samples_split': 0.26,\n",
       "   'clf__max_features': 'sqrt',\n",
       "   'clf__max_depth': 10,\n",
       "   'clf__learning_rate': 0.001,\n",
       "   'clf': GradientBoostingClassifier(learning_rate=0.3, max_depth=6, max_features='auto',\n",
       "                              min_samples_split=0.45999999999999996,\n",
       "                              n_estimators=400)},\n",
       "  {'clf__n_estimators': 50,\n",
       "   'clf__min_samples_split': 0.1,\n",
       "   'clf__max_features': 'log2',\n",
       "   'clf__max_depth': 5,\n",
       "   'clf__learning_rate': 0.1,\n",
       "   'clf': GradientBoostingClassifier(learning_rate=0.3, max_depth=6, max_features='auto',\n",
       "                              min_samples_split=0.45999999999999996,\n",
       "                              n_estimators=400)},\n",
       "  {'clf__n_estimators': 400,\n",
       "   'clf__min_samples_split': 0.30000000000000004,\n",
       "   'clf__max_features': 'log2',\n",
       "   'clf__max_depth': 5,\n",
       "   'clf__learning_rate': 0.001,\n",
       "   'clf': GradientBoostingClassifier(learning_rate=0.3, max_depth=6, max_features='auto',\n",
       "                              min_samples_split=0.45999999999999996,\n",
       "                              n_estimators=400)},\n",
       "  {'clf__n_estimators': 100,\n",
       "   'clf__min_samples_split': 0.42000000000000004,\n",
       "   'clf__max_features': 'log2',\n",
       "   'clf__max_depth': 7,\n",
       "   'clf__learning_rate': 0.3,\n",
       "   'clf': GradientBoostingClassifier(learning_rate=0.3, max_depth=6, max_features='auto',\n",
       "                              min_samples_split=0.45999999999999996,\n",
       "                              n_estimators=400)},\n",
       "  {'clf__n_estimators': 100,\n",
       "   'clf__min_samples_split': 0.42000000000000004,\n",
       "   'clf__max_features': 'auto',\n",
       "   'clf__max_depth': 5,\n",
       "   'clf__learning_rate': 0.1,\n",
       "   'clf': GradientBoostingClassifier(learning_rate=0.3, max_depth=6, max_features='auto',\n",
       "                              min_samples_split=0.45999999999999996,\n",
       "                              n_estimators=400)},\n",
       "  {'clf__n_estimators': 100,\n",
       "   'clf__min_samples_split': 0.42000000000000004,\n",
       "   'clf__max_features': 'sqrt',\n",
       "   'clf__max_depth': 4,\n",
       "   'clf__learning_rate': 0.01,\n",
       "   'clf': GradientBoostingClassifier(learning_rate=0.3, max_depth=6, max_features='auto',\n",
       "                              min_samples_split=0.45999999999999996,\n",
       "                              n_estimators=400)},\n",
       "  {'clf__n_estimators': 50,\n",
       "   'clf__min_samples_split': 0.14,\n",
       "   'clf__max_features': 'auto',\n",
       "   'clf__max_depth': 7,\n",
       "   'clf__learning_rate': 0.1,\n",
       "   'clf': GradientBoostingClassifier(learning_rate=0.3, max_depth=6, max_features='auto',\n",
       "                              min_samples_split=0.45999999999999996,\n",
       "                              n_estimators=400)},\n",
       "  {'clf__n_estimators': 400,\n",
       "   'clf__min_samples_split': 0.1,\n",
       "   'clf__max_features': 'auto',\n",
       "   'clf__max_depth': 4,\n",
       "   'clf__learning_rate': 0.001,\n",
       "   'clf': GradientBoostingClassifier(learning_rate=0.3, max_depth=6, max_features='auto',\n",
       "                              min_samples_split=0.45999999999999996,\n",
       "                              n_estimators=400)},\n",
       "  {'clf__n_estimators': 400,\n",
       "   'clf__min_samples_split': 0.45999999999999996,\n",
       "   'clf__max_features': 'auto',\n",
       "   'clf__max_depth': 6,\n",
       "   'clf__learning_rate': 0.3,\n",
       "   'clf': GradientBoostingClassifier(learning_rate=0.3, max_depth=6, max_features='auto',\n",
       "                              min_samples_split=0.45999999999999996,\n",
       "                              n_estimators=400)}],\n",
       " 'split0_test_score': array([0.6874074 , 0.6874074 , 0.92601009, 0.6874074 , 0.92922983,\n",
       "        0.92858873, 0.6874074 , 0.92974983, 0.6874074 , 0.93001339]),\n",
       " 'split1_test_score': array([0.68632242, 0.68632242, 0.92601668, 0.68632242, 0.92854548,\n",
       "        0.92782602, 0.68632242, 0.9291011 , 0.68632242, 0.9291011 ]),\n",
       " 'mean_test_score': array([0.68686491, 0.68686491, 0.92601338, 0.68686491, 0.92888765,\n",
       "        0.92820737, 0.68686491, 0.92942547, 0.68686491, 0.92955725]),\n",
       " 'std_test_score': array([5.42489449e-04, 5.42489449e-04, 3.29815607e-06, 5.42489449e-04,\n",
       "        3.42173804e-04, 3.81354620e-04, 5.42489449e-04, 3.24363528e-04,\n",
       "        5.42489449e-04, 4.56144927e-04]),\n",
       " 'rank_test_score': array([6, 6, 5, 6, 3, 4, 6, 2, 6, 1], dtype=int32)}"
      ]
     },
     "execution_count": 55,
     "metadata": {},
     "output_type": "execute_result"
    }
   ],
   "source": [
    "rs_results_2.cv_results_"
   ]
  },
  {
   "cell_type": "markdown",
   "id": "f8c6fe4c-f89d-40e6-b482-c81374dcf751",
   "metadata": {},
   "source": [
    "Save out the results set."
   ]
  },
  {
   "cell_type": "code",
   "execution_count": 56,
   "id": "ea4258af-94bd-4e66-8de0-a51145c8287a",
   "metadata": {
    "tags": []
   },
   "outputs": [
    {
     "data": {
      "text/plain": [
       "'./models/rs_results/classic_rs_2nd_pass_gbm_only20220508_2233.pickle'"
      ]
     },
     "metadata": {},
     "output_type": "display_data"
    }
   ],
   "source": [
    "str_ts = datetime.now(timezone.utc).astimezone(pytz.timezone('US/Pacific')).strftime(\"%Y%m%d_%H%M\")\n",
    "file_nm = 'classic_rs_2nd_pass_gbm_only' + str_ts\n",
    "file_path = './models/rs_results/' + file_nm + '.pickle'\n",
    "# pred_path = './predictions/test/' + file_nm + '.csv'\n",
    "\n",
    "display(file_path)"
   ]
  },
  {
   "cell_type": "code",
   "execution_count": 57,
   "id": "77ecf630-70c4-4993-b390-22ab9d827f75",
   "metadata": {
    "tags": []
   },
   "outputs": [],
   "source": [
    "with open(file_path, 'wb') as f:\n",
    "    # Pickle the 'data' dictionary using the highest protocol available.\n",
    "    pickle.dump(rs_results_2, f, pickle.HIGHEST_PROTOCOL)"
   ]
  },
  {
   "cell_type": "markdown",
   "id": "fbef60d6-9089-40c1-943e-f4d52b520bae",
   "metadata": {},
   "source": [
    "#### Review Results of GBM only\n",
    "\n",
    "Let's review to see if GBM even approaches what XGB was achieving:"
   ]
  },
  {
   "cell_type": "markdown",
   "id": "b5bfdf8c-2c1e-405c-a042-c37b14cc72a2",
   "metadata": {},
   "source": [
    "High level look at all the runs:"
   ]
  },
  {
   "cell_type": "code",
   "execution_count": 159,
   "id": "ee288c14-98f4-4696-a2d9-aaf4ddf2d596",
   "metadata": {
    "tags": []
   },
   "outputs": [],
   "source": [
    "# %%script echo skipping\n",
    "# Test loading pickle\n",
    "load_path = './models/rs_results/classic_rs_2nd_pass_gbm_only20220508_2233.pickle'\n",
    "\n",
    "with open(load_path, 'rb') as f:\n",
    "    # The protocol version used is detected automatically, so we do not\n",
    "    # have to specify it.\n",
    "    rs_results_2 = pickle.load(f)    "
   ]
  },
  {
   "cell_type": "code",
   "execution_count": 160,
   "id": "a3479342-61d6-4f3f-b07a-98771c88c87c",
   "metadata": {},
   "outputs": [],
   "source": [
    "df_rs_gbm = pd.DataFrame(rs_results_2.cv_results_)"
   ]
  },
  {
   "cell_type": "code",
   "execution_count": 161,
   "id": "8e4abba1-c65f-4c42-932a-cefa9dae0741",
   "metadata": {},
   "outputs": [
    {
     "name": "stdout",
     "output_type": "stream",
     "text": [
      "                                                                                                                                                                                          param_clf  \\\n",
      "0  GradientBoostingClassifier(learning_rate=0.3, max_depth=6, max_features='auto',\\n                           min_samples_split=0.45999999999999996,\\n                           n_estimators=400)   \n",
      "1  GradientBoostingClassifier(learning_rate=0.3, max_depth=6, max_features='auto',\\n                           min_samples_split=0.45999999999999996,\\n                           n_estimators=400)   \n",
      "2  GradientBoostingClassifier(learning_rate=0.3, max_depth=6, max_features='auto',\\n                           min_samples_split=0.45999999999999996,\\n                           n_estimators=400)   \n",
      "3  GradientBoostingClassifier(learning_rate=0.3, max_depth=6, max_features='auto',\\n                           min_samples_split=0.45999999999999996,\\n                           n_estimators=400)   \n",
      "4  GradientBoostingClassifier(learning_rate=0.3, max_depth=6, max_features='auto',\\n                           min_samples_split=0.45999999999999996,\\n                           n_estimators=400)   \n",
      "5  GradientBoostingClassifier(learning_rate=0.3, max_depth=6, max_features='auto',\\n                           min_samples_split=0.45999999999999996,\\n                           n_estimators=400)   \n",
      "6  GradientBoostingClassifier(learning_rate=0.3, max_depth=6, max_features='auto',\\n                           min_samples_split=0.45999999999999996,\\n                           n_estimators=400)   \n",
      "7  GradientBoostingClassifier(learning_rate=0.3, max_depth=6, max_features='auto',\\n                           min_samples_split=0.45999999999999996,\\n                           n_estimators=400)   \n",
      "8  GradientBoostingClassifier(learning_rate=0.3, max_depth=6, max_features='auto',\\n                           min_samples_split=0.45999999999999996,\\n                           n_estimators=400)   \n",
      "9  GradientBoostingClassifier(learning_rate=0.3, max_depth=6, max_features='auto',\\n                           min_samples_split=0.45999999999999996,\\n                           n_estimators=400)   \n",
      "\n",
      "   mean_test_score  \n",
      "0         0.686865  \n",
      "1         0.686865  \n",
      "2         0.926013  \n",
      "3         0.686865  \n",
      "4         0.928888  \n",
      "5         0.928207  \n",
      "6         0.686865  \n",
      "7         0.929425  \n",
      "8         0.686865  \n",
      "9         0.929557  \n"
     ]
    }
   ],
   "source": [
    "print(df_rs_gbm[['param_clf', 'mean_test_score']].head(10))"
   ]
  },
  {
   "cell_type": "markdown",
   "id": "a1c5373e-7452-4a27-b169-f40d12a96442",
   "metadata": {},
   "source": [
    "So similar to past results it feels like there's a limit hit at around .9300"
   ]
  },
  {
   "cell_type": "code",
   "execution_count": 162,
   "id": "99ee22fe-df84-49aa-94ee-141b12a9bef4",
   "metadata": {},
   "outputs": [
    {
     "data": {
      "text/plain": [
       "Pipeline(steps=[('clf',\n",
       "                 GradientBoostingClassifier(learning_rate=0.3, max_depth=6,\n",
       "                                            max_features='auto',\n",
       "                                            min_samples_split=0.45999999999999996,\n",
       "                                            n_estimators=400))])"
      ]
     },
     "execution_count": 162,
     "metadata": {},
     "output_type": "execute_result"
    }
   ],
   "source": [
    "rs_results_2.best_estimator_"
   ]
  },
  {
   "cell_type": "markdown",
   "id": "6343f379-7e5e-411a-9b6a-859b518d5dbe",
   "metadata": {},
   "source": [
    "Let's look at the best accuracy score, and the parameters that produced them."
   ]
  },
  {
   "cell_type": "code",
   "execution_count": 163,
   "id": "80c587f9-7511-4f4f-85c9-ce9640d83e1f",
   "metadata": {},
   "outputs": [
    {
     "data": {
      "text/plain": [
       "0.9295572469124045"
      ]
     },
     "metadata": {},
     "output_type": "display_data"
    },
    {
     "data": {
      "text/plain": [
       "{'clf__n_estimators': 400,\n",
       " 'clf__min_samples_split': 0.45999999999999996,\n",
       " 'clf__max_features': 'auto',\n",
       " 'clf__max_depth': 6,\n",
       " 'clf__learning_rate': 0.3,\n",
       " 'clf': GradientBoostingClassifier(learning_rate=0.3, max_depth=6, max_features='auto',\n",
       "                            min_samples_split=0.45999999999999996,\n",
       "                            n_estimators=400)}"
      ]
     },
     "metadata": {},
     "output_type": "display_data"
    }
   ],
   "source": [
    "display(rs_results_2.best_score_, rs_results_2.best_params_)"
   ]
  },
  {
   "cell_type": "markdown",
   "id": "5e765735-b3ab-4484-9a0d-92a44e629803",
   "metadata": {},
   "source": [
    "Let's look at it as an estimator object."
   ]
  },
  {
   "cell_type": "code",
   "execution_count": 164,
   "id": "fe1525be-a6f6-461c-93b7-6035800baf75",
   "metadata": {
    "tags": []
   },
   "outputs": [
    {
     "data": {
      "text/plain": [
       "Pipeline(steps=[('clf',\n",
       "                 GradientBoostingClassifier(learning_rate=0.3, max_depth=6,\n",
       "                                            max_features='auto',\n",
       "                                            min_samples_split=0.45999999999999996,\n",
       "                                            n_estimators=400))])"
      ]
     },
     "metadata": {},
     "output_type": "display_data"
    }
   ],
   "source": [
    "rs_best_2 = rs_results_2.best_estimator_\n",
    "display(rs_best_2)"
   ]
  },
  {
   "cell_type": "markdown",
   "id": "05ccff65-414c-43ea-8c0d-99a03f7e426c",
   "metadata": {},
   "source": [
    "Now let's look at performance vs Test."
   ]
  },
  {
   "cell_type": "code",
   "execution_count": 165,
   "id": "4657ea0d-19c7-4949-bfbf-4d59eee8a37a",
   "metadata": {},
   "outputs": [
    {
     "data": {
      "text/plain": [
       "'test accuracy: 0.5815762480054707'"
      ]
     },
     "metadata": {},
     "output_type": "display_data"
    },
    {
     "data": {
      "text/plain": [
       "'train accuracy: 0.9295572469124045'"
      ]
     },
     "metadata": {},
     "output_type": "display_data"
    }
   ],
   "source": [
    "display(f\"test accuracy: {rs_best_2.score(X_test, y_test)}\")\n",
    "display(f\"train accuracy: {rs_results_2.best_score_}\")"
   ]
  },
  {
   "cell_type": "markdown",
   "id": "40000a0d-6c9f-4b7b-bc4a-8f5a9808b588",
   "metadata": {},
   "source": [
    "Consistent, and aligns. That Test score is a smidge higher than train is a little weird, but isn't egregiously so, so will go with it for now."
   ]
  },
  {
   "cell_type": "markdown",
   "id": "d903404e-ba9e-4641-bdea-639fbb99f443",
   "metadata": {},
   "source": [
    "Let's get some predictions and review some high level classification metrics:"
   ]
  },
  {
   "cell_type": "code",
   "execution_count": 64,
   "id": "36b5bb4b-c5a3-46f7-92a7-18f13f1a8df6",
   "metadata": {},
   "outputs": [],
   "source": [
    "rs_pred_2 = rs_best_2.predict(X_test)"
   ]
  },
  {
   "cell_type": "markdown",
   "id": "7359714c-cee6-4146-ab62-dbb5f9c80c83",
   "metadata": {},
   "source": [
    "*Confusion Matrix*"
   ]
  },
  {
   "cell_type": "code",
   "execution_count": 66,
   "id": "30468c72-ab56-49d2-b64c-942116e03e3b",
   "metadata": {},
   "outputs": [
    {
     "data": {
      "text/plain": [
       "array([[45641,  2571],\n",
       "       [ 2304, 19676]])"
      ]
     },
     "metadata": {},
     "output_type": "display_data"
    }
   ],
   "source": [
    "cm = confusion_matrix(y_test, rs_pred_2)\n",
    "display(cm)"
   ]
  },
  {
   "cell_type": "markdown",
   "id": "a3716a0f-4530-41e1-8378-bb7dd267f743",
   "metadata": {},
   "source": [
    "*Accuracy*"
   ]
  },
  {
   "cell_type": "code",
   "execution_count": 67,
   "id": "366f22c2-8a8b-4098-8e46-18a5201e4065",
   "metadata": {},
   "outputs": [
    {
     "data": {
      "text/plain": [
       "'What % of pitches did we correctly categorize?'"
      ]
     },
     "metadata": {},
     "output_type": "display_data"
    },
    {
     "data": {
      "text/plain": [
       "'test accuracy: 0.931'"
      ]
     },
     "metadata": {},
     "output_type": "display_data"
    }
   ],
   "source": [
    "display(\"What % of pitches did we correctly categorize?\")\n",
    "display(f\"test accuracy: {round(rs_best_2.score(X_test, y_test), 3)}\")"
   ]
  },
  {
   "cell_type": "markdown",
   "id": "d7660bab-2525-4c4b-80e0-dc7ab975df2d",
   "metadata": {},
   "source": [
    "*Precision*"
   ]
  },
  {
   "cell_type": "code",
   "execution_count": 68,
   "id": "401bcfd5-070a-4803-baa3-57583b3c5b73",
   "metadata": {},
   "outputs": [
    {
     "data": {
      "text/plain": [
       "'What % predicted strikes did we get correct?'"
      ]
     },
     "metadata": {},
     "output_type": "display_data"
    },
    {
     "data": {
      "text/plain": [
       "'Positive Predictive Value: 0.88443'"
      ]
     },
     "metadata": {},
     "output_type": "display_data"
    }
   ],
   "source": [
    "precision = precision_score(y_test, rs_pred_2)\n",
    "display(\"What % predicted strikes did we get correct?\")\n",
    "display(f\"Positive Predictive Value: {round(precision,5)}\")"
   ]
  },
  {
   "cell_type": "markdown",
   "id": "b9edc393-453d-4b11-9b93-698b5f5e33bc",
   "metadata": {},
   "source": [
    "*Recall*"
   ]
  },
  {
   "cell_type": "code",
   "execution_count": 69,
   "id": "5817cb10-bb12-41ed-890f-6c1380fdfcba",
   "metadata": {},
   "outputs": [
    {
     "data": {
      "text/plain": [
       "'What percent of actual strikes did we get capture?'"
      ]
     },
     "metadata": {},
     "output_type": "display_data"
    },
    {
     "data": {
      "text/plain": [
       "'True Positive Rate: 0.89518'"
      ]
     },
     "metadata": {},
     "output_type": "display_data"
    }
   ],
   "source": [
    "recall = recall_score(y_test, rs_pred_2)\n",
    "display(\"What percent of actual strikes did we get capture?\")\n",
    "display(f\"True Positive Rate: {round(recall, 5)}\")"
   ]
  },
  {
   "cell_type": "markdown",
   "id": "21666f55-58f2-4bd8-bd0d-289725980f27",
   "metadata": {},
   "source": [
    "*ROC/AUC*"
   ]
  },
  {
   "cell_type": "code",
   "execution_count": 70,
   "id": "7bb3970a-7267-4bf4-9709-7a18876444b7",
   "metadata": {},
   "outputs": [
    {
     "data": {
      "image/png": "[encoded data removed]",
      "text/plain": [
       "<Figure size 432x288 with 1 Axes>"
      ]
     },
     "metadata": {
      "needs_background": "light"
     },
     "output_type": "display_data"
    }
   ],
   "source": [
    "fpr, tpr, thresholds = roc_curve(y_test, rs_best_2.predict_proba(X_test)[:,1])\n",
    "roc_auc = auc(fpr, tpr)\n",
    "roc_display = RocCurveDisplay(fpr=fpr, tpr=tpr, roc_auc=roc_auc)\n",
    "roc_display.plot()\n",
    "plt.show()"
   ]
  },
  {
   "cell_type": "markdown",
   "id": "15fe1c86-39c1-48d3-ba0f-fa6d596f614f",
   "metadata": {},
   "source": [
    "AUC of 0.98! Again!"
   ]
  },
  {
   "cell_type": "markdown",
   "id": "9dc1ee54-98cb-4593-b2a2-a58becbe2051",
   "metadata": {},
   "source": [
    "So it looks like that GBM can perform just as well as XGB. Also, I think the 400 estimators is a time-killer and doesn't give much performance increase for the resource itAnd it was also apparent in previous runs that a Logistic Regression run didn't make it into the random draws. In this case I would like to do one more Random Search with the goal of:\n",
    "\n",
    "- Increasing the iterations so that more likely to get a Logistic Regression in.\n",
    "- Add back some of this GBM grid in as well.\n",
    "\n",
    "All this said, I would be very surprised if we improve on an accuracy of ~0.930."
   ]
  },
  {
   "cell_type": "markdown",
   "id": "169d1539-8ac4-4851-a209-54994e0587f7",
   "metadata": {},
   "source": [
    "---  \n",
    "\n",
    "<span style=\"font-size:0.5em;\">Tag 5</span>\n",
    "\n",
    "#### More Tuning<a id='more_tuning'></a>\n",
    "\n",
    "<span style=\"font-size:0.5em;\"><a href='#toc'>Back to TOC</a></span>"
   ]
  },
  {
   "cell_type": "code",
   "execution_count": 17,
   "id": "cf3da09e-a118-4a2e-b52c-6a2f151372e7",
   "metadata": {},
   "outputs": [],
   "source": [
    "#Declare again if picking up again after kernel restart\n",
    "class DummyEstimator(BaseEstimator):\n",
    "    def fit(self): pass\n",
    "    def score(self): pass"
   ]
  },
  {
   "cell_type": "code",
   "execution_count": 19,
   "id": "51363e14-d367-45f7-8143-142261b4c5c8",
   "metadata": {},
   "outputs": [],
   "source": [
    "# Create a pipeline\n",
    "pipe_3 = Pipeline([('clf', DummyEstimator())]) # Placeholder Estimator\n",
    "\n",
    "# Candidate learning algorithms and their hyperparameters\n",
    "# For selected hyperparameters aimed to select a reasonable range for each.\n",
    "search_space_3 = [{'clf': [LogisticRegression()], # Actual Estimator\n",
    "                 'clf__penalty': ['l1', 'l2', 'elasticnet'],\n",
    "                 'clf__C': np.logspace(-4, 4, 20)\n",
    "                },\n",
    "                {'clf': [DecisionTreeClassifier()],  # Actual Estimator\n",
    "                 'clf__criterion': ['gini', 'entropy'],\n",
    "                 'clf__max_depth': np.arange(3,11,1),\n",
    "                 'clf__min_samples_split': np.linspace(0.1, 0.5, 10, endpoint=False),\n",
    "                 'clf__max_features': [0.25, 0.5, 0.75, 1]\n",
    "                },\n",
    "                {'clf': [RandomForestClassifier()],  # Actual Estimator\n",
    "                 'clf__n_estimators': [50, 100, 200],\n",
    "                 'clf__criterion': ['gini', 'entropy'],                 \n",
    "                 'clf__max_depth': np.arange(3,11,1),\n",
    "                 'clf__min_samples_split': np.linspace(0.1, 0.5, 10, endpoint=False),\n",
    "                 'clf__max_features': [\"auto\", \"sqrt\", \"log2\"],\n",
    "                 'clf__max_samples': [0.25, 0.5, 0.75, 1]\n",
    "                },\n",
    "                 {'clf': [GradientBoostingClassifier()],  # Actual Estimator\n",
    "                 'clf__learning_rate': [0.001, 0.01, 0.1, 0.3],\n",
    "                 'clf__n_estimators': [50, 100, 200],\n",
    "                 'clf__max_depth': np.arange(3,11,1),\n",
    "                 'clf__min_samples_split': np.linspace(0.1, 0.5, 10, endpoint=False),\n",
    "                 'clf__max_features': [\"auto\", \"sqrt\", \"log2\"],\n",
    "                },\n",
    "                {'clf': [XGBClassifier()],  # Actual Estimator\n",
    "                 'clf__n_estimators': [50, 100, 200],\n",
    "                 'clf__criterion': ['gini', 'entropy'],                 \n",
    "                 'clf__max_depth': np.arange(3,11,1),\n",
    "                 'clf__min_samples_split': np.linspace(0.1, 0.5, 10, endpoint=False),\n",
    "                 'clf__max_features': [\"auto\", \"sqrt\", \"log2\"],\n",
    "                 'clf__max_samples': [0.25, 0.5, 0.75, 1]\n",
    "                }\n",
    "               ]\n",
    "    \n",
    "# Create grid search \n",
    "# gs = GridSearchCV(pipe, search_space, random_state=random_state)\n",
    "rs_3 = RandomizedSearchCV(pipe_3, search_space_3, random_state=random_state\n",
    "                        ,n_iter=20 # To limit search time \n",
    "                        ,cv=3      # I like 5 as rule of thumb, but again to limit search time\n",
    "                        ,verbose=True, refit=True, scoring='accuracy')"
   ]
  },
  {
   "cell_type": "markdown",
   "id": "549f14ca-9a3b-4d3a-8f35-d95110b7e85d",
   "metadata": {},
   "source": [
    "Fit the random search cv object."
   ]
  },
  {
   "cell_type": "code",
   "execution_count": 20,
   "id": "18185a47-54f8-4500-9780-ddff04e78479",
   "metadata": {},
   "outputs": [
    {
     "name": "stdout",
     "output_type": "stream",
     "text": [
      "Fitting 3 folds for each of 20 candidates, totalling 60 fits\n",
      "[13:54:20] WARNING: ../src/learner.cc:541: \n",
      "Parameters: { criterion, max_features, max_samples, min_samples_split } might not be used.\n",
      "\n",
      "  This may not be accurate due to some parameters are only used in language bindings but\n",
      "  passed down to XGBoost core.  Or some parameters are not used but slip through this\n",
      "  verification. Please open an issue if you find above cases.\n",
      "\n",
      "\n",
      "[13:54:21] WARNING: ../src/learner.cc:1061: Starting in XGBoost 1.3.0, the default evaluation metric used with the objective 'binary:logistic' was changed from 'error' to 'logloss'. Explicitly set eval_metric if you'd like to restore the old behavior.\n",
      "[13:54:57] WARNING: ../src/learner.cc:541: \n",
      "Parameters: { criterion, max_features, max_samples, min_samples_split } might not be used.\n",
      "\n",
      "  This may not be accurate due to some parameters are only used in language bindings but\n",
      "  passed down to XGBoost core.  Or some parameters are not used but slip through this\n",
      "  verification. Please open an issue if you find above cases.\n",
      "\n",
      "\n",
      "[13:54:57] WARNING: ../src/learner.cc:1061: Starting in XGBoost 1.3.0, the default evaluation metric used with the objective 'binary:logistic' was changed from 'error' to 'logloss'. Explicitly set eval_metric if you'd like to restore the old behavior.\n",
      "[13:55:33] WARNING: ../src/learner.cc:541: \n",
      "Parameters: { criterion, max_features, max_samples, min_samples_split } might not be used.\n",
      "\n",
      "  This may not be accurate due to some parameters are only used in language bindings but\n",
      "  passed down to XGBoost core.  Or some parameters are not used but slip through this\n",
      "  verification. Please open an issue if you find above cases.\n",
      "\n",
      "\n",
      "[13:55:33] WARNING: ../src/learner.cc:1061: Starting in XGBoost 1.3.0, the default evaluation metric used with the objective 'binary:logistic' was changed from 'error' to 'logloss'. Explicitly set eval_metric if you'd like to restore the old behavior.\n",
      "[13:56:28] WARNING: ../src/learner.cc:541: \n",
      "Parameters: { criterion, max_features, max_samples, min_samples_split } might not be used.\n",
      "\n",
      "  This may not be accurate due to some parameters are only used in language bindings but\n",
      "  passed down to XGBoost core.  Or some parameters are not used but slip through this\n",
      "  verification. Please open an issue if you find above cases.\n",
      "\n",
      "\n",
      "[13:56:31] WARNING: ../src/learner.cc:1061: Starting in XGBoost 1.3.0, the default evaluation metric used with the objective 'binary:logistic' was changed from 'error' to 'logloss'. Explicitly set eval_metric if you'd like to restore the old behavior.\n",
      "[13:58:54] WARNING: ../src/learner.cc:541: \n",
      "Parameters: { criterion, max_features, max_samples, min_samples_split } might not be used.\n",
      "\n",
      "  This may not be accurate due to some parameters are only used in language bindings but\n",
      "  passed down to XGBoost core.  Or some parameters are not used but slip through this\n",
      "  verification. Please open an issue if you find above cases.\n",
      "\n",
      "\n",
      "[13:58:56] WARNING: ../src/learner.cc:1061: Starting in XGBoost 1.3.0, the default evaluation metric used with the objective 'binary:logistic' was changed from 'error' to 'logloss'. Explicitly set eval_metric if you'd like to restore the old behavior.\n",
      "[14:01:14] WARNING: ../src/learner.cc:541: \n",
      "Parameters: { criterion, max_features, max_samples, min_samples_split } might not be used.\n",
      "\n",
      "  This may not be accurate due to some parameters are only used in language bindings but\n",
      "  passed down to XGBoost core.  Or some parameters are not used but slip through this\n",
      "  verification. Please open an issue if you find above cases.\n",
      "\n",
      "\n",
      "[14:01:17] WARNING: ../src/learner.cc:1061: Starting in XGBoost 1.3.0, the default evaluation metric used with the objective 'binary:logistic' was changed from 'error' to 'logloss'. Explicitly set eval_metric if you'd like to restore the old behavior.\n",
      "[14:20:34] WARNING: ../src/learner.cc:541: \n",
      "Parameters: { criterion, max_features, max_samples, min_samples_split } might not be used.\n",
      "\n",
      "  This may not be accurate due to some parameters are only used in language bindings but\n",
      "  passed down to XGBoost core.  Or some parameters are not used but slip through this\n",
      "  verification. Please open an issue if you find above cases.\n",
      "\n",
      "\n",
      "[14:20:36] WARNING: ../src/learner.cc:1061: Starting in XGBoost 1.3.0, the default evaluation metric used with the objective 'binary:logistic' was changed from 'error' to 'logloss'. Explicitly set eval_metric if you'd like to restore the old behavior.\n",
      "[14:22:17] WARNING: ../src/learner.cc:541: \n",
      "Parameters: { criterion, max_features, max_samples, min_samples_split } might not be used.\n",
      "\n",
      "  This may not be accurate due to some parameters are only used in language bindings but\n",
      "  passed down to XGBoost core.  Or some parameters are not used but slip through this\n",
      "  verification. Please open an issue if you find above cases.\n",
      "\n",
      "\n",
      "[14:22:18] WARNING: ../src/learner.cc:1061: Starting in XGBoost 1.3.0, the default evaluation metric used with the objective 'binary:logistic' was changed from 'error' to 'logloss'. Explicitly set eval_metric if you'd like to restore the old behavior.\n",
      "[14:23:40] WARNING: ../src/learner.cc:541: \n",
      "Parameters: { criterion, max_features, max_samples, min_samples_split } might not be used.\n",
      "\n",
      "  This may not be accurate due to some parameters are only used in language bindings but\n",
      "  passed down to XGBoost core.  Or some parameters are not used but slip through this\n",
      "  verification. Please open an issue if you find above cases.\n",
      "\n",
      "\n",
      "[14:23:42] WARNING: ../src/learner.cc:1061: Starting in XGBoost 1.3.0, the default evaluation metric used with the objective 'binary:logistic' was changed from 'error' to 'logloss'. Explicitly set eval_metric if you'd like to restore the old behavior.\n",
      "[14:26:10] WARNING: ../src/learner.cc:541: \n",
      "Parameters: { criterion, max_features, max_samples, min_samples_split } might not be used.\n",
      "\n",
      "  This may not be accurate due to some parameters are only used in language bindings but\n",
      "  passed down to XGBoost core.  Or some parameters are not used but slip through this\n",
      "  verification. Please open an issue if you find above cases.\n",
      "\n",
      "\n",
      "[14:26:12] WARNING: ../src/learner.cc:1061: Starting in XGBoost 1.3.0, the default evaluation metric used with the objective 'binary:logistic' was changed from 'error' to 'logloss'. Explicitly set eval_metric if you'd like to restore the old behavior.\n",
      "[14:27:58] WARNING: ../src/learner.cc:541: \n",
      "Parameters: { criterion, max_features, max_samples, min_samples_split } might not be used.\n",
      "\n",
      "  This may not be accurate due to some parameters are only used in language bindings but\n",
      "  passed down to XGBoost core.  Or some parameters are not used but slip through this\n",
      "  verification. Please open an issue if you find above cases.\n",
      "\n",
      "\n",
      "[14:27:58] WARNING: ../src/learner.cc:1061: Starting in XGBoost 1.3.0, the default evaluation metric used with the objective 'binary:logistic' was changed from 'error' to 'logloss'. Explicitly set eval_metric if you'd like to restore the old behavior.\n",
      "[14:29:47] WARNING: ../src/learner.cc:541: \n",
      "Parameters: { criterion, max_features, max_samples, min_samples_split } might not be used.\n",
      "\n",
      "  This may not be accurate due to some parameters are only used in language bindings but\n",
      "  passed down to XGBoost core.  Or some parameters are not used but slip through this\n",
      "  verification. Please open an issue if you find above cases.\n",
      "\n",
      "\n",
      "[14:29:48] WARNING: ../src/learner.cc:1061: Starting in XGBoost 1.3.0, the default evaluation metric used with the objective 'binary:logistic' was changed from 'error' to 'logloss'. Explicitly set eval_metric if you'd like to restore the old behavior.\n",
      "[14:33:14] WARNING: ../src/learner.cc:541: \n",
      "Parameters: { criterion, max_features, max_samples, min_samples_split } might not be used.\n",
      "\n",
      "  This may not be accurate due to some parameters are only used in language bindings but\n",
      "  passed down to XGBoost core.  Or some parameters are not used but slip through this\n",
      "  verification. Please open an issue if you find above cases.\n",
      "\n",
      "\n",
      "[14:33:16] WARNING: ../src/learner.cc:1061: Starting in XGBoost 1.3.0, the default evaluation metric used with the objective 'binary:logistic' was changed from 'error' to 'logloss'. Explicitly set eval_metric if you'd like to restore the old behavior.\n",
      "[14:37:57] WARNING: ../src/learner.cc:1061: Starting in XGBoost 1.3.0, the default evaluation metric used with the objective 'binary:logistic' was changed from 'error' to 'logloss'. Explicitly set eval_metric if you'd like to restore the old behavior.\n",
      "[14:42:11] WARNING: ../src/learner.cc:541: \n",
      "Parameters: { criterion, max_features, max_samples, min_samples_split } might not be used.\n",
      "\n",
      "  This may not be accurate due to some parameters are only used in language bindings but\n",
      "  passed down to XGBoost core.  Or some parameters are not used but slip through this\n",
      "  verification. Please open an issue if you find above cases.\n",
      "\n",
      "\n",
      "[14:42:13] WARNING: ../src/learner.cc:1061: Starting in XGBoost 1.3.0, the default evaluation metric used with the objective 'binary:logistic' was changed from 'error' to 'logloss'. Explicitly set eval_metric if you'd like to restore the old behavior.\n",
      "[14:46:45] WARNING: ../src/learner.cc:541: \n",
      "Parameters: { criterion, max_features, max_samples, min_samples_split } might not be used.\n",
      "\n",
      "  This may not be accurate due to some parameters are only used in language bindings but\n",
      "  passed down to XGBoost core.  Or some parameters are not used but slip through this\n",
      "  verification. Please open an issue if you find above cases.\n",
      "\n",
      "\n",
      "[14:46:46] WARNING: ../src/learner.cc:1061: Starting in XGBoost 1.3.0, the default evaluation metric used with the objective 'binary:logistic' was changed from 'error' to 'logloss'. Explicitly set eval_metric if you'd like to restore the old behavior.\n",
      "[14:47:27] WARNING: ../src/learner.cc:541: \n",
      "Parameters: { criterion, max_features, max_samples, min_samples_split } might not be used.\n",
      "\n",
      "  This may not be accurate due to some parameters are only used in language bindings but\n",
      "  passed down to XGBoost core.  Or some parameters are not used but slip through this\n",
      "  verification. Please open an issue if you find above cases.\n",
      "\n",
      "\n",
      "[14:47:28] WARNING: ../src/learner.cc:1061: Starting in XGBoost 1.3.0, the default evaluation metric used with the objective 'binary:logistic' was changed from 'error' to 'logloss'. Explicitly set eval_metric if you'd like to restore the old behavior.\n",
      "[14:47:49] WARNING: ../src/learner.cc:541: \n",
      "Parameters: { criterion, max_features, max_samples, min_samples_split } might not be used.\n",
      "\n",
      "  This may not be accurate due to some parameters are only used in language bindings but\n",
      "  passed down to XGBoost core.  Or some parameters are not used but slip through this\n",
      "  verification. Please open an issue if you find above cases.\n",
      "\n",
      "\n",
      "[14:47:50] WARNING: ../src/learner.cc:1061: Starting in XGBoost 1.3.0, the default evaluation metric used with the objective 'binary:logistic' was changed from 'error' to 'logloss'. Explicitly set eval_metric if you'd like to restore the old behavior.\n",
      "[14:48:24] WARNING: ../src/learner.cc:541: \n",
      "Parameters: { criterion, max_features, max_samples, min_samples_split } might not be used.\n",
      "\n",
      "  This may not be accurate due to some parameters are only used in language bindings but\n",
      "  passed down to XGBoost core.  Or some parameters are not used but slip through this\n",
      "  verification. Please open an issue if you find above cases.\n",
      "\n",
      "\n",
      "[14:48:28] WARNING: ../src/learner.cc:1061: Starting in XGBoost 1.3.0, the default evaluation metric used with the objective 'binary:logistic' was changed from 'error' to 'logloss'. Explicitly set eval_metric if you'd like to restore the old behavior.\n",
      "[14:49:38] WARNING: ../src/learner.cc:541: \n",
      "Parameters: { criterion, max_features, max_samples, min_samples_split } might not be used.\n",
      "\n",
      "  This may not be accurate due to some parameters are only used in language bindings but\n",
      "  passed down to XGBoost core.  Or some parameters are not used but slip through this\n",
      "  verification. Please open an issue if you find above cases.\n",
      "\n",
      "\n",
      "[14:49:42] WARNING: ../src/learner.cc:1061: Starting in XGBoost 1.3.0, the default evaluation metric used with the objective 'binary:logistic' was changed from 'error' to 'logloss'. Explicitly set eval_metric if you'd like to restore the old behavior.\n",
      "[14:51:05] WARNING: ../src/learner.cc:541: \n",
      "Parameters: { criterion, max_features, max_samples, min_samples_split } might not be used.\n",
      "\n",
      "  This may not be accurate due to some parameters are only used in language bindings but\n",
      "  passed down to XGBoost core.  Or some parameters are not used but slip through this\n",
      "  verification. Please open an issue if you find above cases.\n",
      "\n",
      "\n",
      "[14:51:07] WARNING: ../src/learner.cc:1061: Starting in XGBoost 1.3.0, the default evaluation metric used with the objective 'binary:logistic' was changed from 'error' to 'logloss'. Explicitly set eval_metric if you'd like to restore the old behavior.\n",
      "[14:52:24] WARNING: ../src/learner.cc:541: \n",
      "Parameters: { criterion, max_features, max_samples, min_samples_split } might not be used.\n",
      "\n",
      "  This may not be accurate due to some parameters are only used in language bindings but\n",
      "  passed down to XGBoost core.  Or some parameters are not used but slip through this\n",
      "  verification. Please open an issue if you find above cases.\n",
      "\n",
      "\n",
      "[14:52:26] WARNING: ../src/learner.cc:1061: Starting in XGBoost 1.3.0, the default evaluation metric used with the objective 'binary:logistic' was changed from 'error' to 'logloss'. Explicitly set eval_metric if you'd like to restore the old behavior.\n",
      "[14:54:34] WARNING: ../src/learner.cc:541: \n",
      "Parameters: { criterion, max_features, max_samples, min_samples_split } might not be used.\n",
      "\n",
      "  This may not be accurate due to some parameters are only used in language bindings but\n",
      "  passed down to XGBoost core.  Or some parameters are not used but slip through this\n",
      "  verification. Please open an issue if you find above cases.\n",
      "\n",
      "\n",
      "[14:54:36] WARNING: ../src/learner.cc:1061: Starting in XGBoost 1.3.0, the default evaluation metric used with the objective 'binary:logistic' was changed from 'error' to 'logloss'. Explicitly set eval_metric if you'd like to restore the old behavior.\n",
      "[14:56:45] WARNING: ../src/learner.cc:541: \n",
      "Parameters: { criterion, max_features, max_samples, min_samples_split } might not be used.\n",
      "\n",
      "  This may not be accurate due to some parameters are only used in language bindings but\n",
      "  passed down to XGBoost core.  Or some parameters are not used but slip through this\n",
      "  verification. Please open an issue if you find above cases.\n",
      "\n",
      "\n",
      "[14:56:48] WARNING: ../src/learner.cc:1061: Starting in XGBoost 1.3.0, the default evaluation metric used with the objective 'binary:logistic' was changed from 'error' to 'logloss'. Explicitly set eval_metric if you'd like to restore the old behavior.\n"
     ]
    }
   ],
   "source": [
    "rs_results_3 = rs_3.fit(X_train, y_train)"
   ]
  },
  {
   "cell_type": "markdown",
   "id": "95a039db-c26c-4643-ac2b-760f4687bb97",
   "metadata": {},
   "source": [
    "Save out the results set."
   ]
  },
  {
   "cell_type": "code",
   "execution_count": null,
   "id": "e0f5efb4-2ff4-48f2-82d6-74174c0b0ce2",
   "metadata": {
    "tags": []
   },
   "outputs": [
    {
     "data": {
      "text/plain": [
       "'./models/rs_results/classic_rs_3rd_pass_20220509_0815.pickle'"
      ]
     },
     "metadata": {},
     "output_type": "display_data"
    }
   ],
   "source": [
    "str_ts = datetime.now(timezone.utc).astimezone(pytz.timezone('US/Pacific')).strftime(\"%Y%m%d_%H%M\")\n",
    "file_nm = 'classic_rs_3rd_pass_' + str_ts\n",
    "file_path = './models/rs_results/' + file_nm + '.pickle'\n",
    "# pred_path = './predictions/test/' + file_nm + '.csv'\n",
    "\n",
    "display(file_path)"
   ]
  },
  {
   "cell_type": "code",
   "execution_count": null,
   "id": "1d6533da-d1c9-4850-99a2-23b74e9e8318",
   "metadata": {
    "tags": []
   },
   "outputs": [],
   "source": [
    "with open(file_path, 'wb') as f:\n",
    "    # Pickle the 'data' dictionary using the highest protocol available.\n",
    "    pickle.dump(rs_results_3, f, pickle.HIGHEST_PROTOCOL)"
   ]
  },
  {
   "cell_type": "markdown",
   "id": "85eecf65-3dad-4656-a88c-2cbb663747c4",
   "metadata": {},
   "source": [
    "*_Reload results as necessary_*"
   ]
  },
  {
   "cell_type": "code",
   "execution_count": 155,
   "id": "9a082a08-4eae-4ee1-a226-24ee3d0b7155",
   "metadata": {
    "tags": []
   },
   "outputs": [],
   "source": [
    "#%%script echo skipping\n",
    "# Test loading pickle\n",
    "load_path = './models/rs_results/classic_rs_3rd_pass_20220509_0815.pickle'\n",
    "\n",
    "with open(load_path, 'rb') as f:\n",
    "    # The protocol version used is detected automatically, so we do not\n",
    "    # have to specify it.\n",
    "    rs_results_3 = pickle.load(f)    "
   ]
  },
  {
   "cell_type": "markdown",
   "id": "05d53639-d2d4-4f44-a909-411bf83edb06",
   "metadata": {},
   "source": [
    "#### Review Results\n",
    "\n",
    "Let's review the best model of the random selected models. Load from pickle if necessary.\n",
    "\n",
    "Third time's the charm?"
   ]
  },
  {
   "cell_type": "code",
   "execution_count": 20,
   "id": "bc8ec84d-e70e-457f-af20-56c287cf2a0f",
   "metadata": {},
   "outputs": [
    {
     "data": {
      "text/plain": [
       "Pipeline(steps=[('clf',\n",
       "                 GradientBoostingClassifier(max_depth=10, max_features='auto',\n",
       "                                            min_samples_split=0.14,\n",
       "                                            n_estimators=200))])"
      ]
     },
     "execution_count": 20,
     "metadata": {},
     "output_type": "execute_result"
    }
   ],
   "source": [
    "rs_results_3.best_estimator_"
   ]
  },
  {
   "cell_type": "code",
   "execution_count": 22,
   "id": "ea816b03-a93f-4ede-bcf0-d4e4c7c83ec2",
   "metadata": {},
   "outputs": [
    {
     "data": {
      "text/plain": [
       "{'clf__n_estimators': 200,\n",
       " 'clf__min_samples_split': 0.14,\n",
       " 'clf__max_features': 'auto',\n",
       " 'clf__max_depth': 10,\n",
       " 'clf__learning_rate': 0.1,\n",
       " 'clf': GradientBoostingClassifier(max_depth=10, max_features='auto',\n",
       "                            min_samples_split=0.14, n_estimators=200)}"
      ]
     },
     "execution_count": 22,
     "metadata": {},
     "output_type": "execute_result"
    }
   ],
   "source": [
    "rs_results_3.best_params_"
   ]
  },
  {
   "cell_type": "code",
   "execution_count": 23,
   "id": "c78756c0-c6fc-4634-a6d1-cf851a92e85a",
   "metadata": {},
   "outputs": [
    {
     "data": {
      "text/plain": [
       "0.9311671243415359"
      ]
     },
     "execution_count": 23,
     "metadata": {},
     "output_type": "execute_result"
    }
   ],
   "source": [
    "rs_results_3.best_score_"
   ]
  },
  {
   "cell_type": "code",
   "execution_count": 24,
   "id": "14e1d4a2-0ec9-429b-a23b-54f4b6bfa837",
   "metadata": {
    "collapsed": true,
    "jupyter": {
     "outputs_hidden": true
    },
    "tags": []
   },
   "outputs": [
    {
     "data": {
      "text/plain": [
       "{'mean_fit_time': array([ 34.36048587,   7.76753036, 144.09038631, 335.16320491,\n",
       "          1.65007035,  92.10491292,   1.51282962,  17.71212244,\n",
       "        103.43485896,  37.27409482, 269.6652774 ,  33.02737451,\n",
       "         79.72879394, 132.05992174, 129.32118686,   3.28230333,\n",
       "          1.54987295,   3.41883659,   1.54029504,  22.22682412]),\n",
       " 'std_fit_time': array([ 2.66895962,  0.24492797,  3.41328736,  2.00402526,  0.01978322,\n",
       "         8.5013215 ,  0.02172415,  0.03579268,  6.79503714,  0.69397237,\n",
       "        10.46101827,  8.9632727 ,  4.82333111,  3.20010087,  0.18563859,\n",
       "         0.02522395,  0.04011796,  0.11855185,  0.02261624,  0.19565816]),\n",
       " 'mean_score_time': array([0.16867129, 0.43467633, 0.3042647 , 0.51615429, 0.33026203,\n",
       "        0.26266829, 0.33306082, 0.15117311, 0.32010365, 0.09233665,\n",
       "        0.53464174, 0.13813019, 0.33402236, 0.34228881, 0.30139359,\n",
       "        0.64917278, 0.32982095, 0.40859993, 0.33224583, 1.01383074]),\n",
       " 'std_score_time': array([0.0425603 , 0.00212381, 0.02718939, 0.01237543, 0.00406697,\n",
       "        0.09121991, 0.01039021, 0.00166281, 0.05221813, 0.00114212,\n",
       "        0.04395247, 0.04427448, 0.05317845, 0.05330618, 0.00911495,\n",
       "        0.00402267, 0.00590673, 0.00481641, 0.00516743, 0.01299374]),\n",
       " 'param_clf__n_estimators': masked_array(data=[50, 100, 100, 200, 100, 100, 100, 100, 200, 50, 200,\n",
       "                    50, 50, 100, 200, 200, 100, 100, 100, 200],\n",
       "              mask=[False, False, False, False, False, False, False, False,\n",
       "                    False, False, False, False, False, False, False, False,\n",
       "                    False, False, False, False],\n",
       "        fill_value='?',\n",
       "             dtype=object),\n",
       " 'param_clf__min_samples_split': masked_array(data=[0.18, 0.33999999999999997, 0.45999999999999996, 0.14,\n",
       "                    0.26, 0.42000000000000004, 0.33999999999999997, 0.22,\n",
       "                    0.22, 0.30000000000000004, 0.33999999999999997, 0.38,\n",
       "                    0.14, 0.22, 0.38, 0.38, 0.26, 0.18, 0.1, 0.14],\n",
       "              mask=[False, False, False, False, False, False, False, False,\n",
       "                    False, False, False, False, False, False, False, False,\n",
       "                    False, False, False, False],\n",
       "        fill_value='?',\n",
       "             dtype=object),\n",
       " 'param_clf__max_samples': masked_array(data=[0.25, 0.75, 0.25, --, 0.25, 0.75, 1, --, 0.75, --,\n",
       "                    0.75, 0.5, 0.75, 0.75, --, 0.25, 1, 0.25, 1, 0.5],\n",
       "              mask=[False, False, False,  True, False, False, False,  True,\n",
       "                    False,  True, False, False, False, False,  True, False,\n",
       "                    False, False, False, False],\n",
       "        fill_value='?',\n",
       "             dtype=object),\n",
       " 'param_clf__max_features': masked_array(data=['sqrt', 'sqrt', 'sqrt', 'auto', 'log2', 'log2', 'sqrt',\n",
       "                    'sqrt', 'sqrt', 'auto', 'log2', 'auto', 'sqrt', 'log2',\n",
       "                    'auto', 'auto', 'sqrt', 'sqrt', 'sqrt', 'log2'],\n",
       "              mask=[False, False, False, False, False, False, False, False,\n",
       "                    False, False, False, False, False, False, False, False,\n",
       "                    False, False, False, False],\n",
       "        fill_value='?',\n",
       "             dtype=object),\n",
       " 'param_clf__max_depth': masked_array(data=[4, 3, 9, 10, 10, 5, 7, 3, 3, 5, 8, 3, 9, 7, 7, 4, 8, 6,\n",
       "                    3, 10],\n",
       "              mask=[False, False, False, False, False, False, False, False,\n",
       "                    False, False, False, False, False, False, False, False,\n",
       "                    False, False, False, False],\n",
       "        fill_value='?',\n",
       "             dtype=object),\n",
       " 'param_clf__criterion': masked_array(data=['entropy', 'gini', 'entropy', --, 'gini', 'gini',\n",
       "                    'entropy', --, 'entropy', --, 'entropy', 'entropy',\n",
       "                    'entropy', 'gini', --, 'entropy', 'entropy', 'gini',\n",
       "                    'gini', 'entropy'],\n",
       "              mask=[False, False, False,  True, False, False, False,  True,\n",
       "                    False,  True, False, False, False, False,  True, False,\n",
       "                    False, False, False, False],\n",
       "        fill_value='?',\n",
       "             dtype=object),\n",
       " 'param_clf': masked_array(data=[XGBClassifier(base_score=None, booster=None, colsample_bylevel=None,\n",
       "                                  colsample_bynode=None, colsample_bytree=None, gamma=None,\n",
       "                                  gpu_id=None, importance_type='gain', interaction_constraints=None,\n",
       "                                  learning_rate=None, max_delta_step=None, max_depth=None,\n",
       "                                  min_child_weight=None, missing=nan, monotone_constraints=None,\n",
       "                                  n_estimators=100, n_jobs=None, num_parallel_tree=None,\n",
       "                                  random_state=None, reg_alpha=None, reg_lambda=None,\n",
       "                                  scale_pos_weight=None, subsample=None, tree_method=None,\n",
       "                                  validate_parameters=None, verbosity=None)                         ,\n",
       "                    RandomForestClassifier(),\n",
       "                    XGBClassifier(base_score=None, booster=None, colsample_bylevel=None,\n",
       "                                  colsample_bynode=None, colsample_bytree=None, gamma=None,\n",
       "                                  gpu_id=None, importance_type='gain', interaction_constraints=None,\n",
       "                                  learning_rate=None, max_delta_step=None, max_depth=None,\n",
       "                                  min_child_weight=None, missing=nan, monotone_constraints=None,\n",
       "                                  n_estimators=100, n_jobs=None, num_parallel_tree=None,\n",
       "                                  random_state=None, reg_alpha=None, reg_lambda=None,\n",
       "                                  scale_pos_weight=None, subsample=None, tree_method=None,\n",
       "                                  validate_parameters=None, verbosity=None)                         ,\n",
       "                    GradientBoostingClassifier(max_depth=10, max_features='auto',\n",
       "                                               min_samples_split=0.14, n_estimators=200),\n",
       "                    RandomForestClassifier(),\n",
       "                    XGBClassifier(base_score=None, booster=None, colsample_bylevel=None,\n",
       "                                  colsample_bynode=None, colsample_bytree=None, gamma=None,\n",
       "                                  gpu_id=None, importance_type='gain', interaction_constraints=None,\n",
       "                                  learning_rate=None, max_delta_step=None, max_depth=None,\n",
       "                                  min_child_weight=None, missing=nan, monotone_constraints=None,\n",
       "                                  n_estimators=100, n_jobs=None, num_parallel_tree=None,\n",
       "                                  random_state=None, reg_alpha=None, reg_lambda=None,\n",
       "                                  scale_pos_weight=None, subsample=None, tree_method=None,\n",
       "                                  validate_parameters=None, verbosity=None)                         ,\n",
       "                    RandomForestClassifier(),\n",
       "                    GradientBoostingClassifier(max_depth=10, max_features='auto',\n",
       "                                               min_samples_split=0.14, n_estimators=200),\n",
       "                    XGBClassifier(base_score=None, booster=None, colsample_bylevel=None,\n",
       "                                  colsample_bynode=None, colsample_bytree=None, gamma=None,\n",
       "                                  gpu_id=None, importance_type='gain', interaction_constraints=None,\n",
       "                                  learning_rate=None, max_delta_step=None, max_depth=None,\n",
       "                                  min_child_weight=None, missing=nan, monotone_constraints=None,\n",
       "                                  n_estimators=100, n_jobs=None, num_parallel_tree=None,\n",
       "                                  random_state=None, reg_alpha=None, reg_lambda=None,\n",
       "                                  scale_pos_weight=None, subsample=None, tree_method=None,\n",
       "                                  validate_parameters=None, verbosity=None)                         ,\n",
       "                    GradientBoostingClassifier(max_depth=10, max_features='auto',\n",
       "                                               min_samples_split=0.14, n_estimators=200),\n",
       "                    XGBClassifier(base_score=None, booster=None, colsample_bylevel=None,\n",
       "                                  colsample_bynode=None, colsample_bytree=None, gamma=None,\n",
       "                                  gpu_id=None, importance_type='gain', interaction_constraints=None,\n",
       "                                  learning_rate=None, max_delta_step=None, max_depth=None,\n",
       "                                  min_child_weight=None, missing=nan, monotone_constraints=None,\n",
       "                                  n_estimators=100, n_jobs=None, num_parallel_tree=None,\n",
       "                                  random_state=None, reg_alpha=None, reg_lambda=None,\n",
       "                                  scale_pos_weight=None, subsample=None, tree_method=None,\n",
       "                                  validate_parameters=None, verbosity=None)                         ,\n",
       "                    XGBClassifier(base_score=None, booster=None, colsample_bylevel=None,\n",
       "                                  colsample_bynode=None, colsample_bytree=None, gamma=None,\n",
       "                                  gpu_id=None, importance_type='gain', interaction_constraints=None,\n",
       "                                  learning_rate=None, max_delta_step=None, max_depth=None,\n",
       "                                  min_child_weight=None, missing=nan, monotone_constraints=None,\n",
       "                                  n_estimators=100, n_jobs=None, num_parallel_tree=None,\n",
       "                                  random_state=None, reg_alpha=None, reg_lambda=None,\n",
       "                                  scale_pos_weight=None, subsample=None, tree_method=None,\n",
       "                                  validate_parameters=None, verbosity=None)                         ,\n",
       "                    XGBClassifier(base_score=None, booster=None, colsample_bylevel=None,\n",
       "                                  colsample_bynode=None, colsample_bytree=None, gamma=None,\n",
       "                                  gpu_id=None, importance_type='gain', interaction_constraints=None,\n",
       "                                  learning_rate=None, max_delta_step=None, max_depth=None,\n",
       "                                  min_child_weight=None, missing=nan, monotone_constraints=None,\n",
       "                                  n_estimators=100, n_jobs=None, num_parallel_tree=None,\n",
       "                                  random_state=None, reg_alpha=None, reg_lambda=None,\n",
       "                                  scale_pos_weight=None, subsample=None, tree_method=None,\n",
       "                                  validate_parameters=None, verbosity=None)                         ,\n",
       "                    XGBClassifier(base_score=None, booster=None, colsample_bylevel=None,\n",
       "                                  colsample_bynode=None, colsample_bytree=None, gamma=None,\n",
       "                                  gpu_id=None, importance_type='gain', interaction_constraints=None,\n",
       "                                  learning_rate=None, max_delta_step=None, max_depth=None,\n",
       "                                  min_child_weight=None, missing=nan, monotone_constraints=None,\n",
       "                                  n_estimators=100, n_jobs=None, num_parallel_tree=None,\n",
       "                                  random_state=None, reg_alpha=None, reg_lambda=None,\n",
       "                                  scale_pos_weight=None, subsample=None, tree_method=None,\n",
       "                                  validate_parameters=None, verbosity=None)                         ,\n",
       "                    GradientBoostingClassifier(max_depth=10, max_features='auto',\n",
       "                                               min_samples_split=0.14, n_estimators=200),\n",
       "                    RandomForestClassifier(), RandomForestClassifier(),\n",
       "                    RandomForestClassifier(), RandomForestClassifier(),\n",
       "                    RandomForestClassifier()],\n",
       "              mask=[False, False, False, False, False, False, False, False,\n",
       "                    False, False, False, False, False, False, False, False,\n",
       "                    False, False, False, False],\n",
       "        fill_value='?',\n",
       "             dtype=object),\n",
       " 'param_clf__learning_rate': masked_array(data=[--, --, --, 0.1, --, --, --, 0.001, --, 0.01, --, --,\n",
       "                    --, --, 0.01, --, --, --, --, --],\n",
       "              mask=[ True,  True,  True, False,  True,  True,  True, False,\n",
       "                     True, False,  True,  True,  True,  True, False,  True,\n",
       "                     True,  True,  True,  True],\n",
       "        fill_value='?',\n",
       "             dtype=object),\n",
       " 'params': [{'clf__n_estimators': 50,\n",
       "   'clf__min_samples_split': 0.18,\n",
       "   'clf__max_samples': 0.25,\n",
       "   'clf__max_features': 'sqrt',\n",
       "   'clf__max_depth': 4,\n",
       "   'clf__criterion': 'entropy',\n",
       "   'clf': XGBClassifier(base_score=None, booster=None, colsample_bylevel=None,\n",
       "                 colsample_bynode=None, colsample_bytree=None, gamma=None,\n",
       "                 gpu_id=None, importance_type='gain', interaction_constraints=None,\n",
       "                 learning_rate=None, max_delta_step=None, max_depth=None,\n",
       "                 min_child_weight=None, missing=nan, monotone_constraints=None,\n",
       "                 n_estimators=100, n_jobs=None, num_parallel_tree=None,\n",
       "                 random_state=None, reg_alpha=None, reg_lambda=None,\n",
       "                 scale_pos_weight=None, subsample=None, tree_method=None,\n",
       "                 validate_parameters=None, verbosity=None)},\n",
       "  {'clf__n_estimators': 100,\n",
       "   'clf__min_samples_split': 0.33999999999999997,\n",
       "   'clf__max_samples': 0.75,\n",
       "   'clf__max_features': 'sqrt',\n",
       "   'clf__max_depth': 3,\n",
       "   'clf__criterion': 'gini',\n",
       "   'clf': RandomForestClassifier()},\n",
       "  {'clf__n_estimators': 100,\n",
       "   'clf__min_samples_split': 0.45999999999999996,\n",
       "   'clf__max_samples': 0.25,\n",
       "   'clf__max_features': 'sqrt',\n",
       "   'clf__max_depth': 9,\n",
       "   'clf__criterion': 'entropy',\n",
       "   'clf': XGBClassifier(base_score=None, booster=None, colsample_bylevel=None,\n",
       "                 colsample_bynode=None, colsample_bytree=None, gamma=None,\n",
       "                 gpu_id=None, importance_type='gain', interaction_constraints=None,\n",
       "                 learning_rate=None, max_delta_step=None, max_depth=None,\n",
       "                 min_child_weight=None, missing=nan, monotone_constraints=None,\n",
       "                 n_estimators=100, n_jobs=None, num_parallel_tree=None,\n",
       "                 random_state=None, reg_alpha=None, reg_lambda=None,\n",
       "                 scale_pos_weight=None, subsample=None, tree_method=None,\n",
       "                 validate_parameters=None, verbosity=None)},\n",
       "  {'clf__n_estimators': 200,\n",
       "   'clf__min_samples_split': 0.14,\n",
       "   'clf__max_features': 'auto',\n",
       "   'clf__max_depth': 10,\n",
       "   'clf__learning_rate': 0.1,\n",
       "   'clf': GradientBoostingClassifier(max_depth=10, max_features='auto',\n",
       "                              min_samples_split=0.14, n_estimators=200)},\n",
       "  {'clf__n_estimators': 100,\n",
       "   'clf__min_samples_split': 0.26,\n",
       "   'clf__max_samples': 0.25,\n",
       "   'clf__max_features': 'log2',\n",
       "   'clf__max_depth': 10,\n",
       "   'clf__criterion': 'gini',\n",
       "   'clf': RandomForestClassifier()},\n",
       "  {'clf__n_estimators': 100,\n",
       "   'clf__min_samples_split': 0.42000000000000004,\n",
       "   'clf__max_samples': 0.75,\n",
       "   'clf__max_features': 'log2',\n",
       "   'clf__max_depth': 5,\n",
       "   'clf__criterion': 'gini',\n",
       "   'clf': XGBClassifier(base_score=None, booster=None, colsample_bylevel=None,\n",
       "                 colsample_bynode=None, colsample_bytree=None, gamma=None,\n",
       "                 gpu_id=None, importance_type='gain', interaction_constraints=None,\n",
       "                 learning_rate=None, max_delta_step=None, max_depth=None,\n",
       "                 min_child_weight=None, missing=nan, monotone_constraints=None,\n",
       "                 n_estimators=100, n_jobs=None, num_parallel_tree=None,\n",
       "                 random_state=None, reg_alpha=None, reg_lambda=None,\n",
       "                 scale_pos_weight=None, subsample=None, tree_method=None,\n",
       "                 validate_parameters=None, verbosity=None)},\n",
       "  {'clf__n_estimators': 100,\n",
       "   'clf__min_samples_split': 0.33999999999999997,\n",
       "   'clf__max_samples': 1,\n",
       "   'clf__max_features': 'sqrt',\n",
       "   'clf__max_depth': 7,\n",
       "   'clf__criterion': 'entropy',\n",
       "   'clf': RandomForestClassifier()},\n",
       "  {'clf__n_estimators': 100,\n",
       "   'clf__min_samples_split': 0.22,\n",
       "   'clf__max_features': 'sqrt',\n",
       "   'clf__max_depth': 3,\n",
       "   'clf__learning_rate': 0.001,\n",
       "   'clf': GradientBoostingClassifier(max_depth=10, max_features='auto',\n",
       "                              min_samples_split=0.14, n_estimators=200)},\n",
       "  {'clf__n_estimators': 200,\n",
       "   'clf__min_samples_split': 0.22,\n",
       "   'clf__max_samples': 0.75,\n",
       "   'clf__max_features': 'sqrt',\n",
       "   'clf__max_depth': 3,\n",
       "   'clf__criterion': 'entropy',\n",
       "   'clf': XGBClassifier(base_score=None, booster=None, colsample_bylevel=None,\n",
       "                 colsample_bynode=None, colsample_bytree=None, gamma=None,\n",
       "                 gpu_id=None, importance_type='gain', interaction_constraints=None,\n",
       "                 learning_rate=None, max_delta_step=None, max_depth=None,\n",
       "                 min_child_weight=None, missing=nan, monotone_constraints=None,\n",
       "                 n_estimators=100, n_jobs=None, num_parallel_tree=None,\n",
       "                 random_state=None, reg_alpha=None, reg_lambda=None,\n",
       "                 scale_pos_weight=None, subsample=None, tree_method=None,\n",
       "                 validate_parameters=None, verbosity=None)},\n",
       "  {'clf__n_estimators': 50,\n",
       "   'clf__min_samples_split': 0.30000000000000004,\n",
       "   'clf__max_features': 'auto',\n",
       "   'clf__max_depth': 5,\n",
       "   'clf__learning_rate': 0.01,\n",
       "   'clf': GradientBoostingClassifier(max_depth=10, max_features='auto',\n",
       "                              min_samples_split=0.14, n_estimators=200)},\n",
       "  {'clf__n_estimators': 200,\n",
       "   'clf__min_samples_split': 0.33999999999999997,\n",
       "   'clf__max_samples': 0.75,\n",
       "   'clf__max_features': 'log2',\n",
       "   'clf__max_depth': 8,\n",
       "   'clf__criterion': 'entropy',\n",
       "   'clf': XGBClassifier(base_score=None, booster=None, colsample_bylevel=None,\n",
       "                 colsample_bynode=None, colsample_bytree=None, gamma=None,\n",
       "                 gpu_id=None, importance_type='gain', interaction_constraints=None,\n",
       "                 learning_rate=None, max_delta_step=None, max_depth=None,\n",
       "                 min_child_weight=None, missing=nan, monotone_constraints=None,\n",
       "                 n_estimators=100, n_jobs=None, num_parallel_tree=None,\n",
       "                 random_state=None, reg_alpha=None, reg_lambda=None,\n",
       "                 scale_pos_weight=None, subsample=None, tree_method=None,\n",
       "                 validate_parameters=None, verbosity=None)},\n",
       "  {'clf__n_estimators': 50,\n",
       "   'clf__min_samples_split': 0.38,\n",
       "   'clf__max_samples': 0.5,\n",
       "   'clf__max_features': 'auto',\n",
       "   'clf__max_depth': 3,\n",
       "   'clf__criterion': 'entropy',\n",
       "   'clf': XGBClassifier(base_score=None, booster=None, colsample_bylevel=None,\n",
       "                 colsample_bynode=None, colsample_bytree=None, gamma=None,\n",
       "                 gpu_id=None, importance_type='gain', interaction_constraints=None,\n",
       "                 learning_rate=None, max_delta_step=None, max_depth=None,\n",
       "                 min_child_weight=None, missing=nan, monotone_constraints=None,\n",
       "                 n_estimators=100, n_jobs=None, num_parallel_tree=None,\n",
       "                 random_state=None, reg_alpha=None, reg_lambda=None,\n",
       "                 scale_pos_weight=None, subsample=None, tree_method=None,\n",
       "                 validate_parameters=None, verbosity=None)},\n",
       "  {'clf__n_estimators': 50,\n",
       "   'clf__min_samples_split': 0.14,\n",
       "   'clf__max_samples': 0.75,\n",
       "   'clf__max_features': 'sqrt',\n",
       "   'clf__max_depth': 9,\n",
       "   'clf__criterion': 'entropy',\n",
       "   'clf': XGBClassifier(base_score=None, booster=None, colsample_bylevel=None,\n",
       "                 colsample_bynode=None, colsample_bytree=None, gamma=None,\n",
       "                 gpu_id=None, importance_type='gain', interaction_constraints=None,\n",
       "                 learning_rate=None, max_delta_step=None, max_depth=None,\n",
       "                 min_child_weight=None, missing=nan, monotone_constraints=None,\n",
       "                 n_estimators=100, n_jobs=None, num_parallel_tree=None,\n",
       "                 random_state=None, reg_alpha=None, reg_lambda=None,\n",
       "                 scale_pos_weight=None, subsample=None, tree_method=None,\n",
       "                 validate_parameters=None, verbosity=None)},\n",
       "  {'clf__n_estimators': 100,\n",
       "   'clf__min_samples_split': 0.22,\n",
       "   'clf__max_samples': 0.75,\n",
       "   'clf__max_features': 'log2',\n",
       "   'clf__max_depth': 7,\n",
       "   'clf__criterion': 'gini',\n",
       "   'clf': XGBClassifier(base_score=None, booster=None, colsample_bylevel=None,\n",
       "                 colsample_bynode=None, colsample_bytree=None, gamma=None,\n",
       "                 gpu_id=None, importance_type='gain', interaction_constraints=None,\n",
       "                 learning_rate=None, max_delta_step=None, max_depth=None,\n",
       "                 min_child_weight=None, missing=nan, monotone_constraints=None,\n",
       "                 n_estimators=100, n_jobs=None, num_parallel_tree=None,\n",
       "                 random_state=None, reg_alpha=None, reg_lambda=None,\n",
       "                 scale_pos_weight=None, subsample=None, tree_method=None,\n",
       "                 validate_parameters=None, verbosity=None)},\n",
       "  {'clf__n_estimators': 200,\n",
       "   'clf__min_samples_split': 0.38,\n",
       "   'clf__max_features': 'auto',\n",
       "   'clf__max_depth': 7,\n",
       "   'clf__learning_rate': 0.01,\n",
       "   'clf': GradientBoostingClassifier(max_depth=10, max_features='auto',\n",
       "                              min_samples_split=0.14, n_estimators=200)},\n",
       "  {'clf__n_estimators': 200,\n",
       "   'clf__min_samples_split': 0.38,\n",
       "   'clf__max_samples': 0.25,\n",
       "   'clf__max_features': 'auto',\n",
       "   'clf__max_depth': 4,\n",
       "   'clf__criterion': 'entropy',\n",
       "   'clf': RandomForestClassifier()},\n",
       "  {'clf__n_estimators': 100,\n",
       "   'clf__min_samples_split': 0.26,\n",
       "   'clf__max_samples': 1,\n",
       "   'clf__max_features': 'sqrt',\n",
       "   'clf__max_depth': 8,\n",
       "   'clf__criterion': 'entropy',\n",
       "   'clf': RandomForestClassifier()},\n",
       "  {'clf__n_estimators': 100,\n",
       "   'clf__min_samples_split': 0.18,\n",
       "   'clf__max_samples': 0.25,\n",
       "   'clf__max_features': 'sqrt',\n",
       "   'clf__max_depth': 6,\n",
       "   'clf__criterion': 'gini',\n",
       "   'clf': RandomForestClassifier()},\n",
       "  {'clf__n_estimators': 100,\n",
       "   'clf__min_samples_split': 0.1,\n",
       "   'clf__max_samples': 1,\n",
       "   'clf__max_features': 'sqrt',\n",
       "   'clf__max_depth': 3,\n",
       "   'clf__criterion': 'gini',\n",
       "   'clf': RandomForestClassifier()},\n",
       "  {'clf__n_estimators': 200,\n",
       "   'clf__min_samples_split': 0.14,\n",
       "   'clf__max_samples': 0.5,\n",
       "   'clf__max_features': 'log2',\n",
       "   'clf__max_depth': 10,\n",
       "   'clf__criterion': 'entropy',\n",
       "   'clf': RandomForestClassifier()}],\n",
       " 'split0_test_score': array([0.93063287, 0.68636271, 0.93008794, 0.93131671, 0.68636271,\n",
       "        0.93085726, 0.68636271, 0.68636271, 0.93109233, 0.91307739,\n",
       "        0.92828217, 0.92989561, 0.93033369, 0.93070767, 0.92510872,\n",
       "        0.68636271, 0.68636271, 0.68636271, 0.68636271, 0.78744297]),\n",
       " 'split1_test_score': array([0.93119918, 0.68787999, 0.92994903, 0.93206467, 0.68787999,\n",
       "        0.93189371, 0.68787999, 0.68787999, 0.93226768, 0.91865497,\n",
       "        0.93016273, 0.9310389 , 0.93133808, 0.93113507, 0.92667942,\n",
       "        0.68787999, 0.68787999, 0.68787999, 0.68787999, 0.80826807]),\n",
       " 'split2_test_score': array([0.92989561, 0.68635203, 0.92915834, 0.93011999, 0.68635203,\n",
       "        0.93053671, 0.68635203, 0.68635203, 0.93007725, 0.91215848,\n",
       "        0.92803641, 0.92923314, 0.92994903, 0.9302589 , 0.9241257 ,\n",
       "        0.68635203, 0.68635203, 0.68635203, 0.68635203, 0.77274039]),\n",
       " 'mean_test_score': array([0.93057589, 0.68686491, 0.92973177, 0.93116712, 0.68686491,\n",
       "        0.93109589, 0.68686491, 0.68686491, 0.93114575, 0.91463028,\n",
       "        0.92882711, 0.93005588, 0.93054027, 0.93070055, 0.92530461,\n",
       "        0.68686491, 0.68686491, 0.68686491, 0.68686491, 0.78948381]),\n",
       " 'std_test_score': array([0.0005337 , 0.00071778, 0.00040942, 0.00080092, 0.00071778,\n",
       "        0.00057912, 0.00071778, 0.00071778, 0.00089504, 0.0028705 ,\n",
       "        0.00094975, 0.00074586, 0.00058559, 0.00035773, 0.00105171,\n",
       "        0.00071778, 0.00071778, 0.00071778, 0.00071778, 0.01457573]),\n",
       " 'rank_test_score': array([ 5, 13,  8,  1, 13,  3, 13, 13,  2, 11,  9,  7,  6,  4, 10, 13, 13,\n",
       "        13, 13, 12], dtype=int32)}"
      ]
     },
     "execution_count": 24,
     "metadata": {},
     "output_type": "execute_result"
    }
   ],
   "source": [
    "rs_results_3.cv_results_"
   ]
  },
  {
   "cell_type": "markdown",
   "id": "6a05b80f-2267-422f-8d6e-0f1707f6db23",
   "metadata": {},
   "source": [
    "Convert `.cv_results_` to `DataFrame` for better readability"
   ]
  },
  {
   "cell_type": "code",
   "execution_count": 25,
   "id": "14185154-2ecd-42c9-ba27-fadc3c383549",
   "metadata": {},
   "outputs": [],
   "source": [
    "df_rs_res_3 = pd.DataFrame(rs_results_3.cv_results_)"
   ]
  },
  {
   "cell_type": "code",
   "execution_count": 26,
   "id": "548971ba-0d4c-4e07-be0c-c16a6aaae6f1",
   "metadata": {},
   "outputs": [
    {
     "data": {
      "text/plain": [
       "(20, 19)"
      ]
     },
     "execution_count": 26,
     "metadata": {},
     "output_type": "execute_result"
    }
   ],
   "source": [
    "df_rs_res_3.shape"
   ]
  },
  {
   "cell_type": "code",
   "execution_count": 27,
   "id": "8bfa84fd-4b5c-414c-a97e-4db8d4940446",
   "metadata": {
    "tags": []
   },
   "outputs": [
    {
     "data": {
      "application/com.datacamp.data-table.v1+json": {
       "is_truncated": false,
       "table": {
        "data": [
         {
          "0": 34.3604858716,
          "1": 7.7675303618,
          "2": 144.0903863112,
          "3": 335.1632049084,
          "4": 1.6500703494,
          "5": 92.1049129168,
          "6": 1.5128296216,
          "7": 17.7121224403,
          "8": 103.4348589579,
          "9": 37.27409482,
          "index": "mean_fit_time"
         },
         {
          "0": 2.6689596157,
          "1": 0.2449279672,
          "2": 3.4132873582,
          "3": 2.0040252622,
          "4": 0.0197832229,
          "5": 8.5013215025,
          "6": 0.0217241515,
          "7": 0.0357926785,
          "8": 6.7950371357,
          "9": 0.6939723709,
          "index": "std_fit_time"
         },
         {
          "0": 0.1686712901,
          "1": 0.4346763293,
          "2": 0.3042647044,
          "3": 0.5161542892,
          "4": 0.3302620252,
          "5": 0.2626682917,
          "6": 0.3330608209,
          "7": 0.1511731148,
          "8": 0.3201036453,
          "9": 0.0923366547,
          "index": "mean_score_time"
         },
         {
          "0": 0.0425602957,
          "1": 0.0021238101,
          "2": 0.0271893949,
          "3": 0.0123754266,
          "4": 0.0040669654,
          "5": 0.0912199103,
          "6": 0.0103902101,
          "7": 0.0016628148,
          "8": 0.0522181349,
          "9": 0.0011421162,
          "index": "std_score_time"
         },
         {
          "0": 50,
          "1": 100,
          "2": 100,
          "3": 200,
          "4": 100,
          "5": 100,
          "6": 100,
          "7": 100,
          "8": 200,
          "9": 50,
          "index": "param_clf__n_estimators"
         },
         {
          "0": 0.18,
          "1": 0.34,
          "2": 0.46,
          "3": 0.14,
          "4": 0.26,
          "5": 0.42,
          "6": 0.34,
          "7": 0.22,
          "8": 0.22,
          "9": 0.3,
          "index": "param_clf__min_samples_split"
         },
         {
          "0": 0.25,
          "1": 0.75,
          "2": 0.25,
          "3": null,
          "4": 0.25,
          "5": 0.75,
          "6": 1,
          "7": null,
          "8": 0.75,
          "9": null,
          "index": "param_clf__max_samples"
         },
         {
          "0": "sqrt",
          "1": "sqrt",
          "2": "sqrt",
          "3": "auto",
          "4": "log2",
          "5": "log2",
          "6": "sqrt",
          "7": "sqrt",
          "8": "sqrt",
          "9": "auto",
          "index": "param_clf__max_features"
         },
         {
          "0": 4,
          "1": 3,
          "2": 9,
          "3": 10,
          "4": 10,
          "5": 5,
          "6": 7,
          "7": 3,
          "8": 3,
          "9": 5,
          "index": "param_clf__max_depth"
         },
         {
          "0": "entropy",
          "1": "gini",
          "2": "entropy",
          "3": null,
          "4": "gini",
          "5": "gini",
          "6": "entropy",
          "7": null,
          "8": "entropy",
          "9": null,
          "index": "param_clf__criterion"
         },
         {
          "0": {
           "base_score": null,
           "colsample_bylevel": null,
           "colsample_bytree": null,
           "gamma": null,
           "gpu_id": null,
           "interaction_constraints": null,
           "kwargs": {},
           "max_delta_step": null,
           "min_child_weight": null,
           "monotone_constraints": null,
           "n_jobs": null,
           "objective": "binary:logistic",
           "random_state": null,
           "reg_lambda": null,
           "scale_pos_weight": null,
           "subsample": null,
           "use_label_encoder": true,
           "verbosity": null
          },
          "1": {
           "base_estimator": {
            "ccp_alpha": 0,
            "criterion": "gini",
            "max_depth": null,
            "max_leaf_nodes": null,
            "min_samples_leaf": 1,
            "min_weight_fraction_leaf": 0,
            "random_state": null,
            "splitter": "best"
           },
           "ccp_alpha": 0,
           "criterion": "gini",
           "estimator_params": [
            "criterion",
            "max_depth",
            "min_samples_split",
            "min_samples_leaf",
            "min_weight_fraction_leaf",
            "max_features",
            "max_leaf_nodes",
            "min_impurity_decrease",
            "random_state",
            "ccp_alpha"
           ],
           "max_depth": null,
           "max_leaf_nodes": null,
           "min_impurity_decrease": 0,
           "min_samples_split": 2,
           "n_estimators": 100,
           "n_jobs": null,
           "random_state": null,
           "verbose": 0
          },
          "2": {
           "base_score": null,
           "colsample_bylevel": null,
           "colsample_bytree": null,
           "gamma": null,
           "gpu_id": null,
           "interaction_constraints": null,
           "kwargs": {},
           "max_delta_step": null,
           "min_child_weight": null,
           "monotone_constraints": null,
           "n_jobs": null,
           "objective": "binary:logistic",
           "random_state": null,
           "reg_lambda": null,
           "scale_pos_weight": null,
           "subsample": null,
           "use_label_encoder": true,
           "verbosity": null
          },
          "3": {
           "alpha": 0.9,
           "ccp_alpha": 0,
           "init": null,
           "loss": "deviance",
           "max_features": "auto",
           "min_impurity_decrease": 0,
           "min_samples_split": 0.14,
           "n_estimators": 200,
           "n_iter_no_change": null,
           "random_state": null,
           "subsample": 1,
           "validation_fraction": 0.1,
           "warm_start": false
          },
          "4": {
           "base_estimator": {
            "ccp_alpha": 0,
            "criterion": "gini",
            "max_depth": null,
            "max_leaf_nodes": null,
            "min_samples_leaf": 1,
            "min_weight_fraction_leaf": 0,
            "random_state": null,
            "splitter": "best"
           },
           "ccp_alpha": 0,
           "criterion": "gini",
           "estimator_params": [
            "criterion",
            "max_depth",
            "min_samples_split",
            "min_samples_leaf",
            "min_weight_fraction_leaf",
            "max_features",
            "max_leaf_nodes",
            "min_impurity_decrease",
            "random_state",
            "ccp_alpha"
           ],
           "max_depth": null,
           "max_leaf_nodes": null,
           "min_impurity_decrease": 0,
           "min_samples_split": 2,
           "n_estimators": 100,
           "n_jobs": null,
           "random_state": null,
           "verbose": 0
          },
          "5": {
           "base_score": null,
           "colsample_bylevel": null,
           "colsample_bytree": null,
           "gamma": null,
           "gpu_id": null,
           "interaction_constraints": null,
           "kwargs": {},
           "max_delta_step": null,
           "min_child_weight": null,
           "monotone_constraints": null,
           "n_jobs": null,
           "objective": "binary:logistic",
           "random_state": null,
           "reg_lambda": null,
           "scale_pos_weight": null,
           "subsample": null,
           "use_label_encoder": true,
           "verbosity": null
          },
          "6": {
           "base_estimator": {
            "ccp_alpha": 0,
            "criterion": "gini",
            "max_depth": null,
            "max_leaf_nodes": null,
            "min_samples_leaf": 1,
            "min_weight_fraction_leaf": 0,
            "random_state": null,
            "splitter": "best"
           },
           "ccp_alpha": 0,
           "criterion": "gini",
           "estimator_params": [
            "criterion",
            "max_depth",
            "min_samples_split",
            "min_samples_leaf",
            "min_weight_fraction_leaf",
            "max_features",
            "max_leaf_nodes",
            "min_impurity_decrease",
            "random_state",
            "ccp_alpha"
           ],
           "max_depth": null,
           "max_leaf_nodes": null,
           "min_impurity_decrease": 0,
           "min_samples_split": 2,
           "n_estimators": 100,
           "n_jobs": null,
           "random_state": null,
           "verbose": 0
          },
          "7": {
           "alpha": 0.9,
           "ccp_alpha": 0,
           "init": null,
           "loss": "deviance",
           "max_features": "auto",
           "min_impurity_decrease": 0,
           "min_samples_split": 0.14,
           "n_estimators": 200,
           "n_iter_no_change": null,
           "random_state": null,
           "subsample": 1,
           "validation_fraction": 0.1,
           "warm_start": false
          },
          "8": {
           "base_score": null,
           "colsample_bylevel": null,
           "colsample_bytree": null,
           "gamma": null,
           "gpu_id": null,
           "interaction_constraints": null,
           "kwargs": {},
           "max_delta_step": null,
           "min_child_weight": null,
           "monotone_constraints": null,
           "n_jobs": null,
           "objective": "binary:logistic",
           "random_state": null,
           "reg_lambda": null,
           "scale_pos_weight": null,
           "subsample": null,
           "use_label_encoder": true,
           "verbosity": null
          },
          "9": {
           "alpha": 0.9,
           "ccp_alpha": 0,
           "init": null,
           "loss": "deviance",
           "max_features": "auto",
           "min_impurity_decrease": 0,
           "min_samples_split": 0.14,
           "n_estimators": 200,
           "n_iter_no_change": null,
           "random_state": null,
           "subsample": 1,
           "validation_fraction": 0.1,
           "warm_start": false
          },
          "index": "param_clf"
         },
         {
          "0": null,
          "1": null,
          "2": null,
          "3": 0.1,
          "4": null,
          "5": null,
          "6": null,
          "7": 0.001,
          "8": null,
          "9": 0.01,
          "index": "param_clf__learning_rate"
         },
         {
          "0": {
           "clf": {
            "base_score": null,
            "colsample_bylevel": null,
            "colsample_bytree": null,
            "gamma": null,
            "gpu_id": null,
            "interaction_constraints": null,
            "kwargs": {},
            "max_delta_step": null,
            "min_child_weight": null,
            "monotone_constraints": null,
            "n_jobs": null,
            "objective": "binary:logistic",
            "random_state": null,
            "reg_lambda": null,
            "scale_pos_weight": null,
            "subsample": null,
            "use_label_encoder": true,
            "verbosity": null
           },
           "clf__criterion": "entropy",
           "clf__max_depth": 4,
           "clf__max_features": "sqrt",
           "clf__max_samples": 0.25,
           "clf__min_samples_split": 0.18,
           "clf__n_estimators": 50
          },
          "1": {
           "clf": {
            "base_estimator": {
             "ccp_alpha": 0,
             "criterion": "gini",
             "max_depth": null,
             "max_leaf_nodes": null,
             "min_samples_leaf": 1,
             "min_weight_fraction_leaf": 0,
             "random_state": null,
             "splitter": "best"
            },
            "ccp_alpha": 0,
            "criterion": "gini",
            "estimator_params": [
             "criterion",
             "max_depth",
             "min_samples_split",
             "min_samples_leaf",
             "min_weight_fraction_leaf",
             "max_features",
             "max_leaf_nodes",
             "min_impurity_decrease",
             "random_state",
             "ccp_alpha"
            ],
            "max_depth": null,
            "max_leaf_nodes": null,
            "min_impurity_decrease": 0,
            "min_samples_split": 2,
            "n_estimators": 100,
            "n_jobs": null,
            "random_state": null,
            "verbose": 0
           },
           "clf__criterion": "gini",
           "clf__max_depth": 3,
           "clf__max_features": "sqrt",
           "clf__max_samples": 0.75,
           "clf__min_samples_split": 0.34,
           "clf__n_estimators": 100
          },
          "2": {
           "clf": {
            "base_score": null,
            "colsample_bylevel": null,
            "colsample_bytree": null,
            "gamma": null,
            "gpu_id": null,
            "interaction_constraints": null,
            "kwargs": {},
            "max_delta_step": null,
            "min_child_weight": null,
            "monotone_constraints": null,
            "n_jobs": null,
            "objective": "binary:logistic",
            "random_state": null,
            "reg_lambda": null,
            "scale_pos_weight": null,
            "subsample": null,
            "use_label_encoder": true,
            "verbosity": null
           },
           "clf__criterion": "entropy",
           "clf__max_depth": 9,
           "clf__max_features": "sqrt",
           "clf__max_samples": 0.25,
           "clf__min_samples_split": 0.46,
           "clf__n_estimators": 100
          },
          "3": {
           "clf": {
            "alpha": 0.9,
            "ccp_alpha": 0,
            "init": null,
            "loss": "deviance",
            "max_features": "auto",
            "min_impurity_decrease": 0,
            "min_samples_split": 0.14,
            "n_estimators": 200,
            "n_iter_no_change": null,
            "random_state": null,
            "subsample": 1,
            "validation_fraction": 0.1,
            "warm_start": false
           },
           "clf__learning_rate": 0.1,
           "clf__max_depth": 10,
           "clf__max_features": "auto",
           "clf__min_samples_split": 0.14,
           "clf__n_estimators": 200
          },
          "4": {
           "clf": {
            "base_estimator": {
             "ccp_alpha": 0,
             "criterion": "gini",
             "max_depth": null,
             "max_leaf_nodes": null,
             "min_samples_leaf": 1,
             "min_weight_fraction_leaf": 0,
             "random_state": null,
             "splitter": "best"
            },
            "ccp_alpha": 0,
            "criterion": "gini",
            "estimator_params": [
             "criterion",
             "max_depth",
             "min_samples_split",
             "min_samples_leaf",
             "min_weight_fraction_leaf",
             "max_features",
             "max_leaf_nodes",
             "min_impurity_decrease",
             "random_state",
             "ccp_alpha"
            ],
            "max_depth": null,
            "max_leaf_nodes": null,
            "min_impurity_decrease": 0,
            "min_samples_split": 2,
            "n_estimators": 100,
            "n_jobs": null,
            "random_state": null,
            "verbose": 0
           },
           "clf__criterion": "gini",
           "clf__max_depth": 10,
           "clf__max_features": "log2",
           "clf__max_samples": 0.25,
           "clf__min_samples_split": 0.26,
           "clf__n_estimators": 100
          },
          "5": {
           "clf": {
            "base_score": null,
            "colsample_bylevel": null,
            "colsample_bytree": null,
            "gamma": null,
            "gpu_id": null,
            "interaction_constraints": null,
            "kwargs": {},
            "max_delta_step": null,
            "min_child_weight": null,
            "monotone_constraints": null,
            "n_jobs": null,
            "objective": "binary:logistic",
            "random_state": null,
            "reg_lambda": null,
            "scale_pos_weight": null,
            "subsample": null,
            "use_label_encoder": true,
            "verbosity": null
           },
           "clf__criterion": "gini",
           "clf__max_depth": 5,
           "clf__max_features": "log2",
           "clf__max_samples": 0.75,
           "clf__min_samples_split": 0.42,
           "clf__n_estimators": 100
          },
          "6": {
           "clf": {
            "base_estimator": {
             "ccp_alpha": 0,
             "criterion": "gini",
             "max_depth": null,
             "max_leaf_nodes": null,
             "min_samples_leaf": 1,
             "min_weight_fraction_leaf": 0,
             "random_state": null,
             "splitter": "best"
            },
            "ccp_alpha": 0,
            "criterion": "gini",
            "estimator_params": [
             "criterion",
             "max_depth",
             "min_samples_split",
             "min_samples_leaf",
             "min_weight_fraction_leaf",
             "max_features",
             "max_leaf_nodes",
             "min_impurity_decrease",
             "random_state",
             "ccp_alpha"
            ],
            "max_depth": null,
            "max_leaf_nodes": null,
            "min_impurity_decrease": 0,
            "min_samples_split": 2,
            "n_estimators": 100,
            "n_jobs": null,
            "random_state": null,
            "verbose": 0
           },
           "clf__criterion": "entropy",
           "clf__max_depth": 7,
           "clf__max_features": "sqrt",
           "clf__max_samples": 1,
           "clf__min_samples_split": 0.34,
           "clf__n_estimators": 100
          },
          "7": {
           "clf": {
            "alpha": 0.9,
            "ccp_alpha": 0,
            "init": null,
            "loss": "deviance",
            "max_features": "auto",
            "min_impurity_decrease": 0,
            "min_samples_split": 0.14,
            "n_estimators": 200,
            "n_iter_no_change": null,
            "random_state": null,
            "subsample": 1,
            "validation_fraction": 0.1,
            "warm_start": false
           },
           "clf__learning_rate": 0.001,
           "clf__max_depth": 3,
           "clf__max_features": "sqrt",
           "clf__min_samples_split": 0.22,
           "clf__n_estimators": 100
          },
          "8": {
           "clf": {
            "base_score": null,
            "colsample_bylevel": null,
            "colsample_bytree": null,
            "gamma": null,
            "gpu_id": null,
            "interaction_constraints": null,
            "kwargs": {},
            "max_delta_step": null,
            "min_child_weight": null,
            "monotone_constraints": null,
            "n_jobs": null,
            "objective": "binary:logistic",
            "random_state": null,
            "reg_lambda": null,
            "scale_pos_weight": null,
            "subsample": null,
            "use_label_encoder": true,
            "verbosity": null
           },
           "clf__criterion": "entropy",
           "clf__max_depth": 3,
           "clf__max_features": "sqrt",
           "clf__max_samples": 0.75,
           "clf__min_samples_split": 0.22,
           "clf__n_estimators": 200
          },
          "9": {
           "clf": {
            "alpha": 0.9,
            "ccp_alpha": 0,
            "init": null,
            "loss": "deviance",
            "max_features": "auto",
            "min_impurity_decrease": 0,
            "min_samples_split": 0.14,
            "n_estimators": 200,
            "n_iter_no_change": null,
            "random_state": null,
            "subsample": 1,
            "validation_fraction": 0.1,
            "warm_start": false
           },
           "clf__learning_rate": 0.01,
           "clf__max_depth": 5,
           "clf__max_features": "auto",
           "clf__min_samples_split": 0.3,
           "clf__n_estimators": 50
          },
          "index": "params"
         },
         {
          "0": 0.9306328735,
          "1": 0.6863627136,
          "2": 0.9300879377,
          "3": 0.9313167146,
          "4": 0.6863627136,
          "5": 0.9308572589,
          "6": 0.6863627136,
          "7": 0.6863627136,
          "8": 0.9310923292,
          "9": 0.9130773916,
          "index": "split0_test_score"
         },
         {
          "0": 0.9311991794,
          "1": 0.6878799859,
          "2": 0.9299490325,
          "3": 0.9320646657,
          "4": 0.6878799859,
          "5": 0.9318937055,
          "6": 0.6878799859,
          "7": 0.6878799859,
          "8": 0.932267681,
          "9": 0.9186549701,
          "index": "split1_test_score"
         },
         {
          "0": 0.9298956074,
          "1": 0.6863520286,
          "2": 0.9291583413,
          "3": 0.9301199927,
          "4": 0.6863520286,
          "5": 0.9305367084,
          "6": 0.6863520286,
          "7": 0.6863520286,
          "8": 0.9300772527,
          "9": 0.9121584802,
          "index": "split2_test_score"
         },
         {
          "0": 0.9305758868,
          "1": 0.6868649093,
          "2": 0.9297317705,
          "3": 0.9311671243,
          "4": 0.6868649093,
          "5": 0.9310958909,
          "6": 0.6868649093,
          "7": 0.6868649093,
          "8": 0.9311457543,
          "9": 0.9146302806,
          "index": "mean_test_score"
         },
         {
          "0": 0.0005337044,
          "1": 0.0007177808,
          "2": 0.0004094219,
          "3": 0.000800925,
          "4": 0.0007177808,
          "5": 0.0005791196,
          "6": 0.0007177808,
          "7": 0.0007177808,
          "8": 0.0008950362,
          "9": 0.0028705045,
          "index": "std_test_score"
         },
         {
          "0": 5,
          "1": 13,
          "2": 8,
          "3": 1,
          "4": 13,
          "5": 3,
          "6": 13,
          "7": 13,
          "8": 2,
          "9": 11,
          "index": "rank_test_score"
         }
        ],
        "schema": {
         "fields": [
          {
           "name": "index",
           "type": "string"
          },
          {
           "name": 0,
           "type": "string"
          },
          {
           "name": 1,
           "type": "string"
          },
          {
           "name": 2,
           "type": "string"
          },
          {
           "name": 3,
           "type": "string"
          },
          {
           "name": 4,
           "type": "string"
          },
          {
           "name": 5,
           "type": "string"
          },
          {
           "name": 6,
           "type": "string"
          },
          {
           "name": 7,
           "type": "string"
          },
          {
           "name": 8,
           "type": "string"
          },
          {
           "name": 9,
           "type": "string"
          }
         ],
         "pandas_version": "0.20.0",
         "primaryKey": [
          "index"
         ]
        }
       },
       "total_rows": 19
      },
      "text/html": [
       "<div>\n",
       "<style scoped>\n",
       "    .dataframe tbody tr th:only-of-type {\n",
       "        vertical-align: middle;\n",
       "    }\n",
       "\n",
       "    .dataframe tbody tr th {\n",
       "        vertical-align: top;\n",
       "    }\n",
       "\n",
       "    .dataframe thead th {\n",
       "        text-align: right;\n",
       "    }\n",
       "</style>\n",
       "<table border=\"1\" class=\"dataframe\">\n",
       "  <thead>\n",
       "    <tr style=\"text-align: right;\">\n",
       "      <th></th>\n",
       "      <th>0</th>\n",
       "      <th>1</th>\n",
       "      <th>2</th>\n",
       "      <th>3</th>\n",
       "      <th>4</th>\n",
       "      <th>5</th>\n",
       "      <th>6</th>\n",
       "      <th>7</th>\n",
       "      <th>8</th>\n",
       "      <th>9</th>\n",
       "    </tr>\n",
       "  </thead>\n",
       "  <tbody>\n",
       "    <tr>\n",
       "      <th>mean_fit_time</th>\n",
       "      <td>34.360486</td>\n",
       "      <td>7.76753</td>\n",
       "      <td>144.090386</td>\n",
       "      <td>335.163205</td>\n",
       "      <td>1.65007</td>\n",
       "      <td>92.104913</td>\n",
       "      <td>1.51283</td>\n",
       "      <td>17.712122</td>\n",
       "      <td>103.434859</td>\n",
       "      <td>37.274095</td>\n",
       "    </tr>\n",
       "    <tr>\n",
       "      <th>std_fit_time</th>\n",
       "      <td>2.66896</td>\n",
       "      <td>0.244928</td>\n",
       "      <td>3.413287</td>\n",
       "      <td>2.004025</td>\n",
       "      <td>0.019783</td>\n",
       "      <td>8.501322</td>\n",
       "      <td>0.021724</td>\n",
       "      <td>0.035793</td>\n",
       "      <td>6.795037</td>\n",
       "      <td>0.693972</td>\n",
       "    </tr>\n",
       "    <tr>\n",
       "      <th>mean_score_time</th>\n",
       "      <td>0.168671</td>\n",
       "      <td>0.434676</td>\n",
       "      <td>0.304265</td>\n",
       "      <td>0.516154</td>\n",
       "      <td>0.330262</td>\n",
       "      <td>0.262668</td>\n",
       "      <td>0.333061</td>\n",
       "      <td>0.151173</td>\n",
       "      <td>0.320104</td>\n",
       "      <td>0.092337</td>\n",
       "    </tr>\n",
       "    <tr>\n",
       "      <th>std_score_time</th>\n",
       "      <td>0.04256</td>\n",
       "      <td>0.002124</td>\n",
       "      <td>0.027189</td>\n",
       "      <td>0.012375</td>\n",
       "      <td>0.004067</td>\n",
       "      <td>0.09122</td>\n",
       "      <td>0.01039</td>\n",
       "      <td>0.001663</td>\n",
       "      <td>0.052218</td>\n",
       "      <td>0.001142</td>\n",
       "    </tr>\n",
       "    <tr>\n",
       "      <th>param_clf__n_estimators</th>\n",
       "      <td>50</td>\n",
       "      <td>100</td>\n",
       "      <td>100</td>\n",
       "      <td>200</td>\n",
       "      <td>100</td>\n",
       "      <td>100</td>\n",
       "      <td>100</td>\n",
       "      <td>100</td>\n",
       "      <td>200</td>\n",
       "      <td>50</td>\n",
       "    </tr>\n",
       "    <tr>\n",
       "      <th>param_clf__min_samples_split</th>\n",
       "      <td>0.18</td>\n",
       "      <td>0.34</td>\n",
       "      <td>0.46</td>\n",
       "      <td>0.14</td>\n",
       "      <td>0.26</td>\n",
       "      <td>0.42</td>\n",
       "      <td>0.34</td>\n",
       "      <td>0.22</td>\n",
       "      <td>0.22</td>\n",
       "      <td>0.3</td>\n",
       "    </tr>\n",
       "    <tr>\n",
       "      <th>param_clf__max_samples</th>\n",
       "      <td>0.25</td>\n",
       "      <td>0.75</td>\n",
       "      <td>0.25</td>\n",
       "      <td>NaN</td>\n",
       "      <td>0.25</td>\n",
       "      <td>0.75</td>\n",
       "      <td>1</td>\n",
       "      <td>NaN</td>\n",
       "      <td>0.75</td>\n",
       "      <td>NaN</td>\n",
       "    </tr>\n",
       "    <tr>\n",
       "      <th>param_clf__max_features</th>\n",
       "      <td>sqrt</td>\n",
       "      <td>sqrt</td>\n",
       "      <td>sqrt</td>\n",
       "      <td>auto</td>\n",
       "      <td>log2</td>\n",
       "      <td>log2</td>\n",
       "      <td>sqrt</td>\n",
       "      <td>sqrt</td>\n",
       "      <td>sqrt</td>\n",
       "      <td>auto</td>\n",
       "    </tr>\n",
       "    <tr>\n",
       "      <th>param_clf__max_depth</th>\n",
       "      <td>4</td>\n",
       "      <td>3</td>\n",
       "      <td>9</td>\n",
       "      <td>10</td>\n",
       "      <td>10</td>\n",
       "      <td>5</td>\n",
       "      <td>7</td>\n",
       "      <td>3</td>\n",
       "      <td>3</td>\n",
       "      <td>5</td>\n",
       "    </tr>\n",
       "    <tr>\n",
       "      <th>param_clf__criterion</th>\n",
       "      <td>entropy</td>\n",
       "      <td>gini</td>\n",
       "      <td>entropy</td>\n",
       "      <td>NaN</td>\n",
       "      <td>gini</td>\n",
       "      <td>gini</td>\n",
       "      <td>entropy</td>\n",
       "      <td>NaN</td>\n",
       "      <td>entropy</td>\n",
       "      <td>NaN</td>\n",
       "    </tr>\n",
       "    <tr>\n",
       "      <th>param_clf</th>\n",
       "      <td>XGBClassifier(base_score=None, booster=None, c...</td>\n",
       "      <td>RandomForestClassifier()</td>\n",
       "      <td>XGBClassifier(base_score=None, booster=None, c...</td>\n",
       "      <td>GradientBoostingClassifier(max_depth=10, max_f...</td>\n",
       "      <td>RandomForestClassifier()</td>\n",
       "      <td>XGBClassifier(base_score=None, booster=None, c...</td>\n",
       "      <td>RandomForestClassifier()</td>\n",
       "      <td>GradientBoostingClassifier(max_depth=10, max_f...</td>\n",
       "      <td>XGBClassifier(base_score=None, booster=None, c...</td>\n",
       "      <td>GradientBoostingClassifier(max_depth=10, max_f...</td>\n",
       "    </tr>\n",
       "    <tr>\n",
       "      <th>param_clf__learning_rate</th>\n",
       "      <td>NaN</td>\n",
       "      <td>NaN</td>\n",
       "      <td>NaN</td>\n",
       "      <td>0.1</td>\n",
       "      <td>NaN</td>\n",
       "      <td>NaN</td>\n",
       "      <td>NaN</td>\n",
       "      <td>0.001</td>\n",
       "      <td>NaN</td>\n",
       "      <td>0.01</td>\n",
       "    </tr>\n",
       "    <tr>\n",
       "      <th>params</th>\n",
       "      <td>{'clf__n_estimators': 50, 'clf__min_samples_sp...</td>\n",
       "      <td>{'clf__n_estimators': 100, 'clf__min_samples_s...</td>\n",
       "      <td>{'clf__n_estimators': 100, 'clf__min_samples_s...</td>\n",
       "      <td>{'clf__n_estimators': 200, 'clf__min_samples_s...</td>\n",
       "      <td>{'clf__n_estimators': 100, 'clf__min_samples_s...</td>\n",
       "      <td>{'clf__n_estimators': 100, 'clf__min_samples_s...</td>\n",
       "      <td>{'clf__n_estimators': 100, 'clf__min_samples_s...</td>\n",
       "      <td>{'clf__n_estimators': 100, 'clf__min_samples_s...</td>\n",
       "      <td>{'clf__n_estimators': 200, 'clf__min_samples_s...</td>\n",
       "      <td>{'clf__n_estimators': 50, 'clf__min_samples_sp...</td>\n",
       "    </tr>\n",
       "    <tr>\n",
       "      <th>split0_test_score</th>\n",
       "      <td>0.930633</td>\n",
       "      <td>0.686363</td>\n",
       "      <td>0.930088</td>\n",
       "      <td>0.931317</td>\n",
       "      <td>0.686363</td>\n",
       "      <td>0.930857</td>\n",
       "      <td>0.686363</td>\n",
       "      <td>0.686363</td>\n",
       "      <td>0.931092</td>\n",
       "      <td>0.913077</td>\n",
       "    </tr>\n",
       "    <tr>\n",
       "      <th>split1_test_score</th>\n",
       "      <td>0.931199</td>\n",
       "      <td>0.68788</td>\n",
       "      <td>0.929949</td>\n",
       "      <td>0.932065</td>\n",
       "      <td>0.68788</td>\n",
       "      <td>0.931894</td>\n",
       "      <td>0.68788</td>\n",
       "      <td>0.68788</td>\n",
       "      <td>0.932268</td>\n",
       "      <td>0.918655</td>\n",
       "    </tr>\n",
       "    <tr>\n",
       "      <th>split2_test_score</th>\n",
       "      <td>0.929896</td>\n",
       "      <td>0.686352</td>\n",
       "      <td>0.929158</td>\n",
       "      <td>0.93012</td>\n",
       "      <td>0.686352</td>\n",
       "      <td>0.930537</td>\n",
       "      <td>0.686352</td>\n",
       "      <td>0.686352</td>\n",
       "      <td>0.930077</td>\n",
       "      <td>0.912158</td>\n",
       "    </tr>\n",
       "    <tr>\n",
       "      <th>mean_test_score</th>\n",
       "      <td>0.930576</td>\n",
       "      <td>0.686865</td>\n",
       "      <td>0.929732</td>\n",
       "      <td>0.931167</td>\n",
       "      <td>0.686865</td>\n",
       "      <td>0.931096</td>\n",
       "      <td>0.686865</td>\n",
       "      <td>0.686865</td>\n",
       "      <td>0.931146</td>\n",
       "      <td>0.91463</td>\n",
       "    </tr>\n",
       "    <tr>\n",
       "      <th>std_test_score</th>\n",
       "      <td>0.000534</td>\n",
       "      <td>0.000718</td>\n",
       "      <td>0.000409</td>\n",
       "      <td>0.000801</td>\n",
       "      <td>0.000718</td>\n",
       "      <td>0.000579</td>\n",
       "      <td>0.000718</td>\n",
       "      <td>0.000718</td>\n",
       "      <td>0.000895</td>\n",
       "      <td>0.002871</td>\n",
       "    </tr>\n",
       "    <tr>\n",
       "      <th>rank_test_score</th>\n",
       "      <td>5</td>\n",
       "      <td>13</td>\n",
       "      <td>8</td>\n",
       "      <td>1</td>\n",
       "      <td>13</td>\n",
       "      <td>3</td>\n",
       "      <td>13</td>\n",
       "      <td>13</td>\n",
       "      <td>2</td>\n",
       "      <td>11</td>\n",
       "    </tr>\n",
       "  </tbody>\n",
       "</table>\n",
       "</div>"
      ],
      "text/plain": [
       "                                                                              0  \\\n",
       "mean_fit_time                                                         34.360486   \n",
       "std_fit_time                                                            2.66896   \n",
       "mean_score_time                                                        0.168671   \n",
       "std_score_time                                                          0.04256   \n",
       "param_clf__n_estimators                                                      50   \n",
       "param_clf__min_samples_split                                               0.18   \n",
       "param_clf__max_samples                                                     0.25   \n",
       "param_clf__max_features                                                    sqrt   \n",
       "param_clf__max_depth                                                          4   \n",
       "param_clf__criterion                                                    entropy   \n",
       "param_clf                     XGBClassifier(base_score=None, booster=None, c...   \n",
       "param_clf__learning_rate                                                    NaN   \n",
       "params                        {'clf__n_estimators': 50, 'clf__min_samples_sp...   \n",
       "split0_test_score                                                      0.930633   \n",
       "split1_test_score                                                      0.931199   \n",
       "split2_test_score                                                      0.929896   \n",
       "mean_test_score                                                        0.930576   \n",
       "std_test_score                                                         0.000534   \n",
       "rank_test_score                                                               5   \n",
       "\n",
       "                                                                              1  \\\n",
       "mean_fit_time                                                           7.76753   \n",
       "std_fit_time                                                           0.244928   \n",
       "mean_score_time                                                        0.434676   \n",
       "std_score_time                                                         0.002124   \n",
       "param_clf__n_estimators                                                     100   \n",
       "param_clf__min_samples_split                                               0.34   \n",
       "param_clf__max_samples                                                     0.75   \n",
       "param_clf__max_features                                                    sqrt   \n",
       "param_clf__max_depth                                                          3   \n",
       "param_clf__criterion                                                       gini   \n",
       "param_clf                                              RandomForestClassifier()   \n",
       "param_clf__learning_rate                                                    NaN   \n",
       "params                        {'clf__n_estimators': 100, 'clf__min_samples_s...   \n",
       "split0_test_score                                                      0.686363   \n",
       "split1_test_score                                                       0.68788   \n",
       "split2_test_score                                                      0.686352   \n",
       "mean_test_score                                                        0.686865   \n",
       "std_test_score                                                         0.000718   \n",
       "rank_test_score                                                              13   \n",
       "\n",
       "                                                                              2  \\\n",
       "mean_fit_time                                                        144.090386   \n",
       "std_fit_time                                                           3.413287   \n",
       "mean_score_time                                                        0.304265   \n",
       "std_score_time                                                         0.027189   \n",
       "param_clf__n_estimators                                                     100   \n",
       "param_clf__min_samples_split                                               0.46   \n",
       "param_clf__max_samples                                                     0.25   \n",
       "param_clf__max_features                                                    sqrt   \n",
       "param_clf__max_depth                                                          9   \n",
       "param_clf__criterion                                                    entropy   \n",
       "param_clf                     XGBClassifier(base_score=None, booster=None, c...   \n",
       "param_clf__learning_rate                                                    NaN   \n",
       "params                        {'clf__n_estimators': 100, 'clf__min_samples_s...   \n",
       "split0_test_score                                                      0.930088   \n",
       "split1_test_score                                                      0.929949   \n",
       "split2_test_score                                                      0.929158   \n",
       "mean_test_score                                                        0.929732   \n",
       "std_test_score                                                         0.000409   \n",
       "rank_test_score                                                               8   \n",
       "\n",
       "                                                                              3  \\\n",
       "mean_fit_time                                                        335.163205   \n",
       "std_fit_time                                                           2.004025   \n",
       "mean_score_time                                                        0.516154   \n",
       "std_score_time                                                         0.012375   \n",
       "param_clf__n_estimators                                                     200   \n",
       "param_clf__min_samples_split                                               0.14   \n",
       "param_clf__max_samples                                                      NaN   \n",
       "param_clf__max_features                                                    auto   \n",
       "param_clf__max_depth                                                         10   \n",
       "param_clf__criterion                                                        NaN   \n",
       "param_clf                     GradientBoostingClassifier(max_depth=10, max_f...   \n",
       "param_clf__learning_rate                                                    0.1   \n",
       "params                        {'clf__n_estimators': 200, 'clf__min_samples_s...   \n",
       "split0_test_score                                                      0.931317   \n",
       "split1_test_score                                                      0.932065   \n",
       "split2_test_score                                                       0.93012   \n",
       "mean_test_score                                                        0.931167   \n",
       "std_test_score                                                         0.000801   \n",
       "rank_test_score                                                               1   \n",
       "\n",
       "                                                                              4  \\\n",
       "mean_fit_time                                                           1.65007   \n",
       "std_fit_time                                                           0.019783   \n",
       "mean_score_time                                                        0.330262   \n",
       "std_score_time                                                         0.004067   \n",
       "param_clf__n_estimators                                                     100   \n",
       "param_clf__min_samples_split                                               0.26   \n",
       "param_clf__max_samples                                                     0.25   \n",
       "param_clf__max_features                                                    log2   \n",
       "param_clf__max_depth                                                         10   \n",
       "param_clf__criterion                                                       gini   \n",
       "param_clf                                              RandomForestClassifier()   \n",
       "param_clf__learning_rate                                                    NaN   \n",
       "params                        {'clf__n_estimators': 100, 'clf__min_samples_s...   \n",
       "split0_test_score                                                      0.686363   \n",
       "split1_test_score                                                       0.68788   \n",
       "split2_test_score                                                      0.686352   \n",
       "mean_test_score                                                        0.686865   \n",
       "std_test_score                                                         0.000718   \n",
       "rank_test_score                                                              13   \n",
       "\n",
       "                                                                              5  \\\n",
       "mean_fit_time                                                         92.104913   \n",
       "std_fit_time                                                           8.501322   \n",
       "mean_score_time                                                        0.262668   \n",
       "std_score_time                                                          0.09122   \n",
       "param_clf__n_estimators                                                     100   \n",
       "param_clf__min_samples_split                                               0.42   \n",
       "param_clf__max_samples                                                     0.75   \n",
       "param_clf__max_features                                                    log2   \n",
       "param_clf__max_depth                                                          5   \n",
       "param_clf__criterion                                                       gini   \n",
       "param_clf                     XGBClassifier(base_score=None, booster=None, c...   \n",
       "param_clf__learning_rate                                                    NaN   \n",
       "params                        {'clf__n_estimators': 100, 'clf__min_samples_s...   \n",
       "split0_test_score                                                      0.930857   \n",
       "split1_test_score                                                      0.931894   \n",
       "split2_test_score                                                      0.930537   \n",
       "mean_test_score                                                        0.931096   \n",
       "std_test_score                                                         0.000579   \n",
       "rank_test_score                                                               3   \n",
       "\n",
       "                                                                              6  \\\n",
       "mean_fit_time                                                           1.51283   \n",
       "std_fit_time                                                           0.021724   \n",
       "mean_score_time                                                        0.333061   \n",
       "std_score_time                                                          0.01039   \n",
       "param_clf__n_estimators                                                     100   \n",
       "param_clf__min_samples_split                                               0.34   \n",
       "param_clf__max_samples                                                        1   \n",
       "param_clf__max_features                                                    sqrt   \n",
       "param_clf__max_depth                                                          7   \n",
       "param_clf__criterion                                                    entropy   \n",
       "param_clf                                              RandomForestClassifier()   \n",
       "param_clf__learning_rate                                                    NaN   \n",
       "params                        {'clf__n_estimators': 100, 'clf__min_samples_s...   \n",
       "split0_test_score                                                      0.686363   \n",
       "split1_test_score                                                       0.68788   \n",
       "split2_test_score                                                      0.686352   \n",
       "mean_test_score                                                        0.686865   \n",
       "std_test_score                                                         0.000718   \n",
       "rank_test_score                                                              13   \n",
       "\n",
       "                                                                              7  \\\n",
       "mean_fit_time                                                         17.712122   \n",
       "std_fit_time                                                           0.035793   \n",
       "mean_score_time                                                        0.151173   \n",
       "std_score_time                                                         0.001663   \n",
       "param_clf__n_estimators                                                     100   \n",
       "param_clf__min_samples_split                                               0.22   \n",
       "param_clf__max_samples                                                      NaN   \n",
       "param_clf__max_features                                                    sqrt   \n",
       "param_clf__max_depth                                                          3   \n",
       "param_clf__criterion                                                        NaN   \n",
       "param_clf                     GradientBoostingClassifier(max_depth=10, max_f...   \n",
       "param_clf__learning_rate                                                  0.001   \n",
       "params                        {'clf__n_estimators': 100, 'clf__min_samples_s...   \n",
       "split0_test_score                                                      0.686363   \n",
       "split1_test_score                                                       0.68788   \n",
       "split2_test_score                                                      0.686352   \n",
       "mean_test_score                                                        0.686865   \n",
       "std_test_score                                                         0.000718   \n",
       "rank_test_score                                                              13   \n",
       "\n",
       "                                                                              8  \\\n",
       "mean_fit_time                                                        103.434859   \n",
       "std_fit_time                                                           6.795037   \n",
       "mean_score_time                                                        0.320104   \n",
       "std_score_time                                                         0.052218   \n",
       "param_clf__n_estimators                                                     200   \n",
       "param_clf__min_samples_split                                               0.22   \n",
       "param_clf__max_samples                                                     0.75   \n",
       "param_clf__max_features                                                    sqrt   \n",
       "param_clf__max_depth                                                          3   \n",
       "param_clf__criterion                                                    entropy   \n",
       "param_clf                     XGBClassifier(base_score=None, booster=None, c...   \n",
       "param_clf__learning_rate                                                    NaN   \n",
       "params                        {'clf__n_estimators': 200, 'clf__min_samples_s...   \n",
       "split0_test_score                                                      0.931092   \n",
       "split1_test_score                                                      0.932268   \n",
       "split2_test_score                                                      0.930077   \n",
       "mean_test_score                                                        0.931146   \n",
       "std_test_score                                                         0.000895   \n",
       "rank_test_score                                                               2   \n",
       "\n",
       "                                                                              9  \n",
       "mean_fit_time                                                         37.274095  \n",
       "std_fit_time                                                           0.693972  \n",
       "mean_score_time                                                        0.092337  \n",
       "std_score_time                                                         0.001142  \n",
       "param_clf__n_estimators                                                      50  \n",
       "param_clf__min_samples_split                                                0.3  \n",
       "param_clf__max_samples                                                      NaN  \n",
       "param_clf__max_features                                                    auto  \n",
       "param_clf__max_depth                                                          5  \n",
       "param_clf__criterion                                                        NaN  \n",
       "param_clf                     GradientBoostingClassifier(max_depth=10, max_f...  \n",
       "param_clf__learning_rate                                                   0.01  \n",
       "params                        {'clf__n_estimators': 50, 'clf__min_samples_sp...  \n",
       "split0_test_score                                                      0.913077  \n",
       "split1_test_score                                                      0.918655  \n",
       "split2_test_score                                                      0.912158  \n",
       "mean_test_score                                                         0.91463  \n",
       "std_test_score                                                         0.002871  \n",
       "rank_test_score                                                              11  "
      ]
     },
     "execution_count": 27,
     "metadata": {},
     "output_type": "execute_result"
    }
   ],
   "source": [
    "df_rs_res_3.head(10).T"
   ]
  },
  {
   "cell_type": "markdown",
   "id": "1ca3c0ed-138d-4cca-9906-0a099a3b373b",
   "metadata": {},
   "source": [
    "Let's view performance via `accuracy` across the models. "
   ]
  },
  {
   "cell_type": "markdown",
   "id": "964fa127-75aa-45f5-991c-f73667dc0972",
   "metadata": {},
   "source": [
    "Now let's look at performance vs Test."
   ]
  },
  {
   "cell_type": "markdown",
   "id": "071072a1-ec55-42d8-b9a9-9c7e9518ef22",
   "metadata": {},
   "source": [
    "Create `model_type` column"
   ]
  },
  {
   "cell_type": "code",
   "execution_count": 29,
   "id": "d0dda31e-77b9-419e-a7d0-2c097c09056b",
   "metadata": {},
   "outputs": [],
   "source": [
    "df_rs_res_3['model_type'] = df_rs_res_3['param_clf'].apply(lambda x : type(x).__name__)"
   ]
  },
  {
   "cell_type": "markdown",
   "id": "2f01a751-e2db-48c2-b398-dd88554a9480",
   "metadata": {},
   "source": [
    "Look at spread of model's randomly chosen:"
   ]
  },
  {
   "cell_type": "code",
   "execution_count": 31,
   "id": "8156efd7-1556-4afa-afc9-c9dca5410781",
   "metadata": {},
   "outputs": [
    {
     "data": {
      "text/plain": [
       "RandomForestClassifier        8\n",
       "XGBClassifier                 8\n",
       "GradientBoostingClassifier    4\n",
       "Name: model_type, dtype: int64"
      ]
     },
     "execution_count": 31,
     "metadata": {},
     "output_type": "execute_result"
    }
   ],
   "source": [
    "df_rs_res_3['model_type'].value_counts(ascending=False)"
   ]
  },
  {
   "cell_type": "markdown",
   "id": "de8cf737-7e01-4c8b-843d-b831b56b2450",
   "metadata": {},
   "source": [
    "Again `LogisticRegression` didn't get randomly chosen; I will just do a quick RV on `LogisticRegression` for due diligence after reviewing this set."
   ]
  },
  {
   "cell_type": "code",
   "execution_count": 33,
   "id": "36feecc2-0cf4-4dd9-b326-e84ad1a2a4b7",
   "metadata": {},
   "outputs": [
    {
     "data": {
      "image/png": "[encoded data removed]",
      "text/plain": [
       "<Figure size 432x288 with 1 Axes>"
      ]
     },
     "metadata": {
      "needs_background": "light"
     },
     "output_type": "display_data"
    }
   ],
   "source": [
    "sns.lineplot(x='rank_test_score', y='mean_test_score', data=df_rs_res_3)\n",
    "plt.show()"
   ]
  },
  {
   "cell_type": "markdown",
   "id": "fc8bd786-72f3-4770-a866-6c57622dfd0b",
   "metadata": {},
   "source": [
    "It appears most models performed around that .930 range, with the rest in the .68ish range."
   ]
  },
  {
   "cell_type": "markdown",
   "id": "3b259f33-77bb-4cfb-87f6-04f55aa880fc",
   "metadata": {},
   "source": [
    "let's take a quick look at similarly performing models, and see if we can glean anything from their different in parameters."
   ]
  },
  {
   "cell_type": "code",
   "execution_count": 56,
   "id": "67c83c66-6ec2-4a51-892f-27b3d4c24f26",
   "metadata": {},
   "outputs": [
    {
     "data": {
      "application/com.datacamp.data-table.v1+json": {
       "is_truncated": false,
       "table": {
        "data": [
         {
          "index": 3,
          "mean_test_score": 0.9311671243,
          "model_type": "GradientBoostingClassifier",
          "params": {
           "clf": {
            "alpha": 0.9,
            "ccp_alpha": 0,
            "init": null,
            "loss": "deviance",
            "max_features": "auto",
            "min_impurity_decrease": 0,
            "min_samples_split": 0.14,
            "n_estimators": 200,
            "n_iter_no_change": null,
            "random_state": null,
            "subsample": 1,
            "validation_fraction": 0.1,
            "warm_start": false
           },
           "clf__learning_rate": 0.1,
           "clf__max_depth": 10,
           "clf__max_features": "auto",
           "clf__min_samples_split": 0.14,
           "clf__n_estimators": 200
          },
          "rank_test_score": 1
         },
         {
          "index": 8,
          "mean_test_score": 0.9311457543,
          "model_type": "XGBClassifier",
          "params": {
           "clf": {
            "base_score": null,
            "colsample_bylevel": null,
            "colsample_bytree": null,
            "gamma": null,
            "gpu_id": null,
            "interaction_constraints": null,
            "kwargs": {},
            "max_delta_step": null,
            "min_child_weight": null,
            "monotone_constraints": null,
            "n_jobs": null,
            "objective": "binary:logistic",
            "random_state": null,
            "reg_lambda": null,
            "scale_pos_weight": null,
            "subsample": null,
            "use_label_encoder": true,
            "verbosity": null
           },
           "clf__criterion": "entropy",
           "clf__max_depth": 3,
           "clf__max_features": "sqrt",
           "clf__max_samples": 0.75,
           "clf__min_samples_split": 0.22,
           "clf__n_estimators": 200
          },
          "rank_test_score": 2
         },
         {
          "index": 5,
          "mean_test_score": 0.9310958909,
          "model_type": "XGBClassifier",
          "params": {
           "clf": {
            "base_score": null,
            "colsample_bylevel": null,
            "colsample_bytree": null,
            "gamma": null,
            "gpu_id": null,
            "interaction_constraints": null,
            "kwargs": {},
            "max_delta_step": null,
            "min_child_weight": null,
            "monotone_constraints": null,
            "n_jobs": null,
            "objective": "binary:logistic",
            "random_state": null,
            "reg_lambda": null,
            "scale_pos_weight": null,
            "subsample": null,
            "use_label_encoder": true,
            "verbosity": null
           },
           "clf__criterion": "gini",
           "clf__max_depth": 5,
           "clf__max_features": "log2",
           "clf__max_samples": 0.75,
           "clf__min_samples_split": 0.42,
           "clf__n_estimators": 100
          },
          "rank_test_score": 3
         },
         {
          "index": 13,
          "mean_test_score": 0.9307005453,
          "model_type": "XGBClassifier",
          "params": {
           "clf": {
            "base_score": null,
            "colsample_bylevel": null,
            "colsample_bytree": null,
            "gamma": null,
            "gpu_id": null,
            "interaction_constraints": null,
            "kwargs": {},
            "max_delta_step": null,
            "min_child_weight": null,
            "monotone_constraints": null,
            "n_jobs": null,
            "objective": "binary:logistic",
            "random_state": null,
            "reg_lambda": null,
            "scale_pos_weight": null,
            "subsample": null,
            "use_label_encoder": true,
            "verbosity": null
           },
           "clf__criterion": "gini",
           "clf__max_depth": 7,
           "clf__max_features": "log2",
           "clf__max_samples": 0.75,
           "clf__min_samples_split": 0.22,
           "clf__n_estimators": 100
          },
          "rank_test_score": 4
         },
         {
          "index": 0,
          "mean_test_score": 0.9305758868,
          "model_type": "XGBClassifier",
          "params": {
           "clf": {
            "base_score": null,
            "colsample_bylevel": null,
            "colsample_bytree": null,
            "gamma": null,
            "gpu_id": null,
            "interaction_constraints": null,
            "kwargs": {},
            "max_delta_step": null,
            "min_child_weight": null,
            "monotone_constraints": null,
            "n_jobs": null,
            "objective": "binary:logistic",
            "random_state": null,
            "reg_lambda": null,
            "scale_pos_weight": null,
            "subsample": null,
            "use_label_encoder": true,
            "verbosity": null
           },
           "clf__criterion": "entropy",
           "clf__max_depth": 4,
           "clf__max_features": "sqrt",
           "clf__max_samples": 0.25,
           "clf__min_samples_split": 0.18,
           "clf__n_estimators": 50
          },
          "rank_test_score": 5
         },
         {
          "index": 12,
          "mean_test_score": 0.93054027,
          "model_type": "XGBClassifier",
          "params": {
           "clf": {
            "base_score": null,
            "colsample_bylevel": null,
            "colsample_bytree": null,
            "gamma": null,
            "gpu_id": null,
            "interaction_constraints": null,
            "kwargs": {},
            "max_delta_step": null,
            "min_child_weight": null,
            "monotone_constraints": null,
            "n_jobs": null,
            "objective": "binary:logistic",
            "random_state": null,
            "reg_lambda": null,
            "scale_pos_weight": null,
            "subsample": null,
            "use_label_encoder": true,
            "verbosity": null
           },
           "clf__criterion": "entropy",
           "clf__max_depth": 9,
           "clf__max_features": "sqrt",
           "clf__max_samples": 0.75,
           "clf__min_samples_split": 0.14,
           "clf__n_estimators": 50
          },
          "rank_test_score": 6
         },
         {
          "index": 11,
          "mean_test_score": 0.9300558826,
          "model_type": "XGBClassifier",
          "params": {
           "clf": {
            "base_score": null,
            "colsample_bylevel": null,
            "colsample_bytree": null,
            "gamma": null,
            "gpu_id": null,
            "interaction_constraints": null,
            "kwargs": {},
            "max_delta_step": null,
            "min_child_weight": null,
            "monotone_constraints": null,
            "n_jobs": null,
            "objective": "binary:logistic",
            "random_state": null,
            "reg_lambda": null,
            "scale_pos_weight": null,
            "subsample": null,
            "use_label_encoder": true,
            "verbosity": null
           },
           "clf__criterion": "entropy",
           "clf__max_depth": 3,
           "clf__max_features": "auto",
           "clf__max_samples": 0.5,
           "clf__min_samples_split": 0.38,
           "clf__n_estimators": 50
          },
          "rank_test_score": 7
         },
         {
          "index": 2,
          "mean_test_score": 0.9297317705,
          "model_type": "XGBClassifier",
          "params": {
           "clf": {
            "base_score": null,
            "colsample_bylevel": null,
            "colsample_bytree": null,
            "gamma": null,
            "gpu_id": null,
            "interaction_constraints": null,
            "kwargs": {},
            "max_delta_step": null,
            "min_child_weight": null,
            "monotone_constraints": null,
            "n_jobs": null,
            "objective": "binary:logistic",
            "random_state": null,
            "reg_lambda": null,
            "scale_pos_weight": null,
            "subsample": null,
            "use_label_encoder": true,
            "verbosity": null
           },
           "clf__criterion": "entropy",
           "clf__max_depth": 9,
           "clf__max_features": "sqrt",
           "clf__max_samples": 0.25,
           "clf__min_samples_split": 0.46,
           "clf__n_estimators": 100
          },
          "rank_test_score": 8
         },
         {
          "index": 10,
          "mean_test_score": 0.9288271057,
          "model_type": "XGBClassifier",
          "params": {
           "clf": {
            "base_score": null,
            "colsample_bylevel": null,
            "colsample_bytree": null,
            "gamma": null,
            "gpu_id": null,
            "interaction_constraints": null,
            "kwargs": {},
            "max_delta_step": null,
            "min_child_weight": null,
            "monotone_constraints": null,
            "n_jobs": null,
            "objective": "binary:logistic",
            "random_state": null,
            "reg_lambda": null,
            "scale_pos_weight": null,
            "subsample": null,
            "use_label_encoder": true,
            "verbosity": null
           },
           "clf__criterion": "entropy",
           "clf__max_depth": 8,
           "clf__max_features": "log2",
           "clf__max_samples": 0.75,
           "clf__min_samples_split": 0.34,
           "clf__n_estimators": 200
          },
          "rank_test_score": 9
         },
         {
          "index": 14,
          "mean_test_score": 0.925304612,
          "model_type": "GradientBoostingClassifier",
          "params": {
           "clf": {
            "alpha": 0.9,
            "ccp_alpha": 0,
            "init": null,
            "loss": "deviance",
            "max_features": "auto",
            "min_impurity_decrease": 0,
            "min_samples_split": 0.14,
            "n_estimators": 200,
            "n_iter_no_change": null,
            "random_state": null,
            "subsample": 1,
            "validation_fraction": 0.1,
            "warm_start": false
           },
           "clf__learning_rate": 0.01,
           "clf__max_depth": 7,
           "clf__max_features": "auto",
           "clf__min_samples_split": 0.38,
           "clf__n_estimators": 200
          },
          "rank_test_score": 10
         },
         {
          "index": 9,
          "mean_test_score": 0.9146302806,
          "model_type": "GradientBoostingClassifier",
          "params": {
           "clf": {
            "alpha": 0.9,
            "ccp_alpha": 0,
            "init": null,
            "loss": "deviance",
            "max_features": "auto",
            "min_impurity_decrease": 0,
            "min_samples_split": 0.14,
            "n_estimators": 200,
            "n_iter_no_change": null,
            "random_state": null,
            "subsample": 1,
            "validation_fraction": 0.1,
            "warm_start": false
           },
           "clf__learning_rate": 0.01,
           "clf__max_depth": 5,
           "clf__max_features": "auto",
           "clf__min_samples_split": 0.3,
           "clf__n_estimators": 50
          },
          "rank_test_score": 11
         },
         {
          "index": 19,
          "mean_test_score": 0.7894838069,
          "model_type": "RandomForestClassifier",
          "params": {
           "clf": {
            "base_estimator": {
             "ccp_alpha": 0,
             "criterion": "gini",
             "max_depth": null,
             "max_leaf_nodes": null,
             "min_samples_leaf": 1,
             "min_weight_fraction_leaf": 0,
             "random_state": null,
             "splitter": "best"
            },
            "ccp_alpha": 0,
            "criterion": "gini",
            "estimator_params": [
             "criterion",
             "max_depth",
             "min_samples_split",
             "min_samples_leaf",
             "min_weight_fraction_leaf",
             "max_features",
             "max_leaf_nodes",
             "min_impurity_decrease",
             "random_state",
             "ccp_alpha"
            ],
            "max_depth": null,
            "max_leaf_nodes": null,
            "min_impurity_decrease": 0,
            "min_samples_split": 2,
            "n_estimators": 100,
            "n_jobs": null,
            "random_state": null,
            "verbose": 0
           },
           "clf__criterion": "entropy",
           "clf__max_depth": 10,
           "clf__max_features": "log2",
           "clf__max_samples": 0.5,
           "clf__min_samples_split": 0.14,
           "clf__n_estimators": 200
          },
          "rank_test_score": 12
         },
         {
          "index": 7,
          "mean_test_score": 0.6868649093,
          "model_type": "GradientBoostingClassifier",
          "params": {
           "clf": {
            "alpha": 0.9,
            "ccp_alpha": 0,
            "init": null,
            "loss": "deviance",
            "max_features": "auto",
            "min_impurity_decrease": 0,
            "min_samples_split": 0.14,
            "n_estimators": 200,
            "n_iter_no_change": null,
            "random_state": null,
            "subsample": 1,
            "validation_fraction": 0.1,
            "warm_start": false
           },
           "clf__learning_rate": 0.001,
           "clf__max_depth": 3,
           "clf__max_features": "sqrt",
           "clf__min_samples_split": 0.22,
           "clf__n_estimators": 100
          },
          "rank_test_score": 13
         },
         {
          "index": 6,
          "mean_test_score": 0.6868649093,
          "model_type": "RandomForestClassifier",
          "params": {
           "clf": {
            "base_estimator": {
             "ccp_alpha": 0,
             "criterion": "gini",
             "max_depth": null,
             "max_leaf_nodes": null,
             "min_samples_leaf": 1,
             "min_weight_fraction_leaf": 0,
             "random_state": null,
             "splitter": "best"
            },
            "ccp_alpha": 0,
            "criterion": "gini",
            "estimator_params": [
             "criterion",
             "max_depth",
             "min_samples_split",
             "min_samples_leaf",
             "min_weight_fraction_leaf",
             "max_features",
             "max_leaf_nodes",
             "min_impurity_decrease",
             "random_state",
             "ccp_alpha"
            ],
            "max_depth": null,
            "max_leaf_nodes": null,
            "min_impurity_decrease": 0,
            "min_samples_split": 2,
            "n_estimators": 100,
            "n_jobs": null,
            "random_state": null,
            "verbose": 0
           },
           "clf__criterion": "entropy",
           "clf__max_depth": 7,
           "clf__max_features": "sqrt",
           "clf__max_samples": 1,
           "clf__min_samples_split": 0.34,
           "clf__n_estimators": 100
          },
          "rank_test_score": 13
         },
         {
          "index": 4,
          "mean_test_score": 0.6868649093,
          "model_type": "RandomForestClassifier",
          "params": {
           "clf": {
            "base_estimator": {
             "ccp_alpha": 0,
             "criterion": "gini",
             "max_depth": null,
             "max_leaf_nodes": null,
             "min_samples_leaf": 1,
             "min_weight_fraction_leaf": 0,
             "random_state": null,
             "splitter": "best"
            },
            "ccp_alpha": 0,
            "criterion": "gini",
            "estimator_params": [
             "criterion",
             "max_depth",
             "min_samples_split",
             "min_samples_leaf",
             "min_weight_fraction_leaf",
             "max_features",
             "max_leaf_nodes",
             "min_impurity_decrease",
             "random_state",
             "ccp_alpha"
            ],
            "max_depth": null,
            "max_leaf_nodes": null,
            "min_impurity_decrease": 0,
            "min_samples_split": 2,
            "n_estimators": 100,
            "n_jobs": null,
            "random_state": null,
            "verbose": 0
           },
           "clf__criterion": "gini",
           "clf__max_depth": 10,
           "clf__max_features": "log2",
           "clf__max_samples": 0.25,
           "clf__min_samples_split": 0.26,
           "clf__n_estimators": 100
          },
          "rank_test_score": 13
         },
         {
          "index": 1,
          "mean_test_score": 0.6868649093,
          "model_type": "RandomForestClassifier",
          "params": {
           "clf": {
            "base_estimator": {
             "ccp_alpha": 0,
             "criterion": "gini",
             "max_depth": null,
             "max_leaf_nodes": null,
             "min_samples_leaf": 1,
             "min_weight_fraction_leaf": 0,
             "random_state": null,
             "splitter": "best"
            },
            "ccp_alpha": 0,
            "criterion": "gini",
            "estimator_params": [
             "criterion",
             "max_depth",
             "min_samples_split",
             "min_samples_leaf",
             "min_weight_fraction_leaf",
             "max_features",
             "max_leaf_nodes",
             "min_impurity_decrease",
             "random_state",
             "ccp_alpha"
            ],
            "max_depth": null,
            "max_leaf_nodes": null,
            "min_impurity_decrease": 0,
            "min_samples_split": 2,
            "n_estimators": 100,
            "n_jobs": null,
            "random_state": null,
            "verbose": 0
           },
           "clf__criterion": "gini",
           "clf__max_depth": 3,
           "clf__max_features": "sqrt",
           "clf__max_samples": 0.75,
           "clf__min_samples_split": 0.34,
           "clf__n_estimators": 100
          },
          "rank_test_score": 13
         },
         {
          "index": 15,
          "mean_test_score": 0.6868649093,
          "model_type": "RandomForestClassifier",
          "params": {
           "clf": {
            "base_estimator": {
             "ccp_alpha": 0,
             "criterion": "gini",
             "max_depth": null,
             "max_leaf_nodes": null,
             "min_samples_leaf": 1,
             "min_weight_fraction_leaf": 0,
             "random_state": null,
             "splitter": "best"
            },
            "ccp_alpha": 0,
            "criterion": "gini",
            "estimator_params": [
             "criterion",
             "max_depth",
             "min_samples_split",
             "min_samples_leaf",
             "min_weight_fraction_leaf",
             "max_features",
             "max_leaf_nodes",
             "min_impurity_decrease",
             "random_state",
             "ccp_alpha"
            ],
            "max_depth": null,
            "max_leaf_nodes": null,
            "min_impurity_decrease": 0,
            "min_samples_split": 2,
            "n_estimators": 100,
            "n_jobs": null,
            "random_state": null,
            "verbose": 0
           },
           "clf__criterion": "entropy",
           "clf__max_depth": 4,
           "clf__max_features": "auto",
           "clf__max_samples": 0.25,
           "clf__min_samples_split": 0.38,
           "clf__n_estimators": 200
          },
          "rank_test_score": 13
         },
         {
          "index": 16,
          "mean_test_score": 0.6868649093,
          "model_type": "RandomForestClassifier",
          "params": {
           "clf": {
            "base_estimator": {
             "ccp_alpha": 0,
             "criterion": "gini",
             "max_depth": null,
             "max_leaf_nodes": null,
             "min_samples_leaf": 1,
             "min_weight_fraction_leaf": 0,
             "random_state": null,
             "splitter": "best"
            },
            "ccp_alpha": 0,
            "criterion": "gini",
            "estimator_params": [
             "criterion",
             "max_depth",
             "min_samples_split",
             "min_samples_leaf",
             "min_weight_fraction_leaf",
             "max_features",
             "max_leaf_nodes",
             "min_impurity_decrease",
             "random_state",
             "ccp_alpha"
            ],
            "max_depth": null,
            "max_leaf_nodes": null,
            "min_impurity_decrease": 0,
            "min_samples_split": 2,
            "n_estimators": 100,
            "n_jobs": null,
            "random_state": null,
            "verbose": 0
           },
           "clf__criterion": "entropy",
           "clf__max_depth": 8,
           "clf__max_features": "sqrt",
           "clf__max_samples": 1,
           "clf__min_samples_split": 0.26,
           "clf__n_estimators": 100
          },
          "rank_test_score": 13
         },
         {
          "index": 17,
          "mean_test_score": 0.6868649093,
          "model_type": "RandomForestClassifier",
          "params": {
           "clf": {
            "base_estimator": {
             "ccp_alpha": 0,
             "criterion": "gini",
             "max_depth": null,
             "max_leaf_nodes": null,
             "min_samples_leaf": 1,
             "min_weight_fraction_leaf": 0,
             "random_state": null,
             "splitter": "best"
            },
            "ccp_alpha": 0,
            "criterion": "gini",
            "estimator_params": [
             "criterion",
             "max_depth",
             "min_samples_split",
             "min_samples_leaf",
             "min_weight_fraction_leaf",
             "max_features",
             "max_leaf_nodes",
             "min_impurity_decrease",
             "random_state",
             "ccp_alpha"
            ],
            "max_depth": null,
            "max_leaf_nodes": null,
            "min_impurity_decrease": 0,
            "min_samples_split": 2,
            "n_estimators": 100,
            "n_jobs": null,
            "random_state": null,
            "verbose": 0
           },
           "clf__criterion": "gini",
           "clf__max_depth": 6,
           "clf__max_features": "sqrt",
           "clf__max_samples": 0.25,
           "clf__min_samples_split": 0.18,
           "clf__n_estimators": 100
          },
          "rank_test_score": 13
         },
         {
          "index": 18,
          "mean_test_score": 0.6868649093,
          "model_type": "RandomForestClassifier",
          "params": {
           "clf": {
            "base_estimator": {
             "ccp_alpha": 0,
             "criterion": "gini",
             "max_depth": null,
             "max_leaf_nodes": null,
             "min_samples_leaf": 1,
             "min_weight_fraction_leaf": 0,
             "random_state": null,
             "splitter": "best"
            },
            "ccp_alpha": 0,
            "criterion": "gini",
            "estimator_params": [
             "criterion",
             "max_depth",
             "min_samples_split",
             "min_samples_leaf",
             "min_weight_fraction_leaf",
             "max_features",
             "max_leaf_nodes",
             "min_impurity_decrease",
             "random_state",
             "ccp_alpha"
            ],
            "max_depth": null,
            "max_leaf_nodes": null,
            "min_impurity_decrease": 0,
            "min_samples_split": 2,
            "n_estimators": 100,
            "n_jobs": null,
            "random_state": null,
            "verbose": 0
           },
           "clf__criterion": "gini",
           "clf__max_depth": 3,
           "clf__max_features": "sqrt",
           "clf__max_samples": 1,
           "clf__min_samples_split": 0.1,
           "clf__n_estimators": 100
          },
          "rank_test_score": 13
         }
        ],
        "schema": {
         "fields": [
          {
           "name": "index",
           "type": "integer"
          },
          {
           "name": "rank_test_score",
           "type": "integer"
          },
          {
           "name": "mean_test_score",
           "type": "number"
          },
          {
           "name": "model_type",
           "type": "string"
          },
          {
           "name": "params",
           "type": "string"
          }
         ],
         "pandas_version": "0.20.0",
         "primaryKey": [
          "index"
         ]
        }
       },
       "total_rows": 20
      },
      "text/html": [
       "<div>\n",
       "<style scoped>\n",
       "    .dataframe tbody tr th:only-of-type {\n",
       "        vertical-align: middle;\n",
       "    }\n",
       "\n",
       "    .dataframe tbody tr th {\n",
       "        vertical-align: top;\n",
       "    }\n",
       "\n",
       "    .dataframe thead th {\n",
       "        text-align: right;\n",
       "    }\n",
       "</style>\n",
       "<table border=\"1\" class=\"dataframe\">\n",
       "  <thead>\n",
       "    <tr style=\"text-align: right;\">\n",
       "      <th></th>\n",
       "      <th>rank_test_score</th>\n",
       "      <th>mean_test_score</th>\n",
       "      <th>model_type</th>\n",
       "      <th>params</th>\n",
       "    </tr>\n",
       "  </thead>\n",
       "  <tbody>\n",
       "    <tr>\n",
       "      <th>3</th>\n",
       "      <td>1</td>\n",
       "      <td>0.931167</td>\n",
       "      <td>GradientBoostingClassifier</td>\n",
       "      <td>{'clf__n_estimators': 200, 'clf__min_samples_split': 0.14, 'clf__max_features': 'auto', 'clf__max_depth': 10, 'clf__learning_rate': 0.1, 'clf': GradientBoostingClassifier(max_depth=10, max_feature...</td>\n",
       "    </tr>\n",
       "    <tr>\n",
       "      <th>8</th>\n",
       "      <td>2</td>\n",
       "      <td>0.931146</td>\n",
       "      <td>XGBClassifier</td>\n",
       "      <td>{'clf__n_estimators': 200, 'clf__min_samples_split': 0.22, 'clf__max_samples': 0.75, 'clf__max_features': 'sqrt', 'clf__max_depth': 3, 'clf__criterion': 'entropy', 'clf': XGBClassifier(base_score=...</td>\n",
       "    </tr>\n",
       "    <tr>\n",
       "      <th>5</th>\n",
       "      <td>3</td>\n",
       "      <td>0.931096</td>\n",
       "      <td>XGBClassifier</td>\n",
       "      <td>{'clf__n_estimators': 100, 'clf__min_samples_split': 0.42000000000000004, 'clf__max_samples': 0.75, 'clf__max_features': 'log2', 'clf__max_depth': 5, 'clf__criterion': 'gini', 'clf': XGBClassifier...</td>\n",
       "    </tr>\n",
       "    <tr>\n",
       "      <th>13</th>\n",
       "      <td>4</td>\n",
       "      <td>0.930701</td>\n",
       "      <td>XGBClassifier</td>\n",
       "      <td>{'clf__n_estimators': 100, 'clf__min_samples_split': 0.22, 'clf__max_samples': 0.75, 'clf__max_features': 'log2', 'clf__max_depth': 7, 'clf__criterion': 'gini', 'clf': XGBClassifier(base_score=Non...</td>\n",
       "    </tr>\n",
       "    <tr>\n",
       "      <th>0</th>\n",
       "      <td>5</td>\n",
       "      <td>0.930576</td>\n",
       "      <td>XGBClassifier</td>\n",
       "      <td>{'clf__n_estimators': 50, 'clf__min_samples_split': 0.18, 'clf__max_samples': 0.25, 'clf__max_features': 'sqrt', 'clf__max_depth': 4, 'clf__criterion': 'entropy', 'clf': XGBClassifier(base_score=N...</td>\n",
       "    </tr>\n",
       "    <tr>\n",
       "      <th>12</th>\n",
       "      <td>6</td>\n",
       "      <td>0.930540</td>\n",
       "      <td>XGBClassifier</td>\n",
       "      <td>{'clf__n_estimators': 50, 'clf__min_samples_split': 0.14, 'clf__max_samples': 0.75, 'clf__max_features': 'sqrt', 'clf__max_depth': 9, 'clf__criterion': 'entropy', 'clf': XGBClassifier(base_score=N...</td>\n",
       "    </tr>\n",
       "    <tr>\n",
       "      <th>11</th>\n",
       "      <td>7</td>\n",
       "      <td>0.930056</td>\n",
       "      <td>XGBClassifier</td>\n",
       "      <td>{'clf__n_estimators': 50, 'clf__min_samples_split': 0.38, 'clf__max_samples': 0.5, 'clf__max_features': 'auto', 'clf__max_depth': 3, 'clf__criterion': 'entropy', 'clf': XGBClassifier(base_score=No...</td>\n",
       "    </tr>\n",
       "    <tr>\n",
       "      <th>2</th>\n",
       "      <td>8</td>\n",
       "      <td>0.929732</td>\n",
       "      <td>XGBClassifier</td>\n",
       "      <td>{'clf__n_estimators': 100, 'clf__min_samples_split': 0.45999999999999996, 'clf__max_samples': 0.25, 'clf__max_features': 'sqrt', 'clf__max_depth': 9, 'clf__criterion': 'entropy', 'clf': XGBClassif...</td>\n",
       "    </tr>\n",
       "    <tr>\n",
       "      <th>10</th>\n",
       "      <td>9</td>\n",
       "      <td>0.928827</td>\n",
       "      <td>XGBClassifier</td>\n",
       "      <td>{'clf__n_estimators': 200, 'clf__min_samples_split': 0.33999999999999997, 'clf__max_samples': 0.75, 'clf__max_features': 'log2', 'clf__max_depth': 8, 'clf__criterion': 'entropy', 'clf': XGBClassif...</td>\n",
       "    </tr>\n",
       "    <tr>\n",
       "      <th>14</th>\n",
       "      <td>10</td>\n",
       "      <td>0.925305</td>\n",
       "      <td>GradientBoostingClassifier</td>\n",
       "      <td>{'clf__n_estimators': 200, 'clf__min_samples_split': 0.38, 'clf__max_features': 'auto', 'clf__max_depth': 7, 'clf__learning_rate': 0.01, 'clf': GradientBoostingClassifier(max_depth=10, max_feature...</td>\n",
       "    </tr>\n",
       "    <tr>\n",
       "      <th>9</th>\n",
       "      <td>11</td>\n",
       "      <td>0.914630</td>\n",
       "      <td>GradientBoostingClassifier</td>\n",
       "      <td>{'clf__n_estimators': 50, 'clf__min_samples_split': 0.30000000000000004, 'clf__max_features': 'auto', 'clf__max_depth': 5, 'clf__learning_rate': 0.01, 'clf': GradientBoostingClassifier(max_depth=1...</td>\n",
       "    </tr>\n",
       "    <tr>\n",
       "      <th>19</th>\n",
       "      <td>12</td>\n",
       "      <td>0.789484</td>\n",
       "      <td>RandomForestClassifier</td>\n",
       "      <td>{'clf__n_estimators': 200, 'clf__min_samples_split': 0.14, 'clf__max_samples': 0.5, 'clf__max_features': 'log2', 'clf__max_depth': 10, 'clf__criterion': 'entropy', 'clf': RandomForestClassifier()}</td>\n",
       "    </tr>\n",
       "    <tr>\n",
       "      <th>7</th>\n",
       "      <td>13</td>\n",
       "      <td>0.686865</td>\n",
       "      <td>GradientBoostingClassifier</td>\n",
       "      <td>{'clf__n_estimators': 100, 'clf__min_samples_split': 0.22, 'clf__max_features': 'sqrt', 'clf__max_depth': 3, 'clf__learning_rate': 0.001, 'clf': GradientBoostingClassifier(max_depth=10, max_featur...</td>\n",
       "    </tr>\n",
       "    <tr>\n",
       "      <th>6</th>\n",
       "      <td>13</td>\n",
       "      <td>0.686865</td>\n",
       "      <td>RandomForestClassifier</td>\n",
       "      <td>{'clf__n_estimators': 100, 'clf__min_samples_split': 0.33999999999999997, 'clf__max_samples': 1, 'clf__max_features': 'sqrt', 'clf__max_depth': 7, 'clf__criterion': 'entropy', 'clf': RandomForestC...</td>\n",
       "    </tr>\n",
       "    <tr>\n",
       "      <th>4</th>\n",
       "      <td>13</td>\n",
       "      <td>0.686865</td>\n",
       "      <td>RandomForestClassifier</td>\n",
       "      <td>{'clf__n_estimators': 100, 'clf__min_samples_split': 0.26, 'clf__max_samples': 0.25, 'clf__max_features': 'log2', 'clf__max_depth': 10, 'clf__criterion': 'gini', 'clf': RandomForestClassifier()}</td>\n",
       "    </tr>\n",
       "    <tr>\n",
       "      <th>1</th>\n",
       "      <td>13</td>\n",
       "      <td>0.686865</td>\n",
       "      <td>RandomForestClassifier</td>\n",
       "      <td>{'clf__n_estimators': 100, 'clf__min_samples_split': 0.33999999999999997, 'clf__max_samples': 0.75, 'clf__max_features': 'sqrt', 'clf__max_depth': 3, 'clf__criterion': 'gini', 'clf': RandomForestC...</td>\n",
       "    </tr>\n",
       "    <tr>\n",
       "      <th>15</th>\n",
       "      <td>13</td>\n",
       "      <td>0.686865</td>\n",
       "      <td>RandomForestClassifier</td>\n",
       "      <td>{'clf__n_estimators': 200, 'clf__min_samples_split': 0.38, 'clf__max_samples': 0.25, 'clf__max_features': 'auto', 'clf__max_depth': 4, 'clf__criterion': 'entropy', 'clf': RandomForestClassifier()}</td>\n",
       "    </tr>\n",
       "    <tr>\n",
       "      <th>16</th>\n",
       "      <td>13</td>\n",
       "      <td>0.686865</td>\n",
       "      <td>RandomForestClassifier</td>\n",
       "      <td>{'clf__n_estimators': 100, 'clf__min_samples_split': 0.26, 'clf__max_samples': 1, 'clf__max_features': 'sqrt', 'clf__max_depth': 8, 'clf__criterion': 'entropy', 'clf': RandomForestClassifier()}</td>\n",
       "    </tr>\n",
       "    <tr>\n",
       "      <th>17</th>\n",
       "      <td>13</td>\n",
       "      <td>0.686865</td>\n",
       "      <td>RandomForestClassifier</td>\n",
       "      <td>{'clf__n_estimators': 100, 'clf__min_samples_split': 0.18, 'clf__max_samples': 0.25, 'clf__max_features': 'sqrt', 'clf__max_depth': 6, 'clf__criterion': 'gini', 'clf': RandomForestClassifier()}</td>\n",
       "    </tr>\n",
       "    <tr>\n",
       "      <th>18</th>\n",
       "      <td>13</td>\n",
       "      <td>0.686865</td>\n",
       "      <td>RandomForestClassifier</td>\n",
       "      <td>{'clf__n_estimators': 100, 'clf__min_samples_split': 0.1, 'clf__max_samples': 1, 'clf__max_features': 'sqrt', 'clf__max_depth': 3, 'clf__criterion': 'gini', 'clf': RandomForestClassifier()}</td>\n",
       "    </tr>\n",
       "  </tbody>\n",
       "</table>\n",
       "</div>"
      ],
      "text/plain": [
       "    rank_test_score  mean_test_score                  model_type  \\\n",
       "3                 1         0.931167  GradientBoostingClassifier   \n",
       "8                 2         0.931146               XGBClassifier   \n",
       "5                 3         0.931096               XGBClassifier   \n",
       "13                4         0.930701               XGBClassifier   \n",
       "0                 5         0.930576               XGBClassifier   \n",
       "12                6         0.930540               XGBClassifier   \n",
       "11                7         0.930056               XGBClassifier   \n",
       "2                 8         0.929732               XGBClassifier   \n",
       "10                9         0.928827               XGBClassifier   \n",
       "14               10         0.925305  GradientBoostingClassifier   \n",
       "9                11         0.914630  GradientBoostingClassifier   \n",
       "19               12         0.789484      RandomForestClassifier   \n",
       "7                13         0.686865  GradientBoostingClassifier   \n",
       "6                13         0.686865      RandomForestClassifier   \n",
       "4                13         0.686865      RandomForestClassifier   \n",
       "1                13         0.686865      RandomForestClassifier   \n",
       "15               13         0.686865      RandomForestClassifier   \n",
       "16               13         0.686865      RandomForestClassifier   \n",
       "17               13         0.686865      RandomForestClassifier   \n",
       "18               13         0.686865      RandomForestClassifier   \n",
       "\n",
       "                                                                                                                                                                                                     params  \n",
       "3   {'clf__n_estimators': 200, 'clf__min_samples_split': 0.14, 'clf__max_features': 'auto', 'clf__max_depth': 10, 'clf__learning_rate': 0.1, 'clf': GradientBoostingClassifier(max_depth=10, max_feature...  \n",
       "8   {'clf__n_estimators': 200, 'clf__min_samples_split': 0.22, 'clf__max_samples': 0.75, 'clf__max_features': 'sqrt', 'clf__max_depth': 3, 'clf__criterion': 'entropy', 'clf': XGBClassifier(base_score=...  \n",
       "5   {'clf__n_estimators': 100, 'clf__min_samples_split': 0.42000000000000004, 'clf__max_samples': 0.75, 'clf__max_features': 'log2', 'clf__max_depth': 5, 'clf__criterion': 'gini', 'clf': XGBClassifier...  \n",
       "13  {'clf__n_estimators': 100, 'clf__min_samples_split': 0.22, 'clf__max_samples': 0.75, 'clf__max_features': 'log2', 'clf__max_depth': 7, 'clf__criterion': 'gini', 'clf': XGBClassifier(base_score=Non...  \n",
       "0   {'clf__n_estimators': 50, 'clf__min_samples_split': 0.18, 'clf__max_samples': 0.25, 'clf__max_features': 'sqrt', 'clf__max_depth': 4, 'clf__criterion': 'entropy', 'clf': XGBClassifier(base_score=N...  \n",
       "12  {'clf__n_estimators': 50, 'clf__min_samples_split': 0.14, 'clf__max_samples': 0.75, 'clf__max_features': 'sqrt', 'clf__max_depth': 9, 'clf__criterion': 'entropy', 'clf': XGBClassifier(base_score=N...  \n",
       "11  {'clf__n_estimators': 50, 'clf__min_samples_split': 0.38, 'clf__max_samples': 0.5, 'clf__max_features': 'auto', 'clf__max_depth': 3, 'clf__criterion': 'entropy', 'clf': XGBClassifier(base_score=No...  \n",
       "2   {'clf__n_estimators': 100, 'clf__min_samples_split': 0.45999999999999996, 'clf__max_samples': 0.25, 'clf__max_features': 'sqrt', 'clf__max_depth': 9, 'clf__criterion': 'entropy', 'clf': XGBClassif...  \n",
       "10  {'clf__n_estimators': 200, 'clf__min_samples_split': 0.33999999999999997, 'clf__max_samples': 0.75, 'clf__max_features': 'log2', 'clf__max_depth': 8, 'clf__criterion': 'entropy', 'clf': XGBClassif...  \n",
       "14  {'clf__n_estimators': 200, 'clf__min_samples_split': 0.38, 'clf__max_features': 'auto', 'clf__max_depth': 7, 'clf__learning_rate': 0.01, 'clf': GradientBoostingClassifier(max_depth=10, max_feature...  \n",
       "9   {'clf__n_estimators': 50, 'clf__min_samples_split': 0.30000000000000004, 'clf__max_features': 'auto', 'clf__max_depth': 5, 'clf__learning_rate': 0.01, 'clf': GradientBoostingClassifier(max_depth=1...  \n",
       "19     {'clf__n_estimators': 200, 'clf__min_samples_split': 0.14, 'clf__max_samples': 0.5, 'clf__max_features': 'log2', 'clf__max_depth': 10, 'clf__criterion': 'entropy', 'clf': RandomForestClassifier()}  \n",
       "7   {'clf__n_estimators': 100, 'clf__min_samples_split': 0.22, 'clf__max_features': 'sqrt', 'clf__max_depth': 3, 'clf__learning_rate': 0.001, 'clf': GradientBoostingClassifier(max_depth=10, max_featur...  \n",
       "6   {'clf__n_estimators': 100, 'clf__min_samples_split': 0.33999999999999997, 'clf__max_samples': 1, 'clf__max_features': 'sqrt', 'clf__max_depth': 7, 'clf__criterion': 'entropy', 'clf': RandomForestC...  \n",
       "4        {'clf__n_estimators': 100, 'clf__min_samples_split': 0.26, 'clf__max_samples': 0.25, 'clf__max_features': 'log2', 'clf__max_depth': 10, 'clf__criterion': 'gini', 'clf': RandomForestClassifier()}  \n",
       "1   {'clf__n_estimators': 100, 'clf__min_samples_split': 0.33999999999999997, 'clf__max_samples': 0.75, 'clf__max_features': 'sqrt', 'clf__max_depth': 3, 'clf__criterion': 'gini', 'clf': RandomForestC...  \n",
       "15     {'clf__n_estimators': 200, 'clf__min_samples_split': 0.38, 'clf__max_samples': 0.25, 'clf__max_features': 'auto', 'clf__max_depth': 4, 'clf__criterion': 'entropy', 'clf': RandomForestClassifier()}  \n",
       "16        {'clf__n_estimators': 100, 'clf__min_samples_split': 0.26, 'clf__max_samples': 1, 'clf__max_features': 'sqrt', 'clf__max_depth': 8, 'clf__criterion': 'entropy', 'clf': RandomForestClassifier()}  \n",
       "17        {'clf__n_estimators': 100, 'clf__min_samples_split': 0.18, 'clf__max_samples': 0.25, 'clf__max_features': 'sqrt', 'clf__max_depth': 6, 'clf__criterion': 'gini', 'clf': RandomForestClassifier()}  \n",
       "18            {'clf__n_estimators': 100, 'clf__min_samples_split': 0.1, 'clf__max_samples': 1, 'clf__max_features': 'sqrt', 'clf__max_depth': 3, 'clf__criterion': 'gini', 'clf': RandomForestClassifier()}  "
      ]
     },
     "execution_count": 56,
     "metadata": {},
     "output_type": "execute_result"
    }
   ],
   "source": [
    "# Increase column widths\n",
    "pd.set_option('display.max_colwidth', 200)\n",
    "\n",
    "df_rs_res_3[['rank_test_score', 'mean_test_score', 'model_type', 'params']].sort_values(by='rank_test_score', ascending=True)"
   ]
  },
  {
   "cell_type": "markdown",
   "id": "3b69542d-d518-4870-8d6a-4e443b887dc1",
   "metadata": {},
   "source": [
    "**Observations:**  \n",
    "- `XGBoost` performs consisently above the others, which is to be expected. In real world it tends to do that as well :)\n",
    "- Ranging peformance for `GBM`, whicn on quick parsing it seems to align with increasing `max_depth`.\n",
    "- Random Forest lags and odd that they all perform 'the same' even across wide gaps of `max_depth` (e.g. Model index 18 performed the same as Model index 4 but have max depth's of 3, and 10, respectively.\n",
    "\n"
   ]
  },
  {
   "cell_type": "markdown",
   "id": "0e5b99fb-67e6-496f-9cd2-4b475de9e19e",
   "metadata": {},
   "source": [
    "**Let's zero in on the best model in more detail.**"
   ]
  },
  {
   "cell_type": "code",
   "execution_count": 51,
   "id": "7bb0f653-ce50-4cf3-bc3e-484fa6e243d3",
   "metadata": {},
   "outputs": [],
   "source": [
    "rs_best_3 = rs_results_3.best_estimator_"
   ]
  },
  {
   "cell_type": "code",
   "execution_count": 57,
   "id": "097ab822-0108-49be-a8f7-03b4bd8e220c",
   "metadata": {},
   "outputs": [],
   "source": [
    "y_pred = rs_best_3.predict(X_train)"
   ]
  },
  {
   "cell_type": "code",
   "execution_count": 55,
   "id": "f31f6b8e-f119-4d38-8cbc-2d4607d57aa8",
   "metadata": {},
   "outputs": [
    {
     "data": {
      "text/plain": [
       "'test accuracy: 0.5719455208570777'"
      ]
     },
     "metadata": {},
     "output_type": "display_data"
    },
    {
     "data": {
      "text/plain": [
       "'train accuracy: 0.9311671243415359'"
      ]
     },
     "metadata": {},
     "output_type": "display_data"
    }
   ],
   "source": [
    "display(f\"test accuracy: {rs_best_3.score(X_test, y_test)}\")\n",
    "display(f\"train accuracy: {rs_results_3.best_score_}\")"
   ]
  },
  {
   "cell_type": "markdown",
   "id": "6474f2e9-4b04-4b0c-81c7-dd2c7a2b9411",
   "metadata": {},
   "source": [
    "Hmmmm, could be some egregious overfitting."
   ]
  },
  {
   "cell_type": "code",
   "execution_count": 69,
   "id": "762a807b-46ee-44d5-a507-d217cea993c1",
   "metadata": {},
   "outputs": [
    {
     "data": {
      "text/plain": [
       "{'clf__n_estimators': 200,\n",
       " 'clf__min_samples_split': 0.14,\n",
       " 'clf__max_features': 'auto',\n",
       " 'clf__max_depth': 10,\n",
       " 'clf__learning_rate': 0.1,\n",
       " 'clf': GradientBoostingClassifier(max_depth=10, max_features='auto',\n",
       "                            min_samples_split=0.14, n_estimators=200)}"
      ]
     },
     "execution_count": 69,
     "metadata": {},
     "output_type": "execute_result"
    }
   ],
   "source": [
    "rs_results_3.best_params_"
   ]
  },
  {
   "cell_type": "code",
   "execution_count": 70,
   "id": "1e7d70b3-fabd-4562-bc57-76cec99dd8f9",
   "metadata": {},
   "outputs": [],
   "source": [
    "gb_clf = GradientBoostingClassifier(max_depth=10, max_features='auto'\n",
    "                                    ,min_samples_split=0.14\n",
    "                                    ,n_estimators=200\n",
    "                                    ,learning_rate=0.1\n",
    "                                    ,random_state=random_state)"
   ]
  },
  {
   "cell_type": "markdown",
   "id": "c86c2632-ff8f-4c07-b085-94cf35e3a0fe",
   "metadata": {},
   "source": [
    "Well, at a max_depth of 10 and 200 trees and learning rate of 0.1, maybe it really did overfit.\n",
    "\n",
    "**Let's look at the runner-up model.**"
   ]
  },
  {
   "cell_type": "markdown",
   "id": "16ca1da1-7c8a-491e-a614-086b3744b841",
   "metadata": {},
   "source": [
    "Get `clf` for runner-up."
   ]
  },
  {
   "cell_type": "code",
   "execution_count": 124,
   "id": "f6f46416-9fdc-4fa2-842f-53989a614eba",
   "metadata": {},
   "outputs": [
    {
     "data": {
      "application/com.datacamp.data-table.v1+json": {
       "is_truncated": false,
       "table": {
        "data": [
         {
          "0": 200,
          "index": "clf__n_estimators"
         },
         {
          "0": 0.22,
          "index": "clf__min_samples_split"
         },
         {
          "0": 0.75,
          "index": "clf__max_samples"
         },
         {
          "0": "sqrt",
          "index": "clf__max_features"
         },
         {
          "0": 3,
          "index": "clf__max_depth"
         },
         {
          "0": "entropy",
          "index": "clf__criterion"
         },
         {
          "0": {
           "base_score": null,
           "colsample_bylevel": null,
           "colsample_bytree": null,
           "gamma": null,
           "gpu_id": null,
           "interaction_constraints": null,
           "kwargs": {},
           "max_delta_step": null,
           "min_child_weight": null,
           "monotone_constraints": null,
           "n_jobs": null,
           "objective": "binary:logistic",
           "random_state": null,
           "reg_lambda": null,
           "scale_pos_weight": null,
           "subsample": null,
           "use_label_encoder": true,
           "verbosity": null
          },
          "index": "clf"
         }
        ],
        "schema": {
         "fields": [
          {
           "name": "index",
           "type": "string"
          },
          {
           "name": 0,
           "type": "string"
          }
         ],
         "pandas_version": "0.20.0",
         "primaryKey": [
          "index"
         ]
        }
       },
       "total_rows": 7
      },
      "text/html": [
       "<div>\n",
       "<style scoped>\n",
       "    .dataframe tbody tr th:only-of-type {\n",
       "        vertical-align: middle;\n",
       "    }\n",
       "\n",
       "    .dataframe tbody tr th {\n",
       "        vertical-align: top;\n",
       "    }\n",
       "\n",
       "    .dataframe thead th {\n",
       "        text-align: right;\n",
       "    }\n",
       "</style>\n",
       "<table border=\"1\" class=\"dataframe\">\n",
       "  <thead>\n",
       "    <tr style=\"text-align: right;\">\n",
       "      <th></th>\n",
       "      <th>0</th>\n",
       "    </tr>\n",
       "  </thead>\n",
       "  <tbody>\n",
       "    <tr>\n",
       "      <th>clf__n_estimators</th>\n",
       "      <td>200</td>\n",
       "    </tr>\n",
       "    <tr>\n",
       "      <th>clf__min_samples_split</th>\n",
       "      <td>0.22</td>\n",
       "    </tr>\n",
       "    <tr>\n",
       "      <th>clf__max_samples</th>\n",
       "      <td>0.75</td>\n",
       "    </tr>\n",
       "    <tr>\n",
       "      <th>clf__max_features</th>\n",
       "      <td>sqrt</td>\n",
       "    </tr>\n",
       "    <tr>\n",
       "      <th>clf__max_depth</th>\n",
       "      <td>3</td>\n",
       "    </tr>\n",
       "    <tr>\n",
       "      <th>clf__criterion</th>\n",
       "      <td>entropy</td>\n",
       "    </tr>\n",
       "    <tr>\n",
       "      <th>clf</th>\n",
       "      <td>XGBClassifier(base_score=None, booster=None, colsample_bylevel=None,\\n              colsample_bynode=None, colsample_bytree=None, gamma=None,\\n              gpu_id=None, importance_type='gain', in...</td>\n",
       "    </tr>\n",
       "  </tbody>\n",
       "</table>\n",
       "</div>"
      ],
      "text/plain": [
       "                                                                                                                                                                                                                              0\n",
       "clf__n_estimators                                                                                                                                                                                                           200\n",
       "clf__min_samples_split                                                                                                                                                                                                     0.22\n",
       "clf__max_samples                                                                                                                                                                                                           0.75\n",
       "clf__max_features                                                                                                                                                                                                          sqrt\n",
       "clf__max_depth                                                                                                                                                                                                                3\n",
       "clf__criterion                                                                                                                                                                                                          entropy\n",
       "clf                     XGBClassifier(base_score=None, booster=None, colsample_bylevel=None,\\n              colsample_bynode=None, colsample_bytree=None, gamma=None,\\n              gpu_id=None, importance_type='gain', in..."
      ]
     },
     "execution_count": 124,
     "metadata": {},
     "output_type": "execute_result"
    }
   ],
   "source": [
    "rank_seek = 2\n",
    "pd.json_normalize(df_rs_res_3.loc[df_rs_res_3['rank_test_score']==rank_seek][['params']]['params']).T"
   ]
  },
  {
   "cell_type": "code",
   "execution_count": 130,
   "id": "f7375d3e-d722-4eb3-a5db-49ee9716a7b3",
   "metadata": {},
   "outputs": [],
   "source": [
    "xgb_cf = XGBClassifier(n_estimators=200, min_samples_split=0.22, max_samples=0.75, max_features='sqrt', max_depth=3, criterion='entropy', random_state=random_state)"
   ]
  },
  {
   "cell_type": "code",
   "execution_count": 131,
   "id": "97b2a93f-ade7-4fe2-8eaf-a42c405af49c",
   "metadata": {},
   "outputs": [
    {
     "name": "stdout",
     "output_type": "stream",
     "text": [
      "[16:44:53] WARNING: ../src/learner.cc:541: \n",
      "Parameters: { criterion, max_features, max_samples, min_samples_split } might not be used.\n",
      "\n",
      "  This may not be accurate due to some parameters are only used in language bindings but\n",
      "  passed down to XGBoost core.  Or some parameters are not used but slip through this\n",
      "  verification. Please open an issue if you find above cases.\n",
      "\n",
      "\n",
      "[16:44:54] WARNING: ../src/learner.cc:1061: Starting in XGBoost 1.3.0, the default evaluation metric used with the objective 'binary:logistic' was changed from 'error' to 'logloss'. Explicitly set eval_metric if you'd like to restore the old behavior.\n",
      "[16:46:55] WARNING: ../src/learner.cc:541: \n",
      "Parameters: { criterion, max_features, max_samples, min_samples_split } might not be used.\n",
      "\n",
      "  This may not be accurate due to some parameters are only used in language bindings but\n",
      "  passed down to XGBoost core.  Or some parameters are not used but slip through this\n",
      "  verification. Please open an issue if you find above cases.\n",
      "\n",
      "\n",
      "[16:46:56] WARNING: ../src/learner.cc:1061: Starting in XGBoost 1.3.0, the default evaluation metric used with the objective 'binary:logistic' was changed from 'error' to 'logloss'. Explicitly set eval_metric if you'd like to restore the old behavior.\n",
      "[16:48:52] WARNING: ../src/learner.cc:541: \n",
      "Parameters: { criterion, max_features, max_samples, min_samples_split } might not be used.\n",
      "\n",
      "  This may not be accurate due to some parameters are only used in language bindings but\n",
      "  passed down to XGBoost core.  Or some parameters are not used but slip through this\n",
      "  verification. Please open an issue if you find above cases.\n",
      "\n",
      "\n",
      "[16:48:53] WARNING: ../src/learner.cc:1061: Starting in XGBoost 1.3.0, the default evaluation metric used with the objective 'binary:logistic' was changed from 'error' to 'logloss'. Explicitly set eval_metric if you'd like to restore the old behavior.\n"
     ]
    }
   ],
   "source": [
    "xgb_cv = cross_val_score(xgb_cf, X_train, y_train, cv=3)"
   ]
  },
  {
   "cell_type": "code",
   "execution_count": 132,
   "id": "3f117d25-fb3b-4bc2-8504-7b17fc51a314",
   "metadata": {},
   "outputs": [
    {
     "data": {
      "text/plain": [
       "array([0.93109233, 0.93186165, 0.93026958])"
      ]
     },
     "execution_count": 132,
     "metadata": {},
     "output_type": "execute_result"
    }
   ],
   "source": [
    "xgb_cv"
   ]
  },
  {
   "cell_type": "markdown",
   "id": "4953ca1c-be20-4a74-a2f9-862f4a31e1f8",
   "metadata": {},
   "source": [
    "Looks stable."
   ]
  },
  {
   "cell_type": "markdown",
   "id": "b64292c3-937d-418c-8caa-5534bd387311",
   "metadata": {},
   "source": [
    "Let's fit and look at performance vs test."
   ]
  },
  {
   "cell_type": "code",
   "execution_count": 133,
   "id": "d32f8ec9-d816-47e8-9fb9-6cebf6b69da0",
   "metadata": {},
   "outputs": [
    {
     "name": "stdout",
     "output_type": "stream",
     "text": [
      "[16:53:02] WARNING: ../src/learner.cc:541: \n",
      "Parameters: { criterion, max_features, max_samples, min_samples_split } might not be used.\n",
      "\n",
      "  This may not be accurate due to some parameters are only used in language bindings but\n",
      "  passed down to XGBoost core.  Or some parameters are not used but slip through this\n",
      "  verification. Please open an issue if you find above cases.\n",
      "\n",
      "\n",
      "[16:53:05] WARNING: ../src/learner.cc:1061: Starting in XGBoost 1.3.0, the default evaluation metric used with the objective 'binary:logistic' was changed from 'error' to 'logloss'. Explicitly set eval_metric if you'd like to restore the old behavior.\n"
     ]
    },
    {
     "data": {
      "text/plain": [
       "XGBClassifier(base_score=0.5, booster='gbtree', colsample_bylevel=1,\n",
       "              colsample_bynode=1, colsample_bytree=1, criterion='entropy',\n",
       "              gamma=0, gpu_id=-1, importance_type='gain',\n",
       "              interaction_constraints='', learning_rate=0.300000012,\n",
       "              max_delta_step=0, max_depth=3, max_features='sqrt',\n",
       "              max_samples=0.75, min_child_weight=1, min_samples_split=0.22,\n",
       "              missing=nan, monotone_constraints='()', n_estimators=200,\n",
       "              n_jobs=16, num_parallel_tree=1, random_state=24, reg_alpha=0,\n",
       "              reg_lambda=1, scale_pos_weight=1, subsample=1,\n",
       "              tree_method='exact', validate_parameters=1, verbosity=None)"
      ]
     },
     "execution_count": 133,
     "metadata": {},
     "output_type": "execute_result"
    }
   ],
   "source": [
    "xgb_cf.fit(X_train, y_train)"
   ]
  },
  {
   "cell_type": "code",
   "execution_count": 151,
   "id": "a508f5f8-f667-40c0-88c7-84e71f77f0bd",
   "metadata": {},
   "outputs": [
    {
     "data": {
      "text/plain": [
       "0.9339238585731229"
      ]
     },
     "execution_count": 151,
     "metadata": {},
     "output_type": "execute_result"
    }
   ],
   "source": [
    "xgb_cf.score(X_train, y_train)"
   ]
  },
  {
   "cell_type": "code",
   "execution_count": 152,
   "id": "e00e24a0-c29a-4542-9807-424303e82242",
   "metadata": {},
   "outputs": [
    {
     "data": {
      "text/plain": [
       "'test accuracy: 0.5719455208570777'"
      ]
     },
     "metadata": {},
     "output_type": "display_data"
    },
    {
     "data": {
      "text/plain": [
       "'train accuracy: 0.9311671243415359'"
      ]
     },
     "metadata": {},
     "output_type": "display_data"
    }
   ],
   "source": [
    "display(f\"test accuracy: {rs_best_3.score(X_test, y_test)}\")\n",
    "display(f\"train accuracy: {rs_results_3.best_score_}\")"
   ]
  },
  {
   "cell_type": "markdown",
   "id": "c3d26c1b-ffe0-40b1-ab22-6e6f474fa8d7",
   "metadata": {},
   "source": [
    "Overfitting again? Didn't really see this in previous runs. Let's retrieve the results of the first RV run of this notebook."
   ]
  },
  {
   "cell_type": "code",
   "execution_count": 156,
   "id": "e43947ad-0e71-46da-8314-1ac720772e35",
   "metadata": {
    "tags": []
   },
   "outputs": [],
   "source": [
    "#%%script echo skipping\n",
    "# Test loading pickle\n",
    "load_path = './models/rs_results/classic_rs_2nd_pass_20220507_1926.pickle'\n",
    "\n",
    "with open(load_path, 'rb') as f:\n",
    "    # The protocol version used is detected automatically, so we do not\n",
    "    # have to specify it.\n",
    "    rs_results_orig = pickle.load(f)    "
   ]
  },
  {
   "cell_type": "markdown",
   "id": "946a4f71-a1f2-421b-8f4f-b5f59392d8a2",
   "metadata": {},
   "source": [
    "Check test scores on the best estimator."
   ]
  },
  {
   "cell_type": "code",
   "execution_count": 157,
   "id": "662666f3-12fb-44c5-8616-9afb710cfe8b",
   "metadata": {},
   "outputs": [],
   "source": [
    "rs_best_orig = rs_results_orig.best_estimator_"
   ]
  },
  {
   "cell_type": "code",
   "execution_count": 158,
   "id": "993caaba-01b8-481c-aa9b-a5ad2b401084",
   "metadata": {},
   "outputs": [
    {
     "data": {
      "text/plain": [
       "0.6659305903806702"
      ]
     },
     "execution_count": 158,
     "metadata": {},
     "output_type": "execute_result"
    }
   ],
   "source": [
    "rs_best_orig.score(X_test, y_test)"
   ]
  },
  {
   "cell_type": "code",
   "execution_count": null,
   "id": "7fc93963-0600-4b99-95c4-948e95bce732",
   "metadata": {},
   "outputs": [],
   "source": []
  },
  {
   "cell_type": "code",
   "execution_count": null,
   "id": "491c0a74-e52e-46d1-a4f6-c64b143c8755",
   "metadata": {},
   "outputs": [],
   "source": []
  },
  {
   "cell_type": "code",
   "execution_count": null,
   "id": "da6e6e21-e449-4ddb-9246-cd989f3aac58",
   "metadata": {},
   "outputs": [],
   "source": []
  },
  {
   "cell_type": "code",
   "execution_count": null,
   "id": "acaf73c8-c01d-40a9-a64e-de51ba83c48e",
   "metadata": {},
   "outputs": [],
   "source": []
  },
  {
   "cell_type": "code",
   "execution_count": null,
   "id": "ec763055-2a97-4eb2-b761-0495c469845d",
   "metadata": {},
   "outputs": [],
   "source": []
  },
  {
   "cell_type": "code",
   "execution_count": null,
   "id": "327b2649-9772-4ce0-926e-13d2f3d047ba",
   "metadata": {},
   "outputs": [],
   "source": []
  },
  {
   "cell_type": "code",
   "execution_count": null,
   "id": "00e2ab84-946b-482a-b182-05731fd5d1b1",
   "metadata": {},
   "outputs": [],
   "source": []
  },
  {
   "cell_type": "code",
   "execution_count": null,
   "id": "8e31772f-dfde-4ba1-8472-fdf94398f584",
   "metadata": {},
   "outputs": [],
   "source": []
  },
  {
   "cell_type": "code",
   "execution_count": null,
   "id": "885059f2-5840-428c-a915-b9188e7c9511",
   "metadata": {},
   "outputs": [],
   "source": []
  },
  {
   "cell_type": "code",
   "execution_count": null,
   "id": "bef8ccdd-762b-4ccb-8206-f90f44885243",
   "metadata": {},
   "outputs": [],
   "source": []
  },
  {
   "cell_type": "code",
   "execution_count": null,
   "id": "eefa8340-d4b3-4a6a-92c6-527d53dee21f",
   "metadata": {},
   "outputs": [],
   "source": []
  },
  {
   "cell_type": "code",
   "execution_count": null,
   "id": "f290c043-b95a-4e7e-b6a3-b964f5707f5d",
   "metadata": {},
   "outputs": [],
   "source": []
  },
  {
   "cell_type": "code",
   "execution_count": null,
   "id": "981901a5-40dd-4c4a-b0bf-f34b6d1fe28e",
   "metadata": {},
   "outputs": [],
   "source": []
  },
  {
   "cell_type": "markdown",
   "id": "7db89754-e012-4ba7-beb8-832f48032e8b",
   "metadata": {},
   "source": [
    "Consistent, and aligns. That Test score is a smidge higher than train is a little weird, but isn't egregiously so, so will go with it for now."
   ]
  },
  {
   "cell_type": "markdown",
   "id": "68de2808-3d2c-454c-93d9-6b8d0a40c4b9",
   "metadata": {},
   "source": [
    "Let's get some predictions and review some high level classification metrics:"
   ]
  },
  {
   "cell_type": "code",
   "execution_count": 74,
   "id": "667ab9be-d880-45d3-8141-a2a23007c0eb",
   "metadata": {},
   "outputs": [],
   "source": [
    "rs_pred = rs_best.predict(X_test)"
   ]
  },
  {
   "cell_type": "markdown",
   "id": "292e0f2c-9ab4-4e9d-b924-82eb212abec8",
   "metadata": {},
   "source": [
    "*Confusion Matrix*"
   ]
  },
  {
   "cell_type": "code",
   "execution_count": 75,
   "id": "9d39c2eb-cdba-40ba-b803-bbd31124c018",
   "metadata": {},
   "outputs": [],
   "source": [
    "from sklearn.metrics import (confusion_matrix, precision_score, recall_score\n",
    "                             ,plot_roc_curve\n",
    "                            )"
   ]
  },
  {
   "cell_type": "code",
   "execution_count": 76,
   "id": "731c176b-a9e4-48d2-83b5-39fd3bd6fa86",
   "metadata": {},
   "outputs": [
    {
     "data": {
      "text/plain": [
       "array([[45709,  2503],\n",
       "       [ 2323, 19657]])"
      ]
     },
     "metadata": {},
     "output_type": "display_data"
    }
   ],
   "source": [
    "cm = confusion_matrix(y_test, rs_pred)\n",
    "display(cm)"
   ]
  },
  {
   "cell_type": "markdown",
   "id": "6cc2deca-66be-4439-bf23-0c375a33d980",
   "metadata": {},
   "source": [
    "*Accuracy*"
   ]
  },
  {
   "cell_type": "code",
   "execution_count": 77,
   "id": "a9c96b34-7546-422b-9592-324040198728",
   "metadata": {},
   "outputs": [
    {
     "data": {
      "text/plain": [
       "'What % of pitches did we correctly categorize?'"
      ]
     },
     "metadata": {},
     "output_type": "display_data"
    },
    {
     "data": {
      "text/plain": [
       "'test accuracy: 0.931'"
      ]
     },
     "metadata": {},
     "output_type": "display_data"
    }
   ],
   "source": [
    "display(\"What % of pitches did we correctly categorize?\")\n",
    "display(f\"test accuracy: {round(rs_best.score(X_test, y_test), 3)}\")"
   ]
  },
  {
   "cell_type": "markdown",
   "id": "a690ee80-f76f-45f5-8088-e9e0e6091cfc",
   "metadata": {},
   "source": [
    "*Precision*"
   ]
  },
  {
   "cell_type": "code",
   "execution_count": 78,
   "id": "94bdeebc-4b67-4fd7-8e1c-1e8671e213ec",
   "metadata": {},
   "outputs": [
    {
     "data": {
      "text/plain": [
       "'What % predicted strikes did we get correct?'"
      ]
     },
     "metadata": {},
     "output_type": "display_data"
    },
    {
     "data": {
      "text/plain": [
       "'Positive Predictive Value: 0.88705'"
      ]
     },
     "metadata": {},
     "output_type": "display_data"
    }
   ],
   "source": [
    "precision = precision_score(y_test, rs_pred)\n",
    "display(\"What % predicted strikes did we get correct?\")\n",
    "display(f\"Positive Predictive Value: {round(precision,5)}\")"
   ]
  },
  {
   "cell_type": "markdown",
   "id": "781dc09a-9b56-4cdf-98af-0e2a9bd1683d",
   "metadata": {},
   "source": [
    "*Recall*"
   ]
  },
  {
   "cell_type": "code",
   "execution_count": 79,
   "id": "ece71e9d-cf30-4409-963b-58448fb103e1",
   "metadata": {},
   "outputs": [
    {
     "data": {
      "text/plain": [
       "'What percent of actual strikes did we get capture?'"
      ]
     },
     "metadata": {},
     "output_type": "display_data"
    },
    {
     "data": {
      "text/plain": [
       "'True Positive Rate: 0.89431'"
      ]
     },
     "metadata": {},
     "output_type": "display_data"
    }
   ],
   "source": [
    "recall = recall_score(y_test, rs_pred)\n",
    "display(\"What percent of actual strikes did we get capture?\")\n",
    "display(f\"True Positive Rate: {round(recall, 5)}\")"
   ]
  },
  {
   "cell_type": "markdown",
   "id": "f026ebaa-1f07-4911-9d0e-cc0e855e1d0b",
   "metadata": {},
   "source": [
    "*ROC/AUC*"
   ]
  },
  {
   "cell_type": "code",
   "execution_count": 80,
   "id": "973e5f9b-d924-455c-b00d-e6b7be92c4a6",
   "metadata": {},
   "outputs": [
    {
     "data": {
      "image/png": "[encoded data removed]",
      "text/plain": [
       "<Figure size 432x288 with 1 Axes>"
      ]
     },
     "metadata": {
      "needs_background": "light"
     },
     "output_type": "display_data"
    }
   ],
   "source": [
    "fpr, tpr, thresholds = roc_curve(y_test, rs_best.predict_proba(X_test)[:,1])\n",
    "roc_auc = auc(fpr, tpr)\n",
    "roc_display = RocCurveDisplay(fpr=fpr, tpr=tpr, roc_auc=roc_auc)\n",
    "roc_display.plot()\n",
    "plt.show()"
   ]
  },
  {
   "cell_type": "markdown",
   "id": "ec7a025d-a787-4ff4-83a1-258afe8135f3",
   "metadata": {},
   "source": [
    "AUC of 0.98!"
   ]
  },
  {
   "cell_type": "code",
   "execution_count": null,
   "id": "6cd97437-0bb0-407f-a390-4bbe56079bb7",
   "metadata": {},
   "outputs": [],
   "source": []
  },
  {
   "cell_type": "code",
   "execution_count": null,
   "id": "68ec22e1-b606-4000-9cd5-910df5b9700f",
   "metadata": {},
   "outputs": [],
   "source": []
  },
  {
   "cell_type": "code",
   "execution_count": null,
   "id": "49a02f89-e025-41aa-96ea-704690653a88",
   "metadata": {},
   "outputs": [],
   "source": []
  },
  {
   "cell_type": "code",
   "execution_count": null,
   "id": "0691d98a-bded-4e34-9cc5-b9a71449947b",
   "metadata": {},
   "outputs": [],
   "source": []
  },
  {
   "cell_type": "code",
   "execution_count": null,
   "id": "135294b1-4c2a-45e0-91bd-f71fd0a12505",
   "metadata": {},
   "outputs": [],
   "source": []
  },
  {
   "cell_type": "code",
   "execution_count": null,
   "id": "ec575300-9a17-494e-9873-0ab9065efbad",
   "metadata": {},
   "outputs": [],
   "source": []
  },
  {
   "cell_type": "code",
   "execution_count": null,
   "id": "b78b313f-d05c-4db2-86af-37226a1a2ce7",
   "metadata": {},
   "outputs": [],
   "source": []
  },
  {
   "cell_type": "code",
   "execution_count": null,
   "id": "0b0e9c31-5b1e-489c-b97f-44a56faee437",
   "metadata": {},
   "outputs": [],
   "source": []
  },
  {
   "cell_type": "code",
   "execution_count": null,
   "id": "a85f822d-30d0-4c57-bfe6-14bb1803f85b",
   "metadata": {},
   "outputs": [],
   "source": []
  },
  {
   "cell_type": "code",
   "execution_count": null,
   "id": "d7c097a1-ae3b-4b4a-acab-60177572989b",
   "metadata": {},
   "outputs": [],
   "source": []
  },
  {
   "cell_type": "code",
   "execution_count": null,
   "id": "3132027f-7013-47d6-bf31-009fa7f22dae",
   "metadata": {},
   "outputs": [],
   "source": []
  },
  {
   "cell_type": "code",
   "execution_count": 118,
   "id": "ea07441d-9554-4ce6-aad9-42bcf62d2920",
   "metadata": {},
   "outputs": [
    {
     "data": {
      "text/plain": [
       "array([0.1, 0.2, 0.3, 0.4, 0.5])"
      ]
     },
     "execution_count": 118,
     "metadata": {},
     "output_type": "execute_result"
    }
   ],
   "source": [
    "np.linspace(0.1, 0.5, 5, endpoint=True)"
   ]
  },
  {
   "cell_type": "code",
   "execution_count": 108,
   "id": "7cc468f0-7701-4bb7-8307-5bd91f1eeeff",
   "metadata": {},
   "outputs": [
    {
     "data": {
      "text/plain": [
       "array([ 3,  4,  5,  6,  7,  8,  9, 10])"
      ]
     },
     "execution_count": 108,
     "metadata": {},
     "output_type": "execute_result"
    }
   ],
   "source": [
    "np.arange(3,11,1)"
   ]
  },
  {
   "cell_type": "code",
   "execution_count": 17,
   "id": "eb089dae-cba7-4415-a5f5-2b5756a70a5e",
   "metadata": {},
   "outputs": [],
   "source": [
    "# Create a pipeline\n",
    "pipe_2 = Pipeline([('clf', DummyEstimator())]) # Placeholder Estimator\n",
    "\n",
    "# Candidate learning algorithms and their hyperparameters\n",
    "# For selected hyperparameters aimed to select a reasonable range for each.\n",
    "search_space = [\n",
    "                {'clf': [XGBClassifier()],  # Actual Estimator\n",
    "                 'clf__n_estimators': [50, 100, 200],\n",
    "                 'clf__criterion': ['gini', 'entropy'],                 \n",
    "                 'clf__max_depth': np.arange(3,11,1),\n",
    "                 'clf__min_samples_split': np.linspace(0.1, 0.5, 10, endpoint=False),\n",
    "                 'clf__max_features': [\"auto\", \"sqrt\", \"log2\"],\n",
    "                 'clf__max_samples': [0.25, 0.5, 0.75, 1]\n",
    "                }\n",
    "               ]\n",
    "\n",
    "\n",
    "# GradientBoostingClassifier(\n",
    "# RandomForestClassifier(\n",
    "    \n",
    "# Create grid search \n",
    "# gs = GridSearchCV(pipe, search_space, random_state=random_state)\n",
    "rs = RandomizedSearchCV(pipe, search_space, random_state=random_state\n",
    "                        ,n_iter=10 # To limit search time \n",
    "                        ,cv=3      # I like 5 as rule of thumb, but again to limit search time\n",
    "                        ,verbose=True, refit=True, scoring='accuracy')"
   ]
  },
  {
   "cell_type": "markdown",
   "id": "643584af-d701-4d2a-a74b-d1d5aa74d837",
   "metadata": {},
   "source": [
    "---  \n",
    "\n",
    "<span style=\"font-size:0.5em;\">Tag 5</span>\n",
    "\n",
    "<a id='the_end'></a>\n",
    "\n",
    "<span style=\"font-size:0.5em;\"><a href='#toc'>Back to TOC</a></span>"
   ]
  },
  {
   "cell_type": "code",
   "execution_count": null,
   "id": "d0e22588-d009-4f9f-a893-850c0839466f",
   "metadata": {},
   "outputs": [],
   "source": []
  },
  {
   "cell_type": "code",
   "execution_count": 83,
   "id": "599781dc-e6cc-4e4d-87af-69852575eda1",
   "metadata": {},
   "outputs": [
    {
     "data": {
      "text/plain": [
       "<bound method Pipeline.get_params of Pipeline(steps=[('clf',\n",
       "                 XGBClassifier(base_score=0.5, booster='gbtree',\n",
       "                               colsample_bylevel=1, colsample_bynode=1,\n",
       "                               colsample_bytree=1, criterion='entropy', gamma=0,\n",
       "                               gpu_id=-1, importance_type='gain',\n",
       "                               interaction_constraints='',\n",
       "                               learning_rate=0.300000012, max_delta_step=0,\n",
       "                               max_depth=7, max_features='auto',\n",
       "                               max_samples=0.5, min_child_weight=1,\n",
       "                               min_samples_split=0.38, missing=nan,\n",
       "                               monotone_constraints='()', n_estimators=50,\n",
       "                               n_jobs=16, num_parallel_tree=1, random_state=0,\n",
       "                               reg_alpha=0, reg_lambda=1, scale_pos_weight=1,\n",
       "                               subsample=1, tree_method='exact',\n",
       "                               validate_parameters=1, verbosity=None))])>"
      ]
     },
     "execution_count": 83,
     "metadata": {},
     "output_type": "execute_result"
    }
   ],
   "source": [
    "rs_best.get_params"
   ]
  },
  {
   "cell_type": "code",
   "execution_count": 92,
   "id": "f19cf1cc-e076-4340-8c7c-258f39dad537",
   "metadata": {},
   "outputs": [
    {
     "data": {
      "text/plain": [
       "XGBClassifier(base_score=0.5, booster='gbtree', colsample_bylevel=1,\n",
       "              colsample_bynode=1, colsample_bytree=1, criterion='entropy',\n",
       "              gamma=0, gpu_id=-1, importance_type='gain',\n",
       "              interaction_constraints='', learning_rate=0.300000012,\n",
       "              max_delta_step=0, max_depth=7, max_features='auto',\n",
       "              max_samples=0.5, min_child_weight=1, min_samples_split=0.38,\n",
       "              missing=nan, monotone_constraints='()', n_estimators=50,\n",
       "              n_jobs=16, num_parallel_tree=1, random_state=0, reg_alpha=0,\n",
       "              reg_lambda=1, scale_pos_weight=1, subsample=1,\n",
       "              tree_method='exact', validate_parameters=1, verbosity=None)"
      ]
     },
     "execution_count": 92,
     "metadata": {},
     "output_type": "execute_result"
    }
   ],
   "source": [
    "rs_best.named_steps[\"clf\"]"
   ]
  },
  {
   "cell_type": "code",
   "execution_count": 93,
   "id": "3bcc01da-737a-49d3-9339-8dc7eb076b2a",
   "metadata": {},
   "outputs": [
    {
     "data": {
      "text/plain": [
       "sklearn.model_selection._search.RandomizedSearchCV"
      ]
     },
     "execution_count": 93,
     "metadata": {},
     "output_type": "execute_result"
    }
   ],
   "source": [
    "type(rs)"
   ]
  },
  {
   "cell_type": "code",
   "execution_count": 94,
   "id": "6cafc969-5434-4641-8f3e-397203d8e313",
   "metadata": {},
   "outputs": [
    {
     "data": {
      "text/plain": [
       "Pipeline(steps=[('clf',\n",
       "                 XGBClassifier(base_score=0.5, booster='gbtree',\n",
       "                               colsample_bylevel=1, colsample_bynode=1,\n",
       "                               colsample_bytree=1, criterion='entropy', gamma=0,\n",
       "                               gpu_id=-1, importance_type='gain',\n",
       "                               interaction_constraints='',\n",
       "                               learning_rate=0.300000012, max_delta_step=0,\n",
       "                               max_depth=7, max_features='auto',\n",
       "                               max_samples=0.5, min_child_weight=1,\n",
       "                               min_samples_split=0.38, missing=nan,\n",
       "                               monotone_constraints='()', n_estimators=50,\n",
       "                               n_jobs=16, num_parallel_tree=1, random_state=0,\n",
       "                               reg_alpha=0, reg_lambda=1, scale_pos_weight=1,\n",
       "                               subsample=1, tree_method='exact',\n",
       "                               validate_parameters=1, verbosity=None))])"
      ]
     },
     "execution_count": 94,
     "metadata": {},
     "output_type": "execute_result"
    }
   ],
   "source": [
    "rs.best_estimator_"
   ]
  },
  {
   "cell_type": "code",
   "execution_count": 99,
   "id": "16b52884-22f8-4f60-9fc0-48f3f7a64478",
   "metadata": {},
   "outputs": [],
   "source": [
    "z = rs.best_estimator_.named_steps[\"clf\"]"
   ]
  },
  {
   "cell_type": "code",
   "execution_count": 105,
   "id": "22eff407-087e-48cb-b230-6c68fbf19b66",
   "metadata": {},
   "outputs": [
    {
     "data": {
      "text/plain": [
       "(280767, 13)"
      ]
     },
     "execution_count": 105,
     "metadata": {},
     "output_type": "execute_result"
    }
   ],
   "source": [
    "X_train.shape"
   ]
  },
  {
   "cell_type": "code",
   "execution_count": 106,
   "id": "52588f5b-0b82-4c10-9ec7-06ae7b91963b",
   "metadata": {},
   "outputs": [
    {
     "data": {
      "text/plain": [
       "{'f2': 580,\n",
       " 'f5': 672,\n",
       " 'f1': 152,\n",
       " 'f3': 322,\n",
       " 'f9': 57,\n",
       " 'f8': 160,\n",
       " 'f4': 375,\n",
       " 'f7': 260,\n",
       " 'f0': 298,\n",
       " 'f6': 255,\n",
       " 'f11': 10}"
      ]
     },
     "execution_count": 106,
     "metadata": {},
     "output_type": "execute_result"
    }
   ],
   "source": [
    "z.get_booster().get_fscore()"
   ]
  },
  {
   "cell_type": "code",
   "execution_count": 107,
   "id": "a26c920c-dd2d-4843-8a08-bc6a5f4cc30c",
   "metadata": {},
   "outputs": [
    {
     "data": {
      "text/plain": [
       "Index(['break_x', 'stringer_zone_bottom', 'pz', 'angle_z', 'angle_x', 'px',\n",
       "       'break_z', 'pitch_speed', 'stringer_zone_top', 'bside_L', 'bside_R',\n",
       "       'pside_L', 'pside_R'],\n",
       "      dtype='object')"
      ]
     },
     "execution_count": 107,
     "metadata": {},
     "output_type": "execute_result"
    }
   ],
   "source": [
    "df_X.columns"
   ]
  },
  {
   "cell_type": "code",
   "execution_count": 103,
   "id": "caba7f3e-bdaf-483d-84d3-3c331aa695fb",
   "metadata": {},
   "outputs": [
    {
     "data": {
      "text/plain": [
       "11"
      ]
     },
     "execution_count": 103,
     "metadata": {},
     "output_type": "execute_result"
    }
   ],
   "source": [
    "len(z.get_booster().get_fscore())"
   ]
  },
  {
   "cell_type": "code",
   "execution_count": 102,
   "id": "d7a7c956-b8ac-436a-a95b-728cdfbf6380",
   "metadata": {},
   "outputs": [
    {
     "data": {
      "text/plain": [
       "(280767, 13)"
      ]
     },
     "execution_count": 102,
     "metadata": {},
     "output_type": "execute_result"
    }
   ],
   "source": [
    "X_train.shape"
   ]
  },
  {
   "cell_type": "code",
   "execution_count": 87,
   "id": "7dbdf9b9-9617-4edc-b3c2-d8ead00335ec",
   "metadata": {},
   "outputs": [
    {
     "ename": "AttributeError",
     "evalue": "'XGBClassifier' object has no attribute 'get_score'",
     "output_type": "error",
     "traceback": [
      "\u001b[0;31m---------------------------------------------------------------------------\u001b[0m",
      "\u001b[0;31mAttributeError\u001b[0m                            Traceback (most recent call last)",
      "\u001b[0;32m/tmp/ipykernel_6503/648120181.py\u001b[0m in \u001b[0;36m<module>\u001b[0;34m\u001b[0m\n\u001b[0;32m----> 1\u001b[0;31m \u001b[0mrs_best\u001b[0m\u001b[0;34m.\u001b[0m\u001b[0mnamed_steps\u001b[0m\u001b[0;34m[\u001b[0m\u001b[0;34m\"clf\"\u001b[0m\u001b[0;34m]\u001b[0m\u001b[0;34m.\u001b[0m\u001b[0mget_score\u001b[0m\u001b[0;34m(\u001b[0m\u001b[0;34m)\u001b[0m\u001b[0;34m\u001b[0m\u001b[0;34m\u001b[0m\u001b[0m\n\u001b[0m",
      "\u001b[0;31mAttributeError\u001b[0m: 'XGBClassifier' object has no attribute 'get_score'"
     ]
    }
   ],
   "source": [
    "rs_best.named_steps[\"clf\"].get_score()"
   ]
  },
  {
   "cell_type": "markdown",
   "id": "e9fc1490-d3b2-4169-83eb-69fc494a3bc7",
   "metadata": {
    "tags": []
   },
   "source": [
    "-----"
   ]
  }
 ],
 "metadata": {
  "kernelspec": {
   "display_name": "Python 3 (ipykernel)",
   "language": "python",
   "name": "python3"
  },
  "language_info": {
   "codemirror_mode": {
    "name": "ipython",
    "version": 3
   },
   "file_extension": ".py",
   "mimetype": "text/x-python",
   "name": "python",
   "nbconvert_exporter": "python",
   "pygments_lexer": "ipython3",
   "version": "3.8.10"
  },
  "toc-autonumbering": false,
  "toc-showmarkdowntxt": false,
  "widgets": {
   "application/vnd.jupyter.widget-state+json": {
    "state": {},
    "version_major": 2,
    "version_minor": 0
   }
  }
 },
 "nbformat": 4,
 "nbformat_minor": 5
}
