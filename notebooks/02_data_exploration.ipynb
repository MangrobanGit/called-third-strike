{
 "cells": [
  {
   "cell_type": "markdown",
   "id": "38d290fd-eac4-4ff3-8973-a268b649d00f",
   "metadata": {},
   "source": [
    "# Called Third Strike\n",
    "## Part 2. Data Exploration \n",
    "\n",
    "This project's goal is to build probability models for as to whether a pitch will be called a strike or not. The intended models are to be:\n",
    "1. A neural network (NN) based approach.\n",
    "2. A non-NN based approach.\n",
    "\n",
    "---\n",
    "__**This Notebook's**__ objective is to explore the data to gain further familiarity with it, and to identify candiate features for our "
   ]
  },
  {
   "cell_type": "markdown",
   "id": "d9404507-c283-4f49-882e-c4a9303cf812",
   "metadata": {},
   "source": [
    "---"
   ]
  },
  {
   "cell_type": "markdown",
   "id": "9c2d0af2-1526-4a36-9886-427babce2b52",
   "metadata": {},
   "source": [
    "### Import Data"
   ]
  },
  {
   "cell_type": "markdown",
   "id": "48de4e57-d9cd-4f56-9974-7d694e93dbbb",
   "metadata": {},
   "source": [
    "We have saved local versions of the data, so we will ingest them from there.\n",
    "\n",
    "We'll use `pandas` to read into dataframes and explore. "
   ]
  },
  {
   "cell_type": "code",
   "execution_count": 2,
   "id": "7bdbbea0-4716-4234-a7ea-6b0bc4d94747",
   "metadata": {},
   "outputs": [],
   "source": [
    "### Data handling\n",
    "import pandas as pd"
   ]
  },
  {
   "cell_type": "code",
   "execution_count": 3,
   "id": "3f26d986-0be5-460a-8dbb-876bb95b7817",
   "metadata": {},
   "outputs": [],
   "source": [
    "df_train = pd.read_csv('../data/train_ingested.csv')\n",
    "df_test = pd.read_csv('../data/test_ingested.csv')"
   ]
  },
  {
   "cell_type": "markdown",
   "id": "229beda4-4b0a-4eb5-8dc4-6458eb2af3e7",
   "metadata": {},
   "source": [
    "Let's work with the training data."
   ]
  },
  {
   "cell_type": "code",
   "execution_count": 5,
   "id": "5a5b1c8e-1afd-45a1-aa5e-df397996fa38",
   "metadata": {},
   "outputs": [
    {
     "data": {
      "application/com.datacamp.data-table.v1+json": {
       "is_truncated": false,
       "table": {
        "data": [
         {
          "0": "01311c57-5046-48d7-ac68-000060a98ccb",
          "1": "208d0186-b7c9-46bd-8297-0001539b714c",
          "2": "4a24d09e-2d9b-4d12-a0eb-0004723ce539",
          "3": "486aa6b8-7c43-4974-8a53-000611a9c649",
          "4": "2aff251b-099b-447b-9862-00100124b7c1",
          "index": "pitch_id"
         },
         {
          "0": 2021,
          "1": 2021,
          "2": 2021,
          "3": 2021,
          "4": 2021,
          "index": "season"
         },
         {
          "0": "2021-05-13",
          "1": "2021-07-29",
          "2": "2021-05-15",
          "3": "2021-06-05",
          "4": "2021-06-13",
          "index": "game_date"
         },
         {
          "0": 7,
          "1": 9,
          "2": 1,
          "3": 1,
          "4": 3,
          "index": "inning"
         },
         {
          "0": "home",
          "1": "home",
          "2": "home",
          "3": "home",
          "4": "home",
          "index": "side"
         },
         {
          "0": -2,
          "1": 4,
          "2": 0,
          "3": 2,
          "4": -2,
          "index": "run_diff"
         },
         {
          "0": 54,
          "1": 69,
          "2": 1,
          "3": 5,
          "4": 24,
          "index": "at_bat_index"
         },
         {
          "0": 5,
          "1": 2,
          "2": 3,
          "3": 3,
          "4": 5,
          "index": "pitch_of_ab"
         },
         {
          "0": 405947,
          "1": 468294,
          "2": 406141,
          "3": 615134,
          "4": 626949,
          "index": "batter"
         },
         {
          "0": 756778,
          "1": 778005,
          "2": 451846,
          "3": 564585,
          "4": 784463,
          "index": "pitcher"
         },
         {
          "0": 528871,
          "1": 594400,
          "2": 633795,
          "3": 633812,
          "4": 614419,
          "index": "catcher"
         },
         {
          "0": 482420,
          "1": 583103,
          "2": 423579,
          "3": 482532,
          "4": 596164,
          "index": "umpire"
         },
         {
          "0": "R",
          "1": "L",
          "2": "L",
          "3": "R",
          "4": "R",
          "index": "bside"
         },
         {
          "0": "L",
          "1": "R",
          "2": "L",
          "3": "L",
          "4": "R",
          "index": "pside"
         },
         {
          "0": 1.56,
          "1": 1.59,
          "2": 1.68,
          "3": 1.63,
          "4": 1.63,
          "index": "stringer_zone_bottom"
         },
         {
          "0": 3.41,
          "1": 3.47,
          "2": 3.58,
          "3": 3.55,
          "4": 3.55,
          "index": "stringer_zone_top"
         },
         {
          "0": null,
          "1": 614736,
          "2": null,
          "3": 433785,
          "4": 784643,
          "index": "on_1b_mlbid"
         },
         {
          "0": null,
          "1": 561368,
          "2": null,
          "3": null,
          "4": 471961,
          "index": "on_2b_mlbid"
         },
         {
          "0": null,
          "1": null,
          "2": null,
          "3": null,
          "4": 587651,
          "index": "on_3b_mlbid"
         },
         {
          "0": 1,
          "1": 0,
          "2": 1,
          "3": 2,
          "4": 2,
          "index": "outs"
         },
         {
          "0": 3,
          "1": 1,
          "2": 2,
          "3": 0,
          "4": 3,
          "index": "balls"
         },
         {
          "0": 1,
          "1": 0,
          "2": 0,
          "3": 2,
          "4": 1,
          "index": "strikes"
         },
         {
          "0": 97.4298,
          "1": 91.7712,
          "2": 87.813,
          "3": 86.5546,
          "4": 95.0891,
          "index": "pitch_speed"
         },
         {
          "0": -1.2981,
          "1": 1.41222,
          "2": -0.18119,
          "3": -0.885538,
          "4": 0.900718,
          "index": "px"
         },
         {
          "0": 2.30217,
          "1": 1.57443,
          "2": 2.11248,
          "3": 0.598692,
          "4": 2.0182,
          "index": "pz"
         },
         {
          "0": 1.91535,
          "1": -12.1373,
          "2": -0.992261,
          "3": -2.8393,
          "4": -6.41995,
          "index": "break_x"
         },
         {
          "0": -9.54142,
          "1": -21.9427,
          "2": -25.5107,
          "3": -27.2509,
          "4": -14.3172,
          "index": "break_z"
         },
         {
          "0": 3.02727,
          "1": -1.56782,
          "2": 2.04966,
          "3": 2.96845,
          "4": -2.64734,
          "index": "angle_x"
         },
         {
          "0": 5.59379,
          "1": 6.86676,
          "2": 7.17281,
          "3": 8.50392,
          "4": 5.63426,
          "index": "angle_z"
         },
         {
          "0": "FA",
          "1": "FA",
          "2": "SL",
          "3": "SL",
          "4": "XX",
          "index": "pitch_type"
         },
         {
          "0": 0,
          "1": 0,
          "2": 1,
          "3": 0,
          "4": 1,
          "index": "strike_bool"
         }
        ],
        "schema": {
         "fields": [
          {
           "name": "index",
           "type": "string"
          },
          {
           "name": 0,
           "type": "string"
          },
          {
           "name": 1,
           "type": "string"
          },
          {
           "name": 2,
           "type": "string"
          },
          {
           "name": 3,
           "type": "string"
          },
          {
           "name": 4,
           "type": "string"
          }
         ],
         "pandas_version": "0.20.0",
         "primaryKey": [
          "index"
         ]
        }
       },
       "total_rows": 31
      },
      "text/html": [
       "<div>\n",
       "<style scoped>\n",
       "    .dataframe tbody tr th:only-of-type {\n",
       "        vertical-align: middle;\n",
       "    }\n",
       "\n",
       "    .dataframe tbody tr th {\n",
       "        vertical-align: top;\n",
       "    }\n",
       "\n",
       "    .dataframe thead th {\n",
       "        text-align: right;\n",
       "    }\n",
       "</style>\n",
       "<table border=\"1\" class=\"dataframe\">\n",
       "  <thead>\n",
       "    <tr style=\"text-align: right;\">\n",
       "      <th></th>\n",
       "      <th>0</th>\n",
       "      <th>1</th>\n",
       "      <th>2</th>\n",
       "      <th>3</th>\n",
       "      <th>4</th>\n",
       "    </tr>\n",
       "  </thead>\n",
       "  <tbody>\n",
       "    <tr>\n",
       "      <th>pitch_id</th>\n",
       "      <td>01311c57-5046-48d7-ac68-000060a98ccb</td>\n",
       "      <td>208d0186-b7c9-46bd-8297-0001539b714c</td>\n",
       "      <td>4a24d09e-2d9b-4d12-a0eb-0004723ce539</td>\n",
       "      <td>486aa6b8-7c43-4974-8a53-000611a9c649</td>\n",
       "      <td>2aff251b-099b-447b-9862-00100124b7c1</td>\n",
       "    </tr>\n",
       "    <tr>\n",
       "      <th>season</th>\n",
       "      <td>2021</td>\n",
       "      <td>2021</td>\n",
       "      <td>2021</td>\n",
       "      <td>2021</td>\n",
       "      <td>2021</td>\n",
       "    </tr>\n",
       "    <tr>\n",
       "      <th>game_date</th>\n",
       "      <td>2021-05-13</td>\n",
       "      <td>2021-07-29</td>\n",
       "      <td>2021-05-15</td>\n",
       "      <td>2021-06-05</td>\n",
       "      <td>2021-06-13</td>\n",
       "    </tr>\n",
       "    <tr>\n",
       "      <th>inning</th>\n",
       "      <td>7</td>\n",
       "      <td>9</td>\n",
       "      <td>1</td>\n",
       "      <td>1</td>\n",
       "      <td>3</td>\n",
       "    </tr>\n",
       "    <tr>\n",
       "      <th>side</th>\n",
       "      <td>home</td>\n",
       "      <td>home</td>\n",
       "      <td>home</td>\n",
       "      <td>home</td>\n",
       "      <td>home</td>\n",
       "    </tr>\n",
       "    <tr>\n",
       "      <th>run_diff</th>\n",
       "      <td>-2</td>\n",
       "      <td>4</td>\n",
       "      <td>0</td>\n",
       "      <td>2</td>\n",
       "      <td>-2</td>\n",
       "    </tr>\n",
       "    <tr>\n",
       "      <th>at_bat_index</th>\n",
       "      <td>54</td>\n",
       "      <td>69</td>\n",
       "      <td>1</td>\n",
       "      <td>5</td>\n",
       "      <td>24</td>\n",
       "    </tr>\n",
       "    <tr>\n",
       "      <th>pitch_of_ab</th>\n",
       "      <td>5</td>\n",
       "      <td>2</td>\n",
       "      <td>3</td>\n",
       "      <td>3</td>\n",
       "      <td>5</td>\n",
       "    </tr>\n",
       "    <tr>\n",
       "      <th>batter</th>\n",
       "      <td>405947</td>\n",
       "      <td>468294</td>\n",
       "      <td>406141</td>\n",
       "      <td>615134</td>\n",
       "      <td>626949</td>\n",
       "    </tr>\n",
       "    <tr>\n",
       "      <th>pitcher</th>\n",
       "      <td>756778</td>\n",
       "      <td>778005</td>\n",
       "      <td>451846</td>\n",
       "      <td>564585</td>\n",
       "      <td>784463</td>\n",
       "    </tr>\n",
       "    <tr>\n",
       "      <th>catcher</th>\n",
       "      <td>528871</td>\n",
       "      <td>594400</td>\n",
       "      <td>633795</td>\n",
       "      <td>633812</td>\n",
       "      <td>614419</td>\n",
       "    </tr>\n",
       "    <tr>\n",
       "      <th>umpire</th>\n",
       "      <td>482420</td>\n",
       "      <td>583103</td>\n",
       "      <td>423579</td>\n",
       "      <td>482532</td>\n",
       "      <td>596164</td>\n",
       "    </tr>\n",
       "    <tr>\n",
       "      <th>bside</th>\n",
       "      <td>R</td>\n",
       "      <td>L</td>\n",
       "      <td>L</td>\n",
       "      <td>R</td>\n",
       "      <td>R</td>\n",
       "    </tr>\n",
       "    <tr>\n",
       "      <th>pside</th>\n",
       "      <td>L</td>\n",
       "      <td>R</td>\n",
       "      <td>L</td>\n",
       "      <td>L</td>\n",
       "      <td>R</td>\n",
       "    </tr>\n",
       "    <tr>\n",
       "      <th>stringer_zone_bottom</th>\n",
       "      <td>1.56</td>\n",
       "      <td>1.59</td>\n",
       "      <td>1.68</td>\n",
       "      <td>1.63</td>\n",
       "      <td>1.63</td>\n",
       "    </tr>\n",
       "    <tr>\n",
       "      <th>stringer_zone_top</th>\n",
       "      <td>3.41</td>\n",
       "      <td>3.47</td>\n",
       "      <td>3.58</td>\n",
       "      <td>3.55</td>\n",
       "      <td>3.55</td>\n",
       "    </tr>\n",
       "    <tr>\n",
       "      <th>on_1b_mlbid</th>\n",
       "      <td>NaN</td>\n",
       "      <td>614736.0</td>\n",
       "      <td>NaN</td>\n",
       "      <td>433785.0</td>\n",
       "      <td>784643.0</td>\n",
       "    </tr>\n",
       "    <tr>\n",
       "      <th>on_2b_mlbid</th>\n",
       "      <td>NaN</td>\n",
       "      <td>561368.0</td>\n",
       "      <td>NaN</td>\n",
       "      <td>NaN</td>\n",
       "      <td>471961.0</td>\n",
       "    </tr>\n",
       "    <tr>\n",
       "      <th>on_3b_mlbid</th>\n",
       "      <td>NaN</td>\n",
       "      <td>NaN</td>\n",
       "      <td>NaN</td>\n",
       "      <td>NaN</td>\n",
       "      <td>587651.0</td>\n",
       "    </tr>\n",
       "    <tr>\n",
       "      <th>outs</th>\n",
       "      <td>1</td>\n",
       "      <td>0</td>\n",
       "      <td>1</td>\n",
       "      <td>2</td>\n",
       "      <td>2</td>\n",
       "    </tr>\n",
       "    <tr>\n",
       "      <th>balls</th>\n",
       "      <td>3</td>\n",
       "      <td>1</td>\n",
       "      <td>2</td>\n",
       "      <td>0</td>\n",
       "      <td>3</td>\n",
       "    </tr>\n",
       "    <tr>\n",
       "      <th>strikes</th>\n",
       "      <td>1</td>\n",
       "      <td>0</td>\n",
       "      <td>0</td>\n",
       "      <td>2</td>\n",
       "      <td>1</td>\n",
       "    </tr>\n",
       "    <tr>\n",
       "      <th>pitch_speed</th>\n",
       "      <td>97.4298</td>\n",
       "      <td>91.7712</td>\n",
       "      <td>87.813</td>\n",
       "      <td>86.5546</td>\n",
       "      <td>95.0891</td>\n",
       "    </tr>\n",
       "    <tr>\n",
       "      <th>px</th>\n",
       "      <td>-1.2981</td>\n",
       "      <td>1.41222</td>\n",
       "      <td>-0.18119</td>\n",
       "      <td>-0.885538</td>\n",
       "      <td>0.900718</td>\n",
       "    </tr>\n",
       "    <tr>\n",
       "      <th>pz</th>\n",
       "      <td>2.30217</td>\n",
       "      <td>1.57443</td>\n",
       "      <td>2.11248</td>\n",
       "      <td>0.598692</td>\n",
       "      <td>2.0182</td>\n",
       "    </tr>\n",
       "    <tr>\n",
       "      <th>break_x</th>\n",
       "      <td>1.91535</td>\n",
       "      <td>-12.1373</td>\n",
       "      <td>-0.992261</td>\n",
       "      <td>-2.8393</td>\n",
       "      <td>-6.41995</td>\n",
       "    </tr>\n",
       "    <tr>\n",
       "      <th>break_z</th>\n",
       "      <td>-9.54142</td>\n",
       "      <td>-21.9427</td>\n",
       "      <td>-25.5107</td>\n",
       "      <td>-27.2509</td>\n",
       "      <td>-14.3172</td>\n",
       "    </tr>\n",
       "    <tr>\n",
       "      <th>angle_x</th>\n",
       "      <td>3.02727</td>\n",
       "      <td>-1.56782</td>\n",
       "      <td>2.04966</td>\n",
       "      <td>2.96845</td>\n",
       "      <td>-2.64734</td>\n",
       "    </tr>\n",
       "    <tr>\n",
       "      <th>angle_z</th>\n",
       "      <td>5.59379</td>\n",
       "      <td>6.86676</td>\n",
       "      <td>7.17281</td>\n",
       "      <td>8.50392</td>\n",
       "      <td>5.63426</td>\n",
       "    </tr>\n",
       "    <tr>\n",
       "      <th>pitch_type</th>\n",
       "      <td>FA</td>\n",
       "      <td>FA</td>\n",
       "      <td>SL</td>\n",
       "      <td>SL</td>\n",
       "      <td>XX</td>\n",
       "    </tr>\n",
       "    <tr>\n",
       "      <th>strike_bool</th>\n",
       "      <td>0</td>\n",
       "      <td>0</td>\n",
       "      <td>1</td>\n",
       "      <td>0</td>\n",
       "      <td>1</td>\n",
       "    </tr>\n",
       "  </tbody>\n",
       "</table>\n",
       "</div>"
      ],
      "text/plain": [
       "                                                         0  \\\n",
       "pitch_id              01311c57-5046-48d7-ac68-000060a98ccb   \n",
       "season                                                2021   \n",
       "game_date                                       2021-05-13   \n",
       "inning                                                   7   \n",
       "side                                                  home   \n",
       "run_diff                                                -2   \n",
       "at_bat_index                                            54   \n",
       "pitch_of_ab                                              5   \n",
       "batter                                              405947   \n",
       "pitcher                                             756778   \n",
       "catcher                                             528871   \n",
       "umpire                                              482420   \n",
       "bside                                                    R   \n",
       "pside                                                    L   \n",
       "stringer_zone_bottom                                  1.56   \n",
       "stringer_zone_top                                     3.41   \n",
       "on_1b_mlbid                                            NaN   \n",
       "on_2b_mlbid                                            NaN   \n",
       "on_3b_mlbid                                            NaN   \n",
       "outs                                                     1   \n",
       "balls                                                    3   \n",
       "strikes                                                  1   \n",
       "pitch_speed                                        97.4298   \n",
       "px                                                 -1.2981   \n",
       "pz                                                 2.30217   \n",
       "break_x                                            1.91535   \n",
       "break_z                                           -9.54142   \n",
       "angle_x                                            3.02727   \n",
       "angle_z                                            5.59379   \n",
       "pitch_type                                              FA   \n",
       "strike_bool                                              0   \n",
       "\n",
       "                                                         1  \\\n",
       "pitch_id              208d0186-b7c9-46bd-8297-0001539b714c   \n",
       "season                                                2021   \n",
       "game_date                                       2021-07-29   \n",
       "inning                                                   9   \n",
       "side                                                  home   \n",
       "run_diff                                                 4   \n",
       "at_bat_index                                            69   \n",
       "pitch_of_ab                                              2   \n",
       "batter                                              468294   \n",
       "pitcher                                             778005   \n",
       "catcher                                             594400   \n",
       "umpire                                              583103   \n",
       "bside                                                    L   \n",
       "pside                                                    R   \n",
       "stringer_zone_bottom                                  1.59   \n",
       "stringer_zone_top                                     3.47   \n",
       "on_1b_mlbid                                       614736.0   \n",
       "on_2b_mlbid                                       561368.0   \n",
       "on_3b_mlbid                                            NaN   \n",
       "outs                                                     0   \n",
       "balls                                                    1   \n",
       "strikes                                                  0   \n",
       "pitch_speed                                        91.7712   \n",
       "px                                                 1.41222   \n",
       "pz                                                 1.57443   \n",
       "break_x                                           -12.1373   \n",
       "break_z                                           -21.9427   \n",
       "angle_x                                           -1.56782   \n",
       "angle_z                                            6.86676   \n",
       "pitch_type                                              FA   \n",
       "strike_bool                                              0   \n",
       "\n",
       "                                                         2  \\\n",
       "pitch_id              4a24d09e-2d9b-4d12-a0eb-0004723ce539   \n",
       "season                                                2021   \n",
       "game_date                                       2021-05-15   \n",
       "inning                                                   1   \n",
       "side                                                  home   \n",
       "run_diff                                                 0   \n",
       "at_bat_index                                             1   \n",
       "pitch_of_ab                                              3   \n",
       "batter                                              406141   \n",
       "pitcher                                             451846   \n",
       "catcher                                             633795   \n",
       "umpire                                              423579   \n",
       "bside                                                    L   \n",
       "pside                                                    L   \n",
       "stringer_zone_bottom                                  1.68   \n",
       "stringer_zone_top                                     3.58   \n",
       "on_1b_mlbid                                            NaN   \n",
       "on_2b_mlbid                                            NaN   \n",
       "on_3b_mlbid                                            NaN   \n",
       "outs                                                     1   \n",
       "balls                                                    2   \n",
       "strikes                                                  0   \n",
       "pitch_speed                                         87.813   \n",
       "px                                                -0.18119   \n",
       "pz                                                 2.11248   \n",
       "break_x                                          -0.992261   \n",
       "break_z                                           -25.5107   \n",
       "angle_x                                            2.04966   \n",
       "angle_z                                            7.17281   \n",
       "pitch_type                                              SL   \n",
       "strike_bool                                              1   \n",
       "\n",
       "                                                         3  \\\n",
       "pitch_id              486aa6b8-7c43-4974-8a53-000611a9c649   \n",
       "season                                                2021   \n",
       "game_date                                       2021-06-05   \n",
       "inning                                                   1   \n",
       "side                                                  home   \n",
       "run_diff                                                 2   \n",
       "at_bat_index                                             5   \n",
       "pitch_of_ab                                              3   \n",
       "batter                                              615134   \n",
       "pitcher                                             564585   \n",
       "catcher                                             633812   \n",
       "umpire                                              482532   \n",
       "bside                                                    R   \n",
       "pside                                                    L   \n",
       "stringer_zone_bottom                                  1.63   \n",
       "stringer_zone_top                                     3.55   \n",
       "on_1b_mlbid                                       433785.0   \n",
       "on_2b_mlbid                                            NaN   \n",
       "on_3b_mlbid                                            NaN   \n",
       "outs                                                     2   \n",
       "balls                                                    0   \n",
       "strikes                                                  2   \n",
       "pitch_speed                                        86.5546   \n",
       "px                                               -0.885538   \n",
       "pz                                                0.598692   \n",
       "break_x                                            -2.8393   \n",
       "break_z                                           -27.2509   \n",
       "angle_x                                            2.96845   \n",
       "angle_z                                            8.50392   \n",
       "pitch_type                                              SL   \n",
       "strike_bool                                              0   \n",
       "\n",
       "                                                         4  \n",
       "pitch_id              2aff251b-099b-447b-9862-00100124b7c1  \n",
       "season                                                2021  \n",
       "game_date                                       2021-06-13  \n",
       "inning                                                   3  \n",
       "side                                                  home  \n",
       "run_diff                                                -2  \n",
       "at_bat_index                                            24  \n",
       "pitch_of_ab                                              5  \n",
       "batter                                              626949  \n",
       "pitcher                                             784463  \n",
       "catcher                                             614419  \n",
       "umpire                                              596164  \n",
       "bside                                                    R  \n",
       "pside                                                    R  \n",
       "stringer_zone_bottom                                  1.63  \n",
       "stringer_zone_top                                     3.55  \n",
       "on_1b_mlbid                                       784643.0  \n",
       "on_2b_mlbid                                       471961.0  \n",
       "on_3b_mlbid                                       587651.0  \n",
       "outs                                                     2  \n",
       "balls                                                    3  \n",
       "strikes                                                  1  \n",
       "pitch_speed                                        95.0891  \n",
       "px                                                0.900718  \n",
       "pz                                                  2.0182  \n",
       "break_x                                           -6.41995  \n",
       "break_z                                           -14.3172  \n",
       "angle_x                                           -2.64734  \n",
       "angle_z                                            5.63426  \n",
       "pitch_type                                              XX  \n",
       "strike_bool                                              1  "
      ]
     },
     "execution_count": 5,
     "metadata": {},
     "output_type": "execute_result"
    }
   ],
   "source": [
    "df_train.head().T"
   ]
  },
  {
   "cell_type": "markdown",
   "id": "ea617602-ff6f-40ac-9a86-7f3a6cd04749",
   "metadata": {},
   "source": [
    "On broad visual inspection, seems to make sense. We'll definitely get a opportunity for more questions as we go through each feature/target, which is the plan."
   ]
  },
  {
   "cell_type": "code",
   "execution_count": 8,
   "id": "2ee8aa81-7be3-49f3-903e-36c45e6fbbd6",
   "metadata": {},
   "outputs": [
    {
     "name": "stdout",
     "output_type": "stream",
     "text": [
      "<class 'pandas.core.frame.DataFrame'>\n",
      "RangeIndex: 354039 entries, 0 to 354038\n",
      "Data columns (total 31 columns):\n",
      " #   Column                Non-Null Count   Dtype  \n",
      "---  ------                --------------   -----  \n",
      " 0   pitch_id              354039 non-null  object \n",
      " 1   season                354039 non-null  int64  \n",
      " 2   game_date             354039 non-null  object \n",
      " 3   inning                354039 non-null  int64  \n",
      " 4   side                  354039 non-null  object \n",
      " 5   run_diff              354039 non-null  int64  \n",
      " 6   at_bat_index          354039 non-null  int64  \n",
      " 7   pitch_of_ab           354039 non-null  int64  \n",
      " 8   batter                354039 non-null  int64  \n",
      " 9   pitcher               354039 non-null  int64  \n",
      " 10  catcher               354039 non-null  int64  \n",
      " 11  umpire                354039 non-null  int64  \n",
      " 12  bside                 354039 non-null  object \n",
      " 13  pside                 354039 non-null  object \n",
      " 14  stringer_zone_bottom  354039 non-null  float64\n",
      " 15  stringer_zone_top     354039 non-null  float64\n",
      " 16  on_1b_mlbid           107007 non-null  float64\n",
      " 17  on_2b_mlbid           64934 non-null   float64\n",
      " 18  on_3b_mlbid           31469 non-null   float64\n",
      " 19  outs                  354039 non-null  int64  \n",
      " 20  balls                 354039 non-null  int64  \n",
      " 21  strikes               354039 non-null  int64  \n",
      " 22  pitch_speed           354039 non-null  float64\n",
      " 23  px                    354039 non-null  float64\n",
      " 24  pz                    354039 non-null  float64\n",
      " 25  break_x               354039 non-null  float64\n",
      " 26  break_z               354039 non-null  float64\n",
      " 27  angle_x               354039 non-null  float64\n",
      " 28  angle_z               354039 non-null  float64\n",
      " 29  pitch_type            353991 non-null  object \n",
      " 30  strike_bool           354039 non-null  int64  \n",
      "dtypes: float64(12), int64(13), object(6)\n",
      "memory usage: 83.7+ MB\n"
     ]
    }
   ],
   "source": [
    "df_train.info()"
   ]
  },
  {
   "cell_type": "markdown",
   "id": "eddbf5a7-ed38-40ee-ab90-a6e4d50f7dd3",
   "metadata": {},
   "source": [
    "### Feature Exploration\n",
    "\n",
    "Since we have a somewhat manageable # of features, let's go through them and make sure we at least identify what they are and their utility to our goal."
   ]
  },
  {
   "cell_type": "code",
   "execution_count": 10,
   "id": "6c2496ee-2273-4e02-a221-81cbd7f6dd10",
   "metadata": {},
   "outputs": [],
   "source": [
    "# We should visualize some of the data, so let's get seaborn\n",
    "import seaborn as sns"
   ]
  },
  {
   "cell_type": "markdown",
   "id": "0011565e-8336-495b-b20f-2da62906dd69",
   "metadata": {},
   "source": [
    "##### Summarize Columns"
   ]
  },
  {
   "cell_type": "code",
   "execution_count": 14,
   "id": "bcda18f9-ed35-4a2b-894f-365f905c2cff",
   "metadata": {},
   "outputs": [
    {
     "name": "stdout",
     "output_type": "stream",
     "text": [
      "['pitch_id', 'season', 'game_date', 'inning', 'side', 'run_diff', 'at_bat_index', 'pitch_of_ab', 'batter', 'pitcher', 'catcher', 'umpire', 'bside', 'pside', 'stringer_zone_bottom', 'stringer_zone_top', 'on_1b_mlbid', 'on_2b_mlbid', 'on_3b_mlbid', 'outs', 'balls', 'strikes', 'pitch_speed', 'px', 'pz', 'break_x', 'break_z', 'angle_x', 'angle_z', 'pitch_type', 'strike_bool']\n"
     ]
    }
   ],
   "source": [
    "print(list(df_train.columns))"
   ]
  },
  {
   "cell_type": "markdown",
   "id": "00de2687-c4b2-4b14-b951-d2b70e8fb6d1",
   "metadata": {},
   "source": [
    "---"
   ]
  },
  {
   "cell_type": "markdown",
   "id": "f743c736-2abc-4ac4-b1cd-93e19787a09a",
   "metadata": {},
   "source": [
    "`pitch_id`\n",
    "\n",
    "Self-explanatory, distinct ID given to each pitch."
   ]
  },
  {
   "cell_type": "code",
   "execution_count": 19,
   "id": "07ab8d44-6f60-4a0f-9958-293c6c222a3a",
   "metadata": {},
   "outputs": [
    {
     "data": {
      "text/plain": [
       "'There are 354039 rows in training data set.'"
      ]
     },
     "metadata": {},
     "output_type": "display_data"
    }
   ],
   "source": [
    "# of rows in dataset\n",
    "display(f'There are {df_train.shape[0]} rows in training data set.')"
   ]
  },
  {
   "cell_type": "code",
   "execution_count": 27,
   "id": "06f3fbd6-fa96-46f4-8189-f7fa8028cbd1",
   "metadata": {},
   "outputs": [
    {
     "data": {
      "text/plain": [
       "'There are 354035 rows in training data set.'"
      ]
     },
     "metadata": {},
     "output_type": "display_data"
    }
   ],
   "source": [
    "# of distinct pitch IDs\n",
    "display(f\"There are {df_train['pitch_id'].unique().shape[0]} rows in training data set.\")"
   ]
  },
  {
   "cell_type": "markdown",
   "id": "b3a508d0-d2c9-481b-8ee7-9c12063eb12b",
   "metadata": {},
   "source": [
    "Interesting, so there are 4 pitches that are in the dataset 'twice'. At least that's my theory. Since that is such a small amount relative to the dataset, let's go ahead and identify and remove those dupes."
   ]
  },
  {
   "cell_type": "code",
   "execution_count": 71,
   "id": "ba0bda1a-0f0e-4c0d-b80f-f3bd3e9f169b",
   "metadata": {},
   "outputs": [],
   "source": [
    "vc_pitch_id = df_train['pitch_id'].value_counts()"
   ]
  },
  {
   "cell_type": "code",
   "execution_count": 72,
   "id": "2097ac45-0c35-4547-beb1-cd76161a51c7",
   "metadata": {},
   "outputs": [],
   "source": [
    "drop_pitch_id = vc_pitch_id[vc_pitch_id > 1].index.values.tolist()"
   ]
  },
  {
   "cell_type": "code",
   "execution_count": 73,
   "id": "f1ac4836-3d4d-45db-9ebc-bb9e858c2afa",
   "metadata": {},
   "outputs": [
    {
     "data": {
      "text/plain": [
       "['39b8ee0e-f2aa-4422-8fd8-d2d0f885a108',\n",
       " '11aa870a-fc24-482f-b3e6-4aaeac474cfe',\n",
       " '0edd497b-23fd-4c7d-91b8-f6040416d3ad',\n",
       " '6eb345fe-931d-4707-a5a1-9ba8181085e8']"
      ]
     },
     "execution_count": 73,
     "metadata": {},
     "output_type": "execute_result"
    }
   ],
   "source": [
    "drop_pitch_id"
   ]
  },
  {
   "cell_type": "markdown",
   "id": "945f65a8-08c4-4a83-8d3d-13d75094b9ec",
   "metadata": {},
   "source": [
    "Smells right, only 4 as expected."
   ]
  },
  {
   "cell_type": "code",
   "execution_count": 75,
   "id": "b64d172e-ed49-45f8-a6cc-d7db23a2bf86",
   "metadata": {},
   "outputs": [],
   "source": [
    "keep_pitch_id = vc_pitch_id[vc_pitch_id == 1].index.values.tolist()"
   ]
  },
  {
   "cell_type": "code",
   "execution_count": 76,
   "id": "ffdcbb6f-c32a-435d-b142-a383aff1862c",
   "metadata": {},
   "outputs": [
    {
     "data": {
      "text/plain": [
       "354031"
      ]
     },
     "execution_count": 76,
     "metadata": {},
     "output_type": "execute_result"
    }
   ],
   "source": [
    "len(keep_pitch_id)"
   ]
  },
  {
   "cell_type": "markdown",
   "id": "cc95c786-2d5d-45ab-b179-8523dea93413",
   "metadata": {},
   "source": [
    "Makes sense, as 4x2 rows will have the dupes:"
   ]
  },
  {
   "cell_type": "code",
   "execution_count": 78,
   "id": "69987476-a90a-423f-a28d-6da1014cb5eb",
   "metadata": {},
   "outputs": [
    {
     "data": {
      "text/plain": [
       "True"
      ]
     },
     "execution_count": 78,
     "metadata": {},
     "output_type": "execute_result"
    }
   ],
   "source": [
    "(len(keep_pitch_id) + 2*len(drop_pitch_id)) == df_train.shape[0]"
   ]
  }
 ],
 "metadata": {
  "kernelspec": {
   "display_name": "Python 3 (ipykernel)",
   "language": "python",
   "name": "python3"
  },
  "language_info": {
   "codemirror_mode": {
    "name": "ipython",
    "version": 3
   },
   "file_extension": ".py",
   "mimetype": "text/x-python",
   "name": "python",
   "nbconvert_exporter": "python",
   "pygments_lexer": "ipython3",
   "version": "3.8.10"
  }
 },
 "nbformat": 4,
 "nbformat_minor": 5
}
