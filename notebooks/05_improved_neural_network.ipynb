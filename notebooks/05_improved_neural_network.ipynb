{
 "cells": [
  {
   "cell_type": "markdown",
   "id": "1d9a73fe-22ef-46f3-af36-3ed41d28fa72",
   "metadata": {},
   "source": [
    "# Called Third Strike\n",
    "## Part 5. Improved neural network  \n",
    "\n",
    "![](./resources/baseball_umpire_home_plate_1.jpg)\n",
    "\n",
    "This project's goal is to build probability models for as to whether a pitch will be called a strike or not. The intended models are to be:\n",
    "1. A neural network (NN) based approach.\n",
    "2. A non-NN based approach.\n",
    "\n",
    "---\n",
    "\n",
    "__**This Notebook's**__ objective is to iterate on the work done with the [first attempts](03_first_crude_neural_network.ipynb) at at a neural network based approach. A few ideas:\n",
    "- Included Handedness of both pitcher and batter; I hypothesize that this will have some signal with regards to the 'strike-ness' of the horizontal movement of the pitch. As for verticality, I think that the stringer data helps with that since it provides fairly concrete guardrails as to the strike-ness (assuming the umpire sees the same thing haha).\n",
    "- Include pitch break and angle. I hypothesize this acts like a proxy to the pitcher, without having to rely on the pitcher_IDs. Rough analogy but I think of it kind of like latent factors in ALS matrix factorization (which I need to brush up on heh).\n",
    "\n",
    "---\n",
    "---"
   ]
  },
  {
   "cell_type": "markdown",
   "id": "7c603889-4d23-4c1d-8e4d-8d45d1a72da4",
   "metadata": {},
   "source": [
    "### Table of Contents<a id='toc_4'></a>\n",
    "\n",
    "<a href='#data_prep'>1. Data Preprocessing</a>\n",
    "\n",
    "<a href='#build_model'>2. Build Model</a>\n",
    "\n",
    "<a href='#random_search'>3. Random Hyperparameter Search</a>\n",
    "\n",
    "<a href='#summary'>4. Summary</a>\n",
    "\n",
    "<a href='#wrap'>5. Wrap Up Neural Network</a>\n",
    "\n",
    "...\n",
    "\n",
    "<a href='#the_end_4'>Go to the End</a>\n",
    "\n",
    "---"
   ]
  },
  {
   "cell_type": "markdown",
   "id": "4fcfd9aa-eac1-4789-af6d-cf5700a82979",
   "metadata": {},
   "source": [
    "---  \n",
    "\n",
    "<span style=\"font-size:0.5em;\">Tag 1</span>\n",
    "\n",
    "### Data Preprocessing<a id='data_prep'></a>\n",
    "\n",
    "<span style=\"font-size:0.5em;\"><a href='#toc_4'>Back to TOC</a></span>\n"
   ]
  },
  {
   "cell_type": "markdown",
   "id": "053be28f-4156-45c6-8a93-99c50dd76e39",
   "metadata": {},
   "source": [
    "#### Libraries\n"
   ]
  },
  {
   "cell_type": "code",
   "execution_count": 103,
   "id": "f5160888-b331-4e47-b996-09fdac316630",
   "metadata": {},
   "outputs": [],
   "source": [
    "# Data wrangling and operations\n",
    "import pandas as pd\n",
    "import numpy as np\n",
    "from datetime import datetime, timezone\n",
    "import pytz\n",
    "import pickle\n",
    " \n",
    "# Visualization\n",
    "import matplotlib.pyplot as plt\n",
    "import seaborn as sns\n",
    "\n",
    "# ML\n",
    "from sklearn.preprocessing import StandardScaler\n",
    "from sklearn.model_selection import train_test_split\n",
    "from sklearn.model_selection import RandomizedSearchCV\n",
    "from sklearn.metrics import confusion_matrix\n",
    "from sklearn.metrics import recall_score, precision_score, auc\n",
    "from sklearn.metrics import roc_curve, RocCurveDisplay\n",
    "from sklearn.inspection import permutation_importance\n",
    "\n",
    "# neural networks\n",
    "# Kera Sequential model\n",
    "import tensorflow as tf\n",
    "from tensorflow import keras\n",
    "from keras.models import Sequential\n",
    "from keras.layers import Dense\n",
    "from keras.utils.vis_utils import plot_model\n",
    "from tensorflow.keras.optimizers import Adam\n",
    "from keras.wrappers.scikit_learn import KerasClassifier"
   ]
  },
  {
   "cell_type": "markdown",
   "id": "f366fe65-9e8c-48c3-83e4-6e40a4bf4255",
   "metadata": {},
   "source": [
    "Import the following packages, if needed (not included in default packages on the platform I'm currently using)"
   ]
  },
  {
   "cell_type": "code",
   "execution_count": 3,
   "id": "6e2a5092-a87d-4af1-868b-97c6f4dfcb0a",
   "metadata": {},
   "outputs": [],
   "source": [
    "%%capture\n",
    "try:\n",
    "    import scikeras\n",
    "except ImportError:\n",
    "    !pip install scikeras[tensorflow]\n",
    "    !python -m pip install scikeras[tensorflow]\n",
    "except ModuleNotFoundError:\n",
    "    !pip install scikeras[tensorflow]\n",
    "    # !python -m pip install scikeras[tensorflow]"
   ]
  },
  {
   "cell_type": "code",
   "execution_count": 4,
   "id": "bc27de91-8da2-49f4-ad63-207e6fe540e3",
   "metadata": {},
   "outputs": [],
   "source": [
    "from scikeras.wrappers import KerasClassifier"
   ]
  },
  {
   "cell_type": "code",
   "execution_count": 5,
   "id": "1e9bd03a-eda1-46b0-af5a-897338588c68",
   "metadata": {},
   "outputs": [],
   "source": [
    "# Dependency for plot_model function"
   ]
  },
  {
   "cell_type": "code",
   "execution_count": 6,
   "id": "240fcd46-46e3-4934-a176-522acba3f6a6",
   "metadata": {},
   "outputs": [],
   "source": [
    "%%capture\n",
    "try:\n",
    "    import pydot\n",
    "except ImportError:\n",
    "    !pip install pydot"
   ]
  },
  {
   "cell_type": "markdown",
   "id": "987afa32-26cc-421f-bfdd-dd2cd8a29e62",
   "metadata": {},
   "source": [
    "---\n",
    "\n",
    "#### Data Import \n",
    "\n",
    "Retrieve the latest version of our train/test files that we built during [initial exploration](02_data_exploration.ipynb)."
   ]
  },
  {
   "cell_type": "code",
   "execution_count": 37,
   "id": "db6f0590-4c27-4af2-a4f0-398e7ec64eba",
   "metadata": {},
   "outputs": [],
   "source": [
    "df_train = pd.read_pickle('../data/train_enriched.pkl')\n",
    "df_test = pd.read_pickle('../data/test_enriched.pkl')"
   ]
  },
  {
   "cell_type": "markdown",
   "id": "fd0ae49b-1077-458e-9aff-6444a34941e0",
   "metadata": {},
   "source": [
    "Let's refamiliarize ourselves with the features."
   ]
  },
  {
   "cell_type": "code",
   "execution_count": 38,
   "id": "57bf1725-f4f9-4cd6-b2ea-57f7afd3f291",
   "metadata": {},
   "outputs": [
    {
     "name": "stdout",
     "output_type": "stream",
     "text": [
      "<class 'pandas.core.frame.DataFrame'>\n",
      "Int64Index: 350959 entries, 0 to 354038\n",
      "Data columns (total 31 columns):\n",
      " #   Column                Non-Null Count   Dtype         \n",
      "---  ------                --------------   -----         \n",
      " 0   pitch_id              350959 non-null  object        \n",
      " 1   inning                350959 non-null  int64         \n",
      " 2   side                  350959 non-null  object        \n",
      " 3   run_diff              350959 non-null  int64         \n",
      " 4   at_bat_index          350959 non-null  int64         \n",
      " 5   pitch_of_ab           350959 non-null  int64         \n",
      " 6   batter                350959 non-null  int64         \n",
      " 7   pitcher               350959 non-null  int64         \n",
      " 8   catcher               350959 non-null  int64         \n",
      " 9   umpire                350959 non-null  int64         \n",
      " 10  bside                 350959 non-null  object        \n",
      " 11  pside                 350959 non-null  object        \n",
      " 12  stringer_zone_bottom  350959 non-null  float64       \n",
      " 13  stringer_zone_top     350959 non-null  float64       \n",
      " 14  on_1b_mlbid           106013 non-null  float64       \n",
      " 15  on_2b_mlbid           64287 non-null   float64       \n",
      " 16  on_3b_mlbid           31158 non-null   float64       \n",
      " 17  outs                  350959 non-null  int64         \n",
      " 18  balls                 350959 non-null  int64         \n",
      " 19  strikes               350959 non-null  int64         \n",
      " 20  pitch_speed           350959 non-null  float64       \n",
      " 21  px                    350959 non-null  float64       \n",
      " 22  pz                    350959 non-null  float64       \n",
      " 23  break_x               350959 non-null  float64       \n",
      " 24  break_z               350959 non-null  float64       \n",
      " 25  angle_x               350959 non-null  float64       \n",
      " 26  angle_z               350959 non-null  float64       \n",
      " 27  pitch_type            350959 non-null  object        \n",
      " 28  strike_bool           350959 non-null  int64         \n",
      " 29  game_date_dt          350959 non-null  datetime64[ns]\n",
      " 30  strike_bool_tf        350959 non-null  bool          \n",
      "dtypes: bool(1), datetime64[ns](1), float64(12), int64(12), object(5)\n",
      "memory usage: 83.3+ MB\n"
     ]
    }
   ],
   "source": [
    "df_train.info()"
   ]
  },
  {
   "cell_type": "markdown",
   "id": "f08da1ab-1889-48b3-bf3a-e83f1f76e153",
   "metadata": {},
   "source": [
    "---\n",
    "\n",
    "#### Feature Selection and Prep, revisited\n",
    "\n",
    "Select features:"
   ]
  },
  {
   "cell_type": "markdown",
   "id": "facec025-15e9-4d40-b4c5-d2a2d63088aa",
   "metadata": {},
   "source": [
    "For our initial super simple model, we had picked just four features: \n",
    "- `px` which is the horizontal location of the pitch at the plate\n",
    "- `pz` which is the vertical location\n",
    "- `stringer_zone_bottom` which is an estimate of current batter's strike zone bottom\n",
    "- `stringer_zone_top` which is an estimate of current batter's strike zone top"
   ]
  },
  {
   "cell_type": "code",
   "execution_count": 39,
   "id": "da4fd6e9-70fd-4bee-b321-40327d0787d5",
   "metadata": {},
   "outputs": [],
   "source": [
    "# Features selected\n",
    "feat_select = ['px', 'pz', 'stringer_zone_bottom', 'stringer_zone_top']"
   ]
  },
  {
   "cell_type": "markdown",
   "id": "9c8eb364-b6a5-4129-a7e0-e8f2db110016",
   "metadata": {},
   "source": [
    "But as mentioned in the intro, I want to try adding `bside` and `pside`, as well as vertical/horizontal breaks and angles (`break_x`, `break_z`, `angle_x`, `angle_z`), and `pitch_speed`. "
   ]
  },
  {
   "cell_type": "markdown",
   "id": "d2444da4-7ae7-4074-9423-3c90228559ea",
   "metadata": {},
   "source": [
    "##### Adding `break_x`, `break_z`, `angle_x`, `angle_z`, `pitch_speed`\n",
    "\n",
    "These are numeric so I will add on to `feat_select`"
   ]
  },
  {
   "cell_type": "code",
   "execution_count": 40,
   "id": "83c54d7b-b34a-42f8-8ca6-fde199b247b9",
   "metadata": {},
   "outputs": [
    {
     "data": {
      "text/plain": [
       "['break_x',\n",
       " 'angle_x',\n",
       " 'pz',\n",
       " 'stringer_zone_top',\n",
       " 'stringer_zone_bottom',\n",
       " 'px',\n",
       " 'break_z',\n",
       " 'pitch_speed',\n",
       " 'angle_z']"
      ]
     },
     "metadata": {},
     "output_type": "display_data"
    }
   ],
   "source": [
    "feat_select = feat_select + ['break_x', 'break_z', 'angle_x', 'angle_z', 'pitch_speed']\n",
    "feat_select = list(set(feat_select)) #Just to ensure no dupes if this cell gets executed again\n",
    "display(feat_select)"
   ]
  },
  {
   "cell_type": "markdown",
   "id": "d6787f85-35bc-48f2-a808-1e4fe854e302",
   "metadata": {},
   "source": [
    "##### Adding `b_side`, `p_side`\n",
    "\n",
    "These are strings so I will one-hot encode them."
   ]
  },
  {
   "cell_type": "code",
   "execution_count": 41,
   "id": "5c2ec5eb-89e0-4dc7-8031-44dcfab17608",
   "metadata": {},
   "outputs": [],
   "source": [
    "feat_cat_select = ['bside', 'pside']"
   ]
  },
  {
   "cell_type": "code",
   "execution_count": 42,
   "id": "afc9d4c2-b99a-4c44-9a3b-c9569bf27e3e",
   "metadata": {},
   "outputs": [],
   "source": [
    "df_train_cat_ohe = pd.get_dummies(df_train[feat_cat_select])"
   ]
  },
  {
   "cell_type": "code",
   "execution_count": 43,
   "id": "d1ddb031-98a8-42e6-af80-649c7509e411",
   "metadata": {},
   "outputs": [
    {
     "data": {
      "application/com.datacamp.data-table.v1+json": {
       "is_truncated": false,
       "table": {
        "data": [
         {
          "bside_L": 0,
          "bside_R": 1,
          "index": 0,
          "pside_L": 1,
          "pside_R": 0
         },
         {
          "bside_L": 1,
          "bside_R": 0,
          "index": 1,
          "pside_L": 0,
          "pside_R": 1
         },
         {
          "bside_L": 1,
          "bside_R": 0,
          "index": 2,
          "pside_L": 1,
          "pside_R": 0
         }
        ],
        "schema": {
         "fields": [
          {
           "name": "index",
           "type": "integer"
          },
          {
           "name": "bside_L",
           "type": "integer"
          },
          {
           "name": "bside_R",
           "type": "integer"
          },
          {
           "name": "pside_L",
           "type": "integer"
          },
          {
           "name": "pside_R",
           "type": "integer"
          }
         ],
         "pandas_version": "0.20.0",
         "primaryKey": [
          "index"
         ]
        }
       },
       "total_rows": 3
      },
      "text/html": [
       "<div>\n",
       "<style scoped>\n",
       "    .dataframe tbody tr th:only-of-type {\n",
       "        vertical-align: middle;\n",
       "    }\n",
       "\n",
       "    .dataframe tbody tr th {\n",
       "        vertical-align: top;\n",
       "    }\n",
       "\n",
       "    .dataframe thead th {\n",
       "        text-align: right;\n",
       "    }\n",
       "</style>\n",
       "<table border=\"1\" class=\"dataframe\">\n",
       "  <thead>\n",
       "    <tr style=\"text-align: right;\">\n",
       "      <th></th>\n",
       "      <th>bside_L</th>\n",
       "      <th>bside_R</th>\n",
       "      <th>pside_L</th>\n",
       "      <th>pside_R</th>\n",
       "    </tr>\n",
       "  </thead>\n",
       "  <tbody>\n",
       "    <tr>\n",
       "      <th>0</th>\n",
       "      <td>0</td>\n",
       "      <td>1</td>\n",
       "      <td>1</td>\n",
       "      <td>0</td>\n",
       "    </tr>\n",
       "    <tr>\n",
       "      <th>1</th>\n",
       "      <td>1</td>\n",
       "      <td>0</td>\n",
       "      <td>0</td>\n",
       "      <td>1</td>\n",
       "    </tr>\n",
       "    <tr>\n",
       "      <th>2</th>\n",
       "      <td>1</td>\n",
       "      <td>0</td>\n",
       "      <td>1</td>\n",
       "      <td>0</td>\n",
       "    </tr>\n",
       "  </tbody>\n",
       "</table>\n",
       "</div>"
      ],
      "text/plain": [
       "   bside_L  bside_R  pside_L  pside_R\n",
       "0        0        1        1        0\n",
       "1        1        0        0        1\n",
       "2        1        0        1        0"
      ]
     },
     "execution_count": 43,
     "metadata": {},
     "output_type": "execute_result"
    }
   ],
   "source": [
    "df_train_cat_ohe.head(3)"
   ]
  },
  {
   "cell_type": "code",
   "execution_count": 44,
   "id": "b5417e96-e709-4d00-9028-9c31be831f19",
   "metadata": {},
   "outputs": [
    {
     "data": {
      "text/plain": [
       "(350959, 4)"
      ]
     },
     "execution_count": 44,
     "metadata": {},
     "output_type": "execute_result"
    }
   ],
   "source": [
    "df_train_cat_ohe.shape"
   ]
  },
  {
   "cell_type": "markdown",
   "id": "66ef8983-f0bb-4951-a82f-9ae20d219ef8",
   "metadata": {},
   "source": [
    "Prep features:\n",
    "\n",
    "Gather up all the selected features."
   ]
  },
  {
   "cell_type": "code",
   "execution_count": 45,
   "id": "a870a134-c23f-476d-8d1f-fb10344aa06d",
   "metadata": {},
   "outputs": [
    {
     "name": "stdout",
     "output_type": "stream",
     "text": [
      "<class 'pandas.core.frame.DataFrame'>\n",
      "Int64Index: 350959 entries, 0 to 354038\n",
      "Data columns (total 13 columns):\n",
      " #   Column                Non-Null Count   Dtype  \n",
      "---  ------                --------------   -----  \n",
      " 0   break_x               350959 non-null  float64\n",
      " 1   angle_x               350959 non-null  float64\n",
      " 2   pz                    350959 non-null  float64\n",
      " 3   stringer_zone_top     350959 non-null  float64\n",
      " 4   stringer_zone_bottom  350959 non-null  float64\n",
      " 5   px                    350959 non-null  float64\n",
      " 6   break_z               350959 non-null  float64\n",
      " 7   pitch_speed           350959 non-null  float64\n",
      " 8   angle_z               350959 non-null  float64\n",
      " 9   bside_L               350959 non-null  uint8  \n",
      " 10  bside_R               350959 non-null  uint8  \n",
      " 11  pside_L               350959 non-null  uint8  \n",
      " 12  pside_R               350959 non-null  uint8  \n",
      "dtypes: float64(9), uint8(4)\n",
      "memory usage: 28.1 MB\n"
     ]
    },
    {
     "data": {
      "text/plain": [
       "None"
      ]
     },
     "metadata": {},
     "output_type": "display_data"
    }
   ],
   "source": [
    "# Get just the selected features\n",
    "df_X = pd.concat([df_train[feat_select], df_train_cat_ohe], axis=1)\n",
    "# df_X = df_train_cat_ohe.copy()\n",
    "display(df_X.info())"
   ]
  },
  {
   "cell_type": "code",
   "execution_count": 46,
   "id": "284ffafc-6e61-478b-8fb5-b685f26706cc",
   "metadata": {},
   "outputs": [
    {
     "data": {
      "application/com.datacamp.data-table.v1+json": {
       "is_truncated": false,
       "table": {
        "data": [
         {
          "angle_x": 3.02727,
          "angle_z": 5.59379,
          "break_x": 1.91535,
          "break_z": -9.54142,
          "bside_L": 0,
          "bside_R": 1,
          "index": 0,
          "pitch_speed": 97.4298,
          "pside_L": 1,
          "pside_R": 0,
          "px": -1.2981,
          "pz": 2.30217,
          "stringer_zone_bottom": 1.56,
          "stringer_zone_top": 3.41
         },
         {
          "angle_x": -1.56782,
          "angle_z": 6.86676,
          "break_x": -12.1373,
          "break_z": -21.9427,
          "bside_L": 1,
          "bside_R": 0,
          "index": 1,
          "pitch_speed": 91.7712,
          "pside_L": 0,
          "pside_R": 1,
          "px": 1.41222,
          "pz": 1.57443,
          "stringer_zone_bottom": 1.59,
          "stringer_zone_top": 3.47
         },
         {
          "angle_x": 2.04966,
          "angle_z": 7.17281,
          "break_x": -0.992261,
          "break_z": -25.5107,
          "bside_L": 1,
          "bside_R": 0,
          "index": 2,
          "pitch_speed": 87.813,
          "pside_L": 1,
          "pside_R": 0,
          "px": -0.18119,
          "pz": 2.11248,
          "stringer_zone_bottom": 1.68,
          "stringer_zone_top": 3.58
         },
         {
          "angle_x": 2.96845,
          "angle_z": 8.50392,
          "break_x": -2.8393,
          "break_z": -27.2509,
          "bside_L": 0,
          "bside_R": 1,
          "index": 3,
          "pitch_speed": 86.5546,
          "pside_L": 1,
          "pside_R": 0,
          "px": -0.885538,
          "pz": 0.598692,
          "stringer_zone_bottom": 1.63,
          "stringer_zone_top": 3.55
         },
         {
          "angle_x": -1.6463,
          "angle_z": 9.33291,
          "break_x": 8.90615,
          "break_z": -59.4133,
          "bside_L": 1,
          "bside_R": 0,
          "index": 5,
          "pitch_speed": 72.0904,
          "pside_L": 0,
          "pside_R": 1,
          "px": -1.45954,
          "pz": 3.39951,
          "stringer_zone_bottom": 1.5,
          "stringer_zone_top": 3.3
         }
        ],
        "schema": {
         "fields": [
          {
           "name": "index",
           "type": "integer"
          },
          {
           "name": "break_x",
           "type": "number"
          },
          {
           "name": "angle_x",
           "type": "number"
          },
          {
           "name": "pz",
           "type": "number"
          },
          {
           "name": "stringer_zone_top",
           "type": "number"
          },
          {
           "name": "stringer_zone_bottom",
           "type": "number"
          },
          {
           "name": "px",
           "type": "number"
          },
          {
           "name": "break_z",
           "type": "number"
          },
          {
           "name": "pitch_speed",
           "type": "number"
          },
          {
           "name": "angle_z",
           "type": "number"
          },
          {
           "name": "bside_L",
           "type": "integer"
          },
          {
           "name": "bside_R",
           "type": "integer"
          },
          {
           "name": "pside_L",
           "type": "integer"
          },
          {
           "name": "pside_R",
           "type": "integer"
          }
         ],
         "pandas_version": "0.20.0",
         "primaryKey": [
          "index"
         ]
        }
       },
       "total_rows": 5
      },
      "text/html": [
       "<div>\n",
       "<style scoped>\n",
       "    .dataframe tbody tr th:only-of-type {\n",
       "        vertical-align: middle;\n",
       "    }\n",
       "\n",
       "    .dataframe tbody tr th {\n",
       "        vertical-align: top;\n",
       "    }\n",
       "\n",
       "    .dataframe thead th {\n",
       "        text-align: right;\n",
       "    }\n",
       "</style>\n",
       "<table border=\"1\" class=\"dataframe\">\n",
       "  <thead>\n",
       "    <tr style=\"text-align: right;\">\n",
       "      <th></th>\n",
       "      <th>break_x</th>\n",
       "      <th>angle_x</th>\n",
       "      <th>pz</th>\n",
       "      <th>stringer_zone_top</th>\n",
       "      <th>stringer_zone_bottom</th>\n",
       "      <th>px</th>\n",
       "      <th>break_z</th>\n",
       "      <th>pitch_speed</th>\n",
       "      <th>angle_z</th>\n",
       "      <th>bside_L</th>\n",
       "      <th>bside_R</th>\n",
       "      <th>pside_L</th>\n",
       "      <th>pside_R</th>\n",
       "    </tr>\n",
       "  </thead>\n",
       "  <tbody>\n",
       "    <tr>\n",
       "      <th>0</th>\n",
       "      <td>1.915350</td>\n",
       "      <td>3.02727</td>\n",
       "      <td>2.302170</td>\n",
       "      <td>3.41</td>\n",
       "      <td>1.56</td>\n",
       "      <td>-1.298100</td>\n",
       "      <td>-9.54142</td>\n",
       "      <td>97.4298</td>\n",
       "      <td>5.59379</td>\n",
       "      <td>0</td>\n",
       "      <td>1</td>\n",
       "      <td>1</td>\n",
       "      <td>0</td>\n",
       "    </tr>\n",
       "    <tr>\n",
       "      <th>1</th>\n",
       "      <td>-12.137300</td>\n",
       "      <td>-1.56782</td>\n",
       "      <td>1.574430</td>\n",
       "      <td>3.47</td>\n",
       "      <td>1.59</td>\n",
       "      <td>1.412220</td>\n",
       "      <td>-21.94270</td>\n",
       "      <td>91.7712</td>\n",
       "      <td>6.86676</td>\n",
       "      <td>1</td>\n",
       "      <td>0</td>\n",
       "      <td>0</td>\n",
       "      <td>1</td>\n",
       "    </tr>\n",
       "    <tr>\n",
       "      <th>2</th>\n",
       "      <td>-0.992261</td>\n",
       "      <td>2.04966</td>\n",
       "      <td>2.112480</td>\n",
       "      <td>3.58</td>\n",
       "      <td>1.68</td>\n",
       "      <td>-0.181190</td>\n",
       "      <td>-25.51070</td>\n",
       "      <td>87.8130</td>\n",
       "      <td>7.17281</td>\n",
       "      <td>1</td>\n",
       "      <td>0</td>\n",
       "      <td>1</td>\n",
       "      <td>0</td>\n",
       "    </tr>\n",
       "    <tr>\n",
       "      <th>3</th>\n",
       "      <td>-2.839300</td>\n",
       "      <td>2.96845</td>\n",
       "      <td>0.598692</td>\n",
       "      <td>3.55</td>\n",
       "      <td>1.63</td>\n",
       "      <td>-0.885538</td>\n",
       "      <td>-27.25090</td>\n",
       "      <td>86.5546</td>\n",
       "      <td>8.50392</td>\n",
       "      <td>0</td>\n",
       "      <td>1</td>\n",
       "      <td>1</td>\n",
       "      <td>0</td>\n",
       "    </tr>\n",
       "    <tr>\n",
       "      <th>5</th>\n",
       "      <td>8.906150</td>\n",
       "      <td>-1.64630</td>\n",
       "      <td>3.399510</td>\n",
       "      <td>3.30</td>\n",
       "      <td>1.50</td>\n",
       "      <td>-1.459540</td>\n",
       "      <td>-59.41330</td>\n",
       "      <td>72.0904</td>\n",
       "      <td>9.33291</td>\n",
       "      <td>1</td>\n",
       "      <td>0</td>\n",
       "      <td>0</td>\n",
       "      <td>1</td>\n",
       "    </tr>\n",
       "  </tbody>\n",
       "</table>\n",
       "</div>"
      ],
      "text/plain": [
       "     break_x  angle_x        pz  stringer_zone_top  stringer_zone_bottom  \\\n",
       "0   1.915350  3.02727  2.302170               3.41                  1.56   \n",
       "1 -12.137300 -1.56782  1.574430               3.47                  1.59   \n",
       "2  -0.992261  2.04966  2.112480               3.58                  1.68   \n",
       "3  -2.839300  2.96845  0.598692               3.55                  1.63   \n",
       "5   8.906150 -1.64630  3.399510               3.30                  1.50   \n",
       "\n",
       "         px   break_z  pitch_speed  angle_z  bside_L  bside_R  pside_L  \\\n",
       "0 -1.298100  -9.54142      97.4298  5.59379        0        1        1   \n",
       "1  1.412220 -21.94270      91.7712  6.86676        1        0        0   \n",
       "2 -0.181190 -25.51070      87.8130  7.17281        1        0        1   \n",
       "3 -0.885538 -27.25090      86.5546  8.50392        0        1        1   \n",
       "5 -1.459540 -59.41330      72.0904  9.33291        1        0        0   \n",
       "\n",
       "   pside_R  \n",
       "0        0  \n",
       "1        1  \n",
       "2        0  \n",
       "3        0  \n",
       "5        1  "
      ]
     },
     "execution_count": 46,
     "metadata": {},
     "output_type": "execute_result"
    }
   ],
   "source": [
    "df_X.head()"
   ]
  },
  {
   "cell_type": "markdown",
   "id": "f43c5958-97aa-4029-9b66-ad53b6af2685",
   "metadata": {},
   "source": [
    "While we are at it, let's prep our targets:"
   ]
  },
  {
   "cell_type": "code",
   "execution_count": 47,
   "id": "b27c2cf9-f12a-4324-898a-55e08e6b5e64",
   "metadata": {},
   "outputs": [
    {
     "name": "stdout",
     "output_type": "stream",
     "text": [
      "<class 'pandas.core.frame.DataFrame'>\n",
      "Int64Index: 350959 entries, 0 to 354038\n",
      "Data columns (total 1 columns):\n",
      " #   Column       Non-Null Count   Dtype\n",
      "---  ------       --------------   -----\n",
      " 0   strike_bool  350959 non-null  int64\n",
      "dtypes: int64(1)\n",
      "memory usage: 5.4 MB\n"
     ]
    },
    {
     "data": {
      "text/plain": [
       "None"
      ]
     },
     "metadata": {},
     "output_type": "display_data"
    }
   ],
   "source": [
    "df_y = df_train['strike_bool']\n",
    "display(pd.DataFrame(df_y).info())"
   ]
  },
  {
   "cell_type": "markdown",
   "id": "8a6fd38a-495e-42a6-8bde-2c2b918a6f17",
   "metadata": {},
   "source": [
    "##### Prep Holdout\n",
    "\n",
    "Let's also perform the same with our holdout data so we can easily make predictions with our ultimately selected model."
   ]
  },
  {
   "cell_type": "markdown",
   "id": "f51f1d62-7782-4751-93cc-ea5156774a78",
   "metadata": {},
   "source": [
    "One hot encoding selected cats:"
   ]
  },
  {
   "cell_type": "code",
   "execution_count": 48,
   "id": "7d7a329f-be2f-4d29-bef7-cb69a221f7ea",
   "metadata": {},
   "outputs": [],
   "source": [
    "df_hold_cat_ohe = pd.get_dummies(df_test[feat_cat_select])"
   ]
  },
  {
   "cell_type": "code",
   "execution_count": 49,
   "id": "75dd4848-11cd-469a-b65e-2ab8ac07a6d2",
   "metadata": {},
   "outputs": [
    {
     "data": {
      "application/com.datacamp.data-table.v1+json": {
       "is_truncated": false,
       "table": {
        "data": [
         {
          "bside_L": 1,
          "bside_R": 0,
          "index": 0,
          "pside_L": 0,
          "pside_R": 1
         },
         {
          "bside_L": 0,
          "bside_R": 1,
          "index": 1,
          "pside_L": 1,
          "pside_R": 0
         },
         {
          "bside_L": 0,
          "bside_R": 1,
          "index": 2,
          "pside_L": 0,
          "pside_R": 1
         },
         {
          "bside_L": 0,
          "bside_R": 1,
          "index": 3,
          "pside_L": 1,
          "pside_R": 0
         },
         {
          "bside_L": 0,
          "bside_R": 1,
          "index": 4,
          "pside_L": 0,
          "pside_R": 1
         }
        ],
        "schema": {
         "fields": [
          {
           "name": "index",
           "type": "integer"
          },
          {
           "name": "bside_L",
           "type": "integer"
          },
          {
           "name": "bside_R",
           "type": "integer"
          },
          {
           "name": "pside_L",
           "type": "integer"
          },
          {
           "name": "pside_R",
           "type": "integer"
          }
         ],
         "pandas_version": "0.20.0",
         "primaryKey": [
          "index"
         ]
        }
       },
       "total_rows": 5
      },
      "text/html": [
       "<div>\n",
       "<style scoped>\n",
       "    .dataframe tbody tr th:only-of-type {\n",
       "        vertical-align: middle;\n",
       "    }\n",
       "\n",
       "    .dataframe tbody tr th {\n",
       "        vertical-align: top;\n",
       "    }\n",
       "\n",
       "    .dataframe thead th {\n",
       "        text-align: right;\n",
       "    }\n",
       "</style>\n",
       "<table border=\"1\" class=\"dataframe\">\n",
       "  <thead>\n",
       "    <tr style=\"text-align: right;\">\n",
       "      <th></th>\n",
       "      <th>bside_L</th>\n",
       "      <th>bside_R</th>\n",
       "      <th>pside_L</th>\n",
       "      <th>pside_R</th>\n",
       "    </tr>\n",
       "  </thead>\n",
       "  <tbody>\n",
       "    <tr>\n",
       "      <th>0</th>\n",
       "      <td>1</td>\n",
       "      <td>0</td>\n",
       "      <td>0</td>\n",
       "      <td>1</td>\n",
       "    </tr>\n",
       "    <tr>\n",
       "      <th>1</th>\n",
       "      <td>0</td>\n",
       "      <td>1</td>\n",
       "      <td>1</td>\n",
       "      <td>0</td>\n",
       "    </tr>\n",
       "    <tr>\n",
       "      <th>2</th>\n",
       "      <td>0</td>\n",
       "      <td>1</td>\n",
       "      <td>0</td>\n",
       "      <td>1</td>\n",
       "    </tr>\n",
       "    <tr>\n",
       "      <th>3</th>\n",
       "      <td>0</td>\n",
       "      <td>1</td>\n",
       "      <td>1</td>\n",
       "      <td>0</td>\n",
       "    </tr>\n",
       "    <tr>\n",
       "      <th>4</th>\n",
       "      <td>0</td>\n",
       "      <td>1</td>\n",
       "      <td>0</td>\n",
       "      <td>1</td>\n",
       "    </tr>\n",
       "  </tbody>\n",
       "</table>\n",
       "</div>"
      ],
      "text/plain": [
       "   bside_L  bside_R  pside_L  pside_R\n",
       "0        1        0        0        1\n",
       "1        0        1        1        0\n",
       "2        0        1        0        1\n",
       "3        0        1        1        0\n",
       "4        0        1        0        1"
      ]
     },
     "execution_count": 49,
     "metadata": {},
     "output_type": "execute_result"
    }
   ],
   "source": [
    "df_hold_cat_ohe.head()"
   ]
  },
  {
   "cell_type": "code",
   "execution_count": 50,
   "id": "95acb045-bc58-4c1c-a25b-60eff7c557c2",
   "metadata": {},
   "outputs": [
    {
     "name": "stdout",
     "output_type": "stream",
     "text": [
      "<class 'pandas.core.frame.DataFrame'>\n",
      "RangeIndex: 18633 entries, 0 to 18632\n",
      "Data columns (total 13 columns):\n",
      " #   Column                Non-Null Count  Dtype  \n",
      "---  ------                --------------  -----  \n",
      " 0   break_x               18633 non-null  float64\n",
      " 1   angle_x               18633 non-null  float64\n",
      " 2   pz                    18633 non-null  float64\n",
      " 3   stringer_zone_top     18633 non-null  float64\n",
      " 4   stringer_zone_bottom  18633 non-null  float64\n",
      " 5   px                    18633 non-null  float64\n",
      " 6   break_z               18633 non-null  float64\n",
      " 7   pitch_speed           18633 non-null  float64\n",
      " 8   angle_z               18633 non-null  float64\n",
      " 9   bside_L               18633 non-null  uint8  \n",
      " 10  bside_R               18633 non-null  uint8  \n",
      " 11  pside_L               18633 non-null  uint8  \n",
      " 12  pside_R               18633 non-null  uint8  \n",
      "dtypes: float64(9), uint8(4)\n",
      "memory usage: 1.4 MB\n"
     ]
    },
    {
     "data": {
      "text/plain": [
       "None"
      ]
     },
     "metadata": {},
     "output_type": "display_data"
    }
   ],
   "source": [
    "# Get just the selected features\n",
    "df_holdout = pd.concat([df_test[feat_select], df_hold_cat_ohe], axis=1)\n",
    "# df_X = df_train_cat_ohe.copy()\n",
    "display(df_holdout.info())"
   ]
  },
  {
   "cell_type": "markdown",
   "id": "c990a31b-d553-4227-9fdd-b946e3b9bd39",
   "metadata": {},
   "source": [
    "---\n",
    "\n",
    "#### Feature Engineering\n",
    "\n",
    "Select features:"
   ]
  },
  {
   "cell_type": "markdown",
   "id": "6ddb78e3-d580-4bef-bfa4-d8abfb1c82e8",
   "metadata": {},
   "source": [
    "For a neural network we will need to numerically represent our data (e.g. one-hot-encode any categorical features), as well as scale/normalize the data. \n",
    "\n",
    "All the selected features for this round are numerical, so we don't have to worry about encoding any categories. For scaling I'm choosing to *standardize*."
   ]
  },
  {
   "cell_type": "code",
   "execution_count": 51,
   "id": "e0e89560-8f67-42d3-b8ac-ad180c37d2a1",
   "metadata": {},
   "outputs": [],
   "source": [
    "scaler = StandardScaler()\n",
    "X_scaled = scaler.fit_transform(df_X)"
   ]
  },
  {
   "cell_type": "code",
   "execution_count": 52,
   "id": "822356d2-1cb5-408b-a94d-6547f20817f8",
   "metadata": {},
   "outputs": [
    {
     "data": {
      "text/plain": [
       "(350959, 13)"
      ]
     },
     "execution_count": 52,
     "metadata": {},
     "output_type": "execute_result"
    }
   ],
   "source": [
    "X_scaled.shape"
   ]
  },
  {
   "cell_type": "code",
   "execution_count": 53,
   "id": "1844aedb-8f2c-40d4-8e35-3d8eb51df6d1",
   "metadata": {},
   "outputs": [],
   "source": [
    "holdout_scaled = scaler.transform(df_holdout)"
   ]
  },
  {
   "cell_type": "code",
   "execution_count": 54,
   "id": "f691a134-92c9-48bf-9a9b-19e0b61ffcef",
   "metadata": {},
   "outputs": [
    {
     "data": {
      "text/plain": [
       "(18633, 13)"
      ]
     },
     "execution_count": 54,
     "metadata": {},
     "output_type": "execute_result"
    }
   ],
   "source": [
    "holdout_scaled.shape"
   ]
  },
  {
   "cell_type": "markdown",
   "id": "4963c4a1-afb4-46c0-9f5d-454f548aeed9",
   "metadata": {},
   "source": [
    "---\n",
    "\n",
    "#### Train / Test\n",
    "\n",
    "\n",
    "Create train/test splits.\n",
    "\n",
    "Breakout parameters for easy access."
   ]
  },
  {
   "cell_type": "code",
   "execution_count": 55,
   "id": "d876b0d8-23b2-4104-bf0b-95dfe8bf6c3c",
   "metadata": {},
   "outputs": [],
   "source": [
    "# Parameters\n",
    "test_size = 0.20\n",
    "random_state = 24"
   ]
  },
  {
   "cell_type": "code",
   "execution_count": 56,
   "id": "37efe2d2-1e8c-405f-9fed-b99c75d527a2",
   "metadata": {},
   "outputs": [],
   "source": [
    "X_train, X_test, y_train, y_test = train_test_split(X_scaled, df_y, test_size=test_size\n",
    "                                                    ,stratify=df_y, random_state = random_state)"
   ]
  },
  {
   "cell_type": "markdown",
   "id": "e479dfc0-7a7c-4456-b3d9-1f54218ea289",
   "metadata": {},
   "source": [
    "---  \n",
    "\n",
    "<span style=\"font-size:0.5em;\">Tag 2</span>\n",
    "\n",
    "### Build Model<a id='build_model'></a>\n",
    "\n",
    "<span style=\"font-size:0.5em;\"><a href='#toc_4'>Back to TOC</a></span>"
   ]
  },
  {
   "cell_type": "markdown",
   "id": "6d0cf42b-b297-4773-b486-a3f634f56aff",
   "metadata": {},
   "source": [
    "---\n",
    "\n",
    "#### First Neural Network Model\n",
    "\n",
    "Let's set up our initial parameters and build our models.\n",
    "\n",
    "We will use the Kera Sequential model."
   ]
  },
  {
   "cell_type": "code",
   "execution_count": 20,
   "id": "01880783-1cad-489a-b799-3657c70443e0",
   "metadata": {},
   "outputs": [],
   "source": [
    "# Initial Parameters\n",
    "num_inputs = X_train.shape[1]\n",
    "num_units_dense_1 = 2\n",
    "num_outputs = 1\n",
    "activ_dense = 'sigmoid'\n",
    "activ_output = 'sigmoid'\n",
    "\n",
    "n_epochs = 2\n",
    "val_split = 0.10"
   ]
  },
  {
   "cell_type": "code",
   "execution_count": 21,
   "id": "451d68c5-95a3-4e3e-99ed-20e43122b652",
   "metadata": {
    "tags": []
   },
   "outputs": [
    {
     "name": "stdout",
     "output_type": "stream",
     "text": [
      "Model: \"seq_model_strike\"\n",
      "_________________________________________________________________\n",
      " Layer (type)                Output Shape              Param #   \n",
      "=================================================================\n",
      " Hidden_1 (Dense)            (None, 2)                 28        \n",
      "                                                                 \n",
      " Output (Dense)              (None, 1)                 3         \n",
      "                                                                 \n",
      "=================================================================\n",
      "Total params: 31\n",
      "Trainable params: 31\n",
      "Non-trainable params: 0\n",
      "_________________________________________________________________\n"
     ]
    },
    {
     "name": "stderr",
     "output_type": "stream",
     "text": [
      "2022-05-07 21:10:11.366029: W tensorflow/stream_executor/platform/default/dso_loader.cc:64] Could not load dynamic library 'libcuda.so.1'; dlerror: libcuda.so.1: cannot open shared object file: No such file or directory\n",
      "2022-05-07 21:10:11.366065: W tensorflow/stream_executor/cuda/cuda_driver.cc:269] failed call to cuInit: UNKNOWN ERROR (303)\n",
      "2022-05-07 21:10:11.366088: I tensorflow/stream_executor/cuda/cuda_diagnostics.cc:156] kernel driver does not appear to be running on this host (3300b895-587c-43a2-87a7-bc301be5309b): /proc/driver/nvidia/version does not exist\n",
      "2022-05-07 21:10:11.366339: I tensorflow/core/platform/cpu_feature_guard.cc:151] This TensorFlow binary is optimized with oneAPI Deep Neural Network Library (oneDNN) to use the following CPU instructions in performance-critical operations:  AVX2 AVX512F FMA\n",
      "To enable them in other operations, rebuild TensorFlow with the appropriate compiler flags.\n"
     ]
    },
    {
     "data": {
      "image/png": "[encoded data removed]",
      "text/plain": [
       "<IPython.core.display.Image object>"
      ]
     },
     "execution_count": 21,
     "metadata": {},
     "output_type": "execute_result"
    }
   ],
   "source": [
    "# Create a Sequential model\n",
    "model = Sequential(name='seq_model_strike')\n",
    "\n",
    "# Add an input layer and a hidden layer with 10 neurons\n",
    "model.add(Dense(num_units_dense_1, input_shape=(num_inputs,)\n",
    "                ,activation=activ_dense, name='Hidden_1'))\n",
    "\n",
    "# Add a 1-neuron output layer\n",
    "model.add(Dense(num_outputs, activation=activ_output, name='Output'))\n",
    "\n",
    "# Compile your model\n",
    "model.compile(loss='binary_crossentropy', optimizer='adam'\n",
    "              ,metrics=['accuracy']\n",
    "             )\n",
    "\n",
    "# Summarise your model\n",
    "model.summary()\n",
    "\n",
    "plot_model(model)"
   ]
  },
  {
   "cell_type": "code",
   "execution_count": 22,
   "id": "ff10c672-e2ed-4de6-9186-c4eacd575a22",
   "metadata": {},
   "outputs": [
    {
     "data": {
      "text/plain": [
       "'To keep it realtively simple, we chose to use 2 nodes in 1 hidden layer.'"
      ]
     },
     "execution_count": 22,
     "metadata": {},
     "output_type": "execute_result"
    }
   ],
   "source": [
    "f\"To keep it realtively simple, we chose to use {num_units_dense_1} nodes in 1 hidden layer.\""
   ]
  },
  {
   "cell_type": "markdown",
   "id": "6f74e14c-d46d-4183-9ccd-515e705d45ba",
   "metadata": {},
   "source": [
    "---\n",
    "\n",
    "#### Model training\n",
    "\n",
    "We will save the model `History`."
   ]
  },
  {
   "cell_type": "code",
   "execution_count": 23,
   "id": "fe7ec8c3-7d81-4886-b39d-68bd1e9b6c59",
   "metadata": {},
   "outputs": [
    {
     "name": "stdout",
     "output_type": "stream",
     "text": [
      "Epoch 1/2\n",
      "7897/7897 [==============================] - 8s 970us/step - loss: 0.6149 - accuracy: 0.6741 - val_loss: 0.5698 - val_accuracy: 0.6876\n",
      "Epoch 2/2\n",
      "7897/7897 [==============================] - 8s 965us/step - loss: 0.5371 - accuracy: 0.6980 - val_loss: 0.4977 - val_accuracy: 0.7343\n"
     ]
    }
   ],
   "source": [
    "# Train model\n",
    "mod_hist =  model.fit(X_train, y_train, epochs = n_epochs\n",
    "                        ,validation_split=val_split)"
   ]
  },
  {
   "cell_type": "markdown",
   "id": "8b180f94-44b2-455f-85d6-b3bad781dc28",
   "metadata": {},
   "source": [
    "Not too bad through 2 epochs. Kind of weird that train accuracy is lower than validation accuracy, but we won't worry too much about it right now; only if we keep seeing it consistently in subsequent runs/tuning.\n",
    "\n",
    "Let's convert the history to a `DataFrame` for easier manipulation."
   ]
  },
  {
   "cell_type": "code",
   "execution_count": 24,
   "id": "533134d1-2272-4da3-a7c4-7f8533ad0e05",
   "metadata": {},
   "outputs": [],
   "source": [
    "df_mod_history = (pd.DataFrame(mod_hist.history).reset_index()\n",
    "                  .rename(columns={'index': 'epoch', 'loss': 'train_loss'\n",
    "                                   ,'accuracy': 'train_accuracy'}) \n",
    "                 )"
   ]
  },
  {
   "cell_type": "code",
   "execution_count": 25,
   "id": "e9800390-16ea-4f95-918b-f56b0abe9a69",
   "metadata": {},
   "outputs": [
    {
     "data": {
      "application/com.datacamp.data-table.v1+json": {
       "is_truncated": false,
       "table": {
        "data": [
         {
          "epoch": 0,
          "index": 0,
          "train_accuracy": 0.6741065979,
          "train_loss": 0.6149445176,
          "val_accuracy": 0.6876447201,
          "val_loss": 0.5698456168
         },
         {
          "epoch": 1,
          "index": 1,
          "train_accuracy": 0.6980490088,
          "train_loss": 0.5370722413,
          "val_accuracy": 0.7342664599,
          "val_loss": 0.4977074564
         }
        ],
        "schema": {
         "fields": [
          {
           "name": "index",
           "type": "integer"
          },
          {
           "name": "epoch",
           "type": "integer"
          },
          {
           "name": "train_loss",
           "type": "number"
          },
          {
           "name": "train_accuracy",
           "type": "number"
          },
          {
           "name": "val_loss",
           "type": "number"
          },
          {
           "name": "val_accuracy",
           "type": "number"
          }
         ],
         "pandas_version": "0.20.0",
         "primaryKey": [
          "index"
         ]
        }
       },
       "total_rows": 2
      },
      "text/html": [
       "<div>\n",
       "<style scoped>\n",
       "    .dataframe tbody tr th:only-of-type {\n",
       "        vertical-align: middle;\n",
       "    }\n",
       "\n",
       "    .dataframe tbody tr th {\n",
       "        vertical-align: top;\n",
       "    }\n",
       "\n",
       "    .dataframe thead th {\n",
       "        text-align: right;\n",
       "    }\n",
       "</style>\n",
       "<table border=\"1\" class=\"dataframe\">\n",
       "  <thead>\n",
       "    <tr style=\"text-align: right;\">\n",
       "      <th></th>\n",
       "      <th>epoch</th>\n",
       "      <th>train_loss</th>\n",
       "      <th>train_accuracy</th>\n",
       "      <th>val_loss</th>\n",
       "      <th>val_accuracy</th>\n",
       "    </tr>\n",
       "  </thead>\n",
       "  <tbody>\n",
       "    <tr>\n",
       "      <th>0</th>\n",
       "      <td>0</td>\n",
       "      <td>0.614945</td>\n",
       "      <td>0.674107</td>\n",
       "      <td>0.569846</td>\n",
       "      <td>0.687645</td>\n",
       "    </tr>\n",
       "    <tr>\n",
       "      <th>1</th>\n",
       "      <td>1</td>\n",
       "      <td>0.537072</td>\n",
       "      <td>0.698049</td>\n",
       "      <td>0.497707</td>\n",
       "      <td>0.734266</td>\n",
       "    </tr>\n",
       "  </tbody>\n",
       "</table>\n",
       "</div>"
      ],
      "text/plain": [
       "   epoch  train_loss  train_accuracy  val_loss  val_accuracy\n",
       "0      0    0.614945        0.674107  0.569846      0.687645\n",
       "1      1    0.537072        0.698049  0.497707      0.734266"
      ]
     },
     "execution_count": 25,
     "metadata": {},
     "output_type": "execute_result"
    }
   ],
   "source": [
    "df_mod_history"
   ]
  },
  {
   "cell_type": "markdown",
   "id": "75b82fb7-cc4f-4144-b687-4db18a8151b4",
   "metadata": {},
   "source": [
    "Let's do a quick viz on the accuracy over the two epochs."
   ]
  },
  {
   "cell_type": "code",
   "execution_count": 26,
   "id": "3e6cc973-5373-433f-b8c2-a622ac601099",
   "metadata": {},
   "outputs": [
    {
     "data": {
      "image/png": "[encoded data removed]",
      "text/plain": [
       "<Figure size 432x288 with 1 Axes>"
      ]
     },
     "metadata": {
      "needs_background": "light"
     },
     "output_type": "display_data"
    }
   ],
   "source": [
    "_ = sns.lineplot(data=df_mod_history, x='epoch', y='train_accuracy')\n",
    "_ = sns.lineplot(data=df_mod_history, x='epoch', y='val_accuracy')\n",
    "# _.set(ylim=(min_y,1))\n",
    "_.set_ylabel(\"Accuracy\")\n",
    "plt.legend(labels=[\"Train\",\"Validation\"])\n",
    "plt.show()"
   ]
  },
  {
   "cell_type": "markdown",
   "id": "0f6e79cb-e3f0-455a-82ac-6f648bd6e434",
   "metadata": {},
   "source": [
    "Let's evaluate the model on the *test* set."
   ]
  },
  {
   "cell_type": "code",
   "execution_count": 27,
   "id": "1f17c33f-6312-4dbc-85a7-dbb6c0f15da1",
   "metadata": {
    "tags": []
   },
   "outputs": [
    {
     "name": "stdout",
     "output_type": "stream",
     "text": [
      "2194/2194 [==============================] - 2s 699us/step - loss: 0.4994 - accuracy: 0.7344\n",
      "Accuracy: 0.7343571782112122\n"
     ]
    }
   ],
   "source": [
    "# Evaluate model accuracy on the test set\n",
    "accuracy = model.evaluate(X_test, y_test)[1]\n",
    "\n",
    "# Print accuracy\n",
    "print('Accuracy:', accuracy)"
   ]
  },
  {
   "cell_type": "markdown",
   "id": "c6355848-fc6d-4da7-97b6-99a35e0d8ca9",
   "metadata": {},
   "source": [
    "Test accuracy of .74 is in line with what we saw out of train/val (.72/0.75).\n",
    "\n",
    "Now that we created a single model as a warmup, let's try to hone in on a good candidate using Random Hyperparameter Search."
   ]
  },
  {
   "cell_type": "markdown",
   "id": "64371874-6ccb-4dcd-9988-efc4d1d60c22",
   "metadata": {},
   "source": [
    "---  \n",
    "\n",
    "<span style=\"font-size:0.5em;\">Tag 3</span>\n",
    "\n",
    "### Random Hyperparameter Search<a id='random_search'></a>\n",
    "\n",
    "<span style=\"font-size:0.5em;\"><a href='#toc_4'>Back to TOC</a></span>"
   ]
  },
  {
   "cell_type": "markdown",
   "id": "d32db77e-0954-4e50-b131-6f588e283aff",
   "metadata": {},
   "source": [
    "#### Preparation\n",
    "\n",
    "Let's create functions for:\n",
    "- Model build\n",
    "\n",
    "In reviewing methodology to use `keras` with `sklearn`, I found `scikeras`. Their [tutorial](https://www.adriangb.com/scikeras/stable/notebooks/Basic_Usage.html#4.2-Saving-using-Keras-saving-methods) has a lot of good examples on how to leverage `sklearn` functionality but use Keras models, so alot of the following will be leveraging those example codes."
   ]
  },
  {
   "cell_type": "markdown",
   "id": "486a1c5b-763e-437a-a543-cfcffe4d012d",
   "metadata": {},
   "source": [
    "Create model build function to create a binary classification neural network model that ingests the current set of parameters."
   ]
  },
  {
   "cell_type": "code",
   "execution_count": 27,
   "id": "4eac9251-048f-494e-8e56-3fdab59fa647",
   "metadata": {},
   "outputs": [],
   "source": [
    "# Full credit to scikeras tutorial (see 2.2 in 'tutorial' link above)\n",
    "def get_clf(meta, hidden_layer_sizes, dropout):\n",
    "    n_features_in_ = meta[\"n_features_in_\"]\n",
    "    n_classes_ = meta[\"n_classes_\"]\n",
    "    model = keras.models.Sequential()\n",
    "    model.add(keras.layers.Input(shape=(n_features_in_,)))\n",
    "    for hidden_layer_size in hidden_layer_sizes:\n",
    "        model.add(keras.layers.Dense(hidden_layer_size, activation=\"relu\"))\n",
    "        model.add(keras.layers.Dropout(dropout))\n",
    "    model.add(keras.layers.Dense(1, activation=\"sigmoid\"))\n",
    "    return model"
   ]
  },
  {
   "cell_type": "markdown",
   "id": "9c13fc67-792c-40a8-8650-5e2178986208",
   "metadata": {},
   "source": [
    "Instantiate a `scikeras` classifier:"
   ]
  },
  {
   "cell_type": "code",
   "execution_count": 29,
   "id": "abdca066-0f5a-41f1-b2b2-e8bea3d866b6",
   "metadata": {},
   "outputs": [],
   "source": [
    "clf = KerasClassifier(\n",
    "    model=get_clf,\n",
    "    loss=\"binary_crossentropy\",\n",
    "    optimizer=\"adam\",\n",
    "    optimizer__lr=0.1,\n",
    "    model__hidden_layer_sizes=(100,),\n",
    "    model__dropout=0.5,\n",
    "    verbose=True,\n",
    "    metrics=['binary_accuracy'],\n",
    "    validation_split=0.10\n",
    ")\n",
    "\n",
    "# clf.fit(X_train, y_train)"
   ]
  },
  {
   "cell_type": "markdown",
   "id": "a30f6bad-f5e2-43b0-a86b-a39cc5b84c2e",
   "metadata": {},
   "source": [
    "Let's create a grid of parameters and do a random search to identify the most promising combination.\n"
   ]
  },
  {
   "cell_type": "markdown",
   "id": "5602d0de-e493-44af-9824-6bd90395590f",
   "metadata": {},
   "source": [
    "Create `dict` of parameters to perform random search on."
   ]
  },
  {
   "cell_type": "code",
   "execution_count": 30,
   "id": "11c6fda6-91f1-4097-b0d1-cfbec538c5d8",
   "metadata": {},
   "outputs": [],
   "source": [
    "params = {\n",
    "    'optimizer__lr': [0.001, 0.01, 0.05, 0.5],\n",
    "    'model__hidden_layer_sizes': [(100,), (50, 50, )],\n",
    "    'model__dropout': [0, 0.5],\n",
    "    'epochs': [2, 3, 5],\n",
    "    'batch_size': [32, 128, 256]\n",
    "}"
   ]
  },
  {
   "cell_type": "markdown",
   "id": "eec5f704-4d49-4294-8cf0-e13393d6690e",
   "metadata": {},
   "source": [
    "Instantiate the `RandomSearchCV` object:"
   ]
  },
  {
   "cell_type": "code",
   "execution_count": 31,
   "id": "86bb9e12-97cc-411b-bd5e-8b7c54146ee0",
   "metadata": {
    "tags": []
   },
   "outputs": [],
   "source": [
    "rs = RandomizedSearchCV(estimator=clf\n",
    "                        ,param_distributions=params\n",
    "                        ,cv=5\n",
    "                        ,refit=True\n",
    "                        ,verbose=True\n",
    "                        )"
   ]
  },
  {
   "cell_type": "markdown",
   "id": "b6bba49d-298c-40a5-a607-d1770c650cee",
   "metadata": {},
   "source": [
    "Fit to the training data!"
   ]
  },
  {
   "cell_type": "code",
   "execution_count": 32,
   "id": "23d9e894-be03-4715-8a17-c82d402e0168",
   "metadata": {
    "tags": []
   },
   "outputs": [
    {
     "name": "stdout",
     "output_type": "stream",
     "text": [
      "Fitting 5 folds for each of 10 candidates, totalling 50 fits\n",
      "Epoch 1/3\n",
      "1580/1580 [==============================] - 3s 1ms/step - loss: 0.1964 - binary_accuracy: 0.9135 - val_loss: 0.1741 - val_binary_accuracy: 0.9243\n",
      "Epoch 2/3\n",
      "1580/1580 [==============================] - 2s 1ms/step - loss: 0.1759 - binary_accuracy: 0.9227 - val_loss: 0.1793 - val_binary_accuracy: 0.9213\n",
      "Epoch 3/3\n",
      "1580/1580 [==============================] - 2s 1ms/step - loss: 0.1706 - binary_accuracy: 0.9256 - val_loss: 0.1735 - val_binary_accuracy: 0.9237\n",
      "439/439 [==============================] - 0s 597us/step\n",
      "Epoch 1/3\n",
      "1580/1580 [==============================] - 3s 2ms/step - loss: 0.1949 - binary_accuracy: 0.9144 - val_loss: 0.1756 - val_binary_accuracy: 0.9246\n",
      "Epoch 2/3\n",
      "1580/1580 [==============================] - 2s 1ms/step - loss: 0.1764 - binary_accuracy: 0.9230 - val_loss: 0.1840 - val_binary_accuracy: 0.9184\n",
      "Epoch 3/3\n",
      "1580/1580 [==============================] - 2s 1ms/step - loss: 0.1718 - binary_accuracy: 0.9254 - val_loss: 0.1692 - val_binary_accuracy: 0.9276\n",
      "439/439 [==============================] - 0s 589us/step\n",
      "Epoch 1/3\n",
      "1580/1580 [==============================] - 3s 2ms/step - loss: 0.1951 - binary_accuracy: 0.9145 - val_loss: 0.1784 - val_binary_accuracy: 0.9219\n",
      "Epoch 2/3\n",
      "1580/1580 [==============================] - 2s 1ms/step - loss: 0.1751 - binary_accuracy: 0.9234 - val_loss: 0.1746 - val_binary_accuracy: 0.9240\n",
      "Epoch 3/3\n",
      "1580/1580 [==============================] - 2s 1ms/step - loss: 0.1710 - binary_accuracy: 0.9254 - val_loss: 0.1772 - val_binary_accuracy: 0.9232\n",
      "439/439 [==============================] - 0s 577us/step\n",
      "Epoch 1/3\n",
      "1580/1580 [==============================] - 3s 1ms/step - loss: 0.1961 - binary_accuracy: 0.9144 - val_loss: 0.1870 - val_binary_accuracy: 0.9205\n",
      "Epoch 2/3\n",
      "1580/1580 [==============================] - 2s 1ms/step - loss: 0.1761 - binary_accuracy: 0.9238 - val_loss: 0.1697 - val_binary_accuracy: 0.9250\n",
      "Epoch 3/3\n",
      "1580/1580 [==============================] - 2s 1ms/step - loss: 0.1714 - binary_accuracy: 0.9252 - val_loss: 0.1689 - val_binary_accuracy: 0.9266\n",
      "439/439 [==============================] - 0s 598us/step\n",
      "Epoch 1/3\n",
      "1580/1580 [==============================] - 3s 1ms/step - loss: 0.1925 - binary_accuracy: 0.9156 - val_loss: 0.1884 - val_binary_accuracy: 0.9213\n",
      "Epoch 2/3\n",
      "1580/1580 [==============================] - 2s 1ms/step - loss: 0.1752 - binary_accuracy: 0.9244 - val_loss: 0.1807 - val_binary_accuracy: 0.9208\n",
      "Epoch 3/3\n",
      "1580/1580 [==============================] - 2s 1ms/step - loss: 0.1710 - binary_accuracy: 0.9257 - val_loss: 0.1710 - val_binary_accuracy: 0.9247\n",
      "439/439 [==============================] - 0s 595us/step\n",
      "Epoch 1/5\n",
      "1580/1580 [==============================] - 3s 2ms/step - loss: 0.1849 - binary_accuracy: 0.9190 - val_loss: 0.1770 - val_binary_accuracy: 0.9233\n",
      "Epoch 2/5\n",
      "1580/1580 [==============================] - 2s 1ms/step - loss: 0.1686 - binary_accuracy: 0.9258 - val_loss: 0.1753 - val_binary_accuracy: 0.9240\n",
      "Epoch 3/5\n",
      "1580/1580 [==============================] - 2s 1ms/step - loss: 0.1675 - binary_accuracy: 0.9263 - val_loss: 0.1763 - val_binary_accuracy: 0.9212\n",
      "Epoch 4/5\n",
      "1580/1580 [==============================] - 2s 1ms/step - loss: 0.1655 - binary_accuracy: 0.9276 - val_loss: 0.1700 - val_binary_accuracy: 0.9257\n",
      "Epoch 5/5\n",
      "1580/1580 [==============================] - 2s 1ms/step - loss: 0.1645 - binary_accuracy: 0.9280 - val_loss: 0.1643 - val_binary_accuracy: 0.9273\n",
      "439/439 [==============================] - 0s 594us/step\n",
      "Epoch 1/5\n",
      "1580/1580 [==============================] - 3s 1ms/step - loss: 0.1879 - binary_accuracy: 0.9172 - val_loss: 0.1812 - val_binary_accuracy: 0.9213\n",
      "Epoch 2/5\n",
      "1580/1580 [==============================] - 2s 1ms/step - loss: 0.1687 - binary_accuracy: 0.9262 - val_loss: 0.1657 - val_binary_accuracy: 0.9281\n",
      "Epoch 3/5\n",
      "1580/1580 [==============================] - 2s 1ms/step - loss: 0.1671 - binary_accuracy: 0.9275 - val_loss: 0.1664 - val_binary_accuracy: 0.9284\n",
      "Epoch 4/5\n",
      "1580/1580 [==============================] - 2s 1ms/step - loss: 0.1655 - binary_accuracy: 0.9282 - val_loss: 0.1653 - val_binary_accuracy: 0.9289\n",
      "Epoch 5/5\n",
      "1580/1580 [==============================] - 2s 1ms/step - loss: 0.1645 - binary_accuracy: 0.9281 - val_loss: 0.1706 - val_binary_accuracy: 0.9250\n",
      "439/439 [==============================] - 0s 605us/step\n",
      "Epoch 1/5\n",
      "1580/1580 [==============================] - 3s 1ms/step - loss: 0.1851 - binary_accuracy: 0.9177 - val_loss: 0.1743 - val_binary_accuracy: 0.9230\n",
      "Epoch 2/5\n",
      "1580/1580 [==============================] - 2s 1ms/step - loss: 0.1681 - binary_accuracy: 0.9269 - val_loss: 0.1698 - val_binary_accuracy: 0.9261\n",
      "Epoch 3/5\n",
      "1580/1580 [==============================] - 2s 1ms/step - loss: 0.1663 - binary_accuracy: 0.9272 - val_loss: 0.1657 - val_binary_accuracy: 0.9273\n",
      "Epoch 4/5\n",
      "1580/1580 [==============================] - 2s 1ms/step - loss: 0.1651 - binary_accuracy: 0.9274 - val_loss: 0.1654 - val_binary_accuracy: 0.9281\n",
      "Epoch 5/5\n",
      "1580/1580 [==============================] - 2s 1ms/step - loss: 0.1636 - binary_accuracy: 0.9287 - val_loss: 0.1700 - val_binary_accuracy: 0.9261\n",
      "439/439 [==============================] - 0s 645us/step\n",
      "Epoch 1/5\n",
      "1580/1580 [==============================] - 3s 1ms/step - loss: 0.1864 - binary_accuracy: 0.9180 - val_loss: 0.1665 - val_binary_accuracy: 0.9273\n",
      "Epoch 2/5\n",
      "1580/1580 [==============================] - 2s 1ms/step - loss: 0.1693 - binary_accuracy: 0.9262 - val_loss: 0.1650 - val_binary_accuracy: 0.9268\n",
      "Epoch 3/5\n",
      "1580/1580 [==============================] - 2s 1ms/step - loss: 0.1671 - binary_accuracy: 0.9275 - val_loss: 0.1759 - val_binary_accuracy: 0.9225\n",
      "Epoch 4/5\n",
      "1580/1580 [==============================] - 2s 1ms/step - loss: 0.1664 - binary_accuracy: 0.9279 - val_loss: 0.1718 - val_binary_accuracy: 0.9253\n",
      "Epoch 5/5\n",
      "1580/1580 [==============================] - 2s 1ms/step - loss: 0.1647 - binary_accuracy: 0.9284 - val_loss: 0.1692 - val_binary_accuracy: 0.9261\n",
      "439/439 [==============================] - 0s 588us/step\n",
      "Epoch 1/5\n",
      "1580/1580 [==============================] - 3s 2ms/step - loss: 0.1867 - binary_accuracy: 0.9174 - val_loss: 0.1731 - val_binary_accuracy: 0.9232\n",
      "Epoch 2/5\n",
      "1580/1580 [==============================] - 2s 1ms/step - loss: 0.1681 - binary_accuracy: 0.9270 - val_loss: 0.1654 - val_binary_accuracy: 0.9265\n",
      "Epoch 3/5\n",
      "1580/1580 [==============================] - 2s 1ms/step - loss: 0.1666 - binary_accuracy: 0.9278 - val_loss: 0.1697 - val_binary_accuracy: 0.9251\n",
      "Epoch 4/5\n",
      "1580/1580 [==============================] - 2s 1ms/step - loss: 0.1659 - binary_accuracy: 0.9277 - val_loss: 0.1632 - val_binary_accuracy: 0.9271\n",
      "Epoch 5/5\n",
      "1580/1580 [==============================] - 2s 1ms/step - loss: 0.1638 - binary_accuracy: 0.9287 - val_loss: 0.1602 - val_binary_accuracy: 0.9299\n",
      "439/439 [==============================] - 0s 603us/step\n",
      "Epoch 1/2\n",
      "1580/1580 [==============================] - 3s 2ms/step - loss: 0.1935 - binary_accuracy: 0.9146 - val_loss: 0.1798 - val_binary_accuracy: 0.9220\n",
      "Epoch 2/2\n",
      "1580/1580 [==============================] - 2s 1ms/step - loss: 0.1755 - binary_accuracy: 0.9237 - val_loss: 0.1726 - val_binary_accuracy: 0.9266\n",
      "439/439 [==============================] - 0s 591us/step\n",
      "Epoch 1/2\n",
      "1580/1580 [==============================] - 3s 2ms/step - loss: 0.1957 - binary_accuracy: 0.9141 - val_loss: 0.1908 - val_binary_accuracy: 0.9163\n",
      "Epoch 2/2\n",
      "1580/1580 [==============================] - 2s 1ms/step - loss: 0.1747 - binary_accuracy: 0.9248 - val_loss: 0.1707 - val_binary_accuracy: 0.9268\n",
      "439/439 [==============================] - 0s 589us/step\n",
      "Epoch 1/2\n",
      "1580/1580 [==============================] - 3s 1ms/step - loss: 0.1936 - binary_accuracy: 0.9151 - val_loss: 0.1774 - val_binary_accuracy: 0.9226\n",
      "Epoch 2/2\n",
      "1580/1580 [==============================] - 2s 1ms/step - loss: 0.1739 - binary_accuracy: 0.9242 - val_loss: 0.1722 - val_binary_accuracy: 0.9250\n",
      "439/439 [==============================] - 0s 678us/step\n",
      "Epoch 1/2\n",
      "1580/1580 [==============================] - 3s 1ms/step - loss: 0.1938 - binary_accuracy: 0.9148 - val_loss: 0.1871 - val_binary_accuracy: 0.9188\n",
      "Epoch 2/2\n",
      "1580/1580 [==============================] - 2s 1ms/step - loss: 0.1752 - binary_accuracy: 0.9232 - val_loss: 0.1731 - val_binary_accuracy: 0.9241\n",
      "439/439 [==============================] - 0s 588us/step\n",
      "Epoch 1/2\n",
      "1580/1580 [==============================] - 3s 2ms/step - loss: 0.1938 - binary_accuracy: 0.9153 - val_loss: 0.1763 - val_binary_accuracy: 0.9230\n",
      "Epoch 2/2\n",
      "1580/1580 [==============================] - 2s 1ms/step - loss: 0.1750 - binary_accuracy: 0.9242 - val_loss: 0.1651 - val_binary_accuracy: 0.9286\n",
      "439/439 [==============================] - 0s 593us/step\n",
      "Epoch 1/2\n",
      "6318/6318 [==============================] - 9s 1ms/step - loss: 0.2860 - binary_accuracy: 0.8719 - val_loss: 0.1718 - val_binary_accuracy: 0.9268\n",
      "Epoch 2/2\n",
      "6318/6318 [==============================] - 8s 1ms/step - loss: 0.1999 - binary_accuracy: 0.9172 - val_loss: 0.1682 - val_binary_accuracy: 0.9279\n",
      "1755/1755 [==============================] - 1s 602us/step\n",
      "Epoch 1/2\n",
      "6318/6318 [==============================] - 9s 1ms/step - loss: 0.2871 - binary_accuracy: 0.8721 - val_loss: 0.1710 - val_binary_accuracy: 0.9266\n",
      "Epoch 2/2\n",
      "6318/6318 [==============================] - 8s 1ms/step - loss: 0.2000 - binary_accuracy: 0.9179 - val_loss: 0.1667 - val_binary_accuracy: 0.9289\n",
      "1755/1755 [==============================] - 1s 591us/step\n",
      "Epoch 1/2\n",
      "6318/6318 [==============================] - 9s 1ms/step - loss: 0.2858 - binary_accuracy: 0.8713 - val_loss: 0.1739 - val_binary_accuracy: 0.9265\n",
      "Epoch 2/2\n",
      "6318/6318 [==============================] - 8s 1ms/step - loss: 0.2034 - binary_accuracy: 0.9160 - val_loss: 0.1684 - val_binary_accuracy: 0.9276\n",
      "1755/1755 [==============================] - 1s 588us/step\n",
      "Epoch 1/2\n",
      "6318/6318 [==============================] - 9s 1ms/step - loss: 0.2942 - binary_accuracy: 0.8664 - val_loss: 0.1725 - val_binary_accuracy: 0.9280\n",
      "Epoch 2/2\n",
      "6318/6318 [==============================] - 8s 1ms/step - loss: 0.2019 - binary_accuracy: 0.9170 - val_loss: 0.1695 - val_binary_accuracy: 0.9262\n",
      "1755/1755 [==============================] - 1s 589us/step\n",
      "Epoch 1/2\n",
      "6318/6318 [==============================] - 9s 1ms/step - loss: 0.2879 - binary_accuracy: 0.8704 - val_loss: 0.1710 - val_binary_accuracy: 0.9277\n",
      "Epoch 2/2\n",
      "6318/6318 [==============================] - 8s 1ms/step - loss: 0.2002 - binary_accuracy: 0.9177 - val_loss: 0.1670 - val_binary_accuracy: 0.9258\n",
      "1755/1755 [==============================] - 1s 598us/step\n",
      "Epoch 1/3\n",
      "1580/1580 [==============================] - 3s 2ms/step - loss: 0.2209 - binary_accuracy: 0.8983 - val_loss: 0.1689 - val_binary_accuracy: 0.9263\n",
      "Epoch 2/3\n",
      "1580/1580 [==============================] - 2s 1ms/step - loss: 0.1614 - binary_accuracy: 0.9292 - val_loss: 0.1635 - val_binary_accuracy: 0.9289\n",
      "Epoch 3/3\n",
      "1580/1580 [==============================] - 2s 1ms/step - loss: 0.1596 - binary_accuracy: 0.9300 - val_loss: 0.1612 - val_binary_accuracy: 0.9315\n",
      "439/439 [==============================] - 0s 593us/step\n",
      "Epoch 1/3\n",
      "1580/1580 [==============================] - 3s 1ms/step - loss: 0.2149 - binary_accuracy: 0.9039 - val_loss: 0.1668 - val_binary_accuracy: 0.9279\n",
      "Epoch 2/3\n",
      "1580/1580 [==============================] - 2s 1ms/step - loss: 0.1621 - binary_accuracy: 0.9294 - val_loss: 0.1675 - val_binary_accuracy: 0.9265\n",
      "Epoch 3/3\n",
      "1580/1580 [==============================] - 2s 1ms/step - loss: 0.1603 - binary_accuracy: 0.9304 - val_loss: 0.1617 - val_binary_accuracy: 0.9300\n",
      "439/439 [==============================] - 0s 622us/step\n",
      "Epoch 1/3\n",
      "1580/1580 [==============================] - 3s 2ms/step - loss: 0.2192 - binary_accuracy: 0.8999 - val_loss: 0.1643 - val_binary_accuracy: 0.9286\n",
      "Epoch 2/3\n",
      "1580/1580 [==============================] - 2s 1ms/step - loss: 0.1613 - binary_accuracy: 0.9290 - val_loss: 0.1620 - val_binary_accuracy: 0.9299\n",
      "Epoch 3/3\n",
      "1580/1580 [==============================] - 2s 2ms/step - loss: 0.1597 - binary_accuracy: 0.9305 - val_loss: 0.1618 - val_binary_accuracy: 0.9302\n",
      "439/439 [==============================] - 0s 610us/step\n",
      "Epoch 1/3\n",
      "1580/1580 [==============================] - 3s 1ms/step - loss: 0.2198 - binary_accuracy: 0.8987 - val_loss: 0.1667 - val_binary_accuracy: 0.9269\n",
      "Epoch 2/3\n",
      "1580/1580 [==============================] - 2s 1ms/step - loss: 0.1615 - binary_accuracy: 0.9298 - val_loss: 0.1621 - val_binary_accuracy: 0.9278\n",
      "Epoch 3/3\n",
      "1580/1580 [==============================] - 2s 1ms/step - loss: 0.1601 - binary_accuracy: 0.9306 - val_loss: 0.1627 - val_binary_accuracy: 0.9287\n",
      "439/439 [==============================] - 0s 610us/step\n",
      "Epoch 1/3\n",
      "1580/1580 [==============================] - 3s 1ms/step - loss: 0.2153 - binary_accuracy: 0.9035 - val_loss: 0.1651 - val_binary_accuracy: 0.9274\n",
      "Epoch 2/3\n",
      "1580/1580 [==============================] - 2s 1ms/step - loss: 0.1620 - binary_accuracy: 0.9298 - val_loss: 0.1647 - val_binary_accuracy: 0.9274\n",
      "Epoch 3/3\n",
      "1580/1580 [==============================] - 2s 1ms/step - loss: 0.1602 - binary_accuracy: 0.9304 - val_loss: 0.1627 - val_binary_accuracy: 0.9285\n",
      "439/439 [==============================] - 0s 619us/step\n",
      "Epoch 1/5\n",
      "1580/1580 [==============================] - 3s 2ms/step - loss: 0.3083 - binary_accuracy: 0.8681 - val_loss: 0.2201 - val_binary_accuracy: 0.9090\n",
      "Epoch 2/5\n",
      "1580/1580 [==============================] - 2s 2ms/step - loss: 0.2987 - binary_accuracy: 0.8726 - val_loss: 0.2343 - val_binary_accuracy: 0.8893\n",
      "Epoch 3/5\n",
      "1580/1580 [==============================] - 2s 1ms/step - loss: 0.3024 - binary_accuracy: 0.8684 - val_loss: 0.2176 - val_binary_accuracy: 0.9156\n",
      "Epoch 4/5\n",
      "1580/1580 [==============================] - 2s 1ms/step - loss: 0.2957 - binary_accuracy: 0.8722 - val_loss: 0.2131 - val_binary_accuracy: 0.9136\n",
      "Epoch 5/5\n",
      "1580/1580 [==============================] - 2s 1ms/step - loss: 0.2888 - binary_accuracy: 0.8742 - val_loss: 0.2124 - val_binary_accuracy: 0.9152\n",
      "439/439 [==============================] - 0s 663us/step\n",
      "Epoch 1/5\n",
      "1580/1580 [==============================] - 3s 2ms/step - loss: 0.2971 - binary_accuracy: 0.8733 - val_loss: 0.2352 - val_binary_accuracy: 0.9093\n",
      "Epoch 2/5\n",
      "1580/1580 [==============================] - 2s 2ms/step - loss: 0.2784 - binary_accuracy: 0.8813 - val_loss: 0.2071 - val_binary_accuracy: 0.8976\n",
      "Epoch 3/5\n",
      "1580/1580 [==============================] - 2s 2ms/step - loss: 0.2935 - binary_accuracy: 0.8823 - val_loss: 0.2146 - val_binary_accuracy: 0.8988\n",
      "Epoch 4/5\n",
      "1580/1580 [==============================] - 2s 1ms/step - loss: 0.2834 - binary_accuracy: 0.8826 - val_loss: 0.2259 - val_binary_accuracy: 0.8859\n",
      "Epoch 5/5\n",
      "1580/1580 [==============================] - 3s 2ms/step - loss: 0.2854 - binary_accuracy: 0.8855 - val_loss: 0.2059 - val_binary_accuracy: 0.8993\n",
      "439/439 [==============================] - 0s 621us/step\n",
      "Epoch 1/5\n",
      "1580/1580 [==============================] - 3s 2ms/step - loss: 0.3006 - binary_accuracy: 0.8706 - val_loss: 0.2332 - val_binary_accuracy: 0.9127\n",
      "Epoch 2/5\n",
      "1580/1580 [==============================] - 2s 2ms/step - loss: 0.2893 - binary_accuracy: 0.8774 - val_loss: 0.2191 - val_binary_accuracy: 0.8844\n",
      "Epoch 3/5\n",
      "1580/1580 [==============================] - 2s 1ms/step - loss: 0.2976 - binary_accuracy: 0.8718 - val_loss: 0.2222 - val_binary_accuracy: 0.8782\n",
      "Epoch 4/5\n",
      "1580/1580 [==============================] - 3s 2ms/step - loss: 0.3001 - binary_accuracy: 0.8699 - val_loss: 0.2284 - val_binary_accuracy: 0.8868\n",
      "Epoch 5/5\n",
      "1580/1580 [==============================] - 2s 1ms/step - loss: 0.2986 - binary_accuracy: 0.8710 - val_loss: 0.2290 - val_binary_accuracy: 0.8756\n",
      "439/439 [==============================] - 0s 615us/step\n",
      "Epoch 1/5\n",
      "1580/1580 [==============================] - 3s 2ms/step - loss: 0.3082 - binary_accuracy: 0.8680 - val_loss: 0.2290 - val_binary_accuracy: 0.8946\n",
      "Epoch 2/5\n",
      "1580/1580 [==============================] - 2s 2ms/step - loss: 0.2952 - binary_accuracy: 0.8772 - val_loss: 0.2423 - val_binary_accuracy: 0.8834\n",
      "Epoch 3/5\n",
      "1580/1580 [==============================] - 2s 2ms/step - loss: 0.2967 - binary_accuracy: 0.8771 - val_loss: 0.2267 - val_binary_accuracy: 0.9172\n",
      "Epoch 4/5\n",
      "1580/1580 [==============================] - 2s 1ms/step - loss: 0.3019 - binary_accuracy: 0.8746 - val_loss: 0.2203 - val_binary_accuracy: 0.9142\n",
      "Epoch 5/5\n",
      "1580/1580 [==============================] - 2s 2ms/step - loss: 0.3059 - binary_accuracy: 0.8696 - val_loss: 0.2132 - val_binary_accuracy: 0.9140\n",
      "439/439 [==============================] - 0s 616us/step\n",
      "Epoch 1/5\n",
      "1580/1580 [==============================] - 3s 2ms/step - loss: 0.3023 - binary_accuracy: 0.8718 - val_loss: 0.2066 - val_binary_accuracy: 0.9121\n",
      "Epoch 2/5\n",
      "1580/1580 [==============================] - 2s 2ms/step - loss: 0.2858 - binary_accuracy: 0.8796 - val_loss: 0.2221 - val_binary_accuracy: 0.9130\n",
      "Epoch 3/5\n",
      "1580/1580 [==============================] - 2s 2ms/step - loss: 0.2925 - binary_accuracy: 0.8718 - val_loss: 0.2058 - val_binary_accuracy: 0.9208\n",
      "Epoch 4/5\n",
      "1580/1580 [==============================] - 2s 2ms/step - loss: 0.2957 - binary_accuracy: 0.8739 - val_loss: 0.2301 - val_binary_accuracy: 0.8722\n",
      "Epoch 5/5\n",
      "1580/1580 [==============================] - 2s 2ms/step - loss: 0.3025 - binary_accuracy: 0.8712 - val_loss: 0.2379 - val_binary_accuracy: 0.8881\n",
      "439/439 [==============================] - 0s 619us/step\n",
      "Epoch 1/3\n",
      "6318/6318 [==============================] - 9s 1ms/step - loss: 1.0593 - binary_accuracy: 0.6910 - val_loss: 0.6368 - val_binary_accuracy: 0.6864\n",
      "Epoch 2/3\n",
      "6318/6318 [==============================] - 8s 1ms/step - loss: 0.8925 - binary_accuracy: 0.6854 - val_loss: 0.6515 - val_binary_accuracy: 0.6864\n",
      "Epoch 3/3\n",
      "6318/6318 [==============================] - 8s 1ms/step - loss: 0.7127 - binary_accuracy: 0.6860 - val_loss: 0.7322 - val_binary_accuracy: 0.6866\n",
      "1755/1755 [==============================] - 1s 586us/step\n",
      "Epoch 1/3\n",
      "6318/6318 [==============================] - 9s 1ms/step - loss: 1.0136 - binary_accuracy: 0.6907 - val_loss: 0.6226 - val_binary_accuracy: 0.6865\n",
      "Epoch 2/3\n",
      "6318/6318 [==============================] - 8s 1ms/step - loss: 0.7475 - binary_accuracy: 0.6857 - val_loss: 0.6350 - val_binary_accuracy: 0.6863\n",
      "Epoch 3/3\n",
      "6318/6318 [==============================] - 8s 1ms/step - loss: 0.7756 - binary_accuracy: 0.6842 - val_loss: 0.6271 - val_binary_accuracy: 0.6865\n",
      "1755/1755 [==============================] - 1s 595us/step\n",
      "Epoch 1/3\n",
      "6318/6318 [==============================] - 9s 1ms/step - loss: 0.9520 - binary_accuracy: 0.6930 - val_loss: 0.6118 - val_binary_accuracy: 0.6864\n",
      "Epoch 2/3\n",
      "6318/6318 [==============================] - 8s 1ms/step - loss: 0.7528 - binary_accuracy: 0.6855 - val_loss: 3.5733 - val_binary_accuracy: 0.6865\n",
      "Epoch 3/3\n",
      "6318/6318 [==============================] - 8s 1ms/step - loss: 0.7111 - binary_accuracy: 0.6858 - val_loss: 0.6318 - val_binary_accuracy: 0.6866\n",
      "1755/1755 [==============================] - 1s 604us/step\n",
      "Epoch 1/3\n",
      "6318/6318 [==============================] - 9s 1ms/step - loss: 1.0692 - binary_accuracy: 0.6909 - val_loss: 1.4554 - val_binary_accuracy: 0.6860\n",
      "Epoch 2/3\n",
      "6318/6318 [==============================] - 8s 1ms/step - loss: 0.8706 - binary_accuracy: 0.6845 - val_loss: 0.6239 - val_binary_accuracy: 0.6865\n",
      "Epoch 3/3\n",
      "6318/6318 [==============================] - 8s 1ms/step - loss: 0.8851 - binary_accuracy: 0.6856 - val_loss: 0.6434 - val_binary_accuracy: 0.6865\n",
      "1755/1755 [==============================] - 1s 587us/step\n",
      "Epoch 1/3\n",
      "6318/6318 [==============================] - 9s 1ms/step - loss: 1.0760 - binary_accuracy: 0.6917 - val_loss: 0.5958 - val_binary_accuracy: 0.6844\n",
      "Epoch 2/3\n",
      "6318/6318 [==============================] - 8s 1ms/step - loss: 0.7684 - binary_accuracy: 0.6845 - val_loss: 0.6429 - val_binary_accuracy: 0.6848\n",
      "Epoch 3/3\n",
      "6318/6318 [==============================] - 8s 1ms/step - loss: 0.6833 - binary_accuracy: 0.6865 - val_loss: 0.6402 - val_binary_accuracy: 0.6848\n",
      "1755/1755 [==============================] - 1s 581us/step\n",
      "Epoch 1/3\n",
      "6318/6318 [==============================] - 9s 1ms/step - loss: 0.9949 - binary_accuracy: 0.6855 - val_loss: 0.6233 - val_binary_accuracy: 0.6866\n",
      "Epoch 2/3\n",
      "6318/6318 [==============================] - 8s 1ms/step - loss: 0.7417 - binary_accuracy: 0.6860 - val_loss: 0.6401 - val_binary_accuracy: 0.6866\n",
      "Epoch 3/3\n",
      "6318/6318 [==============================] - 8s 1ms/step - loss: 1.4166 - binary_accuracy: 0.6864 - val_loss: 0.6227 - val_binary_accuracy: 0.6866\n",
      "1755/1755 [==============================] - 1s 614us/step\n",
      "Epoch 1/3\n",
      "6318/6318 [==============================] - 9s 1ms/step - loss: 0.9958 - binary_accuracy: 0.6858 - val_loss: 0.6385 - val_binary_accuracy: 0.6866\n",
      "Epoch 2/3\n",
      "6318/6318 [==============================] - 8s 1ms/step - loss: 0.7060 - binary_accuracy: 0.6864 - val_loss: 0.6245 - val_binary_accuracy: 0.6866\n",
      "Epoch 3/3\n",
      "6318/6318 [==============================] - 8s 1ms/step - loss: 0.7596 - binary_accuracy: 0.6862 - val_loss: 0.6223 - val_binary_accuracy: 0.6866\n",
      "1755/1755 [==============================] - 1s 605us/step\n",
      "Epoch 1/3\n",
      "6318/6318 [==============================] - 9s 1ms/step - loss: 0.9896 - binary_accuracy: 0.6854 - val_loss: 0.6229 - val_binary_accuracy: 0.6866\n",
      "Epoch 2/3\n",
      "6318/6318 [==============================] - 8s 1ms/step - loss: 0.6359 - binary_accuracy: 0.6860 - val_loss: 0.6275 - val_binary_accuracy: 0.6866\n",
      "Epoch 3/3\n",
      "6318/6318 [==============================] - 8s 1ms/step - loss: 0.7802 - binary_accuracy: 0.6863 - val_loss: 0.6231 - val_binary_accuracy: 0.6866\n",
      "1755/1755 [==============================] - 1s 598us/step\n",
      "Epoch 1/3\n",
      "6318/6318 [==============================] - 9s 1ms/step - loss: 1.3087 - binary_accuracy: 0.6859 - val_loss: 0.6368 - val_binary_accuracy: 0.6866\n",
      "Epoch 2/3\n",
      "6318/6318 [==============================] - 8s 1ms/step - loss: 0.6793 - binary_accuracy: 0.6864 - val_loss: 0.6368 - val_binary_accuracy: 0.6866\n",
      "Epoch 3/3\n",
      "6318/6318 [==============================] - 8s 1ms/step - loss: 0.6431 - binary_accuracy: 0.6859 - val_loss: 0.6223 - val_binary_accuracy: 0.6866\n",
      "1755/1755 [==============================] - 1s 612us/step\n",
      "Epoch 1/3\n",
      "6318/6318 [==============================] - 9s 1ms/step - loss: 0.8399 - binary_accuracy: 0.6862 - val_loss: 0.6236 - val_binary_accuracy: 0.6848\n",
      "Epoch 2/3\n",
      "6318/6318 [==============================] - 9s 1ms/step - loss: 0.7458 - binary_accuracy: 0.6863 - val_loss: 0.6303 - val_binary_accuracy: 0.6848\n",
      "Epoch 3/3\n",
      "6318/6318 [==============================] - 8s 1ms/step - loss: 0.6812 - binary_accuracy: 0.6866 - val_loss: 0.6341 - val_binary_accuracy: 0.6848\n",
      "1755/1755 [==============================] - 1s 591us/step\n",
      "Epoch 1/2\n",
      "6318/6318 [==============================] - 8s 1ms/step - loss: 0.2043 - binary_accuracy: 0.9105 - val_loss: 0.1630 - val_binary_accuracy: 0.9292\n",
      "Epoch 2/2\n",
      "6318/6318 [==============================] - 8s 1ms/step - loss: 0.1610 - binary_accuracy: 0.9300 - val_loss: 0.1606 - val_binary_accuracy: 0.9295\n",
      "1755/1755 [==============================] - 1s 580us/step\n",
      "Epoch 1/2\n",
      "6318/6318 [==============================] - 8s 1ms/step - loss: 0.1989 - binary_accuracy: 0.9134 - val_loss: 0.1636 - val_binary_accuracy: 0.9285\n",
      "Epoch 2/2\n",
      "6318/6318 [==============================] - 8s 1ms/step - loss: 0.1611 - binary_accuracy: 0.9298 - val_loss: 0.1599 - val_binary_accuracy: 0.9314\n",
      "1755/1755 [==============================] - 1s 586us/step\n",
      "Epoch 1/2\n",
      "6318/6318 [==============================] - 8s 1ms/step - loss: 0.1980 - binary_accuracy: 0.9137 - val_loss: 0.1641 - val_binary_accuracy: 0.9290\n",
      "Epoch 2/2\n",
      "6318/6318 [==============================] - 8s 1ms/step - loss: 0.1606 - binary_accuracy: 0.9299 - val_loss: 0.1610 - val_binary_accuracy: 0.9303\n",
      "1755/1755 [==============================] - 1s 583us/step\n",
      "Epoch 1/2\n",
      "6318/6318 [==============================] - 9s 1ms/step - loss: 0.1997 - binary_accuracy: 0.9128 - val_loss: 0.1628 - val_binary_accuracy: 0.9297\n",
      "Epoch 2/2\n",
      "6318/6318 [==============================] - 8s 1ms/step - loss: 0.1610 - binary_accuracy: 0.9304 - val_loss: 0.1614 - val_binary_accuracy: 0.9304\n",
      "1755/1755 [==============================] - 1s 611us/step\n",
      "Epoch 1/2\n",
      "6318/6318 [==============================] - 8s 1ms/step - loss: 0.2014 - binary_accuracy: 0.9127 - val_loss: 0.1621 - val_binary_accuracy: 0.9278\n",
      "Epoch 2/2\n",
      "6318/6318 [==============================] - 8s 1ms/step - loss: 0.1605 - binary_accuracy: 0.9301 - val_loss: 0.1596 - val_binary_accuracy: 0.9282\n",
      "1755/1755 [==============================] - 1s 583us/step\n",
      "Epoch 1/2\n",
      "1580/1580 [==============================] - 3s 1ms/step - loss: 0.1857 - binary_accuracy: 0.9173 - val_loss: 0.1844 - val_binary_accuracy: 0.9191\n",
      "Epoch 2/2\n",
      "1580/1580 [==============================] - 2s 1ms/step - loss: 0.1688 - binary_accuracy: 0.9261 - val_loss: 0.1646 - val_binary_accuracy: 0.9275\n",
      "439/439 [==============================] - 0s 597us/step\n",
      "Epoch 1/2\n",
      "1580/1580 [==============================] - 3s 2ms/step - loss: 0.1871 - binary_accuracy: 0.9176 - val_loss: 0.1716 - val_binary_accuracy: 0.9253\n",
      "Epoch 2/2\n",
      "1580/1580 [==============================] - 2s 1ms/step - loss: 0.1690 - binary_accuracy: 0.9259 - val_loss: 0.1801 - val_binary_accuracy: 0.9232\n",
      "439/439 [==============================] - 0s 607us/step\n",
      "Epoch 1/2\n",
      "1580/1580 [==============================] - 3s 1ms/step - loss: 0.1866 - binary_accuracy: 0.9169 - val_loss: 0.1804 - val_binary_accuracy: 0.9203\n",
      "Epoch 2/2\n",
      "1580/1580 [==============================] - 2s 1ms/step - loss: 0.1685 - binary_accuracy: 0.9259 - val_loss: 0.1710 - val_binary_accuracy: 0.9256\n",
      "439/439 [==============================] - 0s 616us/step\n",
      "Epoch 1/2\n",
      "1580/1580 [==============================] - 3s 1ms/step - loss: 0.1855 - binary_accuracy: 0.9181 - val_loss: 0.1722 - val_binary_accuracy: 0.9248\n",
      "Epoch 2/2\n",
      "1580/1580 [==============================] - 2s 1ms/step - loss: 0.1688 - binary_accuracy: 0.9271 - val_loss: 0.1661 - val_binary_accuracy: 0.9273\n",
      "439/439 [==============================] - 0s 639us/step\n",
      "Epoch 1/2\n",
      "1580/1580 [==============================] - 3s 2ms/step - loss: 0.1856 - binary_accuracy: 0.9180 - val_loss: 0.1740 - val_binary_accuracy: 0.9218\n",
      "Epoch 2/2\n",
      "1580/1580 [==============================] - 2s 1ms/step - loss: 0.1690 - binary_accuracy: 0.9260 - val_loss: 0.1640 - val_binary_accuracy: 0.9273\n",
      "439/439 [==============================] - 0s 600us/step\n",
      "Epoch 1/2\n",
      "7897/7897 [==============================] - 10s 1ms/step - loss: 0.1972 - binary_accuracy: 0.9137 - val_loss: 0.1617 - val_binary_accuracy: 0.9298\n",
      "Epoch 2/2\n",
      "7897/7897 [==============================] - 10s 1ms/step - loss: 0.1603 - binary_accuracy: 0.9303 - val_loss: 0.1636 - val_binary_accuracy: 0.9281\n"
     ]
    }
   ],
   "source": [
    "rs_results = rs.fit(X_train, y_train)"
   ]
  },
  {
   "cell_type": "markdown",
   "id": "33267f67-55b1-49b0-97d1-07160b93edcb",
   "metadata": {},
   "source": [
    "Ok, let's `pickle` the results for later reference if we can't complete our review right away."
   ]
  },
  {
   "cell_type": "code",
   "execution_count": 33,
   "id": "ef7ad9b2-18d6-456f-a0e3-0511be54e6c6",
   "metadata": {},
   "outputs": [
    {
     "data": {
      "text/plain": [
       "'./models/rs_results/nn_rs_2nd_pass_20220507_2122.pickle'"
      ]
     },
     "metadata": {},
     "output_type": "display_data"
    },
    {
     "name": "stderr",
     "output_type": "stream",
     "text": [
      "2022-05-07 21:22:29.131879: W tensorflow/python/util/util.cc:368] Sets are not currently considered sequences, but this may change in the future, so consider avoiding using them.\n"
     ]
    },
    {
     "name": "stdout",
     "output_type": "stream",
     "text": [
      "INFO:tensorflow:Assets written to: ram:///tmp/tmpomf_vhcy/assets\n"
     ]
    }
   ],
   "source": [
    "str_ts = datetime.now().strftime(\"%Y%m%d_%H%M\")\n",
    "file_nm = 'nn_rs_2nd_pass_' + str_ts\n",
    "file_path = './models/rs_results/' + file_nm + '.pickle'\n",
    "# pred_path = './predictions/test/' + file_nm + '.csv'\n",
    "\n",
    "display(file_path)\n",
    "\n",
    "with open(file_path, 'wb') as f:\n",
    "    # Pickle the 'data' dictionary using the highest protocol available.\n",
    "    pickle.dump(rs_results, f, pickle.HIGHEST_PROTOCOL)"
   ]
  },
  {
   "cell_type": "code",
   "execution_count": 34,
   "id": "879d5551-1c9f-4a57-8487-cacbc8dd1571",
   "metadata": {
    "tags": []
   },
   "outputs": [
    {
     "name": "stdout",
     "output_type": "stream",
     "text": [
      "skipping\n"
     ]
    }
   ],
   "source": [
    "%%script echo skipping\n",
    "str_ts = datetime.now().strftime(\"%Y%m%d_%H%M\")\n",
    "model_nm = 'nn_2nd_pass_' + str_ts\n",
    "model_path = './models/' + model_nm\n",
    "pred_path = './predictions/test/' + model_nm + '.csv'\n",
    "\n",
    "display(model_path, pred_path)\n",
    "\n",
    "# save out predicted probabilities\n",
    "pred_curr = rs_best.predict_proba(X_test)\n",
    "np.savetxt(pred_path, pred_curr, delimiter=\",\")\n",
    "\n",
    "# Save out Keras model\n",
    "rs_best.model_.save(model_path)"
   ]
  },
  {
   "cell_type": "markdown",
   "id": "f0b66bf8-e9b9-401d-973a-baaa35979f9f",
   "metadata": {},
   "source": [
    "##### Reload results"
   ]
  },
  {
   "cell_type": "code",
   "execution_count": 36,
   "id": "64fdd2e2-fee1-4443-b964-ad9927d3db40",
   "metadata": {
    "tags": []
   },
   "outputs": [],
   "source": [
    "#%%script echo skipping\n",
    "# Test loading pickle\n",
    "#load_path = './models/rs_results/classic_rs_1st_pass_20220505_1544.pickle'\n",
    "load_path = './models/rs_results/nn_rs_2nd_pass_20220507_2122.pickle'\n",
    "\n",
    "with open(load_path, 'rb') as f:\n",
    "    # The protocol version used is detected automatically, so we do not\n",
    "    # have to specify it.\n",
    "    rs_results = pickle.load(f)"
   ]
  },
  {
   "cell_type": "markdown",
   "id": "1697b96e-ded2-4622-9066-c606ac0968c3",
   "metadata": {},
   "source": [
    "#### Results"
   ]
  },
  {
   "cell_type": "markdown",
   "id": "e8584335-2930-431d-99f6-331dadfd78ca",
   "metadata": {
    "tags": []
   },
   "source": [
    "Let's look at the best accuracy score, and the parameters that produced them."
   ]
  },
  {
   "cell_type": "code",
   "execution_count": 37,
   "id": "56c3099d-76a6-4dd6-aa70-8d75e3146bcb",
   "metadata": {
    "tags": []
   },
   "outputs": [
    {
     "data": {
      "text/plain": [
       "0.9306435542068405"
      ]
     },
     "metadata": {},
     "output_type": "display_data"
    },
    {
     "data": {
      "text/plain": [
       "{'optimizer__lr': 0.001,\n",
       " 'model__hidden_layer_sizes': (100,),\n",
       " 'model__dropout': 0,\n",
       " 'epochs': 2,\n",
       " 'batch_size': 32}"
      ]
     },
     "metadata": {},
     "output_type": "display_data"
    }
   ],
   "source": [
    "display(rs_results.best_score_, rs_results.best_params_)"
   ]
  },
  {
   "cell_type": "markdown",
   "id": "52e0796f-d45d-40ff-a51d-b8946228714c",
   "metadata": {},
   "source": [
    "Let's look at it as an estimator object."
   ]
  },
  {
   "cell_type": "code",
   "execution_count": 38,
   "id": "a9e9216c-e0f7-4240-b526-27c2d59cba77",
   "metadata": {
    "tags": []
   },
   "outputs": [
    {
     "data": {
      "text/plain": [
       "KerasClassifier(\n",
       "\tmodel=<function get_clf at 0x7f5b4479e5e0>\n",
       "\tbuild_fn=None\n",
       "\twarm_start=False\n",
       "\trandom_state=None\n",
       "\toptimizer=adam\n",
       "\tloss=binary_crossentropy\n",
       "\tmetrics=['binary_accuracy']\n",
       "\tbatch_size=32\n",
       "\tvalidation_batch_size=None\n",
       "\tverbose=True\n",
       "\tcallbacks=None\n",
       "\tvalidation_split=0.1\n",
       "\tshuffle=True\n",
       "\trun_eagerly=False\n",
       "\tepochs=2\n",
       "\toptimizer__lr=0.001\n",
       "\tmodel__hidden_layer_sizes=(100,)\n",
       "\tmodel__dropout=0\n",
       "\tclass_weight=None\n",
       ")"
      ]
     },
     "metadata": {},
     "output_type": "display_data"
    }
   ],
   "source": [
    "rs_best = rs_results.best_estimator_\n",
    "display(rs_best)"
   ]
  },
  {
   "cell_type": "markdown",
   "id": "3b471d22-cb85-4a0d-9675-19c8add3058e",
   "metadata": {},
   "source": [
    "Let's look at a high level plot of the model, to make sure it makes sense vis a vis the best params."
   ]
  },
  {
   "cell_type": "code",
   "execution_count": 39,
   "id": "48d554ad-fa2d-4b3b-8c86-31483119366e",
   "metadata": {},
   "outputs": [
    {
     "data": {
      "image/png": "[encoded data removed]",
      "text/plain": [
       "<IPython.core.display.Image object>"
      ]
     },
     "execution_count": 39,
     "metadata": {},
     "output_type": "execute_result"
    }
   ],
   "source": [
    "plot_model(rs_best.model_)"
   ]
  },
  {
   "cell_type": "markdown",
   "id": "a16eeb27-85d9-494d-b196-14a6646e8db5",
   "metadata": {},
   "source": [
    "Look at summary:"
   ]
  },
  {
   "cell_type": "code",
   "execution_count": 40,
   "id": "ad2e863f-5e3a-45b1-b831-615dc9cfc50d",
   "metadata": {},
   "outputs": [
    {
     "name": "stdout",
     "output_type": "stream",
     "text": [
      "Model: \"sequential_50\"\n",
      "_________________________________________________________________\n",
      " Layer (type)                Output Shape              Param #   \n",
      "=================================================================\n",
      " dense_120 (Dense)           (None, 100)               1400      \n",
      "                                                                 \n",
      " dropout_70 (Dropout)        (None, 100)               0         \n",
      "                                                                 \n",
      " dense_121 (Dense)           (None, 1)                 101       \n",
      "                                                                 \n",
      "=================================================================\n",
      "Total params: 1,501\n",
      "Trainable params: 1,501\n",
      "Non-trainable params: 0\n",
      "_________________________________________________________________\n"
     ]
    }
   ],
   "source": [
    "rs_best.model_.summary()"
   ]
  },
  {
   "cell_type": "markdown",
   "id": "2d03e6e1-db8d-482b-8b7d-d895fa46da73",
   "metadata": {},
   "source": [
    "Now let's look at performance vs Test."
   ]
  },
  {
   "cell_type": "code",
   "execution_count": 41,
   "id": "824a10c9-3c11-47dc-a8a5-2375a2c961ee",
   "metadata": {},
   "outputs": [
    {
     "name": "stdout",
     "output_type": "stream",
     "text": [
      "2194/2194 [==============================] - 1s 621us/step\n"
     ]
    },
    {
     "data": {
      "text/plain": [
       "'test accuracy: 0.9288237975837702'"
      ]
     },
     "metadata": {},
     "output_type": "display_data"
    },
    {
     "data": {
      "text/plain": [
       "'train accuracy: 0.9306435542068405'"
      ]
     },
     "metadata": {},
     "output_type": "display_data"
    }
   ],
   "source": [
    "display(f\"test accuracy: {rs_best.score(X_test, y_test)}\")\n",
    "display(f\"train accuracy: {rs_results.best_score_}\")"
   ]
  },
  {
   "cell_type": "markdown",
   "id": "03e66852-72db-426f-98d2-be1220b5b902",
   "metadata": {},
   "source": [
    "Consistent, and aligns."
   ]
  },
  {
   "cell_type": "markdown",
   "id": "ab2ea030-2591-4ca3-b829-ba3b0af68100",
   "metadata": {},
   "source": [
    "Let's get some predictions and review some high level classification metrics:"
   ]
  },
  {
   "cell_type": "code",
   "execution_count": 42,
   "id": "fac1d3e6-fa28-4cd8-9fc8-2e17dcdebd7f",
   "metadata": {},
   "outputs": [
    {
     "name": "stdout",
     "output_type": "stream",
     "text": [
      "2194/2194 [==============================] - 1s 608us/step\n"
     ]
    }
   ],
   "source": [
    "rs_pred = rs_best.predict(X_test)"
   ]
  },
  {
   "cell_type": "markdown",
   "id": "341b590e-455f-4ebd-90b5-98aa6c97f9d9",
   "metadata": {},
   "source": [
    "*Confusion Matrix*"
   ]
  },
  {
   "cell_type": "code",
   "execution_count": 43,
   "id": "195d2d59-ff3f-4679-82ea-2679ec000be6",
   "metadata": {},
   "outputs": [
    {
     "data": {
      "text/plain": [
       "array([[45918,  2294],\n",
       "       [ 2702, 19278]])"
      ]
     },
     "metadata": {},
     "output_type": "display_data"
    }
   ],
   "source": [
    "cm = confusion_matrix(y_test, rs_pred)\n",
    "display(cm)"
   ]
  },
  {
   "cell_type": "markdown",
   "id": "0292f14c-7b50-4080-ab0b-53e08a3beda4",
   "metadata": {},
   "source": [
    "*Accuracy*"
   ]
  },
  {
   "cell_type": "code",
   "execution_count": 44,
   "id": "f21711f9-ec8b-4140-bcdc-ac6311466bdc",
   "metadata": {},
   "outputs": [
    {
     "data": {
      "text/plain": [
       "'What % of pitches did we correctly categorize?'"
      ]
     },
     "metadata": {},
     "output_type": "display_data"
    },
    {
     "name": "stdout",
     "output_type": "stream",
     "text": [
      "2194/2194 [==============================] - 1s 610us/step\n"
     ]
    },
    {
     "data": {
      "text/plain": [
       "'test accuracy: 0.929'"
      ]
     },
     "metadata": {},
     "output_type": "display_data"
    }
   ],
   "source": [
    "display(\"What % of pitches did we correctly categorize?\")\n",
    "display(f\"test accuracy: {round(rs_best.score(X_test, y_test), 3)}\")"
   ]
  },
  {
   "cell_type": "markdown",
   "id": "5bb9aa10-00aa-4acc-a837-e6e961860d13",
   "metadata": {},
   "source": [
    "*Precision*"
   ]
  },
  {
   "cell_type": "code",
   "execution_count": 45,
   "id": "f4f6fb94-fb75-4ce7-ae51-e346e355561d",
   "metadata": {},
   "outputs": [
    {
     "data": {
      "text/plain": [
       "'What % predicted strikes did we get correct?'"
      ]
     },
     "metadata": {},
     "output_type": "display_data"
    },
    {
     "data": {
      "text/plain": [
       "'Positive Predictive Value: 0.894'"
      ]
     },
     "metadata": {},
     "output_type": "display_data"
    }
   ],
   "source": [
    "precision = precision_score(y_test, rs_pred)\n",
    "display(\"What % predicted strikes did we get correct?\")\n",
    "display(f\"Positive Predictive Value: {round(precision,3)}\")"
   ]
  },
  {
   "cell_type": "markdown",
   "id": "4cfc7e9a-f72e-499c-a35c-16958c2a701e",
   "metadata": {},
   "source": [
    "*Recall*"
   ]
  },
  {
   "cell_type": "code",
   "execution_count": 46,
   "id": "b527f3fb-3f4e-4442-93cc-13bdd1c3335c",
   "metadata": {},
   "outputs": [
    {
     "data": {
      "text/plain": [
       "'What percent of actual strikes did we get capture?'"
      ]
     },
     "metadata": {},
     "output_type": "display_data"
    },
    {
     "data": {
      "text/plain": [
       "'True Positive Rate: 0.877'"
      ]
     },
     "metadata": {},
     "output_type": "display_data"
    }
   ],
   "source": [
    "recall = recall_score(y_test, rs_pred)\n",
    "display(\"What percent of actual strikes did we get capture?\")\n",
    "display(f\"True Positive Rate: {round(recall, 3)}\")"
   ]
  },
  {
   "cell_type": "markdown",
   "id": "383452e8-766f-4136-ad3a-ef60ebcba0da",
   "metadata": {},
   "source": [
    "*ROC/AUC*"
   ]
  },
  {
   "cell_type": "code",
   "execution_count": 47,
   "id": "e485e522-41f6-45ff-a858-d59c19a676de",
   "metadata": {},
   "outputs": [
    {
     "name": "stdout",
     "output_type": "stream",
     "text": [
      "2194/2194 [==============================] - 1s 620us/step\n"
     ]
    },
    {
     "data": {
      "image/png": "[encoded data removed]",
      "text/plain": [
       "<Figure size 432x288 with 1 Axes>"
      ]
     },
     "metadata": {
      "needs_background": "light"
     },
     "output_type": "display_data"
    }
   ],
   "source": [
    "fpr, tpr, thresholds = roc_curve(y_test, rs_best.predict_proba(X_test)[:,1])\n",
    "roc_auc = auc(fpr, tpr)\n",
    "roc_display = RocCurveDisplay(fpr=fpr, tpr=tpr, roc_auc=roc_auc)\n",
    "roc_display.plot()\n",
    "plt.show()"
   ]
  },
  {
   "cell_type": "markdown",
   "id": "58409f4f-340e-4e87-b460-e43184b78e21",
   "metadata": {},
   "source": [
    "Again, AUC of 0.98! This is really good, considering rough rule of thumb is >0.85 is a good performing classifier."
   ]
  },
  {
   "cell_type": "markdown",
   "id": "22a9659b-782b-4963-879a-45fd696556f1",
   "metadata": {},
   "source": [
    "*Save the current state*"
   ]
  },
  {
   "cell_type": "markdown",
   "id": "2339e09b-805a-4b4b-9257-9af384850320",
   "metadata": {},
   "source": [
    "Let's save out the best model!"
   ]
  },
  {
   "cell_type": "code",
   "execution_count": 48,
   "id": "af780ce3-cd53-4c08-9896-878856cecfd8",
   "metadata": {
    "tags": []
   },
   "outputs": [
    {
     "data": {
      "text/plain": [
       "'./models/nn_2nd_pass_20220507_2134'"
      ]
     },
     "metadata": {},
     "output_type": "display_data"
    },
    {
     "data": {
      "text/plain": [
       "'./predictions/test/nn_2nd_pass_20220507_2134.csv'"
      ]
     },
     "metadata": {},
     "output_type": "display_data"
    },
    {
     "name": "stdout",
     "output_type": "stream",
     "text": [
      "2194/2194 [==============================] - 1s 627us/step\n",
      "INFO:tensorflow:Assets written to: ./models/nn_2nd_pass_20220507_2134/assets\n"
     ]
    }
   ],
   "source": [
    "str_ts = datetime.now().strftime(\"%Y%m%d_%H%M\")\n",
    "model_nm = 'nn_2nd_pass_' + str_ts\n",
    "model_path = './models/' + model_nm\n",
    "pred_path = './predictions/test/' + model_nm + '.csv'\n",
    "\n",
    "display(model_path, pred_path)\n",
    "\n",
    "# save out predicted probabilities\n",
    "pred_curr = rs_best.predict_proba(X_test)\n",
    "np.savetxt(pred_path, pred_curr, delimiter=\",\")\n",
    "\n",
    "# Save out Keras model\n",
    "rs_best.model_.save(model_path)"
   ]
  },
  {
   "cell_type": "markdown",
   "id": "fcb81c07-e26a-4852-b78c-29b06e23e829",
   "metadata": {
    "tags": []
   },
   "source": [
    "---  \n",
    "<span style=\"font-size:0.5em;\">Tag 4</span>\n",
    "\n",
    "### Summary <a id='summary'></a>\n",
    "\n",
    "<span style=\"font-size:0.5em;\"><a href='#toc_4'>Back to TOC</a></span>"
   ]
  },
  {
   "cell_type": "markdown",
   "id": "4fb7b628-7cf4-4bf8-8319-4bbbc4e92f4b",
   "metadata": {},
   "source": [
    "<span style=\"color:blue\">\n",
    "Our metric of choice is Accuracy, and the best model found by the random search over 10 iterations had a:\n",
    "\n",
    "- training accuracy of **0.930**\n",
    "- test accuracy was **0.929** as well\n",
    "\n",
    "Other classification metrics for context are:\n",
    "- Precision/Positive Predictive Value: **0.894**\n",
    "- Recall/True Positive Rate: **0.877**\n",
    "- ROC AUC: **0.98**\n",
    "</span>"
   ]
  },
  {
   "cell_type": "markdown",
   "id": "88b56a2a-eafd-4122-870b-87a59253638b",
   "metadata": {},
   "source": [
    "<span style=\"color:blue\">  \n",
    "All these metrics I would consider to be very good performance, contigent on specific use case of ultimate customer(s). For example a requirement might that the customer might want to maximize PPV as much as possible and would like to target >0.90.\n",
    "</span>"
   ]
  },
  {
   "cell_type": "markdown",
   "id": "ed6e363c-4eaa-4b65-afbd-8d381b1fae49",
   "metadata": {},
   "source": [
    "<span style=\"color:blue\">\n",
    "Compare this to the first run, before the addition of 8 more features:\n",
    "</span>"
   ]
  },
  {
   "cell_type": "markdown",
   "id": "1d383142-7bde-4285-aad8-a74f2ff375c6",
   "metadata": {},
   "source": [
    "<span style=\"color:dodgerblue\">  \n",
    "    \n",
    "- training accuracy of **0.928**  \n",
    "- test accuracy was **0.928** as well\n",
    "\n",
    "Other classification metrics for context are:\n",
    "- Precision/Positive Predictive Value: **0.888**\n",
    "- Recall/True Positive Rate: **0.881**\n",
    "- ROC AUC: **0.98**\n",
    "</span>"
   ]
  },
  {
   "cell_type": "markdown",
   "id": "e78ab78f-2982-410b-adca-a00fc870f17f",
   "metadata": {},
   "source": [
    "<span style=\"color:blue\">\n",
    "2nd run improved on the original runs very slightly, across the board for the most part (with the exception of Recall, rate; BUT we're talking about a difference in the hundredths).\n",
    "    \n",
    "**So is it worth it to add these features? I think on balance it is.** \n",
    "    \n",
    "My reasoning is that I consider the addition of them:\n",
    "\n",
    "- `bside`\n",
    "- `pside`\n",
    "- `break_x`\n",
    "- `break_z`\n",
    "- `angle_x`\n",
    "- `angle_z`\n",
    "- `pitch_speed`\n",
    "        \n",
    "...to be 'costless', on the assumption that whatever process captures the original features that were used in the first run also 'simultaneously' capture these additional features; so no substantial extra effort is required to gather the data.\n",
    "</span>"
   ]
  },
  {
   "cell_type": "markdown",
   "id": "27397eee-fa46-4b8e-80bd-a0f4ba4151e4",
   "metadata": {
    "tags": []
   },
   "source": [
    "---  \n",
    "<span style=\"font-size:0.5em;\">Tag 5</span>\n",
    "\n",
    "### Wrap Up Neural Network <a id='wrap'></a>\n",
    "\n",
    "<span style=\"font-size:0.5em;\"><a href='#toc_4'>Back to TOC</a></span>"
   ]
  },
  {
   "cell_type": "code",
   "execution_count": 107,
   "id": "be2dd206-076e-4d83-9be1-96e31454be71",
   "metadata": {
    "tags": []
   },
   "outputs": [
    {
     "name": "stdout",
     "output_type": "stream",
     "text": [
      "skipping\n"
     ]
    }
   ],
   "source": [
    "%%script echo skipping\n",
    "\n",
    "#load_path = './models/rs_results/classic_rs_1st_pass_20220505_1544.pickle'\n",
    "load_path = './models/rs_results/nn_rs_2nd_pass_20220507_2122.pickle'\n",
    "\n",
    "with open(load_path, 'rb') as f:\n",
    "    # The protocol version used is detected automatically, so we do not\n",
    "    # have to specify it.\n",
    "    rs_results = pickle.load(f)"
   ]
  },
  {
   "cell_type": "code",
   "execution_count": 29,
   "id": "5d784f61-9af1-445f-8368-a4f383f91a2d",
   "metadata": {},
   "outputs": [
    {
     "data": {
      "text/plain": [
       "KerasClassifier(\n",
       "\tmodel=<function get_clf at 0x7fa2dd1815e0>\n",
       "\tbuild_fn=None\n",
       "\twarm_start=False\n",
       "\trandom_state=None\n",
       "\toptimizer=adam\n",
       "\tloss=binary_crossentropy\n",
       "\tmetrics=['binary_accuracy']\n",
       "\tbatch_size=32\n",
       "\tvalidation_batch_size=None\n",
       "\tverbose=True\n",
       "\tcallbacks=None\n",
       "\tvalidation_split=0.1\n",
       "\tshuffle=True\n",
       "\trun_eagerly=False\n",
       "\tepochs=2\n",
       "\toptimizer__lr=0.001\n",
       "\tmodel__hidden_layer_sizes=(100,)\n",
       "\tmodel__dropout=0\n",
       "\tclass_weight=None\n",
       ")"
      ]
     },
     "execution_count": 29,
     "metadata": {},
     "output_type": "execute_result"
    }
   ],
   "source": [
    "rs_results.best_estimator_"
   ]
  },
  {
   "cell_type": "code",
   "execution_count": 33,
   "id": "60affd76-846f-4f60-9f96-b2de44474273",
   "metadata": {},
   "outputs": [
    {
     "data": {
      "text/plain": [
       "{'optimizer__lr': 0.001,\n",
       " 'model__hidden_layer_sizes': (100,),\n",
       " 'model__dropout': 0,\n",
       " 'epochs': 2,\n",
       " 'batch_size': 32}"
      ]
     },
     "execution_count": 33,
     "metadata": {},
     "output_type": "execute_result"
    }
   ],
   "source": [
    "rs_results.best_params_"
   ]
  },
  {
   "cell_type": "code",
   "execution_count": 108,
   "id": "866fb901-32ee-4861-82d8-db79e4abfa96",
   "metadata": {},
   "outputs": [],
   "source": [
    "rs_best = rs_results.best_estimator_"
   ]
  },
  {
   "cell_type": "markdown",
   "id": "68c40f98-90c5-4263-aae0-aecbc7dfe6c8",
   "metadata": {},
   "source": [
    "Confirm that the paramaters match to the above dictionary of `best_params_`"
   ]
  },
  {
   "cell_type": "code",
   "execution_count": 109,
   "id": "19178be4-6c26-4f8d-90e6-f0cbc3821500",
   "metadata": {},
   "outputs": [
    {
     "data": {
      "text/plain": [
       "<bound method BaseEstimator.get_params of KerasClassifier(\n",
       "\tmodel=<function get_clf at 0x7fa2dd1815e0>\n",
       "\tbuild_fn=None\n",
       "\twarm_start=False\n",
       "\trandom_state=None\n",
       "\toptimizer=adam\n",
       "\tloss=binary_crossentropy\n",
       "\tmetrics=['binary_accuracy']\n",
       "\tbatch_size=32\n",
       "\tvalidation_batch_size=None\n",
       "\tverbose=True\n",
       "\tcallbacks=None\n",
       "\tvalidation_split=0.1\n",
       "\tshuffle=True\n",
       "\trun_eagerly=False\n",
       "\tepochs=2\n",
       "\toptimizer__lr=0.001\n",
       "\tmodel__hidden_layer_sizes=(100,)\n",
       "\tmodel__dropout=0\n",
       "\tclass_weight=None\n",
       ")>"
      ]
     },
     "execution_count": 109,
     "metadata": {},
     "output_type": "execute_result"
    }
   ],
   "source": [
    "rs_best.get_params"
   ]
  },
  {
   "cell_type": "code",
   "execution_count": 57,
   "id": "5d31a82e-3875-44e2-a395-98492789fa0f",
   "metadata": {},
   "outputs": [
    {
     "name": "stdout",
     "output_type": "stream",
     "text": [
      "Epoch 1/2\n",
      "7897/7897 [==============================] - 11s 1ms/step - loss: 0.1914 - binary_accuracy: 0.9171 - val_loss: 0.1637 - val_binary_accuracy: 0.9286\n",
      "Epoch 2/2\n",
      "7897/7897 [==============================] - 10s 1ms/step - loss: 0.1603 - binary_accuracy: 0.9302 - val_loss: 0.1614 - val_binary_accuracy: 0.9292\n"
     ]
    }
   ],
   "source": [
    "# Train model\n",
    "mod_hist_final =  rs_best.fit(X_train, y_train)"
   ]
  },
  {
   "cell_type": "code",
   "execution_count": 60,
   "id": "b96ddeb1-7147-4a7e-85a7-f8122c6d7e09",
   "metadata": {},
   "outputs": [],
   "source": [
    "df_res_final = (pd.DataFrame(mod_hist_final.history_).reset_index()\n",
    "                  .rename(columns={'index': 'epoch', 'loss': 'train_loss'\n",
    "                                   ,'accuracy': 'train_accuracy'}) \n",
    "                 )"
   ]
  },
  {
   "cell_type": "code",
   "execution_count": 61,
   "id": "ace653bf-a804-4be8-9fde-1a967052ed21",
   "metadata": {},
   "outputs": [
    {
     "data": {
      "application/com.datacamp.data-table.v1+json": {
       "is_truncated": false,
       "table": {
        "data": [
         {
          "binary_accuracy": 0.9171000123,
          "epoch": 0,
          "index": 0,
          "train_loss": 0.191443041,
          "val_binary_accuracy": 0.9285536408,
          "val_loss": 0.1637246609
         },
         {
          "binary_accuracy": 0.9302307367,
          "epoch": 1,
          "index": 1,
          "train_loss": 0.1603306383,
          "val_binary_accuracy": 0.9291591048,
          "val_loss": 0.1613550186
         }
        ],
        "schema": {
         "fields": [
          {
           "name": "index",
           "type": "integer"
          },
          {
           "name": "epoch",
           "type": "integer"
          },
          {
           "name": "train_loss",
           "type": "number"
          },
          {
           "name": "binary_accuracy",
           "type": "number"
          },
          {
           "name": "val_loss",
           "type": "number"
          },
          {
           "name": "val_binary_accuracy",
           "type": "number"
          }
         ],
         "pandas_version": "0.20.0",
         "primaryKey": [
          "index"
         ]
        }
       },
       "total_rows": 2
      },
      "text/html": [
       "<div>\n",
       "<style scoped>\n",
       "    .dataframe tbody tr th:only-of-type {\n",
       "        vertical-align: middle;\n",
       "    }\n",
       "\n",
       "    .dataframe tbody tr th {\n",
       "        vertical-align: top;\n",
       "    }\n",
       "\n",
       "    .dataframe thead th {\n",
       "        text-align: right;\n",
       "    }\n",
       "</style>\n",
       "<table border=\"1\" class=\"dataframe\">\n",
       "  <thead>\n",
       "    <tr style=\"text-align: right;\">\n",
       "      <th></th>\n",
       "      <th>epoch</th>\n",
       "      <th>train_loss</th>\n",
       "      <th>binary_accuracy</th>\n",
       "      <th>val_loss</th>\n",
       "      <th>val_binary_accuracy</th>\n",
       "    </tr>\n",
       "  </thead>\n",
       "  <tbody>\n",
       "    <tr>\n",
       "      <th>0</th>\n",
       "      <td>0</td>\n",
       "      <td>0.191443</td>\n",
       "      <td>0.917100</td>\n",
       "      <td>0.163725</td>\n",
       "      <td>0.928554</td>\n",
       "    </tr>\n",
       "    <tr>\n",
       "      <th>1</th>\n",
       "      <td>1</td>\n",
       "      <td>0.160331</td>\n",
       "      <td>0.930231</td>\n",
       "      <td>0.161355</td>\n",
       "      <td>0.929159</td>\n",
       "    </tr>\n",
       "  </tbody>\n",
       "</table>\n",
       "</div>"
      ],
      "text/plain": [
       "   epoch  train_loss  binary_accuracy  val_loss  val_binary_accuracy\n",
       "0      0    0.191443         0.917100  0.163725             0.928554\n",
       "1      1    0.160331         0.930231  0.161355             0.929159"
      ]
     },
     "execution_count": 61,
     "metadata": {},
     "output_type": "execute_result"
    }
   ],
   "source": [
    "df_res_final"
   ]
  },
  {
   "cell_type": "markdown",
   "id": "06542e0c-2060-4c70-a6fc-b20841616784",
   "metadata": {},
   "source": [
    "Within 2 epochs we see that the validation and training loss had stabled off. \n",
    "\n",
    "**Is 2 epochs enough?** \n",
    "In this case I would say it's sufficient. In the random search there were parameter combos that had >2 epochs that didn't perform as well. Here are the top 10 by `mean_test_score`"
   ]
  },
  {
   "cell_type": "code",
   "execution_count": 70,
   "id": "821eaaba-3443-46a0-833b-1ed406b46852",
   "metadata": {},
   "outputs": [
    {
     "data": {
      "text/plain": [
       "Index(['mean_fit_time', 'std_fit_time', 'mean_score_time', 'std_score_time',\n",
       "       'param_optimizer__lr', 'param_model__hidden_layer_sizes',\n",
       "       'param_model__dropout', 'param_epochs', 'param_batch_size', 'params',\n",
       "       'split0_test_score', 'split1_test_score', 'split2_test_score',\n",
       "       'split3_test_score', 'split4_test_score', 'mean_test_score',\n",
       "       'std_test_score', 'rank_test_score'],\n",
       "      dtype='object')"
      ]
     },
     "execution_count": 70,
     "metadata": {},
     "output_type": "execute_result"
    }
   ],
   "source": [
    "df_res.columns"
   ]
  },
  {
   "cell_type": "code",
   "execution_count": 71,
   "id": "beff99dd-86a0-4a40-8cf9-2c8d175ec86e",
   "metadata": {},
   "outputs": [
    {
     "data": {
      "application/com.datacamp.data-table.v1+json": {
       "is_truncated": false,
       "table": {
        "data": [
         {
          "index": 8,
          "mean_test_score": 0.9306435542,
          "param_batch_size": 32,
          "param_epochs": 2,
          "param_model__dropout": 0,
          "param_model__hidden_layer_sizes": [
           100
          ],
          "param_optimizer__lr": 0.001,
          "rank_test_score": 1
         },
         {
          "index": 4,
          "mean_test_score": 0.9303514932,
          "param_batch_size": 128,
          "param_epochs": 3,
          "param_model__dropout": 0,
          "param_model__hidden_layer_sizes": [
           50,
           50
          ],
          "param_optimizer__lr": 0.001,
          "rank_test_score": 2
         },
         {
          "index": 3,
          "mean_test_score": 0.9285207987,
          "param_batch_size": 32,
          "param_epochs": 2,
          "param_model__dropout": 0.5,
          "param_model__hidden_layer_sizes": [
           50,
           50
          ],
          "param_optimizer__lr": 0.001,
          "rank_test_score": 3
         },
         {
          "index": 1,
          "mean_test_score": 0.9272884584,
          "param_batch_size": 128,
          "param_epochs": 5,
          "param_model__dropout": 0,
          "param_model__hidden_layer_sizes": [
           100
          ],
          "param_optimizer__lr": 0.01,
          "rank_test_score": 4
         },
         {
          "index": 9,
          "mean_test_score": 0.9266117551,
          "param_batch_size": 128,
          "param_epochs": 2,
          "param_model__dropout": 0,
          "param_model__hidden_layer_sizes": [
           100
          ],
          "param_optimizer__lr": 0.01,
          "rank_test_score": 5
         },
         {
          "index": 2,
          "mean_test_score": 0.9263588634,
          "param_batch_size": 128,
          "param_epochs": 2,
          "param_model__dropout": 0,
          "param_model__hidden_layer_sizes": [
           100
          ],
          "param_optimizer__lr": 0.05,
          "rank_test_score": 6
         },
         {
          "index": 0,
          "mean_test_score": 0.926109548,
          "param_batch_size": 128,
          "param_epochs": 3,
          "param_model__dropout": 0,
          "param_model__hidden_layer_sizes": [
           100
          ],
          "param_optimizer__lr": 0.05,
          "rank_test_score": 7
         },
         {
          "index": 5,
          "mean_test_score": 0.8998884608,
          "param_batch_size": 128,
          "param_epochs": 5,
          "param_model__dropout": 0.5,
          "param_model__hidden_layer_sizes": [
           50,
           50
          ],
          "param_optimizer__lr": 0.05,
          "rank_test_score": 8
         },
         {
          "index": 7,
          "mean_test_score": 0.6868649094,
          "param_batch_size": 32,
          "param_epochs": 3,
          "param_model__dropout": 0.5,
          "param_model__hidden_layer_sizes": [
           50,
           50
          ],
          "param_optimizer__lr": 0.5,
          "rank_test_score": 9
         },
         {
          "index": 6,
          "mean_test_score": 0.6868114845,
          "param_batch_size": 32,
          "param_epochs": 3,
          "param_model__dropout": 0.5,
          "param_model__hidden_layer_sizes": [
           100
          ],
          "param_optimizer__lr": 0.5,
          "rank_test_score": 10
         }
        ],
        "schema": {
         "fields": [
          {
           "name": "index",
           "type": "integer"
          },
          {
           "name": "rank_test_score",
           "type": "integer"
          },
          {
           "name": "mean_test_score",
           "type": "number"
          },
          {
           "name": "param_epochs",
           "type": "string"
          },
          {
           "name": "param_batch_size",
           "type": "string"
          },
          {
           "name": "param_optimizer__lr",
           "type": "string"
          },
          {
           "name": "param_model__hidden_layer_sizes",
           "type": "string"
          },
          {
           "name": "param_model__dropout",
           "type": "string"
          }
         ],
         "pandas_version": "0.20.0",
         "primaryKey": [
          "index"
         ]
        }
       },
       "total_rows": 10
      },
      "text/html": [
       "<div>\n",
       "<style scoped>\n",
       "    .dataframe tbody tr th:only-of-type {\n",
       "        vertical-align: middle;\n",
       "    }\n",
       "\n",
       "    .dataframe tbody tr th {\n",
       "        vertical-align: top;\n",
       "    }\n",
       "\n",
       "    .dataframe thead th {\n",
       "        text-align: right;\n",
       "    }\n",
       "</style>\n",
       "<table border=\"1\" class=\"dataframe\">\n",
       "  <thead>\n",
       "    <tr style=\"text-align: right;\">\n",
       "      <th></th>\n",
       "      <th>rank_test_score</th>\n",
       "      <th>mean_test_score</th>\n",
       "      <th>param_epochs</th>\n",
       "      <th>param_batch_size</th>\n",
       "      <th>param_optimizer__lr</th>\n",
       "      <th>param_model__hidden_layer_sizes</th>\n",
       "      <th>param_model__dropout</th>\n",
       "    </tr>\n",
       "  </thead>\n",
       "  <tbody>\n",
       "    <tr>\n",
       "      <th>8</th>\n",
       "      <td>1</td>\n",
       "      <td>0.930644</td>\n",
       "      <td>2</td>\n",
       "      <td>32</td>\n",
       "      <td>0.001</td>\n",
       "      <td>(100,)</td>\n",
       "      <td>0</td>\n",
       "    </tr>\n",
       "    <tr>\n",
       "      <th>4</th>\n",
       "      <td>2</td>\n",
       "      <td>0.930351</td>\n",
       "      <td>3</td>\n",
       "      <td>128</td>\n",
       "      <td>0.001</td>\n",
       "      <td>(50, 50)</td>\n",
       "      <td>0</td>\n",
       "    </tr>\n",
       "    <tr>\n",
       "      <th>3</th>\n",
       "      <td>3</td>\n",
       "      <td>0.928521</td>\n",
       "      <td>2</td>\n",
       "      <td>32</td>\n",
       "      <td>0.001</td>\n",
       "      <td>(50, 50)</td>\n",
       "      <td>0.5</td>\n",
       "    </tr>\n",
       "    <tr>\n",
       "      <th>1</th>\n",
       "      <td>4</td>\n",
       "      <td>0.927288</td>\n",
       "      <td>5</td>\n",
       "      <td>128</td>\n",
       "      <td>0.01</td>\n",
       "      <td>(100,)</td>\n",
       "      <td>0</td>\n",
       "    </tr>\n",
       "    <tr>\n",
       "      <th>9</th>\n",
       "      <td>5</td>\n",
       "      <td>0.926612</td>\n",
       "      <td>2</td>\n",
       "      <td>128</td>\n",
       "      <td>0.01</td>\n",
       "      <td>(100,)</td>\n",
       "      <td>0</td>\n",
       "    </tr>\n",
       "    <tr>\n",
       "      <th>2</th>\n",
       "      <td>6</td>\n",
       "      <td>0.926359</td>\n",
       "      <td>2</td>\n",
       "      <td>128</td>\n",
       "      <td>0.05</td>\n",
       "      <td>(100,)</td>\n",
       "      <td>0</td>\n",
       "    </tr>\n",
       "    <tr>\n",
       "      <th>0</th>\n",
       "      <td>7</td>\n",
       "      <td>0.926110</td>\n",
       "      <td>3</td>\n",
       "      <td>128</td>\n",
       "      <td>0.05</td>\n",
       "      <td>(100,)</td>\n",
       "      <td>0</td>\n",
       "    </tr>\n",
       "    <tr>\n",
       "      <th>5</th>\n",
       "      <td>8</td>\n",
       "      <td>0.899888</td>\n",
       "      <td>5</td>\n",
       "      <td>128</td>\n",
       "      <td>0.05</td>\n",
       "      <td>(50, 50)</td>\n",
       "      <td>0.5</td>\n",
       "    </tr>\n",
       "    <tr>\n",
       "      <th>7</th>\n",
       "      <td>9</td>\n",
       "      <td>0.686865</td>\n",
       "      <td>3</td>\n",
       "      <td>32</td>\n",
       "      <td>0.5</td>\n",
       "      <td>(50, 50)</td>\n",
       "      <td>0.5</td>\n",
       "    </tr>\n",
       "    <tr>\n",
       "      <th>6</th>\n",
       "      <td>10</td>\n",
       "      <td>0.686811</td>\n",
       "      <td>3</td>\n",
       "      <td>32</td>\n",
       "      <td>0.5</td>\n",
       "      <td>(100,)</td>\n",
       "      <td>0.5</td>\n",
       "    </tr>\n",
       "  </tbody>\n",
       "</table>\n",
       "</div>"
      ],
      "text/plain": [
       "   rank_test_score  mean_test_score param_epochs param_batch_size  \\\n",
       "8                1         0.930644            2               32   \n",
       "4                2         0.930351            3              128   \n",
       "3                3         0.928521            2               32   \n",
       "1                4         0.927288            5              128   \n",
       "9                5         0.926612            2              128   \n",
       "2                6         0.926359            2              128   \n",
       "0                7         0.926110            3              128   \n",
       "5                8         0.899888            5              128   \n",
       "7                9         0.686865            3               32   \n",
       "6               10         0.686811            3               32   \n",
       "\n",
       "  param_optimizer__lr param_model__hidden_layer_sizes param_model__dropout  \n",
       "8               0.001                          (100,)                    0  \n",
       "4               0.001                        (50, 50)                    0  \n",
       "3               0.001                        (50, 50)                  0.5  \n",
       "1                0.01                          (100,)                    0  \n",
       "9                0.01                          (100,)                    0  \n",
       "2                0.05                          (100,)                    0  \n",
       "0                0.05                          (100,)                    0  \n",
       "5                0.05                        (50, 50)                  0.5  \n",
       "7                 0.5                        (50, 50)                  0.5  \n",
       "6                 0.5                          (100,)                  0.5  "
      ]
     },
     "execution_count": 71,
     "metadata": {},
     "output_type": "execute_result"
    }
   ],
   "source": [
    "df_res = pd.DataFrame(rs_results.cv_results_)\n",
    "\n",
    "df_res[['rank_test_score', 'mean_test_score', 'param_epochs', 'param_batch_size'\n",
    "        ,'param_optimizer__lr', 'param_model__hidden_layer_sizes', 'param_model__dropout']].sort_values(['mean_test_score'], ascending=False)"
   ]
  },
  {
   "cell_type": "markdown",
   "id": "fb3c1112-854d-48b0-83da-ef4009b04aab",
   "metadata": {},
   "source": [
    "And note by quick visual inspection that the performance appears to be very comparable across the top 7 models.\n",
    "\n",
    "Let's take a quick look at permuation importance to see if it aligns with our intution."
   ]
  },
  {
   "cell_type": "code",
   "execution_count": 78,
   "id": "19a0a08a-4b18-4e67-8481-b027f4d307cb",
   "metadata": {},
   "outputs": [
    {
     "name": "stdout",
     "output_type": "stream",
     "text": [
      "8774/8774 [==============================] - 6s 640us/step\n"
     ]
    },
    {
     "name": "stderr",
     "output_type": "stream",
     "text": [
      "2022-05-10 21:52:28.681154: W tensorflow/python/util/util.cc:368] Sets are not currently considered sequences, but this may change in the future, so consider avoiding using them.\n"
     ]
    },
    {
     "name": "stdout",
     "output_type": "stream",
     "text": [
      "INFO:tensorflow:Assets written to: ram:///tmp/tmppwo13whe/assets\n",
      "INFO:tensorflow:Assets written to: ram:///tmp/tmpiy52leq3/assets\n"
     ]
    },
    {
     "name": "stderr",
     "output_type": "stream",
     "text": [
      "2022-05-10 21:52:29.794357: W tensorflow/stream_executor/platform/default/dso_loader.cc:64] Could not load dynamic library 'libcudart.so.11.0'; dlerror: libcudart.so.11.0: cannot open shared object file: No such file or directory\n",
      "2022-05-10 21:52:29.794385: I tensorflow/stream_executor/cuda/cudart_stub.cc:29] Ignore above cudart dlerror if you do not have a GPU set up on your machine.\n"
     ]
    },
    {
     "name": "stdout",
     "output_type": "stream",
     "text": [
      "INFO:tensorflow:Assets written to: ram:///tmp/tmp30fo1gfb/assets\n"
     ]
    },
    {
     "name": "stderr",
     "output_type": "stream",
     "text": [
      "2022-05-10 21:52:30.279134: W tensorflow/stream_executor/platform/default/dso_loader.cc:64] Could not load dynamic library 'libcudart.so.11.0'; dlerror: libcudart.so.11.0: cannot open shared object file: No such file or directory\n",
      "2022-05-10 21:52:30.279169: I tensorflow/stream_executor/cuda/cudart_stub.cc:29] Ignore above cudart dlerror if you do not have a GPU set up on your machine.\n",
      "2022-05-10 21:52:31.506110: W tensorflow/stream_executor/platform/default/dso_loader.cc:64] Could not load dynamic library 'libcuda.so.1'; dlerror: libcuda.so.1: cannot open shared object file: No such file or directory\n",
      "2022-05-10 21:52:31.506146: W tensorflow/stream_executor/cuda/cuda_driver.cc:269] failed call to cuInit: UNKNOWN ERROR (303)\n",
      "2022-05-10 21:52:31.506165: I tensorflow/stream_executor/cuda/cuda_diagnostics.cc:156] kernel driver does not appear to be running on this host (4613f88c-df71-4f14-9f0a-e1096ce8e62e): /proc/driver/nvidia/version does not exist\n",
      "2022-05-10 21:52:31.506365: I tensorflow/core/platform/cpu_feature_guard.cc:151] This TensorFlow binary is optimized with oneAPI Deep Neural Network Library (oneDNN) to use the following CPU instructions in performance-critical operations:  AVX2 AVX512F FMA\n",
      "To enable them in other operations, rebuild TensorFlow with the appropriate compiler flags.\n",
      "2022-05-10 21:52:31.850835: W tensorflow/stream_executor/platform/default/dso_loader.cc:64] Could not load dynamic library 'libcuda.so.1'; dlerror: libcuda.so.1: cannot open shared object file: No such file or directory\n",
      "2022-05-10 21:52:31.850868: W tensorflow/stream_executor/cuda/cuda_driver.cc:269] failed call to cuInit: UNKNOWN ERROR (303)\n",
      "2022-05-10 21:52:31.850885: I tensorflow/stream_executor/cuda/cuda_diagnostics.cc:156] kernel driver does not appear to be running on this host (4613f88c-df71-4f14-9f0a-e1096ce8e62e): /proc/driver/nvidia/version does not exist\n",
      "2022-05-10 21:52:31.851080: I tensorflow/core/platform/cpu_feature_guard.cc:151] This TensorFlow binary is optimized with oneAPI Deep Neural Network Library (oneDNN) to use the following CPU instructions in performance-critical operations:  AVX2 AVX512F FMA\n",
      "To enable them in other operations, rebuild TensorFlow with the appropriate compiler flags.\n"
     ]
    },
    {
     "name": "stdout",
     "output_type": "stream",
     "text": [
      "8774/8774 [==============================] - 8s 945us/step\n",
      "8774/8774 [==============================] - 9s 966us/step\n",
      "8774/8774 [==============================] - 9s 976us/step\n",
      "8774/8774 [==============================] - 8s 965us/step\n",
      "8774/8774 [==============================] - 8s 948us/step\n",
      "8774/8774 [==============================] - 9s 977us/step\n",
      "8774/8774 [==============================] - 9s 970us/step\n",
      "8774/8774 [==============================] - 8s 956us/step\n",
      "8774/8774 [==============================] - 8s 942us/step\n",
      "8774/8774 [==============================] - 8s 939us/step\n",
      "8774/8774 [==============================] - 8s 947us/step\n",
      "8774/8774 [==============================] - 8s 949us/step\n",
      "8774/8774 [==============================] - 8s 924us/step\n",
      "8774/8774 [==============================] - 8s 919us/step\n",
      "8774/8774 [==============================] - 8s 933us/step\n",
      "8774/8774 [==============================] - 8s 945us/step\n",
      "8774/8774 [==============================] - 8s 947us/step\n",
      "8774/8774 [==============================] - 8s 932us/step\n",
      "8774/8774 [==============================] - 9s 977us/step\n",
      "8774/8774 [==============================] - 9s 979us/step\n",
      "  45/8774 [..............................] - ETA: 14s  INFO:tensorflow:Assets written to: ram:///tmp/tmpfwc9ut7e/assets\n",
      "  64/8774 [..............................] - ETA: 12s  INFO:tensorflow:Assets written to: ram:///tmp/tmp6ntv_qux/assets\n",
      "8774/8774 [==============================] - 9s 978us/step\n",
      "8774/8774 [==============================] - 8s 939us/step\n",
      "8774/8774 [==============================] - 8s 948us/step\n",
      "8774/8774 [==============================] - 8s 944us/step\n",
      "8774/8774 [==============================] - 8s 943us/step\n",
      "8774/8774 [==============================] - 8s 938us/step\n",
      "8774/8774 [==============================] - 8s 938us/step\n",
      "8774/8774 [==============================] - 8s 930us/step\n",
      "8774/8774 [==============================] - 8s 937us/step\n",
      "8774/8774 [==============================] - 8s 930us/step\n",
      "8774/8774 [==============================] - 8s 938us/step\n",
      "8774/8774 [==============================] - 8s 942us/step\n",
      "8774/8774 [==============================] - 8s 953us/step\n",
      "8774/8774 [==============================] - 8s 944us/step\n",
      "8774/8774 [==============================] - 8s 949us/step\n",
      "8774/8774 [==============================] - 8s 941us/step\n",
      "8774/8774 [==============================] - 8s 952us/step\n",
      "8774/8774 [==============================] - 8s 948us/step\n",
      "8774/8774 [==============================] - 8s 944us/step\n",
      "8774/8774 [==============================] - 8s 945us/step\n",
      "  72/8774 [..............................] - ETA: 6s  INFO:tensorflow:Assets written to: ram:///tmp/tmp7051l5n6/assets\n",
      " 642/8774 [=>............................] - ETA: 10sINFO:tensorflow:Assets written to: ram:///tmp/tmpbixibjgw/assets\n",
      "8774/8774 [==============================] - 8s 964us/step\n",
      "8774/8774 [==============================] - 9s 959us/step\n",
      "8774/8774 [==============================] - 9s 971us/step\n",
      "8774/8774 [==============================] - 8s 963us/step\n",
      "8774/8774 [==============================] - 8s 946us/step\n",
      "8774/8774 [==============================] - 8s 947us/step\n",
      "8774/8774 [==============================] - 9s 983us/step\n",
      "8774/8774 [==============================] - 9s 976us/step\n",
      "8774/8774 [==============================] - 8s 945us/step\n",
      "8774/8774 [==============================] - 8s 944us/step\n",
      "8774/8774 [==============================] - 8s 947us/step\n",
      "8774/8774 [==============================] - 8s 948us/step\n",
      "8774/8774 [==============================] - 8s 958us/step\n",
      "8774/8774 [==============================] - 8s 945us/step\n",
      "8774/8774 [==============================] - 8s 955us/step\n",
      "8774/8774 [==============================] - 8s 958us/step\n",
      "8774/8774 [==============================] - 8s 943us/step\n",
      "8774/8774 [==============================] - 8s 941us/step\n",
      "8774/8774 [==============================] - 8s 945us/step\n",
      "8774/8774 [==============================] - 8s 946us/step\n",
      "  79/8774 [..............................] - ETA: 5s   INFO:tensorflow:Assets written to: ram:///tmp/tmp0q3sc9mq/assets\n",
      "  67/8774 [..............................] - ETA: 12s  INFO:tensorflow:Assets written to: ram:///tmp/tmpd2ph9j8z/assets\n",
      "8774/8774 [==============================] - 9s 971us/step\n",
      "8774/8774 [==============================] - 9s 963us/step\n",
      "8774/8774 [==============================] - 8s 933us/step\n",
      "8774/8774 [==============================] - 8s 945us/step\n",
      "8774/8774 [==============================] - 8s 958us/step\n",
      "8774/8774 [==============================] - 8s 961us/step\n",
      "8774/8774 [==============================] - 8s 939us/step\n",
      "8774/8774 [==============================] - 8s 939us/step\n",
      "8774/8774 [==============================] - 8s 950us/step\n",
      "8774/8774 [==============================] - 8s 946us/step\n",
      "8774/8774 [==============================] - 8s 934us/step\n",
      "8774/8774 [==============================] - 8s 938us/step\n",
      "8774/8774 [==============================] - 8s 922us/step\n",
      "8774/8774 [==============================] - 8s 926us/step\n",
      "8774/8774 [==============================] - 8s 926us/step\n",
      "8774/8774 [==============================] - 8s 932us/step\n",
      "8774/8774 [==============================] - 8s 911us/step\n",
      "8774/8774 [==============================] - 8s 942us/step\n",
      "8774/8774 [==============================] - 8s 967us/step\n",
      "8642/8774 [============================>.] - ETA: 0sINFO:tensorflow:Assets written to: ram:///tmp/tmpmj50xlhp/assets\n",
      "8774/8774 [==============================] - 8s 960us/step\n",
      " 912/8774 [==>...........................] - ETA: 9sINFO:tensorflow:Assets written to: ram:///tmp/tmp6yvxf2k8/assets\n",
      "8774/8774 [==============================] - 9s 992us/step\n",
      "8774/8774 [==============================] - 9s 960us/step\n",
      "8774/8774 [==============================] - 8s 956us/step\n",
      "8774/8774 [==============================] - 9s 972us/step\n",
      "8774/8774 [==============================] - 8s 953us/step\n",
      "8774/8774 [==============================] - 8s 952us/step\n",
      "8774/8774 [==============================] - 8s 950us/step\n",
      "8774/8774 [==============================] - 8s 949us/step\n",
      "8774/8774 [==============================] - 9s 974us/step\n",
      "8774/8774 [==============================] - 9s 983us/step\n",
      "8774/8774 [==============================] - 8s 948us/step\n",
      "8774/8774 [==============================] - 8s 930us/step\n",
      "8774/8774 [==============================] - 8s 953us/step\n",
      "8774/8774 [==============================] - 8s 952us/step\n",
      "8774/8774 [==============================] - 8s 948us/step\n",
      "8774/8774 [==============================] - 8s 936us/step\n",
      "8774/8774 [==============================] - 8s 945us/step\n",
      "8774/8774 [==============================] - 8s 954us/step\n",
      "8774/8774 [==============================] - 8s 950us/step\n",
      "8774/8774 [==============================] - 9s 974us/step\n",
      "INFO:tensorflow:Assets written to: ram:///tmp/tmpgw9bv3ak/assets\n",
      " 917/8774 [==>...........................] - ETA: 8sINFO:tensorflow:Assets written to: ram:///tmp/tmpwn4n91mp/assets\n",
      "8774/8774 [==============================] - 8s 933us/step\n",
      "8774/8774 [==============================] - 8s 914us/step\n",
      "8774/8774 [==============================] - 8s 930us/step\n",
      "8774/8774 [==============================] - 8s 930us/step\n",
      "8774/8774 [==============================] - 8s 921us/step\n",
      "8774/8774 [==============================] - 8s 929us/step\n",
      "8774/8774 [==============================] - 8s 915us/step\n",
      "8774/8774 [==============================] - 8s 915us/step\n",
      "8774/8774 [==============================] - 8s 929us/step\n",
      "8774/8774 [==============================] - 8s 931us/step\n",
      "8774/8774 [==============================] - 8s 944us/step\n",
      "8774/8774 [==============================] - 8s 950us/step\n",
      "8774/8774 [==============================] - 8s 925us/step\n",
      "8774/8774 [==============================] - 8s 926us/step\n",
      "8774/8774 [==============================] - 8s 928us/step\n",
      "8774/8774 [==============================] - 8s 935us/step\n",
      "8774/8774 [==============================] - 8s 938us/step\n",
      "8774/8774 [==============================] - 8s 936us/step\n",
      "8774/8774 [==============================] - 8s 922us/step\n",
      "8774/8774 [==============================] - 8s 913us/step\n",
      "8774/8774 [==============================] - 6s 641us/step\n",
      "8774/8774 [==============================] - 6s 638us/step\n",
      "8774/8774 [==============================] - 6s 644us/step\n",
      "8774/8774 [==============================] - 6s 637us/step\n",
      "8774/8774 [==============================] - 6s 631us/step\n",
      "8774/8774 [==============================] - 6s 646us/step\n",
      "8774/8774 [==============================] - 6s 632us/step\n",
      "8774/8774 [==============================] - 6s 630us/step\n",
      "8774/8774 [==============================] - 6s 635us/step\n",
      "8774/8774 [==============================] - 6s 639us/step\n"
     ]
    }
   ],
   "source": [
    "nn_pi = permutation_importance(rs_best, X_train, y_train\n",
    "                                ,n_repeats=10\n",
    "                                ,n_jobs=-1\n",
    "                                ,random_state=random_state)\n"
   ]
  },
  {
   "cell_type": "code",
   "execution_count": 84,
   "id": "8896053a-cdec-47db-bf4d-97d894fb8c63",
   "metadata": {},
   "outputs": [
    {
     "data": {
      "text/plain": [
       "array([0.00511919, 0.0178137 , 0.23704353, 0.00148023, 0.00061332,\n",
       "       0.21830343, 0.00555122, 0.00056453, 0.0094858 , 0.0120641 ,\n",
       "       0.01447962, 0.02773154, 0.02885631])"
      ]
     },
     "execution_count": 84,
     "metadata": {},
     "output_type": "execute_result"
    }
   ],
   "source": [
    "nn_pi.importances_mean"
   ]
  },
  {
   "cell_type": "code",
   "execution_count": 87,
   "id": "28ee2605-4cdc-4ee3-ac4c-fd91565155b2",
   "metadata": {},
   "outputs": [
    {
     "name": "stdout",
     "output_type": "stream",
     "text": [
      "pz      0.237 +/- 0.001\n",
      "px      0.218 +/- 0.001\n",
      "pside_R 0.029 +/- 0.000\n",
      "pside_L 0.028 +/- 0.000\n",
      "angle_x 0.018 +/- 0.000\n",
      "bside_R 0.014 +/- 0.000\n",
      "bside_L 0.012 +/- 0.000\n",
      "angle_z 0.009 +/- 0.000\n",
      "break_z 0.006 +/- 0.000\n",
      "break_x 0.005 +/- 0.000\n",
      "stringer_zone_top0.001 +/- 0.000\n",
      "stringer_zone_bottom0.001 +/- 0.000\n",
      "pitch_speed0.001 +/- 0.000\n"
     ]
    }
   ],
   "source": [
    "for i in nn_pi.importances_mean.argsort()[::-1]:\n",
    "     if nn_pi.importances_mean[i] - 2 * nn_pi.importances_std[i] > 0:\n",
    "         print(f\"{df_X.columns[i]:<8}\"\n",
    "               f\"{nn_pi.importances_mean[i]:.3f}\"\n",
    "               f\" +/- {nn_pi.importances_std[i]:.3f}\")"
   ]
  },
  {
   "cell_type": "markdown",
   "id": "1aee236d-c9fe-4eb2-baa9-6325d8817944",
   "metadata": {},
   "source": [
    "Here, we see that the `location` has the largest importance, which makes intuitive sense. \n",
    "\n",
    "In the XGB to be fitted in [notebook 6](06_improved_non_nn_model.ipynb) we see that the top 2 are the same using feature importance, but pitching side and batting side fall way to the bottom. I'm wondering if that has to do with their binarized nature, if given the chance perhaps we should drop one of the OHE columns? This also reminds us that importance metrics should always be taken with a grain of informative salt as they should be viewed in that they are important ONLY to the very singular model it was measured on!"
   ]
  },
  {
   "cell_type": "markdown",
   "id": "ecaddb82-ebe3-408f-9fb6-1f2f517245c8",
   "metadata": {},
   "source": [
    "Having said that, I'm good with recommending the best model for implementation."
   ]
  },
  {
   "cell_type": "markdown",
   "id": "5717a76f-b043-4d6a-bd33-99516307f14f",
   "metadata": {},
   "source": [
    "Let's designate our chosen model."
   ]
  },
  {
   "cell_type": "code",
   "execution_count": 93,
   "id": "3bf9cfc1-0ee7-40da-bde6-e56dafdd34ee",
   "metadata": {},
   "outputs": [],
   "source": [
    "# This was the best model from our RandomSearch\n",
    "selected_model = rs_best"
   ]
  },
  {
   "cell_type": "markdown",
   "id": "6f8b3ded-c9e6-4c6a-a9d6-e1c4b742a04f",
   "metadata": {},
   "source": [
    "#### Make Predictions on Holdout\n",
    "\n",
    "##### Predicted Classes"
   ]
  },
  {
   "cell_type": "code",
   "execution_count": 94,
   "id": "3ac9704b-186e-4fb3-8ed3-d7e7decfad35",
   "metadata": {},
   "outputs": [
    {
     "name": "stdout",
     "output_type": "stream",
     "text": [
      "583/583 [==============================] - 0s 627us/step\n"
     ]
    },
    {
     "data": {
      "text/plain": [
       "(18633,)"
      ]
     },
     "metadata": {},
     "output_type": "display_data"
    }
   ],
   "source": [
    "pred_classes = selected_model.predict(holdout_scaled)\n",
    "display(pred_classes.shape)"
   ]
  },
  {
   "cell_type": "markdown",
   "id": "22c96b97-73c8-4247-8d9f-52a71bef2acc",
   "metadata": {},
   "source": [
    "Quick look at results:"
   ]
  },
  {
   "cell_type": "code",
   "execution_count": 95,
   "id": "8a351767-8557-4f89-b17d-d371e9a44988",
   "metadata": {},
   "outputs": [
    {
     "data": {
      "text/plain": [
       "array([0, 0, 1, 1, 1, 0, 1, 0, 1, 0, 1, 1, 0, 0, 0, 0, 1, 0, 0, 1, 1, 0,\n",
       "       0, 0, 0, 0, 1, 1, 1, 0, 0, 1, 0, 0, 0, 0, 0, 1, 0, 0, 1, 0, 1, 1,\n",
       "       0, 1, 0, 0, 0, 0, 1, 0, 0, 0, 1, 1, 1, 0, 0, 0, 0, 1, 1, 0, 0, 0,\n",
       "       1, 0, 0, 0, 0, 0, 0, 0, 0, 1, 1, 1, 0, 0, 0, 1, 1, 0, 0, 0, 0, 0,\n",
       "       0, 1, 0, 1, 0, 0, 0, 0, 1, 0, 0, 0])"
      ]
     },
     "execution_count": 95,
     "metadata": {},
     "output_type": "execute_result"
    }
   ],
   "source": [
    "pred_classes[:100]"
   ]
  },
  {
   "cell_type": "code",
   "execution_count": 98,
   "id": "caf0f58d-dbed-4bad-bdfb-fe1b3e0e9249",
   "metadata": {},
   "outputs": [
    {
     "data": {
      "text/plain": [
       "5495"
      ]
     },
     "execution_count": 98,
     "metadata": {},
     "output_type": "execute_result"
    }
   ],
   "source": [
    "sum(pred_classes)"
   ]
  },
  {
   "cell_type": "markdown",
   "id": "e6c9cb94-03a9-4df3-ba18-610381f0fca3",
   "metadata": {},
   "source": [
    "Look at relative ratio of strikes:"
   ]
  },
  {
   "cell_type": "code",
   "execution_count": 96,
   "id": "08d99821-dce7-46af-9013-c258580bb895",
   "metadata": {},
   "outputs": [
    {
     "data": {
      "text/plain": [
       "0    0.705093\n",
       "1    0.294907\n",
       "dtype: float64"
      ]
     },
     "execution_count": 96,
     "metadata": {},
     "output_type": "execute_result"
    }
   ],
   "source": [
    "df_pred = pd.DataFrame(pred_classes)\n",
    "df_pred.value_counts(normalize=True)"
   ]
  },
  {
   "cell_type": "markdown",
   "id": "05429398-45eb-432d-b822-7b753861ddfb",
   "metadata": {},
   "source": [
    "For comparison, relative ratio in training data:"
   ]
  },
  {
   "cell_type": "code",
   "execution_count": 97,
   "id": "4cc276f8-8abf-496c-887b-6910db3a2caf",
   "metadata": {},
   "outputs": [
    {
     "data": {
      "text/plain": [
       "0    0.686864\n",
       "1    0.313136\n",
       "Name: strike_bool, dtype: float64"
      ]
     },
     "execution_count": 97,
     "metadata": {},
     "output_type": "execute_result"
    }
   ],
   "source": [
    "df_y.value_counts(normalize=True)"
   ]
  },
  {
   "cell_type": "markdown",
   "id": "f693e034-749c-4c9c-b14e-af6238093572",
   "metadata": {},
   "source": [
    "Fairly close! It could be a _dangerous_ assumption, but based on what we DO know of how the datasets were constructed, the fact that the ratios are so close makes me feel that our results are pretty good."
   ]
  },
  {
   "cell_type": "markdown",
   "id": "6b4cc288-3136-4dbf-a5e9-c17601917676",
   "metadata": {},
   "source": [
    "##### Predicted Probabilities"
   ]
  },
  {
   "cell_type": "code",
   "execution_count": 99,
   "id": "c51e9039-fff6-47d8-abaf-90c591b84256",
   "metadata": {},
   "outputs": [
    {
     "name": "stdout",
     "output_type": "stream",
     "text": [
      "583/583 [==============================] - 0s 641us/step\n"
     ]
    }
   ],
   "source": [
    "pred_proba = selected_model.predict_proba(holdout_scaled)"
   ]
  },
  {
   "cell_type": "markdown",
   "id": "2cc72931-4384-4875-9a11-927aac642d5b",
   "metadata": {},
   "source": [
    "Quick look at results:"
   ]
  },
  {
   "cell_type": "code",
   "execution_count": 100,
   "id": "e3957a12-f55f-4902-b0a4-d10ef3754b6f",
   "metadata": {},
   "outputs": [
    {
     "data": {
      "text/plain": [
       "array([[0.999, 0.001],\n",
       "       [1.   , 0.   ],\n",
       "       [0.004, 0.996],\n",
       "       [0.185, 0.815],\n",
       "       [0.001, 0.999],\n",
       "       [0.999, 0.001],\n",
       "       [0.03 , 0.97 ],\n",
       "       [1.   , 0.   ],\n",
       "       [0.   , 1.   ],\n",
       "       [0.99 , 0.01 ],\n",
       "       [0.03 , 0.97 ],\n",
       "       [0.02 , 0.98 ],\n",
       "       [0.513, 0.487],\n",
       "       [1.   , 0.   ],\n",
       "       [0.988, 0.012],\n",
       "       [0.648, 0.352],\n",
       "       [0.384, 0.616],\n",
       "       [0.995, 0.005],\n",
       "       [1.   , 0.   ],\n",
       "       [0.047, 0.953]], dtype=float32)"
      ]
     },
     "execution_count": 100,
     "metadata": {},
     "output_type": "execute_result"
    }
   ],
   "source": [
    "np.round(pred_proba[:20], 3)"
   ]
  },
  {
   "cell_type": "code",
   "execution_count": 101,
   "id": "622123a5-c08d-4d83-bb80-6ce223410370",
   "metadata": {},
   "outputs": [],
   "source": [
    "pred_proba_strike_only = pred_proba[:, -1]"
   ]
  },
  {
   "cell_type": "code",
   "execution_count": 104,
   "id": "671350d0-8785-4d79-8e62-992b28848bf7",
   "metadata": {},
   "outputs": [
    {
     "data": {
      "text/plain": [
       "'./predictions/holdout/nn_pred_vals_20220510_1516.csv'"
      ]
     },
     "metadata": {},
     "output_type": "display_data"
    },
    {
     "data": {
      "text/plain": [
       "'./predictions/holdout/nn_pred_proba_20220510_1516.csv'"
      ]
     },
     "metadata": {},
     "output_type": "display_data"
    },
    {
     "data": {
      "text/plain": [
       "'./predictions/holdout/nn_pred_proba_strike_only_20220510_1516.csv'"
      ]
     },
     "metadata": {},
     "output_type": "display_data"
    }
   ],
   "source": [
    "str_ts = datetime.now(timezone.utc).astimezone(pytz.timezone('US/Pacific')).strftime(\"%Y%m%d_%H%M\")\n",
    "file_class_nm = 'nn_pred_vals_' + str_ts\n",
    "file_proba_nm = 'nn_pred_proba_' + str_ts\n",
    "file_proba_stk_nm = 'nn_pred_proba_strike_only_' + str_ts\n",
    "\n",
    "file_class_path = './predictions/holdout/' + file_class_nm + '.csv'\n",
    "file_proba_path = './predictions/holdout/' + file_proba_nm + '.csv'\n",
    "file_proba_stk_path = './predictions/holdout/' + file_proba_stk_nm + '.csv'\n",
    "\n",
    "display(file_class_path)\n",
    "display(file_proba_path)\n",
    "display(file_proba_stk_path)"
   ]
  },
  {
   "cell_type": "code",
   "execution_count": 105,
   "id": "2752b888-d122-4243-a213-7dbfea268e04",
   "metadata": {},
   "outputs": [],
   "source": [
    "# save out predicted probabilities\n",
    "np.savetxt(file_class_path, pred_classes, delimiter=\",\")\n",
    "np.savetxt(file_proba_path, pred_proba, delimiter=\",\")\n",
    "np.savetxt(file_proba_stk_path, pred_proba_strike_only, delimiter=\",\")"
   ]
  },
  {
   "cell_type": "markdown",
   "id": "f73043e8-4709-435d-bc1c-c87aca7af940",
   "metadata": {
    "tags": []
   },
   "source": [
    "---  \n",
    "<span style=\"font-size:0.5em;\">Tag X</span>\n",
    "<a id='the_end_4'></a>\n",
    "\n",
    "<span style=\"font-size:0.5em;\"><a href='#toc_4'>Back to TOC</a></span>"
   ]
  },
  {
   "cell_type": "markdown",
   "id": "0b9ccf2b-f2e9-4410-9be6-a346e03d1a53",
   "metadata": {},
   "source": [
    "Next, let's repeat the exercise of adding the new features to the 'classical' model."
   ]
  }
 ],
 "metadata": {
  "kernelspec": {
   "display_name": "Python 3 (ipykernel)",
   "language": "python",
   "name": "python3"
  },
  "language_info": {
   "codemirror_mode": {
    "name": "ipython",
    "version": 3
   },
   "file_extension": ".py",
   "mimetype": "text/x-python",
   "name": "python",
   "nbconvert_exporter": "python",
   "pygments_lexer": "ipython3",
   "version": "3.8.10"
  },
  "widgets": {
   "application/vnd.jupyter.widget-state+json": {
    "state": {},
    "version_major": 2,
    "version_minor": 0
   }
  }
 },
 "nbformat": 4,
 "nbformat_minor": 5
}
