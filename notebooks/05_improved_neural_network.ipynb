{
 "cells": [
  {
   "cell_type": "markdown",
   "id": "1d9a73fe-22ef-46f3-af36-3ed41d28fa72",
   "metadata": {},
   "source": [
    "# Called Third Strike\n",
    "## Part 5. Improved neural network  \n",
    "\n",
    "![](./resources/baseball_umpire_home_plate_1.jpg)\n",
    "\n",
    "This project's goal is to build probability models for as to whether a pitch will be called a strike or not. The intended models are to be:\n",
    "1. A neural network (NN) based approach.\n",
    "2. A non-NN based approach.\n",
    "\n",
    "---\n",
    "\n",
    "__**This Notebook's**__ objective is to iterate on the work done with the [first attempts](03_first_crude_neural_network.ipynb) at at a neural network based approach. A few ideas:\n",
    "- Included Handedness of both pitcher and batter; I hypothesize that this will have some signal with regards to the 'strike-ness' of the horizontal movement of the pitch. As for verticality, I think that the stringer data helps with that since it provides fairly concrete guardrails as to the strike-ness (assuming the umpire sees the same thing haha).\n",
    "- Include pitch break and angle. I hypothesize this acts like a proxy to the pitcher, without having to rely on the pitcher_IDs. Rough analogy but I think of it kind of like latent factors in ALS matrix factorization (which I need to brush up on heh).\n",
    "\n",
    "---\n",
    "---"
   ]
  },
  {
   "cell_type": "markdown",
   "id": "7c603889-4d23-4c1d-8e4d-8d45d1a72da4",
   "metadata": {},
   "source": [
    "### Table of Contents<a id='toc'></a>\n",
    "\n",
    "<a href='#data_prep'>1. Data Preprocessing</a>\n",
    "\n",
    "<a href='#build_model'>2. Build Model</a>\n",
    "\n",
    "<a href='#random_search'>3. Random Hyperparameter Search</a>\n",
    "\n",
    "...\n",
    "\n",
    "<a href='#the_end'>Go to the End</a>\n",
    "\n",
    "---"
   ]
  },
  {
   "cell_type": "markdown",
   "id": "4fcfd9aa-eac1-4789-af6d-cf5700a82979",
   "metadata": {},
   "source": [
    "---  \n",
    "\n",
    "<span style=\"font-size:0.5em;\">Tag 1</span>\n",
    "\n",
    "### Data Preprocessing<a id='data_prep'></a>\n",
    "\n",
    "<span style=\"font-size:0.5em;\"><a href='#toc'>Back to TOC</a></span>\n"
   ]
  },
  {
   "cell_type": "markdown",
   "id": "053be28f-4156-45c6-8a93-99c50dd76e39",
   "metadata": {},
   "source": [
    "#### Libraries\n"
   ]
  },
  {
   "cell_type": "code",
   "execution_count": 2,
   "id": "f5160888-b331-4e47-b996-09fdac316630",
   "metadata": {},
   "outputs": [
    {
     "name": "stderr",
     "output_type": "stream",
     "text": [
      "2022-05-06 04:22:41.091101: W tensorflow/stream_executor/platform/default/dso_loader.cc:64] Could not load dynamic library 'libcudart.so.11.0'; dlerror: libcudart.so.11.0: cannot open shared object file: No such file or directory\n",
      "2022-05-06 04:22:41.091136: I tensorflow/stream_executor/cuda/cudart_stub.cc:29] Ignore above cudart dlerror if you do not have a GPU set up on your machine.\n"
     ]
    }
   ],
   "source": [
    "# Data wrangling and operations\n",
    "import pandas as pd\n",
    "import numpy as np\n",
    "from datetime import datetime\n",
    " \n",
    "# Visualization\n",
    "import matplotlib.pyplot as plt\n",
    "import seaborn as sns\n",
    "\n",
    "# ML\n",
    "from sklearn.preprocessing import StandardScaler\n",
    "from sklearn.model_selection import train_test_split\n",
    "from sklearn.model_selection import RandomizedSearchCV\n",
    "from sklearn.metrics import confusion_matrix\n",
    "from sklearn.metrics import recall_score, precision_score, plot_roc_curve\n",
    "\n",
    "# neural networks\n",
    "# Kera Sequential model\n",
    "import tensorflow as tf\n",
    "from tensorflow import keras\n",
    "from keras.models import Sequential\n",
    "from keras.layers import Dense\n",
    "from keras.utils.vis_utils import plot_model\n",
    "from tensorflow.keras.optimizers import Adam\n",
    "from keras.wrappers.scikit_learn import KerasClassifier"
   ]
  },
  {
   "cell_type": "markdown",
   "id": "f366fe65-9e8c-48c3-83e4-6e40a4bf4255",
   "metadata": {},
   "source": [
    "Import the following packages, if needed (not included in default packages on the platform I'm currently using)"
   ]
  },
  {
   "cell_type": "code",
   "execution_count": 3,
   "id": "6e2a5092-a87d-4af1-868b-97c6f4dfcb0a",
   "metadata": {},
   "outputs": [],
   "source": [
    "%%capture\n",
    "try:\n",
    "    import scikeras\n",
    "except ImportError:\n",
    "    !pip install scikeras[tensorflow]\n",
    "    !python -m pip install scikeras[tensorflow]\n",
    "except ModuleNotFoundError:\n",
    "    !pip install scikeras[tensorflow]\n",
    "    # !python -m pip install scikeras[tensorflow]"
   ]
  },
  {
   "cell_type": "code",
   "execution_count": 4,
   "id": "bc27de91-8da2-49f4-ad63-207e6fe540e3",
   "metadata": {},
   "outputs": [],
   "source": [
    "from scikeras.wrappers import KerasClassifier"
   ]
  },
  {
   "cell_type": "code",
   "execution_count": 5,
   "id": "1e9bd03a-eda1-46b0-af5a-897338588c68",
   "metadata": {},
   "outputs": [],
   "source": [
    "# Dependency for plot_model function"
   ]
  },
  {
   "cell_type": "code",
   "execution_count": 6,
   "id": "240fcd46-46e3-4934-a176-522acba3f6a6",
   "metadata": {},
   "outputs": [],
   "source": [
    "%%capture\n",
    "try:\n",
    "    import pydot\n",
    "except ImportError:\n",
    "    !pip install pydot"
   ]
  },
  {
   "cell_type": "markdown",
   "id": "987afa32-26cc-421f-bfdd-dd2cd8a29e62",
   "metadata": {},
   "source": [
    "---\n",
    "\n",
    "#### Data Import \n",
    "\n",
    "Retrieve the latest version of our train/test files that we built during [initial exploration](02_data_exploration.ipynb)."
   ]
  },
  {
   "cell_type": "code",
   "execution_count": 7,
   "id": "db6f0590-4c27-4af2-a4f0-398e7ec64eba",
   "metadata": {},
   "outputs": [],
   "source": [
    "df_train = pd.read_pickle('../data/train_enriched.pkl')\n",
    "df_test = pd.read_pickle('../data/test_enriched.pkl')"
   ]
  },
  {
   "cell_type": "markdown",
   "id": "fd0ae49b-1077-458e-9aff-6444a34941e0",
   "metadata": {},
   "source": [
    "Let's refamiliarize ourselves with the features."
   ]
  },
  {
   "cell_type": "code",
   "execution_count": 8,
   "id": "57bf1725-f4f9-4cd6-b2ea-57f7afd3f291",
   "metadata": {},
   "outputs": [
    {
     "name": "stdout",
     "output_type": "stream",
     "text": [
      "<class 'pandas.core.frame.DataFrame'>\n",
      "Int64Index: 353983 entries, 0 to 354038\n",
      "Data columns (total 31 columns):\n",
      " #   Column                Non-Null Count   Dtype         \n",
      "---  ------                --------------   -----         \n",
      " 0   pitch_id              353983 non-null  object        \n",
      " 1   inning                353983 non-null  int64         \n",
      " 2   side                  353983 non-null  object        \n",
      " 3   run_diff              353983 non-null  int64         \n",
      " 4   at_bat_index          353983 non-null  int64         \n",
      " 5   pitch_of_ab           353983 non-null  int64         \n",
      " 6   batter                353983 non-null  int64         \n",
      " 7   pitcher               353983 non-null  int64         \n",
      " 8   catcher               353983 non-null  int64         \n",
      " 9   umpire                353983 non-null  int64         \n",
      " 10  bside                 353983 non-null  object        \n",
      " 11  pside                 353983 non-null  object        \n",
      " 12  stringer_zone_bottom  353983 non-null  float64       \n",
      " 13  stringer_zone_top     353983 non-null  float64       \n",
      " 14  on_1b_mlbid           106990 non-null  float64       \n",
      " 15  on_2b_mlbid           64921 non-null   float64       \n",
      " 16  on_3b_mlbid           31466 non-null   float64       \n",
      " 17  outs                  353983 non-null  int64         \n",
      " 18  balls                 353983 non-null  int64         \n",
      " 19  strikes               353983 non-null  int64         \n",
      " 20  pitch_speed           353983 non-null  float64       \n",
      " 21  px                    353983 non-null  float64       \n",
      " 22  pz                    353983 non-null  float64       \n",
      " 23  break_x               353983 non-null  float64       \n",
      " 24  break_z               353983 non-null  float64       \n",
      " 25  angle_x               353983 non-null  float64       \n",
      " 26  angle_z               353983 non-null  float64       \n",
      " 27  pitch_type            353983 non-null  object        \n",
      " 28  strike_bool           353983 non-null  int64         \n",
      " 29  game_date_dt          353983 non-null  datetime64[ns]\n",
      " 30  strike_bool_tf        353983 non-null  bool          \n",
      "dtypes: bool(1), datetime64[ns](1), float64(12), int64(12), object(5)\n",
      "memory usage: 84.1+ MB\n"
     ]
    }
   ],
   "source": [
    "df_train.info()"
   ]
  },
  {
   "cell_type": "markdown",
   "id": "f08da1ab-1889-48b3-bf3a-e83f1f76e153",
   "metadata": {},
   "source": [
    "---\n",
    "\n",
    "#### Feature Selection and Prep, revisited\n",
    "\n",
    "Select features:"
   ]
  },
  {
   "cell_type": "markdown",
   "id": "facec025-15e9-4d40-b4c5-d2a2d63088aa",
   "metadata": {},
   "source": [
    "For our initial super simple model, we had picked just four features: \n",
    "- `px` which is the horizontal location of the pitch at the plate\n",
    "- `pz` which is the vertical location\n",
    "- `stringer_zone_bottom` which is an estimate of current batter's strike zone bottom\n",
    "- `stringer_zone_top` which is an estimate of current batter's strike zone top"
   ]
  },
  {
   "cell_type": "code",
   "execution_count": 22,
   "id": "da4fd6e9-70fd-4bee-b321-40327d0787d5",
   "metadata": {},
   "outputs": [],
   "source": [
    "# Features selected\n",
    "feat_select = ['px', 'pz', 'stringer_zone_bottom', 'stringer_zone_top']"
   ]
  },
  {
   "cell_type": "markdown",
   "id": "9c8eb364-b6a5-4129-a7e0-e8f2db110016",
   "metadata": {},
   "source": [
    "But as mentioned in the intro, I want to try adding `bside` and `pside`, as well as vertical/horizontal breaks and angles (`break_x`, `break_z`, `angle_x`, `angle_z`), and `pitch_speed`. "
   ]
  },
  {
   "cell_type": "markdown",
   "id": "d2444da4-7ae7-4074-9423-3c90228559ea",
   "metadata": {},
   "source": [
    "##### Adding `break_x`, `break_z`, `angle_x`, `angle_z`, `pitch_speed`\n",
    "\n",
    "These are numeric so I will add on to `feat_select`"
   ]
  },
  {
   "cell_type": "code",
   "execution_count": 23,
   "id": "83c54d7b-b34a-42f8-8ca6-fde199b247b9",
   "metadata": {},
   "outputs": [
    {
     "data": {
      "text/plain": [
       "['break_z',\n",
       " 'stringer_zone_top',\n",
       " 'angle_z',\n",
       " 'stringer_zone_bottom',\n",
       " 'break_x',\n",
       " 'pz',\n",
       " 'px',\n",
       " 'angle_x',\n",
       " 'pitch_speed']"
      ]
     },
     "metadata": {},
     "output_type": "display_data"
    }
   ],
   "source": [
    "feat_select = feat_select + ['break_x', 'break_z', 'angle_x', 'angle_z', 'pitch_speed']\n",
    "feat_select = list(set(feat_select)) #Just to ensure no dupes if this cell gets executed again\n",
    "display(feat_select)"
   ]
  },
  {
   "cell_type": "markdown",
   "id": "d6787f85-35bc-48f2-a808-1e4fe854e302",
   "metadata": {},
   "source": [
    "##### Adding `b_side`, `p_side`\n",
    "\n",
    "These are strings so I will one-hot encode them."
   ]
  },
  {
   "cell_type": "code",
   "execution_count": 25,
   "id": "5c2ec5eb-89e0-4dc7-8031-44dcfab17608",
   "metadata": {},
   "outputs": [],
   "source": [
    "feat_cat_select = ['bside', 'pside']"
   ]
  },
  {
   "cell_type": "code",
   "execution_count": 37,
   "id": "afc9d4c2-b99a-4c44-9a3b-c9569bf27e3e",
   "metadata": {},
   "outputs": [],
   "source": [
    "df_train_cat_ohe = pd.get_dummies(df_train[feat_cat_select])"
   ]
  },
  {
   "cell_type": "code",
   "execution_count": 29,
   "id": "d1ddb031-98a8-42e6-af80-649c7509e411",
   "metadata": {},
   "outputs": [
    {
     "data": {
      "application/com.datacamp.data-table.v1+json": {
       "is_truncated": false,
       "table": {
        "data": [
         {
          "bside_L": 0,
          "bside_R": 1,
          "index": 0,
          "pside_L": 1,
          "pside_R": 0
         },
         {
          "bside_L": 1,
          "bside_R": 0,
          "index": 1,
          "pside_L": 0,
          "pside_R": 1
         },
         {
          "bside_L": 1,
          "bside_R": 0,
          "index": 2,
          "pside_L": 1,
          "pside_R": 0
         }
        ],
        "schema": {
         "fields": [
          {
           "name": "index",
           "type": "integer"
          },
          {
           "name": "bside_L",
           "type": "integer"
          },
          {
           "name": "bside_R",
           "type": "integer"
          },
          {
           "name": "pside_L",
           "type": "integer"
          },
          {
           "name": "pside_R",
           "type": "integer"
          }
         ],
         "pandas_version": "0.20.0",
         "primaryKey": [
          "index"
         ]
        }
       },
       "total_rows": 3
      },
      "text/html": [
       "<div>\n",
       "<style scoped>\n",
       "    .dataframe tbody tr th:only-of-type {\n",
       "        vertical-align: middle;\n",
       "    }\n",
       "\n",
       "    .dataframe tbody tr th {\n",
       "        vertical-align: top;\n",
       "    }\n",
       "\n",
       "    .dataframe thead th {\n",
       "        text-align: right;\n",
       "    }\n",
       "</style>\n",
       "<table border=\"1\" class=\"dataframe\">\n",
       "  <thead>\n",
       "    <tr style=\"text-align: right;\">\n",
       "      <th></th>\n",
       "      <th>bside_L</th>\n",
       "      <th>bside_R</th>\n",
       "      <th>pside_L</th>\n",
       "      <th>pside_R</th>\n",
       "    </tr>\n",
       "  </thead>\n",
       "  <tbody>\n",
       "    <tr>\n",
       "      <th>0</th>\n",
       "      <td>0</td>\n",
       "      <td>1</td>\n",
       "      <td>1</td>\n",
       "      <td>0</td>\n",
       "    </tr>\n",
       "    <tr>\n",
       "      <th>1</th>\n",
       "      <td>1</td>\n",
       "      <td>0</td>\n",
       "      <td>0</td>\n",
       "      <td>1</td>\n",
       "    </tr>\n",
       "    <tr>\n",
       "      <th>2</th>\n",
       "      <td>1</td>\n",
       "      <td>0</td>\n",
       "      <td>1</td>\n",
       "      <td>0</td>\n",
       "    </tr>\n",
       "  </tbody>\n",
       "</table>\n",
       "</div>"
      ],
      "text/plain": [
       "   bside_L  bside_R  pside_L  pside_R\n",
       "0        0        1        1        0\n",
       "1        1        0        0        1\n",
       "2        1        0        1        0"
      ]
     },
     "execution_count": 29,
     "metadata": {},
     "output_type": "execute_result"
    }
   ],
   "source": [
    "df_train_cat_ohe.head(3)"
   ]
  },
  {
   "cell_type": "code",
   "execution_count": 38,
   "id": "b5417e96-e709-4d00-9028-9c31be831f19",
   "metadata": {},
   "outputs": [
    {
     "data": {
      "text/plain": [
       "(353983, 4)"
      ]
     },
     "execution_count": 38,
     "metadata": {},
     "output_type": "execute_result"
    }
   ],
   "source": [
    "df_train_cat_ohe.shape"
   ]
  },
  {
   "cell_type": "markdown",
   "id": "66ef8983-f0bb-4951-a82f-9ae20d219ef8",
   "metadata": {},
   "source": [
    "Prep features:\n",
    "\n",
    "Gather up all the selected features."
   ]
  },
  {
   "cell_type": "code",
   "execution_count": 63,
   "id": "a870a134-c23f-476d-8d1f-fb10344aa06d",
   "metadata": {},
   "outputs": [
    {
     "name": "stdout",
     "output_type": "stream",
     "text": [
      "<class 'pandas.core.frame.DataFrame'>\n",
      "Int64Index: 353983 entries, 0 to 354038\n",
      "Data columns (total 13 columns):\n",
      " #   Column                Non-Null Count   Dtype  \n",
      "---  ------                --------------   -----  \n",
      " 0   break_z               353983 non-null  float64\n",
      " 1   stringer_zone_top     353983 non-null  float64\n",
      " 2   angle_z               353983 non-null  float64\n",
      " 3   stringer_zone_bottom  353983 non-null  float64\n",
      " 4   break_x               353983 non-null  float64\n",
      " 5   pz                    353983 non-null  float64\n",
      " 6   px                    353983 non-null  float64\n",
      " 7   angle_x               353983 non-null  float64\n",
      " 8   pitch_speed           353983 non-null  float64\n",
      " 9   bside_L               353983 non-null  uint8  \n",
      " 10  bside_R               353983 non-null  uint8  \n",
      " 11  pside_L               353983 non-null  uint8  \n",
      " 12  pside_R               353983 non-null  uint8  \n",
      "dtypes: float64(9), uint8(4)\n",
      "memory usage: 28.4 MB\n"
     ]
    },
    {
     "data": {
      "text/plain": [
       "None"
      ]
     },
     "metadata": {},
     "output_type": "display_data"
    }
   ],
   "source": [
    "# Get just the selected features\n",
    "df_X = pd.concat([df_train[feat_select], df_train_cat_ohe], axis=1)\n",
    "# df_X = df_train_cat_ohe.copy()\n",
    "display(df_X.info())"
   ]
  },
  {
   "cell_type": "code",
   "execution_count": 64,
   "id": "284ffafc-6e61-478b-8fb5-b685f26706cc",
   "metadata": {},
   "outputs": [
    {
     "data": {
      "application/com.datacamp.data-table.v1+json": {
       "is_truncated": false,
       "table": {
        "data": [
         {
          "angle_x": 3.02727,
          "angle_z": 5.59379,
          "break_x": 1.91535,
          "break_z": -9.54142,
          "bside_L": 0,
          "bside_R": 1,
          "index": 0,
          "pitch_speed": 97.4298,
          "pside_L": 1,
          "pside_R": 0,
          "px": -1.2981,
          "pz": 2.30217,
          "stringer_zone_bottom": 1.56,
          "stringer_zone_top": 3.41
         },
         {
          "angle_x": -1.56782,
          "angle_z": 6.86676,
          "break_x": -12.1373,
          "break_z": -21.9427,
          "bside_L": 1,
          "bside_R": 0,
          "index": 1,
          "pitch_speed": 91.7712,
          "pside_L": 0,
          "pside_R": 1,
          "px": 1.41222,
          "pz": 1.57443,
          "stringer_zone_bottom": 1.59,
          "stringer_zone_top": 3.47
         },
         {
          "angle_x": 2.04966,
          "angle_z": 7.17281,
          "break_x": -0.992261,
          "break_z": -25.5107,
          "bside_L": 1,
          "bside_R": 0,
          "index": 2,
          "pitch_speed": 87.813,
          "pside_L": 1,
          "pside_R": 0,
          "px": -0.18119,
          "pz": 2.11248,
          "stringer_zone_bottom": 1.68,
          "stringer_zone_top": 3.58
         },
         {
          "angle_x": 2.96845,
          "angle_z": 8.50392,
          "break_x": -2.8393,
          "break_z": -27.2509,
          "bside_L": 0,
          "bside_R": 1,
          "index": 3,
          "pitch_speed": 86.5546,
          "pside_L": 1,
          "pside_R": 0,
          "px": -0.885538,
          "pz": 0.598692,
          "stringer_zone_bottom": 1.63,
          "stringer_zone_top": 3.55
         },
         {
          "angle_x": -2.64734,
          "angle_z": 5.63426,
          "break_x": -6.41995,
          "break_z": -14.3172,
          "bside_L": 0,
          "bside_R": 1,
          "index": 4,
          "pitch_speed": 95.0891,
          "pside_L": 0,
          "pside_R": 1,
          "px": 0.900718,
          "pz": 2.0182,
          "stringer_zone_bottom": 1.63,
          "stringer_zone_top": 3.55
         }
        ],
        "schema": {
         "fields": [
          {
           "name": "index",
           "type": "integer"
          },
          {
           "name": "break_z",
           "type": "number"
          },
          {
           "name": "stringer_zone_top",
           "type": "number"
          },
          {
           "name": "angle_z",
           "type": "number"
          },
          {
           "name": "stringer_zone_bottom",
           "type": "number"
          },
          {
           "name": "break_x",
           "type": "number"
          },
          {
           "name": "pz",
           "type": "number"
          },
          {
           "name": "px",
           "type": "number"
          },
          {
           "name": "angle_x",
           "type": "number"
          },
          {
           "name": "pitch_speed",
           "type": "number"
          },
          {
           "name": "bside_L",
           "type": "integer"
          },
          {
           "name": "bside_R",
           "type": "integer"
          },
          {
           "name": "pside_L",
           "type": "integer"
          },
          {
           "name": "pside_R",
           "type": "integer"
          }
         ],
         "pandas_version": "0.20.0",
         "primaryKey": [
          "index"
         ]
        }
       },
       "total_rows": 5
      },
      "text/html": [
       "<div>\n",
       "<style scoped>\n",
       "    .dataframe tbody tr th:only-of-type {\n",
       "        vertical-align: middle;\n",
       "    }\n",
       "\n",
       "    .dataframe tbody tr th {\n",
       "        vertical-align: top;\n",
       "    }\n",
       "\n",
       "    .dataframe thead th {\n",
       "        text-align: right;\n",
       "    }\n",
       "</style>\n",
       "<table border=\"1\" class=\"dataframe\">\n",
       "  <thead>\n",
       "    <tr style=\"text-align: right;\">\n",
       "      <th></th>\n",
       "      <th>break_z</th>\n",
       "      <th>stringer_zone_top</th>\n",
       "      <th>angle_z</th>\n",
       "      <th>stringer_zone_bottom</th>\n",
       "      <th>break_x</th>\n",
       "      <th>pz</th>\n",
       "      <th>px</th>\n",
       "      <th>angle_x</th>\n",
       "      <th>pitch_speed</th>\n",
       "      <th>bside_L</th>\n",
       "      <th>bside_R</th>\n",
       "      <th>pside_L</th>\n",
       "      <th>pside_R</th>\n",
       "    </tr>\n",
       "  </thead>\n",
       "  <tbody>\n",
       "    <tr>\n",
       "      <th>0</th>\n",
       "      <td>-9.54142</td>\n",
       "      <td>3.41</td>\n",
       "      <td>5.59379</td>\n",
       "      <td>1.56</td>\n",
       "      <td>1.915350</td>\n",
       "      <td>2.302170</td>\n",
       "      <td>-1.298100</td>\n",
       "      <td>3.02727</td>\n",
       "      <td>97.4298</td>\n",
       "      <td>0</td>\n",
       "      <td>1</td>\n",
       "      <td>1</td>\n",
       "      <td>0</td>\n",
       "    </tr>\n",
       "    <tr>\n",
       "      <th>1</th>\n",
       "      <td>-21.94270</td>\n",
       "      <td>3.47</td>\n",
       "      <td>6.86676</td>\n",
       "      <td>1.59</td>\n",
       "      <td>-12.137300</td>\n",
       "      <td>1.574430</td>\n",
       "      <td>1.412220</td>\n",
       "      <td>-1.56782</td>\n",
       "      <td>91.7712</td>\n",
       "      <td>1</td>\n",
       "      <td>0</td>\n",
       "      <td>0</td>\n",
       "      <td>1</td>\n",
       "    </tr>\n",
       "    <tr>\n",
       "      <th>2</th>\n",
       "      <td>-25.51070</td>\n",
       "      <td>3.58</td>\n",
       "      <td>7.17281</td>\n",
       "      <td>1.68</td>\n",
       "      <td>-0.992261</td>\n",
       "      <td>2.112480</td>\n",
       "      <td>-0.181190</td>\n",
       "      <td>2.04966</td>\n",
       "      <td>87.8130</td>\n",
       "      <td>1</td>\n",
       "      <td>0</td>\n",
       "      <td>1</td>\n",
       "      <td>0</td>\n",
       "    </tr>\n",
       "    <tr>\n",
       "      <th>3</th>\n",
       "      <td>-27.25090</td>\n",
       "      <td>3.55</td>\n",
       "      <td>8.50392</td>\n",
       "      <td>1.63</td>\n",
       "      <td>-2.839300</td>\n",
       "      <td>0.598692</td>\n",
       "      <td>-0.885538</td>\n",
       "      <td>2.96845</td>\n",
       "      <td>86.5546</td>\n",
       "      <td>0</td>\n",
       "      <td>1</td>\n",
       "      <td>1</td>\n",
       "      <td>0</td>\n",
       "    </tr>\n",
       "    <tr>\n",
       "      <th>4</th>\n",
       "      <td>-14.31720</td>\n",
       "      <td>3.55</td>\n",
       "      <td>5.63426</td>\n",
       "      <td>1.63</td>\n",
       "      <td>-6.419950</td>\n",
       "      <td>2.018200</td>\n",
       "      <td>0.900718</td>\n",
       "      <td>-2.64734</td>\n",
       "      <td>95.0891</td>\n",
       "      <td>0</td>\n",
       "      <td>1</td>\n",
       "      <td>0</td>\n",
       "      <td>1</td>\n",
       "    </tr>\n",
       "  </tbody>\n",
       "</table>\n",
       "</div>"
      ],
      "text/plain": [
       "    break_z  stringer_zone_top  angle_z  stringer_zone_bottom    break_x  \\\n",
       "0  -9.54142               3.41  5.59379                  1.56   1.915350   \n",
       "1 -21.94270               3.47  6.86676                  1.59 -12.137300   \n",
       "2 -25.51070               3.58  7.17281                  1.68  -0.992261   \n",
       "3 -27.25090               3.55  8.50392                  1.63  -2.839300   \n",
       "4 -14.31720               3.55  5.63426                  1.63  -6.419950   \n",
       "\n",
       "         pz        px  angle_x  pitch_speed  bside_L  bside_R  pside_L  \\\n",
       "0  2.302170 -1.298100  3.02727      97.4298        0        1        1   \n",
       "1  1.574430  1.412220 -1.56782      91.7712        1        0        0   \n",
       "2  2.112480 -0.181190  2.04966      87.8130        1        0        1   \n",
       "3  0.598692 -0.885538  2.96845      86.5546        0        1        1   \n",
       "4  2.018200  0.900718 -2.64734      95.0891        0        1        0   \n",
       "\n",
       "   pside_R  \n",
       "0        0  \n",
       "1        1  \n",
       "2        0  \n",
       "3        0  \n",
       "4        1  "
      ]
     },
     "execution_count": 64,
     "metadata": {},
     "output_type": "execute_result"
    }
   ],
   "source": [
    "df_X.head()"
   ]
  },
  {
   "cell_type": "markdown",
   "id": "f43c5958-97aa-4029-9b66-ad53b6af2685",
   "metadata": {},
   "source": [
    "While we are at it, let's prep our targets:"
   ]
  },
  {
   "cell_type": "code",
   "execution_count": 65,
   "id": "b27c2cf9-f12a-4324-898a-55e08e6b5e64",
   "metadata": {},
   "outputs": [
    {
     "name": "stdout",
     "output_type": "stream",
     "text": [
      "<class 'pandas.core.frame.DataFrame'>\n",
      "Int64Index: 353983 entries, 0 to 354038\n",
      "Data columns (total 1 columns):\n",
      " #   Column       Non-Null Count   Dtype\n",
      "---  ------       --------------   -----\n",
      " 0   strike_bool  353983 non-null  int64\n",
      "dtypes: int64(1)\n",
      "memory usage: 5.4 MB\n"
     ]
    },
    {
     "data": {
      "text/plain": [
       "None"
      ]
     },
     "metadata": {},
     "output_type": "display_data"
    }
   ],
   "source": [
    "df_y = df_train['strike_bool']\n",
    "display(pd.DataFrame(df_y).info())"
   ]
  },
  {
   "cell_type": "markdown",
   "id": "c990a31b-d553-4227-9fdd-b946e3b9bd39",
   "metadata": {},
   "source": [
    "---\n",
    "\n",
    "#### Feature Engineering\n",
    "\n",
    "Select features:"
   ]
  },
  {
   "cell_type": "markdown",
   "id": "6ddb78e3-d580-4bef-bfa4-d8abfb1c82e8",
   "metadata": {},
   "source": [
    "For a neural network we will need to numerically represent our data (e.g. one-hot-encode any categorical features), as well as scale/normalize the data. \n",
    "\n",
    "All the selected features for this round are numerical, so we don't have to worry about encoding any categories. For scaling I'm choosing to *standardize*."
   ]
  },
  {
   "cell_type": "code",
   "execution_count": 66,
   "id": "e0e89560-8f67-42d3-b8ac-ad180c37d2a1",
   "metadata": {},
   "outputs": [],
   "source": [
    "scaler = StandardScaler()\n",
    "X_scaled = scaler.fit_transform(df_X)"
   ]
  },
  {
   "cell_type": "markdown",
   "id": "4963c4a1-afb4-46c0-9f5d-454f548aeed9",
   "metadata": {},
   "source": [
    "---\n",
    "\n",
    "#### Train / Test\n",
    "\n",
    "\n",
    "Create train/test splits.\n",
    "\n",
    "Breakout parameters for easy access."
   ]
  },
  {
   "cell_type": "code",
   "execution_count": 67,
   "id": "d876b0d8-23b2-4104-bf0b-95dfe8bf6c3c",
   "metadata": {},
   "outputs": [],
   "source": [
    "# Parameters\n",
    "test_size = 0.20\n",
    "random_state = 24"
   ]
  },
  {
   "cell_type": "code",
   "execution_count": 68,
   "id": "37efe2d2-1e8c-405f-9fed-b99c75d527a2",
   "metadata": {},
   "outputs": [],
   "source": [
    "X_train, X_test, y_train, y_test = train_test_split(X_scaled, df_y, test_size=test_size\n",
    "                                                    ,stratify=df_y, random_state = random_state)"
   ]
  },
  {
   "cell_type": "markdown",
   "id": "e479dfc0-7a7c-4456-b3d9-1f54218ea289",
   "metadata": {},
   "source": [
    "---  \n",
    "\n",
    "<span style=\"font-size:0.5em;\">Tag 2</span>\n",
    "\n",
    "### Build Model<a id='build_model'></a>\n",
    "\n",
    "<span style=\"font-size:0.5em;\"><a href='#toc'>Back to TOC</a></span>"
   ]
  },
  {
   "cell_type": "markdown",
   "id": "6d0cf42b-b297-4773-b486-a3f634f56aff",
   "metadata": {},
   "source": [
    "---\n",
    "\n",
    "#### First Neural Network Model\n",
    "\n",
    "Let's set up our initial parameters and build our models.\n",
    "\n",
    "We will use the Kera Sequential model."
   ]
  },
  {
   "cell_type": "code",
   "execution_count": 69,
   "id": "01880783-1cad-489a-b799-3657c70443e0",
   "metadata": {},
   "outputs": [],
   "source": [
    "# Initial Parameters\n",
    "num_inputs = X_train.shape[1]\n",
    "num_units_dense_1 = 2\n",
    "num_outputs = 1\n",
    "activ_dense = 'sigmoid'\n",
    "activ_output = 'sigmoid'\n",
    "\n",
    "n_epochs = 2\n",
    "val_split = 0.10"
   ]
  },
  {
   "cell_type": "code",
   "execution_count": 70,
   "id": "451d68c5-95a3-4e3e-99ed-20e43122b652",
   "metadata": {
    "tags": []
   },
   "outputs": [
    {
     "name": "stdout",
     "output_type": "stream",
     "text": [
      "Model: \"seq_model_strike\"\n",
      "_________________________________________________________________\n",
      " Layer (type)                Output Shape              Param #   \n",
      "=================================================================\n",
      " Hidden_1 (Dense)            (None, 2)                 28        \n",
      "                                                                 \n",
      " Output (Dense)              (None, 1)                 3         \n",
      "                                                                 \n",
      "=================================================================\n",
      "Total params: 31\n",
      "Trainable params: 31\n",
      "Non-trainable params: 0\n",
      "_________________________________________________________________\n"
     ]
    },
    {
     "data": {
      "image/png": "[encoded data removed]",
      "text/plain": [
       "<IPython.core.display.Image object>"
      ]
     },
     "execution_count": 70,
     "metadata": {},
     "output_type": "execute_result"
    }
   ],
   "source": [
    "# Create a Sequential model\n",
    "model = Sequential(name='seq_model_strike')\n",
    "\n",
    "# Add an input layer and a hidden layer with 10 neurons\n",
    "model.add(Dense(num_units_dense_1, input_shape=(num_inputs,)\n",
    "                ,activation=activ_dense, name='Hidden_1'))\n",
    "\n",
    "# Add a 1-neuron output layer\n",
    "model.add(Dense(num_outputs, activation=activ_output, name='Output'))\n",
    "\n",
    "# Compile your model\n",
    "model.compile(loss='binary_crossentropy', optimizer='adam'\n",
    "              ,metrics=['accuracy']\n",
    "             )\n",
    "\n",
    "# Summarise your model\n",
    "model.summary()\n",
    "\n",
    "plot_model(model)"
   ]
  },
  {
   "cell_type": "code",
   "execution_count": 71,
   "id": "ff10c672-e2ed-4de6-9186-c4eacd575a22",
   "metadata": {},
   "outputs": [
    {
     "data": {
      "text/plain": [
       "'To keep it realtively simple, we chose to use 2 nodes in 1 hidden layer.'"
      ]
     },
     "execution_count": 71,
     "metadata": {},
     "output_type": "execute_result"
    }
   ],
   "source": [
    "f\"To keep it realtively simple, we chose to use {num_units_dense_1} nodes in 1 hidden layer.\""
   ]
  },
  {
   "cell_type": "markdown",
   "id": "6f74e14c-d46d-4183-9ccd-515e705d45ba",
   "metadata": {},
   "source": [
    "---\n",
    "\n",
    "#### Model training\n",
    "\n",
    "We will save the model `History`."
   ]
  },
  {
   "cell_type": "code",
   "execution_count": 72,
   "id": "fe7ec8c3-7d81-4886-b39d-68bd1e9b6c59",
   "metadata": {},
   "outputs": [
    {
     "name": "stdout",
     "output_type": "stream",
     "text": [
      "Epoch 1/2\n",
      "7965/7965 [==============================] - 8s 939us/step - loss: 0.6073 - accuracy: 0.6820 - val_loss: 0.5530 - val_accuracy: 0.6834\n",
      "Epoch 2/2\n",
      "7965/7965 [==============================] - 8s 959us/step - loss: 0.4714 - accuracy: 0.7550 - val_loss: 0.4405 - val_accuracy: 0.7772\n"
     ]
    }
   ],
   "source": [
    "# Train model\n",
    "mod_hist =  model.fit(X_train, y_train, epochs = n_epochs\n",
    "                        ,validation_split=val_split)"
   ]
  },
  {
   "cell_type": "markdown",
   "id": "8b180f94-44b2-455f-85d6-b3bad781dc28",
   "metadata": {},
   "source": [
    "Not too bad through 2 epochs. Kind of weird that train accuracy is lower than validation accuracy, but we won't worry too much about it right now; only if we keep seeing it consistently in subsequent runs/tuning.\n",
    "\n",
    "Let's convert the history to a `DataFrame` for easier manipulation."
   ]
  },
  {
   "cell_type": "code",
   "execution_count": 73,
   "id": "533134d1-2272-4da3-a7c4-7f8533ad0e05",
   "metadata": {},
   "outputs": [],
   "source": [
    "df_mod_history = (pd.DataFrame(mod_hist.history).reset_index()\n",
    "                  .rename(columns={'index': 'epoch', 'loss': 'train_loss'\n",
    "                                   ,'accuracy': 'train_accuracy'}) \n",
    "                 )"
   ]
  },
  {
   "cell_type": "code",
   "execution_count": 74,
   "id": "e9800390-16ea-4f95-918b-f56b0abe9a69",
   "metadata": {},
   "outputs": [
    {
     "data": {
      "application/com.datacamp.data-table.v1+json": {
       "is_truncated": false,
       "table": {
        "data": [
         {
          "epoch": 0,
          "index": 0,
          "train_accuracy": 0.6819596291,
          "train_loss": 0.6073377132,
          "val_accuracy": 0.6834281087,
          "val_loss": 0.5530304313
         },
         {
          "epoch": 1,
          "index": 1,
          "train_accuracy": 0.7550290823,
          "train_loss": 0.4713652432,
          "val_accuracy": 0.7771813869,
          "val_loss": 0.4404628277
         }
        ],
        "schema": {
         "fields": [
          {
           "name": "index",
           "type": "integer"
          },
          {
           "name": "epoch",
           "type": "integer"
          },
          {
           "name": "train_loss",
           "type": "number"
          },
          {
           "name": "train_accuracy",
           "type": "number"
          },
          {
           "name": "val_loss",
           "type": "number"
          },
          {
           "name": "val_accuracy",
           "type": "number"
          }
         ],
         "pandas_version": "0.20.0",
         "primaryKey": [
          "index"
         ]
        }
       },
       "total_rows": 2
      },
      "text/html": [
       "<div>\n",
       "<style scoped>\n",
       "    .dataframe tbody tr th:only-of-type {\n",
       "        vertical-align: middle;\n",
       "    }\n",
       "\n",
       "    .dataframe tbody tr th {\n",
       "        vertical-align: top;\n",
       "    }\n",
       "\n",
       "    .dataframe thead th {\n",
       "        text-align: right;\n",
       "    }\n",
       "</style>\n",
       "<table border=\"1\" class=\"dataframe\">\n",
       "  <thead>\n",
       "    <tr style=\"text-align: right;\">\n",
       "      <th></th>\n",
       "      <th>epoch</th>\n",
       "      <th>train_loss</th>\n",
       "      <th>train_accuracy</th>\n",
       "      <th>val_loss</th>\n",
       "      <th>val_accuracy</th>\n",
       "    </tr>\n",
       "  </thead>\n",
       "  <tbody>\n",
       "    <tr>\n",
       "      <th>0</th>\n",
       "      <td>0</td>\n",
       "      <td>0.607338</td>\n",
       "      <td>0.681960</td>\n",
       "      <td>0.553030</td>\n",
       "      <td>0.683428</td>\n",
       "    </tr>\n",
       "    <tr>\n",
       "      <th>1</th>\n",
       "      <td>1</td>\n",
       "      <td>0.471365</td>\n",
       "      <td>0.755029</td>\n",
       "      <td>0.440463</td>\n",
       "      <td>0.777181</td>\n",
       "    </tr>\n",
       "  </tbody>\n",
       "</table>\n",
       "</div>"
      ],
      "text/plain": [
       "   epoch  train_loss  train_accuracy  val_loss  val_accuracy\n",
       "0      0    0.607338        0.681960  0.553030      0.683428\n",
       "1      1    0.471365        0.755029  0.440463      0.777181"
      ]
     },
     "execution_count": 74,
     "metadata": {},
     "output_type": "execute_result"
    }
   ],
   "source": [
    "df_mod_history"
   ]
  },
  {
   "cell_type": "markdown",
   "id": "75b82fb7-cc4f-4144-b687-4db18a8151b4",
   "metadata": {},
   "source": [
    "Let's do a quick viz on the accuracy over the two epochs."
   ]
  },
  {
   "cell_type": "code",
   "execution_count": 75,
   "id": "3e6cc973-5373-433f-b8c2-a622ac601099",
   "metadata": {},
   "outputs": [
    {
     "data": {
      "image/png": "[encoded data removed]",
      "text/plain": [
       "<Figure size 432x288 with 1 Axes>"
      ]
     },
     "metadata": {
      "needs_background": "light"
     },
     "output_type": "display_data"
    }
   ],
   "source": [
    "_ = sns.lineplot(data=df_mod_history, x='epoch', y='train_accuracy')\n",
    "_ = sns.lineplot(data=df_mod_history, x='epoch', y='val_accuracy')\n",
    "# _.set(ylim=(min_y,1))\n",
    "_.set_ylabel(\"Accuracy\")\n",
    "plt.legend(labels=[\"Train\",\"Validation\"])\n",
    "plt.show()"
   ]
  },
  {
   "cell_type": "markdown",
   "id": "0f6e79cb-e3f0-455a-82ac-6f648bd6e434",
   "metadata": {},
   "source": [
    "Let's evaluate the model on the *test* set."
   ]
  },
  {
   "cell_type": "code",
   "execution_count": 76,
   "id": "1f17c33f-6312-4dbc-85a7-dbb6c0f15da1",
   "metadata": {
    "tags": []
   },
   "outputs": [
    {
     "name": "stdout",
     "output_type": "stream",
     "text": [
      "2213/2213 [==============================] - 2s 688us/step - loss: 0.4376 - accuracy: 0.7804\n",
      "Accuracy: 0.7804426550865173\n"
     ]
    }
   ],
   "source": [
    "# Evaluate model accuracy on the test set\n",
    "accuracy = model.evaluate(X_test, y_test)[1]\n",
    "\n",
    "# Print accuracy\n",
    "print('Accuracy:', accuracy)"
   ]
  },
  {
   "cell_type": "markdown",
   "id": "c6355848-fc6d-4da7-97b6-99a35e0d8ca9",
   "metadata": {},
   "source": [
    "Test accuracy of .74 is in line with what we saw out of train/val (.72/0.75).\n",
    "\n",
    "Now that we created a single model as a warmup, let's try to hone in on a good candidate using Random Hyperparameter Search."
   ]
  },
  {
   "cell_type": "markdown",
   "id": "64371874-6ccb-4dcd-9988-efc4d1d60c22",
   "metadata": {},
   "source": [
    "---  \n",
    "\n",
    "<span style=\"font-size:0.5em;\">Tag 3</span>\n",
    "\n",
    "### Random Hyperparameter Search<a id='random_search'></a>\n",
    "\n",
    "<span style=\"font-size:0.5em;\"><a href='#toc'>Back to TOC</a></span>"
   ]
  },
  {
   "cell_type": "markdown",
   "id": "d32db77e-0954-4e50-b131-6f588e283aff",
   "metadata": {},
   "source": [
    "#### Preparation\n",
    "\n",
    "Let's create functions for:\n",
    "- Model build\n",
    "\n",
    "In reviewing methodology to use `keras` with `sklearn`, I found `scikeras`. Their [tutorial](https://www.adriangb.com/scikeras/stable/notebooks/Basic_Usage.html#4.2-Saving-using-Keras-saving-methods) has a lot of good examples on how to leverage `sklearn` functionality but use Keras models, so alot of the following will be leveraging those example codes."
   ]
  },
  {
   "cell_type": "markdown",
   "id": "486a1c5b-763e-437a-a543-cfcffe4d012d",
   "metadata": {},
   "source": [
    "Create model build function to create a binary classification neural network model that ingests the current set of parameters."
   ]
  },
  {
   "cell_type": "code",
   "execution_count": 77,
   "id": "4eac9251-048f-494e-8e56-3fdab59fa647",
   "metadata": {},
   "outputs": [],
   "source": [
    "# Full credit to scikeras tutorial (see 2.2 in 'tutorial' link above)\n",
    "def get_clf(meta, hidden_layer_sizes, dropout):\n",
    "    n_features_in_ = meta[\"n_features_in_\"]\n",
    "    n_classes_ = meta[\"n_classes_\"]\n",
    "    model = keras.models.Sequential()\n",
    "    model.add(keras.layers.Input(shape=(n_features_in_,)))\n",
    "    for hidden_layer_size in hidden_layer_sizes:\n",
    "        model.add(keras.layers.Dense(hidden_layer_size, activation=\"relu\"))\n",
    "        model.add(keras.layers.Dropout(dropout))\n",
    "    model.add(keras.layers.Dense(1, activation=\"sigmoid\"))\n",
    "    return model"
   ]
  },
  {
   "cell_type": "markdown",
   "id": "9c13fc67-792c-40a8-8650-5e2178986208",
   "metadata": {},
   "source": [
    "Instantiate a `scikeras` classifier:"
   ]
  },
  {
   "cell_type": "code",
   "execution_count": 78,
   "id": "abdca066-0f5a-41f1-b2b2-e8bea3d866b6",
   "metadata": {},
   "outputs": [],
   "source": [
    "clf = KerasClassifier(\n",
    "    model=get_clf,\n",
    "    loss=\"binary_crossentropy\",\n",
    "    optimizer=\"adam\",\n",
    "    optimizer__lr=0.1,\n",
    "    model__hidden_layer_sizes=(100,),\n",
    "    model__dropout=0.5,\n",
    "    verbose=True,\n",
    "    metrics=['binary_accuracy'],\n",
    "    validation_split=0.10\n",
    ")\n",
    "\n",
    "# clf.fit(X_train, y_train)"
   ]
  },
  {
   "cell_type": "markdown",
   "id": "a30f6bad-f5e2-43b0-a86b-a39cc5b84c2e",
   "metadata": {},
   "source": [
    "Let's create a grid of parameters and do a random search to identify the most promising combination.\n"
   ]
  },
  {
   "cell_type": "markdown",
   "id": "5602d0de-e493-44af-9824-6bd90395590f",
   "metadata": {},
   "source": [
    "Create `dict` of parameters to perform random search on."
   ]
  },
  {
   "cell_type": "code",
   "execution_count": 79,
   "id": "11c6fda6-91f1-4097-b0d1-cfbec538c5d8",
   "metadata": {},
   "outputs": [],
   "source": [
    "params = {\n",
    "    'optimizer__lr': [0.001, 0.01, 0.05, 0.5],\n",
    "    'model__hidden_layer_sizes': [(100,), (50, 50, )],\n",
    "    'model__dropout': [0, 0.5],\n",
    "    'epochs': [2, 3, 5],\n",
    "    'batch_size': [32, 128, 256]\n",
    "}"
   ]
  },
  {
   "cell_type": "markdown",
   "id": "eec5f704-4d49-4294-8cf0-e13393d6690e",
   "metadata": {},
   "source": [
    "Instantiate the `RandomSearchCV` object:"
   ]
  },
  {
   "cell_type": "code",
   "execution_count": 80,
   "id": "86bb9e12-97cc-411b-bd5e-8b7c54146ee0",
   "metadata": {
    "tags": []
   },
   "outputs": [],
   "source": [
    "rs = RandomizedSearchCV(estimator=clf\n",
    "                        ,param_distributions=params\n",
    "                        ,cv=5\n",
    "                        ,refit=True\n",
    "                        ,verbose=True\n",
    "                        )"
   ]
  },
  {
   "cell_type": "markdown",
   "id": "b6bba49d-298c-40a5-a607-d1770c650cee",
   "metadata": {},
   "source": [
    "Fit to the training data!"
   ]
  },
  {
   "cell_type": "code",
   "execution_count": 81,
   "id": "23d9e894-be03-4715-8a17-c82d402e0168",
   "metadata": {
    "tags": []
   },
   "outputs": [
    {
     "name": "stdout",
     "output_type": "stream",
     "text": [
      "Fitting 5 folds for each of 10 candidates, totalling 50 fits\n",
      "Epoch 1/3\n",
      "797/797 [==============================] - 2s 2ms/step - loss: 0.2393 - binary_accuracy: 0.8955 - val_loss: 0.1702 - val_binary_accuracy: 0.9296\n",
      "Epoch 2/3\n",
      "797/797 [==============================] - 2s 2ms/step - loss: 0.1973 - binary_accuracy: 0.9164 - val_loss: 0.1682 - val_binary_accuracy: 0.9303\n",
      "Epoch 3/3\n",
      "797/797 [==============================] - 1s 2ms/step - loss: 0.1936 - binary_accuracy: 0.9183 - val_loss: 0.1667 - val_binary_accuracy: 0.9306\n",
      "222/222 [==============================] - 0s 570us/step\n",
      "Epoch 1/3\n",
      "797/797 [==============================] - 2s 2ms/step - loss: 0.2414 - binary_accuracy: 0.8941 - val_loss: 0.1711 - val_binary_accuracy: 0.9273\n",
      "Epoch 2/3\n",
      "797/797 [==============================] - 2s 2ms/step - loss: 0.2001 - binary_accuracy: 0.9166 - val_loss: 0.1680 - val_binary_accuracy: 0.9296\n",
      "Epoch 3/3\n",
      "797/797 [==============================] - 1s 2ms/step - loss: 0.1957 - binary_accuracy: 0.9178 - val_loss: 0.1666 - val_binary_accuracy: 0.9300\n",
      "222/222 [==============================] - 0s 595us/step\n",
      "Epoch 1/3\n",
      "797/797 [==============================] - 2s 2ms/step - loss: 0.2332 - binary_accuracy: 0.8987 - val_loss: 0.1759 - val_binary_accuracy: 0.9263\n",
      "Epoch 2/3\n",
      "797/797 [==============================] - 2s 2ms/step - loss: 0.1951 - binary_accuracy: 0.9185 - val_loss: 0.1662 - val_binary_accuracy: 0.9308\n",
      "Epoch 3/3\n",
      "797/797 [==============================] - 2s 2ms/step - loss: 0.1924 - binary_accuracy: 0.9191 - val_loss: 0.1692 - val_binary_accuracy: 0.9296\n",
      "222/222 [==============================] - 0s 595us/step\n",
      "Epoch 1/3\n",
      "797/797 [==============================] - 2s 2ms/step - loss: 0.2433 - binary_accuracy: 0.8927 - val_loss: 0.1707 - val_binary_accuracy: 0.9292\n",
      "Epoch 2/3\n",
      "797/797 [==============================] - 2s 2ms/step - loss: 0.1994 - binary_accuracy: 0.9165 - val_loss: 0.1682 - val_binary_accuracy: 0.9290\n",
      "Epoch 3/3\n",
      "797/797 [==============================] - 1s 2ms/step - loss: 0.1963 - binary_accuracy: 0.9179 - val_loss: 0.1664 - val_binary_accuracy: 0.9303\n",
      "222/222 [==============================] - 0s 590us/step\n",
      "Epoch 1/3\n",
      "797/797 [==============================] - 2s 2ms/step - loss: 0.2305 - binary_accuracy: 0.8995 - val_loss: 0.1702 - val_binary_accuracy: 0.9275\n",
      "Epoch 2/3\n",
      "797/797 [==============================] - 2s 2ms/step - loss: 0.1949 - binary_accuracy: 0.9181 - val_loss: 0.1702 - val_binary_accuracy: 0.9272\n",
      "Epoch 3/3\n",
      "797/797 [==============================] - 1s 2ms/step - loss: 0.1920 - binary_accuracy: 0.9201 - val_loss: 0.1686 - val_binary_accuracy: 0.9291\n",
      "222/222 [==============================] - 0s 591us/step\n",
      "Epoch 1/5\n",
      "6372/6372 [==============================] - 9s 1ms/step - loss: 0.6490 - binary_accuracy: 0.6870 - val_loss: 0.6243 - val_binary_accuracy: 0.6841\n",
      "Epoch 2/5\n",
      "6372/6372 [==============================] - 8s 1ms/step - loss: 0.6294 - binary_accuracy: 0.6871 - val_loss: 0.6477 - val_binary_accuracy: 0.6841\n",
      "Epoch 3/5\n",
      "6372/6372 [==============================] - 8s 1ms/step - loss: 0.6300 - binary_accuracy: 0.6865 - val_loss: 0.6285 - val_binary_accuracy: 0.6841\n",
      "Epoch 4/5\n",
      "6372/6372 [==============================] - 8s 1ms/step - loss: 0.6299 - binary_accuracy: 0.6862 - val_loss: 0.6345 - val_binary_accuracy: 0.6841\n",
      "Epoch 5/5\n",
      "6372/6372 [==============================] - 8s 1ms/step - loss: 0.6300 - binary_accuracy: 0.6865 - val_loss: 0.6364 - val_binary_accuracy: 0.6841\n",
      "1770/1770 [==============================] - 1s 600us/step\n",
      "Epoch 1/5\n",
      "6372/6372 [==============================] - 8s 1ms/step - loss: 0.6600 - binary_accuracy: 0.6870 - val_loss: 0.6381 - val_binary_accuracy: 0.6841\n",
      "Epoch 2/5\n",
      "6372/6372 [==============================] - 8s 1ms/step - loss: 0.6442 - binary_accuracy: 0.6866 - val_loss: 0.6270 - val_binary_accuracy: 0.6841\n",
      "Epoch 3/5\n",
      "6372/6372 [==============================] - 8s 1ms/step - loss: 0.6295 - binary_accuracy: 0.6870 - val_loss: 0.6271 - val_binary_accuracy: 0.6841\n",
      "Epoch 4/5\n",
      "6372/6372 [==============================] - 8s 1ms/step - loss: 0.6300 - binary_accuracy: 0.6868 - val_loss: 0.6485 - val_binary_accuracy: 0.6841\n",
      "Epoch 5/5\n",
      "6372/6372 [==============================] - 8s 1ms/step - loss: 0.6288 - binary_accuracy: 0.6872 - val_loss: 0.6276 - val_binary_accuracy: 0.6841\n",
      "1770/1770 [==============================] - 1s 581us/step\n",
      "Epoch 1/5\n",
      "6372/6372 [==============================] - 9s 1ms/step - loss: 0.7053 - binary_accuracy: 0.6858 - val_loss: 0.6243 - val_binary_accuracy: 0.6841\n",
      "Epoch 2/5\n",
      "6372/6372 [==============================] - 8s 1ms/step - loss: 0.6294 - binary_accuracy: 0.6871 - val_loss: 0.6245 - val_binary_accuracy: 0.6841\n",
      "Epoch 3/5\n",
      "6372/6372 [==============================] - 8s 1ms/step - loss: 0.6292 - binary_accuracy: 0.6873 - val_loss: 0.6274 - val_binary_accuracy: 0.6841\n",
      "Epoch 4/5\n",
      "6372/6372 [==============================] - 8s 1ms/step - loss: 0.6301 - binary_accuracy: 0.6863 - val_loss: 0.7112 - val_binary_accuracy: 0.6841\n",
      "Epoch 5/5\n",
      "6372/6372 [==============================] - 8s 1ms/step - loss: 0.6293 - binary_accuracy: 0.6865 - val_loss: 0.6432 - val_binary_accuracy: 0.6841\n",
      "1770/1770 [==============================] - 1s 597us/step\n",
      "Epoch 1/5\n",
      "6372/6372 [==============================] - 8s 1ms/step - loss: 0.6562 - binary_accuracy: 0.6867 - val_loss: 0.6321 - val_binary_accuracy: 0.6841\n",
      "Epoch 2/5\n",
      "6372/6372 [==============================] - 8s 1ms/step - loss: 0.6294 - binary_accuracy: 0.6869 - val_loss: 0.6241 - val_binary_accuracy: 0.6841\n",
      "Epoch 3/5\n",
      "6372/6372 [==============================] - 8s 1ms/step - loss: 0.6297 - binary_accuracy: 0.6867 - val_loss: 0.6358 - val_binary_accuracy: 0.6841\n",
      "Epoch 4/5\n",
      "6372/6372 [==============================] - 8s 1ms/step - loss: 0.6297 - binary_accuracy: 0.6863 - val_loss: 0.7068 - val_binary_accuracy: 0.6841\n",
      "Epoch 5/5\n",
      "6372/6372 [==============================] - 8s 1ms/step - loss: 0.6296 - binary_accuracy: 0.6867 - val_loss: 0.6261 - val_binary_accuracy: 0.6841\n",
      "1770/1770 [==============================] - 1s 608us/step\n",
      "Epoch 1/5\n",
      "6372/6372 [==============================] - 8s 1ms/step - loss: 0.6505 - binary_accuracy: 0.6872 - val_loss: 0.6836 - val_binary_accuracy: 0.6795\n",
      "Epoch 2/5\n",
      "6372/6372 [==============================] - 8s 1ms/step - loss: 0.6296 - binary_accuracy: 0.6875 - val_loss: 0.6407 - val_binary_accuracy: 0.6795\n",
      "Epoch 3/5\n",
      "6372/6372 [==============================] - 8s 1ms/step - loss: 0.6295 - binary_accuracy: 0.6876 - val_loss: 0.6517 - val_binary_accuracy: 0.6795\n",
      "Epoch 4/5\n",
      "6372/6372 [==============================] - 8s 1ms/step - loss: 0.6289 - binary_accuracy: 0.6874 - val_loss: 0.6430 - val_binary_accuracy: 0.6795\n",
      "Epoch 5/5\n",
      "6372/6372 [==============================] - 8s 1ms/step - loss: 0.6291 - binary_accuracy: 0.6874 - val_loss: 0.6334 - val_binary_accuracy: 0.6795\n",
      "1770/1770 [==============================] - 1s 630us/step\n",
      "Epoch 1/3\n",
      "6372/6372 [==============================] - 8s 1ms/step - loss: 0.1859 - binary_accuracy: 0.9180 - val_loss: 0.1768 - val_binary_accuracy: 0.9217\n",
      "Epoch 2/3\n",
      "6372/6372 [==============================] - 8s 1ms/step - loss: 0.1716 - binary_accuracy: 0.9249 - val_loss: 0.1673 - val_binary_accuracy: 0.9279\n",
      "Epoch 3/3\n",
      "6372/6372 [==============================] - 8s 1ms/step - loss: 0.1678 - binary_accuracy: 0.9268 - val_loss: 0.1665 - val_binary_accuracy: 0.9276\n",
      "1770/1770 [==============================] - 1s 580us/step\n",
      "Epoch 1/3\n",
      "6372/6372 [==============================] - 8s 1ms/step - loss: 0.1868 - binary_accuracy: 0.9182 - val_loss: 0.1698 - val_binary_accuracy: 0.9255\n",
      "Epoch 2/3\n",
      "6372/6372 [==============================] - 8s 1ms/step - loss: 0.1720 - binary_accuracy: 0.9248 - val_loss: 0.1738 - val_binary_accuracy: 0.9247\n",
      "Epoch 3/3\n",
      "6372/6372 [==============================] - 8s 1ms/step - loss: 0.1689 - binary_accuracy: 0.9264 - val_loss: 0.1639 - val_binary_accuracy: 0.9288\n",
      "1770/1770 [==============================] - 1s 562us/step\n",
      "Epoch 1/3\n",
      "6372/6372 [==============================] - 8s 1ms/step - loss: 0.1867 - binary_accuracy: 0.9178 - val_loss: 0.1716 - val_binary_accuracy: 0.9250\n",
      "Epoch 2/3\n",
      "6372/6372 [==============================] - 8s 1ms/step - loss: 0.1722 - binary_accuracy: 0.9247 - val_loss: 0.1619 - val_binary_accuracy: 0.9296\n",
      "Epoch 3/3\n",
      "6372/6372 [==============================] - 8s 1ms/step - loss: 0.1676 - binary_accuracy: 0.9266 - val_loss: 0.1638 - val_binary_accuracy: 0.9286\n",
      "1770/1770 [==============================] - 1s 581us/step\n",
      "Epoch 1/3\n",
      "6372/6372 [==============================] - 8s 1ms/step - loss: 0.1874 - binary_accuracy: 0.9182 - val_loss: 0.1629 - val_binary_accuracy: 0.9283\n",
      "Epoch 2/3\n",
      "6372/6372 [==============================] - 8s 1ms/step - loss: 0.1724 - binary_accuracy: 0.9249 - val_loss: 0.1628 - val_binary_accuracy: 0.9291\n",
      "Epoch 3/3\n",
      "6372/6372 [==============================] - 8s 1ms/step - loss: 0.1690 - binary_accuracy: 0.9264 - val_loss: 0.1628 - val_binary_accuracy: 0.9294\n",
      "1770/1770 [==============================] - 1s 574us/step\n",
      "Epoch 1/3\n",
      "6372/6372 [==============================] - 8s 1ms/step - loss: 0.1855 - binary_accuracy: 0.9181 - val_loss: 0.1712 - val_binary_accuracy: 0.9240\n",
      "Epoch 2/3\n",
      "6372/6372 [==============================] - 8s 1ms/step - loss: 0.1713 - binary_accuracy: 0.9252 - val_loss: 0.1677 - val_binary_accuracy: 0.9255\n",
      "Epoch 3/3\n",
      "6372/6372 [==============================] - 8s 1ms/step - loss: 0.1681 - binary_accuracy: 0.9268 - val_loss: 0.1690 - val_binary_accuracy: 0.9243\n",
      "1770/1770 [==============================] - 1s 560us/step\n",
      "Epoch 1/3\n",
      "6372/6372 [==============================] - 8s 1ms/step - loss: 0.2026 - binary_accuracy: 0.9127 - val_loss: 0.1745 - val_binary_accuracy: 0.9244\n",
      "Epoch 2/3\n",
      "6372/6372 [==============================] - 8s 1ms/step - loss: 0.1839 - binary_accuracy: 0.9210 - val_loss: 0.1673 - val_binary_accuracy: 0.9267\n",
      "Epoch 3/3\n",
      "6372/6372 [==============================] - 8s 1ms/step - loss: 0.1847 - binary_accuracy: 0.9230 - val_loss: 0.1798 - val_binary_accuracy: 0.9237\n",
      "1770/1770 [==============================] - 1s 584us/step\n",
      "Epoch 1/3\n",
      "6372/6372 [==============================] - 8s 1ms/step - loss: 0.2010 - binary_accuracy: 0.9128 - val_loss: 0.1852 - val_binary_accuracy: 0.9219\n",
      "Epoch 2/3\n",
      "6372/6372 [==============================] - 8s 1ms/step - loss: 0.1839 - binary_accuracy: 0.9202 - val_loss: 0.1671 - val_binary_accuracy: 0.9256\n",
      "Epoch 3/3\n",
      "6372/6372 [==============================] - 8s 1ms/step - loss: 0.1819 - binary_accuracy: 0.9213 - val_loss: 0.1674 - val_binary_accuracy: 0.9264\n",
      "1770/1770 [==============================] - 1s 563us/step\n",
      "Epoch 1/3\n",
      "6372/6372 [==============================] - 8s 1ms/step - loss: 0.2006 - binary_accuracy: 0.9131 - val_loss: 0.1922 - val_binary_accuracy: 0.9189\n",
      "Epoch 2/3\n",
      "6372/6372 [==============================] - 8s 1ms/step - loss: 0.1831 - binary_accuracy: 0.9205 - val_loss: 0.1702 - val_binary_accuracy: 0.9256\n",
      "Epoch 3/3\n",
      "6372/6372 [==============================] - 8s 1ms/step - loss: 0.1820 - binary_accuracy: 0.9208 - val_loss: 0.1739 - val_binary_accuracy: 0.9235\n",
      "1770/1770 [==============================] - 1s 599us/step\n",
      "Epoch 1/3\n",
      "6372/6372 [==============================] - 8s 1ms/step - loss: 0.1982 - binary_accuracy: 0.9137 - val_loss: 0.1766 - val_binary_accuracy: 0.9229\n",
      "Epoch 2/3\n",
      "6372/6372 [==============================] - 8s 1ms/step - loss: 0.1838 - binary_accuracy: 0.9209 - val_loss: 0.1857 - val_binary_accuracy: 0.9215\n",
      "Epoch 3/3\n",
      "6372/6372 [==============================] - 8s 1ms/step - loss: 0.1818 - binary_accuracy: 0.9210 - val_loss: 0.1812 - val_binary_accuracy: 0.9191\n",
      "1770/1770 [==============================] - 1s 572us/step\n",
      "Epoch 1/3\n",
      "6372/6372 [==============================] - 8s 1ms/step - loss: 0.1980 - binary_accuracy: 0.9141 - val_loss: 0.1811 - val_binary_accuracy: 0.9189\n",
      "Epoch 2/3\n",
      "6372/6372 [==============================] - 8s 1ms/step - loss: 0.1820 - binary_accuracy: 0.9211 - val_loss: 0.1870 - val_binary_accuracy: 0.9165\n",
      "Epoch 3/3\n",
      "6372/6372 [==============================] - 8s 1ms/step - loss: 0.1804 - binary_accuracy: 0.9220 - val_loss: 0.1725 - val_binary_accuracy: 0.9238\n",
      "1770/1770 [==============================] - 1s 556us/step\n",
      "Epoch 1/2\n",
      "6372/6372 [==============================] - 8s 1ms/step - loss: 0.1845 - binary_accuracy: 0.9192 - val_loss: 0.1661 - val_binary_accuracy: 0.9263\n",
      "Epoch 2/2\n",
      "6372/6372 [==============================] - 8s 1ms/step - loss: 0.1694 - binary_accuracy: 0.9257 - val_loss: 0.1785 - val_binary_accuracy: 0.9224\n",
      "1770/1770 [==============================] - 1s 594us/step\n",
      "Epoch 1/2\n",
      "6372/6372 [==============================] - 8s 1ms/step - loss: 0.1859 - binary_accuracy: 0.9184 - val_loss: 0.1665 - val_binary_accuracy: 0.9284\n",
      "Epoch 2/2\n",
      "6372/6372 [==============================] - 8s 1ms/step - loss: 0.1699 - binary_accuracy: 0.9259 - val_loss: 0.1617 - val_binary_accuracy: 0.9288\n",
      "1770/1770 [==============================] - 1s 575us/step\n",
      "Epoch 1/2\n",
      "6372/6372 [==============================] - 8s 1ms/step - loss: 0.1850 - binary_accuracy: 0.9190 - val_loss: 0.1680 - val_binary_accuracy: 0.9280\n",
      "Epoch 2/2\n",
      "6372/6372 [==============================] - 8s 1ms/step - loss: 0.1698 - binary_accuracy: 0.9256 - val_loss: 0.1733 - val_binary_accuracy: 0.9231\n",
      "1770/1770 [==============================] - 1s 610us/step\n",
      "Epoch 1/2\n",
      "6372/6372 [==============================] - 8s 1ms/step - loss: 0.1855 - binary_accuracy: 0.9186 - val_loss: 0.1634 - val_binary_accuracy: 0.9293\n",
      "Epoch 2/2\n",
      "6372/6372 [==============================] - 8s 1ms/step - loss: 0.1700 - binary_accuracy: 0.9260 - val_loss: 0.1649 - val_binary_accuracy: 0.9288\n",
      "1770/1770 [==============================] - 1s 590us/step\n",
      "Epoch 1/2\n",
      "6372/6372 [==============================] - 8s 1ms/step - loss: 0.1836 - binary_accuracy: 0.9194 - val_loss: 0.1780 - val_binary_accuracy: 0.9206\n",
      "Epoch 2/2\n",
      "6372/6372 [==============================] - 8s 1ms/step - loss: 0.1681 - binary_accuracy: 0.9272 - val_loss: 0.1662 - val_binary_accuracy: 0.9252\n",
      "1770/1770 [==============================] - 1s 596us/step\n",
      "Epoch 1/2\n",
      "797/797 [==============================] - 2s 2ms/step - loss: 0.2428 - binary_accuracy: 0.8936 - val_loss: 0.1693 - val_binary_accuracy: 0.9293\n",
      "Epoch 2/2\n",
      "797/797 [==============================] - 2s 2ms/step - loss: 0.1976 - binary_accuracy: 0.9174 - val_loss: 0.1667 - val_binary_accuracy: 0.9297\n",
      "222/222 [==============================] - 0s 615us/step\n",
      "Epoch 1/2\n",
      "797/797 [==============================] - 3s 2ms/step - loss: 0.2410 - binary_accuracy: 0.8946 - val_loss: 0.1655 - val_binary_accuracy: 0.9316\n",
      "Epoch 2/2\n",
      "797/797 [==============================] - 2s 2ms/step - loss: 0.1978 - binary_accuracy: 0.9167 - val_loss: 0.1690 - val_binary_accuracy: 0.9281\n",
      "222/222 [==============================] - 0s 709us/step\n",
      "Epoch 1/2\n",
      "797/797 [==============================] - 2s 2ms/step - loss: 0.2457 - binary_accuracy: 0.8918 - val_loss: 0.1724 - val_binary_accuracy: 0.9293\n",
      "Epoch 2/2\n",
      "797/797 [==============================] - 1s 2ms/step - loss: 0.1981 - binary_accuracy: 0.9180 - val_loss: 0.1739 - val_binary_accuracy: 0.9296\n",
      "222/222 [==============================] - 0s 612us/step\n",
      "Epoch 1/2\n",
      "797/797 [==============================] - 2s 2ms/step - loss: 0.2406 - binary_accuracy: 0.8947 - val_loss: 0.1738 - val_binary_accuracy: 0.9278\n",
      "Epoch 2/2\n",
      "797/797 [==============================] - 1s 2ms/step - loss: 0.1975 - binary_accuracy: 0.9173 - val_loss: 0.1687 - val_binary_accuracy: 0.9303\n",
      "222/222 [==============================] - 0s 593us/step\n",
      "Epoch 1/2\n",
      "797/797 [==============================] - 2s 2ms/step - loss: 0.2497 - binary_accuracy: 0.8898 - val_loss: 0.1751 - val_binary_accuracy: 0.9251\n",
      "Epoch 2/2\n",
      "797/797 [==============================] - 2s 2ms/step - loss: 0.2004 - binary_accuracy: 0.9164 - val_loss: 0.1709 - val_binary_accuracy: 0.9267\n",
      "222/222 [==============================] - 0s 612us/step\n",
      "Epoch 1/3\n",
      "1593/1593 [==============================] - 3s 2ms/step - loss: 0.2437 - binary_accuracy: 0.8943 - val_loss: 0.1766 - val_binary_accuracy: 0.9273\n",
      "Epoch 2/3\n",
      "1593/1593 [==============================] - 2s 1ms/step - loss: 0.2055 - binary_accuracy: 0.9147 - val_loss: 0.1781 - val_binary_accuracy: 0.9243\n",
      "Epoch 3/3\n",
      "1593/1593 [==============================] - 2s 1ms/step - loss: 0.2016 - binary_accuracy: 0.9161 - val_loss: 0.1964 - val_binary_accuracy: 0.9190\n",
      "443/443 [==============================] - 0s 600us/step\n",
      "Epoch 1/3\n",
      "1593/1593 [==============================] - 3s 2ms/step - loss: 0.2406 - binary_accuracy: 0.8961 - val_loss: 0.1742 - val_binary_accuracy: 0.9275\n",
      "Epoch 2/3\n",
      "1593/1593 [==============================] - 2s 1ms/step - loss: 0.2026 - binary_accuracy: 0.9148 - val_loss: 0.2013 - val_binary_accuracy: 0.9185\n",
      "Epoch 3/3\n",
      "1593/1593 [==============================] - 2s 1ms/step - loss: 0.2002 - binary_accuracy: 0.9167 - val_loss: 0.1752 - val_binary_accuracy: 0.9280\n",
      "443/443 [==============================] - 0s 605us/step\n",
      "Epoch 1/3\n",
      "1593/1593 [==============================] - 3s 2ms/step - loss: 0.2423 - binary_accuracy: 0.8959 - val_loss: 0.1733 - val_binary_accuracy: 0.9281\n",
      "Epoch 2/3\n",
      "1593/1593 [==============================] - 2s 1ms/step - loss: 0.2070 - binary_accuracy: 0.9137 - val_loss: 0.1823 - val_binary_accuracy: 0.9256\n",
      "Epoch 3/3\n",
      "1593/1593 [==============================] - 2s 1ms/step - loss: 0.2011 - binary_accuracy: 0.9163 - val_loss: 0.1875 - val_binary_accuracy: 0.9209\n",
      "443/443 [==============================] - 0s 623us/step\n",
      "Epoch 1/3\n",
      "1593/1593 [==============================] - 3s 2ms/step - loss: 0.2398 - binary_accuracy: 0.8958 - val_loss: 0.1762 - val_binary_accuracy: 0.9250\n",
      "Epoch 2/3\n",
      "1593/1593 [==============================] - 2s 2ms/step - loss: 0.2030 - binary_accuracy: 0.9153 - val_loss: 0.1712 - val_binary_accuracy: 0.9278\n",
      "Epoch 3/3\n",
      "1593/1593 [==============================] - 2s 2ms/step - loss: 0.1982 - binary_accuracy: 0.9177 - val_loss: 0.1726 - val_binary_accuracy: 0.9279\n",
      "443/443 [==============================] - 0s 608us/step\n",
      "Epoch 1/3\n",
      "1593/1593 [==============================] - 3s 2ms/step - loss: 0.2443 - binary_accuracy: 0.8947 - val_loss: 0.1727 - val_binary_accuracy: 0.9250\n",
      "Epoch 2/3\n",
      "1593/1593 [==============================] - 2s 1ms/step - loss: 0.2067 - binary_accuracy: 0.9145 - val_loss: 0.1945 - val_binary_accuracy: 0.9202\n",
      "Epoch 3/3\n",
      "1593/1593 [==============================] - 2s 2ms/step - loss: 0.2017 - binary_accuracy: 0.9163 - val_loss: 0.1794 - val_binary_accuracy: 0.9246\n",
      "443/443 [==============================] - 0s 620us/step\n",
      "Epoch 1/2\n",
      "797/797 [==============================] - 2s 2ms/step - loss: 0.1935 - binary_accuracy: 0.9140 - val_loss: 0.1886 - val_binary_accuracy: 0.9195\n",
      "Epoch 2/2\n",
      "797/797 [==============================] - 1s 2ms/step - loss: 0.1705 - binary_accuracy: 0.9256 - val_loss: 0.1691 - val_binary_accuracy: 0.9256\n",
      "222/222 [==============================] - 0s 649us/step\n",
      "Epoch 1/2\n",
      "797/797 [==============================] - 2s 2ms/step - loss: 0.1953 - binary_accuracy: 0.9137 - val_loss: 0.1732 - val_binary_accuracy: 0.9249\n",
      "Epoch 2/2\n",
      "797/797 [==============================] - 1s 2ms/step - loss: 0.1716 - binary_accuracy: 0.9248 - val_loss: 0.1680 - val_binary_accuracy: 0.9266\n",
      "222/222 [==============================] - 0s 628us/step\n",
      "Epoch 1/2\n",
      "797/797 [==============================] - 2s 2ms/step - loss: 0.2030 - binary_accuracy: 0.9103 - val_loss: 0.1696 - val_binary_accuracy: 0.9253\n",
      "Epoch 2/2\n",
      "797/797 [==============================] - 1s 2ms/step - loss: 0.1691 - binary_accuracy: 0.9263 - val_loss: 0.1692 - val_binary_accuracy: 0.9266\n",
      "222/222 [==============================] - 0s 624us/step\n",
      "Epoch 1/2\n",
      "797/797 [==============================] - 2s 2ms/step - loss: 0.1952 - binary_accuracy: 0.9139 - val_loss: 0.1726 - val_binary_accuracy: 0.9250\n",
      "Epoch 2/2\n",
      "797/797 [==============================] - 1s 2ms/step - loss: 0.1724 - binary_accuracy: 0.9252 - val_loss: 0.1664 - val_binary_accuracy: 0.9281\n",
      "222/222 [==============================] - 0s 615us/step\n",
      "Epoch 1/2\n",
      "797/797 [==============================] - 2s 2ms/step - loss: 0.1962 - binary_accuracy: 0.9133 - val_loss: 0.1805 - val_binary_accuracy: 0.9190\n",
      "Epoch 2/2\n",
      "797/797 [==============================] - 1s 2ms/step - loss: 0.1704 - binary_accuracy: 0.9260 - val_loss: 0.1753 - val_binary_accuracy: 0.9231\n",
      "222/222 [==============================] - 0s 619us/step\n",
      "Epoch 1/5\n",
      "1593/1593 [==============================] - 3s 2ms/step - loss: 0.3048 - binary_accuracy: 0.8700 - val_loss: 0.2238 - val_binary_accuracy: 0.9066\n",
      "Epoch 2/5\n",
      "1593/1593 [==============================] - 2s 2ms/step - loss: 0.2876 - binary_accuracy: 0.8776 - val_loss: 0.2356 - val_binary_accuracy: 0.8750\n",
      "Epoch 3/5\n",
      "1593/1593 [==============================] - 2s 1ms/step - loss: 0.2941 - binary_accuracy: 0.8723 - val_loss: 0.2098 - val_binary_accuracy: 0.9161\n",
      "Epoch 4/5\n",
      "1593/1593 [==============================] - 2s 1ms/step - loss: 0.2912 - binary_accuracy: 0.8717 - val_loss: 0.2280 - val_binary_accuracy: 0.8749\n",
      "Epoch 5/5\n",
      "1593/1593 [==============================] - 2s 2ms/step - loss: 0.3104 - binary_accuracy: 0.8682 - val_loss: 0.2210 - val_binary_accuracy: 0.8938\n",
      "443/443 [==============================] - 0s 623us/step\n",
      "Epoch 1/5\n",
      "1593/1593 [==============================] - 3s 2ms/step - loss: 0.3058 - binary_accuracy: 0.8679 - val_loss: 0.2193 - val_binary_accuracy: 0.9152\n",
      "Epoch 2/5\n",
      "1593/1593 [==============================] - 2s 2ms/step - loss: 0.2910 - binary_accuracy: 0.8768 - val_loss: 0.2226 - val_binary_accuracy: 0.8932\n",
      "Epoch 3/5\n",
      "1593/1593 [==============================] - 2s 1ms/step - loss: 0.2991 - binary_accuracy: 0.8707 - val_loss: 0.2181 - val_binary_accuracy: 0.9170\n",
      "Epoch 4/5\n",
      "1593/1593 [==============================] - 2s 2ms/step - loss: 0.2938 - binary_accuracy: 0.8697 - val_loss: 0.2105 - val_binary_accuracy: 0.9162\n",
      "Epoch 5/5\n",
      "1593/1593 [==============================] - 2s 1ms/step - loss: 0.3059 - binary_accuracy: 0.8679 - val_loss: 0.2223 - val_binary_accuracy: 0.9090\n",
      "443/443 [==============================] - 0s 607us/step\n",
      "Epoch 1/5\n",
      "1593/1593 [==============================] - 3s 2ms/step - loss: 0.3076 - binary_accuracy: 0.8686 - val_loss: 0.2034 - val_binary_accuracy: 0.9176\n",
      "Epoch 2/5\n",
      "1593/1593 [==============================] - 2s 1ms/step - loss: 0.2903 - binary_accuracy: 0.8812 - val_loss: 0.2135 - val_binary_accuracy: 0.9192\n",
      "Epoch 3/5\n",
      "1593/1593 [==============================] - 2s 2ms/step - loss: 0.2978 - binary_accuracy: 0.8791 - val_loss: 0.2334 - val_binary_accuracy: 0.9052\n",
      "Epoch 4/5\n",
      "1593/1593 [==============================] - 2s 1ms/step - loss: 0.2880 - binary_accuracy: 0.8832 - val_loss: 0.2122 - val_binary_accuracy: 0.9192\n",
      "Epoch 5/5\n",
      "1593/1593 [==============================] - 2s 1ms/step - loss: 0.2912 - binary_accuracy: 0.8818 - val_loss: 0.2169 - val_binary_accuracy: 0.9175\n",
      "443/443 [==============================] - 0s 637us/step\n",
      "Epoch 1/5\n",
      "1593/1593 [==============================] - 3s 2ms/step - loss: 0.3023 - binary_accuracy: 0.8709 - val_loss: 0.2238 - val_binary_accuracy: 0.9113\n",
      "Epoch 2/5\n",
      "1593/1593 [==============================] - 2s 2ms/step - loss: 0.2884 - binary_accuracy: 0.8777 - val_loss: 0.2081 - val_binary_accuracy: 0.9069\n",
      "Epoch 3/5\n",
      "1593/1593 [==============================] - 2s 1ms/step - loss: 0.2976 - binary_accuracy: 0.8713 - val_loss: 0.2478 - val_binary_accuracy: 0.8465\n",
      "Epoch 4/5\n",
      "1593/1593 [==============================] - 2s 1ms/step - loss: 0.2955 - binary_accuracy: 0.8703 - val_loss: 0.2183 - val_binary_accuracy: 0.8767\n",
      "Epoch 5/5\n",
      "1593/1593 [==============================] - 2s 1ms/step - loss: 0.2982 - binary_accuracy: 0.8657 - val_loss: 0.2219 - val_binary_accuracy: 0.8926\n",
      "443/443 [==============================] - 0s 592us/step\n",
      "Epoch 1/5\n",
      "1593/1593 [==============================] - 3s 2ms/step - loss: 0.3034 - binary_accuracy: 0.8712 - val_loss: 0.2348 - val_binary_accuracy: 0.9034\n",
      "Epoch 2/5\n",
      "1593/1593 [==============================] - 2s 1ms/step - loss: 0.2968 - binary_accuracy: 0.8732 - val_loss: 0.1959 - val_binary_accuracy: 0.9171\n",
      "Epoch 3/5\n",
      "1593/1593 [==============================] - 2s 2ms/step - loss: 0.3019 - binary_accuracy: 0.8703 - val_loss: 0.2166 - val_binary_accuracy: 0.8872\n",
      "Epoch 4/5\n",
      "1593/1593 [==============================] - 2s 1ms/step - loss: 0.3001 - binary_accuracy: 0.8703 - val_loss: 0.2206 - val_binary_accuracy: 0.8921\n",
      "Epoch 5/5\n",
      "1593/1593 [==============================] - 2s 2ms/step - loss: 0.3138 - binary_accuracy: 0.8627 - val_loss: 0.2456 - val_binary_accuracy: 0.9056\n",
      "443/443 [==============================] - 0s 616us/step\n",
      "Epoch 1/5\n",
      "6372/6372 [==============================] - 9s 1ms/step - loss: 0.2432 - binary_accuracy: 0.8959 - val_loss: 0.1768 - val_binary_accuracy: 0.9247\n",
      "Epoch 2/5\n",
      "6372/6372 [==============================] - 8s 1ms/step - loss: 0.2169 - binary_accuracy: 0.9101 - val_loss: 0.1744 - val_binary_accuracy: 0.9273\n",
      "Epoch 3/5\n",
      "6372/6372 [==============================] - 8s 1ms/step - loss: 0.2147 - binary_accuracy: 0.9114 - val_loss: 0.1887 - val_binary_accuracy: 0.9246\n",
      "Epoch 4/5\n",
      "6372/6372 [==============================] - 8s 1ms/step - loss: 0.2135 - binary_accuracy: 0.9120 - val_loss: 0.1964 - val_binary_accuracy: 0.9276\n",
      "Epoch 5/5\n",
      "6372/6372 [==============================] - 8s 1ms/step - loss: 0.2125 - binary_accuracy: 0.9123 - val_loss: 0.1867 - val_binary_accuracy: 0.9275\n",
      "1770/1770 [==============================] - 1s 581us/step\n",
      "Epoch 1/5\n",
      "6372/6372 [==============================] - 9s 1ms/step - loss: 0.2467 - binary_accuracy: 0.8953 - val_loss: 0.1761 - val_binary_accuracy: 0.9259\n",
      "Epoch 2/5\n",
      "6372/6372 [==============================] - 8s 1ms/step - loss: 0.2199 - binary_accuracy: 0.9084 - val_loss: 0.1800 - val_binary_accuracy: 0.9194\n",
      "Epoch 3/5\n",
      "6372/6372 [==============================] - 8s 1ms/step - loss: 0.2169 - binary_accuracy: 0.9106 - val_loss: 0.1937 - val_binary_accuracy: 0.9197\n",
      "Epoch 4/5\n",
      "6372/6372 [==============================] - 8s 1ms/step - loss: 0.2160 - binary_accuracy: 0.9119 - val_loss: 0.1934 - val_binary_accuracy: 0.9099\n",
      "Epoch 5/5\n",
      "6372/6372 [==============================] - 8s 1ms/step - loss: 0.2141 - binary_accuracy: 0.9121 - val_loss: 0.1978 - val_binary_accuracy: 0.9120\n",
      "1770/1770 [==============================] - 1s 593us/step\n",
      "Epoch 1/5\n",
      "6372/6372 [==============================] - 9s 1ms/step - loss: 0.2436 - binary_accuracy: 0.8963 - val_loss: 0.1906 - val_binary_accuracy: 0.9211\n",
      "Epoch 2/5\n",
      "6372/6372 [==============================] - 8s 1ms/step - loss: 0.2181 - binary_accuracy: 0.9096 - val_loss: 0.1875 - val_binary_accuracy: 0.9217\n",
      "Epoch 3/5\n",
      "6372/6372 [==============================] - 8s 1ms/step - loss: 0.2146 - binary_accuracy: 0.9113 - val_loss: 0.1948 - val_binary_accuracy: 0.9241\n",
      "Epoch 4/5\n",
      "6372/6372 [==============================] - 8s 1ms/step - loss: 0.2129 - binary_accuracy: 0.9126 - val_loss: 0.1816 - val_binary_accuracy: 0.9161\n",
      "Epoch 5/5\n",
      "6372/6372 [==============================] - 8s 1ms/step - loss: 0.2123 - binary_accuracy: 0.9125 - val_loss: 0.1968 - val_binary_accuracy: 0.9212\n",
      "1770/1770 [==============================] - 1s 599us/step\n",
      "Epoch 1/5\n",
      "6372/6372 [==============================] - 9s 1ms/step - loss: 0.2476 - binary_accuracy: 0.8950 - val_loss: 0.1849 - val_binary_accuracy: 0.9239\n",
      "Epoch 2/5\n",
      "6372/6372 [==============================] - 8s 1ms/step - loss: 0.2189 - binary_accuracy: 0.9095 - val_loss: 0.1839 - val_binary_accuracy: 0.9210\n",
      "Epoch 3/5\n",
      "6372/6372 [==============================] - 8s 1ms/step - loss: 0.2166 - binary_accuracy: 0.9111 - val_loss: 0.1808 - val_binary_accuracy: 0.9247\n",
      "Epoch 4/5\n",
      "6372/6372 [==============================] - 8s 1ms/step - loss: 0.2151 - binary_accuracy: 0.9122 - val_loss: 0.1861 - val_binary_accuracy: 0.9279\n",
      "Epoch 5/5\n",
      "6372/6372 [==============================] - 8s 1ms/step - loss: 0.2130 - binary_accuracy: 0.9124 - val_loss: 0.1916 - val_binary_accuracy: 0.9232\n",
      "1770/1770 [==============================] - 1s 583us/step\n",
      "Epoch 1/5\n",
      "6372/6372 [==============================] - 9s 1ms/step - loss: 0.2445 - binary_accuracy: 0.8959 - val_loss: 0.1878 - val_binary_accuracy: 0.9239\n",
      "Epoch 2/5\n",
      "6372/6372 [==============================] - 8s 1ms/step - loss: 0.2178 - binary_accuracy: 0.9102 - val_loss: 0.1843 - val_binary_accuracy: 0.9241\n",
      "Epoch 3/5\n",
      "6372/6372 [==============================] - 8s 1ms/step - loss: 0.2145 - binary_accuracy: 0.9118 - val_loss: 0.1925 - val_binary_accuracy: 0.9231\n",
      "Epoch 4/5\n",
      "6372/6372 [==============================] - 8s 1ms/step - loss: 0.2131 - binary_accuracy: 0.9126 - val_loss: 0.1795 - val_binary_accuracy: 0.9224\n",
      "Epoch 5/5\n",
      "6372/6372 [==============================] - 8s 1ms/step - loss: 0.2122 - binary_accuracy: 0.9121 - val_loss: 0.1857 - val_binary_accuracy: 0.9220\n",
      "1770/1770 [==============================] - 1s 578us/step\n",
      "Epoch 1/3\n",
      "996/996 [==============================] - 2s 2ms/step - loss: 0.2308 - binary_accuracy: 0.8990 - val_loss: 0.1693 - val_binary_accuracy: 0.9296\n",
      "Epoch 2/3\n",
      "996/996 [==============================] - 2s 2ms/step - loss: 0.1960 - binary_accuracy: 0.9178 - val_loss: 0.1706 - val_binary_accuracy: 0.9284\n",
      "Epoch 3/3\n",
      "996/996 [==============================] - 2s 2ms/step - loss: 0.1917 - binary_accuracy: 0.9198 - val_loss: 0.1670 - val_binary_accuracy: 0.9302\n"
     ]
    }
   ],
   "source": [
    "rs_results = rs.fit(X_train, y_train)"
   ]
  },
  {
   "cell_type": "markdown",
   "id": "e8584335-2930-431d-99f6-331dadfd78ca",
   "metadata": {},
   "source": [
    "Let's look at the best accuracy score, and the parameters that produced them."
   ]
  },
  {
   "cell_type": "code",
   "execution_count": 82,
   "id": "56c3099d-76a6-4dd6-aa70-8d75e3146bcb",
   "metadata": {},
   "outputs": [
    {
     "data": {
      "text/plain": [
       "0.9297069772108933"
      ]
     },
     "metadata": {},
     "output_type": "display_data"
    },
    {
     "data": {
      "text/plain": [
       "{'optimizer__lr': 0.01,\n",
       " 'model__hidden_layer_sizes': (100,),\n",
       " 'model__dropout': 0.5,\n",
       " 'epochs': 3,\n",
       " 'batch_size': 256}"
      ]
     },
     "metadata": {},
     "output_type": "display_data"
    }
   ],
   "source": [
    "display(rs_results.best_score_, rs_results.best_params_)"
   ]
  },
  {
   "cell_type": "markdown",
   "id": "52e0796f-d45d-40ff-a51d-b8946228714c",
   "metadata": {},
   "source": [
    "Let's look at it as an estimator object."
   ]
  },
  {
   "cell_type": "code",
   "execution_count": 83,
   "id": "a9e9216c-e0f7-4240-b526-27c2d59cba77",
   "metadata": {
    "tags": []
   },
   "outputs": [
    {
     "data": {
      "text/plain": [
       "KerasClassifier(\n",
       "\tmodel=<function get_clf at 0x7f7ab8b61a60>\n",
       "\tbuild_fn=None\n",
       "\twarm_start=False\n",
       "\trandom_state=None\n",
       "\toptimizer=adam\n",
       "\tloss=binary_crossentropy\n",
       "\tmetrics=['binary_accuracy']\n",
       "\tbatch_size=256\n",
       "\tvalidation_batch_size=None\n",
       "\tverbose=True\n",
       "\tcallbacks=None\n",
       "\tvalidation_split=0.1\n",
       "\tshuffle=True\n",
       "\trun_eagerly=False\n",
       "\tepochs=3\n",
       "\toptimizer__lr=0.01\n",
       "\tmodel__hidden_layer_sizes=(100,)\n",
       "\tmodel__dropout=0.5\n",
       "\tclass_weight=None\n",
       ")"
      ]
     },
     "metadata": {},
     "output_type": "display_data"
    }
   ],
   "source": [
    "rs_best = rs_results.best_estimator_\n",
    "display(rs_best)"
   ]
  },
  {
   "cell_type": "markdown",
   "id": "3b471d22-cb85-4a0d-9675-19c8add3058e",
   "metadata": {},
   "source": [
    "Let's look at a high level plot of the model, to make sure it makes sense vis a vis the best params."
   ]
  },
  {
   "cell_type": "code",
   "execution_count": 84,
   "id": "48d554ad-fa2d-4b3b-8c86-31483119366e",
   "metadata": {},
   "outputs": [
    {
     "data": {
      "image/png": "[encoded data removed]",
      "text/plain": [
       "<IPython.core.display.Image object>"
      ]
     },
     "execution_count": 84,
     "metadata": {},
     "output_type": "execute_result"
    }
   ],
   "source": [
    "plot_model(rs_best.model_)"
   ]
  },
  {
   "cell_type": "markdown",
   "id": "a16eeb27-85d9-494d-b196-14a6646e8db5",
   "metadata": {},
   "source": [
    "Look at summary:"
   ]
  },
  {
   "cell_type": "code",
   "execution_count": 85,
   "id": "ad2e863f-5e3a-45b1-b831-615dc9cfc50d",
   "metadata": {},
   "outputs": [
    {
     "name": "stdout",
     "output_type": "stream",
     "text": [
      "Model: \"sequential_50\"\n",
      "_________________________________________________________________\n",
      " Layer (type)                Output Shape              Param #   \n",
      "=================================================================\n",
      " dense_130 (Dense)           (None, 100)               1400      \n",
      "                                                                 \n",
      " dropout_80 (Dropout)        (None, 100)               0         \n",
      "                                                                 \n",
      " dense_131 (Dense)           (None, 1)                 101       \n",
      "                                                                 \n",
      "=================================================================\n",
      "Total params: 1,501\n",
      "Trainable params: 1,501\n",
      "Non-trainable params: 0\n",
      "_________________________________________________________________\n"
     ]
    }
   ],
   "source": [
    "rs_best.model_.summary()"
   ]
  },
  {
   "cell_type": "markdown",
   "id": "2d03e6e1-db8d-482b-8b7d-d895fa46da73",
   "metadata": {},
   "source": [
    "Now let's look at performance vs Test."
   ]
  },
  {
   "cell_type": "code",
   "execution_count": 86,
   "id": "824a10c9-3c11-47dc-a8a5-2375a2c961ee",
   "metadata": {},
   "outputs": [
    {
     "name": "stdout",
     "output_type": "stream",
     "text": [
      "277/277 [==============================] - 0s 600us/step\n"
     ]
    },
    {
     "data": {
      "text/plain": [
       "'test accuracy: 0.9292201646962442'"
      ]
     },
     "metadata": {},
     "output_type": "display_data"
    },
    {
     "data": {
      "text/plain": [
       "'train accuracy: 0.9297069772108933'"
      ]
     },
     "metadata": {},
     "output_type": "display_data"
    }
   ],
   "source": [
    "display(f\"test accuracy: {rs_best.score(X_test, y_test)}\")\n",
    "display(f\"train accuracy: {rs_results.best_score_}\")"
   ]
  },
  {
   "cell_type": "markdown",
   "id": "03e66852-72db-426f-98d2-be1220b5b902",
   "metadata": {},
   "source": [
    "Consistent, and aligns."
   ]
  },
  {
   "cell_type": "markdown",
   "id": "ab2ea030-2591-4ca3-b829-ba3b0af68100",
   "metadata": {},
   "source": [
    "Let's get some predictions and review some high level classification metrics:"
   ]
  },
  {
   "cell_type": "code",
   "execution_count": 87,
   "id": "fac1d3e6-fa28-4cd8-9fc8-2e17dcdebd7f",
   "metadata": {},
   "outputs": [
    {
     "name": "stdout",
     "output_type": "stream",
     "text": [
      "277/277 [==============================] - 0s 579us/step\n"
     ]
    }
   ],
   "source": [
    "rs_pred = rs_best.predict(X_test)"
   ]
  },
  {
   "cell_type": "markdown",
   "id": "341b590e-455f-4ebd-90b5-98aa6c97f9d9",
   "metadata": {},
   "source": [
    "*Confusion Matrix*"
   ]
  },
  {
   "cell_type": "code",
   "execution_count": 88,
   "id": "195d2d59-ff3f-4679-82ea-2679ec000be6",
   "metadata": {},
   "outputs": [
    {
     "data": {
      "text/plain": [
       "array([[45974,  2669],\n",
       "       [ 2342, 19812]])"
      ]
     },
     "metadata": {},
     "output_type": "display_data"
    }
   ],
   "source": [
    "cm = confusion_matrix(y_test, rs_pred)\n",
    "display(cm)"
   ]
  },
  {
   "cell_type": "markdown",
   "id": "0292f14c-7b50-4080-ab0b-53e08a3beda4",
   "metadata": {},
   "source": [
    "*Accuracy*"
   ]
  },
  {
   "cell_type": "code",
   "execution_count": 89,
   "id": "f21711f9-ec8b-4140-bcdc-ac6311466bdc",
   "metadata": {},
   "outputs": [
    {
     "data": {
      "text/plain": [
       "'What % of pitches did we correctly categorize?'"
      ]
     },
     "metadata": {},
     "output_type": "display_data"
    },
    {
     "name": "stdout",
     "output_type": "stream",
     "text": [
      "277/277 [==============================] - 0s 597us/step\n"
     ]
    },
    {
     "data": {
      "text/plain": [
       "'test accuracy: 0.929'"
      ]
     },
     "metadata": {},
     "output_type": "display_data"
    }
   ],
   "source": [
    "display(\"What % of pitches did we correctly categorize?\")\n",
    "display(f\"test accuracy: {round(rs_best.score(X_test, y_test), 3)}\")"
   ]
  },
  {
   "cell_type": "markdown",
   "id": "5bb9aa10-00aa-4acc-a837-e6e961860d13",
   "metadata": {},
   "source": [
    "*Precision*"
   ]
  },
  {
   "cell_type": "code",
   "execution_count": 90,
   "id": "f4f6fb94-fb75-4ce7-ae51-e346e355561d",
   "metadata": {},
   "outputs": [
    {
     "data": {
      "text/plain": [
       "'What % predicted strikes did we get correct?'"
      ]
     },
     "metadata": {},
     "output_type": "display_data"
    },
    {
     "data": {
      "text/plain": [
       "'Positive Predictive Value: 0.881'"
      ]
     },
     "metadata": {},
     "output_type": "display_data"
    }
   ],
   "source": [
    "precision = precision_score(y_test, rs_pred)\n",
    "display(\"What % predicted strikes did we get correct?\")\n",
    "display(f\"Positive Predictive Value: {round(precision,3)}\")"
   ]
  },
  {
   "cell_type": "markdown",
   "id": "4cfc7e9a-f72e-499c-a35c-16958c2a701e",
   "metadata": {},
   "source": [
    "*Recall*"
   ]
  },
  {
   "cell_type": "code",
   "execution_count": 91,
   "id": "b527f3fb-3f4e-4442-93cc-13bdd1c3335c",
   "metadata": {},
   "outputs": [
    {
     "data": {
      "text/plain": [
       "'What percent of actual strikes did we get capture?'"
      ]
     },
     "metadata": {},
     "output_type": "display_data"
    },
    {
     "data": {
      "text/plain": [
       "'True Positive Rate: 0.894'"
      ]
     },
     "metadata": {},
     "output_type": "display_data"
    }
   ],
   "source": [
    "recall = recall_score(y_test, rs_pred)\n",
    "display(\"What percent of actual strikes did we get capture?\")\n",
    "display(f\"True Positive Rate: {round(recall, 3)}\")"
   ]
  },
  {
   "cell_type": "markdown",
   "id": "383452e8-766f-4136-ad3a-ef60ebcba0da",
   "metadata": {},
   "source": [
    "*ROC/AUC*"
   ]
  },
  {
   "cell_type": "code",
   "execution_count": 92,
   "id": "529ddd30-9775-4a2c-856c-52a743adad76",
   "metadata": {},
   "outputs": [
    {
     "name": "stdout",
     "output_type": "stream",
     "text": [
      "1107/1107 [==============================] - 1s 597us/step\n"
     ]
    },
    {
     "data": {
      "image/png": "[encoded data removed]",
      "text/plain": [
       "<Figure size 432x288 with 1 Axes>"
      ]
     },
     "metadata": {
      "needs_background": "light"
     },
     "output_type": "display_data"
    }
   ],
   "source": [
    "plot_roc_curve(rs_best, X_train, y_train)\n",
    "plt.show()"
   ]
  },
  {
   "cell_type": "markdown",
   "id": "4a64b5a0-47b6-4cf6-82ba-c851faa44042",
   "metadata": {},
   "source": [
    "AUC of 0.98!"
   ]
  },
  {
   "cell_type": "markdown",
   "id": "22a9659b-782b-4963-879a-45fd696556f1",
   "metadata": {},
   "source": [
    "*Save the current state*"
   ]
  },
  {
   "cell_type": "markdown",
   "id": "2339e09b-805a-4b4b-9257-9af384850320",
   "metadata": {},
   "source": [
    "Let's save out the best model!"
   ]
  },
  {
   "cell_type": "code",
   "execution_count": 93,
   "id": "879d5551-1c9f-4a57-8487-cacbc8dd1571",
   "metadata": {
    "tags": []
   },
   "outputs": [
    {
     "data": {
      "text/plain": [
       "'./models/nn_2nd_pass_20220506_0530'"
      ]
     },
     "metadata": {},
     "output_type": "display_data"
    },
    {
     "data": {
      "text/plain": [
       "'./predictions/test/nn_2nd_pass_20220506_0530.csv'"
      ]
     },
     "metadata": {},
     "output_type": "display_data"
    },
    {
     "name": "stdout",
     "output_type": "stream",
     "text": [
      "277/277 [==============================] - 0s 663us/step\n"
     ]
    },
    {
     "name": "stderr",
     "output_type": "stream",
     "text": [
      "2022-05-06 05:30:10.007640: W tensorflow/python/util/util.cc:368] Sets are not currently considered sequences, but this may change in the future, so consider avoiding using them.\n"
     ]
    },
    {
     "name": "stdout",
     "output_type": "stream",
     "text": [
      "INFO:tensorflow:Assets written to: ./models/nn_2nd_pass_20220506_0530/assets\n"
     ]
    }
   ],
   "source": [
    "str_ts = datetime.now().strftime(\"%Y%m%d_%H%M\")\n",
    "model_nm = 'nn_2nd_pass_' + str_ts\n",
    "model_path = './models/' + model_nm\n",
    "pred_path = './predictions/test/' + model_nm + '.csv'\n",
    "\n",
    "display(model_path, pred_path)\n",
    "\n",
    "# save out predicted probabilities\n",
    "pred_curr = rs_best.predict_proba(X_test)\n",
    "np.savetxt(pred_path, pred_curr, delimiter=\",\")\n",
    "\n",
    "# Save out Keras model\n",
    "rs_best.model_.save(model_path)"
   ]
  },
  {
   "cell_type": "markdown",
   "id": "0739cd97-0ee2-456e-b70e-508fe2d36df6",
   "metadata": {},
   "source": [
    "---  \n",
    "\n",
    "<span style=\"font-size:0.5em;\">Tag 4</span>\n",
    "\n",
    "<a id='the_end'></a>\n",
    "\n",
    "<span style=\"font-size:0.5em;\"><a href='#toc'>Back to TOC</a></span>"
   ]
  },
  {
   "cell_type": "markdown",
   "id": "e9fc1490-d3b2-4169-83eb-69fc494a3bc7",
   "metadata": {},
   "source": [
    "-----"
   ]
  },
  {
   "cell_type": "markdown",
   "id": "9bc924d1-f9d7-4490-bf3a-e7a456a905c0",
   "metadata": {},
   "source": [
    "### Archive"
   ]
  },
  {
   "cell_type": "markdown",
   "id": "d11686f4-4483-48b4-8f43-f61f344ac90e",
   "metadata": {},
   "source": [
    "Here is the model creation function I started building, before I stumbled across `scikeras` and decided to run with their code."
   ]
  },
  {
   "cell_type": "code",
   "execution_count": null,
   "id": "65a69b99-a6f9-4d0d-a061-c5d2c5ae6188",
   "metadata": {},
   "outputs": [],
   "source": [
    "%%script echo skipping\n",
    "def create_binary_nn_model(num_inputs, learning_rate=0.01, num_layers=1\n",
    "                           ,num_nodes=2, activation='relu'):\n",
    "    \"\"\"Create binary neural network Sequential model\"\"\"\n",
    "    # Create Adam optimizer\n",
    "    opt = Adam(lr=learning_rate)\n",
    "    \n",
    "    # Create Sequential model\n",
    "    model=Sequential()\n",
    "    \n",
    "    # Input layer\n",
    "    model.add(Dense(num_nodes, input_shape=(num_inputs,) \n",
    "              ,activation=activation, name='Input'))\n",
    "    \n",
    "    # Additional Hidden Layers\n",
    "    for i in range(num_layers-1): #if only 1 then assume just input/hidden\n",
    "        model.add(Dense(num_nodes, activation=activation))\n",
    "    \n",
    "    # Add a 1-neuron output layer\n",
    "    model.add(Dense(num_outputs, activation='sigmoid', name='Output'))\n",
    "\n",
    "    # Compile your model\n",
    "    model.compile(loss='binary_crossentropy', optimizer=opt\n",
    "                  ,metrics=['accuracy']\n",
    "                 )\n",
    "\n",
    "    return model"
   ]
  },
  {
   "cell_type": "markdown",
   "id": "4450b0de-5dae-497c-a3ca-9ef6f5a0885d",
   "metadata": {},
   "source": [
    "Let's do a test on the function:"
   ]
  },
  {
   "cell_type": "code",
   "execution_count": null,
   "id": "695c0724-9e4f-4169-b524-4f4547b2e530",
   "metadata": {},
   "outputs": [],
   "source": [
    "%%script echo skipping\n",
    "mod_1 = create_binary_nn_model(num_inputs=X_train.shape[1]\n",
    "                               ,learning_rate=1\n",
    "                               ,num_layers=1\n",
    "                              )"
   ]
  },
  {
   "cell_type": "code",
   "execution_count": null,
   "id": "cc8abd84-2359-45b3-9d87-a1be0a580dd3",
   "metadata": {},
   "outputs": [],
   "source": [
    "%%script echo skipping\n",
    "hh = mod_1.fit(X_train, y_train, epochs = n_epochs\n",
    "                        ,validation_split=val_split)"
   ]
  },
  {
   "cell_type": "code",
   "execution_count": null,
   "id": "11414d04-8717-47ee-a13e-e8ba3a858ff1",
   "metadata": {},
   "outputs": [],
   "source": [
    "%%script echo skipping\n",
    "plot_model(mod_1)"
   ]
  },
  {
   "cell_type": "markdown",
   "id": "b4b5e605-b12a-413a-80be-0a2fcd1c1ed9",
   "metadata": {},
   "source": [
    "Seems correct. I think that I plugged in a learning rate of 1 caused the epochs to be basically the same, basically skipping over minimums."
   ]
  }
 ],
 "metadata": {
  "kernelspec": {
   "display_name": "Python 3 (ipykernel)",
   "language": "python",
   "name": "python3"
  },
  "language_info": {
   "codemirror_mode": {
    "name": "ipython",
    "version": 3
   },
   "file_extension": ".py",
   "mimetype": "text/x-python",
   "name": "python",
   "nbconvert_exporter": "python",
   "pygments_lexer": "ipython3",
   "version": "3.8.10"
  },
  "widgets": {
   "application/vnd.jupyter.widget-state+json": {
    "state": {},
    "version_major": 2,
    "version_minor": 0
   }
  }
 },
 "nbformat": 4,
 "nbformat_minor": 5
}
