{
 "cells": [
  {
   "cell_type": "markdown",
   "id": "38d290fd-eac4-4ff3-8973-a268b649d00f",
   "metadata": {},
   "source": [
    "# Called Third Strike\n",
    "## Part 2. Data Exploration \n",
    "\n",
    "This project's goal is to build probability models for as to whether a pitch will be called a strike or not. The intended models are to be:\n",
    "1. A neural network (NN) based approach.\n",
    "2. A non-NN based approach.\n",
    "\n",
    "---\n",
    "__**This Notebook's**__ objective is to explore the data to gain further familiarity with it, and to identify candiate features for our "
   ]
  },
  {
   "cell_type": "markdown",
   "id": "d9404507-c283-4f49-882e-c4a9303cf812",
   "metadata": {},
   "source": [
    "---"
   ]
  },
  {
   "cell_type": "markdown",
   "id": "9c2d0af2-1526-4a36-9886-427babce2b52",
   "metadata": {},
   "source": [
    "### Import Data"
   ]
  },
  {
   "cell_type": "markdown",
   "id": "48de4e57-d9cd-4f56-9974-7d694e93dbbb",
   "metadata": {},
   "source": [
    "We have saved local versions of the data, so we will ingest them from there.\n",
    "\n",
    "We'll use `pandas` to read into dataframes and explore. "
   ]
  },
  {
   "cell_type": "code",
   "execution_count": 146,
   "id": "97e37d54-9399-42cf-9b17-749db8195cea",
   "metadata": {},
   "outputs": [],
   "source": [
    "### Data handling\n",
    "import pandas as pd\n",
    "\n",
    "# We should visualize some of the data, so let's get seaborn\n",
    "import matplotlib.pyplot as plt\n",
    "import seaborn as sns"
   ]
  },
  {
   "cell_type": "code",
   "execution_count": 147,
   "id": "3f26d986-0be5-460a-8dbb-876bb95b7817",
   "metadata": {},
   "outputs": [],
   "source": [
    "df_train = pd.read_csv('../data/train_ingested.csv')\n",
    "df_test = pd.read_csv('../data/test_ingested.csv')"
   ]
  },
  {
   "cell_type": "markdown",
   "id": "229beda4-4b0a-4eb5-8dc4-6458eb2af3e7",
   "metadata": {},
   "source": [
    "Let's work with the training data."
   ]
  },
  {
   "cell_type": "code",
   "execution_count": 148,
   "id": "5a5b1c8e-1afd-45a1-aa5e-df397996fa38",
   "metadata": {},
   "outputs": [
    {
     "data": {
      "application/com.datacamp.data-table.v1+json": {
       "is_truncated": false,
       "table": {
        "data": [
         {
          "0": "01311c57-5046-48d7-ac68-000060a98ccb",
          "1": "208d0186-b7c9-46bd-8297-0001539b714c",
          "2": "4a24d09e-2d9b-4d12-a0eb-0004723ce539",
          "3": "486aa6b8-7c43-4974-8a53-000611a9c649",
          "4": "2aff251b-099b-447b-9862-00100124b7c1",
          "index": "pitch_id"
         },
         {
          "0": 2021,
          "1": 2021,
          "2": 2021,
          "3": 2021,
          "4": 2021,
          "index": "season"
         },
         {
          "0": "2021-05-13",
          "1": "2021-07-29",
          "2": "2021-05-15",
          "3": "2021-06-05",
          "4": "2021-06-13",
          "index": "game_date"
         },
         {
          "0": 7,
          "1": 9,
          "2": 1,
          "3": 1,
          "4": 3,
          "index": "inning"
         },
         {
          "0": "home",
          "1": "home",
          "2": "home",
          "3": "home",
          "4": "home",
          "index": "side"
         },
         {
          "0": -2,
          "1": 4,
          "2": 0,
          "3": 2,
          "4": -2,
          "index": "run_diff"
         },
         {
          "0": 54,
          "1": 69,
          "2": 1,
          "3": 5,
          "4": 24,
          "index": "at_bat_index"
         },
         {
          "0": 5,
          "1": 2,
          "2": 3,
          "3": 3,
          "4": 5,
          "index": "pitch_of_ab"
         },
         {
          "0": 405947,
          "1": 468294,
          "2": 406141,
          "3": 615134,
          "4": 626949,
          "index": "batter"
         },
         {
          "0": 756778,
          "1": 778005,
          "2": 451846,
          "3": 564585,
          "4": 784463,
          "index": "pitcher"
         },
         {
          "0": 528871,
          "1": 594400,
          "2": 633795,
          "3": 633812,
          "4": 614419,
          "index": "catcher"
         },
         {
          "0": 482420,
          "1": 583103,
          "2": 423579,
          "3": 482532,
          "4": 596164,
          "index": "umpire"
         },
         {
          "0": "R",
          "1": "L",
          "2": "L",
          "3": "R",
          "4": "R",
          "index": "bside"
         },
         {
          "0": "L",
          "1": "R",
          "2": "L",
          "3": "L",
          "4": "R",
          "index": "pside"
         },
         {
          "0": 1.56,
          "1": 1.59,
          "2": 1.68,
          "3": 1.63,
          "4": 1.63,
          "index": "stringer_zone_bottom"
         },
         {
          "0": 3.41,
          "1": 3.47,
          "2": 3.58,
          "3": 3.55,
          "4": 3.55,
          "index": "stringer_zone_top"
         },
         {
          "0": null,
          "1": 614736,
          "2": null,
          "3": 433785,
          "4": 784643,
          "index": "on_1b_mlbid"
         },
         {
          "0": null,
          "1": 561368,
          "2": null,
          "3": null,
          "4": 471961,
          "index": "on_2b_mlbid"
         },
         {
          "0": null,
          "1": null,
          "2": null,
          "3": null,
          "4": 587651,
          "index": "on_3b_mlbid"
         },
         {
          "0": 1,
          "1": 0,
          "2": 1,
          "3": 2,
          "4": 2,
          "index": "outs"
         },
         {
          "0": 3,
          "1": 1,
          "2": 2,
          "3": 0,
          "4": 3,
          "index": "balls"
         },
         {
          "0": 1,
          "1": 0,
          "2": 0,
          "3": 2,
          "4": 1,
          "index": "strikes"
         },
         {
          "0": 97.4298,
          "1": 91.7712,
          "2": 87.813,
          "3": 86.5546,
          "4": 95.0891,
          "index": "pitch_speed"
         },
         {
          "0": -1.2981,
          "1": 1.41222,
          "2": -0.18119,
          "3": -0.885538,
          "4": 0.900718,
          "index": "px"
         },
         {
          "0": 2.30217,
          "1": 1.57443,
          "2": 2.11248,
          "3": 0.598692,
          "4": 2.0182,
          "index": "pz"
         },
         {
          "0": 1.91535,
          "1": -12.1373,
          "2": -0.992261,
          "3": -2.8393,
          "4": -6.41995,
          "index": "break_x"
         },
         {
          "0": -9.54142,
          "1": -21.9427,
          "2": -25.5107,
          "3": -27.2509,
          "4": -14.3172,
          "index": "break_z"
         },
         {
          "0": 3.02727,
          "1": -1.56782,
          "2": 2.04966,
          "3": 2.96845,
          "4": -2.64734,
          "index": "angle_x"
         },
         {
          "0": 5.59379,
          "1": 6.86676,
          "2": 7.17281,
          "3": 8.50392,
          "4": 5.63426,
          "index": "angle_z"
         },
         {
          "0": "FA",
          "1": "FA",
          "2": "SL",
          "3": "SL",
          "4": "XX",
          "index": "pitch_type"
         },
         {
          "0": 0,
          "1": 0,
          "2": 1,
          "3": 0,
          "4": 1,
          "index": "strike_bool"
         }
        ],
        "schema": {
         "fields": [
          {
           "name": "index",
           "type": "string"
          },
          {
           "name": 0,
           "type": "string"
          },
          {
           "name": 1,
           "type": "string"
          },
          {
           "name": 2,
           "type": "string"
          },
          {
           "name": 3,
           "type": "string"
          },
          {
           "name": 4,
           "type": "string"
          }
         ],
         "pandas_version": "0.20.0",
         "primaryKey": [
          "index"
         ]
        }
       },
       "total_rows": 31
      },
      "text/html": [
       "<div>\n",
       "<style scoped>\n",
       "    .dataframe tbody tr th:only-of-type {\n",
       "        vertical-align: middle;\n",
       "    }\n",
       "\n",
       "    .dataframe tbody tr th {\n",
       "        vertical-align: top;\n",
       "    }\n",
       "\n",
       "    .dataframe thead th {\n",
       "        text-align: right;\n",
       "    }\n",
       "</style>\n",
       "<table border=\"1\" class=\"dataframe\">\n",
       "  <thead>\n",
       "    <tr style=\"text-align: right;\">\n",
       "      <th></th>\n",
       "      <th>0</th>\n",
       "      <th>1</th>\n",
       "      <th>2</th>\n",
       "      <th>3</th>\n",
       "      <th>4</th>\n",
       "    </tr>\n",
       "  </thead>\n",
       "  <tbody>\n",
       "    <tr>\n",
       "      <th>pitch_id</th>\n",
       "      <td>01311c57-5046-48d7-ac68-000060a98ccb</td>\n",
       "      <td>208d0186-b7c9-46bd-8297-0001539b714c</td>\n",
       "      <td>4a24d09e-2d9b-4d12-a0eb-0004723ce539</td>\n",
       "      <td>486aa6b8-7c43-4974-8a53-000611a9c649</td>\n",
       "      <td>2aff251b-099b-447b-9862-00100124b7c1</td>\n",
       "    </tr>\n",
       "    <tr>\n",
       "      <th>season</th>\n",
       "      <td>2021</td>\n",
       "      <td>2021</td>\n",
       "      <td>2021</td>\n",
       "      <td>2021</td>\n",
       "      <td>2021</td>\n",
       "    </tr>\n",
       "    <tr>\n",
       "      <th>game_date</th>\n",
       "      <td>2021-05-13</td>\n",
       "      <td>2021-07-29</td>\n",
       "      <td>2021-05-15</td>\n",
       "      <td>2021-06-05</td>\n",
       "      <td>2021-06-13</td>\n",
       "    </tr>\n",
       "    <tr>\n",
       "      <th>inning</th>\n",
       "      <td>7</td>\n",
       "      <td>9</td>\n",
       "      <td>1</td>\n",
       "      <td>1</td>\n",
       "      <td>3</td>\n",
       "    </tr>\n",
       "    <tr>\n",
       "      <th>side</th>\n",
       "      <td>home</td>\n",
       "      <td>home</td>\n",
       "      <td>home</td>\n",
       "      <td>home</td>\n",
       "      <td>home</td>\n",
       "    </tr>\n",
       "    <tr>\n",
       "      <th>run_diff</th>\n",
       "      <td>-2</td>\n",
       "      <td>4</td>\n",
       "      <td>0</td>\n",
       "      <td>2</td>\n",
       "      <td>-2</td>\n",
       "    </tr>\n",
       "    <tr>\n",
       "      <th>at_bat_index</th>\n",
       "      <td>54</td>\n",
       "      <td>69</td>\n",
       "      <td>1</td>\n",
       "      <td>5</td>\n",
       "      <td>24</td>\n",
       "    </tr>\n",
       "    <tr>\n",
       "      <th>pitch_of_ab</th>\n",
       "      <td>5</td>\n",
       "      <td>2</td>\n",
       "      <td>3</td>\n",
       "      <td>3</td>\n",
       "      <td>5</td>\n",
       "    </tr>\n",
       "    <tr>\n",
       "      <th>batter</th>\n",
       "      <td>405947</td>\n",
       "      <td>468294</td>\n",
       "      <td>406141</td>\n",
       "      <td>615134</td>\n",
       "      <td>626949</td>\n",
       "    </tr>\n",
       "    <tr>\n",
       "      <th>pitcher</th>\n",
       "      <td>756778</td>\n",
       "      <td>778005</td>\n",
       "      <td>451846</td>\n",
       "      <td>564585</td>\n",
       "      <td>784463</td>\n",
       "    </tr>\n",
       "    <tr>\n",
       "      <th>catcher</th>\n",
       "      <td>528871</td>\n",
       "      <td>594400</td>\n",
       "      <td>633795</td>\n",
       "      <td>633812</td>\n",
       "      <td>614419</td>\n",
       "    </tr>\n",
       "    <tr>\n",
       "      <th>umpire</th>\n",
       "      <td>482420</td>\n",
       "      <td>583103</td>\n",
       "      <td>423579</td>\n",
       "      <td>482532</td>\n",
       "      <td>596164</td>\n",
       "    </tr>\n",
       "    <tr>\n",
       "      <th>bside</th>\n",
       "      <td>R</td>\n",
       "      <td>L</td>\n",
       "      <td>L</td>\n",
       "      <td>R</td>\n",
       "      <td>R</td>\n",
       "    </tr>\n",
       "    <tr>\n",
       "      <th>pside</th>\n",
       "      <td>L</td>\n",
       "      <td>R</td>\n",
       "      <td>L</td>\n",
       "      <td>L</td>\n",
       "      <td>R</td>\n",
       "    </tr>\n",
       "    <tr>\n",
       "      <th>stringer_zone_bottom</th>\n",
       "      <td>1.56</td>\n",
       "      <td>1.59</td>\n",
       "      <td>1.68</td>\n",
       "      <td>1.63</td>\n",
       "      <td>1.63</td>\n",
       "    </tr>\n",
       "    <tr>\n",
       "      <th>stringer_zone_top</th>\n",
       "      <td>3.41</td>\n",
       "      <td>3.47</td>\n",
       "      <td>3.58</td>\n",
       "      <td>3.55</td>\n",
       "      <td>3.55</td>\n",
       "    </tr>\n",
       "    <tr>\n",
       "      <th>on_1b_mlbid</th>\n",
       "      <td>NaN</td>\n",
       "      <td>614736.0</td>\n",
       "      <td>NaN</td>\n",
       "      <td>433785.0</td>\n",
       "      <td>784643.0</td>\n",
       "    </tr>\n",
       "    <tr>\n",
       "      <th>on_2b_mlbid</th>\n",
       "      <td>NaN</td>\n",
       "      <td>561368.0</td>\n",
       "      <td>NaN</td>\n",
       "      <td>NaN</td>\n",
       "      <td>471961.0</td>\n",
       "    </tr>\n",
       "    <tr>\n",
       "      <th>on_3b_mlbid</th>\n",
       "      <td>NaN</td>\n",
       "      <td>NaN</td>\n",
       "      <td>NaN</td>\n",
       "      <td>NaN</td>\n",
       "      <td>587651.0</td>\n",
       "    </tr>\n",
       "    <tr>\n",
       "      <th>outs</th>\n",
       "      <td>1</td>\n",
       "      <td>0</td>\n",
       "      <td>1</td>\n",
       "      <td>2</td>\n",
       "      <td>2</td>\n",
       "    </tr>\n",
       "    <tr>\n",
       "      <th>balls</th>\n",
       "      <td>3</td>\n",
       "      <td>1</td>\n",
       "      <td>2</td>\n",
       "      <td>0</td>\n",
       "      <td>3</td>\n",
       "    </tr>\n",
       "    <tr>\n",
       "      <th>strikes</th>\n",
       "      <td>1</td>\n",
       "      <td>0</td>\n",
       "      <td>0</td>\n",
       "      <td>2</td>\n",
       "      <td>1</td>\n",
       "    </tr>\n",
       "    <tr>\n",
       "      <th>pitch_speed</th>\n",
       "      <td>97.4298</td>\n",
       "      <td>91.7712</td>\n",
       "      <td>87.813</td>\n",
       "      <td>86.5546</td>\n",
       "      <td>95.0891</td>\n",
       "    </tr>\n",
       "    <tr>\n",
       "      <th>px</th>\n",
       "      <td>-1.2981</td>\n",
       "      <td>1.41222</td>\n",
       "      <td>-0.18119</td>\n",
       "      <td>-0.885538</td>\n",
       "      <td>0.900718</td>\n",
       "    </tr>\n",
       "    <tr>\n",
       "      <th>pz</th>\n",
       "      <td>2.30217</td>\n",
       "      <td>1.57443</td>\n",
       "      <td>2.11248</td>\n",
       "      <td>0.598692</td>\n",
       "      <td>2.0182</td>\n",
       "    </tr>\n",
       "    <tr>\n",
       "      <th>break_x</th>\n",
       "      <td>1.91535</td>\n",
       "      <td>-12.1373</td>\n",
       "      <td>-0.992261</td>\n",
       "      <td>-2.8393</td>\n",
       "      <td>-6.41995</td>\n",
       "    </tr>\n",
       "    <tr>\n",
       "      <th>break_z</th>\n",
       "      <td>-9.54142</td>\n",
       "      <td>-21.9427</td>\n",
       "      <td>-25.5107</td>\n",
       "      <td>-27.2509</td>\n",
       "      <td>-14.3172</td>\n",
       "    </tr>\n",
       "    <tr>\n",
       "      <th>angle_x</th>\n",
       "      <td>3.02727</td>\n",
       "      <td>-1.56782</td>\n",
       "      <td>2.04966</td>\n",
       "      <td>2.96845</td>\n",
       "      <td>-2.64734</td>\n",
       "    </tr>\n",
       "    <tr>\n",
       "      <th>angle_z</th>\n",
       "      <td>5.59379</td>\n",
       "      <td>6.86676</td>\n",
       "      <td>7.17281</td>\n",
       "      <td>8.50392</td>\n",
       "      <td>5.63426</td>\n",
       "    </tr>\n",
       "    <tr>\n",
       "      <th>pitch_type</th>\n",
       "      <td>FA</td>\n",
       "      <td>FA</td>\n",
       "      <td>SL</td>\n",
       "      <td>SL</td>\n",
       "      <td>XX</td>\n",
       "    </tr>\n",
       "    <tr>\n",
       "      <th>strike_bool</th>\n",
       "      <td>0</td>\n",
       "      <td>0</td>\n",
       "      <td>1</td>\n",
       "      <td>0</td>\n",
       "      <td>1</td>\n",
       "    </tr>\n",
       "  </tbody>\n",
       "</table>\n",
       "</div>"
      ],
      "text/plain": [
       "                                                         0  \\\n",
       "pitch_id              01311c57-5046-48d7-ac68-000060a98ccb   \n",
       "season                                                2021   \n",
       "game_date                                       2021-05-13   \n",
       "inning                                                   7   \n",
       "side                                                  home   \n",
       "run_diff                                                -2   \n",
       "at_bat_index                                            54   \n",
       "pitch_of_ab                                              5   \n",
       "batter                                              405947   \n",
       "pitcher                                             756778   \n",
       "catcher                                             528871   \n",
       "umpire                                              482420   \n",
       "bside                                                    R   \n",
       "pside                                                    L   \n",
       "stringer_zone_bottom                                  1.56   \n",
       "stringer_zone_top                                     3.41   \n",
       "on_1b_mlbid                                            NaN   \n",
       "on_2b_mlbid                                            NaN   \n",
       "on_3b_mlbid                                            NaN   \n",
       "outs                                                     1   \n",
       "balls                                                    3   \n",
       "strikes                                                  1   \n",
       "pitch_speed                                        97.4298   \n",
       "px                                                 -1.2981   \n",
       "pz                                                 2.30217   \n",
       "break_x                                            1.91535   \n",
       "break_z                                           -9.54142   \n",
       "angle_x                                            3.02727   \n",
       "angle_z                                            5.59379   \n",
       "pitch_type                                              FA   \n",
       "strike_bool                                              0   \n",
       "\n",
       "                                                         1  \\\n",
       "pitch_id              208d0186-b7c9-46bd-8297-0001539b714c   \n",
       "season                                                2021   \n",
       "game_date                                       2021-07-29   \n",
       "inning                                                   9   \n",
       "side                                                  home   \n",
       "run_diff                                                 4   \n",
       "at_bat_index                                            69   \n",
       "pitch_of_ab                                              2   \n",
       "batter                                              468294   \n",
       "pitcher                                             778005   \n",
       "catcher                                             594400   \n",
       "umpire                                              583103   \n",
       "bside                                                    L   \n",
       "pside                                                    R   \n",
       "stringer_zone_bottom                                  1.59   \n",
       "stringer_zone_top                                     3.47   \n",
       "on_1b_mlbid                                       614736.0   \n",
       "on_2b_mlbid                                       561368.0   \n",
       "on_3b_mlbid                                            NaN   \n",
       "outs                                                     0   \n",
       "balls                                                    1   \n",
       "strikes                                                  0   \n",
       "pitch_speed                                        91.7712   \n",
       "px                                                 1.41222   \n",
       "pz                                                 1.57443   \n",
       "break_x                                           -12.1373   \n",
       "break_z                                           -21.9427   \n",
       "angle_x                                           -1.56782   \n",
       "angle_z                                            6.86676   \n",
       "pitch_type                                              FA   \n",
       "strike_bool                                              0   \n",
       "\n",
       "                                                         2  \\\n",
       "pitch_id              4a24d09e-2d9b-4d12-a0eb-0004723ce539   \n",
       "season                                                2021   \n",
       "game_date                                       2021-05-15   \n",
       "inning                                                   1   \n",
       "side                                                  home   \n",
       "run_diff                                                 0   \n",
       "at_bat_index                                             1   \n",
       "pitch_of_ab                                              3   \n",
       "batter                                              406141   \n",
       "pitcher                                             451846   \n",
       "catcher                                             633795   \n",
       "umpire                                              423579   \n",
       "bside                                                    L   \n",
       "pside                                                    L   \n",
       "stringer_zone_bottom                                  1.68   \n",
       "stringer_zone_top                                     3.58   \n",
       "on_1b_mlbid                                            NaN   \n",
       "on_2b_mlbid                                            NaN   \n",
       "on_3b_mlbid                                            NaN   \n",
       "outs                                                     1   \n",
       "balls                                                    2   \n",
       "strikes                                                  0   \n",
       "pitch_speed                                         87.813   \n",
       "px                                                -0.18119   \n",
       "pz                                                 2.11248   \n",
       "break_x                                          -0.992261   \n",
       "break_z                                           -25.5107   \n",
       "angle_x                                            2.04966   \n",
       "angle_z                                            7.17281   \n",
       "pitch_type                                              SL   \n",
       "strike_bool                                              1   \n",
       "\n",
       "                                                         3  \\\n",
       "pitch_id              486aa6b8-7c43-4974-8a53-000611a9c649   \n",
       "season                                                2021   \n",
       "game_date                                       2021-06-05   \n",
       "inning                                                   1   \n",
       "side                                                  home   \n",
       "run_diff                                                 2   \n",
       "at_bat_index                                             5   \n",
       "pitch_of_ab                                              3   \n",
       "batter                                              615134   \n",
       "pitcher                                             564585   \n",
       "catcher                                             633812   \n",
       "umpire                                              482532   \n",
       "bside                                                    R   \n",
       "pside                                                    L   \n",
       "stringer_zone_bottom                                  1.63   \n",
       "stringer_zone_top                                     3.55   \n",
       "on_1b_mlbid                                       433785.0   \n",
       "on_2b_mlbid                                            NaN   \n",
       "on_3b_mlbid                                            NaN   \n",
       "outs                                                     2   \n",
       "balls                                                    0   \n",
       "strikes                                                  2   \n",
       "pitch_speed                                        86.5546   \n",
       "px                                               -0.885538   \n",
       "pz                                                0.598692   \n",
       "break_x                                            -2.8393   \n",
       "break_z                                           -27.2509   \n",
       "angle_x                                            2.96845   \n",
       "angle_z                                            8.50392   \n",
       "pitch_type                                              SL   \n",
       "strike_bool                                              0   \n",
       "\n",
       "                                                         4  \n",
       "pitch_id              2aff251b-099b-447b-9862-00100124b7c1  \n",
       "season                                                2021  \n",
       "game_date                                       2021-06-13  \n",
       "inning                                                   3  \n",
       "side                                                  home  \n",
       "run_diff                                                -2  \n",
       "at_bat_index                                            24  \n",
       "pitch_of_ab                                              5  \n",
       "batter                                              626949  \n",
       "pitcher                                             784463  \n",
       "catcher                                             614419  \n",
       "umpire                                              596164  \n",
       "bside                                                    R  \n",
       "pside                                                    R  \n",
       "stringer_zone_bottom                                  1.63  \n",
       "stringer_zone_top                                     3.55  \n",
       "on_1b_mlbid                                       784643.0  \n",
       "on_2b_mlbid                                       471961.0  \n",
       "on_3b_mlbid                                       587651.0  \n",
       "outs                                                     2  \n",
       "balls                                                    3  \n",
       "strikes                                                  1  \n",
       "pitch_speed                                        95.0891  \n",
       "px                                                0.900718  \n",
       "pz                                                  2.0182  \n",
       "break_x                                           -6.41995  \n",
       "break_z                                           -14.3172  \n",
       "angle_x                                           -2.64734  \n",
       "angle_z                                            5.63426  \n",
       "pitch_type                                              XX  \n",
       "strike_bool                                              1  "
      ]
     },
     "execution_count": 148,
     "metadata": {},
     "output_type": "execute_result"
    }
   ],
   "source": [
    "df_train.head().T"
   ]
  },
  {
   "cell_type": "markdown",
   "id": "ea617602-ff6f-40ac-9a86-7f3a6cd04749",
   "metadata": {},
   "source": [
    "On broad visual inspection, seems to make sense. We'll definitely get a opportunity for more questions as we go through each feature/target, which is the plan."
   ]
  },
  {
   "cell_type": "code",
   "execution_count": 149,
   "id": "2ee8aa81-7be3-49f3-903e-36c45e6fbbd6",
   "metadata": {},
   "outputs": [
    {
     "name": "stdout",
     "output_type": "stream",
     "text": [
      "<class 'pandas.core.frame.DataFrame'>\n",
      "RangeIndex: 354039 entries, 0 to 354038\n",
      "Data columns (total 31 columns):\n",
      " #   Column                Non-Null Count   Dtype  \n",
      "---  ------                --------------   -----  \n",
      " 0   pitch_id              354039 non-null  object \n",
      " 1   season                354039 non-null  int64  \n",
      " 2   game_date             354039 non-null  object \n",
      " 3   inning                354039 non-null  int64  \n",
      " 4   side                  354039 non-null  object \n",
      " 5   run_diff              354039 non-null  int64  \n",
      " 6   at_bat_index          354039 non-null  int64  \n",
      " 7   pitch_of_ab           354039 non-null  int64  \n",
      " 8   batter                354039 non-null  int64  \n",
      " 9   pitcher               354039 non-null  int64  \n",
      " 10  catcher               354039 non-null  int64  \n",
      " 11  umpire                354039 non-null  int64  \n",
      " 12  bside                 354039 non-null  object \n",
      " 13  pside                 354039 non-null  object \n",
      " 14  stringer_zone_bottom  354039 non-null  float64\n",
      " 15  stringer_zone_top     354039 non-null  float64\n",
      " 16  on_1b_mlbid           107007 non-null  float64\n",
      " 17  on_2b_mlbid           64934 non-null   float64\n",
      " 18  on_3b_mlbid           31469 non-null   float64\n",
      " 19  outs                  354039 non-null  int64  \n",
      " 20  balls                 354039 non-null  int64  \n",
      " 21  strikes               354039 non-null  int64  \n",
      " 22  pitch_speed           354039 non-null  float64\n",
      " 23  px                    354039 non-null  float64\n",
      " 24  pz                    354039 non-null  float64\n",
      " 25  break_x               354039 non-null  float64\n",
      " 26  break_z               354039 non-null  float64\n",
      " 27  angle_x               354039 non-null  float64\n",
      " 28  angle_z               354039 non-null  float64\n",
      " 29  pitch_type            353991 non-null  object \n",
      " 30  strike_bool           354039 non-null  int64  \n",
      "dtypes: float64(12), int64(13), object(6)\n",
      "memory usage: 83.7+ MB\n"
     ]
    }
   ],
   "source": [
    "df_train.info()"
   ]
  },
  {
   "cell_type": "markdown",
   "id": "eddbf5a7-ed38-40ee-ab90-a6e4d50f7dd3",
   "metadata": {},
   "source": [
    "### Feature Exploration\n",
    "\n",
    "Since we have a somewhat manageable # of features, let's go through them and make sure we at least identify what they are and their utility to our goal."
   ]
  },
  {
   "cell_type": "markdown",
   "id": "0011565e-8336-495b-b20f-2da62906dd69",
   "metadata": {},
   "source": [
    "##### Summarize Columns"
   ]
  },
  {
   "cell_type": "code",
   "execution_count": 150,
   "id": "bcda18f9-ed35-4a2b-894f-365f905c2cff",
   "metadata": {},
   "outputs": [
    {
     "name": "stdout",
     "output_type": "stream",
     "text": [
      "['pitch_id', 'season', 'game_date', 'inning', 'side', 'run_diff', 'at_bat_index', 'pitch_of_ab', 'batter', 'pitcher', 'catcher', 'umpire', 'bside', 'pside', 'stringer_zone_bottom', 'stringer_zone_top', 'on_1b_mlbid', 'on_2b_mlbid', 'on_3b_mlbid', 'outs', 'balls', 'strikes', 'pitch_speed', 'px', 'pz', 'break_x', 'break_z', 'angle_x', 'angle_z', 'pitch_type', 'strike_bool']\n"
     ]
    }
   ],
   "source": [
    "print(list(df_train.columns))"
   ]
  },
  {
   "cell_type": "markdown",
   "id": "00de2687-c4b2-4b14-b951-d2b70e8fb6d1",
   "metadata": {},
   "source": [
    "---"
   ]
  },
  {
   "cell_type": "markdown",
   "id": "f743c736-2abc-4ac4-b1cd-93e19787a09a",
   "metadata": {},
   "source": [
    "`pitch_id`\n",
    "\n",
    "Self-explanatory, distinct ID given to each pitch."
   ]
  },
  {
   "cell_type": "code",
   "execution_count": 151,
   "id": "07ab8d44-6f60-4a0f-9958-293c6c222a3a",
   "metadata": {},
   "outputs": [
    {
     "data": {
      "text/plain": [
       "'There are 354039 rows in training data set.'"
      ]
     },
     "metadata": {},
     "output_type": "display_data"
    }
   ],
   "source": [
    "# of rows in dataset\n",
    "display(f'There are {df_train.shape[0]} rows in training data set.')"
   ]
  },
  {
   "cell_type": "code",
   "execution_count": 152,
   "id": "06f3fbd6-fa96-46f4-8189-f7fa8028cbd1",
   "metadata": {},
   "outputs": [
    {
     "data": {
      "text/plain": [
       "'There are 354035 rows in training data set.'"
      ]
     },
     "metadata": {},
     "output_type": "display_data"
    }
   ],
   "source": [
    "# of distinct pitch IDs\n",
    "display(f\"There are {df_train['pitch_id'].unique().shape[0]} rows in training data set.\")"
   ]
  },
  {
   "cell_type": "markdown",
   "id": "b3a508d0-d2c9-481b-8ee7-9c12063eb12b",
   "metadata": {},
   "source": [
    "Interesting, so there are 4 pitches that are in the dataset 'twice'. At least that's my theory. Since that is such a small amount relative to the dataset, let's go ahead and identify and remove those dupes."
   ]
  },
  {
   "cell_type": "code",
   "execution_count": 153,
   "id": "ba0bda1a-0f0e-4c0d-b80f-f3bd3e9f169b",
   "metadata": {},
   "outputs": [],
   "source": [
    "vc_pitch_id = df_train['pitch_id'].value_counts()"
   ]
  },
  {
   "cell_type": "code",
   "execution_count": 154,
   "id": "2097ac45-0c35-4547-beb1-cd76161a51c7",
   "metadata": {},
   "outputs": [],
   "source": [
    "drop_pitch_id = vc_pitch_id[vc_pitch_id > 1].index.values.tolist()"
   ]
  },
  {
   "cell_type": "code",
   "execution_count": 155,
   "id": "f1ac4836-3d4d-45db-9ebc-bb9e858c2afa",
   "metadata": {},
   "outputs": [
    {
     "data": {
      "text/plain": [
       "['39b8ee0e-f2aa-4422-8fd8-d2d0f885a108',\n",
       " '11aa870a-fc24-482f-b3e6-4aaeac474cfe',\n",
       " '0edd497b-23fd-4c7d-91b8-f6040416d3ad',\n",
       " '6eb345fe-931d-4707-a5a1-9ba8181085e8']"
      ]
     },
     "execution_count": 155,
     "metadata": {},
     "output_type": "execute_result"
    }
   ],
   "source": [
    "drop_pitch_id"
   ]
  },
  {
   "cell_type": "markdown",
   "id": "945f65a8-08c4-4a83-8d3d-13d75094b9ec",
   "metadata": {},
   "source": [
    "Smells right, only 4 as expected."
   ]
  },
  {
   "cell_type": "code",
   "execution_count": 156,
   "id": "b64d172e-ed49-45f8-a6cc-d7db23a2bf86",
   "metadata": {},
   "outputs": [],
   "source": [
    "keep_pitch_id = vc_pitch_id[vc_pitch_id == 1].index.values.tolist()"
   ]
  },
  {
   "cell_type": "code",
   "execution_count": 157,
   "id": "ffdcbb6f-c32a-435d-b142-a383aff1862c",
   "metadata": {},
   "outputs": [
    {
     "data": {
      "text/plain": [
       "354031"
      ]
     },
     "execution_count": 157,
     "metadata": {},
     "output_type": "execute_result"
    }
   ],
   "source": [
    "len(keep_pitch_id)"
   ]
  },
  {
   "cell_type": "markdown",
   "id": "cc95c786-2d5d-45ab-b179-8523dea93413",
   "metadata": {},
   "source": [
    "Makes sense, as 4x2 rows will have the dupes:"
   ]
  },
  {
   "cell_type": "code",
   "execution_count": 158,
   "id": "69987476-a90a-423f-a28d-6da1014cb5eb",
   "metadata": {},
   "outputs": [
    {
     "data": {
      "text/plain": [
       "True"
      ]
     },
     "execution_count": 158,
     "metadata": {},
     "output_type": "execute_result"
    }
   ],
   "source": [
    "(len(keep_pitch_id) + 2*len(drop_pitch_id)) == df_train.shape[0]"
   ]
  },
  {
   "cell_type": "markdown",
   "id": "f65614a9-1061-4065-8fba-10b7e1248bf5",
   "metadata": {},
   "source": [
    "Let's save only the non-dupes. Moving forward, we will name our intended working dataset incorporating any edits or cleaning."
   ]
  },
  {
   "cell_type": "code",
   "execution_count": 159,
   "id": "dcbe0be8-8a56-4921-a460-300dcc30d225",
   "metadata": {},
   "outputs": [],
   "source": [
    "#Keep only the non-dupes\n",
    "df_train_use = df_train[df_train['pitch_id'].isin(keep_pitch_id)]"
   ]
  },
  {
   "cell_type": "code",
   "execution_count": 160,
   "id": "3709f3ab-0b2f-4f43-b0d2-fc1be364cc91",
   "metadata": {},
   "outputs": [
    {
     "data": {
      "text/plain": [
       "(354031, 31)"
      ]
     },
     "execution_count": 160,
     "metadata": {},
     "output_type": "execute_result"
    }
   ],
   "source": [
    "df_train_use.shape"
   ]
  },
  {
   "cell_type": "markdown",
   "id": "0e554ecf-c0cb-46a9-86c5-c98eb478a657",
   "metadata": {},
   "source": [
    "__Test Data__"
   ]
  },
  {
   "cell_type": "markdown",
   "id": "4ac043b3-8eb4-4337-a703-4c1455102265",
   "metadata": {},
   "source": [
    "For now, we'll leave test set as is. But let's at least make a placeholder."
   ]
  },
  {
   "cell_type": "code",
   "execution_count": 174,
   "id": "17790515-62e9-4745-96f1-9ce675ad6a67",
   "metadata": {},
   "outputs": [],
   "source": [
    "df_test_use = df_test.copy()"
   ]
  },
  {
   "cell_type": "markdown",
   "id": "8a3b9bbe-3d49-455b-9294-f8931084d6bb",
   "metadata": {},
   "source": [
    "---\n",
    "`season`\n",
    "\n",
    "Self-explanatory, let's take a quick look to make sure things look reasonable."
   ]
  },
  {
   "cell_type": "code",
   "execution_count": 161,
   "id": "be01eb2f-8675-4a0c-b90e-a1acd2d4efc9",
   "metadata": {},
   "outputs": [
    {
     "data": {
      "text/plain": [
       "2021    354031\n",
       "Name: season, dtype: int64"
      ]
     },
     "execution_count": 161,
     "metadata": {},
     "output_type": "execute_result"
    }
   ],
   "source": [
    "df_train_use['season'].value_counts()"
   ]
  },
  {
   "cell_type": "markdown",
   "id": "099db9a0-a554-44dd-8f16-764b2abfd36f",
   "metadata": {},
   "source": [
    "All from the same season. Let's check `df_test`."
   ]
  },
  {
   "cell_type": "code",
   "execution_count": 162,
   "id": "78889f24-907e-412e-bc72-d9f23ca58d68",
   "metadata": {},
   "outputs": [
    {
     "data": {
      "text/plain": [
       "2021    18633\n",
       "Name: season, dtype: int64"
      ]
     },
     "execution_count": 162,
     "metadata": {},
     "output_type": "execute_result"
    }
   ],
   "source": [
    "df_test['season'].value_counts()"
   ]
  },
  {
   "cell_type": "markdown",
   "id": "61884182-a5cf-461d-aa01-703d3f646c9a",
   "metadata": {},
   "source": [
    "Same. Since it's not adding any information let's remove it for simplicity."
   ]
  },
  {
   "cell_type": "code",
   "execution_count": 163,
   "id": "d983b072-2332-4757-9b74-1463f19d7e82",
   "metadata": {},
   "outputs": [],
   "source": [
    "df_train_use.drop(['season'], axis=1, inplace=True)"
   ]
  },
  {
   "cell_type": "code",
   "execution_count": 164,
   "id": "5f652da8-f0e6-4e0c-9daa-5a8e2201ba45",
   "metadata": {},
   "outputs": [
    {
     "data": {
      "text/plain": [
       "(354031, 30)"
      ]
     },
     "execution_count": 164,
     "metadata": {},
     "output_type": "execute_result"
    }
   ],
   "source": [
    "df_train_use.shape"
   ]
  },
  {
   "cell_type": "markdown",
   "id": "09887e68-ab59-434f-9b7d-e6c12c25c190",
   "metadata": {},
   "source": [
    "__Test Data__\n",
    "\n",
    "Also perform on test set."
   ]
  },
  {
   "cell_type": "code",
   "execution_count": 165,
   "id": "b22809d4-179c-47bd-a526-0cec6c1d2a83",
   "metadata": {
    "tags": []
   },
   "outputs": [
    {
     "data": {
      "text/plain": [
       "(18633, 30)"
      ]
     },
     "metadata": {},
     "output_type": "display_data"
    },
    {
     "data": {
      "text/plain": [
       "(18633, 29)"
      ]
     },
     "execution_count": 165,
     "metadata": {},
     "output_type": "execute_result"
    }
   ],
   "source": [
    "display(f'# columns before drop: {df_test.shape[1]}')\n",
    "df_test_use = df_test.drop(['season'], axis=1)\n",
    "display(f'# columns after drop: {df_test_use.shape[1]}')"
   ]
  },
  {
   "cell_type": "markdown",
   "id": "897705a2-938f-4bd8-b81f-7e04e607d9d0",
   "metadata": {},
   "source": [
    "---\n",
    "`game_date`\n",
    "\n",
    "Seems self-explanatory, let's take a quick look to make sure things look reasonable."
   ]
  },
  {
   "cell_type": "code",
   "execution_count": 166,
   "id": "9d7ffc0a-6041-493b-8ef7-99d62b3fdadf",
   "metadata": {},
   "outputs": [
    {
     "data": {
      "text/plain": [
       "dtype('O')"
      ]
     },
     "execution_count": 166,
     "metadata": {},
     "output_type": "execute_result"
    }
   ],
   "source": [
    "df_train_use['game_date'].dtype"
   ]
  },
  {
   "cell_type": "markdown",
   "id": "3e165ee6-f0f5-40fb-98f8-9934d8c1e3f3",
   "metadata": {},
   "source": [
    "Object, but maybe we will want it as a `date` to take advantage of date functionalities."
   ]
  },
  {
   "cell_type": "code",
   "execution_count": 167,
   "id": "1ed19002-d797-41b6-9b80-aa986a37e429",
   "metadata": {},
   "outputs": [
    {
     "data": {
      "text/plain": [
       "0    2021-05-13\n",
       "1    2021-07-29\n",
       "2    2021-05-15\n",
       "3    2021-06-05\n",
       "4    2021-06-13\n",
       "Name: game_date, dtype: object"
      ]
     },
     "execution_count": 167,
     "metadata": {},
     "output_type": "execute_result"
    }
   ],
   "source": [
    "df_train_use['game_date'].head()"
   ]
  },
  {
   "cell_type": "code",
   "execution_count": 168,
   "id": "42298ba7-b3a0-426e-867e-df685e401673",
   "metadata": {},
   "outputs": [],
   "source": [
    "df_train_use['game_date_dt'] = pd.to_datetime(df_train_use['game_date'])"
   ]
  },
  {
   "cell_type": "code",
   "execution_count": 169,
   "id": "fd4df967-1e05-460f-b701-2437fe2dafe3",
   "metadata": {},
   "outputs": [
    {
     "data": {
      "text/plain": [
       "dtype('<M8[ns]')"
      ]
     },
     "execution_count": 169,
     "metadata": {},
     "output_type": "execute_result"
    }
   ],
   "source": [
    "df_train_use['game_date_dt'].dtype"
   ]
  },
  {
   "cell_type": "code",
   "execution_count": 170,
   "id": "021a4dc3-0b73-428f-bb0a-4684a29c0016",
   "metadata": {},
   "outputs": [
    {
     "data": {
      "text/plain": [
       "0   2021-05-13\n",
       "1   2021-07-29\n",
       "2   2021-05-15\n",
       "3   2021-06-05\n",
       "4   2021-06-13\n",
       "Name: game_date_dt, dtype: datetime64[ns]"
      ]
     },
     "execution_count": 170,
     "metadata": {},
     "output_type": "execute_result"
    }
   ],
   "source": [
    "df_train_use['game_date_dt'].head()"
   ]
  },
  {
   "cell_type": "code",
   "execution_count": 171,
   "id": "f00f595c-bea3-4a43-a194-b4297379650c",
   "metadata": {},
   "outputs": [
    {
     "data": {
      "image/png": "[encoded data removed]",
      "text/plain": [
       "<Figure size 864x864 with 1 Axes>"
      ]
     },
     "metadata": {},
     "output_type": "display_data"
    }
   ],
   "source": [
    "sns.histplot(x='game_date_dt', data=df_train_use)\n",
    "sns.set(rc={'figure.figsize':(12,12)})\n",
    "plt.show()"
   ]
  },
  {
   "cell_type": "markdown",
   "id": "97d46321-73e2-4924-b1f3-cac876a15688",
   "metadata": {},
   "source": [
    "This smells right. Looks like it's a full season of data, roughly equally pulled across the season.\n",
    "\n",
    "There's a gap in July, but that should be the All-Star break."
   ]
  },
  {
   "cell_type": "markdown",
   "id": "6b9fb2c0-d0bf-404b-8d46-11c2c5cce7b7",
   "metadata": {},
   "source": [
    "We don't need the old `game_date` so let's `drop`."
   ]
  },
  {
   "cell_type": "code",
   "execution_count": 172,
   "id": "4c6ac398-a619-499f-ba6c-44f12c9f7ee7",
   "metadata": {},
   "outputs": [
    {
     "data": {
      "text/plain": [
       "'# columns before drop: 31'"
      ]
     },
     "metadata": {},
     "output_type": "display_data"
    },
    {
     "data": {
      "text/plain": [
       "'# columns after drop: 30'"
      ]
     },
     "metadata": {},
     "output_type": "display_data"
    }
   ],
   "source": [
    "display(f'# columns before drop: {df_train_use.shape[1]}')\n",
    "df_train_use.drop(['game_date'], axis=1, inplace=True)\n",
    "display(f'# columns after drop: {df_train_use.shape[1]}')"
   ]
  },
  {
   "cell_type": "markdown",
   "id": "47aa1676-27a2-4639-9705-d4f3b30c8051",
   "metadata": {},
   "source": [
    "__Test Data__\n",
    "\n",
    "Let's look at the spread of dates."
   ]
  },
  {
   "cell_type": "code",
   "execution_count": 175,
   "id": "eae4256f-bd04-459d-bed0-18f0c5c92b87",
   "metadata": {},
   "outputs": [],
   "source": [
    "# Create datetime version of column\n",
    "df_test_use['game_date_dt'] = pd.to_datetime(df_test_use['game_date'])"
   ]
  },
  {
   "cell_type": "markdown",
   "id": "099d3454-4598-44e7-ad35-9f28b9ce345c",
   "metadata": {},
   "source": [
    "Inspect histogram:"
   ]
  },
  {
   "cell_type": "code",
   "execution_count": 176,
   "id": "f016cdef-aae3-420e-a5e0-104f6f1e346c",
   "metadata": {},
   "outputs": [
    {
     "data": {
      "image/png": "[encoded data removed]",
      "text/plain": [
       "<Figure size 864x864 with 1 Axes>"
      ]
     },
     "metadata": {},
     "output_type": "display_data"
    }
   ],
   "source": [
    "sns.histplot(x='game_date_dt', data=df_test_use)\n",
    "sns.set(rc={'figure.figsize':(12,12)})\n",
    "plt.show()"
   ]
  },
  {
   "cell_type": "markdown",
   "id": "0f79a22a-b0e2-4da2-b753-de3efdb1871b",
   "metadata": {},
   "source": [
    "On visual inspection, looks like the test data is random sample from the same distribution of the train data. \n",
    "\n",
    "I'm ok with this."
   ]
  },
  {
   "cell_type": "code",
   "execution_count": 178,
   "id": "04af437d-7b76-4739-8fd0-51f657509973",
   "metadata": {},
   "outputs": [
    {
     "data": {
      "text/plain": [
       "'# columns before drop: 30'"
      ]
     },
     "metadata": {},
     "output_type": "display_data"
    },
    {
     "data": {
      "text/plain": [
       "'# columns after drop: 29'"
      ]
     },
     "metadata": {},
     "output_type": "display_data"
    }
   ],
   "source": [
    "display(f'# columns before drop: {df_test_use.shape[1]}')\n",
    "df_test_use.drop(['game_date'], axis=1, inplace=True)\n",
    "display(f'# columns after drop: {df_test_use.shape[1]}')"
   ]
  },
  {
   "cell_type": "markdown",
   "id": "e79acf07-fef1-4b46-809d-c31bd53d9fe9",
   "metadata": {},
   "source": [
    "----\n",
    "Let's look at those columns again:"
   ]
  },
  {
   "cell_type": "code",
   "execution_count": 188,
   "id": "4cac8634-884a-4940-a6a5-6a6239cd0777",
   "metadata": {},
   "outputs": [
    {
     "name": "stdout",
     "output_type": "stream",
     "text": [
      "['pitch_id', 'inning', 'side', 'run_diff', 'at_bat_index', 'pitch_of_ab', 'batter', 'pitcher', 'catcher', 'umpire', 'bside', 'pside', 'stringer_zone_bottom', 'stringer_zone_top', 'on_1b_mlbid', 'on_2b_mlbid', 'on_3b_mlbid', 'outs', 'balls', 'strikes', 'pitch_speed', 'px', 'pz', 'break_x', 'break_z', 'angle_x', 'angle_z', 'pitch_type', 'strike_bool', 'game_date_dt']\n"
     ]
    }
   ],
   "source": [
    "print(list(df_train_use.columns))"
   ]
  },
  {
   "cell_type": "markdown",
   "id": "3ae2f15b-1db8-4a93-8899-15667bbd4a07",
   "metadata": {},
   "source": [
    "---\n",
    "`inning`\n",
    "\n",
    "Seems self-explanatory, let's take a quick look to make sure things look reasonable."
   ]
  },
  {
   "cell_type": "code",
   "execution_count": 182,
   "id": "e351ac45-978f-47f9-87ec-efaf94852144",
   "metadata": {},
   "outputs": [
    {
     "data": {
      "text/plain": [
       "dtype('int64')"
      ]
     },
     "execution_count": 182,
     "metadata": {},
     "output_type": "execute_result"
    }
   ],
   "source": [
    "df_train_use['inning'].dtype"
   ]
  },
  {
   "cell_type": "code",
   "execution_count": 183,
   "id": "33b1aec9-2aac-4bc0-a52d-9214ee8be58d",
   "metadata": {},
   "outputs": [
    {
     "data": {
      "text/plain": [
       "1     41940\n",
       "2     40335\n",
       "6     40249\n",
       "7     40161\n",
       "3     40132\n",
       "5     39616\n",
       "8     39416\n",
       "4     39340\n",
       "9     28683\n",
       "10     2949\n",
       "11      902\n",
       "12      215\n",
       "13       49\n",
       "15       18\n",
       "16       17\n",
       "14        9\n",
       "Name: inning, dtype: int64"
      ]
     },
     "execution_count": 183,
     "metadata": {},
     "output_type": "execute_result"
    }
   ],
   "source": [
    "df_train_use['inning'].value_counts()"
   ]
  },
  {
   "cell_type": "code",
   "execution_count": 200,
   "id": "5956e623-5c95-4e2b-afef-2c6be5f6a685",
   "metadata": {},
   "outputs": [
    {
     "data": {
      "image/png": "[encoded data removed]",
      "text/plain": [
       "<Figure size 288x216 with 1 Axes>"
      ]
     },
     "metadata": {},
     "output_type": "display_data"
    }
   ],
   "source": [
    "sns.countplot(x='inning', data=df_train_use)\n",
    "sns.set(rc={'figure.figsize':(8,6)})\n",
    "plt.show()"
   ]
  },
  {
   "cell_type": "markdown",
   "id": "b69d98c6-0f65-4503-b9af-43d18458841c",
   "metadata": {},
   "source": [
    "Seems to make sense:\n",
    "- innings > 9 are extra inning games\n",
    "- 9th innning having lower volume of pitches relative to `inning`s <=8 likely due to home team leading after top of the 9th."
   ]
  },
  {
   "cell_type": "markdown",
   "id": "110b6133-401b-43d2-a7a7-ec75293cff64",
   "metadata": {
    "tags": []
   },
   "source": [
    "I'm ok with this."
   ]
  },
  {
   "cell_type": "markdown",
   "id": "1fbe7a80-86b5-4682-9d7c-c751ac68b4ba",
   "metadata": {},
   "source": [
    "----\n",
    "Let's look at those columns again:"
   ]
  },
  {
   "cell_type": "code",
   "execution_count": 188,
   "id": "fb311b10-3849-46d0-88a7-64097e1f8208",
   "metadata": {
    "tags": []
   },
   "outputs": [
    {
     "name": "stdout",
     "output_type": "stream",
     "text": [
      "['pitch_id', 'inning', 'side', 'run_diff', 'at_bat_index', 'pitch_of_ab', 'batter', 'pitcher', 'catcher', 'umpire', 'bside', 'pside', 'stringer_zone_bottom', 'stringer_zone_top', 'on_1b_mlbid', 'on_2b_mlbid', 'on_3b_mlbid', 'outs', 'balls', 'strikes', 'pitch_speed', 'px', 'pz', 'break_x', 'break_z', 'angle_x', 'angle_z', 'pitch_type', 'strike_bool', 'game_date_dt']\n"
     ]
    }
   ],
   "source": [
    "print(list(df_train_use.columns))"
   ]
  },
  {
   "cell_type": "markdown",
   "id": "4f67ff59-4df5-4068-ba68-1c78dfd4c6df",
   "metadata": {},
   "source": [
    "---\n",
    "`side`\n"
   ]
  },
  {
   "cell_type": "code",
   "execution_count": 189,
   "id": "cd554cf1-e051-4c0f-81f1-d10bd8041a7a",
   "metadata": {},
   "outputs": [
    {
     "data": {
      "application/com.datacamp.data-table.v1+json": {
       "is_truncated": false,
       "table": {
        "data": [
         {
          "angle_x": 3.02727,
          "angle_z": 5.59379,
          "at_bat_index": 54,
          "balls": 3,
          "batter": 405947,
          "break_x": 1.91535,
          "break_z": -9.54142,
          "bside": "R",
          "catcher": 528871,
          "game_date_dt": "2021-05-13T00:00:00.000Z",
          "index": 0,
          "inning": 7,
          "on_1b_mlbid": null,
          "on_2b_mlbid": null,
          "on_3b_mlbid": null,
          "outs": 1,
          "pitch_id": "01311c57-5046-48d7-ac68-000060a98ccb",
          "pitch_of_ab": 5,
          "pitch_speed": 97.4298,
          "pitch_type": "FA",
          "pitcher": 756778,
          "pside": "L",
          "px": -1.2981,
          "pz": 2.30217,
          "run_diff": -2,
          "side": "home",
          "strike_bool": 0,
          "strikes": 1,
          "stringer_zone_bottom": 1.56,
          "stringer_zone_top": 3.41,
          "umpire": 482420
         },
         {
          "angle_x": -1.56782,
          "angle_z": 6.86676,
          "at_bat_index": 69,
          "balls": 1,
          "batter": 468294,
          "break_x": -12.1373,
          "break_z": -21.9427,
          "bside": "L",
          "catcher": 594400,
          "game_date_dt": "2021-07-29T00:00:00.000Z",
          "index": 1,
          "inning": 9,
          "on_1b_mlbid": 614736,
          "on_2b_mlbid": 561368,
          "on_3b_mlbid": null,
          "outs": 0,
          "pitch_id": "208d0186-b7c9-46bd-8297-0001539b714c",
          "pitch_of_ab": 2,
          "pitch_speed": 91.7712,
          "pitch_type": "FA",
          "pitcher": 778005,
          "pside": "R",
          "px": 1.41222,
          "pz": 1.57443,
          "run_diff": 4,
          "side": "home",
          "strike_bool": 0,
          "strikes": 0,
          "stringer_zone_bottom": 1.59,
          "stringer_zone_top": 3.47,
          "umpire": 583103
         },
         {
          "angle_x": 2.04966,
          "angle_z": 7.17281,
          "at_bat_index": 1,
          "balls": 2,
          "batter": 406141,
          "break_x": -0.992261,
          "break_z": -25.5107,
          "bside": "L",
          "catcher": 633795,
          "game_date_dt": "2021-05-15T00:00:00.000Z",
          "index": 2,
          "inning": 1,
          "on_1b_mlbid": null,
          "on_2b_mlbid": null,
          "on_3b_mlbid": null,
          "outs": 1,
          "pitch_id": "4a24d09e-2d9b-4d12-a0eb-0004723ce539",
          "pitch_of_ab": 3,
          "pitch_speed": 87.813,
          "pitch_type": "SL",
          "pitcher": 451846,
          "pside": "L",
          "px": -0.18119,
          "pz": 2.11248,
          "run_diff": 0,
          "side": "home",
          "strike_bool": 1,
          "strikes": 0,
          "stringer_zone_bottom": 1.68,
          "stringer_zone_top": 3.58,
          "umpire": 423579
         },
         {
          "angle_x": 2.96845,
          "angle_z": 8.50392,
          "at_bat_index": 5,
          "balls": 0,
          "batter": 615134,
          "break_x": -2.8393,
          "break_z": -27.2509,
          "bside": "R",
          "catcher": 633812,
          "game_date_dt": "2021-06-05T00:00:00.000Z",
          "index": 3,
          "inning": 1,
          "on_1b_mlbid": 433785,
          "on_2b_mlbid": null,
          "on_3b_mlbid": null,
          "outs": 2,
          "pitch_id": "486aa6b8-7c43-4974-8a53-000611a9c649",
          "pitch_of_ab": 3,
          "pitch_speed": 86.5546,
          "pitch_type": "SL",
          "pitcher": 564585,
          "pside": "L",
          "px": -0.885538,
          "pz": 0.598692,
          "run_diff": 2,
          "side": "home",
          "strike_bool": 0,
          "strikes": 2,
          "stringer_zone_bottom": 1.63,
          "stringer_zone_top": 3.55,
          "umpire": 482532
         },
         {
          "angle_x": -2.64734,
          "angle_z": 5.63426,
          "at_bat_index": 24,
          "balls": 3,
          "batter": 626949,
          "break_x": -6.41995,
          "break_z": -14.3172,
          "bside": "R",
          "catcher": 614419,
          "game_date_dt": "2021-06-13T00:00:00.000Z",
          "index": 4,
          "inning": 3,
          "on_1b_mlbid": 784643,
          "on_2b_mlbid": 471961,
          "on_3b_mlbid": 587651,
          "outs": 2,
          "pitch_id": "2aff251b-099b-447b-9862-00100124b7c1",
          "pitch_of_ab": 5,
          "pitch_speed": 95.0891,
          "pitch_type": "XX",
          "pitcher": 784463,
          "pside": "R",
          "px": 0.900718,
          "pz": 2.0182,
          "run_diff": -2,
          "side": "home",
          "strike_bool": 1,
          "strikes": 1,
          "stringer_zone_bottom": 1.63,
          "stringer_zone_top": 3.55,
          "umpire": 596164
         }
        ],
        "schema": {
         "fields": [
          {
           "name": "index",
           "type": "integer"
          },
          {
           "name": "pitch_id",
           "type": "string"
          },
          {
           "name": "inning",
           "type": "integer"
          },
          {
           "name": "side",
           "type": "string"
          },
          {
           "name": "run_diff",
           "type": "integer"
          },
          {
           "name": "at_bat_index",
           "type": "integer"
          },
          {
           "name": "pitch_of_ab",
           "type": "integer"
          },
          {
           "name": "batter",
           "type": "integer"
          },
          {
           "name": "pitcher",
           "type": "integer"
          },
          {
           "name": "catcher",
           "type": "integer"
          },
          {
           "name": "umpire",
           "type": "integer"
          },
          {
           "name": "bside",
           "type": "string"
          },
          {
           "name": "pside",
           "type": "string"
          },
          {
           "name": "stringer_zone_bottom",
           "type": "number"
          },
          {
           "name": "stringer_zone_top",
           "type": "number"
          },
          {
           "name": "on_1b_mlbid",
           "type": "number"
          },
          {
           "name": "on_2b_mlbid",
           "type": "number"
          },
          {
           "name": "on_3b_mlbid",
           "type": "number"
          },
          {
           "name": "outs",
           "type": "integer"
          },
          {
           "name": "balls",
           "type": "integer"
          },
          {
           "name": "strikes",
           "type": "integer"
          },
          {
           "name": "pitch_speed",
           "type": "number"
          },
          {
           "name": "px",
           "type": "number"
          },
          {
           "name": "pz",
           "type": "number"
          },
          {
           "name": "break_x",
           "type": "number"
          },
          {
           "name": "break_z",
           "type": "number"
          },
          {
           "name": "angle_x",
           "type": "number"
          },
          {
           "name": "angle_z",
           "type": "number"
          },
          {
           "name": "pitch_type",
           "type": "string"
          },
          {
           "name": "strike_bool",
           "type": "integer"
          },
          {
           "name": "game_date_dt",
           "type": "datetime"
          }
         ],
         "pandas_version": "0.20.0",
         "primaryKey": [
          "index"
         ]
        }
       },
       "total_rows": 5
      },
      "text/html": [
       "<div>\n",
       "<style scoped>\n",
       "    .dataframe tbody tr th:only-of-type {\n",
       "        vertical-align: middle;\n",
       "    }\n",
       "\n",
       "    .dataframe tbody tr th {\n",
       "        vertical-align: top;\n",
       "    }\n",
       "\n",
       "    .dataframe thead th {\n",
       "        text-align: right;\n",
       "    }\n",
       "</style>\n",
       "<table border=\"1\" class=\"dataframe\">\n",
       "  <thead>\n",
       "    <tr style=\"text-align: right;\">\n",
       "      <th></th>\n",
       "      <th>pitch_id</th>\n",
       "      <th>inning</th>\n",
       "      <th>side</th>\n",
       "      <th>run_diff</th>\n",
       "      <th>at_bat_index</th>\n",
       "      <th>pitch_of_ab</th>\n",
       "      <th>batter</th>\n",
       "      <th>pitcher</th>\n",
       "      <th>catcher</th>\n",
       "      <th>umpire</th>\n",
       "      <th>...</th>\n",
       "      <th>pitch_speed</th>\n",
       "      <th>px</th>\n",
       "      <th>pz</th>\n",
       "      <th>break_x</th>\n",
       "      <th>break_z</th>\n",
       "      <th>angle_x</th>\n",
       "      <th>angle_z</th>\n",
       "      <th>pitch_type</th>\n",
       "      <th>strike_bool</th>\n",
       "      <th>game_date_dt</th>\n",
       "    </tr>\n",
       "  </thead>\n",
       "  <tbody>\n",
       "    <tr>\n",
       "      <th>0</th>\n",
       "      <td>01311c57-5046-48d7-ac68-000060a98ccb</td>\n",
       "      <td>7</td>\n",
       "      <td>home</td>\n",
       "      <td>-2</td>\n",
       "      <td>54</td>\n",
       "      <td>5</td>\n",
       "      <td>405947</td>\n",
       "      <td>756778</td>\n",
       "      <td>528871</td>\n",
       "      <td>482420</td>\n",
       "      <td>...</td>\n",
       "      <td>97.4298</td>\n",
       "      <td>-1.298100</td>\n",
       "      <td>2.302170</td>\n",
       "      <td>1.915350</td>\n",
       "      <td>-9.54142</td>\n",
       "      <td>3.02727</td>\n",
       "      <td>5.59379</td>\n",
       "      <td>FA</td>\n",
       "      <td>0</td>\n",
       "      <td>2021-05-13</td>\n",
       "    </tr>\n",
       "    <tr>\n",
       "      <th>1</th>\n",
       "      <td>208d0186-b7c9-46bd-8297-0001539b714c</td>\n",
       "      <td>9</td>\n",
       "      <td>home</td>\n",
       "      <td>4</td>\n",
       "      <td>69</td>\n",
       "      <td>2</td>\n",
       "      <td>468294</td>\n",
       "      <td>778005</td>\n",
       "      <td>594400</td>\n",
       "      <td>583103</td>\n",
       "      <td>...</td>\n",
       "      <td>91.7712</td>\n",
       "      <td>1.412220</td>\n",
       "      <td>1.574430</td>\n",
       "      <td>-12.137300</td>\n",
       "      <td>-21.94270</td>\n",
       "      <td>-1.56782</td>\n",
       "      <td>6.86676</td>\n",
       "      <td>FA</td>\n",
       "      <td>0</td>\n",
       "      <td>2021-07-29</td>\n",
       "    </tr>\n",
       "    <tr>\n",
       "      <th>2</th>\n",
       "      <td>4a24d09e-2d9b-4d12-a0eb-0004723ce539</td>\n",
       "      <td>1</td>\n",
       "      <td>home</td>\n",
       "      <td>0</td>\n",
       "      <td>1</td>\n",
       "      <td>3</td>\n",
       "      <td>406141</td>\n",
       "      <td>451846</td>\n",
       "      <td>633795</td>\n",
       "      <td>423579</td>\n",
       "      <td>...</td>\n",
       "      <td>87.8130</td>\n",
       "      <td>-0.181190</td>\n",
       "      <td>2.112480</td>\n",
       "      <td>-0.992261</td>\n",
       "      <td>-25.51070</td>\n",
       "      <td>2.04966</td>\n",
       "      <td>7.17281</td>\n",
       "      <td>SL</td>\n",
       "      <td>1</td>\n",
       "      <td>2021-05-15</td>\n",
       "    </tr>\n",
       "    <tr>\n",
       "      <th>3</th>\n",
       "      <td>486aa6b8-7c43-4974-8a53-000611a9c649</td>\n",
       "      <td>1</td>\n",
       "      <td>home</td>\n",
       "      <td>2</td>\n",
       "      <td>5</td>\n",
       "      <td>3</td>\n",
       "      <td>615134</td>\n",
       "      <td>564585</td>\n",
       "      <td>633812</td>\n",
       "      <td>482532</td>\n",
       "      <td>...</td>\n",
       "      <td>86.5546</td>\n",
       "      <td>-0.885538</td>\n",
       "      <td>0.598692</td>\n",
       "      <td>-2.839300</td>\n",
       "      <td>-27.25090</td>\n",
       "      <td>2.96845</td>\n",
       "      <td>8.50392</td>\n",
       "      <td>SL</td>\n",
       "      <td>0</td>\n",
       "      <td>2021-06-05</td>\n",
       "    </tr>\n",
       "    <tr>\n",
       "      <th>4</th>\n",
       "      <td>2aff251b-099b-447b-9862-00100124b7c1</td>\n",
       "      <td>3</td>\n",
       "      <td>home</td>\n",
       "      <td>-2</td>\n",
       "      <td>24</td>\n",
       "      <td>5</td>\n",
       "      <td>626949</td>\n",
       "      <td>784463</td>\n",
       "      <td>614419</td>\n",
       "      <td>596164</td>\n",
       "      <td>...</td>\n",
       "      <td>95.0891</td>\n",
       "      <td>0.900718</td>\n",
       "      <td>2.018200</td>\n",
       "      <td>-6.419950</td>\n",
       "      <td>-14.31720</td>\n",
       "      <td>-2.64734</td>\n",
       "      <td>5.63426</td>\n",
       "      <td>XX</td>\n",
       "      <td>1</td>\n",
       "      <td>2021-06-13</td>\n",
       "    </tr>\n",
       "  </tbody>\n",
       "</table>\n",
       "<p>5 rows × 30 columns</p>\n",
       "</div>"
      ],
      "text/plain": [
       "                               pitch_id  inning  side  run_diff  at_bat_index  \\\n",
       "0  01311c57-5046-48d7-ac68-000060a98ccb       7  home        -2            54   \n",
       "1  208d0186-b7c9-46bd-8297-0001539b714c       9  home         4            69   \n",
       "2  4a24d09e-2d9b-4d12-a0eb-0004723ce539       1  home         0             1   \n",
       "3  486aa6b8-7c43-4974-8a53-000611a9c649       1  home         2             5   \n",
       "4  2aff251b-099b-447b-9862-00100124b7c1       3  home        -2            24   \n",
       "\n",
       "   pitch_of_ab  batter  pitcher  catcher  umpire  ... pitch_speed        px  \\\n",
       "0            5  405947   756778   528871  482420  ...     97.4298 -1.298100   \n",
       "1            2  468294   778005   594400  583103  ...     91.7712  1.412220   \n",
       "2            3  406141   451846   633795  423579  ...     87.8130 -0.181190   \n",
       "3            3  615134   564585   633812  482532  ...     86.5546 -0.885538   \n",
       "4            5  626949   784463   614419  596164  ...     95.0891  0.900718   \n",
       "\n",
       "         pz    break_x   break_z  angle_x  angle_z  pitch_type  strike_bool  \\\n",
       "0  2.302170   1.915350  -9.54142  3.02727  5.59379          FA            0   \n",
       "1  1.574430 -12.137300 -21.94270 -1.56782  6.86676          FA            0   \n",
       "2  2.112480  -0.992261 -25.51070  2.04966  7.17281          SL            1   \n",
       "3  0.598692  -2.839300 -27.25090  2.96845  8.50392          SL            0   \n",
       "4  2.018200  -6.419950 -14.31720 -2.64734  5.63426          XX            1   \n",
       "\n",
       "   game_date_dt  \n",
       "0    2021-05-13  \n",
       "1    2021-07-29  \n",
       "2    2021-05-15  \n",
       "3    2021-06-05  \n",
       "4    2021-06-13  \n",
       "\n",
       "[5 rows x 30 columns]"
      ]
     },
     "execution_count": 189,
     "metadata": {},
     "output_type": "execute_result"
    }
   ],
   "source": [
    "df_train_use.head()"
   ]
  },
  {
   "cell_type": "code",
   "execution_count": 190,
   "id": "6c876f5c-be1e-4cbc-b14c-db4b3bc2e4ad",
   "metadata": {},
   "outputs": [
    {
     "data": {
      "text/plain": [
       "home    179188\n",
       "away    174843\n",
       "Name: side, dtype: int64"
      ]
     },
     "execution_count": 190,
     "metadata": {},
     "output_type": "execute_result"
    }
   ],
   "source": [
    "df_train_use['side'].value_counts()"
   ]
  },
  {
   "cell_type": "markdown",
   "id": "757deb29-4f96-4486-bb73-5d235c3c9642",
   "metadata": {},
   "source": [
    "---\n",
    "`run_diff`\n",
    "\n",
    "This seems to be run differential at the time of the pitch. Let's look to make sure the values agree with our understanding of that.\n"
   ]
  },
  {
   "cell_type": "code",
   "execution_count": 216,
   "id": "053c8b0b-ea6c-4c28-b609-9b4a1641abb2",
   "metadata": {},
   "outputs": [],
   "source": [
    "sns.set(rc={'figure.figsize':(8,4)})"
   ]
  },
  {
   "cell_type": "code",
   "execution_count": 218,
   "id": "2033f975-1a46-4e95-a8cd-e3355ac881ca",
   "metadata": {},
   "outputs": [
    {
     "data": {
      "image/png": "[encoded data removed]",
      "text/plain": [
       "<Figure size 576x288 with 1 Axes>"
      ]
     },
     "metadata": {},
     "output_type": "display_data"
    }
   ],
   "source": [
    "sns.countplot(x='run_diff', data=df_train_use)\n",
    "plt.show()"
   ]
  },
  {
   "cell_type": "markdown",
   "id": "aecca043-f7cf-4fec-9d74-dd7cbf225c55",
   "metadata": {},
   "source": [
    "Makes sense, leave as is."
   ]
  },
  {
   "cell_type": "markdown",
   "id": "fd102316-786b-4f07-a127-cfe71943810b",
   "metadata": {},
   "source": [
    "---\n",
    "`at_bat_index`\n",
    "\n",
    "This appears to be enumerated at-bats, starting at index `0`.\n"
   ]
  },
  {
   "cell_type": "code",
   "execution_count": 223,
   "id": "7eb6bec5-8015-4583-ae15-bf492945af12",
   "metadata": {},
   "outputs": [
    {
     "data": {
      "text/plain": [
       "0      4680\n",
       "1      4836\n",
       "2      4843\n",
       "3      4860\n",
       "4      4822\n",
       "       ... \n",
       "120       2\n",
       "121       3\n",
       "122       1\n",
       "123       2\n",
       "124       4\n",
       "Name: at_bat_index, Length: 121, dtype: int64"
      ]
     },
     "execution_count": 223,
     "metadata": {},
     "output_type": "execute_result"
    }
   ],
   "source": [
    "df_train_use['at_bat_index'].value_counts(sort=False)"
   ]
  },
  {
   "cell_type": "code",
   "execution_count": 227,
   "id": "8684ab75-bc18-412e-bc55-de0f1c36c7ce",
   "metadata": {},
   "outputs": [],
   "source": [
    "sns.set(rc={'figure.figsize':(18,6)})"
   ]
  },
  {
   "cell_type": "code",
   "execution_count": 229,
   "id": "485bee35-12d1-48ee-ba4d-11cc52cae41a",
   "metadata": {},
   "outputs": [
    {
     "data": {
      "image/png": "[encoded data removed]",
      "text/plain": [
       "<Figure size 1296x432 with 1 Axes>"
      ]
     },
     "metadata": {},
     "output_type": "display_data"
    }
   ],
   "source": [
    "ax = sns.countplot(x='at_bat_index', data=df_train_use)\n",
    "ax.set_xticklabels(ax.get_xticklabels(),rotation = 90)\n",
    "plt.show()"
   ]
  },
  {
   "cell_type": "markdown",
   "id": "55ad2fdd-2173-4dae-81e0-c97f4132862d",
   "metadata": {},
   "source": [
    "Ok, this smells ok, it should indicate the number of at bats for both teams over the course of the game."
   ]
  },
  {
   "cell_type": "markdown",
   "id": "7b560ea1-734c-4bba-ad77-c01b118b9ec3",
   "metadata": {},
   "source": [
    "----\n",
    "Let's look at those columns again:"
   ]
  },
  {
   "cell_type": "code",
   "execution_count": 188,
   "id": "0c9d09f2-bd57-4bdf-94bf-1c1edc38f101",
   "metadata": {
    "tags": []
   },
   "outputs": [
    {
     "name": "stdout",
     "output_type": "stream",
     "text": [
      "['pitch_id', 'inning', 'side', 'run_diff', 'at_bat_index', 'pitch_of_ab', 'batter', 'pitcher', 'catcher', 'umpire', 'bside', 'pside', 'stringer_zone_bottom', 'stringer_zone_top', 'on_1b_mlbid', 'on_2b_mlbid', 'on_3b_mlbid', 'outs', 'balls', 'strikes', 'pitch_speed', 'px', 'pz', 'break_x', 'break_z', 'angle_x', 'angle_z', 'pitch_type', 'strike_bool', 'game_date_dt']\n"
     ]
    }
   ],
   "source": [
    "print(list(df_train_use.columns))"
   ]
  },
  {
   "cell_type": "markdown",
   "id": "f162e27f-1371-4a43-8258-ce8cc92f2ceb",
   "metadata": {},
   "source": [
    "---\n",
    "`pitch_of_ab`\n",
    "\n",
    "Sounds like enumerated pitch during an at-bat."
   ]
  },
  {
   "cell_type": "code",
   "execution_count": 227,
   "id": "69983108-7223-4af3-8802-dea2d9de96e0",
   "metadata": {},
   "outputs": [],
   "source": [
    "sns.set(rc={'figure.figsize':(18,6)})"
   ]
  },
  {
   "cell_type": "code",
   "execution_count": 230,
   "id": "90348eac-10dd-4301-ab0d-97f02f67532a",
   "metadata": {},
   "outputs": [
    {
     "data": {
      "image/png": "[encoded data removed]",
      "text/plain": [
       "<Figure size 1296x432 with 1 Axes>"
      ]
     },
     "metadata": {},
     "output_type": "display_data"
    }
   ],
   "source": [
    "ax = sns.countplot(x='pitch_of_ab', data=df_train_use)\n",
    "ax.set_xticklabels(ax.get_xticklabels(),rotation = 90)\n",
    "plt.show()"
   ]
  },
  {
   "cell_type": "markdown",
   "id": "c414bd4e-e095-4c8e-b936-5b80978a451c",
   "metadata": {},
   "source": [
    "Makes sense."
   ]
  },
  {
   "cell_type": "markdown",
   "id": "31489df5-50fb-40aa-9597-e4283e8fe3c9",
   "metadata": {},
   "source": [
    "---\n",
    "`batter`, `pitcher`, `catcher`, `umpire`\n",
    "\n",
    "These look like IDs for the individual persons in these roles."
   ]
  },
  {
   "cell_type": "code",
   "execution_count": 233,
   "id": "2a09a8ec-97df-4f73-9a7d-92b1c3582cf5",
   "metadata": {},
   "outputs": [],
   "source": [
    "roles = ['batter', 'pitcher', 'catcher', 'umpire']"
   ]
  },
  {
   "cell_type": "code",
   "execution_count": 250,
   "id": "8d1782d3-17b9-4320-aaae-2d73ffeadf73",
   "metadata": {},
   "outputs": [
    {
     "data": {
      "text/plain": [
       "627264    1651\n",
       "782551    1608\n",
       "627785    1542\n",
       "784584    1537\n",
       "785447    1501\n",
       "          ... \n",
       "777115       1\n",
       "776776       1\n",
       "773396       1\n",
       "565835       1\n",
       "406163       1\n",
       "Name: batter, Length: 1032, dtype: int64"
      ]
     },
     "metadata": {},
     "output_type": "display_data"
    },
    {
     "name": "stdout",
     "output_type": "stream",
     "text": [
      "\n",
      "\n"
     ]
    },
    {
     "data": {
      "text/plain": [
       "529217    1684\n",
       "501531    1636\n",
       "565784    1554\n",
       "565989    1540\n",
       "565870    1532\n",
       "          ... \n",
       "785946       1\n",
       "529451       1\n",
       "530174       1\n",
       "577470       1\n",
       "579250       1\n",
       "Name: pitcher, Length: 909, dtype: int64"
      ]
     },
     "metadata": {},
     "output_type": "display_data"
    },
    {
     "name": "stdout",
     "output_type": "stream",
     "text": [
      "\n",
      "\n"
     ]
    },
    {
     "data": {
      "text/plain": [
       "627932    9091\n",
       "404869    8882\n",
       "469396    8649\n",
       "501708    8630\n",
       "594400    8048\n",
       "          ... \n",
       "529360      15\n",
       "563292      14\n",
       "780355      11\n",
       "777271      10\n",
       "777642      10\n",
       "Name: catcher, Length: 116, dtype: int64"
      ]
     },
     "metadata": {},
     "output_type": "display_data"
    },
    {
     "name": "stdout",
     "output_type": "stream",
     "text": [
      "\n",
      "\n"
     ]
    },
    {
     "data": {
      "text/plain": [
       "574224    5055\n",
       "634203    5015\n",
       "404602    4891\n",
       "574236    4778\n",
       "482473    4634\n",
       "          ... \n",
       "482682     776\n",
       "527980     324\n",
       "583102     323\n",
       "565191     144\n",
       "564951     128\n",
       "Name: umpire, Length: 99, dtype: int64"
      ]
     },
     "metadata": {},
     "output_type": "display_data"
    },
    {
     "name": "stdout",
     "output_type": "stream",
     "text": [
      "\n",
      "\n"
     ]
    }
   ],
   "source": [
    "# Get value counts for each role\n",
    "for i in range(len(roles)):\n",
    "    display(df_train_use.loc[:,roles[i]].value_counts())\n",
    "    print('\\n')"
   ]
  },
  {
   "cell_type": "markdown",
   "id": "cf36165b-f76c-40ff-92fb-21aa00dd19ac",
   "metadata": {},
   "source": [
    "So it appears that there are about 1k different `batter`s, 900 different `pitcher`s, >100 different `catcher`s, and ~100 `umpires`\n",
    "\n",
    "The relative size makes sense. While it's arguable that the presence of a certain individual can affect the strike call (umpires have different strike zones, some pitchers are more wild, some catchers excel at framing, etc.) I'm not entirely sure how feasible it will be to use any of all of these as categories since it would greatly increasing the dimensionality of the dataset. But we'll keep for now."
   ]
  },
  {
   "cell_type": "markdown",
   "id": "a8f79c19-d5d9-4ebe-a3e1-399cd0046b37",
   "metadata": {},
   "source": [
    "----\n",
    "Let's look at those columns again:"
   ]
  },
  {
   "cell_type": "code",
   "execution_count": 188,
   "id": "5e3c59e5-304b-447b-8cf7-d91e9247be27",
   "metadata": {
    "tags": []
   },
   "outputs": [
    {
     "name": "stdout",
     "output_type": "stream",
     "text": [
      "['pitch_id', 'inning', 'side', 'run_diff', 'at_bat_index', 'pitch_of_ab', 'batter', 'pitcher', 'catcher', 'umpire', 'bside', 'pside', 'stringer_zone_bottom', 'stringer_zone_top', 'on_1b_mlbid', 'on_2b_mlbid', 'on_3b_mlbid', 'outs', 'balls', 'strikes', 'pitch_speed', 'px', 'pz', 'break_x', 'break_z', 'angle_x', 'angle_z', 'pitch_type', 'strike_bool', 'game_date_dt']\n"
     ]
    }
   ],
   "source": [
    "print(list(df_train_use.columns))"
   ]
  },
  {
   "cell_type": "markdown",
   "id": "3059f099-7255-4f9d-9122-652bd54fd382",
   "metadata": {},
   "source": [
    "---\n",
    "`bside`, `pside`\n",
    "\n",
    "Sounds like the Side/Handedness of the batter and pitcher."
   ]
  },
  {
   "cell_type": "code",
   "execution_count": 251,
   "id": "df74d132-d705-48fc-bffc-7cfba755e303",
   "metadata": {},
   "outputs": [],
   "source": [
    "sides = ['bside', 'pside']"
   ]
  },
  {
   "cell_type": "code",
   "execution_count": 253,
   "id": "bd85419e-2283-4143-8771-d88991cc7167",
   "metadata": {},
   "outputs": [
    {
     "data": {
      "text/plain": [
       "R    207666\n",
       "L    146365\n",
       "Name: bside, dtype: int64"
      ]
     },
     "metadata": {},
     "output_type": "display_data"
    },
    {
     "name": "stdout",
     "output_type": "stream",
     "text": [
      "\n",
      "\n"
     ]
    },
    {
     "data": {
      "text/plain": [
       "R    249281\n",
       "L    104750\n",
       "Name: pside, dtype: int64"
      ]
     },
     "metadata": {},
     "output_type": "display_data"
    },
    {
     "name": "stdout",
     "output_type": "stream",
     "text": [
      "\n",
      "\n"
     ]
    }
   ],
   "source": [
    "# Get value counts for each role\n",
    "for i in range(len(sides)):\n",
    "    display(df_train_use.loc[:,sides[i]].value_counts())\n",
    "    print('\\n')"
   ]
  },
  {
   "cell_type": "markdown",
   "id": "d00904a2-1d6c-49da-b644-fb4b22235126",
   "metadata": {},
   "source": [
    "I think this is a reasonable assumption. Leave as is."
   ]
  },
  {
   "cell_type": "markdown",
   "id": "fd3cc812-dd47-45e9-be8e-81d41b59af52",
   "metadata": {},
   "source": [
    "---\n",
    "`stringer_zone_bottom`, `stringer_zone_top`\n",
    "\n",
    "I really didn't have a pre-existing idea what this could be, but on some research I think it's the following:\n",
    "\n",
    "From [Baseball Prospectus]():  \n",
    "_For postgame analysis, there is no standard definition of the strike zone. That’s partly because most postgame analysis is done without the knowledge of each particular batter’s stance. In the absence of the batter’s stance information, analysts use a generic, “typical” batter strike zone, but each analyst has their own idea of the dimensions and location. Or they might use data of the top and bottom, which is set by MLB stringers. But **stringers are people setting a top and bottom based on their subjective assessment, or they use pre-defined values obtained at some random time that may or may not be relevant to the player at the time of batting.**_\n",
    "\n",
    "So while it sounds like there is some subjectivity to the setting of these values, it is likely a piece of information that will have some signal.\n",
    "\n",
    "Let's take a look."
   ]
  },
  {
   "cell_type": "code",
   "execution_count": 254,
   "id": "0669cab1-e715-44b7-98b6-878148f91341",
   "metadata": {},
   "outputs": [],
   "source": [
    "zone_edges = ['stringer_zone_bottom', 'stringer_zone_top']"
   ]
  },
  {
   "cell_type": "code",
   "execution_count": 261,
   "id": "0d4439b7-22a2-40d4-bd93-6854ad008392",
   "metadata": {},
   "outputs": [
    {
     "data": {
      "text/plain": [
       "1.53    53025\n",
       "1.56    50127\n",
       "1.59    47673\n",
       "1.60    34038\n",
       "1.51    33166\n",
       "        ...  \n",
       "1.05        1\n",
       "2.27        1\n",
       "0.79        1\n",
       "2.09        1\n",
       "1.00        1\n",
       "Name: stringer_zone_bottom, Length: 119, dtype: int64"
      ]
     },
     "metadata": {},
     "output_type": "display_data"
    },
    {
     "data": {
      "image/png": "[encoded data removed]",
      "text/plain": [
       "<Figure size 1296x432 with 1 Axes>"
      ]
     },
     "metadata": {},
     "output_type": "display_data"
    },
    {
     "name": "stdout",
     "output_type": "stream",
     "text": [
      "\n",
      "\n"
     ]
    },
    {
     "data": {
      "text/plain": [
       "3.37    52274\n",
       "3.41    49011\n",
       "3.47    46044\n",
       "3.32    32287\n",
       "3.49    32069\n",
       "        ...  \n",
       "2.31        1\n",
       "4.17        1\n",
       "4.20        1\n",
       "2.59        1\n",
       "4.52        1\n",
       "Name: stringer_zone_top, Length: 179, dtype: int64"
      ]
     },
     "metadata": {},
     "output_type": "display_data"
    },
    {
     "data": {
      "image/png": "[encoded data removed]",
      "text/plain": [
       "<Figure size 1296x432 with 1 Axes>"
      ]
     },
     "metadata": {},
     "output_type": "display_data"
    },
    {
     "name": "stdout",
     "output_type": "stream",
     "text": [
      "\n",
      "\n"
     ]
    }
   ],
   "source": [
    "# Get value counts for each role\n",
    "for i in range(len(zone_edges)):\n",
    "    display(df_train_use.loc[:,zone_edges[i]].value_counts())\n",
    "    ax = sns.countplot(x=zone_edges[i], data=df_train_use)\n",
    "    ax.set_xticklabels(ax.get_xticklabels(),rotation = 90)\n",
    "    plt.show()\n",
    "    print('\\n')"
   ]
  },
  {
   "cell_type": "markdown",
   "id": "6ebd7c88-62bd-41d3-a313-2116bb9f4846",
   "metadata": {},
   "source": [
    "Without really digging into it more, it seems like while there is an aura of precision to the measurements, there are only a handful of values that get recorded by stringers almost all the time. It might have to do with work conventions, or the tools used to measure or record.\n",
    "\n",
    "Leave as is."
   ]
  },
  {
   "cell_type": "markdown",
   "id": "46a6dbc7-db58-4978-af12-729a1c40a8a4",
   "metadata": {},
   "source": [
    "----\n",
    "Let's look at those columns again:"
   ]
  },
  {
   "cell_type": "code",
   "execution_count": 188,
   "id": "bc281b33-00ad-4a15-9ec4-de5359b74dcc",
   "metadata": {
    "tags": []
   },
   "outputs": [
    {
     "name": "stdout",
     "output_type": "stream",
     "text": [
      "['pitch_id', 'inning', 'side', 'run_diff', 'at_bat_index', 'pitch_of_ab', 'batter', 'pitcher', 'catcher', 'umpire', 'bside', 'pside', 'stringer_zone_bottom', 'stringer_zone_top', 'on_1b_mlbid', 'on_2b_mlbid', 'on_3b_mlbid', 'outs', 'balls', 'strikes', 'pitch_speed', 'px', 'pz', 'break_x', 'break_z', 'angle_x', 'angle_z', 'pitch_type', 'strike_bool', 'game_date_dt']\n"
     ]
    }
   ],
   "source": [
    "print(list(df_train_use.columns))"
   ]
  },
  {
   "cell_type": "markdown",
   "id": "c48c7dd9-e6f2-4c96-acbf-333ea8e1af11",
   "metadata": {},
   "source": [
    "---\n",
    "`on_1b_mlbid`, `on_2b_mlbid`, `on_3b_mlbid`\n",
    "\n",
    "Seems self-explanatory, ID's of players on base at the time of the pitch."
   ]
  },
  {
   "cell_type": "code",
   "execution_count": 262,
   "id": "82543dbd-b436-42e3-ae50-ae3c1be3e5f3",
   "metadata": {},
   "outputs": [],
   "source": [
    "runners = ['on_1b_mlbid', 'on_2b_mlbid', 'on_3b_mlbid']"
   ]
  },
  {
   "cell_type": "code",
   "execution_count": 263,
   "id": "fc6d5557-2b3c-41f5-9d46-51a9adbe6ee1",
   "metadata": {
    "collapsed": true,
    "jupyter": {
     "outputs_hidden": true
    },
    "tags": []
   },
   "outputs": [
    {
     "data": {
      "text/plain": [
       "782551.0    626\n",
       "406351.0    588\n",
       "784827.0    565\n",
       "528790.0    510\n",
       "781533.0    509\n",
       "           ... \n",
       "785113.0      1\n",
       "422713.0      1\n",
       "576686.0      1\n",
       "561160.0      1\n",
       "529333.0      1\n",
       "Name: on_1b_mlbid, Length: 822, dtype: int64"
      ]
     },
     "metadata": {},
     "output_type": "display_data"
    },
    {
     "name": "stdout",
     "output_type": "stream",
     "text": [
      "\n",
      "\n"
     ]
    },
    {
     "data": {
      "text/plain": [
       "777964.0    330\n",
       "627304.0    320\n",
       "578271.0    315\n",
       "406351.0    313\n",
       "777694.0    311\n",
       "           ... \n",
       "623679.0      1\n",
       "526645.0      1\n",
       "561169.0      1\n",
       "528649.0      1\n",
       "538101.0      1\n",
       "Name: on_2b_mlbid, Length: 764, dtype: int64"
      ]
     },
     "metadata": {},
     "output_type": "display_data"
    },
    {
     "name": "stdout",
     "output_type": "stream",
     "text": [
      "\n",
      "\n"
     ]
    },
    {
     "data": {
      "text/plain": [
       "541952.0    170\n",
       "577817.0    169\n",
       "784584.0    166\n",
       "565637.0    164\n",
       "537271.0    162\n",
       "           ... \n",
       "468877.0      1\n",
       "561169.0      1\n",
       "525040.0      1\n",
       "405805.0      1\n",
       "614999.0      1\n",
       "Name: on_3b_mlbid, Length: 699, dtype: int64"
      ]
     },
     "metadata": {},
     "output_type": "display_data"
    },
    {
     "name": "stdout",
     "output_type": "stream",
     "text": [
      "\n",
      "\n"
     ]
    }
   ],
   "source": [
    "# Get value counts for each role\n",
    "for i in range(len(runners)):\n",
    "    display(df_train_use.loc[:,runners[i]].value_counts())\n",
    "    # ax = sns.countplot(x=runners[i], data=df_train_use)\n",
    "    # ax.set_xticklabels(ax.get_xticklabels(),rotation = 90)\n",
    "    plt.show()\n",
    "    print('\\n')"
   ]
  },
  {
   "cell_type": "markdown",
   "id": "23efc580-d9d9-4ad9-a09d-707a46516f3b",
   "metadata": {},
   "source": [
    "Based on that there are hundreds of each that seems likely. \n",
    "\n",
    "Let's keep as is for now. as with the player info, it would be categories with high cardinality, so I'm not sure if the increase in model complexity of integrating them will be worth it. But we will keep in mind as an option."
   ]
  },
  {
   "cell_type": "markdown",
   "id": "6f330a4f-282f-4a02-8d1e-1ac8a4e3e681",
   "metadata": {},
   "source": [
    "----\n",
    "Let's look at those columns again:"
   ]
  },
  {
   "cell_type": "code",
   "execution_count": 188,
   "id": "355dc3b3-9fbc-4b15-ad22-75f0843126ba",
   "metadata": {
    "tags": []
   },
   "outputs": [
    {
     "name": "stdout",
     "output_type": "stream",
     "text": [
      "['pitch_id', 'inning', 'side', 'run_diff', 'at_bat_index', 'pitch_of_ab', 'batter', 'pitcher', 'catcher', 'umpire', 'bside', 'pside', 'stringer_zone_bottom', 'stringer_zone_top', 'on_1b_mlbid', 'on_2b_mlbid', 'on_3b_mlbid', 'outs', 'balls', 'strikes', 'pitch_speed', 'px', 'pz', 'break_x', 'break_z', 'angle_x', 'angle_z', 'pitch_type', 'strike_bool', 'game_date_dt']\n"
     ]
    }
   ],
   "source": [
    "print(list(df_train_use.columns))"
   ]
  },
  {
   "cell_type": "markdown",
   "id": "d1651b24-fa16-4b6f-a758-294df3d32ce9",
   "metadata": {},
   "source": [
    "---\n",
    "`outs`, `balls`, `stikes`\n",
    "\n",
    "Seems self-explanatory, let's make sure the distribution makes sense."
   ]
  },
  {
   "cell_type": "code",
   "execution_count": 265,
   "id": "e19addec-e369-4bf2-b9d7-1713ab4968d5",
   "metadata": {},
   "outputs": [],
   "source": [
    "states = ['outs', 'balls', 'strikes']"
   ]
  },
  {
   "cell_type": "code",
   "execution_count": 266,
   "id": "fd41ba8b-1481-4ae9-a55c-946743176ebc",
   "metadata": {
    "tags": []
   },
   "outputs": [
    {
     "data": {
      "text/plain": [
       "0    123460\n",
       "1    115584\n",
       "2    114987\n",
       "Name: outs, dtype: int64"
      ]
     },
     "metadata": {},
     "output_type": "display_data"
    },
    {
     "data": {
      "image/png": "[encoded data removed]",
      "text/plain": [
       "<Figure size 1296x432 with 1 Axes>"
      ]
     },
     "metadata": {},
     "output_type": "display_data"
    },
    {
     "name": "stdout",
     "output_type": "stream",
     "text": [
      "\n",
      "\n"
     ]
    },
    {
     "data": {
      "text/plain": [
       "0    185786\n",
       "1     97550\n",
       "2     47811\n",
       "3     22884\n",
       "Name: balls, dtype: int64"
      ]
     },
     "metadata": {},
     "output_type": "display_data"
    },
    {
     "data": {
      "image/png": "[encoded data removed]",
      "text/plain": [
       "<Figure size 1296x432 with 1 Axes>"
      ]
     },
     "metadata": {},
     "output_type": "display_data"
    },
    {
     "name": "stdout",
     "output_type": "stream",
     "text": [
      "\n",
      "\n"
     ]
    },
    {
     "data": {
      "text/plain": [
       "0    178491\n",
       "1     96646\n",
       "2     78894\n",
       "Name: strikes, dtype: int64"
      ]
     },
     "metadata": {},
     "output_type": "display_data"
    },
    {
     "data": {
      "image/png": "[encoded data removed]",
      "text/plain": [
       "<Figure size 1296x432 with 1 Axes>"
      ]
     },
     "metadata": {},
     "output_type": "display_data"
    },
    {
     "name": "stdout",
     "output_type": "stream",
     "text": [
      "\n",
      "\n"
     ]
    }
   ],
   "source": [
    "# Get value counts for each role\n",
    "for i in range(len(states)):\n",
    "    display(df_train_use.loc[:,states[i]].value_counts())\n",
    "    ax = sns.countplot(x=states[i], data=df_train_use)\n",
    "    ax.set_xticklabels(ax.get_xticklabels(),rotation = 90)\n",
    "    plt.show()\n",
    "    print('\\n')"
   ]
  },
  {
   "cell_type": "markdown",
   "id": "661a4793-aa93-4962-b2a3-835b9a2c254d",
   "metadata": {},
   "source": [
    "Makes sense. No out 3, ball 4, or strike 3 since these are states that exist at beginning of pitch; the ones mentioned are outcomes after pitches."
   ]
  },
  {
   "cell_type": "markdown",
   "id": "e0e52102-6d0d-4880-97d8-ea556b4f1c54",
   "metadata": {},
   "source": [
    "---\n",
    "`pitch_speed`\n",
    "\n",
    "Ok, now I think we're getting to some of the more fun features."
   ]
  },
  {
   "cell_type": "code",
   "execution_count": 269,
   "id": "1b917a9d-1855-4232-884e-ffdc3debbbe2",
   "metadata": {},
   "outputs": [
    {
     "data": {
      "image/png": "[encoded data removed]",
      "text/plain": [
       "<Figure size 1296x432 with 1 Axes>"
      ]
     },
     "metadata": {},
     "output_type": "display_data"
    }
   ],
   "source": [
    "ax = sns.kdeplot(x='pitch_speed', data=df_train_use)\n",
    "#ax.set_xticklabels(ax.get_xticklabels(),rotation = 90)\n",
    "plt.show()"
   ]
  },
  {
   "cell_type": "code",
   "execution_count": 271,
   "id": "eadfaca7-0611-4c98-838e-29bc8d4f3afc",
   "metadata": {},
   "outputs": [
    {
     "data": {
      "text/plain": [
       "False"
      ]
     },
     "execution_count": 271,
     "metadata": {},
     "output_type": "execute_result"
    }
   ],
   "source": [
    "df_train_use.pitch_speed.isnull().any()"
   ]
  },
  {
   "cell_type": "markdown",
   "id": "91145e7b-ea9d-47f5-bfec-fb34aac27d5b",
   "metadata": {},
   "source": [
    "Seems to make sense with my impression on modern pitch speeds. I won't bother segmented by pitch type, but we should expect to see differences there between, say, breaking balls and fastballs."
   ]
  },
  {
   "cell_type": "markdown",
   "id": "65493b90-5b57-4d4e-83ff-14d9391fb0ab",
   "metadata": {},
   "source": [
    "----\n",
    "Let's look at those columns again:"
   ]
  },
  {
   "cell_type": "code",
   "execution_count": 188,
   "id": "edb55507-5415-4d95-b2be-275987d11c21",
   "metadata": {
    "tags": []
   },
   "outputs": [
    {
     "name": "stdout",
     "output_type": "stream",
     "text": [
      "['pitch_id', 'inning', 'side', 'run_diff', 'at_bat_index', 'pitch_of_ab', 'batter', 'pitcher', 'catcher', 'umpire', 'bside', 'pside', 'stringer_zone_bottom', 'stringer_zone_top', 'on_1b_mlbid', 'on_2b_mlbid', 'on_3b_mlbid', 'outs', 'balls', 'strikes', 'pitch_speed', 'px', 'pz', 'break_x', 'break_z', 'angle_x', 'angle_z', 'pitch_type', 'strike_bool', 'game_date_dt']\n"
     ]
    }
   ],
   "source": [
    "print(list(df_train_use.columns))"
   ]
  },
  {
   "cell_type": "code",
   "execution_count": null,
   "id": "8bd2e73d-1af4-45d5-beb6-19e39be03c20",
   "metadata": {},
   "outputs": [],
   "source": []
  },
  {
   "cell_type": "code",
   "execution_count": 1,
   "id": "bba17455-cbe0-4a1c-bda1-42b81e1383d8",
   "metadata": {},
   "outputs": [],
   "source": [
    "%%capture\n",
    "!pip install MLB-StatsAPI # Python wrapper MLB data API"
   ]
  },
  {
   "cell_type": "code",
   "execution_count": 2,
   "id": "6b0e606c-0bcf-4591-af06-f660c60668b9",
   "metadata": {},
   "outputs": [],
   "source": [
    "import statsapi # Python wrapper MLB data API"
   ]
  },
  {
   "cell_type": "code",
   "execution_count": 3,
   "id": "212047ae-8588-488c-b43e-b5468b75939a",
   "metadata": {},
   "outputs": [
    {
     "data": {
      "text/plain": [
       "[{'id': 'S', 'description': 'Spring Training'},\n",
       " {'id': 'R', 'description': 'Regular Season'},\n",
       " {'id': 'F', 'description': 'Wild Card Game'},\n",
       " {'id': 'D', 'description': 'Division Series'},\n",
       " {'id': 'L', 'description': 'League Championship Series'},\n",
       " {'id': 'W', 'description': 'World Series'},\n",
       " {'id': 'C', 'description': 'Championship'},\n",
       " {'id': 'N', 'description': 'Nineteenth Century Series'},\n",
       " {'id': 'P', 'description': 'Playoffs'},\n",
       " {'id': 'A', 'description': 'All-Star Game'},\n",
       " {'id': 'I', 'description': 'Intrasquad'},\n",
       " {'id': 'E', 'description': 'Exhibition'}]"
      ]
     },
     "execution_count": 3,
     "metadata": {},
     "output_type": "execute_result"
    }
   ],
   "source": [
    "statsapi.get('meta',{'type': 'gameTypes'})"
   ]
  },
  {
   "cell_type": "code",
   "execution_count": 3,
   "id": "7c45af0c-8b50-49d8-a2ef-36255211306f",
   "metadata": {},
   "outputs": [
    {
     "data": {
      "text/plain": [
       "[{'code': 'EP', 'description': 'Eephus Pitch'},\n",
       " {'code': 'PO', 'description': 'Pitchout'},\n",
       " {'code': 'AB', 'description': 'Automatic Ball'},\n",
       " {'code': 'AS', 'description': 'Automatic Strike'},\n",
       " {'code': 'CH', 'description': 'Changeup'},\n",
       " {'code': 'CU', 'description': 'Curveball'},\n",
       " {'code': 'FA', 'description': 'Fastball'},\n",
       " {'code': 'FT', 'description': 'Two-seam FB'},\n",
       " {'code': 'FF', 'description': 'Four-seam FB'},\n",
       " {'code': 'FC', 'description': 'Cutter'},\n",
       " {'code': 'FS', 'description': 'Splitter'},\n",
       " {'code': 'FO', 'description': 'Forkball'},\n",
       " {'code': 'GY', 'description': 'Gyroball'},\n",
       " {'code': 'IN', 'description': 'Intentional Ball'},\n",
       " {'code': 'KC', 'description': 'Knuckle Curve'},\n",
       " {'code': 'KN', 'description': 'Knuckleball'},\n",
       " {'code': 'NP', 'description': 'No Pitch'},\n",
       " {'code': 'SC', 'description': 'Screwball'},\n",
       " {'code': 'SI', 'description': 'Sinker'},\n",
       " {'code': 'SL', 'description': 'Slider'},\n",
       " {'code': 'UN', 'description': 'Unknown'},\n",
       " {'code': 'ST', 'description': 'Slutter'},\n",
       " {'code': 'SV', 'description': 'Slurve'},\n",
       " {'code': 'CS', 'description': 'Slow Curve'}]"
      ]
     },
     "execution_count": 3,
     "metadata": {},
     "output_type": "execute_result"
    }
   ],
   "source": [
    "statsapi.get('meta',{'type': 'pitchTypes'})"
   ]
  },
  {
   "cell_type": "code",
   "execution_count": 7,
   "id": "ae6b7de6-5f77-46f8-8757-94ef0044383a",
   "metadata": {},
   "outputs": [
    {
     "data": {
      "text/plain": [
       "[{'name': '', 'metricId': 0},\n",
       " {'group': 'pitching',\n",
       "  'name': 'releaseSpinRate',\n",
       "  'unit': 'RPM',\n",
       "  'metricId': 1000},\n",
       " {'group': 'pitching',\n",
       "  'name': 'releaseExtension',\n",
       "  'unit': 'FT',\n",
       "  'metricId': 1001},\n",
       " {'group': 'pitching',\n",
       "  'name': 'releaseSpeed',\n",
       "  'unit': 'MPH',\n",
       "  'metricId': 1002},\n",
       " {'group': 'pitching',\n",
       "  'name': 'effectiveSpeed',\n",
       "  'unit': 'MPH',\n",
       "  'metricId': 1028},\n",
       " {'group': 'hitting, pitching',\n",
       "  'name': 'launchSpeed',\n",
       "  'unit': 'MPH',\n",
       "  'metricId': 1003},\n",
       " {'group': 'hitting, pitching',\n",
       "  'name': 'launchAngle',\n",
       "  'unit': 'DEG',\n",
       "  'metricId': 1005},\n",
       " {'group': 'hitting, pitching',\n",
       "  'name': 'generatedSpeed',\n",
       "  'unit': 'MPH',\n",
       "  'metricId': 1044},\n",
       " {'group': 'hitting', 'name': 'maxHeight', 'unit': 'FT', 'metricId': 1039},\n",
       " {'group': 'hitting', 'name': 'travelTime', 'unit': 'SEC', 'metricId': 1049},\n",
       " {'group': 'hitting', 'name': 'hangTime', 'unit': 'SEC', 'metricId': 1027},\n",
       " {'name': 'opportunityTimeGround', 'metricId': 1091},\n",
       " {'group': 'hitting', 'name': 'distance', 'unit': 'FT', 'metricId': 1030},\n",
       " {'group': 'hitting',\n",
       "  'name': 'travelDistance',\n",
       "  'unit': 'FT',\n",
       "  'metricId': 1050},\n",
       " {'group': 'hitting', 'name': 'hrDistance', 'unit': 'FT', 'metricId': 1031},\n",
       " {'group': 'hitting',\n",
       "  'name': 'hitTrajectory',\n",
       "  'unit': 'String',\n",
       "  'metricId': 1033},\n",
       " {'group': 'hitting',\n",
       "  'name': 'launchSpinRate',\n",
       "  'unit': 'RPM',\n",
       "  'metricId': 1063},\n",
       " {'group': 'hitting',\n",
       "  'name': 'barreledBall',\n",
       "  'unit': 'String',\n",
       "  'metricId': 1076},\n",
       " {'group': 'pitching',\n",
       "  'name': 'deliveryTime',\n",
       "  'unit': 'SEC',\n",
       "  'metricId': 1161},\n",
       " {'group': 'fielding',\n",
       "  'name': 'limbApexSkeletal',\n",
       "  'unit': 'FT',\n",
       "  'metricId': 1159},\n",
       " {'group': 'pitching',\n",
       "  'name': 'distanceToCatchersMittSkeletal',\n",
       "  'unit': 'IN',\n",
       "  'metricId': 1160}]"
      ]
     },
     "execution_count": 7,
     "metadata": {},
     "output_type": "execute_result"
    }
   ],
   "source": [
    "statsapi.get('meta',{'type': 'metrics'})"
   ]
  },
  {
   "cell_type": "code",
   "execution_count": null,
   "id": "4897c1ce-227a-42a6-b51a-fa23a33db2cd",
   "metadata": {},
   "outputs": [],
   "source": [
    "statsapi.get('meta',{'type': 'gameTypes'})"
   ]
  }
 ],
 "metadata": {
  "kernelspec": {
   "display_name": "Python 3 (ipykernel)",
   "language": "python",
   "name": "python3"
  },
  "language_info": {
   "codemirror_mode": {
    "name": "ipython",
    "version": 3
   },
   "file_extension": ".py",
   "mimetype": "text/x-python",
   "name": "python",
   "nbconvert_exporter": "python",
   "pygments_lexer": "ipython3",
   "version": "3.8.10"
  }
 },
 "nbformat": 4,
 "nbformat_minor": 5
}
