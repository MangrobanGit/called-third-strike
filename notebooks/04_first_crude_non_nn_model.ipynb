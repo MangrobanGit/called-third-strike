{
 "cells": [
  {
   "cell_type": "markdown",
   "id": "1d9a73fe-22ef-46f3-af36-3ed41d28fa72",
   "metadata": {},
   "source": [
    "# Called Third Strike\n",
    "## Part 4. First crude non-neural network model\n",
    "\n",
    "![](./resources/baseball_umpire_home_plate_1.jpg)\n",
    "\n",
    "This project's goal is to build probability models for as to whether a pitch will be called a strike or not. The intended models are to be:\n",
    "1. A neural network (NN) based approach.\n",
    "2. A non-NN based approach.\n",
    "\n",
    "---\n",
    "\n",
    "__**This Notebook's**__ objective is to quickly build a simple working ML classication model to give a baseline to compare against as we iterate versions. \n",
    "\n",
    "---\n",
    "---"
   ]
  },
  {
   "cell_type": "markdown",
   "id": "7c603889-4d23-4c1d-8e4d-8d45d1a72da4",
   "metadata": {},
   "source": [
    "### Table of Contents<a id='toc'></a>\n",
    "\n",
    "<a href='#data_prep'>1. Data Preprocessing</a>\n",
    "\n",
    "<a href='#build_model'>2. Build Model</a>\n",
    "\n",
    "<a href='#random_search'>3. Random Hyperparameter Search</a>\n",
    "\n",
    "...\n",
    "\n",
    "<a href='#the_end'>Go to the End</a>\n",
    "\n",
    "---"
   ]
  },
  {
   "cell_type": "markdown",
   "id": "4fcfd9aa-eac1-4789-af6d-cf5700a82979",
   "metadata": {},
   "source": [
    "---  \n",
    "\n",
    "<span style=\"font-size:0.5em;\">Tag 1</span>\n",
    "\n",
    "### Data Preprocessing<a id='data_prep'></a>\n",
    "\n",
    "<span style=\"font-size:0.5em;\"><a href='#toc'>Back to TOC</a></span>\n"
   ]
  },
  {
   "cell_type": "markdown",
   "id": "053be28f-4156-45c6-8a93-99c50dd76e39",
   "metadata": {},
   "source": [
    "#### Libraries\n"
   ]
  },
  {
   "cell_type": "code",
   "execution_count": 1,
   "id": "907b6406-cf7b-41c0-baca-5095c77e7b17",
   "metadata": {},
   "outputs": [
    {
     "name": "stdout",
     "output_type": "stream",
     "text": [
      "Collecting plotly_express\n",
      "  Downloading plotly_express-0.4.1-py2.py3-none-any.whl (2.9 kB)\n",
      "Collecting plotly>=4.1.0\n",
      "  Downloading plotly-5.7.0-py2.py3-none-any.whl (28.8 MB)\n",
      "     |████████████████████████████████| 28.8 MB 42.0 MB/s            \n",
      "\u001b[?25hCollecting statsmodels>=0.9.0\n",
      "  Downloading statsmodels-0.13.2-cp38-cp38-manylinux_2_17_x86_64.manylinux2014_x86_64.whl (9.9 MB)\n",
      "     |████████████████████████████████| 9.9 MB 98.1 MB/s            \n",
      "\u001b[?25hCollecting numpy>=1.11\n",
      "  Downloading numpy-1.22.3-cp38-cp38-manylinux_2_17_x86_64.manylinux2014_x86_64.whl (16.8 MB)\n",
      "     |████████████████████████████████| 16.8 MB 100.5 MB/s            \n",
      "\u001b[?25hCollecting scipy>=0.18\n",
      "  Downloading scipy-1.8.0-cp38-cp38-manylinux_2_17_x86_64.manylinux2014_x86_64.whl (41.6 MB)\n",
      "     |████████████████████████████████| 41.6 MB 98.6 MB/s            \n",
      "\u001b[?25hCollecting pandas>=0.20.0\n",
      "  Downloading pandas-1.4.2-cp38-cp38-manylinux_2_17_x86_64.manylinux2014_x86_64.whl (11.7 MB)\n",
      "     |████████████████████████████████| 11.7 MB 98.5 MB/s            \n",
      "\u001b[?25hCollecting patsy>=0.5\n",
      "  Downloading patsy-0.5.2-py2.py3-none-any.whl (233 kB)\n",
      "     |████████████████████████████████| 233 kB 113.1 MB/s            \n",
      "\u001b[?25hCollecting python-dateutil>=2.8.1\n",
      "  Downloading python_dateutil-2.8.2-py2.py3-none-any.whl (247 kB)\n",
      "     |████████████████████████████████| 247 kB 109.0 MB/s            \n",
      "\u001b[?25hCollecting pytz>=2020.1\n",
      "  Downloading pytz-2022.1-py2.py3-none-any.whl (503 kB)\n",
      "     |████████████████████████████████| 503 kB 95.1 MB/s            \n",
      "\u001b[?25hCollecting six\n",
      "  Downloading six-1.16.0-py2.py3-none-any.whl (11 kB)\n",
      "Collecting tenacity>=6.2.0\n",
      "  Downloading tenacity-8.0.1-py3-none-any.whl (24 kB)\n",
      "Collecting packaging>=21.3\n",
      "  Downloading packaging-21.3-py3-none-any.whl (40 kB)\n",
      "     |████████████████████████████████| 40 kB 12.1 MB/s            \n",
      "\u001b[?25hCollecting pyparsing!=3.0.5,>=2.0.2\n",
      "  Downloading pyparsing-3.0.8-py3-none-any.whl (98 kB)\n",
      "     |████████████████████████████████| 98 kB 19.0 MB/s             \n",
      "\u001b[?25hInstalling collected packages: six, pytz, python-dateutil, pyparsing, numpy, tenacity, scipy, patsy, pandas, packaging, statsmodels, plotly, plotly-express\n",
      "\u001b[31mERROR: pip's dependency resolver does not currently take into account all the packages that are installed. This behaviour is the source of the following dependency conflicts.\n",
      "redshift-connector 2.0.900 requires pytz<2021.9,>=2020.1, but you have pytz 2022.1 which is incompatible.\n",
      "pythonwhat 2.23.1 requires dill~=0.2.7.1, but you have dill 0.3.3 which is incompatible.\n",
      "pythonwhat 2.23.1 requires jinja2~=2.10, but you have jinja2 3.0.1 which is incompatible.\u001b[0m\n",
      "Successfully installed numpy-1.22.3 packaging-21.3 pandas-1.4.2 patsy-0.5.2 plotly-5.7.0 plotly-express-0.4.1 pyparsing-3.0.8 python-dateutil-2.8.2 pytz-2022.1 scipy-1.8.0 six-1.16.0 statsmodels-0.13.2 tenacity-8.0.1\n",
      "\u001b[33mWARNING: You are using pip version 21.3.1; however, version 22.0.4 is available.\n",
      "You should consider upgrading via the '/usr/bin/python3 -m pip install --upgrade pip' command.\u001b[0m\n"
     ]
    }
   ],
   "source": [
    "# Data wrangling and operations\n",
    "import pandas as pd\n",
    "import numpy as np\n",
    "from datetime import datetime\n",
    "import pickle\n",
    "\n",
    "# Visualization\n",
    "import matplotlib.pyplot as plt\n",
    "import seaborn as sns\n",
    "\n",
    "# try:\n",
    "#     import plotly_express as pex\n",
    "# except ImportError:\n",
    "#     !pip install plotly_express\n",
    "# except ModuleNotFoundError:\n",
    "#     !pip install plotly_express\n",
    "\n",
    "# Estimators\n",
    "from sklearn.linear_model import LinearRegression\n",
    "from sklearn.linear_model import LogisticRegression\n",
    "import xgboost as xgb\n",
    "from xgboost import XGBClassifier\n",
    "from sklearn.tree import DecisionTreeClassifier\n",
    "from sklearn.ensemble import BaggingClassifier, RandomForestClassifier\n",
    "from sklearn.ensemble import GradientBoostingClassifier\n",
    "from sklearn.base import BaseEstimator\n",
    "\n",
    "# Processing\n",
    "from sklearn.preprocessing import OneHotEncoder\n",
    "from sklearn.preprocessing import LabelBinarizer\n",
    "from sklearn.preprocessing import StandardScaler\n",
    "from sklearn.compose import ColumnTransformer\n",
    "from sklearn.model_selection import GridSearchCV\n",
    "from sklearn.model_selection import RandomizedSearchCV\n",
    "\n",
    "# Assessment\n",
    "from sklearn.pipeline import Pipeline\n",
    "from sklearn.model_selection import train_test_split\n",
    "from sklearn.model_selection import cross_val_score\n",
    "from sklearn.metrics import accuracy_score\n",
    "from sklearn.metrics import mean_squared_error, mean_absolute_error\n",
    "from sklearn.metrics import f1_score"
   ]
  },
  {
   "cell_type": "markdown",
   "id": "987afa32-26cc-421f-bfdd-dd2cd8a29e62",
   "metadata": {},
   "source": [
    "---\n",
    "\n",
    "#### Data Import \n",
    "\n",
    "Retrieve the latest version of our train/test files that we built during [initial exploration](02_data_exploration.ipynb)."
   ]
  },
  {
   "cell_type": "code",
   "execution_count": 1,
   "id": "f37213b0",
   "metadata": {},
   "outputs": [
    {
     "name": "stdout",
     "output_type": "stream",
     "text": [
      "Collecting plotly_express\n",
      "  Downloading plotly_express-0.4.1-py2.py3-none-any.whl (2.9 kB)\n",
      "Collecting plotly>=4.1.0\n",
      "  Downloading plotly-5.7.0-py2.py3-none-any.whl (28.8 MB)\n",
      "     |████████████████████████████████| 28.8 MB 42.0 MB/s            \n",
      "\u001b[?25hCollecting statsmodels>=0.9.0\n",
      "  Downloading statsmodels-0.13.2-cp38-cp38-manylinux_2_17_x86_64.manylinux2014_x86_64.whl (9.9 MB)\n",
      "     |████████████████████████████████| 9.9 MB 98.1 MB/s            \n",
      "\u001b[?25hCollecting numpy>=1.11\n",
      "  Downloading numpy-1.22.3-cp38-cp38-manylinux_2_17_x86_64.manylinux2014_x86_64.whl (16.8 MB)\n",
      "     |████████████████████████████████| 16.8 MB 100.5 MB/s            \n",
      "\u001b[?25hCollecting scipy>=0.18\n",
      "  Downloading scipy-1.8.0-cp38-cp38-manylinux_2_17_x86_64.manylinux2014_x86_64.whl (41.6 MB)\n",
      "     |████████████████████████████████| 41.6 MB 98.6 MB/s            \n",
      "\u001b[?25hCollecting pandas>=0.20.0\n",
      "  Downloading pandas-1.4.2-cp38-cp38-manylinux_2_17_x86_64.manylinux2014_x86_64.whl (11.7 MB)\n",
      "     |████████████████████████████████| 11.7 MB 98.5 MB/s            \n",
      "\u001b[?25hCollecting patsy>=0.5\n",
      "  Downloading patsy-0.5.2-py2.py3-none-any.whl (233 kB)\n",
      "     |████████████████████████████████| 233 kB 113.1 MB/s            \n",
      "\u001b[?25hCollecting python-dateutil>=2.8.1\n",
      "  Downloading python_dateutil-2.8.2-py2.py3-none-any.whl (247 kB)\n",
      "     |████████████████████████████████| 247 kB 109.0 MB/s            \n",
      "\u001b[?25hCollecting pytz>=2020.1\n",
      "  Downloading pytz-2022.1-py2.py3-none-any.whl (503 kB)\n",
      "     |████████████████████████████████| 503 kB 95.1 MB/s            \n",
      "\u001b[?25hCollecting six\n",
      "  Downloading six-1.16.0-py2.py3-none-any.whl (11 kB)\n",
      "Collecting tenacity>=6.2.0\n",
      "  Downloading tenacity-8.0.1-py3-none-any.whl (24 kB)\n",
      "Collecting packaging>=21.3\n",
      "  Downloading packaging-21.3-py3-none-any.whl (40 kB)\n",
      "     |████████████████████████████████| 40 kB 12.1 MB/s            \n",
      "\u001b[?25hCollecting pyparsing!=3.0.5,>=2.0.2\n",
      "  Downloading pyparsing-3.0.8-py3-none-any.whl (98 kB)\n",
      "     |████████████████████████████████| 98 kB 19.0 MB/s             \n",
      "\u001b[?25hInstalling collected packages: six, pytz, python-dateutil, pyparsing, numpy, tenacity, scipy, patsy, pandas, packaging, statsmodels, plotly, plotly-express\n",
      "\u001b[31mERROR: pip's dependency resolver does not currently take into account all the packages that are installed. This behaviour is the source of the following dependency conflicts.\n",
      "redshift-connector 2.0.900 requires pytz<2021.9,>=2020.1, but you have pytz 2022.1 which is incompatible.\n",
      "pythonwhat 2.23.1 requires dill~=0.2.7.1, but you have dill 0.3.3 which is incompatible.\n",
      "pythonwhat 2.23.1 requires jinja2~=2.10, but you have jinja2 3.0.1 which is incompatible.\u001b[0m\n",
      "Successfully installed numpy-1.22.3 packaging-21.3 pandas-1.4.2 patsy-0.5.2 plotly-5.7.0 plotly-express-0.4.1 pyparsing-3.0.8 python-dateutil-2.8.2 pytz-2022.1 scipy-1.8.0 six-1.16.0 statsmodels-0.13.2 tenacity-8.0.1\n",
      "\u001b[33mWARNING: You are using pip version 21.3.1; however, version 22.0.4 is available.\n",
      "You should consider upgrading via the '/usr/bin/python3 -m pip install --upgrade pip' command.\u001b[0m\n"
     ]
    }
   ],
   "source": [
    "# Data wrangling and operations\n",
    "import pandas as pd\n",
    "import numpy as np\n",
    "from datetime import datetime\n",
    "import pickle\n",
    "\n",
    "# Visualization\n",
    "import matplotlib.pyplot as plt\n",
    "import seaborn as sns\n",
    "\n",
    "# try:\n",
    "#     import plotly_express as pex\n",
    "# except ImportError:\n",
    "#     !pip install plotly_express\n",
    "# except ModuleNotFoundError:\n",
    "#     !pip install plotly_express\n",
    "\n",
    "# Estimators\n",
    "from sklearn.linear_model import LinearRegression\n",
    "from sklearn.linear_model import LogisticRegression\n",
    "import xgboost as xgb\n",
    "from xgboost import XGBClassifier\n",
    "from sklearn.tree import DecisionTreeClassifier\n",
    "from sklearn.ensemble import BaggingClassifier, RandomForestClassifier\n",
    "from sklearn.ensemble import GradientBoostingClassifier\n",
    "from sklearn.base import BaseEstimator\n",
    "\n",
    "# Processing\n",
    "from sklearn.preprocessing import OneHotEncoder\n",
    "from sklearn.preprocessing import LabelBinarizer\n",
    "from sklearn.preprocessing import StandardScaler\n",
    "from sklearn.compose import ColumnTransformer\n",
    "from sklearn.model_selection import GridSearchCV\n",
    "from sklearn.model_selection import RandomizedSearchCV\n",
    "\n",
    "# Assessment\n",
    "from sklearn.pipeline import Pipeline\n",
    "from sklearn.model_selection import train_test_split\n",
    "from sklearn.model_selection import cross_val_score\n",
    "from sklearn.metrics import accuracy_score\n",
    "from sklearn.metrics import mean_squared_error, mean_absolute_error\n",
    "from sklearn.metrics import f1_score"
   ]
  },
  {
   "cell_type": "code",
   "execution_count": 2,
   "id": "db6f0590-4c27-4af2-a4f0-398e7ec64eba",
   "metadata": {},
   "outputs": [],
   "source": [
    "df_train = pd.read_pickle('../data/train_enriched.pkl')\n",
    "df_test = pd.read_pickle('../data/test_enriched.pkl')"
   ]
  },
  {
   "cell_type": "markdown",
   "id": "fd0ae49b-1077-458e-9aff-6444a34941e0",
   "metadata": {},
   "source": [
    "Let's refamiliarize ourselves with the features."
   ]
  },
  {
   "cell_type": "code",
   "execution_count": 3,
   "id": "57bf1725-f4f9-4cd6-b2ea-57f7afd3f291",
   "metadata": {},
   "outputs": [
    {
     "name": "stdout",
     "output_type": "stream",
     "text": [
      "<class 'pandas.core.frame.DataFrame'>\n",
      "Int64Index: 353983 entries, 0 to 354038\n",
      "Data columns (total 31 columns):\n",
      " #   Column                Non-Null Count   Dtype         \n",
      "---  ------                --------------   -----         \n",
      " 0   pitch_id              353983 non-null  object        \n",
      " 1   inning                353983 non-null  int64         \n",
      " 2   side                  353983 non-null  object        \n",
      " 3   run_diff              353983 non-null  int64         \n",
      " 4   at_bat_index          353983 non-null  int64         \n",
      " 5   pitch_of_ab           353983 non-null  int64         \n",
      " 6   batter                353983 non-null  int64         \n",
      " 7   pitcher               353983 non-null  int64         \n",
      " 8   catcher               353983 non-null  int64         \n",
      " 9   umpire                353983 non-null  int64         \n",
      " 10  bside                 353983 non-null  object        \n",
      " 11  pside                 353983 non-null  object        \n",
      " 12  stringer_zone_bottom  353983 non-null  float64       \n",
      " 13  stringer_zone_top     353983 non-null  float64       \n",
      " 14  on_1b_mlbid           106990 non-null  float64       \n",
      " 15  on_2b_mlbid           64921 non-null   float64       \n",
      " 16  on_3b_mlbid           31466 non-null   float64       \n",
      " 17  outs                  353983 non-null  int64         \n",
      " 18  balls                 353983 non-null  int64         \n",
      " 19  strikes               353983 non-null  int64         \n",
      " 20  pitch_speed           353983 non-null  float64       \n",
      " 21  px                    353983 non-null  float64       \n",
      " 22  pz                    353983 non-null  float64       \n",
      " 23  break_x               353983 non-null  float64       \n",
      " 24  break_z               353983 non-null  float64       \n",
      " 25  angle_x               353983 non-null  float64       \n",
      " 26  angle_z               353983 non-null  float64       \n",
      " 27  pitch_type            353983 non-null  object        \n",
      " 28  strike_bool           353983 non-null  int64         \n",
      " 29  game_date_dt          353983 non-null  datetime64[ns]\n",
      " 30  strike_bool_tf        353983 non-null  bool          \n",
      "dtypes: bool(1), datetime64[ns](1), float64(12), int64(12), object(5)\n",
      "memory usage: 84.1+ MB\n"
     ]
    }
   ],
   "source": [
    "df_train.info()"
   ]
  },
  {
   "cell_type": "markdown",
   "id": "f08da1ab-1889-48b3-bf3a-e83f1f76e153",
   "metadata": {},
   "source": [
    "---\n",
    "\n",
    "#### Feature Selection and Prep\n",
    "\n",
    "Select features:"
   ]
  },
  {
   "cell_type": "markdown",
   "id": "facec025-15e9-4d40-b4c5-d2a2d63088aa",
   "metadata": {},
   "source": [
    "For our initial super simple model, let's just pick four features: \n",
    "- `px` which is the horizontal location of the pitch at the plate\n",
    "- `pz` which is the vertical location\n",
    "- `stringer_zone_bottom` which is an estimate of current batter's strike zone bottom\n",
    "- `stringer_zone_top` which is an estimate of current batter's strike zone top"
   ]
  },
  {
   "cell_type": "code",
   "execution_count": 4,
   "id": "da4fd6e9-70fd-4bee-b321-40327d0787d5",
   "metadata": {},
   "outputs": [],
   "source": [
    "# Features selected\n",
    "feat_select = ['px', 'pz', 'stringer_zone_bottom', 'stringer_zone_top']"
   ]
  },
  {
   "cell_type": "markdown",
   "id": "66ef8983-f0bb-4951-a82f-9ae20d219ef8",
   "metadata": {},
   "source": [
    "Prep features:"
   ]
  },
  {
   "cell_type": "code",
   "execution_count": 5,
   "id": "a870a134-c23f-476d-8d1f-fb10344aa06d",
   "metadata": {},
   "outputs": [
    {
     "name": "stdout",
     "output_type": "stream",
     "text": [
      "<class 'pandas.core.frame.DataFrame'>\n",
      "Int64Index: 353983 entries, 0 to 354038\n",
      "Data columns (total 4 columns):\n",
      " #   Column                Non-Null Count   Dtype  \n",
      "---  ------                --------------   -----  \n",
      " 0   px                    353983 non-null  float64\n",
      " 1   pz                    353983 non-null  float64\n",
      " 2   stringer_zone_bottom  353983 non-null  float64\n",
      " 3   stringer_zone_top     353983 non-null  float64\n",
      "dtypes: float64(4)\n",
      "memory usage: 13.5 MB\n"
     ]
    },
    {
     "data": {
      "text/plain": [
       "None"
      ]
     },
     "metadata": {},
     "output_type": "display_data"
    }
   ],
   "source": [
    "# Get just the selected features\n",
    "df_X = df_train[feat_select]\n",
    "display(df_X.info())"
   ]
  },
  {
   "cell_type": "markdown",
   "id": "f43c5958-97aa-4029-9b66-ad53b6af2685",
   "metadata": {},
   "source": [
    "While we are at it, let's prep our targets:"
   ]
  },
  {
   "cell_type": "code",
   "execution_count": 6,
   "id": "b27c2cf9-f12a-4324-898a-55e08e6b5e64",
   "metadata": {},
   "outputs": [
    {
     "name": "stdout",
     "output_type": "stream",
     "text": [
      "<class 'pandas.core.frame.DataFrame'>\n",
      "Int64Index: 353983 entries, 0 to 354038\n",
      "Data columns (total 1 columns):\n",
      " #   Column       Non-Null Count   Dtype\n",
      "---  ------       --------------   -----\n",
      " 0   strike_bool  353983 non-null  int64\n",
      "dtypes: int64(1)\n",
      "memory usage: 5.4 MB\n"
     ]
    },
    {
     "data": {
      "text/plain": [
       "None"
      ]
     },
     "metadata": {},
     "output_type": "display_data"
    }
   ],
   "source": [
    "df_y = df_train['strike_bool']\n",
    "display(pd.DataFrame(df_y).info())"
   ]
  },
  {
   "cell_type": "markdown",
   "id": "c990a31b-d553-4227-9fdd-b946e3b9bd39",
   "metadata": {},
   "source": [
    "---\n",
    "\n",
    "#### Feature Engineering\n",
    "\n",
    "Select features:"
   ]
  },
  {
   "cell_type": "markdown",
   "id": "6ddb78e3-d580-4bef-bfa4-d8abfb1c82e8",
   "metadata": {},
   "source": [
    "For a neural network we will need to numerically represent our data (e.g. one-hot-encode any categorical features), as well as scale/normalize the data. \n",
    "\n",
    "All the selected features for this round are numerical, so we don't have to worry about encoding any categories. For scaling I'm choosing to *standardize*."
   ]
  },
  {
   "cell_type": "code",
   "execution_count": 7,
   "id": "e0e89560-8f67-42d3-b8ac-ad180c37d2a1",
   "metadata": {},
   "outputs": [],
   "source": [
    "scaler = StandardScaler()\n",
    "X_scaled = scaler.fit_transform(df_X)"
   ]
  },
  {
   "cell_type": "markdown",
   "id": "4963c4a1-afb4-46c0-9f5d-454f548aeed9",
   "metadata": {},
   "source": [
    "---\n",
    "\n",
    "#### Train / Test\n",
    "\n",
    "\n",
    "Create train/test splits.\n",
    "\n",
    "Breakout parameters for easy access."
   ]
  },
  {
   "cell_type": "code",
   "execution_count": 8,
   "id": "d876b0d8-23b2-4104-bf0b-95dfe8bf6c3c",
   "metadata": {},
   "outputs": [],
   "source": [
    "# Parameters\n",
    "test_size = 0.20\n",
    "random_state = 24"
   ]
  },
  {
   "cell_type": "code",
   "execution_count": 9,
   "id": "37efe2d2-1e8c-405f-9fed-b99c75d527a2",
   "metadata": {},
   "outputs": [],
   "source": [
    "X_train, X_test, y_train, y_test = train_test_split(X_scaled, df_y, test_size=test_size\n",
    "                                                    ,stratify=df_y, random_state=random_state)"
   ]
  },
  {
   "cell_type": "markdown",
   "id": "827d5ee7-b2c8-417b-9c62-3fa63e66ff10",
   "metadata": {},
   "source": [
    "---  \n",
    "\n",
    "<span style=\"font-size:0.5em;\">Tag 2</span>\n",
    "\n",
    "### Build Model / Hyperparameter Search<a id='build_model'></a>\n",
    "\n",
    "<span style=\"font-size:0.5em;\"><a href='#toc'>Back to TOC</a></span>\n",
    "\n",
    "---  "
   ]
  },
  {
   "cell_type": "markdown",
   "id": "daa063d4-34c1-4287-b991-cfa218da9580",
   "metadata": {},
   "source": [
    "For expediency we are going to use a pipeline and random hyperparameter search to scour through different classifiers and hyperparameter sets to come up with a good candidate."
   ]
  },
  {
   "cell_type": "markdown",
   "id": "ffc5cc6a-a95b-4a61-b774-fe0ec70a1453",
   "metadata": {},
   "source": [
    "We'll create a `DummyEstimator` class to act as a placeholder to which we can pass the different classifiers."
   ]
  },
  {
   "cell_type": "code",
   "execution_count": 10,
   "id": "538b6d34-4c51-4008-b4bd-16c5ac0479a9",
   "metadata": {},
   "outputs": [],
   "source": [
    "class DummyEstimator(BaseEstimator):\n",
    "    def fit(self): pass\n",
    "    def score(self): pass"
   ]
  },
  {
   "cell_type": "markdown",
   "id": "652c91ea-a454-46b3-8a13-6161ebf55a22",
   "metadata": {},
   "source": [
    "Create the pipeline of dictionaries of classifiers and their respective grids of potential hyperparameters."
   ]
  },
  {
   "cell_type": "code",
   "execution_count": 48,
   "id": "95072a54-a4ad-459e-ad51-b92f915a1aa0",
   "metadata": {},
   "outputs": [],
   "source": [
    "# Create a pipeline\n",
    "pipe = Pipeline([('clf', DummyEstimator())]) # Placeholder Estimator\n",
    "\n",
    "# Candidate learning algorithms and their hyperparameters\n",
    "search_space = [{'clf': [LogisticRegression()], # Actual Estimator\n",
    "                 'clf__penalty': ['l1', 'l2', 'elasticnet'],\n",
    "                 'clf__C': np.logspace(-4, 4, 20)\n",
    "                },\n",
    "                {'clf': [DecisionTreeClassifier()],  # Actual Estimator\n",
    "                 'clf__criterion': ['gini', 'entropy'],\n",
    "                 'clf__max_depth': np.arange(3,11,1),\n",
    "                 'clf__min_samples_split': np.linspace(0.1, 0.5, 10, endpoint=True),\n",
    "                 'clf__max_features': [0.25, 0.5, 0.75, 1]\n",
    "                },\n",
    "                {'clf': [RandomForestClassifier()],  # Actual Estimator\n",
    "                 'clf__n_estimators': [50, 100, 200],\n",
    "                 'clf__criterion': ['gini', 'entropy'],                 \n",
    "                 'clf__max_depth': np.arange(3,11,1),\n",
    "                 'clf__min_samples_split': np.linspace(0.1, 0.5, 10, endpoint=True),\n",
    "                 'clf__max_features': [\"auto\", \"sqrt\", \"log2\"],\n",
    "                 'clf__max_samples': [0.25, 0.5, 0.75, 1]\n",
    "                },\n",
    "                {'clf': [GradientBoostingClassifier()],  # Actual Estimator\n",
    "                 'clf__n_estimators': [50, 100, 200],\n",
    "                 'clf__criterion': ['gini', 'entropy'],                 \n",
    "                 'clf__max_depth': np.arange(3,11,1),\n",
    "                 'clf__min_samples_split': np.linspace(0.1, 0.5, 10, endpoint=True),\n",
    "                 'clf__max_features': [\"auto\", \"sqrt\", \"log2\"],\n",
    "                 # 'clf__max_samples': [0.25, 0.5, 0.75, 1]\n",
    "                },\n",
    "                {'clf': [XGBClassifier()],  # Actual Estimator\n",
    "                 'clf__n_estimators': [50, 100, 200],\n",
    "                 'clf__criterion': ['gini', 'entropy'],                 \n",
    "                 'clf__max_depth': np.arange(3,11,1),\n",
    "                 'clf__min_samples_split': np.linspace(0.1, 0.5, 10, endpoint=True),\n",
    "                 'clf__max_features': [\"auto\", \"sqrt\", \"log2\"],\n",
    "                 'clf__max_samples': [0.25, 0.5, 0.75, 1]\n",
    "                }\n",
    "               ]\n",
    "\n",
    "# GradientBoostingClassifier(\n",
    "# RandomForestClassifier(\n",
    "    \n",
    "# Create grid search \n",
    "# gs = GridSearchCV(pipe, search_space, random_state=random_state)\n",
    "rs = RandomizedSearchCV(pipe, search_space, random_state=random_state\n",
    "                        ,n_iter=10 # To limit search time \n",
    "                        ,cv=3      # I like 5 as rule of thumb, but again to limit search time\n",
    "                        ,verbose=True, refit=True, scoring='accuracy')"
   ]
  },
  {
   "cell_type": "markdown",
   "id": "f89c3c4a-be0c-48dc-a83c-73963a480d53",
   "metadata": {},
   "source": [
    "Fit the random search cv object."
   ]
  },
  {
   "cell_type": "code",
   "execution_count": null,
   "id": "7546ee03-29c0-45e4-9b70-66a95dd9b217",
   "metadata": {},
   "outputs": [
    {
     "name": "stdout",
     "output_type": "stream",
     "text": [
      "Fitting 3 folds for each of 10 candidates, totalling 30 fits\n",
      "[15:09:06] WARNING: ../src/learner.cc:541: \n",
      "Parameters: { criterion, max_features, max_samples, min_samples_split } might not be used.\n",
      "\n",
      "  This may not be accurate due to some parameters are only used in language bindings but\n",
      "  passed down to XGBoost core.  Or some parameters are not used but slip through this\n",
      "  verification. Please open an issue if you find above cases.\n",
      "\n",
      "\n",
      "[15:09:07] WARNING: ../src/learner.cc:1061: Starting in XGBoost 1.3.0, the default evaluation metric used with the objective 'binary:logistic' was changed from 'error' to 'logloss'. Explicitly set eval_metric if you'd like to restore the old behavior.\n",
      "[15:09:47] WARNING: ../src/learner.cc:541: \n",
      "Parameters: { criterion, max_features, max_samples, min_samples_split } might not be used.\n",
      "\n",
      "  This may not be accurate due to some parameters are only used in language bindings but\n",
      "  passed down to XGBoost core.  Or some parameters are not used but slip through this\n",
      "  verification. Please open an issue if you find above cases.\n",
      "\n",
      "\n",
      "[15:09:49] WARNING: ../src/learner.cc:1061: Starting in XGBoost 1.3.0, the default evaluation metric used with the objective 'binary:logistic' was changed from 'error' to 'logloss'. Explicitly set eval_metric if you'd like to restore the old behavior.\n",
      "[15:10:30] WARNING: ../src/learner.cc:541: \n",
      "Parameters: { criterion, max_features, max_samples, min_samples_split } might not be used.\n",
      "\n",
      "  This may not be accurate due to some parameters are only used in language bindings but\n",
      "  passed down to XGBoost core.  Or some parameters are not used but slip through this\n",
      "  verification. Please open an issue if you find above cases.\n",
      "\n",
      "\n",
      "[15:10:32] WARNING: ../src/learner.cc:1061: Starting in XGBoost 1.3.0, the default evaluation metric used with the objective 'binary:logistic' was changed from 'error' to 'logloss'. Explicitly set eval_metric if you'd like to restore the old behavior.\n",
      "[15:11:32] WARNING: ../src/learner.cc:541: \n",
      "Parameters: { criterion, max_features, max_samples, min_samples_split } might not be used.\n",
      "\n",
      "  This may not be accurate due to some parameters are only used in language bindings but\n",
      "  passed down to XGBoost core.  Or some parameters are not used but slip through this\n",
      "  verification. Please open an issue if you find above cases.\n",
      "\n",
      "\n",
      "[15:11:33] WARNING: ../src/learner.cc:1061: Starting in XGBoost 1.3.0, the default evaluation metric used with the objective 'binary:logistic' was changed from 'error' to 'logloss'. Explicitly set eval_metric if you'd like to restore the old behavior.\n",
      "[15:13:00] WARNING: ../src/learner.cc:541: \n",
      "Parameters: { criterion, max_features, max_samples, min_samples_split } might not be used.\n",
      "\n",
      "  This may not be accurate due to some parameters are only used in language bindings but\n",
      "  passed down to XGBoost core.  Or some parameters are not used but slip through this\n",
      "  verification. Please open an issue if you find above cases.\n",
      "\n",
      "\n",
      "[15:13:00] WARNING: ../src/learner.cc:1061: Starting in XGBoost 1.3.0, the default evaluation metric used with the objective 'binary:logistic' was changed from 'error' to 'logloss'. Explicitly set eval_metric if you'd like to restore the old behavior.\n",
      "[15:14:23] WARNING: ../src/learner.cc:541: \n",
      "Parameters: { criterion, max_features, max_samples, min_samples_split } might not be used.\n",
      "\n",
      "  This may not be accurate due to some parameters are only used in language bindings but\n",
      "  passed down to XGBoost core.  Or some parameters are not used but slip through this\n",
      "  verification. Please open an issue if you find above cases.\n",
      "\n",
      "\n",
      "[15:14:25] WARNING: ../src/learner.cc:1061: Starting in XGBoost 1.3.0, the default evaluation metric used with the objective 'binary:logistic' was changed from 'error' to 'logloss'. Explicitly set eval_metric if you'd like to restore the old behavior.\n",
      "[15:15:47] WARNING: ../src/learner.cc:541: \n",
      "Parameters: { criterion, max_features, max_samples, min_samples_split } might not be used.\n",
      "\n",
      "  This may not be accurate due to some parameters are only used in language bindings but\n",
      "  passed down to XGBoost core.  Or some parameters are not used but slip through this\n",
      "  verification. Please open an issue if you find above cases.\n",
      "\n",
      "\n",
      "[15:15:48] WARNING: ../src/learner.cc:1061: Starting in XGBoost 1.3.0, the default evaluation metric used with the objective 'binary:logistic' was changed from 'error' to 'logloss'. Explicitly set eval_metric if you'd like to restore the old behavior.\n",
      "[15:17:27] WARNING: ../src/learner.cc:541: \n",
      "Parameters: { criterion, max_features, max_samples, min_samples_split } might not be used.\n",
      "\n",
      "  This may not be accurate due to some parameters are only used in language bindings but\n",
      "  passed down to XGBoost core.  Or some parameters are not used but slip through this\n",
      "  verification. Please open an issue if you find above cases.\n",
      "\n",
      "\n",
      "[15:17:27] WARNING: ../src/learner.cc:1061: Starting in XGBoost 1.3.0, the default evaluation metric used with the objective 'binary:logistic' was changed from 'error' to 'logloss'. Explicitly set eval_metric if you'd like to restore the old behavior.\n",
      "[15:18:59] WARNING: ../src/learner.cc:541: \n",
      "Parameters: { criterion, max_features, max_samples, min_samples_split } might not be used.\n",
      "\n",
      "  This may not be accurate due to some parameters are only used in language bindings but\n",
      "  passed down to XGBoost core.  Or some parameters are not used but slip through this\n",
      "  verification. Please open an issue if you find above cases.\n",
      "\n",
      "\n",
      "[15:19:01] WARNING: ../src/learner.cc:1061: Starting in XGBoost 1.3.0, the default evaluation metric used with the objective 'binary:logistic' was changed from 'error' to 'logloss'. Explicitly set eval_metric if you'd like to restore the old behavior.\n",
      "[15:20:37] WARNING: ../src/learner.cc:541: \n",
      "Parameters: { criterion, max_features, max_samples, min_samples_split } might not be used.\n",
      "\n",
      "  This may not be accurate due to some parameters are only used in language bindings but\n",
      "  passed down to XGBoost core.  Or some parameters are not used but slip through this\n",
      "  verification. Please open an issue if you find above cases.\n",
      "\n",
      "\n",
      "[15:20:38] WARNING: ../src/learner.cc:1061: Starting in XGBoost 1.3.0, the default evaluation metric used with the objective 'binary:logistic' was changed from 'error' to 'logloss'. Explicitly set eval_metric if you'd like to restore the old behavior.\n",
      "[15:23:00] WARNING: ../src/learner.cc:541: \n",
      "Parameters: { criterion, max_features, max_samples, min_samples_split } might not be used.\n",
      "\n",
      "  This may not be accurate due to some parameters are only used in language bindings but\n",
      "  passed down to XGBoost core.  Or some parameters are not used but slip through this\n",
      "  verification. Please open an issue if you find above cases.\n",
      "\n",
      "\n",
      "[15:23:01] WARNING: ../src/learner.cc:1061: Starting in XGBoost 1.3.0, the default evaluation metric used with the objective 'binary:logistic' was changed from 'error' to 'logloss'. Explicitly set eval_metric if you'd like to restore the old behavior.\n",
      "[15:25:26] WARNING: ../src/learner.cc:541: \n",
      "Parameters: { criterion, max_features, max_samples, min_samples_split } might not be used.\n",
      "\n",
      "  This may not be accurate due to some parameters are only used in language bindings but\n",
      "  passed down to XGBoost core.  Or some parameters are not used but slip through this\n",
      "  verification. Please open an issue if you find above cases.\n",
      "\n",
      "\n",
      "[15:25:27] WARNING: ../src/learner.cc:1061: Starting in XGBoost 1.3.0, the default evaluation metric used with the objective 'binary:logistic' was changed from 'error' to 'logloss'. Explicitly set eval_metric if you'd like to restore the old behavior.\n",
      "[15:27:57] WARNING: ../src/learner.cc:541: \n",
      "Parameters: { criterion, max_features, max_samples, min_samples_split } might not be used.\n",
      "\n",
      "  This may not be accurate due to some parameters are only used in language bindings but\n",
      "  passed down to XGBoost core.  Or some parameters are not used but slip through this\n",
      "  verification. Please open an issue if you find above cases.\n",
      "\n",
      "\n",
      "[15:27:57] WARNING: ../src/learner.cc:1061: Starting in XGBoost 1.3.0, the default evaluation metric used with the objective 'binary:logistic' was changed from 'error' to 'logloss'. Explicitly set eval_metric if you'd like to restore the old behavior.\n",
      "[15:28:29] WARNING: ../src/learner.cc:541: \n",
      "Parameters: { criterion, max_features, max_samples, min_samples_split } might not be used.\n",
      "\n",
      "  This may not be accurate due to some parameters are only used in language bindings but\n",
      "  passed down to XGBoost core.  Or some parameters are not used but slip through this\n",
      "  verification. Please open an issue if you find above cases.\n",
      "\n",
      "\n",
      "[15:28:30] WARNING: ../src/learner.cc:1061: Starting in XGBoost 1.3.0, the default evaluation metric used with the objective 'binary:logistic' was changed from 'error' to 'logloss'. Explicitly set eval_metric if you'd like to restore the old behavior.\n",
      "[15:29:03] WARNING: ../src/learner.cc:541: \n",
      "Parameters: { criterion, max_features, max_samples, min_samples_split } might not be used.\n",
      "\n",
      "  This may not be accurate due to some parameters are only used in language bindings but\n",
      "  passed down to XGBoost core.  Or some parameters are not used but slip through this\n",
      "  verification. Please open an issue if you find above cases.\n",
      "\n",
      "\n",
      "[15:29:05] WARNING: ../src/learner.cc:1061: Starting in XGBoost 1.3.0, the default evaluation metric used with the objective 'binary:logistic' was changed from 'error' to 'logloss'. Explicitly set eval_metric if you'd like to restore the old behavior.\n",
      "[15:29:45] WARNING: ../src/learner.cc:541: \n",
      "Parameters: { criterion, max_features, max_samples, min_samples_split } might not be used.\n",
      "\n",
      "  This may not be accurate due to some parameters are only used in language bindings but\n",
      "  passed down to XGBoost core.  Or some parameters are not used but slip through this\n",
      "  verification. Please open an issue if you find above cases.\n",
      "\n",
      "\n",
      "[15:29:46] WARNING: ../src/learner.cc:1061: Starting in XGBoost 1.3.0, the default evaluation metric used with the objective 'binary:logistic' was changed from 'error' to 'logloss'. Explicitly set eval_metric if you'd like to restore the old behavior.\n"
     ]
    }
   ],
   "source": [
    "rs_results = rs.fit(X_train, y_train)"
   ]
  },
  {
   "cell_type": "markdown",
   "id": "ba23a504-829e-4f2f-b1cc-baf311d80646",
   "metadata": {},
   "source": [
    "Check the results."
   ]
  },
  {
   "cell_type": "code",
   "execution_count": 50,
   "id": "a349a80f-cc47-4ae6-9392-155b2d72b5ff",
   "metadata": {},
   "outputs": [
    {
     "data": {
      "text/plain": [
       "Pipeline(steps=[('clf',\n",
       "                 XGBClassifier(base_score=0.5, booster='gbtree',\n",
       "                               colsample_bylevel=1, colsample_bynode=1,\n",
       "                               colsample_bytree=1, criterion='entropy', gamma=0,\n",
       "                               gpu_id=-1, importance_type='gain',\n",
       "                               interaction_constraints='',\n",
       "                               learning_rate=0.300000012, max_delta_step=0,\n",
       "                               max_depth=7, max_features='auto',\n",
       "                               max_samples=0.5, min_child_weight=1,\n",
       "                               min_samples_split=0.4111111111111111,\n",
       "                               missing=nan, monotone_constraints='()',\n",
       "                               n_estimators=50, n_jobs=16, num_parallel_tree=1,\n",
       "                               random_state=0, reg_alpha=0, reg_lambda=1,\n",
       "                               scale_pos_weight=1, subsample=1,\n",
       "                               tree_method='exact', validate_parameters=1,\n",
       "                               verbosity=None))])"
      ]
     },
     "execution_count": 50,
     "metadata": {},
     "output_type": "execute_result"
    }
   ],
   "source": [
    "rs_results.best_estimator_"
   ]
  },
  {
   "cell_type": "code",
   "execution_count": 51,
   "id": "84a703f8-2256-4f75-83d4-3ac5a95924da",
   "metadata": {},
   "outputs": [
    {
     "data": {
      "text/plain": [
       "{'clf__n_estimators': 50,\n",
       " 'clf__min_samples_split': 0.4111111111111111,\n",
       " 'clf__max_samples': 0.5,\n",
       " 'clf__max_features': 'auto',\n",
       " 'clf__max_depth': 7,\n",
       " 'clf__criterion': 'entropy',\n",
       " 'clf': XGBClassifier(base_score=None, booster=None, colsample_bylevel=None,\n",
       "               colsample_bynode=None, colsample_bytree=None, criterion='entropy',\n",
       "               gamma=None, gpu_id=None, importance_type='gain',\n",
       "               interaction_constraints=None, learning_rate=None,\n",
       "               max_delta_step=None, max_depth=7, max_features='auto',\n",
       "               max_samples=0.5, min_child_weight=None,\n",
       "               min_samples_split=0.4111111111111111, missing=nan,\n",
       "               monotone_constraints=None, n_estimators=50, n_jobs=None,\n",
       "               num_parallel_tree=None, random_state=None, reg_alpha=None,\n",
       "               reg_lambda=None, scale_pos_weight=None, subsample=None,\n",
       "               tree_method=None, validate_parameters=None, verbosity=None)}"
      ]
     },
     "execution_count": 51,
     "metadata": {},
     "output_type": "execute_result"
    }
   ],
   "source": [
    "rs_results.best_params_"
   ]
  },
  {
   "cell_type": "code",
   "execution_count": 52,
   "id": "89f54714-d825-495b-a150-40de7f885ad0",
   "metadata": {},
   "outputs": [
    {
     "data": {
      "text/plain": [
       "0.9279166346193067"
      ]
     },
     "execution_count": 52,
     "metadata": {},
     "output_type": "execute_result"
    }
   ],
   "source": [
    "rs_results.best_score_"
   ]
  },
  {
   "cell_type": "code",
   "execution_count": 53,
   "id": "5fec844e-5636-4729-b68b-e7009f8a7190",
   "metadata": {},
   "outputs": [
    {
     "data": {
      "text/plain": [
       "{'mean_fit_time': array([4.23047154e+01, 5.80357432e+00, 8.24969197e+01, 1.64146320e+00,\n",
       "        9.46557408e+01, 1.49212432e+00, 3.20498943e-02, 1.45993568e+02,\n",
       "        3.35522493e-02, 3.60049033e+01]),\n",
       " 'std_fit_time': array([7.81819631e-01, 1.52984071e-01, 4.01336070e+00, 3.18320922e-02,\n",
       "        3.49107406e+00, 4.40841065e-02, 2.84990362e-04, 3.33727149e+00,\n",
       "        3.02022475e-03, 4.59957423e+00]),\n",
       " 'mean_score_time': array([0.25502078, 0.41718825, 0.34918467, 0.33792988, 0.35999831,\n",
       "        0.32580272, 0.        , 0.48696152, 0.        , 0.2239395 ]),\n",
       " 'std_score_time': array([0.04673232, 0.00365037, 0.05106508, 0.01415307, 0.00223086,\n",
       "        0.00580321, 0.        , 0.04432186, 0.        , 0.0415595 ]),\n",
       " 'param_clf__n_estimators': masked_array(data=[50, 100, 200, 100, 100, 100, 100, 200, 50, 50],\n",
       "              mask=[False, False, False, False, False, False, False, False,\n",
       "                    False, False],\n",
       "        fill_value='?',\n",
       "             dtype=object),\n",
       " 'param_clf__min_samples_split': masked_array(data=[0.18888888888888888, 0.3666666666666667,\n",
       "                    0.14444444444444446, 0.2777777777777778,\n",
       "                    0.4555555555555556, 0.3666666666666667,\n",
       "                    0.23333333333333334, 0.23333333333333334,\n",
       "                    0.32222222222222224, 0.4111111111111111],\n",
       "              mask=[False, False, False, False, False, False, False, False,\n",
       "                    False, False],\n",
       "        fill_value='?',\n",
       "             dtype=object),\n",
       " 'param_clf__max_samples': masked_array(data=[0.25, 0.75, 0.5, 0.25, 0.75, 1, --, 0.75, --, 0.5],\n",
       "              mask=[False, False, False, False, False, False,  True, False,\n",
       "                     True, False],\n",
       "        fill_value='?',\n",
       "             dtype=object),\n",
       " 'param_clf__max_features': masked_array(data=['sqrt', 'sqrt', 'log2', 'log2', 'log2', 'sqrt', 'sqrt',\n",
       "                    'sqrt', 'auto', 'auto'],\n",
       "              mask=[False, False, False, False, False, False, False, False,\n",
       "                    False, False],\n",
       "        fill_value='?',\n",
       "             dtype=object),\n",
       " 'param_clf__max_depth': masked_array(data=[8, 3, 4, 10, 9, 7, 3, 7, 5, 7],\n",
       "              mask=[False, False, False, False, False, False, False, False,\n",
       "                    False, False],\n",
       "        fill_value='?',\n",
       "             dtype=object),\n",
       " 'param_clf__criterion': masked_array(data=['entropy', 'gini', 'gini', 'gini', 'gini', 'entropy',\n",
       "                    'gini', 'entropy', 'entropy', 'entropy'],\n",
       "              mask=[False, False, False, False, False, False, False, False,\n",
       "                    False, False],\n",
       "        fill_value='?',\n",
       "             dtype=object),\n",
       " 'param_clf': masked_array(data=[XGBClassifier(base_score=None, booster=None, colsample_bylevel=None,\n",
       "                                  colsample_bynode=None, colsample_bytree=None, criterion='entropy',\n",
       "                                  gamma=None, gpu_id=None, importance_type='gain',\n",
       "                                  interaction_constraints=None, learning_rate=None,\n",
       "                                  max_delta_step=None, max_depth=7, max_features='auto',\n",
       "                                  max_samples=0.5, min_child_weight=None,\n",
       "                                  min_samples_split=0.4111111111111111, missing=nan,\n",
       "                                  monotone_constraints=None, n_estimators=50, n_jobs=None,\n",
       "                                  num_parallel_tree=None, random_state=None, reg_alpha=None,\n",
       "                                  reg_lambda=None, scale_pos_weight=None, subsample=None,\n",
       "                                  tree_method=None, validate_parameters=None, verbosity=None)       ,\n",
       "                    RandomForestClassifier(),\n",
       "                    XGBClassifier(base_score=None, booster=None, colsample_bylevel=None,\n",
       "                                  colsample_bynode=None, colsample_bytree=None, criterion='entropy',\n",
       "                                  gamma=None, gpu_id=None, importance_type='gain',\n",
       "                                  interaction_constraints=None, learning_rate=None,\n",
       "                                  max_delta_step=None, max_depth=7, max_features='auto',\n",
       "                                  max_samples=0.5, min_child_weight=None,\n",
       "                                  min_samples_split=0.4111111111111111, missing=nan,\n",
       "                                  monotone_constraints=None, n_estimators=50, n_jobs=None,\n",
       "                                  num_parallel_tree=None, random_state=None, reg_alpha=None,\n",
       "                                  reg_lambda=None, scale_pos_weight=None, subsample=None,\n",
       "                                  tree_method=None, validate_parameters=None, verbosity=None)       ,\n",
       "                    RandomForestClassifier(),\n",
       "                    XGBClassifier(base_score=None, booster=None, colsample_bylevel=None,\n",
       "                                  colsample_bynode=None, colsample_bytree=None, criterion='entropy',\n",
       "                                  gamma=None, gpu_id=None, importance_type='gain',\n",
       "                                  interaction_constraints=None, learning_rate=None,\n",
       "                                  max_delta_step=None, max_depth=7, max_features='auto',\n",
       "                                  max_samples=0.5, min_child_weight=None,\n",
       "                                  min_samples_split=0.4111111111111111, missing=nan,\n",
       "                                  monotone_constraints=None, n_estimators=50, n_jobs=None,\n",
       "                                  num_parallel_tree=None, random_state=None, reg_alpha=None,\n",
       "                                  reg_lambda=None, scale_pos_weight=None, subsample=None,\n",
       "                                  tree_method=None, validate_parameters=None, verbosity=None)       ,\n",
       "                    RandomForestClassifier(), GradientBoostingClassifier(),\n",
       "                    XGBClassifier(base_score=None, booster=None, colsample_bylevel=None,\n",
       "                                  colsample_bynode=None, colsample_bytree=None, criterion='entropy',\n",
       "                                  gamma=None, gpu_id=None, importance_type='gain',\n",
       "                                  interaction_constraints=None, learning_rate=None,\n",
       "                                  max_delta_step=None, max_depth=7, max_features='auto',\n",
       "                                  max_samples=0.5, min_child_weight=None,\n",
       "                                  min_samples_split=0.4111111111111111, missing=nan,\n",
       "                                  monotone_constraints=None, n_estimators=50, n_jobs=None,\n",
       "                                  num_parallel_tree=None, random_state=None, reg_alpha=None,\n",
       "                                  reg_lambda=None, scale_pos_weight=None, subsample=None,\n",
       "                                  tree_method=None, validate_parameters=None, verbosity=None)       ,\n",
       "                    GradientBoostingClassifier(),\n",
       "                    XGBClassifier(base_score=None, booster=None, colsample_bylevel=None,\n",
       "                                  colsample_bynode=None, colsample_bytree=None, criterion='entropy',\n",
       "                                  gamma=None, gpu_id=None, importance_type='gain',\n",
       "                                  interaction_constraints=None, learning_rate=None,\n",
       "                                  max_delta_step=None, max_depth=7, max_features='auto',\n",
       "                                  max_samples=0.5, min_child_weight=None,\n",
       "                                  min_samples_split=0.4111111111111111, missing=nan,\n",
       "                                  monotone_constraints=None, n_estimators=50, n_jobs=None,\n",
       "                                  num_parallel_tree=None, random_state=None, reg_alpha=None,\n",
       "                                  reg_lambda=None, scale_pos_weight=None, subsample=None,\n",
       "                                  tree_method=None, validate_parameters=None, verbosity=None)       ],\n",
       "              mask=[False, False, False, False, False, False, False, False,\n",
       "                    False, False],\n",
       "        fill_value='?',\n",
       "             dtype=object),\n",
       " 'params': [{'clf__n_estimators': 50,\n",
       "   'clf__min_samples_split': 0.18888888888888888,\n",
       "   'clf__max_samples': 0.25,\n",
       "   'clf__max_features': 'sqrt',\n",
       "   'clf__max_depth': 8,\n",
       "   'clf__criterion': 'entropy',\n",
       "   'clf': XGBClassifier(base_score=None, booster=None, colsample_bylevel=None,\n",
       "                 colsample_bynode=None, colsample_bytree=None, criterion='entropy',\n",
       "                 gamma=None, gpu_id=None, importance_type='gain',\n",
       "                 interaction_constraints=None, learning_rate=None,\n",
       "                 max_delta_step=None, max_depth=7, max_features='auto',\n",
       "                 max_samples=0.5, min_child_weight=None,\n",
       "                 min_samples_split=0.4111111111111111, missing=nan,\n",
       "                 monotone_constraints=None, n_estimators=50, n_jobs=None,\n",
       "                 num_parallel_tree=None, random_state=None, reg_alpha=None,\n",
       "                 reg_lambda=None, scale_pos_weight=None, subsample=None,\n",
       "                 tree_method=None, validate_parameters=None, verbosity=None)},\n",
       "  {'clf__n_estimators': 100,\n",
       "   'clf__min_samples_split': 0.3666666666666667,\n",
       "   'clf__max_samples': 0.75,\n",
       "   'clf__max_features': 'sqrt',\n",
       "   'clf__max_depth': 3,\n",
       "   'clf__criterion': 'gini',\n",
       "   'clf': RandomForestClassifier()},\n",
       "  {'clf__n_estimators': 200,\n",
       "   'clf__min_samples_split': 0.14444444444444446,\n",
       "   'clf__max_samples': 0.5,\n",
       "   'clf__max_features': 'log2',\n",
       "   'clf__max_depth': 4,\n",
       "   'clf__criterion': 'gini',\n",
       "   'clf': XGBClassifier(base_score=None, booster=None, colsample_bylevel=None,\n",
       "                 colsample_bynode=None, colsample_bytree=None, criterion='entropy',\n",
       "                 gamma=None, gpu_id=None, importance_type='gain',\n",
       "                 interaction_constraints=None, learning_rate=None,\n",
       "                 max_delta_step=None, max_depth=7, max_features='auto',\n",
       "                 max_samples=0.5, min_child_weight=None,\n",
       "                 min_samples_split=0.4111111111111111, missing=nan,\n",
       "                 monotone_constraints=None, n_estimators=50, n_jobs=None,\n",
       "                 num_parallel_tree=None, random_state=None, reg_alpha=None,\n",
       "                 reg_lambda=None, scale_pos_weight=None, subsample=None,\n",
       "                 tree_method=None, validate_parameters=None, verbosity=None)},\n",
       "  {'clf__n_estimators': 100,\n",
       "   'clf__min_samples_split': 0.2777777777777778,\n",
       "   'clf__max_samples': 0.25,\n",
       "   'clf__max_features': 'log2',\n",
       "   'clf__max_depth': 10,\n",
       "   'clf__criterion': 'gini',\n",
       "   'clf': RandomForestClassifier()},\n",
       "  {'clf__n_estimators': 100,\n",
       "   'clf__min_samples_split': 0.4555555555555556,\n",
       "   'clf__max_samples': 0.75,\n",
       "   'clf__max_features': 'log2',\n",
       "   'clf__max_depth': 9,\n",
       "   'clf__criterion': 'gini',\n",
       "   'clf': XGBClassifier(base_score=None, booster=None, colsample_bylevel=None,\n",
       "                 colsample_bynode=None, colsample_bytree=None, criterion='entropy',\n",
       "                 gamma=None, gpu_id=None, importance_type='gain',\n",
       "                 interaction_constraints=None, learning_rate=None,\n",
       "                 max_delta_step=None, max_depth=7, max_features='auto',\n",
       "                 max_samples=0.5, min_child_weight=None,\n",
       "                 min_samples_split=0.4111111111111111, missing=nan,\n",
       "                 monotone_constraints=None, n_estimators=50, n_jobs=None,\n",
       "                 num_parallel_tree=None, random_state=None, reg_alpha=None,\n",
       "                 reg_lambda=None, scale_pos_weight=None, subsample=None,\n",
       "                 tree_method=None, validate_parameters=None, verbosity=None)},\n",
       "  {'clf__n_estimators': 100,\n",
       "   'clf__min_samples_split': 0.3666666666666667,\n",
       "   'clf__max_samples': 1,\n",
       "   'clf__max_features': 'sqrt',\n",
       "   'clf__max_depth': 7,\n",
       "   'clf__criterion': 'entropy',\n",
       "   'clf': RandomForestClassifier()},\n",
       "  {'clf__n_estimators': 100,\n",
       "   'clf__min_samples_split': 0.23333333333333334,\n",
       "   'clf__max_features': 'sqrt',\n",
       "   'clf__max_depth': 3,\n",
       "   'clf__criterion': 'gini',\n",
       "   'clf': GradientBoostingClassifier()},\n",
       "  {'clf__n_estimators': 200,\n",
       "   'clf__min_samples_split': 0.23333333333333334,\n",
       "   'clf__max_samples': 0.75,\n",
       "   'clf__max_features': 'sqrt',\n",
       "   'clf__max_depth': 7,\n",
       "   'clf__criterion': 'entropy',\n",
       "   'clf': XGBClassifier(base_score=None, booster=None, colsample_bylevel=None,\n",
       "                 colsample_bynode=None, colsample_bytree=None, criterion='entropy',\n",
       "                 gamma=None, gpu_id=None, importance_type='gain',\n",
       "                 interaction_constraints=None, learning_rate=None,\n",
       "                 max_delta_step=None, max_depth=7, max_features='auto',\n",
       "                 max_samples=0.5, min_child_weight=None,\n",
       "                 min_samples_split=0.4111111111111111, missing=nan,\n",
       "                 monotone_constraints=None, n_estimators=50, n_jobs=None,\n",
       "                 num_parallel_tree=None, random_state=None, reg_alpha=None,\n",
       "                 reg_lambda=None, scale_pos_weight=None, subsample=None,\n",
       "                 tree_method=None, validate_parameters=None, verbosity=None)},\n",
       "  {'clf__n_estimators': 50,\n",
       "   'clf__min_samples_split': 0.32222222222222224,\n",
       "   'clf__max_features': 'auto',\n",
       "   'clf__max_depth': 5,\n",
       "   'clf__criterion': 'entropy',\n",
       "   'clf': GradientBoostingClassifier()},\n",
       "  {'clf__n_estimators': 50,\n",
       "   'clf__min_samples_split': 0.4111111111111111,\n",
       "   'clf__max_samples': 0.5,\n",
       "   'clf__max_features': 'auto',\n",
       "   'clf__max_depth': 7,\n",
       "   'clf__criterion': 'entropy',\n",
       "   'clf': XGBClassifier(base_score=None, booster=None, colsample_bylevel=None,\n",
       "                 colsample_bynode=None, colsample_bytree=None, criterion='entropy',\n",
       "                 gamma=None, gpu_id=None, importance_type='gain',\n",
       "                 interaction_constraints=None, learning_rate=None,\n",
       "                 max_delta_step=None, max_depth=7, max_features='auto',\n",
       "                 max_samples=0.5, min_child_weight=None,\n",
       "                 min_samples_split=0.4111111111111111, missing=nan,\n",
       "                 monotone_constraints=None, n_estimators=50, n_jobs=None,\n",
       "                 num_parallel_tree=None, random_state=None, reg_alpha=None,\n",
       "                 reg_lambda=None, scale_pos_weight=None, subsample=None,\n",
       "                 tree_method=None, validate_parameters=None, verbosity=None)}],\n",
       " 'split0_test_score': array([0.92776177, 0.68676639, 0.92729565, 0.68676639, 0.9268825 ,\n",
       "        0.68676639,        nan, 0.9258655 ,        nan, 0.92782533]),\n",
       " 'split1_test_score': array([0.92804704, 0.68840511, 0.92747497, 0.68840511, 0.92748557,\n",
       "        0.68840511,        nan, 0.92717835,        nan, 0.92849198]),\n",
       " 'split2_test_score': array([0.92729488, 0.68607447, 0.92718894, 0.68607447, 0.9269241 ,\n",
       "        0.68607447,        nan, 0.92628847,        nan, 0.9274326 ]),\n",
       " 'mean_test_score': array([0.92770123, 0.68708199, 0.92731985, 0.68708199, 0.92709739,\n",
       "        0.68708199,        nan, 0.92644411,        nan, 0.92791663]),\n",
       " 'std_test_score': array([0.00031004, 0.0009773 , 0.00011802, 0.0009773 , 0.00027501,\n",
       "        0.0009773 ,        nan, 0.00054715,        nan, 0.00043728]),\n",
       " 'rank_test_score': array([ 2,  6,  3,  6,  4,  6,  9,  5, 10,  1], dtype=int32)}"
      ]
     },
     "execution_count": 53,
     "metadata": {},
     "output_type": "execute_result"
    }
   ],
   "source": [
    "rs_results.cv_results_"
   ]
  },
  {
   "cell_type": "code",
   "execution_count": 54,
   "id": "054b1e3d-f7a5-40b9-b68b-0a6b2e835b9b",
   "metadata": {},
   "outputs": [],
   "source": [
    "df_rs_res = pd.DataFrame(rs_results.cv_results_)"
   ]
  },
  {
   "cell_type": "code",
   "execution_count": 56,
   "id": "62f139d0-58a0-49ff-80bc-0ca81e1e5217",
   "metadata": {},
   "outputs": [
    {
     "data": {
      "text/plain": [
       "(10, 18)"
      ]
     },
     "execution_count": 56,
     "metadata": {},
     "output_type": "execute_result"
    }
   ],
   "source": [
    "df_rs_res.shape"
   ]
  },
  {
   "cell_type": "code",
   "execution_count": 55,
   "id": "e4d52a21-d62b-4d63-bd7e-15cff7da8b19",
   "metadata": {},
   "outputs": [
    {
     "data": {
      "application/com.datacamp.data-table.v1+json": {
       "is_truncated": false,
       "table": {
        "data": [
         {
          "0": 42.304715395,
          "1": 5.8035743237,
          "2": 82.4969197114,
          "3": 1.6414632003,
          "4": 94.6557408174,
          "5": 1.4921243191,
          "6": 0.0320498943,
          "7": 145.9935683409,
          "8": 0.0335522493,
          "9": 36.0049033165,
          "index": "mean_fit_time"
         },
         {
          "0": 0.7818196313,
          "1": 0.1529840714,
          "2": 4.013360699,
          "3": 0.0318320922,
          "4": 3.4910740559,
          "5": 0.0440841065,
          "6": 0.0002849904,
          "7": 3.3372714887,
          "8": 0.0030202248,
          "9": 4.5995742329,
          "index": "std_fit_time"
         },
         {
          "0": 0.2550207774,
          "1": 0.417188247,
          "2": 0.349184672,
          "3": 0.3379298846,
          "4": 0.3599983056,
          "5": 0.3258027236,
          "6": 0,
          "7": 0.4869615237,
          "8": 0,
          "9": 0.2239394983,
          "index": "mean_score_time"
         },
         {
          "0": 0.0467323166,
          "1": 0.0036503669,
          "2": 0.051065075,
          "3": 0.0141530749,
          "4": 0.0022308563,
          "5": 0.0058032119,
          "6": 0,
          "7": 0.0443218621,
          "8": 0,
          "9": 0.0415595003,
          "index": "std_score_time"
         },
         {
          "0": 50,
          "1": 100,
          "2": 200,
          "3": 100,
          "4": 100,
          "5": 100,
          "6": 100,
          "7": 200,
          "8": 50,
          "9": 50,
          "index": "param_clf__n_estimators"
         },
         {
          "0": 0.1888888889,
          "1": 0.3666666667,
          "2": 0.1444444444,
          "3": 0.2777777778,
          "4": 0.4555555556,
          "5": 0.3666666667,
          "6": 0.2333333333,
          "7": 0.2333333333,
          "8": 0.3222222222,
          "9": 0.4111111111,
          "index": "param_clf__min_samples_split"
         },
         {
          "0": 0.25,
          "1": 0.75,
          "2": 0.5,
          "3": 0.25,
          "4": 0.75,
          "5": 1,
          "6": null,
          "7": 0.75,
          "8": null,
          "9": 0.5,
          "index": "param_clf__max_samples"
         },
         {
          "0": "sqrt",
          "1": "sqrt",
          "2": "log2",
          "3": "log2",
          "4": "log2",
          "5": "sqrt",
          "6": "sqrt",
          "7": "sqrt",
          "8": "auto",
          "9": "auto",
          "index": "param_clf__max_features"
         },
         {
          "0": 8,
          "1": 3,
          "2": 4,
          "3": 10,
          "4": 9,
          "5": 7,
          "6": 3,
          "7": 7,
          "8": 5,
          "9": 7,
          "index": "param_clf__max_depth"
         },
         {
          "0": "entropy",
          "1": "gini",
          "2": "gini",
          "3": "gini",
          "4": "gini",
          "5": "entropy",
          "6": "gini",
          "7": "entropy",
          "8": "entropy",
          "9": "entropy",
          "index": "param_clf__criterion"
         },
         {
          "0": {
           "base_score": null,
           "colsample_bylevel": null,
           "colsample_bytree": null,
           "gamma": null,
           "gpu_id": null,
           "interaction_constraints": null,
           "kwargs": {
            "criterion": "entropy",
            "max_features": "auto",
            "max_samples": 0.5,
            "min_samples_split": 0.4111111111
           },
           "max_delta_step": null,
           "min_child_weight": null,
           "monotone_constraints": null,
           "n_jobs": null,
           "objective": "binary:logistic",
           "random_state": null,
           "reg_lambda": null,
           "scale_pos_weight": null,
           "subsample": null,
           "use_label_encoder": true,
           "verbosity": null
          },
          "1": {
           "base_estimator": {
            "ccp_alpha": 0,
            "criterion": "gini",
            "max_depth": null,
            "max_leaf_nodes": null,
            "min_samples_leaf": 1,
            "min_weight_fraction_leaf": 0,
            "random_state": null,
            "splitter": "best"
           },
           "ccp_alpha": 0,
           "criterion": "gini",
           "estimator_params": [
            "criterion",
            "max_depth",
            "min_samples_split",
            "min_samples_leaf",
            "min_weight_fraction_leaf",
            "max_features",
            "max_leaf_nodes",
            "min_impurity_decrease",
            "random_state",
            "ccp_alpha"
           ],
           "max_depth": null,
           "max_leaf_nodes": null,
           "min_impurity_decrease": 0,
           "min_samples_split": 2,
           "n_estimators": 100,
           "n_jobs": null,
           "random_state": null,
           "verbose": 0
          },
          "2": {
           "base_score": null,
           "colsample_bylevel": null,
           "colsample_bytree": null,
           "gamma": null,
           "gpu_id": null,
           "interaction_constraints": null,
           "kwargs": {
            "criterion": "entropy",
            "max_features": "auto",
            "max_samples": 0.5,
            "min_samples_split": 0.4111111111
           },
           "max_delta_step": null,
           "min_child_weight": null,
           "monotone_constraints": null,
           "n_jobs": null,
           "objective": "binary:logistic",
           "random_state": null,
           "reg_lambda": null,
           "scale_pos_weight": null,
           "subsample": null,
           "use_label_encoder": true,
           "verbosity": null
          },
          "3": {
           "base_estimator": {
            "ccp_alpha": 0,
            "criterion": "gini",
            "max_depth": null,
            "max_leaf_nodes": null,
            "min_samples_leaf": 1,
            "min_weight_fraction_leaf": 0,
            "random_state": null,
            "splitter": "best"
           },
           "ccp_alpha": 0,
           "criterion": "gini",
           "estimator_params": [
            "criterion",
            "max_depth",
            "min_samples_split",
            "min_samples_leaf",
            "min_weight_fraction_leaf",
            "max_features",
            "max_leaf_nodes",
            "min_impurity_decrease",
            "random_state",
            "ccp_alpha"
           ],
           "max_depth": null,
           "max_leaf_nodes": null,
           "min_impurity_decrease": 0,
           "min_samples_split": 2,
           "n_estimators": 100,
           "n_jobs": null,
           "random_state": null,
           "verbose": 0
          },
          "4": {
           "base_score": null,
           "colsample_bylevel": null,
           "colsample_bytree": null,
           "gamma": null,
           "gpu_id": null,
           "interaction_constraints": null,
           "kwargs": {
            "criterion": "entropy",
            "max_features": "auto",
            "max_samples": 0.5,
            "min_samples_split": 0.4111111111
           },
           "max_delta_step": null,
           "min_child_weight": null,
           "monotone_constraints": null,
           "n_jobs": null,
           "objective": "binary:logistic",
           "random_state": null,
           "reg_lambda": null,
           "scale_pos_weight": null,
           "subsample": null,
           "use_label_encoder": true,
           "verbosity": null
          },
          "5": {
           "base_estimator": {
            "ccp_alpha": 0,
            "criterion": "gini",
            "max_depth": null,
            "max_leaf_nodes": null,
            "min_samples_leaf": 1,
            "min_weight_fraction_leaf": 0,
            "random_state": null,
            "splitter": "best"
           },
           "ccp_alpha": 0,
           "criterion": "gini",
           "estimator_params": [
            "criterion",
            "max_depth",
            "min_samples_split",
            "min_samples_leaf",
            "min_weight_fraction_leaf",
            "max_features",
            "max_leaf_nodes",
            "min_impurity_decrease",
            "random_state",
            "ccp_alpha"
           ],
           "max_depth": null,
           "max_leaf_nodes": null,
           "min_impurity_decrease": 0,
           "min_samples_split": 2,
           "n_estimators": 100,
           "n_jobs": null,
           "random_state": null,
           "verbose": 0
          },
          "6": {
           "alpha": 0.9,
           "ccp_alpha": 0,
           "init": null,
           "loss": "deviance",
           "max_features": null,
           "min_impurity_decrease": 0,
           "min_samples_split": 2,
           "n_estimators": 100,
           "n_iter_no_change": null,
           "random_state": null,
           "subsample": 1,
           "validation_fraction": 0.1,
           "warm_start": false
          },
          "7": {
           "base_score": null,
           "colsample_bylevel": null,
           "colsample_bytree": null,
           "gamma": null,
           "gpu_id": null,
           "interaction_constraints": null,
           "kwargs": {
            "criterion": "entropy",
            "max_features": "auto",
            "max_samples": 0.5,
            "min_samples_split": 0.4111111111
           },
           "max_delta_step": null,
           "min_child_weight": null,
           "monotone_constraints": null,
           "n_jobs": null,
           "objective": "binary:logistic",
           "random_state": null,
           "reg_lambda": null,
           "scale_pos_weight": null,
           "subsample": null,
           "use_label_encoder": true,
           "verbosity": null
          },
          "8": {
           "alpha": 0.9,
           "ccp_alpha": 0,
           "init": null,
           "loss": "deviance",
           "max_features": null,
           "min_impurity_decrease": 0,
           "min_samples_split": 2,
           "n_estimators": 100,
           "n_iter_no_change": null,
           "random_state": null,
           "subsample": 1,
           "validation_fraction": 0.1,
           "warm_start": false
          },
          "9": {
           "base_score": null,
           "colsample_bylevel": null,
           "colsample_bytree": null,
           "gamma": null,
           "gpu_id": null,
           "interaction_constraints": null,
           "kwargs": {
            "criterion": "entropy",
            "max_features": "auto",
            "max_samples": 0.5,
            "min_samples_split": 0.4111111111
           },
           "max_delta_step": null,
           "min_child_weight": null,
           "monotone_constraints": null,
           "n_jobs": null,
           "objective": "binary:logistic",
           "random_state": null,
           "reg_lambda": null,
           "scale_pos_weight": null,
           "subsample": null,
           "use_label_encoder": true,
           "verbosity": null
          },
          "index": "param_clf"
         },
         {
          "0": {
           "clf": {
            "base_score": null,
            "colsample_bylevel": null,
            "colsample_bytree": null,
            "gamma": null,
            "gpu_id": null,
            "interaction_constraints": null,
            "kwargs": {
             "criterion": "entropy",
             "max_features": "auto",
             "max_samples": 0.5,
             "min_samples_split": 0.4111111111
            },
            "max_delta_step": null,
            "min_child_weight": null,
            "monotone_constraints": null,
            "n_jobs": null,
            "objective": "binary:logistic",
            "random_state": null,
            "reg_lambda": null,
            "scale_pos_weight": null,
            "subsample": null,
            "use_label_encoder": true,
            "verbosity": null
           },
           "clf__criterion": "entropy",
           "clf__max_depth": 8,
           "clf__max_features": "sqrt",
           "clf__max_samples": 0.25,
           "clf__min_samples_split": 0.1888888889,
           "clf__n_estimators": 50
          },
          "1": {
           "clf": {
            "base_estimator": {
             "ccp_alpha": 0,
             "criterion": "gini",
             "max_depth": null,
             "max_leaf_nodes": null,
             "min_samples_leaf": 1,
             "min_weight_fraction_leaf": 0,
             "random_state": null,
             "splitter": "best"
            },
            "ccp_alpha": 0,
            "criterion": "gini",
            "estimator_params": [
             "criterion",
             "max_depth",
             "min_samples_split",
             "min_samples_leaf",
             "min_weight_fraction_leaf",
             "max_features",
             "max_leaf_nodes",
             "min_impurity_decrease",
             "random_state",
             "ccp_alpha"
            ],
            "max_depth": null,
            "max_leaf_nodes": null,
            "min_impurity_decrease": 0,
            "min_samples_split": 2,
            "n_estimators": 100,
            "n_jobs": null,
            "random_state": null,
            "verbose": 0
           },
           "clf__criterion": "gini",
           "clf__max_depth": 3,
           "clf__max_features": "sqrt",
           "clf__max_samples": 0.75,
           "clf__min_samples_split": 0.3666666667,
           "clf__n_estimators": 100
          },
          "2": {
           "clf": {
            "base_score": null,
            "colsample_bylevel": null,
            "colsample_bytree": null,
            "gamma": null,
            "gpu_id": null,
            "interaction_constraints": null,
            "kwargs": {
             "criterion": "entropy",
             "max_features": "auto",
             "max_samples": 0.5,
             "min_samples_split": 0.4111111111
            },
            "max_delta_step": null,
            "min_child_weight": null,
            "monotone_constraints": null,
            "n_jobs": null,
            "objective": "binary:logistic",
            "random_state": null,
            "reg_lambda": null,
            "scale_pos_weight": null,
            "subsample": null,
            "use_label_encoder": true,
            "verbosity": null
           },
           "clf__criterion": "gini",
           "clf__max_depth": 4,
           "clf__max_features": "log2",
           "clf__max_samples": 0.5,
           "clf__min_samples_split": 0.1444444444,
           "clf__n_estimators": 200
          },
          "3": {
           "clf": {
            "base_estimator": {
             "ccp_alpha": 0,
             "criterion": "gini",
             "max_depth": null,
             "max_leaf_nodes": null,
             "min_samples_leaf": 1,
             "min_weight_fraction_leaf": 0,
             "random_state": null,
             "splitter": "best"
            },
            "ccp_alpha": 0,
            "criterion": "gini",
            "estimator_params": [
             "criterion",
             "max_depth",
             "min_samples_split",
             "min_samples_leaf",
             "min_weight_fraction_leaf",
             "max_features",
             "max_leaf_nodes",
             "min_impurity_decrease",
             "random_state",
             "ccp_alpha"
            ],
            "max_depth": null,
            "max_leaf_nodes": null,
            "min_impurity_decrease": 0,
            "min_samples_split": 2,
            "n_estimators": 100,
            "n_jobs": null,
            "random_state": null,
            "verbose": 0
           },
           "clf__criterion": "gini",
           "clf__max_depth": 10,
           "clf__max_features": "log2",
           "clf__max_samples": 0.25,
           "clf__min_samples_split": 0.2777777778,
           "clf__n_estimators": 100
          },
          "4": {
           "clf": {
            "base_score": null,
            "colsample_bylevel": null,
            "colsample_bytree": null,
            "gamma": null,
            "gpu_id": null,
            "interaction_constraints": null,
            "kwargs": {
             "criterion": "entropy",
             "max_features": "auto",
             "max_samples": 0.5,
             "min_samples_split": 0.4111111111
            },
            "max_delta_step": null,
            "min_child_weight": null,
            "monotone_constraints": null,
            "n_jobs": null,
            "objective": "binary:logistic",
            "random_state": null,
            "reg_lambda": null,
            "scale_pos_weight": null,
            "subsample": null,
            "use_label_encoder": true,
            "verbosity": null
           },
           "clf__criterion": "gini",
           "clf__max_depth": 9,
           "clf__max_features": "log2",
           "clf__max_samples": 0.75,
           "clf__min_samples_split": 0.4555555556,
           "clf__n_estimators": 100
          },
          "5": {
           "clf": {
            "base_estimator": {
             "ccp_alpha": 0,
             "criterion": "gini",
             "max_depth": null,
             "max_leaf_nodes": null,
             "min_samples_leaf": 1,
             "min_weight_fraction_leaf": 0,
             "random_state": null,
             "splitter": "best"
            },
            "ccp_alpha": 0,
            "criterion": "gini",
            "estimator_params": [
             "criterion",
             "max_depth",
             "min_samples_split",
             "min_samples_leaf",
             "min_weight_fraction_leaf",
             "max_features",
             "max_leaf_nodes",
             "min_impurity_decrease",
             "random_state",
             "ccp_alpha"
            ],
            "max_depth": null,
            "max_leaf_nodes": null,
            "min_impurity_decrease": 0,
            "min_samples_split": 2,
            "n_estimators": 100,
            "n_jobs": null,
            "random_state": null,
            "verbose": 0
           },
           "clf__criterion": "entropy",
           "clf__max_depth": 7,
           "clf__max_features": "sqrt",
           "clf__max_samples": 1,
           "clf__min_samples_split": 0.3666666667,
           "clf__n_estimators": 100
          },
          "6": {
           "clf": {
            "alpha": 0.9,
            "ccp_alpha": 0,
            "init": null,
            "loss": "deviance",
            "max_features": null,
            "min_impurity_decrease": 0,
            "min_samples_split": 2,
            "n_estimators": 100,
            "n_iter_no_change": null,
            "random_state": null,
            "subsample": 1,
            "validation_fraction": 0.1,
            "warm_start": false
           },
           "clf__criterion": "gini",
           "clf__max_depth": 3,
           "clf__max_features": "sqrt",
           "clf__min_samples_split": 0.2333333333,
           "clf__n_estimators": 100
          },
          "7": {
           "clf": {
            "base_score": null,
            "colsample_bylevel": null,
            "colsample_bytree": null,
            "gamma": null,
            "gpu_id": null,
            "interaction_constraints": null,
            "kwargs": {
             "criterion": "entropy",
             "max_features": "auto",
             "max_samples": 0.5,
             "min_samples_split": 0.4111111111
            },
            "max_delta_step": null,
            "min_child_weight": null,
            "monotone_constraints": null,
            "n_jobs": null,
            "objective": "binary:logistic",
            "random_state": null,
            "reg_lambda": null,
            "scale_pos_weight": null,
            "subsample": null,
            "use_label_encoder": true,
            "verbosity": null
           },
           "clf__criterion": "entropy",
           "clf__max_depth": 7,
           "clf__max_features": "sqrt",
           "clf__max_samples": 0.75,
           "clf__min_samples_split": 0.2333333333,
           "clf__n_estimators": 200
          },
          "8": {
           "clf": {
            "alpha": 0.9,
            "ccp_alpha": 0,
            "init": null,
            "loss": "deviance",
            "max_features": null,
            "min_impurity_decrease": 0,
            "min_samples_split": 2,
            "n_estimators": 100,
            "n_iter_no_change": null,
            "random_state": null,
            "subsample": 1,
            "validation_fraction": 0.1,
            "warm_start": false
           },
           "clf__criterion": "entropy",
           "clf__max_depth": 5,
           "clf__max_features": "auto",
           "clf__min_samples_split": 0.3222222222,
           "clf__n_estimators": 50
          },
          "9": {
           "clf": {
            "base_score": null,
            "colsample_bylevel": null,
            "colsample_bytree": null,
            "gamma": null,
            "gpu_id": null,
            "interaction_constraints": null,
            "kwargs": {
             "criterion": "entropy",
             "max_features": "auto",
             "max_samples": 0.5,
             "min_samples_split": 0.4111111111
            },
            "max_delta_step": null,
            "min_child_weight": null,
            "monotone_constraints": null,
            "n_jobs": null,
            "objective": "binary:logistic",
            "random_state": null,
            "reg_lambda": null,
            "scale_pos_weight": null,
            "subsample": null,
            "use_label_encoder": true,
            "verbosity": null
           },
           "clf__criterion": "entropy",
           "clf__max_depth": 7,
           "clf__max_features": "auto",
           "clf__max_samples": 0.5,
           "clf__min_samples_split": 0.4111111111,
           "clf__n_estimators": 50
          },
          "index": "params"
         },
         {
          "0": 0.9277617696,
          "1": 0.6867663884,
          "2": 0.9272956481,
          "3": 0.6867663884,
          "4": 0.926882495,
          "5": 0.6867663884,
          "6": null,
          "7": 0.9258655028,
          "8": null,
          "9": 0.9278253316,
          "index": "split0_test_score"
         },
         {
          "0": 0.9280470364,
          "1": 0.6884051062,
          "2": 0.9274749722,
          "3": 0.6884051062,
          "4": 0.927485566,
          "5": 0.6884051062,
          "6": null,
          "7": 0.9271783463,
          "8": null,
          "9": 0.9284919752,
          "index": "split1_test_score"
         },
         {
          "0": 0.9272948779,
          "1": 0.6860744743,
          "2": 0.9271889401,
          "3": 0.6860744743,
          "4": 0.9269240956,
          "5": 0.6860744743,
          "6": null,
          "7": 0.9262884687,
          "8": null,
          "9": 0.9274325971,
          "index": "split2_test_score"
         },
         {
          "0": 0.927701228,
          "1": 0.6870819896,
          "2": 0.9273198535,
          "3": 0.6870819896,
          "4": 0.9270973855,
          "5": 0.6870819896,
          "6": null,
          "7": 0.9264441059,
          "8": null,
          "9": 0.9279166346,
          "index": "mean_test_score"
         },
         {
          "0": 0.0003100372,
          "1": 0.0009772971,
          "2": 0.0001180198,
          "3": 0.0009772971,
          "4": 0.0002750099,
          "5": 0.0009772971,
          "6": null,
          "7": 0.0005471482,
          "8": null,
          "9": 0.0004372815,
          "index": "std_test_score"
         },
         {
          "0": 2,
          "1": 6,
          "2": 3,
          "3": 6,
          "4": 4,
          "5": 6,
          "6": 9,
          "7": 5,
          "8": 10,
          "9": 1,
          "index": "rank_test_score"
         }
        ],
        "schema": {
         "fields": [
          {
           "name": "index",
           "type": "string"
          },
          {
           "name": 0,
           "type": "string"
          },
          {
           "name": 1,
           "type": "string"
          },
          {
           "name": 2,
           "type": "string"
          },
          {
           "name": 3,
           "type": "string"
          },
          {
           "name": 4,
           "type": "string"
          },
          {
           "name": 5,
           "type": "string"
          },
          {
           "name": 6,
           "type": "string"
          },
          {
           "name": 7,
           "type": "string"
          },
          {
           "name": 8,
           "type": "string"
          },
          {
           "name": 9,
           "type": "string"
          }
         ],
         "pandas_version": "0.20.0",
         "primaryKey": [
          "index"
         ]
        }
       },
       "total_rows": 18
      },
      "text/html": [
       "<div>\n",
       "<style scoped>\n",
       "    .dataframe tbody tr th:only-of-type {\n",
       "        vertical-align: middle;\n",
       "    }\n",
       "\n",
       "    .dataframe tbody tr th {\n",
       "        vertical-align: top;\n",
       "    }\n",
       "\n",
       "    .dataframe thead th {\n",
       "        text-align: right;\n",
       "    }\n",
       "</style>\n",
       "<table border=\"1\" class=\"dataframe\">\n",
       "  <thead>\n",
       "    <tr style=\"text-align: right;\">\n",
       "      <th></th>\n",
       "      <th>0</th>\n",
       "      <th>1</th>\n",
       "      <th>2</th>\n",
       "      <th>3</th>\n",
       "      <th>4</th>\n",
       "      <th>5</th>\n",
       "      <th>6</th>\n",
       "      <th>7</th>\n",
       "      <th>8</th>\n",
       "      <th>9</th>\n",
       "    </tr>\n",
       "  </thead>\n",
       "  <tbody>\n",
       "    <tr>\n",
       "      <th>mean_fit_time</th>\n",
       "      <td>42.304715</td>\n",
       "      <td>5.803574</td>\n",
       "      <td>82.49692</td>\n",
       "      <td>1.641463</td>\n",
       "      <td>94.655741</td>\n",
       "      <td>1.492124</td>\n",
       "      <td>0.03205</td>\n",
       "      <td>145.993568</td>\n",
       "      <td>0.033552</td>\n",
       "      <td>36.004903</td>\n",
       "    </tr>\n",
       "    <tr>\n",
       "      <th>std_fit_time</th>\n",
       "      <td>0.78182</td>\n",
       "      <td>0.152984</td>\n",
       "      <td>4.013361</td>\n",
       "      <td>0.031832</td>\n",
       "      <td>3.491074</td>\n",
       "      <td>0.044084</td>\n",
       "      <td>0.000285</td>\n",
       "      <td>3.337271</td>\n",
       "      <td>0.00302</td>\n",
       "      <td>4.599574</td>\n",
       "    </tr>\n",
       "    <tr>\n",
       "      <th>mean_score_time</th>\n",
       "      <td>0.255021</td>\n",
       "      <td>0.417188</td>\n",
       "      <td>0.349185</td>\n",
       "      <td>0.33793</td>\n",
       "      <td>0.359998</td>\n",
       "      <td>0.325803</td>\n",
       "      <td>0.0</td>\n",
       "      <td>0.486962</td>\n",
       "      <td>0.0</td>\n",
       "      <td>0.223939</td>\n",
       "    </tr>\n",
       "    <tr>\n",
       "      <th>std_score_time</th>\n",
       "      <td>0.046732</td>\n",
       "      <td>0.00365</td>\n",
       "      <td>0.051065</td>\n",
       "      <td>0.014153</td>\n",
       "      <td>0.002231</td>\n",
       "      <td>0.005803</td>\n",
       "      <td>0.0</td>\n",
       "      <td>0.044322</td>\n",
       "      <td>0.0</td>\n",
       "      <td>0.04156</td>\n",
       "    </tr>\n",
       "    <tr>\n",
       "      <th>param_clf__n_estimators</th>\n",
       "      <td>50</td>\n",
       "      <td>100</td>\n",
       "      <td>200</td>\n",
       "      <td>100</td>\n",
       "      <td>100</td>\n",
       "      <td>100</td>\n",
       "      <td>100</td>\n",
       "      <td>200</td>\n",
       "      <td>50</td>\n",
       "      <td>50</td>\n",
       "    </tr>\n",
       "    <tr>\n",
       "      <th>param_clf__min_samples_split</th>\n",
       "      <td>0.188889</td>\n",
       "      <td>0.366667</td>\n",
       "      <td>0.144444</td>\n",
       "      <td>0.277778</td>\n",
       "      <td>0.455556</td>\n",
       "      <td>0.366667</td>\n",
       "      <td>0.233333</td>\n",
       "      <td>0.233333</td>\n",
       "      <td>0.322222</td>\n",
       "      <td>0.411111</td>\n",
       "    </tr>\n",
       "    <tr>\n",
       "      <th>param_clf__max_samples</th>\n",
       "      <td>0.25</td>\n",
       "      <td>0.75</td>\n",
       "      <td>0.5</td>\n",
       "      <td>0.25</td>\n",
       "      <td>0.75</td>\n",
       "      <td>1</td>\n",
       "      <td>NaN</td>\n",
       "      <td>0.75</td>\n",
       "      <td>NaN</td>\n",
       "      <td>0.5</td>\n",
       "    </tr>\n",
       "    <tr>\n",
       "      <th>param_clf__max_features</th>\n",
       "      <td>sqrt</td>\n",
       "      <td>sqrt</td>\n",
       "      <td>log2</td>\n",
       "      <td>log2</td>\n",
       "      <td>log2</td>\n",
       "      <td>sqrt</td>\n",
       "      <td>sqrt</td>\n",
       "      <td>sqrt</td>\n",
       "      <td>auto</td>\n",
       "      <td>auto</td>\n",
       "    </tr>\n",
       "    <tr>\n",
       "      <th>param_clf__max_depth</th>\n",
       "      <td>8</td>\n",
       "      <td>3</td>\n",
       "      <td>4</td>\n",
       "      <td>10</td>\n",
       "      <td>9</td>\n",
       "      <td>7</td>\n",
       "      <td>3</td>\n",
       "      <td>7</td>\n",
       "      <td>5</td>\n",
       "      <td>7</td>\n",
       "    </tr>\n",
       "    <tr>\n",
       "      <th>param_clf__criterion</th>\n",
       "      <td>entropy</td>\n",
       "      <td>gini</td>\n",
       "      <td>gini</td>\n",
       "      <td>gini</td>\n",
       "      <td>gini</td>\n",
       "      <td>entropy</td>\n",
       "      <td>gini</td>\n",
       "      <td>entropy</td>\n",
       "      <td>entropy</td>\n",
       "      <td>entropy</td>\n",
       "    </tr>\n",
       "    <tr>\n",
       "      <th>param_clf</th>\n",
       "      <td>XGBClassifier(base_score=None, booster=None, c...</td>\n",
       "      <td>RandomForestClassifier()</td>\n",
       "      <td>XGBClassifier(base_score=None, booster=None, c...</td>\n",
       "      <td>RandomForestClassifier()</td>\n",
       "      <td>XGBClassifier(base_score=None, booster=None, c...</td>\n",
       "      <td>RandomForestClassifier()</td>\n",
       "      <td>GradientBoostingClassifier()</td>\n",
       "      <td>XGBClassifier(base_score=None, booster=None, c...</td>\n",
       "      <td>GradientBoostingClassifier()</td>\n",
       "      <td>XGBClassifier(base_score=None, booster=None, c...</td>\n",
       "    </tr>\n",
       "    <tr>\n",
       "      <th>params</th>\n",
       "      <td>{'clf__n_estimators': 50, 'clf__min_samples_sp...</td>\n",
       "      <td>{'clf__n_estimators': 100, 'clf__min_samples_s...</td>\n",
       "      <td>{'clf__n_estimators': 200, 'clf__min_samples_s...</td>\n",
       "      <td>{'clf__n_estimators': 100, 'clf__min_samples_s...</td>\n",
       "      <td>{'clf__n_estimators': 100, 'clf__min_samples_s...</td>\n",
       "      <td>{'clf__n_estimators': 100, 'clf__min_samples_s...</td>\n",
       "      <td>{'clf__n_estimators': 100, 'clf__min_samples_s...</td>\n",
       "      <td>{'clf__n_estimators': 200, 'clf__min_samples_s...</td>\n",
       "      <td>{'clf__n_estimators': 50, 'clf__min_samples_sp...</td>\n",
       "      <td>{'clf__n_estimators': 50, 'clf__min_samples_sp...</td>\n",
       "    </tr>\n",
       "    <tr>\n",
       "      <th>split0_test_score</th>\n",
       "      <td>0.927762</td>\n",
       "      <td>0.686766</td>\n",
       "      <td>0.927296</td>\n",
       "      <td>0.686766</td>\n",
       "      <td>0.926882</td>\n",
       "      <td>0.686766</td>\n",
       "      <td>NaN</td>\n",
       "      <td>0.925866</td>\n",
       "      <td>NaN</td>\n",
       "      <td>0.927825</td>\n",
       "    </tr>\n",
       "    <tr>\n",
       "      <th>split1_test_score</th>\n",
       "      <td>0.928047</td>\n",
       "      <td>0.688405</td>\n",
       "      <td>0.927475</td>\n",
       "      <td>0.688405</td>\n",
       "      <td>0.927486</td>\n",
       "      <td>0.688405</td>\n",
       "      <td>NaN</td>\n",
       "      <td>0.927178</td>\n",
       "      <td>NaN</td>\n",
       "      <td>0.928492</td>\n",
       "    </tr>\n",
       "    <tr>\n",
       "      <th>split2_test_score</th>\n",
       "      <td>0.927295</td>\n",
       "      <td>0.686074</td>\n",
       "      <td>0.927189</td>\n",
       "      <td>0.686074</td>\n",
       "      <td>0.926924</td>\n",
       "      <td>0.686074</td>\n",
       "      <td>NaN</td>\n",
       "      <td>0.926288</td>\n",
       "      <td>NaN</td>\n",
       "      <td>0.927433</td>\n",
       "    </tr>\n",
       "    <tr>\n",
       "      <th>mean_test_score</th>\n",
       "      <td>0.927701</td>\n",
       "      <td>0.687082</td>\n",
       "      <td>0.92732</td>\n",
       "      <td>0.687082</td>\n",
       "      <td>0.927097</td>\n",
       "      <td>0.687082</td>\n",
       "      <td>NaN</td>\n",
       "      <td>0.926444</td>\n",
       "      <td>NaN</td>\n",
       "      <td>0.927917</td>\n",
       "    </tr>\n",
       "    <tr>\n",
       "      <th>std_test_score</th>\n",
       "      <td>0.00031</td>\n",
       "      <td>0.000977</td>\n",
       "      <td>0.000118</td>\n",
       "      <td>0.000977</td>\n",
       "      <td>0.000275</td>\n",
       "      <td>0.000977</td>\n",
       "      <td>NaN</td>\n",
       "      <td>0.000547</td>\n",
       "      <td>NaN</td>\n",
       "      <td>0.000437</td>\n",
       "    </tr>\n",
       "    <tr>\n",
       "      <th>rank_test_score</th>\n",
       "      <td>2</td>\n",
       "      <td>6</td>\n",
       "      <td>3</td>\n",
       "      <td>6</td>\n",
       "      <td>4</td>\n",
       "      <td>6</td>\n",
       "      <td>9</td>\n",
       "      <td>5</td>\n",
       "      <td>10</td>\n",
       "      <td>1</td>\n",
       "    </tr>\n",
       "  </tbody>\n",
       "</table>\n",
       "</div>"
      ],
      "text/plain": [
       "                                                                              0  \\\n",
       "mean_fit_time                                                         42.304715   \n",
       "std_fit_time                                                            0.78182   \n",
       "mean_score_time                                                        0.255021   \n",
       "std_score_time                                                         0.046732   \n",
       "param_clf__n_estimators                                                      50   \n",
       "param_clf__min_samples_split                                           0.188889   \n",
       "param_clf__max_samples                                                     0.25   \n",
       "param_clf__max_features                                                    sqrt   \n",
       "param_clf__max_depth                                                          8   \n",
       "param_clf__criterion                                                    entropy   \n",
       "param_clf                     XGBClassifier(base_score=None, booster=None, c...   \n",
       "params                        {'clf__n_estimators': 50, 'clf__min_samples_sp...   \n",
       "split0_test_score                                                      0.927762   \n",
       "split1_test_score                                                      0.928047   \n",
       "split2_test_score                                                      0.927295   \n",
       "mean_test_score                                                        0.927701   \n",
       "std_test_score                                                          0.00031   \n",
       "rank_test_score                                                               2   \n",
       "\n",
       "                                                                              1  \\\n",
       "mean_fit_time                                                          5.803574   \n",
       "std_fit_time                                                           0.152984   \n",
       "mean_score_time                                                        0.417188   \n",
       "std_score_time                                                          0.00365   \n",
       "param_clf__n_estimators                                                     100   \n",
       "param_clf__min_samples_split                                           0.366667   \n",
       "param_clf__max_samples                                                     0.75   \n",
       "param_clf__max_features                                                    sqrt   \n",
       "param_clf__max_depth                                                          3   \n",
       "param_clf__criterion                                                       gini   \n",
       "param_clf                                              RandomForestClassifier()   \n",
       "params                        {'clf__n_estimators': 100, 'clf__min_samples_s...   \n",
       "split0_test_score                                                      0.686766   \n",
       "split1_test_score                                                      0.688405   \n",
       "split2_test_score                                                      0.686074   \n",
       "mean_test_score                                                        0.687082   \n",
       "std_test_score                                                         0.000977   \n",
       "rank_test_score                                                               6   \n",
       "\n",
       "                                                                              2  \\\n",
       "mean_fit_time                                                          82.49692   \n",
       "std_fit_time                                                           4.013361   \n",
       "mean_score_time                                                        0.349185   \n",
       "std_score_time                                                         0.051065   \n",
       "param_clf__n_estimators                                                     200   \n",
       "param_clf__min_samples_split                                           0.144444   \n",
       "param_clf__max_samples                                                      0.5   \n",
       "param_clf__max_features                                                    log2   \n",
       "param_clf__max_depth                                                          4   \n",
       "param_clf__criterion                                                       gini   \n",
       "param_clf                     XGBClassifier(base_score=None, booster=None, c...   \n",
       "params                        {'clf__n_estimators': 200, 'clf__min_samples_s...   \n",
       "split0_test_score                                                      0.927296   \n",
       "split1_test_score                                                      0.927475   \n",
       "split2_test_score                                                      0.927189   \n",
       "mean_test_score                                                         0.92732   \n",
       "std_test_score                                                         0.000118   \n",
       "rank_test_score                                                               3   \n",
       "\n",
       "                                                                              3  \\\n",
       "mean_fit_time                                                          1.641463   \n",
       "std_fit_time                                                           0.031832   \n",
       "mean_score_time                                                         0.33793   \n",
       "std_score_time                                                         0.014153   \n",
       "param_clf__n_estimators                                                     100   \n",
       "param_clf__min_samples_split                                           0.277778   \n",
       "param_clf__max_samples                                                     0.25   \n",
       "param_clf__max_features                                                    log2   \n",
       "param_clf__max_depth                                                         10   \n",
       "param_clf__criterion                                                       gini   \n",
       "param_clf                                              RandomForestClassifier()   \n",
       "params                        {'clf__n_estimators': 100, 'clf__min_samples_s...   \n",
       "split0_test_score                                                      0.686766   \n",
       "split1_test_score                                                      0.688405   \n",
       "split2_test_score                                                      0.686074   \n",
       "mean_test_score                                                        0.687082   \n",
       "std_test_score                                                         0.000977   \n",
       "rank_test_score                                                               6   \n",
       "\n",
       "                                                                              4  \\\n",
       "mean_fit_time                                                         94.655741   \n",
       "std_fit_time                                                           3.491074   \n",
       "mean_score_time                                                        0.359998   \n",
       "std_score_time                                                         0.002231   \n",
       "param_clf__n_estimators                                                     100   \n",
       "param_clf__min_samples_split                                           0.455556   \n",
       "param_clf__max_samples                                                     0.75   \n",
       "param_clf__max_features                                                    log2   \n",
       "param_clf__max_depth                                                          9   \n",
       "param_clf__criterion                                                       gini   \n",
       "param_clf                     XGBClassifier(base_score=None, booster=None, c...   \n",
       "params                        {'clf__n_estimators': 100, 'clf__min_samples_s...   \n",
       "split0_test_score                                                      0.926882   \n",
       "split1_test_score                                                      0.927486   \n",
       "split2_test_score                                                      0.926924   \n",
       "mean_test_score                                                        0.927097   \n",
       "std_test_score                                                         0.000275   \n",
       "rank_test_score                                                               4   \n",
       "\n",
       "                                                                              5  \\\n",
       "mean_fit_time                                                          1.492124   \n",
       "std_fit_time                                                           0.044084   \n",
       "mean_score_time                                                        0.325803   \n",
       "std_score_time                                                         0.005803   \n",
       "param_clf__n_estimators                                                     100   \n",
       "param_clf__min_samples_split                                           0.366667   \n",
       "param_clf__max_samples                                                        1   \n",
       "param_clf__max_features                                                    sqrt   \n",
       "param_clf__max_depth                                                          7   \n",
       "param_clf__criterion                                                    entropy   \n",
       "param_clf                                              RandomForestClassifier()   \n",
       "params                        {'clf__n_estimators': 100, 'clf__min_samples_s...   \n",
       "split0_test_score                                                      0.686766   \n",
       "split1_test_score                                                      0.688405   \n",
       "split2_test_score                                                      0.686074   \n",
       "mean_test_score                                                        0.687082   \n",
       "std_test_score                                                         0.000977   \n",
       "rank_test_score                                                               6   \n",
       "\n",
       "                                                                              6  \\\n",
       "mean_fit_time                                                           0.03205   \n",
       "std_fit_time                                                           0.000285   \n",
       "mean_score_time                                                             0.0   \n",
       "std_score_time                                                              0.0   \n",
       "param_clf__n_estimators                                                     100   \n",
       "param_clf__min_samples_split                                           0.233333   \n",
       "param_clf__max_samples                                                      NaN   \n",
       "param_clf__max_features                                                    sqrt   \n",
       "param_clf__max_depth                                                          3   \n",
       "param_clf__criterion                                                       gini   \n",
       "param_clf                                          GradientBoostingClassifier()   \n",
       "params                        {'clf__n_estimators': 100, 'clf__min_samples_s...   \n",
       "split0_test_score                                                           NaN   \n",
       "split1_test_score                                                           NaN   \n",
       "split2_test_score                                                           NaN   \n",
       "mean_test_score                                                             NaN   \n",
       "std_test_score                                                              NaN   \n",
       "rank_test_score                                                               9   \n",
       "\n",
       "                                                                              7  \\\n",
       "mean_fit_time                                                        145.993568   \n",
       "std_fit_time                                                           3.337271   \n",
       "mean_score_time                                                        0.486962   \n",
       "std_score_time                                                         0.044322   \n",
       "param_clf__n_estimators                                                     200   \n",
       "param_clf__min_samples_split                                           0.233333   \n",
       "param_clf__max_samples                                                     0.75   \n",
       "param_clf__max_features                                                    sqrt   \n",
       "param_clf__max_depth                                                          7   \n",
       "param_clf__criterion                                                    entropy   \n",
       "param_clf                     XGBClassifier(base_score=None, booster=None, c...   \n",
       "params                        {'clf__n_estimators': 200, 'clf__min_samples_s...   \n",
       "split0_test_score                                                      0.925866   \n",
       "split1_test_score                                                      0.927178   \n",
       "split2_test_score                                                      0.926288   \n",
       "mean_test_score                                                        0.926444   \n",
       "std_test_score                                                         0.000547   \n",
       "rank_test_score                                                               5   \n",
       "\n",
       "                                                                              8  \\\n",
       "mean_fit_time                                                          0.033552   \n",
       "std_fit_time                                                            0.00302   \n",
       "mean_score_time                                                             0.0   \n",
       "std_score_time                                                              0.0   \n",
       "param_clf__n_estimators                                                      50   \n",
       "param_clf__min_samples_split                                           0.322222   \n",
       "param_clf__max_samples                                                      NaN   \n",
       "param_clf__max_features                                                    auto   \n",
       "param_clf__max_depth                                                          5   \n",
       "param_clf__criterion                                                    entropy   \n",
       "param_clf                                          GradientBoostingClassifier()   \n",
       "params                        {'clf__n_estimators': 50, 'clf__min_samples_sp...   \n",
       "split0_test_score                                                           NaN   \n",
       "split1_test_score                                                           NaN   \n",
       "split2_test_score                                                           NaN   \n",
       "mean_test_score                                                             NaN   \n",
       "std_test_score                                                              NaN   \n",
       "rank_test_score                                                              10   \n",
       "\n",
       "                                                                              9  \n",
       "mean_fit_time                                                         36.004903  \n",
       "std_fit_time                                                           4.599574  \n",
       "mean_score_time                                                        0.223939  \n",
       "std_score_time                                                          0.04156  \n",
       "param_clf__n_estimators                                                      50  \n",
       "param_clf__min_samples_split                                           0.411111  \n",
       "param_clf__max_samples                                                      0.5  \n",
       "param_clf__max_features                                                    auto  \n",
       "param_clf__max_depth                                                          7  \n",
       "param_clf__criterion                                                    entropy  \n",
       "param_clf                     XGBClassifier(base_score=None, booster=None, c...  \n",
       "params                        {'clf__n_estimators': 50, 'clf__min_samples_sp...  \n",
       "split0_test_score                                                      0.927825  \n",
       "split1_test_score                                                      0.928492  \n",
       "split2_test_score                                                      0.927433  \n",
       "mean_test_score                                                        0.927917  \n",
       "std_test_score                                                         0.000437  \n",
       "rank_test_score                                                               1  "
      ]
     },
     "execution_count": 55,
     "metadata": {},
     "output_type": "execute_result"
    }
   ],
   "source": [
    "df_rs_res.head(10).T"
   ]
  },
  {
   "cell_type": "markdown",
   "id": "756c5b8d-d5c6-458a-bdb5-425b7f961dfe",
   "metadata": {},
   "source": [
    "Let's pickle the random search results."
   ]
  },
  {
   "cell_type": "code",
   "execution_count": 60,
   "id": "816b8fb0-751e-439f-a67c-955ffb0305c9",
   "metadata": {},
   "outputs": [],
   "source": [
    "str_ts = datetime.now().strftime(\"%Y%m%d_%H%M\")\n",
    "file_nm = 'classic_rs_1st_pass_' + str_ts\n",
    "file_path = './models/rs_results/' + file_nm + '.pickle'\n",
    "# pred_path = './predictions/test/' + file_nm + '.csv'\n",
    "\n",
    "display(file_path)\n",
    "\n",
    "\n",
    "with open(file_path, 'wb') as f:\n",
    "    # Pickle the 'data' dictionary using the highest protocol available.\n",
    "    pickle.dump(rs_results, f, pickle.HIGHEST_PROTOCOL)\n",
    "\n",
    "# Test loading pickle\n",
    "load_path = './models/rs_results/classic_rs_1st_pass_20220505_1544.pickle'\n",
    "\n",
    "with open(load_path, 'rb') as f:\n",
    "    # The protocol version used is detected automatically, so we do not\n",
    "    # have to specify it.\n",
    "    rs_rez_unpkl = pickle.load(f)    "
   ]
  },
  {
   "cell_type": "code",
   "execution_count": 61,
   "id": "12a0f625-5a83-449d-aa62-8d62f024c173",
   "metadata": {},
   "outputs": [
    {
     "data": {
      "text/plain": [
       "Pipeline(steps=[('clf',\n",
       "                 XGBClassifier(base_score=0.5, booster='gbtree',\n",
       "                               colsample_bylevel=1, colsample_bynode=1,\n",
       "                               colsample_bytree=1, criterion='entropy', gamma=0,\n",
       "                               gpu_id=-1, importance_type='gain',\n",
       "                               interaction_constraints='',\n",
       "                               learning_rate=0.300000012, max_delta_step=0,\n",
       "                               max_depth=7, max_features='auto',\n",
       "                               max_samples=0.5, min_child_weight=1,\n",
       "                               min_samples_split=0.4111111111111111,\n",
       "                               missing=nan, monotone_constraints='()',\n",
       "                               n_estimators=50, n_jobs=16, num_parallel_tree=1,\n",
       "                               random_state=0, reg_alpha=0, reg_lambda=1,\n",
       "                               scale_pos_weight=1, subsample=1,\n",
       "                               tree_method='exact', validate_parameters=1,\n",
       "                               verbosity=None))])"
      ]
     },
     "execution_count": 61,
     "metadata": {},
     "output_type": "execute_result"
    }
   ],
   "source": [
    "rs_results.best_estimator_"
   ]
  },
  {
   "cell_type": "code",
   "execution_count": 62,
   "id": "0d6902c1-e94e-4fff-b452-bc7218580866",
   "metadata": {},
   "outputs": [
    {
     "data": {
      "text/plain": [
       "Pipeline(steps=[('clf',\n",
       "                 XGBClassifier(base_score=0.5, booster='gbtree',\n",
       "                               colsample_bylevel=1, colsample_bynode=1,\n",
       "                               colsample_bytree=1, criterion='entropy', gamma=0,\n",
       "                               gpu_id=-1, importance_type='gain',\n",
       "                               interaction_constraints='',\n",
       "                               learning_rate=0.300000012, max_delta_step=0,\n",
       "                               max_depth=7, max_features='auto',\n",
       "                               max_samples=0.5, min_child_weight=1,\n",
       "                               min_samples_split=0.4111111111111111,\n",
       "                               missing=nan, monotone_constraints='()',\n",
       "                               n_estimators=50, n_jobs=16, num_parallel_tree=1,\n",
       "                               random_state=0, reg_alpha=0, reg_lambda=1,\n",
       "                               scale_pos_weight=1, subsample=1,\n",
       "                               tree_method='exact', validate_parameters=1,\n",
       "                               verbosity=None))])"
      ]
     },
     "execution_count": 62,
     "metadata": {},
     "output_type": "execute_result"
    }
   ],
   "source": [
    "rs_rez_unpkl.best_estimator_"
   ]
  },
  {
   "cell_type": "markdown",
   "id": "17fd99a1-9555-4955-8200-4f11da1efd73",
   "metadata": {},
   "source": [
    "Good enough. Testing equality won't work using simple '=='"
   ]
  },
  {
   "cell_type": "markdown",
   "id": "a5468dc5-8dec-42a1-bc37-9319e9c37abb",
   "metadata": {},
   "source": [
    "----\n",
    "### Here are results review from NN"
   ]
  },
  {
   "cell_type": "code",
   "execution_count": null,
   "id": "23d9e894-be03-4715-8a17-c82d402e0168",
   "metadata": {
    "tags": []
   },
   "outputs": [],
   "source": [
    "rs_results = rs.fit(X_train, y_train)"
   ]
  },
  {
   "cell_type": "markdown",
   "id": "e8584335-2930-431d-99f6-331dadfd78ca",
   "metadata": {},
   "source": [
    "Let's look at the best accuracy score, and the parameters that produced them."
   ]
  },
  {
   "cell_type": "code",
   "execution_count": null,
   "id": "56c3099d-76a6-4dd6-aa70-8d75e3146bcb",
   "metadata": {},
   "outputs": [],
   "source": [
    "display(rs_results.best_score_, rs_results.best_params_)"
   ]
  },
  {
   "cell_type": "markdown",
   "id": "52e0796f-d45d-40ff-a51d-b8946228714c",
   "metadata": {},
   "source": [
    "Let's look at it as an estimator object."
   ]
  },
  {
   "cell_type": "code",
   "execution_count": null,
   "id": "a9e9216c-e0f7-4240-b526-27c2d59cba77",
   "metadata": {
    "tags": []
   },
   "outputs": [],
   "source": [
    "rs_best = rs_results.best_estimator_\n",
    "display(rs_best)"
   ]
  },
  {
   "cell_type": "markdown",
   "id": "3b471d22-cb85-4a0d-9675-19c8add3058e",
   "metadata": {},
   "source": [
    "Let's look at a high level plot of the model, to make sure it makes sense vis a vis the best params."
   ]
  },
  {
   "cell_type": "code",
   "execution_count": null,
   "id": "48d554ad-fa2d-4b3b-8c86-31483119366e",
   "metadata": {},
   "outputs": [],
   "source": [
    "plot_model(rs_best.model_)"
   ]
  },
  {
   "cell_type": "markdown",
   "id": "a16eeb27-85d9-494d-b196-14a6646e8db5",
   "metadata": {},
   "source": [
    "Look at summary:"
   ]
  },
  {
   "cell_type": "code",
   "execution_count": null,
   "id": "ad2e863f-5e3a-45b1-b831-615dc9cfc50d",
   "metadata": {},
   "outputs": [],
   "source": [
    "rs_best.model_.summary()"
   ]
  },
  {
   "cell_type": "markdown",
   "id": "2d03e6e1-db8d-482b-8b7d-d895fa46da73",
   "metadata": {},
   "source": [
    "Now let's look at performance vs Test."
   ]
  },
  {
   "cell_type": "code",
   "execution_count": null,
   "id": "824a10c9-3c11-47dc-a8a5-2375a2c961ee",
   "metadata": {},
   "outputs": [],
   "source": [
    "display(f\"test accuracy: {rs_best.score(X_test, y_test)}\")\n",
    "display(f\"train accuracy: {rs_results.best_score_}\")"
   ]
  },
  {
   "cell_type": "markdown",
   "id": "03e66852-72db-426f-98d2-be1220b5b902",
   "metadata": {},
   "source": [
    "Consistent, and aligns."
   ]
  },
  {
   "cell_type": "markdown",
   "id": "ab2ea030-2591-4ca3-b829-ba3b0af68100",
   "metadata": {},
   "source": [
    "Let's get some predictions and review some high level classification metrics:"
   ]
  },
  {
   "cell_type": "code",
   "execution_count": null,
   "id": "fac1d3e6-fa28-4cd8-9fc8-2e17dcdebd7f",
   "metadata": {},
   "outputs": [],
   "source": [
    "rs_pred = rs_best.predict(X_test)"
   ]
  },
  {
   "cell_type": "markdown",
   "id": "341b590e-455f-4ebd-90b5-98aa6c97f9d9",
   "metadata": {},
   "source": [
    "*Confusion Matrix*"
   ]
  },
  {
   "cell_type": "code",
   "execution_count": null,
   "id": "195d2d59-ff3f-4679-82ea-2679ec000be6",
   "metadata": {},
   "outputs": [],
   "source": [
    "cm = confusion_matrix(y_test, rs_pred)\n",
    "display(cm)"
   ]
  },
  {
   "cell_type": "markdown",
   "id": "0292f14c-7b50-4080-ab0b-53e08a3beda4",
   "metadata": {},
   "source": [
    "*Accuracy*"
   ]
  },
  {
   "cell_type": "code",
   "execution_count": null,
   "id": "f21711f9-ec8b-4140-bcdc-ac6311466bdc",
   "metadata": {},
   "outputs": [],
   "source": [
    "display(\"What % of pitches did we correctly categorize?\")\n",
    "display(f\"test accuracy: {round(rs_best.score(X_test, y_test), 3)}\")"
   ]
  },
  {
   "cell_type": "markdown",
   "id": "5bb9aa10-00aa-4acc-a837-e6e961860d13",
   "metadata": {},
   "source": [
    "*Precision*"
   ]
  },
  {
   "cell_type": "code",
   "execution_count": null,
   "id": "f4f6fb94-fb75-4ce7-ae51-e346e355561d",
   "metadata": {},
   "outputs": [],
   "source": [
    "precision = precision_score(y_test, rs_pred)\n",
    "display(\"What % predicted strikes did we get correct?\")\n",
    "display(f\"Positive Predictive Value: {round(precision,3)}\")"
   ]
  },
  {
   "cell_type": "markdown",
   "id": "4cfc7e9a-f72e-499c-a35c-16958c2a701e",
   "metadata": {},
   "source": [
    "*Recall*"
   ]
  },
  {
   "cell_type": "code",
   "execution_count": null,
   "id": "b527f3fb-3f4e-4442-93cc-13bdd1c3335c",
   "metadata": {},
   "outputs": [],
   "source": [
    "recall = recall_score(y_test, rs_pred)\n",
    "display(\"What percent of actual strikes did we get capture?\")\n",
    "display(f\"True Positive Rate: {round(recall, 3)}\")"
   ]
  },
  {
   "cell_type": "markdown",
   "id": "383452e8-766f-4136-ad3a-ef60ebcba0da",
   "metadata": {},
   "source": [
    "*ROC/AUC*"
   ]
  },
  {
   "cell_type": "code",
   "execution_count": null,
   "id": "529ddd30-9775-4a2c-856c-52a743adad76",
   "metadata": {},
   "outputs": [],
   "source": [
    "plot_roc_curve(rs_best, X_train, y_train)\n",
    "plt.show()"
   ]
  },
  {
   "cell_type": "markdown",
   "id": "4a64b5a0-47b6-4cf6-82ba-c851faa44042",
   "metadata": {},
   "source": [
    "AUC of 0.98!"
   ]
  },
  {
   "cell_type": "markdown",
   "id": "22a9659b-782b-4963-879a-45fd696556f1",
   "metadata": {},
   "source": [
    "*Save the current state*"
   ]
  },
  {
   "cell_type": "markdown",
   "id": "2339e09b-805a-4b4b-9257-9af384850320",
   "metadata": {},
   "source": [
    "Let's save out the best model!"
   ]
  },
  {
   "cell_type": "code",
   "execution_count": null,
   "id": "879d5551-1c9f-4a57-8487-cacbc8dd1571",
   "metadata": {
    "tags": []
   },
   "outputs": [],
   "source": [
    "str_ts = datetime.now().strftime(\"%Y%m%d_%H%M\")\n",
    "model_nm = 'nn_1st_pass_' + str_ts\n",
    "model_path = './models/' + model_nm\n",
    "pred_path = './predictions/test/' + model_nm + '.csv'\n",
    "\n",
    "display(model_path, pred_path)\n",
    "\n",
    "# save out predicted probabilities\n",
    "pred_curr = rs_best.predict_proba(X_test)\n",
    "np.savetxt(pred_path, pred_curr, delimiter=\",\")\n",
    "\n",
    "# Save out Keras model\n",
    "rs_best.model_.save(model_path)"
   ]
  },
  {
   "cell_type": "markdown",
   "id": "0739cd97-0ee2-456e-b70e-508fe2d36df6",
   "metadata": {},
   "source": [
    "---  \n",
    "\n",
    "<span style=\"font-size:0.5em;\">Tag 4</span>\n",
    "\n",
    "<a id='the_end'></a>\n",
    "\n",
    "<span style=\"font-size:0.5em;\"><a href='#toc'>Back to TOC</a></span>"
   ]
  },
  {
   "cell_type": "markdown",
   "id": "e9fc1490-d3b2-4169-83eb-69fc494a3bc7",
   "metadata": {},
   "source": [
    "-----"
   ]
  },
  {
   "cell_type": "markdown",
   "id": "9bc924d1-f9d7-4490-bf3a-e7a456a905c0",
   "metadata": {},
   "source": [
    "### Archive"
   ]
  },
  {
   "cell_type": "markdown",
   "id": "d11686f4-4483-48b4-8f43-f61f344ac90e",
   "metadata": {},
   "source": [
    "Here is the model creation function I started building, before I stumbled across `scikeras` and decided to run with their code."
   ]
  },
  {
   "cell_type": "code",
   "execution_count": null,
   "id": "65a69b99-a6f9-4d0d-a061-c5d2c5ae6188",
   "metadata": {},
   "outputs": [],
   "source": [
    "def create_binary_nn_model(num_inputs, learning_rate=0.01, num_layers=1\n",
    "                           ,num_nodes=2, activation='relu'):\n",
    "    \"\"\"Create binary neural network Sequential model\"\"\"\n",
    "    # Create Adam optimizer\n",
    "    opt = Adam(lr=learning_rate)\n",
    "    \n",
    "    # Create Sequential model\n",
    "    model=Sequential()\n",
    "    \n",
    "    # Input layer\n",
    "    model.add(Dense(num_nodes, input_shape=(num_inputs,) \n",
    "              ,activation=activation, name='Input'))\n",
    "    \n",
    "    # Additional Hidden Layers\n",
    "    for i in range(num_layers-1): #if only 1 then assume just input/hidden\n",
    "        model.add(Dense(num_nodes, activation=activation))\n",
    "    \n",
    "    # Add a 1-neuron output layer\n",
    "    model.add(Dense(num_outputs, activation='sigmoid', name='Output'))\n",
    "\n",
    "    # Compile your model\n",
    "    model.compile(loss='binary_crossentropy', optimizer=opt\n",
    "                  ,metrics=['accuracy']\n",
    "                 )\n",
    "\n",
    "    return model"
   ]
  },
  {
   "cell_type": "markdown",
   "id": "4450b0de-5dae-497c-a3ca-9ef6f5a0885d",
   "metadata": {},
   "source": [
    "Let's do a test on the function:"
   ]
  },
  {
   "cell_type": "code",
   "execution_count": null,
   "id": "695c0724-9e4f-4169-b524-4f4547b2e530",
   "metadata": {},
   "outputs": [],
   "source": [
    "mod_1 = create_binary_nn_model(num_inputs=X_train.shape[1]\n",
    "                               ,learning_rate=1\n",
    "                               ,num_layers=1\n",
    "                              )"
   ]
  },
  {
   "cell_type": "code",
   "execution_count": null,
   "id": "cc8abd84-2359-45b3-9d87-a1be0a580dd3",
   "metadata": {},
   "outputs": [],
   "source": [
    "hh = mod_1.fit(X_train, y_train, epochs = n_epochs\n",
    "                        ,validation_split=val_split)"
   ]
  },
  {
   "cell_type": "code",
   "execution_count": null,
   "id": "11414d04-8717-47ee-a13e-e8ba3a858ff1",
   "metadata": {},
   "outputs": [],
   "source": [
    "plot_model(mod_1)"
   ]
  },
  {
   "cell_type": "markdown",
   "id": "b4b5e605-b12a-413a-80be-0a2fcd1c1ed9",
   "metadata": {},
   "source": [
    "Seems correct. I think that I plugged in a learning rate of 1 caused the epochs to be basically the same, basically skipping over minimums."
   ]
  }
 ],
 "metadata": {
  "kernelspec": {
   "display_name": "Python 3 (ipykernel)",
   "language": "python",
   "name": "python3"
  },
  "language_info": {
   "codemirror_mode": {
    "name": "ipython",
    "version": 3
   },
   "file_extension": ".py",
   "mimetype": "text/x-python",
   "name": "python",
   "nbconvert_exporter": "python",
   "pygments_lexer": "ipython3",
   "version": "3.8.10"
  },
  "widgets": {
   "application/vnd.jupyter.widget-state+json": {
    "state": {},
    "version_major": 2,
    "version_minor": 0
   }
  }
 },
 "nbformat": 4,
 "nbformat_minor": 5
}
