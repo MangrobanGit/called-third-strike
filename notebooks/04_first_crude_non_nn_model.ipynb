{
 "cells": [
  {
   "cell_type": "markdown",
   "id": "1d9a73fe-22ef-46f3-af36-3ed41d28fa72",
   "metadata": {},
   "source": [
    "# Called Third Strike\n",
    "## Part 4. First crude non-neural network model\n",
    "\n",
    "![](./resources/baseball_umpire_home_plate_1.jpg)\n",
    "\n",
    "This project's goal is to build probability models for as to whether a pitch will be called a strike or not. The intended models are to be:\n",
    "1. A neural network (NN) based approach.\n",
    "2. A non-NN based approach.\n",
    "\n",
    "---\n",
    "\n",
    "__**This Notebook's**__ objective is to quickly build a simple working ML classication model to give a baseline to compare against as we iterate versions. \n",
    "\n",
    "---\n",
    "---"
   ]
  },
  {
   "cell_type": "markdown",
   "id": "7c603889-4d23-4c1d-8e4d-8d45d1a72da4",
   "metadata": {},
   "source": [
    "### Table of Contents<a id='toc'></a>\n",
    "\n",
    "<a href='#data_prep'>1. Data Preprocessing</a>\n",
    "\n",
    "~<a href='#build_model'>2. Build Model</a>~ Straight to Random Search!\n",
    "\n",
    "<a href='#random_search'>3. Random Hyperparameter Search</a>\n",
    "\n",
    "<a href='#summary'>4. Summary</a>\n",
    "\n",
    "...\n",
    "\n",
    "<a href='#the_end'>Go to the End</a>\n",
    "\n",
    "---"
   ]
  },
  {
   "cell_type": "markdown",
   "id": "4fcfd9aa-eac1-4789-af6d-cf5700a82979",
   "metadata": {},
   "source": [
    "---  \n",
    "\n",
    "<span style=\"font-size:0.5em;\">Tag 1</span>\n",
    "\n",
    "### Data Preprocessing<a id='data_prep'></a>\n",
    "\n",
    "<span style=\"font-size:0.5em;\"><a href='#toc'>Back to TOC</a></span>\n"
   ]
  },
  {
   "cell_type": "markdown",
   "id": "053be28f-4156-45c6-8a93-99c50dd76e39",
   "metadata": {},
   "source": [
    "#### Libraries\n"
   ]
  },
  {
   "cell_type": "markdown",
   "id": "987afa32-26cc-421f-bfdd-dd2cd8a29e62",
   "metadata": {},
   "source": [
    "---\n",
    "\n",
    "#### Data Import \n",
    "\n",
    "Retrieve the latest version of our train/test files that we built during [initial exploration](02_data_exploration.ipynb)."
   ]
  },
  {
   "cell_type": "code",
   "execution_count": 2,
   "id": "f37213b0",
   "metadata": {},
   "outputs": [],
   "source": [
    "# Data wrangling and operations\n",
    "import pandas as pd\n",
    "import numpy as np\n",
    "from datetime import datetime\n",
    "import pickle\n",
    "\n",
    "# Visualization\n",
    "import matplotlib.pyplot as plt\n",
    "import seaborn as sns\n",
    "\n",
    "# try:\n",
    "#     import plotly_express as pex\n",
    "# except ImportError:\n",
    "#     !pip install plotly_express\n",
    "# except ModuleNotFoundError:\n",
    "#     !pip install plotly_express\n",
    "\n",
    "# Estimators\n",
    "from sklearn.linear_model import LinearRegression\n",
    "from sklearn.linear_model import LogisticRegression\n",
    "import xgboost as xgb\n",
    "from xgboost import XGBClassifier\n",
    "from sklearn.tree import DecisionTreeClassifier\n",
    "from sklearn.ensemble import BaggingClassifier, RandomForestClassifier\n",
    "from sklearn.ensemble import GradientBoostingClassifier\n",
    "from sklearn.base import BaseEstimator\n",
    "\n",
    "# Processing\n",
    "from sklearn.preprocessing import OneHotEncoder\n",
    "from sklearn.preprocessing import LabelBinarizer\n",
    "from sklearn.preprocessing import StandardScaler\n",
    "from sklearn.compose import ColumnTransformer\n",
    "from sklearn.model_selection import GridSearchCV\n",
    "from sklearn.model_selection import RandomizedSearchCV\n",
    "\n",
    "# Assessment\n",
    "from sklearn.pipeline import Pipeline\n",
    "from sklearn.model_selection import train_test_split\n",
    "from sklearn.model_selection import cross_val_score\n",
    "from sklearn.metrics import accuracy_score\n",
    "from sklearn.metrics import mean_squared_error, mean_absolute_error\n",
    "from sklearn.metrics import f1_score\n",
    "from sklearn.metrics import confusion_matrix\n",
    "from sklearn.metrics import recall_score, precision_score, auc\n",
    "from sklearn.metrics import roc_curve, RocCurveDisplay"
   ]
  },
  {
   "cell_type": "code",
   "execution_count": 3,
   "id": "db6f0590-4c27-4af2-a4f0-398e7ec64eba",
   "metadata": {},
   "outputs": [],
   "source": [
    "df_train = pd.read_pickle('../data/train_enriched.pkl')\n",
    "df_test = pd.read_pickle('../data/test_enriched.pkl')"
   ]
  },
  {
   "cell_type": "markdown",
   "id": "fd0ae49b-1077-458e-9aff-6444a34941e0",
   "metadata": {},
   "source": [
    "Let's refamiliarize ourselves with the features."
   ]
  },
  {
   "cell_type": "code",
   "execution_count": 4,
   "id": "57bf1725-f4f9-4cd6-b2ea-57f7afd3f291",
   "metadata": {},
   "outputs": [
    {
     "name": "stdout",
     "output_type": "stream",
     "text": [
      "<class 'pandas.core.frame.DataFrame'>\n",
      "Int64Index: 350959 entries, 0 to 354038\n",
      "Data columns (total 31 columns):\n",
      " #   Column                Non-Null Count   Dtype         \n",
      "---  ------                --------------   -----         \n",
      " 0   pitch_id              350959 non-null  object        \n",
      " 1   inning                350959 non-null  int64         \n",
      " 2   side                  350959 non-null  object        \n",
      " 3   run_diff              350959 non-null  int64         \n",
      " 4   at_bat_index          350959 non-null  int64         \n",
      " 5   pitch_of_ab           350959 non-null  int64         \n",
      " 6   batter                350959 non-null  int64         \n",
      " 7   pitcher               350959 non-null  int64         \n",
      " 8   catcher               350959 non-null  int64         \n",
      " 9   umpire                350959 non-null  int64         \n",
      " 10  bside                 350959 non-null  object        \n",
      " 11  pside                 350959 non-null  object        \n",
      " 12  stringer_zone_bottom  350959 non-null  float64       \n",
      " 13  stringer_zone_top     350959 non-null  float64       \n",
      " 14  on_1b_mlbid           106013 non-null  float64       \n",
      " 15  on_2b_mlbid           64287 non-null   float64       \n",
      " 16  on_3b_mlbid           31158 non-null   float64       \n",
      " 17  outs                  350959 non-null  int64         \n",
      " 18  balls                 350959 non-null  int64         \n",
      " 19  strikes               350959 non-null  int64         \n",
      " 20  pitch_speed           350959 non-null  float64       \n",
      " 21  px                    350959 non-null  float64       \n",
      " 22  pz                    350959 non-null  float64       \n",
      " 23  break_x               350959 non-null  float64       \n",
      " 24  break_z               350959 non-null  float64       \n",
      " 25  angle_x               350959 non-null  float64       \n",
      " 26  angle_z               350959 non-null  float64       \n",
      " 27  pitch_type            350959 non-null  object        \n",
      " 28  strike_bool           350959 non-null  int64         \n",
      " 29  game_date_dt          350959 non-null  datetime64[ns]\n",
      " 30  strike_bool_tf        350959 non-null  bool          \n",
      "dtypes: bool(1), datetime64[ns](1), float64(12), int64(12), object(5)\n",
      "memory usage: 83.3+ MB\n"
     ]
    }
   ],
   "source": [
    "df_train.info()"
   ]
  },
  {
   "cell_type": "markdown",
   "id": "f08da1ab-1889-48b3-bf3a-e83f1f76e153",
   "metadata": {},
   "source": [
    "---\n",
    "\n",
    "#### Feature Selection and Prep\n",
    "\n",
    "Select features:"
   ]
  },
  {
   "cell_type": "markdown",
   "id": "facec025-15e9-4d40-b4c5-d2a2d63088aa",
   "metadata": {},
   "source": [
    "For our initial super simple model, let's just pick four features: \n",
    "- `px` which is the horizontal location of the pitch at the plate\n",
    "- `pz` which is the vertical location\n",
    "- `stringer_zone_bottom` which is an estimate of current batter's strike zone bottom\n",
    "- `stringer_zone_top` which is an estimate of current batter's strike zone top"
   ]
  },
  {
   "cell_type": "code",
   "execution_count": 5,
   "id": "da4fd6e9-70fd-4bee-b321-40327d0787d5",
   "metadata": {},
   "outputs": [],
   "source": [
    "# Features selected\n",
    "feat_select = ['px', 'pz', 'stringer_zone_bottom', 'stringer_zone_top']"
   ]
  },
  {
   "cell_type": "markdown",
   "id": "66ef8983-f0bb-4951-a82f-9ae20d219ef8",
   "metadata": {},
   "source": [
    "Prep features:"
   ]
  },
  {
   "cell_type": "code",
   "execution_count": 6,
   "id": "a870a134-c23f-476d-8d1f-fb10344aa06d",
   "metadata": {},
   "outputs": [
    {
     "name": "stdout",
     "output_type": "stream",
     "text": [
      "<class 'pandas.core.frame.DataFrame'>\n",
      "Int64Index: 350959 entries, 0 to 354038\n",
      "Data columns (total 4 columns):\n",
      " #   Column                Non-Null Count   Dtype  \n",
      "---  ------                --------------   -----  \n",
      " 0   px                    350959 non-null  float64\n",
      " 1   pz                    350959 non-null  float64\n",
      " 2   stringer_zone_bottom  350959 non-null  float64\n",
      " 3   stringer_zone_top     350959 non-null  float64\n",
      "dtypes: float64(4)\n",
      "memory usage: 13.4 MB\n"
     ]
    },
    {
     "data": {
      "text/plain": [
       "None"
      ]
     },
     "metadata": {},
     "output_type": "display_data"
    }
   ],
   "source": [
    "# Get just the selected features\n",
    "df_X = df_train[feat_select]\n",
    "display(df_X.info())"
   ]
  },
  {
   "cell_type": "markdown",
   "id": "f43c5958-97aa-4029-9b66-ad53b6af2685",
   "metadata": {},
   "source": [
    "While we are at it, let's prep our targets:"
   ]
  },
  {
   "cell_type": "code",
   "execution_count": 7,
   "id": "b27c2cf9-f12a-4324-898a-55e08e6b5e64",
   "metadata": {},
   "outputs": [
    {
     "name": "stdout",
     "output_type": "stream",
     "text": [
      "<class 'pandas.core.frame.DataFrame'>\n",
      "Int64Index: 350959 entries, 0 to 354038\n",
      "Data columns (total 1 columns):\n",
      " #   Column       Non-Null Count   Dtype\n",
      "---  ------       --------------   -----\n",
      " 0   strike_bool  350959 non-null  int64\n",
      "dtypes: int64(1)\n",
      "memory usage: 5.4 MB\n"
     ]
    },
    {
     "data": {
      "text/plain": [
       "None"
      ]
     },
     "metadata": {},
     "output_type": "display_data"
    }
   ],
   "source": [
    "df_y = df_train['strike_bool']\n",
    "display(pd.DataFrame(df_y).info())"
   ]
  },
  {
   "cell_type": "markdown",
   "id": "c990a31b-d553-4227-9fdd-b946e3b9bd39",
   "metadata": {},
   "source": [
    "---\n",
    "\n",
    "#### Feature Engineering\n",
    "\n",
    "Select features:"
   ]
  },
  {
   "cell_type": "markdown",
   "id": "6ddb78e3-d580-4bef-bfa4-d8abfb1c82e8",
   "metadata": {},
   "source": [
    "For a neural network we will need to numerically represent our data (e.g. one-hot-encode any categorical features), as well as scale/normalize the data. \n",
    "\n",
    "All the selected features for this round are numerical, so we don't have to worry about encoding any categories. For scaling I'm choosing to *standardize*."
   ]
  },
  {
   "cell_type": "code",
   "execution_count": 8,
   "id": "e0e89560-8f67-42d3-b8ac-ad180c37d2a1",
   "metadata": {},
   "outputs": [],
   "source": [
    "scaler = StandardScaler()\n",
    "X_scaled = scaler.fit_transform(df_X)"
   ]
  },
  {
   "cell_type": "markdown",
   "id": "4963c4a1-afb4-46c0-9f5d-454f548aeed9",
   "metadata": {},
   "source": [
    "---\n",
    "\n",
    "#### Train / Test\n",
    "\n",
    "\n",
    "Create train/test splits.\n",
    "\n",
    "Breakout parameters for easy access."
   ]
  },
  {
   "cell_type": "code",
   "execution_count": 9,
   "id": "d876b0d8-23b2-4104-bf0b-95dfe8bf6c3c",
   "metadata": {},
   "outputs": [],
   "source": [
    "# Parameters\n",
    "test_size = 0.20\n",
    "random_state = 24"
   ]
  },
  {
   "cell_type": "code",
   "execution_count": 10,
   "id": "37efe2d2-1e8c-405f-9fed-b99c75d527a2",
   "metadata": {},
   "outputs": [],
   "source": [
    "X_train, X_test, y_train, y_test = train_test_split(X_scaled, df_y, test_size=test_size\n",
    "                                                    ,stratify=df_y, random_state=random_state)"
   ]
  },
  {
   "cell_type": "markdown",
   "id": "827d5ee7-b2c8-417b-9c62-3fa63e66ff10",
   "metadata": {},
   "source": [
    "---  \n",
    "\n",
    "<span style=\"font-size:0.5em;\">Tag 2</span>\n",
    "\n",
    "### Build Model / Hyperparameter Search<a id='random_search'></a>\n",
    "\n",
    "<span style=\"font-size:0.5em;\"><a href='#toc'>Back to TOC</a></span>\n",
    "\n",
    "---  "
   ]
  },
  {
   "cell_type": "markdown",
   "id": "daa063d4-34c1-4287-b991-cfa218da9580",
   "metadata": {},
   "source": [
    "For expediency we are going to use a pipeline and random hyperparameter search to scour through different classifiers and hyperparameter sets to come up with a good candidate."
   ]
  },
  {
   "cell_type": "markdown",
   "id": "ffc5cc6a-a95b-4a61-b774-fe0ec70a1453",
   "metadata": {},
   "source": [
    "We'll create a `DummyEstimator` class to act as a placeholder to which we can pass the different classifiers."
   ]
  },
  {
   "cell_type": "code",
   "execution_count": 11,
   "id": "538b6d34-4c51-4008-b4bd-16c5ac0479a9",
   "metadata": {},
   "outputs": [],
   "source": [
    "class DummyEstimator(BaseEstimator):\n",
    "    def fit(self): pass\n",
    "    def score(self): pass"
   ]
  },
  {
   "cell_type": "markdown",
   "id": "652c91ea-a454-46b3-8a13-6161ebf55a22",
   "metadata": {},
   "source": [
    "Create the pipeline of dictionaries of classifiers and their respective grids of potential hyperparameters."
   ]
  },
  {
   "cell_type": "code",
   "execution_count": 12,
   "id": "95072a54-a4ad-459e-ad51-b92f915a1aa0",
   "metadata": {},
   "outputs": [],
   "source": [
    "# Create a pipeline\n",
    "pipe = Pipeline([('clf', DummyEstimator())]) # Placeholder Estimator\n",
    "\n",
    "# Candidate learning algorithms and their hyperparameters\n",
    "# For selected hyperparameters aimed to select a reasonable range for each.\n",
    "search_space = [{'clf': [LogisticRegression()], # Actual Estimator\n",
    "                 'clf__penalty': ['l1', 'l2', 'elasticnet'],\n",
    "                 'clf__C': np.logspace(-4, 4, 20)\n",
    "                },\n",
    "                {'clf': [DecisionTreeClassifier()],  # Actual Estimator\n",
    "                 'clf__criterion': ['gini', 'entropy'],\n",
    "                 'clf__max_depth': np.arange(3,11,1),\n",
    "                 'clf__min_samples_split': np.linspace(0.1, 0.5, 10, endpoint=False),\n",
    "                 'clf__max_features': [0.25, 0.5, 0.75, 1]\n",
    "                },\n",
    "                {'clf': [RandomForestClassifier()],  # Actual Estimator\n",
    "                 'clf__n_estimators': [50, 100, 200],\n",
    "                 'clf__criterion': ['gini', 'entropy'],                 \n",
    "                 'clf__max_depth': np.arange(3,11,1),\n",
    "                 'clf__min_samples_split': np.linspace(0.1, 0.5, 10, endpoint=False),\n",
    "                 'clf__max_features': [\"auto\", \"sqrt\", \"log2\"],\n",
    "                 'clf__max_samples': [0.25, 0.5, 0.75, 1]\n",
    "                },\n",
    "                {'clf': [GradientBoostingClassifier()],  # Actual Estimator\n",
    "                 'clf__n_estimators': [50, 100, 200],\n",
    "                 'clf__criterion': ['gini', 'entropy'],                 \n",
    "                 'clf__max_depth': np.arange(3,11,1),\n",
    "                 'clf__min_samples_split': np.linspace(0.1, 0.5, 10, endpoint=False),\n",
    "                 'clf__max_features': [\"auto\", \"sqrt\", \"log2\"],\n",
    "                },\n",
    "                {'clf': [XGBClassifier()],  # Actual Estimator\n",
    "                 'clf__n_estimators': [50, 100, 200],\n",
    "                 'clf__criterion': ['gini', 'entropy'],                 \n",
    "                 'clf__max_depth': np.arange(3,11,1),\n",
    "                 'clf__min_samples_split': np.linspace(0.1, 0.5, 10, endpoint=False),\n",
    "                 'clf__max_features': [\"auto\", \"sqrt\", \"log2\"],\n",
    "                 'clf__max_samples': [0.25, 0.5, 0.75, 1]\n",
    "                }\n",
    "               ]\n",
    "\n",
    "# GradientBoostingClassifier(\n",
    "# RandomForestClassifier(\n",
    "    \n",
    "# Create grid search \n",
    "# gs = GridSearchCV(pipe, search_space, random_state=random_state)\n",
    "rs = RandomizedSearchCV(pipe, search_space, random_state=random_state\n",
    "                        ,n_iter=10 # To limit search time \n",
    "                        ,cv=3      # I like 5 as rule of thumb, but again to limit search time\n",
    "                        ,verbose=True, refit=True, scoring='accuracy')"
   ]
  },
  {
   "cell_type": "markdown",
   "id": "f89c3c4a-be0c-48dc-a83c-73963a480d53",
   "metadata": {},
   "source": [
    "Fit the random search cv object."
   ]
  },
  {
   "cell_type": "code",
   "execution_count": 13,
   "id": "7546ee03-29c0-45e4-9b70-66a95dd9b217",
   "metadata": {},
   "outputs": [
    {
     "name": "stdout",
     "output_type": "stream",
     "text": [
      "Fitting 3 folds for each of 10 candidates, totalling 30 fits\n",
      "[04:17:11] WARNING: ../src/learner.cc:541: \n",
      "Parameters: { criterion, max_features, max_samples, min_samples_split } might not be used.\n",
      "\n",
      "  This may not be accurate due to some parameters are only used in language bindings but\n",
      "  passed down to XGBoost core.  Or some parameters are not used but slip through this\n",
      "  verification. Please open an issue if you find above cases.\n",
      "\n",
      "\n",
      "[04:17:12] WARNING: ../src/learner.cc:1061: Starting in XGBoost 1.3.0, the default evaluation metric used with the objective 'binary:logistic' was changed from 'error' to 'logloss'. Explicitly set eval_metric if you'd like to restore the old behavior.\n",
      "[04:17:59] WARNING: ../src/learner.cc:541: \n",
      "Parameters: { criterion, max_features, max_samples, min_samples_split } might not be used.\n",
      "\n",
      "  This may not be accurate due to some parameters are only used in language bindings but\n",
      "  passed down to XGBoost core.  Or some parameters are not used but slip through this\n",
      "  verification. Please open an issue if you find above cases.\n",
      "\n",
      "\n",
      "[04:18:00] WARNING: ../src/learner.cc:1061: Starting in XGBoost 1.3.0, the default evaluation metric used with the objective 'binary:logistic' was changed from 'error' to 'logloss'. Explicitly set eval_metric if you'd like to restore the old behavior.\n",
      "[04:18:47] WARNING: ../src/learner.cc:541: \n",
      "Parameters: { criterion, max_features, max_samples, min_samples_split } might not be used.\n",
      "\n",
      "  This may not be accurate due to some parameters are only used in language bindings but\n",
      "  passed down to XGBoost core.  Or some parameters are not used but slip through this\n",
      "  verification. Please open an issue if you find above cases.\n",
      "\n",
      "\n",
      "[04:18:48] WARNING: ../src/learner.cc:1061: Starting in XGBoost 1.3.0, the default evaluation metric used with the objective 'binary:logistic' was changed from 'error' to 'logloss'. Explicitly set eval_metric if you'd like to restore the old behavior.\n",
      "[04:19:53] WARNING: ../src/learner.cc:541: \n",
      "Parameters: { criterion, max_features, max_samples, min_samples_split } might not be used.\n",
      "\n",
      "  This may not be accurate due to some parameters are only used in language bindings but\n",
      "  passed down to XGBoost core.  Or some parameters are not used but slip through this\n",
      "  verification. Please open an issue if you find above cases.\n",
      "\n",
      "\n",
      "[04:19:53] WARNING: ../src/learner.cc:1061: Starting in XGBoost 1.3.0, the default evaluation metric used with the objective 'binary:logistic' was changed from 'error' to 'logloss'. Explicitly set eval_metric if you'd like to restore the old behavior.\n",
      "[04:21:32] WARNING: ../src/learner.cc:541: \n",
      "Parameters: { criterion, max_features, max_samples, min_samples_split } might not be used.\n",
      "\n",
      "  This may not be accurate due to some parameters are only used in language bindings but\n",
      "  passed down to XGBoost core.  Or some parameters are not used but slip through this\n",
      "  verification. Please open an issue if you find above cases.\n",
      "\n",
      "\n",
      "[04:21:32] WARNING: ../src/learner.cc:1061: Starting in XGBoost 1.3.0, the default evaluation metric used with the objective 'binary:logistic' was changed from 'error' to 'logloss'. Explicitly set eval_metric if you'd like to restore the old behavior.\n",
      "[04:23:10] WARNING: ../src/learner.cc:541: \n",
      "Parameters: { criterion, max_features, max_samples, min_samples_split } might not be used.\n",
      "\n",
      "  This may not be accurate due to some parameters are only used in language bindings but\n",
      "  passed down to XGBoost core.  Or some parameters are not used but slip through this\n",
      "  verification. Please open an issue if you find above cases.\n",
      "\n",
      "\n",
      "[04:23:12] WARNING: ../src/learner.cc:1061: Starting in XGBoost 1.3.0, the default evaluation metric used with the objective 'binary:logistic' was changed from 'error' to 'logloss'. Explicitly set eval_metric if you'd like to restore the old behavior.\n",
      "[04:24:51] WARNING: ../src/learner.cc:541: \n",
      "Parameters: { criterion, max_features, max_samples, min_samples_split } might not be used.\n",
      "\n",
      "  This may not be accurate due to some parameters are only used in language bindings but\n",
      "  passed down to XGBoost core.  Or some parameters are not used but slip through this\n",
      "  verification. Please open an issue if you find above cases.\n",
      "\n",
      "\n",
      "[04:24:52] WARNING: ../src/learner.cc:1061: Starting in XGBoost 1.3.0, the default evaluation metric used with the objective 'binary:logistic' was changed from 'error' to 'logloss'. Explicitly set eval_metric if you'd like to restore the old behavior.\n",
      "[04:26:38] WARNING: ../src/learner.cc:541: \n",
      "Parameters: { criterion, max_features, max_samples, min_samples_split } might not be used.\n",
      "\n",
      "  This may not be accurate due to some parameters are only used in language bindings but\n",
      "  passed down to XGBoost core.  Or some parameters are not used but slip through this\n",
      "  verification. Please open an issue if you find above cases.\n",
      "\n",
      "\n",
      "[04:26:39] WARNING: ../src/learner.cc:1061: Starting in XGBoost 1.3.0, the default evaluation metric used with the objective 'binary:logistic' was changed from 'error' to 'logloss'. Explicitly set eval_metric if you'd like to restore the old behavior.\n",
      "[04:28:24] WARNING: ../src/learner.cc:541: \n",
      "Parameters: { criterion, max_features, max_samples, min_samples_split } might not be used.\n",
      "\n",
      "  This may not be accurate due to some parameters are only used in language bindings but\n",
      "  passed down to XGBoost core.  Or some parameters are not used but slip through this\n",
      "  verification. Please open an issue if you find above cases.\n",
      "\n",
      "\n",
      "[04:28:25] WARNING: ../src/learner.cc:1061: Starting in XGBoost 1.3.0, the default evaluation metric used with the objective 'binary:logistic' was changed from 'error' to 'logloss'. Explicitly set eval_metric if you'd like to restore the old behavior.\n",
      "[04:30:19] WARNING: ../src/learner.cc:541: \n",
      "Parameters: { criterion, max_features, max_samples, min_samples_split } might not be used.\n",
      "\n",
      "  This may not be accurate due to some parameters are only used in language bindings but\n",
      "  passed down to XGBoost core.  Or some parameters are not used but slip through this\n",
      "  verification. Please open an issue if you find above cases.\n",
      "\n",
      "\n",
      "[04:30:20] WARNING: ../src/learner.cc:1061: Starting in XGBoost 1.3.0, the default evaluation metric used with the objective 'binary:logistic' was changed from 'error' to 'logloss'. Explicitly set eval_metric if you'd like to restore the old behavior.\n",
      "[04:33:04] WARNING: ../src/learner.cc:541: \n",
      "Parameters: { criterion, max_features, max_samples, min_samples_split } might not be used.\n",
      "\n",
      "  This may not be accurate due to some parameters are only used in language bindings but\n",
      "  passed down to XGBoost core.  Or some parameters are not used but slip through this\n",
      "  verification. Please open an issue if you find above cases.\n",
      "\n",
      "\n",
      "[04:33:06] WARNING: ../src/learner.cc:1061: Starting in XGBoost 1.3.0, the default evaluation metric used with the objective 'binary:logistic' was changed from 'error' to 'logloss'. Explicitly set eval_metric if you'd like to restore the old behavior.\n",
      "[04:35:54] WARNING: ../src/learner.cc:541: \n",
      "Parameters: { criterion, max_features, max_samples, min_samples_split } might not be used.\n",
      "\n",
      "  This may not be accurate due to some parameters are only used in language bindings but\n",
      "  passed down to XGBoost core.  Or some parameters are not used but slip through this\n",
      "  verification. Please open an issue if you find above cases.\n",
      "\n",
      "\n",
      "[04:35:55] WARNING: ../src/learner.cc:1061: Starting in XGBoost 1.3.0, the default evaluation metric used with the objective 'binary:logistic' was changed from 'error' to 'logloss'. Explicitly set eval_metric if you'd like to restore the old behavior.\n",
      "[04:38:39] WARNING: ../src/learner.cc:541: \n",
      "Parameters: { criterion, max_features, max_samples, min_samples_split } might not be used.\n",
      "\n",
      "  This may not be accurate due to some parameters are only used in language bindings but\n",
      "  passed down to XGBoost core.  Or some parameters are not used but slip through this\n",
      "  verification. Please open an issue if you find above cases.\n",
      "\n",
      "\n",
      "[04:38:40] WARNING: ../src/learner.cc:1061: Starting in XGBoost 1.3.0, the default evaluation metric used with the objective 'binary:logistic' was changed from 'error' to 'logloss'. Explicitly set eval_metric if you'd like to restore the old behavior.\n",
      "[04:39:21] WARNING: ../src/learner.cc:541: \n",
      "Parameters: { criterion, max_features, max_samples, min_samples_split } might not be used.\n",
      "\n",
      "  This may not be accurate due to some parameters are only used in language bindings but\n",
      "  passed down to XGBoost core.  Or some parameters are not used but slip through this\n",
      "  verification. Please open an issue if you find above cases.\n",
      "\n",
      "\n",
      "[04:39:22] WARNING: ../src/learner.cc:1061: Starting in XGBoost 1.3.0, the default evaluation metric used with the objective 'binary:logistic' was changed from 'error' to 'logloss'. Explicitly set eval_metric if you'd like to restore the old behavior.\n",
      "[04:40:04] WARNING: ../src/learner.cc:541: \n",
      "Parameters: { criterion, max_features, max_samples, min_samples_split } might not be used.\n",
      "\n",
      "  This may not be accurate due to some parameters are only used in language bindings but\n",
      "  passed down to XGBoost core.  Or some parameters are not used but slip through this\n",
      "  verification. Please open an issue if you find above cases.\n",
      "\n",
      "\n",
      "[04:40:06] WARNING: ../src/learner.cc:1061: Starting in XGBoost 1.3.0, the default evaluation metric used with the objective 'binary:logistic' was changed from 'error' to 'logloss'. Explicitly set eval_metric if you'd like to restore the old behavior.\n",
      "[04:40:49] WARNING: ../src/learner.cc:541: \n",
      "Parameters: { criterion, max_features, max_samples, min_samples_split } might not be used.\n",
      "\n",
      "  This may not be accurate due to some parameters are only used in language bindings but\n",
      "  passed down to XGBoost core.  Or some parameters are not used but slip through this\n",
      "  verification. Please open an issue if you find above cases.\n",
      "\n",
      "\n",
      "[04:40:51] WARNING: ../src/learner.cc:1061: Starting in XGBoost 1.3.0, the default evaluation metric used with the objective 'binary:logistic' was changed from 'error' to 'logloss'. Explicitly set eval_metric if you'd like to restore the old behavior.\n"
     ]
    }
   ],
   "source": [
    "rs_results = rs.fit(X_train, y_train)"
   ]
  },
  {
   "cell_type": "markdown",
   "id": "ba23a504-829e-4f2f-b1cc-baf311d80646",
   "metadata": {},
   "source": [
    "Check the results."
   ]
  },
  {
   "cell_type": "code",
   "execution_count": 14,
   "id": "a349a80f-cc47-4ae6-9392-155b2d72b5ff",
   "metadata": {},
   "outputs": [
    {
     "data": {
      "text/plain": [
       "Pipeline(steps=[('clf',\n",
       "                 XGBClassifier(base_score=0.5, booster='gbtree',\n",
       "                               colsample_bylevel=1, colsample_bynode=1,\n",
       "                               colsample_bytree=1, criterion='entropy', gamma=0,\n",
       "                               gpu_id=-1, importance_type='gain',\n",
       "                               interaction_constraints='',\n",
       "                               learning_rate=0.300000012, max_delta_step=0,\n",
       "                               max_depth=8, max_features='sqrt',\n",
       "                               max_samples=0.25, min_child_weight=1,\n",
       "                               min_samples_split=0.18, missing=nan,\n",
       "                               monotone_constraints='()', n_estimators=50,\n",
       "                               n_jobs=16, num_parallel_tree=1, random_state=0,\n",
       "                               reg_alpha=0, reg_lambda=1, scale_pos_weight=1,\n",
       "                               subsample=1, tree_method='exact',\n",
       "                               validate_parameters=1, verbosity=None))])"
      ]
     },
     "execution_count": 14,
     "metadata": {},
     "output_type": "execute_result"
    }
   ],
   "source": [
    "rs_results.best_estimator_"
   ]
  },
  {
   "cell_type": "code",
   "execution_count": 15,
   "id": "84a703f8-2256-4f75-83d4-3ac5a95924da",
   "metadata": {},
   "outputs": [
    {
     "data": {
      "text/plain": [
       "{'clf__n_estimators': 50,\n",
       " 'clf__min_samples_split': 0.18,\n",
       " 'clf__max_samples': 0.25,\n",
       " 'clf__max_features': 'sqrt',\n",
       " 'clf__max_depth': 8,\n",
       " 'clf__criterion': 'entropy',\n",
       " 'clf': XGBClassifier(base_score=None, booster=None, colsample_bylevel=None,\n",
       "               colsample_bynode=None, colsample_bytree=None, criterion='entropy',\n",
       "               gamma=None, gpu_id=None, importance_type='gain',\n",
       "               interaction_constraints=None, learning_rate=None,\n",
       "               max_delta_step=None, max_depth=8, max_features='sqrt',\n",
       "               max_samples=0.25, min_child_weight=None, min_samples_split=0.18,\n",
       "               missing=nan, monotone_constraints=None, n_estimators=50,\n",
       "               n_jobs=None, num_parallel_tree=None, random_state=None,\n",
       "               reg_alpha=None, reg_lambda=None, scale_pos_weight=None,\n",
       "               subsample=None, tree_method=None, validate_parameters=None,\n",
       "               verbosity=None)}"
      ]
     },
     "execution_count": 15,
     "metadata": {},
     "output_type": "execute_result"
    }
   ],
   "source": [
    "rs_results.best_params_"
   ]
  },
  {
   "cell_type": "code",
   "execution_count": 16,
   "id": "89f54714-d825-495b-a150-40de7f885ad0",
   "metadata": {},
   "outputs": [
    {
     "data": {
      "text/plain": [
       "0.9277087406995835"
      ]
     },
     "execution_count": 16,
     "metadata": {},
     "output_type": "execute_result"
    }
   ],
   "source": [
    "rs_results.best_score_"
   ]
  },
  {
   "cell_type": "code",
   "execution_count": 17,
   "id": "5fec844e-5636-4729-b68b-e7009f8a7190",
   "metadata": {},
   "outputs": [
    {
     "data": {
      "text/plain": [
       "{'mean_fit_time': array([4.80305528e+01, 5.36194110e+00, 9.71594106e+01, 1.58016459e+00,\n",
       "        1.07164497e+02, 1.45922534e+00, 3.17741235e-02, 1.66093769e+02,\n",
       "        3.11272144e-02, 4.29713298e+01]),\n",
       " 'std_fit_time': array([4.36898858e-02, 8.86551417e-02, 1.39643866e+00, 2.54405510e-02,\n",
       "        1.83693578e+00, 3.57452299e-02, 3.41383012e-04, 2.01723019e+00,\n",
       "        2.28472267e-04, 1.26937558e+00]),\n",
       " 'mean_score_time': array([0.25864474, 0.41561158, 0.32751012, 0.32569416, 0.32725056,\n",
       "        0.32176932, 0.        , 0.49116357, 0.        , 0.26245904]),\n",
       " 'std_score_time': array([0.09504436, 0.00358929, 0.05125323, 0.01024461, 0.04719376,\n",
       "        0.00112042, 0.        , 0.08934127, 0.        , 0.05295346]),\n",
       " 'param_clf__n_estimators': masked_array(data=[50, 100, 200, 100, 100, 100, 100, 200, 50, 50],\n",
       "              mask=[False, False, False, False, False, False, False, False,\n",
       "                    False, False],\n",
       "        fill_value='?',\n",
       "             dtype=object),\n",
       " 'param_clf__min_samples_split': masked_array(data=[0.18, 0.33999999999999997, 0.14, 0.26,\n",
       "                    0.42000000000000004, 0.33999999999999997, 0.22, 0.22,\n",
       "                    0.30000000000000004, 0.38],\n",
       "              mask=[False, False, False, False, False, False, False, False,\n",
       "                    False, False],\n",
       "        fill_value='?',\n",
       "             dtype=object),\n",
       " 'param_clf__max_samples': masked_array(data=[0.25, 0.75, 0.5, 0.25, 0.75, 1, --, 0.75, --, 0.5],\n",
       "              mask=[False, False, False, False, False, False,  True, False,\n",
       "                     True, False],\n",
       "        fill_value='?',\n",
       "             dtype=object),\n",
       " 'param_clf__max_features': masked_array(data=['sqrt', 'sqrt', 'log2', 'log2', 'log2', 'sqrt', 'sqrt',\n",
       "                    'sqrt', 'auto', 'auto'],\n",
       "              mask=[False, False, False, False, False, False, False, False,\n",
       "                    False, False],\n",
       "        fill_value='?',\n",
       "             dtype=object),\n",
       " 'param_clf__max_depth': masked_array(data=[8, 3, 4, 10, 9, 7, 3, 7, 5, 7],\n",
       "              mask=[False, False, False, False, False, False, False, False,\n",
       "                    False, False],\n",
       "        fill_value='?',\n",
       "             dtype=object),\n",
       " 'param_clf__criterion': masked_array(data=['entropy', 'gini', 'gini', 'gini', 'gini', 'entropy',\n",
       "                    'gini', 'entropy', 'entropy', 'entropy'],\n",
       "              mask=[False, False, False, False, False, False, False, False,\n",
       "                    False, False],\n",
       "        fill_value='?',\n",
       "             dtype=object),\n",
       " 'param_clf': masked_array(data=[XGBClassifier(base_score=None, booster=None, colsample_bylevel=None,\n",
       "                                  colsample_bynode=None, colsample_bytree=None, criterion='entropy',\n",
       "                                  gamma=None, gpu_id=None, importance_type='gain',\n",
       "                                  interaction_constraints=None, learning_rate=None,\n",
       "                                  max_delta_step=None, max_depth=8, max_features='sqrt',\n",
       "                                  max_samples=0.25, min_child_weight=None, min_samples_split=0.18,\n",
       "                                  missing=nan, monotone_constraints=None, n_estimators=50,\n",
       "                                  n_jobs=None, num_parallel_tree=None, random_state=None,\n",
       "                                  reg_alpha=None, reg_lambda=None, scale_pos_weight=None,\n",
       "                                  subsample=None, tree_method=None, validate_parameters=None,\n",
       "                                  verbosity=None)                                                   ,\n",
       "                    RandomForestClassifier(),\n",
       "                    XGBClassifier(base_score=None, booster=None, colsample_bylevel=None,\n",
       "                                  colsample_bynode=None, colsample_bytree=None, criterion='entropy',\n",
       "                                  gamma=None, gpu_id=None, importance_type='gain',\n",
       "                                  interaction_constraints=None, learning_rate=None,\n",
       "                                  max_delta_step=None, max_depth=8, max_features='sqrt',\n",
       "                                  max_samples=0.25, min_child_weight=None, min_samples_split=0.18,\n",
       "                                  missing=nan, monotone_constraints=None, n_estimators=50,\n",
       "                                  n_jobs=None, num_parallel_tree=None, random_state=None,\n",
       "                                  reg_alpha=None, reg_lambda=None, scale_pos_weight=None,\n",
       "                                  subsample=None, tree_method=None, validate_parameters=None,\n",
       "                                  verbosity=None)                                                   ,\n",
       "                    RandomForestClassifier(),\n",
       "                    XGBClassifier(base_score=None, booster=None, colsample_bylevel=None,\n",
       "                                  colsample_bynode=None, colsample_bytree=None, criterion='entropy',\n",
       "                                  gamma=None, gpu_id=None, importance_type='gain',\n",
       "                                  interaction_constraints=None, learning_rate=None,\n",
       "                                  max_delta_step=None, max_depth=8, max_features='sqrt',\n",
       "                                  max_samples=0.25, min_child_weight=None, min_samples_split=0.18,\n",
       "                                  missing=nan, monotone_constraints=None, n_estimators=50,\n",
       "                                  n_jobs=None, num_parallel_tree=None, random_state=None,\n",
       "                                  reg_alpha=None, reg_lambda=None, scale_pos_weight=None,\n",
       "                                  subsample=None, tree_method=None, validate_parameters=None,\n",
       "                                  verbosity=None)                                                   ,\n",
       "                    RandomForestClassifier(), GradientBoostingClassifier(),\n",
       "                    XGBClassifier(base_score=None, booster=None, colsample_bylevel=None,\n",
       "                                  colsample_bynode=None, colsample_bytree=None, criterion='entropy',\n",
       "                                  gamma=None, gpu_id=None, importance_type='gain',\n",
       "                                  interaction_constraints=None, learning_rate=None,\n",
       "                                  max_delta_step=None, max_depth=8, max_features='sqrt',\n",
       "                                  max_samples=0.25, min_child_weight=None, min_samples_split=0.18,\n",
       "                                  missing=nan, monotone_constraints=None, n_estimators=50,\n",
       "                                  n_jobs=None, num_parallel_tree=None, random_state=None,\n",
       "                                  reg_alpha=None, reg_lambda=None, scale_pos_weight=None,\n",
       "                                  subsample=None, tree_method=None, validate_parameters=None,\n",
       "                                  verbosity=None)                                                   ,\n",
       "                    GradientBoostingClassifier(),\n",
       "                    XGBClassifier(base_score=None, booster=None, colsample_bylevel=None,\n",
       "                                  colsample_bynode=None, colsample_bytree=None, criterion='entropy',\n",
       "                                  gamma=None, gpu_id=None, importance_type='gain',\n",
       "                                  interaction_constraints=None, learning_rate=None,\n",
       "                                  max_delta_step=None, max_depth=8, max_features='sqrt',\n",
       "                                  max_samples=0.25, min_child_weight=None, min_samples_split=0.18,\n",
       "                                  missing=nan, monotone_constraints=None, n_estimators=50,\n",
       "                                  n_jobs=None, num_parallel_tree=None, random_state=None,\n",
       "                                  reg_alpha=None, reg_lambda=None, scale_pos_weight=None,\n",
       "                                  subsample=None, tree_method=None, validate_parameters=None,\n",
       "                                  verbosity=None)                                                   ],\n",
       "              mask=[False, False, False, False, False, False, False, False,\n",
       "                    False, False],\n",
       "        fill_value='?',\n",
       "             dtype=object),\n",
       " 'params': [{'clf__n_estimators': 50,\n",
       "   'clf__min_samples_split': 0.18,\n",
       "   'clf__max_samples': 0.25,\n",
       "   'clf__max_features': 'sqrt',\n",
       "   'clf__max_depth': 8,\n",
       "   'clf__criterion': 'entropy',\n",
       "   'clf': XGBClassifier(base_score=None, booster=None, colsample_bylevel=None,\n",
       "                 colsample_bynode=None, colsample_bytree=None, criterion='entropy',\n",
       "                 gamma=None, gpu_id=None, importance_type='gain',\n",
       "                 interaction_constraints=None, learning_rate=None,\n",
       "                 max_delta_step=None, max_depth=8, max_features='sqrt',\n",
       "                 max_samples=0.25, min_child_weight=None, min_samples_split=0.18,\n",
       "                 missing=nan, monotone_constraints=None, n_estimators=50,\n",
       "                 n_jobs=None, num_parallel_tree=None, random_state=None,\n",
       "                 reg_alpha=None, reg_lambda=None, scale_pos_weight=None,\n",
       "                 subsample=None, tree_method=None, validate_parameters=None,\n",
       "                 verbosity=None)},\n",
       "  {'clf__n_estimators': 100,\n",
       "   'clf__min_samples_split': 0.33999999999999997,\n",
       "   'clf__max_samples': 0.75,\n",
       "   'clf__max_features': 'sqrt',\n",
       "   'clf__max_depth': 3,\n",
       "   'clf__criterion': 'gini',\n",
       "   'clf': RandomForestClassifier()},\n",
       "  {'clf__n_estimators': 200,\n",
       "   'clf__min_samples_split': 0.14,\n",
       "   'clf__max_samples': 0.5,\n",
       "   'clf__max_features': 'log2',\n",
       "   'clf__max_depth': 4,\n",
       "   'clf__criterion': 'gini',\n",
       "   'clf': XGBClassifier(base_score=None, booster=None, colsample_bylevel=None,\n",
       "                 colsample_bynode=None, colsample_bytree=None, criterion='entropy',\n",
       "                 gamma=None, gpu_id=None, importance_type='gain',\n",
       "                 interaction_constraints=None, learning_rate=None,\n",
       "                 max_delta_step=None, max_depth=8, max_features='sqrt',\n",
       "                 max_samples=0.25, min_child_weight=None, min_samples_split=0.18,\n",
       "                 missing=nan, monotone_constraints=None, n_estimators=50,\n",
       "                 n_jobs=None, num_parallel_tree=None, random_state=None,\n",
       "                 reg_alpha=None, reg_lambda=None, scale_pos_weight=None,\n",
       "                 subsample=None, tree_method=None, validate_parameters=None,\n",
       "                 verbosity=None)},\n",
       "  {'clf__n_estimators': 100,\n",
       "   'clf__min_samples_split': 0.26,\n",
       "   'clf__max_samples': 0.25,\n",
       "   'clf__max_features': 'log2',\n",
       "   'clf__max_depth': 10,\n",
       "   'clf__criterion': 'gini',\n",
       "   'clf': RandomForestClassifier()},\n",
       "  {'clf__n_estimators': 100,\n",
       "   'clf__min_samples_split': 0.42000000000000004,\n",
       "   'clf__max_samples': 0.75,\n",
       "   'clf__max_features': 'log2',\n",
       "   'clf__max_depth': 9,\n",
       "   'clf__criterion': 'gini',\n",
       "   'clf': XGBClassifier(base_score=None, booster=None, colsample_bylevel=None,\n",
       "                 colsample_bynode=None, colsample_bytree=None, criterion='entropy',\n",
       "                 gamma=None, gpu_id=None, importance_type='gain',\n",
       "                 interaction_constraints=None, learning_rate=None,\n",
       "                 max_delta_step=None, max_depth=8, max_features='sqrt',\n",
       "                 max_samples=0.25, min_child_weight=None, min_samples_split=0.18,\n",
       "                 missing=nan, monotone_constraints=None, n_estimators=50,\n",
       "                 n_jobs=None, num_parallel_tree=None, random_state=None,\n",
       "                 reg_alpha=None, reg_lambda=None, scale_pos_weight=None,\n",
       "                 subsample=None, tree_method=None, validate_parameters=None,\n",
       "                 verbosity=None)},\n",
       "  {'clf__n_estimators': 100,\n",
       "   'clf__min_samples_split': 0.33999999999999997,\n",
       "   'clf__max_samples': 1,\n",
       "   'clf__max_features': 'sqrt',\n",
       "   'clf__max_depth': 7,\n",
       "   'clf__criterion': 'entropy',\n",
       "   'clf': RandomForestClassifier()},\n",
       "  {'clf__n_estimators': 100,\n",
       "   'clf__min_samples_split': 0.22,\n",
       "   'clf__max_features': 'sqrt',\n",
       "   'clf__max_depth': 3,\n",
       "   'clf__criterion': 'gini',\n",
       "   'clf': GradientBoostingClassifier()},\n",
       "  {'clf__n_estimators': 200,\n",
       "   'clf__min_samples_split': 0.22,\n",
       "   'clf__max_samples': 0.75,\n",
       "   'clf__max_features': 'sqrt',\n",
       "   'clf__max_depth': 7,\n",
       "   'clf__criterion': 'entropy',\n",
       "   'clf': XGBClassifier(base_score=None, booster=None, colsample_bylevel=None,\n",
       "                 colsample_bynode=None, colsample_bytree=None, criterion='entropy',\n",
       "                 gamma=None, gpu_id=None, importance_type='gain',\n",
       "                 interaction_constraints=None, learning_rate=None,\n",
       "                 max_delta_step=None, max_depth=8, max_features='sqrt',\n",
       "                 max_samples=0.25, min_child_weight=None, min_samples_split=0.18,\n",
       "                 missing=nan, monotone_constraints=None, n_estimators=50,\n",
       "                 n_jobs=None, num_parallel_tree=None, random_state=None,\n",
       "                 reg_alpha=None, reg_lambda=None, scale_pos_weight=None,\n",
       "                 subsample=None, tree_method=None, validate_parameters=None,\n",
       "                 verbosity=None)},\n",
       "  {'clf__n_estimators': 50,\n",
       "   'clf__min_samples_split': 0.30000000000000004,\n",
       "   'clf__max_features': 'auto',\n",
       "   'clf__max_depth': 5,\n",
       "   'clf__criterion': 'entropy',\n",
       "   'clf': GradientBoostingClassifier()},\n",
       "  {'clf__n_estimators': 50,\n",
       "   'clf__min_samples_split': 0.38,\n",
       "   'clf__max_samples': 0.5,\n",
       "   'clf__max_features': 'auto',\n",
       "   'clf__max_depth': 7,\n",
       "   'clf__criterion': 'entropy',\n",
       "   'clf': XGBClassifier(base_score=None, booster=None, colsample_bylevel=None,\n",
       "                 colsample_bynode=None, colsample_bytree=None, criterion='entropy',\n",
       "                 gamma=None, gpu_id=None, importance_type='gain',\n",
       "                 interaction_constraints=None, learning_rate=None,\n",
       "                 max_delta_step=None, max_depth=8, max_features='sqrt',\n",
       "                 max_samples=0.25, min_child_weight=None, min_samples_split=0.18,\n",
       "                 missing=nan, monotone_constraints=None, n_estimators=50,\n",
       "                 n_jobs=None, num_parallel_tree=None, random_state=None,\n",
       "                 reg_alpha=None, reg_lambda=None, scale_pos_weight=None,\n",
       "                 subsample=None, tree_method=None, validate_parameters=None,\n",
       "                 verbosity=None)}],\n",
       " 'split0_test_score': array([0.9275449 , 0.68636271, 0.92728846, 0.68636271, 0.92662599,\n",
       "        0.68636271,        nan, 0.92631613,        nan, 0.92774792]),\n",
       " 'split1_test_score': array([0.92875231, 0.68792273, 0.92835697, 0.68787999, 0.92748079,\n",
       "        0.68787999,        nan, 0.92704271,        nan, 0.9289019 ]),\n",
       " 'split2_test_score': array([0.92682901, 0.68635203, 0.92664736, 0.68635203, 0.9259101 ,\n",
       "        0.68635203,        nan, 0.92545064,        nan, 0.9263375 ]),\n",
       " 'mean_test_score': array([0.92770874, 0.68687916, 0.92743093, 0.68686491, 0.92667229,\n",
       "        0.68686491,        nan, 0.92626983,        nan, 0.92766244]),\n",
       " 'std_test_score': array([0.00079369, 0.00073793, 0.00070518, 0.00071778, 0.00064207,\n",
       "        0.00071778,        nan, 0.00065078,        nan, 0.00104866]),\n",
       " 'rank_test_score': array([ 1,  6,  3,  7,  4,  7,  9,  5, 10,  2], dtype=int32)}"
      ]
     },
     "execution_count": 17,
     "metadata": {},
     "output_type": "execute_result"
    }
   ],
   "source": [
    "rs_results.cv_results_"
   ]
  },
  {
   "cell_type": "code",
   "execution_count": 18,
   "id": "054b1e3d-f7a5-40b9-b68b-0a6b2e835b9b",
   "metadata": {},
   "outputs": [],
   "source": [
    "df_rs_res = pd.DataFrame(rs_results.cv_results_)"
   ]
  },
  {
   "cell_type": "code",
   "execution_count": 19,
   "id": "62f139d0-58a0-49ff-80bc-0ca81e1e5217",
   "metadata": {},
   "outputs": [
    {
     "data": {
      "text/plain": [
       "(10, 18)"
      ]
     },
     "execution_count": 19,
     "metadata": {},
     "output_type": "execute_result"
    }
   ],
   "source": [
    "df_rs_res.shape"
   ]
  },
  {
   "cell_type": "code",
   "execution_count": 20,
   "id": "e4d52a21-d62b-4d63-bd7e-15cff7da8b19",
   "metadata": {},
   "outputs": [
    {
     "data": {
      "application/com.datacamp.data-table.v1+json": {
       "is_truncated": false,
       "table": {
        "data": [
         {
          "0": 48.0305527846,
          "1": 5.3619410992,
          "2": 97.1594105562,
          "3": 1.5801645915,
          "4": 107.1644969781,
          "5": 1.4592253367,
          "6": 0.0317741235,
          "7": 166.0937685172,
          "8": 0.0311272144,
          "9": 42.9713297685,
          "index": "mean_fit_time"
         },
         {
          "0": 0.0436898858,
          "1": 0.0886551417,
          "2": 1.3964386561,
          "3": 0.025440551,
          "4": 1.8369357766,
          "5": 0.0357452299,
          "6": 0.000341383,
          "7": 2.0172301866,
          "8": 0.0002284723,
          "9": 1.2693755831,
          "index": "std_fit_time"
         },
         {
          "0": 0.2586447398,
          "1": 0.415611585,
          "2": 0.3275101185,
          "3": 0.3256941636,
          "4": 0.3272505601,
          "5": 0.321769317,
          "6": 0,
          "7": 0.4911635717,
          "8": 0,
          "9": 0.2624590397,
          "index": "mean_score_time"
         },
         {
          "0": 0.0950443628,
          "1": 0.0035892927,
          "2": 0.0512532282,
          "3": 0.0102446132,
          "4": 0.0471937574,
          "5": 0.001120421,
          "6": 0,
          "7": 0.0893412656,
          "8": 0,
          "9": 0.0529534575,
          "index": "std_score_time"
         },
         {
          "0": 50,
          "1": 100,
          "2": 200,
          "3": 100,
          "4": 100,
          "5": 100,
          "6": 100,
          "7": 200,
          "8": 50,
          "9": 50,
          "index": "param_clf__n_estimators"
         },
         {
          "0": 0.18,
          "1": 0.34,
          "2": 0.14,
          "3": 0.26,
          "4": 0.42,
          "5": 0.34,
          "6": 0.22,
          "7": 0.22,
          "8": 0.3,
          "9": 0.38,
          "index": "param_clf__min_samples_split"
         },
         {
          "0": 0.25,
          "1": 0.75,
          "2": 0.5,
          "3": 0.25,
          "4": 0.75,
          "5": 1,
          "6": null,
          "7": 0.75,
          "8": null,
          "9": 0.5,
          "index": "param_clf__max_samples"
         },
         {
          "0": "sqrt",
          "1": "sqrt",
          "2": "log2",
          "3": "log2",
          "4": "log2",
          "5": "sqrt",
          "6": "sqrt",
          "7": "sqrt",
          "8": "auto",
          "9": "auto",
          "index": "param_clf__max_features"
         },
         {
          "0": 8,
          "1": 3,
          "2": 4,
          "3": 10,
          "4": 9,
          "5": 7,
          "6": 3,
          "7": 7,
          "8": 5,
          "9": 7,
          "index": "param_clf__max_depth"
         },
         {
          "0": "entropy",
          "1": "gini",
          "2": "gini",
          "3": "gini",
          "4": "gini",
          "5": "entropy",
          "6": "gini",
          "7": "entropy",
          "8": "entropy",
          "9": "entropy",
          "index": "param_clf__criterion"
         },
         {
          "0": {
           "base_score": null,
           "colsample_bylevel": null,
           "colsample_bytree": null,
           "gamma": null,
           "gpu_id": null,
           "interaction_constraints": null,
           "kwargs": {
            "criterion": "entropy",
            "max_features": "sqrt",
            "max_samples": 0.25,
            "min_samples_split": 0.18
           },
           "max_delta_step": null,
           "min_child_weight": null,
           "monotone_constraints": null,
           "n_jobs": null,
           "objective": "binary:logistic",
           "random_state": null,
           "reg_lambda": null,
           "scale_pos_weight": null,
           "subsample": null,
           "use_label_encoder": true,
           "verbosity": null
          },
          "1": {
           "base_estimator": {
            "ccp_alpha": 0,
            "criterion": "gini",
            "max_depth": null,
            "max_leaf_nodes": null,
            "min_samples_leaf": 1,
            "min_weight_fraction_leaf": 0,
            "random_state": null,
            "splitter": "best"
           },
           "ccp_alpha": 0,
           "criterion": "gini",
           "estimator_params": [
            "criterion",
            "max_depth",
            "min_samples_split",
            "min_samples_leaf",
            "min_weight_fraction_leaf",
            "max_features",
            "max_leaf_nodes",
            "min_impurity_decrease",
            "random_state",
            "ccp_alpha"
           ],
           "max_depth": null,
           "max_leaf_nodes": null,
           "min_impurity_decrease": 0,
           "min_samples_split": 2,
           "n_estimators": 100,
           "n_jobs": null,
           "random_state": null,
           "verbose": 0
          },
          "2": {
           "base_score": null,
           "colsample_bylevel": null,
           "colsample_bytree": null,
           "gamma": null,
           "gpu_id": null,
           "interaction_constraints": null,
           "kwargs": {
            "criterion": "entropy",
            "max_features": "sqrt",
            "max_samples": 0.25,
            "min_samples_split": 0.18
           },
           "max_delta_step": null,
           "min_child_weight": null,
           "monotone_constraints": null,
           "n_jobs": null,
           "objective": "binary:logistic",
           "random_state": null,
           "reg_lambda": null,
           "scale_pos_weight": null,
           "subsample": null,
           "use_label_encoder": true,
           "verbosity": null
          },
          "3": {
           "base_estimator": {
            "ccp_alpha": 0,
            "criterion": "gini",
            "max_depth": null,
            "max_leaf_nodes": null,
            "min_samples_leaf": 1,
            "min_weight_fraction_leaf": 0,
            "random_state": null,
            "splitter": "best"
           },
           "ccp_alpha": 0,
           "criterion": "gini",
           "estimator_params": [
            "criterion",
            "max_depth",
            "min_samples_split",
            "min_samples_leaf",
            "min_weight_fraction_leaf",
            "max_features",
            "max_leaf_nodes",
            "min_impurity_decrease",
            "random_state",
            "ccp_alpha"
           ],
           "max_depth": null,
           "max_leaf_nodes": null,
           "min_impurity_decrease": 0,
           "min_samples_split": 2,
           "n_estimators": 100,
           "n_jobs": null,
           "random_state": null,
           "verbose": 0
          },
          "4": {
           "base_score": null,
           "colsample_bylevel": null,
           "colsample_bytree": null,
           "gamma": null,
           "gpu_id": null,
           "interaction_constraints": null,
           "kwargs": {
            "criterion": "entropy",
            "max_features": "sqrt",
            "max_samples": 0.25,
            "min_samples_split": 0.18
           },
           "max_delta_step": null,
           "min_child_weight": null,
           "monotone_constraints": null,
           "n_jobs": null,
           "objective": "binary:logistic",
           "random_state": null,
           "reg_lambda": null,
           "scale_pos_weight": null,
           "subsample": null,
           "use_label_encoder": true,
           "verbosity": null
          },
          "5": {
           "base_estimator": {
            "ccp_alpha": 0,
            "criterion": "gini",
            "max_depth": null,
            "max_leaf_nodes": null,
            "min_samples_leaf": 1,
            "min_weight_fraction_leaf": 0,
            "random_state": null,
            "splitter": "best"
           },
           "ccp_alpha": 0,
           "criterion": "gini",
           "estimator_params": [
            "criterion",
            "max_depth",
            "min_samples_split",
            "min_samples_leaf",
            "min_weight_fraction_leaf",
            "max_features",
            "max_leaf_nodes",
            "min_impurity_decrease",
            "random_state",
            "ccp_alpha"
           ],
           "max_depth": null,
           "max_leaf_nodes": null,
           "min_impurity_decrease": 0,
           "min_samples_split": 2,
           "n_estimators": 100,
           "n_jobs": null,
           "random_state": null,
           "verbose": 0
          },
          "6": {
           "alpha": 0.9,
           "ccp_alpha": 0,
           "init": null,
           "loss": "deviance",
           "max_features": null,
           "min_impurity_decrease": 0,
           "min_samples_split": 2,
           "n_estimators": 100,
           "n_iter_no_change": null,
           "random_state": null,
           "subsample": 1,
           "validation_fraction": 0.1,
           "warm_start": false
          },
          "7": {
           "base_score": null,
           "colsample_bylevel": null,
           "colsample_bytree": null,
           "gamma": null,
           "gpu_id": null,
           "interaction_constraints": null,
           "kwargs": {
            "criterion": "entropy",
            "max_features": "sqrt",
            "max_samples": 0.25,
            "min_samples_split": 0.18
           },
           "max_delta_step": null,
           "min_child_weight": null,
           "monotone_constraints": null,
           "n_jobs": null,
           "objective": "binary:logistic",
           "random_state": null,
           "reg_lambda": null,
           "scale_pos_weight": null,
           "subsample": null,
           "use_label_encoder": true,
           "verbosity": null
          },
          "8": {
           "alpha": 0.9,
           "ccp_alpha": 0,
           "init": null,
           "loss": "deviance",
           "max_features": null,
           "min_impurity_decrease": 0,
           "min_samples_split": 2,
           "n_estimators": 100,
           "n_iter_no_change": null,
           "random_state": null,
           "subsample": 1,
           "validation_fraction": 0.1,
           "warm_start": false
          },
          "9": {
           "base_score": null,
           "colsample_bylevel": null,
           "colsample_bytree": null,
           "gamma": null,
           "gpu_id": null,
           "interaction_constraints": null,
           "kwargs": {
            "criterion": "entropy",
            "max_features": "sqrt",
            "max_samples": 0.25,
            "min_samples_split": 0.18
           },
           "max_delta_step": null,
           "min_child_weight": null,
           "monotone_constraints": null,
           "n_jobs": null,
           "objective": "binary:logistic",
           "random_state": null,
           "reg_lambda": null,
           "scale_pos_weight": null,
           "subsample": null,
           "use_label_encoder": true,
           "verbosity": null
          },
          "index": "param_clf"
         },
         {
          "0": {
           "clf": {
            "base_score": null,
            "colsample_bylevel": null,
            "colsample_bytree": null,
            "gamma": null,
            "gpu_id": null,
            "interaction_constraints": null,
            "kwargs": {
             "criterion": "entropy",
             "max_features": "sqrt",
             "max_samples": 0.25,
             "min_samples_split": 0.18
            },
            "max_delta_step": null,
            "min_child_weight": null,
            "monotone_constraints": null,
            "n_jobs": null,
            "objective": "binary:logistic",
            "random_state": null,
            "reg_lambda": null,
            "scale_pos_weight": null,
            "subsample": null,
            "use_label_encoder": true,
            "verbosity": null
           },
           "clf__criterion": "entropy",
           "clf__max_depth": 8,
           "clf__max_features": "sqrt",
           "clf__max_samples": 0.25,
           "clf__min_samples_split": 0.18,
           "clf__n_estimators": 50
          },
          "1": {
           "clf": {
            "base_estimator": {
             "ccp_alpha": 0,
             "criterion": "gini",
             "max_depth": null,
             "max_leaf_nodes": null,
             "min_samples_leaf": 1,
             "min_weight_fraction_leaf": 0,
             "random_state": null,
             "splitter": "best"
            },
            "ccp_alpha": 0,
            "criterion": "gini",
            "estimator_params": [
             "criterion",
             "max_depth",
             "min_samples_split",
             "min_samples_leaf",
             "min_weight_fraction_leaf",
             "max_features",
             "max_leaf_nodes",
             "min_impurity_decrease",
             "random_state",
             "ccp_alpha"
            ],
            "max_depth": null,
            "max_leaf_nodes": null,
            "min_impurity_decrease": 0,
            "min_samples_split": 2,
            "n_estimators": 100,
            "n_jobs": null,
            "random_state": null,
            "verbose": 0
           },
           "clf__criterion": "gini",
           "clf__max_depth": 3,
           "clf__max_features": "sqrt",
           "clf__max_samples": 0.75,
           "clf__min_samples_split": 0.34,
           "clf__n_estimators": 100
          },
          "2": {
           "clf": {
            "base_score": null,
            "colsample_bylevel": null,
            "colsample_bytree": null,
            "gamma": null,
            "gpu_id": null,
            "interaction_constraints": null,
            "kwargs": {
             "criterion": "entropy",
             "max_features": "sqrt",
             "max_samples": 0.25,
             "min_samples_split": 0.18
            },
            "max_delta_step": null,
            "min_child_weight": null,
            "monotone_constraints": null,
            "n_jobs": null,
            "objective": "binary:logistic",
            "random_state": null,
            "reg_lambda": null,
            "scale_pos_weight": null,
            "subsample": null,
            "use_label_encoder": true,
            "verbosity": null
           },
           "clf__criterion": "gini",
           "clf__max_depth": 4,
           "clf__max_features": "log2",
           "clf__max_samples": 0.5,
           "clf__min_samples_split": 0.14,
           "clf__n_estimators": 200
          },
          "3": {
           "clf": {
            "base_estimator": {
             "ccp_alpha": 0,
             "criterion": "gini",
             "max_depth": null,
             "max_leaf_nodes": null,
             "min_samples_leaf": 1,
             "min_weight_fraction_leaf": 0,
             "random_state": null,
             "splitter": "best"
            },
            "ccp_alpha": 0,
            "criterion": "gini",
            "estimator_params": [
             "criterion",
             "max_depth",
             "min_samples_split",
             "min_samples_leaf",
             "min_weight_fraction_leaf",
             "max_features",
             "max_leaf_nodes",
             "min_impurity_decrease",
             "random_state",
             "ccp_alpha"
            ],
            "max_depth": null,
            "max_leaf_nodes": null,
            "min_impurity_decrease": 0,
            "min_samples_split": 2,
            "n_estimators": 100,
            "n_jobs": null,
            "random_state": null,
            "verbose": 0
           },
           "clf__criterion": "gini",
           "clf__max_depth": 10,
           "clf__max_features": "log2",
           "clf__max_samples": 0.25,
           "clf__min_samples_split": 0.26,
           "clf__n_estimators": 100
          },
          "4": {
           "clf": {
            "base_score": null,
            "colsample_bylevel": null,
            "colsample_bytree": null,
            "gamma": null,
            "gpu_id": null,
            "interaction_constraints": null,
            "kwargs": {
             "criterion": "entropy",
             "max_features": "sqrt",
             "max_samples": 0.25,
             "min_samples_split": 0.18
            },
            "max_delta_step": null,
            "min_child_weight": null,
            "monotone_constraints": null,
            "n_jobs": null,
            "objective": "binary:logistic",
            "random_state": null,
            "reg_lambda": null,
            "scale_pos_weight": null,
            "subsample": null,
            "use_label_encoder": true,
            "verbosity": null
           },
           "clf__criterion": "gini",
           "clf__max_depth": 9,
           "clf__max_features": "log2",
           "clf__max_samples": 0.75,
           "clf__min_samples_split": 0.42,
           "clf__n_estimators": 100
          },
          "5": {
           "clf": {
            "base_estimator": {
             "ccp_alpha": 0,
             "criterion": "gini",
             "max_depth": null,
             "max_leaf_nodes": null,
             "min_samples_leaf": 1,
             "min_weight_fraction_leaf": 0,
             "random_state": null,
             "splitter": "best"
            },
            "ccp_alpha": 0,
            "criterion": "gini",
            "estimator_params": [
             "criterion",
             "max_depth",
             "min_samples_split",
             "min_samples_leaf",
             "min_weight_fraction_leaf",
             "max_features",
             "max_leaf_nodes",
             "min_impurity_decrease",
             "random_state",
             "ccp_alpha"
            ],
            "max_depth": null,
            "max_leaf_nodes": null,
            "min_impurity_decrease": 0,
            "min_samples_split": 2,
            "n_estimators": 100,
            "n_jobs": null,
            "random_state": null,
            "verbose": 0
           },
           "clf__criterion": "entropy",
           "clf__max_depth": 7,
           "clf__max_features": "sqrt",
           "clf__max_samples": 1,
           "clf__min_samples_split": 0.34,
           "clf__n_estimators": 100
          },
          "6": {
           "clf": {
            "alpha": 0.9,
            "ccp_alpha": 0,
            "init": null,
            "loss": "deviance",
            "max_features": null,
            "min_impurity_decrease": 0,
            "min_samples_split": 2,
            "n_estimators": 100,
            "n_iter_no_change": null,
            "random_state": null,
            "subsample": 1,
            "validation_fraction": 0.1,
            "warm_start": false
           },
           "clf__criterion": "gini",
           "clf__max_depth": 3,
           "clf__max_features": "sqrt",
           "clf__min_samples_split": 0.22,
           "clf__n_estimators": 100
          },
          "7": {
           "clf": {
            "base_score": null,
            "colsample_bylevel": null,
            "colsample_bytree": null,
            "gamma": null,
            "gpu_id": null,
            "interaction_constraints": null,
            "kwargs": {
             "criterion": "entropy",
             "max_features": "sqrt",
             "max_samples": 0.25,
             "min_samples_split": 0.18
            },
            "max_delta_step": null,
            "min_child_weight": null,
            "monotone_constraints": null,
            "n_jobs": null,
            "objective": "binary:logistic",
            "random_state": null,
            "reg_lambda": null,
            "scale_pos_weight": null,
            "subsample": null,
            "use_label_encoder": true,
            "verbosity": null
           },
           "clf__criterion": "entropy",
           "clf__max_depth": 7,
           "clf__max_features": "sqrt",
           "clf__max_samples": 0.75,
           "clf__min_samples_split": 0.22,
           "clf__n_estimators": 200
          },
          "8": {
           "clf": {
            "alpha": 0.9,
            "ccp_alpha": 0,
            "init": null,
            "loss": "deviance",
            "max_features": null,
            "min_impurity_decrease": 0,
            "min_samples_split": 2,
            "n_estimators": 100,
            "n_iter_no_change": null,
            "random_state": null,
            "subsample": 1,
            "validation_fraction": 0.1,
            "warm_start": false
           },
           "clf__criterion": "entropy",
           "clf__max_depth": 5,
           "clf__max_features": "auto",
           "clf__min_samples_split": 0.3,
           "clf__n_estimators": 50
          },
          "9": {
           "clf": {
            "base_score": null,
            "colsample_bylevel": null,
            "colsample_bytree": null,
            "gamma": null,
            "gpu_id": null,
            "interaction_constraints": null,
            "kwargs": {
             "criterion": "entropy",
             "max_features": "sqrt",
             "max_samples": 0.25,
             "min_samples_split": 0.18
            },
            "max_delta_step": null,
            "min_child_weight": null,
            "monotone_constraints": null,
            "n_jobs": null,
            "objective": "binary:logistic",
            "random_state": null,
            "reg_lambda": null,
            "scale_pos_weight": null,
            "subsample": null,
            "use_label_encoder": true,
            "verbosity": null
           },
           "clf__criterion": "entropy",
           "clf__max_depth": 7,
           "clf__max_features": "auto",
           "clf__max_samples": 0.5,
           "clf__min_samples_split": 0.38,
           "clf__n_estimators": 50
          },
          "index": "params"
         },
         {
          "0": 0.9275449038,
          "1": 0.6863627136,
          "2": 0.9272884634,
          "3": 0.6863627136,
          "4": 0.9266259924,
          "5": 0.6863627136,
          "6": null,
          "7": 0.9263161269,
          "8": null,
          "9": 0.9277479191,
          "index": "split0_test_score"
         },
         {
          "0": 0.9287523106,
          "1": 0.687922726,
          "2": 0.928356965,
          "3": 0.6878799859,
          "4": 0.9274807937,
          "5": 0.6878799859,
          "6": null,
          "7": 0.927042708,
          "8": null,
          "9": 0.9289019009,
          "index": "split1_test_score"
         },
         {
          "0": 0.9268290077,
          "1": 0.6863520286,
          "2": 0.9266473624,
          "3": 0.6863520286,
          "4": 0.9259100963,
          "5": 0.6863520286,
          "6": null,
          "7": 0.9254506406,
          "8": null,
          "9": 0.9263374969,
          "index": "split2_test_score"
         },
         {
          "0": 0.9277087407,
          "1": 0.686879156,
          "2": 0.9274309303,
          "3": 0.6868649093,
          "4": 0.9266722941,
          "5": 0.6868649093,
          "6": null,
          "7": 0.9262698252,
          "8": null,
          "9": 0.927662439,
          "index": "mean_test_score"
         },
         {
          "0": 0.0007936857,
          "1": 0.0007379283,
          "2": 0.0007051751,
          "3": 0.0007177808,
          "4": 0.0006420698,
          "5": 0.0007177808,
          "6": null,
          "7": 0.0006507829,
          "8": null,
          "9": 0.0010486569,
          "index": "std_test_score"
         },
         {
          "0": 1,
          "1": 6,
          "2": 3,
          "3": 7,
          "4": 4,
          "5": 7,
          "6": 9,
          "7": 5,
          "8": 10,
          "9": 2,
          "index": "rank_test_score"
         }
        ],
        "schema": {
         "fields": [
          {
           "name": "index",
           "type": "string"
          },
          {
           "name": 0,
           "type": "string"
          },
          {
           "name": 1,
           "type": "string"
          },
          {
           "name": 2,
           "type": "string"
          },
          {
           "name": 3,
           "type": "string"
          },
          {
           "name": 4,
           "type": "string"
          },
          {
           "name": 5,
           "type": "string"
          },
          {
           "name": 6,
           "type": "string"
          },
          {
           "name": 7,
           "type": "string"
          },
          {
           "name": 8,
           "type": "string"
          },
          {
           "name": 9,
           "type": "string"
          }
         ],
         "pandas_version": "0.20.0",
         "primaryKey": [
          "index"
         ]
        }
       },
       "total_rows": 18
      },
      "text/html": [
       "<div>\n",
       "<style scoped>\n",
       "    .dataframe tbody tr th:only-of-type {\n",
       "        vertical-align: middle;\n",
       "    }\n",
       "\n",
       "    .dataframe tbody tr th {\n",
       "        vertical-align: top;\n",
       "    }\n",
       "\n",
       "    .dataframe thead th {\n",
       "        text-align: right;\n",
       "    }\n",
       "</style>\n",
       "<table border=\"1\" class=\"dataframe\">\n",
       "  <thead>\n",
       "    <tr style=\"text-align: right;\">\n",
       "      <th></th>\n",
       "      <th>0</th>\n",
       "      <th>1</th>\n",
       "      <th>2</th>\n",
       "      <th>3</th>\n",
       "      <th>4</th>\n",
       "      <th>5</th>\n",
       "      <th>6</th>\n",
       "      <th>7</th>\n",
       "      <th>8</th>\n",
       "      <th>9</th>\n",
       "    </tr>\n",
       "  </thead>\n",
       "  <tbody>\n",
       "    <tr>\n",
       "      <th>mean_fit_time</th>\n",
       "      <td>48.030553</td>\n",
       "      <td>5.361941</td>\n",
       "      <td>97.159411</td>\n",
       "      <td>1.580165</td>\n",
       "      <td>107.164497</td>\n",
       "      <td>1.459225</td>\n",
       "      <td>0.031774</td>\n",
       "      <td>166.093769</td>\n",
       "      <td>0.031127</td>\n",
       "      <td>42.97133</td>\n",
       "    </tr>\n",
       "    <tr>\n",
       "      <th>std_fit_time</th>\n",
       "      <td>0.04369</td>\n",
       "      <td>0.088655</td>\n",
       "      <td>1.396439</td>\n",
       "      <td>0.025441</td>\n",
       "      <td>1.836936</td>\n",
       "      <td>0.035745</td>\n",
       "      <td>0.000341</td>\n",
       "      <td>2.01723</td>\n",
       "      <td>0.000228</td>\n",
       "      <td>1.269376</td>\n",
       "    </tr>\n",
       "    <tr>\n",
       "      <th>mean_score_time</th>\n",
       "      <td>0.258645</td>\n",
       "      <td>0.415612</td>\n",
       "      <td>0.32751</td>\n",
       "      <td>0.325694</td>\n",
       "      <td>0.327251</td>\n",
       "      <td>0.321769</td>\n",
       "      <td>0.0</td>\n",
       "      <td>0.491164</td>\n",
       "      <td>0.0</td>\n",
       "      <td>0.262459</td>\n",
       "    </tr>\n",
       "    <tr>\n",
       "      <th>std_score_time</th>\n",
       "      <td>0.095044</td>\n",
       "      <td>0.003589</td>\n",
       "      <td>0.051253</td>\n",
       "      <td>0.010245</td>\n",
       "      <td>0.047194</td>\n",
       "      <td>0.00112</td>\n",
       "      <td>0.0</td>\n",
       "      <td>0.089341</td>\n",
       "      <td>0.0</td>\n",
       "      <td>0.052953</td>\n",
       "    </tr>\n",
       "    <tr>\n",
       "      <th>param_clf__n_estimators</th>\n",
       "      <td>50</td>\n",
       "      <td>100</td>\n",
       "      <td>200</td>\n",
       "      <td>100</td>\n",
       "      <td>100</td>\n",
       "      <td>100</td>\n",
       "      <td>100</td>\n",
       "      <td>200</td>\n",
       "      <td>50</td>\n",
       "      <td>50</td>\n",
       "    </tr>\n",
       "    <tr>\n",
       "      <th>param_clf__min_samples_split</th>\n",
       "      <td>0.18</td>\n",
       "      <td>0.34</td>\n",
       "      <td>0.14</td>\n",
       "      <td>0.26</td>\n",
       "      <td>0.42</td>\n",
       "      <td>0.34</td>\n",
       "      <td>0.22</td>\n",
       "      <td>0.22</td>\n",
       "      <td>0.3</td>\n",
       "      <td>0.38</td>\n",
       "    </tr>\n",
       "    <tr>\n",
       "      <th>param_clf__max_samples</th>\n",
       "      <td>0.25</td>\n",
       "      <td>0.75</td>\n",
       "      <td>0.5</td>\n",
       "      <td>0.25</td>\n",
       "      <td>0.75</td>\n",
       "      <td>1</td>\n",
       "      <td>NaN</td>\n",
       "      <td>0.75</td>\n",
       "      <td>NaN</td>\n",
       "      <td>0.5</td>\n",
       "    </tr>\n",
       "    <tr>\n",
       "      <th>param_clf__max_features</th>\n",
       "      <td>sqrt</td>\n",
       "      <td>sqrt</td>\n",
       "      <td>log2</td>\n",
       "      <td>log2</td>\n",
       "      <td>log2</td>\n",
       "      <td>sqrt</td>\n",
       "      <td>sqrt</td>\n",
       "      <td>sqrt</td>\n",
       "      <td>auto</td>\n",
       "      <td>auto</td>\n",
       "    </tr>\n",
       "    <tr>\n",
       "      <th>param_clf__max_depth</th>\n",
       "      <td>8</td>\n",
       "      <td>3</td>\n",
       "      <td>4</td>\n",
       "      <td>10</td>\n",
       "      <td>9</td>\n",
       "      <td>7</td>\n",
       "      <td>3</td>\n",
       "      <td>7</td>\n",
       "      <td>5</td>\n",
       "      <td>7</td>\n",
       "    </tr>\n",
       "    <tr>\n",
       "      <th>param_clf__criterion</th>\n",
       "      <td>entropy</td>\n",
       "      <td>gini</td>\n",
       "      <td>gini</td>\n",
       "      <td>gini</td>\n",
       "      <td>gini</td>\n",
       "      <td>entropy</td>\n",
       "      <td>gini</td>\n",
       "      <td>entropy</td>\n",
       "      <td>entropy</td>\n",
       "      <td>entropy</td>\n",
       "    </tr>\n",
       "    <tr>\n",
       "      <th>param_clf</th>\n",
       "      <td>XGBClassifier(base_score=None, booster=None, c...</td>\n",
       "      <td>RandomForestClassifier()</td>\n",
       "      <td>XGBClassifier(base_score=None, booster=None, c...</td>\n",
       "      <td>RandomForestClassifier()</td>\n",
       "      <td>XGBClassifier(base_score=None, booster=None, c...</td>\n",
       "      <td>RandomForestClassifier()</td>\n",
       "      <td>GradientBoostingClassifier()</td>\n",
       "      <td>XGBClassifier(base_score=None, booster=None, c...</td>\n",
       "      <td>GradientBoostingClassifier()</td>\n",
       "      <td>XGBClassifier(base_score=None, booster=None, c...</td>\n",
       "    </tr>\n",
       "    <tr>\n",
       "      <th>params</th>\n",
       "      <td>{'clf__n_estimators': 50, 'clf__min_samples_sp...</td>\n",
       "      <td>{'clf__n_estimators': 100, 'clf__min_samples_s...</td>\n",
       "      <td>{'clf__n_estimators': 200, 'clf__min_samples_s...</td>\n",
       "      <td>{'clf__n_estimators': 100, 'clf__min_samples_s...</td>\n",
       "      <td>{'clf__n_estimators': 100, 'clf__min_samples_s...</td>\n",
       "      <td>{'clf__n_estimators': 100, 'clf__min_samples_s...</td>\n",
       "      <td>{'clf__n_estimators': 100, 'clf__min_samples_s...</td>\n",
       "      <td>{'clf__n_estimators': 200, 'clf__min_samples_s...</td>\n",
       "      <td>{'clf__n_estimators': 50, 'clf__min_samples_sp...</td>\n",
       "      <td>{'clf__n_estimators': 50, 'clf__min_samples_sp...</td>\n",
       "    </tr>\n",
       "    <tr>\n",
       "      <th>split0_test_score</th>\n",
       "      <td>0.927545</td>\n",
       "      <td>0.686363</td>\n",
       "      <td>0.927288</td>\n",
       "      <td>0.686363</td>\n",
       "      <td>0.926626</td>\n",
       "      <td>0.686363</td>\n",
       "      <td>NaN</td>\n",
       "      <td>0.926316</td>\n",
       "      <td>NaN</td>\n",
       "      <td>0.927748</td>\n",
       "    </tr>\n",
       "    <tr>\n",
       "      <th>split1_test_score</th>\n",
       "      <td>0.928752</td>\n",
       "      <td>0.687923</td>\n",
       "      <td>0.928357</td>\n",
       "      <td>0.68788</td>\n",
       "      <td>0.927481</td>\n",
       "      <td>0.68788</td>\n",
       "      <td>NaN</td>\n",
       "      <td>0.927043</td>\n",
       "      <td>NaN</td>\n",
       "      <td>0.928902</td>\n",
       "    </tr>\n",
       "    <tr>\n",
       "      <th>split2_test_score</th>\n",
       "      <td>0.926829</td>\n",
       "      <td>0.686352</td>\n",
       "      <td>0.926647</td>\n",
       "      <td>0.686352</td>\n",
       "      <td>0.92591</td>\n",
       "      <td>0.686352</td>\n",
       "      <td>NaN</td>\n",
       "      <td>0.925451</td>\n",
       "      <td>NaN</td>\n",
       "      <td>0.926337</td>\n",
       "    </tr>\n",
       "    <tr>\n",
       "      <th>mean_test_score</th>\n",
       "      <td>0.927709</td>\n",
       "      <td>0.686879</td>\n",
       "      <td>0.927431</td>\n",
       "      <td>0.686865</td>\n",
       "      <td>0.926672</td>\n",
       "      <td>0.686865</td>\n",
       "      <td>NaN</td>\n",
       "      <td>0.92627</td>\n",
       "      <td>NaN</td>\n",
       "      <td>0.927662</td>\n",
       "    </tr>\n",
       "    <tr>\n",
       "      <th>std_test_score</th>\n",
       "      <td>0.000794</td>\n",
       "      <td>0.000738</td>\n",
       "      <td>0.000705</td>\n",
       "      <td>0.000718</td>\n",
       "      <td>0.000642</td>\n",
       "      <td>0.000718</td>\n",
       "      <td>NaN</td>\n",
       "      <td>0.000651</td>\n",
       "      <td>NaN</td>\n",
       "      <td>0.001049</td>\n",
       "    </tr>\n",
       "    <tr>\n",
       "      <th>rank_test_score</th>\n",
       "      <td>1</td>\n",
       "      <td>6</td>\n",
       "      <td>3</td>\n",
       "      <td>7</td>\n",
       "      <td>4</td>\n",
       "      <td>7</td>\n",
       "      <td>9</td>\n",
       "      <td>5</td>\n",
       "      <td>10</td>\n",
       "      <td>2</td>\n",
       "    </tr>\n",
       "  </tbody>\n",
       "</table>\n",
       "</div>"
      ],
      "text/plain": [
       "                                                                              0  \\\n",
       "mean_fit_time                                                         48.030553   \n",
       "std_fit_time                                                            0.04369   \n",
       "mean_score_time                                                        0.258645   \n",
       "std_score_time                                                         0.095044   \n",
       "param_clf__n_estimators                                                      50   \n",
       "param_clf__min_samples_split                                               0.18   \n",
       "param_clf__max_samples                                                     0.25   \n",
       "param_clf__max_features                                                    sqrt   \n",
       "param_clf__max_depth                                                          8   \n",
       "param_clf__criterion                                                    entropy   \n",
       "param_clf                     XGBClassifier(base_score=None, booster=None, c...   \n",
       "params                        {'clf__n_estimators': 50, 'clf__min_samples_sp...   \n",
       "split0_test_score                                                      0.927545   \n",
       "split1_test_score                                                      0.928752   \n",
       "split2_test_score                                                      0.926829   \n",
       "mean_test_score                                                        0.927709   \n",
       "std_test_score                                                         0.000794   \n",
       "rank_test_score                                                               1   \n",
       "\n",
       "                                                                              1  \\\n",
       "mean_fit_time                                                          5.361941   \n",
       "std_fit_time                                                           0.088655   \n",
       "mean_score_time                                                        0.415612   \n",
       "std_score_time                                                         0.003589   \n",
       "param_clf__n_estimators                                                     100   \n",
       "param_clf__min_samples_split                                               0.34   \n",
       "param_clf__max_samples                                                     0.75   \n",
       "param_clf__max_features                                                    sqrt   \n",
       "param_clf__max_depth                                                          3   \n",
       "param_clf__criterion                                                       gini   \n",
       "param_clf                                              RandomForestClassifier()   \n",
       "params                        {'clf__n_estimators': 100, 'clf__min_samples_s...   \n",
       "split0_test_score                                                      0.686363   \n",
       "split1_test_score                                                      0.687923   \n",
       "split2_test_score                                                      0.686352   \n",
       "mean_test_score                                                        0.686879   \n",
       "std_test_score                                                         0.000738   \n",
       "rank_test_score                                                               6   \n",
       "\n",
       "                                                                              2  \\\n",
       "mean_fit_time                                                         97.159411   \n",
       "std_fit_time                                                           1.396439   \n",
       "mean_score_time                                                         0.32751   \n",
       "std_score_time                                                         0.051253   \n",
       "param_clf__n_estimators                                                     200   \n",
       "param_clf__min_samples_split                                               0.14   \n",
       "param_clf__max_samples                                                      0.5   \n",
       "param_clf__max_features                                                    log2   \n",
       "param_clf__max_depth                                                          4   \n",
       "param_clf__criterion                                                       gini   \n",
       "param_clf                     XGBClassifier(base_score=None, booster=None, c...   \n",
       "params                        {'clf__n_estimators': 200, 'clf__min_samples_s...   \n",
       "split0_test_score                                                      0.927288   \n",
       "split1_test_score                                                      0.928357   \n",
       "split2_test_score                                                      0.926647   \n",
       "mean_test_score                                                        0.927431   \n",
       "std_test_score                                                         0.000705   \n",
       "rank_test_score                                                               3   \n",
       "\n",
       "                                                                              3  \\\n",
       "mean_fit_time                                                          1.580165   \n",
       "std_fit_time                                                           0.025441   \n",
       "mean_score_time                                                        0.325694   \n",
       "std_score_time                                                         0.010245   \n",
       "param_clf__n_estimators                                                     100   \n",
       "param_clf__min_samples_split                                               0.26   \n",
       "param_clf__max_samples                                                     0.25   \n",
       "param_clf__max_features                                                    log2   \n",
       "param_clf__max_depth                                                         10   \n",
       "param_clf__criterion                                                       gini   \n",
       "param_clf                                              RandomForestClassifier()   \n",
       "params                        {'clf__n_estimators': 100, 'clf__min_samples_s...   \n",
       "split0_test_score                                                      0.686363   \n",
       "split1_test_score                                                       0.68788   \n",
       "split2_test_score                                                      0.686352   \n",
       "mean_test_score                                                        0.686865   \n",
       "std_test_score                                                         0.000718   \n",
       "rank_test_score                                                               7   \n",
       "\n",
       "                                                                              4  \\\n",
       "mean_fit_time                                                        107.164497   \n",
       "std_fit_time                                                           1.836936   \n",
       "mean_score_time                                                        0.327251   \n",
       "std_score_time                                                         0.047194   \n",
       "param_clf__n_estimators                                                     100   \n",
       "param_clf__min_samples_split                                               0.42   \n",
       "param_clf__max_samples                                                     0.75   \n",
       "param_clf__max_features                                                    log2   \n",
       "param_clf__max_depth                                                          9   \n",
       "param_clf__criterion                                                       gini   \n",
       "param_clf                     XGBClassifier(base_score=None, booster=None, c...   \n",
       "params                        {'clf__n_estimators': 100, 'clf__min_samples_s...   \n",
       "split0_test_score                                                      0.926626   \n",
       "split1_test_score                                                      0.927481   \n",
       "split2_test_score                                                       0.92591   \n",
       "mean_test_score                                                        0.926672   \n",
       "std_test_score                                                         0.000642   \n",
       "rank_test_score                                                               4   \n",
       "\n",
       "                                                                              5  \\\n",
       "mean_fit_time                                                          1.459225   \n",
       "std_fit_time                                                           0.035745   \n",
       "mean_score_time                                                        0.321769   \n",
       "std_score_time                                                          0.00112   \n",
       "param_clf__n_estimators                                                     100   \n",
       "param_clf__min_samples_split                                               0.34   \n",
       "param_clf__max_samples                                                        1   \n",
       "param_clf__max_features                                                    sqrt   \n",
       "param_clf__max_depth                                                          7   \n",
       "param_clf__criterion                                                    entropy   \n",
       "param_clf                                              RandomForestClassifier()   \n",
       "params                        {'clf__n_estimators': 100, 'clf__min_samples_s...   \n",
       "split0_test_score                                                      0.686363   \n",
       "split1_test_score                                                       0.68788   \n",
       "split2_test_score                                                      0.686352   \n",
       "mean_test_score                                                        0.686865   \n",
       "std_test_score                                                         0.000718   \n",
       "rank_test_score                                                               7   \n",
       "\n",
       "                                                                              6  \\\n",
       "mean_fit_time                                                          0.031774   \n",
       "std_fit_time                                                           0.000341   \n",
       "mean_score_time                                                             0.0   \n",
       "std_score_time                                                              0.0   \n",
       "param_clf__n_estimators                                                     100   \n",
       "param_clf__min_samples_split                                               0.22   \n",
       "param_clf__max_samples                                                      NaN   \n",
       "param_clf__max_features                                                    sqrt   \n",
       "param_clf__max_depth                                                          3   \n",
       "param_clf__criterion                                                       gini   \n",
       "param_clf                                          GradientBoostingClassifier()   \n",
       "params                        {'clf__n_estimators': 100, 'clf__min_samples_s...   \n",
       "split0_test_score                                                           NaN   \n",
       "split1_test_score                                                           NaN   \n",
       "split2_test_score                                                           NaN   \n",
       "mean_test_score                                                             NaN   \n",
       "std_test_score                                                              NaN   \n",
       "rank_test_score                                                               9   \n",
       "\n",
       "                                                                              7  \\\n",
       "mean_fit_time                                                        166.093769   \n",
       "std_fit_time                                                            2.01723   \n",
       "mean_score_time                                                        0.491164   \n",
       "std_score_time                                                         0.089341   \n",
       "param_clf__n_estimators                                                     200   \n",
       "param_clf__min_samples_split                                               0.22   \n",
       "param_clf__max_samples                                                     0.75   \n",
       "param_clf__max_features                                                    sqrt   \n",
       "param_clf__max_depth                                                          7   \n",
       "param_clf__criterion                                                    entropy   \n",
       "param_clf                     XGBClassifier(base_score=None, booster=None, c...   \n",
       "params                        {'clf__n_estimators': 200, 'clf__min_samples_s...   \n",
       "split0_test_score                                                      0.926316   \n",
       "split1_test_score                                                      0.927043   \n",
       "split2_test_score                                                      0.925451   \n",
       "mean_test_score                                                         0.92627   \n",
       "std_test_score                                                         0.000651   \n",
       "rank_test_score                                                               5   \n",
       "\n",
       "                                                                              8  \\\n",
       "mean_fit_time                                                          0.031127   \n",
       "std_fit_time                                                           0.000228   \n",
       "mean_score_time                                                             0.0   \n",
       "std_score_time                                                              0.0   \n",
       "param_clf__n_estimators                                                      50   \n",
       "param_clf__min_samples_split                                                0.3   \n",
       "param_clf__max_samples                                                      NaN   \n",
       "param_clf__max_features                                                    auto   \n",
       "param_clf__max_depth                                                          5   \n",
       "param_clf__criterion                                                    entropy   \n",
       "param_clf                                          GradientBoostingClassifier()   \n",
       "params                        {'clf__n_estimators': 50, 'clf__min_samples_sp...   \n",
       "split0_test_score                                                           NaN   \n",
       "split1_test_score                                                           NaN   \n",
       "split2_test_score                                                           NaN   \n",
       "mean_test_score                                                             NaN   \n",
       "std_test_score                                                              NaN   \n",
       "rank_test_score                                                              10   \n",
       "\n",
       "                                                                              9  \n",
       "mean_fit_time                                                          42.97133  \n",
       "std_fit_time                                                           1.269376  \n",
       "mean_score_time                                                        0.262459  \n",
       "std_score_time                                                         0.052953  \n",
       "param_clf__n_estimators                                                      50  \n",
       "param_clf__min_samples_split                                               0.38  \n",
       "param_clf__max_samples                                                      0.5  \n",
       "param_clf__max_features                                                    auto  \n",
       "param_clf__max_depth                                                          7  \n",
       "param_clf__criterion                                                    entropy  \n",
       "param_clf                     XGBClassifier(base_score=None, booster=None, c...  \n",
       "params                        {'clf__n_estimators': 50, 'clf__min_samples_sp...  \n",
       "split0_test_score                                                      0.927748  \n",
       "split1_test_score                                                      0.928902  \n",
       "split2_test_score                                                      0.926337  \n",
       "mean_test_score                                                        0.927662  \n",
       "std_test_score                                                         0.001049  \n",
       "rank_test_score                                                               2  "
      ]
     },
     "execution_count": 20,
     "metadata": {},
     "output_type": "execute_result"
    }
   ],
   "source": [
    "df_rs_res.head(10).T"
   ]
  },
  {
   "cell_type": "markdown",
   "id": "756c5b8d-d5c6-458a-bdb5-425b7f961dfe",
   "metadata": {},
   "source": [
    "Let's pickle the random search results."
   ]
  },
  {
   "cell_type": "code",
   "execution_count": 21,
   "id": "816b8fb0-751e-439f-a67c-955ffb0305c9",
   "metadata": {},
   "outputs": [
    {
     "data": {
      "text/plain": [
       "'./models/rs_results/classic_rs_1st_pass_20220507_0441.pickle'"
      ]
     },
     "metadata": {},
     "output_type": "display_data"
    }
   ],
   "source": [
    "str_ts = datetime.now().strftime(\"%Y%m%d_%H%M\")\n",
    "file_nm = 'classic_rs_1st_pass_' + str_ts\n",
    "file_path = './models/rs_results/' + file_nm + '.pickle'\n",
    "# pred_path = './predictions/test/' + file_nm + '.csv'\n",
    "\n",
    "display(file_path)\n",
    "\n",
    "with open(file_path, 'wb') as f:\n",
    "    # Pickle the 'data' dictionary using the highest protocol available.\n",
    "    pickle.dump(rs_results, f, pickle.HIGHEST_PROTOCOL)\n",
    "\n",
    "# Test loading pickle\n",
    "load_path = './models/rs_results/classic_rs_1st_pass_20220505_1544.pickle'\n",
    "\n",
    "with open(load_path, 'rb') as f:\n",
    "    # The protocol version used is detected automatically, so we do not\n",
    "    # have to specify it.\n",
    "    rs_rez_unpkl = pickle.load(f)    "
   ]
  },
  {
   "cell_type": "code",
   "execution_count": 22,
   "id": "12a0f625-5a83-449d-aa62-8d62f024c173",
   "metadata": {},
   "outputs": [
    {
     "data": {
      "text/plain": [
       "Pipeline(steps=[('clf',\n",
       "                 XGBClassifier(base_score=0.5, booster='gbtree',\n",
       "                               colsample_bylevel=1, colsample_bynode=1,\n",
       "                               colsample_bytree=1, criterion='entropy', gamma=0,\n",
       "                               gpu_id=-1, importance_type='gain',\n",
       "                               interaction_constraints='',\n",
       "                               learning_rate=0.300000012, max_delta_step=0,\n",
       "                               max_depth=8, max_features='sqrt',\n",
       "                               max_samples=0.25, min_child_weight=1,\n",
       "                               min_samples_split=0.18, missing=nan,\n",
       "                               monotone_constraints='()', n_estimators=50,\n",
       "                               n_jobs=16, num_parallel_tree=1, random_state=0,\n",
       "                               reg_alpha=0, reg_lambda=1, scale_pos_weight=1,\n",
       "                               subsample=1, tree_method='exact',\n",
       "                               validate_parameters=1, verbosity=None))])"
      ]
     },
     "execution_count": 22,
     "metadata": {},
     "output_type": "execute_result"
    }
   ],
   "source": [
    "rs_results.best_estimator_"
   ]
  },
  {
   "cell_type": "code",
   "execution_count": 23,
   "id": "0d6902c1-e94e-4fff-b452-bc7218580866",
   "metadata": {},
   "outputs": [
    {
     "data": {
      "text/plain": [
       "Pipeline(steps=[('clf',\n",
       "                 XGBClassifier(base_score=0.5, booster='gbtree',\n",
       "                               colsample_bylevel=1, colsample_bynode=1,\n",
       "                               colsample_bytree=1, criterion='entropy', gamma=0,\n",
       "                               gpu_id=-1, importance_type='gain',\n",
       "                               interaction_constraints='',\n",
       "                               learning_rate=0.300000012, max_delta_step=0,\n",
       "                               max_depth=7, max_features='auto',\n",
       "                               max_samples=0.5, min_child_weight=1,\n",
       "                               min_samples_split=0.4111111111111111,\n",
       "                               missing=nan, monotone_constraints='()',\n",
       "                               n_estimators=50, n_jobs=16, num_parallel_tree=1,\n",
       "                               random_state=0, reg_alpha=0, reg_lambda=1,\n",
       "                               scale_pos_weight=1, subsample=1,\n",
       "                               tree_method='exact', validate_parameters=1,\n",
       "                               verbosity=None))])"
      ]
     },
     "execution_count": 23,
     "metadata": {},
     "output_type": "execute_result"
    }
   ],
   "source": [
    "rs_rez_unpkl.best_estimator_"
   ]
  },
  {
   "cell_type": "markdown",
   "id": "17fd99a1-9555-4955-8200-4f11da1efd73",
   "metadata": {},
   "source": [
    "Good enough. Testing equality won't work using simple '=='"
   ]
  },
  {
   "cell_type": "markdown",
   "id": "2598e25e-1ad8-4dc3-862a-4deda729cbb2",
   "metadata": {},
   "source": [
    "#### Review Results\n",
    "\n",
    "Let's review the best model of the random selected models. Load from pickle if necessary."
   ]
  },
  {
   "cell_type": "code",
   "execution_count": 24,
   "id": "efbf91bb-8a74-48bc-9d9b-b69b760514ff",
   "metadata": {},
   "outputs": [
    {
     "name": "stdout",
     "output_type": "stream",
     "text": [
      "skipping\n"
     ]
    }
   ],
   "source": [
    "%%script echo skipping\n",
    "# Test loading pickle\n",
    "load_path = './models/rs_results/classic_rs_1st_pass_20220505_1544.pickle'\n",
    "\n",
    "with open(load_path, 'rb') as f:\n",
    "    # The protocol version used is detected automatically, so we do not\n",
    "    # have to specify it.\n",
    "    rs_results = pickle.load(f)    "
   ]
  },
  {
   "cell_type": "code",
   "execution_count": 25,
   "id": "929df2d8-cebc-495c-97bb-56f010cb8226",
   "metadata": {},
   "outputs": [
    {
     "data": {
      "text/plain": [
       "Pipeline(steps=[('clf',\n",
       "                 XGBClassifier(base_score=0.5, booster='gbtree',\n",
       "                               colsample_bylevel=1, colsample_bynode=1,\n",
       "                               colsample_bytree=1, criterion='entropy', gamma=0,\n",
       "                               gpu_id=-1, importance_type='gain',\n",
       "                               interaction_constraints='',\n",
       "                               learning_rate=0.300000012, max_delta_step=0,\n",
       "                               max_depth=8, max_features='sqrt',\n",
       "                               max_samples=0.25, min_child_weight=1,\n",
       "                               min_samples_split=0.18, missing=nan,\n",
       "                               monotone_constraints='()', n_estimators=50,\n",
       "                               n_jobs=16, num_parallel_tree=1, random_state=0,\n",
       "                               reg_alpha=0, reg_lambda=1, scale_pos_weight=1,\n",
       "                               subsample=1, tree_method='exact',\n",
       "                               validate_parameters=1, verbosity=None))])"
      ]
     },
     "execution_count": 25,
     "metadata": {},
     "output_type": "execute_result"
    }
   ],
   "source": [
    "rs_results.best_estimator_"
   ]
  },
  {
   "cell_type": "markdown",
   "id": "e8584335-2930-431d-99f6-331dadfd78ca",
   "metadata": {},
   "source": [
    "Let's look at the best accuracy score, and the parameters that produced them."
   ]
  },
  {
   "cell_type": "code",
   "execution_count": 26,
   "id": "56c3099d-76a6-4dd6-aa70-8d75e3146bcb",
   "metadata": {},
   "outputs": [
    {
     "data": {
      "text/plain": [
       "0.9277087406995835"
      ]
     },
     "metadata": {},
     "output_type": "display_data"
    },
    {
     "data": {
      "text/plain": [
       "{'clf__n_estimators': 50,\n",
       " 'clf__min_samples_split': 0.18,\n",
       " 'clf__max_samples': 0.25,\n",
       " 'clf__max_features': 'sqrt',\n",
       " 'clf__max_depth': 8,\n",
       " 'clf__criterion': 'entropy',\n",
       " 'clf': XGBClassifier(base_score=None, booster=None, colsample_bylevel=None,\n",
       "               colsample_bynode=None, colsample_bytree=None, criterion='entropy',\n",
       "               gamma=None, gpu_id=None, importance_type='gain',\n",
       "               interaction_constraints=None, learning_rate=None,\n",
       "               max_delta_step=None, max_depth=8, max_features='sqrt',\n",
       "               max_samples=0.25, min_child_weight=None, min_samples_split=0.18,\n",
       "               missing=nan, monotone_constraints=None, n_estimators=50,\n",
       "               n_jobs=None, num_parallel_tree=None, random_state=None,\n",
       "               reg_alpha=None, reg_lambda=None, scale_pos_weight=None,\n",
       "               subsample=None, tree_method=None, validate_parameters=None,\n",
       "               verbosity=None)}"
      ]
     },
     "metadata": {},
     "output_type": "display_data"
    }
   ],
   "source": [
    "display(rs_results.best_score_, rs_results.best_params_)"
   ]
  },
  {
   "cell_type": "markdown",
   "id": "52e0796f-d45d-40ff-a51d-b8946228714c",
   "metadata": {},
   "source": [
    "Let's look at it as an estimator object."
   ]
  },
  {
   "cell_type": "code",
   "execution_count": 27,
   "id": "a9e9216c-e0f7-4240-b526-27c2d59cba77",
   "metadata": {
    "tags": []
   },
   "outputs": [
    {
     "data": {
      "text/plain": [
       "Pipeline(steps=[('clf',\n",
       "                 XGBClassifier(base_score=0.5, booster='gbtree',\n",
       "                               colsample_bylevel=1, colsample_bynode=1,\n",
       "                               colsample_bytree=1, criterion='entropy', gamma=0,\n",
       "                               gpu_id=-1, importance_type='gain',\n",
       "                               interaction_constraints='',\n",
       "                               learning_rate=0.300000012, max_delta_step=0,\n",
       "                               max_depth=8, max_features='sqrt',\n",
       "                               max_samples=0.25, min_child_weight=1,\n",
       "                               min_samples_split=0.18, missing=nan,\n",
       "                               monotone_constraints='()', n_estimators=50,\n",
       "                               n_jobs=16, num_parallel_tree=1, random_state=0,\n",
       "                               reg_alpha=0, reg_lambda=1, scale_pos_weight=1,\n",
       "                               subsample=1, tree_method='exact',\n",
       "                               validate_parameters=1, verbosity=None))])"
      ]
     },
     "metadata": {},
     "output_type": "display_data"
    }
   ],
   "source": [
    "rs_best = rs_results.best_estimator_\n",
    "display(rs_best)"
   ]
  },
  {
   "cell_type": "markdown",
   "id": "3b471d22-cb85-4a0d-9675-19c8add3058e",
   "metadata": {},
   "source": [
    "Let's look at a high level plot of the model, to make sure it makes sense vis a vis the best params."
   ]
  },
  {
   "cell_type": "markdown",
   "id": "2d03e6e1-db8d-482b-8b7d-d895fa46da73",
   "metadata": {},
   "source": [
    "Now let's look at performance vs Test."
   ]
  },
  {
   "cell_type": "code",
   "execution_count": 28,
   "id": "824a10c9-3c11-47dc-a8a5-2375a2c961ee",
   "metadata": {},
   "outputs": [
    {
     "data": {
      "text/plain": [
       "'test accuracy: 0.9280829724185092'"
      ]
     },
     "metadata": {},
     "output_type": "display_data"
    },
    {
     "data": {
      "text/plain": [
       "'train accuracy: 0.9277087406995835'"
      ]
     },
     "metadata": {},
     "output_type": "display_data"
    }
   ],
   "source": [
    "display(f\"test accuracy: {rs_best.score(X_test, y_test)}\")\n",
    "display(f\"train accuracy: {rs_results.best_score_}\")"
   ]
  },
  {
   "cell_type": "markdown",
   "id": "03e66852-72db-426f-98d2-be1220b5b902",
   "metadata": {},
   "source": [
    "Consistent, and aligns. That Test score is a smidge higher than train is a little weird, but isn't egregiously so, so will go with it for now."
   ]
  },
  {
   "cell_type": "markdown",
   "id": "ab2ea030-2591-4ca3-b829-ba3b0af68100",
   "metadata": {},
   "source": [
    "Let's get some predictions and review some high level classification metrics:"
   ]
  },
  {
   "cell_type": "code",
   "execution_count": 29,
   "id": "fac1d3e6-fa28-4cd8-9fc8-2e17dcdebd7f",
   "metadata": {},
   "outputs": [],
   "source": [
    "rs_pred = rs_best.predict(X_test)"
   ]
  },
  {
   "cell_type": "markdown",
   "id": "341b590e-455f-4ebd-90b5-98aa6c97f9d9",
   "metadata": {},
   "source": [
    "*Confusion Matrix*"
   ]
  },
  {
   "cell_type": "code",
   "execution_count": 30,
   "id": "76fb661e-fc02-4ef3-9f28-82c5e8bee79e",
   "metadata": {},
   "outputs": [],
   "source": [
    "from sklearn.metrics import (confusion_matrix, precision_score, recall_score\n",
    "                             ,plot_roc_curve\n",
    "                            )"
   ]
  },
  {
   "cell_type": "code",
   "execution_count": 31,
   "id": "195d2d59-ff3f-4679-82ea-2679ec000be6",
   "metadata": {},
   "outputs": [
    {
     "data": {
      "text/plain": [
       "array([[45691,  2521],\n",
       "       [ 2527, 19453]])"
      ]
     },
     "metadata": {},
     "output_type": "display_data"
    }
   ],
   "source": [
    "cm = confusion_matrix(y_test, rs_pred)\n",
    "display(cm)"
   ]
  },
  {
   "cell_type": "markdown",
   "id": "0292f14c-7b50-4080-ab0b-53e08a3beda4",
   "metadata": {},
   "source": [
    "*Accuracy*"
   ]
  },
  {
   "cell_type": "code",
   "execution_count": 32,
   "id": "f21711f9-ec8b-4140-bcdc-ac6311466bdc",
   "metadata": {},
   "outputs": [
    {
     "data": {
      "text/plain": [
       "'What % of pitches did we correctly categorize?'"
      ]
     },
     "metadata": {},
     "output_type": "display_data"
    },
    {
     "data": {
      "text/plain": [
       "'test accuracy: 0.928'"
      ]
     },
     "metadata": {},
     "output_type": "display_data"
    }
   ],
   "source": [
    "display(\"What % of pitches did we correctly categorize?\")\n",
    "display(f\"test accuracy: {round(rs_best.score(X_test, y_test), 3)}\")"
   ]
  },
  {
   "cell_type": "markdown",
   "id": "5bb9aa10-00aa-4acc-a837-e6e961860d13",
   "metadata": {},
   "source": [
    "*Precision*"
   ]
  },
  {
   "cell_type": "code",
   "execution_count": 33,
   "id": "f4f6fb94-fb75-4ce7-ae51-e346e355561d",
   "metadata": {},
   "outputs": [
    {
     "data": {
      "text/plain": [
       "'What % predicted strikes did we get correct?'"
      ]
     },
     "metadata": {},
     "output_type": "display_data"
    },
    {
     "data": {
      "text/plain": [
       "'Positive Predictive Value: 0.88527'"
      ]
     },
     "metadata": {},
     "output_type": "display_data"
    }
   ],
   "source": [
    "precision = precision_score(y_test, rs_pred)\n",
    "display(\"What % predicted strikes did we get correct?\")\n",
    "display(f\"Positive Predictive Value: {round(precision,5)}\")"
   ]
  },
  {
   "cell_type": "markdown",
   "id": "4cfc7e9a-f72e-499c-a35c-16958c2a701e",
   "metadata": {},
   "source": [
    "*Recall*"
   ]
  },
  {
   "cell_type": "code",
   "execution_count": 34,
   "id": "b527f3fb-3f4e-4442-93cc-13bdd1c3335c",
   "metadata": {},
   "outputs": [
    {
     "data": {
      "text/plain": [
       "'What percent of actual strikes did we get capture?'"
      ]
     },
     "metadata": {},
     "output_type": "display_data"
    },
    {
     "data": {
      "text/plain": [
       "'True Positive Rate: 0.88503'"
      ]
     },
     "metadata": {},
     "output_type": "display_data"
    }
   ],
   "source": [
    "recall = recall_score(y_test, rs_pred)\n",
    "display(\"What percent of actual strikes did we get capture?\")\n",
    "display(f\"True Positive Rate: {round(recall, 5)}\")"
   ]
  },
  {
   "cell_type": "markdown",
   "id": "383452e8-766f-4136-ad3a-ef60ebcba0da",
   "metadata": {},
   "source": [
    "*ROC/AUC*"
   ]
  },
  {
   "cell_type": "code",
   "execution_count": 35,
   "id": "a5adb410-570d-49e9-bfdb-28d90c6ae77c",
   "metadata": {},
   "outputs": [
    {
     "data": {
      "image/png": "[encoded data removed]",
      "text/plain": [
       "<Figure size 432x288 with 1 Axes>"
      ]
     },
     "metadata": {
      "needs_background": "light"
     },
     "output_type": "display_data"
    }
   ],
   "source": [
    "fpr, tpr, thresholds = roc_curve(y_test, rs_best.predict_proba(X_test)[:,1])\n",
    "roc_auc = auc(fpr, tpr)\n",
    "roc_display = RocCurveDisplay(fpr=fpr, tpr=tpr, roc_auc=roc_auc)\n",
    "roc_display.plot()\n",
    "plt.show()"
   ]
  },
  {
   "cell_type": "markdown",
   "id": "4a64b5a0-47b6-4cf6-82ba-c851faa44042",
   "metadata": {},
   "source": [
    "AUC of 0.98!"
   ]
  },
  {
   "cell_type": "markdown",
   "id": "6a62359a-4dd0-49d8-9fbc-35a135606e83",
   "metadata": {},
   "source": []
  },
  {
   "cell_type": "markdown",
   "id": "0739cd97-0ee2-456e-b70e-508fe2d36df6",
   "metadata": {},
   "source": [
    "---  \n",
    "\n",
    "<span style=\"font-size:0.5em;\">Tag 5</span>\n",
    "\n",
    "### Summary <a id='summary'></a>\n",
    "\n",
    "<span style=\"font-size:0.5em;\"><a href='#toc'>Back to TOC</a></span>"
   ]
  },
  {
   "cell_type": "markdown",
   "id": "608bbb32-1917-4c56-b3c8-04e887944e16",
   "metadata": {},
   "source": [
    "Show best model again:"
   ]
  },
  {
   "cell_type": "code",
   "execution_count": 36,
   "id": "cfad45e8-fa40-4172-8656-90b0dbdf4b4f",
   "metadata": {},
   "outputs": [
    {
     "data": {
      "text/plain": [
       "<bound method Pipeline.get_params of Pipeline(steps=[('clf',\n",
       "                 XGBClassifier(base_score=0.5, booster='gbtree',\n",
       "                               colsample_bylevel=1, colsample_bynode=1,\n",
       "                               colsample_bytree=1, criterion='entropy', gamma=0,\n",
       "                               gpu_id=-1, importance_type='gain',\n",
       "                               interaction_constraints='',\n",
       "                               learning_rate=0.300000012, max_delta_step=0,\n",
       "                               max_depth=8, max_features='sqrt',\n",
       "                               max_samples=0.25, min_child_weight=1,\n",
       "                               min_samples_split=0.18, missing=nan,\n",
       "                               monotone_constraints='()', n_estimators=50,\n",
       "                               n_jobs=16, num_parallel_tree=1, random_state=0,\n",
       "                               reg_alpha=0, reg_lambda=1, scale_pos_weight=1,\n",
       "                               subsample=1, tree_method='exact',\n",
       "                               validate_parameters=1, verbosity=None))])>"
      ]
     },
     "execution_count": 36,
     "metadata": {},
     "output_type": "execute_result"
    }
   ],
   "source": [
    "rs_best.get_params"
   ]
  },
  {
   "cell_type": "markdown",
   "id": "cb3ce25a-e8fa-460a-83f2-34fa9b47f173",
   "metadata": {},
   "source": [
    "<span style=\"color:blue\">\n",
    "    \n",
    "Our metric of choice is Accuracy, and the best model found by the random search over **10** iterations had a:  \n",
    "\n",
    "- training accuracy of **0.928**\n",
    "- test accuracy was **0.928** as well\n",
    "    \n",
    "The best model is an **XGBoost classifier**.\n",
    "\n",
    "Other classification metrics for context are:\n",
    "- Precision/Positive Predictive Value: **0.885**\n",
    "- Recall/True Positive Rate: **0.885**\n",
    "- ROC AUC: **0.98**\n",
    "\n",
    "All these metrics I would consider to be very good performance, contigent on specific use case of ultimate customer(s). For example a requirement might that the customer might want to maximize PPV as much as possible and would like to target >0.90.\n",
    "    \n",
    "Also, note that these results are almost identical to what we arrived at on our <u>[first run of a neural network](./03_first_crude_neural_network.ipynb)</u>! \n",
    "    \n",
    "</span>"
   ]
  },
  {
   "cell_type": "markdown",
   "id": "643584af-d701-4d2a-a74b-d1d5aa74d837",
   "metadata": {},
   "source": [
    "---  \n",
    "\n",
    "<span style=\"font-size:0.5em;\">Tag 5</span>\n",
    "\n",
    "<a id='the_end'></a>\n",
    "\n",
    "<span style=\"font-size:0.5em;\"><a href='#toc'>Back to TOC</a></span>"
   ]
  },
  {
   "cell_type": "markdown",
   "id": "e9fc1490-d3b2-4169-83eb-69fc494a3bc7",
   "metadata": {
    "tags": []
   },
   "source": [
    "-----"
   ]
  }
 ],
 "metadata": {
  "kernelspec": {
   "display_name": "Python 3 (ipykernel)",
   "language": "python",
   "name": "python3"
  },
  "language_info": {
   "codemirror_mode": {
    "name": "ipython",
    "version": 3
   },
   "file_extension": ".py",
   "mimetype": "text/x-python",
   "name": "python",
   "nbconvert_exporter": "python",
   "pygments_lexer": "ipython3",
   "version": "3.8.10"
  },
  "toc-autonumbering": false,
  "toc-showmarkdowntxt": false,
  "widgets": {
   "application/vnd.jupyter.widget-state+json": {
    "state": {},
    "version_major": 2,
    "version_minor": 0
   }
  }
 },
 "nbformat": 4,
 "nbformat_minor": 5
}
