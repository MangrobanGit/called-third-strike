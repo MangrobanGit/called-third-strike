{
 "cells": [
  {
   "cell_type": "markdown",
   "id": "1d9a73fe-22ef-46f3-af36-3ed41d28fa72",
   "metadata": {},
   "source": [
    "# Called Third Strike\n",
    "## Part 3. First crude neural network  \n",
    "\n",
    "![](./resources/baseball_umpire_home_plate_1.jpg)\n",
    "\n",
    "This project's goal is to build probability models for as to whether a pitch will be called a strike or not. The intended models are to be:\n",
    "1. A neural network (NN) based approach.\n",
    "2. A non-NN based approach.\n",
    "\n",
    "---\n",
    "\n",
    "__**This Notebook's**__ objective is to quickly build a simple working neural network to give a baseline to compare against as we iterate versions. \n",
    "\n",
    "---"
   ]
  },
  {
   "cell_type": "markdown",
   "id": "7c603889-4d23-4c1d-8e4d-8d45d1a72da4",
   "metadata": {},
   "source": [
    "### Table of Contents\n",
    "\n",
    "<a href='#data_prep'>1. Data Preprocessing</a>"
   ]
  },
  {
   "cell_type": "markdown",
   "id": "4fcfd9aa-eac1-4789-af6d-cf5700a82979",
   "metadata": {},
   "source": [
    "---  \n",
    "<span style=\"font-size:0.5em;\">Tag 1</span>\n",
    "\n",
    "### Data Preprocessing<a id='data_prep'></a>"
   ]
  },
  {
   "cell_type": "markdown",
   "id": "053be28f-4156-45c6-8a93-99c50dd76e39",
   "metadata": {},
   "source": [
    "#### Libraries\n"
   ]
  },
  {
   "cell_type": "code",
   "execution_count": 45,
   "id": "4c906c26-4a32-4f38-b0a6-735f8c5546fa",
   "metadata": {},
   "outputs": [],
   "source": [
    "# Data wrangling\n",
    "import pandas as pd\n",
    "\n",
    "\n",
    "# ML\n",
    "from sklearn.preprocessing import StandardScaler\n",
    "from sklearn.model_selection import train_test_split\n",
    "\n",
    "# neural networks\n"
   ]
  },
  {
   "cell_type": "code",
   "execution_count": 8,
   "id": "4235d51d-3f56-4e33-8d19-5e50d579c210",
   "metadata": {},
   "outputs": [],
   "source": [
    "%%capture\n",
    "!pip install pydot"
   ]
  },
  {
   "cell_type": "markdown",
   "id": "a89fcaa6-0d3d-4120-b749-2e109cf21131",
   "metadata": {},
   "source": [
    "👆 Dependency for plot_model"
   ]
  },
  {
   "cell_type": "markdown",
   "id": "ada6a610-7ef5-4c9e-8a2f-c90a0bd97210",
   "metadata": {},
   "source": [
    "#### Data Import \n",
    "\n",
    "Retrieve the latest version of our train/test files that we built during [initial exploration](02_data_exploration.ipynb)."
   ]
  },
  {
   "cell_type": "code",
   "execution_count": 10,
   "id": "db6f0590-4c27-4af2-a4f0-398e7ec64eba",
   "metadata": {},
   "outputs": [],
   "source": [
    "df_train = pd.read_pickle('../data/train_enriched.pkl')\n",
    "df_test = pd.read_pickle('../data/test_enriched.pkl')"
   ]
  },
  {
   "cell_type": "markdown",
   "id": "fd0ae49b-1077-458e-9aff-6444a34941e0",
   "metadata": {},
   "source": [
    "Let's refamiliarize ourselves with the features."
   ]
  },
  {
   "cell_type": "code",
   "execution_count": 12,
   "id": "57bf1725-f4f9-4cd6-b2ea-57f7afd3f291",
   "metadata": {},
   "outputs": [
    {
     "name": "stdout",
     "output_type": "stream",
     "text": [
      "<class 'pandas.core.frame.DataFrame'>\n",
      "Int64Index: 353983 entries, 0 to 354038\n",
      "Data columns (total 31 columns):\n",
      " #   Column                Non-Null Count   Dtype         \n",
      "---  ------                --------------   -----         \n",
      " 0   pitch_id              353983 non-null  object        \n",
      " 1   inning                353983 non-null  int64         \n",
      " 2   side                  353983 non-null  object        \n",
      " 3   run_diff              353983 non-null  int64         \n",
      " 4   at_bat_index          353983 non-null  int64         \n",
      " 5   pitch_of_ab           353983 non-null  int64         \n",
      " 6   batter                353983 non-null  int64         \n",
      " 7   pitcher               353983 non-null  int64         \n",
      " 8   catcher               353983 non-null  int64         \n",
      " 9   umpire                353983 non-null  int64         \n",
      " 10  bside                 353983 non-null  object        \n",
      " 11  pside                 353983 non-null  object        \n",
      " 12  stringer_zone_bottom  353983 non-null  float64       \n",
      " 13  stringer_zone_top     353983 non-null  float64       \n",
      " 14  on_1b_mlbid           106990 non-null  float64       \n",
      " 15  on_2b_mlbid           64921 non-null   float64       \n",
      " 16  on_3b_mlbid           31466 non-null   float64       \n",
      " 17  outs                  353983 non-null  int64         \n",
      " 18  balls                 353983 non-null  int64         \n",
      " 19  strikes               353983 non-null  int64         \n",
      " 20  pitch_speed           353983 non-null  float64       \n",
      " 21  px                    353983 non-null  float64       \n",
      " 22  pz                    353983 non-null  float64       \n",
      " 23  break_x               353983 non-null  float64       \n",
      " 24  break_z               353983 non-null  float64       \n",
      " 25  angle_x               353983 non-null  float64       \n",
      " 26  angle_z               353983 non-null  float64       \n",
      " 27  pitch_type            353983 non-null  object        \n",
      " 28  strike_bool           353983 non-null  int64         \n",
      " 29  game_date_dt          353983 non-null  datetime64[ns]\n",
      " 30  strike_bool_tf        353983 non-null  bool          \n",
      "dtypes: bool(1), datetime64[ns](1), float64(12), int64(12), object(5)\n",
      "memory usage: 84.1+ MB\n"
     ]
    }
   ],
   "source": [
    "df_train.info()"
   ]
  },
  {
   "cell_type": "markdown",
   "id": "facec025-15e9-4d40-b4c5-d2a2d63088aa",
   "metadata": {},
   "source": [
    "For our initial super simple model, let's just pick four features: \n",
    "- `px` which is the horizontal location of the pitch at the plate\n",
    "- `pz` which is the vertical location\n",
    "- `stringer_zone_bottom` which is an estimate of current batter's strike zone bottom\n",
    "- `stringer_zone_top` which is an estimate of current batter's strike zone top"
   ]
  },
  {
   "cell_type": "code",
   "execution_count": 13,
   "id": "da4fd6e9-70fd-4bee-b321-40327d0787d5",
   "metadata": {},
   "outputs": [],
   "source": [
    "# Features selected\n",
    "feat_select = ['px', 'pz', 'stringer_zone_bottom', 'stringer_zone_top']"
   ]
  },
  {
   "cell_type": "markdown",
   "id": "66ef8983-f0bb-4951-a82f-9ae20d219ef8",
   "metadata": {},
   "source": [
    "Prep features:"
   ]
  },
  {
   "cell_type": "code",
   "execution_count": 41,
   "id": "a870a134-c23f-476d-8d1f-fb10344aa06d",
   "metadata": {},
   "outputs": [
    {
     "name": "stdout",
     "output_type": "stream",
     "text": [
      "<class 'pandas.core.frame.DataFrame'>\n",
      "Int64Index: 353983 entries, 0 to 354038\n",
      "Data columns (total 4 columns):\n",
      " #   Column                Non-Null Count   Dtype  \n",
      "---  ------                --------------   -----  \n",
      " 0   px                    353983 non-null  float64\n",
      " 1   pz                    353983 non-null  float64\n",
      " 2   stringer_zone_bottom  353983 non-null  float64\n",
      " 3   stringer_zone_top     353983 non-null  float64\n",
      "dtypes: float64(4)\n",
      "memory usage: 21.6 MB\n"
     ]
    },
    {
     "data": {
      "text/plain": [
       "None"
      ]
     },
     "metadata": {},
     "output_type": "display_data"
    }
   ],
   "source": [
    "# Get just the selected features\n",
    "df_X = df_train[feat_select]\n",
    "display(df_X.info())"
   ]
  },
  {
   "cell_type": "markdown",
   "id": "f43c5958-97aa-4029-9b66-ad53b6af2685",
   "metadata": {},
   "source": [
    "While we are at it, let's prep our targets:"
   ]
  },
  {
   "cell_type": "code",
   "execution_count": 42,
   "id": "b27c2cf9-f12a-4324-898a-55e08e6b5e64",
   "metadata": {},
   "outputs": [
    {
     "name": "stdout",
     "output_type": "stream",
     "text": [
      "<class 'pandas.core.frame.DataFrame'>\n",
      "Int64Index: 353983 entries, 0 to 354038\n",
      "Data columns (total 1 columns):\n",
      " #   Column       Non-Null Count   Dtype\n",
      "---  ------       --------------   -----\n",
      " 0   strike_bool  353983 non-null  int64\n",
      "dtypes: int64(1)\n",
      "memory usage: 13.5 MB\n"
     ]
    },
    {
     "data": {
      "text/plain": [
       "None"
      ]
     },
     "metadata": {},
     "output_type": "display_data"
    }
   ],
   "source": [
    "df_y = df_train['strike_bool']\n",
    "display(pd.DataFrame(df_y).info())"
   ]
  },
  {
   "cell_type": "markdown",
   "id": "6ddb78e3-d580-4bef-bfa4-d8abfb1c82e8",
   "metadata": {},
   "source": [
    "For a neural network we will need to numerically represent our data (e.g. one-hot-encode any categorical features), as well as scale/normalize the data."
   ]
  },
  {
   "cell_type": "code",
   "execution_count": 44,
   "id": "e0e89560-8f67-42d3-b8ac-ad180c37d2a1",
   "metadata": {},
   "outputs": [],
   "source": [
    "scaler = StandardScaler()\n",
    "X_scaled = scaler.fit_transform(df_X)"
   ]
  },
  {
   "cell_type": "markdown",
   "id": "b1df893b-0426-4e54-aeb4-705801addc5c",
   "metadata": {},
   "source": [
    "Create train/test splits"
   ]
  },
  {
   "cell_type": "code",
   "execution_count": 53,
   "id": "37efe2d2-1e8c-405f-9fed-b99c75d527a2",
   "metadata": {},
   "outputs": [],
   "source": [
    "X_train, X_test, y_train, y_test = train_test_split(X_scaled, df_y, test_size=0.20, stratify=df_y)"
   ]
  },
  {
   "cell_type": "code",
   "execution_count": 50,
   "id": "451d68c5-95a3-4e3e-99ed-20e43122b652",
   "metadata": {},
   "outputs": [
    {
     "name": "stdout",
     "output_type": "stream",
     "text": [
      "Model: \"sequential_8\"\n",
      "_________________________________________________________________\n",
      " Layer (type)                Output Shape              Param #   \n",
      "=================================================================\n",
      " dense_16 (Dense)            (None, 10)                50        \n",
      "                                                                 \n",
      " dense_17 (Dense)            (None, 1)                 11        \n",
      "                                                                 \n",
      "=================================================================\n",
      "Total params: 61\n",
      "Trainable params: 61\n",
      "Non-trainable params: 0\n",
      "_________________________________________________________________\n"
     ]
    },
    {
     "data": {
      "image/png": "[encoded data removed]",
      "text/plain": [
       "<IPython.core.display.Image object>"
      ]
     },
     "execution_count": 50,
     "metadata": {},
     "output_type": "execute_result"
    }
   ],
   "source": [
    "# Import the Sequential model and Dense layer\n",
    "from keras.models import Sequential\n",
    "from keras.layers import Dense\n",
    "from keras.utils.vis_utils import plot_model\n",
    "\n",
    "# Create a Sequential model\n",
    "model = Sequential()\n",
    "\n",
    "# Add an input layer and a hidden layer with 10 neurons\n",
    "model.add(Dense(10, input_shape=(4,), activation=\"sigmoid\"))\n",
    "\n",
    "# Add a 1-neuron output layer\n",
    "model.add(Dense(1, activation=\"sigmoid\"))\n",
    "\n",
    "# Compile your model\n",
    "model.compile(loss='binary_crossentropy', optimizer='adam', metrics=['accuracy'])\n",
    "\n",
    "# Summarise your model\n",
    "model.summary()\n",
    "\n",
    "plot_model(model)"
   ]
  },
  {
   "cell_type": "code",
   "execution_count": 51,
   "id": "fe7ec8c3-7d81-4886-b39d-68bd1e9b6c59",
   "metadata": {},
   "outputs": [
    {
     "name": "stdout",
     "output_type": "stream",
     "text": [
      "Epoch 1/5\n",
      "7965/7965 [==============================] - 8s 1ms/step - loss: 0.5236 - accuracy: 0.7400 - val_loss: 0.3427 - val_accuracy: 0.8948\n",
      "Epoch 2/5\n",
      "7965/7965 [==============================] - 8s 1ms/step - loss: 0.2507 - accuracy: 0.9118 - val_loss: 0.2065 - val_accuracy: 0.9166\n",
      "Epoch 3/5\n",
      "7965/7965 [==============================] - 8s 1ms/step - loss: 0.1938 - accuracy: 0.9196 - val_loss: 0.1882 - val_accuracy: 0.9205\n",
      "Epoch 4/5\n",
      "7965/7965 [==============================] - 8s 998us/step - loss: 0.1824 - accuracy: 0.9232 - val_loss: 0.1812 - val_accuracy: 0.9238\n",
      "Epoch 5/5\n",
      "7965/7965 [==============================] - 8s 991us/step - loss: 0.1769 - accuracy: 0.9249 - val_loss: 0.1769 - val_accuracy: 0.9254\n"
     ]
    },
    {
     "data": {
      "text/plain": [
       "<keras.callbacks.History at 0x7efdf786e8b0>"
      ]
     },
     "execution_count": 51,
     "metadata": {},
     "output_type": "execute_result"
    }
   ],
   "source": [
    "# Train your model\n",
    "n_epochs = 5\n",
    "model.fit(X_train, y_train, epochs = n_epochs, validation_split=0.10)"
   ]
  },
  {
   "cell_type": "code",
   "execution_count": 54,
   "id": "1f17c33f-6312-4dbc-85a7-dbb6c0f15da1",
   "metadata": {
    "tags": []
   },
   "outputs": [
    {
     "name": "stdout",
     "output_type": "stream",
     "text": [
      "2213/2213 [==============================] - 2s 774us/step - loss: 0.1754 - accuracy: 0.9246\n",
      "Accuracy: 0.9245730638504028\n"
     ]
    }
   ],
   "source": [
    "# Evaluate your model accuracy on the test set\n",
    "accuracy = model.evaluate(X_test, y_test)[1]\n",
    "\n",
    "# Print accuracy\n",
    "print('Accuracy:', accuracy)"
   ]
  }
 ],
 "metadata": {
  "kernelspec": {
   "display_name": "Python 3 (ipykernel)",
   "language": "python",
   "name": "python3"
  },
  "language_info": {
   "codemirror_mode": {
    "name": "ipython",
    "version": 3
   },
   "file_extension": ".py",
   "mimetype": "text/x-python",
   "name": "python",
   "nbconvert_exporter": "python",
   "pygments_lexer": "ipython3",
   "version": "3.8.10"
  }
 },
 "nbformat": 4,
 "nbformat_minor": 5
}
