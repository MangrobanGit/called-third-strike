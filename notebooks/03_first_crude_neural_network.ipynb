{
 "cells": [
  {
   "cell_type": "markdown",
   "id": "1d9a73fe-22ef-46f3-af36-3ed41d28fa72",
   "metadata": {},
   "source": [
    "# Called Third Strike\n",
    "## Part 3. First crude neural network  \n",
    "\n",
    "![](./resources/baseball_umpire_home_plate_1.jpg)\n",
    "\n",
    "This project's goal is to build probability models for as to whether a pitch will be called a strike or not. The intended models are to be:\n",
    "1. A neural network (NN) based approach.\n",
    "2. A non-NN based approach.\n",
    "\n",
    "---\n",
    "\n",
    "__**This Notebook's**__ objective is to quickly build a simple working neural network to give a baseline to compare against as we iterate versions. \n",
    "\n",
    "---\n",
    "---"
   ]
  },
  {
   "cell_type": "markdown",
   "id": "7c603889-4d23-4c1d-8e4d-8d45d1a72da4",
   "metadata": {},
   "source": [
    "### Table of Contents<a id='toc'></a>\n",
    "\n",
    "<a href='#data_prep'>1. Data Preprocessing</a>\n",
    "\n",
    "<a href='#build_model'>2. Build Model</a>\n",
    "\n",
    "<a href='#random_search'>3. Random Hyperparameter Search</a>\n",
    "\n",
    "...\n",
    "\n",
    "<a href='#the_end'>Go to the End</a>\n",
    "\n",
    "---"
   ]
  },
  {
   "cell_type": "markdown",
   "id": "4fcfd9aa-eac1-4789-af6d-cf5700a82979",
   "metadata": {},
   "source": [
    "---  \n",
    "\n",
    "<span style=\"font-size:0.5em;\">Tag 1</span>\n",
    "\n",
    "### Data Preprocessing<a id='data_prep'></a>\n",
    "\n",
    "<span style=\"font-size:0.5em;\"><a href='#toc'>Back to TOC</a></span>\n"
   ]
  },
  {
   "cell_type": "markdown",
   "id": "053be28f-4156-45c6-8a93-99c50dd76e39",
   "metadata": {},
   "source": [
    "#### Libraries\n"
   ]
  },
  {
   "cell_type": "code",
   "execution_count": null,
   "id": "f5160888-b331-4e47-b996-09fdac316630",
   "metadata": {},
   "outputs": [
    {
     "name": "stderr",
     "output_type": "stream",
     "text": [
      "2022-05-05 05:18:03.203472: W tensorflow/stream_executor/platform/default/dso_loader.cc:64] Could not load dynamic library 'libcudart.so.11.0'; dlerror: libcudart.so.11.0: cannot open shared object file: No such file or directory\n",
      "2022-05-05 05:18:03.203504: I tensorflow/stream_executor/cuda/cudart_stub.cc:29] Ignore above cudart dlerror if you do not have a GPU set up on your machine.\n"
     ]
    }
   ],
   "source": [
    "# Data wrangling and operations\n",
    "import pandas as pd\n",
    "import numpy as np\n",
    "from datetime import datetime\n",
    " \n",
    "# Visualization\n",
    "import matplotlib.pyplot as plt\n",
    "import seaborn as sns\n",
    "\n",
    "# ML\n",
    "from sklearn.preprocessing import StandardScaler\n",
    "from sklearn.model_selection import train_test_split\n",
    "from sklearn.model_selection import RandomizedSearchCV\n",
    "from sklearn.metrics import confusion_matrix\n",
    "from sklearn.metrics import recall_score, precision_score, plot_roc_curve\n",
    "\n",
    "# neural networks\n",
    "# Kera Sequential model\n",
    "import tensorflow as tf\n",
    "from tensorflow import keras\n",
    "from keras.models import Sequential\n",
    "from keras.layers import Dense\n",
    "from keras.utils.vis_utils import plot_model\n",
    "from tensorflow.keras.optimizers import Adam\n",
    "from keras.wrappers.scikit_learn import KerasClassifier"
   ]
  },
  {
   "cell_type": "markdown",
   "id": "f366fe65-9e8c-48c3-83e4-6e40a4bf4255",
   "metadata": {},
   "source": [
    "Import the following packages, if needed (not included in default packages on the platform I'm currently using)"
   ]
  },
  {
   "cell_type": "code",
   "execution_count": null,
   "id": "6e2a5092-a87d-4af1-868b-97c6f4dfcb0a",
   "metadata": {},
   "outputs": [],
   "source": [
    "%%capture\n",
    "try:\n",
    "    import scikeras\n",
    "except ImportError:\n",
    "    !pip install scikeras[tensorflow]\n",
    "    !python -m pip install scikeras[tensorflow]\n",
    "except ModuleNotFoundError:\n",
    "    !pip install scikeras[tensorflow]\n",
    "    # !python -m pip install scikeras[tensorflow]"
   ]
  },
  {
   "cell_type": "code",
   "execution_count": null,
   "id": "bc27de91-8da2-49f4-ad63-207e6fe540e3",
   "metadata": {},
   "outputs": [],
   "source": [
    "from scikeras.wrappers import KerasClassifier"
   ]
  },
  {
   "cell_type": "code",
   "execution_count": null,
   "id": "1e9bd03a-eda1-46b0-af5a-897338588c68",
   "metadata": {},
   "outputs": [],
   "source": [
    "# Dependency for plot_model function"
   ]
  },
  {
   "cell_type": "code",
   "execution_count": null,
   "id": "240fcd46-46e3-4934-a176-522acba3f6a6",
   "metadata": {},
   "outputs": [],
   "source": [
    "%%capture\n",
    "try:\n",
    "    import pydot\n",
    "except ImportError:\n",
    "    !pip install pydot"
   ]
  },
  {
   "cell_type": "markdown",
   "id": "987afa32-26cc-421f-bfdd-dd2cd8a29e62",
   "metadata": {},
   "source": [
    "---\n",
    "\n",
    "#### Data Import \n",
    "\n",
    "Retrieve the latest version of our train/test files that we built during [initial exploration](02_data_exploration.ipynb)."
   ]
  },
  {
   "cell_type": "code",
   "execution_count": null,
   "id": "db6f0590-4c27-4af2-a4f0-398e7ec64eba",
   "metadata": {},
   "outputs": [],
   "source": [
    "df_train = pd.read_pickle('../data/train_enriched.pkl')\n",
    "df_test = pd.read_pickle('../data/test_enriched.pkl')"
   ]
  },
  {
   "cell_type": "markdown",
   "id": "fd0ae49b-1077-458e-9aff-6444a34941e0",
   "metadata": {},
   "source": [
    "Let's refamiliarize ourselves with the features."
   ]
  },
  {
   "cell_type": "code",
   "execution_count": null,
   "id": "57bf1725-f4f9-4cd6-b2ea-57f7afd3f291",
   "metadata": {},
   "outputs": [
    {
     "name": "stdout",
     "output_type": "stream",
     "text": [
      "<class 'pandas.core.frame.DataFrame'>\n",
      "Int64Index: 353983 entries, 0 to 354038\n",
      "Data columns (total 31 columns):\n",
      " #   Column                Non-Null Count   Dtype         \n",
      "---  ------                --------------   -----         \n",
      " 0   pitch_id              353983 non-null  object        \n",
      " 1   inning                353983 non-null  int64         \n",
      " 2   side                  353983 non-null  object        \n",
      " 3   run_diff              353983 non-null  int64         \n",
      " 4   at_bat_index          353983 non-null  int64         \n",
      " 5   pitch_of_ab           353983 non-null  int64         \n",
      " 6   batter                353983 non-null  int64         \n",
      " 7   pitcher               353983 non-null  int64         \n",
      " 8   catcher               353983 non-null  int64         \n",
      " 9   umpire                353983 non-null  int64         \n",
      " 10  bside                 353983 non-null  object        \n",
      " 11  pside                 353983 non-null  object        \n",
      " 12  stringer_zone_bottom  353983 non-null  float64       \n",
      " 13  stringer_zone_top     353983 non-null  float64       \n",
      " 14  on_1b_mlbid           106990 non-null  float64       \n",
      " 15  on_2b_mlbid           64921 non-null   float64       \n",
      " 16  on_3b_mlbid           31466 non-null   float64       \n",
      " 17  outs                  353983 non-null  int64         \n",
      " 18  balls                 353983 non-null  int64         \n",
      " 19  strikes               353983 non-null  int64         \n",
      " 20  pitch_speed           353983 non-null  float64       \n",
      " 21  px                    353983 non-null  float64       \n",
      " 22  pz                    353983 non-null  float64       \n",
      " 23  break_x               353983 non-null  float64       \n",
      " 24  break_z               353983 non-null  float64       \n",
      " 25  angle_x               353983 non-null  float64       \n",
      " 26  angle_z               353983 non-null  float64       \n",
      " 27  pitch_type            353983 non-null  object        \n",
      " 28  strike_bool           353983 non-null  int64         \n",
      " 29  game_date_dt          353983 non-null  datetime64[ns]\n",
      " 30  strike_bool_tf        353983 non-null  bool          \n",
      "dtypes: bool(1), datetime64[ns](1), float64(12), int64(12), object(5)\n",
      "memory usage: 84.1+ MB\n"
     ]
    }
   ],
   "source": [
    "df_train.info()"
   ]
  },
  {
   "cell_type": "markdown",
   "id": "f08da1ab-1889-48b3-bf3a-e83f1f76e153",
   "metadata": {},
   "source": [
    "---\n",
    "\n",
    "#### Feature Selection and Prep\n",
    "\n",
    "Select features:"
   ]
  },
  {
   "cell_type": "markdown",
   "id": "facec025-15e9-4d40-b4c5-d2a2d63088aa",
   "metadata": {},
   "source": [
    "For our initial super simple model, let's just pick four features: \n",
    "- `px` which is the horizontal location of the pitch at the plate\n",
    "- `pz` which is the vertical location\n",
    "- `stringer_zone_bottom` which is an estimate of current batter's strike zone bottom\n",
    "- `stringer_zone_top` which is an estimate of current batter's strike zone top"
   ]
  },
  {
   "cell_type": "code",
   "execution_count": null,
   "id": "da4fd6e9-70fd-4bee-b321-40327d0787d5",
   "metadata": {},
   "outputs": [],
   "source": [
    "# Features selected\n",
    "feat_select = ['px', 'pz', 'stringer_zone_bottom', 'stringer_zone_top']"
   ]
  },
  {
   "cell_type": "markdown",
   "id": "66ef8983-f0bb-4951-a82f-9ae20d219ef8",
   "metadata": {},
   "source": [
    "Prep features:"
   ]
  },
  {
   "cell_type": "code",
   "execution_count": null,
   "id": "a870a134-c23f-476d-8d1f-fb10344aa06d",
   "metadata": {},
   "outputs": [
    {
     "name": "stdout",
     "output_type": "stream",
     "text": [
      "<class 'pandas.core.frame.DataFrame'>\n",
      "Int64Index: 353983 entries, 0 to 354038\n",
      "Data columns (total 4 columns):\n",
      " #   Column                Non-Null Count   Dtype  \n",
      "---  ------                --------------   -----  \n",
      " 0   px                    353983 non-null  float64\n",
      " 1   pz                    353983 non-null  float64\n",
      " 2   stringer_zone_bottom  353983 non-null  float64\n",
      " 3   stringer_zone_top     353983 non-null  float64\n",
      "dtypes: float64(4)\n",
      "memory usage: 13.5 MB\n"
     ]
    },
    {
     "data": {
      "text/plain": [
       "None"
      ]
     },
     "metadata": {},
     "output_type": "display_data"
    }
   ],
   "source": [
    "# Get just the selected features\n",
    "df_X = df_train[feat_select]\n",
    "display(df_X.info())"
   ]
  },
  {
   "cell_type": "markdown",
   "id": "f43c5958-97aa-4029-9b66-ad53b6af2685",
   "metadata": {},
   "source": [
    "While we are at it, let's prep our targets:"
   ]
  },
  {
   "cell_type": "code",
   "execution_count": null,
   "id": "b27c2cf9-f12a-4324-898a-55e08e6b5e64",
   "metadata": {},
   "outputs": [
    {
     "name": "stdout",
     "output_type": "stream",
     "text": [
      "<class 'pandas.core.frame.DataFrame'>\n",
      "Int64Index: 353983 entries, 0 to 354038\n",
      "Data columns (total 1 columns):\n",
      " #   Column       Non-Null Count   Dtype\n",
      "---  ------       --------------   -----\n",
      " 0   strike_bool  353983 non-null  int64\n",
      "dtypes: int64(1)\n",
      "memory usage: 5.4 MB\n"
     ]
    },
    {
     "data": {
      "text/plain": [
       "None"
      ]
     },
     "metadata": {},
     "output_type": "display_data"
    }
   ],
   "source": [
    "df_y = df_train['strike_bool']\n",
    "display(pd.DataFrame(df_y).info())"
   ]
  },
  {
   "cell_type": "markdown",
   "id": "c990a31b-d553-4227-9fdd-b946e3b9bd39",
   "metadata": {},
   "source": [
    "---\n",
    "\n",
    "#### Feature Engineering\n",
    "\n",
    "Select features:"
   ]
  },
  {
   "cell_type": "markdown",
   "id": "6ddb78e3-d580-4bef-bfa4-d8abfb1c82e8",
   "metadata": {},
   "source": [
    "For a neural network we will need to numerically represent our data (e.g. one-hot-encode any categorical features), as well as scale/normalize the data. \n",
    "\n",
    "All the selected features for this round are numerical, so we don't have to worry about encoding any categories. For scaling I'm choosing to *standardize*."
   ]
  },
  {
   "cell_type": "code",
   "execution_count": null,
   "id": "e0e89560-8f67-42d3-b8ac-ad180c37d2a1",
   "metadata": {},
   "outputs": [],
   "source": [
    "scaler = StandardScaler()\n",
    "X_scaled = scaler.fit_transform(df_X)"
   ]
  },
  {
   "cell_type": "markdown",
   "id": "4963c4a1-afb4-46c0-9f5d-454f548aeed9",
   "metadata": {},
   "source": [
    "---\n",
    "\n",
    "#### Train / Test\n",
    "\n",
    "\n",
    "Create train/test splits.\n",
    "\n",
    "Breakout parameters for easy access."
   ]
  },
  {
   "cell_type": "code",
   "execution_count": null,
   "id": "d876b0d8-23b2-4104-bf0b-95dfe8bf6c3c",
   "metadata": {},
   "outputs": [],
   "source": [
    "# Parameters\n",
    "test_size = 0.20\n",
    "random_state = 24"
   ]
  },
  {
   "cell_type": "code",
   "execution_count": null,
   "id": "37efe2d2-1e8c-405f-9fed-b99c75d527a2",
   "metadata": {},
   "outputs": [],
   "source": [
    "X_train, X_test, y_train, y_test = train_test_split(X_scaled, df_y, test_size=test_size\n",
    "                                                    ,stratify=df_y,random_state = 24)"
   ]
  },
  {
   "cell_type": "markdown",
   "id": "e479dfc0-7a7c-4456-b3d9-1f54218ea289",
   "metadata": {},
   "source": [
    "---  \n",
    "\n",
    "<span style=\"font-size:0.5em;\">Tag 2</span>\n",
    "\n",
    "### Build Model<a id='build_model'></a>\n",
    "\n",
    "<span style=\"font-size:0.5em;\"><a href='#toc'>Back to TOC</a></span>"
   ]
  },
  {
   "cell_type": "markdown",
   "id": "6d0cf42b-b297-4773-b486-a3f634f56aff",
   "metadata": {},
   "source": [
    "---\n",
    "\n",
    "#### First Neural Network Model\n",
    "\n",
    "Let's set up our initial parameters and build our models.\n",
    "\n",
    "We will use the Kera Sequential model."
   ]
  },
  {
   "cell_type": "code",
   "execution_count": null,
   "id": "01880783-1cad-489a-b799-3657c70443e0",
   "metadata": {},
   "outputs": [],
   "source": [
    "# Initial Parameters\n",
    "num_inputs = X_train.shape[1]\n",
    "num_units_dense_1 = 2\n",
    "num_outputs = 1\n",
    "activ_dense = 'sigmoid'\n",
    "activ_output = 'sigmoid'\n",
    "\n",
    "n_epochs = 2\n",
    "val_split = 0.10"
   ]
  },
  {
   "cell_type": "code",
   "execution_count": null,
   "id": "451d68c5-95a3-4e3e-99ed-20e43122b652",
   "metadata": {
    "tags": []
   },
   "outputs": [
    {
     "name": "stdout",
     "output_type": "stream",
     "text": [
      "Model: \"seq_model_strike\"\n",
      "_________________________________________________________________\n",
      " Layer (type)                Output Shape              Param #   \n",
      "=================================================================\n",
      " Hidden_1 (Dense)            (None, 2)                 10        \n",
      "                                                                 \n",
      " Output (Dense)              (None, 1)                 3         \n",
      "                                                                 \n",
      "=================================================================\n",
      "Total params: 13\n",
      "Trainable params: 13\n",
      "Non-trainable params: 0\n",
      "_________________________________________________________________\n"
     ]
    },
    {
     "name": "stderr",
     "output_type": "stream",
     "text": [
      "2022-05-05 05:18:05.183925: W tensorflow/stream_executor/platform/default/dso_loader.cc:64] Could not load dynamic library 'libcuda.so.1'; dlerror: libcuda.so.1: cannot open shared object file: No such file or directory\n",
      "2022-05-05 05:18:05.183956: W tensorflow/stream_executor/cuda/cuda_driver.cc:269] failed call to cuInit: UNKNOWN ERROR (303)\n",
      "2022-05-05 05:18:05.183979: I tensorflow/stream_executor/cuda/cuda_diagnostics.cc:156] kernel driver does not appear to be running on this host (821614c2-1bd8-45b3-b852-7aa4cffe7bf4): /proc/driver/nvidia/version does not exist\n",
      "2022-05-05 05:18:05.184186: I tensorflow/core/platform/cpu_feature_guard.cc:151] This TensorFlow binary is optimized with oneAPI Deep Neural Network Library (oneDNN) to use the following CPU instructions in performance-critical operations:  AVX2 AVX512F FMA\n",
      "To enable them in other operations, rebuild TensorFlow with the appropriate compiler flags.\n"
     ]
    },
    {
     "data": {
      "image/png": "[encoded data removed]",
      "text/plain": [
       "<IPython.core.display.Image object>"
      ]
     },
     "execution_count": 15,
     "metadata": {},
     "output_type": "execute_result"
    }
   ],
   "source": [
    "# Create a Sequential model\n",
    "model = Sequential(name='seq_model_strike')\n",
    "\n",
    "# Add an input layer and a hidden layer with 10 neurons\n",
    "model.add(Dense(num_units_dense_1, input_shape=(num_inputs,)\n",
    "                ,activation=activ_dense, name='Hidden_1'))\n",
    "\n",
    "# Add a 1-neuron output layer\n",
    "model.add(Dense(num_outputs, activation=activ_output, name='Output'))\n",
    "\n",
    "# Compile your model\n",
    "model.compile(loss='binary_crossentropy', optimizer='adam'\n",
    "              ,metrics=['accuracy']\n",
    "             )\n",
    "\n",
    "# Summarise your model\n",
    "model.summary()\n",
    "\n",
    "plot_model(model)"
   ]
  },
  {
   "cell_type": "code",
   "execution_count": null,
   "id": "ff10c672-e2ed-4de6-9186-c4eacd575a22",
   "metadata": {},
   "outputs": [
    {
     "data": {
      "text/plain": [
       "'To keep it realtively simple, we chose to use 2 nodes in 1 hidden layer.'"
      ]
     },
     "execution_count": 16,
     "metadata": {},
     "output_type": "execute_result"
    }
   ],
   "source": [
    "f\"To keep it realtively simple, we chose to use {num_units_dense_1} nodes in 1 hidden layer.\""
   ]
  },
  {
   "cell_type": "markdown",
   "id": "6f74e14c-d46d-4183-9ccd-515e705d45ba",
   "metadata": {},
   "source": [
    "---\n",
    "\n",
    "#### Model training\n",
    "\n",
    "We will save the model `History`."
   ]
  },
  {
   "cell_type": "code",
   "execution_count": null,
   "id": "fe7ec8c3-7d81-4886-b39d-68bd1e9b6c59",
   "metadata": {},
   "outputs": [
    {
     "name": "stdout",
     "output_type": "stream",
     "text": [
      "Epoch 1/2\n",
      "7965/7965 [==============================] - 8s 966us/step - loss: 0.6066 - accuracy: 0.6853 - val_loss: 0.5482 - val_accuracy: 0.6835\n",
      "Epoch 2/2\n",
      "7965/7965 [==============================] - 8s 973us/step - loss: 0.4726 - accuracy: 0.7484 - val_loss: 0.4448 - val_accuracy: 0.7697\n"
     ]
    }
   ],
   "source": [
    "# Train model\n",
    "mod_hist =  model.fit(X_train, y_train, epochs = n_epochs\n",
    "                        ,validation_split=val_split)"
   ]
  },
  {
   "cell_type": "markdown",
   "id": "8b180f94-44b2-455f-85d6-b3bad781dc28",
   "metadata": {},
   "source": [
    "Not too bad through 2 epochs. Kind of weird that train accuracy is lower than validation accuracy, but we won't worry too much about it right now; only if we keep seeing it consistently in subsequent runs/tuning.\n",
    "\n",
    "Let's convert the history to a `DataFrame` for easier manipulation."
   ]
  },
  {
   "cell_type": "code",
   "execution_count": null,
   "id": "533134d1-2272-4da3-a7c4-7f8533ad0e05",
   "metadata": {},
   "outputs": [],
   "source": [
    "df_mod_history = (pd.DataFrame(mod_hist.history).reset_index()\n",
    "                  .rename(columns={'index': 'epoch', 'loss': 'train_loss'\n",
    "                                   ,'accuracy': 'train_accuracy'}) \n",
    "                 )"
   ]
  },
  {
   "cell_type": "code",
   "execution_count": null,
   "id": "e9800390-16ea-4f95-918b-f56b0abe9a69",
   "metadata": {},
   "outputs": [
    {
     "data": {
      "application/com.datacamp.data-table.v1+json": {
       "is_truncated": false,
       "table": {
        "data": [
         {
          "epoch": 0,
          "index": 0,
          "train_accuracy": 0.6852711439,
          "train_loss": 0.6066198349,
          "val_accuracy": 0.6835340261,
          "val_loss": 0.5481995344
         },
         {
          "epoch": 1,
          "index": 1,
          "train_accuracy": 0.7483942509,
          "train_loss": 0.4726217091,
          "val_accuracy": 0.7696599364,
          "val_loss": 0.4447545409
         }
        ],
        "schema": {
         "fields": [
          {
           "name": "index",
           "type": "integer"
          },
          {
           "name": "epoch",
           "type": "integer"
          },
          {
           "name": "train_loss",
           "type": "number"
          },
          {
           "name": "train_accuracy",
           "type": "number"
          },
          {
           "name": "val_loss",
           "type": "number"
          },
          {
           "name": "val_accuracy",
           "type": "number"
          }
         ],
         "pandas_version": "1.4.0",
         "primaryKey": [
          "index"
         ]
        }
       },
       "total_rows": 2
      },
      "text/html": [
       "<div>\n",
       "<style scoped>\n",
       "    .dataframe tbody tr th:only-of-type {\n",
       "        vertical-align: middle;\n",
       "    }\n",
       "\n",
       "    .dataframe tbody tr th {\n",
       "        vertical-align: top;\n",
       "    }\n",
       "\n",
       "    .dataframe thead th {\n",
       "        text-align: right;\n",
       "    }\n",
       "</style>\n",
       "<table border=\"1\" class=\"dataframe\">\n",
       "  <thead>\n",
       "    <tr style=\"text-align: right;\">\n",
       "      <th></th>\n",
       "      <th>epoch</th>\n",
       "      <th>train_loss</th>\n",
       "      <th>train_accuracy</th>\n",
       "      <th>val_loss</th>\n",
       "      <th>val_accuracy</th>\n",
       "    </tr>\n",
       "  </thead>\n",
       "  <tbody>\n",
       "    <tr>\n",
       "      <th>0</th>\n",
       "      <td>0</td>\n",
       "      <td>0.606620</td>\n",
       "      <td>0.685271</td>\n",
       "      <td>0.548200</td>\n",
       "      <td>0.683534</td>\n",
       "    </tr>\n",
       "    <tr>\n",
       "      <th>1</th>\n",
       "      <td>1</td>\n",
       "      <td>0.472622</td>\n",
       "      <td>0.748394</td>\n",
       "      <td>0.444755</td>\n",
       "      <td>0.769660</td>\n",
       "    </tr>\n",
       "  </tbody>\n",
       "</table>\n",
       "</div>"
      ],
      "text/plain": [
       "   epoch  train_loss  train_accuracy  val_loss  val_accuracy\n",
       "0      0    0.606620        0.685271  0.548200      0.683534\n",
       "1      1    0.472622        0.748394  0.444755      0.769660"
      ]
     },
     "execution_count": 19,
     "metadata": {},
     "output_type": "execute_result"
    }
   ],
   "source": [
    "df_mod_history"
   ]
  },
  {
   "cell_type": "markdown",
   "id": "75b82fb7-cc4f-4144-b687-4db18a8151b4",
   "metadata": {},
   "source": [
    "Let's do a quick viz on the accuracy over the two epochs."
   ]
  },
  {
   "cell_type": "code",
   "execution_count": null,
   "id": "3e6cc973-5373-433f-b8c2-a622ac601099",
   "metadata": {},
   "outputs": [
    {
     "data": {
      "image/png": "[encoded data removed]",
      "text/plain": [
       "<Figure size 432x288 with 1 Axes>"
      ]
     },
     "metadata": {
      "needs_background": "light"
     },
     "output_type": "display_data"
    }
   ],
   "source": [
    "_ = sns.lineplot(data=df_mod_history, x='epoch', y='train_accuracy')\n",
    "_ = sns.lineplot(data=df_mod_history, x='epoch', y='val_accuracy')\n",
    "# _.set(ylim=(min_y,1))\n",
    "_.set_ylabel(\"Accuracy\")\n",
    "plt.legend(labels=[\"Train\",\"Validation\"])\n",
    "plt.show()"
   ]
  },
  {
   "cell_type": "markdown",
   "id": "0f6e79cb-e3f0-455a-82ac-6f648bd6e434",
   "metadata": {},
   "source": [
    "Let's evaluate the model on the *test* set."
   ]
  },
  {
   "cell_type": "code",
   "execution_count": null,
   "id": "1f17c33f-6312-4dbc-85a7-dbb6c0f15da1",
   "metadata": {
    "tags": []
   },
   "outputs": [
    {
     "name": "stdout",
     "output_type": "stream",
     "text": [
      "2213/2213 [==============================] - 2s 690us/step - loss: 0.4415 - accuracy: 0.7722\n",
      "Accuracy: 0.7721513509750366\n"
     ]
    }
   ],
   "source": [
    "# Evaluate model accuracy on the test set\n",
    "accuracy = model.evaluate(X_test, y_test)[1]\n",
    "\n",
    "# Print accuracy\n",
    "print('Accuracy:', accuracy)"
   ]
  },
  {
   "cell_type": "code",
   "execution_count": null,
   "id": "0cc9db05-6446-477b-8004-6b7539114291",
   "metadata": {},
   "outputs": [],
   "source": []
  },
  {
   "cell_type": "markdown",
   "id": "c6355848-fc6d-4da7-97b6-99a35e0d8ca9",
   "metadata": {},
   "source": [
    "Test accuracy of .77 is in line with what we saw out of train/val (.75/0.77).\n",
    "\n",
    "Now that we created a single model as a warmup, let's try to hone in on a good candidate using Random Hyperparameter Search."
   ]
  },
  {
   "cell_type": "markdown",
   "id": "64371874-6ccb-4dcd-9988-efc4d1d60c22",
   "metadata": {},
   "source": [
    "---  \n",
    "\n",
    "<span style=\"font-size:0.5em;\">Tag 3</span>\n",
    "\n",
    "### Random Hyperparameter Search<a id='random_search'></a>\n",
    "\n",
    "<span style=\"font-size:0.5em;\"><a href='#toc'>Back to TOC</a></span>"
   ]
  },
  {
   "cell_type": "markdown",
   "id": "d32db77e-0954-4e50-b131-6f588e283aff",
   "metadata": {},
   "source": [
    "#### Preparation\n",
    "\n",
    "Let's create functions for:\n",
    "- Model build\n",
    "\n",
    "In reviewing methodology to use `keras` with `sklearn`, I found `scikeras`. Their [tutorial](https://www.adriangb.com/scikeras/stable/notebooks/Basic_Usage.html#4.2-Saving-using-Keras-saving-methods) has a lot of good examples on how to leverage `sklearn` functionality but use Keras models, so alot of the following will be leveraging those example codes."
   ]
  },
  {
   "cell_type": "markdown",
   "id": "486a1c5b-763e-437a-a543-cfcffe4d012d",
   "metadata": {},
   "source": [
    "Create model build function to create a binary classification neural network model that ingests the current set of parameters."
   ]
  },
  {
   "cell_type": "code",
   "execution_count": null,
   "id": "4eac9251-048f-494e-8e56-3fdab59fa647",
   "metadata": {},
   "outputs": [],
   "source": [
    "# Full credit to scikeras tutorial (see 2.2 in 'tutorial' link above)\n",
    "def get_clf(meta, hidden_layer_sizes, dropout):\n",
    "    n_features_in_ = meta[\"n_features_in_\"]\n",
    "    n_classes_ = meta[\"n_classes_\"]\n",
    "    model = keras.models.Sequential()\n",
    "    model.add(keras.layers.Input(shape=(n_features_in_,)))\n",
    "    for hidden_layer_size in hidden_layer_sizes:\n",
    "        model.add(keras.layers.Dense(hidden_layer_size, activation=\"relu\"))\n",
    "        model.add(keras.layers.Dropout(dropout))\n",
    "    model.add(keras.layers.Dense(1, activation=\"sigmoid\"))\n",
    "    return model"
   ]
  },
  {
   "cell_type": "markdown",
   "id": "9c13fc67-792c-40a8-8650-5e2178986208",
   "metadata": {},
   "source": [
    "Instantiate a `scikeras` classifier:"
   ]
  },
  {
   "cell_type": "code",
   "execution_count": null,
   "id": "abdca066-0f5a-41f1-b2b2-e8bea3d866b6",
   "metadata": {},
   "outputs": [],
   "source": [
    "clf = KerasClassifier(\n",
    "    model=get_clf,\n",
    "    loss=\"binary_crossentropy\",\n",
    "    optimizer=\"adam\",\n",
    "    optimizer__lr=0.1,\n",
    "    model__hidden_layer_sizes=(100,),\n",
    "    model__dropout=0.5,\n",
    "    verbose=True,\n",
    "    metrics=['binary_accuracy'],\n",
    "    validation_split=0.10\n",
    ")\n",
    "\n",
    "# clf.fit(X_train, y_train)"
   ]
  },
  {
   "cell_type": "markdown",
   "id": "a30f6bad-f5e2-43b0-a86b-a39cc5b84c2e",
   "metadata": {},
   "source": [
    "Let's create a grid of parameters and do a random search to identify the most promising combination.\n"
   ]
  },
  {
   "cell_type": "markdown",
   "id": "5602d0de-e493-44af-9824-6bd90395590f",
   "metadata": {},
   "source": [
    "Create `dict` of parameters to perform random search on."
   ]
  },
  {
   "cell_type": "code",
   "execution_count": null,
   "id": "11c6fda6-91f1-4097-b0d1-cfbec538c5d8",
   "metadata": {},
   "outputs": [],
   "source": [
    "params = {\n",
    "    'optimizer__lr': [0.001, 0.01, 0.05, 0.5],\n",
    "    'model__hidden_layer_sizes': [(100,), (50, 50, )],\n",
    "    'model__dropout': [0, 0.5],\n",
    "    'epochs': [2, 3, 5],\n",
    "    'batch_size': [32, 128, 256]\n",
    "}"
   ]
  },
  {
   "cell_type": "markdown",
   "id": "eec5f704-4d49-4294-8cf0-e13393d6690e",
   "metadata": {},
   "source": [
    "Instantiate the `RandomSearchCV` object:"
   ]
  },
  {
   "cell_type": "code",
   "execution_count": null,
   "id": "86bb9e12-97cc-411b-bd5e-8b7c54146ee0",
   "metadata": {
    "tags": []
   },
   "outputs": [],
   "source": [
    "rs = RandomizedSearchCV(estimator=clf\n",
    "                        ,param_distributions=params\n",
    "                        ,cv=5\n",
    "                        ,refit=True\n",
    "                        ,verbose=True\n",
    "                        )"
   ]
  },
  {
   "cell_type": "markdown",
   "id": "b6bba49d-298c-40a5-a607-d1770c650cee",
   "metadata": {},
   "source": [
    "Fit to the training data!"
   ]
  },
  {
   "cell_type": "code",
   "execution_count": null,
   "id": "23d9e894-be03-4715-8a17-c82d402e0168",
   "metadata": {
    "tags": []
   },
   "outputs": [
    {
     "name": "stdout",
     "output_type": "stream",
     "text": [
      "Fitting 5 folds for each of 10 candidates, totalling 50 fits\n",
      "Epoch 1/2\n",
      "797/797 [==============================] - 2s 2ms/step - loss: 0.1884 - binary_accuracy: 0.9166 - val_loss: 0.1749 - val_binary_accuracy: 0.9242\n",
      "Epoch 2/2\n",
      "797/797 [==============================] - 1s 2ms/step - loss: 0.1733 - binary_accuracy: 0.9243 - val_loss: 0.1643 - val_binary_accuracy: 0.9288\n",
      "222/222 [==============================] - 0s 662us/step\n",
      "Epoch 1/2\n",
      "797/797 [==============================] - 2s 2ms/step - loss: 0.1899 - binary_accuracy: 0.9169 - val_loss: 0.1705 - val_binary_accuracy: 0.9266\n",
      "Epoch 2/2\n",
      "797/797 [==============================] - 1s 2ms/step - loss: 0.1734 - binary_accuracy: 0.9240 - val_loss: 0.1758 - val_binary_accuracy: 0.9221\n",
      "222/222 [==============================] - 0s 642us/step\n",
      "Epoch 1/2\n",
      "797/797 [==============================] - 2s 2ms/step - loss: 0.1868 - binary_accuracy: 0.9184 - val_loss: 0.1716 - val_binary_accuracy: 0.9245\n",
      "Epoch 2/2\n",
      "797/797 [==============================] - 1s 2ms/step - loss: 0.1725 - binary_accuracy: 0.9248 - val_loss: 0.1799 - val_binary_accuracy: 0.9224\n",
      "222/222 [==============================] - 0s 635us/step\n",
      "Epoch 1/2\n",
      "797/797 [==============================] - 2s 2ms/step - loss: 0.1890 - binary_accuracy: 0.9173 - val_loss: 0.1764 - val_binary_accuracy: 0.9243\n",
      "Epoch 2/2\n",
      "797/797 [==============================] - 1s 2ms/step - loss: 0.1753 - binary_accuracy: 0.9240 - val_loss: 0.1681 - val_binary_accuracy: 0.9261\n",
      "222/222 [==============================] - 0s 706us/step\n",
      "Epoch 1/2\n",
      "797/797 [==============================] - 2s 2ms/step - loss: 0.1868 - binary_accuracy: 0.9182 - val_loss: 0.1703 - val_binary_accuracy: 0.9238\n",
      "Epoch 2/2\n",
      "797/797 [==============================] - 1s 2ms/step - loss: 0.1728 - binary_accuracy: 0.9249 - val_loss: 0.1819 - val_binary_accuracy: 0.9206\n",
      "222/222 [==============================] - 0s 730us/step\n",
      "Epoch 1/2\n",
      "797/797 [==============================] - 2s 2ms/step - loss: 0.2562 - binary_accuracy: 0.8946 - val_loss: 0.1972 - val_binary_accuracy: 0.9162\n",
      "Epoch 2/2\n",
      "797/797 [==============================] - 1s 2ms/step - loss: 0.2409 - binary_accuracy: 0.9037 - val_loss: 0.1999 - val_binary_accuracy: 0.9191\n",
      "222/222 [==============================] - 0s 663us/step\n",
      "Epoch 1/2\n",
      "797/797 [==============================] - 2s 2ms/step - loss: 0.2439 - binary_accuracy: 0.8971 - val_loss: 0.2037 - val_binary_accuracy: 0.9091\n",
      "Epoch 2/2\n",
      "797/797 [==============================] - 1s 2ms/step - loss: 0.2347 - binary_accuracy: 0.9045 - val_loss: 0.2047 - val_binary_accuracy: 0.9137\n",
      "222/222 [==============================] - 0s 708us/step\n",
      "Epoch 1/2\n",
      "797/797 [==============================] - 2s 2ms/step - loss: 0.2538 - binary_accuracy: 0.8951 - val_loss: 0.1860 - val_binary_accuracy: 0.9211\n",
      "Epoch 2/2\n",
      "797/797 [==============================] - 1s 2ms/step - loss: 0.2400 - binary_accuracy: 0.9027 - val_loss: 0.2180 - val_binary_accuracy: 0.9054\n",
      "222/222 [==============================] - 0s 663us/step\n",
      "Epoch 1/2\n",
      "797/797 [==============================] - 2s 2ms/step - loss: 0.2431 - binary_accuracy: 0.8985 - val_loss: 0.2123 - val_binary_accuracy: 0.9066\n",
      "Epoch 2/2\n",
      "797/797 [==============================] - 1s 2ms/step - loss: 0.2390 - binary_accuracy: 0.9030 - val_loss: 0.1957 - val_binary_accuracy: 0.9138\n",
      "222/222 [==============================] - 0s 788us/step\n",
      "Epoch 1/2\n",
      "797/797 [==============================] - 2s 2ms/step - loss: 0.2510 - binary_accuracy: 0.8968 - val_loss: 0.2041 - val_binary_accuracy: 0.9116\n",
      "Epoch 2/2\n",
      "797/797 [==============================] - 1s 2ms/step - loss: 0.2441 - binary_accuracy: 0.9022 - val_loss: 0.2015 - val_binary_accuracy: 0.9163\n",
      "222/222 [==============================] - 0s 639us/step\n",
      "Epoch 1/2\n",
      "1593/1593 [==============================] - 3s 1ms/step - loss: 0.2892 - binary_accuracy: 0.8671 - val_loss: 0.1738 - val_binary_accuracy: 0.9279\n",
      "Epoch 2/2\n",
      "1593/1593 [==============================] - 2s 1ms/step - loss: 0.2048 - binary_accuracy: 0.9177 - val_loss: 0.1710 - val_binary_accuracy: 0.9286\n",
      "443/443 [==============================] - 1s 1ms/step\n",
      "Epoch 1/2\n",
      "1593/1593 [==============================] - 3s 2ms/step - loss: 0.2963 - binary_accuracy: 0.8632 - val_loss: 0.1787 - val_binary_accuracy: 0.9263\n",
      "Epoch 2/2\n",
      "1593/1593 [==============================] - 2s 2ms/step - loss: 0.2058 - binary_accuracy: 0.9158 - val_loss: 0.1728 - val_binary_accuracy: 0.9280\n",
      "443/443 [==============================] - 0s 617us/step\n",
      "Epoch 1/2\n",
      "1593/1593 [==============================] - 3s 1ms/step - loss: 0.2968 - binary_accuracy: 0.8621 - val_loss: 0.1749 - val_binary_accuracy: 0.9290\n",
      "Epoch 2/2\n",
      "1593/1593 [==============================] - 3s 2ms/step - loss: 0.2067 - binary_accuracy: 0.9163 - val_loss: 0.1722 - val_binary_accuracy: 0.9285\n",
      "443/443 [==============================] - 0s 640us/step\n",
      "Epoch 1/2\n",
      "1593/1593 [==============================] - 3s 2ms/step - loss: 0.2912 - binary_accuracy: 0.8683 - val_loss: 0.1750 - val_binary_accuracy: 0.9292\n",
      "Epoch 2/2\n",
      "1593/1593 [==============================] - 2s 1ms/step - loss: 0.2067 - binary_accuracy: 0.9158 - val_loss: 0.1706 - val_binary_accuracy: 0.9296\n",
      "443/443 [==============================] - 0s 608us/step\n",
      "Epoch 1/2\n",
      "1593/1593 [==============================] - 3s 2ms/step - loss: 0.2960 - binary_accuracy: 0.8637 - val_loss: 0.1766 - val_binary_accuracy: 0.9252\n",
      "Epoch 2/2\n",
      "1593/1593 [==============================] - 2s 2ms/step - loss: 0.2048 - binary_accuracy: 0.9164 - val_loss: 0.1772 - val_binary_accuracy: 0.9246\n",
      "443/443 [==============================] - 0s 626us/step\n",
      "Epoch 1/2\n",
      "797/797 [==============================] - 2s 2ms/step - loss: 0.6783 - binary_accuracy: 0.6861 - val_loss: 0.6340 - val_binary_accuracy: 0.6841\n",
      "Epoch 2/2\n",
      "797/797 [==============================] - 1s 2ms/step - loss: 0.6387 - binary_accuracy: 0.6874 - val_loss: 0.6249 - val_binary_accuracy: 0.6841\n",
      "222/222 [==============================] - 0s 667us/step\n",
      "Epoch 1/2\n",
      "797/797 [==============================] - 2s 2ms/step - loss: 0.6677 - binary_accuracy: 0.6868 - val_loss: 0.6249 - val_binary_accuracy: 0.6841\n",
      "Epoch 2/2\n",
      "797/797 [==============================] - 1s 2ms/step - loss: 0.6306 - binary_accuracy: 0.6874 - val_loss: 0.6250 - val_binary_accuracy: 0.6841\n",
      "222/222 [==============================] - 0s 638us/step\n",
      "Epoch 1/2\n",
      "797/797 [==============================] - 2s 2ms/step - loss: 0.6802 - binary_accuracy: 0.6864 - val_loss: 0.6243 - val_binary_accuracy: 0.6841\n",
      "Epoch 2/2\n",
      "797/797 [==============================] - 1s 2ms/step - loss: 0.6243 - binary_accuracy: 0.6874 - val_loss: 0.6253 - val_binary_accuracy: 0.6841\n",
      "222/222 [==============================] - 0s 686us/step\n",
      "Epoch 1/2\n",
      "797/797 [==============================] - 2s 2ms/step - loss: 0.7258 - binary_accuracy: 0.6856 - val_loss: 0.6239 - val_binary_accuracy: 0.6841\n",
      "Epoch 2/2\n",
      "797/797 [==============================] - 1s 2ms/step - loss: 0.6308 - binary_accuracy: 0.6874 - val_loss: 0.6249 - val_binary_accuracy: 0.6841\n",
      "222/222 [==============================] - 0s 643us/step\n",
      "Epoch 1/2\n",
      "797/797 [==============================] - 2s 2ms/step - loss: 0.6957 - binary_accuracy: 0.6869 - val_loss: 0.6276 - val_binary_accuracy: 0.6795\n",
      "Epoch 2/2\n",
      "797/797 [==============================] - 1s 2ms/step - loss: 0.6235 - binary_accuracy: 0.6879 - val_loss: 0.6339 - val_binary_accuracy: 0.6795\n",
      "222/222 [==============================] - 0s 666us/step\n",
      "Epoch 1/3\n",
      "797/797 [==============================] - 2s 2ms/step - loss: 0.6712 - binary_accuracy: 0.6849 - val_loss: 0.6192 - val_binary_accuracy: 0.6841\n",
      "Epoch 2/3\n",
      "797/797 [==============================] - 1s 1ms/step - loss: 0.6258 - binary_accuracy: 0.6873 - val_loss: 0.6252 - val_binary_accuracy: 0.6841\n",
      "Epoch 3/3\n",
      "797/797 [==============================] - 1s 1ms/step - loss: 0.6239 - binary_accuracy: 0.6874 - val_loss: 0.6321 - val_binary_accuracy: 0.6841\n",
      "222/222 [==============================] - 0s 660us/step\n",
      "Epoch 1/3\n",
      "797/797 [==============================] - 2s 2ms/step - loss: 0.7004 - binary_accuracy: 0.6861 - val_loss: 0.6364 - val_binary_accuracy: 0.6841\n",
      "Epoch 2/3\n",
      "797/797 [==============================] - 1s 1ms/step - loss: 0.6237 - binary_accuracy: 0.6874 - val_loss: 0.6257 - val_binary_accuracy: 0.6841\n",
      "Epoch 3/3\n",
      "797/797 [==============================] - 1s 2ms/step - loss: 0.6241 - binary_accuracy: 0.6874 - val_loss: 0.6300 - val_binary_accuracy: 0.6841\n",
      "222/222 [==============================] - 0s 782us/step\n",
      "Epoch 1/3\n",
      "797/797 [==============================] - 2s 2ms/step - loss: 0.6733 - binary_accuracy: 0.6851 - val_loss: 0.6253 - val_binary_accuracy: 0.6841\n",
      "Epoch 2/3\n",
      "797/797 [==============================] - 1s 1ms/step - loss: 0.6129 - binary_accuracy: 0.6873 - val_loss: 0.6282 - val_binary_accuracy: 0.6841\n",
      "Epoch 3/3\n",
      "797/797 [==============================] - 1s 1ms/step - loss: 0.6231 - binary_accuracy: 0.6874 - val_loss: 0.6226 - val_binary_accuracy: 0.6841\n",
      "222/222 [==============================] - 0s 633us/step\n",
      "Epoch 1/3\n",
      "797/797 [==============================] - 2s 2ms/step - loss: 0.6863 - binary_accuracy: 0.6870 - val_loss: 0.6368 - val_binary_accuracy: 0.6841\n",
      "Epoch 2/3\n",
      "797/797 [==============================] - 1s 1ms/step - loss: 0.6245 - binary_accuracy: 0.6874 - val_loss: 0.6240 - val_binary_accuracy: 0.6841\n",
      "Epoch 3/3\n",
      "797/797 [==============================] - 1s 1ms/step - loss: 0.6232 - binary_accuracy: 0.6874 - val_loss: 0.6273 - val_binary_accuracy: 0.6841\n",
      "222/222 [==============================] - 0s 615us/step\n",
      "Epoch 1/3\n",
      "797/797 [==============================] - 2s 2ms/step - loss: 0.6137 - binary_accuracy: 0.7196 - val_loss: 0.5981 - val_binary_accuracy: 0.6795\n",
      "Epoch 2/3\n",
      "797/797 [==============================] - 1s 2ms/step - loss: 0.6218 - binary_accuracy: 0.6879 - val_loss: 0.6279 - val_binary_accuracy: 0.6795\n",
      "Epoch 3/3\n",
      "797/797 [==============================] - 1s 1ms/step - loss: 0.6231 - binary_accuracy: 0.6879 - val_loss: 0.6292 - val_binary_accuracy: 0.6795\n",
      "222/222 [==============================] - 0s 637us/step\n",
      "Epoch 1/2\n",
      "797/797 [==============================] - 2s 2ms/step - loss: 0.3314 - binary_accuracy: 0.8434 - val_loss: 0.1806 - val_binary_accuracy: 0.9264\n",
      "Epoch 2/2\n",
      "797/797 [==============================] - 1s 2ms/step - loss: 0.2190 - binary_accuracy: 0.9092 - val_loss: 0.1737 - val_binary_accuracy: 0.9292\n",
      "222/222 [==============================] - 0s 676us/step\n",
      "Epoch 1/2\n",
      "797/797 [==============================] - 2s 2ms/step - loss: 0.3356 - binary_accuracy: 0.8405 - val_loss: 0.1822 - val_binary_accuracy: 0.9252\n",
      "Epoch 2/2\n",
      "797/797 [==============================] - 1s 2ms/step - loss: 0.2183 - binary_accuracy: 0.9105 - val_loss: 0.1721 - val_binary_accuracy: 0.9297\n",
      "222/222 [==============================] - 0s 673us/step\n",
      "Epoch 1/2\n",
      "797/797 [==============================] - 2s 2ms/step - loss: 0.3275 - binary_accuracy: 0.8469 - val_loss: 0.1808 - val_binary_accuracy: 0.9261\n",
      "Epoch 2/2\n",
      "797/797 [==============================] - 1s 2ms/step - loss: 0.2162 - binary_accuracy: 0.9111 - val_loss: 0.1727 - val_binary_accuracy: 0.9284\n",
      "222/222 [==============================] - 0s 702us/step\n",
      "Epoch 1/2\n",
      "797/797 [==============================] - 2s 2ms/step - loss: 0.3327 - binary_accuracy: 0.8448 - val_loss: 0.1852 - val_binary_accuracy: 0.9239\n",
      "Epoch 2/2\n",
      "797/797 [==============================] - 1s 2ms/step - loss: 0.2224 - binary_accuracy: 0.9080 - val_loss: 0.1728 - val_binary_accuracy: 0.9292\n",
      "222/222 [==============================] - 0s 637us/step\n",
      "Epoch 1/2\n",
      "797/797 [==============================] - 2s 2ms/step - loss: 0.3272 - binary_accuracy: 0.8459 - val_loss: 0.1821 - val_binary_accuracy: 0.9241\n",
      "Epoch 2/2\n",
      "797/797 [==============================] - 1s 2ms/step - loss: 0.2118 - binary_accuracy: 0.9129 - val_loss: 0.1738 - val_binary_accuracy: 0.9260\n",
      "222/222 [==============================] - 0s 695us/step\n",
      "Epoch 1/3\n",
      "797/797 [==============================] - 2s 2ms/step - loss: 0.3434 - binary_accuracy: 0.8358 - val_loss: 0.1812 - val_binary_accuracy: 0.9264\n",
      "Epoch 2/3\n",
      "797/797 [==============================] - 1s 2ms/step - loss: 0.2179 - binary_accuracy: 0.9102 - val_loss: 0.1714 - val_binary_accuracy: 0.9288\n",
      "Epoch 3/3\n",
      "797/797 [==============================] - 1s 2ms/step - loss: 0.2047 - binary_accuracy: 0.9170 - val_loss: 0.1714 - val_binary_accuracy: 0.9288\n",
      "222/222 [==============================] - 0s 635us/step\n",
      "Epoch 1/3\n",
      "797/797 [==============================] - 2s 2ms/step - loss: 0.3513 - binary_accuracy: 0.8295 - val_loss: 0.1832 - val_binary_accuracy: 0.9267\n",
      "Epoch 2/3\n",
      "797/797 [==============================] - 1s 2ms/step - loss: 0.2175 - binary_accuracy: 0.9108 - val_loss: 0.1733 - val_binary_accuracy: 0.9292\n",
      "Epoch 3/3\n",
      "797/797 [==============================] - 1s 2ms/step - loss: 0.2049 - binary_accuracy: 0.9175 - val_loss: 0.1729 - val_binary_accuracy: 0.9292\n",
      "222/222 [==============================] - 0s 666us/step\n",
      "Epoch 1/3\n",
      "797/797 [==============================] - 2s 2ms/step - loss: 0.3462 - binary_accuracy: 0.8334 - val_loss: 0.1830 - val_binary_accuracy: 0.9260\n",
      "Epoch 2/3\n",
      "797/797 [==============================] - 1s 2ms/step - loss: 0.2175 - binary_accuracy: 0.9105 - val_loss: 0.1728 - val_binary_accuracy: 0.9292\n",
      "Epoch 3/3\n",
      "797/797 [==============================] - 1s 2ms/step - loss: 0.2032 - binary_accuracy: 0.9182 - val_loss: 0.1711 - val_binary_accuracy: 0.9286\n",
      "222/222 [==============================] - 0s 661us/step\n",
      "Epoch 1/3\n",
      "797/797 [==============================] - 2s 2ms/step - loss: 0.3370 - binary_accuracy: 0.8401 - val_loss: 0.1821 - val_binary_accuracy: 0.9246\n",
      "Epoch 2/3\n",
      "797/797 [==============================] - 1s 2ms/step - loss: 0.2193 - binary_accuracy: 0.9096 - val_loss: 0.1728 - val_binary_accuracy: 0.9287\n",
      "Epoch 3/3\n",
      "797/797 [==============================] - 1s 2ms/step - loss: 0.2050 - binary_accuracy: 0.9167 - val_loss: 0.1712 - val_binary_accuracy: 0.9290\n",
      "222/222 [==============================] - 0s 642us/step\n",
      "Epoch 1/3\n",
      "797/797 [==============================] - 2s 2ms/step - loss: 0.3315 - binary_accuracy: 0.8430 - val_loss: 0.1840 - val_binary_accuracy: 0.9233\n",
      "Epoch 2/3\n",
      "797/797 [==============================] - 1s 2ms/step - loss: 0.2142 - binary_accuracy: 0.9123 - val_loss: 0.1753 - val_binary_accuracy: 0.9255\n",
      "Epoch 3/3\n",
      "797/797 [==============================] - 1s 2ms/step - loss: 0.2014 - binary_accuracy: 0.9186 - val_loss: 0.1737 - val_binary_accuracy: 0.9254\n",
      "222/222 [==============================] - 0s 679us/step\n",
      "Epoch 1/3\n",
      "797/797 [==============================] - 2s 2ms/step - loss: 0.2146 - binary_accuracy: 0.9087 - val_loss: 0.1948 - val_binary_accuracy: 0.9173\n",
      "Epoch 2/3\n",
      "797/797 [==============================] - 1s 2ms/step - loss: 0.2031 - binary_accuracy: 0.9151 - val_loss: 0.1776 - val_binary_accuracy: 0.9261\n",
      "Epoch 3/3\n",
      "797/797 [==============================] - 1s 2ms/step - loss: 0.2017 - binary_accuracy: 0.9161 - val_loss: 0.1791 - val_binary_accuracy: 0.9241\n",
      "222/222 [==============================] - 0s 612us/step\n",
      "Epoch 1/3\n",
      "797/797 [==============================] - 2s 2ms/step - loss: 0.2165 - binary_accuracy: 0.9075 - val_loss: 0.1795 - val_binary_accuracy: 0.9263\n",
      "Epoch 2/3\n",
      "797/797 [==============================] - 1s 2ms/step - loss: 0.2032 - binary_accuracy: 0.9149 - val_loss: 0.1794 - val_binary_accuracy: 0.9266\n",
      "Epoch 3/3\n",
      "797/797 [==============================] - 1s 2ms/step - loss: 0.2030 - binary_accuracy: 0.9158 - val_loss: 0.1785 - val_binary_accuracy: 0.9258\n",
      "222/222 [==============================] - 0s 596us/step\n",
      "Epoch 1/3\n",
      "797/797 [==============================] - 2s 2ms/step - loss: 0.2152 - binary_accuracy: 0.9082 - val_loss: 0.1818 - val_binary_accuracy: 0.9262\n",
      "Epoch 2/3\n",
      "797/797 [==============================] - 1s 2ms/step - loss: 0.2019 - binary_accuracy: 0.9157 - val_loss: 0.1791 - val_binary_accuracy: 0.9267\n",
      "Epoch 3/3\n",
      "797/797 [==============================] - 1s 2ms/step - loss: 0.2010 - binary_accuracy: 0.9167 - val_loss: 0.1752 - val_binary_accuracy: 0.9264\n",
      "222/222 [==============================] - 0s 578us/step\n",
      "Epoch 1/3\n",
      "797/797 [==============================] - 2s 2ms/step - loss: 0.2156 - binary_accuracy: 0.9088 - val_loss: 0.1818 - val_binary_accuracy: 0.9224\n",
      "Epoch 2/3\n",
      "797/797 [==============================] - 1s 2ms/step - loss: 0.2025 - binary_accuracy: 0.9151 - val_loss: 0.1902 - val_binary_accuracy: 0.9246\n",
      "Epoch 3/3\n",
      "797/797 [==============================] - 1s 2ms/step - loss: 0.2033 - binary_accuracy: 0.9161 - val_loss: 0.1805 - val_binary_accuracy: 0.9226\n",
      "222/222 [==============================] - 0s 640us/step\n",
      "Epoch 1/3\n",
      "797/797 [==============================] - 2s 2ms/step - loss: 0.2146 - binary_accuracy: 0.9086 - val_loss: 0.1854 - val_binary_accuracy: 0.9240\n",
      "Epoch 2/3\n",
      "797/797 [==============================] - 1s 2ms/step - loss: 0.2024 - binary_accuracy: 0.9154 - val_loss: 0.1803 - val_binary_accuracy: 0.9231\n",
      "Epoch 3/3\n",
      "797/797 [==============================] - 1s 2ms/step - loss: 0.2017 - binary_accuracy: 0.9164 - val_loss: 0.1795 - val_binary_accuracy: 0.9246\n",
      "222/222 [==============================] - 0s 625us/step\n",
      "Epoch 1/3\n",
      "1593/1593 [==============================] - 3s 2ms/step - loss: 0.2125 - binary_accuracy: 0.9005 - val_loss: 0.1628 - val_binary_accuracy: 0.9287\n",
      "Epoch 2/3\n",
      "1593/1593 [==============================] - 2s 1ms/step - loss: 0.1668 - binary_accuracy: 0.9270 - val_loss: 0.1641 - val_binary_accuracy: 0.9276\n",
      "Epoch 3/3\n",
      "1593/1593 [==============================] - 2s 1ms/step - loss: 0.1658 - binary_accuracy: 0.9272 - val_loss: 0.1639 - val_binary_accuracy: 0.9284\n",
      "443/443 [==============================] - 0s 630us/step\n",
      "Epoch 1/3\n",
      "1593/1593 [==============================] - 3s 1ms/step - loss: 0.2056 - binary_accuracy: 0.9062 - val_loss: 0.1636 - val_binary_accuracy: 0.9289\n",
      "Epoch 2/3\n",
      "1593/1593 [==============================] - 2s 1ms/step - loss: 0.1667 - binary_accuracy: 0.9269 - val_loss: 0.1632 - val_binary_accuracy: 0.9288\n",
      "Epoch 3/3\n",
      "1593/1593 [==============================] - 2s 1ms/step - loss: 0.1663 - binary_accuracy: 0.9272 - val_loss: 0.1645 - val_binary_accuracy: 0.9279\n",
      "443/443 [==============================] - 0s 634us/step\n",
      "Epoch 1/3\n",
      "1593/1593 [==============================] - 3s 1ms/step - loss: 0.2040 - binary_accuracy: 0.9062 - val_loss: 0.1629 - val_binary_accuracy: 0.9288\n",
      "Epoch 2/3\n",
      "1593/1593 [==============================] - 2s 1ms/step - loss: 0.1663 - binary_accuracy: 0.9271 - val_loss: 0.1624 - val_binary_accuracy: 0.9289\n",
      "Epoch 3/3\n",
      "1593/1593 [==============================] - 2s 1ms/step - loss: 0.1656 - binary_accuracy: 0.9272 - val_loss: 0.1627 - val_binary_accuracy: 0.9287\n",
      "443/443 [==============================] - 0s 605us/step\n",
      "Epoch 1/3\n",
      "1593/1593 [==============================] - 3s 1ms/step - loss: 0.2076 - binary_accuracy: 0.9054 - val_loss: 0.1646 - val_binary_accuracy: 0.9280\n",
      "Epoch 2/3\n",
      "1593/1593 [==============================] - 2s 1ms/step - loss: 0.1666 - binary_accuracy: 0.9274 - val_loss: 0.1662 - val_binary_accuracy: 0.9265\n",
      "Epoch 3/3\n",
      "1593/1593 [==============================] - 2s 1ms/step - loss: 0.1665 - binary_accuracy: 0.9272 - val_loss: 0.1622 - val_binary_accuracy: 0.9290\n",
      "443/443 [==============================] - 0s 644us/step\n",
      "Epoch 1/3\n",
      "1593/1593 [==============================] - 3s 1ms/step - loss: 0.2070 - binary_accuracy: 0.9048 - val_loss: 0.1690 - val_binary_accuracy: 0.9238\n",
      "Epoch 2/3\n",
      "1593/1593 [==============================] - 2s 1ms/step - loss: 0.1662 - binary_accuracy: 0.9271 - val_loss: 0.1660 - val_binary_accuracy: 0.9259\n",
      "Epoch 3/3\n",
      "1593/1593 [==============================] - 2s 1ms/step - loss: 0.1656 - binary_accuracy: 0.9277 - val_loss: 0.1676 - val_binary_accuracy: 0.9258\n",
      "443/443 [==============================] - 0s 615us/step\n",
      "Epoch 1/5\n",
      "797/797 [==============================] - 2s 2ms/step - loss: 0.1882 - binary_accuracy: 0.9159 - val_loss: 0.1649 - val_binary_accuracy: 0.9283\n",
      "Epoch 2/5\n",
      "797/797 [==============================] - 1s 1ms/step - loss: 0.1682 - binary_accuracy: 0.9258 - val_loss: 0.1654 - val_binary_accuracy: 0.9276\n",
      "Epoch 3/5\n",
      "797/797 [==============================] - 1s 1ms/step - loss: 0.1682 - binary_accuracy: 0.9261 - val_loss: 0.1623 - val_binary_accuracy: 0.9292\n",
      "Epoch 4/5\n",
      "797/797 [==============================] - 1s 2ms/step - loss: 0.1679 - binary_accuracy: 0.9264 - val_loss: 0.1621 - val_binary_accuracy: 0.9296\n",
      "Epoch 5/5\n",
      "797/797 [==============================] - 1s 1ms/step - loss: 0.1677 - binary_accuracy: 0.9265 - val_loss: 0.1654 - val_binary_accuracy: 0.9270\n",
      "222/222 [==============================] - 0s 643us/step\n",
      "Epoch 1/5\n",
      "797/797 [==============================] - 2s 2ms/step - loss: 0.1900 - binary_accuracy: 0.9142 - val_loss: 0.1678 - val_binary_accuracy: 0.9263\n",
      "Epoch 2/5\n",
      "797/797 [==============================] - 1s 1ms/step - loss: 0.1692 - binary_accuracy: 0.9258 - val_loss: 0.1762 - val_binary_accuracy: 0.9228\n",
      "Epoch 3/5\n",
      "797/797 [==============================] - 1s 1ms/step - loss: 0.1683 - binary_accuracy: 0.9261 - val_loss: 0.1667 - val_binary_accuracy: 0.9276\n",
      "Epoch 4/5\n",
      "797/797 [==============================] - 1s 1ms/step - loss: 0.1687 - binary_accuracy: 0.9259 - val_loss: 0.1675 - val_binary_accuracy: 0.9269\n",
      "Epoch 5/5\n",
      "797/797 [==============================] - 1s 1ms/step - loss: 0.1678 - binary_accuracy: 0.9264 - val_loss: 0.1724 - val_binary_accuracy: 0.9258\n",
      "222/222 [==============================] - 0s 593us/step\n",
      "Epoch 1/5\n",
      "797/797 [==============================] - 2s 1ms/step - loss: 0.1895 - binary_accuracy: 0.9151 - val_loss: 0.1715 - val_binary_accuracy: 0.9246\n",
      "Epoch 2/5\n",
      "797/797 [==============================] - 1s 1ms/step - loss: 0.1684 - binary_accuracy: 0.9262 - val_loss: 0.1647 - val_binary_accuracy: 0.9281\n",
      "Epoch 3/5\n",
      "797/797 [==============================] - 1s 1ms/step - loss: 0.1678 - binary_accuracy: 0.9265 - val_loss: 0.1686 - val_binary_accuracy: 0.9249\n",
      "Epoch 4/5\n",
      "797/797 [==============================] - 1s 1ms/step - loss: 0.1678 - binary_accuracy: 0.9263 - val_loss: 0.1657 - val_binary_accuracy: 0.9273\n",
      "Epoch 5/5\n",
      "797/797 [==============================] - 1s 1ms/step - loss: 0.1680 - binary_accuracy: 0.9262 - val_loss: 0.1658 - val_binary_accuracy: 0.9278\n",
      "222/222 [==============================] - 0s 628us/step\n",
      "Epoch 1/5\n",
      "797/797 [==============================] - 2s 2ms/step - loss: 0.1890 - binary_accuracy: 0.9158 - val_loss: 0.1685 - val_binary_accuracy: 0.9259\n",
      "Epoch 2/5\n",
      "797/797 [==============================] - 1s 1ms/step - loss: 0.1700 - binary_accuracy: 0.9254 - val_loss: 0.1680 - val_binary_accuracy: 0.9266\n",
      "Epoch 3/5\n",
      "797/797 [==============================] - 1s 1ms/step - loss: 0.1688 - binary_accuracy: 0.9263 - val_loss: 0.1650 - val_binary_accuracy: 0.9281\n",
      "Epoch 4/5\n",
      "797/797 [==============================] - 1s 1ms/step - loss: 0.1686 - binary_accuracy: 0.9263 - val_loss: 0.1697 - val_binary_accuracy: 0.9254\n",
      "Epoch 5/5\n",
      "797/797 [==============================] - 1s 1ms/step - loss: 0.1687 - binary_accuracy: 0.9263 - val_loss: 0.1657 - val_binary_accuracy: 0.9279\n",
      "222/222 [==============================] - 0s 613us/step\n",
      "Epoch 1/5\n",
      "797/797 [==============================] - 2s 2ms/step - loss: 0.1892 - binary_accuracy: 0.9152 - val_loss: 0.1671 - val_binary_accuracy: 0.9250\n",
      "Epoch 2/5\n",
      "797/797 [==============================] - 1s 1ms/step - loss: 0.1678 - binary_accuracy: 0.9265 - val_loss: 0.1679 - val_binary_accuracy: 0.9264\n",
      "Epoch 3/5\n",
      "797/797 [==============================] - 1s 1ms/step - loss: 0.1674 - binary_accuracy: 0.9264 - val_loss: 0.1679 - val_binary_accuracy: 0.9252\n",
      "Epoch 4/5\n",
      "797/797 [==============================] - 1s 1ms/step - loss: 0.1669 - binary_accuracy: 0.9267 - val_loss: 0.1658 - val_binary_accuracy: 0.9263\n",
      "Epoch 5/5\n",
      "797/797 [==============================] - 1s 1ms/step - loss: 0.1671 - binary_accuracy: 0.9271 - val_loss: 0.1722 - val_binary_accuracy: 0.9237\n",
      "222/222 [==============================] - 0s 605us/step\n",
      "Epoch 1/3\n",
      "996/996 [==============================] - 2s 2ms/step - loss: 0.3188 - binary_accuracy: 0.8496 - val_loss: 0.1804 - val_binary_accuracy: 0.9272\n",
      "Epoch 2/3\n",
      "996/996 [==============================] - 2s 2ms/step - loss: 0.2119 - binary_accuracy: 0.9130 - val_loss: 0.1741 - val_binary_accuracy: 0.9285\n",
      "Epoch 3/3\n",
      "996/996 [==============================] - 2s 2ms/step - loss: 0.2010 - binary_accuracy: 0.9188 - val_loss: 0.1729 - val_binary_accuracy: 0.9278\n"
     ]
    }
   ],
   "source": [
    "rs_results = rs.fit(X_train, y_train)"
   ]
  },
  {
   "cell_type": "markdown",
   "id": "e8584335-2930-431d-99f6-331dadfd78ca",
   "metadata": {},
   "source": [
    "Let's look at the best accuracy score, and the parameters that produced them."
   ]
  },
  {
   "cell_type": "code",
   "execution_count": null,
   "id": "56c3099d-76a6-4dd6-aa70-8d75e3146bcb",
   "metadata": {},
   "outputs": [
    {
     "data": {
      "text/plain": [
       "0.9279766648735848"
      ]
     },
     "metadata": {},
     "output_type": "display_data"
    },
    {
     "data": {
      "text/plain": [
       "{'optimizer__lr': 0.001,\n",
       " 'model__hidden_layer_sizes': (50, 50),\n",
       " 'model__dropout': 0.5,\n",
       " 'epochs': 3,\n",
       " 'batch_size': 256}"
      ]
     },
     "metadata": {},
     "output_type": "display_data"
    }
   ],
   "source": [
    "display(rs_results.best_score_, rs_results.best_params_)"
   ]
  },
  {
   "cell_type": "markdown",
   "id": "52e0796f-d45d-40ff-a51d-b8946228714c",
   "metadata": {},
   "source": [
    "Let's look at it as an estimator object."
   ]
  },
  {
   "cell_type": "code",
   "execution_count": null,
   "id": "a9e9216c-e0f7-4240-b526-27c2d59cba77",
   "metadata": {
    "tags": []
   },
   "outputs": [
    {
     "data": {
      "text/plain": [
       "KerasClassifier(\n",
       "\tmodel=<function get_clf at 0x7f124fe76550>\n",
       "\tbuild_fn=None\n",
       "\twarm_start=False\n",
       "\trandom_state=None\n",
       "\toptimizer=adam\n",
       "\tloss=binary_crossentropy\n",
       "\tmetrics=['binary_accuracy']\n",
       "\tbatch_size=256\n",
       "\tvalidation_batch_size=None\n",
       "\tverbose=True\n",
       "\tcallbacks=None\n",
       "\tvalidation_split=0.1\n",
       "\tshuffle=True\n",
       "\trun_eagerly=False\n",
       "\tepochs=3\n",
       "\toptimizer__lr=0.001\n",
       "\tmodel__hidden_layer_sizes=(50, 50)\n",
       "\tmodel__dropout=0.5\n",
       "\tclass_weight=None\n",
       ")"
      ]
     },
     "metadata": {},
     "output_type": "display_data"
    }
   ],
   "source": [
    "rs_best = rs_results.best_estimator_\n",
    "display(rs_best)"
   ]
  },
  {
   "cell_type": "markdown",
   "id": "3b471d22-cb85-4a0d-9675-19c8add3058e",
   "metadata": {},
   "source": [
    "Let's look at a high level plot of the model, to make sure it makes sense vis a vis the best params."
   ]
  },
  {
   "cell_type": "code",
   "execution_count": null,
   "id": "48d554ad-fa2d-4b3b-8c86-31483119366e",
   "metadata": {},
   "outputs": [
    {
     "data": {
      "image/png": "[encoded data removed]",
      "text/plain": [
       "<IPython.core.display.Image object>"
      ]
     },
     "execution_count": 29,
     "metadata": {},
     "output_type": "execute_result"
    }
   ],
   "source": [
    "plot_model(rs_best.model_)"
   ]
  },
  {
   "cell_type": "markdown",
   "id": "a16eeb27-85d9-494d-b196-14a6646e8db5",
   "metadata": {},
   "source": [
    "Look at summary:"
   ]
  },
  {
   "cell_type": "code",
   "execution_count": null,
   "id": "ad2e863f-5e3a-45b1-b831-615dc9cfc50d",
   "metadata": {},
   "outputs": [
    {
     "name": "stdout",
     "output_type": "stream",
     "text": [
      "Model: \"sequential_50\"\n",
      "_________________________________________________________________\n",
      " Layer (type)                Output Shape              Param #   \n",
      "=================================================================\n",
      " dense_140 (Dense)           (None, 50)                250       \n",
      "                                                                 \n",
      " dropout_90 (Dropout)        (None, 50)                0         \n",
      "                                                                 \n",
      " dense_141 (Dense)           (None, 50)                2550      \n",
      "                                                                 \n",
      " dropout_91 (Dropout)        (None, 50)                0         \n",
      "                                                                 \n",
      " dense_142 (Dense)           (None, 1)                 51        \n",
      "                                                                 \n",
      "=================================================================\n",
      "Total params: 2,851\n",
      "Trainable params: 2,851\n",
      "Non-trainable params: 0\n",
      "_________________________________________________________________\n"
     ]
    }
   ],
   "source": [
    "rs_best.model_.summary()"
   ]
  },
  {
   "cell_type": "markdown",
   "id": "2d03e6e1-db8d-482b-8b7d-d895fa46da73",
   "metadata": {},
   "source": [
    "Now let's look at performance vs Test."
   ]
  },
  {
   "cell_type": "code",
   "execution_count": null,
   "id": "824a10c9-3c11-47dc-a8a5-2375a2c961ee",
   "metadata": {},
   "outputs": [
    {
     "name": "stdout",
     "output_type": "stream",
     "text": [
      "277/277 [==============================] - 0s 642us/step\n"
     ]
    },
    {
     "data": {
      "text/plain": [
       "'test accuracy: 0.9267059338672543'"
      ]
     },
     "metadata": {},
     "output_type": "display_data"
    },
    {
     "data": {
      "text/plain": [
       "'train accuracy: 0.9279766648735848'"
      ]
     },
     "metadata": {},
     "output_type": "display_data"
    }
   ],
   "source": [
    "display(f\"test accuracy: {rs_best.score(X_test, y_test)}\")\n",
    "display(f\"train accuracy: {rs_results.best_score_}\")"
   ]
  },
  {
   "cell_type": "markdown",
   "id": "03e66852-72db-426f-98d2-be1220b5b902",
   "metadata": {},
   "source": [
    "Consistent, and aligns."
   ]
  },
  {
   "cell_type": "markdown",
   "id": "ab2ea030-2591-4ca3-b829-ba3b0af68100",
   "metadata": {},
   "source": [
    "Let's get some predictions and review some high level classification metrics:"
   ]
  },
  {
   "cell_type": "code",
   "execution_count": null,
   "id": "fac1d3e6-fa28-4cd8-9fc8-2e17dcdebd7f",
   "metadata": {},
   "outputs": [
    {
     "name": "stdout",
     "output_type": "stream",
     "text": [
      "277/277 [==============================] - 0s 679us/step\n"
     ]
    }
   ],
   "source": [
    "rs_pred = rs_best.predict(X_test)"
   ]
  },
  {
   "cell_type": "markdown",
   "id": "341b590e-455f-4ebd-90b5-98aa6c97f9d9",
   "metadata": {},
   "source": [
    "*Confusion Matrix*"
   ]
  },
  {
   "cell_type": "code",
   "execution_count": null,
   "id": "195d2d59-ff3f-4679-82ea-2679ec000be6",
   "metadata": {},
   "outputs": [
    {
     "data": {
      "text/plain": [
       "array([[46656,  1987],\n",
       "       [ 3202, 18952]])"
      ]
     },
     "metadata": {},
     "output_type": "display_data"
    }
   ],
   "source": [
    "cm = confusion_matrix(y_test, rs_pred)\n",
    "display(cm)"
   ]
  },
  {
   "cell_type": "markdown",
   "id": "0292f14c-7b50-4080-ab0b-53e08a3beda4",
   "metadata": {},
   "source": [
    "*Accuracy*"
   ]
  },
  {
   "cell_type": "code",
   "execution_count": null,
   "id": "f21711f9-ec8b-4140-bcdc-ac6311466bdc",
   "metadata": {},
   "outputs": [
    {
     "data": {
      "text/plain": [
       "'What % of pitches did we correctly categorize?'"
      ]
     },
     "metadata": {},
     "output_type": "display_data"
    },
    {
     "name": "stdout",
     "output_type": "stream",
     "text": [
      "277/277 [==============================] - 0s 716us/step\n"
     ]
    },
    {
     "data": {
      "text/plain": [
       "'test accuracy: 0.927'"
      ]
     },
     "metadata": {},
     "output_type": "display_data"
    }
   ],
   "source": [
    "display(\"What % of pitches did we correctly categorize?\")\n",
    "display(f\"test accuracy: {round(rs_best.score(X_test, y_test), 3)}\")"
   ]
  },
  {
   "cell_type": "markdown",
   "id": "5bb9aa10-00aa-4acc-a837-e6e961860d13",
   "metadata": {},
   "source": [
    "*Precision*"
   ]
  },
  {
   "cell_type": "code",
   "execution_count": null,
   "id": "f4f6fb94-fb75-4ce7-ae51-e346e355561d",
   "metadata": {},
   "outputs": [
    {
     "data": {
      "text/plain": [
       "'What % predicted strikes did we get correct?'"
      ]
     },
     "metadata": {},
     "output_type": "display_data"
    },
    {
     "data": {
      "text/plain": [
       "'Positive Predictive Value: 0.905'"
      ]
     },
     "metadata": {},
     "output_type": "display_data"
    }
   ],
   "source": [
    "precision = precision_score(y_test, rs_pred)\n",
    "display(\"What % predicted strikes did we get correct?\")\n",
    "display(f\"Positive Predictive Value: {round(precision,3)}\")"
   ]
  },
  {
   "cell_type": "markdown",
   "id": "4cfc7e9a-f72e-499c-a35c-16958c2a701e",
   "metadata": {},
   "source": [
    "*Recall*"
   ]
  },
  {
   "cell_type": "code",
   "execution_count": null,
   "id": "b527f3fb-3f4e-4442-93cc-13bdd1c3335c",
   "metadata": {},
   "outputs": [
    {
     "data": {
      "text/plain": [
       "'What percent of actual strikes did we get capture?'"
      ]
     },
     "metadata": {},
     "output_type": "display_data"
    },
    {
     "data": {
      "text/plain": [
       "'True Positive Rate: 0.855'"
      ]
     },
     "metadata": {},
     "output_type": "display_data"
    }
   ],
   "source": [
    "recall = recall_score(y_test, rs_pred)\n",
    "display(\"What percent of actual strikes did we get capture?\")\n",
    "display(f\"True Positive Rate: {round(recall, 3)}\")"
   ]
  },
  {
   "cell_type": "markdown",
   "id": "383452e8-766f-4136-ad3a-ef60ebcba0da",
   "metadata": {},
   "source": [
    "*ROC/AUC*"
   ]
  },
  {
   "cell_type": "code",
   "execution_count": null,
   "id": "529ddd30-9775-4a2c-856c-52a743adad76",
   "metadata": {},
   "outputs": [
    {
     "name": "stdout",
     "output_type": "stream",
     "text": [
      "1107/1107 [==============================] - 1s 676us/step\n"
     ]
    },
    {
     "data": {
      "image/png": "[encoded data removed]",
      "text/plain": [
       "<Figure size 432x288 with 1 Axes>"
      ]
     },
     "metadata": {
      "needs_background": "light"
     },
     "output_type": "display_data"
    }
   ],
   "source": [
    "plot_roc_curve(rs_best, X_train, y_train)\n",
    "plt.show()"
   ]
  },
  {
   "cell_type": "markdown",
   "id": "4a64b5a0-47b6-4cf6-82ba-c851faa44042",
   "metadata": {},
   "source": [
    "AUC of 0.98!"
   ]
  },
  {
   "cell_type": "markdown",
   "id": "22a9659b-782b-4963-879a-45fd696556f1",
   "metadata": {},
   "source": [
    "*Save the current state*"
   ]
  },
  {
   "cell_type": "markdown",
   "id": "2339e09b-805a-4b4b-9257-9af384850320",
   "metadata": {},
   "source": [
    "Let's save out the best model!"
   ]
  },
  {
   "cell_type": "code",
   "execution_count": null,
   "id": "879d5551-1c9f-4a57-8487-cacbc8dd1571",
   "metadata": {
    "tags": []
   },
   "outputs": [
    {
     "data": {
      "text/plain": [
       "'./models/nn_1st_pass_20220505_0522'"
      ]
     },
     "metadata": {},
     "output_type": "display_data"
    },
    {
     "data": {
      "text/plain": [
       "'./predictions/test/nn_1st_pass_20220505_0522.csv'"
      ]
     },
     "metadata": {},
     "output_type": "display_data"
    },
    {
     "name": "stdout",
     "output_type": "stream",
     "text": [
      "277/277 [==============================] - 0s 639us/step\n"
     ]
    },
    {
     "name": "stderr",
     "output_type": "stream",
     "text": [
      "2022-05-05 05:22:30.101076: W tensorflow/python/util/util.cc:368] Sets are not currently considered sequences, but this may change in the future, so consider avoiding using them.\n"
     ]
    },
    {
     "name": "stdout",
     "output_type": "stream",
     "text": [
      "INFO:tensorflow:Assets written to: ./models/nn_1st_pass_20220505_0522/assets\n"
     ]
    }
   ],
   "source": [
    "str_ts = datetime.now().strftime(\"%Y%m%d_%H%M\")\n",
    "model_nm = 'nn_1st_pass_' + str_ts\n",
    "model_path = './models/' + model_nm\n",
    "pred_path = './predictions/test/' + model_nm + '.csv'\n",
    "\n",
    "display(model_path, pred_path)\n",
    "\n",
    "# save out predicted probabilities\n",
    "pred_curr = rs_best.predict_proba(X_test)\n",
    "np.savetxt(pred_path, pred_curr, delimiter=\",\")\n",
    "\n",
    "# Save out Keras model\n",
    "rs_best.model_.save(model_path)"
   ]
  },
  {
   "cell_type": "markdown",
   "id": "0739cd97-0ee2-456e-b70e-508fe2d36df6",
   "metadata": {},
   "source": [
    "---  \n",
    "\n",
    "<span style=\"font-size:0.5em;\">Tag 4</span>\n",
    "\n",
    "<a id='the_end'></a>\n",
    "\n",
    "<span style=\"font-size:0.5em;\"><a href='#toc'>Back to TOC</a></span>"
   ]
  },
  {
   "cell_type": "markdown",
   "id": "e9fc1490-d3b2-4169-83eb-69fc494a3bc7",
   "metadata": {},
   "source": [
    "-----"
   ]
  },
  {
   "cell_type": "markdown",
   "id": "9bc924d1-f9d7-4490-bf3a-e7a456a905c0",
   "metadata": {},
   "source": [
    "### Archive"
   ]
  },
  {
   "cell_type": "markdown",
   "id": "d11686f4-4483-48b4-8f43-f61f344ac90e",
   "metadata": {},
   "source": [
    "Here is the model creation function I started building, before I stumbled across `scikeras` and decided to run with their code."
   ]
  },
  {
   "cell_type": "code",
   "execution_count": null,
   "id": "65a69b99-a6f9-4d0d-a061-c5d2c5ae6188",
   "metadata": {},
   "outputs": [
    {
     "name": "stdout",
     "output_type": "stream",
     "text": [
      "skipping\n"
     ]
    }
   ],
   "source": [
    "%%script echo skipping\n",
    "def create_binary_nn_model(num_inputs, learning_rate=0.01, num_layers=1\n",
    "                           ,num_nodes=2, activation='relu'):\n",
    "    \"\"\"Create binary neural network Sequential model\"\"\"\n",
    "    # Create Adam optimizer\n",
    "    opt = Adam(lr=learning_rate)\n",
    "    \n",
    "    # Create Sequential model\n",
    "    model=Sequential()\n",
    "    \n",
    "    # Input layer\n",
    "    model.add(Dense(num_nodes, input_shape=(num_inputs,) \n",
    "              ,activation=activation, name='Input'))\n",
    "    \n",
    "    # Additional Hidden Layers\n",
    "    for i in range(num_layers-1): #if only 1 then assume just input/hidden\n",
    "        model.add(Dense(num_nodes, activation=activation))\n",
    "    \n",
    "    # Add a 1-neuron output layer\n",
    "    model.add(Dense(num_outputs, activation='sigmoid', name='Output'))\n",
    "\n",
    "    # Compile your model\n",
    "    model.compile(loss='binary_crossentropy', optimizer=opt\n",
    "                  ,metrics=['accuracy']\n",
    "                 )\n",
    "\n",
    "    return model"
   ]
  },
  {
   "cell_type": "markdown",
   "id": "4450b0de-5dae-497c-a3ca-9ef6f5a0885d",
   "metadata": {},
   "source": [
    "Let's do a test on the function:"
   ]
  },
  {
   "cell_type": "code",
   "execution_count": null,
   "id": "695c0724-9e4f-4169-b524-4f4547b2e530",
   "metadata": {},
   "outputs": [
    {
     "name": "stdout",
     "output_type": "stream",
     "text": [
      "skipping\n"
     ]
    }
   ],
   "source": [
    "%%script echo skipping\n",
    "mod_1 = create_binary_nn_model(num_inputs=X_train.shape[1]\n",
    "                               ,learning_rate=1\n",
    "                               ,num_layers=1\n",
    "                              )"
   ]
  },
  {
   "cell_type": "code",
   "execution_count": null,
   "id": "cc8abd84-2359-45b3-9d87-a1be0a580dd3",
   "metadata": {},
   "outputs": [
    {
     "name": "stdout",
     "output_type": "stream",
     "text": [
      "skipping\n"
     ]
    }
   ],
   "source": [
    "%%script echo skipping\n",
    "hh = mod_1.fit(X_train, y_train, epochs = n_epochs\n",
    "                        ,validation_split=val_split)"
   ]
  },
  {
   "cell_type": "code",
   "execution_count": null,
   "id": "11414d04-8717-47ee-a13e-e8ba3a858ff1",
   "metadata": {},
   "outputs": [
    {
     "name": "stdout",
     "output_type": "stream",
     "text": [
      "skipping\n"
     ]
    }
   ],
   "source": [
    "%%script echo skipping\n",
    "plot_model(mod_1)"
   ]
  },
  {
   "cell_type": "markdown",
   "id": "b4b5e605-b12a-413a-80be-0a2fcd1c1ed9",
   "metadata": {},
   "source": [
    "Seems correct. I think that I plugged in a learning rate of 1 caused the epochs to be basically the same, basically skipping over minimums."
   ]
  }
 ],
 "metadata": {
  "kernelspec": {
   "display_name": "Python 3 (ipykernel)",
   "language": "python",
   "name": "python3"
  },
  "language_info": {
   "codemirror_mode": {
    "name": "ipython",
    "version": 3
   },
   "file_extension": ".py",
   "mimetype": "text/x-python",
   "name": "python",
   "nbconvert_exporter": "python",
   "pygments_lexer": "ipython3",
   "version": "3.8.10"
  },
  "toc-autonumbering": true,
  "toc-showcode": false,
  "toc-showmarkdowntxt": true,
  "toc-showtags": false,
  "widgets": {
   "application/vnd.jupyter.widget-state+json": {
    "state": {},
    "version_major": 2,
    "version_minor": 0
   }
  }
 },
 "nbformat": 4,
 "nbformat_minor": 5
}
