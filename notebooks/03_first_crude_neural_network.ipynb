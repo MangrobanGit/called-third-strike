{
 "cells": [
  {
   "cell_type": "markdown",
   "id": "1d9a73fe-22ef-46f3-af36-3ed41d28fa72",
   "metadata": {},
   "source": [
    "# Called Third Strike\n",
    "## Part 3. First crude neural network  \n",
    "\n",
    "![](./resources/baseball_umpire_home_plate_1.jpg)\n",
    "\n",
    "This project's goal is to build probability models for as to whether a pitch will be called a strike or not. The intended models are to be:\n",
    "1. A neural network (NN) based approach.\n",
    "2. A non-NN based approach.\n",
    "\n",
    "---\n",
    "\n",
    "__**This Notebook's**__ objective is to quickly build a simple working neural network to give a baseline to compare against as we iterate versions. \n",
    "\n",
    "---\n",
    "---"
   ]
  },
  {
   "cell_type": "markdown",
   "id": "7c603889-4d23-4c1d-8e4d-8d45d1a72da4",
   "metadata": {
    "jp-MarkdownHeadingCollapsed": true,
    "tags": []
   },
   "source": [
    "### Table of Contents<a id='toc2'></a>\n",
    "\n",
    "<a href='#dat_prep'>1. Data Preprocessing</a>\n",
    "\n",
    "<a href='#build_model'>2. Build Model</a>\n",
    "\n",
    "<a href='#rand_search'>3. Random Hyperparameter Search</a>\n",
    "\n",
    "<a href='#summary'>4. Summary</a>\n",
    "\n",
    "...\n",
    "\n",
    "<a href='#end'>Go to the End</a>\n",
    "\n",
    "---"
   ]
  },
  {
   "cell_type": "markdown",
   "id": "4fcfd9aa-eac1-4789-af6d-cf5700a82979",
   "metadata": {},
   "source": [
    "---  \n",
    "\n",
    "<span style=\"font-size:0.5em;\">Tag 1</span>\n",
    "\n",
    "### Data Preprocessing\n",
    "<a id='dat_prep'></a>\n",
    "\n",
    "<span style=\"font-size:0.5em;\"><a href='#toc2'>Back to TOC</a></span>"
   ]
  },
  {
   "cell_type": "markdown",
   "id": "053be28f-4156-45c6-8a93-99c50dd76e39",
   "metadata": {},
   "source": [
    "#### Libraries\n"
   ]
  },
  {
   "cell_type": "code",
   "execution_count": 77,
   "id": "f5160888-b331-4e47-b996-09fdac316630",
   "metadata": {},
   "outputs": [],
   "source": [
    "# Data wrangling and operations\n",
    "import pandas as pd\n",
    "import numpy as np\n",
    "from datetime import datetime\n",
    "import pickle\n",
    "\n",
    "# Visualization\n",
    "import matplotlib.pyplot as plt\n",
    "import seaborn as sns\n",
    "\n",
    "# ML\n",
    "from sklearn.preprocessing import StandardScaler\n",
    "from sklearn.model_selection import train_test_split\n",
    "from sklearn.model_selection import RandomizedSearchCV\n",
    "from sklearn.metrics import confusion_matrix\n",
    "from sklearn.metrics import recall_score, precision_score, auc\n",
    "from sklearn.metrics import roc_curve, RocCurveDisplay\n",
    "\n",
    "# neural networks\n",
    "# Kera Sequential model\n",
    "import tensorflow as tf\n",
    "from tensorflow import keras\n",
    "from keras.models import Sequential\n",
    "from keras.layers import Dense\n",
    "from keras.utils.vis_utils import plot_model\n",
    "from tensorflow.keras.optimizers import Adam\n",
    "from keras.wrappers.scikit_learn import KerasClassifier"
   ]
  },
  {
   "cell_type": "markdown",
   "id": "f366fe65-9e8c-48c3-83e4-6e40a4bf4255",
   "metadata": {},
   "source": [
    "Import the following packages, if needed (not included in default packages on the platform I'm currently using)"
   ]
  },
  {
   "cell_type": "code",
   "execution_count": 2,
   "id": "6e2a5092-a87d-4af1-868b-97c6f4dfcb0a",
   "metadata": {},
   "outputs": [],
   "source": [
    "%%capture\n",
    "try:\n",
    "    import scikeras\n",
    "except ImportError:\n",
    "    !pip install scikeras[tensorflow]\n",
    "    !python -m pip install scikeras[tensorflow]\n",
    "except ModuleNotFoundError:\n",
    "    !pip install scikeras[tensorflow]\n",
    "    # !python -m pip install scikeras[tensorflow]"
   ]
  },
  {
   "cell_type": "code",
   "execution_count": 3,
   "id": "bc27de91-8da2-49f4-ad63-207e6fe540e3",
   "metadata": {},
   "outputs": [],
   "source": [
    "from scikeras.wrappers import KerasClassifier"
   ]
  },
  {
   "cell_type": "code",
   "execution_count": 4,
   "id": "1e9bd03a-eda1-46b0-af5a-897338588c68",
   "metadata": {},
   "outputs": [],
   "source": [
    "# Dependency for plot_model function"
   ]
  },
  {
   "cell_type": "code",
   "execution_count": 5,
   "id": "240fcd46-46e3-4934-a176-522acba3f6a6",
   "metadata": {},
   "outputs": [],
   "source": [
    "%%capture\n",
    "try:\n",
    "    import pydot\n",
    "except ImportError:\n",
    "    !pip install pydot"
   ]
  },
  {
   "cell_type": "markdown",
   "id": "987afa32-26cc-421f-bfdd-dd2cd8a29e62",
   "metadata": {},
   "source": [
    "---\n",
    "\n",
    "#### Data Import \n",
    "\n",
    "Retrieve the latest version of our train/test files that we built during [initial exploration](02_data_exploration.ipynb)."
   ]
  },
  {
   "cell_type": "code",
   "execution_count": 6,
   "id": "db6f0590-4c27-4af2-a4f0-398e7ec64eba",
   "metadata": {},
   "outputs": [],
   "source": [
    "df_train = pd.read_pickle('../data/train_enriched.pkl')\n",
    "df_test = pd.read_pickle('../data/test_enriched.pkl')"
   ]
  },
  {
   "cell_type": "markdown",
   "id": "fd0ae49b-1077-458e-9aff-6444a34941e0",
   "metadata": {},
   "source": [
    "Let's refamiliarize ourselves with the features."
   ]
  },
  {
   "cell_type": "code",
   "execution_count": 7,
   "id": "57bf1725-f4f9-4cd6-b2ea-57f7afd3f291",
   "metadata": {},
   "outputs": [
    {
     "name": "stdout",
     "output_type": "stream",
     "text": [
      "<class 'pandas.core.frame.DataFrame'>\n",
      "Int64Index: 350959 entries, 0 to 354038\n",
      "Data columns (total 31 columns):\n",
      " #   Column                Non-Null Count   Dtype         \n",
      "---  ------                --------------   -----         \n",
      " 0   pitch_id              350959 non-null  object        \n",
      " 1   inning                350959 non-null  int64         \n",
      " 2   side                  350959 non-null  object        \n",
      " 3   run_diff              350959 non-null  int64         \n",
      " 4   at_bat_index          350959 non-null  int64         \n",
      " 5   pitch_of_ab           350959 non-null  int64         \n",
      " 6   batter                350959 non-null  int64         \n",
      " 7   pitcher               350959 non-null  int64         \n",
      " 8   catcher               350959 non-null  int64         \n",
      " 9   umpire                350959 non-null  int64         \n",
      " 10  bside                 350959 non-null  object        \n",
      " 11  pside                 350959 non-null  object        \n",
      " 12  stringer_zone_bottom  350959 non-null  float64       \n",
      " 13  stringer_zone_top     350959 non-null  float64       \n",
      " 14  on_1b_mlbid           106013 non-null  float64       \n",
      " 15  on_2b_mlbid           64287 non-null   float64       \n",
      " 16  on_3b_mlbid           31158 non-null   float64       \n",
      " 17  outs                  350959 non-null  int64         \n",
      " 18  balls                 350959 non-null  int64         \n",
      " 19  strikes               350959 non-null  int64         \n",
      " 20  pitch_speed           350959 non-null  float64       \n",
      " 21  px                    350959 non-null  float64       \n",
      " 22  pz                    350959 non-null  float64       \n",
      " 23  break_x               350959 non-null  float64       \n",
      " 24  break_z               350959 non-null  float64       \n",
      " 25  angle_x               350959 non-null  float64       \n",
      " 26  angle_z               350959 non-null  float64       \n",
      " 27  pitch_type            350959 non-null  object        \n",
      " 28  strike_bool           350959 non-null  int64         \n",
      " 29  game_date_dt          350959 non-null  datetime64[ns]\n",
      " 30  strike_bool_tf        350959 non-null  bool          \n",
      "dtypes: bool(1), datetime64[ns](1), float64(12), int64(12), object(5)\n",
      "memory usage: 83.3+ MB\n"
     ]
    }
   ],
   "source": [
    "df_train.info()"
   ]
  },
  {
   "cell_type": "markdown",
   "id": "f08da1ab-1889-48b3-bf3a-e83f1f76e153",
   "metadata": {},
   "source": [
    "---\n",
    "\n",
    "#### Feature Selection and Prep\n",
    "\n",
    "Select features:"
   ]
  },
  {
   "cell_type": "markdown",
   "id": "facec025-15e9-4d40-b4c5-d2a2d63088aa",
   "metadata": {},
   "source": [
    "For our initial super simple model, let's just pick four features: \n",
    "- `px` which is the horizontal location of the pitch at the plate\n",
    "- `pz` which is the vertical location\n",
    "- `stringer_zone_bottom` which is an estimate of current batter's strike zone bottom\n",
    "- `stringer_zone_top` which is an estimate of current batter's strike zone top"
   ]
  },
  {
   "cell_type": "code",
   "execution_count": 8,
   "id": "da4fd6e9-70fd-4bee-b321-40327d0787d5",
   "metadata": {},
   "outputs": [],
   "source": [
    "# Features selected\n",
    "feat_select = ['px', 'pz', 'stringer_zone_bottom', 'stringer_zone_top']"
   ]
  },
  {
   "cell_type": "markdown",
   "id": "66ef8983-f0bb-4951-a82f-9ae20d219ef8",
   "metadata": {},
   "source": [
    "Prep features:"
   ]
  },
  {
   "cell_type": "code",
   "execution_count": 9,
   "id": "a870a134-c23f-476d-8d1f-fb10344aa06d",
   "metadata": {},
   "outputs": [
    {
     "name": "stdout",
     "output_type": "stream",
     "text": [
      "<class 'pandas.core.frame.DataFrame'>\n",
      "Int64Index: 350959 entries, 0 to 354038\n",
      "Data columns (total 4 columns):\n",
      " #   Column                Non-Null Count   Dtype  \n",
      "---  ------                --------------   -----  \n",
      " 0   px                    350959 non-null  float64\n",
      " 1   pz                    350959 non-null  float64\n",
      " 2   stringer_zone_bottom  350959 non-null  float64\n",
      " 3   stringer_zone_top     350959 non-null  float64\n",
      "dtypes: float64(4)\n",
      "memory usage: 13.4 MB\n"
     ]
    },
    {
     "data": {
      "text/plain": [
       "None"
      ]
     },
     "metadata": {},
     "output_type": "display_data"
    }
   ],
   "source": [
    "# Get just the selected features\n",
    "df_X = df_train[feat_select]\n",
    "display(df_X.info())"
   ]
  },
  {
   "cell_type": "markdown",
   "id": "f43c5958-97aa-4029-9b66-ad53b6af2685",
   "metadata": {},
   "source": [
    "While we are at it, let's prep our targets:"
   ]
  },
  {
   "cell_type": "code",
   "execution_count": 10,
   "id": "b27c2cf9-f12a-4324-898a-55e08e6b5e64",
   "metadata": {},
   "outputs": [
    {
     "name": "stdout",
     "output_type": "stream",
     "text": [
      "<class 'pandas.core.frame.DataFrame'>\n",
      "Int64Index: 350959 entries, 0 to 354038\n",
      "Data columns (total 1 columns):\n",
      " #   Column       Non-Null Count   Dtype\n",
      "---  ------       --------------   -----\n",
      " 0   strike_bool  350959 non-null  int64\n",
      "dtypes: int64(1)\n",
      "memory usage: 5.4 MB\n"
     ]
    },
    {
     "data": {
      "text/plain": [
       "None"
      ]
     },
     "metadata": {},
     "output_type": "display_data"
    }
   ],
   "source": [
    "df_y = df_train['strike_bool']\n",
    "display(pd.DataFrame(df_y).info())"
   ]
  },
  {
   "cell_type": "markdown",
   "id": "c990a31b-d553-4227-9fdd-b946e3b9bd39",
   "metadata": {},
   "source": [
    "---\n",
    "\n",
    "#### Feature Engineering\n",
    "\n",
    "Select features:"
   ]
  },
  {
   "cell_type": "markdown",
   "id": "6ddb78e3-d580-4bef-bfa4-d8abfb1c82e8",
   "metadata": {},
   "source": [
    "For a neural network we will need to numerically represent our data (e.g. one-hot-encode any categorical features), as well as scale/normalize the data. \n",
    "\n",
    "All the selected features for this round are numerical, so we don't have to worry about encoding any categories. For scaling I'm choosing to *standardize*."
   ]
  },
  {
   "cell_type": "code",
   "execution_count": 11,
   "id": "e0e89560-8f67-42d3-b8ac-ad180c37d2a1",
   "metadata": {},
   "outputs": [],
   "source": [
    "scaler = StandardScaler()\n",
    "X_scaled = scaler.fit_transform(df_X)"
   ]
  },
  {
   "cell_type": "markdown",
   "id": "4963c4a1-afb4-46c0-9f5d-454f548aeed9",
   "metadata": {},
   "source": [
    "---\n",
    "\n",
    "#### Train / Test\n",
    "\n",
    "\n",
    "Create train/test splits.\n",
    "\n",
    "Breakout parameters for easy access."
   ]
  },
  {
   "cell_type": "code",
   "execution_count": 12,
   "id": "d876b0d8-23b2-4104-bf0b-95dfe8bf6c3c",
   "metadata": {},
   "outputs": [],
   "source": [
    "# Parameters\n",
    "test_size = 0.20\n",
    "random_state = 24"
   ]
  },
  {
   "cell_type": "code",
   "execution_count": 13,
   "id": "37efe2d2-1e8c-405f-9fed-b99c75d527a2",
   "metadata": {},
   "outputs": [],
   "source": [
    "X_train, X_test, y_train, y_test = train_test_split(X_scaled, df_y, test_size=test_size\n",
    "                                                    ,stratify=df_y,random_state = 24)"
   ]
  },
  {
   "cell_type": "markdown",
   "id": "e479dfc0-7a7c-4456-b3d9-1f54218ea289",
   "metadata": {},
   "source": [
    "---  \n",
    "\n",
    "<span style=\"font-size:0.5em;\">Tag 2</span>\n",
    "\n",
    "### Build Model<a id='build_model'></a>\n",
    "\n",
    "<span style=\"font-size:0.5em;\"><a href='#toc2'>Back to TOC</a></span>"
   ]
  },
  {
   "cell_type": "markdown",
   "id": "6d0cf42b-b297-4773-b486-a3f634f56aff",
   "metadata": {},
   "source": [
    "---\n",
    "\n",
    "#### First Neural Network Model\n",
    "\n",
    "Let's set up our initial parameters and build our models.\n",
    "\n",
    "We will use the Kera Sequential model."
   ]
  },
  {
   "cell_type": "code",
   "execution_count": 14,
   "id": "01880783-1cad-489a-b799-3657c70443e0",
   "metadata": {},
   "outputs": [],
   "source": [
    "# Initial Parameters\n",
    "num_inputs = X_train.shape[1]\n",
    "num_units_dense_1 = 2\n",
    "num_outputs = 1\n",
    "activ_dense = 'sigmoid'\n",
    "activ_output = 'sigmoid'\n",
    "\n",
    "n_epochs = 2\n",
    "val_split = 0.10"
   ]
  },
  {
   "cell_type": "code",
   "execution_count": 15,
   "id": "451d68c5-95a3-4e3e-99ed-20e43122b652",
   "metadata": {
    "tags": []
   },
   "outputs": [
    {
     "name": "stdout",
     "output_type": "stream",
     "text": [
      "Model: \"seq_model_strike\"\n",
      "_________________________________________________________________\n",
      " Layer (type)                Output Shape              Param #   \n",
      "=================================================================\n",
      " Hidden_1 (Dense)            (None, 2)                 10        \n",
      "                                                                 \n",
      " Output (Dense)              (None, 1)                 3         \n",
      "                                                                 \n",
      "=================================================================\n",
      "Total params: 13\n",
      "Trainable params: 13\n",
      "Non-trainable params: 0\n",
      "_________________________________________________________________\n"
     ]
    },
    {
     "name": "stderr",
     "output_type": "stream",
     "text": [
      "2022-05-07 03:12:52.375399: W tensorflow/stream_executor/platform/default/dso_loader.cc:64] Could not load dynamic library 'libcuda.so.1'; dlerror: libcuda.so.1: cannot open shared object file: No such file or directory\n",
      "2022-05-07 03:12:52.375432: W tensorflow/stream_executor/cuda/cuda_driver.cc:269] failed call to cuInit: UNKNOWN ERROR (303)\n",
      "2022-05-07 03:12:52.375453: I tensorflow/stream_executor/cuda/cuda_diagnostics.cc:156] kernel driver does not appear to be running on this host (18ab3b83-6ff3-46f7-8fe7-ca1b4f9817ab): /proc/driver/nvidia/version does not exist\n",
      "2022-05-07 03:12:52.375682: I tensorflow/core/platform/cpu_feature_guard.cc:151] This TensorFlow binary is optimized with oneAPI Deep Neural Network Library (oneDNN) to use the following CPU instructions in performance-critical operations:  AVX2 AVX512F FMA\n",
      "To enable them in other operations, rebuild TensorFlow with the appropriate compiler flags.\n"
     ]
    },
    {
     "data": {
      "image/png": "[encoded data removed]",
      "text/plain": [
       "<IPython.core.display.Image object>"
      ]
     },
     "execution_count": 15,
     "metadata": {},
     "output_type": "execute_result"
    }
   ],
   "source": [
    "# Create a Sequential model\n",
    "model = Sequential(name='seq_model_strike')\n",
    "\n",
    "# Add an input layer and a hidden layer with 10 neurons\n",
    "model.add(Dense(num_units_dense_1, input_shape=(num_inputs,)\n",
    "                ,activation=activ_dense, name='Hidden_1'))\n",
    "\n",
    "# Add a 1-neuron output layer\n",
    "model.add(Dense(num_outputs, activation=activ_output, name='Output'))\n",
    "\n",
    "# Compile your model\n",
    "model.compile(loss='binary_crossentropy', optimizer='adam'\n",
    "              ,metrics=['accuracy']\n",
    "             )\n",
    "\n",
    "# Summarise your model\n",
    "model.summary()\n",
    "\n",
    "plot_model(model)"
   ]
  },
  {
   "cell_type": "code",
   "execution_count": 16,
   "id": "ff10c672-e2ed-4de6-9186-c4eacd575a22",
   "metadata": {},
   "outputs": [
    {
     "data": {
      "text/plain": [
       "'To keep it realtively simple, we chose to use 2 nodes in 1 hidden layer.'"
      ]
     },
     "execution_count": 16,
     "metadata": {},
     "output_type": "execute_result"
    }
   ],
   "source": [
    "f\"To keep it realtively simple, we chose to use {num_units_dense_1} nodes in 1 hidden layer.\""
   ]
  },
  {
   "cell_type": "markdown",
   "id": "6f74e14c-d46d-4183-9ccd-515e705d45ba",
   "metadata": {},
   "source": [
    "---\n",
    "\n",
    "#### Model training\n",
    "\n",
    "We will save the model `History`."
   ]
  },
  {
   "cell_type": "code",
   "execution_count": 17,
   "id": "fe7ec8c3-7d81-4886-b39d-68bd1e9b6c59",
   "metadata": {},
   "outputs": [
    {
     "name": "stdout",
     "output_type": "stream",
     "text": [
      "Epoch 1/2\n",
      "7897/7897 [==============================] - 8s 989us/step - loss: 0.5827 - accuracy: 0.6859 - val_loss: 0.4972 - val_accuracy: 0.7253\n",
      "Epoch 2/2\n",
      "7897/7897 [==============================] - 8s 972us/step - loss: 0.4570 - accuracy: 0.7576 - val_loss: 0.4378 - val_accuracy: 0.7684\n"
     ]
    }
   ],
   "source": [
    "# Train model\n",
    "mod_hist =  model.fit(X_train, y_train, epochs = n_epochs\n",
    "                        ,validation_split=val_split)"
   ]
  },
  {
   "cell_type": "markdown",
   "id": "8b180f94-44b2-455f-85d6-b3bad781dc28",
   "metadata": {},
   "source": [
    "Not too bad through 2 epochs. Kind of weird that train accuracy is lower than validation accuracy, but we won't worry too much about it right now; only if we keep seeing it consistently in subsequent runs/tuning.\n",
    "\n",
    "Let's convert the history to a `DataFrame` for easier manipulation."
   ]
  },
  {
   "cell_type": "code",
   "execution_count": 18,
   "id": "533134d1-2272-4da3-a7c4-7f8533ad0e05",
   "metadata": {},
   "outputs": [],
   "source": [
    "df_mod_history = (pd.DataFrame(mod_hist.history).reset_index()\n",
    "                  .rename(columns={'index': 'epoch', 'loss': 'train_loss'\n",
    "                                   ,'accuracy': 'train_accuracy'}) \n",
    "                 )"
   ]
  },
  {
   "cell_type": "code",
   "execution_count": 19,
   "id": "e9800390-16ea-4f95-918b-f56b0abe9a69",
   "metadata": {},
   "outputs": [
    {
     "data": {
      "application/com.datacamp.data-table.v1+json": {
       "is_truncated": false,
       "table": {
        "data": [
         {
          "epoch": 0,
          "index": 0,
          "train_accuracy": 0.685860157,
          "train_loss": 0.5826838017,
          "val_accuracy": 0.7252911925,
          "val_loss": 0.4972337782
         },
         {
          "epoch": 1,
          "index": 1,
          "train_accuracy": 0.7576160431,
          "train_loss": 0.4570192993,
          "val_accuracy": 0.768422544,
          "val_loss": 0.437845856
         }
        ],
        "schema": {
         "fields": [
          {
           "name": "index",
           "type": "integer"
          },
          {
           "name": "epoch",
           "type": "integer"
          },
          {
           "name": "train_loss",
           "type": "number"
          },
          {
           "name": "train_accuracy",
           "type": "number"
          },
          {
           "name": "val_loss",
           "type": "number"
          },
          {
           "name": "val_accuracy",
           "type": "number"
          }
         ],
         "pandas_version": "0.20.0",
         "primaryKey": [
          "index"
         ]
        }
       },
       "total_rows": 2
      },
      "text/html": [
       "<div>\n",
       "<style scoped>\n",
       "    .dataframe tbody tr th:only-of-type {\n",
       "        vertical-align: middle;\n",
       "    }\n",
       "\n",
       "    .dataframe tbody tr th {\n",
       "        vertical-align: top;\n",
       "    }\n",
       "\n",
       "    .dataframe thead th {\n",
       "        text-align: right;\n",
       "    }\n",
       "</style>\n",
       "<table border=\"1\" class=\"dataframe\">\n",
       "  <thead>\n",
       "    <tr style=\"text-align: right;\">\n",
       "      <th></th>\n",
       "      <th>epoch</th>\n",
       "      <th>train_loss</th>\n",
       "      <th>train_accuracy</th>\n",
       "      <th>val_loss</th>\n",
       "      <th>val_accuracy</th>\n",
       "    </tr>\n",
       "  </thead>\n",
       "  <tbody>\n",
       "    <tr>\n",
       "      <th>0</th>\n",
       "      <td>0</td>\n",
       "      <td>0.582684</td>\n",
       "      <td>0.685860</td>\n",
       "      <td>0.497234</td>\n",
       "      <td>0.725291</td>\n",
       "    </tr>\n",
       "    <tr>\n",
       "      <th>1</th>\n",
       "      <td>1</td>\n",
       "      <td>0.457019</td>\n",
       "      <td>0.757616</td>\n",
       "      <td>0.437846</td>\n",
       "      <td>0.768423</td>\n",
       "    </tr>\n",
       "  </tbody>\n",
       "</table>\n",
       "</div>"
      ],
      "text/plain": [
       "   epoch  train_loss  train_accuracy  val_loss  val_accuracy\n",
       "0      0    0.582684        0.685860  0.497234      0.725291\n",
       "1      1    0.457019        0.757616  0.437846      0.768423"
      ]
     },
     "execution_count": 19,
     "metadata": {},
     "output_type": "execute_result"
    }
   ],
   "source": [
    "df_mod_history"
   ]
  },
  {
   "cell_type": "markdown",
   "id": "75b82fb7-cc4f-4144-b687-4db18a8151b4",
   "metadata": {},
   "source": [
    "Let's do a quick viz on the accuracy over the two epochs."
   ]
  },
  {
   "cell_type": "code",
   "execution_count": 20,
   "id": "3e6cc973-5373-433f-b8c2-a622ac601099",
   "metadata": {},
   "outputs": [
    {
     "data": {
      "image/png": "[encoded data removed]",
      "text/plain": [
       "<Figure size 432x288 with 1 Axes>"
      ]
     },
     "metadata": {
      "needs_background": "light"
     },
     "output_type": "display_data"
    }
   ],
   "source": [
    "_ = sns.lineplot(data=df_mod_history, x='epoch', y='train_accuracy')\n",
    "_ = sns.lineplot(data=df_mod_history, x='epoch', y='val_accuracy')\n",
    "# _.set(ylim=(min_y,1))\n",
    "_.set_ylabel(\"Accuracy\")\n",
    "plt.legend(labels=[\"Train\",\"Validation\"])\n",
    "plt.show()"
   ]
  },
  {
   "cell_type": "markdown",
   "id": "0f6e79cb-e3f0-455a-82ac-6f648bd6e434",
   "metadata": {},
   "source": [
    "Let's evaluate the model on the *test* set."
   ]
  },
  {
   "cell_type": "code",
   "execution_count": 21,
   "id": "1f17c33f-6312-4dbc-85a7-dbb6c0f15da1",
   "metadata": {
    "tags": []
   },
   "outputs": [
    {
     "name": "stdout",
     "output_type": "stream",
     "text": [
      "2194/2194 [==============================] - 2s 719us/step - loss: 0.4386 - accuracy: 0.7688\n",
      "Accuracy: 0.768777072429657\n"
     ]
    }
   ],
   "source": [
    "# Evaluate model accuracy on the test set\n",
    "accuracy = model.evaluate(X_test, y_test)[1]\n",
    "\n",
    "# Print accuracy\n",
    "print('Accuracy:', accuracy)"
   ]
  },
  {
   "cell_type": "markdown",
   "id": "c6355848-fc6d-4da7-97b6-99a35e0d8ca9",
   "metadata": {},
   "source": [
    "Test accuracy of .77 is in line with what we saw out of train/val (.76/0.77).\n",
    "\n",
    "Now that we created a single model as a warmup, let's try to hone in on a good candidate using Random Hyperparameter Search."
   ]
  },
  {
   "cell_type": "markdown",
   "id": "64371874-6ccb-4dcd-9988-efc4d1d60c22",
   "metadata": {},
   "source": [
    "---  \n",
    "\n",
    "<span style=\"font-size:0.5em;\">Tag 3</span>\n",
    "\n",
    "### Random Hyperparameter Search<a id='rand_search'></a>\n",
    "\n",
    "<span style=\"font-size:0.5em;\"><a href='#toc2'>Back to TOC</a></span>"
   ]
  },
  {
   "cell_type": "markdown",
   "id": "d32db77e-0954-4e50-b131-6f588e283aff",
   "metadata": {},
   "source": [
    "#### Preparation\n",
    "\n",
    "Let's create functions for:\n",
    "- Model build\n",
    "\n",
    "In reviewing methodology to use `keras` with `sklearn`, I found `scikeras`. Their [tutorial](https://www.adriangb.com/scikeras/stable/notebooks/Basic_Usage.html#4.2-Saving-using-Keras-saving-methods) has a lot of good examples on how to leverage `sklearn` functionality but use Keras models, so alot of the following will be leveraging those example codes."
   ]
  },
  {
   "cell_type": "markdown",
   "id": "486a1c5b-763e-437a-a543-cfcffe4d012d",
   "metadata": {},
   "source": [
    "Create model build function to create a binary classification neural network model that ingests the current set of parameters."
   ]
  },
  {
   "cell_type": "code",
   "execution_count": 22,
   "id": "4eac9251-048f-494e-8e56-3fdab59fa647",
   "metadata": {},
   "outputs": [],
   "source": [
    "# Full credit to scikeras tutorial (see 2.2 in 'tutorial' link above)\n",
    "def get_clf(meta, hidden_layer_sizes, dropout):\n",
    "    n_features_in_ = meta[\"n_features_in_\"]\n",
    "    n_classes_ = meta[\"n_classes_\"]\n",
    "    model = keras.models.Sequential()\n",
    "    model.add(keras.layers.Input(shape=(n_features_in_,)))\n",
    "    for hidden_layer_size in hidden_layer_sizes:\n",
    "        model.add(keras.layers.Dense(hidden_layer_size, activation=\"relu\"))\n",
    "        model.add(keras.layers.Dropout(dropout))\n",
    "    model.add(keras.layers.Dense(1, activation=\"sigmoid\"))\n",
    "    return model"
   ]
  },
  {
   "cell_type": "markdown",
   "id": "9c13fc67-792c-40a8-8650-5e2178986208",
   "metadata": {},
   "source": [
    "Instantiate a `scikeras` classifier:"
   ]
  },
  {
   "cell_type": "code",
   "execution_count": 23,
   "id": "abdca066-0f5a-41f1-b2b2-e8bea3d866b6",
   "metadata": {},
   "outputs": [],
   "source": [
    "clf = KerasClassifier(\n",
    "    model=get_clf,\n",
    "    loss=\"binary_crossentropy\",\n",
    "    optimizer=\"adam\",\n",
    "    optimizer__lr=0.1,\n",
    "    model__hidden_layer_sizes=(100,),\n",
    "    model__dropout=0.5,\n",
    "    verbose=True,\n",
    "    metrics=['binary_accuracy'],\n",
    "    validation_split=0.10\n",
    ")\n",
    "\n",
    "# clf.fit(X_train, y_train)"
   ]
  },
  {
   "cell_type": "markdown",
   "id": "a30f6bad-f5e2-43b0-a86b-a39cc5b84c2e",
   "metadata": {},
   "source": [
    "Let's create a grid of parameters and do a random search to identify the most promising combination.\n"
   ]
  },
  {
   "cell_type": "markdown",
   "id": "5602d0de-e493-44af-9824-6bd90395590f",
   "metadata": {},
   "source": [
    "Create `dict` of parameters to perform random search on."
   ]
  },
  {
   "cell_type": "code",
   "execution_count": 24,
   "id": "11c6fda6-91f1-4097-b0d1-cfbec538c5d8",
   "metadata": {},
   "outputs": [],
   "source": [
    "params = {\n",
    "    'optimizer__lr': [0.001, 0.01, 0.05, 0.5],\n",
    "    'model__hidden_layer_sizes': [(100,), (50, 50, )],\n",
    "    'model__dropout': [0, 0.5],\n",
    "    'epochs': [2, 3, 5],\n",
    "    'batch_size': [32, 128, 256]\n",
    "}"
   ]
  },
  {
   "cell_type": "markdown",
   "id": "eec5f704-4d49-4294-8cf0-e13393d6690e",
   "metadata": {},
   "source": [
    "Instantiate the `RandomSearchCV` object:"
   ]
  },
  {
   "cell_type": "code",
   "execution_count": 25,
   "id": "86bb9e12-97cc-411b-bd5e-8b7c54146ee0",
   "metadata": {
    "tags": []
   },
   "outputs": [],
   "source": [
    "rs = RandomizedSearchCV(estimator=clf\n",
    "                        ,param_distributions=params\n",
    "                        ,cv=5\n",
    "                        ,refit=True\n",
    "                        ,verbose=True\n",
    "                        )"
   ]
  },
  {
   "cell_type": "markdown",
   "id": "b6bba49d-298c-40a5-a607-d1770c650cee",
   "metadata": {},
   "source": [
    "Fit to the training data!"
   ]
  },
  {
   "cell_type": "code",
   "execution_count": 26,
   "id": "23d9e894-be03-4715-8a17-c82d402e0168",
   "metadata": {
    "tags": []
   },
   "outputs": [
    {
     "name": "stdout",
     "output_type": "stream",
     "text": [
      "Fitting 5 folds for each of 10 candidates, totalling 50 fits\n",
      "Epoch 1/5\n",
      "1580/1580 [==============================] - 2s 1ms/step - loss: 0.1860 - binary_accuracy: 0.9184 - val_loss: 0.1802 - val_binary_accuracy: 0.9212\n",
      "Epoch 2/5\n",
      "1580/1580 [==============================] - 2s 1ms/step - loss: 0.1764 - binary_accuracy: 0.9231 - val_loss: 0.1790 - val_binary_accuracy: 0.9208\n",
      "Epoch 3/5\n",
      "1580/1580 [==============================] - 2s 1ms/step - loss: 0.1737 - binary_accuracy: 0.9240 - val_loss: 0.1752 - val_binary_accuracy: 0.9240\n",
      "Epoch 4/5\n",
      "1580/1580 [==============================] - 2s 1ms/step - loss: 0.1725 - binary_accuracy: 0.9250 - val_loss: 0.1740 - val_binary_accuracy: 0.9248\n",
      "Epoch 5/5\n",
      "1580/1580 [==============================] - 2s 1ms/step - loss: 0.1716 - binary_accuracy: 0.9250 - val_loss: 0.1706 - val_binary_accuracy: 0.9265\n",
      "439/439 [==============================] - 0s 586us/step\n",
      "Epoch 1/5\n",
      "1580/1580 [==============================] - 2s 1ms/step - loss: 0.1859 - binary_accuracy: 0.9181 - val_loss: 0.2032 - val_binary_accuracy: 0.9135\n",
      "Epoch 2/5\n",
      "1580/1580 [==============================] - 2s 1ms/step - loss: 0.1750 - binary_accuracy: 0.9235 - val_loss: 0.1766 - val_binary_accuracy: 0.9216\n",
      "Epoch 3/5\n",
      "1580/1580 [==============================] - 2s 1ms/step - loss: 0.1740 - binary_accuracy: 0.9238 - val_loss: 0.1703 - val_binary_accuracy: 0.9263\n",
      "Epoch 4/5\n",
      "1580/1580 [==============================] - 2s 1ms/step - loss: 0.1722 - binary_accuracy: 0.9248 - val_loss: 0.1692 - val_binary_accuracy: 0.9277\n",
      "Epoch 5/5\n",
      "1580/1580 [==============================] - 2s 1ms/step - loss: 0.1718 - binary_accuracy: 0.9250 - val_loss: 0.1712 - val_binary_accuracy: 0.9244\n",
      "439/439 [==============================] - 0s 631us/step\n",
      "Epoch 1/5\n",
      "1580/1580 [==============================] - 2s 1ms/step - loss: 0.1862 - binary_accuracy: 0.9178 - val_loss: 0.1740 - val_binary_accuracy: 0.9251\n",
      "Epoch 2/5\n",
      "1580/1580 [==============================] - 2s 1ms/step - loss: 0.1752 - binary_accuracy: 0.9237 - val_loss: 0.1696 - val_binary_accuracy: 0.9256\n",
      "Epoch 3/5\n",
      "1580/1580 [==============================] - 2s 1ms/step - loss: 0.1729 - binary_accuracy: 0.9241 - val_loss: 0.1763 - val_binary_accuracy: 0.9241\n",
      "Epoch 4/5\n",
      "1580/1580 [==============================] - 2s 1ms/step - loss: 0.1721 - binary_accuracy: 0.9248 - val_loss: 0.1719 - val_binary_accuracy: 0.9250\n",
      "Epoch 5/5\n",
      "1580/1580 [==============================] - 2s 1ms/step - loss: 0.1717 - binary_accuracy: 0.9247 - val_loss: 0.1725 - val_binary_accuracy: 0.9248\n",
      "439/439 [==============================] - 0s 608us/step\n",
      "Epoch 1/5\n",
      "1580/1580 [==============================] - 2s 1ms/step - loss: 0.1876 - binary_accuracy: 0.9179 - val_loss: 0.1777 - val_binary_accuracy: 0.9223\n",
      "Epoch 2/5\n",
      "1580/1580 [==============================] - 2s 1ms/step - loss: 0.1767 - binary_accuracy: 0.9232 - val_loss: 0.1784 - val_binary_accuracy: 0.9216\n",
      "Epoch 3/5\n",
      "1580/1580 [==============================] - 2s 1ms/step - loss: 0.1732 - binary_accuracy: 0.9247 - val_loss: 0.1744 - val_binary_accuracy: 0.9237\n",
      "Epoch 4/5\n",
      "1580/1580 [==============================] - 2s 1ms/step - loss: 0.1724 - binary_accuracy: 0.9249 - val_loss: 0.1703 - val_binary_accuracy: 0.9264\n",
      "Epoch 5/5\n",
      "1580/1580 [==============================] - 2s 1ms/step - loss: 0.1724 - binary_accuracy: 0.9254 - val_loss: 0.1750 - val_binary_accuracy: 0.9241\n",
      "439/439 [==============================] - 0s 638us/step\n",
      "Epoch 1/5\n",
      "1580/1580 [==============================] - 2s 1ms/step - loss: 0.1864 - binary_accuracy: 0.9189 - val_loss: 0.1834 - val_binary_accuracy: 0.9198\n",
      "Epoch 2/5\n",
      "1580/1580 [==============================] - 2s 1ms/step - loss: 0.1756 - binary_accuracy: 0.9237 - val_loss: 0.1746 - val_binary_accuracy: 0.9219\n",
      "Epoch 3/5\n",
      "1580/1580 [==============================] - 2s 1ms/step - loss: 0.1732 - binary_accuracy: 0.9248 - val_loss: 0.1667 - val_binary_accuracy: 0.9254\n",
      "Epoch 4/5\n",
      "1580/1580 [==============================] - 2s 1ms/step - loss: 0.1716 - binary_accuracy: 0.9255 - val_loss: 0.1697 - val_binary_accuracy: 0.9249\n",
      "Epoch 5/5\n",
      "1580/1580 [==============================] - 2s 1ms/step - loss: 0.1708 - binary_accuracy: 0.9258 - val_loss: 0.1652 - val_binary_accuracy: 0.9257\n",
      "439/439 [==============================] - 0s 624us/step\n",
      "Epoch 1/2\n",
      "1580/1580 [==============================] - 3s 1ms/step - loss: 0.2201 - binary_accuracy: 0.9042 - val_loss: 0.1800 - val_binary_accuracy: 0.9239\n",
      "Epoch 2/2\n",
      "1580/1580 [==============================] - 2s 1ms/step - loss: 0.1968 - binary_accuracy: 0.9170 - val_loss: 0.1755 - val_binary_accuracy: 0.9259\n",
      "439/439 [==============================] - 0s 603us/step\n",
      "Epoch 1/2\n",
      "1580/1580 [==============================] - 3s 1ms/step - loss: 0.2181 - binary_accuracy: 0.9059 - val_loss: 0.1767 - val_binary_accuracy: 0.9241\n",
      "Epoch 2/2\n",
      "1580/1580 [==============================] - 2s 1ms/step - loss: 0.1958 - binary_accuracy: 0.9175 - val_loss: 0.1754 - val_binary_accuracy: 0.9262\n",
      "439/439 [==============================] - 0s 578us/step\n",
      "Epoch 1/2\n",
      "1580/1580 [==============================] - 3s 1ms/step - loss: 0.2183 - binary_accuracy: 0.9051 - val_loss: 0.1770 - val_binary_accuracy: 0.9267\n",
      "Epoch 2/2\n",
      "1580/1580 [==============================] - 2s 1ms/step - loss: 0.1949 - binary_accuracy: 0.9180 - val_loss: 0.1775 - val_binary_accuracy: 0.9248\n",
      "439/439 [==============================] - 0s 598us/step\n",
      "Epoch 1/2\n",
      "1580/1580 [==============================] - 3s 1ms/step - loss: 0.2174 - binary_accuracy: 0.9067 - val_loss: 0.1770 - val_binary_accuracy: 0.9257\n",
      "Epoch 2/2\n",
      "1580/1580 [==============================] - 2s 1ms/step - loss: 0.1957 - binary_accuracy: 0.9182 - val_loss: 0.1780 - val_binary_accuracy: 0.9245\n",
      "439/439 [==============================] - 0s 580us/step\n",
      "Epoch 1/2\n",
      "1580/1580 [==============================] - 3s 1ms/step - loss: 0.2184 - binary_accuracy: 0.9055 - val_loss: 0.1764 - val_binary_accuracy: 0.9248\n",
      "Epoch 2/2\n",
      "1580/1580 [==============================] - 2s 1ms/step - loss: 0.1954 - binary_accuracy: 0.9185 - val_loss: 0.1749 - val_binary_accuracy: 0.9258\n",
      "439/439 [==============================] - 0s 587us/step\n",
      "Epoch 1/3\n",
      "790/790 [==============================] - 2s 2ms/step - loss: 0.3576 - binary_accuracy: 0.8286 - val_loss: 0.2147 - val_binary_accuracy: 0.9149\n",
      "Epoch 2/3\n",
      "790/790 [==============================] - 1s 2ms/step - loss: 0.2316 - binary_accuracy: 0.9001 - val_loss: 0.1877 - val_binary_accuracy: 0.9223\n",
      "Epoch 3/3\n",
      "790/790 [==============================] - 1s 2ms/step - loss: 0.2132 - binary_accuracy: 0.9085 - val_loss: 0.1795 - val_binary_accuracy: 0.9254\n",
      "220/220 [==============================] - 0s 608us/step\n",
      "Epoch 1/3\n",
      "790/790 [==============================] - 2s 2ms/step - loss: 0.3773 - binary_accuracy: 0.8137 - val_loss: 0.2200 - val_binary_accuracy: 0.9186\n",
      "Epoch 2/3\n",
      "790/790 [==============================] - 2s 2ms/step - loss: 0.2367 - binary_accuracy: 0.8994 - val_loss: 0.1885 - val_binary_accuracy: 0.9230\n",
      "Epoch 3/3\n",
      "790/790 [==============================] - 1s 2ms/step - loss: 0.2164 - binary_accuracy: 0.9069 - val_loss: 0.1819 - val_binary_accuracy: 0.9244\n",
      "220/220 [==============================] - 0s 625us/step\n",
      "Epoch 1/3\n",
      "790/790 [==============================] - 2s 2ms/step - loss: 0.3620 - binary_accuracy: 0.8235 - val_loss: 0.2123 - val_binary_accuracy: 0.9210\n",
      "Epoch 2/3\n",
      "790/790 [==============================] - 1s 2ms/step - loss: 0.2297 - binary_accuracy: 0.9015 - val_loss: 0.1879 - val_binary_accuracy: 0.9229\n",
      "Epoch 3/3\n",
      "790/790 [==============================] - 1s 2ms/step - loss: 0.2121 - binary_accuracy: 0.9091 - val_loss: 0.1787 - val_binary_accuracy: 0.9252\n",
      "220/220 [==============================] - 0s 699us/step\n",
      "Epoch 1/3\n",
      "790/790 [==============================] - 2s 2ms/step - loss: 0.4090 - binary_accuracy: 0.7882 - val_loss: 0.2393 - val_binary_accuracy: 0.9147\n",
      "Epoch 2/3\n",
      "790/790 [==============================] - 1s 2ms/step - loss: 0.2464 - binary_accuracy: 0.8951 - val_loss: 0.1923 - val_binary_accuracy: 0.9216\n",
      "Epoch 3/3\n",
      "790/790 [==============================] - 1s 2ms/step - loss: 0.2233 - binary_accuracy: 0.9043 - val_loss: 0.1844 - val_binary_accuracy: 0.9240\n",
      "220/220 [==============================] - 0s 590us/step\n",
      "Epoch 1/3\n",
      "790/790 [==============================] - 2s 2ms/step - loss: 0.3743 - binary_accuracy: 0.8162 - val_loss: 0.2202 - val_binary_accuracy: 0.9143\n",
      "Epoch 2/3\n",
      "790/790 [==============================] - 1s 2ms/step - loss: 0.2336 - binary_accuracy: 0.9007 - val_loss: 0.1885 - val_binary_accuracy: 0.9216\n",
      "Epoch 3/3\n",
      "790/790 [==============================] - 1s 2ms/step - loss: 0.2140 - binary_accuracy: 0.9085 - val_loss: 0.1816 - val_binary_accuracy: 0.9231\n",
      "220/220 [==============================] - 0s 599us/step\n",
      "Epoch 1/2\n",
      "790/790 [==============================] - 2s 2ms/step - loss: 0.2469 - binary_accuracy: 0.8968 - val_loss: 0.2047 - val_binary_accuracy: 0.9107\n",
      "Epoch 2/2\n",
      "790/790 [==============================] - 2s 2ms/step - loss: 0.2343 - binary_accuracy: 0.9042 - val_loss: 0.2168 - val_binary_accuracy: 0.9058\n",
      "220/220 [==============================] - 0s 653us/step\n",
      "Epoch 1/2\n",
      "790/790 [==============================] - 2s 2ms/step - loss: 0.2557 - binary_accuracy: 0.8940 - val_loss: 0.1809 - val_binary_accuracy: 0.9231\n",
      "Epoch 2/2\n",
      "790/790 [==============================] - 1s 2ms/step - loss: 0.2404 - binary_accuracy: 0.9030 - val_loss: 0.1844 - val_binary_accuracy: 0.9221\n",
      "220/220 [==============================] - 0s 645us/step\n",
      "Epoch 1/2\n",
      "790/790 [==============================] - 2s 2ms/step - loss: 0.2595 - binary_accuracy: 0.8933 - val_loss: 0.2182 - val_binary_accuracy: 0.9058\n",
      "Epoch 2/2\n",
      "790/790 [==============================] - 1s 2ms/step - loss: 0.2408 - binary_accuracy: 0.9032 - val_loss: 0.2078 - val_binary_accuracy: 0.9153\n",
      "220/220 [==============================] - 0s 655us/step\n",
      "Epoch 1/2\n",
      "790/790 [==============================] - 2s 2ms/step - loss: 0.2543 - binary_accuracy: 0.8944 - val_loss: 0.1957 - val_binary_accuracy: 0.9161\n",
      "Epoch 2/2\n",
      "790/790 [==============================] - 1s 2ms/step - loss: 0.2396 - binary_accuracy: 0.9030 - val_loss: 0.1971 - val_binary_accuracy: 0.9231\n",
      "220/220 [==============================] - 0s 656us/step\n",
      "Epoch 1/2\n",
      "790/790 [==============================] - 2s 2ms/step - loss: 0.2468 - binary_accuracy: 0.8981 - val_loss: 0.1969 - val_binary_accuracy: 0.9177\n",
      "Epoch 2/2\n",
      "790/790 [==============================] - 1s 2ms/step - loss: 0.2388 - binary_accuracy: 0.9037 - val_loss: 0.1983 - val_binary_accuracy: 0.9113\n",
      "220/220 [==============================] - 0s 678us/step\n",
      "Epoch 1/3\n",
      "1580/1580 [==============================] - 3s 2ms/step - loss: 0.3102 - binary_accuracy: 0.8537 - val_loss: 0.1783 - val_binary_accuracy: 0.9265\n",
      "Epoch 2/3\n",
      "1580/1580 [==============================] - 3s 2ms/step - loss: 0.2085 - binary_accuracy: 0.9154 - val_loss: 0.1765 - val_binary_accuracy: 0.9263\n",
      "Epoch 3/3\n",
      "1580/1580 [==============================] - 2s 1ms/step - loss: 0.1989 - binary_accuracy: 0.9197 - val_loss: 0.1738 - val_binary_accuracy: 0.9258\n",
      "439/439 [==============================] - 0s 650us/step\n",
      "Epoch 1/3\n",
      "1580/1580 [==============================] - 3s 2ms/step - loss: 0.2935 - binary_accuracy: 0.8657 - val_loss: 0.1774 - val_binary_accuracy: 0.9260\n",
      "Epoch 2/3\n",
      "1580/1580 [==============================] - 2s 1ms/step - loss: 0.2049 - binary_accuracy: 0.9167 - val_loss: 0.1769 - val_binary_accuracy: 0.9254\n",
      "Epoch 3/3\n",
      "1580/1580 [==============================] - 3s 2ms/step - loss: 0.1985 - binary_accuracy: 0.9193 - val_loss: 0.1743 - val_binary_accuracy: 0.9246\n",
      "439/439 [==============================] - 0s 598us/step\n",
      "Epoch 1/3\n",
      "1580/1580 [==============================] - 3s 2ms/step - loss: 0.2880 - binary_accuracy: 0.8694 - val_loss: 0.1788 - val_binary_accuracy: 0.9269\n",
      "Epoch 2/3\n",
      "1580/1580 [==============================] - 2s 2ms/step - loss: 0.2060 - binary_accuracy: 0.9159 - val_loss: 0.1748 - val_binary_accuracy: 0.9270\n",
      "Epoch 3/3\n",
      "1580/1580 [==============================] - 2s 2ms/step - loss: 0.1982 - binary_accuracy: 0.9190 - val_loss: 0.1742 - val_binary_accuracy: 0.9253\n",
      "439/439 [==============================] - 0s 685us/step\n",
      "Epoch 1/3\n",
      "1580/1580 [==============================] - 3s 2ms/step - loss: 0.2938 - binary_accuracy: 0.8641 - val_loss: 0.1780 - val_binary_accuracy: 0.9257\n",
      "Epoch 2/3\n",
      "1580/1580 [==============================] - 2s 1ms/step - loss: 0.2069 - binary_accuracy: 0.9159 - val_loss: 0.1752 - val_binary_accuracy: 0.9260\n",
      "Epoch 3/3\n",
      "1580/1580 [==============================] - 2s 2ms/step - loss: 0.1990 - binary_accuracy: 0.9197 - val_loss: 0.1745 - val_binary_accuracy: 0.9257\n",
      "439/439 [==============================] - 0s 604us/step\n",
      "Epoch 1/3\n",
      "1580/1580 [==============================] - 3s 2ms/step - loss: 0.2933 - binary_accuracy: 0.8670 - val_loss: 0.1784 - val_binary_accuracy: 0.9245\n",
      "Epoch 2/3\n",
      "1580/1580 [==============================] - 2s 2ms/step - loss: 0.2071 - binary_accuracy: 0.9158 - val_loss: 0.1743 - val_binary_accuracy: 0.9262\n",
      "Epoch 3/3\n",
      "1580/1580 [==============================] - 2s 2ms/step - loss: 0.1981 - binary_accuracy: 0.9198 - val_loss: 0.1705 - val_binary_accuracy: 0.9260\n",
      "439/439 [==============================] - 0s 634us/step\n",
      "Epoch 1/2\n",
      "1580/1580 [==============================] - 3s 2ms/step - loss: 0.6933 - binary_accuracy: 0.6860 - val_loss: 0.6306 - val_binary_accuracy: 0.6866\n",
      "Epoch 2/2\n",
      "1580/1580 [==============================] - 2s 2ms/step - loss: 0.6256 - binary_accuracy: 0.6869 - val_loss: 0.6283 - val_binary_accuracy: 0.6866\n",
      "439/439 [==============================] - 0s 611us/step\n",
      "Epoch 1/2\n",
      "1580/1580 [==============================] - 3s 2ms/step - loss: 0.6883 - binary_accuracy: 0.6862 - val_loss: 0.6259 - val_binary_accuracy: 0.6866\n",
      "Epoch 2/2\n",
      "1580/1580 [==============================] - 2s 1ms/step - loss: 0.6657 - binary_accuracy: 0.6869 - val_loss: 0.6251 - val_binary_accuracy: 0.6866\n",
      "439/439 [==============================] - 0s 628us/step\n",
      "Epoch 1/2\n",
      "1580/1580 [==============================] - 3s 2ms/step - loss: 0.6805 - binary_accuracy: 0.6862 - val_loss: 0.6231 - val_binary_accuracy: 0.6866\n",
      "Epoch 2/2\n",
      "1580/1580 [==============================] - 2s 1ms/step - loss: 0.6263 - binary_accuracy: 0.6869 - val_loss: 0.6218 - val_binary_accuracy: 0.6866\n",
      "439/439 [==============================] - 0s 632us/step\n",
      "Epoch 1/2\n",
      "1580/1580 [==============================] - 3s 2ms/step - loss: 0.7217 - binary_accuracy: 0.6865 - val_loss: 0.6218 - val_binary_accuracy: 0.6866\n",
      "Epoch 2/2\n",
      "1580/1580 [==============================] - 2s 1ms/step - loss: 0.6274 - binary_accuracy: 0.6869 - val_loss: 0.6238 - val_binary_accuracy: 0.6866\n",
      "439/439 [==============================] - 0s 633us/step\n",
      "Epoch 1/2\n",
      "1580/1580 [==============================] - 3s 2ms/step - loss: 0.7592 - binary_accuracy: 0.6862 - val_loss: 0.6232 - val_binary_accuracy: 0.6848\n",
      "Epoch 2/2\n",
      "1580/1580 [==============================] - 2s 1ms/step - loss: 0.6363 - binary_accuracy: 0.6871 - val_loss: 0.6900 - val_binary_accuracy: 0.6848\n",
      "439/439 [==============================] - 0s 617us/step\n",
      "Epoch 1/5\n",
      "790/790 [==============================] - 2s 1ms/step - loss: 0.3190 - binary_accuracy: 0.8521 - val_loss: 0.1870 - val_binary_accuracy: 0.9251\n",
      "Epoch 2/5\n",
      "790/790 [==============================] - 1s 1ms/step - loss: 0.1714 - binary_accuracy: 0.9272 - val_loss: 0.1685 - val_binary_accuracy: 0.9266\n",
      "Epoch 3/5\n",
      "790/790 [==============================] - 1s 1ms/step - loss: 0.1646 - binary_accuracy: 0.9278 - val_loss: 0.1674 - val_binary_accuracy: 0.9269\n",
      "Epoch 4/5\n",
      "790/790 [==============================] - 1s 2ms/step - loss: 0.1640 - binary_accuracy: 0.9279 - val_loss: 0.1677 - val_binary_accuracy: 0.9266\n",
      "Epoch 5/5\n",
      "790/790 [==============================] - 1s 1ms/step - loss: 0.1637 - binary_accuracy: 0.9279 - val_loss: 0.1678 - val_binary_accuracy: 0.9264\n",
      "220/220 [==============================] - 0s 631us/step\n",
      "Epoch 1/5\n",
      "790/790 [==============================] - 1s 1ms/step - loss: 0.3473 - binary_accuracy: 0.8313 - val_loss: 0.1934 - val_binary_accuracy: 0.9249\n",
      "Epoch 2/5\n",
      "790/790 [==============================] - 1s 1ms/step - loss: 0.1748 - binary_accuracy: 0.9270 - val_loss: 0.1704 - val_binary_accuracy: 0.9268\n",
      "Epoch 3/5\n",
      "790/790 [==============================] - 1s 1ms/step - loss: 0.1657 - binary_accuracy: 0.9280 - val_loss: 0.1679 - val_binary_accuracy: 0.9263\n",
      "Epoch 4/5\n",
      "790/790 [==============================] - 1s 1ms/step - loss: 0.1647 - binary_accuracy: 0.9280 - val_loss: 0.1672 - val_binary_accuracy: 0.9272\n",
      "Epoch 5/5\n",
      "790/790 [==============================] - 1s 1ms/step - loss: 0.1645 - binary_accuracy: 0.9276 - val_loss: 0.1679 - val_binary_accuracy: 0.9264\n",
      "220/220 [==============================] - 0s 640us/step\n",
      "Epoch 1/5\n",
      "790/790 [==============================] - 1s 1ms/step - loss: 0.3302 - binary_accuracy: 0.8421 - val_loss: 0.1898 - val_binary_accuracy: 0.9251\n",
      "Epoch 2/5\n",
      "790/790 [==============================] - 1s 2ms/step - loss: 0.1727 - binary_accuracy: 0.9271 - val_loss: 0.1707 - val_binary_accuracy: 0.9260\n",
      "Epoch 3/5\n",
      "790/790 [==============================] - 1s 1ms/step - loss: 0.1650 - binary_accuracy: 0.9278 - val_loss: 0.1675 - val_binary_accuracy: 0.9265\n",
      "Epoch 4/5\n",
      "790/790 [==============================] - 1s 1ms/step - loss: 0.1640 - binary_accuracy: 0.9278 - val_loss: 0.1685 - val_binary_accuracy: 0.9262\n",
      "Epoch 5/5\n",
      "790/790 [==============================] - 1s 1ms/step - loss: 0.1638 - binary_accuracy: 0.9277 - val_loss: 0.1671 - val_binary_accuracy: 0.9264\n",
      "220/220 [==============================] - 0s 604us/step\n",
      "Epoch 1/5\n",
      "790/790 [==============================] - 1s 1ms/step - loss: 0.3134 - binary_accuracy: 0.8531 - val_loss: 0.1847 - val_binary_accuracy: 0.9258\n",
      "Epoch 2/5\n",
      "790/790 [==============================] - 1s 1ms/step - loss: 0.1713 - binary_accuracy: 0.9279 - val_loss: 0.1685 - val_binary_accuracy: 0.9270\n",
      "Epoch 3/5\n",
      "790/790 [==============================] - 1s 1ms/step - loss: 0.1651 - binary_accuracy: 0.9283 - val_loss: 0.1672 - val_binary_accuracy: 0.9274\n",
      "Epoch 4/5\n",
      "790/790 [==============================] - 1s 1ms/step - loss: 0.1644 - binary_accuracy: 0.9281 - val_loss: 0.1668 - val_binary_accuracy: 0.9276\n",
      "Epoch 5/5\n",
      "790/790 [==============================] - 1s 1ms/step - loss: 0.1643 - binary_accuracy: 0.9281 - val_loss: 0.1676 - val_binary_accuracy: 0.9257\n",
      "220/220 [==============================] - 0s 694us/step\n",
      "Epoch 1/5\n",
      "790/790 [==============================] - 1s 1ms/step - loss: 0.3463 - binary_accuracy: 0.8336 - val_loss: 0.1946 - val_binary_accuracy: 0.9249\n",
      "Epoch 2/5\n",
      "790/790 [==============================] - 1s 1ms/step - loss: 0.1747 - binary_accuracy: 0.9279 - val_loss: 0.1668 - val_binary_accuracy: 0.9262\n",
      "Epoch 3/5\n",
      "790/790 [==============================] - 1s 1ms/step - loss: 0.1650 - binary_accuracy: 0.9284 - val_loss: 0.1645 - val_binary_accuracy: 0.9277\n",
      "Epoch 4/5\n",
      "790/790 [==============================] - 1s 1ms/step - loss: 0.1641 - binary_accuracy: 0.9284 - val_loss: 0.1648 - val_binary_accuracy: 0.9268\n",
      "Epoch 5/5\n",
      "790/790 [==============================] - 1s 1ms/step - loss: 0.1636 - binary_accuracy: 0.9286 - val_loss: 0.1653 - val_binary_accuracy: 0.9270\n",
      "220/220 [==============================] - 0s 669us/step\n",
      "Epoch 1/5\n",
      "790/790 [==============================] - 2s 2ms/step - loss: 0.2494 - binary_accuracy: 0.8959 - val_loss: 0.1947 - val_binary_accuracy: 0.9166\n",
      "Epoch 2/5\n",
      "790/790 [==============================] - 1s 2ms/step - loss: 0.2377 - binary_accuracy: 0.9024 - val_loss: 0.1951 - val_binary_accuracy: 0.9127\n",
      "Epoch 3/5\n",
      "790/790 [==============================] - 1s 2ms/step - loss: 0.2346 - binary_accuracy: 0.9041 - val_loss: 0.1803 - val_binary_accuracy: 0.9240\n",
      "Epoch 4/5\n",
      "790/790 [==============================] - 1s 2ms/step - loss: 0.2398 - binary_accuracy: 0.9025 - val_loss: 0.1840 - val_binary_accuracy: 0.9241\n",
      "Epoch 5/5\n",
      "790/790 [==============================] - 1s 2ms/step - loss: 0.2395 - binary_accuracy: 0.9019 - val_loss: 0.2153 - val_binary_accuracy: 0.8991\n",
      "220/220 [==============================] - 0s 689us/step\n",
      "Epoch 1/5\n",
      "790/790 [==============================] - 2s 2ms/step - loss: 0.2587 - binary_accuracy: 0.8937 - val_loss: 0.1979 - val_binary_accuracy: 0.9173\n",
      "Epoch 2/5\n",
      "790/790 [==============================] - 1s 2ms/step - loss: 0.2472 - binary_accuracy: 0.9011 - val_loss: 0.2153 - val_binary_accuracy: 0.9067\n",
      "Epoch 3/5\n",
      "790/790 [==============================] - 1s 2ms/step - loss: 0.2414 - binary_accuracy: 0.9043 - val_loss: 0.2217 - val_binary_accuracy: 0.9154\n",
      "Epoch 4/5\n",
      "790/790 [==============================] - 1s 2ms/step - loss: 0.2456 - binary_accuracy: 0.9025 - val_loss: 0.2007 - val_binary_accuracy: 0.9162\n",
      "Epoch 5/5\n",
      "790/790 [==============================] - 1s 2ms/step - loss: 0.2433 - binary_accuracy: 0.9042 - val_loss: 0.2070 - val_binary_accuracy: 0.9139\n",
      "220/220 [==============================] - 0s 671us/step\n",
      "Epoch 1/5\n",
      "790/790 [==============================] - 2s 2ms/step - loss: 0.2492 - binary_accuracy: 0.8964 - val_loss: 0.1907 - val_binary_accuracy: 0.9190\n",
      "Epoch 2/5\n",
      "790/790 [==============================] - 1s 2ms/step - loss: 0.2404 - binary_accuracy: 0.9022 - val_loss: 0.1851 - val_binary_accuracy: 0.9199\n",
      "Epoch 3/5\n",
      "790/790 [==============================] - 1s 2ms/step - loss: 0.2378 - binary_accuracy: 0.9037 - val_loss: 0.1987 - val_binary_accuracy: 0.9176\n",
      "Epoch 4/5\n",
      "790/790 [==============================] - 1s 2ms/step - loss: 0.2399 - binary_accuracy: 0.9026 - val_loss: 0.1956 - val_binary_accuracy: 0.9144\n",
      "Epoch 5/5\n",
      "790/790 [==============================] - 1s 2ms/step - loss: 0.2394 - binary_accuracy: 0.9026 - val_loss: 0.1913 - val_binary_accuracy: 0.9153\n",
      "220/220 [==============================] - 0s 697us/step\n",
      "Epoch 1/5\n",
      "790/790 [==============================] - 2s 2ms/step - loss: 0.2512 - binary_accuracy: 0.8958 - val_loss: 0.1898 - val_binary_accuracy: 0.9223\n",
      "Epoch 2/5\n",
      "790/790 [==============================] - 1s 2ms/step - loss: 0.2394 - binary_accuracy: 0.9023 - val_loss: 0.1859 - val_binary_accuracy: 0.9224\n",
      "Epoch 3/5\n",
      "790/790 [==============================] - 1s 2ms/step - loss: 0.2400 - binary_accuracy: 0.9023 - val_loss: 0.1909 - val_binary_accuracy: 0.9175\n",
      "Epoch 4/5\n",
      "790/790 [==============================] - 1s 2ms/step - loss: 0.2404 - binary_accuracy: 0.9027 - val_loss: 0.1975 - val_binary_accuracy: 0.9106\n",
      "Epoch 5/5\n",
      "790/790 [==============================] - 1s 2ms/step - loss: 0.2406 - binary_accuracy: 0.9026 - val_loss: 0.2071 - val_binary_accuracy: 0.9031\n",
      "220/220 [==============================] - 0s 664us/step\n",
      "Epoch 1/5\n",
      "790/790 [==============================] - 2s 2ms/step - loss: 0.2478 - binary_accuracy: 0.8981 - val_loss: 0.1831 - val_binary_accuracy: 0.9198\n",
      "Epoch 2/5\n",
      "790/790 [==============================] - 2s 2ms/step - loss: 0.2369 - binary_accuracy: 0.9036 - val_loss: 0.1999 - val_binary_accuracy: 0.9098\n",
      "Epoch 3/5\n",
      "790/790 [==============================] - 1s 2ms/step - loss: 0.2371 - binary_accuracy: 0.9036 - val_loss: 0.2098 - val_binary_accuracy: 0.9030\n",
      "Epoch 4/5\n",
      "790/790 [==============================] - 1s 2ms/step - loss: 0.2367 - binary_accuracy: 0.9050 - val_loss: 0.1943 - val_binary_accuracy: 0.9195\n",
      "Epoch 5/5\n",
      "790/790 [==============================] - 1s 2ms/step - loss: 0.2378 - binary_accuracy: 0.9039 - val_loss: 0.1796 - val_binary_accuracy: 0.9221\n",
      "220/220 [==============================] - 0s 670us/step\n",
      "Epoch 1/3\n",
      "1580/1580 [==============================] - 3s 1ms/step - loss: 0.1827 - binary_accuracy: 0.9190 - val_loss: 0.1684 - val_binary_accuracy: 0.9267\n",
      "Epoch 2/3\n",
      "1580/1580 [==============================] - 2s 1ms/step - loss: 0.1716 - binary_accuracy: 0.9247 - val_loss: 0.1705 - val_binary_accuracy: 0.9273\n",
      "Epoch 3/3\n",
      "1580/1580 [==============================] - 2s 1ms/step - loss: 0.1693 - binary_accuracy: 0.9260 - val_loss: 0.1693 - val_binary_accuracy: 0.9269\n",
      "439/439 [==============================] - 0s 629us/step\n",
      "Epoch 1/3\n",
      "1580/1580 [==============================] - 3s 1ms/step - loss: 0.1833 - binary_accuracy: 0.9186 - val_loss: 0.1701 - val_binary_accuracy: 0.9262\n",
      "Epoch 2/3\n",
      "1580/1580 [==============================] - 2s 1ms/step - loss: 0.1721 - binary_accuracy: 0.9245 - val_loss: 0.1743 - val_binary_accuracy: 0.9242\n",
      "Epoch 3/3\n",
      "1580/1580 [==============================] - 2s 1ms/step - loss: 0.1701 - binary_accuracy: 0.9255 - val_loss: 0.1681 - val_binary_accuracy: 0.9253\n",
      "439/439 [==============================] - 0s 683us/step\n",
      "Epoch 1/3\n",
      "1580/1580 [==============================] - 2s 1ms/step - loss: 0.1823 - binary_accuracy: 0.9187 - val_loss: 0.1699 - val_binary_accuracy: 0.9249\n",
      "Epoch 2/3\n",
      "1580/1580 [==============================] - 2s 1ms/step - loss: 0.1712 - binary_accuracy: 0.9248 - val_loss: 0.1826 - val_binary_accuracy: 0.9216\n",
      "Epoch 3/3\n",
      "1580/1580 [==============================] - 2s 1ms/step - loss: 0.1696 - binary_accuracy: 0.9255 - val_loss: 0.1782 - val_binary_accuracy: 0.9234\n",
      "439/439 [==============================] - 0s 625us/step\n",
      "Epoch 1/3\n",
      "1580/1580 [==============================] - 3s 1ms/step - loss: 0.1810 - binary_accuracy: 0.9203 - val_loss: 0.1726 - val_binary_accuracy: 0.9236\n",
      "Epoch 2/3\n",
      "1580/1580 [==============================] - 2s 1ms/step - loss: 0.1714 - binary_accuracy: 0.9252 - val_loss: 0.1725 - val_binary_accuracy: 0.9254\n",
      "Epoch 3/3\n",
      "1580/1580 [==============================] - 2s 1ms/step - loss: 0.1701 - binary_accuracy: 0.9264 - val_loss: 0.1709 - val_binary_accuracy: 0.9249\n",
      "439/439 [==============================] - 0s 643us/step\n",
      "Epoch 1/3\n",
      "1580/1580 [==============================] - 2s 1ms/step - loss: 0.1813 - binary_accuracy: 0.9196 - val_loss: 0.1731 - val_binary_accuracy: 0.9218\n",
      "Epoch 2/3\n",
      "1580/1580 [==============================] - 2s 1ms/step - loss: 0.1707 - binary_accuracy: 0.9250 - val_loss: 0.1707 - val_binary_accuracy: 0.9240\n",
      "Epoch 3/3\n",
      "1580/1580 [==============================] - 2s 1ms/step - loss: 0.1696 - binary_accuracy: 0.9256 - val_loss: 0.1694 - val_binary_accuracy: 0.9241\n",
      "439/439 [==============================] - 0s 607us/step\n",
      "Epoch 1/3\n",
      "1580/1580 [==============================] - 2s 1ms/step - loss: 0.2065 - binary_accuracy: 0.9049 - val_loss: 0.1703 - val_binary_accuracy: 0.9261\n",
      "Epoch 2/3\n",
      "1580/1580 [==============================] - 2s 1ms/step - loss: 0.1662 - binary_accuracy: 0.9269 - val_loss: 0.1705 - val_binary_accuracy: 0.9240\n",
      "Epoch 3/3\n",
      "1580/1580 [==============================] - 2s 1ms/step - loss: 0.1657 - binary_accuracy: 0.9271 - val_loss: 0.1683 - val_binary_accuracy: 0.9267\n",
      "439/439 [==============================] - 0s 650us/step\n",
      "Epoch 1/3\n",
      "1580/1580 [==============================] - 3s 2ms/step - loss: 0.2108 - binary_accuracy: 0.9020 - val_loss: 0.1704 - val_binary_accuracy: 0.9256\n",
      "Epoch 2/3\n",
      "1580/1580 [==============================] - 2s 1ms/step - loss: 0.1662 - binary_accuracy: 0.9274 - val_loss: 0.1704 - val_binary_accuracy: 0.9263\n",
      "Epoch 3/3\n",
      "1580/1580 [==============================] - 2s 1ms/step - loss: 0.1657 - binary_accuracy: 0.9274 - val_loss: 0.1683 - val_binary_accuracy: 0.9265\n",
      "439/439 [==============================] - 0s 656us/step\n",
      "Epoch 1/3\n",
      "1580/1580 [==============================] - 2s 1ms/step - loss: 0.2008 - binary_accuracy: 0.9086 - val_loss: 0.1735 - val_binary_accuracy: 0.9236\n",
      "Epoch 2/3\n",
      "1580/1580 [==============================] - 2s 1ms/step - loss: 0.1657 - binary_accuracy: 0.9267 - val_loss: 0.1683 - val_binary_accuracy: 0.9263\n",
      "Epoch 3/3\n",
      "1580/1580 [==============================] - 2s 1ms/step - loss: 0.1657 - binary_accuracy: 0.9269 - val_loss: 0.1694 - val_binary_accuracy: 0.9265\n",
      "439/439 [==============================] - 0s 630us/step\n",
      "Epoch 1/3\n",
      "1580/1580 [==============================] - 3s 1ms/step - loss: 0.2127 - binary_accuracy: 0.9010 - val_loss: 0.1726 - val_binary_accuracy: 0.9236\n",
      "Epoch 2/3\n",
      "1580/1580 [==============================] - 2s 1ms/step - loss: 0.1664 - binary_accuracy: 0.9273 - val_loss: 0.1689 - val_binary_accuracy: 0.9259\n",
      "Epoch 3/3\n",
      "1580/1580 [==============================] - 2s 1ms/step - loss: 0.1661 - binary_accuracy: 0.9274 - val_loss: 0.1689 - val_binary_accuracy: 0.9252\n",
      "439/439 [==============================] - 0s 625us/step\n",
      "Epoch 1/3\n",
      "1580/1580 [==============================] - 3s 1ms/step - loss: 0.2029 - binary_accuracy: 0.9074 - val_loss: 0.1703 - val_binary_accuracy: 0.9245\n",
      "Epoch 2/3\n",
      "1580/1580 [==============================] - 2s 1ms/step - loss: 0.1659 - binary_accuracy: 0.9276 - val_loss: 0.1654 - val_binary_accuracy: 0.9265\n",
      "Epoch 3/3\n",
      "1580/1580 [==============================] - 2s 1ms/step - loss: 0.1653 - binary_accuracy: 0.9278 - val_loss: 0.1656 - val_binary_accuracy: 0.9274\n",
      "439/439 [==============================] - 0s 653us/step\n",
      "Epoch 1/5\n",
      "988/988 [==============================] - 2s 2ms/step - loss: 0.3052 - binary_accuracy: 0.8568 - val_loss: 0.1789 - val_binary_accuracy: 0.9256\n",
      "Epoch 2/5\n",
      "988/988 [==============================] - 1s 1ms/step - loss: 0.1681 - binary_accuracy: 0.9277 - val_loss: 0.1683 - val_binary_accuracy: 0.9263\n",
      "Epoch 3/5\n",
      "988/988 [==============================] - 1s 1ms/step - loss: 0.1644 - binary_accuracy: 0.9282 - val_loss: 0.1691 - val_binary_accuracy: 0.9255\n",
      "Epoch 4/5\n",
      "988/988 [==============================] - 1s 1ms/step - loss: 0.1639 - binary_accuracy: 0.9282 - val_loss: 0.1678 - val_binary_accuracy: 0.9271\n",
      "Epoch 5/5\n",
      "988/988 [==============================] - 1s 1ms/step - loss: 0.1637 - binary_accuracy: 0.9283 - val_loss: 0.1682 - val_binary_accuracy: 0.9264\n"
     ]
    }
   ],
   "source": [
    "rs_results = rs.fit(X_train, y_train)"
   ]
  },
  {
   "cell_type": "markdown",
   "id": "e8584335-2930-431d-99f6-331dadfd78ca",
   "metadata": {},
   "source": [
    "Let's look at the best accuracy score, and the parameters that produced them."
   ]
  },
  {
   "cell_type": "code",
   "execution_count": 27,
   "id": "56c3099d-76a6-4dd6-aa70-8d75e3146bcb",
   "metadata": {},
   "outputs": [
    {
     "data": {
      "text/plain": [
       "0.9281218929871564"
      ]
     },
     "metadata": {},
     "output_type": "display_data"
    },
    {
     "data": {
      "text/plain": [
       "{'optimizer__lr': 0.001,\n",
       " 'model__hidden_layer_sizes': (100,),\n",
       " 'model__dropout': 0,\n",
       " 'epochs': 5,\n",
       " 'batch_size': 256}"
      ]
     },
     "metadata": {},
     "output_type": "display_data"
    }
   ],
   "source": [
    "display(rs_results.best_score_, rs_results.best_params_)"
   ]
  },
  {
   "cell_type": "markdown",
   "id": "52e0796f-d45d-40ff-a51d-b8946228714c",
   "metadata": {},
   "source": [
    "Let's look at it as an estimator object."
   ]
  },
  {
   "cell_type": "code",
   "execution_count": 28,
   "id": "a9e9216c-e0f7-4240-b526-27c2d59cba77",
   "metadata": {
    "tags": []
   },
   "outputs": [
    {
     "data": {
      "text/plain": [
       "KerasClassifier(\n",
       "\tmodel=<function get_clf at 0x7f623edc3310>\n",
       "\tbuild_fn=None\n",
       "\twarm_start=False\n",
       "\trandom_state=None\n",
       "\toptimizer=adam\n",
       "\tloss=binary_crossentropy\n",
       "\tmetrics=['binary_accuracy']\n",
       "\tbatch_size=256\n",
       "\tvalidation_batch_size=None\n",
       "\tverbose=True\n",
       "\tcallbacks=None\n",
       "\tvalidation_split=0.1\n",
       "\tshuffle=True\n",
       "\trun_eagerly=False\n",
       "\tepochs=5\n",
       "\toptimizer__lr=0.001\n",
       "\tmodel__hidden_layer_sizes=(100,)\n",
       "\tmodel__dropout=0\n",
       "\tclass_weight=None\n",
       ")"
      ]
     },
     "metadata": {},
     "output_type": "display_data"
    }
   ],
   "source": [
    "rs_best = rs_results.best_estimator_\n",
    "display(rs_best)"
   ]
  },
  {
   "cell_type": "markdown",
   "id": "3b471d22-cb85-4a0d-9675-19c8add3058e",
   "metadata": {},
   "source": [
    "Let's look at a high level plot of the model, to make sure it makes sense vis a vis the best params."
   ]
  },
  {
   "cell_type": "code",
   "execution_count": 29,
   "id": "48d554ad-fa2d-4b3b-8c86-31483119366e",
   "metadata": {},
   "outputs": [
    {
     "data": {
      "image/png": "[encoded data removed]",
      "text/plain": [
       "<IPython.core.display.Image object>"
      ]
     },
     "execution_count": 29,
     "metadata": {},
     "output_type": "execute_result"
    }
   ],
   "source": [
    "plot_model(rs_best.model_)"
   ]
  },
  {
   "cell_type": "markdown",
   "id": "a16eeb27-85d9-494d-b196-14a6646e8db5",
   "metadata": {},
   "source": [
    "Look at summary:"
   ]
  },
  {
   "cell_type": "code",
   "execution_count": 30,
   "id": "ad2e863f-5e3a-45b1-b831-615dc9cfc50d",
   "metadata": {},
   "outputs": [
    {
     "name": "stdout",
     "output_type": "stream",
     "text": [
      "Model: \"sequential_50\"\n",
      "_________________________________________________________________\n",
      " Layer (type)                Output Shape              Param #   \n",
      "=================================================================\n",
      " dense_130 (Dense)           (None, 100)               500       \n",
      "                                                                 \n",
      " dropout_80 (Dropout)        (None, 100)               0         \n",
      "                                                                 \n",
      " dense_131 (Dense)           (None, 1)                 101       \n",
      "                                                                 \n",
      "=================================================================\n",
      "Total params: 601\n",
      "Trainable params: 601\n",
      "Non-trainable params: 0\n",
      "_________________________________________________________________\n"
     ]
    }
   ],
   "source": [
    "rs_best.model_.summary()"
   ]
  },
  {
   "cell_type": "markdown",
   "id": "6a75de62-7a70-4125-aed4-f513e3f72049",
   "metadata": {},
   "source": [
    "Ok, let's `pickle` the results for later reference if we can't complete our review right away."
   ]
  },
  {
   "cell_type": "code",
   "execution_count": 34,
   "id": "3b8bfb7f-ba60-4e95-8318-219962ff8258",
   "metadata": {},
   "outputs": [
    {
     "data": {
      "text/plain": [
       "'./models/rs_results/nn_rs_1st_pass_20220507_0327.pickle'"
      ]
     },
     "metadata": {},
     "output_type": "display_data"
    },
    {
     "name": "stderr",
     "output_type": "stream",
     "text": [
      "2022-05-07 03:27:48.018103: W tensorflow/python/util/util.cc:368] Sets are not currently considered sequences, but this may change in the future, so consider avoiding using them.\n"
     ]
    },
    {
     "name": "stdout",
     "output_type": "stream",
     "text": [
      "INFO:tensorflow:Assets written to: ram:///tmp/tmp17q1zrs2/assets\n"
     ]
    }
   ],
   "source": [
    "str_ts = datetime.now().strftime(\"%Y%m%d_%H%M\")\n",
    "file_nm = 'nn_rs_1st_pass_' + str_ts\n",
    "file_path = './models/rs_results/' + file_nm + '.pickle'\n",
    "# pred_path = './predictions/test/' + file_nm + '.csv'\n",
    "\n",
    "display(file_path)\n",
    "\n",
    "with open(file_path, 'wb') as f:\n",
    "    # Pickle the 'data' dictionary using the highest protocol available.\n",
    "    pickle.dump(rs_results, f, pickle.HIGHEST_PROTOCOL)"
   ]
  },
  {
   "cell_type": "code",
   "execution_count": 35,
   "id": "b6277e62-7c98-4cdb-bb7d-dbdff892d5b7",
   "metadata": {
    "tags": []
   },
   "outputs": [
    {
     "name": "stdout",
     "output_type": "stream",
     "text": [
      "skipping\n"
     ]
    }
   ],
   "source": [
    "%%script echo skipping\n",
    "# Test loading pickle\n",
    "load_path = './models/rs_results/classic_rs_1st_pass_20220505_1544.pickle'\n",
    "\n",
    "with open(load_path, 'rb') as f:\n",
    "    # The protocol version used is detected automatically, so we do not\n",
    "    # have to specify it.\n",
    "    rs_rez_unpkl = pickle.load(f)"
   ]
  },
  {
   "cell_type": "markdown",
   "id": "2d03e6e1-db8d-482b-8b7d-d895fa46da73",
   "metadata": {},
   "source": [
    "Now let's look at performance vs Test."
   ]
  },
  {
   "cell_type": "code",
   "execution_count": 36,
   "id": "824a10c9-3c11-47dc-a8a5-2375a2c961ee",
   "metadata": {},
   "outputs": [
    {
     "name": "stdout",
     "output_type": "stream",
     "text": [
      "275/275 [==============================] - 0s 600us/step\n"
     ]
    },
    {
     "data": {
      "text/plain": [
       "'test accuracy: 0.9277695463870527'"
      ]
     },
     "metadata": {},
     "output_type": "display_data"
    },
    {
     "data": {
      "text/plain": [
       "'train accuracy: 0.9281218929871564'"
      ]
     },
     "metadata": {},
     "output_type": "display_data"
    }
   ],
   "source": [
    "display(f\"test accuracy: {rs_best.score(X_test, y_test)}\")\n",
    "display(f\"train accuracy: {rs_results.best_score_}\")"
   ]
  },
  {
   "cell_type": "markdown",
   "id": "03e66852-72db-426f-98d2-be1220b5b902",
   "metadata": {
    "slideshow": {
     "slide_type": "skip"
    },
    "tags": []
   },
   "source": [
    "Consistent, and aligns."
   ]
  },
  {
   "cell_type": "markdown",
   "id": "ab2ea030-2591-4ca3-b829-ba3b0af68100",
   "metadata": {},
   "source": [
    "Let's get some predictions and review some high level classification metrics:"
   ]
  },
  {
   "cell_type": "code",
   "execution_count": 37,
   "id": "fac1d3e6-fa28-4cd8-9fc8-2e17dcdebd7f",
   "metadata": {},
   "outputs": [
    {
     "name": "stdout",
     "output_type": "stream",
     "text": [
      "275/275 [==============================] - 0s 714us/step\n"
     ]
    }
   ],
   "source": [
    "rs_pred = rs_best.predict(X_test)"
   ]
  },
  {
   "cell_type": "markdown",
   "id": "341b590e-455f-4ebd-90b5-98aa6c97f9d9",
   "metadata": {},
   "source": [
    "*Confusion Matrix*"
   ]
  },
  {
   "cell_type": "code",
   "execution_count": 38,
   "id": "195d2d59-ff3f-4679-82ea-2679ec000be6",
   "metadata": {
    "slideshow": {
     "slide_type": "slide"
    },
    "tags": []
   },
   "outputs": [
    {
     "data": {
      "text/plain": [
       "array([[45765,  2447],\n",
       "       [ 2623, 19357]])"
      ]
     },
     "metadata": {},
     "output_type": "display_data"
    }
   ],
   "source": [
    "cm = confusion_matrix(y_test, rs_pred)\n",
    "display(cm)"
   ]
  },
  {
   "cell_type": "markdown",
   "id": "0292f14c-7b50-4080-ab0b-53e08a3beda4",
   "metadata": {},
   "source": [
    "*Accuracy*"
   ]
  },
  {
   "cell_type": "code",
   "execution_count": 39,
   "id": "f21711f9-ec8b-4140-bcdc-ac6311466bdc",
   "metadata": {
    "tags": []
   },
   "outputs": [
    {
     "data": {
      "text/plain": [
       "'What % of pitches did we correctly categorize?'"
      ]
     },
     "metadata": {},
     "output_type": "display_data"
    },
    {
     "name": "stdout",
     "output_type": "stream",
     "text": [
      "275/275 [==============================] - 0s 599us/step\n"
     ]
    },
    {
     "data": {
      "text/plain": [
       "'test accuracy: 0.928'"
      ]
     },
     "metadata": {},
     "output_type": "display_data"
    }
   ],
   "source": [
    "display(\"What % of pitches did we correctly categorize?\")\n",
    "display(f\"test accuracy: {round(rs_best.score(X_test, y_test), 3)}\")"
   ]
  },
  {
   "cell_type": "markdown",
   "id": "5bb9aa10-00aa-4acc-a837-e6e961860d13",
   "metadata": {},
   "source": [
    "*Precision*"
   ]
  },
  {
   "cell_type": "code",
   "execution_count": 40,
   "id": "f4f6fb94-fb75-4ce7-ae51-e346e355561d",
   "metadata": {},
   "outputs": [
    {
     "data": {
      "text/plain": [
       "'What % predicted strikes did we get correct?'"
      ]
     },
     "metadata": {},
     "output_type": "display_data"
    },
    {
     "data": {
      "text/plain": [
       "'Positive Predictive Value: 0.888'"
      ]
     },
     "metadata": {},
     "output_type": "display_data"
    }
   ],
   "source": [
    "precision = precision_score(y_test, rs_pred)\n",
    "display(\"What % predicted strikes did we get correct?\")\n",
    "display(f\"Positive Predictive Value: {round(precision,3)}\")"
   ]
  },
  {
   "cell_type": "markdown",
   "id": "4cfc7e9a-f72e-499c-a35c-16958c2a701e",
   "metadata": {},
   "source": [
    "*Recall*"
   ]
  },
  {
   "cell_type": "code",
   "execution_count": 41,
   "id": "b527f3fb-3f4e-4442-93cc-13bdd1c3335c",
   "metadata": {},
   "outputs": [
    {
     "data": {
      "text/plain": [
       "'What percent of actual strikes did we get capture?'"
      ]
     },
     "metadata": {},
     "output_type": "display_data"
    },
    {
     "data": {
      "text/plain": [
       "'True Positive Rate: 0.881'"
      ]
     },
     "metadata": {},
     "output_type": "display_data"
    }
   ],
   "source": [
    "recall = recall_score(y_test, rs_pred)\n",
    "display(\"What percent of actual strikes did we get capture?\")\n",
    "display(f\"True Positive Rate: {round(recall, 3)}\")"
   ]
  },
  {
   "cell_type": "markdown",
   "id": "09bcc13b-2593-4321-b7ce-4113f7bee110",
   "metadata": {},
   "source": [
    "These are pretty good results so far. I had no preconceptions on what we could achieve based on first ok model, so >0.90 is very exciting."
   ]
  },
  {
   "cell_type": "markdown",
   "id": "383452e8-766f-4136-ad3a-ef60ebcba0da",
   "metadata": {},
   "source": [
    "*ROC/AUC*"
   ]
  },
  {
   "cell_type": "code",
   "execution_count": 89,
   "id": "3ee643b9-1f52-46a1-b4d8-6a96f0092df3",
   "metadata": {},
   "outputs": [
    {
     "name": "stdout",
     "output_type": "stream",
     "text": [
      "275/275 [==============================] - 0s 622us/step\n"
     ]
    },
    {
     "data": {
      "image/png": "[encoded data removed]",
      "text/plain": [
       "<Figure size 432x288 with 1 Axes>"
      ]
     },
     "metadata": {
      "needs_background": "light"
     },
     "output_type": "display_data"
    }
   ],
   "source": [
    "fpr, tpr, thresholds = roc_curve(y_test, rs_best.predict_proba(X_test)[:,1])\n",
    "roc_auc = auc(fpr, tpr)\n",
    "roc_display = RocCurveDisplay(fpr=fpr, tpr=tpr, roc_auc=roc_auc)\n",
    "roc_display.plot()\n",
    "plt.show()"
   ]
  },
  {
   "cell_type": "code",
   "execution_count": 90,
   "id": "b46c52f1-c0e5-48e0-b504-ee4a94e3295a",
   "metadata": {
    "tags": []
   },
   "outputs": [
    {
     "data": {
      "text/html": [
       "<style>\n",
       "table {float:left}\n",
       "</style>\n"
      ],
      "text/plain": [
       "<IPython.core.display.HTML object>"
      ]
     },
     "metadata": {},
     "output_type": "display_data"
    }
   ],
   "source": [
    "%%html\n",
    "<style>\n",
    "table {float:left}\n",
    "</style>"
   ]
  },
  {
   "cell_type": "markdown",
   "id": "4a64b5a0-47b6-4cf6-82ba-c851faa44042",
   "metadata": {},
   "source": [
    "AUC of 0.98! This is really good, considering rough rule of thumb is >0.85 is a good performing classifier."
   ]
  },
  {
   "cell_type": "markdown",
   "id": "22a9659b-782b-4963-879a-45fd696556f1",
   "metadata": {},
   "source": [
    "*Save the current state*"
   ]
  },
  {
   "cell_type": "markdown",
   "id": "2339e09b-805a-4b4b-9257-9af384850320",
   "metadata": {},
   "source": [
    "Let's save out the best model!"
   ]
  },
  {
   "cell_type": "code",
   "execution_count": null,
   "id": "879d5551-1c9f-4a57-8487-cacbc8dd1571",
   "metadata": {
    "tags": []
   },
   "outputs": [],
   "source": [
    "str_ts = datetime.now().strftime(\"%Y%m%d_%H%M\")\n",
    "model_nm = 'nn_1st_pass_' + str_ts\n",
    "model_path = './models/' + model_nm\n",
    "pred_path = './predictions/test/' + model_nm + '.csv'\n",
    "\n",
    "display(model_path, pred_path)\n",
    "\n",
    "# save out predicted probabilities\n",
    "pred_curr = rs_best.predict_proba(X_test)\n",
    "np.savetxt(pred_path, pred_curr, delimiter=\",\")\n",
    "\n",
    "# Save out Keras model\n",
    "rs_best.model_.save(model_path)"
   ]
  },
  {
   "cell_type": "markdown",
   "id": "8d5c998c-0ff8-4872-9381-325075a5bc83",
   "metadata": {
    "tags": []
   },
   "source": [
    "---  \n",
    "<span style=\"font-size:0.5em;\">Tag 4</span>\n",
    "\n",
    "### Summary <a id='summary'></a>\n",
    "\n",
    "<span style=\"font-size:0.5em;\"><a href='#toc2'>Back to TOC</a></span>"
   ]
  },
  {
   "cell_type": "markdown",
   "id": "bf1f0346-87bd-4ec9-b574-2646c68cf41c",
   "metadata": {},
   "source": [
    "<span style=\"color:blue\">\n",
    "    \n",
    "Our metric of choice is Accuracy, and the best model found by the random search over **10** iterations had a:\n",
    "\n",
    "- training accuracy of **0.928**\n",
    "- test accuracy was **0.928** as well\n",
    "\n",
    "Other classification metrics for context are:\n",
    "- Precision/Positive Predictive Value: **0.888**\n",
    "- Recall/True Positive Rate: **0.881**\n",
    "- ROC AUC: **0.98**\n",
    "\n",
    "All these metrics I would consider to be very good performance, contigent on specific use case of ultimate customer(s). For example a requirement might that the customer might want to maximize PPV as much as possible and would like to target >0.90.\n",
    "</span>"
   ]
  },
  {
   "cell_type": "code",
   "execution_count": 88,
   "id": "bc9aa400-03f6-4f49-849e-a6cf31f8bd7f",
   "metadata": {
    "tags": [
     "hide-input"
    ]
   },
   "outputs": [
    {
     "data": {
      "text/html": [
       "<style>\n",
       "table {float:left}\n",
       "</style>\n"
      ],
      "text/plain": [
       "<IPython.core.display.HTML object>"
      ]
     },
     "metadata": {},
     "output_type": "display_data"
    }
   ],
   "source": [
    "%%html\n",
    "<style>\n",
    "table {float:left}\n",
    "</style>"
   ]
  },
  {
   "cell_type": "markdown",
   "id": "16a12e81-eeee-4e63-a282-0cf0d34819ed",
   "metadata": {},
   "source": [
    "---  \n",
    "<span style=\"font-size:0.5em;\">End of current work</span>\n",
    "\n",
    "<a id='end'></a>\n",
    "\n",
    "<span style=\"font-size:0.5em;\"><a href='#toc2'>Back to TOC</a></span>"
   ]
  },
  {
   "cell_type": "markdown",
   "id": "e9fc1490-d3b2-4169-83eb-69fc494a3bc7",
   "metadata": {},
   "source": [
    "-----"
   ]
  },
  {
   "cell_type": "markdown",
   "id": "9bc924d1-f9d7-4490-bf3a-e7a456a905c0",
   "metadata": {},
   "source": [
    "### Archive"
   ]
  },
  {
   "cell_type": "markdown",
   "id": "d11686f4-4483-48b4-8f43-f61f344ac90e",
   "metadata": {},
   "source": [
    "Here is the model creation function I started building, before I stumbled across `scikeras` and decided to run with their code."
   ]
  },
  {
   "cell_type": "code",
   "execution_count": null,
   "id": "65a69b99-a6f9-4d0d-a061-c5d2c5ae6188",
   "metadata": {},
   "outputs": [],
   "source": [
    "%%script echo skipping\n",
    "def create_binary_nn_model(num_inputs, learning_rate=0.01, num_layers=1\n",
    "                           ,num_nodes=2, activation='relu'):\n",
    "    \"\"\"Create binary neural network Sequential model\"\"\"\n",
    "    # Create Adam optimizer\n",
    "    opt = Adam(lr=learning_rate)\n",
    "    \n",
    "    # Create Sequential model\n",
    "    model=Sequential()\n",
    "    \n",
    "    # Input layer\n",
    "    model.add(Dense(num_nodes, input_shape=(num_inputs,) \n",
    "              ,activation=activation, name='Input'))\n",
    "    \n",
    "    # Additional Hidden Layers\n",
    "    for i in range(num_layers-1): #if only 1 then assume just input/hidden\n",
    "        model.add(Dense(num_nodes, activation=activation))\n",
    "    \n",
    "    # Add a 1-neuron output layer\n",
    "    model.add(Dense(num_outputs, activation='sigmoid', name='Output'))\n",
    "\n",
    "    # Compile your model\n",
    "    model.compile(loss='binary_crossentropy', optimizer=opt\n",
    "                  ,metrics=['accuracy']\n",
    "                 )\n",
    "\n",
    "    return model"
   ]
  },
  {
   "cell_type": "markdown",
   "id": "4450b0de-5dae-497c-a3ca-9ef6f5a0885d",
   "metadata": {},
   "source": [
    "Let's do a test on the function:"
   ]
  },
  {
   "cell_type": "code",
   "execution_count": null,
   "id": "695c0724-9e4f-4169-b524-4f4547b2e530",
   "metadata": {},
   "outputs": [],
   "source": [
    "%%script echo skipping\n",
    "mod_1 = create_binary_nn_model(num_inputs=X_train.shape[1]\n",
    "                               ,learning_rate=1\n",
    "                               ,num_layers=1\n",
    "                              )"
   ]
  },
  {
   "cell_type": "code",
   "execution_count": null,
   "id": "cc8abd84-2359-45b3-9d87-a1be0a580dd3",
   "metadata": {},
   "outputs": [],
   "source": [
    "%%script echo skipping\n",
    "hh = mod_1.fit(X_train, y_train, epochs = n_epochs\n",
    "                        ,validation_split=val_split)"
   ]
  },
  {
   "cell_type": "code",
   "execution_count": null,
   "id": "11414d04-8717-47ee-a13e-e8ba3a858ff1",
   "metadata": {},
   "outputs": [],
   "source": [
    "%%script echo skipping\n",
    "plot_model(mod_1)"
   ]
  },
  {
   "cell_type": "markdown",
   "id": "b4b5e605-b12a-413a-80be-0a2fcd1c1ed9",
   "metadata": {},
   "source": [
    "Seems correct. I think that I plugged in a learning rate of 1 caused the epochs to be basically the same, basically skipping over minimums."
   ]
  }
 ],
 "metadata": {
  "kernelspec": {
   "display_name": "Python 3 (ipykernel)",
   "language": "python",
   "name": "python3"
  },
  "language_info": {
   "codemirror_mode": {
    "name": "ipython",
    "version": 3
   },
   "file_extension": ".py",
   "mimetype": "text/x-python",
   "name": "python",
   "nbconvert_exporter": "python",
   "pygments_lexer": "ipython3",
   "version": "3.8.10"
  },
  "toc-autonumbering": false,
  "toc-showcode": false,
  "toc-showmarkdowntxt": false,
  "toc-showtags": false,
  "widgets": {
   "application/vnd.jupyter.widget-state+json": {
    "state": {},
    "version_major": 2,
    "version_minor": 0
   }
  }
 },
 "nbformat": 4,
 "nbformat_minor": 5
}
