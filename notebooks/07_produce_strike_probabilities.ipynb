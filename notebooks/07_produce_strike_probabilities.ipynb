{
 "cells": [
  {
   "cell_type": "markdown",
   "id": "d66b68eb-bfe3-4790-bb25-2fd676471497",
   "metadata": {},
   "source": [
    "# Called Third Strike\n",
    "### _Building a Strike Probability Model_\n",
    "<div>\n",
    "<img src=\"resources/baseball_umpire_home_plate_1.jpg\" width=\"600\"/>\n",
    "</div>\n",
    "\n",
    "---\n",
    "## Part 7. Produce Strike Probabilities\n",
    "\n",
    "This project's goal is to build probability models for as to whether a pitch will be called a strike or not. The intended models are to be:\n",
    "1. A neural network (NN) based approach.\n",
    "2. A non-NN based approach."
   ]
  },
  {
   "cell_type": "markdown",
   "id": "75098c02-db03-478b-9dca-91cb7cf6518e",
   "metadata": {},
   "source": [
    "---\n",
    "\n",
    "__**This Notebook's**__ objective is to produce the following deliverables:\n",
    "- Strike probabilities for test set data as predicted by the selected [neural network model](./05_improved_neural_network.ipynb).\n",
    "- Strike probabilities for test set data as predicted by the selected non-neural network model, in this case [an XGBoost model](./06_improved_non_nn_model.ipynb).\n",
    "\n",
    "\n",
    "- Deliverables files will be `.csv`s with 2 fields:\n",
    "    - `pitch_id`\n",
    "    - `probability of a strike`\n",
    "\n",
    "\n",
    "The majority of the content here will be reproductions from the [neural network notebook](./05_improved_neural_network.ipynb) and the [XGBoost notebook](./06_improved_non_nn_model.ipynb), but I wanted to unify it here for easier reference. \n",
    "\n",
    "---\n",
    "---"
   ]
  },
  {
   "cell_type": "markdown",
   "id": "7c603889-4d23-4c1d-8e4d-8d45d1a72da4",
   "metadata": {},
   "source": [
    "### Table of Contents<a id='7_toc'></a>\n",
    "\n",
    "<a href='#7_data'>1. Data Preparation</a>\n",
    "\n",
    "<a href='#7_nn_pred'>2. Predictions - Neural Network</a>\n",
    "\n",
    "<a href='#7_xgb_pred'>3. Predictions - XGBoost</a>\n",
    "\n",
    "<a href='#7_dx'>4. Diagnostics</a>\n",
    "\n",
    "...\n",
    "\n",
    "<a href='#7_the_end'>Go to the End</a>\n",
    "\n",
    "<span style=\"font-size:0.75em;\">Note that some hyperlinks in this notebook may only work in a local context.</span>\n",
    "\n",
    "---"
   ]
  },
  {
   "cell_type": "markdown",
   "id": "4fcfd9aa-eac1-4789-af6d-cf5700a82979",
   "metadata": {},
   "source": [
    "---  \n",
    "### 1. Data Preparation<a id='7_data'></a>\n",
    "<span style=\"font-size:0.5em;\"><a href='#7_toc'>Back to TOC</a></span>\n",
    "\n",
    "For demo purposes we will ingest a version of the test and apply all the previous steps we had during development to create the input file.\n"
   ]
  },
  {
   "cell_type": "markdown",
   "id": "053be28f-4156-45c6-8a93-99c50dd76e39",
   "metadata": {},
   "source": [
    "#### Libraries"
   ]
  },
  {
   "cell_type": "code",
   "execution_count": 44,
   "id": "907b6406-cf7b-41c0-baca-5095c77e7b17",
   "metadata": {},
   "outputs": [],
   "source": [
    "# Data wrangling and operations\n",
    "import pandas as pd\n",
    "import numpy as np\n",
    "from datetime import datetime, timezone\n",
    "import pytz\n",
    "import pickle\n",
    "\n",
    "# Visualization\n",
    "import matplotlib.pyplot as plt\n",
    "import seaborn as sns\n",
    "\n",
    "# try:\n",
    "#     import plotly_express as pex\n",
    "# except ImportError:\n",
    "#     !pip install plotly_express\n",
    "# except ModuleNotFoundError:\n",
    "#     !pip install plotly_express\n",
    "\n",
    "# Estimators\n",
    "from sklearn.linear_model import LinearRegression\n",
    "from sklearn.linear_model import LogisticRegression\n",
    "import xgboost as xgb\n",
    "from xgboost import XGBClassifier\n",
    "from sklearn.tree import DecisionTreeClassifier\n",
    "from sklearn.ensemble import BaggingClassifier, RandomForestClassifier\n",
    "from sklearn.ensemble import GradientBoostingClassifier\n",
    "from sklearn.base import BaseEstimator\n",
    "\n",
    "# Processing\n",
    "from sklearn.preprocessing import OneHotEncoder\n",
    "from sklearn.preprocessing import LabelBinarizer\n",
    "from sklearn.preprocessing import StandardScaler\n",
    "from sklearn.compose import ColumnTransformer\n",
    "from sklearn.model_selection import GridSearchCV\n",
    "from sklearn.model_selection import RandomizedSearchCV\n",
    "\n",
    "# Assessment\n",
    "from sklearn.pipeline import Pipeline\n",
    "from sklearn.model_selection import train_test_split\n",
    "from sklearn.model_selection import cross_val_score\n",
    "from sklearn.metrics import accuracy_score\n",
    "from sklearn.metrics import mean_squared_error, mean_absolute_error\n",
    "from sklearn.metrics import f1_score\n",
    "from sklearn.metrics import confusion_matrix\n",
    "from sklearn.metrics import recall_score, precision_score, auc\n",
    "from sklearn.metrics import roc_curve, RocCurveDisplay\n",
    "\n",
    "# Custom code\n",
    "from project_helpers import get_clf, DummyEstimator"
   ]
  },
  {
   "cell_type": "markdown",
   "id": "7227d3e7-1e2a-41bb-aaeb-338abbb49a6b",
   "metadata": {},
   "source": [
    "Import the following packages, if needed (not included in default packages on the platform I'm currently using)"
   ]
  },
  {
   "cell_type": "code",
   "execution_count": 45,
   "id": "47387e13-4796-4d6a-a568-0577f313bf15",
   "metadata": {
    "tags": []
   },
   "outputs": [],
   "source": [
    "%%capture\n",
    "try:\n",
    "    import scikeras\n",
    "except ImportError:\n",
    "    !pip install scikeras[tensorflow]\n",
    "    !python -m pip install scikeras[tensorflow]\n",
    "except ModuleNotFoundError:\n",
    "    !pip install scikeras[tensorflow]\n",
    "    # !python -m pip install scikeras[tensorflow]"
   ]
  },
  {
   "cell_type": "code",
   "execution_count": 46,
   "id": "452ac4f9-8670-43e0-ba0d-2b1a2fd66072",
   "metadata": {
    "tags": []
   },
   "outputs": [],
   "source": [
    "from scikeras.wrappers import KerasClassifier"
   ]
  },
  {
   "cell_type": "markdown",
   "id": "9fd66987-ccba-4a33-92f9-7de54b5da5d5",
   "metadata": {},
   "source": [
    "---\n",
    "#### a. Import Raw Data"
   ]
  },
  {
   "cell_type": "code",
   "execution_count": 47,
   "id": "99c43ff4-c7a0-4554-af13-d5d2f02268b3",
   "metadata": {
    "tags": []
   },
   "outputs": [
    {
     "data": {
      "text/plain": [
       "'URL for test data: https://drive.google.com/uc?id=1Cfb7CBORgo5tpJoPUwmOkw3HBzXIorlE'"
      ]
     },
     "execution_count": 47,
     "metadata": {},
     "output_type": "execute_result"
    }
   ],
   "source": [
    "### Alias the csv's for cleanliness\n",
    "url_test = 'https://drive.google.com/file/d/1Cfb7CBORgo5tpJoPUwmOkw3HBzXIorlE/view?usp=sharing'\n",
    "url_test ='https://drive.google.com/uc?id=' + url_test.split('/')[-2]\n",
    "f'URL for test data: {url_test}'"
   ]
  },
  {
   "cell_type": "code",
   "execution_count": 48,
   "id": "6982754f-2337-4777-9a5a-217f80c55a59",
   "metadata": {},
   "outputs": [],
   "source": [
    "### Import test.csv\n",
    "df_test = pd.read_csv(url_test)"
   ]
  },
  {
   "cell_type": "code",
   "execution_count": 49,
   "id": "93e44c77-d87e-4a71-8d0c-b3b59f7972fe",
   "metadata": {},
   "outputs": [
    {
     "name": "stdout",
     "output_type": "stream",
     "text": [
      "<class 'pandas.core.frame.DataFrame'>\n",
      "RangeIndex: 18633 entries, 0 to 18632\n",
      "Data columns (total 30 columns):\n",
      " #   Column                Non-Null Count  Dtype  \n",
      "---  ------                --------------  -----  \n",
      " 0   pitch_id              18633 non-null  object \n",
      " 1   season                18633 non-null  int64  \n",
      " 2   game_date             18633 non-null  object \n",
      " 3   inning                18633 non-null  int64  \n",
      " 4   side                  18633 non-null  object \n",
      " 5   run_diff              18633 non-null  int64  \n",
      " 6   at_bat_index          18633 non-null  int64  \n",
      " 7   pitch_of_ab           18633 non-null  int64  \n",
      " 8   batter                18633 non-null  int64  \n",
      " 9   pitcher               18633 non-null  int64  \n",
      " 10  catcher               18633 non-null  int64  \n",
      " 11  umpire                18633 non-null  int64  \n",
      " 12  bside                 18633 non-null  object \n",
      " 13  pside                 18633 non-null  object \n",
      " 14  stringer_zone_bottom  18633 non-null  float64\n",
      " 15  stringer_zone_top     18633 non-null  float64\n",
      " 16  on_1b_mlbid           5553 non-null   float64\n",
      " 17  on_2b_mlbid           3432 non-null   float64\n",
      " 18  on_3b_mlbid           1637 non-null   float64\n",
      " 19  outs                  18633 non-null  int64  \n",
      " 20  balls                 18633 non-null  int64  \n",
      " 21  strikes               18633 non-null  int64  \n",
      " 22  pitch_speed           18633 non-null  float64\n",
      " 23  px                    18633 non-null  float64\n",
      " 24  pz                    18633 non-null  float64\n",
      " 25  break_x               18633 non-null  float64\n",
      " 26  break_z               18633 non-null  float64\n",
      " 27  angle_x               18633 non-null  float64\n",
      " 28  angle_z               18633 non-null  float64\n",
      " 29  pitch_type            18629 non-null  object \n",
      "dtypes: float64(12), int64(12), object(6)\n",
      "memory usage: 4.3+ MB\n"
     ]
    }
   ],
   "source": [
    "df_test.info()"
   ]
  },
  {
   "cell_type": "code",
   "execution_count": 50,
   "id": "0117e1f8-90bb-461e-aada-4d26d2eaea5b",
   "metadata": {},
   "outputs": [
    {
     "data": {
      "text/plain": [
       "'There are 18633 rows.'"
      ]
     },
     "execution_count": 50,
     "metadata": {},
     "output_type": "execute_result"
    }
   ],
   "source": [
    "f'There are {df_test.shape[0]} rows.'"
   ]
  },
  {
   "cell_type": "markdown",
   "id": "6d5ab35c-fbd6-4678-aba5-ee68523a50c4",
   "metadata": {},
   "source": [
    "---\n",
    "#### b. Feature Selection and Engineering\n",
    "\n",
    "We decided on the following features for our final models; for simplicity this selection is the same for both the neural network and XGBoost model:\n"
   ]
  },
  {
   "cell_type": "markdown",
   "id": "854c4832-a023-4b51-8f97-0d55a46ed048",
   "metadata": {},
   "source": [
    "- `px` which is the horizontal location of the pitch at the plate\n",
    "- `pz` which is the vertical location\n",
    "- `stringer_zone_bottom` which is an estimate of current batter's strike zone bottom\n",
    "- `stringer_zone_top` which is an estimate of current batter's strike zone top\n",
    "- `break_x`, the horizontal break of the ball at the plate\n",
    "- `break_z`, the vertical break of the ball at the plate\n",
    "- `angle_x`, the horizontal angle of the ball at the plate, compared to if it had traveled in a straight-line from release\n",
    "- `angle_z`, the vertical angle of the ball at the plate, compared to if it had traveled in a straight-line from release\n",
    "- `pitch_speed`, how fast the ball is traveling\n",
    "- `bside` - batter side (will be one-hot encoded)\n",
    "- `pside` - pitcher handedness (will be one-hot encoded)"
   ]
  },
  {
   "cell_type": "markdown",
   "id": "0ba0864c-eb46-4322-a030-1d42e57dda51",
   "metadata": {},
   "source": [
    "---\n",
    "Here are the selected features:\n",
    "\n",
    "Numeric:"
   ]
  },
  {
   "cell_type": "code",
   "execution_count": 51,
   "id": "b1bb2332-a2b4-4983-b9a7-142cfcf4d369",
   "metadata": {},
   "outputs": [],
   "source": [
    "feat_select = ['px',\n",
    "               'pz',\n",
    "               'stringer_zone_bottom',\n",
    "               'stringer_zone_top',\n",
    "               'break_x',\n",
    "               'break_z',\n",
    "               'angle_x',\n",
    "               'angle_z',\n",
    "               'pitch_speed',\n",
    "               ]"
   ]
  },
  {
   "cell_type": "markdown",
   "id": "99e79bc5-cf39-4852-85a4-87a72da14350",
   "metadata": {},
   "source": [
    "##### Categorical\n",
    "`b_side`, `p_side`\n",
    "\n",
    "These are strings so I will one-hot encode them. Their order should end up identical to their order in the original model training."
   ]
  },
  {
   "cell_type": "code",
   "execution_count": 52,
   "id": "a37b4a78-19a9-4ed5-8167-658ff4a6e433",
   "metadata": {},
   "outputs": [],
   "source": [
    "feat_cat_select = ['bside', 'pside']"
   ]
  },
  {
   "cell_type": "code",
   "execution_count": 53,
   "id": "acaf3f90-09f8-4dee-a012-8d9399928418",
   "metadata": {},
   "outputs": [],
   "source": [
    "df_hold_cat_ohe = pd.get_dummies(df_test[feat_cat_select])"
   ]
  },
  {
   "cell_type": "code",
   "execution_count": 54,
   "id": "6a5181a6-41d8-4405-8a33-8eede26f328f",
   "metadata": {},
   "outputs": [
    {
     "data": {
      "application/com.datacamp.data-table.v1+json": {
       "is_truncated": false,
       "table": {
        "data": [
         {
          "bside_L": 1,
          "bside_R": 0,
          "index": 0,
          "pside_L": 0,
          "pside_R": 1
         },
         {
          "bside_L": 0,
          "bside_R": 1,
          "index": 1,
          "pside_L": 1,
          "pside_R": 0
         },
         {
          "bside_L": 0,
          "bside_R": 1,
          "index": 2,
          "pside_L": 0,
          "pside_R": 1
         },
         {
          "bside_L": 0,
          "bside_R": 1,
          "index": 3,
          "pside_L": 1,
          "pside_R": 0
         },
         {
          "bside_L": 0,
          "bside_R": 1,
          "index": 4,
          "pside_L": 0,
          "pside_R": 1
         }
        ],
        "schema": {
         "fields": [
          {
           "name": "index",
           "type": "integer"
          },
          {
           "name": "bside_L",
           "type": "integer"
          },
          {
           "name": "bside_R",
           "type": "integer"
          },
          {
           "name": "pside_L",
           "type": "integer"
          },
          {
           "name": "pside_R",
           "type": "integer"
          }
         ],
         "pandas_version": "0.20.0",
         "primaryKey": [
          "index"
         ]
        }
       },
       "total_rows": 5
      },
      "text/html": [
       "<div>\n",
       "<style scoped>\n",
       "    .dataframe tbody tr th:only-of-type {\n",
       "        vertical-align: middle;\n",
       "    }\n",
       "\n",
       "    .dataframe tbody tr th {\n",
       "        vertical-align: top;\n",
       "    }\n",
       "\n",
       "    .dataframe thead th {\n",
       "        text-align: right;\n",
       "    }\n",
       "</style>\n",
       "<table border=\"1\" class=\"dataframe\">\n",
       "  <thead>\n",
       "    <tr style=\"text-align: right;\">\n",
       "      <th></th>\n",
       "      <th>bside_L</th>\n",
       "      <th>bside_R</th>\n",
       "      <th>pside_L</th>\n",
       "      <th>pside_R</th>\n",
       "    </tr>\n",
       "  </thead>\n",
       "  <tbody>\n",
       "    <tr>\n",
       "      <th>0</th>\n",
       "      <td>1</td>\n",
       "      <td>0</td>\n",
       "      <td>0</td>\n",
       "      <td>1</td>\n",
       "    </tr>\n",
       "    <tr>\n",
       "      <th>1</th>\n",
       "      <td>0</td>\n",
       "      <td>1</td>\n",
       "      <td>1</td>\n",
       "      <td>0</td>\n",
       "    </tr>\n",
       "    <tr>\n",
       "      <th>2</th>\n",
       "      <td>0</td>\n",
       "      <td>1</td>\n",
       "      <td>0</td>\n",
       "      <td>1</td>\n",
       "    </tr>\n",
       "    <tr>\n",
       "      <th>3</th>\n",
       "      <td>0</td>\n",
       "      <td>1</td>\n",
       "      <td>1</td>\n",
       "      <td>0</td>\n",
       "    </tr>\n",
       "    <tr>\n",
       "      <th>4</th>\n",
       "      <td>0</td>\n",
       "      <td>1</td>\n",
       "      <td>0</td>\n",
       "      <td>1</td>\n",
       "    </tr>\n",
       "  </tbody>\n",
       "</table>\n",
       "</div>"
      ],
      "text/plain": [
       "   bside_L  bside_R  pside_L  pside_R\n",
       "0        1        0        0        1\n",
       "1        0        1        1        0\n",
       "2        0        1        0        1\n",
       "3        0        1        1        0\n",
       "4        0        1        0        1"
      ]
     },
     "execution_count": 54,
     "metadata": {},
     "output_type": "execute_result"
    }
   ],
   "source": [
    "df_hold_cat_ohe.head()"
   ]
  },
  {
   "cell_type": "markdown",
   "id": "96bd66c1-beb6-47b8-82e0-0e6db6a9a1fc",
   "metadata": {},
   "source": [
    "Sort columns by alpha to ensure column order same as modeled."
   ]
  },
  {
   "cell_type": "markdown",
   "id": "05ebd9da-7b8b-45c0-8e11-6b92fa15e613",
   "metadata": {},
   "source": [
    "#### c. Create input files\n",
    "\n",
    "Here for each model we will:\n",
    "- `concat` the raw numerical features with the OHE'd categoricals.\n",
    "- Then we will standard scale both\n",
    "    - The training `Standardscaler` for has been previously `pickle`d and will be applied here "
   ]
  },
  {
   "cell_type": "code",
   "execution_count": 55,
   "id": "b91534e1-d5ac-4bc4-89f8-9ad8490ab0f8",
   "metadata": {},
   "outputs": [
    {
     "name": "stdout",
     "output_type": "stream",
     "text": [
      "<class 'pandas.core.frame.DataFrame'>\n",
      "RangeIndex: 18633 entries, 0 to 18632\n",
      "Data columns (total 13 columns):\n",
      " #   Column                Non-Null Count  Dtype  \n",
      "---  ------                --------------  -----  \n",
      " 0   px                    18633 non-null  float64\n",
      " 1   pz                    18633 non-null  float64\n",
      " 2   stringer_zone_bottom  18633 non-null  float64\n",
      " 3   stringer_zone_top     18633 non-null  float64\n",
      " 4   break_x               18633 non-null  float64\n",
      " 5   break_z               18633 non-null  float64\n",
      " 6   angle_x               18633 non-null  float64\n",
      " 7   angle_z               18633 non-null  float64\n",
      " 8   pitch_speed           18633 non-null  float64\n",
      " 9   bside_L               18633 non-null  uint8  \n",
      " 10  bside_R               18633 non-null  uint8  \n",
      " 11  pside_L               18633 non-null  uint8  \n",
      " 12  pside_R               18633 non-null  uint8  \n",
      "dtypes: float64(9), uint8(4)\n",
      "memory usage: 1.4 MB\n"
     ]
    },
    {
     "data": {
      "text/plain": [
       "None"
      ]
     },
     "metadata": {},
     "output_type": "display_data"
    }
   ],
   "source": [
    "# Get just the selected features\n",
    "df_holdout = pd.concat([df_test[feat_select], df_hold_cat_ohe], axis=1)\n",
    "\n",
    "display(df_holdout.info())"
   ]
  },
  {
   "cell_type": "code",
   "execution_count": 56,
   "id": "3a3a4dee-94b9-4f22-b97d-9a4eed3734a7",
   "metadata": {},
   "outputs": [
    {
     "data": {
      "text/plain": [
       "['angle_x',\n",
       " 'angle_z',\n",
       " 'break_x',\n",
       " 'break_z',\n",
       " 'bside_L',\n",
       " 'bside_R',\n",
       " 'pitch_speed',\n",
       " 'pside_L',\n",
       " 'pside_R',\n",
       " 'px',\n",
       " 'pz',\n",
       " 'stringer_zone_bottom',\n",
       " 'stringer_zone_top']"
      ]
     },
     "execution_count": 56,
     "metadata": {},
     "output_type": "execute_result"
    }
   ],
   "source": [
    "col_primary_order = list(df_holdout.columns)\n",
    "col_primary_order.sort()\n",
    "col_primary_order"
   ]
  },
  {
   "cell_type": "code",
   "execution_count": 57,
   "id": "468eab3a-0fd6-44f4-ad16-42e8a029eb4a",
   "metadata": {},
   "outputs": [],
   "source": [
    "df_holdout = df_holdout[col_primary_order]"
   ]
  },
  {
   "cell_type": "code",
   "execution_count": 58,
   "id": "6ab44078-4a03-4a9f-b7dc-9917805a5be2",
   "metadata": {},
   "outputs": [
    {
     "data": {
      "application/com.datacamp.data-table.v1+json": {
       "is_truncated": false,
       "table": {
        "data": [
         {
          "angle_x": -0.26113,
          "angle_z": 8.02184,
          "break_x": -16.1715,
          "break_z": -31.5262,
          "bside_L": 1,
          "bside_R": 0,
          "index": 0,
          "pitch_speed": 88.1309,
          "pside_L": 0,
          "pside_R": 1,
          "px": -0.689798,
          "pz": 0.880993,
          "stringer_zone_bottom": 1.53,
          "stringer_zone_top": 3.37
         },
         {
          "angle_x": -1.28544,
          "angle_z": 2.30556,
          "break_x": 12.7892,
          "break_z": -15.412,
          "bside_L": 0,
          "bside_R": 1,
          "index": 1,
          "pitch_speed": 93.8505,
          "pside_L": 1,
          "pside_R": 0,
          "px": 0.670993,
          "pz": 4.80701,
          "stringer_zone_bottom": 1.53,
          "stringer_zone_top": 3.37
         },
         {
          "angle_x": -3.15206,
          "angle_z": 7.95176,
          "break_x": 6.32436,
          "break_z": -30.0377,
          "bside_L": 0,
          "bside_R": 1,
          "index": 2,
          "pitch_speed": 87.1178,
          "pside_L": 0,
          "pside_R": 1,
          "px": 0.550363,
          "pz": 2.37494,
          "stringer_zone_bottom": 1.56,
          "stringer_zone_top": 3.41
         },
         {
          "angle_x": 0.699183,
          "angle_z": 6.08815,
          "break_x": 12.1115,
          "break_z": -20.9565,
          "bside_L": 0,
          "bside_R": 1,
          "index": 3,
          "pitch_speed": 92.9043,
          "pside_L": 1,
          "pside_R": 0,
          "px": 0.88475,
          "pz": 2.42076,
          "stringer_zone_bottom": 1.59,
          "stringer_zone_top": 3.47
         },
         {
          "angle_x": -2.41876,
          "angle_z": 6.37698,
          "break_x": 0.996405,
          "break_z": -25.6905,
          "bside_L": 0,
          "bside_R": 1,
          "index": 4,
          "pitch_speed": 86.5579,
          "pside_L": 0,
          "pside_R": 1,
          "px": -0.3433,
          "pz": 2.65081,
          "stringer_zone_bottom": 1.47,
          "stringer_zone_top": 3.41
         }
        ],
        "schema": {
         "fields": [
          {
           "name": "index",
           "type": "integer"
          },
          {
           "name": "angle_x",
           "type": "number"
          },
          {
           "name": "angle_z",
           "type": "number"
          },
          {
           "name": "break_x",
           "type": "number"
          },
          {
           "name": "break_z",
           "type": "number"
          },
          {
           "name": "bside_L",
           "type": "integer"
          },
          {
           "name": "bside_R",
           "type": "integer"
          },
          {
           "name": "pitch_speed",
           "type": "number"
          },
          {
           "name": "pside_L",
           "type": "integer"
          },
          {
           "name": "pside_R",
           "type": "integer"
          },
          {
           "name": "px",
           "type": "number"
          },
          {
           "name": "pz",
           "type": "number"
          },
          {
           "name": "stringer_zone_bottom",
           "type": "number"
          },
          {
           "name": "stringer_zone_top",
           "type": "number"
          }
         ],
         "pandas_version": "0.20.0",
         "primaryKey": [
          "index"
         ]
        }
       },
       "total_rows": 5
      },
      "text/html": [
       "<div>\n",
       "<style scoped>\n",
       "    .dataframe tbody tr th:only-of-type {\n",
       "        vertical-align: middle;\n",
       "    }\n",
       "\n",
       "    .dataframe tbody tr th {\n",
       "        vertical-align: top;\n",
       "    }\n",
       "\n",
       "    .dataframe thead th {\n",
       "        text-align: right;\n",
       "    }\n",
       "</style>\n",
       "<table border=\"1\" class=\"dataframe\">\n",
       "  <thead>\n",
       "    <tr style=\"text-align: right;\">\n",
       "      <th></th>\n",
       "      <th>angle_x</th>\n",
       "      <th>angle_z</th>\n",
       "      <th>break_x</th>\n",
       "      <th>break_z</th>\n",
       "      <th>bside_L</th>\n",
       "      <th>bside_R</th>\n",
       "      <th>pitch_speed</th>\n",
       "      <th>pside_L</th>\n",
       "      <th>pside_R</th>\n",
       "      <th>px</th>\n",
       "      <th>pz</th>\n",
       "      <th>stringer_zone_bottom</th>\n",
       "      <th>stringer_zone_top</th>\n",
       "    </tr>\n",
       "  </thead>\n",
       "  <tbody>\n",
       "    <tr>\n",
       "      <th>0</th>\n",
       "      <td>-0.261130</td>\n",
       "      <td>8.02184</td>\n",
       "      <td>-16.171500</td>\n",
       "      <td>-31.5262</td>\n",
       "      <td>1</td>\n",
       "      <td>0</td>\n",
       "      <td>88.1309</td>\n",
       "      <td>0</td>\n",
       "      <td>1</td>\n",
       "      <td>-0.689798</td>\n",
       "      <td>0.880993</td>\n",
       "      <td>1.53</td>\n",
       "      <td>3.37</td>\n",
       "    </tr>\n",
       "    <tr>\n",
       "      <th>1</th>\n",
       "      <td>-1.285440</td>\n",
       "      <td>2.30556</td>\n",
       "      <td>12.789200</td>\n",
       "      <td>-15.4120</td>\n",
       "      <td>0</td>\n",
       "      <td>1</td>\n",
       "      <td>93.8505</td>\n",
       "      <td>1</td>\n",
       "      <td>0</td>\n",
       "      <td>0.670993</td>\n",
       "      <td>4.807010</td>\n",
       "      <td>1.53</td>\n",
       "      <td>3.37</td>\n",
       "    </tr>\n",
       "    <tr>\n",
       "      <th>2</th>\n",
       "      <td>-3.152060</td>\n",
       "      <td>7.95176</td>\n",
       "      <td>6.324360</td>\n",
       "      <td>-30.0377</td>\n",
       "      <td>0</td>\n",
       "      <td>1</td>\n",
       "      <td>87.1178</td>\n",
       "      <td>0</td>\n",
       "      <td>1</td>\n",
       "      <td>0.550363</td>\n",
       "      <td>2.374940</td>\n",
       "      <td>1.56</td>\n",
       "      <td>3.41</td>\n",
       "    </tr>\n",
       "    <tr>\n",
       "      <th>3</th>\n",
       "      <td>0.699183</td>\n",
       "      <td>6.08815</td>\n",
       "      <td>12.111500</td>\n",
       "      <td>-20.9565</td>\n",
       "      <td>0</td>\n",
       "      <td>1</td>\n",
       "      <td>92.9043</td>\n",
       "      <td>1</td>\n",
       "      <td>0</td>\n",
       "      <td>0.884750</td>\n",
       "      <td>2.420760</td>\n",
       "      <td>1.59</td>\n",
       "      <td>3.47</td>\n",
       "    </tr>\n",
       "    <tr>\n",
       "      <th>4</th>\n",
       "      <td>-2.418760</td>\n",
       "      <td>6.37698</td>\n",
       "      <td>0.996405</td>\n",
       "      <td>-25.6905</td>\n",
       "      <td>0</td>\n",
       "      <td>1</td>\n",
       "      <td>86.5579</td>\n",
       "      <td>0</td>\n",
       "      <td>1</td>\n",
       "      <td>-0.343300</td>\n",
       "      <td>2.650810</td>\n",
       "      <td>1.47</td>\n",
       "      <td>3.41</td>\n",
       "    </tr>\n",
       "  </tbody>\n",
       "</table>\n",
       "</div>"
      ],
      "text/plain": [
       "    angle_x  angle_z    break_x  break_z  bside_L  bside_R  pitch_speed  \\\n",
       "0 -0.261130  8.02184 -16.171500 -31.5262        1        0      88.1309   \n",
       "1 -1.285440  2.30556  12.789200 -15.4120        0        1      93.8505   \n",
       "2 -3.152060  7.95176   6.324360 -30.0377        0        1      87.1178   \n",
       "3  0.699183  6.08815  12.111500 -20.9565        0        1      92.9043   \n",
       "4 -2.418760  6.37698   0.996405 -25.6905        0        1      86.5579   \n",
       "\n",
       "   pside_L  pside_R        px        pz  stringer_zone_bottom  \\\n",
       "0        0        1 -0.689798  0.880993                  1.53   \n",
       "1        1        0  0.670993  4.807010                  1.53   \n",
       "2        0        1  0.550363  2.374940                  1.56   \n",
       "3        1        0  0.884750  2.420760                  1.59   \n",
       "4        0        1 -0.343300  2.650810                  1.47   \n",
       "\n",
       "   stringer_zone_top  \n",
       "0               3.37  \n",
       "1               3.37  \n",
       "2               3.41  \n",
       "3               3.47  \n",
       "4               3.41  "
      ]
     },
     "execution_count": 58,
     "metadata": {},
     "output_type": "execute_result"
    }
   ],
   "source": [
    "df_holdout.head()"
   ]
  },
  {
   "cell_type": "markdown",
   "id": "f1e2854f-91df-4816-9f94-4deae18c7976",
   "metadata": {},
   "source": [
    "Fetch `StandardScaler`"
   ]
  },
  {
   "cell_type": "code",
   "execution_count": 59,
   "id": "3a883d8d-7760-4f33-a807-998d40d0a075",
   "metadata": {
    "tags": []
   },
   "outputs": [],
   "source": [
    "load_path = './models/scalers/nn_scaler_20220511_1134.pickle'\n",
    "\n",
    "with open(load_path, 'rb') as f:\n",
    "    # The protocol version used is detected automatically, so we do not\n",
    "    # have to specify it.\n",
    "    scaler = pickle.load(f)    "
   ]
  },
  {
   "cell_type": "code",
   "execution_count": 60,
   "id": "62ecc5cd-f010-4eec-abe0-9d2d0b03de41",
   "metadata": {},
   "outputs": [
    {
     "data": {
      "text/plain": [
       "(18633, 13)"
      ]
     },
     "execution_count": 60,
     "metadata": {},
     "output_type": "execute_result"
    }
   ],
   "source": [
    "holdout_scaled = scaler.transform(df_holdout)\n",
    "\n",
    "holdout_scaled.shape"
   ]
  },
  {
   "cell_type": "code",
   "execution_count": 61,
   "id": "91315503-88f5-4b61-a79c-53030cc31074",
   "metadata": {},
   "outputs": [
    {
     "data": {
      "text/plain": [
       "array([[ 0.20467313,  0.63249695, -1.60935542, -0.54167899,  1.19185727,\n",
       "        -1.19185727, -0.1131    , -0.6483765 ,  0.6483765 , -0.73932168,\n",
       "        -1.12875966, -0.52883465, -0.2974865 ],\n",
       "       [-0.23354403, -2.0996108 ,  1.48769867,  0.77215283, -0.83902664,\n",
       "         0.83902664,  0.82212381,  1.54231376, -1.54231376,  0.60521778,\n",
       "         2.24615859, -0.52883465, -0.2974865 ],\n",
       "       [-1.03211566,  0.59900207,  0.79634939, -0.42031779, -0.83902664,\n",
       "         0.83902664, -0.27875411, -0.6483765 ,  0.6483765 ,  0.48602843,\n",
       "         0.15548058, -0.10202344,  0.016214  ],\n",
       "       [ 0.61551128, -0.29171415,  1.41522551,  0.32009561, -0.83902664,\n",
       "         0.83902664,  0.66740866,  1.54231376, -1.54231376,  0.81642194,\n",
       "         0.19486878,  0.32478776,  0.48676475],\n",
       "       [-0.71839751, -0.15366726,  0.22657846, -0.06587949, -0.83902664,\n",
       "         0.83902664, -0.37030453, -0.6483765 ,  0.6483765 , -0.39696181,\n",
       "         0.39262644, -1.38245705,  0.016214  ]])"
      ]
     },
     "execution_count": 61,
     "metadata": {},
     "output_type": "execute_result"
    }
   ],
   "source": [
    "holdout_scaled[:5]"
   ]
  },
  {
   "cell_type": "markdown",
   "id": "79c3616e-23df-460f-8560-03eb2cd23f22",
   "metadata": {},
   "source": [
    "---  \n",
    "### Predictions - Neural Network<a id='7_nn_pred'></a>\n",
    "\n",
    "<span style=\"font-size:0.5em;\"><a href='#7_toc'>Back to TOC</a></span>\n",
    "\n",
    "---  "
   ]
  },
  {
   "cell_type": "markdown",
   "id": "c8124879-4774-4ca4-90f5-653b5cb50d20",
   "metadata": {},
   "source": [
    "#### Make Predictions!\n",
    "\n",
    "- For completeness we will produce various files for both strike outcomes and probabilities, though we will only deliver the probabilities files."
   ]
  },
  {
   "cell_type": "markdown",
   "id": "28888bd5-2184-4bb0-92bf-20fd27dc1a60",
   "metadata": {},
   "source": [
    "#### a. Prep `pitch_id`\n",
    "\n",
    "We will need `pitch_id` so that customers can crosswalk to their datasets, if needed."
   ]
  },
  {
   "cell_type": "code",
   "execution_count": 62,
   "id": "1c44d1d8-96d1-4b22-a103-5c15b0faa6b2",
   "metadata": {},
   "outputs": [
    {
     "data": {
      "text/plain": [
       "0    4a275ee6-0473-4272-91da-000b8a5f7194\n",
       "1    0f8de36d-2148-4ade-b2f6-003e94c52f79\n",
       "2    0245561a-cb47-4aef-b167-003cbac75013\n",
       "3    47caed4e-8a65-43ee-b577-000f42cd6793\n",
       "4    2b1e1a66-e2c8-47df-b6f1-0038697d893e\n",
       "5    1f04598e-ac36-44fb-9e21-0018dcbae78f\n",
       "6    0b0a030a-8363-401b-95e6-00258ca848c3\n",
       "7    34b4f260-d83a-4d55-99e3-0041283bec27\n",
       "8    044eaf4b-585d-42da-bb31-003e52c4fc03\n",
       "9    23d14cd7-d4ec-4be7-9524-003fee40c05d\n",
       "Name: pitch_id, dtype: object"
      ]
     },
     "metadata": {},
     "output_type": "display_data"
    }
   ],
   "source": [
    "pitch_ids = df_test['pitch_id']\n",
    "display(pitch_ids.head(10))"
   ]
  },
  {
   "cell_type": "code",
   "execution_count": 63,
   "id": "0c5058a1-c790-4fe3-bfa3-2e53fc8027a3",
   "metadata": {},
   "outputs": [
    {
     "data": {
      "text/plain": [
       "(18633,)"
      ]
     },
     "execution_count": 63,
     "metadata": {},
     "output_type": "execute_result"
    }
   ],
   "source": [
    "pitch_ids.shape"
   ]
  },
  {
   "cell_type": "markdown",
   "id": "b1989e06-cc1f-4ac0-91a5-7a1e9b23c20a",
   "metadata": {},
   "source": [
    "--- \n",
    "#### b. Retrieve and Predict on Neural Network Model\n",
    "\n",
    "We had previously pickled the candidate neural network model. (*Note that file was moved manually the original creation in [this notebook](./05_improved_neural_network05_improved_neural_network.ipynb)*)"
   ]
  },
  {
   "cell_type": "code",
   "execution_count": 220,
   "id": "09d71854-9971-4603-b2b4-c199136cc838",
   "metadata": {
    "tags": []
   },
   "outputs": [],
   "source": [
    "#%%script echo skipping\n",
    "\n",
    "best_file_path = './models/best_models/nn_2nd_pass_best_model_20220511_1423.pickle'\n",
    "\n",
    "with open(best_file_path, 'rb') as f:\n",
    "    selected_model = pickle.load(f)"
   ]
  },
  {
   "cell_type": "code",
   "execution_count": 221,
   "id": "3f05b9fe-f1dd-4a47-b366-b1e9f6313c4d",
   "metadata": {},
   "outputs": [
    {
     "data": {
      "text/plain": [
       "<bound method BaseEstimator.get_params of KerasClassifier(\n",
       "\tmodel=<function get_clf at 0x7f0de0593670>\n",
       "\tbuild_fn=None\n",
       "\twarm_start=False\n",
       "\trandom_state=None\n",
       "\toptimizer=adam\n",
       "\tloss=binary_crossentropy\n",
       "\tmetrics=['binary_accuracy']\n",
       "\tbatch_size=256\n",
       "\tvalidation_batch_size=None\n",
       "\tverbose=True\n",
       "\tcallbacks=None\n",
       "\tvalidation_split=0.1\n",
       "\tshuffle=True\n",
       "\trun_eagerly=False\n",
       "\tepochs=5\n",
       "\toptimizer__lr=0.001\n",
       "\tmodel__hidden_layer_sizes=(100,)\n",
       "\tmodel__dropout=0\n",
       "\tclass_weight=None\n",
       ")>"
      ]
     },
     "execution_count": 221,
     "metadata": {},
     "output_type": "execute_result"
    }
   ],
   "source": [
    "selected_model.get_params"
   ]
  },
  {
   "cell_type": "code",
   "execution_count": 222,
   "id": "4877d969-e4db-41df-8ce0-fd7c8ecb8a94",
   "metadata": {},
   "outputs": [
    {
     "name": "stdout",
     "output_type": "stream",
     "text": [
      "73/73 [==============================] - 0s 757us/step\n"
     ]
    },
    {
     "data": {
      "text/plain": [
       "(18633,)"
      ]
     },
     "metadata": {},
     "output_type": "display_data"
    }
   ],
   "source": [
    "pred_classes = selected_model.predict(holdout_scaled)\n",
    "display(pred_classes.shape)"
   ]
  },
  {
   "cell_type": "markdown",
   "id": "65672b89-1702-4cff-b776-eea623e85fe6",
   "metadata": {},
   "source": [
    "Quick look at results:"
   ]
  },
  {
   "cell_type": "code",
   "execution_count": 223,
   "id": "873be017-b098-4ad0-ae9c-a3095a9defea",
   "metadata": {},
   "outputs": [
    {
     "data": {
      "text/plain": [
       "array([0, 0, 1, 1, 1, 0, 1, 0, 1, 0, 1, 1, 0, 0, 0, 0, 1, 0, 0, 1, 1, 0,\n",
       "       0, 0, 0, 0, 1, 1, 1, 0, 0, 1, 0, 0, 0, 0, 0, 1, 0, 0, 1, 0, 1, 1,\n",
       "       0, 1, 0, 0, 0, 0, 1, 0, 0, 0, 1, 1, 1, 0, 0, 0, 0, 1, 1, 0, 0, 0,\n",
       "       1, 0, 0, 0, 0, 0, 0, 0, 0, 1, 1, 1, 0, 0, 0, 1, 1, 0, 0, 0, 0, 0,\n",
       "       0, 1, 0, 1, 0, 0, 0, 0, 1, 0, 0, 0])"
      ]
     },
     "execution_count": 223,
     "metadata": {},
     "output_type": "execute_result"
    }
   ],
   "source": [
    "pred_classes[:100]"
   ]
  },
  {
   "cell_type": "code",
   "execution_count": 224,
   "id": "e6ed3e85-9ad8-4a46-94a9-a251f541c8a3",
   "metadata": {},
   "outputs": [
    {
     "data": {
      "text/plain": [
       "5580"
      ]
     },
     "execution_count": 224,
     "metadata": {},
     "output_type": "execute_result"
    }
   ],
   "source": [
    "sum(pred_classes)"
   ]
  },
  {
   "cell_type": "markdown",
   "id": "e4ed40ea-ca5c-414a-bb0b-51429014befa",
   "metadata": {},
   "source": [
    "**Sniff Test #1:**  \n",
    "Look at relative ratio of strikes:\n",
    "\n",
    "Over **test** set:"
   ]
  },
  {
   "cell_type": "code",
   "execution_count": 225,
   "id": "0390c234-b034-4d11-9c69-f618d9f739f4",
   "metadata": {},
   "outputs": [
    {
     "data": {
      "text/plain": [
       "0    0.700531\n",
       "1    0.299469\n",
       "dtype: float64"
      ]
     },
     "execution_count": 225,
     "metadata": {},
     "output_type": "execute_result"
    }
   ],
   "source": [
    "df_pred = pd.DataFrame(pred_classes)\n",
    "df_pred.value_counts(normalize=True)"
   ]
  },
  {
   "cell_type": "markdown",
   "id": "73446b6e-5086-4f42-8529-56fc81c9e94e",
   "metadata": {},
   "source": [
    "For comparison, relative ratio in **training** data:"
   ]
  },
  {
   "cell_type": "code",
   "execution_count": 226,
   "id": "a37c354b-2125-468a-837c-8f259a3f57e0",
   "metadata": {},
   "outputs": [
    {
     "data": {
      "text/plain": [
       "0    0.686864\n",
       "1    0.313136\n",
       "Name: strike_bool, dtype: float64"
      ]
     },
     "execution_count": 226,
     "metadata": {},
     "output_type": "execute_result"
    }
   ],
   "source": [
    "df_train = pd.read_pickle('../data/train_enriched.pkl')\n",
    "df_train['strike_bool'].value_counts(normalize=True)"
   ]
  },
  {
   "cell_type": "markdown",
   "id": "3ac28217-87e5-4236-945c-a1cb542e74e3",
   "metadata": {},
   "source": [
    "Fairly close! It could be a _dangerous_ assumption, but based on what we DO know of how the datasets were constructed, the fact that the ratios are so close makes me feel that our results are pretty good."
   ]
  },
  {
   "cell_type": "markdown",
   "id": "cf321876-ccdf-4a52-8df3-4244323f4fe1",
   "metadata": {},
   "source": [
    "**Sniff Test #2:**  \n",
    "I want to see the distribution over pitch type. \n",
    "\n",
    "We'll need to use `pitch_type` in the test set. "
   ]
  },
  {
   "cell_type": "code",
   "execution_count": 227,
   "id": "628bfe7d-197f-4a9f-92c1-57dc52c07910",
   "metadata": {},
   "outputs": [
    {
     "data": {
      "application/com.datacamp.data-table.v1+json": {
       "is_truncated": false,
       "table": {
        "data": [
         {
          "angle_x": -0.26113,
          "angle_z": 8.02184,
          "at_bat_index": 47,
          "balls": 1,
          "batter": 563991,
          "break_x": -16.1715,
          "break_z": -31.5262,
          "bside": "L",
          "catcher": 784663,
          "game_date": "2021-06-15",
          "index": 0,
          "inning": 7,
          "on_1b_mlbid": null,
          "on_2b_mlbid": 530114,
          "on_3b_mlbid": 629652,
          "outs": 2,
          "pitch_id": "4a275ee6-0473-4272-91da-000b8a5f7194",
          "pitch_of_ab": 4,
          "pitch_speed": 88.1309,
          "pitch_type": "CH",
          "pitcher": 567234,
          "pside": "R",
          "px": -0.689798,
          "pz": 0.880993,
          "run_diff": 0,
          "season": 2021,
          "side": "away",
          "strike_bool_pred": 0,
          "strikes": 2,
          "stringer_zone_bottom": 1.53,
          "stringer_zone_top": 3.37,
          "umpire": 482732
         },
         {
          "angle_x": -1.28544,
          "angle_z": 2.30556,
          "at_bat_index": 0,
          "balls": 1,
          "batter": 773351,
          "break_x": 12.7892,
          "break_z": -15.412,
          "bside": "R",
          "catcher": 760539,
          "game_date": "2021-05-01",
          "index": 1,
          "inning": 1,
          "on_1b_mlbid": null,
          "on_2b_mlbid": null,
          "on_3b_mlbid": null,
          "outs": 0,
          "pitch_id": "0f8de36d-2148-4ade-b2f6-003e94c52f79",
          "pitch_of_ab": 4,
          "pitch_speed": 93.8505,
          "pitch_type": "FA",
          "pitcher": 784900,
          "pside": "L",
          "px": 0.670993,
          "pz": 4.80701,
          "run_diff": 0,
          "season": 2021,
          "side": "home",
          "strike_bool_pred": 0,
          "strikes": 2,
          "stringer_zone_bottom": 1.53,
          "stringer_zone_top": 3.37,
          "umpire": 440488
         },
         {
          "angle_x": -3.15206,
          "angle_z": 7.95176,
          "at_bat_index": 15,
          "balls": 2,
          "batter": 578897,
          "break_x": 6.32436,
          "break_z": -30.0377,
          "bside": "R",
          "catcher": 627932,
          "game_date": "2021-06-29",
          "index": 2,
          "inning": 2,
          "on_1b_mlbid": null,
          "on_2b_mlbid": 615238,
          "on_3b_mlbid": null,
          "outs": 1,
          "pitch_id": "0245561a-cb47-4aef-b167-003cbac75013",
          "pitch_of_ab": 3,
          "pitch_speed": 87.1178,
          "pitch_type": "SL",
          "pitcher": 587304,
          "pside": "R",
          "px": 0.550363,
          "pz": 2.37494,
          "run_diff": 0,
          "season": 2021,
          "side": "home",
          "strike_bool_pred": 1,
          "strikes": 0,
          "stringer_zone_bottom": 1.56,
          "stringer_zone_top": 3.41,
          "umpire": 482809
         },
         {
          "angle_x": 0.699183,
          "angle_z": 6.08815,
          "at_bat_index": 60,
          "balls": 3,
          "batter": 561637,
          "break_x": 12.1115,
          "break_z": -20.9565,
          "bside": "R",
          "catcher": 548825,
          "game_date": "2021-07-19",
          "index": 3,
          "inning": 6,
          "on_1b_mlbid": null,
          "on_2b_mlbid": null,
          "on_3b_mlbid": null,
          "outs": 1,
          "pitch_id": "47caed4e-8a65-43ee-b577-000f42cd6793",
          "pitch_of_ab": 4,
          "pitch_speed": 92.9043,
          "pitch_type": "FA",
          "pitcher": 529497,
          "pside": "L",
          "px": 0.88475,
          "pz": 2.42076,
          "run_diff": 8,
          "season": 2021,
          "side": "home",
          "strike_bool_pred": 1,
          "strikes": 0,
          "stringer_zone_bottom": 1.59,
          "stringer_zone_top": 3.47,
          "umpire": 482764
         },
         {
          "angle_x": -2.41876,
          "angle_z": 6.37698,
          "at_bat_index": 48,
          "balls": 0,
          "batter": 529059,
          "break_x": 0.996405,
          "break_z": -25.6905,
          "bside": "R",
          "catcher": 627932,
          "game_date": "2021-04-22",
          "index": 4,
          "inning": 7,
          "on_1b_mlbid": 615043,
          "on_2b_mlbid": null,
          "on_3b_mlbid": null,
          "outs": 0,
          "pitch_id": "2b1e1a66-e2c8-47df-b6f1-0038697d893e",
          "pitch_of_ab": 1,
          "pitch_speed": 86.5579,
          "pitch_type": "SL",
          "pitcher": 626939,
          "pside": "R",
          "px": -0.3433,
          "pz": 2.65081,
          "run_diff": 0,
          "season": 2021,
          "side": "home",
          "strike_bool_pred": 1,
          "strikes": 0,
          "stringer_zone_bottom": 1.47,
          "stringer_zone_top": 3.41,
          "umpire": 482569
         }
        ],
        "schema": {
         "fields": [
          {
           "name": "index",
           "type": "integer"
          },
          {
           "name": "pitch_id",
           "type": "string"
          },
          {
           "name": "season",
           "type": "integer"
          },
          {
           "name": "game_date",
           "type": "string"
          },
          {
           "name": "inning",
           "type": "integer"
          },
          {
           "name": "side",
           "type": "string"
          },
          {
           "name": "run_diff",
           "type": "integer"
          },
          {
           "name": "at_bat_index",
           "type": "integer"
          },
          {
           "name": "pitch_of_ab",
           "type": "integer"
          },
          {
           "name": "batter",
           "type": "integer"
          },
          {
           "name": "pitcher",
           "type": "integer"
          },
          {
           "name": "catcher",
           "type": "integer"
          },
          {
           "name": "umpire",
           "type": "integer"
          },
          {
           "name": "bside",
           "type": "string"
          },
          {
           "name": "pside",
           "type": "string"
          },
          {
           "name": "stringer_zone_bottom",
           "type": "number"
          },
          {
           "name": "stringer_zone_top",
           "type": "number"
          },
          {
           "name": "on_1b_mlbid",
           "type": "number"
          },
          {
           "name": "on_2b_mlbid",
           "type": "number"
          },
          {
           "name": "on_3b_mlbid",
           "type": "number"
          },
          {
           "name": "outs",
           "type": "integer"
          },
          {
           "name": "balls",
           "type": "integer"
          },
          {
           "name": "strikes",
           "type": "integer"
          },
          {
           "name": "pitch_speed",
           "type": "number"
          },
          {
           "name": "px",
           "type": "number"
          },
          {
           "name": "pz",
           "type": "number"
          },
          {
           "name": "break_x",
           "type": "number"
          },
          {
           "name": "break_z",
           "type": "number"
          },
          {
           "name": "angle_x",
           "type": "number"
          },
          {
           "name": "angle_z",
           "type": "number"
          },
          {
           "name": "pitch_type",
           "type": "string"
          },
          {
           "name": "strike_bool_pred",
           "type": "integer"
          }
         ],
         "pandas_version": "0.20.0",
         "primaryKey": [
          "index"
         ]
        }
       },
       "total_rows": 5
      },
      "text/html": [
       "<div>\n",
       "<style scoped>\n",
       "    .dataframe tbody tr th:only-of-type {\n",
       "        vertical-align: middle;\n",
       "    }\n",
       "\n",
       "    .dataframe tbody tr th {\n",
       "        vertical-align: top;\n",
       "    }\n",
       "\n",
       "    .dataframe thead th {\n",
       "        text-align: right;\n",
       "    }\n",
       "</style>\n",
       "<table border=\"1\" class=\"dataframe\">\n",
       "  <thead>\n",
       "    <tr style=\"text-align: right;\">\n",
       "      <th></th>\n",
       "      <th>pitch_id</th>\n",
       "      <th>season</th>\n",
       "      <th>game_date</th>\n",
       "      <th>inning</th>\n",
       "      <th>side</th>\n",
       "      <th>run_diff</th>\n",
       "      <th>at_bat_index</th>\n",
       "      <th>pitch_of_ab</th>\n",
       "      <th>batter</th>\n",
       "      <th>pitcher</th>\n",
       "      <th>...</th>\n",
       "      <th>strikes</th>\n",
       "      <th>pitch_speed</th>\n",
       "      <th>px</th>\n",
       "      <th>pz</th>\n",
       "      <th>break_x</th>\n",
       "      <th>break_z</th>\n",
       "      <th>angle_x</th>\n",
       "      <th>angle_z</th>\n",
       "      <th>pitch_type</th>\n",
       "      <th>strike_bool_pred</th>\n",
       "    </tr>\n",
       "  </thead>\n",
       "  <tbody>\n",
       "    <tr>\n",
       "      <th>0</th>\n",
       "      <td>4a275ee6-0473-4272-91da-000b8a5f7194</td>\n",
       "      <td>2021</td>\n",
       "      <td>2021-06-15</td>\n",
       "      <td>7</td>\n",
       "      <td>away</td>\n",
       "      <td>0</td>\n",
       "      <td>47</td>\n",
       "      <td>4</td>\n",
       "      <td>563991</td>\n",
       "      <td>567234</td>\n",
       "      <td>...</td>\n",
       "      <td>2</td>\n",
       "      <td>88.1309</td>\n",
       "      <td>-0.689798</td>\n",
       "      <td>0.880993</td>\n",
       "      <td>-16.171500</td>\n",
       "      <td>-31.5262</td>\n",
       "      <td>-0.261130</td>\n",
       "      <td>8.02184</td>\n",
       "      <td>CH</td>\n",
       "      <td>0</td>\n",
       "    </tr>\n",
       "    <tr>\n",
       "      <th>1</th>\n",
       "      <td>0f8de36d-2148-4ade-b2f6-003e94c52f79</td>\n",
       "      <td>2021</td>\n",
       "      <td>2021-05-01</td>\n",
       "      <td>1</td>\n",
       "      <td>home</td>\n",
       "      <td>0</td>\n",
       "      <td>0</td>\n",
       "      <td>4</td>\n",
       "      <td>773351</td>\n",
       "      <td>784900</td>\n",
       "      <td>...</td>\n",
       "      <td>2</td>\n",
       "      <td>93.8505</td>\n",
       "      <td>0.670993</td>\n",
       "      <td>4.807010</td>\n",
       "      <td>12.789200</td>\n",
       "      <td>-15.4120</td>\n",
       "      <td>-1.285440</td>\n",
       "      <td>2.30556</td>\n",
       "      <td>FA</td>\n",
       "      <td>0</td>\n",
       "    </tr>\n",
       "    <tr>\n",
       "      <th>2</th>\n",
       "      <td>0245561a-cb47-4aef-b167-003cbac75013</td>\n",
       "      <td>2021</td>\n",
       "      <td>2021-06-29</td>\n",
       "      <td>2</td>\n",
       "      <td>home</td>\n",
       "      <td>0</td>\n",
       "      <td>15</td>\n",
       "      <td>3</td>\n",
       "      <td>578897</td>\n",
       "      <td>587304</td>\n",
       "      <td>...</td>\n",
       "      <td>0</td>\n",
       "      <td>87.1178</td>\n",
       "      <td>0.550363</td>\n",
       "      <td>2.374940</td>\n",
       "      <td>6.324360</td>\n",
       "      <td>-30.0377</td>\n",
       "      <td>-3.152060</td>\n",
       "      <td>7.95176</td>\n",
       "      <td>SL</td>\n",
       "      <td>1</td>\n",
       "    </tr>\n",
       "    <tr>\n",
       "      <th>3</th>\n",
       "      <td>47caed4e-8a65-43ee-b577-000f42cd6793</td>\n",
       "      <td>2021</td>\n",
       "      <td>2021-07-19</td>\n",
       "      <td>6</td>\n",
       "      <td>home</td>\n",
       "      <td>8</td>\n",
       "      <td>60</td>\n",
       "      <td>4</td>\n",
       "      <td>561637</td>\n",
       "      <td>529497</td>\n",
       "      <td>...</td>\n",
       "      <td>0</td>\n",
       "      <td>92.9043</td>\n",
       "      <td>0.884750</td>\n",
       "      <td>2.420760</td>\n",
       "      <td>12.111500</td>\n",
       "      <td>-20.9565</td>\n",
       "      <td>0.699183</td>\n",
       "      <td>6.08815</td>\n",
       "      <td>FA</td>\n",
       "      <td>1</td>\n",
       "    </tr>\n",
       "    <tr>\n",
       "      <th>4</th>\n",
       "      <td>2b1e1a66-e2c8-47df-b6f1-0038697d893e</td>\n",
       "      <td>2021</td>\n",
       "      <td>2021-04-22</td>\n",
       "      <td>7</td>\n",
       "      <td>home</td>\n",
       "      <td>0</td>\n",
       "      <td>48</td>\n",
       "      <td>1</td>\n",
       "      <td>529059</td>\n",
       "      <td>626939</td>\n",
       "      <td>...</td>\n",
       "      <td>0</td>\n",
       "      <td>86.5579</td>\n",
       "      <td>-0.343300</td>\n",
       "      <td>2.650810</td>\n",
       "      <td>0.996405</td>\n",
       "      <td>-25.6905</td>\n",
       "      <td>-2.418760</td>\n",
       "      <td>6.37698</td>\n",
       "      <td>SL</td>\n",
       "      <td>1</td>\n",
       "    </tr>\n",
       "  </tbody>\n",
       "</table>\n",
       "<p>5 rows × 31 columns</p>\n",
       "</div>"
      ],
      "text/plain": [
       "                               pitch_id  season   game_date  inning  side  \\\n",
       "0  4a275ee6-0473-4272-91da-000b8a5f7194    2021  2021-06-15       7  away   \n",
       "1  0f8de36d-2148-4ade-b2f6-003e94c52f79    2021  2021-05-01       1  home   \n",
       "2  0245561a-cb47-4aef-b167-003cbac75013    2021  2021-06-29       2  home   \n",
       "3  47caed4e-8a65-43ee-b577-000f42cd6793    2021  2021-07-19       6  home   \n",
       "4  2b1e1a66-e2c8-47df-b6f1-0038697d893e    2021  2021-04-22       7  home   \n",
       "\n",
       "   run_diff  at_bat_index  pitch_of_ab  batter  pitcher  ...  strikes  \\\n",
       "0         0            47            4  563991   567234  ...        2   \n",
       "1         0             0            4  773351   784900  ...        2   \n",
       "2         0            15            3  578897   587304  ...        0   \n",
       "3         8            60            4  561637   529497  ...        0   \n",
       "4         0            48            1  529059   626939  ...        0   \n",
       "\n",
       "   pitch_speed        px        pz    break_x  break_z   angle_x  angle_z  \\\n",
       "0      88.1309 -0.689798  0.880993 -16.171500 -31.5262 -0.261130  8.02184   \n",
       "1      93.8505  0.670993  4.807010  12.789200 -15.4120 -1.285440  2.30556   \n",
       "2      87.1178  0.550363  2.374940   6.324360 -30.0377 -3.152060  7.95176   \n",
       "3      92.9043  0.884750  2.420760  12.111500 -20.9565  0.699183  6.08815   \n",
       "4      86.5579 -0.343300  2.650810   0.996405 -25.6905 -2.418760  6.37698   \n",
       "\n",
       "   pitch_type  strike_bool_pred  \n",
       "0          CH                 0  \n",
       "1          FA                 0  \n",
       "2          SL                 1  \n",
       "3          FA                 1  \n",
       "4          SL                 1  \n",
       "\n",
       "[5 rows x 31 columns]"
      ]
     },
     "metadata": {},
     "output_type": "display_data"
    },
    {
     "data": {
      "text/plain": [
       "FA    9495\n",
       "SL    4721\n",
       "CH    2217\n",
       "CU    2034\n",
       "XX     142\n",
       "AP      19\n",
       "KN       1\n",
       "Name: pitch_type, dtype: int64"
      ]
     },
     "metadata": {},
     "output_type": "display_data"
    },
    {
     "data": {
      "text/plain": [
       "['CH', 'CU', 'FA', 'KN', 'SL']"
      ]
     },
     "metadata": {},
     "output_type": "display_data"
    },
    {
     "data": {
      "text/plain": [
       "'Rows before: 18633'"
      ]
     },
     "metadata": {},
     "output_type": "display_data"
    },
    {
     "data": {
      "text/plain": [
       "'Rows after: 18468'"
      ]
     },
     "metadata": {},
     "output_type": "display_data"
    }
   ],
   "source": [
    "df_test_temp = df_test.copy()\n",
    "df_test_temp['strike_bool_pred'] = df_pred\n",
    "\n",
    "# viz checks\n",
    "display(df_test_temp.head())\n",
    "display(df_test_temp['pitch_type'].value_counts())\n",
    "\n",
    "# For the purpose of this exercise let's use same pitches as in training set\n",
    "pitches = list(df_train['pitch_type'].unique())\n",
    "pitches.sort()\n",
    "display(pitches)\n",
    "pit_test_flag = df_test_temp['pitch_type'].isin(pitches)\n",
    "\n",
    "display(f'Rows before: {df_test_temp.shape[0]}')\n",
    "\n",
    "df_test_temp = df_test_temp[pit_test_flag]\n",
    "\n",
    "display(f'Rows after: {df_test_temp.shape[0]}')"
   ]
  },
  {
   "cell_type": "markdown",
   "id": "6957b39b-49ff-46a9-a3a4-d9f9596ba4fc",
   "metadata": {},
   "source": [
    "**Show distribution of strikes by pitch, Train vs Test**"
   ]
  },
  {
   "cell_type": "code",
   "execution_count": 228,
   "id": "ed39b8ef-25ff-4b4c-8f85-075dc99457b9",
   "metadata": {},
   "outputs": [
    {
     "data": {
      "image/png": "[encoded data removed]",
      "text/plain": [
       "<Figure size 864x432 with 2 Axes>"
      ]
     },
     "metadata": {
      "needs_background": "light"
     },
     "output_type": "display_data"
    }
   ],
   "source": [
    "fig, ax = plt.subplots(1, 2)\n",
    "fig.set_size_inches(12, 6)\n",
    "plt.suptitle(\"Neural Network Predictions - Pct Distribution of Strikes by Pitch Type\")\n",
    "\n",
    "# Train\n",
    "x_tab_train = pd.crosstab(df_train['pitch_type'], df_train['strike_bool']\n",
    "                          ,normalize='index')\n",
    "\n",
    "x_tab_train.plot.bar(stacked=True, ax=ax[0]\n",
    "                     ,title='Train Set', color=['midnightblue','teal'])\n",
    "ax[0].legend(loc='lower right')\n",
    "\n",
    "\n",
    "# Test\n",
    "x_tab_test = pd.crosstab(df_test_temp['pitch_type']\n",
    "                         ,df_test_temp['strike_bool_pred']\n",
    "                         ,normalize='index')\n",
    "\n",
    "x_tab_test.plot.bar(stacked=True, ax=ax[1]\n",
    "                    ,title='Test Set', color=['midnightblue','teal'])\n",
    "\n",
    "#plt.rcParams[\"legend.loc\"] = 'lower right'\n",
    "ax[1].legend(loc='lower right')\n",
    "\n",
    "plt.show()"
   ]
  },
  {
   "cell_type": "markdown",
   "id": "667729cc-b3bb-4f01-a9bb-b3070041e337",
   "metadata": {},
   "source": [
    "Distribution looks pretty similar. Ignore Knuckleball because there are so few.\n",
    "\n",
    "Again, assuming these *should* look similar is contigent on the `train` and `test` samples being stratified similarly."
   ]
  },
  {
   "cell_type": "markdown",
   "id": "d63526d5-5f0f-4ac7-8869-8ee581c8a1ed",
   "metadata": {},
   "source": [
    "##### Predicted Probabilities"
   ]
  },
  {
   "cell_type": "code",
   "execution_count": 114,
   "id": "15db0b8e-6c93-4349-9a98-5acf9ba7506e",
   "metadata": {},
   "outputs": [
    {
     "name": "stdout",
     "output_type": "stream",
     "text": [
      "73/73 [==============================] - 0s 678us/step\n"
     ]
    }
   ],
   "source": [
    "pred_proba = selected_model.predict_proba(holdout_scaled)"
   ]
  },
  {
   "cell_type": "markdown",
   "id": "26464ee7-03a6-42ea-b992-b955d3c24b21",
   "metadata": {},
   "source": [
    "Check sum."
   ]
  },
  {
   "cell_type": "code",
   "execution_count": 115,
   "id": "bedd6ef3-0a0c-41a1-b468-9d6101da7d54",
   "metadata": {},
   "outputs": [
    {
     "data": {
      "text/plain": [
       "18633.0"
      ]
     },
     "execution_count": 115,
     "metadata": {},
     "output_type": "execute_result"
    }
   ],
   "source": [
    "np.sum(pred_proba)"
   ]
  },
  {
   "cell_type": "code",
   "execution_count": 116,
   "id": "1dd34da7-095d-4df0-b6ae-9aad4438b7ec",
   "metadata": {},
   "outputs": [
    {
     "data": {
      "text/plain": [
       "array([12940.493,  5692.558], dtype=float32)"
      ]
     },
     "execution_count": 116,
     "metadata": {},
     "output_type": "execute_result"
    }
   ],
   "source": [
    "np.sum(pred_proba, axis=0)"
   ]
  },
  {
   "cell_type": "markdown",
   "id": "28caa837-fe97-4edd-a1dc-8d9f01c855ba",
   "metadata": {},
   "source": [
    "Quick look at results:\n",
    "\n",
    "- Look at strike probabilities"
   ]
  },
  {
   "cell_type": "code",
   "execution_count": 117,
   "id": "635357d9-6f26-408a-b134-0bf5ef212417",
   "metadata": {},
   "outputs": [
    {
     "data": {
      "text/plain": [
       "array([0.001, 0.   , 0.996, 0.821, 0.999, 0.001, 0.968, 0.   , 1.   ,\n",
       "       0.008], dtype=float32)"
      ]
     },
     "execution_count": 117,
     "metadata": {},
     "output_type": "execute_result"
    }
   ],
   "source": [
    "pred_proba_strike_only = pred_proba[:, -1]\n",
    "np.round(pred_proba_strike_only[:10], 3)"
   ]
  },
  {
   "cell_type": "markdown",
   "id": "357a00c8-63a2-4186-a9a7-e920e529d2db",
   "metadata": {},
   "source": [
    "- Put into a `DataFrame` for readability and ease of export to `.csv`"
   ]
  },
  {
   "cell_type": "code",
   "execution_count": 118,
   "id": "f3394966-7a96-4881-92c5-437f3ee134ca",
   "metadata": {},
   "outputs": [
    {
     "data": {
      "application/com.datacamp.data-table.v1+json": {
       "is_truncated": false,
       "table": {
        "data": [
         {
          "index": 0,
          "pitch_id": "4a275ee6-0473-4272-91da-000b8a5f7194",
          "pr_strike": 0.0008751452
         },
         {
          "index": 1,
          "pitch_id": "0f8de36d-2148-4ade-b2f6-003e94c52f79",
          "pr_strike": 2.87e-08
         },
         {
          "index": 2,
          "pitch_id": "0245561a-cb47-4aef-b167-003cbac75013",
          "pr_strike": 0.9961633682
         },
         {
          "index": 3,
          "pitch_id": "47caed4e-8a65-43ee-b577-000f42cd6793",
          "pr_strike": 0.8207997084
         },
         {
          "index": 4,
          "pitch_id": "2b1e1a66-e2c8-47df-b6f1-0038697d893e",
          "pr_strike": 0.9989308119
         },
         {
          "index": 5,
          "pitch_id": "1f04598e-ac36-44fb-9e21-0018dcbae78f",
          "pr_strike": 0.0010691285
         },
         {
          "index": 6,
          "pitch_id": "0b0a030a-8363-401b-95e6-00258ca848c3",
          "pr_strike": 0.9677808285
         },
         {
          "index": 7,
          "pitch_id": "34b4f260-d83a-4d55-99e3-0041283bec27",
          "pr_strike": 0.0002119839
         },
         {
          "index": 8,
          "pitch_id": "044eaf4b-585d-42da-bb31-003e52c4fc03",
          "pr_strike": 0.9998666048
         },
         {
          "index": 9,
          "pitch_id": "23d14cd7-d4ec-4be7-9524-003fee40c05d",
          "pr_strike": 0.0083358884
         }
        ],
        "schema": {
         "fields": [
          {
           "name": "index",
           "type": "integer"
          },
          {
           "name": "pitch_id",
           "type": "string"
          },
          {
           "name": "pr_strike",
           "type": "number"
          }
         ],
         "pandas_version": "0.20.0",
         "primaryKey": [
          "index"
         ]
        }
       },
       "total_rows": 10
      },
      "text/html": [
       "<div>\n",
       "<style scoped>\n",
       "    .dataframe tbody tr th:only-of-type {\n",
       "        vertical-align: middle;\n",
       "    }\n",
       "\n",
       "    .dataframe tbody tr th {\n",
       "        vertical-align: top;\n",
       "    }\n",
       "\n",
       "    .dataframe thead th {\n",
       "        text-align: right;\n",
       "    }\n",
       "</style>\n",
       "<table border=\"1\" class=\"dataframe\">\n",
       "  <thead>\n",
       "    <tr style=\"text-align: right;\">\n",
       "      <th></th>\n",
       "      <th>pitch_id</th>\n",
       "      <th>pr_strike</th>\n",
       "    </tr>\n",
       "  </thead>\n",
       "  <tbody>\n",
       "    <tr>\n",
       "      <th>0</th>\n",
       "      <td>4a275ee6-0473-4272-91da-000b8a5f7194</td>\n",
       "      <td>8.751452e-04</td>\n",
       "    </tr>\n",
       "    <tr>\n",
       "      <th>1</th>\n",
       "      <td>0f8de36d-2148-4ade-b2f6-003e94c52f79</td>\n",
       "      <td>2.874003e-08</td>\n",
       "    </tr>\n",
       "    <tr>\n",
       "      <th>2</th>\n",
       "      <td>0245561a-cb47-4aef-b167-003cbac75013</td>\n",
       "      <td>9.961634e-01</td>\n",
       "    </tr>\n",
       "    <tr>\n",
       "      <th>3</th>\n",
       "      <td>47caed4e-8a65-43ee-b577-000f42cd6793</td>\n",
       "      <td>8.207997e-01</td>\n",
       "    </tr>\n",
       "    <tr>\n",
       "      <th>4</th>\n",
       "      <td>2b1e1a66-e2c8-47df-b6f1-0038697d893e</td>\n",
       "      <td>9.989308e-01</td>\n",
       "    </tr>\n",
       "    <tr>\n",
       "      <th>5</th>\n",
       "      <td>1f04598e-ac36-44fb-9e21-0018dcbae78f</td>\n",
       "      <td>1.069129e-03</td>\n",
       "    </tr>\n",
       "    <tr>\n",
       "      <th>6</th>\n",
       "      <td>0b0a030a-8363-401b-95e6-00258ca848c3</td>\n",
       "      <td>9.677808e-01</td>\n",
       "    </tr>\n",
       "    <tr>\n",
       "      <th>7</th>\n",
       "      <td>34b4f260-d83a-4d55-99e3-0041283bec27</td>\n",
       "      <td>2.119839e-04</td>\n",
       "    </tr>\n",
       "    <tr>\n",
       "      <th>8</th>\n",
       "      <td>044eaf4b-585d-42da-bb31-003e52c4fc03</td>\n",
       "      <td>9.998666e-01</td>\n",
       "    </tr>\n",
       "    <tr>\n",
       "      <th>9</th>\n",
       "      <td>23d14cd7-d4ec-4be7-9524-003fee40c05d</td>\n",
       "      <td>8.335888e-03</td>\n",
       "    </tr>\n",
       "  </tbody>\n",
       "</table>\n",
       "</div>"
      ],
      "text/plain": [
       "                               pitch_id     pr_strike\n",
       "0  4a275ee6-0473-4272-91da-000b8a5f7194  8.751452e-04\n",
       "1  0f8de36d-2148-4ade-b2f6-003e94c52f79  2.874003e-08\n",
       "2  0245561a-cb47-4aef-b167-003cbac75013  9.961634e-01\n",
       "3  47caed4e-8a65-43ee-b577-000f42cd6793  8.207997e-01\n",
       "4  2b1e1a66-e2c8-47df-b6f1-0038697d893e  9.989308e-01\n",
       "5  1f04598e-ac36-44fb-9e21-0018dcbae78f  1.069129e-03\n",
       "6  0b0a030a-8363-401b-95e6-00258ca848c3  9.677808e-01\n",
       "7  34b4f260-d83a-4d55-99e3-0041283bec27  2.119839e-04\n",
       "8  044eaf4b-585d-42da-bb31-003e52c4fc03  9.998666e-01\n",
       "9  23d14cd7-d4ec-4be7-9524-003fee40c05d  8.335888e-03"
      ]
     },
     "metadata": {},
     "output_type": "display_data"
    },
    {
     "data": {
      "application/com.datacamp.data-table.v1+json": {
       "is_truncated": false,
       "table": {
        "data": [
         {
          "index": 18533,
          "pitch_id": "f807a4cb-902a-4dc4-afd2-c7b422d9fdbb",
          "pr_strike": 0.0547602177
         },
         {
          "index": 18534,
          "pitch_id": "dbd3511b-3b96-46b7-951a-c7e43bd05bf3",
          "pr_strike": 1.08e-08
         },
         {
          "index": 18535,
          "pitch_id": "d6ba0c8a-0657-422b-b7f8-c7f034760b3c",
          "pr_strike": 0.0184251666
         },
         {
          "index": 18536,
          "pitch_id": "dcb8b207-a5b4-4a35-bc0f-c93e525297e8",
          "pr_strike": 0.0113242865
         },
         {
          "index": 18537,
          "pitch_id": "ddb9630d-d999-4278-adf8-c9da39a1505e",
          "pr_strike": 3.183e-07
         },
         {
          "index": 18538,
          "pitch_id": "f793849e-c65e-406c-aa9f-ca4266987cc1",
          "pr_strike": 0.3321459889
         },
         {
          "index": 18539,
          "pitch_id": "ceb0a466-0ca3-48c0-a1b7-ca5b9f4cb103",
          "pr_strike": 0.0008085072
         },
         {
          "index": 18540,
          "pitch_id": "ea8ca3b0-8c23-471e-b349-ca74a25a79a2",
          "pr_strike": 5.5095e-06
         },
         {
          "index": 18541,
          "pitch_id": "ca8a8169-8ddf-4a43-ad3f-cab83cc7c724",
          "pr_strike": 0.0016122758
         },
         {
          "index": 18542,
          "pitch_id": "ead43a3e-d970-4d4d-a179-cb04fddd130e",
          "pr_strike": 0.0008666813
         },
         {
          "index": 18543,
          "pitch_id": "cc6b05b1-9934-4ea9-abc3-cb2bc836458e",
          "pr_strike": 0.0680466592
         },
         {
          "index": 18544,
          "pitch_id": "eb81f331-0d2a-4b79-8307-cb5bdb8ffbd2",
          "pr_strike": 0.999648571
         },
         {
          "index": 18545,
          "pitch_id": "f9f95cdc-e44e-4541-a22f-cb91d23a8cba",
          "pr_strike": 0.0630379021
         },
         {
          "index": 18546,
          "pitch_id": "dbe07f8e-5043-4707-bdfc-cb92f261baaa",
          "pr_strike": 0.0106631219
         },
         {
          "index": 18547,
          "pitch_id": "cbc24b4e-91c6-484c-a95d-cc32f2a3f210",
          "pr_strike": 0.0001378059
         },
         {
          "index": 18548,
          "pitch_id": "d9bfd097-512e-4129-a450-cccbb7e68336",
          "pr_strike": 0.862200737
         },
         {
          "index": 18549,
          "pitch_id": "e150fdce-0eba-4659-bc35-cd3575856906",
          "pr_strike": 1.9493e-05
         },
         {
          "index": 18550,
          "pitch_id": "ca9117d6-6c8f-46cc-bade-cd43c8cd9941",
          "pr_strike": 0.0077915192
         },
         {
          "index": 18551,
          "pitch_id": "f79c2994-5eb8-4605-a96d-ce1cc890b57f",
          "pr_strike": 0.6924920678
         },
         {
          "index": 18552,
          "pitch_id": "e2e94f01-4368-4cfa-b2a3-cf4d9a144a1f",
          "pr_strike": 0.0048964322
         },
         {
          "index": 18553,
          "pitch_id": "ec9490e3-7c23-4f58-99d2-d03ab459fe0e",
          "pr_strike": 0.3442156911
         },
         {
          "index": 18554,
          "pitch_id": "cdd13395-3cfe-4e98-9a7e-d075c5c5b8dc",
          "pr_strike": 0.4037818611
         },
         {
          "index": 18555,
          "pitch_id": "cc206456-1c16-4b10-be51-d0eb1f495b31",
          "pr_strike": 0.9996207952
         },
         {
          "index": 18556,
          "pitch_id": "e001c6ae-c037-4d47-9f77-d144cc8f29cb",
          "pr_strike": 1.63459e-05
         },
         {
          "index": 18557,
          "pitch_id": "e44d1d36-51ec-4e62-af8f-d16ceb7ae9d1",
          "pr_strike": 0.0014413893
         },
         {
          "index": 18558,
          "pitch_id": "dfe679d0-a21a-4a8e-9e2a-d1cdb810b060",
          "pr_strike": 0.9332713485
         },
         {
          "index": 18559,
          "pitch_id": "ed867e75-fab1-46a5-8371-d24bf31cf1a8",
          "pr_strike": 0.9752444029
         },
         {
          "index": 18560,
          "pitch_id": "fd75a2d7-195a-4f7c-9a22-d26519faef02",
          "pr_strike": 1.36873e-05
         },
         {
          "index": 18561,
          "pitch_id": "e63b294b-231a-4c90-b947-d30b51bcf1d3",
          "pr_strike": 0.9958942533
         },
         {
          "index": 18562,
          "pitch_id": "d5e46de0-074d-4a46-a319-d45935a75a2e",
          "pr_strike": 0.8046072721
         },
         {
          "index": 18563,
          "pitch_id": "e6dfce4a-588f-4c9d-ae8a-d48d461e7b55",
          "pr_strike": 0.9660983086
         },
         {
          "index": 18564,
          "pitch_id": "d778ffca-0f35-4eef-bcc2-d5b6b5e4759c",
          "pr_strike": 0.129380852
         },
         {
          "index": 18565,
          "pitch_id": "ef15e9b2-4b95-43ca-bcda-d5d23d086a67",
          "pr_strike": 2.0148e-06
         },
         {
          "index": 18566,
          "pitch_id": "da298cb8-1a29-4b3e-85c7-d61d6ffe62e8",
          "pr_strike": 4e-10
         },
         {
          "index": 18567,
          "pitch_id": "ed0bd083-9ba7-4a85-82ea-d64f10883d30",
          "pr_strike": 8.87298e-05
         },
         {
          "index": 18568,
          "pitch_id": "c8622ef6-fd4f-4704-9410-d7617152ed8e",
          "pr_strike": 1.79e-07
         },
         {
          "index": 18569,
          "pitch_id": "dbe5e4a1-2fc0-4a2c-8657-d7c871fbf4e2",
          "pr_strike": 0.0001933575
         },
         {
          "index": 18570,
          "pitch_id": "def4925a-4f4e-4649-9e5c-d8155bd66871",
          "pr_strike": 0.6564365029
         },
         {
          "index": 18571,
          "pitch_id": "d50f40c1-5d6f-4c7c-aaac-d85108a5da0f",
          "pr_strike": 0.8562262058
         },
         {
          "index": 18572,
          "pitch_id": "f0abc14c-937f-4240-bd7b-d908b36e5e15",
          "pr_strike": 0.0001201135
         },
         {
          "index": 18573,
          "pitch_id": "e830f38c-6ed5-4dd7-868a-d9785a2e3513",
          "pr_strike": 4.6205e-06
         },
         {
          "index": 18574,
          "pitch_id": "dc932154-13ee-4272-8f86-d9888a798a67",
          "pr_strike": 0.0193200111
         },
         {
          "index": 18575,
          "pitch_id": "e14c88da-efed-4a2e-8300-d994b5642e57",
          "pr_strike": 0.0005366504
         },
         {
          "index": 18576,
          "pitch_id": "f69e2c30-9365-4c2f-9188-db41b9599e63",
          "pr_strike": 0.0365447104
         },
         {
          "index": 18577,
          "pitch_id": "cd964a08-6a2f-4126-a6fa-db5252baa913",
          "pr_strike": 2.522e-07
         },
         {
          "index": 18578,
          "pitch_id": "d329fbc0-1cfa-4398-8e1e-dc4e806fc5a6",
          "pr_strike": 0.0001069262
         },
         {
          "index": 18579,
          "pitch_id": "f3569546-92a6-4ef1-8cd4-dc7fd2c5143b",
          "pr_strike": 0.0006971061
         },
         {
          "index": 18580,
          "pitch_id": "cfe00cc6-bd7f-478a-929b-dc97dd59b978",
          "pr_strike": 0.0009937584
         },
         {
          "index": 18581,
          "pitch_id": "d1138154-3239-4ebc-af59-dfafd8242de8",
          "pr_strike": 0.0051066279
         },
         {
          "index": 18582,
          "pitch_id": "c9de2014-cabd-489e-90a7-e06d4807fd40",
          "pr_strike": 1e-10
         },
         {
          "index": 18583,
          "pitch_id": "e48d67b8-a833-4055-9033-e1a8f492f36d",
          "pr_strike": 0
         },
         {
          "index": 18584,
          "pitch_id": "f6693c56-33f5-4766-8b25-e22699312ce4",
          "pr_strike": 0.0046526492
         },
         {
          "index": 18585,
          "pitch_id": "f1a91a5f-23cf-432e-a168-e39b1bdf1b78",
          "pr_strike": 0.0002568662
         },
         {
          "index": 18586,
          "pitch_id": "dcb56c2c-2d4a-4fe0-a93a-e3dcb99891c9",
          "pr_strike": 5.8645e-06
         },
         {
          "index": 18587,
          "pitch_id": "e08cca6a-22cc-4fef-90d1-e43513b40a29",
          "pr_strike": 0.1941517889
         },
         {
          "index": 18588,
          "pitch_id": "e7e8409c-3c21-4031-9882-e45f57530a4b",
          "pr_strike": 0.993286252
         },
         {
          "index": 18589,
          "pitch_id": "cf3d7432-5494-4512-a336-e4706dd747c2",
          "pr_strike": 0.0010896623
         },
         {
          "index": 18590,
          "pitch_id": "d6c7cc09-d867-45cd-9dd8-e47c96c81648",
          "pr_strike": 0.103104651
         },
         {
          "index": 18591,
          "pitch_id": "f60863bf-0a79-4557-a6a8-e50121198f00",
          "pr_strike": 0.000113158
         },
         {
          "index": 18592,
          "pitch_id": "ef9b47f7-6e2a-4133-a9a5-e506f4fdd5d9",
          "pr_strike": 0.6038910747
         },
         {
          "index": 18593,
          "pitch_id": "e87e92bf-a2c2-437f-a8e3-e56e9ec51cc2",
          "pr_strike": 1.836e-07
         },
         {
          "index": 18594,
          "pitch_id": "d111f3aa-8f2a-4d3a-948f-e6e923508d16",
          "pr_strike": 0.7785602808
         },
         {
          "index": 18595,
          "pitch_id": "e3cedc6e-4d21-4bb7-b1f7-e73d67b192a1",
          "pr_strike": 0
         },
         {
          "index": 18596,
          "pitch_id": "f29feb7f-954b-4fbf-9bbf-e785ff08fb12",
          "pr_strike": 0.9885771275
         },
         {
          "index": 18597,
          "pitch_id": "eac35ca3-0d0b-49bf-9a40-e95b9dd80044",
          "pr_strike": 0.9997332692
         },
         {
          "index": 18598,
          "pitch_id": "e1af03cf-231c-46ed-a998-e9e75fce04d2",
          "pr_strike": 0.0001288056
         },
         {
          "index": 18599,
          "pitch_id": "da02570a-67cb-47b2-bcbe-ea301a3e8932",
          "pr_strike": 0.0042733848
         },
         {
          "index": 18600,
          "pitch_id": "ef3ecaf2-534b-4c4c-bdc0-ea73e53cff55",
          "pr_strike": 0.9992126226
         },
         {
          "index": 18601,
          "pitch_id": "e1cde3cd-181f-4ba2-8865-eb281ea0c995",
          "pr_strike": 0.9995889068
         },
         {
          "index": 18602,
          "pitch_id": "d8608b52-ada2-4a0a-9395-ec010528d8d6",
          "pr_strike": 0.9801153541
         },
         {
          "index": 18603,
          "pitch_id": "c9a51872-4833-46d2-ac49-ed6beb318d4a",
          "pr_strike": 0.3961704671
         },
         {
          "index": 18604,
          "pitch_id": "f9ac432f-9978-44c6-8d9b-eeb0e9b363d1",
          "pr_strike": 8.92538e-05
         },
         {
          "index": 18605,
          "pitch_id": "f632ff4b-0df2-48fd-bb76-eec1b0643934",
          "pr_strike": 0.6067397594
         },
         {
          "index": 18606,
          "pitch_id": "ed513264-4197-4539-bd1e-eef0aca6ebf3",
          "pr_strike": 2e-10
         },
         {
          "index": 18607,
          "pitch_id": "c8770dab-e7b0-4f06-88c2-ef22983dc0a5",
          "pr_strike": 0.9984887838
         },
         {
          "index": 18608,
          "pitch_id": "cd833ea1-3aa4-4310-b35f-efd9fa06c50d",
          "pr_strike": 2.5089e-06
         },
         {
          "index": 18609,
          "pitch_id": "e2807dae-6e9f-41de-81f0-efe0065d7f73",
          "pr_strike": 0.3608286083
         },
         {
          "index": 18610,
          "pitch_id": "ee063584-cd86-41fd-a300-f0beb71f28f0",
          "pr_strike": 0.0013361573
         },
         {
          "index": 18611,
          "pitch_id": "f46fdeba-cba3-4bf1-a1cf-f1764bc4766d",
          "pr_strike": 0.6620517969
         },
         {
          "index": 18612,
          "pitch_id": "cc18574d-f050-4a48-b11e-f1a9a10ab310",
          "pr_strike": 5.74791e-05
         },
         {
          "index": 18613,
          "pitch_id": "fe85b63f-0a7b-4997-82a9-f2416530ca6d",
          "pr_strike": 0.9945828915
         },
         {
          "index": 18614,
          "pitch_id": "eaaf6511-ee9e-418d-822c-f2bb58189423",
          "pr_strike": 1.944e-07
         },
         {
          "index": 18615,
          "pitch_id": "f080cea4-97c0-45ea-9541-f354922e7f0e",
          "pr_strike": 0.0316183567
         },
         {
          "index": 18616,
          "pitch_id": "cfbfe408-2917-4683-a2f1-f39d95d2af88",
          "pr_strike": 0.2855208516
         },
         {
          "index": 18617,
          "pitch_id": "d1df10fb-7e04-4441-ac03-f411d492a2d1",
          "pr_strike": 0.0105263591
         },
         {
          "index": 18618,
          "pitch_id": "d370e34c-4976-47d8-a561-f4a3091e4e62",
          "pr_strike": 0.6510128379
         },
         {
          "index": 18619,
          "pitch_id": "dd4a0865-cab2-4ea5-b9cb-f50ee36ead32",
          "pr_strike": 1.602e-07
         },
         {
          "index": 18620,
          "pitch_id": "dd483877-9d24-4769-947c-f561619ea586",
          "pr_strike": 0.9856048822
         },
         {
          "index": 18621,
          "pitch_id": "d87e0da5-484b-4eff-a7c9-f686e8199ef3",
          "pr_strike": 0.9994558692
         },
         {
          "index": 18622,
          "pitch_id": "d73f3d3a-f958-45af-a9f7-f90fa53d14db",
          "pr_strike": 0.9990814924
         },
         {
          "index": 18623,
          "pitch_id": "faef94a8-b7e3-4476-9531-f93d8ff9310d",
          "pr_strike": 5.26206e-05
         },
         {
          "index": 18624,
          "pitch_id": "ca1a352d-d5f1-48d6-aef0-f9a1f91e8b21",
          "pr_strike": 7.89906e-05
         },
         {
          "index": 18625,
          "pitch_id": "e99c6601-0261-48a1-95b7-fb1f506ac9ad",
          "pr_strike": 9e-10
         },
         {
          "index": 18626,
          "pitch_id": "d275bf64-13e9-416b-97c7-fb80dfdd53fd",
          "pr_strike": 0.0004377961
         },
         {
          "index": 18627,
          "pitch_id": "f2965bb9-0413-4d18-a9c3-fd28bd4c6c26",
          "pr_strike": 0.0018009543
         },
         {
          "index": 18628,
          "pitch_id": "ef712401-9764-4221-82df-fd4b642b8145",
          "pr_strike": 0.0941726267
         },
         {
          "index": 18629,
          "pitch_id": "d31df947-88bc-4d6a-9246-fd9cbb99380e",
          "pr_strike": 8.3786e-06
         },
         {
          "index": 18630,
          "pitch_id": "dd494b8a-f3a5-48e5-abe7-fe3db431d2fe",
          "pr_strike": 0.0001509786
         },
         {
          "index": 18631,
          "pitch_id": "d938da49-1ad5-4d29-a6b1-fe6adc7b606e",
          "pr_strike": 0.0011625886
         },
         {
          "index": 18632,
          "pitch_id": "cb59b01e-4b4c-4eb7-936d-fe9611fc7d55",
          "pr_strike": 0.0045780241
         }
        ],
        "schema": {
         "fields": [
          {
           "name": "index",
           "type": "integer"
          },
          {
           "name": "pitch_id",
           "type": "string"
          },
          {
           "name": "pr_strike",
           "type": "number"
          }
         ],
         "pandas_version": "0.20.0",
         "primaryKey": [
          "index"
         ]
        }
       },
       "total_rows": 100
      },
      "text/html": [
       "<div>\n",
       "<style scoped>\n",
       "    .dataframe tbody tr th:only-of-type {\n",
       "        vertical-align: middle;\n",
       "    }\n",
       "\n",
       "    .dataframe tbody tr th {\n",
       "        vertical-align: top;\n",
       "    }\n",
       "\n",
       "    .dataframe thead th {\n",
       "        text-align: right;\n",
       "    }\n",
       "</style>\n",
       "<table border=\"1\" class=\"dataframe\">\n",
       "  <thead>\n",
       "    <tr style=\"text-align: right;\">\n",
       "      <th></th>\n",
       "      <th>pitch_id</th>\n",
       "      <th>pr_strike</th>\n",
       "    </tr>\n",
       "  </thead>\n",
       "  <tbody>\n",
       "    <tr>\n",
       "      <th>18533</th>\n",
       "      <td>f807a4cb-902a-4dc4-afd2-c7b422d9fdbb</td>\n",
       "      <td>5.476022e-02</td>\n",
       "    </tr>\n",
       "    <tr>\n",
       "      <th>18534</th>\n",
       "      <td>dbd3511b-3b96-46b7-951a-c7e43bd05bf3</td>\n",
       "      <td>1.077026e-08</td>\n",
       "    </tr>\n",
       "    <tr>\n",
       "      <th>18535</th>\n",
       "      <td>d6ba0c8a-0657-422b-b7f8-c7f034760b3c</td>\n",
       "      <td>1.842517e-02</td>\n",
       "    </tr>\n",
       "    <tr>\n",
       "      <th>18536</th>\n",
       "      <td>dcb8b207-a5b4-4a35-bc0f-c93e525297e8</td>\n",
       "      <td>1.132429e-02</td>\n",
       "    </tr>\n",
       "    <tr>\n",
       "      <th>18537</th>\n",
       "      <td>ddb9630d-d999-4278-adf8-c9da39a1505e</td>\n",
       "      <td>3.182799e-07</td>\n",
       "    </tr>\n",
       "    <tr>\n",
       "      <th>...</th>\n",
       "      <td>...</td>\n",
       "      <td>...</td>\n",
       "    </tr>\n",
       "    <tr>\n",
       "      <th>18628</th>\n",
       "      <td>ef712401-9764-4221-82df-fd4b642b8145</td>\n",
       "      <td>9.417263e-02</td>\n",
       "    </tr>\n",
       "    <tr>\n",
       "      <th>18629</th>\n",
       "      <td>d31df947-88bc-4d6a-9246-fd9cbb99380e</td>\n",
       "      <td>8.378584e-06</td>\n",
       "    </tr>\n",
       "    <tr>\n",
       "      <th>18630</th>\n",
       "      <td>dd494b8a-f3a5-48e5-abe7-fe3db431d2fe</td>\n",
       "      <td>1.509786e-04</td>\n",
       "    </tr>\n",
       "    <tr>\n",
       "      <th>18631</th>\n",
       "      <td>d938da49-1ad5-4d29-a6b1-fe6adc7b606e</td>\n",
       "      <td>1.162589e-03</td>\n",
       "    </tr>\n",
       "    <tr>\n",
       "      <th>18632</th>\n",
       "      <td>cb59b01e-4b4c-4eb7-936d-fe9611fc7d55</td>\n",
       "      <td>4.578024e-03</td>\n",
       "    </tr>\n",
       "  </tbody>\n",
       "</table>\n",
       "<p>100 rows × 2 columns</p>\n",
       "</div>"
      ],
      "text/plain": [
       "                                   pitch_id     pr_strike\n",
       "18533  f807a4cb-902a-4dc4-afd2-c7b422d9fdbb  5.476022e-02\n",
       "18534  dbd3511b-3b96-46b7-951a-c7e43bd05bf3  1.077026e-08\n",
       "18535  d6ba0c8a-0657-422b-b7f8-c7f034760b3c  1.842517e-02\n",
       "18536  dcb8b207-a5b4-4a35-bc0f-c93e525297e8  1.132429e-02\n",
       "18537  ddb9630d-d999-4278-adf8-c9da39a1505e  3.182799e-07\n",
       "...                                     ...           ...\n",
       "18628  ef712401-9764-4221-82df-fd4b642b8145  9.417263e-02\n",
       "18629  d31df947-88bc-4d6a-9246-fd9cbb99380e  8.378584e-06\n",
       "18630  dd494b8a-f3a5-48e5-abe7-fe3db431d2fe  1.509786e-04\n",
       "18631  d938da49-1ad5-4d29-a6b1-fe6adc7b606e  1.162589e-03\n",
       "18632  cb59b01e-4b4c-4eb7-936d-fe9611fc7d55  4.578024e-03\n",
       "\n",
       "[100 rows x 2 columns]"
      ]
     },
     "metadata": {},
     "output_type": "display_data"
    }
   ],
   "source": [
    "df_strk_prob = pd.concat([pitch_ids, pd.DataFrame(pred_proba_strike_only)], axis=1)\n",
    "df_strk_prob.columns = ['pitch_id', 'pr_strike']\n",
    "display(df_strk_prob.head(10))\n",
    "display(df_strk_prob.tail(100))"
   ]
  },
  {
   "cell_type": "code",
   "execution_count": 119,
   "id": "06ba236c-1aa2-4efd-a10d-5f7ce1cc72ed",
   "metadata": {},
   "outputs": [
    {
     "name": "stdout",
     "output_type": "stream",
     "text": [
      "<class 'pandas.core.frame.DataFrame'>\n",
      "RangeIndex: 18633 entries, 0 to 18632\n",
      "Data columns (total 2 columns):\n",
      " #   Column     Non-Null Count  Dtype  \n",
      "---  ------     --------------  -----  \n",
      " 0   pitch_id   18633 non-null  object \n",
      " 1   pr_strike  18633 non-null  float32\n",
      "dtypes: float32(1), object(1)\n",
      "memory usage: 218.5+ KB\n"
     ]
    }
   ],
   "source": [
    "df_strk_prob.info()"
   ]
  },
  {
   "cell_type": "code",
   "execution_count": 120,
   "id": "9e5e449c-cb97-4cc1-8fc4-134cc58909e6",
   "metadata": {},
   "outputs": [
    {
     "data": {
      "text/plain": [
       "'./predictions/holdout/nn_pred_vals_20220512_0855.csv'"
      ]
     },
     "metadata": {},
     "output_type": "display_data"
    },
    {
     "data": {
      "text/plain": [
       "'./predictions/holdout/nn_pred_proba_20220512_0855.csv'"
      ]
     },
     "metadata": {},
     "output_type": "display_data"
    },
    {
     "data": {
      "text/plain": [
       "'./predictions/holdout/deliverables/nn_strike_proba_by_pitch_id_20220512_0855.csv'"
      ]
     },
     "metadata": {},
     "output_type": "display_data"
    }
   ],
   "source": [
    "str_ts = datetime.now(timezone.utc).astimezone(pytz.timezone('US/Pacific')).strftime(\"%Y%m%d_%H%M\")\n",
    "file_class_nm = 'nn_pred_vals_' + str_ts\n",
    "file_proba_nm = 'nn_pred_proba_' + str_ts\n",
    "file_proba_stk_nm = 'nn_strike_proba_by_pitch_id_' + str_ts\n",
    "\n",
    "file_class_path = './predictions/holdout/' + file_class_nm + '.csv'\n",
    "file_proba_path = './predictions/holdout/' + file_proba_nm + '.csv'\n",
    "file_proba_stk_path = './predictions/holdout/deliverables/' + file_proba_stk_nm + '.csv'\n",
    "\n",
    "display(file_class_path)\n",
    "display(file_proba_path)\n",
    "display(file_proba_stk_path)"
   ]
  },
  {
   "cell_type": "code",
   "execution_count": 121,
   "id": "291ba08a-b8a6-4d68-88bf-fbc4b058a72e",
   "metadata": {},
   "outputs": [],
   "source": [
    "# save out predicted probabilities\n",
    "\n",
    "# Versions for personal reference\n",
    "np.savetxt(file_class_path, pred_classes, delimiter=\",\")\n",
    "np.savetxt(file_proba_path, pred_proba, delimiter=\",\")\n",
    "\n",
    "# Actual deliverable in desired format\n",
    "df_strk_prob.to_csv(file_proba_stk_path)"
   ]
  },
  {
   "cell_type": "markdown",
   "id": "a22dc347-fc04-4410-8a3f-ff9dcbd61395",
   "metadata": {},
   "source": [
    "---  \n",
    "### 3. Predictions - XGBoost<a id='7_xgb_pred'></a>\n",
    "\n",
    "<span style=\"font-size:0.5em;\"><a href='#7_toc'>Back to TOC</a></span>\n",
    "\n",
    "---  "
   ]
  },
  {
   "cell_type": "markdown",
   "id": "4e7dc6db-ecfe-4db4-9e92-7c2f9fb77204",
   "metadata": {},
   "source": [
    "#### Make Predictions!\n",
    "\n",
    "- For completeness we will produce various files for both strike outcomes and probabilities, though we will only deliver the probabilities files."
   ]
  },
  {
   "cell_type": "markdown",
   "id": "49027f7e-4ae7-455c-b2e4-00cfa865a6f8",
   "metadata": {},
   "source": [
    "#### a. Prep `pitch_id`\n",
    "\n",
    "We will need `pitch_id` so that customers can crosswalk to their datasets, if needed."
   ]
  },
  {
   "cell_type": "code",
   "execution_count": 229,
   "id": "1398267d-464d-4f35-98e4-d982bad4bc09",
   "metadata": {},
   "outputs": [
    {
     "data": {
      "text/plain": [
       "0    4a275ee6-0473-4272-91da-000b8a5f7194\n",
       "1    0f8de36d-2148-4ade-b2f6-003e94c52f79\n",
       "2    0245561a-cb47-4aef-b167-003cbac75013\n",
       "3    47caed4e-8a65-43ee-b577-000f42cd6793\n",
       "4    2b1e1a66-e2c8-47df-b6f1-0038697d893e\n",
       "5    1f04598e-ac36-44fb-9e21-0018dcbae78f\n",
       "6    0b0a030a-8363-401b-95e6-00258ca848c3\n",
       "7    34b4f260-d83a-4d55-99e3-0041283bec27\n",
       "8    044eaf4b-585d-42da-bb31-003e52c4fc03\n",
       "9    23d14cd7-d4ec-4be7-9524-003fee40c05d\n",
       "Name: pitch_id, dtype: object"
      ]
     },
     "metadata": {},
     "output_type": "display_data"
    }
   ],
   "source": [
    "pitch_ids = df_test['pitch_id']\n",
    "display(pitch_ids.head(10))"
   ]
  },
  {
   "cell_type": "code",
   "execution_count": 230,
   "id": "8aaf08cb-9318-4dc8-988e-c8b89c906d29",
   "metadata": {},
   "outputs": [
    {
     "data": {
      "text/plain": [
       "(18633,)"
      ]
     },
     "execution_count": 230,
     "metadata": {},
     "output_type": "execute_result"
    }
   ],
   "source": [
    "pitch_ids.shape"
   ]
  },
  {
   "cell_type": "markdown",
   "id": "4e443ad8-e957-4592-886d-868f82128914",
   "metadata": {},
   "source": [
    "--- \n",
    "#### b. Retrieve and Predict on XGBoost Model\n",
    "\n",
    "We had previously pickled the candidate XGBoost model. (*Note that file was moved manually the original creation in [this notebook](./06_improved_non_nn_model.ipynb)*)"
   ]
  },
  {
   "cell_type": "code",
   "execution_count": 231,
   "id": "3a873a66-e888-4fb6-98a5-44924f7b4f72",
   "metadata": {
    "tags": []
   },
   "outputs": [],
   "source": [
    "#%%script echo skipping\n",
    "\n",
    "best_file_path = ('./models/best_models/classic_2nd_pass_best_model_' +\n",
    "                  'xgb_20220511_2250.pickle'\n",
    "                 )\n",
    "with open(best_file_path, 'rb') as f:\n",
    "    selected_model = pickle.load(f)"
   ]
  },
  {
   "cell_type": "code",
   "execution_count": 232,
   "id": "1e39e14f-4786-4e43-aa13-445b2eb7e5f5",
   "metadata": {},
   "outputs": [
    {
     "data": {
      "text/plain": [
       "<bound method Pipeline.get_params of Pipeline(steps=[('clf',\n",
       "                 XGBClassifier(base_score=0.5, booster='gbtree',\n",
       "                               colsample_bylevel=1, colsample_bynode=1,\n",
       "                               colsample_bytree=1, criterion='entropy', gamma=0,\n",
       "                               gpu_id=-1, importance_type='gain',\n",
       "                               interaction_constraints='',\n",
       "                               learning_rate=0.300000012, max_delta_step=0,\n",
       "                               max_depth=4, max_features='sqrt', max_samples=1,\n",
       "                               min_child_weight=1, min_samples_split=0.38,\n",
       "                               missing=nan, monotone_constraints='()',\n",
       "                               n_estimators=200, n_jobs=16, num_parallel_tree=1,\n",
       "                               random_state=0, reg_alpha=0, reg_lambda=1,\n",
       "                               scale_pos_weight=1, subsample=1,\n",
       "                               tree_method='exact', validate_parameters=1,\n",
       "                               verbosity=None))])>"
      ]
     },
     "execution_count": 232,
     "metadata": {},
     "output_type": "execute_result"
    }
   ],
   "source": [
    "selected_model.get_params"
   ]
  },
  {
   "cell_type": "code",
   "execution_count": 233,
   "id": "63d2ae29-e884-4054-a1a3-6f732dddaea2",
   "metadata": {},
   "outputs": [
    {
     "data": {
      "text/plain": [
       "(18633,)"
      ]
     },
     "metadata": {},
     "output_type": "display_data"
    }
   ],
   "source": [
    "pred_classes = selected_model.predict(holdout_scaled)\n",
    "display(pred_classes.shape)"
   ]
  },
  {
   "cell_type": "markdown",
   "id": "382a9890-b287-4e7b-b05f-eb48f35badc5",
   "metadata": {},
   "source": [
    "Quick look at results:"
   ]
  },
  {
   "cell_type": "code",
   "execution_count": 234,
   "id": "a9d40490-eb10-4633-981b-d596b1bb5514",
   "metadata": {},
   "outputs": [
    {
     "data": {
      "text/plain": [
       "array([0, 0, 1, 1, 1, 0, 1, 0, 1, 0, 1, 1, 1, 0, 0, 0, 1, 0, 0, 1, 1, 0,\n",
       "       0, 0, 0, 0, 1, 1, 1, 0, 0, 1, 0, 0, 0, 0, 0, 1, 0, 1, 1, 0, 1, 1,\n",
       "       0, 1, 0, 0, 0, 0, 1, 0, 0, 0, 1, 1, 1, 0, 0, 0, 0, 1, 1, 0, 0, 0,\n",
       "       1, 0, 0, 0, 0, 1, 0, 0, 0, 1, 1, 1, 0, 0, 0, 1, 1, 0, 0, 0, 0, 0,\n",
       "       0, 1, 0, 1, 0, 0, 0, 0, 1, 0, 0, 0])"
      ]
     },
     "execution_count": 234,
     "metadata": {},
     "output_type": "execute_result"
    }
   ],
   "source": [
    "pred_classes[:100]"
   ]
  },
  {
   "cell_type": "code",
   "execution_count": 235,
   "id": "856763a7-8c63-40bb-8c38-91bfb71b51b0",
   "metadata": {},
   "outputs": [
    {
     "data": {
      "text/plain": [
       "5740"
      ]
     },
     "execution_count": 235,
     "metadata": {},
     "output_type": "execute_result"
    }
   ],
   "source": [
    "sum(pred_classes)"
   ]
  },
  {
   "cell_type": "markdown",
   "id": "c2b61b66-083b-4f55-916d-c6273750d9de",
   "metadata": {},
   "source": [
    "**Sniff Test #1:**  \n",
    "Look at relative ratio of strikes:\n",
    "\n",
    "Over **test** set:"
   ]
  },
  {
   "cell_type": "code",
   "execution_count": 236,
   "id": "909ced0f-ad1e-41ff-bef2-2165c2b57cbc",
   "metadata": {},
   "outputs": [
    {
     "data": {
      "text/plain": [
       "0    0.691944\n",
       "1    0.308056\n",
       "dtype: float64"
      ]
     },
     "execution_count": 236,
     "metadata": {},
     "output_type": "execute_result"
    }
   ],
   "source": [
    "df_pred = pd.DataFrame(pred_classes)\n",
    "df_pred.value_counts(normalize=True)"
   ]
  },
  {
   "cell_type": "markdown",
   "id": "32208e5f-bcb9-44c5-9414-09337e746cb5",
   "metadata": {},
   "source": [
    "For comparison, relative ratio in **training** data:"
   ]
  },
  {
   "cell_type": "code",
   "execution_count": 237,
   "id": "9b354dd3-ed0a-48ea-91b0-d27fb3aaa9bf",
   "metadata": {},
   "outputs": [
    {
     "data": {
      "text/plain": [
       "0    0.686864\n",
       "1    0.313136\n",
       "Name: strike_bool, dtype: float64"
      ]
     },
     "execution_count": 237,
     "metadata": {},
     "output_type": "execute_result"
    }
   ],
   "source": [
    "df_train = pd.read_pickle('../data/train_enriched.pkl')\n",
    "df_train['strike_bool'].value_counts(normalize=True)"
   ]
  },
  {
   "cell_type": "markdown",
   "id": "af56f160-c78e-4011-84c1-bc12f33f38f3",
   "metadata": {},
   "source": [
    "Fairly close! It could be a _dangerous_ assumption, but based on what we DO know of how the datasets were constructed, the fact that the ratios are so close makes me feel that our results are pretty good."
   ]
  },
  {
   "cell_type": "markdown",
   "id": "6f575c5f-7fd6-4a61-8551-67da187a731b",
   "metadata": {},
   "source": [
    "**Sniff Test #2:**  \n",
    "I want to see the distribution over pitch type. \n",
    "\n",
    "We'll need to use `pitch_type` in the test set. "
   ]
  },
  {
   "cell_type": "code",
   "execution_count": 238,
   "id": "14741a6f-2fd1-4e4e-98f6-b08284d2139a",
   "metadata": {},
   "outputs": [
    {
     "data": {
      "application/com.datacamp.data-table.v1+json": {
       "is_truncated": false,
       "table": {
        "data": [
         {
          "angle_x": -0.26113,
          "angle_z": 8.02184,
          "at_bat_index": 47,
          "balls": 1,
          "batter": 563991,
          "break_x": -16.1715,
          "break_z": -31.5262,
          "bside": "L",
          "catcher": 784663,
          "game_date": "2021-06-15",
          "index": 0,
          "inning": 7,
          "on_1b_mlbid": null,
          "on_2b_mlbid": 530114,
          "on_3b_mlbid": 629652,
          "outs": 2,
          "pitch_id": "4a275ee6-0473-4272-91da-000b8a5f7194",
          "pitch_of_ab": 4,
          "pitch_speed": 88.1309,
          "pitch_type": "CH",
          "pitcher": 567234,
          "pside": "R",
          "px": -0.689798,
          "pz": 0.880993,
          "run_diff": 0,
          "season": 2021,
          "side": "away",
          "strike_bool_pred": 0,
          "strikes": 2,
          "stringer_zone_bottom": 1.53,
          "stringer_zone_top": 3.37,
          "umpire": 482732
         },
         {
          "angle_x": -1.28544,
          "angle_z": 2.30556,
          "at_bat_index": 0,
          "balls": 1,
          "batter": 773351,
          "break_x": 12.7892,
          "break_z": -15.412,
          "bside": "R",
          "catcher": 760539,
          "game_date": "2021-05-01",
          "index": 1,
          "inning": 1,
          "on_1b_mlbid": null,
          "on_2b_mlbid": null,
          "on_3b_mlbid": null,
          "outs": 0,
          "pitch_id": "0f8de36d-2148-4ade-b2f6-003e94c52f79",
          "pitch_of_ab": 4,
          "pitch_speed": 93.8505,
          "pitch_type": "FA",
          "pitcher": 784900,
          "pside": "L",
          "px": 0.670993,
          "pz": 4.80701,
          "run_diff": 0,
          "season": 2021,
          "side": "home",
          "strike_bool_pred": 0,
          "strikes": 2,
          "stringer_zone_bottom": 1.53,
          "stringer_zone_top": 3.37,
          "umpire": 440488
         },
         {
          "angle_x": -3.15206,
          "angle_z": 7.95176,
          "at_bat_index": 15,
          "balls": 2,
          "batter": 578897,
          "break_x": 6.32436,
          "break_z": -30.0377,
          "bside": "R",
          "catcher": 627932,
          "game_date": "2021-06-29",
          "index": 2,
          "inning": 2,
          "on_1b_mlbid": null,
          "on_2b_mlbid": 615238,
          "on_3b_mlbid": null,
          "outs": 1,
          "pitch_id": "0245561a-cb47-4aef-b167-003cbac75013",
          "pitch_of_ab": 3,
          "pitch_speed": 87.1178,
          "pitch_type": "SL",
          "pitcher": 587304,
          "pside": "R",
          "px": 0.550363,
          "pz": 2.37494,
          "run_diff": 0,
          "season": 2021,
          "side": "home",
          "strike_bool_pred": 1,
          "strikes": 0,
          "stringer_zone_bottom": 1.56,
          "stringer_zone_top": 3.41,
          "umpire": 482809
         },
         {
          "angle_x": 0.699183,
          "angle_z": 6.08815,
          "at_bat_index": 60,
          "balls": 3,
          "batter": 561637,
          "break_x": 12.1115,
          "break_z": -20.9565,
          "bside": "R",
          "catcher": 548825,
          "game_date": "2021-07-19",
          "index": 3,
          "inning": 6,
          "on_1b_mlbid": null,
          "on_2b_mlbid": null,
          "on_3b_mlbid": null,
          "outs": 1,
          "pitch_id": "47caed4e-8a65-43ee-b577-000f42cd6793",
          "pitch_of_ab": 4,
          "pitch_speed": 92.9043,
          "pitch_type": "FA",
          "pitcher": 529497,
          "pside": "L",
          "px": 0.88475,
          "pz": 2.42076,
          "run_diff": 8,
          "season": 2021,
          "side": "home",
          "strike_bool_pred": 1,
          "strikes": 0,
          "stringer_zone_bottom": 1.59,
          "stringer_zone_top": 3.47,
          "umpire": 482764
         },
         {
          "angle_x": -2.41876,
          "angle_z": 6.37698,
          "at_bat_index": 48,
          "balls": 0,
          "batter": 529059,
          "break_x": 0.996405,
          "break_z": -25.6905,
          "bside": "R",
          "catcher": 627932,
          "game_date": "2021-04-22",
          "index": 4,
          "inning": 7,
          "on_1b_mlbid": 615043,
          "on_2b_mlbid": null,
          "on_3b_mlbid": null,
          "outs": 0,
          "pitch_id": "2b1e1a66-e2c8-47df-b6f1-0038697d893e",
          "pitch_of_ab": 1,
          "pitch_speed": 86.5579,
          "pitch_type": "SL",
          "pitcher": 626939,
          "pside": "R",
          "px": -0.3433,
          "pz": 2.65081,
          "run_diff": 0,
          "season": 2021,
          "side": "home",
          "strike_bool_pred": 1,
          "strikes": 0,
          "stringer_zone_bottom": 1.47,
          "stringer_zone_top": 3.41,
          "umpire": 482569
         }
        ],
        "schema": {
         "fields": [
          {
           "name": "index",
           "type": "integer"
          },
          {
           "name": "pitch_id",
           "type": "string"
          },
          {
           "name": "season",
           "type": "integer"
          },
          {
           "name": "game_date",
           "type": "string"
          },
          {
           "name": "inning",
           "type": "integer"
          },
          {
           "name": "side",
           "type": "string"
          },
          {
           "name": "run_diff",
           "type": "integer"
          },
          {
           "name": "at_bat_index",
           "type": "integer"
          },
          {
           "name": "pitch_of_ab",
           "type": "integer"
          },
          {
           "name": "batter",
           "type": "integer"
          },
          {
           "name": "pitcher",
           "type": "integer"
          },
          {
           "name": "catcher",
           "type": "integer"
          },
          {
           "name": "umpire",
           "type": "integer"
          },
          {
           "name": "bside",
           "type": "string"
          },
          {
           "name": "pside",
           "type": "string"
          },
          {
           "name": "stringer_zone_bottom",
           "type": "number"
          },
          {
           "name": "stringer_zone_top",
           "type": "number"
          },
          {
           "name": "on_1b_mlbid",
           "type": "number"
          },
          {
           "name": "on_2b_mlbid",
           "type": "number"
          },
          {
           "name": "on_3b_mlbid",
           "type": "number"
          },
          {
           "name": "outs",
           "type": "integer"
          },
          {
           "name": "balls",
           "type": "integer"
          },
          {
           "name": "strikes",
           "type": "integer"
          },
          {
           "name": "pitch_speed",
           "type": "number"
          },
          {
           "name": "px",
           "type": "number"
          },
          {
           "name": "pz",
           "type": "number"
          },
          {
           "name": "break_x",
           "type": "number"
          },
          {
           "name": "break_z",
           "type": "number"
          },
          {
           "name": "angle_x",
           "type": "number"
          },
          {
           "name": "angle_z",
           "type": "number"
          },
          {
           "name": "pitch_type",
           "type": "string"
          },
          {
           "name": "strike_bool_pred",
           "type": "integer"
          }
         ],
         "pandas_version": "0.20.0",
         "primaryKey": [
          "index"
         ]
        }
       },
       "total_rows": 5
      },
      "text/html": [
       "<div>\n",
       "<style scoped>\n",
       "    .dataframe tbody tr th:only-of-type {\n",
       "        vertical-align: middle;\n",
       "    }\n",
       "\n",
       "    .dataframe tbody tr th {\n",
       "        vertical-align: top;\n",
       "    }\n",
       "\n",
       "    .dataframe thead th {\n",
       "        text-align: right;\n",
       "    }\n",
       "</style>\n",
       "<table border=\"1\" class=\"dataframe\">\n",
       "  <thead>\n",
       "    <tr style=\"text-align: right;\">\n",
       "      <th></th>\n",
       "      <th>pitch_id</th>\n",
       "      <th>season</th>\n",
       "      <th>game_date</th>\n",
       "      <th>inning</th>\n",
       "      <th>side</th>\n",
       "      <th>run_diff</th>\n",
       "      <th>at_bat_index</th>\n",
       "      <th>pitch_of_ab</th>\n",
       "      <th>batter</th>\n",
       "      <th>pitcher</th>\n",
       "      <th>...</th>\n",
       "      <th>strikes</th>\n",
       "      <th>pitch_speed</th>\n",
       "      <th>px</th>\n",
       "      <th>pz</th>\n",
       "      <th>break_x</th>\n",
       "      <th>break_z</th>\n",
       "      <th>angle_x</th>\n",
       "      <th>angle_z</th>\n",
       "      <th>pitch_type</th>\n",
       "      <th>strike_bool_pred</th>\n",
       "    </tr>\n",
       "  </thead>\n",
       "  <tbody>\n",
       "    <tr>\n",
       "      <th>0</th>\n",
       "      <td>4a275ee6-0473-4272-91da-000b8a5f7194</td>\n",
       "      <td>2021</td>\n",
       "      <td>2021-06-15</td>\n",
       "      <td>7</td>\n",
       "      <td>away</td>\n",
       "      <td>0</td>\n",
       "      <td>47</td>\n",
       "      <td>4</td>\n",
       "      <td>563991</td>\n",
       "      <td>567234</td>\n",
       "      <td>...</td>\n",
       "      <td>2</td>\n",
       "      <td>88.1309</td>\n",
       "      <td>-0.689798</td>\n",
       "      <td>0.880993</td>\n",
       "      <td>-16.171500</td>\n",
       "      <td>-31.5262</td>\n",
       "      <td>-0.261130</td>\n",
       "      <td>8.02184</td>\n",
       "      <td>CH</td>\n",
       "      <td>0</td>\n",
       "    </tr>\n",
       "    <tr>\n",
       "      <th>1</th>\n",
       "      <td>0f8de36d-2148-4ade-b2f6-003e94c52f79</td>\n",
       "      <td>2021</td>\n",
       "      <td>2021-05-01</td>\n",
       "      <td>1</td>\n",
       "      <td>home</td>\n",
       "      <td>0</td>\n",
       "      <td>0</td>\n",
       "      <td>4</td>\n",
       "      <td>773351</td>\n",
       "      <td>784900</td>\n",
       "      <td>...</td>\n",
       "      <td>2</td>\n",
       "      <td>93.8505</td>\n",
       "      <td>0.670993</td>\n",
       "      <td>4.807010</td>\n",
       "      <td>12.789200</td>\n",
       "      <td>-15.4120</td>\n",
       "      <td>-1.285440</td>\n",
       "      <td>2.30556</td>\n",
       "      <td>FA</td>\n",
       "      <td>0</td>\n",
       "    </tr>\n",
       "    <tr>\n",
       "      <th>2</th>\n",
       "      <td>0245561a-cb47-4aef-b167-003cbac75013</td>\n",
       "      <td>2021</td>\n",
       "      <td>2021-06-29</td>\n",
       "      <td>2</td>\n",
       "      <td>home</td>\n",
       "      <td>0</td>\n",
       "      <td>15</td>\n",
       "      <td>3</td>\n",
       "      <td>578897</td>\n",
       "      <td>587304</td>\n",
       "      <td>...</td>\n",
       "      <td>0</td>\n",
       "      <td>87.1178</td>\n",
       "      <td>0.550363</td>\n",
       "      <td>2.374940</td>\n",
       "      <td>6.324360</td>\n",
       "      <td>-30.0377</td>\n",
       "      <td>-3.152060</td>\n",
       "      <td>7.95176</td>\n",
       "      <td>SL</td>\n",
       "      <td>1</td>\n",
       "    </tr>\n",
       "    <tr>\n",
       "      <th>3</th>\n",
       "      <td>47caed4e-8a65-43ee-b577-000f42cd6793</td>\n",
       "      <td>2021</td>\n",
       "      <td>2021-07-19</td>\n",
       "      <td>6</td>\n",
       "      <td>home</td>\n",
       "      <td>8</td>\n",
       "      <td>60</td>\n",
       "      <td>4</td>\n",
       "      <td>561637</td>\n",
       "      <td>529497</td>\n",
       "      <td>...</td>\n",
       "      <td>0</td>\n",
       "      <td>92.9043</td>\n",
       "      <td>0.884750</td>\n",
       "      <td>2.420760</td>\n",
       "      <td>12.111500</td>\n",
       "      <td>-20.9565</td>\n",
       "      <td>0.699183</td>\n",
       "      <td>6.08815</td>\n",
       "      <td>FA</td>\n",
       "      <td>1</td>\n",
       "    </tr>\n",
       "    <tr>\n",
       "      <th>4</th>\n",
       "      <td>2b1e1a66-e2c8-47df-b6f1-0038697d893e</td>\n",
       "      <td>2021</td>\n",
       "      <td>2021-04-22</td>\n",
       "      <td>7</td>\n",
       "      <td>home</td>\n",
       "      <td>0</td>\n",
       "      <td>48</td>\n",
       "      <td>1</td>\n",
       "      <td>529059</td>\n",
       "      <td>626939</td>\n",
       "      <td>...</td>\n",
       "      <td>0</td>\n",
       "      <td>86.5579</td>\n",
       "      <td>-0.343300</td>\n",
       "      <td>2.650810</td>\n",
       "      <td>0.996405</td>\n",
       "      <td>-25.6905</td>\n",
       "      <td>-2.418760</td>\n",
       "      <td>6.37698</td>\n",
       "      <td>SL</td>\n",
       "      <td>1</td>\n",
       "    </tr>\n",
       "  </tbody>\n",
       "</table>\n",
       "<p>5 rows × 31 columns</p>\n",
       "</div>"
      ],
      "text/plain": [
       "                               pitch_id  season   game_date  inning  side  \\\n",
       "0  4a275ee6-0473-4272-91da-000b8a5f7194    2021  2021-06-15       7  away   \n",
       "1  0f8de36d-2148-4ade-b2f6-003e94c52f79    2021  2021-05-01       1  home   \n",
       "2  0245561a-cb47-4aef-b167-003cbac75013    2021  2021-06-29       2  home   \n",
       "3  47caed4e-8a65-43ee-b577-000f42cd6793    2021  2021-07-19       6  home   \n",
       "4  2b1e1a66-e2c8-47df-b6f1-0038697d893e    2021  2021-04-22       7  home   \n",
       "\n",
       "   run_diff  at_bat_index  pitch_of_ab  batter  pitcher  ...  strikes  \\\n",
       "0         0            47            4  563991   567234  ...        2   \n",
       "1         0             0            4  773351   784900  ...        2   \n",
       "2         0            15            3  578897   587304  ...        0   \n",
       "3         8            60            4  561637   529497  ...        0   \n",
       "4         0            48            1  529059   626939  ...        0   \n",
       "\n",
       "   pitch_speed        px        pz    break_x  break_z   angle_x  angle_z  \\\n",
       "0      88.1309 -0.689798  0.880993 -16.171500 -31.5262 -0.261130  8.02184   \n",
       "1      93.8505  0.670993  4.807010  12.789200 -15.4120 -1.285440  2.30556   \n",
       "2      87.1178  0.550363  2.374940   6.324360 -30.0377 -3.152060  7.95176   \n",
       "3      92.9043  0.884750  2.420760  12.111500 -20.9565  0.699183  6.08815   \n",
       "4      86.5579 -0.343300  2.650810   0.996405 -25.6905 -2.418760  6.37698   \n",
       "\n",
       "   pitch_type  strike_bool_pred  \n",
       "0          CH                 0  \n",
       "1          FA                 0  \n",
       "2          SL                 1  \n",
       "3          FA                 1  \n",
       "4          SL                 1  \n",
       "\n",
       "[5 rows x 31 columns]"
      ]
     },
     "metadata": {},
     "output_type": "display_data"
    },
    {
     "data": {
      "text/plain": [
       "FA    9495\n",
       "SL    4721\n",
       "CH    2217\n",
       "CU    2034\n",
       "XX     142\n",
       "AP      19\n",
       "KN       1\n",
       "Name: pitch_type, dtype: int64"
      ]
     },
     "metadata": {},
     "output_type": "display_data"
    },
    {
     "data": {
      "text/plain": [
       "['CH', 'CU', 'FA', 'KN', 'SL']"
      ]
     },
     "metadata": {},
     "output_type": "display_data"
    },
    {
     "data": {
      "text/plain": [
       "'Rows before: 18633'"
      ]
     },
     "metadata": {},
     "output_type": "display_data"
    },
    {
     "data": {
      "text/plain": [
       "'Rows after: 18468'"
      ]
     },
     "metadata": {},
     "output_type": "display_data"
    }
   ],
   "source": [
    "df_test_temp = df_test.copy()\n",
    "df_test_temp['strike_bool_pred'] = df_pred\n",
    "\n",
    "# viz checks\n",
    "display(df_test_temp.head())\n",
    "display(df_test_temp['pitch_type'].value_counts())\n",
    "\n",
    "# For the purpose of this exercise let's use same pitches as in training set\n",
    "pitches = list(df_train['pitch_type'].unique())\n",
    "pitches.sort()\n",
    "display(pitches)\n",
    "pit_test_flag = df_test_temp['pitch_type'].isin(pitches)\n",
    "\n",
    "display(f'Rows before: {df_test_temp.shape[0]}')\n",
    "\n",
    "df_test_temp = df_test_temp[pit_test_flag]\n",
    "\n",
    "display(f'Rows after: {df_test_temp.shape[0]}')"
   ]
  },
  {
   "cell_type": "markdown",
   "id": "957e178a-c849-49dd-a0bb-b7203cafdb7c",
   "metadata": {},
   "source": [
    "**Show distribution of strikes by pitch, Train vs Test**"
   ]
  },
  {
   "cell_type": "code",
   "execution_count": 239,
   "id": "64789dca-d64d-46c3-8edc-1cb66ec7e03b",
   "metadata": {},
   "outputs": [
    {
     "data": {
      "image/png": "[encoded data removed]",
      "text/plain": [
       "<Figure size 864x432 with 2 Axes>"
      ]
     },
     "metadata": {
      "needs_background": "light"
     },
     "output_type": "display_data"
    }
   ],
   "source": [
    "fig, ax = plt.subplots(1, 2)\n",
    "fig.set_size_inches(12, 6)\n",
    "plt.suptitle(\"XGBoost Predictions - Pct Distribution of Strikes by Pitch Type\")\n",
    "\n",
    "# Train\n",
    "x_tab_train = pd.crosstab(df_train['pitch_type'], df_train['strike_bool']\n",
    "                          ,normalize='index')\n",
    "\n",
    "x_tab_train.plot.bar(stacked=True, ax=ax[0]\n",
    "                     ,title='Train Set', color=['midnightblue','teal'])\n",
    "ax[0].legend(loc='lower right')\n",
    "\n",
    "\n",
    "# Test\n",
    "x_tab_test = pd.crosstab(df_test_temp['pitch_type']\n",
    "                         ,df_test_temp['strike_bool_pred']\n",
    "                         ,normalize='index')\n",
    "\n",
    "x_tab_test.plot.bar(stacked=True, ax=ax[1]\n",
    "                    ,title='Test Set', color=['midnightblue','teal'])\n",
    "\n",
    "#plt.rcParams[\"legend.loc\"] = 'lower right'\n",
    "ax[1].legend(loc='lower right')\n",
    "\n",
    "plt.show()"
   ]
  },
  {
   "cell_type": "markdown",
   "id": "cd238197-7868-4ed5-9e53-60859a4bcc4b",
   "metadata": {},
   "source": [
    "Distribution looks pretty similar. Ignore Knuckleball because there are so few.\n",
    "\n",
    "Again, assuming these *should* look similar is contigent on the `train` and `test` samples being stratified similarly."
   ]
  },
  {
   "cell_type": "markdown",
   "id": "e886fedf-578c-4ab3-b37b-130272ec53fa",
   "metadata": {},
   "source": [
    "##### Predicted Probabilities"
   ]
  },
  {
   "cell_type": "code",
   "execution_count": 131,
   "id": "973465f9-b45c-413a-994f-188b408d71a7",
   "metadata": {},
   "outputs": [],
   "source": [
    "pred_proba = selected_model.predict_proba(holdout_scaled)"
   ]
  },
  {
   "cell_type": "markdown",
   "id": "46483cc9-8e1f-4132-8a7c-e05985cabb61",
   "metadata": {},
   "source": [
    "Check sum."
   ]
  },
  {
   "cell_type": "code",
   "execution_count": 132,
   "id": "7b477a98-035a-4a4f-b914-6672926307bf",
   "metadata": {},
   "outputs": [
    {
     "data": {
      "text/plain": [
       "18632.998"
      ]
     },
     "execution_count": 132,
     "metadata": {},
     "output_type": "execute_result"
    }
   ],
   "source": [
    "np.sum(pred_proba)"
   ]
  },
  {
   "cell_type": "code",
   "execution_count": 133,
   "id": "3eaff19d-7124-4e95-a7ee-cba02a277b13",
   "metadata": {},
   "outputs": [
    {
     "data": {
      "text/plain": [
       "array([12864.388 ,  5768.6123], dtype=float32)"
      ]
     },
     "execution_count": 133,
     "metadata": {},
     "output_type": "execute_result"
    }
   ],
   "source": [
    "np.sum(pred_proba, axis=0)"
   ]
  },
  {
   "cell_type": "markdown",
   "id": "ad5c4a48-40f9-48a0-9850-292fce7ecc78",
   "metadata": {},
   "source": [
    "Quick look at results:\n",
    "\n",
    "- Look at strike probabilities"
   ]
  },
  {
   "cell_type": "code",
   "execution_count": 134,
   "id": "aeb53289-20f1-4831-9a7f-793f2171dd65",
   "metadata": {},
   "outputs": [
    {
     "data": {
      "text/plain": [
       "array([0.001, 0.   , 0.991, 0.68 , 0.994, 0.   , 0.976, 0.   , 0.996,\n",
       "       0.006], dtype=float32)"
      ]
     },
     "execution_count": 134,
     "metadata": {},
     "output_type": "execute_result"
    }
   ],
   "source": [
    "pred_proba_strike_only = pred_proba[:, -1]\n",
    "np.round(pred_proba_strike_only[:10], 3)"
   ]
  },
  {
   "cell_type": "markdown",
   "id": "8d3977b8-71cc-4b71-be26-9e5fd3f0ce78",
   "metadata": {},
   "source": [
    "- Put into a `DataFrame` for readability and ease of export to `.csv`"
   ]
  },
  {
   "cell_type": "code",
   "execution_count": 135,
   "id": "a8ba63ec-849f-4e2b-b2c6-6e112bc7a62f",
   "metadata": {},
   "outputs": [
    {
     "data": {
      "application/com.datacamp.data-table.v1+json": {
       "is_truncated": false,
       "table": {
        "data": [
         {
          "index": 0,
          "pitch_id": "4a275ee6-0473-4272-91da-000b8a5f7194",
          "pr_strike": 0.000738552
         },
         {
          "index": 1,
          "pitch_id": "0f8de36d-2148-4ade-b2f6-003e94c52f79",
          "pr_strike": 2.82382e-05
         },
         {
          "index": 2,
          "pitch_id": "0245561a-cb47-4aef-b167-003cbac75013",
          "pr_strike": 0.991074264
         },
         {
          "index": 3,
          "pitch_id": "47caed4e-8a65-43ee-b577-000f42cd6793",
          "pr_strike": 0.6797678471
         },
         {
          "index": 4,
          "pitch_id": "2b1e1a66-e2c8-47df-b6f1-0038697d893e",
          "pr_strike": 0.9941774607
         },
         {
          "index": 5,
          "pitch_id": "1f04598e-ac36-44fb-9e21-0018dcbae78f",
          "pr_strike": 5.72264e-05
         },
         {
          "index": 6,
          "pitch_id": "0b0a030a-8363-401b-95e6-00258ca848c3",
          "pr_strike": 0.9758575559
         },
         {
          "index": 7,
          "pitch_id": "34b4f260-d83a-4d55-99e3-0041283bec27",
          "pr_strike": 3.74652e-05
         },
         {
          "index": 8,
          "pitch_id": "044eaf4b-585d-42da-bb31-003e52c4fc03",
          "pr_strike": 0.9956613183
         },
         {
          "index": 9,
          "pitch_id": "23d14cd7-d4ec-4be7-9524-003fee40c05d",
          "pr_strike": 0.0057978132
         }
        ],
        "schema": {
         "fields": [
          {
           "name": "index",
           "type": "integer"
          },
          {
           "name": "pitch_id",
           "type": "string"
          },
          {
           "name": "pr_strike",
           "type": "number"
          }
         ],
         "pandas_version": "0.20.0",
         "primaryKey": [
          "index"
         ]
        }
       },
       "total_rows": 10
      },
      "text/html": [
       "<div>\n",
       "<style scoped>\n",
       "    .dataframe tbody tr th:only-of-type {\n",
       "        vertical-align: middle;\n",
       "    }\n",
       "\n",
       "    .dataframe tbody tr th {\n",
       "        vertical-align: top;\n",
       "    }\n",
       "\n",
       "    .dataframe thead th {\n",
       "        text-align: right;\n",
       "    }\n",
       "</style>\n",
       "<table border=\"1\" class=\"dataframe\">\n",
       "  <thead>\n",
       "    <tr style=\"text-align: right;\">\n",
       "      <th></th>\n",
       "      <th>pitch_id</th>\n",
       "      <th>pr_strike</th>\n",
       "    </tr>\n",
       "  </thead>\n",
       "  <tbody>\n",
       "    <tr>\n",
       "      <th>0</th>\n",
       "      <td>4a275ee6-0473-4272-91da-000b8a5f7194</td>\n",
       "      <td>0.000739</td>\n",
       "    </tr>\n",
       "    <tr>\n",
       "      <th>1</th>\n",
       "      <td>0f8de36d-2148-4ade-b2f6-003e94c52f79</td>\n",
       "      <td>0.000028</td>\n",
       "    </tr>\n",
       "    <tr>\n",
       "      <th>2</th>\n",
       "      <td>0245561a-cb47-4aef-b167-003cbac75013</td>\n",
       "      <td>0.991074</td>\n",
       "    </tr>\n",
       "    <tr>\n",
       "      <th>3</th>\n",
       "      <td>47caed4e-8a65-43ee-b577-000f42cd6793</td>\n",
       "      <td>0.679768</td>\n",
       "    </tr>\n",
       "    <tr>\n",
       "      <th>4</th>\n",
       "      <td>2b1e1a66-e2c8-47df-b6f1-0038697d893e</td>\n",
       "      <td>0.994177</td>\n",
       "    </tr>\n",
       "    <tr>\n",
       "      <th>5</th>\n",
       "      <td>1f04598e-ac36-44fb-9e21-0018dcbae78f</td>\n",
       "      <td>0.000057</td>\n",
       "    </tr>\n",
       "    <tr>\n",
       "      <th>6</th>\n",
       "      <td>0b0a030a-8363-401b-95e6-00258ca848c3</td>\n",
       "      <td>0.975858</td>\n",
       "    </tr>\n",
       "    <tr>\n",
       "      <th>7</th>\n",
       "      <td>34b4f260-d83a-4d55-99e3-0041283bec27</td>\n",
       "      <td>0.000037</td>\n",
       "    </tr>\n",
       "    <tr>\n",
       "      <th>8</th>\n",
       "      <td>044eaf4b-585d-42da-bb31-003e52c4fc03</td>\n",
       "      <td>0.995661</td>\n",
       "    </tr>\n",
       "    <tr>\n",
       "      <th>9</th>\n",
       "      <td>23d14cd7-d4ec-4be7-9524-003fee40c05d</td>\n",
       "      <td>0.005798</td>\n",
       "    </tr>\n",
       "  </tbody>\n",
       "</table>\n",
       "</div>"
      ],
      "text/plain": [
       "                               pitch_id  pr_strike\n",
       "0  4a275ee6-0473-4272-91da-000b8a5f7194   0.000739\n",
       "1  0f8de36d-2148-4ade-b2f6-003e94c52f79   0.000028\n",
       "2  0245561a-cb47-4aef-b167-003cbac75013   0.991074\n",
       "3  47caed4e-8a65-43ee-b577-000f42cd6793   0.679768\n",
       "4  2b1e1a66-e2c8-47df-b6f1-0038697d893e   0.994177\n",
       "5  1f04598e-ac36-44fb-9e21-0018dcbae78f   0.000057\n",
       "6  0b0a030a-8363-401b-95e6-00258ca848c3   0.975858\n",
       "7  34b4f260-d83a-4d55-99e3-0041283bec27   0.000037\n",
       "8  044eaf4b-585d-42da-bb31-003e52c4fc03   0.995661\n",
       "9  23d14cd7-d4ec-4be7-9524-003fee40c05d   0.005798"
      ]
     },
     "metadata": {},
     "output_type": "display_data"
    },
    {
     "data": {
      "application/com.datacamp.data-table.v1+json": {
       "is_truncated": false,
       "table": {
        "data": [
         {
          "index": 18533,
          "pitch_id": "f807a4cb-902a-4dc4-afd2-c7b422d9fdbb",
          "pr_strike": 0.093847692
         },
         {
          "index": 18534,
          "pitch_id": "dbd3511b-3b96-46b7-951a-c7e43bd05bf3",
          "pr_strike": 1.1826e-06
         },
         {
          "index": 18535,
          "pitch_id": "d6ba0c8a-0657-422b-b7f8-c7f034760b3c",
          "pr_strike": 0.0593183935
         },
         {
          "index": 18536,
          "pitch_id": "dcb8b207-a5b4-4a35-bc0f-c93e525297e8",
          "pr_strike": 0.0045735841
         },
         {
          "index": 18537,
          "pitch_id": "ddb9630d-d999-4278-adf8-c9da39a1505e",
          "pr_strike": 5.52508e-05
         },
         {
          "index": 18538,
          "pitch_id": "f793849e-c65e-406c-aa9f-ca4266987cc1",
          "pr_strike": 0.4696824849
         },
         {
          "index": 18539,
          "pitch_id": "ceb0a466-0ca3-48c0-a1b7-ca5b9f4cb103",
          "pr_strike": 0.0010547236
         },
         {
          "index": 18540,
          "pitch_id": "ea8ca3b0-8c23-471e-b349-ca74a25a79a2",
          "pr_strike": 3.08773e-05
         },
         {
          "index": 18541,
          "pitch_id": "ca8a8169-8ddf-4a43-ad3f-cab83cc7c724",
          "pr_strike": 0.0005243167
         },
         {
          "index": 18542,
          "pitch_id": "ead43a3e-d970-4d4d-a179-cb04fddd130e",
          "pr_strike": 0.0011470169
         },
         {
          "index": 18543,
          "pitch_id": "cc6b05b1-9934-4ea9-abc3-cb2bc836458e",
          "pr_strike": 0.0293433033
         },
         {
          "index": 18544,
          "pitch_id": "eb81f331-0d2a-4b79-8307-cb5bdb8ffbd2",
          "pr_strike": 0.9952839017
         },
         {
          "index": 18545,
          "pitch_id": "f9f95cdc-e44e-4541-a22f-cb91d23a8cba",
          "pr_strike": 0.1418766826
         },
         {
          "index": 18546,
          "pitch_id": "dbe07f8e-5043-4707-bdfc-cb92f261baaa",
          "pr_strike": 0.0081612999
         },
         {
          "index": 18547,
          "pitch_id": "cbc24b4e-91c6-484c-a95d-cc32f2a3f210",
          "pr_strike": 7.45561e-05
         },
         {
          "index": 18548,
          "pitch_id": "d9bfd097-512e-4129-a450-cccbb7e68336",
          "pr_strike": 0.9618536234
         },
         {
          "index": 18549,
          "pitch_id": "e150fdce-0eba-4659-bc35-cd3575856906",
          "pr_strike": 0.0002159887
         },
         {
          "index": 18550,
          "pitch_id": "ca9117d6-6c8f-46cc-bade-cd43c8cd9941",
          "pr_strike": 0.0077425726
         },
         {
          "index": 18551,
          "pitch_id": "f79c2994-5eb8-4605-a96d-ce1cc890b57f",
          "pr_strike": 0.6868925095
         },
         {
          "index": 18552,
          "pitch_id": "e2e94f01-4368-4cfa-b2a3-cf4d9a144a1f",
          "pr_strike": 0.0011737418
         },
         {
          "index": 18553,
          "pitch_id": "ec9490e3-7c23-4f58-99d2-d03ab459fe0e",
          "pr_strike": 0.3943432271
         },
         {
          "index": 18554,
          "pitch_id": "cdd13395-3cfe-4e98-9a7e-d075c5c5b8dc",
          "pr_strike": 0.282029748
         },
         {
          "index": 18555,
          "pitch_id": "cc206456-1c16-4b10-be51-d0eb1f495b31",
          "pr_strike": 0.9959183335
         },
         {
          "index": 18556,
          "pitch_id": "e001c6ae-c037-4d47-9f77-d144cc8f29cb",
          "pr_strike": 9.54843e-05
         },
         {
          "index": 18557,
          "pitch_id": "e44d1d36-51ec-4e62-af8f-d16ceb7ae9d1",
          "pr_strike": 0.0009281762
         },
         {
          "index": 18558,
          "pitch_id": "dfe679d0-a21a-4a8e-9e2a-d1cdb810b060",
          "pr_strike": 0.870285213
         },
         {
          "index": 18559,
          "pitch_id": "ed867e75-fab1-46a5-8371-d24bf31cf1a8",
          "pr_strike": 0.9858781099
         },
         {
          "index": 18560,
          "pitch_id": "fd75a2d7-195a-4f7c-9a22-d26519faef02",
          "pr_strike": 9.28461e-05
         },
         {
          "index": 18561,
          "pitch_id": "e63b294b-231a-4c90-b947-d30b51bcf1d3",
          "pr_strike": 0.9942756295
         },
         {
          "index": 18562,
          "pitch_id": "d5e46de0-074d-4a46-a319-d45935a75a2e",
          "pr_strike": 0.8596192002
         },
         {
          "index": 18563,
          "pitch_id": "e6dfce4a-588f-4c9d-ae8a-d48d461e7b55",
          "pr_strike": 0.96822685
         },
         {
          "index": 18564,
          "pitch_id": "d778ffca-0f35-4eef-bcc2-d5b6b5e4759c",
          "pr_strike": 0.036858242
         },
         {
          "index": 18565,
          "pitch_id": "ef15e9b2-4b95-43ca-bcda-d5d23d086a67",
          "pr_strike": 0.000222823
         },
         {
          "index": 18566,
          "pitch_id": "da298cb8-1a29-4b3e-85c7-d61d6ffe62e8",
          "pr_strike": 5.2857e-06
         },
         {
          "index": 18567,
          "pitch_id": "ed0bd083-9ba7-4a85-82ea-d64f10883d30",
          "pr_strike": 0.000640562
         },
         {
          "index": 18568,
          "pitch_id": "c8622ef6-fd4f-4704-9410-d7617152ed8e",
          "pr_strike": 2.13402e-05
         },
         {
          "index": 18569,
          "pitch_id": "dbe5e4a1-2fc0-4a2c-8657-d7c871fbf4e2",
          "pr_strike": 0.0001160219
         },
         {
          "index": 18570,
          "pitch_id": "def4925a-4f4e-4649-9e5c-d8155bd66871",
          "pr_strike": 0.6807535291
         },
         {
          "index": 18571,
          "pitch_id": "d50f40c1-5d6f-4c7c-aaac-d85108a5da0f",
          "pr_strike": 0.8858483434
         },
         {
          "index": 18572,
          "pitch_id": "f0abc14c-937f-4240-bd7b-d908b36e5e15",
          "pr_strike": 0.0001300481
         },
         {
          "index": 18573,
          "pitch_id": "e830f38c-6ed5-4dd7-868a-d9785a2e3513",
          "pr_strike": 4.9752e-06
         },
         {
          "index": 18574,
          "pitch_id": "dc932154-13ee-4272-8f86-d9888a798a67",
          "pr_strike": 0.0098431567
         },
         {
          "index": 18575,
          "pitch_id": "e14c88da-efed-4a2e-8300-d994b5642e57",
          "pr_strike": 0.0009870304
         },
         {
          "index": 18576,
          "pitch_id": "f69e2c30-9365-4c2f-9188-db41b9599e63",
          "pr_strike": 0.0709246248
         },
         {
          "index": 18577,
          "pitch_id": "cd964a08-6a2f-4126-a6fa-db5252baa913",
          "pr_strike": 4.855e-07
         },
         {
          "index": 18578,
          "pitch_id": "d329fbc0-1cfa-4398-8e1e-dc4e806fc5a6",
          "pr_strike": 7.03517e-05
         },
         {
          "index": 18579,
          "pitch_id": "f3569546-92a6-4ef1-8cd4-dc7fd2c5143b",
          "pr_strike": 0.0003865475
         },
         {
          "index": 18580,
          "pitch_id": "cfe00cc6-bd7f-478a-929b-dc97dd59b978",
          "pr_strike": 0.0003351344
         },
         {
          "index": 18581,
          "pitch_id": "d1138154-3239-4ebc-af59-dfafd8242de8",
          "pr_strike": 0.0010021882
         },
         {
          "index": 18582,
          "pitch_id": "c9de2014-cabd-489e-90a7-e06d4807fd40",
          "pr_strike": 9.71958e-05
         },
         {
          "index": 18583,
          "pitch_id": "e48d67b8-a833-4055-9033-e1a8f492f36d",
          "pr_strike": 8.92971e-05
         },
         {
          "index": 18584,
          "pitch_id": "f6693c56-33f5-4766-8b25-e22699312ce4",
          "pr_strike": 0.0048784399
         },
         {
          "index": 18585,
          "pitch_id": "f1a91a5f-23cf-432e-a168-e39b1bdf1b78",
          "pr_strike": 0.0004239336
         },
         {
          "index": 18586,
          "pitch_id": "dcb56c2c-2d4a-4fe0-a93a-e3dcb99891c9",
          "pr_strike": 8.43639e-05
         },
         {
          "index": 18587,
          "pitch_id": "e08cca6a-22cc-4fef-90d1-e43513b40a29",
          "pr_strike": 0.1336072832
         },
         {
          "index": 18588,
          "pitch_id": "e7e8409c-3c21-4031-9882-e45f57530a4b",
          "pr_strike": 0.9880712032
         },
         {
          "index": 18589,
          "pitch_id": "cf3d7432-5494-4512-a336-e4706dd747c2",
          "pr_strike": 0.0004391495
         },
         {
          "index": 18590,
          "pitch_id": "d6c7cc09-d867-45cd-9dd8-e47c96c81648",
          "pr_strike": 0.1017632261
         },
         {
          "index": 18591,
          "pitch_id": "f60863bf-0a79-4557-a6a8-e50121198f00",
          "pr_strike": 0.0001289121
         },
         {
          "index": 18592,
          "pitch_id": "ef9b47f7-6e2a-4133-a9a5-e506f4fdd5d9",
          "pr_strike": 0.6138415933
         },
         {
          "index": 18593,
          "pitch_id": "e87e92bf-a2c2-437f-a8e3-e56e9ec51cc2",
          "pr_strike": 2.1663e-06
         },
         {
          "index": 18594,
          "pitch_id": "d111f3aa-8f2a-4d3a-948f-e6e923508d16",
          "pr_strike": 0.9187552929
         },
         {
          "index": 18595,
          "pitch_id": "e3cedc6e-4d21-4bb7-b1f7-e73d67b192a1",
          "pr_strike": 1.6082e-06
         },
         {
          "index": 18596,
          "pitch_id": "f29feb7f-954b-4fbf-9bbf-e785ff08fb12",
          "pr_strike": 0.9760524035
         },
         {
          "index": 18597,
          "pitch_id": "eac35ca3-0d0b-49bf-9a40-e95b9dd80044",
          "pr_strike": 0.9957917929
         },
         {
          "index": 18598,
          "pitch_id": "e1af03cf-231c-46ed-a998-e9e75fce04d2",
          "pr_strike": 0.0005359979
         },
         {
          "index": 18599,
          "pitch_id": "da02570a-67cb-47b2-bcbe-ea301a3e8932",
          "pr_strike": 0.0008836645
         },
         {
          "index": 18600,
          "pitch_id": "ef3ecaf2-534b-4c4c-bdc0-ea73e53cff55",
          "pr_strike": 0.9908280373
         },
         {
          "index": 18601,
          "pitch_id": "e1cde3cd-181f-4ba2-8865-eb281ea0c995",
          "pr_strike": 0.9940389395
         },
         {
          "index": 18602,
          "pitch_id": "d8608b52-ada2-4a0a-9395-ec010528d8d6",
          "pr_strike": 0.9667654037
         },
         {
          "index": 18603,
          "pitch_id": "c9a51872-4833-46d2-ac49-ed6beb318d4a",
          "pr_strike": 0.3971005976
         },
         {
          "index": 18604,
          "pitch_id": "f9ac432f-9978-44c6-8d9b-eeb0e9b363d1",
          "pr_strike": 0.0004776321
         },
         {
          "index": 18605,
          "pitch_id": "f632ff4b-0df2-48fd-bb76-eec1b0643934",
          "pr_strike": 0.7437197566
         },
         {
          "index": 18606,
          "pitch_id": "ed513264-4197-4539-bd1e-eef0aca6ebf3",
          "pr_strike": 0.0002969939
         },
         {
          "index": 18607,
          "pitch_id": "c8770dab-e7b0-4f06-88c2-ef22983dc0a5",
          "pr_strike": 0.9954224229
         },
         {
          "index": 18608,
          "pitch_id": "cd833ea1-3aa4-4310-b35f-efd9fa06c50d",
          "pr_strike": 0.000123148
         },
         {
          "index": 18609,
          "pitch_id": "e2807dae-6e9f-41de-81f0-efe0065d7f73",
          "pr_strike": 0.4361280799
         },
         {
          "index": 18610,
          "pitch_id": "ee063584-cd86-41fd-a300-f0beb71f28f0",
          "pr_strike": 0.0016112545
         },
         {
          "index": 18611,
          "pitch_id": "f46fdeba-cba3-4bf1-a1cf-f1764bc4766d",
          "pr_strike": 0.8858441114
         },
         {
          "index": 18612,
          "pitch_id": "cc18574d-f050-4a48-b11e-f1a9a10ab310",
          "pr_strike": 0.0001583451
         },
         {
          "index": 18613,
          "pitch_id": "fe85b63f-0a7b-4997-82a9-f2416530ca6d",
          "pr_strike": 0.9895089865
         },
         {
          "index": 18614,
          "pitch_id": "eaaf6511-ee9e-418d-822c-f2bb58189423",
          "pr_strike": 3.835e-06
         },
         {
          "index": 18615,
          "pitch_id": "f080cea4-97c0-45ea-9541-f354922e7f0e",
          "pr_strike": 0.0099411104
         },
         {
          "index": 18616,
          "pitch_id": "cfbfe408-2917-4683-a2f1-f39d95d2af88",
          "pr_strike": 0.3136577904
         },
         {
          "index": 18617,
          "pitch_id": "d1df10fb-7e04-4441-ac03-f411d492a2d1",
          "pr_strike": 0.0082007023
         },
         {
          "index": 18618,
          "pitch_id": "d370e34c-4976-47d8-a561-f4a3091e4e62",
          "pr_strike": 0.7040302157
         },
         {
          "index": 18619,
          "pitch_id": "dd4a0865-cab2-4ea5-b9cb-f50ee36ead32",
          "pr_strike": 2.062e-07
         },
         {
          "index": 18620,
          "pitch_id": "dd483877-9d24-4769-947c-f561619ea586",
          "pr_strike": 0.9787464738
         },
         {
          "index": 18621,
          "pitch_id": "d87e0da5-484b-4eff-a7c9-f686e8199ef3",
          "pr_strike": 0.9945886135
         },
         {
          "index": 18622,
          "pitch_id": "d73f3d3a-f958-45af-a9f7-f90fa53d14db",
          "pr_strike": 0.9938660264
         },
         {
          "index": 18623,
          "pitch_id": "faef94a8-b7e3-4476-9531-f93d8ff9310d",
          "pr_strike": 8.39947e-05
         },
         {
          "index": 18624,
          "pitch_id": "ca1a352d-d5f1-48d6-aef0-f9a1f91e8b21",
          "pr_strike": 7.20089e-05
         },
         {
          "index": 18625,
          "pitch_id": "e99c6601-0261-48a1-95b7-fb1f506ac9ad",
          "pr_strike": 0.0002013529
         },
         {
          "index": 18626,
          "pitch_id": "d275bf64-13e9-416b-97c7-fb80dfdd53fd",
          "pr_strike": 0.000704873
         },
         {
          "index": 18627,
          "pitch_id": "f2965bb9-0413-4d18-a9c3-fd28bd4c6c26",
          "pr_strike": 0.0006796262
         },
         {
          "index": 18628,
          "pitch_id": "ef712401-9764-4221-82df-fd4b642b8145",
          "pr_strike": 0.0463664606
         },
         {
          "index": 18629,
          "pitch_id": "d31df947-88bc-4d6a-9246-fd9cbb99380e",
          "pr_strike": 0.0005616492
         },
         {
          "index": 18630,
          "pitch_id": "dd494b8a-f3a5-48e5-abe7-fe3db431d2fe",
          "pr_strike": 0.0009339058
         },
         {
          "index": 18631,
          "pitch_id": "d938da49-1ad5-4d29-a6b1-fe6adc7b606e",
          "pr_strike": 0.0021518234
         },
         {
          "index": 18632,
          "pitch_id": "cb59b01e-4b4c-4eb7-936d-fe9611fc7d55",
          "pr_strike": 0.0052081053
         }
        ],
        "schema": {
         "fields": [
          {
           "name": "index",
           "type": "integer"
          },
          {
           "name": "pitch_id",
           "type": "string"
          },
          {
           "name": "pr_strike",
           "type": "number"
          }
         ],
         "pandas_version": "0.20.0",
         "primaryKey": [
          "index"
         ]
        }
       },
       "total_rows": 100
      },
      "text/html": [
       "<div>\n",
       "<style scoped>\n",
       "    .dataframe tbody tr th:only-of-type {\n",
       "        vertical-align: middle;\n",
       "    }\n",
       "\n",
       "    .dataframe tbody tr th {\n",
       "        vertical-align: top;\n",
       "    }\n",
       "\n",
       "    .dataframe thead th {\n",
       "        text-align: right;\n",
       "    }\n",
       "</style>\n",
       "<table border=\"1\" class=\"dataframe\">\n",
       "  <thead>\n",
       "    <tr style=\"text-align: right;\">\n",
       "      <th></th>\n",
       "      <th>pitch_id</th>\n",
       "      <th>pr_strike</th>\n",
       "    </tr>\n",
       "  </thead>\n",
       "  <tbody>\n",
       "    <tr>\n",
       "      <th>18533</th>\n",
       "      <td>f807a4cb-902a-4dc4-afd2-c7b422d9fdbb</td>\n",
       "      <td>0.093848</td>\n",
       "    </tr>\n",
       "    <tr>\n",
       "      <th>18534</th>\n",
       "      <td>dbd3511b-3b96-46b7-951a-c7e43bd05bf3</td>\n",
       "      <td>0.000001</td>\n",
       "    </tr>\n",
       "    <tr>\n",
       "      <th>18535</th>\n",
       "      <td>d6ba0c8a-0657-422b-b7f8-c7f034760b3c</td>\n",
       "      <td>0.059318</td>\n",
       "    </tr>\n",
       "    <tr>\n",
       "      <th>18536</th>\n",
       "      <td>dcb8b207-a5b4-4a35-bc0f-c93e525297e8</td>\n",
       "      <td>0.004574</td>\n",
       "    </tr>\n",
       "    <tr>\n",
       "      <th>18537</th>\n",
       "      <td>ddb9630d-d999-4278-adf8-c9da39a1505e</td>\n",
       "      <td>0.000055</td>\n",
       "    </tr>\n",
       "    <tr>\n",
       "      <th>...</th>\n",
       "      <td>...</td>\n",
       "      <td>...</td>\n",
       "    </tr>\n",
       "    <tr>\n",
       "      <th>18628</th>\n",
       "      <td>ef712401-9764-4221-82df-fd4b642b8145</td>\n",
       "      <td>0.046366</td>\n",
       "    </tr>\n",
       "    <tr>\n",
       "      <th>18629</th>\n",
       "      <td>d31df947-88bc-4d6a-9246-fd9cbb99380e</td>\n",
       "      <td>0.000562</td>\n",
       "    </tr>\n",
       "    <tr>\n",
       "      <th>18630</th>\n",
       "      <td>dd494b8a-f3a5-48e5-abe7-fe3db431d2fe</td>\n",
       "      <td>0.000934</td>\n",
       "    </tr>\n",
       "    <tr>\n",
       "      <th>18631</th>\n",
       "      <td>d938da49-1ad5-4d29-a6b1-fe6adc7b606e</td>\n",
       "      <td>0.002152</td>\n",
       "    </tr>\n",
       "    <tr>\n",
       "      <th>18632</th>\n",
       "      <td>cb59b01e-4b4c-4eb7-936d-fe9611fc7d55</td>\n",
       "      <td>0.005208</td>\n",
       "    </tr>\n",
       "  </tbody>\n",
       "</table>\n",
       "<p>100 rows × 2 columns</p>\n",
       "</div>"
      ],
      "text/plain": [
       "                                   pitch_id  pr_strike\n",
       "18533  f807a4cb-902a-4dc4-afd2-c7b422d9fdbb   0.093848\n",
       "18534  dbd3511b-3b96-46b7-951a-c7e43bd05bf3   0.000001\n",
       "18535  d6ba0c8a-0657-422b-b7f8-c7f034760b3c   0.059318\n",
       "18536  dcb8b207-a5b4-4a35-bc0f-c93e525297e8   0.004574\n",
       "18537  ddb9630d-d999-4278-adf8-c9da39a1505e   0.000055\n",
       "...                                     ...        ...\n",
       "18628  ef712401-9764-4221-82df-fd4b642b8145   0.046366\n",
       "18629  d31df947-88bc-4d6a-9246-fd9cbb99380e   0.000562\n",
       "18630  dd494b8a-f3a5-48e5-abe7-fe3db431d2fe   0.000934\n",
       "18631  d938da49-1ad5-4d29-a6b1-fe6adc7b606e   0.002152\n",
       "18632  cb59b01e-4b4c-4eb7-936d-fe9611fc7d55   0.005208\n",
       "\n",
       "[100 rows x 2 columns]"
      ]
     },
     "metadata": {},
     "output_type": "display_data"
    }
   ],
   "source": [
    "df_strk_prob = pd.concat([pitch_ids, pd.DataFrame(pred_proba_strike_only)], axis=1)\n",
    "df_strk_prob.columns = ['pitch_id', 'pr_strike']\n",
    "display(df_strk_prob.head(10))\n",
    "display(df_strk_prob.tail(100))"
   ]
  },
  {
   "cell_type": "code",
   "execution_count": 136,
   "id": "a5ce8a11-2166-44fd-a11e-7546a283b4f3",
   "metadata": {},
   "outputs": [
    {
     "name": "stdout",
     "output_type": "stream",
     "text": [
      "<class 'pandas.core.frame.DataFrame'>\n",
      "RangeIndex: 18633 entries, 0 to 18632\n",
      "Data columns (total 2 columns):\n",
      " #   Column     Non-Null Count  Dtype  \n",
      "---  ------     --------------  -----  \n",
      " 0   pitch_id   18633 non-null  object \n",
      " 1   pr_strike  18633 non-null  float32\n",
      "dtypes: float32(1), object(1)\n",
      "memory usage: 218.5+ KB\n"
     ]
    }
   ],
   "source": [
    "df_strk_prob.info()"
   ]
  },
  {
   "cell_type": "code",
   "execution_count": 138,
   "id": "eb64d909-b735-4c0b-9691-60e39e610eaa",
   "metadata": {},
   "outputs": [
    {
     "data": {
      "text/plain": [
       "'./predictions/holdout/xgb_pred_vals_20220512_0856.csv'"
      ]
     },
     "metadata": {},
     "output_type": "display_data"
    },
    {
     "data": {
      "text/plain": [
       "'./predictions/holdout/xgb_pred_proba_20220512_0856.csv'"
      ]
     },
     "metadata": {},
     "output_type": "display_data"
    },
    {
     "data": {
      "text/plain": [
       "'./predictions/holdout/deliverables/xgb_strike_proba_by_pitch_id_20220512_0856.csv'"
      ]
     },
     "metadata": {},
     "output_type": "display_data"
    }
   ],
   "source": [
    "str_ts = datetime.now(timezone.utc).astimezone(pytz.timezone('US/Pacific')).strftime(\"%Y%m%d_%H%M\")\n",
    "file_class_nm = 'xgb_pred_vals_' + str_ts\n",
    "file_proba_nm = 'xgb_pred_proba_' + str_ts\n",
    "file_proba_stk_nm = 'xgb_strike_proba_by_pitch_id_' + str_ts\n",
    "\n",
    "file_class_path = './predictions/holdout/' + file_class_nm + '.csv'\n",
    "file_proba_path = './predictions/holdout/' + file_proba_nm + '.csv'\n",
    "file_proba_stk_path = './predictions/holdout/deliverables/' + file_proba_stk_nm + '.csv'\n",
    "\n",
    "display(file_class_path)\n",
    "display(file_proba_path)\n",
    "display(file_proba_stk_path)"
   ]
  },
  {
   "cell_type": "code",
   "execution_count": 139,
   "id": "34a726bc-fca5-44d5-868a-da13f8e15476",
   "metadata": {},
   "outputs": [],
   "source": [
    "# save out predicted probabilities\n",
    "\n",
    "# Versions for personal reference\n",
    "np.savetxt(file_class_path, pred_classes, delimiter=\",\")\n",
    "np.savetxt(file_proba_path, pred_proba, delimiter=\",\")\n",
    "\n",
    "# Actual deliverable in desired format\n",
    "df_strk_prob.to_csv(file_proba_stk_path)"
   ]
  },
  {
   "cell_type": "markdown",
   "id": "5c968f8e-9d28-4a7b-971d-68de341e09ca",
   "metadata": {},
   "source": [
    "---  \n",
    "### 4. Diagnostics<a id='7_dx'></a>\n",
    "\n",
    "One thing I'm curious to look at is how much disagreement is there between the two prediction sets, at least by classes (assuming .50 cutoff)?\n",
    "\n",
    "<span style=\"font-size:0.5em;\"><a href='#7_toc'>Back to TOC</a></span>"
   ]
  },
  {
   "cell_type": "code",
   "execution_count": 270,
   "id": "e6341df5-b04b-41ef-bf97-ea964f135d30",
   "metadata": {},
   "outputs": [
    {
     "data": {
      "text/plain": [
       "'nn count: 18,633'"
      ]
     },
     "metadata": {},
     "output_type": "display_data"
    },
    {
     "data": {
      "text/plain": [
       "'xgb count: 18,633'"
      ]
     },
     "metadata": {},
     "output_type": "display_data"
    }
   ],
   "source": [
    "nn_path = './predictions/holdout/nn_pred_vals_20220512_0855.csv'\n",
    "xgb_path = './predictions/holdout/xgb_pred_vals_20220512_0856.csv'\n",
    "\n",
    "nn_pred = pd.read_csv(nn_path, names=['strike_bool_nn'])\n",
    "xgb_pred = pd.read_csv(xgb_path, names=['strike_bool_xgb'])\n",
    "\n",
    "\n",
    "display(f'nn count: {nn_pred.shape[0]:,}')\n",
    "display(f'xgb count: {xgb_pred.shape[0]:,}')"
   ]
  },
  {
   "cell_type": "code",
   "execution_count": 260,
   "id": "2ef152de-f7c1-48af-b34d-df5b1dadc2f4",
   "metadata": {},
   "outputs": [],
   "source": [
    "disagree = sum(df_preds['strike_bool_nn'] != df_preds['strike_bool_xgb'])\n",
    "row_count = nn_pred.shape[0]"
   ]
  },
  {
   "cell_type": "code",
   "execution_count": 259,
   "id": "6a8388a1-6b4e-4152-8ac1-0b22aaa57a00",
   "metadata": {},
   "outputs": [
    {
     "data": {
      "text/plain": [
       "'Number of rows that are in disgreement: 338'"
      ]
     },
     "metadata": {},
     "output_type": "display_data"
    }
   ],
   "source": [
    "display(f'Number of rows that are in disgreement: {disagree}') "
   ]
  },
  {
   "cell_type": "code",
   "execution_count": 264,
   "id": "d72893f6-7c7f-4e33-8be7-54cc71dedd44",
   "metadata": {},
   "outputs": [
    {
     "data": {
      "text/plain": [
       "'Percent of rows that are in disgreement: 1.8%'"
      ]
     },
     "metadata": {},
     "output_type": "display_data"
    }
   ],
   "source": [
    "display(f'Percent of rows that are in disgreement: {disagree/row_count:.1%}') "
   ]
  },
  {
   "cell_type": "markdown",
   "id": "e78cc0a5-c3e5-48a9-93dd-3a62ef04b06a",
   "metadata": {},
   "source": [
    "This seems to be an acceptable and reasonable result, given that the two models both perform well. In other words, we might conclude they perform well, but not identically so...which makes sense!"
   ]
  },
  {
   "cell_type": "markdown",
   "id": "5d740778-978f-4c3b-8efc-a056eceba3c2",
   "metadata": {},
   "source": [
    "---  \n",
    "\n",
    "<span style=\"font-size:0.5em;\">End of Current Work</span>\n",
    "\n",
    "<a id='7_the_end'></a>\n",
    "\n",
    "<span style=\"font-size:0.5em;\"><a href='#7_toc'>Back to TOC</a></span>"
   ]
  },
  {
   "cell_type": "markdown",
   "id": "e9fc1490-d3b2-4169-83eb-69fc494a3bc7",
   "metadata": {
    "tags": []
   },
   "source": [
    "-----"
   ]
  }
 ],
 "metadata": {
  "kernelspec": {
   "display_name": "Python 3 (ipykernel)",
   "language": "python",
   "name": "python3"
  },
  "language_info": {
   "codemirror_mode": {
    "name": "ipython",
    "version": 3
   },
   "file_extension": ".py",
   "mimetype": "text/x-python",
   "name": "python",
   "nbconvert_exporter": "python",
   "pygments_lexer": "ipython3",
   "version": "3.8.10"
  },
  "toc-autonumbering": false,
  "toc-showmarkdowntxt": false,
  "widgets": {
   "application/vnd.jupyter.widget-state+json": {
    "state": {},
    "version_major": 2,
    "version_minor": 0
   }
  }
 },
 "nbformat": 4,
 "nbformat_minor": 5
}
