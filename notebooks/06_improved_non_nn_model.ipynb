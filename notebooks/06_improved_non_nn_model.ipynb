{
 "cells": [
  {
   "cell_type": "markdown",
   "id": "1d9a73fe-22ef-46f3-af36-3ed41d28fa72",
   "metadata": {},
   "source": [
    "# Called Third Strike\n",
    "## Part 6. Improved non-neural network model\n",
    "\n",
    "![](./resources/baseball_umpire_home_plate_1.jpg)\n",
    "\n",
    "This project's goal is to build probability models for as to whether a pitch will be called a strike or not. The intended models are to be:\n",
    "1. A neural network (NN) based approach.\n",
    "2. A non-NN based approach.\n",
    "\n",
    "---\n",
    "\n",
    "__**This Notebook's**__ objective is to iterate on the work done with the [first attempts](04_first_crude_non_nn_model.ipynb) at a \"classical\" ML classication model. As with the ['improved' neural network model](05_improved_neural_network.ipynb), we will be adding in these other features:\n",
    "- Included Handedness of both pitcher and batter; I hypothesize that this will have some signal with regards to the 'strike-ness' of the horizontal movement of the pitch. As for verticality, I think that the stringer data helps with that since it provides fairly concrete guardrails as to the strike-ness (assuming the umpire sees the same thing haha).\n",
    "- Include pitch break and angle. I hypothesize this acts like a proxy to the pitcher, without having to rely on the pitcher_IDs. Rough analogy but I think of it kind of like latent factors in ALS matrix factorization (which I need to brush up on heh).\n",
    "\n",
    "---\n",
    "---"
   ]
  },
  {
   "cell_type": "markdown",
   "id": "7c603889-4d23-4c1d-8e4d-8d45d1a72da4",
   "metadata": {},
   "source": [
    "### Table of Contents<a id='toc_6'></a>\n",
    "\n",
    "<a href='#data_prep'>1. Data Preprocessing</a>\n",
    "\n",
    "~<a href='#build_model'>2. Build Model</a>~ Straight to Random Search!\n",
    "\n",
    "<a href='#random_search'>3. Random Hyperparameter Search</a>\n",
    "\n",
    "<a href='#summary'>4. Summary</a>\n",
    "\n",
    "<a href='#tuning'>5. (Re-)Tuning (+GBMs)</a>\n",
    "\n",
    "<a href='#more_tuning'>6. More Tuning (+Logistic Regressions)</a>\n",
    "\n",
    "<a href='#f_summary'>7. Final Summary</a>\n",
    "\n",
    "...\n",
    "\n",
    "<a href='#the_end'>Go to the End</a>\n",
    "\n",
    "---"
   ]
  },
  {
   "cell_type": "markdown",
   "id": "4fcfd9aa-eac1-4789-af6d-cf5700a82979",
   "metadata": {},
   "source": [
    "---  \n",
    "\n",
    "<span style=\"font-size:0.5em;\">Tag 1</span>\n",
    "\n",
    "### Data Preprocessing<a id='data_prep'></a>\n",
    "\n",
    "<span style=\"font-size:0.5em;\"><a href='#toc_6'>Back to TOC</a></span>\n"
   ]
  },
  {
   "cell_type": "markdown",
   "id": "053be28f-4156-45c6-8a93-99c50dd76e39",
   "metadata": {},
   "source": [
    "#### Libraries\n"
   ]
  },
  {
   "cell_type": "code",
   "execution_count": null,
   "id": "907b6406-cf7b-41c0-baca-5095c77e7b17",
   "metadata": {},
   "outputs": [],
   "source": [
    "# Data wrangling and operations\n",
    "import pandas as pd\n",
    "import numpy as np\n",
    "from datetime import datetime, timezone\n",
    "import pytz\n",
    "import pickle\n",
    "\n",
    "# Visualization\n",
    "import matplotlib.pyplot as plt\n",
    "import seaborn as sns\n",
    "\n",
    "# try:\n",
    "#     import plotly_express as pex\n",
    "# except ImportError:\n",
    "#     !pip install plotly_express\n",
    "# except ModuleNotFoundError:\n",
    "#     !pip install plotly_express\n",
    "\n",
    "# Estimators\n",
    "from sklearn.linear_model import LinearRegression\n",
    "from sklearn.linear_model import LogisticRegression\n",
    "import xgboost as xgb\n",
    "from xgboost import XGBClassifier\n",
    "from sklearn.tree import DecisionTreeClassifier\n",
    "from sklearn.ensemble import BaggingClassifier, RandomForestClassifier\n",
    "from sklearn.ensemble import GradientBoostingClassifier\n",
    "from sklearn.base import BaseEstimator\n",
    "\n",
    "# Processing\n",
    "from sklearn.preprocessing import OneHotEncoder\n",
    "from sklearn.preprocessing import LabelBinarizer\n",
    "from sklearn.preprocessing import StandardScaler\n",
    "from sklearn.compose import ColumnTransformer\n",
    "from sklearn.model_selection import GridSearchCV\n",
    "from sklearn.model_selection import RandomizedSearchCV\n",
    "\n",
    "# Assessment\n",
    "from sklearn.pipeline import Pipeline\n",
    "from sklearn.model_selection import train_test_split\n",
    "from sklearn.model_selection import cross_val_score\n",
    "from sklearn.metrics import accuracy_score\n",
    "from sklearn.metrics import mean_squared_error, mean_absolute_error\n",
    "from sklearn.metrics import f1_score\n",
    "from sklearn.metrics import confusion_matrix\n",
    "from sklearn.metrics import recall_score, precision_score, auc\n",
    "from sklearn.metrics import roc_curve, RocCurveDisplay"
   ]
  },
  {
   "cell_type": "markdown",
   "id": "987afa32-26cc-421f-bfdd-dd2cd8a29e62",
   "metadata": {},
   "source": [
    "---\n",
    "\n",
    "#### Data Import \n",
    "\n",
    "Retrieve the latest version of our train/test files that we built during [initial exploration](02_data_exploration.ipynb)."
   ]
  },
  {
   "cell_type": "code",
   "execution_count": null,
   "id": "56973127-9122-4525-9194-c3545f95384f",
   "metadata": {},
   "outputs": [],
   "source": [
    "df_train = pd.read_pickle('../data/train_enriched.pkl')\n",
    "df_test = pd.read_pickle('../data/test_enriched.pkl')"
   ]
  },
  {
   "cell_type": "markdown",
   "id": "a0999ceb-8cfd-40a1-98c5-97162be73173",
   "metadata": {},
   "source": [
    "Let's refamiliarize ourselves with the features."
   ]
  },
  {
   "cell_type": "code",
   "execution_count": null,
   "id": "ac6b3a5a-8999-4e9f-9c09-9b14b30813bb",
   "metadata": {},
   "outputs": [
    {
     "name": "stdout",
     "output_type": "stream",
     "text": [
      "<class 'pandas.core.frame.DataFrame'>\n",
      "Int64Index: 350959 entries, 0 to 354038\n",
      "Data columns (total 31 columns):\n",
      " #   Column                Non-Null Count   Dtype         \n",
      "---  ------                --------------   -----         \n",
      " 0   pitch_id              350959 non-null  object        \n",
      " 1   inning                350959 non-null  int64         \n",
      " 2   side                  350959 non-null  object        \n",
      " 3   run_diff              350959 non-null  int64         \n",
      " 4   at_bat_index          350959 non-null  int64         \n",
      " 5   pitch_of_ab           350959 non-null  int64         \n",
      " 6   batter                350959 non-null  int64         \n",
      " 7   pitcher               350959 non-null  int64         \n",
      " 8   catcher               350959 non-null  int64         \n",
      " 9   umpire                350959 non-null  int64         \n",
      " 10  bside                 350959 non-null  object        \n",
      " 11  pside                 350959 non-null  object        \n",
      " 12  stringer_zone_bottom  350959 non-null  float64       \n",
      " 13  stringer_zone_top     350959 non-null  float64       \n",
      " 14  on_1b_mlbid           106013 non-null  float64       \n",
      " 15  on_2b_mlbid           64287 non-null   float64       \n",
      " 16  on_3b_mlbid           31158 non-null   float64       \n",
      " 17  outs                  350959 non-null  int64         \n",
      " 18  balls                 350959 non-null  int64         \n",
      " 19  strikes               350959 non-null  int64         \n",
      " 20  pitch_speed           350959 non-null  float64       \n",
      " 21  px                    350959 non-null  float64       \n",
      " 22  pz                    350959 non-null  float64       \n",
      " 23  break_x               350959 non-null  float64       \n",
      " 24  break_z               350959 non-null  float64       \n",
      " 25  angle_x               350959 non-null  float64       \n",
      " 26  angle_z               350959 non-null  float64       \n",
      " 27  pitch_type            350959 non-null  object        \n",
      " 28  strike_bool           350959 non-null  int64         \n",
      " 29  game_date_dt          350959 non-null  datetime64[ns]\n",
      " 30  strike_bool_tf        350959 non-null  bool          \n",
      "dtypes: bool(1), datetime64[ns](1), float64(12), int64(12), object(5)\n",
      "memory usage: 83.3+ MB\n"
     ]
    }
   ],
   "source": [
    "df_train.info()"
   ]
  },
  {
   "cell_type": "markdown",
   "id": "c40f40c9-a8e1-481f-8695-767b80df332f",
   "metadata": {},
   "source": [
    "---\n",
    "\n",
    "#### Feature Selection and Prep, revisited\n",
    "\n",
    "Select features:"
   ]
  },
  {
   "cell_type": "markdown",
   "id": "e4f2815c-a590-445b-b633-2ce66fb878e6",
   "metadata": {},
   "source": [
    "For our initial super simple model, we had picked just four features: \n",
    "- `px` which is the horizontal location of the pitch at the plate\n",
    "- `pz` which is the vertical location\n",
    "- `stringer_zone_bottom` which is an estimate of current batter's strike zone bottom\n",
    "- `stringer_zone_top` which is an estimate of current batter's strike zone top"
   ]
  },
  {
   "cell_type": "code",
   "execution_count": null,
   "id": "38506c32-d1a1-4bb3-ba0a-0968153418f5",
   "metadata": {},
   "outputs": [],
   "source": [
    "# Features selected\n",
    "feat_select = ['px', 'pz', 'stringer_zone_bottom', 'stringer_zone_top']"
   ]
  },
  {
   "cell_type": "markdown",
   "id": "c20eabfa-5e70-4269-b37e-d5aab577593c",
   "metadata": {},
   "source": [
    "But as mentioned in the intro, I want to try adding `bside` and `pside`, as well as vertical/horizontal breaks and angles (`break_x`, `break_z`, `angle_x`, `angle_z`), and `pitch_speed`. "
   ]
  },
  {
   "cell_type": "markdown",
   "id": "4a923ba1-1c96-4a18-ba32-8b349fb779af",
   "metadata": {},
   "source": [
    "##### Adding `break_x`, `break_z`, `angle_x`, `angle_z`, `pitch_speed`\n",
    "\n",
    "These are numeric so I will add on to `feat_select`"
   ]
  },
  {
   "cell_type": "code",
   "execution_count": null,
   "id": "67287484-f02f-4435-9885-6df0e6a4779c",
   "metadata": {},
   "outputs": [
    {
     "data": {
      "text/plain": [
       "['pz',\n",
       " 'stringer_zone_top',\n",
       " 'angle_x',\n",
       " 'angle_z',\n",
       " 'pitch_speed',\n",
       " 'break_x',\n",
       " 'px',\n",
       " 'break_z',\n",
       " 'stringer_zone_bottom']"
      ]
     },
     "metadata": {},
     "output_type": "display_data"
    }
   ],
   "source": [
    "feat_select = feat_select + ['break_x', 'break_z', 'angle_x', 'angle_z', 'pitch_speed']\n",
    "feat_select = list(set(feat_select)) #Just to ensure no dupes if this cell gets executed again\n",
    "display(feat_select)"
   ]
  },
  {
   "cell_type": "markdown",
   "id": "a7fc4e27-662e-43de-879b-c48918a3e38f",
   "metadata": {},
   "source": [
    "##### Adding `b_side`, `p_side`\n",
    "\n",
    "These are strings so I will one-hot encode them."
   ]
  },
  {
   "cell_type": "code",
   "execution_count": null,
   "id": "99c9fb2c-cc09-49dd-bf51-085463a9a8c3",
   "metadata": {},
   "outputs": [],
   "source": [
    "feat_cat_select = ['bside', 'pside']"
   ]
  },
  {
   "cell_type": "code",
   "execution_count": null,
   "id": "ea566257-25aa-4ddf-bcde-f00cbb9d416c",
   "metadata": {},
   "outputs": [],
   "source": [
    "df_train_cat_ohe = pd.get_dummies(df_train[feat_cat_select])"
   ]
  },
  {
   "cell_type": "code",
   "execution_count": null,
   "id": "0effabf6-ab9c-495b-a4a4-1167ca7e966b",
   "metadata": {},
   "outputs": [
    {
     "data": {
      "application/com.datacamp.data-table.v1+json": {
       "is_truncated": false,
       "table": {
        "data": [
         {
          "bside_L": 0,
          "bside_R": 1,
          "index": 0,
          "pside_L": 1,
          "pside_R": 0
         },
         {
          "bside_L": 1,
          "bside_R": 0,
          "index": 1,
          "pside_L": 0,
          "pside_R": 1
         },
         {
          "bside_L": 1,
          "bside_R": 0,
          "index": 2,
          "pside_L": 1,
          "pside_R": 0
         }
        ],
        "schema": {
         "fields": [
          {
           "name": "index",
           "type": "integer"
          },
          {
           "name": "bside_L",
           "type": "integer"
          },
          {
           "name": "bside_R",
           "type": "integer"
          },
          {
           "name": "pside_L",
           "type": "integer"
          },
          {
           "name": "pside_R",
           "type": "integer"
          }
         ],
         "pandas_version": "0.20.0",
         "primaryKey": [
          "index"
         ]
        }
       },
       "total_rows": 3
      },
      "text/html": [
       "<div>\n",
       "<style scoped>\n",
       "    .dataframe tbody tr th:only-of-type {\n",
       "        vertical-align: middle;\n",
       "    }\n",
       "\n",
       "    .dataframe tbody tr th {\n",
       "        vertical-align: top;\n",
       "    }\n",
       "\n",
       "    .dataframe thead th {\n",
       "        text-align: right;\n",
       "    }\n",
       "</style>\n",
       "<table border=\"1\" class=\"dataframe\">\n",
       "  <thead>\n",
       "    <tr style=\"text-align: right;\">\n",
       "      <th></th>\n",
       "      <th>bside_L</th>\n",
       "      <th>bside_R</th>\n",
       "      <th>pside_L</th>\n",
       "      <th>pside_R</th>\n",
       "    </tr>\n",
       "  </thead>\n",
       "  <tbody>\n",
       "    <tr>\n",
       "      <th>0</th>\n",
       "      <td>0</td>\n",
       "      <td>1</td>\n",
       "      <td>1</td>\n",
       "      <td>0</td>\n",
       "    </tr>\n",
       "    <tr>\n",
       "      <th>1</th>\n",
       "      <td>1</td>\n",
       "      <td>0</td>\n",
       "      <td>0</td>\n",
       "      <td>1</td>\n",
       "    </tr>\n",
       "    <tr>\n",
       "      <th>2</th>\n",
       "      <td>1</td>\n",
       "      <td>0</td>\n",
       "      <td>1</td>\n",
       "      <td>0</td>\n",
       "    </tr>\n",
       "  </tbody>\n",
       "</table>\n",
       "</div>"
      ],
      "text/plain": [
       "   bside_L  bside_R  pside_L  pside_R\n",
       "0        0        1        1        0\n",
       "1        1        0        0        1\n",
       "2        1        0        1        0"
      ]
     },
     "execution_count": 8,
     "metadata": {},
     "output_type": "execute_result"
    }
   ],
   "source": [
    "df_train_cat_ohe.head(3)"
   ]
  },
  {
   "cell_type": "code",
   "execution_count": null,
   "id": "5678f19d-12ed-4047-a3f3-575f63c5c209",
   "metadata": {},
   "outputs": [
    {
     "data": {
      "text/plain": [
       "(350959, 4)"
      ]
     },
     "execution_count": 9,
     "metadata": {},
     "output_type": "execute_result"
    }
   ],
   "source": [
    "df_train_cat_ohe.shape"
   ]
  },
  {
   "cell_type": "markdown",
   "id": "d15574e0-60b0-4385-be19-d0786af47677",
   "metadata": {},
   "source": [
    "Prep features:\n",
    "\n",
    "Gather up all the selected features."
   ]
  },
  {
   "cell_type": "code",
   "execution_count": null,
   "id": "b000ae21-12ac-4ee9-9ca8-8ce9445c1bc1",
   "metadata": {},
   "outputs": [
    {
     "name": "stdout",
     "output_type": "stream",
     "text": [
      "<class 'pandas.core.frame.DataFrame'>\n",
      "Int64Index: 350959 entries, 0 to 354038\n",
      "Data columns (total 13 columns):\n",
      " #   Column                Non-Null Count   Dtype  \n",
      "---  ------                --------------   -----  \n",
      " 0   pz                    350959 non-null  float64\n",
      " 1   stringer_zone_top     350959 non-null  float64\n",
      " 2   angle_x               350959 non-null  float64\n",
      " 3   angle_z               350959 non-null  float64\n",
      " 4   pitch_speed           350959 non-null  float64\n",
      " 5   break_x               350959 non-null  float64\n",
      " 6   px                    350959 non-null  float64\n",
      " 7   break_z               350959 non-null  float64\n",
      " 8   stringer_zone_bottom  350959 non-null  float64\n",
      " 9   bside_L               350959 non-null  uint8  \n",
      " 10  bside_R               350959 non-null  uint8  \n",
      " 11  pside_L               350959 non-null  uint8  \n",
      " 12  pside_R               350959 non-null  uint8  \n",
      "dtypes: float64(9), uint8(4)\n",
      "memory usage: 28.1 MB\n"
     ]
    },
    {
     "data": {
      "text/plain": [
       "None"
      ]
     },
     "metadata": {},
     "output_type": "display_data"
    }
   ],
   "source": [
    "# Get just the selected features\n",
    "df_X = pd.concat([df_train[feat_select], df_train_cat_ohe], axis=1)\n",
    "# df_X = df_train_cat_ohe.copy()\n",
    "display(df_X.info())"
   ]
  },
  {
   "cell_type": "code",
   "execution_count": null,
   "id": "e44045e8-2a8b-4e6f-9e3f-ed286ac3c4d1",
   "metadata": {},
   "outputs": [
    {
     "data": {
      "application/com.datacamp.data-table.v1+json": {
       "is_truncated": false,
       "table": {
        "data": [
         {
          "angle_x": 3.02727,
          "angle_z": 5.59379,
          "break_x": 1.91535,
          "break_z": -9.54142,
          "bside_L": 0,
          "bside_R": 1,
          "index": 0,
          "pitch_speed": 97.4298,
          "pside_L": 1,
          "pside_R": 0,
          "px": -1.2981,
          "pz": 2.30217,
          "stringer_zone_bottom": 1.56,
          "stringer_zone_top": 3.41
         },
         {
          "angle_x": -1.56782,
          "angle_z": 6.86676,
          "break_x": -12.1373,
          "break_z": -21.9427,
          "bside_L": 1,
          "bside_R": 0,
          "index": 1,
          "pitch_speed": 91.7712,
          "pside_L": 0,
          "pside_R": 1,
          "px": 1.41222,
          "pz": 1.57443,
          "stringer_zone_bottom": 1.59,
          "stringer_zone_top": 3.47
         },
         {
          "angle_x": 2.04966,
          "angle_z": 7.17281,
          "break_x": -0.992261,
          "break_z": -25.5107,
          "bside_L": 1,
          "bside_R": 0,
          "index": 2,
          "pitch_speed": 87.813,
          "pside_L": 1,
          "pside_R": 0,
          "px": -0.18119,
          "pz": 2.11248,
          "stringer_zone_bottom": 1.68,
          "stringer_zone_top": 3.58
         },
         {
          "angle_x": 2.96845,
          "angle_z": 8.50392,
          "break_x": -2.8393,
          "break_z": -27.2509,
          "bside_L": 0,
          "bside_R": 1,
          "index": 3,
          "pitch_speed": 86.5546,
          "pside_L": 1,
          "pside_R": 0,
          "px": -0.885538,
          "pz": 0.598692,
          "stringer_zone_bottom": 1.63,
          "stringer_zone_top": 3.55
         },
         {
          "angle_x": -1.6463,
          "angle_z": 9.33291,
          "break_x": 8.90615,
          "break_z": -59.4133,
          "bside_L": 1,
          "bside_R": 0,
          "index": 5,
          "pitch_speed": 72.0904,
          "pside_L": 0,
          "pside_R": 1,
          "px": -1.45954,
          "pz": 3.39951,
          "stringer_zone_bottom": 1.5,
          "stringer_zone_top": 3.3
         }
        ],
        "schema": {
         "fields": [
          {
           "name": "index",
           "type": "integer"
          },
          {
           "name": "pz",
           "type": "number"
          },
          {
           "name": "stringer_zone_top",
           "type": "number"
          },
          {
           "name": "angle_x",
           "type": "number"
          },
          {
           "name": "angle_z",
           "type": "number"
          },
          {
           "name": "pitch_speed",
           "type": "number"
          },
          {
           "name": "break_x",
           "type": "number"
          },
          {
           "name": "px",
           "type": "number"
          },
          {
           "name": "break_z",
           "type": "number"
          },
          {
           "name": "stringer_zone_bottom",
           "type": "number"
          },
          {
           "name": "bside_L",
           "type": "integer"
          },
          {
           "name": "bside_R",
           "type": "integer"
          },
          {
           "name": "pside_L",
           "type": "integer"
          },
          {
           "name": "pside_R",
           "type": "integer"
          }
         ],
         "pandas_version": "0.20.0",
         "primaryKey": [
          "index"
         ]
        }
       },
       "total_rows": 5
      },
      "text/html": [
       "<div>\n",
       "<style scoped>\n",
       "    .dataframe tbody tr th:only-of-type {\n",
       "        vertical-align: middle;\n",
       "    }\n",
       "\n",
       "    .dataframe tbody tr th {\n",
       "        vertical-align: top;\n",
       "    }\n",
       "\n",
       "    .dataframe thead th {\n",
       "        text-align: right;\n",
       "    }\n",
       "</style>\n",
       "<table border=\"1\" class=\"dataframe\">\n",
       "  <thead>\n",
       "    <tr style=\"text-align: right;\">\n",
       "      <th></th>\n",
       "      <th>pz</th>\n",
       "      <th>stringer_zone_top</th>\n",
       "      <th>angle_x</th>\n",
       "      <th>angle_z</th>\n",
       "      <th>pitch_speed</th>\n",
       "      <th>break_x</th>\n",
       "      <th>px</th>\n",
       "      <th>break_z</th>\n",
       "      <th>stringer_zone_bottom</th>\n",
       "      <th>bside_L</th>\n",
       "      <th>bside_R</th>\n",
       "      <th>pside_L</th>\n",
       "      <th>pside_R</th>\n",
       "    </tr>\n",
       "  </thead>\n",
       "  <tbody>\n",
       "    <tr>\n",
       "      <th>0</th>\n",
       "      <td>2.302170</td>\n",
       "      <td>3.41</td>\n",
       "      <td>3.02727</td>\n",
       "      <td>5.59379</td>\n",
       "      <td>97.4298</td>\n",
       "      <td>1.915350</td>\n",
       "      <td>-1.298100</td>\n",
       "      <td>-9.54142</td>\n",
       "      <td>1.56</td>\n",
       "      <td>0</td>\n",
       "      <td>1</td>\n",
       "      <td>1</td>\n",
       "      <td>0</td>\n",
       "    </tr>\n",
       "    <tr>\n",
       "      <th>1</th>\n",
       "      <td>1.574430</td>\n",
       "      <td>3.47</td>\n",
       "      <td>-1.56782</td>\n",
       "      <td>6.86676</td>\n",
       "      <td>91.7712</td>\n",
       "      <td>-12.137300</td>\n",
       "      <td>1.412220</td>\n",
       "      <td>-21.94270</td>\n",
       "      <td>1.59</td>\n",
       "      <td>1</td>\n",
       "      <td>0</td>\n",
       "      <td>0</td>\n",
       "      <td>1</td>\n",
       "    </tr>\n",
       "    <tr>\n",
       "      <th>2</th>\n",
       "      <td>2.112480</td>\n",
       "      <td>3.58</td>\n",
       "      <td>2.04966</td>\n",
       "      <td>7.17281</td>\n",
       "      <td>87.8130</td>\n",
       "      <td>-0.992261</td>\n",
       "      <td>-0.181190</td>\n",
       "      <td>-25.51070</td>\n",
       "      <td>1.68</td>\n",
       "      <td>1</td>\n",
       "      <td>0</td>\n",
       "      <td>1</td>\n",
       "      <td>0</td>\n",
       "    </tr>\n",
       "    <tr>\n",
       "      <th>3</th>\n",
       "      <td>0.598692</td>\n",
       "      <td>3.55</td>\n",
       "      <td>2.96845</td>\n",
       "      <td>8.50392</td>\n",
       "      <td>86.5546</td>\n",
       "      <td>-2.839300</td>\n",
       "      <td>-0.885538</td>\n",
       "      <td>-27.25090</td>\n",
       "      <td>1.63</td>\n",
       "      <td>0</td>\n",
       "      <td>1</td>\n",
       "      <td>1</td>\n",
       "      <td>0</td>\n",
       "    </tr>\n",
       "    <tr>\n",
       "      <th>5</th>\n",
       "      <td>3.399510</td>\n",
       "      <td>3.30</td>\n",
       "      <td>-1.64630</td>\n",
       "      <td>9.33291</td>\n",
       "      <td>72.0904</td>\n",
       "      <td>8.906150</td>\n",
       "      <td>-1.459540</td>\n",
       "      <td>-59.41330</td>\n",
       "      <td>1.50</td>\n",
       "      <td>1</td>\n",
       "      <td>0</td>\n",
       "      <td>0</td>\n",
       "      <td>1</td>\n",
       "    </tr>\n",
       "  </tbody>\n",
       "</table>\n",
       "</div>"
      ],
      "text/plain": [
       "         pz  stringer_zone_top  angle_x  angle_z  pitch_speed    break_x  \\\n",
       "0  2.302170               3.41  3.02727  5.59379      97.4298   1.915350   \n",
       "1  1.574430               3.47 -1.56782  6.86676      91.7712 -12.137300   \n",
       "2  2.112480               3.58  2.04966  7.17281      87.8130  -0.992261   \n",
       "3  0.598692               3.55  2.96845  8.50392      86.5546  -2.839300   \n",
       "5  3.399510               3.30 -1.64630  9.33291      72.0904   8.906150   \n",
       "\n",
       "         px   break_z  stringer_zone_bottom  bside_L  bside_R  pside_L  \\\n",
       "0 -1.298100  -9.54142                  1.56        0        1        1   \n",
       "1  1.412220 -21.94270                  1.59        1        0        0   \n",
       "2 -0.181190 -25.51070                  1.68        1        0        1   \n",
       "3 -0.885538 -27.25090                  1.63        0        1        1   \n",
       "5 -1.459540 -59.41330                  1.50        1        0        0   \n",
       "\n",
       "   pside_R  \n",
       "0        0  \n",
       "1        1  \n",
       "2        0  \n",
       "3        0  \n",
       "5        1  "
      ]
     },
     "execution_count": 11,
     "metadata": {},
     "output_type": "execute_result"
    }
   ],
   "source": [
    "df_X.head()"
   ]
  },
  {
   "cell_type": "markdown",
   "id": "4272f150-d2d1-42f6-8786-28066dbf8105",
   "metadata": {},
   "source": [
    "While we are at it, let's prep our targets:"
   ]
  },
  {
   "cell_type": "code",
   "execution_count": null,
   "id": "a856e547-9af8-456b-a5cb-41c5296d7e41",
   "metadata": {},
   "outputs": [
    {
     "name": "stdout",
     "output_type": "stream",
     "text": [
      "<class 'pandas.core.frame.DataFrame'>\n",
      "Int64Index: 350959 entries, 0 to 354038\n",
      "Data columns (total 1 columns):\n",
      " #   Column       Non-Null Count   Dtype\n",
      "---  ------       --------------   -----\n",
      " 0   strike_bool  350959 non-null  int64\n",
      "dtypes: int64(1)\n",
      "memory usage: 5.4 MB\n"
     ]
    },
    {
     "data": {
      "text/plain": [
       "None"
      ]
     },
     "metadata": {},
     "output_type": "display_data"
    }
   ],
   "source": [
    "df_y = df_train['strike_bool']\n",
    "display(pd.DataFrame(df_y).info())"
   ]
  },
  {
   "cell_type": "markdown",
   "id": "50c18cfa-7637-4643-bb69-a146b0898a01",
   "metadata": {},
   "source": [
    "##### Prep Holdout\n",
    "\n",
    "Let's also perform the same with our holdout data so we can easily make predictions with our ultimately selected model."
   ]
  },
  {
   "cell_type": "markdown",
   "id": "41044bb7-645f-48b0-8816-77b5589289e7",
   "metadata": {},
   "source": [
    "One hot encoding selected cats:"
   ]
  },
  {
   "cell_type": "code",
   "execution_count": null,
   "id": "dc738b54-0a2c-48a0-8175-97ca4fb0b6f1",
   "metadata": {},
   "outputs": [],
   "source": [
    "df_hold_cat_ohe = pd.get_dummies(df_test[feat_cat_select])"
   ]
  },
  {
   "cell_type": "code",
   "execution_count": null,
   "id": "a6a91c54-0206-4d7a-934b-66ca9aa9b2f6",
   "metadata": {},
   "outputs": [
    {
     "data": {
      "application/com.datacamp.data-table.v1+json": {
       "is_truncated": false,
       "table": {
        "data": [
         {
          "bside_L": 1,
          "bside_R": 0,
          "index": 0,
          "pside_L": 0,
          "pside_R": 1
         },
         {
          "bside_L": 0,
          "bside_R": 1,
          "index": 1,
          "pside_L": 1,
          "pside_R": 0
         },
         {
          "bside_L": 0,
          "bside_R": 1,
          "index": 2,
          "pside_L": 0,
          "pside_R": 1
         },
         {
          "bside_L": 0,
          "bside_R": 1,
          "index": 3,
          "pside_L": 1,
          "pside_R": 0
         },
         {
          "bside_L": 0,
          "bside_R": 1,
          "index": 4,
          "pside_L": 0,
          "pside_R": 1
         }
        ],
        "schema": {
         "fields": [
          {
           "name": "index",
           "type": "integer"
          },
          {
           "name": "bside_L",
           "type": "integer"
          },
          {
           "name": "bside_R",
           "type": "integer"
          },
          {
           "name": "pside_L",
           "type": "integer"
          },
          {
           "name": "pside_R",
           "type": "integer"
          }
         ],
         "pandas_version": "0.20.0",
         "primaryKey": [
          "index"
         ]
        }
       },
       "total_rows": 5
      },
      "text/html": [
       "<div>\n",
       "<style scoped>\n",
       "    .dataframe tbody tr th:only-of-type {\n",
       "        vertical-align: middle;\n",
       "    }\n",
       "\n",
       "    .dataframe tbody tr th {\n",
       "        vertical-align: top;\n",
       "    }\n",
       "\n",
       "    .dataframe thead th {\n",
       "        text-align: right;\n",
       "    }\n",
       "</style>\n",
       "<table border=\"1\" class=\"dataframe\">\n",
       "  <thead>\n",
       "    <tr style=\"text-align: right;\">\n",
       "      <th></th>\n",
       "      <th>bside_L</th>\n",
       "      <th>bside_R</th>\n",
       "      <th>pside_L</th>\n",
       "      <th>pside_R</th>\n",
       "    </tr>\n",
       "  </thead>\n",
       "  <tbody>\n",
       "    <tr>\n",
       "      <th>0</th>\n",
       "      <td>1</td>\n",
       "      <td>0</td>\n",
       "      <td>0</td>\n",
       "      <td>1</td>\n",
       "    </tr>\n",
       "    <tr>\n",
       "      <th>1</th>\n",
       "      <td>0</td>\n",
       "      <td>1</td>\n",
       "      <td>1</td>\n",
       "      <td>0</td>\n",
       "    </tr>\n",
       "    <tr>\n",
       "      <th>2</th>\n",
       "      <td>0</td>\n",
       "      <td>1</td>\n",
       "      <td>0</td>\n",
       "      <td>1</td>\n",
       "    </tr>\n",
       "    <tr>\n",
       "      <th>3</th>\n",
       "      <td>0</td>\n",
       "      <td>1</td>\n",
       "      <td>1</td>\n",
       "      <td>0</td>\n",
       "    </tr>\n",
       "    <tr>\n",
       "      <th>4</th>\n",
       "      <td>0</td>\n",
       "      <td>1</td>\n",
       "      <td>0</td>\n",
       "      <td>1</td>\n",
       "    </tr>\n",
       "  </tbody>\n",
       "</table>\n",
       "</div>"
      ],
      "text/plain": [
       "   bside_L  bside_R  pside_L  pside_R\n",
       "0        1        0        0        1\n",
       "1        0        1        1        0\n",
       "2        0        1        0        1\n",
       "3        0        1        1        0\n",
       "4        0        1        0        1"
      ]
     },
     "execution_count": 249,
     "metadata": {},
     "output_type": "execute_result"
    }
   ],
   "source": [
    "df_hold_cat_ohe.head()"
   ]
  },
  {
   "cell_type": "code",
   "execution_count": null,
   "id": "f5235b93-56de-4c6f-9f9a-39732366e7d4",
   "metadata": {},
   "outputs": [
    {
     "name": "stdout",
     "output_type": "stream",
     "text": [
      "<class 'pandas.core.frame.DataFrame'>\n",
      "RangeIndex: 18633 entries, 0 to 18632\n",
      "Data columns (total 13 columns):\n",
      " #   Column                Non-Null Count  Dtype  \n",
      "---  ------                --------------  -----  \n",
      " 0   pz                    18633 non-null  float64\n",
      " 1   stringer_zone_top     18633 non-null  float64\n",
      " 2   angle_x               18633 non-null  float64\n",
      " 3   angle_z               18633 non-null  float64\n",
      " 4   pitch_speed           18633 non-null  float64\n",
      " 5   break_x               18633 non-null  float64\n",
      " 6   px                    18633 non-null  float64\n",
      " 7   break_z               18633 non-null  float64\n",
      " 8   stringer_zone_bottom  18633 non-null  float64\n",
      " 9   bside_L               18633 non-null  uint8  \n",
      " 10  bside_R               18633 non-null  uint8  \n",
      " 11  pside_L               18633 non-null  uint8  \n",
      " 12  pside_R               18633 non-null  uint8  \n",
      "dtypes: float64(9), uint8(4)\n",
      "memory usage: 1.4 MB\n"
     ]
    },
    {
     "data": {
      "text/plain": [
       "None"
      ]
     },
     "metadata": {},
     "output_type": "display_data"
    }
   ],
   "source": [
    "# Get just the selected features\n",
    "df_holdout = pd.concat([df_test[feat_select], df_hold_cat_ohe], axis=1)\n",
    "# df_X = df_train_cat_ohe.copy()\n",
    "display(df_holdout.info())"
   ]
  },
  {
   "cell_type": "markdown",
   "id": "4379dca5-6ed7-4edd-bba3-37617afea026",
   "metadata": {},
   "source": [
    "---\n",
    "\n",
    "#### Feature Engineering\n",
    "\n",
    "Select features:"
   ]
  },
  {
   "cell_type": "markdown",
   "id": "364ddb3b-f17e-47bf-9c0f-c51ae3d6e26a",
   "metadata": {},
   "source": [
    "We should need numerically represent our data (e.g. one-hot-encode any categorical features), as well as scale/normalize the data. \n",
    "\n",
    "All the selected features for this round are numerical, so we don't have to worry about encoding any categories. For scaling I'm choosing to *standardize*."
   ]
  },
  {
   "cell_type": "code",
   "execution_count": null,
   "id": "48310753-73b3-4530-8ca9-1856e0b0d60e",
   "metadata": {},
   "outputs": [],
   "source": [
    "scaler = StandardScaler()\n",
    "X_scaled = scaler.fit_transform(df_X)"
   ]
  },
  {
   "cell_type": "markdown",
   "id": "80a68b84-b003-4364-a826-570c070f4935",
   "metadata": {},
   "source": [
    "Let's also scale our holdout data to make sure it is ready for predictions."
   ]
  },
  {
   "cell_type": "code",
   "execution_count": null,
   "id": "29608e30-c3e2-4175-a25c-99544b770824",
   "metadata": {},
   "outputs": [
    {
     "data": {
      "text/plain": [
       "(350959, 13)"
      ]
     },
     "execution_count": 255,
     "metadata": {},
     "output_type": "execute_result"
    }
   ],
   "source": [
    "X_scaled.shape"
   ]
  },
  {
   "cell_type": "code",
   "execution_count": null,
   "id": "0149e9ce-19df-448c-9e8a-14d7e12bac7b",
   "metadata": {},
   "outputs": [],
   "source": [
    "holdout_scaled = scaler.transform(df_holdout)"
   ]
  },
  {
   "cell_type": "code",
   "execution_count": null,
   "id": "0e4685f1-8da6-4f92-b29d-fcc43d6d842c",
   "metadata": {},
   "outputs": [
    {
     "data": {
      "text/plain": [
       "(18633, 13)"
      ]
     },
     "execution_count": 254,
     "metadata": {},
     "output_type": "execute_result"
    }
   ],
   "source": [
    "holdout_scaled.shape"
   ]
  },
  {
   "cell_type": "markdown",
   "id": "4ecfa19b-73d0-4a23-823c-af2387fee0cb",
   "metadata": {},
   "source": [
    "---\n",
    "\n",
    "#### Train / Test\n",
    "\n",
    "\n",
    "Create train/test splits.\n",
    "\n",
    "Breakout parameters for easy access."
   ]
  },
  {
   "cell_type": "code",
   "execution_count": null,
   "id": "9ae261da-ff35-46e0-9561-237f65d76a1d",
   "metadata": {},
   "outputs": [],
   "source": [
    "# Parameters\n",
    "test_size = 0.20\n",
    "random_state = 24"
   ]
  },
  {
   "cell_type": "code",
   "execution_count": null,
   "id": "758d38a7-5a66-4383-af5a-cf244ae34374",
   "metadata": {},
   "outputs": [],
   "source": [
    "X_train, X_test, y_train, y_test = train_test_split(X_scaled, df_y, test_size=test_size\n",
    "                                                    ,stratify=df_y, random_state = random_state)"
   ]
  },
  {
   "cell_type": "markdown",
   "id": "827d5ee7-b2c8-417b-9c62-3fa63e66ff10",
   "metadata": {},
   "source": [
    "---  \n",
    "\n",
    "<span style=\"font-size:0.5em;\">Tag 2</span>\n",
    "\n",
    "### Build Model / Hyperparameter Search<a id='random_search'></a>\n",
    "\n",
    "<span style=\"font-size:0.5em;\"><a href='#toc_6'>Back to TOC</a></span>\n",
    "\n",
    "---  "
   ]
  },
  {
   "cell_type": "markdown",
   "id": "daa063d4-34c1-4287-b991-cfa218da9580",
   "metadata": {},
   "source": [
    "For expediency we are going to use a pipeline and random hyperparameter search to scour through different classifiers and hyperparameter sets to come up with a good candidate."
   ]
  },
  {
   "cell_type": "markdown",
   "id": "ffc5cc6a-a95b-4a61-b774-fe0ec70a1453",
   "metadata": {},
   "source": [
    "We'll create a `DummyEstimator` class to act as a placeholder to which we can pass the different classifiers."
   ]
  },
  {
   "cell_type": "code",
   "execution_count": null,
   "id": "538b6d34-4c51-4008-b4bd-16c5ac0479a9",
   "metadata": {},
   "outputs": [],
   "source": [
    "class DummyEstimator(BaseEstimator):\n",
    "    def fit(self): pass\n",
    "    def score(self): pass"
   ]
  },
  {
   "cell_type": "markdown",
   "id": "652c91ea-a454-46b3-8a13-6161ebf55a22",
   "metadata": {},
   "source": [
    "Create the pipeline of dictionaries of classifiers and their respective grids of potential hyperparameters."
   ]
  },
  {
   "cell_type": "code",
   "execution_count": null,
   "id": "95072a54-a4ad-459e-ad51-b92f915a1aa0",
   "metadata": {},
   "outputs": [],
   "source": [
    "# Create a pipeline\n",
    "pipe = Pipeline([('clf', DummyEstimator())]) # Placeholder Estimator\n",
    "\n",
    "# Candidate learning algorithms and their hyperparameters\n",
    "# For selected hyperparameters aimed to select a reasonable range for each.\n",
    "search_space = [{'clf': [LogisticRegression()], # Actual Estimator\n",
    "                 'clf__penalty': ['l1', 'l2', 'elasticnet'],\n",
    "                 'clf__C': np.logspace(-4, 4, 20)\n",
    "                },\n",
    "                {'clf': [DecisionTreeClassifier()],  # Actual Estimator\n",
    "                 'clf__criterion': ['gini', 'entropy'],\n",
    "                 'clf__max_depth': np.arange(3,11,1),\n",
    "                 'clf__min_samples_split': np.linspace(0.1, 0.5, 10, endpoint=False),\n",
    "                 'clf__max_features': [0.25, 0.5, 0.75, 1]\n",
    "                },\n",
    "                {'clf': [RandomForestClassifier()],  # Actual Estimator\n",
    "                 'clf__n_estimators': [50, 100, 200],\n",
    "                 'clf__criterion': ['gini', 'entropy'],                 \n",
    "                 'clf__max_depth': np.arange(3,11,1),\n",
    "                 'clf__min_samples_split': np.linspace(0.1, 0.5, 10, endpoint=False),\n",
    "                 'clf__max_features': [\"auto\", \"sqrt\", \"log2\"],\n",
    "                 'clf__max_samples': [0.25, 0.5, 0.75, 1]\n",
    "                },\n",
    "                {'clf': [GradientBoostingClassifier()],  # Actual Estimator\n",
    "                 'clf__n_estimators': [50, 100, 200],\n",
    "                 'clf__criterion': ['gini', 'entropy'],                 \n",
    "                 'clf__max_depth': np.arange(3,11,1),\n",
    "                 'clf__min_samples_split': np.linspace(0.1, 0.5, 10, endpoint=False),\n",
    "                 'clf__max_features': [\"auto\", \"sqrt\", \"log2\"],\n",
    "                },\n",
    "                {'clf': [XGBClassifier()],  # Actual Estimator\n",
    "                 'clf__n_estimators': [50, 100, 200],\n",
    "                 'clf__criterion': ['gini', 'entropy'],                 \n",
    "                 'clf__max_depth': np.arange(3,11,1),\n",
    "                 'clf__min_samples_split': np.linspace(0.1, 0.5, 10, endpoint=False),\n",
    "                 'clf__max_features': [\"auto\", \"sqrt\", \"log2\"],\n",
    "                 'clf__max_samples': [0.25, 0.5, 0.75, 1]\n",
    "                }\n",
    "               ]\n",
    "\n",
    "# GradientBoostingClassifier(\n",
    "# RandomForestClassifier(\n",
    "    \n",
    "# Create grid search \n",
    "# gs = GridSearchCV(pipe, search_space, random_state=random_state)\n",
    "rs = RandomizedSearchCV(pipe, search_space, random_state=random_state\n",
    "                        ,n_iter=10 # To limit search time \n",
    "                        ,cv=3      # I like 5 as rule of thumb, but again to limit search time\n",
    "                        ,verbose=True, refit=True, scoring='accuracy')"
   ]
  },
  {
   "cell_type": "markdown",
   "id": "f89c3c4a-be0c-48dc-a83c-73963a480d53",
   "metadata": {},
   "source": [
    "Fit the random search cv object."
   ]
  },
  {
   "cell_type": "code",
   "execution_count": null,
   "id": "7546ee03-29c0-45e4-9b70-66a95dd9b217",
   "metadata": {},
   "outputs": [
    {
     "name": "stdout",
     "output_type": "stream",
     "text": [
      "Fitting 3 folds for each of 10 candidates, totalling 30 fits\n",
      "[17:24:11] WARNING: ../src/learner.cc:541: \n",
      "Parameters: { criterion, max_features, max_samples, min_samples_split } might not be used.\n",
      "\n",
      "  This may not be accurate due to some parameters are only used in language bindings but\n",
      "  passed down to XGBoost core.  Or some parameters are not used but slip through this\n",
      "  verification. Please open an issue if you find above cases.\n",
      "\n",
      "\n",
      "[17:24:13] WARNING: ../src/learner.cc:1061: Starting in XGBoost 1.3.0, the default evaluation metric used with the objective 'binary:logistic' was changed from 'error' to 'logloss'. Explicitly set eval_metric if you'd like to restore the old behavior.\n",
      "[17:25:35] WARNING: ../src/learner.cc:541: \n",
      "Parameters: { criterion, max_features, max_samples, min_samples_split } might not be used.\n",
      "\n",
      "  This may not be accurate due to some parameters are only used in language bindings but\n",
      "  passed down to XGBoost core.  Or some parameters are not used but slip through this\n",
      "  verification. Please open an issue if you find above cases.\n",
      "\n",
      "\n",
      "[17:25:38] WARNING: ../src/learner.cc:1061: Starting in XGBoost 1.3.0, the default evaluation metric used with the objective 'binary:logistic' was changed from 'error' to 'logloss'. Explicitly set eval_metric if you'd like to restore the old behavior.\n",
      "[17:26:54] WARNING: ../src/learner.cc:541: \n",
      "Parameters: { criterion, max_features, max_samples, min_samples_split } might not be used.\n",
      "\n",
      "  This may not be accurate due to some parameters are only used in language bindings but\n",
      "  passed down to XGBoost core.  Or some parameters are not used but slip through this\n",
      "  verification. Please open an issue if you find above cases.\n",
      "\n",
      "\n",
      "[17:26:56] WARNING: ../src/learner.cc:1061: Starting in XGBoost 1.3.0, the default evaluation metric used with the objective 'binary:logistic' was changed from 'error' to 'logloss'. Explicitly set eval_metric if you'd like to restore the old behavior.\n",
      "[17:28:34] WARNING: ../src/learner.cc:541: \n",
      "Parameters: { criterion, max_features, max_samples, min_samples_split } might not be used.\n",
      "\n",
      "  This may not be accurate due to some parameters are only used in language bindings but\n",
      "  passed down to XGBoost core.  Or some parameters are not used but slip through this\n",
      "  verification. Please open an issue if you find above cases.\n",
      "\n",
      "\n",
      "[17:28:36] WARNING: ../src/learner.cc:1061: Starting in XGBoost 1.3.0, the default evaluation metric used with the objective 'binary:logistic' was changed from 'error' to 'logloss'. Explicitly set eval_metric if you'd like to restore the old behavior.\n",
      "[17:31:11] WARNING: ../src/learner.cc:541: \n",
      "Parameters: { criterion, max_features, max_samples, min_samples_split } might not be used.\n",
      "\n",
      "  This may not be accurate due to some parameters are only used in language bindings but\n",
      "  passed down to XGBoost core.  Or some parameters are not used but slip through this\n",
      "  verification. Please open an issue if you find above cases.\n",
      "\n",
      "\n",
      "[17:31:11] WARNING: ../src/learner.cc:1061: Starting in XGBoost 1.3.0, the default evaluation metric used with the objective 'binary:logistic' was changed from 'error' to 'logloss'. Explicitly set eval_metric if you'd like to restore the old behavior.\n",
      "[17:33:41] WARNING: ../src/learner.cc:541: \n",
      "Parameters: { criterion, max_features, max_samples, min_samples_split } might not be used.\n",
      "\n",
      "  This may not be accurate due to some parameters are only used in language bindings but\n",
      "  passed down to XGBoost core.  Or some parameters are not used but slip through this\n",
      "  verification. Please open an issue if you find above cases.\n",
      "\n",
      "\n",
      "[17:33:41] WARNING: ../src/learner.cc:1061: Starting in XGBoost 1.3.0, the default evaluation metric used with the objective 'binary:logistic' was changed from 'error' to 'logloss'. Explicitly set eval_metric if you'd like to restore the old behavior.\n",
      "[17:36:15] WARNING: ../src/learner.cc:541: \n",
      "Parameters: { criterion, max_features, max_samples, min_samples_split } might not be used.\n",
      "\n",
      "  This may not be accurate due to some parameters are only used in language bindings but\n",
      "  passed down to XGBoost core.  Or some parameters are not used but slip through this\n",
      "  verification. Please open an issue if you find above cases.\n",
      "\n",
      "\n",
      "[17:36:17] WARNING: ../src/learner.cc:1061: Starting in XGBoost 1.3.0, the default evaluation metric used with the objective 'binary:logistic' was changed from 'error' to 'logloss'. Explicitly set eval_metric if you'd like to restore the old behavior.\n",
      "[17:39:02] WARNING: ../src/learner.cc:541: \n",
      "Parameters: { criterion, max_features, max_samples, min_samples_split } might not be used.\n",
      "\n",
      "  This may not be accurate due to some parameters are only used in language bindings but\n",
      "  passed down to XGBoost core.  Or some parameters are not used but slip through this\n",
      "  verification. Please open an issue if you find above cases.\n",
      "\n",
      "\n",
      "[17:39:04] WARNING: ../src/learner.cc:1061: Starting in XGBoost 1.3.0, the default evaluation metric used with the objective 'binary:logistic' was changed from 'error' to 'logloss'. Explicitly set eval_metric if you'd like to restore the old behavior.\n",
      "[17:41:50] WARNING: ../src/learner.cc:541: \n",
      "Parameters: { criterion, max_features, max_samples, min_samples_split } might not be used.\n",
      "\n",
      "  This may not be accurate due to some parameters are only used in language bindings but\n",
      "  passed down to XGBoost core.  Or some parameters are not used but slip through this\n",
      "  verification. Please open an issue if you find above cases.\n",
      "\n",
      "\n",
      "[17:41:52] WARNING: ../src/learner.cc:1061: Starting in XGBoost 1.3.0, the default evaluation metric used with the objective 'binary:logistic' was changed from 'error' to 'logloss'. Explicitly set eval_metric if you'd like to restore the old behavior.\n",
      "[17:44:47] WARNING: ../src/learner.cc:541: \n",
      "Parameters: { criterion, max_features, max_samples, min_samples_split } might not be used.\n",
      "\n",
      "  This may not be accurate due to some parameters are only used in language bindings but\n",
      "  passed down to XGBoost core.  Or some parameters are not used but slip through this\n",
      "  verification. Please open an issue if you find above cases.\n",
      "\n",
      "\n",
      "[17:44:48] WARNING: ../src/learner.cc:1061: Starting in XGBoost 1.3.0, the default evaluation metric used with the objective 'binary:logistic' was changed from 'error' to 'logloss'. Explicitly set eval_metric if you'd like to restore the old behavior.\n",
      "[17:49:11] WARNING: ../src/learner.cc:541: \n",
      "Parameters: { criterion, max_features, max_samples, min_samples_split } might not be used.\n",
      "\n",
      "  This may not be accurate due to some parameters are only used in language bindings but\n",
      "  passed down to XGBoost core.  Or some parameters are not used but slip through this\n",
      "  verification. Please open an issue if you find above cases.\n",
      "\n",
      "\n",
      "[17:49:12] WARNING: ../src/learner.cc:1061: Starting in XGBoost 1.3.0, the default evaluation metric used with the objective 'binary:logistic' was changed from 'error' to 'logloss'. Explicitly set eval_metric if you'd like to restore the old behavior.\n",
      "[17:53:34] WARNING: ../src/learner.cc:541: \n",
      "Parameters: { criterion, max_features, max_samples, min_samples_split } might not be used.\n",
      "\n",
      "  This may not be accurate due to some parameters are only used in language bindings but\n",
      "  passed down to XGBoost core.  Or some parameters are not used but slip through this\n",
      "  verification. Please open an issue if you find above cases.\n",
      "\n",
      "\n",
      "[17:53:37] WARNING: ../src/learner.cc:1061: Starting in XGBoost 1.3.0, the default evaluation metric used with the objective 'binary:logistic' was changed from 'error' to 'logloss'. Explicitly set eval_metric if you'd like to restore the old behavior.\n",
      "[17:58:03] WARNING: ../src/learner.cc:541: \n",
      "Parameters: { criterion, max_features, max_samples, min_samples_split } might not be used.\n",
      "\n",
      "  This may not be accurate due to some parameters are only used in language bindings but\n",
      "  passed down to XGBoost core.  Or some parameters are not used but slip through this\n",
      "  verification. Please open an issue if you find above cases.\n",
      "\n",
      "\n",
      "[17:58:04] WARNING: ../src/learner.cc:1061: Starting in XGBoost 1.3.0, the default evaluation metric used with the objective 'binary:logistic' was changed from 'error' to 'logloss'. Explicitly set eval_metric if you'd like to restore the old behavior.\n",
      "[17:59:12] WARNING: ../src/learner.cc:541: \n",
      "Parameters: { criterion, max_features, max_samples, min_samples_split } might not be used.\n",
      "\n",
      "  This may not be accurate due to some parameters are only used in language bindings but\n",
      "  passed down to XGBoost core.  Or some parameters are not used but slip through this\n",
      "  verification. Please open an issue if you find above cases.\n",
      "\n",
      "\n",
      "[17:59:14] WARNING: ../src/learner.cc:1061: Starting in XGBoost 1.3.0, the default evaluation metric used with the objective 'binary:logistic' was changed from 'error' to 'logloss'. Explicitly set eval_metric if you'd like to restore the old behavior.\n",
      "[18:00:21] WARNING: ../src/learner.cc:541: \n",
      "Parameters: { criterion, max_features, max_samples, min_samples_split } might not be used.\n",
      "\n",
      "  This may not be accurate due to some parameters are only used in language bindings but\n",
      "  passed down to XGBoost core.  Or some parameters are not used but slip through this\n",
      "  verification. Please open an issue if you find above cases.\n",
      "\n",
      "\n",
      "[18:00:22] WARNING: ../src/learner.cc:1061: Starting in XGBoost 1.3.0, the default evaluation metric used with the objective 'binary:logistic' was changed from 'error' to 'logloss'. Explicitly set eval_metric if you'd like to restore the old behavior.\n",
      "[18:01:43] WARNING: ../src/learner.cc:541: \n",
      "Parameters: { criterion, max_features, max_samples, min_samples_split } might not be used.\n",
      "\n",
      "  This may not be accurate due to some parameters are only used in language bindings but\n",
      "  passed down to XGBoost core.  Or some parameters are not used but slip through this\n",
      "  verification. Please open an issue if you find above cases.\n",
      "\n",
      "\n",
      "[18:01:46] WARNING: ../src/learner.cc:1061: Starting in XGBoost 1.3.0, the default evaluation metric used with the objective 'binary:logistic' was changed from 'error' to 'logloss'. Explicitly set eval_metric if you'd like to restore the old behavior.\n"
     ]
    }
   ],
   "source": [
    "rs_results = rs.fit(X_train, y_train)"
   ]
  },
  {
   "cell_type": "markdown",
   "id": "aba7ce54-a667-46e4-b687-4d35d9783a58",
   "metadata": {},
   "source": [
    "Let's pickle the random search results."
   ]
  },
  {
   "cell_type": "code",
   "execution_count": null,
   "id": "e5aef4ad-d57b-4d4f-815e-89efe8c46eab",
   "metadata": {
    "tags": []
   },
   "outputs": [
    {
     "data": {
      "text/plain": [
       "'./models/rs_results/classic_rs_2pval_r1_20220510_1103.pickle'"
      ]
     },
     "metadata": {},
     "output_type": "display_data"
    }
   ],
   "source": [
    "str_ts = datetime.now(timezone.utc).astimezone(pytz.timezone('US/Pacific')).strftime(\"%Y%m%d_%H%M\")\n",
    "file_nm = 'classic_rs_2pval_r1_' + str_ts\n",
    "file_path = './models/rs_results/' + file_nm + '.pickle'\n",
    "# pred_path = './predictions/test/' + file_nm + '.csv'\n",
    "\n",
    "display(file_path)\n",
    "\n",
    "with open(file_path, 'wb') as f:\n",
    "    # Pickle the 'data' dictionary using the highest protocol available.\n",
    "    pickle.dump(rs_results, f, pickle.HIGHEST_PROTOCOL)"
   ]
  },
  {
   "cell_type": "code",
   "execution_count": null,
   "id": "19a20ae2-7330-4d60-875a-0e9fc967428e",
   "metadata": {
    "tags": []
   },
   "outputs": [],
   "source": [
    "%%script echo skipping\n",
    "# Test loading pickle\n",
    "load_path = './models/rs_results/classic_rs_1st_pass_20220505_1544.pickle'\n",
    "\n",
    "with open(load_path, 'rb') as f:\n",
    "    # The protocol version used is detected automatically, so we do not\n",
    "    # have to specify it.\n",
    "    rs_rez_unpkl = pickle.load(f)    "
   ]
  },
  {
   "cell_type": "markdown",
   "id": "ba23a504-829e-4f2f-b1cc-baf311d80646",
   "metadata": {},
   "source": [
    "Check the results."
   ]
  },
  {
   "cell_type": "code",
   "execution_count": null,
   "id": "a349a80f-cc47-4ae6-9392-155b2d72b5ff",
   "metadata": {},
   "outputs": [
    {
     "data": {
      "text/plain": [
       "Pipeline(steps=[('clf',\n",
       "                 XGBClassifier(base_score=0.5, booster='gbtree',\n",
       "                               colsample_bylevel=1, colsample_bynode=1,\n",
       "                               colsample_bytree=1, criterion='entropy', gamma=0,\n",
       "                               gpu_id=-1, importance_type='gain',\n",
       "                               interaction_constraints='',\n",
       "                               learning_rate=0.300000012, max_delta_step=0,\n",
       "                               max_depth=7, max_features='auto',\n",
       "                               max_samples=0.5, min_child_weight=1,\n",
       "                               min_samples_split=0.38, missing=nan,\n",
       "                               monotone_constraints='()', n_estimators=50,\n",
       "                               n_jobs=16, num_parallel_tree=1, random_state=0,\n",
       "                               reg_alpha=0, reg_lambda=1, scale_pos_weight=1,\n",
       "                               subsample=1, tree_method='exact',\n",
       "                               validate_parameters=1, verbosity=None))])"
      ]
     },
     "execution_count": 21,
     "metadata": {},
     "output_type": "execute_result"
    }
   ],
   "source": [
    "rs_results.best_estimator_"
   ]
  },
  {
   "cell_type": "code",
   "execution_count": null,
   "id": "84a703f8-2256-4f75-83d4-3ac5a95924da",
   "metadata": {},
   "outputs": [
    {
     "data": {
      "text/plain": [
       "{'clf__n_estimators': 50,\n",
       " 'clf__min_samples_split': 0.38,\n",
       " 'clf__max_samples': 0.5,\n",
       " 'clf__max_features': 'auto',\n",
       " 'clf__max_depth': 7,\n",
       " 'clf__criterion': 'entropy',\n",
       " 'clf': XGBClassifier(base_score=None, booster=None, colsample_bylevel=None,\n",
       "               colsample_bynode=None, colsample_bytree=None, criterion='entropy',\n",
       "               gamma=None, gpu_id=None, importance_type='gain',\n",
       "               interaction_constraints=None, learning_rate=None,\n",
       "               max_delta_step=None, max_depth=7, max_features='auto',\n",
       "               max_samples=0.5, min_child_weight=None, min_samples_split=0.38,\n",
       "               missing=nan, monotone_constraints=None, n_estimators=50,\n",
       "               n_jobs=None, num_parallel_tree=None, random_state=None,\n",
       "               reg_alpha=None, reg_lambda=None, scale_pos_weight=None,\n",
       "               subsample=None, tree_method=None, validate_parameters=None,\n",
       "               verbosity=None)}"
      ]
     },
     "execution_count": 22,
     "metadata": {},
     "output_type": "execute_result"
    }
   ],
   "source": [
    "rs_results.best_params_"
   ]
  },
  {
   "cell_type": "code",
   "execution_count": null,
   "id": "89f54714-d825-495b-a150-40de7f885ad0",
   "metadata": {},
   "outputs": [
    {
     "data": {
      "text/plain": [
       "0.9313452079482275"
      ]
     },
     "execution_count": 23,
     "metadata": {},
     "output_type": "execute_result"
    }
   ],
   "source": [
    "rs_results.best_score_"
   ]
  },
  {
   "cell_type": "code",
   "execution_count": null,
   "id": "5fec844e-5636-4729-b68b-e7009f8a7190",
   "metadata": {},
   "outputs": [
    {
     "data": {
      "text/plain": [
       "{'mean_fit_time': array([7.97628919e+01, 7.00409905e+00, 1.51251776e+02, 1.61287459e+00,\n",
       "        1.68381224e+02, 1.48042576e+00, 4.05081908e-02, 2.64686257e+02,\n",
       "        3.66549492e-02, 7.29744517e+01]),\n",
       " 'std_fit_time': array([2.25850606e+00, 2.75299311e-01, 3.29266093e+00, 3.12506591e-02,\n",
       "        1.68911554e+00, 2.60144071e-02, 5.73454639e-03, 2.42887729e+00,\n",
       "        5.60210237e-04, 5.89498110e+00]),\n",
       " 'mean_score_time': array([0.44870941, 0.42969163, 0.41369939, 0.31992221, 0.41714255,\n",
       "        0.32151333, 0.        , 0.63138564, 0.        , 0.32275089]),\n",
       " 'std_score_time': array([0.16660856, 0.00423378, 0.03836451, 0.00155665, 0.03030444,\n",
       "        0.00193932, 0.        , 0.13445535, 0.        , 0.04809104]),\n",
       " 'param_clf__n_estimators': masked_array(data=[50, 100, 200, 100, 100, 100, 100, 200, 50, 50],\n",
       "              mask=[False, False, False, False, False, False, False, False,\n",
       "                    False, False],\n",
       "        fill_value='?',\n",
       "             dtype=object),\n",
       " 'param_clf__min_samples_split': masked_array(data=[0.18, 0.33999999999999997, 0.14, 0.26,\n",
       "                    0.42000000000000004, 0.33999999999999997, 0.22, 0.22,\n",
       "                    0.30000000000000004, 0.38],\n",
       "              mask=[False, False, False, False, False, False, False, False,\n",
       "                    False, False],\n",
       "        fill_value='?',\n",
       "             dtype=object),\n",
       " 'param_clf__max_samples': masked_array(data=[0.25, 0.75, 0.5, 0.25, 0.75, 1, --, 0.75, --, 0.5],\n",
       "              mask=[False, False, False, False, False, False,  True, False,\n",
       "                     True, False],\n",
       "        fill_value='?',\n",
       "             dtype=object),\n",
       " 'param_clf__max_features': masked_array(data=['sqrt', 'sqrt', 'log2', 'log2', 'log2', 'sqrt', 'sqrt',\n",
       "                    'sqrt', 'auto', 'auto'],\n",
       "              mask=[False, False, False, False, False, False, False, False,\n",
       "                    False, False],\n",
       "        fill_value='?',\n",
       "             dtype=object),\n",
       " 'param_clf__max_depth': masked_array(data=[8, 3, 4, 10, 9, 7, 3, 7, 5, 7],\n",
       "              mask=[False, False, False, False, False, False, False, False,\n",
       "                    False, False],\n",
       "        fill_value='?',\n",
       "             dtype=object),\n",
       " 'param_clf__criterion': masked_array(data=['entropy', 'gini', 'gini', 'gini', 'gini', 'entropy',\n",
       "                    'gini', 'entropy', 'entropy', 'entropy'],\n",
       "              mask=[False, False, False, False, False, False, False, False,\n",
       "                    False, False],\n",
       "        fill_value='?',\n",
       "             dtype=object),\n",
       " 'param_clf': masked_array(data=[XGBClassifier(base_score=None, booster=None, colsample_bylevel=None,\n",
       "                                  colsample_bynode=None, colsample_bytree=None, criterion='entropy',\n",
       "                                  gamma=None, gpu_id=None, importance_type='gain',\n",
       "                                  interaction_constraints=None, learning_rate=None,\n",
       "                                  max_delta_step=None, max_depth=7, max_features='auto',\n",
       "                                  max_samples=0.5, min_child_weight=None, min_samples_split=0.38,\n",
       "                                  missing=nan, monotone_constraints=None, n_estimators=50,\n",
       "                                  n_jobs=None, num_parallel_tree=None, random_state=None,\n",
       "                                  reg_alpha=None, reg_lambda=None, scale_pos_weight=None,\n",
       "                                  subsample=None, tree_method=None, validate_parameters=None,\n",
       "                                  verbosity=None)                                                   ,\n",
       "                    RandomForestClassifier(),\n",
       "                    XGBClassifier(base_score=None, booster=None, colsample_bylevel=None,\n",
       "                                  colsample_bynode=None, colsample_bytree=None, criterion='entropy',\n",
       "                                  gamma=None, gpu_id=None, importance_type='gain',\n",
       "                                  interaction_constraints=None, learning_rate=None,\n",
       "                                  max_delta_step=None, max_depth=7, max_features='auto',\n",
       "                                  max_samples=0.5, min_child_weight=None, min_samples_split=0.38,\n",
       "                                  missing=nan, monotone_constraints=None, n_estimators=50,\n",
       "                                  n_jobs=None, num_parallel_tree=None, random_state=None,\n",
       "                                  reg_alpha=None, reg_lambda=None, scale_pos_weight=None,\n",
       "                                  subsample=None, tree_method=None, validate_parameters=None,\n",
       "                                  verbosity=None)                                                   ,\n",
       "                    RandomForestClassifier(),\n",
       "                    XGBClassifier(base_score=None, booster=None, colsample_bylevel=None,\n",
       "                                  colsample_bynode=None, colsample_bytree=None, criterion='entropy',\n",
       "                                  gamma=None, gpu_id=None, importance_type='gain',\n",
       "                                  interaction_constraints=None, learning_rate=None,\n",
       "                                  max_delta_step=None, max_depth=7, max_features='auto',\n",
       "                                  max_samples=0.5, min_child_weight=None, min_samples_split=0.38,\n",
       "                                  missing=nan, monotone_constraints=None, n_estimators=50,\n",
       "                                  n_jobs=None, num_parallel_tree=None, random_state=None,\n",
       "                                  reg_alpha=None, reg_lambda=None, scale_pos_weight=None,\n",
       "                                  subsample=None, tree_method=None, validate_parameters=None,\n",
       "                                  verbosity=None)                                                   ,\n",
       "                    RandomForestClassifier(), GradientBoostingClassifier(),\n",
       "                    XGBClassifier(base_score=None, booster=None, colsample_bylevel=None,\n",
       "                                  colsample_bynode=None, colsample_bytree=None, criterion='entropy',\n",
       "                                  gamma=None, gpu_id=None, importance_type='gain',\n",
       "                                  interaction_constraints=None, learning_rate=None,\n",
       "                                  max_delta_step=None, max_depth=7, max_features='auto',\n",
       "                                  max_samples=0.5, min_child_weight=None, min_samples_split=0.38,\n",
       "                                  missing=nan, monotone_constraints=None, n_estimators=50,\n",
       "                                  n_jobs=None, num_parallel_tree=None, random_state=None,\n",
       "                                  reg_alpha=None, reg_lambda=None, scale_pos_weight=None,\n",
       "                                  subsample=None, tree_method=None, validate_parameters=None,\n",
       "                                  verbosity=None)                                                   ,\n",
       "                    GradientBoostingClassifier(),\n",
       "                    XGBClassifier(base_score=None, booster=None, colsample_bylevel=None,\n",
       "                                  colsample_bynode=None, colsample_bytree=None, criterion='entropy',\n",
       "                                  gamma=None, gpu_id=None, importance_type='gain',\n",
       "                                  interaction_constraints=None, learning_rate=None,\n",
       "                                  max_delta_step=None, max_depth=7, max_features='auto',\n",
       "                                  max_samples=0.5, min_child_weight=None, min_samples_split=0.38,\n",
       "                                  missing=nan, monotone_constraints=None, n_estimators=50,\n",
       "                                  n_jobs=None, num_parallel_tree=None, random_state=None,\n",
       "                                  reg_alpha=None, reg_lambda=None, scale_pos_weight=None,\n",
       "                                  subsample=None, tree_method=None, validate_parameters=None,\n",
       "                                  verbosity=None)                                                   ],\n",
       "              mask=[False, False, False, False, False, False, False, False,\n",
       "                    False, False],\n",
       "        fill_value='?',\n",
       "             dtype=object),\n",
       " 'params': [{'clf__n_estimators': 50,\n",
       "   'clf__min_samples_split': 0.18,\n",
       "   'clf__max_samples': 0.25,\n",
       "   'clf__max_features': 'sqrt',\n",
       "   'clf__max_depth': 8,\n",
       "   'clf__criterion': 'entropy',\n",
       "   'clf': XGBClassifier(base_score=None, booster=None, colsample_bylevel=None,\n",
       "                 colsample_bynode=None, colsample_bytree=None, criterion='entropy',\n",
       "                 gamma=None, gpu_id=None, importance_type='gain',\n",
       "                 interaction_constraints=None, learning_rate=None,\n",
       "                 max_delta_step=None, max_depth=7, max_features='auto',\n",
       "                 max_samples=0.5, min_child_weight=None, min_samples_split=0.38,\n",
       "                 missing=nan, monotone_constraints=None, n_estimators=50,\n",
       "                 n_jobs=None, num_parallel_tree=None, random_state=None,\n",
       "                 reg_alpha=None, reg_lambda=None, scale_pos_weight=None,\n",
       "                 subsample=None, tree_method=None, validate_parameters=None,\n",
       "                 verbosity=None)},\n",
       "  {'clf__n_estimators': 100,\n",
       "   'clf__min_samples_split': 0.33999999999999997,\n",
       "   'clf__max_samples': 0.75,\n",
       "   'clf__max_features': 'sqrt',\n",
       "   'clf__max_depth': 3,\n",
       "   'clf__criterion': 'gini',\n",
       "   'clf': RandomForestClassifier()},\n",
       "  {'clf__n_estimators': 200,\n",
       "   'clf__min_samples_split': 0.14,\n",
       "   'clf__max_samples': 0.5,\n",
       "   'clf__max_features': 'log2',\n",
       "   'clf__max_depth': 4,\n",
       "   'clf__criterion': 'gini',\n",
       "   'clf': XGBClassifier(base_score=None, booster=None, colsample_bylevel=None,\n",
       "                 colsample_bynode=None, colsample_bytree=None, criterion='entropy',\n",
       "                 gamma=None, gpu_id=None, importance_type='gain',\n",
       "                 interaction_constraints=None, learning_rate=None,\n",
       "                 max_delta_step=None, max_depth=7, max_features='auto',\n",
       "                 max_samples=0.5, min_child_weight=None, min_samples_split=0.38,\n",
       "                 missing=nan, monotone_constraints=None, n_estimators=50,\n",
       "                 n_jobs=None, num_parallel_tree=None, random_state=None,\n",
       "                 reg_alpha=None, reg_lambda=None, scale_pos_weight=None,\n",
       "                 subsample=None, tree_method=None, validate_parameters=None,\n",
       "                 verbosity=None)},\n",
       "  {'clf__n_estimators': 100,\n",
       "   'clf__min_samples_split': 0.26,\n",
       "   'clf__max_samples': 0.25,\n",
       "   'clf__max_features': 'log2',\n",
       "   'clf__max_depth': 10,\n",
       "   'clf__criterion': 'gini',\n",
       "   'clf': RandomForestClassifier()},\n",
       "  {'clf__n_estimators': 100,\n",
       "   'clf__min_samples_split': 0.42000000000000004,\n",
       "   'clf__max_samples': 0.75,\n",
       "   'clf__max_features': 'log2',\n",
       "   'clf__max_depth': 9,\n",
       "   'clf__criterion': 'gini',\n",
       "   'clf': XGBClassifier(base_score=None, booster=None, colsample_bylevel=None,\n",
       "                 colsample_bynode=None, colsample_bytree=None, criterion='entropy',\n",
       "                 gamma=None, gpu_id=None, importance_type='gain',\n",
       "                 interaction_constraints=None, learning_rate=None,\n",
       "                 max_delta_step=None, max_depth=7, max_features='auto',\n",
       "                 max_samples=0.5, min_child_weight=None, min_samples_split=0.38,\n",
       "                 missing=nan, monotone_constraints=None, n_estimators=50,\n",
       "                 n_jobs=None, num_parallel_tree=None, random_state=None,\n",
       "                 reg_alpha=None, reg_lambda=None, scale_pos_weight=None,\n",
       "                 subsample=None, tree_method=None, validate_parameters=None,\n",
       "                 verbosity=None)},\n",
       "  {'clf__n_estimators': 100,\n",
       "   'clf__min_samples_split': 0.33999999999999997,\n",
       "   'clf__max_samples': 1,\n",
       "   'clf__max_features': 'sqrt',\n",
       "   'clf__max_depth': 7,\n",
       "   'clf__criterion': 'entropy',\n",
       "   'clf': RandomForestClassifier()},\n",
       "  {'clf__n_estimators': 100,\n",
       "   'clf__min_samples_split': 0.22,\n",
       "   'clf__max_features': 'sqrt',\n",
       "   'clf__max_depth': 3,\n",
       "   'clf__criterion': 'gini',\n",
       "   'clf': GradientBoostingClassifier()},\n",
       "  {'clf__n_estimators': 200,\n",
       "   'clf__min_samples_split': 0.22,\n",
       "   'clf__max_samples': 0.75,\n",
       "   'clf__max_features': 'sqrt',\n",
       "   'clf__max_depth': 7,\n",
       "   'clf__criterion': 'entropy',\n",
       "   'clf': XGBClassifier(base_score=None, booster=None, colsample_bylevel=None,\n",
       "                 colsample_bynode=None, colsample_bytree=None, criterion='entropy',\n",
       "                 gamma=None, gpu_id=None, importance_type='gain',\n",
       "                 interaction_constraints=None, learning_rate=None,\n",
       "                 max_delta_step=None, max_depth=7, max_features='auto',\n",
       "                 max_samples=0.5, min_child_weight=None, min_samples_split=0.38,\n",
       "                 missing=nan, monotone_constraints=None, n_estimators=50,\n",
       "                 n_jobs=None, num_parallel_tree=None, random_state=None,\n",
       "                 reg_alpha=None, reg_lambda=None, scale_pos_weight=None,\n",
       "                 subsample=None, tree_method=None, validate_parameters=None,\n",
       "                 verbosity=None)},\n",
       "  {'clf__n_estimators': 50,\n",
       "   'clf__min_samples_split': 0.30000000000000004,\n",
       "   'clf__max_features': 'auto',\n",
       "   'clf__max_depth': 5,\n",
       "   'clf__criterion': 'entropy',\n",
       "   'clf': GradientBoostingClassifier()},\n",
       "  {'clf__n_estimators': 50,\n",
       "   'clf__min_samples_split': 0.38,\n",
       "   'clf__max_samples': 0.5,\n",
       "   'clf__max_features': 'auto',\n",
       "   'clf__max_depth': 7,\n",
       "   'clf__criterion': 'entropy',\n",
       "   'clf': XGBClassifier(base_score=None, booster=None, colsample_bylevel=None,\n",
       "                 colsample_bynode=None, colsample_bytree=None, criterion='entropy',\n",
       "                 gamma=None, gpu_id=None, importance_type='gain',\n",
       "                 interaction_constraints=None, learning_rate=None,\n",
       "                 max_delta_step=None, max_depth=7, max_features='auto',\n",
       "                 max_samples=0.5, min_child_weight=None, min_samples_split=0.38,\n",
       "                 missing=nan, monotone_constraints=None, n_estimators=50,\n",
       "                 n_jobs=None, num_parallel_tree=None, random_state=None,\n",
       "                 reg_alpha=None, reg_lambda=None, scale_pos_weight=None,\n",
       "                 subsample=None, tree_method=None, validate_parameters=None,\n",
       "                 verbosity=None)}],\n",
       " 'split0_test_score': array([0.93081452, 0.68636271, 0.93086794, 0.68636271, 0.92962848,\n",
       "        0.68636271,        nan, 0.92943615,        nan, 0.93141288]),\n",
       " 'split1_test_score': array([0.93212878, 0.68787999, 0.93151973, 0.68787999, 0.93056876,\n",
       "        0.68787999,        nan, 0.93026958,        nan, 0.93174412]),\n",
       " 'split2_test_score': array([0.93031232, 0.68635203, 0.9306115 , 0.68635203, 0.92917971,\n",
       "        0.68635203,        nan, 0.92916903,        nan, 0.93087863]),\n",
       " 'mean_test_score': array([0.93108521, 0.68686491, 0.93099973, 0.68686491, 0.92979232,\n",
       "        0.68686491,        nan, 0.92962492,        nan, 0.93134521]),\n",
       " 'std_test_score': array([0.00076587, 0.00071778, 0.00038231, 0.00071778, 0.00057879,\n",
       "        0.00071778,        nan, 0.00046871,        nan, 0.00035656]),\n",
       " 'rank_test_score': array([ 2,  6,  3,  6,  4,  6,  9,  5, 10,  1], dtype=int32)}"
      ]
     },
     "execution_count": 24,
     "metadata": {},
     "output_type": "execute_result"
    }
   ],
   "source": [
    "rs_results.cv_results_"
   ]
  },
  {
   "cell_type": "code",
   "execution_count": null,
   "id": "054b1e3d-f7a5-40b9-b68b-0a6b2e835b9b",
   "metadata": {},
   "outputs": [],
   "source": [
    "df_rs_res = pd.DataFrame(rs_results.cv_results_)"
   ]
  },
  {
   "cell_type": "code",
   "execution_count": null,
   "id": "62f139d0-58a0-49ff-80bc-0ca81e1e5217",
   "metadata": {},
   "outputs": [
    {
     "data": {
      "text/plain": [
       "(10, 18)"
      ]
     },
     "execution_count": 26,
     "metadata": {},
     "output_type": "execute_result"
    }
   ],
   "source": [
    "df_rs_res.shape"
   ]
  },
  {
   "cell_type": "code",
   "execution_count": null,
   "id": "e4d52a21-d62b-4d63-bd7e-15cff7da8b19",
   "metadata": {},
   "outputs": [
    {
     "data": {
      "application/com.datacamp.data-table.v1+json": {
       "is_truncated": false,
       "table": {
        "data": [
         {
          "0": 79.7628919284,
          "1": 7.0040990512,
          "2": 151.2517761389,
          "3": 1.6128745874,
          "4": 168.3812239965,
          "5": 1.4804257552,
          "6": 0.0405081908,
          "7": 264.6862568061,
          "8": 0.0366549492,
          "9": 72.9744517008,
          "index": "mean_fit_time"
         },
         {
          "0": 2.2585060569,
          "1": 0.2752993114,
          "2": 3.2926609302,
          "3": 0.0312506591,
          "4": 1.6891155393,
          "5": 0.0260144071,
          "6": 0.0057345464,
          "7": 2.4288772944,
          "8": 0.0005602102,
          "9": 5.8949811028,
          "index": "std_fit_time"
         },
         {
          "0": 0.4487094084,
          "1": 0.4296916326,
          "2": 0.4136993885,
          "3": 0.3199222088,
          "4": 0.4171425502,
          "5": 0.3215133349,
          "6": 0,
          "7": 0.6313856443,
          "8": 0,
          "9": 0.3227508863,
          "index": "mean_score_time"
         },
         {
          "0": 0.1666085563,
          "1": 0.0042337805,
          "2": 0.0383645125,
          "3": 0.0015566463,
          "4": 0.0303044377,
          "5": 0.0019393216,
          "6": 0,
          "7": 0.1344553467,
          "8": 0,
          "9": 0.0480910389,
          "index": "std_score_time"
         },
         {
          "0": 50,
          "1": 100,
          "2": 200,
          "3": 100,
          "4": 100,
          "5": 100,
          "6": 100,
          "7": 200,
          "8": 50,
          "9": 50,
          "index": "param_clf__n_estimators"
         },
         {
          "0": 0.18,
          "1": 0.34,
          "2": 0.14,
          "3": 0.26,
          "4": 0.42,
          "5": 0.34,
          "6": 0.22,
          "7": 0.22,
          "8": 0.3,
          "9": 0.38,
          "index": "param_clf__min_samples_split"
         },
         {
          "0": 0.25,
          "1": 0.75,
          "2": 0.5,
          "3": 0.25,
          "4": 0.75,
          "5": 1,
          "6": null,
          "7": 0.75,
          "8": null,
          "9": 0.5,
          "index": "param_clf__max_samples"
         },
         {
          "0": "sqrt",
          "1": "sqrt",
          "2": "log2",
          "3": "log2",
          "4": "log2",
          "5": "sqrt",
          "6": "sqrt",
          "7": "sqrt",
          "8": "auto",
          "9": "auto",
          "index": "param_clf__max_features"
         },
         {
          "0": 8,
          "1": 3,
          "2": 4,
          "3": 10,
          "4": 9,
          "5": 7,
          "6": 3,
          "7": 7,
          "8": 5,
          "9": 7,
          "index": "param_clf__max_depth"
         },
         {
          "0": "entropy",
          "1": "gini",
          "2": "gini",
          "3": "gini",
          "4": "gini",
          "5": "entropy",
          "6": "gini",
          "7": "entropy",
          "8": "entropy",
          "9": "entropy",
          "index": "param_clf__criterion"
         },
         {
          "0": {
           "base_score": null,
           "colsample_bylevel": null,
           "colsample_bytree": null,
           "gamma": null,
           "gpu_id": null,
           "interaction_constraints": null,
           "kwargs": {
            "criterion": "entropy",
            "max_features": "auto",
            "max_samples": 0.5,
            "min_samples_split": 0.38
           },
           "max_delta_step": null,
           "min_child_weight": null,
           "monotone_constraints": null,
           "n_jobs": null,
           "objective": "binary:logistic",
           "random_state": null,
           "reg_lambda": null,
           "scale_pos_weight": null,
           "subsample": null,
           "use_label_encoder": true,
           "verbosity": null
          },
          "1": {
           "base_estimator": {
            "ccp_alpha": 0,
            "criterion": "gini",
            "max_depth": null,
            "max_leaf_nodes": null,
            "min_samples_leaf": 1,
            "min_weight_fraction_leaf": 0,
            "random_state": null,
            "splitter": "best"
           },
           "ccp_alpha": 0,
           "criterion": "gini",
           "estimator_params": [
            "criterion",
            "max_depth",
            "min_samples_split",
            "min_samples_leaf",
            "min_weight_fraction_leaf",
            "max_features",
            "max_leaf_nodes",
            "min_impurity_decrease",
            "random_state",
            "ccp_alpha"
           ],
           "max_depth": null,
           "max_leaf_nodes": null,
           "min_impurity_decrease": 0,
           "min_samples_split": 2,
           "n_estimators": 100,
           "n_jobs": null,
           "random_state": null,
           "verbose": 0
          },
          "2": {
           "base_score": null,
           "colsample_bylevel": null,
           "colsample_bytree": null,
           "gamma": null,
           "gpu_id": null,
           "interaction_constraints": null,
           "kwargs": {
            "criterion": "entropy",
            "max_features": "auto",
            "max_samples": 0.5,
            "min_samples_split": 0.38
           },
           "max_delta_step": null,
           "min_child_weight": null,
           "monotone_constraints": null,
           "n_jobs": null,
           "objective": "binary:logistic",
           "random_state": null,
           "reg_lambda": null,
           "scale_pos_weight": null,
           "subsample": null,
           "use_label_encoder": true,
           "verbosity": null
          },
          "3": {
           "base_estimator": {
            "ccp_alpha": 0,
            "criterion": "gini",
            "max_depth": null,
            "max_leaf_nodes": null,
            "min_samples_leaf": 1,
            "min_weight_fraction_leaf": 0,
            "random_state": null,
            "splitter": "best"
           },
           "ccp_alpha": 0,
           "criterion": "gini",
           "estimator_params": [
            "criterion",
            "max_depth",
            "min_samples_split",
            "min_samples_leaf",
            "min_weight_fraction_leaf",
            "max_features",
            "max_leaf_nodes",
            "min_impurity_decrease",
            "random_state",
            "ccp_alpha"
           ],
           "max_depth": null,
           "max_leaf_nodes": null,
           "min_impurity_decrease": 0,
           "min_samples_split": 2,
           "n_estimators": 100,
           "n_jobs": null,
           "random_state": null,
           "verbose": 0
          },
          "4": {
           "base_score": null,
           "colsample_bylevel": null,
           "colsample_bytree": null,
           "gamma": null,
           "gpu_id": null,
           "interaction_constraints": null,
           "kwargs": {
            "criterion": "entropy",
            "max_features": "auto",
            "max_samples": 0.5,
            "min_samples_split": 0.38
           },
           "max_delta_step": null,
           "min_child_weight": null,
           "monotone_constraints": null,
           "n_jobs": null,
           "objective": "binary:logistic",
           "random_state": null,
           "reg_lambda": null,
           "scale_pos_weight": null,
           "subsample": null,
           "use_label_encoder": true,
           "verbosity": null
          },
          "5": {
           "base_estimator": {
            "ccp_alpha": 0,
            "criterion": "gini",
            "max_depth": null,
            "max_leaf_nodes": null,
            "min_samples_leaf": 1,
            "min_weight_fraction_leaf": 0,
            "random_state": null,
            "splitter": "best"
           },
           "ccp_alpha": 0,
           "criterion": "gini",
           "estimator_params": [
            "criterion",
            "max_depth",
            "min_samples_split",
            "min_samples_leaf",
            "min_weight_fraction_leaf",
            "max_features",
            "max_leaf_nodes",
            "min_impurity_decrease",
            "random_state",
            "ccp_alpha"
           ],
           "max_depth": null,
           "max_leaf_nodes": null,
           "min_impurity_decrease": 0,
           "min_samples_split": 2,
           "n_estimators": 100,
           "n_jobs": null,
           "random_state": null,
           "verbose": 0
          },
          "6": {
           "alpha": 0.9,
           "ccp_alpha": 0,
           "init": null,
           "loss": "deviance",
           "max_features": null,
           "min_impurity_decrease": 0,
           "min_samples_split": 2,
           "n_estimators": 100,
           "n_iter_no_change": null,
           "random_state": null,
           "subsample": 1,
           "validation_fraction": 0.1,
           "warm_start": false
          },
          "7": {
           "base_score": null,
           "colsample_bylevel": null,
           "colsample_bytree": null,
           "gamma": null,
           "gpu_id": null,
           "interaction_constraints": null,
           "kwargs": {
            "criterion": "entropy",
            "max_features": "auto",
            "max_samples": 0.5,
            "min_samples_split": 0.38
           },
           "max_delta_step": null,
           "min_child_weight": null,
           "monotone_constraints": null,
           "n_jobs": null,
           "objective": "binary:logistic",
           "random_state": null,
           "reg_lambda": null,
           "scale_pos_weight": null,
           "subsample": null,
           "use_label_encoder": true,
           "verbosity": null
          },
          "8": {
           "alpha": 0.9,
           "ccp_alpha": 0,
           "init": null,
           "loss": "deviance",
           "max_features": null,
           "min_impurity_decrease": 0,
           "min_samples_split": 2,
           "n_estimators": 100,
           "n_iter_no_change": null,
           "random_state": null,
           "subsample": 1,
           "validation_fraction": 0.1,
           "warm_start": false
          },
          "9": {
           "base_score": null,
           "colsample_bylevel": null,
           "colsample_bytree": null,
           "gamma": null,
           "gpu_id": null,
           "interaction_constraints": null,
           "kwargs": {
            "criterion": "entropy",
            "max_features": "auto",
            "max_samples": 0.5,
            "min_samples_split": 0.38
           },
           "max_delta_step": null,
           "min_child_weight": null,
           "monotone_constraints": null,
           "n_jobs": null,
           "objective": "binary:logistic",
           "random_state": null,
           "reg_lambda": null,
           "scale_pos_weight": null,
           "subsample": null,
           "use_label_encoder": true,
           "verbosity": null
          },
          "index": "param_clf"
         },
         {
          "0": {
           "clf": {
            "base_score": null,
            "colsample_bylevel": null,
            "colsample_bytree": null,
            "gamma": null,
            "gpu_id": null,
            "interaction_constraints": null,
            "kwargs": {
             "criterion": "entropy",
             "max_features": "auto",
             "max_samples": 0.5,
             "min_samples_split": 0.38
            },
            "max_delta_step": null,
            "min_child_weight": null,
            "monotone_constraints": null,
            "n_jobs": null,
            "objective": "binary:logistic",
            "random_state": null,
            "reg_lambda": null,
            "scale_pos_weight": null,
            "subsample": null,
            "use_label_encoder": true,
            "verbosity": null
           },
           "clf__criterion": "entropy",
           "clf__max_depth": 8,
           "clf__max_features": "sqrt",
           "clf__max_samples": 0.25,
           "clf__min_samples_split": 0.18,
           "clf__n_estimators": 50
          },
          "1": {
           "clf": {
            "base_estimator": {
             "ccp_alpha": 0,
             "criterion": "gini",
             "max_depth": null,
             "max_leaf_nodes": null,
             "min_samples_leaf": 1,
             "min_weight_fraction_leaf": 0,
             "random_state": null,
             "splitter": "best"
            },
            "ccp_alpha": 0,
            "criterion": "gini",
            "estimator_params": [
             "criterion",
             "max_depth",
             "min_samples_split",
             "min_samples_leaf",
             "min_weight_fraction_leaf",
             "max_features",
             "max_leaf_nodes",
             "min_impurity_decrease",
             "random_state",
             "ccp_alpha"
            ],
            "max_depth": null,
            "max_leaf_nodes": null,
            "min_impurity_decrease": 0,
            "min_samples_split": 2,
            "n_estimators": 100,
            "n_jobs": null,
            "random_state": null,
            "verbose": 0
           },
           "clf__criterion": "gini",
           "clf__max_depth": 3,
           "clf__max_features": "sqrt",
           "clf__max_samples": 0.75,
           "clf__min_samples_split": 0.34,
           "clf__n_estimators": 100
          },
          "2": {
           "clf": {
            "base_score": null,
            "colsample_bylevel": null,
            "colsample_bytree": null,
            "gamma": null,
            "gpu_id": null,
            "interaction_constraints": null,
            "kwargs": {
             "criterion": "entropy",
             "max_features": "auto",
             "max_samples": 0.5,
             "min_samples_split": 0.38
            },
            "max_delta_step": null,
            "min_child_weight": null,
            "monotone_constraints": null,
            "n_jobs": null,
            "objective": "binary:logistic",
            "random_state": null,
            "reg_lambda": null,
            "scale_pos_weight": null,
            "subsample": null,
            "use_label_encoder": true,
            "verbosity": null
           },
           "clf__criterion": "gini",
           "clf__max_depth": 4,
           "clf__max_features": "log2",
           "clf__max_samples": 0.5,
           "clf__min_samples_split": 0.14,
           "clf__n_estimators": 200
          },
          "3": {
           "clf": {
            "base_estimator": {
             "ccp_alpha": 0,
             "criterion": "gini",
             "max_depth": null,
             "max_leaf_nodes": null,
             "min_samples_leaf": 1,
             "min_weight_fraction_leaf": 0,
             "random_state": null,
             "splitter": "best"
            },
            "ccp_alpha": 0,
            "criterion": "gini",
            "estimator_params": [
             "criterion",
             "max_depth",
             "min_samples_split",
             "min_samples_leaf",
             "min_weight_fraction_leaf",
             "max_features",
             "max_leaf_nodes",
             "min_impurity_decrease",
             "random_state",
             "ccp_alpha"
            ],
            "max_depth": null,
            "max_leaf_nodes": null,
            "min_impurity_decrease": 0,
            "min_samples_split": 2,
            "n_estimators": 100,
            "n_jobs": null,
            "random_state": null,
            "verbose": 0
           },
           "clf__criterion": "gini",
           "clf__max_depth": 10,
           "clf__max_features": "log2",
           "clf__max_samples": 0.25,
           "clf__min_samples_split": 0.26,
           "clf__n_estimators": 100
          },
          "4": {
           "clf": {
            "base_score": null,
            "colsample_bylevel": null,
            "colsample_bytree": null,
            "gamma": null,
            "gpu_id": null,
            "interaction_constraints": null,
            "kwargs": {
             "criterion": "entropy",
             "max_features": "auto",
             "max_samples": 0.5,
             "min_samples_split": 0.38
            },
            "max_delta_step": null,
            "min_child_weight": null,
            "monotone_constraints": null,
            "n_jobs": null,
            "objective": "binary:logistic",
            "random_state": null,
            "reg_lambda": null,
            "scale_pos_weight": null,
            "subsample": null,
            "use_label_encoder": true,
            "verbosity": null
           },
           "clf__criterion": "gini",
           "clf__max_depth": 9,
           "clf__max_features": "log2",
           "clf__max_samples": 0.75,
           "clf__min_samples_split": 0.42,
           "clf__n_estimators": 100
          },
          "5": {
           "clf": {
            "base_estimator": {
             "ccp_alpha": 0,
             "criterion": "gini",
             "max_depth": null,
             "max_leaf_nodes": null,
             "min_samples_leaf": 1,
             "min_weight_fraction_leaf": 0,
             "random_state": null,
             "splitter": "best"
            },
            "ccp_alpha": 0,
            "criterion": "gini",
            "estimator_params": [
             "criterion",
             "max_depth",
             "min_samples_split",
             "min_samples_leaf",
             "min_weight_fraction_leaf",
             "max_features",
             "max_leaf_nodes",
             "min_impurity_decrease",
             "random_state",
             "ccp_alpha"
            ],
            "max_depth": null,
            "max_leaf_nodes": null,
            "min_impurity_decrease": 0,
            "min_samples_split": 2,
            "n_estimators": 100,
            "n_jobs": null,
            "random_state": null,
            "verbose": 0
           },
           "clf__criterion": "entropy",
           "clf__max_depth": 7,
           "clf__max_features": "sqrt",
           "clf__max_samples": 1,
           "clf__min_samples_split": 0.34,
           "clf__n_estimators": 100
          },
          "6": {
           "clf": {
            "alpha": 0.9,
            "ccp_alpha": 0,
            "init": null,
            "loss": "deviance",
            "max_features": null,
            "min_impurity_decrease": 0,
            "min_samples_split": 2,
            "n_estimators": 100,
            "n_iter_no_change": null,
            "random_state": null,
            "subsample": 1,
            "validation_fraction": 0.1,
            "warm_start": false
           },
           "clf__criterion": "gini",
           "clf__max_depth": 3,
           "clf__max_features": "sqrt",
           "clf__min_samples_split": 0.22,
           "clf__n_estimators": 100
          },
          "7": {
           "clf": {
            "base_score": null,
            "colsample_bylevel": null,
            "colsample_bytree": null,
            "gamma": null,
            "gpu_id": null,
            "interaction_constraints": null,
            "kwargs": {
             "criterion": "entropy",
             "max_features": "auto",
             "max_samples": 0.5,
             "min_samples_split": 0.38
            },
            "max_delta_step": null,
            "min_child_weight": null,
            "monotone_constraints": null,
            "n_jobs": null,
            "objective": "binary:logistic",
            "random_state": null,
            "reg_lambda": null,
            "scale_pos_weight": null,
            "subsample": null,
            "use_label_encoder": true,
            "verbosity": null
           },
           "clf__criterion": "entropy",
           "clf__max_depth": 7,
           "clf__max_features": "sqrt",
           "clf__max_samples": 0.75,
           "clf__min_samples_split": 0.22,
           "clf__n_estimators": 200
          },
          "8": {
           "clf": {
            "alpha": 0.9,
            "ccp_alpha": 0,
            "init": null,
            "loss": "deviance",
            "max_features": null,
            "min_impurity_decrease": 0,
            "min_samples_split": 2,
            "n_estimators": 100,
            "n_iter_no_change": null,
            "random_state": null,
            "subsample": 1,
            "validation_fraction": 0.1,
            "warm_start": false
           },
           "clf__criterion": "entropy",
           "clf__max_depth": 5,
           "clf__max_features": "auto",
           "clf__min_samples_split": 0.3,
           "clf__n_estimators": 50
          },
          "9": {
           "clf": {
            "base_score": null,
            "colsample_bylevel": null,
            "colsample_bytree": null,
            "gamma": null,
            "gpu_id": null,
            "interaction_constraints": null,
            "kwargs": {
             "criterion": "entropy",
             "max_features": "auto",
             "max_samples": 0.5,
             "min_samples_split": 0.38
            },
            "max_delta_step": null,
            "min_child_weight": null,
            "monotone_constraints": null,
            "n_jobs": null,
            "objective": "binary:logistic",
            "random_state": null,
            "reg_lambda": null,
            "scale_pos_weight": null,
            "subsample": null,
            "use_label_encoder": true,
            "verbosity": null
           },
           "clf__criterion": "entropy",
           "clf__max_depth": 7,
           "clf__max_features": "auto",
           "clf__max_samples": 0.5,
           "clf__min_samples_split": 0.38,
           "clf__n_estimators": 50
          },
          "index": "params"
         },
         {
          "0": 0.9308145188,
          "1": 0.6863627136,
          "2": 0.9308679439,
          "3": 0.6863627136,
          "4": 0.929628482,
          "5": 0.6863627136,
          "6": null,
          "7": 0.9294361517,
          "8": null,
          "9": 0.9314128797,
          "index": "split0_test_score"
         },
         {
          "0": 0.9321287758,
          "1": 0.6878799859,
          "2": 0.9315197299,
          "3": 0.6878799859,
          "4": 0.9305687634,
          "5": 0.6878799859,
          "6": null,
          "7": 0.930269583,
          "8": null,
          "9": 0.9317441152,
          "index": "split1_test_score"
         },
         {
          "0": 0.930312323,
          "1": 0.6863520286,
          "2": 0.9306115035,
          "3": 0.6863520286,
          "4": 0.9291797113,
          "5": 0.6863520286,
          "6": null,
          "7": 0.9291690263,
          "8": null,
          "9": 0.9308786289,
          "index": "split2_test_score"
         },
         {
          "0": 0.9310852059,
          "1": 0.6868649093,
          "2": 0.9309997258,
          "3": 0.6868649093,
          "4": 0.9297923189,
          "5": 0.6868649093,
          "6": null,
          "7": 0.9296249203,
          "8": null,
          "9": 0.9313452079,
          "index": "mean_test_score"
         },
         {
          "0": 0.0007658672,
          "1": 0.0007177808,
          "2": 0.000382312,
          "3": 0.0007177808,
          "4": 0.0005787909,
          "5": 0.0007177808,
          "6": null,
          "7": 0.0004687085,
          "8": null,
          "9": 0.0003565588,
          "index": "std_test_score"
         },
         {
          "0": 2,
          "1": 6,
          "2": 3,
          "3": 6,
          "4": 4,
          "5": 6,
          "6": 9,
          "7": 5,
          "8": 10,
          "9": 1,
          "index": "rank_test_score"
         }
        ],
        "schema": {
         "fields": [
          {
           "name": "index",
           "type": "string"
          },
          {
           "name": 0,
           "type": "string"
          },
          {
           "name": 1,
           "type": "string"
          },
          {
           "name": 2,
           "type": "string"
          },
          {
           "name": 3,
           "type": "string"
          },
          {
           "name": 4,
           "type": "string"
          },
          {
           "name": 5,
           "type": "string"
          },
          {
           "name": 6,
           "type": "string"
          },
          {
           "name": 7,
           "type": "string"
          },
          {
           "name": 8,
           "type": "string"
          },
          {
           "name": 9,
           "type": "string"
          }
         ],
         "pandas_version": "0.20.0",
         "primaryKey": [
          "index"
         ]
        }
       },
       "total_rows": 18
      },
      "text/html": [
       "<div>\n",
       "<style scoped>\n",
       "    .dataframe tbody tr th:only-of-type {\n",
       "        vertical-align: middle;\n",
       "    }\n",
       "\n",
       "    .dataframe tbody tr th {\n",
       "        vertical-align: top;\n",
       "    }\n",
       "\n",
       "    .dataframe thead th {\n",
       "        text-align: right;\n",
       "    }\n",
       "</style>\n",
       "<table border=\"1\" class=\"dataframe\">\n",
       "  <thead>\n",
       "    <tr style=\"text-align: right;\">\n",
       "      <th></th>\n",
       "      <th>0</th>\n",
       "      <th>1</th>\n",
       "      <th>2</th>\n",
       "      <th>3</th>\n",
       "      <th>4</th>\n",
       "      <th>5</th>\n",
       "      <th>6</th>\n",
       "      <th>7</th>\n",
       "      <th>8</th>\n",
       "      <th>9</th>\n",
       "    </tr>\n",
       "  </thead>\n",
       "  <tbody>\n",
       "    <tr>\n",
       "      <th>mean_fit_time</th>\n",
       "      <td>79.762892</td>\n",
       "      <td>7.004099</td>\n",
       "      <td>151.251776</td>\n",
       "      <td>1.612875</td>\n",
       "      <td>168.381224</td>\n",
       "      <td>1.480426</td>\n",
       "      <td>0.040508</td>\n",
       "      <td>264.686257</td>\n",
       "      <td>0.036655</td>\n",
       "      <td>72.974452</td>\n",
       "    </tr>\n",
       "    <tr>\n",
       "      <th>std_fit_time</th>\n",
       "      <td>2.258506</td>\n",
       "      <td>0.275299</td>\n",
       "      <td>3.292661</td>\n",
       "      <td>0.031251</td>\n",
       "      <td>1.689116</td>\n",
       "      <td>0.026014</td>\n",
       "      <td>0.005735</td>\n",
       "      <td>2.428877</td>\n",
       "      <td>0.00056</td>\n",
       "      <td>5.894981</td>\n",
       "    </tr>\n",
       "    <tr>\n",
       "      <th>mean_score_time</th>\n",
       "      <td>0.448709</td>\n",
       "      <td>0.429692</td>\n",
       "      <td>0.413699</td>\n",
       "      <td>0.319922</td>\n",
       "      <td>0.417143</td>\n",
       "      <td>0.321513</td>\n",
       "      <td>0.0</td>\n",
       "      <td>0.631386</td>\n",
       "      <td>0.0</td>\n",
       "      <td>0.322751</td>\n",
       "    </tr>\n",
       "    <tr>\n",
       "      <th>std_score_time</th>\n",
       "      <td>0.166609</td>\n",
       "      <td>0.004234</td>\n",
       "      <td>0.038365</td>\n",
       "      <td>0.001557</td>\n",
       "      <td>0.030304</td>\n",
       "      <td>0.001939</td>\n",
       "      <td>0.0</td>\n",
       "      <td>0.134455</td>\n",
       "      <td>0.0</td>\n",
       "      <td>0.048091</td>\n",
       "    </tr>\n",
       "    <tr>\n",
       "      <th>param_clf__n_estimators</th>\n",
       "      <td>50</td>\n",
       "      <td>100</td>\n",
       "      <td>200</td>\n",
       "      <td>100</td>\n",
       "      <td>100</td>\n",
       "      <td>100</td>\n",
       "      <td>100</td>\n",
       "      <td>200</td>\n",
       "      <td>50</td>\n",
       "      <td>50</td>\n",
       "    </tr>\n",
       "    <tr>\n",
       "      <th>param_clf__min_samples_split</th>\n",
       "      <td>0.18</td>\n",
       "      <td>0.34</td>\n",
       "      <td>0.14</td>\n",
       "      <td>0.26</td>\n",
       "      <td>0.42</td>\n",
       "      <td>0.34</td>\n",
       "      <td>0.22</td>\n",
       "      <td>0.22</td>\n",
       "      <td>0.3</td>\n",
       "      <td>0.38</td>\n",
       "    </tr>\n",
       "    <tr>\n",
       "      <th>param_clf__max_samples</th>\n",
       "      <td>0.25</td>\n",
       "      <td>0.75</td>\n",
       "      <td>0.5</td>\n",
       "      <td>0.25</td>\n",
       "      <td>0.75</td>\n",
       "      <td>1</td>\n",
       "      <td>NaN</td>\n",
       "      <td>0.75</td>\n",
       "      <td>NaN</td>\n",
       "      <td>0.5</td>\n",
       "    </tr>\n",
       "    <tr>\n",
       "      <th>param_clf__max_features</th>\n",
       "      <td>sqrt</td>\n",
       "      <td>sqrt</td>\n",
       "      <td>log2</td>\n",
       "      <td>log2</td>\n",
       "      <td>log2</td>\n",
       "      <td>sqrt</td>\n",
       "      <td>sqrt</td>\n",
       "      <td>sqrt</td>\n",
       "      <td>auto</td>\n",
       "      <td>auto</td>\n",
       "    </tr>\n",
       "    <tr>\n",
       "      <th>param_clf__max_depth</th>\n",
       "      <td>8</td>\n",
       "      <td>3</td>\n",
       "      <td>4</td>\n",
       "      <td>10</td>\n",
       "      <td>9</td>\n",
       "      <td>7</td>\n",
       "      <td>3</td>\n",
       "      <td>7</td>\n",
       "      <td>5</td>\n",
       "      <td>7</td>\n",
       "    </tr>\n",
       "    <tr>\n",
       "      <th>param_clf__criterion</th>\n",
       "      <td>entropy</td>\n",
       "      <td>gini</td>\n",
       "      <td>gini</td>\n",
       "      <td>gini</td>\n",
       "      <td>gini</td>\n",
       "      <td>entropy</td>\n",
       "      <td>gini</td>\n",
       "      <td>entropy</td>\n",
       "      <td>entropy</td>\n",
       "      <td>entropy</td>\n",
       "    </tr>\n",
       "    <tr>\n",
       "      <th>param_clf</th>\n",
       "      <td>XGBClassifier(base_score=None, booster=None, c...</td>\n",
       "      <td>RandomForestClassifier()</td>\n",
       "      <td>XGBClassifier(base_score=None, booster=None, c...</td>\n",
       "      <td>RandomForestClassifier()</td>\n",
       "      <td>XGBClassifier(base_score=None, booster=None, c...</td>\n",
       "      <td>RandomForestClassifier()</td>\n",
       "      <td>GradientBoostingClassifier()</td>\n",
       "      <td>XGBClassifier(base_score=None, booster=None, c...</td>\n",
       "      <td>GradientBoostingClassifier()</td>\n",
       "      <td>XGBClassifier(base_score=None, booster=None, c...</td>\n",
       "    </tr>\n",
       "    <tr>\n",
       "      <th>params</th>\n",
       "      <td>{'clf__n_estimators': 50, 'clf__min_samples_sp...</td>\n",
       "      <td>{'clf__n_estimators': 100, 'clf__min_samples_s...</td>\n",
       "      <td>{'clf__n_estimators': 200, 'clf__min_samples_s...</td>\n",
       "      <td>{'clf__n_estimators': 100, 'clf__min_samples_s...</td>\n",
       "      <td>{'clf__n_estimators': 100, 'clf__min_samples_s...</td>\n",
       "      <td>{'clf__n_estimators': 100, 'clf__min_samples_s...</td>\n",
       "      <td>{'clf__n_estimators': 100, 'clf__min_samples_s...</td>\n",
       "      <td>{'clf__n_estimators': 200, 'clf__min_samples_s...</td>\n",
       "      <td>{'clf__n_estimators': 50, 'clf__min_samples_sp...</td>\n",
       "      <td>{'clf__n_estimators': 50, 'clf__min_samples_sp...</td>\n",
       "    </tr>\n",
       "    <tr>\n",
       "      <th>split0_test_score</th>\n",
       "      <td>0.930815</td>\n",
       "      <td>0.686363</td>\n",
       "      <td>0.930868</td>\n",
       "      <td>0.686363</td>\n",
       "      <td>0.929628</td>\n",
       "      <td>0.686363</td>\n",
       "      <td>NaN</td>\n",
       "      <td>0.929436</td>\n",
       "      <td>NaN</td>\n",
       "      <td>0.931413</td>\n",
       "    </tr>\n",
       "    <tr>\n",
       "      <th>split1_test_score</th>\n",
       "      <td>0.932129</td>\n",
       "      <td>0.68788</td>\n",
       "      <td>0.93152</td>\n",
       "      <td>0.68788</td>\n",
       "      <td>0.930569</td>\n",
       "      <td>0.68788</td>\n",
       "      <td>NaN</td>\n",
       "      <td>0.93027</td>\n",
       "      <td>NaN</td>\n",
       "      <td>0.931744</td>\n",
       "    </tr>\n",
       "    <tr>\n",
       "      <th>split2_test_score</th>\n",
       "      <td>0.930312</td>\n",
       "      <td>0.686352</td>\n",
       "      <td>0.930612</td>\n",
       "      <td>0.686352</td>\n",
       "      <td>0.92918</td>\n",
       "      <td>0.686352</td>\n",
       "      <td>NaN</td>\n",
       "      <td>0.929169</td>\n",
       "      <td>NaN</td>\n",
       "      <td>0.930879</td>\n",
       "    </tr>\n",
       "    <tr>\n",
       "      <th>mean_test_score</th>\n",
       "      <td>0.931085</td>\n",
       "      <td>0.686865</td>\n",
       "      <td>0.931</td>\n",
       "      <td>0.686865</td>\n",
       "      <td>0.929792</td>\n",
       "      <td>0.686865</td>\n",
       "      <td>NaN</td>\n",
       "      <td>0.929625</td>\n",
       "      <td>NaN</td>\n",
       "      <td>0.931345</td>\n",
       "    </tr>\n",
       "    <tr>\n",
       "      <th>std_test_score</th>\n",
       "      <td>0.000766</td>\n",
       "      <td>0.000718</td>\n",
       "      <td>0.000382</td>\n",
       "      <td>0.000718</td>\n",
       "      <td>0.000579</td>\n",
       "      <td>0.000718</td>\n",
       "      <td>NaN</td>\n",
       "      <td>0.000469</td>\n",
       "      <td>NaN</td>\n",
       "      <td>0.000357</td>\n",
       "    </tr>\n",
       "    <tr>\n",
       "      <th>rank_test_score</th>\n",
       "      <td>2</td>\n",
       "      <td>6</td>\n",
       "      <td>3</td>\n",
       "      <td>6</td>\n",
       "      <td>4</td>\n",
       "      <td>6</td>\n",
       "      <td>9</td>\n",
       "      <td>5</td>\n",
       "      <td>10</td>\n",
       "      <td>1</td>\n",
       "    </tr>\n",
       "  </tbody>\n",
       "</table>\n",
       "</div>"
      ],
      "text/plain": [
       "                                                                              0  \\\n",
       "mean_fit_time                                                         79.762892   \n",
       "std_fit_time                                                           2.258506   \n",
       "mean_score_time                                                        0.448709   \n",
       "std_score_time                                                         0.166609   \n",
       "param_clf__n_estimators                                                      50   \n",
       "param_clf__min_samples_split                                               0.18   \n",
       "param_clf__max_samples                                                     0.25   \n",
       "param_clf__max_features                                                    sqrt   \n",
       "param_clf__max_depth                                                          8   \n",
       "param_clf__criterion                                                    entropy   \n",
       "param_clf                     XGBClassifier(base_score=None, booster=None, c...   \n",
       "params                        {'clf__n_estimators': 50, 'clf__min_samples_sp...   \n",
       "split0_test_score                                                      0.930815   \n",
       "split1_test_score                                                      0.932129   \n",
       "split2_test_score                                                      0.930312   \n",
       "mean_test_score                                                        0.931085   \n",
       "std_test_score                                                         0.000766   \n",
       "rank_test_score                                                               2   \n",
       "\n",
       "                                                                              1  \\\n",
       "mean_fit_time                                                          7.004099   \n",
       "std_fit_time                                                           0.275299   \n",
       "mean_score_time                                                        0.429692   \n",
       "std_score_time                                                         0.004234   \n",
       "param_clf__n_estimators                                                     100   \n",
       "param_clf__min_samples_split                                               0.34   \n",
       "param_clf__max_samples                                                     0.75   \n",
       "param_clf__max_features                                                    sqrt   \n",
       "param_clf__max_depth                                                          3   \n",
       "param_clf__criterion                                                       gini   \n",
       "param_clf                                              RandomForestClassifier()   \n",
       "params                        {'clf__n_estimators': 100, 'clf__min_samples_s...   \n",
       "split0_test_score                                                      0.686363   \n",
       "split1_test_score                                                       0.68788   \n",
       "split2_test_score                                                      0.686352   \n",
       "mean_test_score                                                        0.686865   \n",
       "std_test_score                                                         0.000718   \n",
       "rank_test_score                                                               6   \n",
       "\n",
       "                                                                              2  \\\n",
       "mean_fit_time                                                        151.251776   \n",
       "std_fit_time                                                           3.292661   \n",
       "mean_score_time                                                        0.413699   \n",
       "std_score_time                                                         0.038365   \n",
       "param_clf__n_estimators                                                     200   \n",
       "param_clf__min_samples_split                                               0.14   \n",
       "param_clf__max_samples                                                      0.5   \n",
       "param_clf__max_features                                                    log2   \n",
       "param_clf__max_depth                                                          4   \n",
       "param_clf__criterion                                                       gini   \n",
       "param_clf                     XGBClassifier(base_score=None, booster=None, c...   \n",
       "params                        {'clf__n_estimators': 200, 'clf__min_samples_s...   \n",
       "split0_test_score                                                      0.930868   \n",
       "split1_test_score                                                       0.93152   \n",
       "split2_test_score                                                      0.930612   \n",
       "mean_test_score                                                           0.931   \n",
       "std_test_score                                                         0.000382   \n",
       "rank_test_score                                                               3   \n",
       "\n",
       "                                                                              3  \\\n",
       "mean_fit_time                                                          1.612875   \n",
       "std_fit_time                                                           0.031251   \n",
       "mean_score_time                                                        0.319922   \n",
       "std_score_time                                                         0.001557   \n",
       "param_clf__n_estimators                                                     100   \n",
       "param_clf__min_samples_split                                               0.26   \n",
       "param_clf__max_samples                                                     0.25   \n",
       "param_clf__max_features                                                    log2   \n",
       "param_clf__max_depth                                                         10   \n",
       "param_clf__criterion                                                       gini   \n",
       "param_clf                                              RandomForestClassifier()   \n",
       "params                        {'clf__n_estimators': 100, 'clf__min_samples_s...   \n",
       "split0_test_score                                                      0.686363   \n",
       "split1_test_score                                                       0.68788   \n",
       "split2_test_score                                                      0.686352   \n",
       "mean_test_score                                                        0.686865   \n",
       "std_test_score                                                         0.000718   \n",
       "rank_test_score                                                               6   \n",
       "\n",
       "                                                                              4  \\\n",
       "mean_fit_time                                                        168.381224   \n",
       "std_fit_time                                                           1.689116   \n",
       "mean_score_time                                                        0.417143   \n",
       "std_score_time                                                         0.030304   \n",
       "param_clf__n_estimators                                                     100   \n",
       "param_clf__min_samples_split                                               0.42   \n",
       "param_clf__max_samples                                                     0.75   \n",
       "param_clf__max_features                                                    log2   \n",
       "param_clf__max_depth                                                          9   \n",
       "param_clf__criterion                                                       gini   \n",
       "param_clf                     XGBClassifier(base_score=None, booster=None, c...   \n",
       "params                        {'clf__n_estimators': 100, 'clf__min_samples_s...   \n",
       "split0_test_score                                                      0.929628   \n",
       "split1_test_score                                                      0.930569   \n",
       "split2_test_score                                                       0.92918   \n",
       "mean_test_score                                                        0.929792   \n",
       "std_test_score                                                         0.000579   \n",
       "rank_test_score                                                               4   \n",
       "\n",
       "                                                                              5  \\\n",
       "mean_fit_time                                                          1.480426   \n",
       "std_fit_time                                                           0.026014   \n",
       "mean_score_time                                                        0.321513   \n",
       "std_score_time                                                         0.001939   \n",
       "param_clf__n_estimators                                                     100   \n",
       "param_clf__min_samples_split                                               0.34   \n",
       "param_clf__max_samples                                                        1   \n",
       "param_clf__max_features                                                    sqrt   \n",
       "param_clf__max_depth                                                          7   \n",
       "param_clf__criterion                                                    entropy   \n",
       "param_clf                                              RandomForestClassifier()   \n",
       "params                        {'clf__n_estimators': 100, 'clf__min_samples_s...   \n",
       "split0_test_score                                                      0.686363   \n",
       "split1_test_score                                                       0.68788   \n",
       "split2_test_score                                                      0.686352   \n",
       "mean_test_score                                                        0.686865   \n",
       "std_test_score                                                         0.000718   \n",
       "rank_test_score                                                               6   \n",
       "\n",
       "                                                                              6  \\\n",
       "mean_fit_time                                                          0.040508   \n",
       "std_fit_time                                                           0.005735   \n",
       "mean_score_time                                                             0.0   \n",
       "std_score_time                                                              0.0   \n",
       "param_clf__n_estimators                                                     100   \n",
       "param_clf__min_samples_split                                               0.22   \n",
       "param_clf__max_samples                                                      NaN   \n",
       "param_clf__max_features                                                    sqrt   \n",
       "param_clf__max_depth                                                          3   \n",
       "param_clf__criterion                                                       gini   \n",
       "param_clf                                          GradientBoostingClassifier()   \n",
       "params                        {'clf__n_estimators': 100, 'clf__min_samples_s...   \n",
       "split0_test_score                                                           NaN   \n",
       "split1_test_score                                                           NaN   \n",
       "split2_test_score                                                           NaN   \n",
       "mean_test_score                                                             NaN   \n",
       "std_test_score                                                              NaN   \n",
       "rank_test_score                                                               9   \n",
       "\n",
       "                                                                              7  \\\n",
       "mean_fit_time                                                        264.686257   \n",
       "std_fit_time                                                           2.428877   \n",
       "mean_score_time                                                        0.631386   \n",
       "std_score_time                                                         0.134455   \n",
       "param_clf__n_estimators                                                     200   \n",
       "param_clf__min_samples_split                                               0.22   \n",
       "param_clf__max_samples                                                     0.75   \n",
       "param_clf__max_features                                                    sqrt   \n",
       "param_clf__max_depth                                                          7   \n",
       "param_clf__criterion                                                    entropy   \n",
       "param_clf                     XGBClassifier(base_score=None, booster=None, c...   \n",
       "params                        {'clf__n_estimators': 200, 'clf__min_samples_s...   \n",
       "split0_test_score                                                      0.929436   \n",
       "split1_test_score                                                       0.93027   \n",
       "split2_test_score                                                      0.929169   \n",
       "mean_test_score                                                        0.929625   \n",
       "std_test_score                                                         0.000469   \n",
       "rank_test_score                                                               5   \n",
       "\n",
       "                                                                              8  \\\n",
       "mean_fit_time                                                          0.036655   \n",
       "std_fit_time                                                            0.00056   \n",
       "mean_score_time                                                             0.0   \n",
       "std_score_time                                                              0.0   \n",
       "param_clf__n_estimators                                                      50   \n",
       "param_clf__min_samples_split                                                0.3   \n",
       "param_clf__max_samples                                                      NaN   \n",
       "param_clf__max_features                                                    auto   \n",
       "param_clf__max_depth                                                          5   \n",
       "param_clf__criterion                                                    entropy   \n",
       "param_clf                                          GradientBoostingClassifier()   \n",
       "params                        {'clf__n_estimators': 50, 'clf__min_samples_sp...   \n",
       "split0_test_score                                                           NaN   \n",
       "split1_test_score                                                           NaN   \n",
       "split2_test_score                                                           NaN   \n",
       "mean_test_score                                                             NaN   \n",
       "std_test_score                                                              NaN   \n",
       "rank_test_score                                                              10   \n",
       "\n",
       "                                                                              9  \n",
       "mean_fit_time                                                         72.974452  \n",
       "std_fit_time                                                           5.894981  \n",
       "mean_score_time                                                        0.322751  \n",
       "std_score_time                                                         0.048091  \n",
       "param_clf__n_estimators                                                      50  \n",
       "param_clf__min_samples_split                                               0.38  \n",
       "param_clf__max_samples                                                      0.5  \n",
       "param_clf__max_features                                                    auto  \n",
       "param_clf__max_depth                                                          7  \n",
       "param_clf__criterion                                                    entropy  \n",
       "param_clf                     XGBClassifier(base_score=None, booster=None, c...  \n",
       "params                        {'clf__n_estimators': 50, 'clf__min_samples_sp...  \n",
       "split0_test_score                                                      0.931413  \n",
       "split1_test_score                                                      0.931744  \n",
       "split2_test_score                                                      0.930879  \n",
       "mean_test_score                                                        0.931345  \n",
       "std_test_score                                                         0.000357  \n",
       "rank_test_score                                                               1  "
      ]
     },
     "execution_count": 27,
     "metadata": {},
     "output_type": "execute_result"
    }
   ],
   "source": [
    "df_rs_res.head(10).T"
   ]
  },
  {
   "cell_type": "markdown",
   "id": "2598e25e-1ad8-4dc3-862a-4deda729cbb2",
   "metadata": {},
   "source": [
    "#### Review Results\n",
    "\n",
    "Let's review the best model of the random selected models. Load from pickle if necessary."
   ]
  },
  {
   "cell_type": "code",
   "execution_count": null,
   "id": "929df2d8-cebc-495c-97bb-56f010cb8226",
   "metadata": {},
   "outputs": [
    {
     "data": {
      "text/plain": [
       "Pipeline(steps=[('clf',\n",
       "                 XGBClassifier(base_score=0.5, booster='gbtree',\n",
       "                               colsample_bylevel=1, colsample_bynode=1,\n",
       "                               colsample_bytree=1, criterion='entropy', gamma=0,\n",
       "                               gpu_id=-1, importance_type='gain',\n",
       "                               interaction_constraints='',\n",
       "                               learning_rate=0.300000012, max_delta_step=0,\n",
       "                               max_depth=7, max_features='auto',\n",
       "                               max_samples=0.5, min_child_weight=1,\n",
       "                               min_samples_split=0.38, missing=nan,\n",
       "                               monotone_constraints='()', n_estimators=50,\n",
       "                               n_jobs=16, num_parallel_tree=1, random_state=0,\n",
       "                               reg_alpha=0, reg_lambda=1, scale_pos_weight=1,\n",
       "                               subsample=1, tree_method='exact',\n",
       "                               validate_parameters=1, verbosity=None))])"
      ]
     },
     "execution_count": 28,
     "metadata": {},
     "output_type": "execute_result"
    }
   ],
   "source": [
    "rs_results.best_estimator_"
   ]
  },
  {
   "cell_type": "markdown",
   "id": "e8584335-2930-431d-99f6-331dadfd78ca",
   "metadata": {},
   "source": [
    "Let's look at the best accuracy score, and the parameters that produced them."
   ]
  },
  {
   "cell_type": "code",
   "execution_count": null,
   "id": "56c3099d-76a6-4dd6-aa70-8d75e3146bcb",
   "metadata": {},
   "outputs": [
    {
     "data": {
      "text/plain": [
       "0.9313452079482275"
      ]
     },
     "metadata": {},
     "output_type": "display_data"
    },
    {
     "data": {
      "text/plain": [
       "{'clf__n_estimators': 50,\n",
       " 'clf__min_samples_split': 0.38,\n",
       " 'clf__max_samples': 0.5,\n",
       " 'clf__max_features': 'auto',\n",
       " 'clf__max_depth': 7,\n",
       " 'clf__criterion': 'entropy',\n",
       " 'clf': XGBClassifier(base_score=None, booster=None, colsample_bylevel=None,\n",
       "               colsample_bynode=None, colsample_bytree=None, criterion='entropy',\n",
       "               gamma=None, gpu_id=None, importance_type='gain',\n",
       "               interaction_constraints=None, learning_rate=None,\n",
       "               max_delta_step=None, max_depth=7, max_features='auto',\n",
       "               max_samples=0.5, min_child_weight=None, min_samples_split=0.38,\n",
       "               missing=nan, monotone_constraints=None, n_estimators=50,\n",
       "               n_jobs=None, num_parallel_tree=None, random_state=None,\n",
       "               reg_alpha=None, reg_lambda=None, scale_pos_weight=None,\n",
       "               subsample=None, tree_method=None, validate_parameters=None,\n",
       "               verbosity=None)}"
      ]
     },
     "metadata": {},
     "output_type": "display_data"
    }
   ],
   "source": [
    "display(rs_results.best_score_, rs_results.best_params_)"
   ]
  },
  {
   "cell_type": "markdown",
   "id": "52e0796f-d45d-40ff-a51d-b8946228714c",
   "metadata": {},
   "source": [
    "Let's look at it as an estimator object."
   ]
  },
  {
   "cell_type": "code",
   "execution_count": null,
   "id": "a9e9216c-e0f7-4240-b526-27c2d59cba77",
   "metadata": {
    "tags": []
   },
   "outputs": [
    {
     "data": {
      "text/plain": [
       "Pipeline(steps=[('clf',\n",
       "                 XGBClassifier(base_score=0.5, booster='gbtree',\n",
       "                               colsample_bylevel=1, colsample_bynode=1,\n",
       "                               colsample_bytree=1, criterion='entropy', gamma=0,\n",
       "                               gpu_id=-1, importance_type='gain',\n",
       "                               interaction_constraints='',\n",
       "                               learning_rate=0.300000012, max_delta_step=0,\n",
       "                               max_depth=7, max_features='auto',\n",
       "                               max_samples=0.5, min_child_weight=1,\n",
       "                               min_samples_split=0.38, missing=nan,\n",
       "                               monotone_constraints='()', n_estimators=50,\n",
       "                               n_jobs=16, num_parallel_tree=1, random_state=0,\n",
       "                               reg_alpha=0, reg_lambda=1, scale_pos_weight=1,\n",
       "                               subsample=1, tree_method='exact',\n",
       "                               validate_parameters=1, verbosity=None))])"
      ]
     },
     "metadata": {},
     "output_type": "display_data"
    }
   ],
   "source": [
    "rs_best = rs_results.best_estimator_\n",
    "display(rs_best)"
   ]
  },
  {
   "cell_type": "markdown",
   "id": "2d03e6e1-db8d-482b-8b7d-d895fa46da73",
   "metadata": {},
   "source": [
    "Now let's look at performance vs Test."
   ]
  },
  {
   "cell_type": "code",
   "execution_count": null,
   "id": "824a10c9-3c11-47dc-a8a5-2375a2c961ee",
   "metadata": {},
   "outputs": [
    {
     "data": {
      "text/plain": [
       "'test accuracy: 0.931601891953499'"
      ]
     },
     "metadata": {},
     "output_type": "display_data"
    },
    {
     "data": {
      "text/plain": [
       "'train accuracy: 0.9313452079482275'"
      ]
     },
     "metadata": {},
     "output_type": "display_data"
    }
   ],
   "source": [
    "display(f\"test accuracy: {rs_best.score(X_test, y_test)}\")\n",
    "display(f\"train accuracy: {rs_results.best_score_}\")"
   ]
  },
  {
   "cell_type": "markdown",
   "id": "03e66852-72db-426f-98d2-be1220b5b902",
   "metadata": {},
   "source": [
    "Consistent, and aligns. That Test score is a smidge higher than train is a little weird, but isn't egregiously so, so will go with it for now."
   ]
  },
  {
   "cell_type": "markdown",
   "id": "ab2ea030-2591-4ca3-b829-ba3b0af68100",
   "metadata": {},
   "source": [
    "Let's get some predictions and review some high level classification metrics:"
   ]
  },
  {
   "cell_type": "code",
   "execution_count": null,
   "id": "fac1d3e6-fa28-4cd8-9fc8-2e17dcdebd7f",
   "metadata": {},
   "outputs": [],
   "source": [
    "rs_pred = rs_best.predict(X_test)"
   ]
  },
  {
   "cell_type": "markdown",
   "id": "341b590e-455f-4ebd-90b5-98aa6c97f9d9",
   "metadata": {},
   "source": [
    "*Confusion Matrix*"
   ]
  },
  {
   "cell_type": "code",
   "execution_count": null,
   "id": "76fb661e-fc02-4ef3-9f28-82c5e8bee79e",
   "metadata": {},
   "outputs": [],
   "source": [
    "from sklearn.metrics import (confusion_matrix, precision_score, recall_score\n",
    "                             ,plot_roc_curve\n",
    "                            )"
   ]
  },
  {
   "cell_type": "code",
   "execution_count": null,
   "id": "195d2d59-ff3f-4679-82ea-2679ec000be6",
   "metadata": {},
   "outputs": [
    {
     "data": {
      "text/plain": [
       "array([[45697,  2515],\n",
       "       [ 2286, 19694]])"
      ]
     },
     "metadata": {},
     "output_type": "display_data"
    }
   ],
   "source": [
    "cm = confusion_matrix(y_test, rs_pred)\n",
    "display(cm)"
   ]
  },
  {
   "cell_type": "markdown",
   "id": "0292f14c-7b50-4080-ab0b-53e08a3beda4",
   "metadata": {},
   "source": [
    "*Accuracy*"
   ]
  },
  {
   "cell_type": "code",
   "execution_count": null,
   "id": "f21711f9-ec8b-4140-bcdc-ac6311466bdc",
   "metadata": {},
   "outputs": [
    {
     "data": {
      "text/plain": [
       "'What % of pitches did we correctly categorize?'"
      ]
     },
     "metadata": {},
     "output_type": "display_data"
    },
    {
     "data": {
      "text/plain": [
       "'test accuracy: 0.932'"
      ]
     },
     "metadata": {},
     "output_type": "display_data"
    }
   ],
   "source": [
    "display(\"What % of pitches did we correctly categorize?\")\n",
    "display(f\"test accuracy: {round(rs_best.score(X_test, y_test), 3)}\")"
   ]
  },
  {
   "cell_type": "markdown",
   "id": "5bb9aa10-00aa-4acc-a837-e6e961860d13",
   "metadata": {},
   "source": [
    "*Precision*"
   ]
  },
  {
   "cell_type": "code",
   "execution_count": null,
   "id": "f4f6fb94-fb75-4ce7-ae51-e346e355561d",
   "metadata": {},
   "outputs": [
    {
     "data": {
      "text/plain": [
       "'What % predicted strikes did we get correct?'"
      ]
     },
     "metadata": {},
     "output_type": "display_data"
    },
    {
     "data": {
      "text/plain": [
       "'Positive Predictive Value: 0.88676'"
      ]
     },
     "metadata": {},
     "output_type": "display_data"
    }
   ],
   "source": [
    "precision = precision_score(y_test, rs_pred)\n",
    "display(\"What % predicted strikes did we get correct?\")\n",
    "display(f\"Positive Predictive Value: {round(precision,5)}\")"
   ]
  },
  {
   "cell_type": "markdown",
   "id": "4cfc7e9a-f72e-499c-a35c-16958c2a701e",
   "metadata": {},
   "source": [
    "*Recall*"
   ]
  },
  {
   "cell_type": "code",
   "execution_count": null,
   "id": "b527f3fb-3f4e-4442-93cc-13bdd1c3335c",
   "metadata": {},
   "outputs": [
    {
     "data": {
      "text/plain": [
       "'What percent of actual strikes did we get capture?'"
      ]
     },
     "metadata": {},
     "output_type": "display_data"
    },
    {
     "data": {
      "text/plain": [
       "'True Positive Rate: 0.896'"
      ]
     },
     "metadata": {},
     "output_type": "display_data"
    }
   ],
   "source": [
    "recall = recall_score(y_test, rs_pred)\n",
    "display(\"What percent of actual strikes did we get capture?\")\n",
    "display(f\"True Positive Rate: {round(recall, 5)}\")"
   ]
  },
  {
   "cell_type": "markdown",
   "id": "383452e8-766f-4136-ad3a-ef60ebcba0da",
   "metadata": {},
   "source": [
    "*ROC/AUC*"
   ]
  },
  {
   "cell_type": "code",
   "execution_count": null,
   "id": "a5adb410-570d-49e9-bfdb-28d90c6ae77c",
   "metadata": {},
   "outputs": [
    {
     "data": {
      "image/png": "[encoded data removed]",
      "text/plain": [
       "<Figure size 432x288 with 1 Axes>"
      ]
     },
     "metadata": {
      "needs_background": "light"
     },
     "output_type": "display_data"
    }
   ],
   "source": [
    "fpr, tpr, thresholds = roc_curve(y_test, rs_best.predict_proba(X_test)[:,1])\n",
    "roc_auc = auc(fpr, tpr)\n",
    "roc_display = RocCurveDisplay(fpr=fpr, tpr=tpr, roc_auc=roc_auc)\n",
    "roc_display.plot()\n",
    "plt.show()"
   ]
  },
  {
   "cell_type": "markdown",
   "id": "4a64b5a0-47b6-4cf6-82ba-c851faa44042",
   "metadata": {},
   "source": [
    "AUC of 0.98!"
   ]
  },
  {
   "cell_type": "markdown",
   "id": "0739cd97-0ee2-456e-b70e-508fe2d36df6",
   "metadata": {},
   "source": [
    "---  \n",
    "\n",
    "<span style=\"font-size:0.5em;\">Tag 5</span>\n",
    "\n",
    "### Summary <a id='summary'></a>\n",
    "\n",
    "<span style=\"font-size:0.5em;\"><a href='#toc_6'>Back to TOC</a></span>"
   ]
  },
  {
   "cell_type": "markdown",
   "id": "608bbb32-1917-4c56-b3c8-04e887944e16",
   "metadata": {},
   "source": [
    "Show best model again:"
   ]
  },
  {
   "cell_type": "code",
   "execution_count": null,
   "id": "cfad45e8-fa40-4172-8656-90b0dbdf4b4f",
   "metadata": {},
   "outputs": [],
   "source": [
    "rs_best.get_params"
   ]
  },
  {
   "cell_type": "markdown",
   "id": "cb3ce25a-e8fa-460a-83f2-34fa9b47f173",
   "metadata": {},
   "source": [
    "<span style=\"color:blue\">\n",
    "    \n",
    "Our metric of choice is Accuracy, and the best model found by the random search over **10** iterations had a:  \n",
    "\n",
    "- training accuracy of **0.931**\n",
    "- test accuracy was **0.931** as well\n",
    "    \n",
    "The best model is an **XGBoost classifier**.\n",
    "\n",
    "Other classification metrics for context are:\n",
    "- Precision/Positive Predictive Value: **0.887**\n",
    "- Recall/True Positive Rate: **0.896**\n",
    "- ROC AUC: **0.98**\n",
    "\n",
    "All these metrics I would consider to be very good performance, contigent on specific use case of ultimate customer(s). For example a requirement might that the customer might want to maximize PPV as much as possible and would like to target >0.90.\n",
    "    \n",
    "Also, note that these results are actually a little better across the board vs our most <u>[recent neural network](./05_improved_neural_network.ipynb)</u>! But let's keep in mind the improvements in the hundredths.\n",
    "    \n",
    "</span>"
   ]
  },
  {
   "cell_type": "markdown",
   "id": "01e2106a-a7f8-48b2-994a-790c5ffc85f8",
   "metadata": {},
   "source": [
    "<span style=\"color:blue\">\n",
    "Compare this to the first run, before the addition of 8 more features:\n",
    "</span>"
   ]
  },
  {
   "cell_type": "markdown",
   "id": "7902a5fa-3fe9-45e1-a29d-44c1ab2514f0",
   "metadata": {},
   "source": [
    "<span style=\"color:dodgerblue\">\n",
    "\n",
    "Was also a **XGBoost classifier**.\n",
    "\n",
    "- training accuracy of **0.928**\n",
    "- test accuracy was **0.928** as well\n",
    "\n",
    "Other classification metrics for context are:\n",
    "- Precision/Positive Predictive Value: **0.885**\n",
    "- Recall/True Positive Rate: **0.885**\n",
    "- ROC AUC: **0.98**\n",
    "</span>"
   ]
  },
  {
   "cell_type": "markdown",
   "id": "0c6a1a19-8063-448a-9998-52a41982563e",
   "metadata": {},
   "source": [
    "<span style=\"color:blue\">\n",
    "This run is an improvement over that as well (again we're talking about differences in the hundredths).\n",
    "</span>"
   ]
  },
  {
   "cell_type": "markdown",
   "id": "a63e1601-6c60-4f5e-9c06-bb5313a49967",
   "metadata": {},
   "source": [
    "<span style=color:blue>    \n",
    "**So is it worth it to add these features? I think on balance it is.** \n",
    "    \n",
    "My reasoning is that I consider the addition of them:\n",
    "\n",
    "- `bside`\n",
    "- `pside`\n",
    "- `break_x`\n",
    "- `break_z`\n",
    "- `angle_x`\n",
    "- `angle_z`\n",
    "- `pitch_speed`\n",
    "        \n",
    "...to be 'costless', on the assumption that whatever process captures the original features that were used in the first run also 'simultaneously' capture these additional features; so no substantial extra effort is required to gather the data.\n",
    "</span>"
   ]
  },
  {
   "cell_type": "markdown",
   "id": "9aa09431-0d9b-4707-be97-4ccf0957b51e",
   "metadata": {},
   "source": [
    "---  \n",
    "\n",
    "<span style=\"font-size:0.5em;\">Tag 5</span>\n",
    "\n",
    "#### (Re-)Tuning (+GBMs)<a id='tuning'></a>\n",
    "\n",
    "<span style=\"font-size:0.5em;\"><a href='#toc_6'>Back to TOC</a></span>"
   ]
  },
  {
   "cell_type": "markdown",
   "id": "727b94f6-a7ec-449e-8323-331e81a13612",
   "metadata": {},
   "source": [
    "Let's do another round of random searching, just to make sure we get decent coverage of potential parameters.\n",
    "\n",
    "While the best classifer last round as an XGBoost classifier, on average was it the best?"
   ]
  },
  {
   "cell_type": "code",
   "execution_count": null,
   "id": "69854174-ba18-4752-8112-baefaab85453",
   "metadata": {},
   "outputs": [],
   "source": [
    "#Declare again if picking up again after kernel restart\n",
    "class DummyEstimator(BaseEstimator):\n",
    "    def fit(self): pass\n",
    "    def score(self): pass"
   ]
  },
  {
   "cell_type": "code",
   "execution_count": null,
   "id": "584a94d1-79a5-449e-a805-37451fbaf74f",
   "metadata": {},
   "outputs": [],
   "source": [
    "df_rs_res = pd.DataFrame(rs_results.cv_results_)"
   ]
  },
  {
   "cell_type": "code",
   "execution_count": null,
   "id": "7e6cef27-39a3-40a4-988a-45f6f5d99122",
   "metadata": {},
   "outputs": [
    {
     "data": {
      "application/com.datacamp.data-table.v1+json": {
       "is_truncated": false,
       "table": {
        "data": [
         {
          "0": 79.7628919284,
          "1": 7.0040990512,
          "2": 151.2517761389,
          "3": 1.6128745874,
          "4": 168.3812239965,
          "5": 1.4804257552,
          "6": 0.0405081908,
          "7": 264.6862568061,
          "8": 0.0366549492,
          "9": 72.9744517008,
          "index": "mean_fit_time"
         },
         {
          "0": 2.2585060569,
          "1": 0.2752993114,
          "2": 3.2926609302,
          "3": 0.0312506591,
          "4": 1.6891155393,
          "5": 0.0260144071,
          "6": 0.0057345464,
          "7": 2.4288772944,
          "8": 0.0005602102,
          "9": 5.8949811028,
          "index": "std_fit_time"
         },
         {
          "0": 0.4487094084,
          "1": 0.4296916326,
          "2": 0.4136993885,
          "3": 0.3199222088,
          "4": 0.4171425502,
          "5": 0.3215133349,
          "6": 0,
          "7": 0.6313856443,
          "8": 0,
          "9": 0.3227508863,
          "index": "mean_score_time"
         },
         {
          "0": 0.1666085563,
          "1": 0.0042337805,
          "2": 0.0383645125,
          "3": 0.0015566463,
          "4": 0.0303044377,
          "5": 0.0019393216,
          "6": 0,
          "7": 0.1344553467,
          "8": 0,
          "9": 0.0480910389,
          "index": "std_score_time"
         },
         {
          "0": 50,
          "1": 100,
          "2": 200,
          "3": 100,
          "4": 100,
          "5": 100,
          "6": 100,
          "7": 200,
          "8": 50,
          "9": 50,
          "index": "param_clf__n_estimators"
         },
         {
          "0": 0.18,
          "1": 0.34,
          "2": 0.14,
          "3": 0.26,
          "4": 0.42,
          "5": 0.34,
          "6": 0.22,
          "7": 0.22,
          "8": 0.3,
          "9": 0.38,
          "index": "param_clf__min_samples_split"
         },
         {
          "0": 0.25,
          "1": 0.75,
          "2": 0.5,
          "3": 0.25,
          "4": 0.75,
          "5": 1,
          "6": null,
          "7": 0.75,
          "8": null,
          "9": 0.5,
          "index": "param_clf__max_samples"
         },
         {
          "0": "sqrt",
          "1": "sqrt",
          "2": "log2",
          "3": "log2",
          "4": "log2",
          "5": "sqrt",
          "6": "sqrt",
          "7": "sqrt",
          "8": "auto",
          "9": "auto",
          "index": "param_clf__max_features"
         },
         {
          "0": 8,
          "1": 3,
          "2": 4,
          "3": 10,
          "4": 9,
          "5": 7,
          "6": 3,
          "7": 7,
          "8": 5,
          "9": 7,
          "index": "param_clf__max_depth"
         },
         {
          "0": "entropy",
          "1": "gini",
          "2": "gini",
          "3": "gini",
          "4": "gini",
          "5": "entropy",
          "6": "gini",
          "7": "entropy",
          "8": "entropy",
          "9": "entropy",
          "index": "param_clf__criterion"
         },
         {
          "0": {
           "base_score": null,
           "colsample_bylevel": null,
           "colsample_bytree": null,
           "gamma": null,
           "gpu_id": null,
           "interaction_constraints": null,
           "kwargs": {
            "criterion": "entropy",
            "max_features": "auto",
            "max_samples": 0.5,
            "min_samples_split": 0.38
           },
           "max_delta_step": null,
           "min_child_weight": null,
           "monotone_constraints": null,
           "n_jobs": null,
           "objective": "binary:logistic",
           "random_state": null,
           "reg_lambda": null,
           "scale_pos_weight": null,
           "subsample": null,
           "use_label_encoder": true,
           "verbosity": null
          },
          "1": {
           "base_estimator": {
            "ccp_alpha": 0,
            "criterion": "gini",
            "max_depth": null,
            "max_leaf_nodes": null,
            "min_samples_leaf": 1,
            "min_weight_fraction_leaf": 0,
            "random_state": null,
            "splitter": "best"
           },
           "ccp_alpha": 0,
           "criterion": "gini",
           "estimator_params": [
            "criterion",
            "max_depth",
            "min_samples_split",
            "min_samples_leaf",
            "min_weight_fraction_leaf",
            "max_features",
            "max_leaf_nodes",
            "min_impurity_decrease",
            "random_state",
            "ccp_alpha"
           ],
           "max_depth": null,
           "max_leaf_nodes": null,
           "min_impurity_decrease": 0,
           "min_samples_split": 2,
           "n_estimators": 100,
           "n_jobs": null,
           "random_state": null,
           "verbose": 0
          },
          "2": {
           "base_score": null,
           "colsample_bylevel": null,
           "colsample_bytree": null,
           "gamma": null,
           "gpu_id": null,
           "interaction_constraints": null,
           "kwargs": {
            "criterion": "entropy",
            "max_features": "auto",
            "max_samples": 0.5,
            "min_samples_split": 0.38
           },
           "max_delta_step": null,
           "min_child_weight": null,
           "monotone_constraints": null,
           "n_jobs": null,
           "objective": "binary:logistic",
           "random_state": null,
           "reg_lambda": null,
           "scale_pos_weight": null,
           "subsample": null,
           "use_label_encoder": true,
           "verbosity": null
          },
          "3": {
           "base_estimator": {
            "ccp_alpha": 0,
            "criterion": "gini",
            "max_depth": null,
            "max_leaf_nodes": null,
            "min_samples_leaf": 1,
            "min_weight_fraction_leaf": 0,
            "random_state": null,
            "splitter": "best"
           },
           "ccp_alpha": 0,
           "criterion": "gini",
           "estimator_params": [
            "criterion",
            "max_depth",
            "min_samples_split",
            "min_samples_leaf",
            "min_weight_fraction_leaf",
            "max_features",
            "max_leaf_nodes",
            "min_impurity_decrease",
            "random_state",
            "ccp_alpha"
           ],
           "max_depth": null,
           "max_leaf_nodes": null,
           "min_impurity_decrease": 0,
           "min_samples_split": 2,
           "n_estimators": 100,
           "n_jobs": null,
           "random_state": null,
           "verbose": 0
          },
          "4": {
           "base_score": null,
           "colsample_bylevel": null,
           "colsample_bytree": null,
           "gamma": null,
           "gpu_id": null,
           "interaction_constraints": null,
           "kwargs": {
            "criterion": "entropy",
            "max_features": "auto",
            "max_samples": 0.5,
            "min_samples_split": 0.38
           },
           "max_delta_step": null,
           "min_child_weight": null,
           "monotone_constraints": null,
           "n_jobs": null,
           "objective": "binary:logistic",
           "random_state": null,
           "reg_lambda": null,
           "scale_pos_weight": null,
           "subsample": null,
           "use_label_encoder": true,
           "verbosity": null
          },
          "5": {
           "base_estimator": {
            "ccp_alpha": 0,
            "criterion": "gini",
            "max_depth": null,
            "max_leaf_nodes": null,
            "min_samples_leaf": 1,
            "min_weight_fraction_leaf": 0,
            "random_state": null,
            "splitter": "best"
           },
           "ccp_alpha": 0,
           "criterion": "gini",
           "estimator_params": [
            "criterion",
            "max_depth",
            "min_samples_split",
            "min_samples_leaf",
            "min_weight_fraction_leaf",
            "max_features",
            "max_leaf_nodes",
            "min_impurity_decrease",
            "random_state",
            "ccp_alpha"
           ],
           "max_depth": null,
           "max_leaf_nodes": null,
           "min_impurity_decrease": 0,
           "min_samples_split": 2,
           "n_estimators": 100,
           "n_jobs": null,
           "random_state": null,
           "verbose": 0
          },
          "6": {
           "alpha": 0.9,
           "ccp_alpha": 0,
           "init": null,
           "loss": "deviance",
           "max_features": null,
           "min_impurity_decrease": 0,
           "min_samples_split": 2,
           "n_estimators": 100,
           "n_iter_no_change": null,
           "random_state": null,
           "subsample": 1,
           "validation_fraction": 0.1,
           "warm_start": false
          },
          "7": {
           "base_score": null,
           "colsample_bylevel": null,
           "colsample_bytree": null,
           "gamma": null,
           "gpu_id": null,
           "interaction_constraints": null,
           "kwargs": {
            "criterion": "entropy",
            "max_features": "auto",
            "max_samples": 0.5,
            "min_samples_split": 0.38
           },
           "max_delta_step": null,
           "min_child_weight": null,
           "monotone_constraints": null,
           "n_jobs": null,
           "objective": "binary:logistic",
           "random_state": null,
           "reg_lambda": null,
           "scale_pos_weight": null,
           "subsample": null,
           "use_label_encoder": true,
           "verbosity": null
          },
          "8": {
           "alpha": 0.9,
           "ccp_alpha": 0,
           "init": null,
           "loss": "deviance",
           "max_features": null,
           "min_impurity_decrease": 0,
           "min_samples_split": 2,
           "n_estimators": 100,
           "n_iter_no_change": null,
           "random_state": null,
           "subsample": 1,
           "validation_fraction": 0.1,
           "warm_start": false
          },
          "9": {
           "base_score": null,
           "colsample_bylevel": null,
           "colsample_bytree": null,
           "gamma": null,
           "gpu_id": null,
           "interaction_constraints": null,
           "kwargs": {
            "criterion": "entropy",
            "max_features": "auto",
            "max_samples": 0.5,
            "min_samples_split": 0.38
           },
           "max_delta_step": null,
           "min_child_weight": null,
           "monotone_constraints": null,
           "n_jobs": null,
           "objective": "binary:logistic",
           "random_state": null,
           "reg_lambda": null,
           "scale_pos_weight": null,
           "subsample": null,
           "use_label_encoder": true,
           "verbosity": null
          },
          "index": "param_clf"
         },
         {
          "0": {
           "clf": {
            "base_score": null,
            "colsample_bylevel": null,
            "colsample_bytree": null,
            "gamma": null,
            "gpu_id": null,
            "interaction_constraints": null,
            "kwargs": {
             "criterion": "entropy",
             "max_features": "auto",
             "max_samples": 0.5,
             "min_samples_split": 0.38
            },
            "max_delta_step": null,
            "min_child_weight": null,
            "monotone_constraints": null,
            "n_jobs": null,
            "objective": "binary:logistic",
            "random_state": null,
            "reg_lambda": null,
            "scale_pos_weight": null,
            "subsample": null,
            "use_label_encoder": true,
            "verbosity": null
           },
           "clf__criterion": "entropy",
           "clf__max_depth": 8,
           "clf__max_features": "sqrt",
           "clf__max_samples": 0.25,
           "clf__min_samples_split": 0.18,
           "clf__n_estimators": 50
          },
          "1": {
           "clf": {
            "base_estimator": {
             "ccp_alpha": 0,
             "criterion": "gini",
             "max_depth": null,
             "max_leaf_nodes": null,
             "min_samples_leaf": 1,
             "min_weight_fraction_leaf": 0,
             "random_state": null,
             "splitter": "best"
            },
            "ccp_alpha": 0,
            "criterion": "gini",
            "estimator_params": [
             "criterion",
             "max_depth",
             "min_samples_split",
             "min_samples_leaf",
             "min_weight_fraction_leaf",
             "max_features",
             "max_leaf_nodes",
             "min_impurity_decrease",
             "random_state",
             "ccp_alpha"
            ],
            "max_depth": null,
            "max_leaf_nodes": null,
            "min_impurity_decrease": 0,
            "min_samples_split": 2,
            "n_estimators": 100,
            "n_jobs": null,
            "random_state": null,
            "verbose": 0
           },
           "clf__criterion": "gini",
           "clf__max_depth": 3,
           "clf__max_features": "sqrt",
           "clf__max_samples": 0.75,
           "clf__min_samples_split": 0.34,
           "clf__n_estimators": 100
          },
          "2": {
           "clf": {
            "base_score": null,
            "colsample_bylevel": null,
            "colsample_bytree": null,
            "gamma": null,
            "gpu_id": null,
            "interaction_constraints": null,
            "kwargs": {
             "criterion": "entropy",
             "max_features": "auto",
             "max_samples": 0.5,
             "min_samples_split": 0.38
            },
            "max_delta_step": null,
            "min_child_weight": null,
            "monotone_constraints": null,
            "n_jobs": null,
            "objective": "binary:logistic",
            "random_state": null,
            "reg_lambda": null,
            "scale_pos_weight": null,
            "subsample": null,
            "use_label_encoder": true,
            "verbosity": null
           },
           "clf__criterion": "gini",
           "clf__max_depth": 4,
           "clf__max_features": "log2",
           "clf__max_samples": 0.5,
           "clf__min_samples_split": 0.14,
           "clf__n_estimators": 200
          },
          "3": {
           "clf": {
            "base_estimator": {
             "ccp_alpha": 0,
             "criterion": "gini",
             "max_depth": null,
             "max_leaf_nodes": null,
             "min_samples_leaf": 1,
             "min_weight_fraction_leaf": 0,
             "random_state": null,
             "splitter": "best"
            },
            "ccp_alpha": 0,
            "criterion": "gini",
            "estimator_params": [
             "criterion",
             "max_depth",
             "min_samples_split",
             "min_samples_leaf",
             "min_weight_fraction_leaf",
             "max_features",
             "max_leaf_nodes",
             "min_impurity_decrease",
             "random_state",
             "ccp_alpha"
            ],
            "max_depth": null,
            "max_leaf_nodes": null,
            "min_impurity_decrease": 0,
            "min_samples_split": 2,
            "n_estimators": 100,
            "n_jobs": null,
            "random_state": null,
            "verbose": 0
           },
           "clf__criterion": "gini",
           "clf__max_depth": 10,
           "clf__max_features": "log2",
           "clf__max_samples": 0.25,
           "clf__min_samples_split": 0.26,
           "clf__n_estimators": 100
          },
          "4": {
           "clf": {
            "base_score": null,
            "colsample_bylevel": null,
            "colsample_bytree": null,
            "gamma": null,
            "gpu_id": null,
            "interaction_constraints": null,
            "kwargs": {
             "criterion": "entropy",
             "max_features": "auto",
             "max_samples": 0.5,
             "min_samples_split": 0.38
            },
            "max_delta_step": null,
            "min_child_weight": null,
            "monotone_constraints": null,
            "n_jobs": null,
            "objective": "binary:logistic",
            "random_state": null,
            "reg_lambda": null,
            "scale_pos_weight": null,
            "subsample": null,
            "use_label_encoder": true,
            "verbosity": null
           },
           "clf__criterion": "gini",
           "clf__max_depth": 9,
           "clf__max_features": "log2",
           "clf__max_samples": 0.75,
           "clf__min_samples_split": 0.42,
           "clf__n_estimators": 100
          },
          "5": {
           "clf": {
            "base_estimator": {
             "ccp_alpha": 0,
             "criterion": "gini",
             "max_depth": null,
             "max_leaf_nodes": null,
             "min_samples_leaf": 1,
             "min_weight_fraction_leaf": 0,
             "random_state": null,
             "splitter": "best"
            },
            "ccp_alpha": 0,
            "criterion": "gini",
            "estimator_params": [
             "criterion",
             "max_depth",
             "min_samples_split",
             "min_samples_leaf",
             "min_weight_fraction_leaf",
             "max_features",
             "max_leaf_nodes",
             "min_impurity_decrease",
             "random_state",
             "ccp_alpha"
            ],
            "max_depth": null,
            "max_leaf_nodes": null,
            "min_impurity_decrease": 0,
            "min_samples_split": 2,
            "n_estimators": 100,
            "n_jobs": null,
            "random_state": null,
            "verbose": 0
           },
           "clf__criterion": "entropy",
           "clf__max_depth": 7,
           "clf__max_features": "sqrt",
           "clf__max_samples": 1,
           "clf__min_samples_split": 0.34,
           "clf__n_estimators": 100
          },
          "6": {
           "clf": {
            "alpha": 0.9,
            "ccp_alpha": 0,
            "init": null,
            "loss": "deviance",
            "max_features": null,
            "min_impurity_decrease": 0,
            "min_samples_split": 2,
            "n_estimators": 100,
            "n_iter_no_change": null,
            "random_state": null,
            "subsample": 1,
            "validation_fraction": 0.1,
            "warm_start": false
           },
           "clf__criterion": "gini",
           "clf__max_depth": 3,
           "clf__max_features": "sqrt",
           "clf__min_samples_split": 0.22,
           "clf__n_estimators": 100
          },
          "7": {
           "clf": {
            "base_score": null,
            "colsample_bylevel": null,
            "colsample_bytree": null,
            "gamma": null,
            "gpu_id": null,
            "interaction_constraints": null,
            "kwargs": {
             "criterion": "entropy",
             "max_features": "auto",
             "max_samples": 0.5,
             "min_samples_split": 0.38
            },
            "max_delta_step": null,
            "min_child_weight": null,
            "monotone_constraints": null,
            "n_jobs": null,
            "objective": "binary:logistic",
            "random_state": null,
            "reg_lambda": null,
            "scale_pos_weight": null,
            "subsample": null,
            "use_label_encoder": true,
            "verbosity": null
           },
           "clf__criterion": "entropy",
           "clf__max_depth": 7,
           "clf__max_features": "sqrt",
           "clf__max_samples": 0.75,
           "clf__min_samples_split": 0.22,
           "clf__n_estimators": 200
          },
          "8": {
           "clf": {
            "alpha": 0.9,
            "ccp_alpha": 0,
            "init": null,
            "loss": "deviance",
            "max_features": null,
            "min_impurity_decrease": 0,
            "min_samples_split": 2,
            "n_estimators": 100,
            "n_iter_no_change": null,
            "random_state": null,
            "subsample": 1,
            "validation_fraction": 0.1,
            "warm_start": false
           },
           "clf__criterion": "entropy",
           "clf__max_depth": 5,
           "clf__max_features": "auto",
           "clf__min_samples_split": 0.3,
           "clf__n_estimators": 50
          },
          "9": {
           "clf": {
            "base_score": null,
            "colsample_bylevel": null,
            "colsample_bytree": null,
            "gamma": null,
            "gpu_id": null,
            "interaction_constraints": null,
            "kwargs": {
             "criterion": "entropy",
             "max_features": "auto",
             "max_samples": 0.5,
             "min_samples_split": 0.38
            },
            "max_delta_step": null,
            "min_child_weight": null,
            "monotone_constraints": null,
            "n_jobs": null,
            "objective": "binary:logistic",
            "random_state": null,
            "reg_lambda": null,
            "scale_pos_weight": null,
            "subsample": null,
            "use_label_encoder": true,
            "verbosity": null
           },
           "clf__criterion": "entropy",
           "clf__max_depth": 7,
           "clf__max_features": "auto",
           "clf__max_samples": 0.5,
           "clf__min_samples_split": 0.38,
           "clf__n_estimators": 50
          },
          "index": "params"
         },
         {
          "0": 0.9308145188,
          "1": 0.6863627136,
          "2": 0.9308679439,
          "3": 0.6863627136,
          "4": 0.929628482,
          "5": 0.6863627136,
          "6": null,
          "7": 0.9294361517,
          "8": null,
          "9": 0.9314128797,
          "index": "split0_test_score"
         },
         {
          "0": 0.9321287758,
          "1": 0.6878799859,
          "2": 0.9315197299,
          "3": 0.6878799859,
          "4": 0.9305687634,
          "5": 0.6878799859,
          "6": null,
          "7": 0.930269583,
          "8": null,
          "9": 0.9317441152,
          "index": "split1_test_score"
         },
         {
          "0": 0.930312323,
          "1": 0.6863520286,
          "2": 0.9306115035,
          "3": 0.6863520286,
          "4": 0.9291797113,
          "5": 0.6863520286,
          "6": null,
          "7": 0.9291690263,
          "8": null,
          "9": 0.9308786289,
          "index": "split2_test_score"
         },
         {
          "0": 0.9310852059,
          "1": 0.6868649093,
          "2": 0.9309997258,
          "3": 0.6868649093,
          "4": 0.9297923189,
          "5": 0.6868649093,
          "6": null,
          "7": 0.9296249203,
          "8": null,
          "9": 0.9313452079,
          "index": "mean_test_score"
         },
         {
          "0": 0.0007658672,
          "1": 0.0007177808,
          "2": 0.000382312,
          "3": 0.0007177808,
          "4": 0.0005787909,
          "5": 0.0007177808,
          "6": null,
          "7": 0.0004687085,
          "8": null,
          "9": 0.0003565588,
          "index": "std_test_score"
         },
         {
          "0": 2,
          "1": 6,
          "2": 3,
          "3": 6,
          "4": 4,
          "5": 6,
          "6": 9,
          "7": 5,
          "8": 10,
          "9": 1,
          "index": "rank_test_score"
         }
        ],
        "schema": {
         "fields": [
          {
           "name": "index",
           "type": "string"
          },
          {
           "name": 0,
           "type": "string"
          },
          {
           "name": 1,
           "type": "string"
          },
          {
           "name": 2,
           "type": "string"
          },
          {
           "name": 3,
           "type": "string"
          },
          {
           "name": 4,
           "type": "string"
          },
          {
           "name": 5,
           "type": "string"
          },
          {
           "name": 6,
           "type": "string"
          },
          {
           "name": 7,
           "type": "string"
          },
          {
           "name": 8,
           "type": "string"
          },
          {
           "name": 9,
           "type": "string"
          }
         ],
         "pandas_version": "0.20.0",
         "primaryKey": [
          "index"
         ]
        }
       },
       "total_rows": 18
      },
      "text/html": [
       "<div>\n",
       "<style scoped>\n",
       "    .dataframe tbody tr th:only-of-type {\n",
       "        vertical-align: middle;\n",
       "    }\n",
       "\n",
       "    .dataframe tbody tr th {\n",
       "        vertical-align: top;\n",
       "    }\n",
       "\n",
       "    .dataframe thead th {\n",
       "        text-align: right;\n",
       "    }\n",
       "</style>\n",
       "<table border=\"1\" class=\"dataframe\">\n",
       "  <thead>\n",
       "    <tr style=\"text-align: right;\">\n",
       "      <th></th>\n",
       "      <th>0</th>\n",
       "      <th>1</th>\n",
       "      <th>2</th>\n",
       "      <th>3</th>\n",
       "      <th>4</th>\n",
       "      <th>5</th>\n",
       "      <th>6</th>\n",
       "      <th>7</th>\n",
       "      <th>8</th>\n",
       "      <th>9</th>\n",
       "    </tr>\n",
       "  </thead>\n",
       "  <tbody>\n",
       "    <tr>\n",
       "      <th>mean_fit_time</th>\n",
       "      <td>79.762892</td>\n",
       "      <td>7.004099</td>\n",
       "      <td>151.251776</td>\n",
       "      <td>1.612875</td>\n",
       "      <td>168.381224</td>\n",
       "      <td>1.480426</td>\n",
       "      <td>0.040508</td>\n",
       "      <td>264.686257</td>\n",
       "      <td>0.036655</td>\n",
       "      <td>72.974452</td>\n",
       "    </tr>\n",
       "    <tr>\n",
       "      <th>std_fit_time</th>\n",
       "      <td>2.258506</td>\n",
       "      <td>0.275299</td>\n",
       "      <td>3.292661</td>\n",
       "      <td>0.031251</td>\n",
       "      <td>1.689116</td>\n",
       "      <td>0.026014</td>\n",
       "      <td>0.005735</td>\n",
       "      <td>2.428877</td>\n",
       "      <td>0.00056</td>\n",
       "      <td>5.894981</td>\n",
       "    </tr>\n",
       "    <tr>\n",
       "      <th>mean_score_time</th>\n",
       "      <td>0.448709</td>\n",
       "      <td>0.429692</td>\n",
       "      <td>0.413699</td>\n",
       "      <td>0.319922</td>\n",
       "      <td>0.417143</td>\n",
       "      <td>0.321513</td>\n",
       "      <td>0.0</td>\n",
       "      <td>0.631386</td>\n",
       "      <td>0.0</td>\n",
       "      <td>0.322751</td>\n",
       "    </tr>\n",
       "    <tr>\n",
       "      <th>std_score_time</th>\n",
       "      <td>0.166609</td>\n",
       "      <td>0.004234</td>\n",
       "      <td>0.038365</td>\n",
       "      <td>0.001557</td>\n",
       "      <td>0.030304</td>\n",
       "      <td>0.001939</td>\n",
       "      <td>0.0</td>\n",
       "      <td>0.134455</td>\n",
       "      <td>0.0</td>\n",
       "      <td>0.048091</td>\n",
       "    </tr>\n",
       "    <tr>\n",
       "      <th>param_clf__n_estimators</th>\n",
       "      <td>50</td>\n",
       "      <td>100</td>\n",
       "      <td>200</td>\n",
       "      <td>100</td>\n",
       "      <td>100</td>\n",
       "      <td>100</td>\n",
       "      <td>100</td>\n",
       "      <td>200</td>\n",
       "      <td>50</td>\n",
       "      <td>50</td>\n",
       "    </tr>\n",
       "    <tr>\n",
       "      <th>param_clf__min_samples_split</th>\n",
       "      <td>0.18</td>\n",
       "      <td>0.34</td>\n",
       "      <td>0.14</td>\n",
       "      <td>0.26</td>\n",
       "      <td>0.42</td>\n",
       "      <td>0.34</td>\n",
       "      <td>0.22</td>\n",
       "      <td>0.22</td>\n",
       "      <td>0.3</td>\n",
       "      <td>0.38</td>\n",
       "    </tr>\n",
       "    <tr>\n",
       "      <th>param_clf__max_samples</th>\n",
       "      <td>0.25</td>\n",
       "      <td>0.75</td>\n",
       "      <td>0.5</td>\n",
       "      <td>0.25</td>\n",
       "      <td>0.75</td>\n",
       "      <td>1</td>\n",
       "      <td>NaN</td>\n",
       "      <td>0.75</td>\n",
       "      <td>NaN</td>\n",
       "      <td>0.5</td>\n",
       "    </tr>\n",
       "    <tr>\n",
       "      <th>param_clf__max_features</th>\n",
       "      <td>sqrt</td>\n",
       "      <td>sqrt</td>\n",
       "      <td>log2</td>\n",
       "      <td>log2</td>\n",
       "      <td>log2</td>\n",
       "      <td>sqrt</td>\n",
       "      <td>sqrt</td>\n",
       "      <td>sqrt</td>\n",
       "      <td>auto</td>\n",
       "      <td>auto</td>\n",
       "    </tr>\n",
       "    <tr>\n",
       "      <th>param_clf__max_depth</th>\n",
       "      <td>8</td>\n",
       "      <td>3</td>\n",
       "      <td>4</td>\n",
       "      <td>10</td>\n",
       "      <td>9</td>\n",
       "      <td>7</td>\n",
       "      <td>3</td>\n",
       "      <td>7</td>\n",
       "      <td>5</td>\n",
       "      <td>7</td>\n",
       "    </tr>\n",
       "    <tr>\n",
       "      <th>param_clf__criterion</th>\n",
       "      <td>entropy</td>\n",
       "      <td>gini</td>\n",
       "      <td>gini</td>\n",
       "      <td>gini</td>\n",
       "      <td>gini</td>\n",
       "      <td>entropy</td>\n",
       "      <td>gini</td>\n",
       "      <td>entropy</td>\n",
       "      <td>entropy</td>\n",
       "      <td>entropy</td>\n",
       "    </tr>\n",
       "    <tr>\n",
       "      <th>param_clf</th>\n",
       "      <td>XGBClassifier(base_score=None, booster=None, c...</td>\n",
       "      <td>RandomForestClassifier()</td>\n",
       "      <td>XGBClassifier(base_score=None, booster=None, c...</td>\n",
       "      <td>RandomForestClassifier()</td>\n",
       "      <td>XGBClassifier(base_score=None, booster=None, c...</td>\n",
       "      <td>RandomForestClassifier()</td>\n",
       "      <td>GradientBoostingClassifier()</td>\n",
       "      <td>XGBClassifier(base_score=None, booster=None, c...</td>\n",
       "      <td>GradientBoostingClassifier()</td>\n",
       "      <td>XGBClassifier(base_score=None, booster=None, c...</td>\n",
       "    </tr>\n",
       "    <tr>\n",
       "      <th>params</th>\n",
       "      <td>{'clf__n_estimators': 50, 'clf__min_samples_sp...</td>\n",
       "      <td>{'clf__n_estimators': 100, 'clf__min_samples_s...</td>\n",
       "      <td>{'clf__n_estimators': 200, 'clf__min_samples_s...</td>\n",
       "      <td>{'clf__n_estimators': 100, 'clf__min_samples_s...</td>\n",
       "      <td>{'clf__n_estimators': 100, 'clf__min_samples_s...</td>\n",
       "      <td>{'clf__n_estimators': 100, 'clf__min_samples_s...</td>\n",
       "      <td>{'clf__n_estimators': 100, 'clf__min_samples_s...</td>\n",
       "      <td>{'clf__n_estimators': 200, 'clf__min_samples_s...</td>\n",
       "      <td>{'clf__n_estimators': 50, 'clf__min_samples_sp...</td>\n",
       "      <td>{'clf__n_estimators': 50, 'clf__min_samples_sp...</td>\n",
       "    </tr>\n",
       "    <tr>\n",
       "      <th>split0_test_score</th>\n",
       "      <td>0.930815</td>\n",
       "      <td>0.686363</td>\n",
       "      <td>0.930868</td>\n",
       "      <td>0.686363</td>\n",
       "      <td>0.929628</td>\n",
       "      <td>0.686363</td>\n",
       "      <td>NaN</td>\n",
       "      <td>0.929436</td>\n",
       "      <td>NaN</td>\n",
       "      <td>0.931413</td>\n",
       "    </tr>\n",
       "    <tr>\n",
       "      <th>split1_test_score</th>\n",
       "      <td>0.932129</td>\n",
       "      <td>0.68788</td>\n",
       "      <td>0.93152</td>\n",
       "      <td>0.68788</td>\n",
       "      <td>0.930569</td>\n",
       "      <td>0.68788</td>\n",
       "      <td>NaN</td>\n",
       "      <td>0.93027</td>\n",
       "      <td>NaN</td>\n",
       "      <td>0.931744</td>\n",
       "    </tr>\n",
       "    <tr>\n",
       "      <th>split2_test_score</th>\n",
       "      <td>0.930312</td>\n",
       "      <td>0.686352</td>\n",
       "      <td>0.930612</td>\n",
       "      <td>0.686352</td>\n",
       "      <td>0.92918</td>\n",
       "      <td>0.686352</td>\n",
       "      <td>NaN</td>\n",
       "      <td>0.929169</td>\n",
       "      <td>NaN</td>\n",
       "      <td>0.930879</td>\n",
       "    </tr>\n",
       "    <tr>\n",
       "      <th>mean_test_score</th>\n",
       "      <td>0.931085</td>\n",
       "      <td>0.686865</td>\n",
       "      <td>0.931</td>\n",
       "      <td>0.686865</td>\n",
       "      <td>0.929792</td>\n",
       "      <td>0.686865</td>\n",
       "      <td>NaN</td>\n",
       "      <td>0.929625</td>\n",
       "      <td>NaN</td>\n",
       "      <td>0.931345</td>\n",
       "    </tr>\n",
       "    <tr>\n",
       "      <th>std_test_score</th>\n",
       "      <td>0.000766</td>\n",
       "      <td>0.000718</td>\n",
       "      <td>0.000382</td>\n",
       "      <td>0.000718</td>\n",
       "      <td>0.000579</td>\n",
       "      <td>0.000718</td>\n",
       "      <td>NaN</td>\n",
       "      <td>0.000469</td>\n",
       "      <td>NaN</td>\n",
       "      <td>0.000357</td>\n",
       "    </tr>\n",
       "    <tr>\n",
       "      <th>rank_test_score</th>\n",
       "      <td>2</td>\n",
       "      <td>6</td>\n",
       "      <td>3</td>\n",
       "      <td>6</td>\n",
       "      <td>4</td>\n",
       "      <td>6</td>\n",
       "      <td>9</td>\n",
       "      <td>5</td>\n",
       "      <td>10</td>\n",
       "      <td>1</td>\n",
       "    </tr>\n",
       "  </tbody>\n",
       "</table>\n",
       "</div>"
      ],
      "text/plain": [
       "                                                                              0  \\\n",
       "mean_fit_time                                                         79.762892   \n",
       "std_fit_time                                                           2.258506   \n",
       "mean_score_time                                                        0.448709   \n",
       "std_score_time                                                         0.166609   \n",
       "param_clf__n_estimators                                                      50   \n",
       "param_clf__min_samples_split                                               0.18   \n",
       "param_clf__max_samples                                                     0.25   \n",
       "param_clf__max_features                                                    sqrt   \n",
       "param_clf__max_depth                                                          8   \n",
       "param_clf__criterion                                                    entropy   \n",
       "param_clf                     XGBClassifier(base_score=None, booster=None, c...   \n",
       "params                        {'clf__n_estimators': 50, 'clf__min_samples_sp...   \n",
       "split0_test_score                                                      0.930815   \n",
       "split1_test_score                                                      0.932129   \n",
       "split2_test_score                                                      0.930312   \n",
       "mean_test_score                                                        0.931085   \n",
       "std_test_score                                                         0.000766   \n",
       "rank_test_score                                                               2   \n",
       "\n",
       "                                                                              1  \\\n",
       "mean_fit_time                                                          7.004099   \n",
       "std_fit_time                                                           0.275299   \n",
       "mean_score_time                                                        0.429692   \n",
       "std_score_time                                                         0.004234   \n",
       "param_clf__n_estimators                                                     100   \n",
       "param_clf__min_samples_split                                               0.34   \n",
       "param_clf__max_samples                                                     0.75   \n",
       "param_clf__max_features                                                    sqrt   \n",
       "param_clf__max_depth                                                          3   \n",
       "param_clf__criterion                                                       gini   \n",
       "param_clf                                              RandomForestClassifier()   \n",
       "params                        {'clf__n_estimators': 100, 'clf__min_samples_s...   \n",
       "split0_test_score                                                      0.686363   \n",
       "split1_test_score                                                       0.68788   \n",
       "split2_test_score                                                      0.686352   \n",
       "mean_test_score                                                        0.686865   \n",
       "std_test_score                                                         0.000718   \n",
       "rank_test_score                                                               6   \n",
       "\n",
       "                                                                              2  \\\n",
       "mean_fit_time                                                        151.251776   \n",
       "std_fit_time                                                           3.292661   \n",
       "mean_score_time                                                        0.413699   \n",
       "std_score_time                                                         0.038365   \n",
       "param_clf__n_estimators                                                     200   \n",
       "param_clf__min_samples_split                                               0.14   \n",
       "param_clf__max_samples                                                      0.5   \n",
       "param_clf__max_features                                                    log2   \n",
       "param_clf__max_depth                                                          4   \n",
       "param_clf__criterion                                                       gini   \n",
       "param_clf                     XGBClassifier(base_score=None, booster=None, c...   \n",
       "params                        {'clf__n_estimators': 200, 'clf__min_samples_s...   \n",
       "split0_test_score                                                      0.930868   \n",
       "split1_test_score                                                       0.93152   \n",
       "split2_test_score                                                      0.930612   \n",
       "mean_test_score                                                           0.931   \n",
       "std_test_score                                                         0.000382   \n",
       "rank_test_score                                                               3   \n",
       "\n",
       "                                                                              3  \\\n",
       "mean_fit_time                                                          1.612875   \n",
       "std_fit_time                                                           0.031251   \n",
       "mean_score_time                                                        0.319922   \n",
       "std_score_time                                                         0.001557   \n",
       "param_clf__n_estimators                                                     100   \n",
       "param_clf__min_samples_split                                               0.26   \n",
       "param_clf__max_samples                                                     0.25   \n",
       "param_clf__max_features                                                    log2   \n",
       "param_clf__max_depth                                                         10   \n",
       "param_clf__criterion                                                       gini   \n",
       "param_clf                                              RandomForestClassifier()   \n",
       "params                        {'clf__n_estimators': 100, 'clf__min_samples_s...   \n",
       "split0_test_score                                                      0.686363   \n",
       "split1_test_score                                                       0.68788   \n",
       "split2_test_score                                                      0.686352   \n",
       "mean_test_score                                                        0.686865   \n",
       "std_test_score                                                         0.000718   \n",
       "rank_test_score                                                               6   \n",
       "\n",
       "                                                                              4  \\\n",
       "mean_fit_time                                                        168.381224   \n",
       "std_fit_time                                                           1.689116   \n",
       "mean_score_time                                                        0.417143   \n",
       "std_score_time                                                         0.030304   \n",
       "param_clf__n_estimators                                                     100   \n",
       "param_clf__min_samples_split                                               0.42   \n",
       "param_clf__max_samples                                                     0.75   \n",
       "param_clf__max_features                                                    log2   \n",
       "param_clf__max_depth                                                          9   \n",
       "param_clf__criterion                                                       gini   \n",
       "param_clf                     XGBClassifier(base_score=None, booster=None, c...   \n",
       "params                        {'clf__n_estimators': 100, 'clf__min_samples_s...   \n",
       "split0_test_score                                                      0.929628   \n",
       "split1_test_score                                                      0.930569   \n",
       "split2_test_score                                                       0.92918   \n",
       "mean_test_score                                                        0.929792   \n",
       "std_test_score                                                         0.000579   \n",
       "rank_test_score                                                               4   \n",
       "\n",
       "                                                                              5  \\\n",
       "mean_fit_time                                                          1.480426   \n",
       "std_fit_time                                                           0.026014   \n",
       "mean_score_time                                                        0.321513   \n",
       "std_score_time                                                         0.001939   \n",
       "param_clf__n_estimators                                                     100   \n",
       "param_clf__min_samples_split                                               0.34   \n",
       "param_clf__max_samples                                                        1   \n",
       "param_clf__max_features                                                    sqrt   \n",
       "param_clf__max_depth                                                          7   \n",
       "param_clf__criterion                                                    entropy   \n",
       "param_clf                                              RandomForestClassifier()   \n",
       "params                        {'clf__n_estimators': 100, 'clf__min_samples_s...   \n",
       "split0_test_score                                                      0.686363   \n",
       "split1_test_score                                                       0.68788   \n",
       "split2_test_score                                                      0.686352   \n",
       "mean_test_score                                                        0.686865   \n",
       "std_test_score                                                         0.000718   \n",
       "rank_test_score                                                               6   \n",
       "\n",
       "                                                                              6  \\\n",
       "mean_fit_time                                                          0.040508   \n",
       "std_fit_time                                                           0.005735   \n",
       "mean_score_time                                                             0.0   \n",
       "std_score_time                                                              0.0   \n",
       "param_clf__n_estimators                                                     100   \n",
       "param_clf__min_samples_split                                               0.22   \n",
       "param_clf__max_samples                                                      NaN   \n",
       "param_clf__max_features                                                    sqrt   \n",
       "param_clf__max_depth                                                          3   \n",
       "param_clf__criterion                                                       gini   \n",
       "param_clf                                          GradientBoostingClassifier()   \n",
       "params                        {'clf__n_estimators': 100, 'clf__min_samples_s...   \n",
       "split0_test_score                                                           NaN   \n",
       "split1_test_score                                                           NaN   \n",
       "split2_test_score                                                           NaN   \n",
       "mean_test_score                                                             NaN   \n",
       "std_test_score                                                              NaN   \n",
       "rank_test_score                                                               9   \n",
       "\n",
       "                                                                              7  \\\n",
       "mean_fit_time                                                        264.686257   \n",
       "std_fit_time                                                           2.428877   \n",
       "mean_score_time                                                        0.631386   \n",
       "std_score_time                                                         0.134455   \n",
       "param_clf__n_estimators                                                     200   \n",
       "param_clf__min_samples_split                                               0.22   \n",
       "param_clf__max_samples                                                     0.75   \n",
       "param_clf__max_features                                                    sqrt   \n",
       "param_clf__max_depth                                                          7   \n",
       "param_clf__criterion                                                    entropy   \n",
       "param_clf                     XGBClassifier(base_score=None, booster=None, c...   \n",
       "params                        {'clf__n_estimators': 200, 'clf__min_samples_s...   \n",
       "split0_test_score                                                      0.929436   \n",
       "split1_test_score                                                       0.93027   \n",
       "split2_test_score                                                      0.929169   \n",
       "mean_test_score                                                        0.929625   \n",
       "std_test_score                                                         0.000469   \n",
       "rank_test_score                                                               5   \n",
       "\n",
       "                                                                              8  \\\n",
       "mean_fit_time                                                          0.036655   \n",
       "std_fit_time                                                            0.00056   \n",
       "mean_score_time                                                             0.0   \n",
       "std_score_time                                                              0.0   \n",
       "param_clf__n_estimators                                                      50   \n",
       "param_clf__min_samples_split                                                0.3   \n",
       "param_clf__max_samples                                                      NaN   \n",
       "param_clf__max_features                                                    auto   \n",
       "param_clf__max_depth                                                          5   \n",
       "param_clf__criterion                                                    entropy   \n",
       "param_clf                                          GradientBoostingClassifier()   \n",
       "params                        {'clf__n_estimators': 50, 'clf__min_samples_sp...   \n",
       "split0_test_score                                                           NaN   \n",
       "split1_test_score                                                           NaN   \n",
       "split2_test_score                                                           NaN   \n",
       "mean_test_score                                                             NaN   \n",
       "std_test_score                                                              NaN   \n",
       "rank_test_score                                                              10   \n",
       "\n",
       "                                                                              9  \n",
       "mean_fit_time                                                         72.974452  \n",
       "std_fit_time                                                           5.894981  \n",
       "mean_score_time                                                        0.322751  \n",
       "std_score_time                                                         0.048091  \n",
       "param_clf__n_estimators                                                      50  \n",
       "param_clf__min_samples_split                                               0.38  \n",
       "param_clf__max_samples                                                      0.5  \n",
       "param_clf__max_features                                                    auto  \n",
       "param_clf__max_depth                                                          7  \n",
       "param_clf__criterion                                                    entropy  \n",
       "param_clf                     XGBClassifier(base_score=None, booster=None, c...  \n",
       "params                        {'clf__n_estimators': 50, 'clf__min_samples_sp...  \n",
       "split0_test_score                                                      0.931413  \n",
       "split1_test_score                                                      0.931744  \n",
       "split2_test_score                                                      0.930879  \n",
       "mean_test_score                                                        0.931345  \n",
       "std_test_score                                                         0.000357  \n",
       "rank_test_score                                                               1  "
      ]
     },
     "execution_count": 43,
     "metadata": {},
     "output_type": "execute_result"
    }
   ],
   "source": [
    "df_rs_res.head(10).T"
   ]
  },
  {
   "cell_type": "markdown",
   "id": "c2ada5cf-2be1-4e65-b60c-67cdb5ea4dc6",
   "metadata": {},
   "source": [
    "Let's group by `param_clf`.\n",
    "\n",
    "Actually, turns out that this object is actually a Classifier object, and `pandas` doesn't know how to perform `agg`s on it. So we'll need to figure out a way to get a string representing the type of classifier it is."
   ]
  },
  {
   "cell_type": "code",
   "execution_count": null,
   "id": "5bb8b8de-4d68-4fca-8d8c-45abafe33fbd",
   "metadata": {},
   "outputs": [],
   "source": [
    "df_rs_res['type_clf'] = df_rs_res['param_clf'].apply(lambda x: type(x).__name__)"
   ]
  },
  {
   "cell_type": "code",
   "execution_count": null,
   "id": "8c8cc5d0-91f1-42de-9883-dca44a80bbe9",
   "metadata": {},
   "outputs": [
    {
     "data": {
      "application/com.datacamp.data-table.v1+json": {
       "is_truncated": false,
       "table": {
        "data": [
         {
          "mean_test_score": null,
          "type_clf": "GradientBoostingClassifier"
         },
         {
          "mean_test_score": 0.6868649093,
          "type_clf": "RandomForestClassifier"
         },
         {
          "mean_test_score": 0.9305694758,
          "type_clf": "XGBClassifier"
         }
        ],
        "schema": {
         "fields": [
          {
           "name": "type_clf",
           "type": "string"
          },
          {
           "name": "mean_test_score",
           "type": "number"
          }
         ],
         "pandas_version": "0.20.0",
         "primaryKey": [
          "type_clf"
         ]
        }
       },
       "total_rows": 3
      },
      "text/html": [
       "<div>\n",
       "<style scoped>\n",
       "    .dataframe tbody tr th:only-of-type {\n",
       "        vertical-align: middle;\n",
       "    }\n",
       "\n",
       "    .dataframe tbody tr th {\n",
       "        vertical-align: top;\n",
       "    }\n",
       "\n",
       "    .dataframe thead th {\n",
       "        text-align: right;\n",
       "    }\n",
       "</style>\n",
       "<table border=\"1\" class=\"dataframe\">\n",
       "  <thead>\n",
       "    <tr style=\"text-align: right;\">\n",
       "      <th></th>\n",
       "      <th>mean_test_score</th>\n",
       "    </tr>\n",
       "    <tr>\n",
       "      <th>type_clf</th>\n",
       "      <th></th>\n",
       "    </tr>\n",
       "  </thead>\n",
       "  <tbody>\n",
       "    <tr>\n",
       "      <th>GradientBoostingClassifier</th>\n",
       "      <td>NaN</td>\n",
       "    </tr>\n",
       "    <tr>\n",
       "      <th>RandomForestClassifier</th>\n",
       "      <td>0.686865</td>\n",
       "    </tr>\n",
       "    <tr>\n",
       "      <th>XGBClassifier</th>\n",
       "      <td>0.930569</td>\n",
       "    </tr>\n",
       "  </tbody>\n",
       "</table>\n",
       "</div>"
      ],
      "text/plain": [
       "                            mean_test_score\n",
       "type_clf                                   \n",
       "GradientBoostingClassifier              NaN\n",
       "RandomForestClassifier             0.686865\n",
       "XGBClassifier                      0.930569"
      ]
     },
     "execution_count": 45,
     "metadata": {},
     "output_type": "execute_result"
    }
   ],
   "source": [
    "df_rs_res.groupby(['type_clf']).agg({'mean_test_score': 'mean'})"
   ]
  },
  {
   "cell_type": "markdown",
   "id": "eb9f9843-a03b-4781-a00d-9024fc055ca8",
   "metadata": {
    "tags": []
   },
   "source": [
    "Looks like that the GBM I added might have had bad parameters. Additionally, looks like Logistic Regression never made it in. I will need to look into both.\n",
    "\n",
    "Let's test with just the GBM grid."
   ]
  },
  {
   "cell_type": "code",
   "execution_count": null,
   "id": "be7d483a-96f3-4051-9975-fef714415b10",
   "metadata": {},
   "outputs": [],
   "source": [
    "# Create a pipeline\n",
    "pipe_2 = Pipeline([('clf', DummyEstimator())]) # Placeholder Estimator\n",
    "\n",
    "# Candidate learning algorithms and their hyperparameters\n",
    "# For selected hyperparameters aimed to select a reasonable range for each.\n",
    "search_space = [{'clf': [GradientBoostingClassifier()],  # Actual Estimator\n",
    "                 'clf__learning_rate': [0.001, 0.01, 0.1, 0.3],\n",
    "                 'clf__n_estimators': [50, 100, 200, 400],\n",
    "                 'clf__max_depth': np.arange(3,11,1),\n",
    "                 'clf__min_samples_split': np.linspace(0.1, 0.5, 10, endpoint=False),\n",
    "                 'clf__max_features': [\"auto\", \"sqrt\", \"log2\"],\n",
    "                }\n",
    "               ]\n",
    "\n",
    "# GradientBoostingClassifier(\n",
    "# RandomForestClassifier(\n",
    "    \n",
    "# Create grid search \n",
    "# gs = GridSearchCV(pipe, search_space, random_state=random_state)\n",
    "rs_2 = RandomizedSearchCV(pipe_2, search_space, random_state=random_state\n",
    "                        ,n_iter=10 # To limit search time \n",
    "                        ,cv=2      # I like 5 as rule of thumb, but again to limit search time\n",
    "                        ,verbose=True, refit=True, scoring='accuracy')"
   ]
  },
  {
   "cell_type": "markdown",
   "id": "769a0eff-f41a-4f0b-8a36-6c8b82ee8aec",
   "metadata": {},
   "source": [
    "Fit the random search cv object."
   ]
  },
  {
   "cell_type": "code",
   "execution_count": null,
   "id": "97f41f68-c090-49d1-bba5-7ea9d859521f",
   "metadata": {},
   "outputs": [
    {
     "name": "stdout",
     "output_type": "stream",
     "text": [
      "Fitting 2 folds for each of 10 candidates, totalling 20 fits\n"
     ]
    }
   ],
   "source": [
    "rs_results_2 = rs_2.fit(X_train, y_train)"
   ]
  },
  {
   "cell_type": "code",
   "execution_count": null,
   "id": "49d53c51-434b-4284-9430-426c0d22f1af",
   "metadata": {},
   "outputs": [
    {
     "data": {
      "text/plain": [
       "{'mean_fit_time': array([ 29.84615755,  60.79281533,   9.10530114,  55.09097683,\n",
       "         13.08266771,  39.19744897,  11.33983529,  34.42837775,\n",
       "        239.09580338, 262.6832906 ]),\n",
       " 'std_fit_time': array([0.18253851, 0.03206742, 0.16537881, 0.39983046, 0.21863377,\n",
       "        0.40196896, 0.06195724, 0.24090803, 1.45774901, 6.47571456]),\n",
       " 'mean_score_time': array([0.56551576, 1.14210856, 0.18550885, 1.00698578, 0.23531342,\n",
       "        0.21528614, 0.22588325, 0.19697618, 1.09436846, 0.76352358]),\n",
       " 'std_score_time': array([0.00142217, 0.01478565, 0.00198042, 0.00654781, 0.00277925,\n",
       "        0.00056493, 0.00954628, 0.00156879, 0.00507355, 0.00323081]),\n",
       " 'param_clf__n_estimators': masked_array(data=[200, 400, 50, 400, 100, 100, 100, 50, 400, 400],\n",
       "              mask=[False, False, False, False, False, False, False, False,\n",
       "                    False, False],\n",
       "        fill_value='?',\n",
       "             dtype=object),\n",
       " 'param_clf__min_samples_split': masked_array(data=[0.26, 0.26, 0.1, 0.30000000000000004,\n",
       "                    0.42000000000000004, 0.42000000000000004,\n",
       "                    0.42000000000000004, 0.14, 0.1, 0.45999999999999996],\n",
       "              mask=[False, False, False, False, False, False, False, False,\n",
       "                    False, False],\n",
       "        fill_value='?',\n",
       "             dtype=object),\n",
       " 'param_clf__max_features': masked_array(data=['sqrt', 'sqrt', 'log2', 'log2', 'log2', 'auto', 'sqrt',\n",
       "                    'auto', 'auto', 'auto'],\n",
       "              mask=[False, False, False, False, False, False, False, False,\n",
       "                    False, False],\n",
       "        fill_value='?',\n",
       "             dtype=object),\n",
       " 'param_clf__max_depth': masked_array(data=[6, 10, 5, 5, 7, 5, 4, 7, 4, 6],\n",
       "              mask=[False, False, False, False, False, False, False, False,\n",
       "                    False, False],\n",
       "        fill_value='?',\n",
       "             dtype=object),\n",
       " 'param_clf__learning_rate': masked_array(data=[0.001, 0.001, 0.1, 0.001, 0.3, 0.1, 0.01, 0.1, 0.001,\n",
       "                    0.3],\n",
       "              mask=[False, False, False, False, False, False, False, False,\n",
       "                    False, False],\n",
       "        fill_value='?',\n",
       "             dtype=object),\n",
       " 'param_clf': masked_array(data=[GradientBoostingClassifier(learning_rate=0.3, max_depth=6, max_features='auto',\n",
       "                                               min_samples_split=0.45999999999999996,\n",
       "                                               n_estimators=400)                                   ,\n",
       "                    GradientBoostingClassifier(learning_rate=0.3, max_depth=6, max_features='auto',\n",
       "                                               min_samples_split=0.45999999999999996,\n",
       "                                               n_estimators=400)                                   ,\n",
       "                    GradientBoostingClassifier(learning_rate=0.3, max_depth=6, max_features='auto',\n",
       "                                               min_samples_split=0.45999999999999996,\n",
       "                                               n_estimators=400)                                   ,\n",
       "                    GradientBoostingClassifier(learning_rate=0.3, max_depth=6, max_features='auto',\n",
       "                                               min_samples_split=0.45999999999999996,\n",
       "                                               n_estimators=400)                                   ,\n",
       "                    GradientBoostingClassifier(learning_rate=0.3, max_depth=6, max_features='auto',\n",
       "                                               min_samples_split=0.45999999999999996,\n",
       "                                               n_estimators=400)                                   ,\n",
       "                    GradientBoostingClassifier(learning_rate=0.3, max_depth=6, max_features='auto',\n",
       "                                               min_samples_split=0.45999999999999996,\n",
       "                                               n_estimators=400)                                   ,\n",
       "                    GradientBoostingClassifier(learning_rate=0.3, max_depth=6, max_features='auto',\n",
       "                                               min_samples_split=0.45999999999999996,\n",
       "                                               n_estimators=400)                                   ,\n",
       "                    GradientBoostingClassifier(learning_rate=0.3, max_depth=6, max_features='auto',\n",
       "                                               min_samples_split=0.45999999999999996,\n",
       "                                               n_estimators=400)                                   ,\n",
       "                    GradientBoostingClassifier(learning_rate=0.3, max_depth=6, max_features='auto',\n",
       "                                               min_samples_split=0.45999999999999996,\n",
       "                                               n_estimators=400)                                   ,\n",
       "                    GradientBoostingClassifier(learning_rate=0.3, max_depth=6, max_features='auto',\n",
       "                                               min_samples_split=0.45999999999999996,\n",
       "                                               n_estimators=400)                                   ],\n",
       "              mask=[False, False, False, False, False, False, False, False,\n",
       "                    False, False],\n",
       "        fill_value='?',\n",
       "             dtype=object),\n",
       " 'params': [{'clf__n_estimators': 200,\n",
       "   'clf__min_samples_split': 0.26,\n",
       "   'clf__max_features': 'sqrt',\n",
       "   'clf__max_depth': 6,\n",
       "   'clf__learning_rate': 0.001,\n",
       "   'clf': GradientBoostingClassifier(learning_rate=0.3, max_depth=6, max_features='auto',\n",
       "                              min_samples_split=0.45999999999999996,\n",
       "                              n_estimators=400)},\n",
       "  {'clf__n_estimators': 400,\n",
       "   'clf__min_samples_split': 0.26,\n",
       "   'clf__max_features': 'sqrt',\n",
       "   'clf__max_depth': 10,\n",
       "   'clf__learning_rate': 0.001,\n",
       "   'clf': GradientBoostingClassifier(learning_rate=0.3, max_depth=6, max_features='auto',\n",
       "                              min_samples_split=0.45999999999999996,\n",
       "                              n_estimators=400)},\n",
       "  {'clf__n_estimators': 50,\n",
       "   'clf__min_samples_split': 0.1,\n",
       "   'clf__max_features': 'log2',\n",
       "   'clf__max_depth': 5,\n",
       "   'clf__learning_rate': 0.1,\n",
       "   'clf': GradientBoostingClassifier(learning_rate=0.3, max_depth=6, max_features='auto',\n",
       "                              min_samples_split=0.45999999999999996,\n",
       "                              n_estimators=400)},\n",
       "  {'clf__n_estimators': 400,\n",
       "   'clf__min_samples_split': 0.30000000000000004,\n",
       "   'clf__max_features': 'log2',\n",
       "   'clf__max_depth': 5,\n",
       "   'clf__learning_rate': 0.001,\n",
       "   'clf': GradientBoostingClassifier(learning_rate=0.3, max_depth=6, max_features='auto',\n",
       "                              min_samples_split=0.45999999999999996,\n",
       "                              n_estimators=400)},\n",
       "  {'clf__n_estimators': 100,\n",
       "   'clf__min_samples_split': 0.42000000000000004,\n",
       "   'clf__max_features': 'log2',\n",
       "   'clf__max_depth': 7,\n",
       "   'clf__learning_rate': 0.3,\n",
       "   'clf': GradientBoostingClassifier(learning_rate=0.3, max_depth=6, max_features='auto',\n",
       "                              min_samples_split=0.45999999999999996,\n",
       "                              n_estimators=400)},\n",
       "  {'clf__n_estimators': 100,\n",
       "   'clf__min_samples_split': 0.42000000000000004,\n",
       "   'clf__max_features': 'auto',\n",
       "   'clf__max_depth': 5,\n",
       "   'clf__learning_rate': 0.1,\n",
       "   'clf': GradientBoostingClassifier(learning_rate=0.3, max_depth=6, max_features='auto',\n",
       "                              min_samples_split=0.45999999999999996,\n",
       "                              n_estimators=400)},\n",
       "  {'clf__n_estimators': 100,\n",
       "   'clf__min_samples_split': 0.42000000000000004,\n",
       "   'clf__max_features': 'sqrt',\n",
       "   'clf__max_depth': 4,\n",
       "   'clf__learning_rate': 0.01,\n",
       "   'clf': GradientBoostingClassifier(learning_rate=0.3, max_depth=6, max_features='auto',\n",
       "                              min_samples_split=0.45999999999999996,\n",
       "                              n_estimators=400)},\n",
       "  {'clf__n_estimators': 50,\n",
       "   'clf__min_samples_split': 0.14,\n",
       "   'clf__max_features': 'auto',\n",
       "   'clf__max_depth': 7,\n",
       "   'clf__learning_rate': 0.1,\n",
       "   'clf': GradientBoostingClassifier(learning_rate=0.3, max_depth=6, max_features='auto',\n",
       "                              min_samples_split=0.45999999999999996,\n",
       "                              n_estimators=400)},\n",
       "  {'clf__n_estimators': 400,\n",
       "   'clf__min_samples_split': 0.1,\n",
       "   'clf__max_features': 'auto',\n",
       "   'clf__max_depth': 4,\n",
       "   'clf__learning_rate': 0.001,\n",
       "   'clf': GradientBoostingClassifier(learning_rate=0.3, max_depth=6, max_features='auto',\n",
       "                              min_samples_split=0.45999999999999996,\n",
       "                              n_estimators=400)},\n",
       "  {'clf__n_estimators': 400,\n",
       "   'clf__min_samples_split': 0.45999999999999996,\n",
       "   'clf__max_features': 'auto',\n",
       "   'clf__max_depth': 6,\n",
       "   'clf__learning_rate': 0.3,\n",
       "   'clf': GradientBoostingClassifier(learning_rate=0.3, max_depth=6, max_features='auto',\n",
       "                              min_samples_split=0.45999999999999996,\n",
       "                              n_estimators=400)}],\n",
       " 'split0_test_score': array([0.6874074 , 0.6874074 , 0.92680078, 0.6874074 , 0.92913722,\n",
       "        0.92858873, 0.6874074 , 0.92974983, 0.6874074 , 0.93001339]),\n",
       " 'split1_test_score': array([0.68632242, 0.68632242, 0.92472735, 0.68632242, 0.92772629,\n",
       "        0.92782602, 0.68632242, 0.9291011 , 0.68632242, 0.9291011 ]),\n",
       " 'mean_test_score': array([0.68686491, 0.68686491, 0.92576406, 0.68686491, 0.92843176,\n",
       "        0.92820737, 0.68686491, 0.92942547, 0.68686491, 0.92955725]),\n",
       " 'std_test_score': array([0.00054249, 0.00054249, 0.00103671, 0.00054249, 0.00070547,\n",
       "        0.00038135, 0.00054249, 0.00032436, 0.00054249, 0.00045614]),\n",
       " 'rank_test_score': array([6, 6, 5, 6, 3, 4, 6, 2, 6, 1], dtype=int32)}"
      ]
     },
     "execution_count": 48,
     "metadata": {},
     "output_type": "execute_result"
    }
   ],
   "source": [
    "rs_results_2.cv_results_"
   ]
  },
  {
   "cell_type": "markdown",
   "id": "f8c6fe4c-f89d-40e6-b482-c81374dcf751",
   "metadata": {},
   "source": [
    "Save out the results set."
   ]
  },
  {
   "cell_type": "code",
   "execution_count": null,
   "id": "ea4258af-94bd-4e66-8de0-a51145c8287a",
   "metadata": {
    "tags": []
   },
   "outputs": [
    {
     "data": {
      "text/plain": [
       "'./models/rs_results/classic_rs_2p_gbm_20220510_1142.pickle'"
      ]
     },
     "metadata": {},
     "output_type": "display_data"
    }
   ],
   "source": [
    "str_ts = datetime.now(timezone.utc).astimezone(pytz.timezone('US/Pacific')).strftime(\"%Y%m%d_%H%M\")\n",
    "file_nm = 'classic_rs_2p_gbm_' + str_ts\n",
    "file_path = './models/rs_results/' + file_nm + '.pickle'\n",
    "# pred_path = './predictions/test/' + file_nm + '.csv'\n",
    "\n",
    "display(file_path)"
   ]
  },
  {
   "cell_type": "code",
   "execution_count": null,
   "id": "77ecf630-70c4-4993-b390-22ab9d827f75",
   "metadata": {
    "tags": []
   },
   "outputs": [],
   "source": [
    "with open(file_path, 'wb') as f:\n",
    "    # Pickle the 'data' dictionary using the highest protocol available.\n",
    "    pickle.dump(rs_results_2, f, pickle.HIGHEST_PROTOCOL)"
   ]
  },
  {
   "cell_type": "markdown",
   "id": "fbef60d6-9089-40c1-943e-f4d52b520bae",
   "metadata": {},
   "source": [
    "#### Review Results of GBM only\n",
    "\n",
    "Let's review to see if GBM even approaches what XGB was achieving:"
   ]
  },
  {
   "cell_type": "markdown",
   "id": "b5bfdf8c-2c1e-405c-a042-c37b14cc72a2",
   "metadata": {},
   "source": [
    "High level look at all the runs:"
   ]
  },
  {
   "cell_type": "code",
   "execution_count": null,
   "id": "a3479342-61d6-4f3f-b07a-98771c88c87c",
   "metadata": {},
   "outputs": [],
   "source": [
    "df_rs_gbm = pd.DataFrame(rs_results_2.cv_results_)"
   ]
  },
  {
   "cell_type": "code",
   "execution_count": null,
   "id": "8e4abba1-c65f-4c42-932a-cefa9dae0741",
   "metadata": {},
   "outputs": [
    {
     "name": "stdout",
     "output_type": "stream",
     "text": [
      "                                           param_clf  mean_test_score\n",
      "0  GradientBoostingClassifier(learning_rate=0.3, ...         0.686865\n",
      "1  GradientBoostingClassifier(learning_rate=0.3, ...         0.686865\n",
      "2  GradientBoostingClassifier(learning_rate=0.3, ...         0.925764\n",
      "3  GradientBoostingClassifier(learning_rate=0.3, ...         0.686865\n",
      "4  GradientBoostingClassifier(learning_rate=0.3, ...         0.928432\n",
      "5  GradientBoostingClassifier(learning_rate=0.3, ...         0.928207\n",
      "6  GradientBoostingClassifier(learning_rate=0.3, ...         0.686865\n",
      "7  GradientBoostingClassifier(learning_rate=0.3, ...         0.929425\n",
      "8  GradientBoostingClassifier(learning_rate=0.3, ...         0.686865\n",
      "9  GradientBoostingClassifier(learning_rate=0.3, ...         0.929557\n"
     ]
    }
   ],
   "source": [
    "print(df_rs_gbm[['param_clf', 'mean_test_score']].head(10))"
   ]
  },
  {
   "cell_type": "markdown",
   "id": "a1c5373e-7452-4a27-b169-f40d12a96442",
   "metadata": {},
   "source": [
    "So similar to past results it feels like there's a limit hit at around .9300"
   ]
  },
  {
   "cell_type": "code",
   "execution_count": null,
   "id": "99ee22fe-df84-49aa-94ee-141b12a9bef4",
   "metadata": {},
   "outputs": [
    {
     "data": {
      "text/plain": [
       "Pipeline(steps=[('clf',\n",
       "                 GradientBoostingClassifier(learning_rate=0.3, max_depth=6,\n",
       "                                            max_features='auto',\n",
       "                                            min_samples_split=0.45999999999999996,\n",
       "                                            n_estimators=400))])"
      ]
     },
     "execution_count": 53,
     "metadata": {},
     "output_type": "execute_result"
    }
   ],
   "source": [
    "rs_results_2.best_estimator_"
   ]
  },
  {
   "cell_type": "markdown",
   "id": "6343f379-7e5e-411a-9b6a-859b518d5dbe",
   "metadata": {},
   "source": [
    "Let's look at the best accuracy score, and the parameters that produced them."
   ]
  },
  {
   "cell_type": "code",
   "execution_count": null,
   "id": "80c587f9-7511-4f4f-85c9-ce9640d83e1f",
   "metadata": {},
   "outputs": [
    {
     "data": {
      "text/plain": [
       "0.9295572469124045"
      ]
     },
     "metadata": {},
     "output_type": "display_data"
    },
    {
     "data": {
      "text/plain": [
       "{'clf__n_estimators': 400,\n",
       " 'clf__min_samples_split': 0.45999999999999996,\n",
       " 'clf__max_features': 'auto',\n",
       " 'clf__max_depth': 6,\n",
       " 'clf__learning_rate': 0.3,\n",
       " 'clf': GradientBoostingClassifier(learning_rate=0.3, max_depth=6, max_features='auto',\n",
       "                            min_samples_split=0.45999999999999996,\n",
       "                            n_estimators=400)}"
      ]
     },
     "metadata": {},
     "output_type": "display_data"
    }
   ],
   "source": [
    "display(rs_results_2.best_score_, rs_results_2.best_params_)"
   ]
  },
  {
   "cell_type": "markdown",
   "id": "5e765735-b3ab-4484-9a0d-92a44e629803",
   "metadata": {},
   "source": [
    "Let's look at it as an estimator object."
   ]
  },
  {
   "cell_type": "code",
   "execution_count": null,
   "id": "fe1525be-a6f6-461c-93b7-6035800baf75",
   "metadata": {
    "tags": []
   },
   "outputs": [
    {
     "data": {
      "text/plain": [
       "Pipeline(steps=[('clf',\n",
       "                 GradientBoostingClassifier(learning_rate=0.3, max_depth=6,\n",
       "                                            max_features='auto',\n",
       "                                            min_samples_split=0.45999999999999996,\n",
       "                                            n_estimators=400))])"
      ]
     },
     "metadata": {},
     "output_type": "display_data"
    }
   ],
   "source": [
    "rs_best_2 = rs_results_2.best_estimator_\n",
    "display(rs_best_2)"
   ]
  },
  {
   "cell_type": "markdown",
   "id": "05ccff65-414c-43ea-8c0d-99a03f7e426c",
   "metadata": {},
   "source": [
    "Now let's look at performance vs Test."
   ]
  },
  {
   "cell_type": "code",
   "execution_count": null,
   "id": "4657ea0d-19c7-4949-bfbf-4d59eee8a37a",
   "metadata": {},
   "outputs": [
    {
     "data": {
      "text/plain": [
       "'test accuracy: 0.9305476407567814'"
      ]
     },
     "metadata": {},
     "output_type": "display_data"
    },
    {
     "data": {
      "text/plain": [
       "'train accuracy: 0.9295572469124045'"
      ]
     },
     "metadata": {},
     "output_type": "display_data"
    }
   ],
   "source": [
    "display(f\"test accuracy: {rs_best_2.score(X_test, y_test)}\")\n",
    "display(f\"train accuracy: {rs_results_2.best_score_}\")"
   ]
  },
  {
   "cell_type": "markdown",
   "id": "40000a0d-6c9f-4b7b-bc4a-8f5a9808b588",
   "metadata": {},
   "source": [
    "Consistent, and aligns. That Test score is a smidge higher than train is a little weird, but isn't egregiously so, so will go with it for now."
   ]
  },
  {
   "cell_type": "markdown",
   "id": "d903404e-ba9e-4641-bdea-639fbb99f443",
   "metadata": {},
   "source": [
    "Let's get some predictions and review some high level classification metrics:"
   ]
  },
  {
   "cell_type": "code",
   "execution_count": null,
   "id": "36b5bb4b-c5a3-46f7-92a7-18f13f1a8df6",
   "metadata": {},
   "outputs": [],
   "source": [
    "rs_pred_2 = rs_best_2.predict(X_test)"
   ]
  },
  {
   "cell_type": "markdown",
   "id": "7359714c-cee6-4146-ab62-dbb5f9c80c83",
   "metadata": {},
   "source": [
    "*Confusion Matrix*"
   ]
  },
  {
   "cell_type": "code",
   "execution_count": null,
   "id": "30468c72-ab56-49d2-b64c-942116e03e3b",
   "metadata": {},
   "outputs": [
    {
     "data": {
      "text/plain": [
       "array([[45641,  2571],\n",
       "       [ 2304, 19676]])"
      ]
     },
     "metadata": {},
     "output_type": "display_data"
    }
   ],
   "source": [
    "cm = confusion_matrix(y_test, rs_pred_2)\n",
    "display(cm)"
   ]
  },
  {
   "cell_type": "markdown",
   "id": "a3716a0f-4530-41e1-8378-bb7dd267f743",
   "metadata": {},
   "source": [
    "*Accuracy*"
   ]
  },
  {
   "cell_type": "code",
   "execution_count": null,
   "id": "366f22c2-8a8b-4098-8e46-18a5201e4065",
   "metadata": {},
   "outputs": [
    {
     "data": {
      "text/plain": [
       "'What % of pitches did we correctly categorize?'"
      ]
     },
     "metadata": {},
     "output_type": "display_data"
    },
    {
     "data": {
      "text/plain": [
       "'test accuracy: 0.931'"
      ]
     },
     "metadata": {},
     "output_type": "display_data"
    }
   ],
   "source": [
    "display(\"What % of pitches did we correctly categorize?\")\n",
    "display(f\"test accuracy: {round(rs_best_2.score(X_test, y_test), 3)}\")"
   ]
  },
  {
   "cell_type": "markdown",
   "id": "d7660bab-2525-4c4b-80e0-dc7ab975df2d",
   "metadata": {},
   "source": [
    "*Precision*"
   ]
  },
  {
   "cell_type": "code",
   "execution_count": null,
   "id": "401bcfd5-070a-4803-baa3-57583b3c5b73",
   "metadata": {},
   "outputs": [
    {
     "data": {
      "text/plain": [
       "'What % predicted strikes did we get correct?'"
      ]
     },
     "metadata": {},
     "output_type": "display_data"
    },
    {
     "data": {
      "text/plain": [
       "'Positive Predictive Value: 0.88443'"
      ]
     },
     "metadata": {},
     "output_type": "display_data"
    }
   ],
   "source": [
    "precision = precision_score(y_test, rs_pred_2)\n",
    "display(\"What % predicted strikes did we get correct?\")\n",
    "display(f\"Positive Predictive Value: {round(precision,5)}\")"
   ]
  },
  {
   "cell_type": "markdown",
   "id": "b9edc393-453d-4b11-9b93-698b5f5e33bc",
   "metadata": {},
   "source": [
    "*Recall*"
   ]
  },
  {
   "cell_type": "code",
   "execution_count": null,
   "id": "5817cb10-bb12-41ed-890f-6c1380fdfcba",
   "metadata": {},
   "outputs": [
    {
     "data": {
      "text/plain": [
       "'What percent of actual strikes did we get capture?'"
      ]
     },
     "metadata": {},
     "output_type": "display_data"
    },
    {
     "data": {
      "text/plain": [
       "'True Positive Rate: 0.89518'"
      ]
     },
     "metadata": {},
     "output_type": "display_data"
    }
   ],
   "source": [
    "recall = recall_score(y_test, rs_pred_2)\n",
    "display(\"What percent of actual strikes did we get capture?\")\n",
    "display(f\"True Positive Rate: {round(recall, 5)}\")"
   ]
  },
  {
   "cell_type": "markdown",
   "id": "21666f55-58f2-4bd8-bd0d-289725980f27",
   "metadata": {},
   "source": [
    "*ROC/AUC*"
   ]
  },
  {
   "cell_type": "code",
   "execution_count": null,
   "id": "7bb3970a-7267-4bf4-9709-7a18876444b7",
   "metadata": {},
   "outputs": [
    {
     "data": {
      "image/png": "[encoded data removed]",
      "text/plain": [
       "<Figure size 432x288 with 1 Axes>"
      ]
     },
     "metadata": {
      "needs_background": "light"
     },
     "output_type": "display_data"
    }
   ],
   "source": [
    "fpr, tpr, thresholds = roc_curve(y_test, rs_best_2.predict_proba(X_test)[:,1])\n",
    "roc_auc = auc(fpr, tpr)\n",
    "roc_display = RocCurveDisplay(fpr=fpr, tpr=tpr, roc_auc=roc_auc)\n",
    "roc_display.plot()\n",
    "plt.show()"
   ]
  },
  {
   "cell_type": "markdown",
   "id": "15fe1c86-39c1-48d3-ba0f-fa6d596f614f",
   "metadata": {},
   "source": [
    "AUC of 0.98! Again!"
   ]
  },
  {
   "cell_type": "markdown",
   "id": "9dc1ee54-98cb-4593-b2a2-a58becbe2051",
   "metadata": {},
   "source": [
    "So it looks like that GBM can perform just as well as XGB. Also, I think the 400 estimators is a time-killer and doesn't give much performance increase for the resource itAnd it was also apparent in previous runs that a Logistic Regression run didn't make it into the random draws. In this case I would like to do one more Random Search with the goal of:\n",
    "\n",
    "- Target Logistic Regression because it hadn't been picked up in the first run.\n",
    "\n",
    "All this said, I would be very surprised if we improve on an accuracy of ~0.93."
   ]
  },
  {
   "cell_type": "markdown",
   "id": "169d1539-8ac4-4851-a209-54994e0587f7",
   "metadata": {},
   "source": [
    "---  \n",
    "\n",
    "<span style=\"font-size:0.5em;\">Tag 6</span>\n",
    "\n",
    "#### More Tuning + Logistic Regression<a id='more_tuning'></a>\n",
    "\n",
    "<span style=\"font-size:0.5em;\"><a href='#toc_6'>Back to TOC</a></span>"
   ]
  },
  {
   "cell_type": "code",
   "execution_count": null,
   "id": "cf3da09e-a118-4a2e-b52c-6a2f151372e7",
   "metadata": {},
   "outputs": [],
   "source": [
    "#Declare again if picking up again after kernel restart\n",
    "class DummyEstimator(BaseEstimator):\n",
    "    def fit(self): pass\n",
    "    def score(self): pass"
   ]
  },
  {
   "cell_type": "code",
   "execution_count": null,
   "id": "51363e14-d367-45f7-8143-142261b4c5c8",
   "metadata": {},
   "outputs": [],
   "source": [
    "# Create a pipeline\n",
    "pipe_3 = Pipeline([('clf', DummyEstimator())]) # Placeholder Estimator\n",
    "\n",
    "# Candidate learning algorithms and their hyperparameters\n",
    "# For selected hyperparameters aimed to select a reasonable range for each.\n",
    "search_space_3 = [{'clf': [LogisticRegression()], # Actual Estimator\n",
    "                 'clf__penalty': ['l2'],\n",
    "                 'clf__C': np.logspace(-4, 4, 10)\n",
    "                }               ]\n",
    "    \n",
    "# Create grid search \n",
    "# gs = GridSearchCV(pipe, search_space, random_state=random_state)\n",
    "rs_3 = RandomizedSearchCV(pipe_3, search_space_3, random_state=random_state\n",
    "                        ,n_iter=5 # To limit search time \n",
    "                        ,cv=3      # I like 5 as rule of thumb, but again to limit search time\n",
    "                        ,verbose=True, refit=True, scoring='accuracy')"
   ]
  },
  {
   "cell_type": "markdown",
   "id": "549f14ca-9a3b-4d3a-8f35-d95110b7e85d",
   "metadata": {},
   "source": [
    "Fit the random search cv object."
   ]
  },
  {
   "cell_type": "code",
   "execution_count": null,
   "id": "18185a47-54f8-4500-9780-ddff04e78479",
   "metadata": {},
   "outputs": [
    {
     "name": "stdout",
     "output_type": "stream",
     "text": [
      "Fitting 3 folds for each of 5 candidates, totalling 15 fits\n"
     ]
    }
   ],
   "source": [
    "rs_results_3 = rs_3.fit(X_train, y_train)"
   ]
  },
  {
   "cell_type": "markdown",
   "id": "95a039db-c26c-4643-ac2b-760f4687bb97",
   "metadata": {},
   "source": [
    "Save out the results set."
   ]
  },
  {
   "cell_type": "code",
   "execution_count": null,
   "id": "e0f5efb4-2ff4-48f2-82d6-74174c0b0ce2",
   "metadata": {
    "tags": []
   },
   "outputs": [
    {
     "data": {
      "text/plain": [
       "'./models/rs_results/classic_rs_2p_logit_20220510_1152.pickle'"
      ]
     },
     "metadata": {},
     "output_type": "display_data"
    }
   ],
   "source": [
    "str_ts = datetime.now(timezone.utc).astimezone(pytz.timezone('US/Pacific')).strftime(\"%Y%m%d_%H%M\")\n",
    "file_nm = 'classic_rs_2p_logit_' + str_ts\n",
    "file_path = './models/rs_results/' + file_nm + '.pickle'\n",
    "# pred_path = './predictions/test/' + file_nm + '.csv'\n",
    "\n",
    "display(file_path)"
   ]
  },
  {
   "cell_type": "code",
   "execution_count": null,
   "id": "1d6533da-d1c9-4850-99a2-23b74e9e8318",
   "metadata": {
    "tags": []
   },
   "outputs": [],
   "source": [
    "with open(file_path, 'wb') as f:\n",
    "    # Pickle the 'data' dictionary using the highest protocol available.\n",
    "    pickle.dump(rs_results_3, f, pickle.HIGHEST_PROTOCOL)"
   ]
  },
  {
   "cell_type": "markdown",
   "id": "85eecf65-3dad-4656-a88c-2cbb663747c4",
   "metadata": {},
   "source": [
    "*_Reload results as necessary_*"
   ]
  },
  {
   "cell_type": "code",
   "execution_count": null,
   "id": "9a082a08-4eae-4ee1-a226-24ee3d0b7155",
   "metadata": {
    "tags": []
   },
   "outputs": [
    {
     "name": "stdout",
     "output_type": "stream",
     "text": [
      "skipping\n"
     ]
    }
   ],
   "source": [
    "%%script echo skipping\n",
    "# Test loading pickle\n",
    "load_path = './models/rs_results/classic_rs_3rd_pass_20220509_0815.pickle'\n",
    "\n",
    "with open(load_path, 'rb') as f:\n",
    "    # The protocol version used is detected automatically, so we do not\n",
    "    # have to specify it.\n",
    "    rs_results_3 = pickle.load(f)    "
   ]
  },
  {
   "cell_type": "markdown",
   "id": "05d53639-d2d4-4f44-a909-411bf83edb06",
   "metadata": {},
   "source": [
    "#### Review Results\n",
    "\n",
    "Let's review the best model of the random selected models. Load from pickle if necessary.\n",
    "\n",
    "Third time's the charm?"
   ]
  },
  {
   "cell_type": "code",
   "execution_count": null,
   "id": "bc8ec84d-e70e-457f-af20-56c287cf2a0f",
   "metadata": {},
   "outputs": [
    {
     "data": {
      "text/plain": [
       "Pipeline(steps=[('clf', LogisticRegression(C=10000.0))])"
      ]
     },
     "execution_count": 92,
     "metadata": {},
     "output_type": "execute_result"
    }
   ],
   "source": [
    "rs_results_3.best_estimator_"
   ]
  },
  {
   "cell_type": "code",
   "execution_count": null,
   "id": "ea816b03-a93f-4ede-bcf0-d4e4c7c83ec2",
   "metadata": {},
   "outputs": [
    {
     "data": {
      "text/plain": [
       "{'clf__penalty': 'l2', 'clf__C': 10000.0, 'clf': LogisticRegression(C=10000.0)}"
      ]
     },
     "execution_count": 93,
     "metadata": {},
     "output_type": "execute_result"
    }
   ],
   "source": [
    "rs_results_3.best_params_"
   ]
  },
  {
   "cell_type": "code",
   "execution_count": null,
   "id": "c78756c0-c6fc-4634-a6d1-cf851a92e85a",
   "metadata": {},
   "outputs": [
    {
     "data": {
      "text/plain": [
       "0.6868364159605651"
      ]
     },
     "execution_count": 94,
     "metadata": {},
     "output_type": "execute_result"
    }
   ],
   "source": [
    "rs_results_3.best_score_"
   ]
  },
  {
   "cell_type": "code",
   "execution_count": null,
   "id": "14e1d4a2-0ec9-429b-a23b-54f4b6bfa837",
   "metadata": {
    "tags": []
   },
   "outputs": [
    {
     "data": {
      "text/plain": [
       "{'mean_fit_time': array([2.72221382, 2.73103642, 2.66288169, 2.49788594, 2.49717212]),\n",
       " 'std_fit_time': array([0.40850579, 0.46785411, 0.41886931, 0.32457627, 0.29539543]),\n",
       " 'mean_score_time': array([0.10154033, 0.10177414, 0.10509173, 0.09788187, 0.10222991]),\n",
       " 'std_score_time': array([0.0028245 , 0.00027447, 0.0007716 , 0.0002133 , 0.00110132]),\n",
       " 'param_clf__penalty': masked_array(data=['l2', 'l2', 'l2', 'l2', 'l2'],\n",
       "              mask=[False, False, False, False, False],\n",
       "        fill_value='?',\n",
       "             dtype=object),\n",
       " 'param_clf__C': masked_array(data=[10000.0, 0.3593813663804626, 1291.5496650148827,\n",
       "                    166.81005372000558, 2.782559402207126],\n",
       "              mask=[False, False, False, False, False],\n",
       "        fill_value='?',\n",
       "             dtype=object),\n",
       " 'param_clf': masked_array(data=[LogisticRegression(C=10000.0),\n",
       "                    LogisticRegression(C=10000.0),\n",
       "                    LogisticRegression(C=10000.0),\n",
       "                    LogisticRegression(C=10000.0),\n",
       "                    LogisticRegression(C=10000.0)],\n",
       "              mask=[False, False, False, False, False],\n",
       "        fill_value='?',\n",
       "             dtype=object),\n",
       " 'params': [{'clf__penalty': 'l2',\n",
       "   'clf__C': 10000.0,\n",
       "   'clf': LogisticRegression(C=10000.0)},\n",
       "  {'clf__penalty': 'l2',\n",
       "   'clf__C': 0.3593813663804626,\n",
       "   'clf': LogisticRegression(C=10000.0)},\n",
       "  {'clf__penalty': 'l2',\n",
       "   'clf__C': 1291.5496650148827,\n",
       "   'clf': LogisticRegression(C=10000.0)},\n",
       "  {'clf__penalty': 'l2',\n",
       "   'clf__C': 166.81005372000558,\n",
       "   'clf': LogisticRegression(C=10000.0)},\n",
       "  {'clf__penalty': 'l2',\n",
       "   'clf__C': 2.782559402207126,\n",
       "   'clf': LogisticRegression(C=10000.0)}],\n",
       " 'split0_test_score': array([0.68630929, 0.68630929, 0.68630929, 0.68630929, 0.68630929]),\n",
       " 'split1_test_score': array([0.68785862, 0.68785862, 0.68785862, 0.68785862, 0.68785862]),\n",
       " 'split2_test_score': array([0.68634134, 0.68634134, 0.68634134, 0.68634134, 0.68634134]),\n",
       " 'mean_test_score': array([0.68683642, 0.68683642, 0.68683642, 0.68683642, 0.68683642]),\n",
       " 'std_test_score': array([0.00072292, 0.00072292, 0.00072292, 0.00072292, 0.00072292]),\n",
       " 'rank_test_score': array([1, 1, 1, 1, 1], dtype=int32)}"
      ]
     },
     "execution_count": 95,
     "metadata": {},
     "output_type": "execute_result"
    }
   ],
   "source": [
    "rs_results_3.cv_results_"
   ]
  },
  {
   "cell_type": "markdown",
   "id": "6a05b80f-2267-422f-8d6e-0f1707f6db23",
   "metadata": {},
   "source": [
    "Convert `.cv_results_` to `DataFrame` for better readability"
   ]
  },
  {
   "cell_type": "code",
   "execution_count": null,
   "id": "14185154-2ecd-42c9-ba27-fadc3c383549",
   "metadata": {},
   "outputs": [],
   "source": [
    "df_rs_res_3 = pd.DataFrame(rs_results_3.cv_results_)"
   ]
  },
  {
   "cell_type": "code",
   "execution_count": null,
   "id": "548971ba-0d4c-4e07-be0c-c16a6aaae6f1",
   "metadata": {},
   "outputs": [
    {
     "data": {
      "text/plain": [
       "(5, 14)"
      ]
     },
     "execution_count": 97,
     "metadata": {},
     "output_type": "execute_result"
    }
   ],
   "source": [
    "df_rs_res_3.shape"
   ]
  },
  {
   "cell_type": "code",
   "execution_count": null,
   "id": "8bfa84fd-4b5c-414c-a97e-4db8d4940446",
   "metadata": {
    "tags": []
   },
   "outputs": [
    {
     "data": {
      "application/com.datacamp.data-table.v1+json": {
       "is_truncated": false,
       "table": {
        "data": [
         {
          "0": 2.7222138246,
          "1": 2.7310364246,
          "2": 2.6628816923,
          "3": 2.4978859425,
          "4": 2.4971721172,
          "index": "mean_fit_time"
         },
         {
          "0": 0.4085057909,
          "1": 0.4678541134,
          "2": 0.4188693106,
          "3": 0.3245762709,
          "4": 0.2953954309,
          "index": "std_fit_time"
         },
         {
          "0": 0.1015403271,
          "1": 0.1017741362,
          "2": 0.1050917308,
          "3": 0.0978818734,
          "4": 0.1022299131,
          "index": "mean_score_time"
         },
         {
          "0": 0.0028244976,
          "1": 0.000274468,
          "2": 0.0007715998,
          "3": 0.0002132969,
          "4": 0.0011013226,
          "index": "std_score_time"
         },
         {
          "0": "l2",
          "1": "l2",
          "2": "l2",
          "3": "l2",
          "4": "l2",
          "index": "param_clf__penalty"
         },
         {
          "0": 10000,
          "1": 0.3593813664,
          "2": 1291.5496650149,
          "3": 166.81005372,
          "4": 2.7825594022,
          "index": "param_clf__C"
         },
         {
          "0": {
           "C": 10000,
           "class_weight": null,
           "dual": false,
           "fit_intercept": true,
           "intercept_scaling": 1,
           "max_iter": 100,
           "n_jobs": null,
           "random_state": null,
           "solver": "lbfgs",
           "tol": 0.0001,
           "warm_start": false
          },
          "1": {
           "C": 10000,
           "class_weight": null,
           "dual": false,
           "fit_intercept": true,
           "intercept_scaling": 1,
           "max_iter": 100,
           "n_jobs": null,
           "random_state": null,
           "solver": "lbfgs",
           "tol": 0.0001,
           "warm_start": false
          },
          "2": {
           "C": 10000,
           "class_weight": null,
           "dual": false,
           "fit_intercept": true,
           "intercept_scaling": 1,
           "max_iter": 100,
           "n_jobs": null,
           "random_state": null,
           "solver": "lbfgs",
           "tol": 0.0001,
           "warm_start": false
          },
          "3": {
           "C": 10000,
           "class_weight": null,
           "dual": false,
           "fit_intercept": true,
           "intercept_scaling": 1,
           "max_iter": 100,
           "n_jobs": null,
           "random_state": null,
           "solver": "lbfgs",
           "tol": 0.0001,
           "warm_start": false
          },
          "4": {
           "C": 10000,
           "class_weight": null,
           "dual": false,
           "fit_intercept": true,
           "intercept_scaling": 1,
           "max_iter": 100,
           "n_jobs": null,
           "random_state": null,
           "solver": "lbfgs",
           "tol": 0.0001,
           "warm_start": false
          },
          "index": "param_clf"
         },
         {
          "0": {
           "clf": {
            "C": 10000,
            "class_weight": null,
            "dual": false,
            "fit_intercept": true,
            "intercept_scaling": 1,
            "max_iter": 100,
            "n_jobs": null,
            "random_state": null,
            "solver": "lbfgs",
            "tol": 0.0001,
            "warm_start": false
           },
           "clf__C": 10000,
           "clf__penalty": "l2"
          },
          "1": {
           "clf": {
            "C": 10000,
            "class_weight": null,
            "dual": false,
            "fit_intercept": true,
            "intercept_scaling": 1,
            "max_iter": 100,
            "n_jobs": null,
            "random_state": null,
            "solver": "lbfgs",
            "tol": 0.0001,
            "warm_start": false
           },
           "clf__C": 0.3593813664,
           "clf__penalty": "l2"
          },
          "2": {
           "clf": {
            "C": 10000,
            "class_weight": null,
            "dual": false,
            "fit_intercept": true,
            "intercept_scaling": 1,
            "max_iter": 100,
            "n_jobs": null,
            "random_state": null,
            "solver": "lbfgs",
            "tol": 0.0001,
            "warm_start": false
           },
           "clf__C": 1291.5496650149,
           "clf__penalty": "l2"
          },
          "3": {
           "clf": {
            "C": 10000,
            "class_weight": null,
            "dual": false,
            "fit_intercept": true,
            "intercept_scaling": 1,
            "max_iter": 100,
            "n_jobs": null,
            "random_state": null,
            "solver": "lbfgs",
            "tol": 0.0001,
            "warm_start": false
           },
           "clf__C": 166.81005372,
           "clf__penalty": "l2"
          },
          "4": {
           "clf": {
            "C": 10000,
            "class_weight": null,
            "dual": false,
            "fit_intercept": true,
            "intercept_scaling": 1,
            "max_iter": 100,
            "n_jobs": null,
            "random_state": null,
            "solver": "lbfgs",
            "tol": 0.0001,
            "warm_start": false
           },
           "clf__C": 2.7825594022,
           "clf__penalty": "l2"
          },
          "index": "params"
         },
         {
          "0": 0.6863092885,
          "1": 0.6863092885,
          "2": 0.6863092885,
          "3": 0.6863092885,
          "4": 0.6863092885,
          "index": "split0_test_score"
         },
         {
          "0": 0.6878586159,
          "1": 0.6878586159,
          "2": 0.6878586159,
          "3": 0.6878586159,
          "4": 0.6878586159,
          "index": "split1_test_score"
         },
         {
          "0": 0.6863413435,
          "1": 0.6863413435,
          "2": 0.6863413435,
          "3": 0.6863413435,
          "4": 0.6863413435,
          "index": "split2_test_score"
         },
         {
          "0": 0.686836416,
          "1": 0.686836416,
          "2": 0.686836416,
          "3": 0.686836416,
          "4": 0.686836416,
          "index": "mean_test_score"
         },
         {
          "0": 0.0007229229,
          "1": 0.0007229229,
          "2": 0.0007229229,
          "3": 0.0007229229,
          "4": 0.0007229229,
          "index": "std_test_score"
         },
         {
          "0": 1,
          "1": 1,
          "2": 1,
          "3": 1,
          "4": 1,
          "index": "rank_test_score"
         }
        ],
        "schema": {
         "fields": [
          {
           "name": "index",
           "type": "string"
          },
          {
           "name": 0,
           "type": "string"
          },
          {
           "name": 1,
           "type": "string"
          },
          {
           "name": 2,
           "type": "string"
          },
          {
           "name": 3,
           "type": "string"
          },
          {
           "name": 4,
           "type": "string"
          }
         ],
         "pandas_version": "0.20.0",
         "primaryKey": [
          "index"
         ]
        }
       },
       "total_rows": 14
      },
      "text/html": [
       "<div>\n",
       "<style scoped>\n",
       "    .dataframe tbody tr th:only-of-type {\n",
       "        vertical-align: middle;\n",
       "    }\n",
       "\n",
       "    .dataframe tbody tr th {\n",
       "        vertical-align: top;\n",
       "    }\n",
       "\n",
       "    .dataframe thead th {\n",
       "        text-align: right;\n",
       "    }\n",
       "</style>\n",
       "<table border=\"1\" class=\"dataframe\">\n",
       "  <thead>\n",
       "    <tr style=\"text-align: right;\">\n",
       "      <th></th>\n",
       "      <th>0</th>\n",
       "      <th>1</th>\n",
       "      <th>2</th>\n",
       "      <th>3</th>\n",
       "      <th>4</th>\n",
       "    </tr>\n",
       "  </thead>\n",
       "  <tbody>\n",
       "    <tr>\n",
       "      <th>mean_fit_time</th>\n",
       "      <td>2.722214</td>\n",
       "      <td>2.731036</td>\n",
       "      <td>2.662882</td>\n",
       "      <td>2.497886</td>\n",
       "      <td>2.497172</td>\n",
       "    </tr>\n",
       "    <tr>\n",
       "      <th>std_fit_time</th>\n",
       "      <td>0.408506</td>\n",
       "      <td>0.467854</td>\n",
       "      <td>0.418869</td>\n",
       "      <td>0.324576</td>\n",
       "      <td>0.295395</td>\n",
       "    </tr>\n",
       "    <tr>\n",
       "      <th>mean_score_time</th>\n",
       "      <td>0.10154</td>\n",
       "      <td>0.101774</td>\n",
       "      <td>0.105092</td>\n",
       "      <td>0.097882</td>\n",
       "      <td>0.10223</td>\n",
       "    </tr>\n",
       "    <tr>\n",
       "      <th>std_score_time</th>\n",
       "      <td>0.002824</td>\n",
       "      <td>0.000274</td>\n",
       "      <td>0.000772</td>\n",
       "      <td>0.000213</td>\n",
       "      <td>0.001101</td>\n",
       "    </tr>\n",
       "    <tr>\n",
       "      <th>param_clf__penalty</th>\n",
       "      <td>l2</td>\n",
       "      <td>l2</td>\n",
       "      <td>l2</td>\n",
       "      <td>l2</td>\n",
       "      <td>l2</td>\n",
       "    </tr>\n",
       "    <tr>\n",
       "      <th>param_clf__C</th>\n",
       "      <td>10000.0</td>\n",
       "      <td>0.359381</td>\n",
       "      <td>1291.549665</td>\n",
       "      <td>166.810054</td>\n",
       "      <td>2.782559</td>\n",
       "    </tr>\n",
       "    <tr>\n",
       "      <th>param_clf</th>\n",
       "      <td>LogisticRegression(C=10000.0)</td>\n",
       "      <td>LogisticRegression(C=10000.0)</td>\n",
       "      <td>LogisticRegression(C=10000.0)</td>\n",
       "      <td>LogisticRegression(C=10000.0)</td>\n",
       "      <td>LogisticRegression(C=10000.0)</td>\n",
       "    </tr>\n",
       "    <tr>\n",
       "      <th>params</th>\n",
       "      <td>{'clf__penalty': 'l2', 'clf__C': 10000.0, 'clf': LogisticRegression(C=10000.0)}</td>\n",
       "      <td>{'clf__penalty': 'l2', 'clf__C': 0.3593813663804626, 'clf': LogisticRegression(C=10000.0)}</td>\n",
       "      <td>{'clf__penalty': 'l2', 'clf__C': 1291.5496650148827, 'clf': LogisticRegression(C=10000.0)}</td>\n",
       "      <td>{'clf__penalty': 'l2', 'clf__C': 166.81005372000558, 'clf': LogisticRegression(C=10000.0)}</td>\n",
       "      <td>{'clf__penalty': 'l2', 'clf__C': 2.782559402207126, 'clf': LogisticRegression(C=10000.0)}</td>\n",
       "    </tr>\n",
       "    <tr>\n",
       "      <th>split0_test_score</th>\n",
       "      <td>0.686309</td>\n",
       "      <td>0.686309</td>\n",
       "      <td>0.686309</td>\n",
       "      <td>0.686309</td>\n",
       "      <td>0.686309</td>\n",
       "    </tr>\n",
       "    <tr>\n",
       "      <th>split1_test_score</th>\n",
       "      <td>0.687859</td>\n",
       "      <td>0.687859</td>\n",
       "      <td>0.687859</td>\n",
       "      <td>0.687859</td>\n",
       "      <td>0.687859</td>\n",
       "    </tr>\n",
       "    <tr>\n",
       "      <th>split2_test_score</th>\n",
       "      <td>0.686341</td>\n",
       "      <td>0.686341</td>\n",
       "      <td>0.686341</td>\n",
       "      <td>0.686341</td>\n",
       "      <td>0.686341</td>\n",
       "    </tr>\n",
       "    <tr>\n",
       "      <th>mean_test_score</th>\n",
       "      <td>0.686836</td>\n",
       "      <td>0.686836</td>\n",
       "      <td>0.686836</td>\n",
       "      <td>0.686836</td>\n",
       "      <td>0.686836</td>\n",
       "    </tr>\n",
       "    <tr>\n",
       "      <th>std_test_score</th>\n",
       "      <td>0.000723</td>\n",
       "      <td>0.000723</td>\n",
       "      <td>0.000723</td>\n",
       "      <td>0.000723</td>\n",
       "      <td>0.000723</td>\n",
       "    </tr>\n",
       "    <tr>\n",
       "      <th>rank_test_score</th>\n",
       "      <td>1</td>\n",
       "      <td>1</td>\n",
       "      <td>1</td>\n",
       "      <td>1</td>\n",
       "      <td>1</td>\n",
       "    </tr>\n",
       "  </tbody>\n",
       "</table>\n",
       "</div>"
      ],
      "text/plain": [
       "                                                                                                  0  \\\n",
       "mean_fit_time                                                                              2.722214   \n",
       "std_fit_time                                                                               0.408506   \n",
       "mean_score_time                                                                             0.10154   \n",
       "std_score_time                                                                             0.002824   \n",
       "param_clf__penalty                                                                               l2   \n",
       "param_clf__C                                                                                10000.0   \n",
       "param_clf                                                             LogisticRegression(C=10000.0)   \n",
       "params              {'clf__penalty': 'l2', 'clf__C': 10000.0, 'clf': LogisticRegression(C=10000.0)}   \n",
       "split0_test_score                                                                          0.686309   \n",
       "split1_test_score                                                                          0.687859   \n",
       "split2_test_score                                                                          0.686341   \n",
       "mean_test_score                                                                            0.686836   \n",
       "std_test_score                                                                             0.000723   \n",
       "rank_test_score                                                                                   1   \n",
       "\n",
       "                                                                                                             1  \\\n",
       "mean_fit_time                                                                                         2.731036   \n",
       "std_fit_time                                                                                          0.467854   \n",
       "mean_score_time                                                                                       0.101774   \n",
       "std_score_time                                                                                        0.000274   \n",
       "param_clf__penalty                                                                                          l2   \n",
       "param_clf__C                                                                                          0.359381   \n",
       "param_clf                                                                        LogisticRegression(C=10000.0)   \n",
       "params              {'clf__penalty': 'l2', 'clf__C': 0.3593813663804626, 'clf': LogisticRegression(C=10000.0)}   \n",
       "split0_test_score                                                                                     0.686309   \n",
       "split1_test_score                                                                                     0.687859   \n",
       "split2_test_score                                                                                     0.686341   \n",
       "mean_test_score                                                                                       0.686836   \n",
       "std_test_score                                                                                        0.000723   \n",
       "rank_test_score                                                                                              1   \n",
       "\n",
       "                                                                                                             2  \\\n",
       "mean_fit_time                                                                                         2.662882   \n",
       "std_fit_time                                                                                          0.418869   \n",
       "mean_score_time                                                                                       0.105092   \n",
       "std_score_time                                                                                        0.000772   \n",
       "param_clf__penalty                                                                                          l2   \n",
       "param_clf__C                                                                                       1291.549665   \n",
       "param_clf                                                                        LogisticRegression(C=10000.0)   \n",
       "params              {'clf__penalty': 'l2', 'clf__C': 1291.5496650148827, 'clf': LogisticRegression(C=10000.0)}   \n",
       "split0_test_score                                                                                     0.686309   \n",
       "split1_test_score                                                                                     0.687859   \n",
       "split2_test_score                                                                                     0.686341   \n",
       "mean_test_score                                                                                       0.686836   \n",
       "std_test_score                                                                                        0.000723   \n",
       "rank_test_score                                                                                              1   \n",
       "\n",
       "                                                                                                             3  \\\n",
       "mean_fit_time                                                                                         2.497886   \n",
       "std_fit_time                                                                                          0.324576   \n",
       "mean_score_time                                                                                       0.097882   \n",
       "std_score_time                                                                                        0.000213   \n",
       "param_clf__penalty                                                                                          l2   \n",
       "param_clf__C                                                                                        166.810054   \n",
       "param_clf                                                                        LogisticRegression(C=10000.0)   \n",
       "params              {'clf__penalty': 'l2', 'clf__C': 166.81005372000558, 'clf': LogisticRegression(C=10000.0)}   \n",
       "split0_test_score                                                                                     0.686309   \n",
       "split1_test_score                                                                                     0.687859   \n",
       "split2_test_score                                                                                     0.686341   \n",
       "mean_test_score                                                                                       0.686836   \n",
       "std_test_score                                                                                        0.000723   \n",
       "rank_test_score                                                                                              1   \n",
       "\n",
       "                                                                                                            4  \n",
       "mean_fit_time                                                                                        2.497172  \n",
       "std_fit_time                                                                                         0.295395  \n",
       "mean_score_time                                                                                       0.10223  \n",
       "std_score_time                                                                                       0.001101  \n",
       "param_clf__penalty                                                                                         l2  \n",
       "param_clf__C                                                                                         2.782559  \n",
       "param_clf                                                                       LogisticRegression(C=10000.0)  \n",
       "params              {'clf__penalty': 'l2', 'clf__C': 2.782559402207126, 'clf': LogisticRegression(C=10000.0)}  \n",
       "split0_test_score                                                                                    0.686309  \n",
       "split1_test_score                                                                                    0.687859  \n",
       "split2_test_score                                                                                    0.686341  \n",
       "mean_test_score                                                                                      0.686836  \n",
       "std_test_score                                                                                       0.000723  \n",
       "rank_test_score                                                                                             1  "
      ]
     },
     "execution_count": 98,
     "metadata": {},
     "output_type": "execute_result"
    }
   ],
   "source": [
    "df_rs_res_3.head(10).T"
   ]
  },
  {
   "cell_type": "code",
   "execution_count": null,
   "id": "e94f5564-6ab0-41d2-b9a3-242182db2558",
   "metadata": {},
   "outputs": [
    {
     "data": {
      "application/com.datacamp.data-table.v1+json": {
       "is_truncated": false,
       "table": {
        "data": [
         {
          "index": 0,
          "mean_test_score": 0.686836416,
          "param_clf": {
           "C": 10000,
           "class_weight": null,
           "dual": false,
           "fit_intercept": true,
           "intercept_scaling": 1,
           "max_iter": 100,
           "n_jobs": null,
           "random_state": null,
           "solver": "lbfgs",
           "tol": 0.0001,
           "warm_start": false
          },
          "params": {
           "clf": {
            "C": 10000,
            "class_weight": null,
            "dual": false,
            "fit_intercept": true,
            "intercept_scaling": 1,
            "max_iter": 100,
            "n_jobs": null,
            "random_state": null,
            "solver": "lbfgs",
            "tol": 0.0001,
            "warm_start": false
           },
           "clf__C": 10000,
           "clf__penalty": "l2"
          },
          "rank_test_score": 1
         },
         {
          "index": 1,
          "mean_test_score": 0.686836416,
          "param_clf": {
           "C": 10000,
           "class_weight": null,
           "dual": false,
           "fit_intercept": true,
           "intercept_scaling": 1,
           "max_iter": 100,
           "n_jobs": null,
           "random_state": null,
           "solver": "lbfgs",
           "tol": 0.0001,
           "warm_start": false
          },
          "params": {
           "clf": {
            "C": 10000,
            "class_weight": null,
            "dual": false,
            "fit_intercept": true,
            "intercept_scaling": 1,
            "max_iter": 100,
            "n_jobs": null,
            "random_state": null,
            "solver": "lbfgs",
            "tol": 0.0001,
            "warm_start": false
           },
           "clf__C": 0.3593813664,
           "clf__penalty": "l2"
          },
          "rank_test_score": 1
         },
         {
          "index": 2,
          "mean_test_score": 0.686836416,
          "param_clf": {
           "C": 10000,
           "class_weight": null,
           "dual": false,
           "fit_intercept": true,
           "intercept_scaling": 1,
           "max_iter": 100,
           "n_jobs": null,
           "random_state": null,
           "solver": "lbfgs",
           "tol": 0.0001,
           "warm_start": false
          },
          "params": {
           "clf": {
            "C": 10000,
            "class_weight": null,
            "dual": false,
            "fit_intercept": true,
            "intercept_scaling": 1,
            "max_iter": 100,
            "n_jobs": null,
            "random_state": null,
            "solver": "lbfgs",
            "tol": 0.0001,
            "warm_start": false
           },
           "clf__C": 1291.5496650149,
           "clf__penalty": "l2"
          },
          "rank_test_score": 1
         },
         {
          "index": 3,
          "mean_test_score": 0.686836416,
          "param_clf": {
           "C": 10000,
           "class_weight": null,
           "dual": false,
           "fit_intercept": true,
           "intercept_scaling": 1,
           "max_iter": 100,
           "n_jobs": null,
           "random_state": null,
           "solver": "lbfgs",
           "tol": 0.0001,
           "warm_start": false
          },
          "params": {
           "clf": {
            "C": 10000,
            "class_weight": null,
            "dual": false,
            "fit_intercept": true,
            "intercept_scaling": 1,
            "max_iter": 100,
            "n_jobs": null,
            "random_state": null,
            "solver": "lbfgs",
            "tol": 0.0001,
            "warm_start": false
           },
           "clf__C": 166.81005372,
           "clf__penalty": "l2"
          },
          "rank_test_score": 1
         },
         {
          "index": 4,
          "mean_test_score": 0.686836416,
          "param_clf": {
           "C": 10000,
           "class_weight": null,
           "dual": false,
           "fit_intercept": true,
           "intercept_scaling": 1,
           "max_iter": 100,
           "n_jobs": null,
           "random_state": null,
           "solver": "lbfgs",
           "tol": 0.0001,
           "warm_start": false
          },
          "params": {
           "clf": {
            "C": 10000,
            "class_weight": null,
            "dual": false,
            "fit_intercept": true,
            "intercept_scaling": 1,
            "max_iter": 100,
            "n_jobs": null,
            "random_state": null,
            "solver": "lbfgs",
            "tol": 0.0001,
            "warm_start": false
           },
           "clf__C": 2.7825594022,
           "clf__penalty": "l2"
          },
          "rank_test_score": 1
         }
        ],
        "schema": {
         "fields": [
          {
           "name": "index",
           "type": "integer"
          },
          {
           "name": "rank_test_score",
           "type": "integer"
          },
          {
           "name": "mean_test_score",
           "type": "number"
          },
          {
           "name": "param_clf",
           "type": "string"
          },
          {
           "name": "params",
           "type": "string"
          }
         ],
         "pandas_version": "0.20.0",
         "primaryKey": [
          "index"
         ]
        }
       },
       "total_rows": 5
      },
      "text/html": [
       "<div>\n",
       "<style scoped>\n",
       "    .dataframe tbody tr th:only-of-type {\n",
       "        vertical-align: middle;\n",
       "    }\n",
       "\n",
       "    .dataframe tbody tr th {\n",
       "        vertical-align: top;\n",
       "    }\n",
       "\n",
       "    .dataframe thead th {\n",
       "        text-align: right;\n",
       "    }\n",
       "</style>\n",
       "<table border=\"1\" class=\"dataframe\">\n",
       "  <thead>\n",
       "    <tr style=\"text-align: right;\">\n",
       "      <th></th>\n",
       "      <th>rank_test_score</th>\n",
       "      <th>mean_test_score</th>\n",
       "      <th>param_clf</th>\n",
       "      <th>params</th>\n",
       "    </tr>\n",
       "  </thead>\n",
       "  <tbody>\n",
       "    <tr>\n",
       "      <th>0</th>\n",
       "      <td>1</td>\n",
       "      <td>0.686836</td>\n",
       "      <td>LogisticRegression(C=10000.0)</td>\n",
       "      <td>{'clf__penalty': 'l2', 'clf__C': 10000.0, 'clf': LogisticRegression(C=10000.0)}</td>\n",
       "    </tr>\n",
       "    <tr>\n",
       "      <th>1</th>\n",
       "      <td>1</td>\n",
       "      <td>0.686836</td>\n",
       "      <td>LogisticRegression(C=10000.0)</td>\n",
       "      <td>{'clf__penalty': 'l2', 'clf__C': 0.3593813663804626, 'clf': LogisticRegression(C=10000.0)}</td>\n",
       "    </tr>\n",
       "    <tr>\n",
       "      <th>2</th>\n",
       "      <td>1</td>\n",
       "      <td>0.686836</td>\n",
       "      <td>LogisticRegression(C=10000.0)</td>\n",
       "      <td>{'clf__penalty': 'l2', 'clf__C': 1291.5496650148827, 'clf': LogisticRegression(C=10000.0)}</td>\n",
       "    </tr>\n",
       "    <tr>\n",
       "      <th>3</th>\n",
       "      <td>1</td>\n",
       "      <td>0.686836</td>\n",
       "      <td>LogisticRegression(C=10000.0)</td>\n",
       "      <td>{'clf__penalty': 'l2', 'clf__C': 166.81005372000558, 'clf': LogisticRegression(C=10000.0)}</td>\n",
       "    </tr>\n",
       "    <tr>\n",
       "      <th>4</th>\n",
       "      <td>1</td>\n",
       "      <td>0.686836</td>\n",
       "      <td>LogisticRegression(C=10000.0)</td>\n",
       "      <td>{'clf__penalty': 'l2', 'clf__C': 2.782559402207126, 'clf': LogisticRegression(C=10000.0)}</td>\n",
       "    </tr>\n",
       "  </tbody>\n",
       "</table>\n",
       "</div>"
      ],
      "text/plain": [
       "   rank_test_score  mean_test_score                      param_clf  \\\n",
       "0                1         0.686836  LogisticRegression(C=10000.0)   \n",
       "1                1         0.686836  LogisticRegression(C=10000.0)   \n",
       "2                1         0.686836  LogisticRegression(C=10000.0)   \n",
       "3                1         0.686836  LogisticRegression(C=10000.0)   \n",
       "4                1         0.686836  LogisticRegression(C=10000.0)   \n",
       "\n",
       "                                                                                       params  \n",
       "0             {'clf__penalty': 'l2', 'clf__C': 10000.0, 'clf': LogisticRegression(C=10000.0)}  \n",
       "1  {'clf__penalty': 'l2', 'clf__C': 0.3593813663804626, 'clf': LogisticRegression(C=10000.0)}  \n",
       "2  {'clf__penalty': 'l2', 'clf__C': 1291.5496650148827, 'clf': LogisticRegression(C=10000.0)}  \n",
       "3  {'clf__penalty': 'l2', 'clf__C': 166.81005372000558, 'clf': LogisticRegression(C=10000.0)}  \n",
       "4   {'clf__penalty': 'l2', 'clf__C': 2.782559402207126, 'clf': LogisticRegression(C=10000.0)}  "
      ]
     },
     "execution_count": 100,
     "metadata": {},
     "output_type": "execute_result"
    }
   ],
   "source": [
    "# Increase column widths\n",
    "pd.set_option('display.max_colwidth', 200)\n",
    "\n",
    "df_rs_res_3[['rank_test_score', 'mean_test_score', 'param_clf', 'params']].sort_values(by='rank_test_score', ascending=True)"
   ]
  },
  {
   "cell_type": "markdown",
   "id": "8ad1a917-9d81-4a9b-823f-a29db008f075",
   "metadata": {},
   "source": [
    "So in reality all `LogisticRegression` models peform relatively poorly w.r.t. `Random Forest`s, `GBM`s and `XGBoost`s we've attempted. \n",
    "\n",
    "If time I would have liked to dig into why the test scores were all identical, but in the interest of time will need to move on since we have much better candidates.\n",
    "\n",
    "Let's eliminate them from potentials."
   ]
  },
  {
   "cell_type": "markdown",
   "id": "1ed33e7d-351b-4485-8be2-795eafe17236",
   "metadata": {},
   "source": [
    "---  \n",
    "\n",
    "<span style=\"font-size:0.5em;\">Tag 7</span>\n",
    "\n",
    "#### Final Summary<a id='f_summary'></a>\n",
    "\n",
    "<span style=\"font-size:0.5em;\"><a href='#toc_6'>Back to TOC</a></span>"
   ]
  },
  {
   "cell_type": "markdown",
   "id": "b42085a8-37fc-4edd-b5fe-232a03499c8a",
   "metadata": {},
   "source": [
    "At this point we've run through 4 different non-neural network classification models and think we have enough results to select a decent one as useful winner."
   ]
  },
  {
   "cell_type": "markdown",
   "id": "f978ffaa-4417-45d7-bf50-43ada303287b",
   "metadata": {},
   "source": [
    "We have three separate runs, so let's append their DFs."
   ]
  },
  {
   "cell_type": "code",
   "execution_count": null,
   "id": "e1943828-2e21-43bd-ab05-d7553c98cea5",
   "metadata": {},
   "outputs": [],
   "source": [
    "# Df1 \n",
    "df1 = pd.DataFrame(rs_results.cv_results_)\n",
    "df1['rv_run']= 1\n",
    "\n",
    "# Df2\n",
    "df2 = pd.DataFrame(rs_results_2.cv_results_)\n",
    "df2['rv_run']= 2\n",
    "\n",
    "# Df3 \n",
    "df3 = pd.DataFrame(rs_results_3.cv_results_)\n",
    "df3['rv_run']= 3\n",
    "\n",
    "# Stack em\n",
    "df_cv_res = pd.concat([df1, df2, df3], axis=0)\n",
    "\n",
    "# Add clf_type\n",
    "df_cv_res['clf_type'] = df_cv_res['param_clf'].apply(lambda x: type(x).__name__)"
   ]
  },
  {
   "cell_type": "code",
   "execution_count": null,
   "id": "b3dcd418-4966-43cb-8f46-5ae7d516005a",
   "metadata": {},
   "outputs": [
    {
     "data": {
      "application/com.datacamp.data-table.v1+json": {
       "is_truncated": false,
       "table": {
        "data": [
         {
          "0": 79.7628919284,
          "1": 7.0040990512,
          "2": 151.2517761389,
          "3": 1.6128745874,
          "4": 168.3812239965,
          "5": 1.4804257552,
          "6": 0.0405081908,
          "7": 264.6862568061,
          "8": 0.0366549492,
          "9": 72.9744517008,
          "index": "mean_fit_time"
         },
         {
          "0": 2.2585060569,
          "1": 0.2752993114,
          "2": 3.2926609302,
          "3": 0.0312506591,
          "4": 1.6891155393,
          "5": 0.0260144071,
          "6": 0.0057345464,
          "7": 2.4288772944,
          "8": 0.0005602102,
          "9": 5.8949811028,
          "index": "std_fit_time"
         },
         {
          "0": 0.4487094084,
          "1": 0.4296916326,
          "2": 0.4136993885,
          "3": 0.3199222088,
          "4": 0.4171425502,
          "5": 0.3215133349,
          "6": 0,
          "7": 0.6313856443,
          "8": 0,
          "9": 0.3227508863,
          "index": "mean_score_time"
         },
         {
          "0": 0.1666085563,
          "1": 0.0042337805,
          "2": 0.0383645125,
          "3": 0.0015566463,
          "4": 0.0303044377,
          "5": 0.0019393216,
          "6": 0,
          "7": 0.1344553467,
          "8": 0,
          "9": 0.0480910389,
          "index": "std_score_time"
         },
         {
          "0": 50,
          "1": 100,
          "2": 200,
          "3": 100,
          "4": 100,
          "5": 100,
          "6": 100,
          "7": 200,
          "8": 50,
          "9": 50,
          "index": "param_clf__n_estimators"
         },
         {
          "0": 0.18,
          "1": 0.34,
          "2": 0.14,
          "3": 0.26,
          "4": 0.42,
          "5": 0.34,
          "6": 0.22,
          "7": 0.22,
          "8": 0.3,
          "9": 0.38,
          "index": "param_clf__min_samples_split"
         },
         {
          "0": 0.25,
          "1": 0.75,
          "2": 0.5,
          "3": 0.25,
          "4": 0.75,
          "5": 1,
          "6": null,
          "7": 0.75,
          "8": null,
          "9": 0.5,
          "index": "param_clf__max_samples"
         },
         {
          "0": "sqrt",
          "1": "sqrt",
          "2": "log2",
          "3": "log2",
          "4": "log2",
          "5": "sqrt",
          "6": "sqrt",
          "7": "sqrt",
          "8": "auto",
          "9": "auto",
          "index": "param_clf__max_features"
         },
         {
          "0": 8,
          "1": 3,
          "2": 4,
          "3": 10,
          "4": 9,
          "5": 7,
          "6": 3,
          "7": 7,
          "8": 5,
          "9": 7,
          "index": "param_clf__max_depth"
         },
         {
          "0": "entropy",
          "1": "gini",
          "2": "gini",
          "3": "gini",
          "4": "gini",
          "5": "entropy",
          "6": "gini",
          "7": "entropy",
          "8": "entropy",
          "9": "entropy",
          "index": "param_clf__criterion"
         },
         {
          "0": {
           "base_score": null,
           "colsample_bylevel": null,
           "colsample_bytree": null,
           "gamma": null,
           "gpu_id": null,
           "interaction_constraints": null,
           "kwargs": {
            "criterion": "entropy",
            "max_features": "auto",
            "max_samples": 0.5,
            "min_samples_split": 0.38
           },
           "max_delta_step": null,
           "min_child_weight": null,
           "monotone_constraints": null,
           "n_jobs": null,
           "objective": "binary:logistic",
           "random_state": null,
           "reg_lambda": null,
           "scale_pos_weight": null,
           "subsample": null,
           "use_label_encoder": true,
           "verbosity": null
          },
          "1": {
           "base_estimator": {
            "ccp_alpha": 0,
            "criterion": "gini",
            "max_depth": null,
            "max_leaf_nodes": null,
            "min_samples_leaf": 1,
            "min_weight_fraction_leaf": 0,
            "random_state": null,
            "splitter": "best"
           },
           "ccp_alpha": 0,
           "criterion": "gini",
           "estimator_params": [
            "criterion",
            "max_depth",
            "min_samples_split",
            "min_samples_leaf",
            "min_weight_fraction_leaf",
            "max_features",
            "max_leaf_nodes",
            "min_impurity_decrease",
            "random_state",
            "ccp_alpha"
           ],
           "max_depth": null,
           "max_leaf_nodes": null,
           "min_impurity_decrease": 0,
           "min_samples_split": 2,
           "n_estimators": 100,
           "n_jobs": null,
           "random_state": null,
           "verbose": 0
          },
          "2": {
           "base_score": null,
           "colsample_bylevel": null,
           "colsample_bytree": null,
           "gamma": null,
           "gpu_id": null,
           "interaction_constraints": null,
           "kwargs": {
            "criterion": "entropy",
            "max_features": "auto",
            "max_samples": 0.5,
            "min_samples_split": 0.38
           },
           "max_delta_step": null,
           "min_child_weight": null,
           "monotone_constraints": null,
           "n_jobs": null,
           "objective": "binary:logistic",
           "random_state": null,
           "reg_lambda": null,
           "scale_pos_weight": null,
           "subsample": null,
           "use_label_encoder": true,
           "verbosity": null
          },
          "3": {
           "base_estimator": {
            "ccp_alpha": 0,
            "criterion": "gini",
            "max_depth": null,
            "max_leaf_nodes": null,
            "min_samples_leaf": 1,
            "min_weight_fraction_leaf": 0,
            "random_state": null,
            "splitter": "best"
           },
           "ccp_alpha": 0,
           "criterion": "gini",
           "estimator_params": [
            "criterion",
            "max_depth",
            "min_samples_split",
            "min_samples_leaf",
            "min_weight_fraction_leaf",
            "max_features",
            "max_leaf_nodes",
            "min_impurity_decrease",
            "random_state",
            "ccp_alpha"
           ],
           "max_depth": null,
           "max_leaf_nodes": null,
           "min_impurity_decrease": 0,
           "min_samples_split": 2,
           "n_estimators": 100,
           "n_jobs": null,
           "random_state": null,
           "verbose": 0
          },
          "4": {
           "base_score": null,
           "colsample_bylevel": null,
           "colsample_bytree": null,
           "gamma": null,
           "gpu_id": null,
           "interaction_constraints": null,
           "kwargs": {
            "criterion": "entropy",
            "max_features": "auto",
            "max_samples": 0.5,
            "min_samples_split": 0.38
           },
           "max_delta_step": null,
           "min_child_weight": null,
           "monotone_constraints": null,
           "n_jobs": null,
           "objective": "binary:logistic",
           "random_state": null,
           "reg_lambda": null,
           "scale_pos_weight": null,
           "subsample": null,
           "use_label_encoder": true,
           "verbosity": null
          },
          "5": {
           "base_estimator": {
            "ccp_alpha": 0,
            "criterion": "gini",
            "max_depth": null,
            "max_leaf_nodes": null,
            "min_samples_leaf": 1,
            "min_weight_fraction_leaf": 0,
            "random_state": null,
            "splitter": "best"
           },
           "ccp_alpha": 0,
           "criterion": "gini",
           "estimator_params": [
            "criterion",
            "max_depth",
            "min_samples_split",
            "min_samples_leaf",
            "min_weight_fraction_leaf",
            "max_features",
            "max_leaf_nodes",
            "min_impurity_decrease",
            "random_state",
            "ccp_alpha"
           ],
           "max_depth": null,
           "max_leaf_nodes": null,
           "min_impurity_decrease": 0,
           "min_samples_split": 2,
           "n_estimators": 100,
           "n_jobs": null,
           "random_state": null,
           "verbose": 0
          },
          "6": {
           "alpha": 0.9,
           "ccp_alpha": 0,
           "init": null,
           "loss": "deviance",
           "max_features": null,
           "min_impurity_decrease": 0,
           "min_samples_split": 2,
           "n_estimators": 100,
           "n_iter_no_change": null,
           "random_state": null,
           "subsample": 1,
           "validation_fraction": 0.1,
           "warm_start": false
          },
          "7": {
           "base_score": null,
           "colsample_bylevel": null,
           "colsample_bytree": null,
           "gamma": null,
           "gpu_id": null,
           "interaction_constraints": null,
           "kwargs": {
            "criterion": "entropy",
            "max_features": "auto",
            "max_samples": 0.5,
            "min_samples_split": 0.38
           },
           "max_delta_step": null,
           "min_child_weight": null,
           "monotone_constraints": null,
           "n_jobs": null,
           "objective": "binary:logistic",
           "random_state": null,
           "reg_lambda": null,
           "scale_pos_weight": null,
           "subsample": null,
           "use_label_encoder": true,
           "verbosity": null
          },
          "8": {
           "alpha": 0.9,
           "ccp_alpha": 0,
           "init": null,
           "loss": "deviance",
           "max_features": null,
           "min_impurity_decrease": 0,
           "min_samples_split": 2,
           "n_estimators": 100,
           "n_iter_no_change": null,
           "random_state": null,
           "subsample": 1,
           "validation_fraction": 0.1,
           "warm_start": false
          },
          "9": {
           "base_score": null,
           "colsample_bylevel": null,
           "colsample_bytree": null,
           "gamma": null,
           "gpu_id": null,
           "interaction_constraints": null,
           "kwargs": {
            "criterion": "entropy",
            "max_features": "auto",
            "max_samples": 0.5,
            "min_samples_split": 0.38
           },
           "max_delta_step": null,
           "min_child_weight": null,
           "monotone_constraints": null,
           "n_jobs": null,
           "objective": "binary:logistic",
           "random_state": null,
           "reg_lambda": null,
           "scale_pos_weight": null,
           "subsample": null,
           "use_label_encoder": true,
           "verbosity": null
          },
          "index": "param_clf"
         },
         {
          "0": {
           "clf": {
            "base_score": null,
            "colsample_bylevel": null,
            "colsample_bytree": null,
            "gamma": null,
            "gpu_id": null,
            "interaction_constraints": null,
            "kwargs": {
             "criterion": "entropy",
             "max_features": "auto",
             "max_samples": 0.5,
             "min_samples_split": 0.38
            },
            "max_delta_step": null,
            "min_child_weight": null,
            "monotone_constraints": null,
            "n_jobs": null,
            "objective": "binary:logistic",
            "random_state": null,
            "reg_lambda": null,
            "scale_pos_weight": null,
            "subsample": null,
            "use_label_encoder": true,
            "verbosity": null
           },
           "clf__criterion": "entropy",
           "clf__max_depth": 8,
           "clf__max_features": "sqrt",
           "clf__max_samples": 0.25,
           "clf__min_samples_split": 0.18,
           "clf__n_estimators": 50
          },
          "1": {
           "clf": {
            "base_estimator": {
             "ccp_alpha": 0,
             "criterion": "gini",
             "max_depth": null,
             "max_leaf_nodes": null,
             "min_samples_leaf": 1,
             "min_weight_fraction_leaf": 0,
             "random_state": null,
             "splitter": "best"
            },
            "ccp_alpha": 0,
            "criterion": "gini",
            "estimator_params": [
             "criterion",
             "max_depth",
             "min_samples_split",
             "min_samples_leaf",
             "min_weight_fraction_leaf",
             "max_features",
             "max_leaf_nodes",
             "min_impurity_decrease",
             "random_state",
             "ccp_alpha"
            ],
            "max_depth": null,
            "max_leaf_nodes": null,
            "min_impurity_decrease": 0,
            "min_samples_split": 2,
            "n_estimators": 100,
            "n_jobs": null,
            "random_state": null,
            "verbose": 0
           },
           "clf__criterion": "gini",
           "clf__max_depth": 3,
           "clf__max_features": "sqrt",
           "clf__max_samples": 0.75,
           "clf__min_samples_split": 0.34,
           "clf__n_estimators": 100
          },
          "2": {
           "clf": {
            "base_score": null,
            "colsample_bylevel": null,
            "colsample_bytree": null,
            "gamma": null,
            "gpu_id": null,
            "interaction_constraints": null,
            "kwargs": {
             "criterion": "entropy",
             "max_features": "auto",
             "max_samples": 0.5,
             "min_samples_split": 0.38
            },
            "max_delta_step": null,
            "min_child_weight": null,
            "monotone_constraints": null,
            "n_jobs": null,
            "objective": "binary:logistic",
            "random_state": null,
            "reg_lambda": null,
            "scale_pos_weight": null,
            "subsample": null,
            "use_label_encoder": true,
            "verbosity": null
           },
           "clf__criterion": "gini",
           "clf__max_depth": 4,
           "clf__max_features": "log2",
           "clf__max_samples": 0.5,
           "clf__min_samples_split": 0.14,
           "clf__n_estimators": 200
          },
          "3": {
           "clf": {
            "base_estimator": {
             "ccp_alpha": 0,
             "criterion": "gini",
             "max_depth": null,
             "max_leaf_nodes": null,
             "min_samples_leaf": 1,
             "min_weight_fraction_leaf": 0,
             "random_state": null,
             "splitter": "best"
            },
            "ccp_alpha": 0,
            "criterion": "gini",
            "estimator_params": [
             "criterion",
             "max_depth",
             "min_samples_split",
             "min_samples_leaf",
             "min_weight_fraction_leaf",
             "max_features",
             "max_leaf_nodes",
             "min_impurity_decrease",
             "random_state",
             "ccp_alpha"
            ],
            "max_depth": null,
            "max_leaf_nodes": null,
            "min_impurity_decrease": 0,
            "min_samples_split": 2,
            "n_estimators": 100,
            "n_jobs": null,
            "random_state": null,
            "verbose": 0
           },
           "clf__criterion": "gini",
           "clf__max_depth": 10,
           "clf__max_features": "log2",
           "clf__max_samples": 0.25,
           "clf__min_samples_split": 0.26,
           "clf__n_estimators": 100
          },
          "4": {
           "clf": {
            "base_score": null,
            "colsample_bylevel": null,
            "colsample_bytree": null,
            "gamma": null,
            "gpu_id": null,
            "interaction_constraints": null,
            "kwargs": {
             "criterion": "entropy",
             "max_features": "auto",
             "max_samples": 0.5,
             "min_samples_split": 0.38
            },
            "max_delta_step": null,
            "min_child_weight": null,
            "monotone_constraints": null,
            "n_jobs": null,
            "objective": "binary:logistic",
            "random_state": null,
            "reg_lambda": null,
            "scale_pos_weight": null,
            "subsample": null,
            "use_label_encoder": true,
            "verbosity": null
           },
           "clf__criterion": "gini",
           "clf__max_depth": 9,
           "clf__max_features": "log2",
           "clf__max_samples": 0.75,
           "clf__min_samples_split": 0.42,
           "clf__n_estimators": 100
          },
          "5": {
           "clf": {
            "base_estimator": {
             "ccp_alpha": 0,
             "criterion": "gini",
             "max_depth": null,
             "max_leaf_nodes": null,
             "min_samples_leaf": 1,
             "min_weight_fraction_leaf": 0,
             "random_state": null,
             "splitter": "best"
            },
            "ccp_alpha": 0,
            "criterion": "gini",
            "estimator_params": [
             "criterion",
             "max_depth",
             "min_samples_split",
             "min_samples_leaf",
             "min_weight_fraction_leaf",
             "max_features",
             "max_leaf_nodes",
             "min_impurity_decrease",
             "random_state",
             "ccp_alpha"
            ],
            "max_depth": null,
            "max_leaf_nodes": null,
            "min_impurity_decrease": 0,
            "min_samples_split": 2,
            "n_estimators": 100,
            "n_jobs": null,
            "random_state": null,
            "verbose": 0
           },
           "clf__criterion": "entropy",
           "clf__max_depth": 7,
           "clf__max_features": "sqrt",
           "clf__max_samples": 1,
           "clf__min_samples_split": 0.34,
           "clf__n_estimators": 100
          },
          "6": {
           "clf": {
            "alpha": 0.9,
            "ccp_alpha": 0,
            "init": null,
            "loss": "deviance",
            "max_features": null,
            "min_impurity_decrease": 0,
            "min_samples_split": 2,
            "n_estimators": 100,
            "n_iter_no_change": null,
            "random_state": null,
            "subsample": 1,
            "validation_fraction": 0.1,
            "warm_start": false
           },
           "clf__criterion": "gini",
           "clf__max_depth": 3,
           "clf__max_features": "sqrt",
           "clf__min_samples_split": 0.22,
           "clf__n_estimators": 100
          },
          "7": {
           "clf": {
            "base_score": null,
            "colsample_bylevel": null,
            "colsample_bytree": null,
            "gamma": null,
            "gpu_id": null,
            "interaction_constraints": null,
            "kwargs": {
             "criterion": "entropy",
             "max_features": "auto",
             "max_samples": 0.5,
             "min_samples_split": 0.38
            },
            "max_delta_step": null,
            "min_child_weight": null,
            "monotone_constraints": null,
            "n_jobs": null,
            "objective": "binary:logistic",
            "random_state": null,
            "reg_lambda": null,
            "scale_pos_weight": null,
            "subsample": null,
            "use_label_encoder": true,
            "verbosity": null
           },
           "clf__criterion": "entropy",
           "clf__max_depth": 7,
           "clf__max_features": "sqrt",
           "clf__max_samples": 0.75,
           "clf__min_samples_split": 0.22,
           "clf__n_estimators": 200
          },
          "8": {
           "clf": {
            "alpha": 0.9,
            "ccp_alpha": 0,
            "init": null,
            "loss": "deviance",
            "max_features": null,
            "min_impurity_decrease": 0,
            "min_samples_split": 2,
            "n_estimators": 100,
            "n_iter_no_change": null,
            "random_state": null,
            "subsample": 1,
            "validation_fraction": 0.1,
            "warm_start": false
           },
           "clf__criterion": "entropy",
           "clf__max_depth": 5,
           "clf__max_features": "auto",
           "clf__min_samples_split": 0.3,
           "clf__n_estimators": 50
          },
          "9": {
           "clf": {
            "base_score": null,
            "colsample_bylevel": null,
            "colsample_bytree": null,
            "gamma": null,
            "gpu_id": null,
            "interaction_constraints": null,
            "kwargs": {
             "criterion": "entropy",
             "max_features": "auto",
             "max_samples": 0.5,
             "min_samples_split": 0.38
            },
            "max_delta_step": null,
            "min_child_weight": null,
            "monotone_constraints": null,
            "n_jobs": null,
            "objective": "binary:logistic",
            "random_state": null,
            "reg_lambda": null,
            "scale_pos_weight": null,
            "subsample": null,
            "use_label_encoder": true,
            "verbosity": null
           },
           "clf__criterion": "entropy",
           "clf__max_depth": 7,
           "clf__max_features": "auto",
           "clf__max_samples": 0.5,
           "clf__min_samples_split": 0.38,
           "clf__n_estimators": 50
          },
          "index": "params"
         },
         {
          "0": 0.9308145188,
          "1": 0.6863627136,
          "2": 0.9308679439,
          "3": 0.6863627136,
          "4": 0.929628482,
          "5": 0.6863627136,
          "6": null,
          "7": 0.9294361517,
          "8": null,
          "9": 0.9314128797,
          "index": "split0_test_score"
         },
         {
          "0": 0.9321287758,
          "1": 0.6878799859,
          "2": 0.9315197299,
          "3": 0.6878799859,
          "4": 0.9305687634,
          "5": 0.6878799859,
          "6": null,
          "7": 0.930269583,
          "8": null,
          "9": 0.9317441152,
          "index": "split1_test_score"
         },
         {
          "0": 0.930312323,
          "1": 0.6863520286,
          "2": 0.9306115035,
          "3": 0.6863520286,
          "4": 0.9291797113,
          "5": 0.6863520286,
          "6": null,
          "7": 0.9291690263,
          "8": null,
          "9": 0.9308786289,
          "index": "split2_test_score"
         },
         {
          "0": 0.9310852059,
          "1": 0.6868649093,
          "2": 0.9309997258,
          "3": 0.6868649093,
          "4": 0.9297923189,
          "5": 0.6868649093,
          "6": null,
          "7": 0.9296249203,
          "8": null,
          "9": 0.9313452079,
          "index": "mean_test_score"
         },
         {
          "0": 0.0007658672,
          "1": 0.0007177808,
          "2": 0.000382312,
          "3": 0.0007177808,
          "4": 0.0005787909,
          "5": 0.0007177808,
          "6": null,
          "7": 0.0004687085,
          "8": null,
          "9": 0.0003565588,
          "index": "std_test_score"
         },
         {
          "0": 2,
          "1": 6,
          "2": 3,
          "3": 6,
          "4": 4,
          "5": 6,
          "6": 9,
          "7": 5,
          "8": 10,
          "9": 1,
          "index": "rank_test_score"
         },
         {
          "0": 1,
          "1": 1,
          "2": 1,
          "3": 1,
          "4": 1,
          "5": 1,
          "6": 1,
          "7": 1,
          "8": 1,
          "9": 1,
          "index": "rv_run"
         },
         {
          "0": null,
          "1": null,
          "2": null,
          "3": null,
          "4": null,
          "5": null,
          "6": null,
          "7": null,
          "8": null,
          "9": null,
          "index": "param_clf__learning_rate"
         },
         {
          "0": null,
          "1": null,
          "2": null,
          "3": null,
          "4": null,
          "5": null,
          "6": null,
          "7": null,
          "8": null,
          "9": null,
          "index": "param_clf__penalty"
         },
         {
          "0": null,
          "1": null,
          "2": null,
          "3": null,
          "4": null,
          "5": null,
          "6": null,
          "7": null,
          "8": null,
          "9": null,
          "index": "param_clf__C"
         },
         {
          "0": "XGBClassifier",
          "1": "RandomForestClassifier",
          "2": "XGBClassifier",
          "3": "RandomForestClassifier",
          "4": "XGBClassifier",
          "5": "RandomForestClassifier",
          "6": "GradientBoostingClassifier",
          "7": "XGBClassifier",
          "8": "GradientBoostingClassifier",
          "9": "XGBClassifier",
          "index": "clf_type"
         }
        ],
        "schema": {
         "fields": [
          {
           "name": "index",
           "type": "string"
          },
          {
           "name": 0,
           "type": "string"
          },
          {
           "name": 1,
           "type": "string"
          },
          {
           "name": 2,
           "type": "string"
          },
          {
           "name": 3,
           "type": "string"
          },
          {
           "name": 4,
           "type": "string"
          },
          {
           "name": 5,
           "type": "string"
          },
          {
           "name": 6,
           "type": "string"
          },
          {
           "name": 7,
           "type": "string"
          },
          {
           "name": 8,
           "type": "string"
          },
          {
           "name": 9,
           "type": "string"
          }
         ],
         "pandas_version": "0.20.0",
         "primaryKey": [
          "index"
         ]
        }
       },
       "total_rows": 23
      },
      "text/html": [
       "<div>\n",
       "<style scoped>\n",
       "    .dataframe tbody tr th:only-of-type {\n",
       "        vertical-align: middle;\n",
       "    }\n",
       "\n",
       "    .dataframe tbody tr th {\n",
       "        vertical-align: top;\n",
       "    }\n",
       "\n",
       "    .dataframe thead th {\n",
       "        text-align: right;\n",
       "    }\n",
       "</style>\n",
       "<table border=\"1\" class=\"dataframe\">\n",
       "  <thead>\n",
       "    <tr style=\"text-align: right;\">\n",
       "      <th></th>\n",
       "      <th>0</th>\n",
       "      <th>1</th>\n",
       "      <th>2</th>\n",
       "      <th>3</th>\n",
       "      <th>4</th>\n",
       "      <th>5</th>\n",
       "      <th>6</th>\n",
       "      <th>7</th>\n",
       "      <th>8</th>\n",
       "      <th>9</th>\n",
       "    </tr>\n",
       "  </thead>\n",
       "  <tbody>\n",
       "    <tr>\n",
       "      <th>mean_fit_time</th>\n",
       "      <td>79.762892</td>\n",
       "      <td>7.004099</td>\n",
       "      <td>151.251776</td>\n",
       "      <td>1.612875</td>\n",
       "      <td>168.381224</td>\n",
       "      <td>1.480426</td>\n",
       "      <td>0.040508</td>\n",
       "      <td>264.686257</td>\n",
       "      <td>0.036655</td>\n",
       "      <td>72.974452</td>\n",
       "    </tr>\n",
       "    <tr>\n",
       "      <th>std_fit_time</th>\n",
       "      <td>2.258506</td>\n",
       "      <td>0.275299</td>\n",
       "      <td>3.292661</td>\n",
       "      <td>0.031251</td>\n",
       "      <td>1.689116</td>\n",
       "      <td>0.026014</td>\n",
       "      <td>0.005735</td>\n",
       "      <td>2.428877</td>\n",
       "      <td>0.00056</td>\n",
       "      <td>5.894981</td>\n",
       "    </tr>\n",
       "    <tr>\n",
       "      <th>mean_score_time</th>\n",
       "      <td>0.448709</td>\n",
       "      <td>0.429692</td>\n",
       "      <td>0.413699</td>\n",
       "      <td>0.319922</td>\n",
       "      <td>0.417143</td>\n",
       "      <td>0.321513</td>\n",
       "      <td>0.0</td>\n",
       "      <td>0.631386</td>\n",
       "      <td>0.0</td>\n",
       "      <td>0.322751</td>\n",
       "    </tr>\n",
       "    <tr>\n",
       "      <th>std_score_time</th>\n",
       "      <td>0.166609</td>\n",
       "      <td>0.004234</td>\n",
       "      <td>0.038365</td>\n",
       "      <td>0.001557</td>\n",
       "      <td>0.030304</td>\n",
       "      <td>0.001939</td>\n",
       "      <td>0.0</td>\n",
       "      <td>0.134455</td>\n",
       "      <td>0.0</td>\n",
       "      <td>0.048091</td>\n",
       "    </tr>\n",
       "    <tr>\n",
       "      <th>param_clf__n_estimators</th>\n",
       "      <td>50</td>\n",
       "      <td>100</td>\n",
       "      <td>200</td>\n",
       "      <td>100</td>\n",
       "      <td>100</td>\n",
       "      <td>100</td>\n",
       "      <td>100</td>\n",
       "      <td>200</td>\n",
       "      <td>50</td>\n",
       "      <td>50</td>\n",
       "    </tr>\n",
       "    <tr>\n",
       "      <th>param_clf__min_samples_split</th>\n",
       "      <td>0.18</td>\n",
       "      <td>0.34</td>\n",
       "      <td>0.14</td>\n",
       "      <td>0.26</td>\n",
       "      <td>0.42</td>\n",
       "      <td>0.34</td>\n",
       "      <td>0.22</td>\n",
       "      <td>0.22</td>\n",
       "      <td>0.3</td>\n",
       "      <td>0.38</td>\n",
       "    </tr>\n",
       "    <tr>\n",
       "      <th>param_clf__max_samples</th>\n",
       "      <td>0.25</td>\n",
       "      <td>0.75</td>\n",
       "      <td>0.5</td>\n",
       "      <td>0.25</td>\n",
       "      <td>0.75</td>\n",
       "      <td>1</td>\n",
       "      <td>NaN</td>\n",
       "      <td>0.75</td>\n",
       "      <td>NaN</td>\n",
       "      <td>0.5</td>\n",
       "    </tr>\n",
       "    <tr>\n",
       "      <th>param_clf__max_features</th>\n",
       "      <td>sqrt</td>\n",
       "      <td>sqrt</td>\n",
       "      <td>log2</td>\n",
       "      <td>log2</td>\n",
       "      <td>log2</td>\n",
       "      <td>sqrt</td>\n",
       "      <td>sqrt</td>\n",
       "      <td>sqrt</td>\n",
       "      <td>auto</td>\n",
       "      <td>auto</td>\n",
       "    </tr>\n",
       "    <tr>\n",
       "      <th>param_clf__max_depth</th>\n",
       "      <td>8</td>\n",
       "      <td>3</td>\n",
       "      <td>4</td>\n",
       "      <td>10</td>\n",
       "      <td>9</td>\n",
       "      <td>7</td>\n",
       "      <td>3</td>\n",
       "      <td>7</td>\n",
       "      <td>5</td>\n",
       "      <td>7</td>\n",
       "    </tr>\n",
       "    <tr>\n",
       "      <th>param_clf__criterion</th>\n",
       "      <td>entropy</td>\n",
       "      <td>gini</td>\n",
       "      <td>gini</td>\n",
       "      <td>gini</td>\n",
       "      <td>gini</td>\n",
       "      <td>entropy</td>\n",
       "      <td>gini</td>\n",
       "      <td>entropy</td>\n",
       "      <td>entropy</td>\n",
       "      <td>entropy</td>\n",
       "    </tr>\n",
       "    <tr>\n",
       "      <th>param_clf</th>\n",
       "      <td>XGBClassifier(base_score=None, booster=None, colsample_bylevel=None,\\n              colsample_bynode=None, colsample_bytree=None, criterion='entropy',\\n              gamma=None, gpu_id=None, impor...</td>\n",
       "      <td>RandomForestClassifier()</td>\n",
       "      <td>XGBClassifier(base_score=None, booster=None, colsample_bylevel=None,\\n              colsample_bynode=None, colsample_bytree=None, criterion='entropy',\\n              gamma=None, gpu_id=None, impor...</td>\n",
       "      <td>RandomForestClassifier()</td>\n",
       "      <td>XGBClassifier(base_score=None, booster=None, colsample_bylevel=None,\\n              colsample_bynode=None, colsample_bytree=None, criterion='entropy',\\n              gamma=None, gpu_id=None, impor...</td>\n",
       "      <td>RandomForestClassifier()</td>\n",
       "      <td>GradientBoostingClassifier()</td>\n",
       "      <td>XGBClassifier(base_score=None, booster=None, colsample_bylevel=None,\\n              colsample_bynode=None, colsample_bytree=None, criterion='entropy',\\n              gamma=None, gpu_id=None, impor...</td>\n",
       "      <td>GradientBoostingClassifier()</td>\n",
       "      <td>XGBClassifier(base_score=None, booster=None, colsample_bylevel=None,\\n              colsample_bynode=None, colsample_bytree=None, criterion='entropy',\\n              gamma=None, gpu_id=None, impor...</td>\n",
       "    </tr>\n",
       "    <tr>\n",
       "      <th>params</th>\n",
       "      <td>{'clf__n_estimators': 50, 'clf__min_samples_split': 0.18, 'clf__max_samples': 0.25, 'clf__max_features': 'sqrt', 'clf__max_depth': 8, 'clf__criterion': 'entropy', 'clf': XGBClassifier(base_score=N...</td>\n",
       "      <td>{'clf__n_estimators': 100, 'clf__min_samples_split': 0.33999999999999997, 'clf__max_samples': 0.75, 'clf__max_features': 'sqrt', 'clf__max_depth': 3, 'clf__criterion': 'gini', 'clf': RandomForestC...</td>\n",
       "      <td>{'clf__n_estimators': 200, 'clf__min_samples_split': 0.14, 'clf__max_samples': 0.5, 'clf__max_features': 'log2', 'clf__max_depth': 4, 'clf__criterion': 'gini', 'clf': XGBClassifier(base_score=None...</td>\n",
       "      <td>{'clf__n_estimators': 100, 'clf__min_samples_split': 0.26, 'clf__max_samples': 0.25, 'clf__max_features': 'log2', 'clf__max_depth': 10, 'clf__criterion': 'gini', 'clf': RandomForestClassifier()}</td>\n",
       "      <td>{'clf__n_estimators': 100, 'clf__min_samples_split': 0.42000000000000004, 'clf__max_samples': 0.75, 'clf__max_features': 'log2', 'clf__max_depth': 9, 'clf__criterion': 'gini', 'clf': XGBClassifier...</td>\n",
       "      <td>{'clf__n_estimators': 100, 'clf__min_samples_split': 0.33999999999999997, 'clf__max_samples': 1, 'clf__max_features': 'sqrt', 'clf__max_depth': 7, 'clf__criterion': 'entropy', 'clf': RandomForestC...</td>\n",
       "      <td>{'clf__n_estimators': 100, 'clf__min_samples_split': 0.22, 'clf__max_features': 'sqrt', 'clf__max_depth': 3, 'clf__criterion': 'gini', 'clf': GradientBoostingClassifier()}</td>\n",
       "      <td>{'clf__n_estimators': 200, 'clf__min_samples_split': 0.22, 'clf__max_samples': 0.75, 'clf__max_features': 'sqrt', 'clf__max_depth': 7, 'clf__criterion': 'entropy', 'clf': XGBClassifier(base_score=...</td>\n",
       "      <td>{'clf__n_estimators': 50, 'clf__min_samples_split': 0.30000000000000004, 'clf__max_features': 'auto', 'clf__max_depth': 5, 'clf__criterion': 'entropy', 'clf': GradientBoostingClassifier()}</td>\n",
       "      <td>{'clf__n_estimators': 50, 'clf__min_samples_split': 0.38, 'clf__max_samples': 0.5, 'clf__max_features': 'auto', 'clf__max_depth': 7, 'clf__criterion': 'entropy', 'clf': XGBClassifier(base_score=No...</td>\n",
       "    </tr>\n",
       "    <tr>\n",
       "      <th>split0_test_score</th>\n",
       "      <td>0.930815</td>\n",
       "      <td>0.686363</td>\n",
       "      <td>0.930868</td>\n",
       "      <td>0.686363</td>\n",
       "      <td>0.929628</td>\n",
       "      <td>0.686363</td>\n",
       "      <td>NaN</td>\n",
       "      <td>0.929436</td>\n",
       "      <td>NaN</td>\n",
       "      <td>0.931413</td>\n",
       "    </tr>\n",
       "    <tr>\n",
       "      <th>split1_test_score</th>\n",
       "      <td>0.932129</td>\n",
       "      <td>0.68788</td>\n",
       "      <td>0.93152</td>\n",
       "      <td>0.68788</td>\n",
       "      <td>0.930569</td>\n",
       "      <td>0.68788</td>\n",
       "      <td>NaN</td>\n",
       "      <td>0.93027</td>\n",
       "      <td>NaN</td>\n",
       "      <td>0.931744</td>\n",
       "    </tr>\n",
       "    <tr>\n",
       "      <th>split2_test_score</th>\n",
       "      <td>0.930312</td>\n",
       "      <td>0.686352</td>\n",
       "      <td>0.930612</td>\n",
       "      <td>0.686352</td>\n",
       "      <td>0.92918</td>\n",
       "      <td>0.686352</td>\n",
       "      <td>NaN</td>\n",
       "      <td>0.929169</td>\n",
       "      <td>NaN</td>\n",
       "      <td>0.930879</td>\n",
       "    </tr>\n",
       "    <tr>\n",
       "      <th>mean_test_score</th>\n",
       "      <td>0.931085</td>\n",
       "      <td>0.686865</td>\n",
       "      <td>0.931</td>\n",
       "      <td>0.686865</td>\n",
       "      <td>0.929792</td>\n",
       "      <td>0.686865</td>\n",
       "      <td>NaN</td>\n",
       "      <td>0.929625</td>\n",
       "      <td>NaN</td>\n",
       "      <td>0.931345</td>\n",
       "    </tr>\n",
       "    <tr>\n",
       "      <th>std_test_score</th>\n",
       "      <td>0.000766</td>\n",
       "      <td>0.000718</td>\n",
       "      <td>0.000382</td>\n",
       "      <td>0.000718</td>\n",
       "      <td>0.000579</td>\n",
       "      <td>0.000718</td>\n",
       "      <td>NaN</td>\n",
       "      <td>0.000469</td>\n",
       "      <td>NaN</td>\n",
       "      <td>0.000357</td>\n",
       "    </tr>\n",
       "    <tr>\n",
       "      <th>rank_test_score</th>\n",
       "      <td>2</td>\n",
       "      <td>6</td>\n",
       "      <td>3</td>\n",
       "      <td>6</td>\n",
       "      <td>4</td>\n",
       "      <td>6</td>\n",
       "      <td>9</td>\n",
       "      <td>5</td>\n",
       "      <td>10</td>\n",
       "      <td>1</td>\n",
       "    </tr>\n",
       "    <tr>\n",
       "      <th>rv_run</th>\n",
       "      <td>1</td>\n",
       "      <td>1</td>\n",
       "      <td>1</td>\n",
       "      <td>1</td>\n",
       "      <td>1</td>\n",
       "      <td>1</td>\n",
       "      <td>1</td>\n",
       "      <td>1</td>\n",
       "      <td>1</td>\n",
       "      <td>1</td>\n",
       "    </tr>\n",
       "    <tr>\n",
       "      <th>param_clf__learning_rate</th>\n",
       "      <td>NaN</td>\n",
       "      <td>NaN</td>\n",
       "      <td>NaN</td>\n",
       "      <td>NaN</td>\n",
       "      <td>NaN</td>\n",
       "      <td>NaN</td>\n",
       "      <td>NaN</td>\n",
       "      <td>NaN</td>\n",
       "      <td>NaN</td>\n",
       "      <td>NaN</td>\n",
       "    </tr>\n",
       "    <tr>\n",
       "      <th>param_clf__penalty</th>\n",
       "      <td>NaN</td>\n",
       "      <td>NaN</td>\n",
       "      <td>NaN</td>\n",
       "      <td>NaN</td>\n",
       "      <td>NaN</td>\n",
       "      <td>NaN</td>\n",
       "      <td>NaN</td>\n",
       "      <td>NaN</td>\n",
       "      <td>NaN</td>\n",
       "      <td>NaN</td>\n",
       "    </tr>\n",
       "    <tr>\n",
       "      <th>param_clf__C</th>\n",
       "      <td>NaN</td>\n",
       "      <td>NaN</td>\n",
       "      <td>NaN</td>\n",
       "      <td>NaN</td>\n",
       "      <td>NaN</td>\n",
       "      <td>NaN</td>\n",
       "      <td>NaN</td>\n",
       "      <td>NaN</td>\n",
       "      <td>NaN</td>\n",
       "      <td>NaN</td>\n",
       "    </tr>\n",
       "    <tr>\n",
       "      <th>clf_type</th>\n",
       "      <td>XGBClassifier</td>\n",
       "      <td>RandomForestClassifier</td>\n",
       "      <td>XGBClassifier</td>\n",
       "      <td>RandomForestClassifier</td>\n",
       "      <td>XGBClassifier</td>\n",
       "      <td>RandomForestClassifier</td>\n",
       "      <td>GradientBoostingClassifier</td>\n",
       "      <td>XGBClassifier</td>\n",
       "      <td>GradientBoostingClassifier</td>\n",
       "      <td>XGBClassifier</td>\n",
       "    </tr>\n",
       "  </tbody>\n",
       "</table>\n",
       "</div>"
      ],
      "text/plain": [
       "                                                                                                                                                                                                                                    0  \\\n",
       "mean_fit_time                                                                                                                                                                                                               79.762892   \n",
       "std_fit_time                                                                                                                                                                                                                 2.258506   \n",
       "mean_score_time                                                                                                                                                                                                              0.448709   \n",
       "std_score_time                                                                                                                                                                                                               0.166609   \n",
       "param_clf__n_estimators                                                                                                                                                                                                            50   \n",
       "param_clf__min_samples_split                                                                                                                                                                                                     0.18   \n",
       "param_clf__max_samples                                                                                                                                                                                                           0.25   \n",
       "param_clf__max_features                                                                                                                                                                                                          sqrt   \n",
       "param_clf__max_depth                                                                                                                                                                                                                8   \n",
       "param_clf__criterion                                                                                                                                                                                                          entropy   \n",
       "param_clf                     XGBClassifier(base_score=None, booster=None, colsample_bylevel=None,\\n              colsample_bynode=None, colsample_bytree=None, criterion='entropy',\\n              gamma=None, gpu_id=None, impor...   \n",
       "params                        {'clf__n_estimators': 50, 'clf__min_samples_split': 0.18, 'clf__max_samples': 0.25, 'clf__max_features': 'sqrt', 'clf__max_depth': 8, 'clf__criterion': 'entropy', 'clf': XGBClassifier(base_score=N...   \n",
       "split0_test_score                                                                                                                                                                                                            0.930815   \n",
       "split1_test_score                                                                                                                                                                                                            0.932129   \n",
       "split2_test_score                                                                                                                                                                                                            0.930312   \n",
       "mean_test_score                                                                                                                                                                                                              0.931085   \n",
       "std_test_score                                                                                                                                                                                                               0.000766   \n",
       "rank_test_score                                                                                                                                                                                                                     2   \n",
       "rv_run                                                                                                                                                                                                                              1   \n",
       "param_clf__learning_rate                                                                                                                                                                                                          NaN   \n",
       "param_clf__penalty                                                                                                                                                                                                                NaN   \n",
       "param_clf__C                                                                                                                                                                                                                      NaN   \n",
       "clf_type                                                                                                                                                                                                                XGBClassifier   \n",
       "\n",
       "                                                                                                                                                                                                                                    1  \\\n",
       "mean_fit_time                                                                                                                                                                                                                7.004099   \n",
       "std_fit_time                                                                                                                                                                                                                 0.275299   \n",
       "mean_score_time                                                                                                                                                                                                              0.429692   \n",
       "std_score_time                                                                                                                                                                                                               0.004234   \n",
       "param_clf__n_estimators                                                                                                                                                                                                           100   \n",
       "param_clf__min_samples_split                                                                                                                                                                                                     0.34   \n",
       "param_clf__max_samples                                                                                                                                                                                                           0.75   \n",
       "param_clf__max_features                                                                                                                                                                                                          sqrt   \n",
       "param_clf__max_depth                                                                                                                                                                                                                3   \n",
       "param_clf__criterion                                                                                                                                                                                                             gini   \n",
       "param_clf                                                                                                                                                                                                    RandomForestClassifier()   \n",
       "params                        {'clf__n_estimators': 100, 'clf__min_samples_split': 0.33999999999999997, 'clf__max_samples': 0.75, 'clf__max_features': 'sqrt', 'clf__max_depth': 3, 'clf__criterion': 'gini', 'clf': RandomForestC...   \n",
       "split0_test_score                                                                                                                                                                                                            0.686363   \n",
       "split1_test_score                                                                                                                                                                                                             0.68788   \n",
       "split2_test_score                                                                                                                                                                                                            0.686352   \n",
       "mean_test_score                                                                                                                                                                                                              0.686865   \n",
       "std_test_score                                                                                                                                                                                                               0.000718   \n",
       "rank_test_score                                                                                                                                                                                                                     6   \n",
       "rv_run                                                                                                                                                                                                                              1   \n",
       "param_clf__learning_rate                                                                                                                                                                                                          NaN   \n",
       "param_clf__penalty                                                                                                                                                                                                                NaN   \n",
       "param_clf__C                                                                                                                                                                                                                      NaN   \n",
       "clf_type                                                                                                                                                                                                       RandomForestClassifier   \n",
       "\n",
       "                                                                                                                                                                                                                                    2  \\\n",
       "mean_fit_time                                                                                                                                                                                                              151.251776   \n",
       "std_fit_time                                                                                                                                                                                                                 3.292661   \n",
       "mean_score_time                                                                                                                                                                                                              0.413699   \n",
       "std_score_time                                                                                                                                                                                                               0.038365   \n",
       "param_clf__n_estimators                                                                                                                                                                                                           200   \n",
       "param_clf__min_samples_split                                                                                                                                                                                                     0.14   \n",
       "param_clf__max_samples                                                                                                                                                                                                            0.5   \n",
       "param_clf__max_features                                                                                                                                                                                                          log2   \n",
       "param_clf__max_depth                                                                                                                                                                                                                4   \n",
       "param_clf__criterion                                                                                                                                                                                                             gini   \n",
       "param_clf                     XGBClassifier(base_score=None, booster=None, colsample_bylevel=None,\\n              colsample_bynode=None, colsample_bytree=None, criterion='entropy',\\n              gamma=None, gpu_id=None, impor...   \n",
       "params                        {'clf__n_estimators': 200, 'clf__min_samples_split': 0.14, 'clf__max_samples': 0.5, 'clf__max_features': 'log2', 'clf__max_depth': 4, 'clf__criterion': 'gini', 'clf': XGBClassifier(base_score=None...   \n",
       "split0_test_score                                                                                                                                                                                                            0.930868   \n",
       "split1_test_score                                                                                                                                                                                                             0.93152   \n",
       "split2_test_score                                                                                                                                                                                                            0.930612   \n",
       "mean_test_score                                                                                                                                                                                                                 0.931   \n",
       "std_test_score                                                                                                                                                                                                               0.000382   \n",
       "rank_test_score                                                                                                                                                                                                                     3   \n",
       "rv_run                                                                                                                                                                                                                              1   \n",
       "param_clf__learning_rate                                                                                                                                                                                                          NaN   \n",
       "param_clf__penalty                                                                                                                                                                                                                NaN   \n",
       "param_clf__C                                                                                                                                                                                                                      NaN   \n",
       "clf_type                                                                                                                                                                                                                XGBClassifier   \n",
       "\n",
       "                                                                                                                                                                                                                               3  \\\n",
       "mean_fit_time                                                                                                                                                                                                           1.612875   \n",
       "std_fit_time                                                                                                                                                                                                            0.031251   \n",
       "mean_score_time                                                                                                                                                                                                         0.319922   \n",
       "std_score_time                                                                                                                                                                                                          0.001557   \n",
       "param_clf__n_estimators                                                                                                                                                                                                      100   \n",
       "param_clf__min_samples_split                                                                                                                                                                                                0.26   \n",
       "param_clf__max_samples                                                                                                                                                                                                      0.25   \n",
       "param_clf__max_features                                                                                                                                                                                                     log2   \n",
       "param_clf__max_depth                                                                                                                                                                                                          10   \n",
       "param_clf__criterion                                                                                                                                                                                                        gini   \n",
       "param_clf                                                                                                                                                                                               RandomForestClassifier()   \n",
       "params                        {'clf__n_estimators': 100, 'clf__min_samples_split': 0.26, 'clf__max_samples': 0.25, 'clf__max_features': 'log2', 'clf__max_depth': 10, 'clf__criterion': 'gini', 'clf': RandomForestClassifier()}   \n",
       "split0_test_score                                                                                                                                                                                                       0.686363   \n",
       "split1_test_score                                                                                                                                                                                                        0.68788   \n",
       "split2_test_score                                                                                                                                                                                                       0.686352   \n",
       "mean_test_score                                                                                                                                                                                                         0.686865   \n",
       "std_test_score                                                                                                                                                                                                          0.000718   \n",
       "rank_test_score                                                                                                                                                                                                                6   \n",
       "rv_run                                                                                                                                                                                                                         1   \n",
       "param_clf__learning_rate                                                                                                                                                                                                     NaN   \n",
       "param_clf__penalty                                                                                                                                                                                                           NaN   \n",
       "param_clf__C                                                                                                                                                                                                                 NaN   \n",
       "clf_type                                                                                                                                                                                                  RandomForestClassifier   \n",
       "\n",
       "                                                                                                                                                                                                                                    4  \\\n",
       "mean_fit_time                                                                                                                                                                                                              168.381224   \n",
       "std_fit_time                                                                                                                                                                                                                 1.689116   \n",
       "mean_score_time                                                                                                                                                                                                              0.417143   \n",
       "std_score_time                                                                                                                                                                                                               0.030304   \n",
       "param_clf__n_estimators                                                                                                                                                                                                           100   \n",
       "param_clf__min_samples_split                                                                                                                                                                                                     0.42   \n",
       "param_clf__max_samples                                                                                                                                                                                                           0.75   \n",
       "param_clf__max_features                                                                                                                                                                                                          log2   \n",
       "param_clf__max_depth                                                                                                                                                                                                                9   \n",
       "param_clf__criterion                                                                                                                                                                                                             gini   \n",
       "param_clf                     XGBClassifier(base_score=None, booster=None, colsample_bylevel=None,\\n              colsample_bynode=None, colsample_bytree=None, criterion='entropy',\\n              gamma=None, gpu_id=None, impor...   \n",
       "params                        {'clf__n_estimators': 100, 'clf__min_samples_split': 0.42000000000000004, 'clf__max_samples': 0.75, 'clf__max_features': 'log2', 'clf__max_depth': 9, 'clf__criterion': 'gini', 'clf': XGBClassifier...   \n",
       "split0_test_score                                                                                                                                                                                                            0.929628   \n",
       "split1_test_score                                                                                                                                                                                                            0.930569   \n",
       "split2_test_score                                                                                                                                                                                                             0.92918   \n",
       "mean_test_score                                                                                                                                                                                                              0.929792   \n",
       "std_test_score                                                                                                                                                                                                               0.000579   \n",
       "rank_test_score                                                                                                                                                                                                                     4   \n",
       "rv_run                                                                                                                                                                                                                              1   \n",
       "param_clf__learning_rate                                                                                                                                                                                                          NaN   \n",
       "param_clf__penalty                                                                                                                                                                                                                NaN   \n",
       "param_clf__C                                                                                                                                                                                                                      NaN   \n",
       "clf_type                                                                                                                                                                                                                XGBClassifier   \n",
       "\n",
       "                                                                                                                                                                                                                                    5  \\\n",
       "mean_fit_time                                                                                                                                                                                                                1.480426   \n",
       "std_fit_time                                                                                                                                                                                                                 0.026014   \n",
       "mean_score_time                                                                                                                                                                                                              0.321513   \n",
       "std_score_time                                                                                                                                                                                                               0.001939   \n",
       "param_clf__n_estimators                                                                                                                                                                                                           100   \n",
       "param_clf__min_samples_split                                                                                                                                                                                                     0.34   \n",
       "param_clf__max_samples                                                                                                                                                                                                              1   \n",
       "param_clf__max_features                                                                                                                                                                                                          sqrt   \n",
       "param_clf__max_depth                                                                                                                                                                                                                7   \n",
       "param_clf__criterion                                                                                                                                                                                                          entropy   \n",
       "param_clf                                                                                                                                                                                                    RandomForestClassifier()   \n",
       "params                        {'clf__n_estimators': 100, 'clf__min_samples_split': 0.33999999999999997, 'clf__max_samples': 1, 'clf__max_features': 'sqrt', 'clf__max_depth': 7, 'clf__criterion': 'entropy', 'clf': RandomForestC...   \n",
       "split0_test_score                                                                                                                                                                                                            0.686363   \n",
       "split1_test_score                                                                                                                                                                                                             0.68788   \n",
       "split2_test_score                                                                                                                                                                                                            0.686352   \n",
       "mean_test_score                                                                                                                                                                                                              0.686865   \n",
       "std_test_score                                                                                                                                                                                                               0.000718   \n",
       "rank_test_score                                                                                                                                                                                                                     6   \n",
       "rv_run                                                                                                                                                                                                                              1   \n",
       "param_clf__learning_rate                                                                                                                                                                                                          NaN   \n",
       "param_clf__penalty                                                                                                                                                                                                                NaN   \n",
       "param_clf__C                                                                                                                                                                                                                      NaN   \n",
       "clf_type                                                                                                                                                                                                       RandomForestClassifier   \n",
       "\n",
       "                                                                                                                                                                                                        6  \\\n",
       "mean_fit_time                                                                                                                                                                                    0.040508   \n",
       "std_fit_time                                                                                                                                                                                     0.005735   \n",
       "mean_score_time                                                                                                                                                                                       0.0   \n",
       "std_score_time                                                                                                                                                                                        0.0   \n",
       "param_clf__n_estimators                                                                                                                                                                               100   \n",
       "param_clf__min_samples_split                                                                                                                                                                         0.22   \n",
       "param_clf__max_samples                                                                                                                                                                                NaN   \n",
       "param_clf__max_features                                                                                                                                                                              sqrt   \n",
       "param_clf__max_depth                                                                                                                                                                                    3   \n",
       "param_clf__criterion                                                                                                                                                                                 gini   \n",
       "param_clf                                                                                                                                                                    GradientBoostingClassifier()   \n",
       "params                        {'clf__n_estimators': 100, 'clf__min_samples_split': 0.22, 'clf__max_features': 'sqrt', 'clf__max_depth': 3, 'clf__criterion': 'gini', 'clf': GradientBoostingClassifier()}   \n",
       "split0_test_score                                                                                                                                                                                     NaN   \n",
       "split1_test_score                                                                                                                                                                                     NaN   \n",
       "split2_test_score                                                                                                                                                                                     NaN   \n",
       "mean_test_score                                                                                                                                                                                       NaN   \n",
       "std_test_score                                                                                                                                                                                        NaN   \n",
       "rank_test_score                                                                                                                                                                                         9   \n",
       "rv_run                                                                                                                                                                                                  1   \n",
       "param_clf__learning_rate                                                                                                                                                                              NaN   \n",
       "param_clf__penalty                                                                                                                                                                                    NaN   \n",
       "param_clf__C                                                                                                                                                                                          NaN   \n",
       "clf_type                                                                                                                                                                       GradientBoostingClassifier   \n",
       "\n",
       "                                                                                                                                                                                                                                    7  \\\n",
       "mean_fit_time                                                                                                                                                                                                              264.686257   \n",
       "std_fit_time                                                                                                                                                                                                                 2.428877   \n",
       "mean_score_time                                                                                                                                                                                                              0.631386   \n",
       "std_score_time                                                                                                                                                                                                               0.134455   \n",
       "param_clf__n_estimators                                                                                                                                                                                                           200   \n",
       "param_clf__min_samples_split                                                                                                                                                                                                     0.22   \n",
       "param_clf__max_samples                                                                                                                                                                                                           0.75   \n",
       "param_clf__max_features                                                                                                                                                                                                          sqrt   \n",
       "param_clf__max_depth                                                                                                                                                                                                                7   \n",
       "param_clf__criterion                                                                                                                                                                                                          entropy   \n",
       "param_clf                     XGBClassifier(base_score=None, booster=None, colsample_bylevel=None,\\n              colsample_bynode=None, colsample_bytree=None, criterion='entropy',\\n              gamma=None, gpu_id=None, impor...   \n",
       "params                        {'clf__n_estimators': 200, 'clf__min_samples_split': 0.22, 'clf__max_samples': 0.75, 'clf__max_features': 'sqrt', 'clf__max_depth': 7, 'clf__criterion': 'entropy', 'clf': XGBClassifier(base_score=...   \n",
       "split0_test_score                                                                                                                                                                                                            0.929436   \n",
       "split1_test_score                                                                                                                                                                                                             0.93027   \n",
       "split2_test_score                                                                                                                                                                                                            0.929169   \n",
       "mean_test_score                                                                                                                                                                                                              0.929625   \n",
       "std_test_score                                                                                                                                                                                                               0.000469   \n",
       "rank_test_score                                                                                                                                                                                                                     5   \n",
       "rv_run                                                                                                                                                                                                                              1   \n",
       "param_clf__learning_rate                                                                                                                                                                                                          NaN   \n",
       "param_clf__penalty                                                                                                                                                                                                                NaN   \n",
       "param_clf__C                                                                                                                                                                                                                      NaN   \n",
       "clf_type                                                                                                                                                                                                                XGBClassifier   \n",
       "\n",
       "                                                                                                                                                                                                                         8  \\\n",
       "mean_fit_time                                                                                                                                                                                                     0.036655   \n",
       "std_fit_time                                                                                                                                                                                                       0.00056   \n",
       "mean_score_time                                                                                                                                                                                                        0.0   \n",
       "std_score_time                                                                                                                                                                                                         0.0   \n",
       "param_clf__n_estimators                                                                                                                                                                                                 50   \n",
       "param_clf__min_samples_split                                                                                                                                                                                           0.3   \n",
       "param_clf__max_samples                                                                                                                                                                                                 NaN   \n",
       "param_clf__max_features                                                                                                                                                                                               auto   \n",
       "param_clf__max_depth                                                                                                                                                                                                     5   \n",
       "param_clf__criterion                                                                                                                                                                                               entropy   \n",
       "param_clf                                                                                                                                                                                     GradientBoostingClassifier()   \n",
       "params                        {'clf__n_estimators': 50, 'clf__min_samples_split': 0.30000000000000004, 'clf__max_features': 'auto', 'clf__max_depth': 5, 'clf__criterion': 'entropy', 'clf': GradientBoostingClassifier()}   \n",
       "split0_test_score                                                                                                                                                                                                      NaN   \n",
       "split1_test_score                                                                                                                                                                                                      NaN   \n",
       "split2_test_score                                                                                                                                                                                                      NaN   \n",
       "mean_test_score                                                                                                                                                                                                        NaN   \n",
       "std_test_score                                                                                                                                                                                                         NaN   \n",
       "rank_test_score                                                                                                                                                                                                         10   \n",
       "rv_run                                                                                                                                                                                                                   1   \n",
       "param_clf__learning_rate                                                                                                                                                                                               NaN   \n",
       "param_clf__penalty                                                                                                                                                                                                     NaN   \n",
       "param_clf__C                                                                                                                                                                                                           NaN   \n",
       "clf_type                                                                                                                                                                                        GradientBoostingClassifier   \n",
       "\n",
       "                                                                                                                                                                                                                                    9  \n",
       "mean_fit_time                                                                                                                                                                                                               72.974452  \n",
       "std_fit_time                                                                                                                                                                                                                 5.894981  \n",
       "mean_score_time                                                                                                                                                                                                              0.322751  \n",
       "std_score_time                                                                                                                                                                                                               0.048091  \n",
       "param_clf__n_estimators                                                                                                                                                                                                            50  \n",
       "param_clf__min_samples_split                                                                                                                                                                                                     0.38  \n",
       "param_clf__max_samples                                                                                                                                                                                                            0.5  \n",
       "param_clf__max_features                                                                                                                                                                                                          auto  \n",
       "param_clf__max_depth                                                                                                                                                                                                                7  \n",
       "param_clf__criterion                                                                                                                                                                                                          entropy  \n",
       "param_clf                     XGBClassifier(base_score=None, booster=None, colsample_bylevel=None,\\n              colsample_bynode=None, colsample_bytree=None, criterion='entropy',\\n              gamma=None, gpu_id=None, impor...  \n",
       "params                        {'clf__n_estimators': 50, 'clf__min_samples_split': 0.38, 'clf__max_samples': 0.5, 'clf__max_features': 'auto', 'clf__max_depth': 7, 'clf__criterion': 'entropy', 'clf': XGBClassifier(base_score=No...  \n",
       "split0_test_score                                                                                                                                                                                                            0.931413  \n",
       "split1_test_score                                                                                                                                                                                                            0.931744  \n",
       "split2_test_score                                                                                                                                                                                                            0.930879  \n",
       "mean_test_score                                                                                                                                                                                                              0.931345  \n",
       "std_test_score                                                                                                                                                                                                               0.000357  \n",
       "rank_test_score                                                                                                                                                                                                                     1  \n",
       "rv_run                                                                                                                                                                                                                              1  \n",
       "param_clf__learning_rate                                                                                                                                                                                                          NaN  \n",
       "param_clf__penalty                                                                                                                                                                                                                NaN  \n",
       "param_clf__C                                                                                                                                                                                                                      NaN  \n",
       "clf_type                                                                                                                                                                                                                XGBClassifier  "
      ]
     },
     "execution_count": 111,
     "metadata": {},
     "output_type": "execute_result"
    }
   ],
   "source": [
    "df_cv_res.head(10).T"
   ]
  },
  {
   "cell_type": "code",
   "execution_count": null,
   "id": "acc3b7f9-c6f2-4376-ac44-2ef37c194ed9",
   "metadata": {},
   "outputs": [
    {
     "data": {
      "application/com.datacamp.data-table.v1+json": {
       "is_truncated": false,
       "table": {
        "data": [
         {
          "clf_type": "XGBClassifier",
          "index": 9,
          "mean_test_score": 0.9313452079,
          "rv_run": 1
         },
         {
          "clf_type": "XGBClassifier",
          "index": 0,
          "mean_test_score": 0.9310852059,
          "rv_run": 1
         },
         {
          "clf_type": "XGBClassifier",
          "index": 2,
          "mean_test_score": 0.9309997258,
          "rv_run": 1
         },
         {
          "clf_type": "XGBClassifier",
          "index": 4,
          "mean_test_score": 0.9297923189,
          "rv_run": 1
         },
         {
          "clf_type": "XGBClassifier",
          "index": 7,
          "mean_test_score": 0.9296249203,
          "rv_run": 1
         },
         {
          "clf_type": "GradientBoostingClassifier",
          "index": 9,
          "mean_test_score": 0.9295572469,
          "rv_run": 2
         },
         {
          "clf_type": "GradientBoostingClassifier",
          "index": 7,
          "mean_test_score": 0.9294254655,
          "rv_run": 2
         },
         {
          "clf_type": "GradientBoostingClassifier",
          "index": 4,
          "mean_test_score": 0.9284317576,
          "rv_run": 2
         },
         {
          "clf_type": "GradientBoostingClassifier",
          "index": 5,
          "mean_test_score": 0.9282073734,
          "rv_run": 2
         },
         {
          "clf_type": "GradientBoostingClassifier",
          "index": 2,
          "mean_test_score": 0.925764064,
          "rv_run": 2
         },
         {
          "clf_type": "RandomForestClassifier",
          "index": 3,
          "mean_test_score": 0.6868649093,
          "rv_run": 1
         },
         {
          "clf_type": "RandomForestClassifier",
          "index": 5,
          "mean_test_score": 0.6868649093,
          "rv_run": 1
         },
         {
          "clf_type": "RandomForestClassifier",
          "index": 1,
          "mean_test_score": 0.6868649093,
          "rv_run": 1
         },
         {
          "clf_type": "GradientBoostingClassifier",
          "index": 8,
          "mean_test_score": 0.6868649074,
          "rv_run": 2
         },
         {
          "clf_type": "GradientBoostingClassifier",
          "index": 3,
          "mean_test_score": 0.6868649074,
          "rv_run": 2
         },
         {
          "clf_type": "GradientBoostingClassifier",
          "index": 6,
          "mean_test_score": 0.6868649074,
          "rv_run": 2
         },
         {
          "clf_type": "GradientBoostingClassifier",
          "index": 1,
          "mean_test_score": 0.6868649074,
          "rv_run": 2
         },
         {
          "clf_type": "GradientBoostingClassifier",
          "index": 0,
          "mean_test_score": 0.6868649074,
          "rv_run": 2
         },
         {
          "clf_type": "LogisticRegression",
          "index": 0,
          "mean_test_score": 0.686836416,
          "rv_run": 3
         },
         {
          "clf_type": "LogisticRegression",
          "index": 1,
          "mean_test_score": 0.686836416,
          "rv_run": 3
         },
         {
          "clf_type": "LogisticRegression",
          "index": 2,
          "mean_test_score": 0.686836416,
          "rv_run": 3
         },
         {
          "clf_type": "LogisticRegression",
          "index": 3,
          "mean_test_score": 0.686836416,
          "rv_run": 3
         },
         {
          "clf_type": "LogisticRegression",
          "index": 4,
          "mean_test_score": 0.686836416,
          "rv_run": 3
         },
         {
          "clf_type": "GradientBoostingClassifier",
          "index": 6,
          "mean_test_score": null,
          "rv_run": 1
         },
         {
          "clf_type": "GradientBoostingClassifier",
          "index": 8,
          "mean_test_score": null,
          "rv_run": 1
         }
        ],
        "schema": {
         "fields": [
          {
           "name": "index",
           "type": "integer"
          },
          {
           "name": "rv_run",
           "type": "integer"
          },
          {
           "name": "clf_type",
           "type": "string"
          },
          {
           "name": "mean_test_score",
           "type": "number"
          }
         ],
         "pandas_version": "0.20.0"
        }
       },
       "total_rows": 25
      },
      "text/html": [
       "<div>\n",
       "<style scoped>\n",
       "    .dataframe tbody tr th:only-of-type {\n",
       "        vertical-align: middle;\n",
       "    }\n",
       "\n",
       "    .dataframe tbody tr th {\n",
       "        vertical-align: top;\n",
       "    }\n",
       "\n",
       "    .dataframe thead th {\n",
       "        text-align: right;\n",
       "    }\n",
       "</style>\n",
       "<table border=\"1\" class=\"dataframe\">\n",
       "  <thead>\n",
       "    <tr style=\"text-align: right;\">\n",
       "      <th></th>\n",
       "      <th>rv_run</th>\n",
       "      <th>clf_type</th>\n",
       "      <th>mean_test_score</th>\n",
       "    </tr>\n",
       "  </thead>\n",
       "  <tbody>\n",
       "    <tr>\n",
       "      <th>9</th>\n",
       "      <td>1</td>\n",
       "      <td>XGBClassifier</td>\n",
       "      <td>0.931345</td>\n",
       "    </tr>\n",
       "    <tr>\n",
       "      <th>0</th>\n",
       "      <td>1</td>\n",
       "      <td>XGBClassifier</td>\n",
       "      <td>0.931085</td>\n",
       "    </tr>\n",
       "    <tr>\n",
       "      <th>2</th>\n",
       "      <td>1</td>\n",
       "      <td>XGBClassifier</td>\n",
       "      <td>0.931000</td>\n",
       "    </tr>\n",
       "    <tr>\n",
       "      <th>4</th>\n",
       "      <td>1</td>\n",
       "      <td>XGBClassifier</td>\n",
       "      <td>0.929792</td>\n",
       "    </tr>\n",
       "    <tr>\n",
       "      <th>7</th>\n",
       "      <td>1</td>\n",
       "      <td>XGBClassifier</td>\n",
       "      <td>0.929625</td>\n",
       "    </tr>\n",
       "    <tr>\n",
       "      <th>9</th>\n",
       "      <td>2</td>\n",
       "      <td>GradientBoostingClassifier</td>\n",
       "      <td>0.929557</td>\n",
       "    </tr>\n",
       "    <tr>\n",
       "      <th>7</th>\n",
       "      <td>2</td>\n",
       "      <td>GradientBoostingClassifier</td>\n",
       "      <td>0.929425</td>\n",
       "    </tr>\n",
       "    <tr>\n",
       "      <th>4</th>\n",
       "      <td>2</td>\n",
       "      <td>GradientBoostingClassifier</td>\n",
       "      <td>0.928432</td>\n",
       "    </tr>\n",
       "    <tr>\n",
       "      <th>5</th>\n",
       "      <td>2</td>\n",
       "      <td>GradientBoostingClassifier</td>\n",
       "      <td>0.928207</td>\n",
       "    </tr>\n",
       "    <tr>\n",
       "      <th>2</th>\n",
       "      <td>2</td>\n",
       "      <td>GradientBoostingClassifier</td>\n",
       "      <td>0.925764</td>\n",
       "    </tr>\n",
       "    <tr>\n",
       "      <th>3</th>\n",
       "      <td>1</td>\n",
       "      <td>RandomForestClassifier</td>\n",
       "      <td>0.686865</td>\n",
       "    </tr>\n",
       "    <tr>\n",
       "      <th>5</th>\n",
       "      <td>1</td>\n",
       "      <td>RandomForestClassifier</td>\n",
       "      <td>0.686865</td>\n",
       "    </tr>\n",
       "    <tr>\n",
       "      <th>1</th>\n",
       "      <td>1</td>\n",
       "      <td>RandomForestClassifier</td>\n",
       "      <td>0.686865</td>\n",
       "    </tr>\n",
       "    <tr>\n",
       "      <th>8</th>\n",
       "      <td>2</td>\n",
       "      <td>GradientBoostingClassifier</td>\n",
       "      <td>0.686865</td>\n",
       "    </tr>\n",
       "    <tr>\n",
       "      <th>3</th>\n",
       "      <td>2</td>\n",
       "      <td>GradientBoostingClassifier</td>\n",
       "      <td>0.686865</td>\n",
       "    </tr>\n",
       "    <tr>\n",
       "      <th>6</th>\n",
       "      <td>2</td>\n",
       "      <td>GradientBoostingClassifier</td>\n",
       "      <td>0.686865</td>\n",
       "    </tr>\n",
       "    <tr>\n",
       "      <th>1</th>\n",
       "      <td>2</td>\n",
       "      <td>GradientBoostingClassifier</td>\n",
       "      <td>0.686865</td>\n",
       "    </tr>\n",
       "    <tr>\n",
       "      <th>0</th>\n",
       "      <td>2</td>\n",
       "      <td>GradientBoostingClassifier</td>\n",
       "      <td>0.686865</td>\n",
       "    </tr>\n",
       "    <tr>\n",
       "      <th>0</th>\n",
       "      <td>3</td>\n",
       "      <td>LogisticRegression</td>\n",
       "      <td>0.686836</td>\n",
       "    </tr>\n",
       "    <tr>\n",
       "      <th>1</th>\n",
       "      <td>3</td>\n",
       "      <td>LogisticRegression</td>\n",
       "      <td>0.686836</td>\n",
       "    </tr>\n",
       "    <tr>\n",
       "      <th>2</th>\n",
       "      <td>3</td>\n",
       "      <td>LogisticRegression</td>\n",
       "      <td>0.686836</td>\n",
       "    </tr>\n",
       "    <tr>\n",
       "      <th>3</th>\n",
       "      <td>3</td>\n",
       "      <td>LogisticRegression</td>\n",
       "      <td>0.686836</td>\n",
       "    </tr>\n",
       "    <tr>\n",
       "      <th>4</th>\n",
       "      <td>3</td>\n",
       "      <td>LogisticRegression</td>\n",
       "      <td>0.686836</td>\n",
       "    </tr>\n",
       "    <tr>\n",
       "      <th>6</th>\n",
       "      <td>1</td>\n",
       "      <td>GradientBoostingClassifier</td>\n",
       "      <td>NaN</td>\n",
       "    </tr>\n",
       "    <tr>\n",
       "      <th>8</th>\n",
       "      <td>1</td>\n",
       "      <td>GradientBoostingClassifier</td>\n",
       "      <td>NaN</td>\n",
       "    </tr>\n",
       "  </tbody>\n",
       "</table>\n",
       "</div>"
      ],
      "text/plain": [
       "   rv_run                    clf_type  mean_test_score\n",
       "9       1               XGBClassifier         0.931345\n",
       "0       1               XGBClassifier         0.931085\n",
       "2       1               XGBClassifier         0.931000\n",
       "4       1               XGBClassifier         0.929792\n",
       "7       1               XGBClassifier         0.929625\n",
       "9       2  GradientBoostingClassifier         0.929557\n",
       "7       2  GradientBoostingClassifier         0.929425\n",
       "4       2  GradientBoostingClassifier         0.928432\n",
       "5       2  GradientBoostingClassifier         0.928207\n",
       "2       2  GradientBoostingClassifier         0.925764\n",
       "3       1      RandomForestClassifier         0.686865\n",
       "5       1      RandomForestClassifier         0.686865\n",
       "1       1      RandomForestClassifier         0.686865\n",
       "8       2  GradientBoostingClassifier         0.686865\n",
       "3       2  GradientBoostingClassifier         0.686865\n",
       "6       2  GradientBoostingClassifier         0.686865\n",
       "1       2  GradientBoostingClassifier         0.686865\n",
       "0       2  GradientBoostingClassifier         0.686865\n",
       "0       3          LogisticRegression         0.686836\n",
       "1       3          LogisticRegression         0.686836\n",
       "2       3          LogisticRegression         0.686836\n",
       "3       3          LogisticRegression         0.686836\n",
       "4       3          LogisticRegression         0.686836\n",
       "6       1  GradientBoostingClassifier              NaN\n",
       "8       1  GradientBoostingClassifier              NaN"
      ]
     },
     "execution_count": 138,
     "metadata": {},
     "output_type": "execute_result"
    }
   ],
   "source": [
    "df_cv_res[['rv_run', 'clf_type', 'mean_test_score']].sort_values(by=['mean_test_score'], ascending=[False])"
   ]
  },
  {
   "cell_type": "markdown",
   "id": "38e7066e-52db-4fdb-9ea8-fd93d48d7f42",
   "metadata": {},
   "source": [
    "**Observations:**  \n",
    "- `XGBoost` performs consisently above the others, which is to be expected. In real world it tends to do that as well :)\n",
    "- Ranging peformance for `GBM`, whicn on quick parsing it seems to align with increasing `max_depth`.\n",
    "- Random Forest lags and odd that they all perform 'the same' even across wide gaps of `max_depth` (e.g. Model index 18 performed the same as Model index 4 but have max depth's of 3, and 10, respectively.\n",
    "- `LogisticRegression` was a non-starter.\n"
   ]
  },
  {
   "cell_type": "markdown",
   "id": "d0cb97f7-d4d3-4b62-8e44-e93ef7a864f0",
   "metadata": {},
   "source": [
    "As we saw the best model came on our **first run of this notebook**, so let's use the `best_model_` from that run.\n",
    "\n",
    "For expediency I will put <span><a href='#summary'>THIS LINK HERE</a></span> to where we recapped it's various metrics.\n",
    "\n",
    "Oh one other thing I wanted to double check is to see if the cv was stable."
   ]
  },
  {
   "cell_type": "code",
   "execution_count": null,
   "id": "4d5764e5-c49f-4b8a-9fe4-404406696436",
   "metadata": {},
   "outputs": [
    {
     "data": {
      "text/plain": [
       "Index(['mean_fit_time', 'std_fit_time', 'mean_score_time', 'std_score_time',\n",
       "       'param_clf__n_estimators', 'param_clf__min_samples_split',\n",
       "       'param_clf__max_samples', 'param_clf__max_features',\n",
       "       'param_clf__max_depth', 'param_clf__criterion', 'param_clf', 'params',\n",
       "       'split0_test_score', 'split1_test_score', 'split2_test_score',\n",
       "       'mean_test_score', 'std_test_score', 'rank_test_score', 'type_clf'],\n",
       "      dtype='object')"
      ]
     },
     "execution_count": 119,
     "metadata": {},
     "output_type": "execute_result"
    }
   ],
   "source": [
    "df_rs_res.columns"
   ]
  },
  {
   "cell_type": "code",
   "execution_count": null,
   "id": "1c1c7a3d-c732-4d49-b8d3-ae7add35a4df",
   "metadata": {},
   "outputs": [
    {
     "data": {
      "application/com.datacamp.data-table.v1+json": {
       "is_truncated": false,
       "table": {
        "data": [
         {
          "index": 9,
          "rank_test_score": 1,
          "split0_test_score": 0.9314128797,
          "split1_test_score": 0.9317441152,
          "split2_test_score": 0.9308786289
         }
        ],
        "schema": {
         "fields": [
          {
           "name": "index",
           "type": "integer"
          },
          {
           "name": "rank_test_score",
           "type": "integer"
          },
          {
           "name": "split0_test_score",
           "type": "number"
          },
          {
           "name": "split1_test_score",
           "type": "number"
          },
          {
           "name": "split2_test_score",
           "type": "number"
          }
         ],
         "pandas_version": "0.20.0",
         "primaryKey": [
          "index"
         ]
        }
       },
       "total_rows": 1
      },
      "text/html": [
       "<div>\n",
       "<style scoped>\n",
       "    .dataframe tbody tr th:only-of-type {\n",
       "        vertical-align: middle;\n",
       "    }\n",
       "\n",
       "    .dataframe tbody tr th {\n",
       "        vertical-align: top;\n",
       "    }\n",
       "\n",
       "    .dataframe thead th {\n",
       "        text-align: right;\n",
       "    }\n",
       "</style>\n",
       "<table border=\"1\" class=\"dataframe\">\n",
       "  <thead>\n",
       "    <tr style=\"text-align: right;\">\n",
       "      <th></th>\n",
       "      <th>rank_test_score</th>\n",
       "      <th>split0_test_score</th>\n",
       "      <th>split1_test_score</th>\n",
       "      <th>split2_test_score</th>\n",
       "    </tr>\n",
       "  </thead>\n",
       "  <tbody>\n",
       "    <tr>\n",
       "      <th>9</th>\n",
       "      <td>1</td>\n",
       "      <td>0.931413</td>\n",
       "      <td>0.931744</td>\n",
       "      <td>0.930879</td>\n",
       "    </tr>\n",
       "  </tbody>\n",
       "</table>\n",
       "</div>"
      ],
      "text/plain": [
       "   rank_test_score  split0_test_score  split1_test_score  split2_test_score\n",
       "9                1           0.931413           0.931744           0.930879"
      ]
     },
     "execution_count": 135,
     "metadata": {},
     "output_type": "execute_result"
    }
   ],
   "source": [
    "df_cv_res.loc[((df_cv_res['rank_test_score']==1) & (df_cv_res['rv_run']==1))\n",
    "              , ['rank_test_score', 'split0_test_score', 'split1_test_score', 'split2_test_score']]"
   ]
  },
  {
   "cell_type": "markdown",
   "id": "276eccfa-3b53-45ef-871d-29ebe3ea7df5",
   "metadata": {},
   "source": [
    "Looks pretty stable to me.\n",
    "\n",
    "Another thing I'm curious about is feature importance."
   ]
  },
  {
   "cell_type": "code",
   "execution_count": null,
   "id": "a06ae5a5-1a3a-4e9d-ab57-7bbfb1a4bd75",
   "metadata": {},
   "outputs": [
    {
     "name": "stdout",
     "output_type": "stream",
     "text": [
      "{'f_key': ['f0', 'f6', 'f8', 'f1', 'f3', 'f4', 'f9', 'f2', 'f7', 'f5', 'f11'], 'fi_vals': [538, 618, 155, 191, 303, 265, 53, 377, 249, 296, 11]}\n"
     ]
    }
   ],
   "source": [
    "# get feature importance values\n",
    "dict_fi = rs_best.named_steps['clf'].get_booster().get_fscore()\n",
    "\n",
    "fi_keys = list(dict_fi.keys())\n",
    "\n",
    "fi_vals = list(dict_fi.values())\n",
    "\n",
    "dict_fi = {'f_key': fi_keys\n",
    "           ,'fi_vals': fi_vals\n",
    "          }\n",
    "\n",
    "print(dict_fi)"
   ]
  },
  {
   "cell_type": "code",
   "execution_count": null,
   "id": "e6ea9857-99a7-4f6f-a53d-516c311ee253",
   "metadata": {},
   "outputs": [
    {
     "name": "stdout",
     "output_type": "stream",
     "text": [
      "{'f_key': ['f0', 'f1', 'f2', 'f3', 'f4', 'f5', 'f6', 'f7', 'f8', 'f9', 'f10', 'f11', 'f12'], 'col_nm': ['pz', 'stringer_zone_top', 'angle_x', 'angle_z', 'pitch_speed', 'break_x', 'px', 'break_z', 'stringer_zone_bottom', 'bside_L', 'bside_R', 'pside_L', 'pside_R']}\n"
     ]
    }
   ],
   "source": [
    "dict_col = {'f_key': ['f' + str(x) for x in list(range(len(df_X.columns)))]\n",
    "            ,'col_nm': list(df_X.columns)\n",
    "           }\n",
    "\n",
    "print(dict_col)"
   ]
  },
  {
   "cell_type": "code",
   "execution_count": null,
   "id": "8941cad4-1b8a-44ad-9ad7-89c3d8adff40",
   "metadata": {},
   "outputs": [],
   "source": [
    "# Join together\n",
    "df_fi_vals = pd.merge(pd.DataFrame(dict_fi), pd.DataFrame(dict_col), how='inner')"
   ]
  },
  {
   "cell_type": "code",
   "execution_count": null,
   "id": "29ed3eab-baa5-48e2-9adc-25275cb116e0",
   "metadata": {},
   "outputs": [
    {
     "data": {
      "application/com.datacamp.data-table.v1+json": {
       "is_truncated": false,
       "table": {
        "data": [
         {
          "col_nm": "pz",
          "f_key": "f0",
          "fi_vals": 538,
          "index": 0
         },
         {
          "col_nm": "px",
          "f_key": "f6",
          "fi_vals": 618,
          "index": 1
         },
         {
          "col_nm": "stringer_zone_bottom",
          "f_key": "f8",
          "fi_vals": 155,
          "index": 2
         },
         {
          "col_nm": "stringer_zone_top",
          "f_key": "f1",
          "fi_vals": 191,
          "index": 3
         },
         {
          "col_nm": "angle_z",
          "f_key": "f3",
          "fi_vals": 303,
          "index": 4
         },
         {
          "col_nm": "pitch_speed",
          "f_key": "f4",
          "fi_vals": 265,
          "index": 5
         },
         {
          "col_nm": "bside_L",
          "f_key": "f9",
          "fi_vals": 53,
          "index": 6
         },
         {
          "col_nm": "angle_x",
          "f_key": "f2",
          "fi_vals": 377,
          "index": 7
         },
         {
          "col_nm": "break_z",
          "f_key": "f7",
          "fi_vals": 249,
          "index": 8
         },
         {
          "col_nm": "break_x",
          "f_key": "f5",
          "fi_vals": 296,
          "index": 9
         },
         {
          "col_nm": "pside_L",
          "f_key": "f11",
          "fi_vals": 11,
          "index": 10
         }
        ],
        "schema": {
         "fields": [
          {
           "name": "index",
           "type": "integer"
          },
          {
           "name": "f_key",
           "type": "string"
          },
          {
           "name": "fi_vals",
           "type": "integer"
          },
          {
           "name": "col_nm",
           "type": "string"
          }
         ],
         "pandas_version": "0.20.0",
         "primaryKey": [
          "index"
         ]
        }
       },
       "total_rows": 11
      },
      "text/html": [
       "<div>\n",
       "<style scoped>\n",
       "    .dataframe tbody tr th:only-of-type {\n",
       "        vertical-align: middle;\n",
       "    }\n",
       "\n",
       "    .dataframe tbody tr th {\n",
       "        vertical-align: top;\n",
       "    }\n",
       "\n",
       "    .dataframe thead th {\n",
       "        text-align: right;\n",
       "    }\n",
       "</style>\n",
       "<table border=\"1\" class=\"dataframe\">\n",
       "  <thead>\n",
       "    <tr style=\"text-align: right;\">\n",
       "      <th></th>\n",
       "      <th>f_key</th>\n",
       "      <th>fi_vals</th>\n",
       "      <th>col_nm</th>\n",
       "    </tr>\n",
       "  </thead>\n",
       "  <tbody>\n",
       "    <tr>\n",
       "      <th>0</th>\n",
       "      <td>f0</td>\n",
       "      <td>538</td>\n",
       "      <td>pz</td>\n",
       "    </tr>\n",
       "    <tr>\n",
       "      <th>1</th>\n",
       "      <td>f6</td>\n",
       "      <td>618</td>\n",
       "      <td>px</td>\n",
       "    </tr>\n",
       "    <tr>\n",
       "      <th>2</th>\n",
       "      <td>f8</td>\n",
       "      <td>155</td>\n",
       "      <td>stringer_zone_bottom</td>\n",
       "    </tr>\n",
       "    <tr>\n",
       "      <th>3</th>\n",
       "      <td>f1</td>\n",
       "      <td>191</td>\n",
       "      <td>stringer_zone_top</td>\n",
       "    </tr>\n",
       "    <tr>\n",
       "      <th>4</th>\n",
       "      <td>f3</td>\n",
       "      <td>303</td>\n",
       "      <td>angle_z</td>\n",
       "    </tr>\n",
       "    <tr>\n",
       "      <th>5</th>\n",
       "      <td>f4</td>\n",
       "      <td>265</td>\n",
       "      <td>pitch_speed</td>\n",
       "    </tr>\n",
       "    <tr>\n",
       "      <th>6</th>\n",
       "      <td>f9</td>\n",
       "      <td>53</td>\n",
       "      <td>bside_L</td>\n",
       "    </tr>\n",
       "    <tr>\n",
       "      <th>7</th>\n",
       "      <td>f2</td>\n",
       "      <td>377</td>\n",
       "      <td>angle_x</td>\n",
       "    </tr>\n",
       "    <tr>\n",
       "      <th>8</th>\n",
       "      <td>f7</td>\n",
       "      <td>249</td>\n",
       "      <td>break_z</td>\n",
       "    </tr>\n",
       "    <tr>\n",
       "      <th>9</th>\n",
       "      <td>f5</td>\n",
       "      <td>296</td>\n",
       "      <td>break_x</td>\n",
       "    </tr>\n",
       "    <tr>\n",
       "      <th>10</th>\n",
       "      <td>f11</td>\n",
       "      <td>11</td>\n",
       "      <td>pside_L</td>\n",
       "    </tr>\n",
       "  </tbody>\n",
       "</table>\n",
       "</div>"
      ],
      "text/plain": [
       "   f_key  fi_vals                col_nm\n",
       "0     f0      538                    pz\n",
       "1     f6      618                    px\n",
       "2     f8      155  stringer_zone_bottom\n",
       "3     f1      191     stringer_zone_top\n",
       "4     f3      303               angle_z\n",
       "5     f4      265           pitch_speed\n",
       "6     f9       53               bside_L\n",
       "7     f2      377               angle_x\n",
       "8     f7      249               break_z\n",
       "9     f5      296               break_x\n",
       "10   f11       11               pside_L"
      ]
     },
     "execution_count": 209,
     "metadata": {},
     "output_type": "execute_result"
    }
   ],
   "source": [
    "df_fi_vals"
   ]
  },
  {
   "cell_type": "code",
   "execution_count": null,
   "id": "ab3a8a74-f72a-489b-bbd8-2baaefbd77f4",
   "metadata": {},
   "outputs": [],
   "source": [
    "sort_by_fi = (df_fi_vals[['col_nm', 'fi_vals']].sort_values(by=['fi_vals']\n",
    "                                              , axis=0, ascending=False)\n",
    "                                                ['col_nm']).values"
   ]
  },
  {
   "cell_type": "code",
   "execution_count": null,
   "id": "ead5d5b8-8463-4ea9-bca6-c46048bf0f9b",
   "metadata": {},
   "outputs": [
    {
     "data": {
      "image/png": "[encoded data removed]",
      "text/plain": [
       "<Figure size 432x288 with 1 Axes>"
      ]
     },
     "metadata": {
      "needs_background": "light"
     },
     "output_type": "display_data"
    }
   ],
   "source": [
    "_ = sns.barplot(x='fi_vals', y='col_nm', data=df_fi_vals, color='skyblue'\n",
    "            ,order=sort_by_fi,)\n",
    "_.set(title=\"Feature Importances: Selected XGBoost Model\")\n",
    "plt.show()"
   ]
  },
  {
   "cell_type": "markdown",
   "id": "aa0b4ae3-40f0-47fc-a274-7a93811e9459",
   "metadata": {},
   "source": [
    "Of course, as with all feature importance analytics, there's a relationship that exists with how the features interact, and their relative importance can shuffle greatly as features swap in and out, so let's keep that in the back our minds. In other words, we shouldn't be surprised if we run a similar model with added features and the features move up and down in their relative 'ranking'.\n",
    "\n",
    "Having said that, this makes pretty intuitive sense, with regards to relative magnitude. \n",
    "- Location is extremely important to determining whether a pitch is a strike. Of course!\n",
    "- Next angle, break, and speed have some importance as well. I hyptothesize this helps alot in determining the X/Y travel of the pitch and how the Umpire is seeing the pitch come in.\n",
    "- the Stringer values they hold some value, though i think maybe the algo figures out the thresholds independent of them.\n",
    "- Lastly is batside and pitchside, which I think makes sense relatively. Of course we would hope that handedness side would have no influence on how a strike is generally perceived by the Umpire, but I'm hypothesizing there's a small impact with regards to how individual attack the individual batters. So if a pitcher has better control to one side rather than another contigent on batter side, we should a tiny ripple of that effect, which is what I think this might be saying.\n",
    "\n"
   ]
  },
  {
   "cell_type": "markdown",
   "id": "28274098-2ea7-46c2-8a76-475053f7bcdd",
   "metadata": {},
   "source": [
    "Let's designate our chosen model."
   ]
  },
  {
   "cell_type": "code",
   "execution_count": null,
   "id": "1945e584-3001-4517-9e6b-dfd13fdba650",
   "metadata": {},
   "outputs": [],
   "source": [
    "# This was the best model from our first RandomSearch\n",
    "selected_model = rs_best"
   ]
  },
  {
   "cell_type": "markdown",
   "id": "043d8880-bf95-47fa-b143-063be051aacc",
   "metadata": {},
   "source": [
    "#### Make Predictions on Holdout\n",
    "\n",
    "##### Predicted Classes"
   ]
  },
  {
   "cell_type": "code",
   "execution_count": null,
   "id": "ccebcb77-0d3e-46be-b10b-34cc99ba3d2f",
   "metadata": {},
   "outputs": [
    {
     "data": {
      "text/plain": [
       "(18633,)"
      ]
     },
     "metadata": {},
     "output_type": "display_data"
    }
   ],
   "source": [
    "pred_classes = selected_model.predict(holdout_scaled)\n",
    "display(pred_classes.shape)"
   ]
  },
  {
   "cell_type": "markdown",
   "id": "ebc7c467-8e7e-4835-bcfc-b1f2f3761b33",
   "metadata": {},
   "source": [
    "Quick look at results:"
   ]
  },
  {
   "cell_type": "code",
   "execution_count": null,
   "id": "e57bddfc-e4f6-49ae-a7d5-33566d9f2a05",
   "metadata": {},
   "outputs": [
    {
     "data": {
      "text/plain": [
       "array([0, 0, 1, 1, 1, 0, 1, 0, 1, 0, 1, 1, 1, 0, 0, 0, 1, 0, 0, 1, 1, 0,\n",
       "       0, 0, 0, 1, 1, 1, 1, 0, 0, 1, 0, 0, 0, 0, 0, 1, 0, 1, 1, 0, 1, 1,\n",
       "       0, 1, 0, 0, 0, 0, 1, 0, 0, 0, 1, 1, 1, 0, 0, 0, 0, 1, 1, 0, 0, 0,\n",
       "       1, 0, 0, 0, 0, 1, 0, 0, 0, 1, 1, 1, 0, 0, 0, 1, 1, 0, 0, 0, 0, 0,\n",
       "       0, 1, 0, 1, 0, 0, 0, 0, 1, 0, 0, 0])"
      ]
     },
     "execution_count": 272,
     "metadata": {},
     "output_type": "execute_result"
    }
   ],
   "source": [
    "pred_classes[:100]"
   ]
  },
  {
   "cell_type": "markdown",
   "id": "3ceea53c-789f-4197-b3a3-de8faf844661",
   "metadata": {},
   "source": [
    "Look at relative ratio of strikes:"
   ]
  },
  {
   "cell_type": "code",
   "execution_count": null,
   "id": "611a9498-be70-4959-8256-575c40f229d0",
   "metadata": {},
   "outputs": [
    {
     "data": {
      "text/plain": [
       "0    0.689959\n",
       "1    0.310041\n",
       "dtype: float64"
      ]
     },
     "execution_count": 270,
     "metadata": {},
     "output_type": "execute_result"
    }
   ],
   "source": [
    "df_pred = pd.DataFrame(pred_classes)\n",
    "df_pred.value_counts(normalize=True)"
   ]
  },
  {
   "cell_type": "markdown",
   "id": "df16a8cf-3984-4345-9bc8-aa3f3839a9de",
   "metadata": {},
   "source": [
    "For comparison, relative ratio in training data:"
   ]
  },
  {
   "cell_type": "code",
   "execution_count": null,
   "id": "f9081a37-d839-497c-ae7e-cb6a1ef3c3c2",
   "metadata": {},
   "outputs": [
    {
     "data": {
      "text/plain": [
       "0    0.686864\n",
       "1    0.313136\n",
       "Name: strike_bool, dtype: float64"
      ]
     },
     "execution_count": 269,
     "metadata": {},
     "output_type": "execute_result"
    }
   ],
   "source": [
    "df_y.value_counts(normalize=True)"
   ]
  },
  {
   "cell_type": "markdown",
   "id": "97602af6-914a-4ac6-82e6-2d7b64761603",
   "metadata": {},
   "source": [
    "Pretty close! It could be a _dangerous_ assumption, but based on what we DO know of how the datasets were constructed, the fact that the ratios are so close makes me feel that our results are pretty good."
   ]
  },
  {
   "cell_type": "markdown",
   "id": "2b2da620-0f4b-46ba-88c7-ff758ed07e0f",
   "metadata": {},
   "source": [
    "##### Predicted Probabilities"
   ]
  },
  {
   "cell_type": "code",
   "execution_count": null,
   "id": "cc1553a1-a905-43ce-82f7-857aca1c607d",
   "metadata": {},
   "outputs": [],
   "source": [
    "pred_proba = selected_model.predict_proba(holdout_scaled)"
   ]
  },
  {
   "cell_type": "markdown",
   "id": "1d4f2e23-a09e-4f61-ac02-5bcd253ece3d",
   "metadata": {},
   "source": [
    "Quick look at results:"
   ]
  },
  {
   "cell_type": "code",
   "execution_count": null,
   "id": "228ff195-7b79-45b2-9675-bee5151091b2",
   "metadata": {},
   "outputs": [
    {
     "data": {
      "text/plain": [
       "array([[1.   , 0.   ],\n",
       "       [1.   , 0.   ],\n",
       "       [0.015, 0.985],\n",
       "       [0.279, 0.721],\n",
       "       [0.006, 0.994],\n",
       "       [1.   , 0.   ],\n",
       "       [0.031, 0.969],\n",
       "       [1.   , 0.   ],\n",
       "       [0.004, 0.996],\n",
       "       [0.991, 0.009],\n",
       "       [0.039, 0.961],\n",
       "       [0.019, 0.981],\n",
       "       [0.411, 0.589],\n",
       "       [1.   , 0.   ],\n",
       "       [0.976, 0.024],\n",
       "       [0.695, 0.305],\n",
       "       [0.37 , 0.63 ],\n",
       "       [0.985, 0.015],\n",
       "       [1.   , 0.   ],\n",
       "       [0.008, 0.992]], dtype=float32)"
      ]
     },
     "execution_count": 280,
     "metadata": {},
     "output_type": "execute_result"
    }
   ],
   "source": [
    "np.round(pred_proba[:20], 3)"
   ]
  },
  {
   "cell_type": "code",
   "execution_count": null,
   "id": "b07a6788-6a05-43cf-8e72-90a0282a7387",
   "metadata": {},
   "outputs": [],
   "source": [
    "pred_proba_strike_only = pred_proba[:, -1]"
   ]
  },
  {
   "cell_type": "code",
   "execution_count": null,
   "id": "43f9a984-ef5c-4358-b411-4f843b720791",
   "metadata": {},
   "outputs": [
    {
     "data": {
      "text/plain": [
       "'./predictions/holdout/xgb_pred_vals_20220510_1355.csv'"
      ]
     },
     "metadata": {},
     "output_type": "display_data"
    },
    {
     "data": {
      "text/plain": [
       "'./predictions/holdout/xgb_pred_proba_20220510_1355.csv'"
      ]
     },
     "metadata": {},
     "output_type": "display_data"
    },
    {
     "data": {
      "text/plain": [
       "'./predictions/holdout/xgb_pred_proba_strike_only_20220510_1355.csv'"
      ]
     },
     "metadata": {},
     "output_type": "display_data"
    }
   ],
   "source": [
    "str_ts = datetime.now(timezone.utc).astimezone(pytz.timezone('US/Pacific')).strftime(\"%Y%m%d_%H%M\")\n",
    "file_class_nm = 'xgb_pred_vals_' + str_ts\n",
    "file_proba_nm = 'xgb_pred_proba_' + str_ts\n",
    "file_proba_stk_nm = 'xgb_pred_proba_strike_only_' + str_ts\n",
    "\n",
    "file_class_path = './predictions/holdout/' + file_class_nm + '.csv'\n",
    "file_proba_path = './predictions/holdout/' + file_proba_nm + '.csv'\n",
    "file_proba_stk_path = './predictions/holdout/' + file_proba_stk_nm + '.csv'\n",
    "\n",
    "display(file_class_path)\n",
    "display(file_proba_path)\n",
    "display(file_proba_stk_path)"
   ]
  },
  {
   "cell_type": "code",
   "execution_count": null,
   "id": "d190034d-af4a-45ce-98b8-3b0bb917d0d8",
   "metadata": {},
   "outputs": [],
   "source": [
    "# save out predicted probabilities\n",
    "np.savetxt(file_class_path, pred_classes, delimiter=\",\")\n",
    "np.savetxt(file_proba_path, pred_proba, delimiter=\",\")\n",
    "np.savetxt(file_proba_stk_path, pred_proba_strike_only, delimiter=\",\")"
   ]
  },
  {
   "cell_type": "markdown",
   "id": "5d740778-978f-4c3b-8efc-a056eceba3c2",
   "metadata": {},
   "source": [
    "---  \n",
    "\n",
    "<span style=\"font-size:0.5em;\">End of Current Work</span>\n",
    "\n",
    "<a id='the_end'></a>\n",
    "\n",
    "<span style=\"font-size:0.5em;\"><a href='#toc_6'>Back to TOC</a></span>"
   ]
  },
  {
   "cell_type": "markdown",
   "id": "e9fc1490-d3b2-4169-83eb-69fc494a3bc7",
   "metadata": {
    "tags": []
   },
   "source": [
    "-----"
   ]
  }
 ],
 "metadata": {
  "kernelspec": {
   "display_name": "Python 3 (ipykernel)",
   "language": "python",
   "name": "python3"
  },
  "language_info": {
   "codemirror_mode": {
    "name": "ipython",
    "version": 3
   },
   "file_extension": ".py",
   "mimetype": "text/x-python",
   "name": "python",
   "nbconvert_exporter": "python",
   "pygments_lexer": "ipython3",
   "version": "3.8.10"
  },
  "toc-autonumbering": false,
  "toc-showmarkdowntxt": false,
  "widgets": {
   "application/vnd.jupyter.widget-state+json": {
    "state": {},
    "version_major": 2,
    "version_minor": 0
   }
  }
 },
 "nbformat": 4,
 "nbformat_minor": 5
}
