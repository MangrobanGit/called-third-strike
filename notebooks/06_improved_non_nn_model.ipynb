{
 "cells": [
  {
   "cell_type": "markdown",
   "id": "1d9a73fe-22ef-46f3-af36-3ed41d28fa72",
   "metadata": {},
   "source": [
    "# Called Third Strike\n",
    "## Part 6. Improved non-neural network model\n",
    "\n",
    "![](./resources/baseball_umpire_home_plate_1.jpg)\n",
    "\n",
    "This project's goal is to build probability models for as to whether a pitch will be called a strike or not. The intended models are to be:\n",
    "1. A neural network (NN) based approach.\n",
    "2. A non-NN based approach.\n",
    "\n",
    "---\n",
    "\n",
    "__**This Notebook's**__ objective is to iterate on the work done with the [first attempts](04_first_crude_non_nn_model.ipynb) at a \"classical\" ML classication model. As with the ['improved' neural network model](05_improved_neural_network.ipynb), we will be adding in these other features:\n",
    "- Included Handedness of both pitcher and batter; I hypothesize that this will have some signal with regards to the 'strike-ness' of the horizontal movement of the pitch. As for verticality, I think that the stringer data helps with that since it provides fairly concrete guardrails as to the strike-ness (assuming the umpire sees the same thing haha).\n",
    "- Include pitch break and angle. I hypothesize this acts like a proxy to the pitcher, without having to rely on the pitcher_IDs. Rough analogy but I think of it kind of like latent factors in ALS matrix factorization (which I need to brush up on heh).\n",
    "\n",
    "---\n",
    "---"
   ]
  },
  {
   "cell_type": "markdown",
   "id": "7c603889-4d23-4c1d-8e4d-8d45d1a72da4",
   "metadata": {},
   "source": [
    "### Table of Contents<a id='toc'></a>\n",
    "\n",
    "<a href='#data_prep'>1. Data Preprocessing</a>\n",
    "\n",
    "~<a href='#build_model'>2. Build Model</a>~ Straight to Random Search!\n",
    "\n",
    "<a href='#random_search'>3. Random Hyperparameter Search</a>\n",
    "\n",
    "<a href='#summary'>4. Summary</a>\n",
    "\n",
    "...\n",
    "\n",
    "<a href='#the_end'>Go to the End</a>\n",
    "\n",
    "---"
   ]
  },
  {
   "cell_type": "markdown",
   "id": "4fcfd9aa-eac1-4789-af6d-cf5700a82979",
   "metadata": {},
   "source": [
    "---  \n",
    "\n",
    "<span style=\"font-size:0.5em;\">Tag 1</span>\n",
    "\n",
    "### Data Preprocessing<a id='data_prep'></a>\n",
    "\n",
    "<span style=\"font-size:0.5em;\"><a href='#toc'>Back to TOC</a></span>\n"
   ]
  },
  {
   "cell_type": "markdown",
   "id": "053be28f-4156-45c6-8a93-99c50dd76e39",
   "metadata": {},
   "source": [
    "#### Libraries\n"
   ]
  },
  {
   "cell_type": "code",
   "execution_count": 60,
   "id": "907b6406-cf7b-41c0-baca-5095c77e7b17",
   "metadata": {},
   "outputs": [],
   "source": [
    "# Data wrangling and operations\n",
    "import pandas as pd\n",
    "import numpy as np\n",
    "from datetime import datetime, timezone\n",
    "import pytz\n",
    "import pickle\n",
    "\n",
    "# Visualization\n",
    "import matplotlib.pyplot as plt\n",
    "import seaborn as sns\n",
    "\n",
    "# try:\n",
    "#     import plotly_express as pex\n",
    "# except ImportError:\n",
    "#     !pip install plotly_express\n",
    "# except ModuleNotFoundError:\n",
    "#     !pip install plotly_express\n",
    "\n",
    "# Estimators\n",
    "from sklearn.linear_model import LinearRegression\n",
    "from sklearn.linear_model import LogisticRegression\n",
    "import xgboost as xgb\n",
    "from xgboost import XGBClassifier\n",
    "from sklearn.tree import DecisionTreeClassifier\n",
    "from sklearn.ensemble import BaggingClassifier, RandomForestClassifier\n",
    "from sklearn.ensemble import GradientBoostingClassifier\n",
    "from sklearn.base import BaseEstimator\n",
    "\n",
    "# Processing\n",
    "from sklearn.preprocessing import OneHotEncoder\n",
    "from sklearn.preprocessing import LabelBinarizer\n",
    "from sklearn.preprocessing import StandardScaler\n",
    "from sklearn.compose import ColumnTransformer\n",
    "from sklearn.model_selection import GridSearchCV\n",
    "from sklearn.model_selection import RandomizedSearchCV\n",
    "\n",
    "# Assessment\n",
    "from sklearn.pipeline import Pipeline\n",
    "from sklearn.model_selection import train_test_split\n",
    "from sklearn.model_selection import cross_val_score\n",
    "from sklearn.metrics import accuracy_score\n",
    "from sklearn.metrics import mean_squared_error, mean_absolute_error\n",
    "from sklearn.metrics import f1_score\n",
    "from sklearn.metrics import confusion_matrix\n",
    "from sklearn.metrics import recall_score, precision_score, auc\n",
    "from sklearn.metrics import roc_curve, RocCurveDisplay"
   ]
  },
  {
   "cell_type": "markdown",
   "id": "987afa32-26cc-421f-bfdd-dd2cd8a29e62",
   "metadata": {},
   "source": [
    "---\n",
    "\n",
    "#### Data Import \n",
    "\n",
    "Retrieve the latest version of our train/test files that we built during [initial exploration](02_data_exploration.ipynb)."
   ]
  },
  {
   "cell_type": "code",
   "execution_count": 2,
   "id": "56973127-9122-4525-9194-c3545f95384f",
   "metadata": {},
   "outputs": [],
   "source": [
    "df_train = pd.read_pickle('../data/train_enriched.pkl')\n",
    "df_test = pd.read_pickle('../data/test_enriched.pkl')"
   ]
  },
  {
   "cell_type": "markdown",
   "id": "a0999ceb-8cfd-40a1-98c5-97162be73173",
   "metadata": {},
   "source": [
    "Let's refamiliarize ourselves with the features."
   ]
  },
  {
   "cell_type": "code",
   "execution_count": 3,
   "id": "ac6b3a5a-8999-4e9f-9c09-9b14b30813bb",
   "metadata": {},
   "outputs": [
    {
     "name": "stdout",
     "output_type": "stream",
     "text": [
      "<class 'pandas.core.frame.DataFrame'>\n",
      "Int64Index: 350959 entries, 0 to 354038\n",
      "Data columns (total 31 columns):\n",
      " #   Column                Non-Null Count   Dtype         \n",
      "---  ------                --------------   -----         \n",
      " 0   pitch_id              350959 non-null  object        \n",
      " 1   inning                350959 non-null  int64         \n",
      " 2   side                  350959 non-null  object        \n",
      " 3   run_diff              350959 non-null  int64         \n",
      " 4   at_bat_index          350959 non-null  int64         \n",
      " 5   pitch_of_ab           350959 non-null  int64         \n",
      " 6   batter                350959 non-null  int64         \n",
      " 7   pitcher               350959 non-null  int64         \n",
      " 8   catcher               350959 non-null  int64         \n",
      " 9   umpire                350959 non-null  int64         \n",
      " 10  bside                 350959 non-null  object        \n",
      " 11  pside                 350959 non-null  object        \n",
      " 12  stringer_zone_bottom  350959 non-null  float64       \n",
      " 13  stringer_zone_top     350959 non-null  float64       \n",
      " 14  on_1b_mlbid           106013 non-null  float64       \n",
      " 15  on_2b_mlbid           64287 non-null   float64       \n",
      " 16  on_3b_mlbid           31158 non-null   float64       \n",
      " 17  outs                  350959 non-null  int64         \n",
      " 18  balls                 350959 non-null  int64         \n",
      " 19  strikes               350959 non-null  int64         \n",
      " 20  pitch_speed           350959 non-null  float64       \n",
      " 21  px                    350959 non-null  float64       \n",
      " 22  pz                    350959 non-null  float64       \n",
      " 23  break_x               350959 non-null  float64       \n",
      " 24  break_z               350959 non-null  float64       \n",
      " 25  angle_x               350959 non-null  float64       \n",
      " 26  angle_z               350959 non-null  float64       \n",
      " 27  pitch_type            350959 non-null  object        \n",
      " 28  strike_bool           350959 non-null  int64         \n",
      " 29  game_date_dt          350959 non-null  datetime64[ns]\n",
      " 30  strike_bool_tf        350959 non-null  bool          \n",
      "dtypes: bool(1), datetime64[ns](1), float64(12), int64(12), object(5)\n",
      "memory usage: 83.3+ MB\n"
     ]
    }
   ],
   "source": [
    "df_train.info()"
   ]
  },
  {
   "cell_type": "markdown",
   "id": "c40f40c9-a8e1-481f-8695-767b80df332f",
   "metadata": {},
   "source": [
    "---\n",
    "\n",
    "#### Feature Selection and Prep, revisited\n",
    "\n",
    "Select features:"
   ]
  },
  {
   "cell_type": "markdown",
   "id": "e4f2815c-a590-445b-b633-2ce66fb878e6",
   "metadata": {},
   "source": [
    "For our initial super simple model, we had picked just four features: \n",
    "- `px` which is the horizontal location of the pitch at the plate\n",
    "- `pz` which is the vertical location\n",
    "- `stringer_zone_bottom` which is an estimate of current batter's strike zone bottom\n",
    "- `stringer_zone_top` which is an estimate of current batter's strike zone top"
   ]
  },
  {
   "cell_type": "code",
   "execution_count": 4,
   "id": "38506c32-d1a1-4bb3-ba0a-0968153418f5",
   "metadata": {},
   "outputs": [],
   "source": [
    "# Features selected\n",
    "feat_select = ['px', 'pz', 'stringer_zone_bottom', 'stringer_zone_top']"
   ]
  },
  {
   "cell_type": "markdown",
   "id": "c20eabfa-5e70-4269-b37e-d5aab577593c",
   "metadata": {},
   "source": [
    "But as mentioned in the intro, I want to try adding `bside` and `pside`, as well as vertical/horizontal breaks and angles (`break_x`, `break_z`, `angle_x`, `angle_z`), and `pitch_speed`. "
   ]
  },
  {
   "cell_type": "markdown",
   "id": "4a923ba1-1c96-4a18-ba32-8b349fb779af",
   "metadata": {},
   "source": [
    "##### Adding `break_x`, `break_z`, `angle_x`, `angle_z`, `pitch_speed`\n",
    "\n",
    "These are numeric so I will add on to `feat_select`"
   ]
  },
  {
   "cell_type": "code",
   "execution_count": 5,
   "id": "67287484-f02f-4435-9885-6df0e6a4779c",
   "metadata": {},
   "outputs": [
    {
     "data": {
      "text/plain": [
       "['break_x',\n",
       " 'stringer_zone_bottom',\n",
       " 'pz',\n",
       " 'angle_z',\n",
       " 'angle_x',\n",
       " 'px',\n",
       " 'break_z',\n",
       " 'pitch_speed',\n",
       " 'stringer_zone_top']"
      ]
     },
     "metadata": {},
     "output_type": "display_data"
    }
   ],
   "source": [
    "feat_select = feat_select + ['break_x', 'break_z', 'angle_x', 'angle_z', 'pitch_speed']\n",
    "feat_select = list(set(feat_select)) #Just to ensure no dupes if this cell gets executed again\n",
    "display(feat_select)"
   ]
  },
  {
   "cell_type": "markdown",
   "id": "a7fc4e27-662e-43de-879b-c48918a3e38f",
   "metadata": {},
   "source": [
    "##### Adding `b_side`, `p_side`\n",
    "\n",
    "These are strings so I will one-hot encode them."
   ]
  },
  {
   "cell_type": "code",
   "execution_count": 6,
   "id": "99c9fb2c-cc09-49dd-bf51-085463a9a8c3",
   "metadata": {},
   "outputs": [],
   "source": [
    "feat_cat_select = ['bside', 'pside']"
   ]
  },
  {
   "cell_type": "code",
   "execution_count": 7,
   "id": "ea566257-25aa-4ddf-bcde-f00cbb9d416c",
   "metadata": {},
   "outputs": [],
   "source": [
    "df_train_cat_ohe = pd.get_dummies(df_train[feat_cat_select])"
   ]
  },
  {
   "cell_type": "code",
   "execution_count": 8,
   "id": "0effabf6-ab9c-495b-a4a4-1167ca7e966b",
   "metadata": {},
   "outputs": [
    {
     "data": {
      "application/com.datacamp.data-table.v1+json": {
       "is_truncated": false,
       "table": {
        "data": [
         {
          "bside_L": 0,
          "bside_R": 1,
          "index": 0,
          "pside_L": 1,
          "pside_R": 0
         },
         {
          "bside_L": 1,
          "bside_R": 0,
          "index": 1,
          "pside_L": 0,
          "pside_R": 1
         },
         {
          "bside_L": 1,
          "bside_R": 0,
          "index": 2,
          "pside_L": 1,
          "pside_R": 0
         }
        ],
        "schema": {
         "fields": [
          {
           "name": "index",
           "type": "integer"
          },
          {
           "name": "bside_L",
           "type": "integer"
          },
          {
           "name": "bside_R",
           "type": "integer"
          },
          {
           "name": "pside_L",
           "type": "integer"
          },
          {
           "name": "pside_R",
           "type": "integer"
          }
         ],
         "pandas_version": "0.20.0",
         "primaryKey": [
          "index"
         ]
        }
       },
       "total_rows": 3
      },
      "text/html": [
       "<div>\n",
       "<style scoped>\n",
       "    .dataframe tbody tr th:only-of-type {\n",
       "        vertical-align: middle;\n",
       "    }\n",
       "\n",
       "    .dataframe tbody tr th {\n",
       "        vertical-align: top;\n",
       "    }\n",
       "\n",
       "    .dataframe thead th {\n",
       "        text-align: right;\n",
       "    }\n",
       "</style>\n",
       "<table border=\"1\" class=\"dataframe\">\n",
       "  <thead>\n",
       "    <tr style=\"text-align: right;\">\n",
       "      <th></th>\n",
       "      <th>bside_L</th>\n",
       "      <th>bside_R</th>\n",
       "      <th>pside_L</th>\n",
       "      <th>pside_R</th>\n",
       "    </tr>\n",
       "  </thead>\n",
       "  <tbody>\n",
       "    <tr>\n",
       "      <th>0</th>\n",
       "      <td>0</td>\n",
       "      <td>1</td>\n",
       "      <td>1</td>\n",
       "      <td>0</td>\n",
       "    </tr>\n",
       "    <tr>\n",
       "      <th>1</th>\n",
       "      <td>1</td>\n",
       "      <td>0</td>\n",
       "      <td>0</td>\n",
       "      <td>1</td>\n",
       "    </tr>\n",
       "    <tr>\n",
       "      <th>2</th>\n",
       "      <td>1</td>\n",
       "      <td>0</td>\n",
       "      <td>1</td>\n",
       "      <td>0</td>\n",
       "    </tr>\n",
       "  </tbody>\n",
       "</table>\n",
       "</div>"
      ],
      "text/plain": [
       "   bside_L  bside_R  pside_L  pside_R\n",
       "0        0        1        1        0\n",
       "1        1        0        0        1\n",
       "2        1        0        1        0"
      ]
     },
     "execution_count": 8,
     "metadata": {},
     "output_type": "execute_result"
    }
   ],
   "source": [
    "df_train_cat_ohe.head(3)"
   ]
  },
  {
   "cell_type": "code",
   "execution_count": 9,
   "id": "5678f19d-12ed-4047-a3f3-575f63c5c209",
   "metadata": {},
   "outputs": [
    {
     "data": {
      "text/plain": [
       "(350959, 4)"
      ]
     },
     "execution_count": 9,
     "metadata": {},
     "output_type": "execute_result"
    }
   ],
   "source": [
    "df_train_cat_ohe.shape"
   ]
  },
  {
   "cell_type": "markdown",
   "id": "d15574e0-60b0-4385-be19-d0786af47677",
   "metadata": {},
   "source": [
    "Prep features:\n",
    "\n",
    "Gather up all the selected features."
   ]
  },
  {
   "cell_type": "code",
   "execution_count": 10,
   "id": "b000ae21-12ac-4ee9-9ca8-8ce9445c1bc1",
   "metadata": {},
   "outputs": [
    {
     "name": "stdout",
     "output_type": "stream",
     "text": [
      "<class 'pandas.core.frame.DataFrame'>\n",
      "Int64Index: 350959 entries, 0 to 354038\n",
      "Data columns (total 13 columns):\n",
      " #   Column                Non-Null Count   Dtype  \n",
      "---  ------                --------------   -----  \n",
      " 0   break_x               350959 non-null  float64\n",
      " 1   stringer_zone_bottom  350959 non-null  float64\n",
      " 2   pz                    350959 non-null  float64\n",
      " 3   angle_z               350959 non-null  float64\n",
      " 4   angle_x               350959 non-null  float64\n",
      " 5   px                    350959 non-null  float64\n",
      " 6   break_z               350959 non-null  float64\n",
      " 7   pitch_speed           350959 non-null  float64\n",
      " 8   stringer_zone_top     350959 non-null  float64\n",
      " 9   bside_L               350959 non-null  uint8  \n",
      " 10  bside_R               350959 non-null  uint8  \n",
      " 11  pside_L               350959 non-null  uint8  \n",
      " 12  pside_R               350959 non-null  uint8  \n",
      "dtypes: float64(9), uint8(4)\n",
      "memory usage: 28.1 MB\n"
     ]
    },
    {
     "data": {
      "text/plain": [
       "None"
      ]
     },
     "metadata": {},
     "output_type": "display_data"
    }
   ],
   "source": [
    "# Get just the selected features\n",
    "df_X = pd.concat([df_train[feat_select], df_train_cat_ohe], axis=1)\n",
    "# df_X = df_train_cat_ohe.copy()\n",
    "display(df_X.info())"
   ]
  },
  {
   "cell_type": "code",
   "execution_count": 11,
   "id": "e44045e8-2a8b-4e6f-9e3f-ed286ac3c4d1",
   "metadata": {},
   "outputs": [
    {
     "data": {
      "application/com.datacamp.data-table.v1+json": {
       "is_truncated": false,
       "table": {
        "data": [
         {
          "angle_x": 3.02727,
          "angle_z": 5.59379,
          "break_x": 1.91535,
          "break_z": -9.54142,
          "bside_L": 0,
          "bside_R": 1,
          "index": 0,
          "pitch_speed": 97.4298,
          "pside_L": 1,
          "pside_R": 0,
          "px": -1.2981,
          "pz": 2.30217,
          "stringer_zone_bottom": 1.56,
          "stringer_zone_top": 3.41
         },
         {
          "angle_x": -1.56782,
          "angle_z": 6.86676,
          "break_x": -12.1373,
          "break_z": -21.9427,
          "bside_L": 1,
          "bside_R": 0,
          "index": 1,
          "pitch_speed": 91.7712,
          "pside_L": 0,
          "pside_R": 1,
          "px": 1.41222,
          "pz": 1.57443,
          "stringer_zone_bottom": 1.59,
          "stringer_zone_top": 3.47
         },
         {
          "angle_x": 2.04966,
          "angle_z": 7.17281,
          "break_x": -0.992261,
          "break_z": -25.5107,
          "bside_L": 1,
          "bside_R": 0,
          "index": 2,
          "pitch_speed": 87.813,
          "pside_L": 1,
          "pside_R": 0,
          "px": -0.18119,
          "pz": 2.11248,
          "stringer_zone_bottom": 1.68,
          "stringer_zone_top": 3.58
         },
         {
          "angle_x": 2.96845,
          "angle_z": 8.50392,
          "break_x": -2.8393,
          "break_z": -27.2509,
          "bside_L": 0,
          "bside_R": 1,
          "index": 3,
          "pitch_speed": 86.5546,
          "pside_L": 1,
          "pside_R": 0,
          "px": -0.885538,
          "pz": 0.598692,
          "stringer_zone_bottom": 1.63,
          "stringer_zone_top": 3.55
         },
         {
          "angle_x": -1.6463,
          "angle_z": 9.33291,
          "break_x": 8.90615,
          "break_z": -59.4133,
          "bside_L": 1,
          "bside_R": 0,
          "index": 5,
          "pitch_speed": 72.0904,
          "pside_L": 0,
          "pside_R": 1,
          "px": -1.45954,
          "pz": 3.39951,
          "stringer_zone_bottom": 1.5,
          "stringer_zone_top": 3.3
         }
        ],
        "schema": {
         "fields": [
          {
           "name": "index",
           "type": "integer"
          },
          {
           "name": "break_x",
           "type": "number"
          },
          {
           "name": "stringer_zone_bottom",
           "type": "number"
          },
          {
           "name": "pz",
           "type": "number"
          },
          {
           "name": "angle_z",
           "type": "number"
          },
          {
           "name": "angle_x",
           "type": "number"
          },
          {
           "name": "px",
           "type": "number"
          },
          {
           "name": "break_z",
           "type": "number"
          },
          {
           "name": "pitch_speed",
           "type": "number"
          },
          {
           "name": "stringer_zone_top",
           "type": "number"
          },
          {
           "name": "bside_L",
           "type": "integer"
          },
          {
           "name": "bside_R",
           "type": "integer"
          },
          {
           "name": "pside_L",
           "type": "integer"
          },
          {
           "name": "pside_R",
           "type": "integer"
          }
         ],
         "pandas_version": "0.20.0",
         "primaryKey": [
          "index"
         ]
        }
       },
       "total_rows": 5
      },
      "text/html": [
       "<div>\n",
       "<style scoped>\n",
       "    .dataframe tbody tr th:only-of-type {\n",
       "        vertical-align: middle;\n",
       "    }\n",
       "\n",
       "    .dataframe tbody tr th {\n",
       "        vertical-align: top;\n",
       "    }\n",
       "\n",
       "    .dataframe thead th {\n",
       "        text-align: right;\n",
       "    }\n",
       "</style>\n",
       "<table border=\"1\" class=\"dataframe\">\n",
       "  <thead>\n",
       "    <tr style=\"text-align: right;\">\n",
       "      <th></th>\n",
       "      <th>break_x</th>\n",
       "      <th>stringer_zone_bottom</th>\n",
       "      <th>pz</th>\n",
       "      <th>angle_z</th>\n",
       "      <th>angle_x</th>\n",
       "      <th>px</th>\n",
       "      <th>break_z</th>\n",
       "      <th>pitch_speed</th>\n",
       "      <th>stringer_zone_top</th>\n",
       "      <th>bside_L</th>\n",
       "      <th>bside_R</th>\n",
       "      <th>pside_L</th>\n",
       "      <th>pside_R</th>\n",
       "    </tr>\n",
       "  </thead>\n",
       "  <tbody>\n",
       "    <tr>\n",
       "      <th>0</th>\n",
       "      <td>1.915350</td>\n",
       "      <td>1.56</td>\n",
       "      <td>2.302170</td>\n",
       "      <td>5.59379</td>\n",
       "      <td>3.02727</td>\n",
       "      <td>-1.298100</td>\n",
       "      <td>-9.54142</td>\n",
       "      <td>97.4298</td>\n",
       "      <td>3.41</td>\n",
       "      <td>0</td>\n",
       "      <td>1</td>\n",
       "      <td>1</td>\n",
       "      <td>0</td>\n",
       "    </tr>\n",
       "    <tr>\n",
       "      <th>1</th>\n",
       "      <td>-12.137300</td>\n",
       "      <td>1.59</td>\n",
       "      <td>1.574430</td>\n",
       "      <td>6.86676</td>\n",
       "      <td>-1.56782</td>\n",
       "      <td>1.412220</td>\n",
       "      <td>-21.94270</td>\n",
       "      <td>91.7712</td>\n",
       "      <td>3.47</td>\n",
       "      <td>1</td>\n",
       "      <td>0</td>\n",
       "      <td>0</td>\n",
       "      <td>1</td>\n",
       "    </tr>\n",
       "    <tr>\n",
       "      <th>2</th>\n",
       "      <td>-0.992261</td>\n",
       "      <td>1.68</td>\n",
       "      <td>2.112480</td>\n",
       "      <td>7.17281</td>\n",
       "      <td>2.04966</td>\n",
       "      <td>-0.181190</td>\n",
       "      <td>-25.51070</td>\n",
       "      <td>87.8130</td>\n",
       "      <td>3.58</td>\n",
       "      <td>1</td>\n",
       "      <td>0</td>\n",
       "      <td>1</td>\n",
       "      <td>0</td>\n",
       "    </tr>\n",
       "    <tr>\n",
       "      <th>3</th>\n",
       "      <td>-2.839300</td>\n",
       "      <td>1.63</td>\n",
       "      <td>0.598692</td>\n",
       "      <td>8.50392</td>\n",
       "      <td>2.96845</td>\n",
       "      <td>-0.885538</td>\n",
       "      <td>-27.25090</td>\n",
       "      <td>86.5546</td>\n",
       "      <td>3.55</td>\n",
       "      <td>0</td>\n",
       "      <td>1</td>\n",
       "      <td>1</td>\n",
       "      <td>0</td>\n",
       "    </tr>\n",
       "    <tr>\n",
       "      <th>5</th>\n",
       "      <td>8.906150</td>\n",
       "      <td>1.50</td>\n",
       "      <td>3.399510</td>\n",
       "      <td>9.33291</td>\n",
       "      <td>-1.64630</td>\n",
       "      <td>-1.459540</td>\n",
       "      <td>-59.41330</td>\n",
       "      <td>72.0904</td>\n",
       "      <td>3.30</td>\n",
       "      <td>1</td>\n",
       "      <td>0</td>\n",
       "      <td>0</td>\n",
       "      <td>1</td>\n",
       "    </tr>\n",
       "  </tbody>\n",
       "</table>\n",
       "</div>"
      ],
      "text/plain": [
       "     break_x  stringer_zone_bottom        pz  angle_z  angle_x        px  \\\n",
       "0   1.915350                  1.56  2.302170  5.59379  3.02727 -1.298100   \n",
       "1 -12.137300                  1.59  1.574430  6.86676 -1.56782  1.412220   \n",
       "2  -0.992261                  1.68  2.112480  7.17281  2.04966 -0.181190   \n",
       "3  -2.839300                  1.63  0.598692  8.50392  2.96845 -0.885538   \n",
       "5   8.906150                  1.50  3.399510  9.33291 -1.64630 -1.459540   \n",
       "\n",
       "    break_z  pitch_speed  stringer_zone_top  bside_L  bside_R  pside_L  \\\n",
       "0  -9.54142      97.4298               3.41        0        1        1   \n",
       "1 -21.94270      91.7712               3.47        1        0        0   \n",
       "2 -25.51070      87.8130               3.58        1        0        1   \n",
       "3 -27.25090      86.5546               3.55        0        1        1   \n",
       "5 -59.41330      72.0904               3.30        1        0        0   \n",
       "\n",
       "   pside_R  \n",
       "0        0  \n",
       "1        1  \n",
       "2        0  \n",
       "3        0  \n",
       "5        1  "
      ]
     },
     "execution_count": 11,
     "metadata": {},
     "output_type": "execute_result"
    }
   ],
   "source": [
    "df_X.head()"
   ]
  },
  {
   "cell_type": "markdown",
   "id": "4272f150-d2d1-42f6-8786-28066dbf8105",
   "metadata": {},
   "source": [
    "While we are at it, let's prep our targets:"
   ]
  },
  {
   "cell_type": "code",
   "execution_count": 12,
   "id": "a856e547-9af8-456b-a5cb-41c5296d7e41",
   "metadata": {},
   "outputs": [
    {
     "name": "stdout",
     "output_type": "stream",
     "text": [
      "<class 'pandas.core.frame.DataFrame'>\n",
      "Int64Index: 350959 entries, 0 to 354038\n",
      "Data columns (total 1 columns):\n",
      " #   Column       Non-Null Count   Dtype\n",
      "---  ------       --------------   -----\n",
      " 0   strike_bool  350959 non-null  int64\n",
      "dtypes: int64(1)\n",
      "memory usage: 5.4 MB\n"
     ]
    },
    {
     "data": {
      "text/plain": [
       "None"
      ]
     },
     "metadata": {},
     "output_type": "display_data"
    }
   ],
   "source": [
    "df_y = df_train['strike_bool']\n",
    "display(pd.DataFrame(df_y).info())"
   ]
  },
  {
   "cell_type": "markdown",
   "id": "4379dca5-6ed7-4edd-bba3-37617afea026",
   "metadata": {},
   "source": [
    "---\n",
    "\n",
    "#### Feature Engineering\n",
    "\n",
    "Select features:"
   ]
  },
  {
   "cell_type": "markdown",
   "id": "364ddb3b-f17e-47bf-9c0f-c51ae3d6e26a",
   "metadata": {},
   "source": [
    "For a neural network we will need to numerically represent our data (e.g. one-hot-encode any categorical features), as well as scale/normalize the data. \n",
    "\n",
    "All the selected features for this round are numerical, so we don't have to worry about encoding any categories. For scaling I'm choosing to *standardize*."
   ]
  },
  {
   "cell_type": "code",
   "execution_count": 13,
   "id": "48310753-73b3-4530-8ca9-1856e0b0d60e",
   "metadata": {},
   "outputs": [],
   "source": [
    "scaler = StandardScaler()\n",
    "X_scaled = scaler.fit_transform(df_X)"
   ]
  },
  {
   "cell_type": "markdown",
   "id": "4ecfa19b-73d0-4a23-823c-af2387fee0cb",
   "metadata": {},
   "source": [
    "---\n",
    "\n",
    "#### Train / Test\n",
    "\n",
    "\n",
    "Create train/test splits.\n",
    "\n",
    "Breakout parameters for easy access."
   ]
  },
  {
   "cell_type": "code",
   "execution_count": 14,
   "id": "9ae261da-ff35-46e0-9561-237f65d76a1d",
   "metadata": {},
   "outputs": [],
   "source": [
    "# Parameters\n",
    "test_size = 0.20\n",
    "random_state = 24"
   ]
  },
  {
   "cell_type": "code",
   "execution_count": 15,
   "id": "758d38a7-5a66-4383-af5a-cf244ae34374",
   "metadata": {},
   "outputs": [],
   "source": [
    "X_train, X_test, y_train, y_test = train_test_split(X_scaled, df_y, test_size=test_size\n",
    "                                                    ,stratify=df_y, random_state = random_state)"
   ]
  },
  {
   "cell_type": "markdown",
   "id": "827d5ee7-b2c8-417b-9c62-3fa63e66ff10",
   "metadata": {},
   "source": [
    "---  \n",
    "\n",
    "<span style=\"font-size:0.5em;\">Tag 2</span>\n",
    "\n",
    "### Build Model / Hyperparameter Search<a id='random_search'></a>\n",
    "\n",
    "<span style=\"font-size:0.5em;\"><a href='#toc'>Back to TOC</a></span>\n",
    "\n",
    "---  "
   ]
  },
  {
   "cell_type": "markdown",
   "id": "daa063d4-34c1-4287-b991-cfa218da9580",
   "metadata": {},
   "source": [
    "For expediency we are going to use a pipeline and random hyperparameter search to scour through different classifiers and hyperparameter sets to come up with a good candidate."
   ]
  },
  {
   "cell_type": "markdown",
   "id": "ffc5cc6a-a95b-4a61-b774-fe0ec70a1453",
   "metadata": {},
   "source": [
    "We'll create a `DummyEstimator` class to act as a placeholder to which we can pass the different classifiers."
   ]
  },
  {
   "cell_type": "code",
   "execution_count": 16,
   "id": "538b6d34-4c51-4008-b4bd-16c5ac0479a9",
   "metadata": {},
   "outputs": [],
   "source": [
    "class DummyEstimator(BaseEstimator):\n",
    "    def fit(self): pass\n",
    "    def score(self): pass"
   ]
  },
  {
   "cell_type": "markdown",
   "id": "652c91ea-a454-46b3-8a13-6161ebf55a22",
   "metadata": {},
   "source": [
    "Create the pipeline of dictionaries of classifiers and their respective grids of potential hyperparameters."
   ]
  },
  {
   "cell_type": "code",
   "execution_count": 17,
   "id": "95072a54-a4ad-459e-ad51-b92f915a1aa0",
   "metadata": {},
   "outputs": [],
   "source": [
    "# Create a pipeline\n",
    "pipe = Pipeline([('clf', DummyEstimator())]) # Placeholder Estimator\n",
    "\n",
    "# Candidate learning algorithms and their hyperparameters\n",
    "# For selected hyperparameters aimed to select a reasonable range for each.\n",
    "search_space = [{'clf': [LogisticRegression()], # Actual Estimator\n",
    "                 'clf__penalty': ['l1', 'l2', 'elasticnet'],\n",
    "                 'clf__C': np.logspace(-4, 4, 20)\n",
    "                },\n",
    "                {'clf': [DecisionTreeClassifier()],  # Actual Estimator\n",
    "                 'clf__criterion': ['gini', 'entropy'],\n",
    "                 'clf__max_depth': np.arange(3,11,1),\n",
    "                 'clf__min_samples_split': np.linspace(0.1, 0.5, 10, endpoint=False),\n",
    "                 'clf__max_features': [0.25, 0.5, 0.75, 1]\n",
    "                },\n",
    "                {'clf': [RandomForestClassifier()],  # Actual Estimator\n",
    "                 'clf__n_estimators': [50, 100, 200],\n",
    "                 'clf__criterion': ['gini', 'entropy'],                 \n",
    "                 'clf__max_depth': np.arange(3,11,1),\n",
    "                 'clf__min_samples_split': np.linspace(0.1, 0.5, 10, endpoint=False),\n",
    "                 'clf__max_features': [\"auto\", \"sqrt\", \"log2\"],\n",
    "                 'clf__max_samples': [0.25, 0.5, 0.75, 1]\n",
    "                },\n",
    "                {'clf': [GradientBoostingClassifier()],  # Actual Estimator\n",
    "                 'clf__n_estimators': [50, 100, 200],\n",
    "                 'clf__criterion': ['gini', 'entropy'],                 \n",
    "                 'clf__max_depth': np.arange(3,11,1),\n",
    "                 'clf__min_samples_split': np.linspace(0.1, 0.5, 10, endpoint=False),\n",
    "                 'clf__max_features': [\"auto\", \"sqrt\", \"log2\"],\n",
    "                },\n",
    "                {'clf': [XGBClassifier()],  # Actual Estimator\n",
    "                 'clf__n_estimators': [50, 100, 200],\n",
    "                 'clf__criterion': ['gini', 'entropy'],                 \n",
    "                 'clf__max_depth': np.arange(3,11,1),\n",
    "                 'clf__min_samples_split': np.linspace(0.1, 0.5, 10, endpoint=False),\n",
    "                 'clf__max_features': [\"auto\", \"sqrt\", \"log2\"],\n",
    "                 'clf__max_samples': [0.25, 0.5, 0.75, 1]\n",
    "                }\n",
    "               ]\n",
    "\n",
    "# GradientBoostingClassifier(\n",
    "# RandomForestClassifier(\n",
    "    \n",
    "# Create grid search \n",
    "# gs = GridSearchCV(pipe, search_space, random_state=random_state)\n",
    "rs = RandomizedSearchCV(pipe, search_space, random_state=random_state\n",
    "                        ,n_iter=10 # To limit search time \n",
    "                        ,cv=3      # I like 5 as rule of thumb, but again to limit search time\n",
    "                        ,verbose=True, refit=True, scoring='accuracy')"
   ]
  },
  {
   "cell_type": "markdown",
   "id": "f89c3c4a-be0c-48dc-a83c-73963a480d53",
   "metadata": {},
   "source": [
    "Fit the random search cv object."
   ]
  },
  {
   "cell_type": "code",
   "execution_count": 19,
   "id": "7546ee03-29c0-45e4-9b70-66a95dd9b217",
   "metadata": {},
   "outputs": [
    {
     "name": "stdout",
     "output_type": "stream",
     "text": [
      "Fitting 3 folds for each of 10 candidates, totalling 30 fits\n",
      "[01:31:47] WARNING: ../src/learner.cc:541: \n",
      "Parameters: { criterion, max_features, max_samples, min_samples_split } might not be used.\n",
      "\n",
      "  This may not be accurate due to some parameters are only used in language bindings but\n",
      "  passed down to XGBoost core.  Or some parameters are not used but slip through this\n",
      "  verification. Please open an issue if you find above cases.\n",
      "\n",
      "\n",
      "[01:31:48] WARNING: ../src/learner.cc:1061: Starting in XGBoost 1.3.0, the default evaluation metric used with the objective 'binary:logistic' was changed from 'error' to 'logloss'. Explicitly set eval_metric if you'd like to restore the old behavior.\n",
      "[01:32:50] WARNING: ../src/learner.cc:541: \n",
      "Parameters: { criterion, max_features, max_samples, min_samples_split } might not be used.\n",
      "\n",
      "  This may not be accurate due to some parameters are only used in language bindings but\n",
      "  passed down to XGBoost core.  Or some parameters are not used but slip through this\n",
      "  verification. Please open an issue if you find above cases.\n",
      "\n",
      "\n",
      "[01:32:52] WARNING: ../src/learner.cc:1061: Starting in XGBoost 1.3.0, the default evaluation metric used with the objective 'binary:logistic' was changed from 'error' to 'logloss'. Explicitly set eval_metric if you'd like to restore the old behavior.\n",
      "[01:33:53] WARNING: ../src/learner.cc:541: \n",
      "Parameters: { criterion, max_features, max_samples, min_samples_split } might not be used.\n",
      "\n",
      "  This may not be accurate due to some parameters are only used in language bindings but\n",
      "  passed down to XGBoost core.  Or some parameters are not used but slip through this\n",
      "  verification. Please open an issue if you find above cases.\n",
      "\n",
      "\n",
      "[01:33:54] WARNING: ../src/learner.cc:1061: Starting in XGBoost 1.3.0, the default evaluation metric used with the objective 'binary:logistic' was changed from 'error' to 'logloss'. Explicitly set eval_metric if you'd like to restore the old behavior.\n",
      "[01:35:17] WARNING: ../src/learner.cc:541: \n",
      "Parameters: { criterion, max_features, max_samples, min_samples_split } might not be used.\n",
      "\n",
      "  This may not be accurate due to some parameters are only used in language bindings but\n",
      "  passed down to XGBoost core.  Or some parameters are not used but slip through this\n",
      "  verification. Please open an issue if you find above cases.\n",
      "\n",
      "\n",
      "[01:35:18] WARNING: ../src/learner.cc:1061: Starting in XGBoost 1.3.0, the default evaluation metric used with the objective 'binary:logistic' was changed from 'error' to 'logloss'. Explicitly set eval_metric if you'd like to restore the old behavior.\n",
      "[01:37:15] WARNING: ../src/learner.cc:541: \n",
      "Parameters: { criterion, max_features, max_samples, min_samples_split } might not be used.\n",
      "\n",
      "  This may not be accurate due to some parameters are only used in language bindings but\n",
      "  passed down to XGBoost core.  Or some parameters are not used but slip through this\n",
      "  verification. Please open an issue if you find above cases.\n",
      "\n",
      "\n",
      "[01:37:15] WARNING: ../src/learner.cc:1061: Starting in XGBoost 1.3.0, the default evaluation metric used with the objective 'binary:logistic' was changed from 'error' to 'logloss'. Explicitly set eval_metric if you'd like to restore the old behavior.\n",
      "[01:39:12] WARNING: ../src/learner.cc:541: \n",
      "Parameters: { criterion, max_features, max_samples, min_samples_split } might not be used.\n",
      "\n",
      "  This may not be accurate due to some parameters are only used in language bindings but\n",
      "  passed down to XGBoost core.  Or some parameters are not used but slip through this\n",
      "  verification. Please open an issue if you find above cases.\n",
      "\n",
      "\n",
      "[01:39:13] WARNING: ../src/learner.cc:1061: Starting in XGBoost 1.3.0, the default evaluation metric used with the objective 'binary:logistic' was changed from 'error' to 'logloss'. Explicitly set eval_metric if you'd like to restore the old behavior.\n",
      "[01:41:17] WARNING: ../src/learner.cc:541: \n",
      "Parameters: { criterion, max_features, max_samples, min_samples_split } might not be used.\n",
      "\n",
      "  This may not be accurate due to some parameters are only used in language bindings but\n",
      "  passed down to XGBoost core.  Or some parameters are not used but slip through this\n",
      "  verification. Please open an issue if you find above cases.\n",
      "\n",
      "\n",
      "[01:41:18] WARNING: ../src/learner.cc:1061: Starting in XGBoost 1.3.0, the default evaluation metric used with the objective 'binary:logistic' was changed from 'error' to 'logloss'. Explicitly set eval_metric if you'd like to restore the old behavior.\n",
      "[01:43:34] WARNING: ../src/learner.cc:541: \n",
      "Parameters: { criterion, max_features, max_samples, min_samples_split } might not be used.\n",
      "\n",
      "  This may not be accurate due to some parameters are only used in language bindings but\n",
      "  passed down to XGBoost core.  Or some parameters are not used but slip through this\n",
      "  verification. Please open an issue if you find above cases.\n",
      "\n",
      "\n",
      "[01:43:35] WARNING: ../src/learner.cc:1061: Starting in XGBoost 1.3.0, the default evaluation metric used with the objective 'binary:logistic' was changed from 'error' to 'logloss'. Explicitly set eval_metric if you'd like to restore the old behavior.\n",
      "[02:00:42] WARNING: ../src/learner.cc:541: \n",
      "Parameters: { criterion, max_features, max_samples, min_samples_split } might not be used.\n",
      "\n",
      "  This may not be accurate due to some parameters are only used in language bindings but\n",
      "  passed down to XGBoost core.  Or some parameters are not used but slip through this\n",
      "  verification. Please open an issue if you find above cases.\n",
      "\n",
      "\n",
      "[02:00:44] WARNING: ../src/learner.cc:1061: Starting in XGBoost 1.3.0, the default evaluation metric used with the objective 'binary:logistic' was changed from 'error' to 'logloss'. Explicitly set eval_metric if you'd like to restore the old behavior.\n"
     ]
    }
   ],
   "source": [
    "rs_results = rs.fit(X_train, y_train)"
   ]
  },
  {
   "cell_type": "markdown",
   "id": "aba7ce54-a667-46e4-b687-4d35d9783a58",
   "metadata": {},
   "source": [
    "Let's pickle the random search results."
   ]
  },
  {
   "cell_type": "code",
   "execution_count": 59,
   "id": "e5aef4ad-d57b-4d4f-815e-89efe8c46eab",
   "metadata": {
    "tags": []
   },
   "outputs": [
    {
     "data": {
      "text/plain": [
       "'./models/rs_results/classic_rs_1st_pass_20220507_1926.pickle'"
      ]
     },
     "metadata": {},
     "output_type": "display_data"
    }
   ],
   "source": [
    "str_ts = datetime.now(timezone.utc).astimezone(pytz.timezone('US/Pacific')).strftime(\"%Y%m%d_%H%M\")\n",
    "file_nm = 'classic_rs_1st_pass_' + str_ts\n",
    "file_path = './models/rs_results/' + file_nm + '.pickle'\n",
    "# pred_path = './predictions/test/' + file_nm + '.csv'\n",
    "\n",
    "display(file_path)\n",
    "\n",
    "with open(file_path, 'wb') as f:\n",
    "    # Pickle the 'data' dictionary using the highest protocol available.\n",
    "    pickle.dump(rs_results, f, pickle.HIGHEST_PROTOCOL)"
   ]
  },
  {
   "cell_type": "code",
   "execution_count": 61,
   "id": "19a20ae2-7330-4d60-875a-0e9fc967428e",
   "metadata": {
    "tags": []
   },
   "outputs": [
    {
     "name": "stdout",
     "output_type": "stream",
     "text": [
      "skipping\n"
     ]
    }
   ],
   "source": [
    "%%script echo skipping\n",
    "# Test loading pickle\n",
    "load_path = './models/rs_results/classic_rs_1st_pass_20220505_1544.pickle'\n",
    "\n",
    "with open(load_path, 'rb') as f:\n",
    "    # The protocol version used is detected automatically, so we do not\n",
    "    # have to specify it.\n",
    "    rs_rez_unpkl = pickle.load(f)    "
   ]
  },
  {
   "cell_type": "markdown",
   "id": "ba23a504-829e-4f2f-b1cc-baf311d80646",
   "metadata": {},
   "source": [
    "Check the results."
   ]
  },
  {
   "cell_type": "code",
   "execution_count": 62,
   "id": "a349a80f-cc47-4ae6-9392-155b2d72b5ff",
   "metadata": {},
   "outputs": [
    {
     "data": {
      "text/plain": [
       "Pipeline(steps=[('clf',\n",
       "                 XGBClassifier(base_score=0.5, booster='gbtree',\n",
       "                               colsample_bylevel=1, colsample_bynode=1,\n",
       "                               colsample_bytree=1, criterion='entropy', gamma=0,\n",
       "                               gpu_id=-1, importance_type='gain',\n",
       "                               interaction_constraints='',\n",
       "                               learning_rate=0.300000012, max_delta_step=0,\n",
       "                               max_depth=7, max_features='auto',\n",
       "                               max_samples=0.5, min_child_weight=1,\n",
       "                               min_samples_split=0.38, missing=nan,\n",
       "                               monotone_constraints='()', n_estimators=50,\n",
       "                               n_jobs=16, num_parallel_tree=1, random_state=0,\n",
       "                               reg_alpha=0, reg_lambda=1, scale_pos_weight=1,\n",
       "                               subsample=1, tree_method='exact',\n",
       "                               validate_parameters=1, verbosity=None))])"
      ]
     },
     "execution_count": 62,
     "metadata": {},
     "output_type": "execute_result"
    }
   ],
   "source": [
    "rs_results.best_estimator_"
   ]
  },
  {
   "cell_type": "code",
   "execution_count": 63,
   "id": "84a703f8-2256-4f75-83d4-3ac5a95924da",
   "metadata": {},
   "outputs": [
    {
     "data": {
      "text/plain": [
       "{'clf__n_estimators': 50,\n",
       " 'clf__min_samples_split': 0.38,\n",
       " 'clf__max_samples': 0.5,\n",
       " 'clf__max_features': 'auto',\n",
       " 'clf__max_depth': 7,\n",
       " 'clf__criterion': 'entropy',\n",
       " 'clf': XGBClassifier(base_score=None, booster=None, colsample_bylevel=None,\n",
       "               colsample_bynode=None, colsample_bytree=None, criterion='entropy',\n",
       "               gamma=None, gpu_id=None, importance_type='gain',\n",
       "               interaction_constraints=None, learning_rate=None,\n",
       "               max_delta_step=None, max_depth=7, max_features='auto',\n",
       "               max_samples=0.5, min_child_weight=None, min_samples_split=0.38,\n",
       "               missing=nan, monotone_constraints=None, n_estimators=50,\n",
       "               n_jobs=None, num_parallel_tree=None, random_state=None,\n",
       "               reg_alpha=None, reg_lambda=None, scale_pos_weight=None,\n",
       "               subsample=None, tree_method=None, validate_parameters=None,\n",
       "               verbosity=None)}"
      ]
     },
     "execution_count": 63,
     "metadata": {},
     "output_type": "execute_result"
    }
   ],
   "source": [
    "rs_results.best_params_"
   ]
  },
  {
   "cell_type": "code",
   "execution_count": 64,
   "id": "89f54714-d825-495b-a150-40de7f885ad0",
   "metadata": {},
   "outputs": [
    {
     "data": {
      "text/plain": [
       "0.9311742476858035"
      ]
     },
     "execution_count": 64,
     "metadata": {},
     "output_type": "execute_result"
    }
   ],
   "source": [
    "rs_results.best_score_"
   ]
  },
  {
   "cell_type": "code",
   "execution_count": 65,
   "id": "5fec844e-5636-4729-b68b-e7009f8a7190",
   "metadata": {},
   "outputs": [
    {
     "data": {
      "text/plain": [
       "{'mean_fit_time': array([6.24537433e+01, 6.97577127e+00, 1.17510913e+02, 1.56365665e+00,\n",
       "        1.31909710e+02, 1.44591689e+00, 3.71584892e-02, 2.02338410e+02,\n",
       "        3.93873851e-02, 5.12300500e+01]),\n",
       " 'std_fit_time': array([5.89397008e-01, 2.90986308e-01, 8.50715299e-01, 2.82637212e-02,\n",
       "        3.79497426e+00, 2.26258531e-02, 8.11709933e-04, 7.27908520e-01,\n",
       "        4.35671146e-03, 1.35348041e+00]),\n",
       " 'mean_score_time': array([0.31588395, 0.42135564, 0.31949464, 0.32197293, 0.37204138,\n",
       "        0.32998506, 0.        , 0.47979339, 0.        , 0.29422458]),\n",
       " 'std_score_time': array([0.09396986, 0.00358831, 0.08885166, 0.00124982, 0.04526548,\n",
       "        0.00796864, 0.        , 0.07697114, 0.        , 0.07210862]),\n",
       " 'param_clf__n_estimators': masked_array(data=[50, 100, 200, 100, 100, 100, 100, 200, 50, 50],\n",
       "              mask=[False, False, False, False, False, False, False, False,\n",
       "                    False, False],\n",
       "        fill_value='?',\n",
       "             dtype=object),\n",
       " 'param_clf__min_samples_split': masked_array(data=[0.18, 0.33999999999999997, 0.14, 0.26,\n",
       "                    0.42000000000000004, 0.33999999999999997, 0.22, 0.22,\n",
       "                    0.30000000000000004, 0.38],\n",
       "              mask=[False, False, False, False, False, False, False, False,\n",
       "                    False, False],\n",
       "        fill_value='?',\n",
       "             dtype=object),\n",
       " 'param_clf__max_samples': masked_array(data=[0.25, 0.75, 0.5, 0.25, 0.75, 1, --, 0.75, --, 0.5],\n",
       "              mask=[False, False, False, False, False, False,  True, False,\n",
       "                     True, False],\n",
       "        fill_value='?',\n",
       "             dtype=object),\n",
       " 'param_clf__max_features': masked_array(data=['sqrt', 'sqrt', 'log2', 'log2', 'log2', 'sqrt', 'sqrt',\n",
       "                    'sqrt', 'auto', 'auto'],\n",
       "              mask=[False, False, False, False, False, False, False, False,\n",
       "                    False, False],\n",
       "        fill_value='?',\n",
       "             dtype=object),\n",
       " 'param_clf__max_depth': masked_array(data=[8, 3, 4, 10, 9, 7, 3, 7, 5, 7],\n",
       "              mask=[False, False, False, False, False, False, False, False,\n",
       "                    False, False],\n",
       "        fill_value='?',\n",
       "             dtype=object),\n",
       " 'param_clf__criterion': masked_array(data=['entropy', 'gini', 'gini', 'gini', 'gini', 'entropy',\n",
       "                    'gini', 'entropy', 'entropy', 'entropy'],\n",
       "              mask=[False, False, False, False, False, False, False, False,\n",
       "                    False, False],\n",
       "        fill_value='?',\n",
       "             dtype=object),\n",
       " 'param_clf': masked_array(data=[XGBClassifier(base_score=None, booster=None, colsample_bylevel=None,\n",
       "                                  colsample_bynode=None, colsample_bytree=None, criterion='entropy',\n",
       "                                  gamma=None, gpu_id=None, importance_type='gain',\n",
       "                                  interaction_constraints=None, learning_rate=None,\n",
       "                                  max_delta_step=None, max_depth=7, max_features='auto',\n",
       "                                  max_samples=0.5, min_child_weight=None, min_samples_split=0.38,\n",
       "                                  missing=nan, monotone_constraints=None, n_estimators=50,\n",
       "                                  n_jobs=None, num_parallel_tree=None, random_state=None,\n",
       "                                  reg_alpha=None, reg_lambda=None, scale_pos_weight=None,\n",
       "                                  subsample=None, tree_method=None, validate_parameters=None,\n",
       "                                  verbosity=None)                                                   ,\n",
       "                    RandomForestClassifier(),\n",
       "                    XGBClassifier(base_score=None, booster=None, colsample_bylevel=None,\n",
       "                                  colsample_bynode=None, colsample_bytree=None, criterion='entropy',\n",
       "                                  gamma=None, gpu_id=None, importance_type='gain',\n",
       "                                  interaction_constraints=None, learning_rate=None,\n",
       "                                  max_delta_step=None, max_depth=7, max_features='auto',\n",
       "                                  max_samples=0.5, min_child_weight=None, min_samples_split=0.38,\n",
       "                                  missing=nan, monotone_constraints=None, n_estimators=50,\n",
       "                                  n_jobs=None, num_parallel_tree=None, random_state=None,\n",
       "                                  reg_alpha=None, reg_lambda=None, scale_pos_weight=None,\n",
       "                                  subsample=None, tree_method=None, validate_parameters=None,\n",
       "                                  verbosity=None)                                                   ,\n",
       "                    RandomForestClassifier(),\n",
       "                    XGBClassifier(base_score=None, booster=None, colsample_bylevel=None,\n",
       "                                  colsample_bynode=None, colsample_bytree=None, criterion='entropy',\n",
       "                                  gamma=None, gpu_id=None, importance_type='gain',\n",
       "                                  interaction_constraints=None, learning_rate=None,\n",
       "                                  max_delta_step=None, max_depth=7, max_features='auto',\n",
       "                                  max_samples=0.5, min_child_weight=None, min_samples_split=0.38,\n",
       "                                  missing=nan, monotone_constraints=None, n_estimators=50,\n",
       "                                  n_jobs=None, num_parallel_tree=None, random_state=None,\n",
       "                                  reg_alpha=None, reg_lambda=None, scale_pos_weight=None,\n",
       "                                  subsample=None, tree_method=None, validate_parameters=None,\n",
       "                                  verbosity=None)                                                   ,\n",
       "                    RandomForestClassifier(), GradientBoostingClassifier(),\n",
       "                    XGBClassifier(base_score=None, booster=None, colsample_bylevel=None,\n",
       "                                  colsample_bynode=None, colsample_bytree=None, criterion='entropy',\n",
       "                                  gamma=None, gpu_id=None, importance_type='gain',\n",
       "                                  interaction_constraints=None, learning_rate=None,\n",
       "                                  max_delta_step=None, max_depth=7, max_features='auto',\n",
       "                                  max_samples=0.5, min_child_weight=None, min_samples_split=0.38,\n",
       "                                  missing=nan, monotone_constraints=None, n_estimators=50,\n",
       "                                  n_jobs=None, num_parallel_tree=None, random_state=None,\n",
       "                                  reg_alpha=None, reg_lambda=None, scale_pos_weight=None,\n",
       "                                  subsample=None, tree_method=None, validate_parameters=None,\n",
       "                                  verbosity=None)                                                   ,\n",
       "                    GradientBoostingClassifier(),\n",
       "                    XGBClassifier(base_score=None, booster=None, colsample_bylevel=None,\n",
       "                                  colsample_bynode=None, colsample_bytree=None, criterion='entropy',\n",
       "                                  gamma=None, gpu_id=None, importance_type='gain',\n",
       "                                  interaction_constraints=None, learning_rate=None,\n",
       "                                  max_delta_step=None, max_depth=7, max_features='auto',\n",
       "                                  max_samples=0.5, min_child_weight=None, min_samples_split=0.38,\n",
       "                                  missing=nan, monotone_constraints=None, n_estimators=50,\n",
       "                                  n_jobs=None, num_parallel_tree=None, random_state=None,\n",
       "                                  reg_alpha=None, reg_lambda=None, scale_pos_weight=None,\n",
       "                                  subsample=None, tree_method=None, validate_parameters=None,\n",
       "                                  verbosity=None)                                                   ],\n",
       "              mask=[False, False, False, False, False, False, False, False,\n",
       "                    False, False],\n",
       "        fill_value='?',\n",
       "             dtype=object),\n",
       " 'params': [{'clf__n_estimators': 50,\n",
       "   'clf__min_samples_split': 0.18,\n",
       "   'clf__max_samples': 0.25,\n",
       "   'clf__max_features': 'sqrt',\n",
       "   'clf__max_depth': 8,\n",
       "   'clf__criterion': 'entropy',\n",
       "   'clf': XGBClassifier(base_score=None, booster=None, colsample_bylevel=None,\n",
       "                 colsample_bynode=None, colsample_bytree=None, criterion='entropy',\n",
       "                 gamma=None, gpu_id=None, importance_type='gain',\n",
       "                 interaction_constraints=None, learning_rate=None,\n",
       "                 max_delta_step=None, max_depth=7, max_features='auto',\n",
       "                 max_samples=0.5, min_child_weight=None, min_samples_split=0.38,\n",
       "                 missing=nan, monotone_constraints=None, n_estimators=50,\n",
       "                 n_jobs=None, num_parallel_tree=None, random_state=None,\n",
       "                 reg_alpha=None, reg_lambda=None, scale_pos_weight=None,\n",
       "                 subsample=None, tree_method=None, validate_parameters=None,\n",
       "                 verbosity=None)},\n",
       "  {'clf__n_estimators': 100,\n",
       "   'clf__min_samples_split': 0.33999999999999997,\n",
       "   'clf__max_samples': 0.75,\n",
       "   'clf__max_features': 'sqrt',\n",
       "   'clf__max_depth': 3,\n",
       "   'clf__criterion': 'gini',\n",
       "   'clf': RandomForestClassifier()},\n",
       "  {'clf__n_estimators': 200,\n",
       "   'clf__min_samples_split': 0.14,\n",
       "   'clf__max_samples': 0.5,\n",
       "   'clf__max_features': 'log2',\n",
       "   'clf__max_depth': 4,\n",
       "   'clf__criterion': 'gini',\n",
       "   'clf': XGBClassifier(base_score=None, booster=None, colsample_bylevel=None,\n",
       "                 colsample_bynode=None, colsample_bytree=None, criterion='entropy',\n",
       "                 gamma=None, gpu_id=None, importance_type='gain',\n",
       "                 interaction_constraints=None, learning_rate=None,\n",
       "                 max_delta_step=None, max_depth=7, max_features='auto',\n",
       "                 max_samples=0.5, min_child_weight=None, min_samples_split=0.38,\n",
       "                 missing=nan, monotone_constraints=None, n_estimators=50,\n",
       "                 n_jobs=None, num_parallel_tree=None, random_state=None,\n",
       "                 reg_alpha=None, reg_lambda=None, scale_pos_weight=None,\n",
       "                 subsample=None, tree_method=None, validate_parameters=None,\n",
       "                 verbosity=None)},\n",
       "  {'clf__n_estimators': 100,\n",
       "   'clf__min_samples_split': 0.26,\n",
       "   'clf__max_samples': 0.25,\n",
       "   'clf__max_features': 'log2',\n",
       "   'clf__max_depth': 10,\n",
       "   'clf__criterion': 'gini',\n",
       "   'clf': RandomForestClassifier()},\n",
       "  {'clf__n_estimators': 100,\n",
       "   'clf__min_samples_split': 0.42000000000000004,\n",
       "   'clf__max_samples': 0.75,\n",
       "   'clf__max_features': 'log2',\n",
       "   'clf__max_depth': 9,\n",
       "   'clf__criterion': 'gini',\n",
       "   'clf': XGBClassifier(base_score=None, booster=None, colsample_bylevel=None,\n",
       "                 colsample_bynode=None, colsample_bytree=None, criterion='entropy',\n",
       "                 gamma=None, gpu_id=None, importance_type='gain',\n",
       "                 interaction_constraints=None, learning_rate=None,\n",
       "                 max_delta_step=None, max_depth=7, max_features='auto',\n",
       "                 max_samples=0.5, min_child_weight=None, min_samples_split=0.38,\n",
       "                 missing=nan, monotone_constraints=None, n_estimators=50,\n",
       "                 n_jobs=None, num_parallel_tree=None, random_state=None,\n",
       "                 reg_alpha=None, reg_lambda=None, scale_pos_weight=None,\n",
       "                 subsample=None, tree_method=None, validate_parameters=None,\n",
       "                 verbosity=None)},\n",
       "  {'clf__n_estimators': 100,\n",
       "   'clf__min_samples_split': 0.33999999999999997,\n",
       "   'clf__max_samples': 1,\n",
       "   'clf__max_features': 'sqrt',\n",
       "   'clf__max_depth': 7,\n",
       "   'clf__criterion': 'entropy',\n",
       "   'clf': RandomForestClassifier()},\n",
       "  {'clf__n_estimators': 100,\n",
       "   'clf__min_samples_split': 0.22,\n",
       "   'clf__max_features': 'sqrt',\n",
       "   'clf__max_depth': 3,\n",
       "   'clf__criterion': 'gini',\n",
       "   'clf': GradientBoostingClassifier()},\n",
       "  {'clf__n_estimators': 200,\n",
       "   'clf__min_samples_split': 0.22,\n",
       "   'clf__max_samples': 0.75,\n",
       "   'clf__max_features': 'sqrt',\n",
       "   'clf__max_depth': 7,\n",
       "   'clf__criterion': 'entropy',\n",
       "   'clf': XGBClassifier(base_score=None, booster=None, colsample_bylevel=None,\n",
       "                 colsample_bynode=None, colsample_bytree=None, criterion='entropy',\n",
       "                 gamma=None, gpu_id=None, importance_type='gain',\n",
       "                 interaction_constraints=None, learning_rate=None,\n",
       "                 max_delta_step=None, max_depth=7, max_features='auto',\n",
       "                 max_samples=0.5, min_child_weight=None, min_samples_split=0.38,\n",
       "                 missing=nan, monotone_constraints=None, n_estimators=50,\n",
       "                 n_jobs=None, num_parallel_tree=None, random_state=None,\n",
       "                 reg_alpha=None, reg_lambda=None, scale_pos_weight=None,\n",
       "                 subsample=None, tree_method=None, validate_parameters=None,\n",
       "                 verbosity=None)},\n",
       "  {'clf__n_estimators': 50,\n",
       "   'clf__min_samples_split': 0.30000000000000004,\n",
       "   'clf__max_features': 'auto',\n",
       "   'clf__max_depth': 5,\n",
       "   'clf__criterion': 'entropy',\n",
       "   'clf': GradientBoostingClassifier()},\n",
       "  {'clf__n_estimators': 50,\n",
       "   'clf__min_samples_split': 0.38,\n",
       "   'clf__max_samples': 0.5,\n",
       "   'clf__max_features': 'auto',\n",
       "   'clf__max_depth': 7,\n",
       "   'clf__criterion': 'entropy',\n",
       "   'clf': XGBClassifier(base_score=None, booster=None, colsample_bylevel=None,\n",
       "                 colsample_bynode=None, colsample_bytree=None, criterion='entropy',\n",
       "                 gamma=None, gpu_id=None, importance_type='gain',\n",
       "                 interaction_constraints=None, learning_rate=None,\n",
       "                 max_delta_step=None, max_depth=7, max_features='auto',\n",
       "                 max_samples=0.5, min_child_weight=None, min_samples_split=0.38,\n",
       "                 missing=nan, monotone_constraints=None, n_estimators=50,\n",
       "                 n_jobs=None, num_parallel_tree=None, random_state=None,\n",
       "                 reg_alpha=None, reg_lambda=None, scale_pos_weight=None,\n",
       "                 subsample=None, tree_method=None, validate_parameters=None,\n",
       "                 verbosity=None)}],\n",
       " 'split0_test_score': array([0.93098548, 0.68636271, 0.93086794, 0.68636271, 0.9294041 ,\n",
       "        0.68636271,        nan, 0.92930793,        nan, 0.9308252 ]),\n",
       " 'split1_test_score': array([0.93142356, 0.68787999, 0.9315411 , 0.68787999, 0.93008794,\n",
       "        0.68787999,        nan, 0.93040849,        nan, 0.93221426]),\n",
       " 'split2_test_score': array([0.92992766, 0.68635203, 0.9306115 , 0.68635203, 0.92834628,\n",
       "        0.68635203,        nan, 0.92849587,        nan, 0.93048328]),\n",
       " 'mean_test_score': array([0.9307789 , 0.68686491, 0.93100685, 0.68686491, 0.92927944,\n",
       "        0.68686491,        nan, 0.9294041 ,        nan, 0.93117425]),\n",
       " 'std_test_score': array([0.00062793, 0.00071778, 0.00039201, 0.00071778, 0.00071647,\n",
       "        0.00071778,        nan, 0.00078378,        nan, 0.00074853]),\n",
       " 'rank_test_score': array([ 3,  6,  2,  6,  5,  6,  9,  4, 10,  1], dtype=int32)}"
      ]
     },
     "execution_count": 65,
     "metadata": {},
     "output_type": "execute_result"
    }
   ],
   "source": [
    "rs_results.cv_results_"
   ]
  },
  {
   "cell_type": "code",
   "execution_count": 66,
   "id": "054b1e3d-f7a5-40b9-b68b-0a6b2e835b9b",
   "metadata": {},
   "outputs": [],
   "source": [
    "df_rs_res = pd.DataFrame(rs_results.cv_results_)"
   ]
  },
  {
   "cell_type": "code",
   "execution_count": 67,
   "id": "62f139d0-58a0-49ff-80bc-0ca81e1e5217",
   "metadata": {},
   "outputs": [
    {
     "data": {
      "text/plain": [
       "(10, 18)"
      ]
     },
     "execution_count": 67,
     "metadata": {},
     "output_type": "execute_result"
    }
   ],
   "source": [
    "df_rs_res.shape"
   ]
  },
  {
   "cell_type": "code",
   "execution_count": 68,
   "id": "e4d52a21-d62b-4d63-bd7e-15cff7da8b19",
   "metadata": {},
   "outputs": [
    {
     "data": {
      "application/com.datacamp.data-table.v1+json": {
       "is_truncated": false,
       "table": {
        "data": [
         {
          "0": 62.4537432988,
          "1": 6.9757712682,
          "2": 117.5109128157,
          "3": 1.563656648,
          "4": 131.9097104867,
          "5": 1.4459168911,
          "6": 0.0371584892,
          "7": 202.3384095828,
          "8": 0.0393873851,
          "9": 51.2300500075,
          "index": "mean_fit_time"
         },
         {
          "0": 0.5893970083,
          "1": 0.2909863084,
          "2": 0.8507152993,
          "3": 0.0282637212,
          "4": 3.794974256,
          "5": 0.0226258531,
          "6": 0.0008117099,
          "7": 0.7279085201,
          "8": 0.0043567115,
          "9": 1.3534804067,
          "index": "std_fit_time"
         },
         {
          "0": 0.3158839544,
          "1": 0.4213556449,
          "2": 0.3194946448,
          "3": 0.3219729265,
          "4": 0.3720413844,
          "5": 0.3299850623,
          "6": 0,
          "7": 0.4797933896,
          "8": 0,
          "9": 0.2942245801,
          "index": "mean_score_time"
         },
         {
          "0": 0.0939698582,
          "1": 0.0035883148,
          "2": 0.088851662,
          "3": 0.001249817,
          "4": 0.0452654818,
          "5": 0.0079686353,
          "6": 0,
          "7": 0.0769711412,
          "8": 0,
          "9": 0.0721086183,
          "index": "std_score_time"
         },
         {
          "0": 50,
          "1": 100,
          "2": 200,
          "3": 100,
          "4": 100,
          "5": 100,
          "6": 100,
          "7": 200,
          "8": 50,
          "9": 50,
          "index": "param_clf__n_estimators"
         },
         {
          "0": 0.18,
          "1": 0.34,
          "2": 0.14,
          "3": 0.26,
          "4": 0.42,
          "5": 0.34,
          "6": 0.22,
          "7": 0.22,
          "8": 0.3,
          "9": 0.38,
          "index": "param_clf__min_samples_split"
         },
         {
          "0": 0.25,
          "1": 0.75,
          "2": 0.5,
          "3": 0.25,
          "4": 0.75,
          "5": 1,
          "6": null,
          "7": 0.75,
          "8": null,
          "9": 0.5,
          "index": "param_clf__max_samples"
         },
         {
          "0": "sqrt",
          "1": "sqrt",
          "2": "log2",
          "3": "log2",
          "4": "log2",
          "5": "sqrt",
          "6": "sqrt",
          "7": "sqrt",
          "8": "auto",
          "9": "auto",
          "index": "param_clf__max_features"
         },
         {
          "0": 8,
          "1": 3,
          "2": 4,
          "3": 10,
          "4": 9,
          "5": 7,
          "6": 3,
          "7": 7,
          "8": 5,
          "9": 7,
          "index": "param_clf__max_depth"
         },
         {
          "0": "entropy",
          "1": "gini",
          "2": "gini",
          "3": "gini",
          "4": "gini",
          "5": "entropy",
          "6": "gini",
          "7": "entropy",
          "8": "entropy",
          "9": "entropy",
          "index": "param_clf__criterion"
         },
         {
          "0": {
           "base_score": null,
           "colsample_bylevel": null,
           "colsample_bytree": null,
           "gamma": null,
           "gpu_id": null,
           "interaction_constraints": null,
           "kwargs": {
            "criterion": "entropy",
            "max_features": "auto",
            "max_samples": 0.5,
            "min_samples_split": 0.38
           },
           "max_delta_step": null,
           "min_child_weight": null,
           "monotone_constraints": null,
           "n_jobs": null,
           "objective": "binary:logistic",
           "random_state": null,
           "reg_lambda": null,
           "scale_pos_weight": null,
           "subsample": null,
           "use_label_encoder": true,
           "verbosity": null
          },
          "1": {
           "base_estimator": {
            "ccp_alpha": 0,
            "criterion": "gini",
            "max_depth": null,
            "max_leaf_nodes": null,
            "min_samples_leaf": 1,
            "min_weight_fraction_leaf": 0,
            "random_state": null,
            "splitter": "best"
           },
           "ccp_alpha": 0,
           "criterion": "gini",
           "estimator_params": [
            "criterion",
            "max_depth",
            "min_samples_split",
            "min_samples_leaf",
            "min_weight_fraction_leaf",
            "max_features",
            "max_leaf_nodes",
            "min_impurity_decrease",
            "random_state",
            "ccp_alpha"
           ],
           "max_depth": null,
           "max_leaf_nodes": null,
           "min_impurity_decrease": 0,
           "min_samples_split": 2,
           "n_estimators": 100,
           "n_jobs": null,
           "random_state": null,
           "verbose": 0
          },
          "2": {
           "base_score": null,
           "colsample_bylevel": null,
           "colsample_bytree": null,
           "gamma": null,
           "gpu_id": null,
           "interaction_constraints": null,
           "kwargs": {
            "criterion": "entropy",
            "max_features": "auto",
            "max_samples": 0.5,
            "min_samples_split": 0.38
           },
           "max_delta_step": null,
           "min_child_weight": null,
           "monotone_constraints": null,
           "n_jobs": null,
           "objective": "binary:logistic",
           "random_state": null,
           "reg_lambda": null,
           "scale_pos_weight": null,
           "subsample": null,
           "use_label_encoder": true,
           "verbosity": null
          },
          "3": {
           "base_estimator": {
            "ccp_alpha": 0,
            "criterion": "gini",
            "max_depth": null,
            "max_leaf_nodes": null,
            "min_samples_leaf": 1,
            "min_weight_fraction_leaf": 0,
            "random_state": null,
            "splitter": "best"
           },
           "ccp_alpha": 0,
           "criterion": "gini",
           "estimator_params": [
            "criterion",
            "max_depth",
            "min_samples_split",
            "min_samples_leaf",
            "min_weight_fraction_leaf",
            "max_features",
            "max_leaf_nodes",
            "min_impurity_decrease",
            "random_state",
            "ccp_alpha"
           ],
           "max_depth": null,
           "max_leaf_nodes": null,
           "min_impurity_decrease": 0,
           "min_samples_split": 2,
           "n_estimators": 100,
           "n_jobs": null,
           "random_state": null,
           "verbose": 0
          },
          "4": {
           "base_score": null,
           "colsample_bylevel": null,
           "colsample_bytree": null,
           "gamma": null,
           "gpu_id": null,
           "interaction_constraints": null,
           "kwargs": {
            "criterion": "entropy",
            "max_features": "auto",
            "max_samples": 0.5,
            "min_samples_split": 0.38
           },
           "max_delta_step": null,
           "min_child_weight": null,
           "monotone_constraints": null,
           "n_jobs": null,
           "objective": "binary:logistic",
           "random_state": null,
           "reg_lambda": null,
           "scale_pos_weight": null,
           "subsample": null,
           "use_label_encoder": true,
           "verbosity": null
          },
          "5": {
           "base_estimator": {
            "ccp_alpha": 0,
            "criterion": "gini",
            "max_depth": null,
            "max_leaf_nodes": null,
            "min_samples_leaf": 1,
            "min_weight_fraction_leaf": 0,
            "random_state": null,
            "splitter": "best"
           },
           "ccp_alpha": 0,
           "criterion": "gini",
           "estimator_params": [
            "criterion",
            "max_depth",
            "min_samples_split",
            "min_samples_leaf",
            "min_weight_fraction_leaf",
            "max_features",
            "max_leaf_nodes",
            "min_impurity_decrease",
            "random_state",
            "ccp_alpha"
           ],
           "max_depth": null,
           "max_leaf_nodes": null,
           "min_impurity_decrease": 0,
           "min_samples_split": 2,
           "n_estimators": 100,
           "n_jobs": null,
           "random_state": null,
           "verbose": 0
          },
          "6": {
           "alpha": 0.9,
           "ccp_alpha": 0,
           "init": null,
           "loss": "deviance",
           "max_features": null,
           "min_impurity_decrease": 0,
           "min_samples_split": 2,
           "n_estimators": 100,
           "n_iter_no_change": null,
           "random_state": null,
           "subsample": 1,
           "validation_fraction": 0.1,
           "warm_start": false
          },
          "7": {
           "base_score": null,
           "colsample_bylevel": null,
           "colsample_bytree": null,
           "gamma": null,
           "gpu_id": null,
           "interaction_constraints": null,
           "kwargs": {
            "criterion": "entropy",
            "max_features": "auto",
            "max_samples": 0.5,
            "min_samples_split": 0.38
           },
           "max_delta_step": null,
           "min_child_weight": null,
           "monotone_constraints": null,
           "n_jobs": null,
           "objective": "binary:logistic",
           "random_state": null,
           "reg_lambda": null,
           "scale_pos_weight": null,
           "subsample": null,
           "use_label_encoder": true,
           "verbosity": null
          },
          "8": {
           "alpha": 0.9,
           "ccp_alpha": 0,
           "init": null,
           "loss": "deviance",
           "max_features": null,
           "min_impurity_decrease": 0,
           "min_samples_split": 2,
           "n_estimators": 100,
           "n_iter_no_change": null,
           "random_state": null,
           "subsample": 1,
           "validation_fraction": 0.1,
           "warm_start": false
          },
          "9": {
           "base_score": null,
           "colsample_bylevel": null,
           "colsample_bytree": null,
           "gamma": null,
           "gpu_id": null,
           "interaction_constraints": null,
           "kwargs": {
            "criterion": "entropy",
            "max_features": "auto",
            "max_samples": 0.5,
            "min_samples_split": 0.38
           },
           "max_delta_step": null,
           "min_child_weight": null,
           "monotone_constraints": null,
           "n_jobs": null,
           "objective": "binary:logistic",
           "random_state": null,
           "reg_lambda": null,
           "scale_pos_weight": null,
           "subsample": null,
           "use_label_encoder": true,
           "verbosity": null
          },
          "index": "param_clf"
         },
         {
          "0": {
           "clf": {
            "base_score": null,
            "colsample_bylevel": null,
            "colsample_bytree": null,
            "gamma": null,
            "gpu_id": null,
            "interaction_constraints": null,
            "kwargs": {
             "criterion": "entropy",
             "max_features": "auto",
             "max_samples": 0.5,
             "min_samples_split": 0.38
            },
            "max_delta_step": null,
            "min_child_weight": null,
            "monotone_constraints": null,
            "n_jobs": null,
            "objective": "binary:logistic",
            "random_state": null,
            "reg_lambda": null,
            "scale_pos_weight": null,
            "subsample": null,
            "use_label_encoder": true,
            "verbosity": null
           },
           "clf__criterion": "entropy",
           "clf__max_depth": 8,
           "clf__max_features": "sqrt",
           "clf__max_samples": 0.25,
           "clf__min_samples_split": 0.18,
           "clf__n_estimators": 50
          },
          "1": {
           "clf": {
            "base_estimator": {
             "ccp_alpha": 0,
             "criterion": "gini",
             "max_depth": null,
             "max_leaf_nodes": null,
             "min_samples_leaf": 1,
             "min_weight_fraction_leaf": 0,
             "random_state": null,
             "splitter": "best"
            },
            "ccp_alpha": 0,
            "criterion": "gini",
            "estimator_params": [
             "criterion",
             "max_depth",
             "min_samples_split",
             "min_samples_leaf",
             "min_weight_fraction_leaf",
             "max_features",
             "max_leaf_nodes",
             "min_impurity_decrease",
             "random_state",
             "ccp_alpha"
            ],
            "max_depth": null,
            "max_leaf_nodes": null,
            "min_impurity_decrease": 0,
            "min_samples_split": 2,
            "n_estimators": 100,
            "n_jobs": null,
            "random_state": null,
            "verbose": 0
           },
           "clf__criterion": "gini",
           "clf__max_depth": 3,
           "clf__max_features": "sqrt",
           "clf__max_samples": 0.75,
           "clf__min_samples_split": 0.34,
           "clf__n_estimators": 100
          },
          "2": {
           "clf": {
            "base_score": null,
            "colsample_bylevel": null,
            "colsample_bytree": null,
            "gamma": null,
            "gpu_id": null,
            "interaction_constraints": null,
            "kwargs": {
             "criterion": "entropy",
             "max_features": "auto",
             "max_samples": 0.5,
             "min_samples_split": 0.38
            },
            "max_delta_step": null,
            "min_child_weight": null,
            "monotone_constraints": null,
            "n_jobs": null,
            "objective": "binary:logistic",
            "random_state": null,
            "reg_lambda": null,
            "scale_pos_weight": null,
            "subsample": null,
            "use_label_encoder": true,
            "verbosity": null
           },
           "clf__criterion": "gini",
           "clf__max_depth": 4,
           "clf__max_features": "log2",
           "clf__max_samples": 0.5,
           "clf__min_samples_split": 0.14,
           "clf__n_estimators": 200
          },
          "3": {
           "clf": {
            "base_estimator": {
             "ccp_alpha": 0,
             "criterion": "gini",
             "max_depth": null,
             "max_leaf_nodes": null,
             "min_samples_leaf": 1,
             "min_weight_fraction_leaf": 0,
             "random_state": null,
             "splitter": "best"
            },
            "ccp_alpha": 0,
            "criterion": "gini",
            "estimator_params": [
             "criterion",
             "max_depth",
             "min_samples_split",
             "min_samples_leaf",
             "min_weight_fraction_leaf",
             "max_features",
             "max_leaf_nodes",
             "min_impurity_decrease",
             "random_state",
             "ccp_alpha"
            ],
            "max_depth": null,
            "max_leaf_nodes": null,
            "min_impurity_decrease": 0,
            "min_samples_split": 2,
            "n_estimators": 100,
            "n_jobs": null,
            "random_state": null,
            "verbose": 0
           },
           "clf__criterion": "gini",
           "clf__max_depth": 10,
           "clf__max_features": "log2",
           "clf__max_samples": 0.25,
           "clf__min_samples_split": 0.26,
           "clf__n_estimators": 100
          },
          "4": {
           "clf": {
            "base_score": null,
            "colsample_bylevel": null,
            "colsample_bytree": null,
            "gamma": null,
            "gpu_id": null,
            "interaction_constraints": null,
            "kwargs": {
             "criterion": "entropy",
             "max_features": "auto",
             "max_samples": 0.5,
             "min_samples_split": 0.38
            },
            "max_delta_step": null,
            "min_child_weight": null,
            "monotone_constraints": null,
            "n_jobs": null,
            "objective": "binary:logistic",
            "random_state": null,
            "reg_lambda": null,
            "scale_pos_weight": null,
            "subsample": null,
            "use_label_encoder": true,
            "verbosity": null
           },
           "clf__criterion": "gini",
           "clf__max_depth": 9,
           "clf__max_features": "log2",
           "clf__max_samples": 0.75,
           "clf__min_samples_split": 0.42,
           "clf__n_estimators": 100
          },
          "5": {
           "clf": {
            "base_estimator": {
             "ccp_alpha": 0,
             "criterion": "gini",
             "max_depth": null,
             "max_leaf_nodes": null,
             "min_samples_leaf": 1,
             "min_weight_fraction_leaf": 0,
             "random_state": null,
             "splitter": "best"
            },
            "ccp_alpha": 0,
            "criterion": "gini",
            "estimator_params": [
             "criterion",
             "max_depth",
             "min_samples_split",
             "min_samples_leaf",
             "min_weight_fraction_leaf",
             "max_features",
             "max_leaf_nodes",
             "min_impurity_decrease",
             "random_state",
             "ccp_alpha"
            ],
            "max_depth": null,
            "max_leaf_nodes": null,
            "min_impurity_decrease": 0,
            "min_samples_split": 2,
            "n_estimators": 100,
            "n_jobs": null,
            "random_state": null,
            "verbose": 0
           },
           "clf__criterion": "entropy",
           "clf__max_depth": 7,
           "clf__max_features": "sqrt",
           "clf__max_samples": 1,
           "clf__min_samples_split": 0.34,
           "clf__n_estimators": 100
          },
          "6": {
           "clf": {
            "alpha": 0.9,
            "ccp_alpha": 0,
            "init": null,
            "loss": "deviance",
            "max_features": null,
            "min_impurity_decrease": 0,
            "min_samples_split": 2,
            "n_estimators": 100,
            "n_iter_no_change": null,
            "random_state": null,
            "subsample": 1,
            "validation_fraction": 0.1,
            "warm_start": false
           },
           "clf__criterion": "gini",
           "clf__max_depth": 3,
           "clf__max_features": "sqrt",
           "clf__min_samples_split": 0.22,
           "clf__n_estimators": 100
          },
          "7": {
           "clf": {
            "base_score": null,
            "colsample_bylevel": null,
            "colsample_bytree": null,
            "gamma": null,
            "gpu_id": null,
            "interaction_constraints": null,
            "kwargs": {
             "criterion": "entropy",
             "max_features": "auto",
             "max_samples": 0.5,
             "min_samples_split": 0.38
            },
            "max_delta_step": null,
            "min_child_weight": null,
            "monotone_constraints": null,
            "n_jobs": null,
            "objective": "binary:logistic",
            "random_state": null,
            "reg_lambda": null,
            "scale_pos_weight": null,
            "subsample": null,
            "use_label_encoder": true,
            "verbosity": null
           },
           "clf__criterion": "entropy",
           "clf__max_depth": 7,
           "clf__max_features": "sqrt",
           "clf__max_samples": 0.75,
           "clf__min_samples_split": 0.22,
           "clf__n_estimators": 200
          },
          "8": {
           "clf": {
            "alpha": 0.9,
            "ccp_alpha": 0,
            "init": null,
            "loss": "deviance",
            "max_features": null,
            "min_impurity_decrease": 0,
            "min_samples_split": 2,
            "n_estimators": 100,
            "n_iter_no_change": null,
            "random_state": null,
            "subsample": 1,
            "validation_fraction": 0.1,
            "warm_start": false
           },
           "clf__criterion": "entropy",
           "clf__max_depth": 5,
           "clf__max_features": "auto",
           "clf__min_samples_split": 0.3,
           "clf__n_estimators": 50
          },
          "9": {
           "clf": {
            "base_score": null,
            "colsample_bylevel": null,
            "colsample_bytree": null,
            "gamma": null,
            "gpu_id": null,
            "interaction_constraints": null,
            "kwargs": {
             "criterion": "entropy",
             "max_features": "auto",
             "max_samples": 0.5,
             "min_samples_split": 0.38
            },
            "max_delta_step": null,
            "min_child_weight": null,
            "monotone_constraints": null,
            "n_jobs": null,
            "objective": "binary:logistic",
            "random_state": null,
            "reg_lambda": null,
            "scale_pos_weight": null,
            "subsample": null,
            "use_label_encoder": true,
            "verbosity": null
           },
           "clf__criterion": "entropy",
           "clf__max_depth": 7,
           "clf__max_features": "auto",
           "clf__max_samples": 0.5,
           "clf__min_samples_split": 0.38,
           "clf__n_estimators": 50
          },
          "index": "params"
         },
         {
          "0": 0.9309854791,
          "1": 0.6863627136,
          "2": 0.9308679439,
          "3": 0.6863627136,
          "4": 0.9294040966,
          "5": 0.6863627136,
          "6": null,
          "7": 0.9293079315,
          "8": null,
          "9": 0.9308252038,
          "index": "split0_test_score"
         },
         {
          "0": 0.9314235647,
          "1": 0.6878799859,
          "2": 0.9315410999,
          "3": 0.6878799859,
          "4": 0.9300879377,
          "5": 0.6878799859,
          "6": null,
          "7": 0.9304084882,
          "8": null,
          "9": 0.9322142559,
          "index": "split1_test_score"
         },
         {
          "0": 0.9299276624,
          "1": 0.6863520286,
          "2": 0.9306115035,
          "3": 0.6863520286,
          "4": 0.92834628,
          "5": 0.6863520286,
          "6": null,
          "7": 0.9284958702,
          "8": null,
          "9": 0.9304832833,
          "index": "split2_test_score"
         },
         {
          "0": 0.9307789021,
          "1": 0.6868649093,
          "2": 0.9310068491,
          "3": 0.6868649093,
          "4": 0.9292794381,
          "5": 0.6868649093,
          "6": null,
          "7": 0.9294040966,
          "8": null,
          "9": 0.9311742477,
          "index": "mean_test_score"
         },
         {
          "0": 0.0006279259,
          "1": 0.0007177808,
          "2": 0.0003920105,
          "3": 0.0007177808,
          "4": 0.0007164718,
          "5": 0.0007177808,
          "6": null,
          "7": 0.0007837783,
          "8": null,
          "9": 0.0007485276,
          "index": "std_test_score"
         },
         {
          "0": 3,
          "1": 6,
          "2": 2,
          "3": 6,
          "4": 5,
          "5": 6,
          "6": 9,
          "7": 4,
          "8": 10,
          "9": 1,
          "index": "rank_test_score"
         }
        ],
        "schema": {
         "fields": [
          {
           "name": "index",
           "type": "string"
          },
          {
           "name": 0,
           "type": "string"
          },
          {
           "name": 1,
           "type": "string"
          },
          {
           "name": 2,
           "type": "string"
          },
          {
           "name": 3,
           "type": "string"
          },
          {
           "name": 4,
           "type": "string"
          },
          {
           "name": 5,
           "type": "string"
          },
          {
           "name": 6,
           "type": "string"
          },
          {
           "name": 7,
           "type": "string"
          },
          {
           "name": 8,
           "type": "string"
          },
          {
           "name": 9,
           "type": "string"
          }
         ],
         "pandas_version": "0.20.0",
         "primaryKey": [
          "index"
         ]
        }
       },
       "total_rows": 18
      },
      "text/html": [
       "<div>\n",
       "<style scoped>\n",
       "    .dataframe tbody tr th:only-of-type {\n",
       "        vertical-align: middle;\n",
       "    }\n",
       "\n",
       "    .dataframe tbody tr th {\n",
       "        vertical-align: top;\n",
       "    }\n",
       "\n",
       "    .dataframe thead th {\n",
       "        text-align: right;\n",
       "    }\n",
       "</style>\n",
       "<table border=\"1\" class=\"dataframe\">\n",
       "  <thead>\n",
       "    <tr style=\"text-align: right;\">\n",
       "      <th></th>\n",
       "      <th>0</th>\n",
       "      <th>1</th>\n",
       "      <th>2</th>\n",
       "      <th>3</th>\n",
       "      <th>4</th>\n",
       "      <th>5</th>\n",
       "      <th>6</th>\n",
       "      <th>7</th>\n",
       "      <th>8</th>\n",
       "      <th>9</th>\n",
       "    </tr>\n",
       "  </thead>\n",
       "  <tbody>\n",
       "    <tr>\n",
       "      <th>mean_fit_time</th>\n",
       "      <td>62.453743</td>\n",
       "      <td>6.975771</td>\n",
       "      <td>117.510913</td>\n",
       "      <td>1.563657</td>\n",
       "      <td>131.90971</td>\n",
       "      <td>1.445917</td>\n",
       "      <td>0.037158</td>\n",
       "      <td>202.33841</td>\n",
       "      <td>0.039387</td>\n",
       "      <td>51.23005</td>\n",
       "    </tr>\n",
       "    <tr>\n",
       "      <th>std_fit_time</th>\n",
       "      <td>0.589397</td>\n",
       "      <td>0.290986</td>\n",
       "      <td>0.850715</td>\n",
       "      <td>0.028264</td>\n",
       "      <td>3.794974</td>\n",
       "      <td>0.022626</td>\n",
       "      <td>0.000812</td>\n",
       "      <td>0.727909</td>\n",
       "      <td>0.004357</td>\n",
       "      <td>1.35348</td>\n",
       "    </tr>\n",
       "    <tr>\n",
       "      <th>mean_score_time</th>\n",
       "      <td>0.315884</td>\n",
       "      <td>0.421356</td>\n",
       "      <td>0.319495</td>\n",
       "      <td>0.321973</td>\n",
       "      <td>0.372041</td>\n",
       "      <td>0.329985</td>\n",
       "      <td>0.0</td>\n",
       "      <td>0.479793</td>\n",
       "      <td>0.0</td>\n",
       "      <td>0.294225</td>\n",
       "    </tr>\n",
       "    <tr>\n",
       "      <th>std_score_time</th>\n",
       "      <td>0.09397</td>\n",
       "      <td>0.003588</td>\n",
       "      <td>0.088852</td>\n",
       "      <td>0.00125</td>\n",
       "      <td>0.045265</td>\n",
       "      <td>0.007969</td>\n",
       "      <td>0.0</td>\n",
       "      <td>0.076971</td>\n",
       "      <td>0.0</td>\n",
       "      <td>0.072109</td>\n",
       "    </tr>\n",
       "    <tr>\n",
       "      <th>param_clf__n_estimators</th>\n",
       "      <td>50</td>\n",
       "      <td>100</td>\n",
       "      <td>200</td>\n",
       "      <td>100</td>\n",
       "      <td>100</td>\n",
       "      <td>100</td>\n",
       "      <td>100</td>\n",
       "      <td>200</td>\n",
       "      <td>50</td>\n",
       "      <td>50</td>\n",
       "    </tr>\n",
       "    <tr>\n",
       "      <th>param_clf__min_samples_split</th>\n",
       "      <td>0.18</td>\n",
       "      <td>0.34</td>\n",
       "      <td>0.14</td>\n",
       "      <td>0.26</td>\n",
       "      <td>0.42</td>\n",
       "      <td>0.34</td>\n",
       "      <td>0.22</td>\n",
       "      <td>0.22</td>\n",
       "      <td>0.3</td>\n",
       "      <td>0.38</td>\n",
       "    </tr>\n",
       "    <tr>\n",
       "      <th>param_clf__max_samples</th>\n",
       "      <td>0.25</td>\n",
       "      <td>0.75</td>\n",
       "      <td>0.5</td>\n",
       "      <td>0.25</td>\n",
       "      <td>0.75</td>\n",
       "      <td>1</td>\n",
       "      <td>NaN</td>\n",
       "      <td>0.75</td>\n",
       "      <td>NaN</td>\n",
       "      <td>0.5</td>\n",
       "    </tr>\n",
       "    <tr>\n",
       "      <th>param_clf__max_features</th>\n",
       "      <td>sqrt</td>\n",
       "      <td>sqrt</td>\n",
       "      <td>log2</td>\n",
       "      <td>log2</td>\n",
       "      <td>log2</td>\n",
       "      <td>sqrt</td>\n",
       "      <td>sqrt</td>\n",
       "      <td>sqrt</td>\n",
       "      <td>auto</td>\n",
       "      <td>auto</td>\n",
       "    </tr>\n",
       "    <tr>\n",
       "      <th>param_clf__max_depth</th>\n",
       "      <td>8</td>\n",
       "      <td>3</td>\n",
       "      <td>4</td>\n",
       "      <td>10</td>\n",
       "      <td>9</td>\n",
       "      <td>7</td>\n",
       "      <td>3</td>\n",
       "      <td>7</td>\n",
       "      <td>5</td>\n",
       "      <td>7</td>\n",
       "    </tr>\n",
       "    <tr>\n",
       "      <th>param_clf__criterion</th>\n",
       "      <td>entropy</td>\n",
       "      <td>gini</td>\n",
       "      <td>gini</td>\n",
       "      <td>gini</td>\n",
       "      <td>gini</td>\n",
       "      <td>entropy</td>\n",
       "      <td>gini</td>\n",
       "      <td>entropy</td>\n",
       "      <td>entropy</td>\n",
       "      <td>entropy</td>\n",
       "    </tr>\n",
       "    <tr>\n",
       "      <th>param_clf</th>\n",
       "      <td>XGBClassifier(base_score=None, booster=None, c...</td>\n",
       "      <td>RandomForestClassifier()</td>\n",
       "      <td>XGBClassifier(base_score=None, booster=None, c...</td>\n",
       "      <td>RandomForestClassifier()</td>\n",
       "      <td>XGBClassifier(base_score=None, booster=None, c...</td>\n",
       "      <td>RandomForestClassifier()</td>\n",
       "      <td>GradientBoostingClassifier()</td>\n",
       "      <td>XGBClassifier(base_score=None, booster=None, c...</td>\n",
       "      <td>GradientBoostingClassifier()</td>\n",
       "      <td>XGBClassifier(base_score=None, booster=None, c...</td>\n",
       "    </tr>\n",
       "    <tr>\n",
       "      <th>params</th>\n",
       "      <td>{'clf__n_estimators': 50, 'clf__min_samples_sp...</td>\n",
       "      <td>{'clf__n_estimators': 100, 'clf__min_samples_s...</td>\n",
       "      <td>{'clf__n_estimators': 200, 'clf__min_samples_s...</td>\n",
       "      <td>{'clf__n_estimators': 100, 'clf__min_samples_s...</td>\n",
       "      <td>{'clf__n_estimators': 100, 'clf__min_samples_s...</td>\n",
       "      <td>{'clf__n_estimators': 100, 'clf__min_samples_s...</td>\n",
       "      <td>{'clf__n_estimators': 100, 'clf__min_samples_s...</td>\n",
       "      <td>{'clf__n_estimators': 200, 'clf__min_samples_s...</td>\n",
       "      <td>{'clf__n_estimators': 50, 'clf__min_samples_sp...</td>\n",
       "      <td>{'clf__n_estimators': 50, 'clf__min_samples_sp...</td>\n",
       "    </tr>\n",
       "    <tr>\n",
       "      <th>split0_test_score</th>\n",
       "      <td>0.930985</td>\n",
       "      <td>0.686363</td>\n",
       "      <td>0.930868</td>\n",
       "      <td>0.686363</td>\n",
       "      <td>0.929404</td>\n",
       "      <td>0.686363</td>\n",
       "      <td>NaN</td>\n",
       "      <td>0.929308</td>\n",
       "      <td>NaN</td>\n",
       "      <td>0.930825</td>\n",
       "    </tr>\n",
       "    <tr>\n",
       "      <th>split1_test_score</th>\n",
       "      <td>0.931424</td>\n",
       "      <td>0.68788</td>\n",
       "      <td>0.931541</td>\n",
       "      <td>0.68788</td>\n",
       "      <td>0.930088</td>\n",
       "      <td>0.68788</td>\n",
       "      <td>NaN</td>\n",
       "      <td>0.930408</td>\n",
       "      <td>NaN</td>\n",
       "      <td>0.932214</td>\n",
       "    </tr>\n",
       "    <tr>\n",
       "      <th>split2_test_score</th>\n",
       "      <td>0.929928</td>\n",
       "      <td>0.686352</td>\n",
       "      <td>0.930612</td>\n",
       "      <td>0.686352</td>\n",
       "      <td>0.928346</td>\n",
       "      <td>0.686352</td>\n",
       "      <td>NaN</td>\n",
       "      <td>0.928496</td>\n",
       "      <td>NaN</td>\n",
       "      <td>0.930483</td>\n",
       "    </tr>\n",
       "    <tr>\n",
       "      <th>mean_test_score</th>\n",
       "      <td>0.930779</td>\n",
       "      <td>0.686865</td>\n",
       "      <td>0.931007</td>\n",
       "      <td>0.686865</td>\n",
       "      <td>0.929279</td>\n",
       "      <td>0.686865</td>\n",
       "      <td>NaN</td>\n",
       "      <td>0.929404</td>\n",
       "      <td>NaN</td>\n",
       "      <td>0.931174</td>\n",
       "    </tr>\n",
       "    <tr>\n",
       "      <th>std_test_score</th>\n",
       "      <td>0.000628</td>\n",
       "      <td>0.000718</td>\n",
       "      <td>0.000392</td>\n",
       "      <td>0.000718</td>\n",
       "      <td>0.000716</td>\n",
       "      <td>0.000718</td>\n",
       "      <td>NaN</td>\n",
       "      <td>0.000784</td>\n",
       "      <td>NaN</td>\n",
       "      <td>0.000749</td>\n",
       "    </tr>\n",
       "    <tr>\n",
       "      <th>rank_test_score</th>\n",
       "      <td>3</td>\n",
       "      <td>6</td>\n",
       "      <td>2</td>\n",
       "      <td>6</td>\n",
       "      <td>5</td>\n",
       "      <td>6</td>\n",
       "      <td>9</td>\n",
       "      <td>4</td>\n",
       "      <td>10</td>\n",
       "      <td>1</td>\n",
       "    </tr>\n",
       "  </tbody>\n",
       "</table>\n",
       "</div>"
      ],
      "text/plain": [
       "                                                                              0  \\\n",
       "mean_fit_time                                                         62.453743   \n",
       "std_fit_time                                                           0.589397   \n",
       "mean_score_time                                                        0.315884   \n",
       "std_score_time                                                          0.09397   \n",
       "param_clf__n_estimators                                                      50   \n",
       "param_clf__min_samples_split                                               0.18   \n",
       "param_clf__max_samples                                                     0.25   \n",
       "param_clf__max_features                                                    sqrt   \n",
       "param_clf__max_depth                                                          8   \n",
       "param_clf__criterion                                                    entropy   \n",
       "param_clf                     XGBClassifier(base_score=None, booster=None, c...   \n",
       "params                        {'clf__n_estimators': 50, 'clf__min_samples_sp...   \n",
       "split0_test_score                                                      0.930985   \n",
       "split1_test_score                                                      0.931424   \n",
       "split2_test_score                                                      0.929928   \n",
       "mean_test_score                                                        0.930779   \n",
       "std_test_score                                                         0.000628   \n",
       "rank_test_score                                                               3   \n",
       "\n",
       "                                                                              1  \\\n",
       "mean_fit_time                                                          6.975771   \n",
       "std_fit_time                                                           0.290986   \n",
       "mean_score_time                                                        0.421356   \n",
       "std_score_time                                                         0.003588   \n",
       "param_clf__n_estimators                                                     100   \n",
       "param_clf__min_samples_split                                               0.34   \n",
       "param_clf__max_samples                                                     0.75   \n",
       "param_clf__max_features                                                    sqrt   \n",
       "param_clf__max_depth                                                          3   \n",
       "param_clf__criterion                                                       gini   \n",
       "param_clf                                              RandomForestClassifier()   \n",
       "params                        {'clf__n_estimators': 100, 'clf__min_samples_s...   \n",
       "split0_test_score                                                      0.686363   \n",
       "split1_test_score                                                       0.68788   \n",
       "split2_test_score                                                      0.686352   \n",
       "mean_test_score                                                        0.686865   \n",
       "std_test_score                                                         0.000718   \n",
       "rank_test_score                                                               6   \n",
       "\n",
       "                                                                              2  \\\n",
       "mean_fit_time                                                        117.510913   \n",
       "std_fit_time                                                           0.850715   \n",
       "mean_score_time                                                        0.319495   \n",
       "std_score_time                                                         0.088852   \n",
       "param_clf__n_estimators                                                     200   \n",
       "param_clf__min_samples_split                                               0.14   \n",
       "param_clf__max_samples                                                      0.5   \n",
       "param_clf__max_features                                                    log2   \n",
       "param_clf__max_depth                                                          4   \n",
       "param_clf__criterion                                                       gini   \n",
       "param_clf                     XGBClassifier(base_score=None, booster=None, c...   \n",
       "params                        {'clf__n_estimators': 200, 'clf__min_samples_s...   \n",
       "split0_test_score                                                      0.930868   \n",
       "split1_test_score                                                      0.931541   \n",
       "split2_test_score                                                      0.930612   \n",
       "mean_test_score                                                        0.931007   \n",
       "std_test_score                                                         0.000392   \n",
       "rank_test_score                                                               2   \n",
       "\n",
       "                                                                              3  \\\n",
       "mean_fit_time                                                          1.563657   \n",
       "std_fit_time                                                           0.028264   \n",
       "mean_score_time                                                        0.321973   \n",
       "std_score_time                                                          0.00125   \n",
       "param_clf__n_estimators                                                     100   \n",
       "param_clf__min_samples_split                                               0.26   \n",
       "param_clf__max_samples                                                     0.25   \n",
       "param_clf__max_features                                                    log2   \n",
       "param_clf__max_depth                                                         10   \n",
       "param_clf__criterion                                                       gini   \n",
       "param_clf                                              RandomForestClassifier()   \n",
       "params                        {'clf__n_estimators': 100, 'clf__min_samples_s...   \n",
       "split0_test_score                                                      0.686363   \n",
       "split1_test_score                                                       0.68788   \n",
       "split2_test_score                                                      0.686352   \n",
       "mean_test_score                                                        0.686865   \n",
       "std_test_score                                                         0.000718   \n",
       "rank_test_score                                                               6   \n",
       "\n",
       "                                                                              4  \\\n",
       "mean_fit_time                                                         131.90971   \n",
       "std_fit_time                                                           3.794974   \n",
       "mean_score_time                                                        0.372041   \n",
       "std_score_time                                                         0.045265   \n",
       "param_clf__n_estimators                                                     100   \n",
       "param_clf__min_samples_split                                               0.42   \n",
       "param_clf__max_samples                                                     0.75   \n",
       "param_clf__max_features                                                    log2   \n",
       "param_clf__max_depth                                                          9   \n",
       "param_clf__criterion                                                       gini   \n",
       "param_clf                     XGBClassifier(base_score=None, booster=None, c...   \n",
       "params                        {'clf__n_estimators': 100, 'clf__min_samples_s...   \n",
       "split0_test_score                                                      0.929404   \n",
       "split1_test_score                                                      0.930088   \n",
       "split2_test_score                                                      0.928346   \n",
       "mean_test_score                                                        0.929279   \n",
       "std_test_score                                                         0.000716   \n",
       "rank_test_score                                                               5   \n",
       "\n",
       "                                                                              5  \\\n",
       "mean_fit_time                                                          1.445917   \n",
       "std_fit_time                                                           0.022626   \n",
       "mean_score_time                                                        0.329985   \n",
       "std_score_time                                                         0.007969   \n",
       "param_clf__n_estimators                                                     100   \n",
       "param_clf__min_samples_split                                               0.34   \n",
       "param_clf__max_samples                                                        1   \n",
       "param_clf__max_features                                                    sqrt   \n",
       "param_clf__max_depth                                                          7   \n",
       "param_clf__criterion                                                    entropy   \n",
       "param_clf                                              RandomForestClassifier()   \n",
       "params                        {'clf__n_estimators': 100, 'clf__min_samples_s...   \n",
       "split0_test_score                                                      0.686363   \n",
       "split1_test_score                                                       0.68788   \n",
       "split2_test_score                                                      0.686352   \n",
       "mean_test_score                                                        0.686865   \n",
       "std_test_score                                                         0.000718   \n",
       "rank_test_score                                                               6   \n",
       "\n",
       "                                                                              6  \\\n",
       "mean_fit_time                                                          0.037158   \n",
       "std_fit_time                                                           0.000812   \n",
       "mean_score_time                                                             0.0   \n",
       "std_score_time                                                              0.0   \n",
       "param_clf__n_estimators                                                     100   \n",
       "param_clf__min_samples_split                                               0.22   \n",
       "param_clf__max_samples                                                      NaN   \n",
       "param_clf__max_features                                                    sqrt   \n",
       "param_clf__max_depth                                                          3   \n",
       "param_clf__criterion                                                       gini   \n",
       "param_clf                                          GradientBoostingClassifier()   \n",
       "params                        {'clf__n_estimators': 100, 'clf__min_samples_s...   \n",
       "split0_test_score                                                           NaN   \n",
       "split1_test_score                                                           NaN   \n",
       "split2_test_score                                                           NaN   \n",
       "mean_test_score                                                             NaN   \n",
       "std_test_score                                                              NaN   \n",
       "rank_test_score                                                               9   \n",
       "\n",
       "                                                                              7  \\\n",
       "mean_fit_time                                                         202.33841   \n",
       "std_fit_time                                                           0.727909   \n",
       "mean_score_time                                                        0.479793   \n",
       "std_score_time                                                         0.076971   \n",
       "param_clf__n_estimators                                                     200   \n",
       "param_clf__min_samples_split                                               0.22   \n",
       "param_clf__max_samples                                                     0.75   \n",
       "param_clf__max_features                                                    sqrt   \n",
       "param_clf__max_depth                                                          7   \n",
       "param_clf__criterion                                                    entropy   \n",
       "param_clf                     XGBClassifier(base_score=None, booster=None, c...   \n",
       "params                        {'clf__n_estimators': 200, 'clf__min_samples_s...   \n",
       "split0_test_score                                                      0.929308   \n",
       "split1_test_score                                                      0.930408   \n",
       "split2_test_score                                                      0.928496   \n",
       "mean_test_score                                                        0.929404   \n",
       "std_test_score                                                         0.000784   \n",
       "rank_test_score                                                               4   \n",
       "\n",
       "                                                                              8  \\\n",
       "mean_fit_time                                                          0.039387   \n",
       "std_fit_time                                                           0.004357   \n",
       "mean_score_time                                                             0.0   \n",
       "std_score_time                                                              0.0   \n",
       "param_clf__n_estimators                                                      50   \n",
       "param_clf__min_samples_split                                                0.3   \n",
       "param_clf__max_samples                                                      NaN   \n",
       "param_clf__max_features                                                    auto   \n",
       "param_clf__max_depth                                                          5   \n",
       "param_clf__criterion                                                    entropy   \n",
       "param_clf                                          GradientBoostingClassifier()   \n",
       "params                        {'clf__n_estimators': 50, 'clf__min_samples_sp...   \n",
       "split0_test_score                                                           NaN   \n",
       "split1_test_score                                                           NaN   \n",
       "split2_test_score                                                           NaN   \n",
       "mean_test_score                                                             NaN   \n",
       "std_test_score                                                              NaN   \n",
       "rank_test_score                                                              10   \n",
       "\n",
       "                                                                              9  \n",
       "mean_fit_time                                                          51.23005  \n",
       "std_fit_time                                                            1.35348  \n",
       "mean_score_time                                                        0.294225  \n",
       "std_score_time                                                         0.072109  \n",
       "param_clf__n_estimators                                                      50  \n",
       "param_clf__min_samples_split                                               0.38  \n",
       "param_clf__max_samples                                                      0.5  \n",
       "param_clf__max_features                                                    auto  \n",
       "param_clf__max_depth                                                          7  \n",
       "param_clf__criterion                                                    entropy  \n",
       "param_clf                     XGBClassifier(base_score=None, booster=None, c...  \n",
       "params                        {'clf__n_estimators': 50, 'clf__min_samples_sp...  \n",
       "split0_test_score                                                      0.930825  \n",
       "split1_test_score                                                      0.932214  \n",
       "split2_test_score                                                      0.930483  \n",
       "mean_test_score                                                        0.931174  \n",
       "std_test_score                                                         0.000749  \n",
       "rank_test_score                                                               1  "
      ]
     },
     "execution_count": 68,
     "metadata": {},
     "output_type": "execute_result"
    }
   ],
   "source": [
    "df_rs_res.head(10).T"
   ]
  },
  {
   "cell_type": "markdown",
   "id": "2598e25e-1ad8-4dc3-862a-4deda729cbb2",
   "metadata": {},
   "source": [
    "#### Review Results\n",
    "\n",
    "Let's review the best model of the random selected models. Load from pickle if necessary."
   ]
  },
  {
   "cell_type": "code",
   "execution_count": 70,
   "id": "929df2d8-cebc-495c-97bb-56f010cb8226",
   "metadata": {},
   "outputs": [
    {
     "data": {
      "text/plain": [
       "Pipeline(steps=[('clf',\n",
       "                 XGBClassifier(base_score=0.5, booster='gbtree',\n",
       "                               colsample_bylevel=1, colsample_bynode=1,\n",
       "                               colsample_bytree=1, criterion='entropy', gamma=0,\n",
       "                               gpu_id=-1, importance_type='gain',\n",
       "                               interaction_constraints='',\n",
       "                               learning_rate=0.300000012, max_delta_step=0,\n",
       "                               max_depth=7, max_features='auto',\n",
       "                               max_samples=0.5, min_child_weight=1,\n",
       "                               min_samples_split=0.38, missing=nan,\n",
       "                               monotone_constraints='()', n_estimators=50,\n",
       "                               n_jobs=16, num_parallel_tree=1, random_state=0,\n",
       "                               reg_alpha=0, reg_lambda=1, scale_pos_weight=1,\n",
       "                               subsample=1, tree_method='exact',\n",
       "                               validate_parameters=1, verbosity=None))])"
      ]
     },
     "execution_count": 70,
     "metadata": {},
     "output_type": "execute_result"
    }
   ],
   "source": [
    "rs_results.best_estimator_"
   ]
  },
  {
   "cell_type": "markdown",
   "id": "e8584335-2930-431d-99f6-331dadfd78ca",
   "metadata": {},
   "source": [
    "Let's look at the best accuracy score, and the parameters that produced them."
   ]
  },
  {
   "cell_type": "code",
   "execution_count": 71,
   "id": "56c3099d-76a6-4dd6-aa70-8d75e3146bcb",
   "metadata": {},
   "outputs": [
    {
     "data": {
      "text/plain": [
       "0.9311742476858035"
      ]
     },
     "metadata": {},
     "output_type": "display_data"
    },
    {
     "data": {
      "text/plain": [
       "{'clf__n_estimators': 50,\n",
       " 'clf__min_samples_split': 0.38,\n",
       " 'clf__max_samples': 0.5,\n",
       " 'clf__max_features': 'auto',\n",
       " 'clf__max_depth': 7,\n",
       " 'clf__criterion': 'entropy',\n",
       " 'clf': XGBClassifier(base_score=None, booster=None, colsample_bylevel=None,\n",
       "               colsample_bynode=None, colsample_bytree=None, criterion='entropy',\n",
       "               gamma=None, gpu_id=None, importance_type='gain',\n",
       "               interaction_constraints=None, learning_rate=None,\n",
       "               max_delta_step=None, max_depth=7, max_features='auto',\n",
       "               max_samples=0.5, min_child_weight=None, min_samples_split=0.38,\n",
       "               missing=nan, monotone_constraints=None, n_estimators=50,\n",
       "               n_jobs=None, num_parallel_tree=None, random_state=None,\n",
       "               reg_alpha=None, reg_lambda=None, scale_pos_weight=None,\n",
       "               subsample=None, tree_method=None, validate_parameters=None,\n",
       "               verbosity=None)}"
      ]
     },
     "metadata": {},
     "output_type": "display_data"
    }
   ],
   "source": [
    "display(rs_results.best_score_, rs_results.best_params_)"
   ]
  },
  {
   "cell_type": "markdown",
   "id": "52e0796f-d45d-40ff-a51d-b8946228714c",
   "metadata": {},
   "source": [
    "Let's look at it as an estimator object."
   ]
  },
  {
   "cell_type": "code",
   "execution_count": 72,
   "id": "a9e9216c-e0f7-4240-b526-27c2d59cba77",
   "metadata": {
    "tags": []
   },
   "outputs": [
    {
     "data": {
      "text/plain": [
       "Pipeline(steps=[('clf',\n",
       "                 XGBClassifier(base_score=0.5, booster='gbtree',\n",
       "                               colsample_bylevel=1, colsample_bynode=1,\n",
       "                               colsample_bytree=1, criterion='entropy', gamma=0,\n",
       "                               gpu_id=-1, importance_type='gain',\n",
       "                               interaction_constraints='',\n",
       "                               learning_rate=0.300000012, max_delta_step=0,\n",
       "                               max_depth=7, max_features='auto',\n",
       "                               max_samples=0.5, min_child_weight=1,\n",
       "                               min_samples_split=0.38, missing=nan,\n",
       "                               monotone_constraints='()', n_estimators=50,\n",
       "                               n_jobs=16, num_parallel_tree=1, random_state=0,\n",
       "                               reg_alpha=0, reg_lambda=1, scale_pos_weight=1,\n",
       "                               subsample=1, tree_method='exact',\n",
       "                               validate_parameters=1, verbosity=None))])"
      ]
     },
     "metadata": {},
     "output_type": "display_data"
    }
   ],
   "source": [
    "rs_best = rs_results.best_estimator_\n",
    "display(rs_best)"
   ]
  },
  {
   "cell_type": "markdown",
   "id": "2d03e6e1-db8d-482b-8b7d-d895fa46da73",
   "metadata": {},
   "source": [
    "Now let's look at performance vs Test."
   ]
  },
  {
   "cell_type": "code",
   "execution_count": 73,
   "id": "824a10c9-3c11-47dc-a8a5-2375a2c961ee",
   "metadata": {},
   "outputs": [
    {
     "data": {
      "text/plain": [
       "'test accuracy: 0.931245726008662'"
      ]
     },
     "metadata": {},
     "output_type": "display_data"
    },
    {
     "data": {
      "text/plain": [
       "'train accuracy: 0.9311742476858035'"
      ]
     },
     "metadata": {},
     "output_type": "display_data"
    }
   ],
   "source": [
    "display(f\"test accuracy: {rs_best.score(X_test, y_test)}\")\n",
    "display(f\"train accuracy: {rs_results.best_score_}\")"
   ]
  },
  {
   "cell_type": "markdown",
   "id": "03e66852-72db-426f-98d2-be1220b5b902",
   "metadata": {},
   "source": [
    "Consistent, and aligns. That Test score is a smidge higher than train is a little weird, but isn't egregiously so, so will go with it for now."
   ]
  },
  {
   "cell_type": "markdown",
   "id": "ab2ea030-2591-4ca3-b829-ba3b0af68100",
   "metadata": {},
   "source": [
    "Let's get some predictions and review some high level classification metrics:"
   ]
  },
  {
   "cell_type": "code",
   "execution_count": 74,
   "id": "fac1d3e6-fa28-4cd8-9fc8-2e17dcdebd7f",
   "metadata": {},
   "outputs": [],
   "source": [
    "rs_pred = rs_best.predict(X_test)"
   ]
  },
  {
   "cell_type": "markdown",
   "id": "341b590e-455f-4ebd-90b5-98aa6c97f9d9",
   "metadata": {},
   "source": [
    "*Confusion Matrix*"
   ]
  },
  {
   "cell_type": "code",
   "execution_count": 75,
   "id": "76fb661e-fc02-4ef3-9f28-82c5e8bee79e",
   "metadata": {},
   "outputs": [],
   "source": [
    "from sklearn.metrics import (confusion_matrix, precision_score, recall_score\n",
    "                             ,plot_roc_curve\n",
    "                            )"
   ]
  },
  {
   "cell_type": "code",
   "execution_count": 76,
   "id": "195d2d59-ff3f-4679-82ea-2679ec000be6",
   "metadata": {},
   "outputs": [
    {
     "data": {
      "text/plain": [
       "array([[45709,  2503],\n",
       "       [ 2323, 19657]])"
      ]
     },
     "metadata": {},
     "output_type": "display_data"
    }
   ],
   "source": [
    "cm = confusion_matrix(y_test, rs_pred)\n",
    "display(cm)"
   ]
  },
  {
   "cell_type": "markdown",
   "id": "0292f14c-7b50-4080-ab0b-53e08a3beda4",
   "metadata": {},
   "source": [
    "*Accuracy*"
   ]
  },
  {
   "cell_type": "code",
   "execution_count": 77,
   "id": "f21711f9-ec8b-4140-bcdc-ac6311466bdc",
   "metadata": {},
   "outputs": [
    {
     "data": {
      "text/plain": [
       "'What % of pitches did we correctly categorize?'"
      ]
     },
     "metadata": {},
     "output_type": "display_data"
    },
    {
     "data": {
      "text/plain": [
       "'test accuracy: 0.931'"
      ]
     },
     "metadata": {},
     "output_type": "display_data"
    }
   ],
   "source": [
    "display(\"What % of pitches did we correctly categorize?\")\n",
    "display(f\"test accuracy: {round(rs_best.score(X_test, y_test), 3)}\")"
   ]
  },
  {
   "cell_type": "markdown",
   "id": "5bb9aa10-00aa-4acc-a837-e6e961860d13",
   "metadata": {},
   "source": [
    "*Precision*"
   ]
  },
  {
   "cell_type": "code",
   "execution_count": 78,
   "id": "f4f6fb94-fb75-4ce7-ae51-e346e355561d",
   "metadata": {},
   "outputs": [
    {
     "data": {
      "text/plain": [
       "'What % predicted strikes did we get correct?'"
      ]
     },
     "metadata": {},
     "output_type": "display_data"
    },
    {
     "data": {
      "text/plain": [
       "'Positive Predictive Value: 0.88705'"
      ]
     },
     "metadata": {},
     "output_type": "display_data"
    }
   ],
   "source": [
    "precision = precision_score(y_test, rs_pred)\n",
    "display(\"What % predicted strikes did we get correct?\")\n",
    "display(f\"Positive Predictive Value: {round(precision,5)}\")"
   ]
  },
  {
   "cell_type": "markdown",
   "id": "4cfc7e9a-f72e-499c-a35c-16958c2a701e",
   "metadata": {},
   "source": [
    "*Recall*"
   ]
  },
  {
   "cell_type": "code",
   "execution_count": 79,
   "id": "b527f3fb-3f4e-4442-93cc-13bdd1c3335c",
   "metadata": {},
   "outputs": [
    {
     "data": {
      "text/plain": [
       "'What percent of actual strikes did we get capture?'"
      ]
     },
     "metadata": {},
     "output_type": "display_data"
    },
    {
     "data": {
      "text/plain": [
       "'True Positive Rate: 0.89431'"
      ]
     },
     "metadata": {},
     "output_type": "display_data"
    }
   ],
   "source": [
    "recall = recall_score(y_test, rs_pred)\n",
    "display(\"What percent of actual strikes did we get capture?\")\n",
    "display(f\"True Positive Rate: {round(recall, 5)}\")"
   ]
  },
  {
   "cell_type": "markdown",
   "id": "383452e8-766f-4136-ad3a-ef60ebcba0da",
   "metadata": {},
   "source": [
    "*ROC/AUC*"
   ]
  },
  {
   "cell_type": "code",
   "execution_count": 80,
   "id": "a5adb410-570d-49e9-bfdb-28d90c6ae77c",
   "metadata": {},
   "outputs": [
    {
     "data": {
      "image/png": "[encoded data removed]",
      "text/plain": [
       "<Figure size 432x288 with 1 Axes>"
      ]
     },
     "metadata": {
      "needs_background": "light"
     },
     "output_type": "display_data"
    }
   ],
   "source": [
    "fpr, tpr, thresholds = roc_curve(y_test, rs_best.predict_proba(X_test)[:,1])\n",
    "roc_auc = auc(fpr, tpr)\n",
    "roc_display = RocCurveDisplay(fpr=fpr, tpr=tpr, roc_auc=roc_auc)\n",
    "roc_display.plot()\n",
    "plt.show()"
   ]
  },
  {
   "cell_type": "markdown",
   "id": "4a64b5a0-47b6-4cf6-82ba-c851faa44042",
   "metadata": {},
   "source": [
    "AUC of 0.98!"
   ]
  },
  {
   "cell_type": "markdown",
   "id": "0739cd97-0ee2-456e-b70e-508fe2d36df6",
   "metadata": {},
   "source": [
    "---  \n",
    "\n",
    "<span style=\"font-size:0.5em;\">Tag 5</span>\n",
    "\n",
    "### Summary <a id='summary'></a>\n",
    "\n",
    "<span style=\"font-size:0.5em;\"><a href='#toc'>Back to TOC</a></span>"
   ]
  },
  {
   "cell_type": "markdown",
   "id": "608bbb32-1917-4c56-b3c8-04e887944e16",
   "metadata": {},
   "source": [
    "Show best model again:"
   ]
  },
  {
   "cell_type": "code",
   "execution_count": 81,
   "id": "cfad45e8-fa40-4172-8656-90b0dbdf4b4f",
   "metadata": {},
   "outputs": [
    {
     "data": {
      "text/plain": [
       "<bound method Pipeline.get_params of Pipeline(steps=[('clf',\n",
       "                 XGBClassifier(base_score=0.5, booster='gbtree',\n",
       "                               colsample_bylevel=1, colsample_bynode=1,\n",
       "                               colsample_bytree=1, criterion='entropy', gamma=0,\n",
       "                               gpu_id=-1, importance_type='gain',\n",
       "                               interaction_constraints='',\n",
       "                               learning_rate=0.300000012, max_delta_step=0,\n",
       "                               max_depth=7, max_features='auto',\n",
       "                               max_samples=0.5, min_child_weight=1,\n",
       "                               min_samples_split=0.38, missing=nan,\n",
       "                               monotone_constraints='()', n_estimators=50,\n",
       "                               n_jobs=16, num_parallel_tree=1, random_state=0,\n",
       "                               reg_alpha=0, reg_lambda=1, scale_pos_weight=1,\n",
       "                               subsample=1, tree_method='exact',\n",
       "                               validate_parameters=1, verbosity=None))])>"
      ]
     },
     "execution_count": 81,
     "metadata": {},
     "output_type": "execute_result"
    }
   ],
   "source": [
    "rs_best.get_params"
   ]
  },
  {
   "cell_type": "markdown",
   "id": "cb3ce25a-e8fa-460a-83f2-34fa9b47f173",
   "metadata": {},
   "source": [
    "<span style=\"color:blue\">\n",
    "    \n",
    "Our metric of choice is Accuracy, and the best model found by the random search over **10** iterations had a:  \n",
    "\n",
    "- training accuracy of **0.931**\n",
    "- test accuracy was **0.931** as well\n",
    "    \n",
    "The best model is an **XGBoost classifier**.\n",
    "\n",
    "Other classification metrics for context are:\n",
    "- Precision/Positive Predictive Value: **0.887**\n",
    "- Recall/True Positive Rate: **0.894**\n",
    "- ROC AUC: **0.98**\n",
    "\n",
    "All these metrics I would consider to be very good performance, contigent on specific use case of ultimate customer(s). For example a requirement might that the customer might want to maximize PPV as much as possible and would like to target >0.90.\n",
    "    \n",
    "Also, note that these results are actually a little better across the board vs our most <u>[recent neural network](./05_improved_neural_network.ipynb)</u>! But let's keep in mind the improvements in the hundredths.\n",
    "    \n",
    "</span>"
   ]
  },
  {
   "cell_type": "markdown",
   "id": "01e2106a-a7f8-48b2-994a-790c5ffc85f8",
   "metadata": {},
   "source": [
    "<span style=\"color:blue\">\n",
    "Compare this to the first run, before the addition of 8 more features:\n",
    "</span>"
   ]
  },
  {
   "cell_type": "markdown",
   "id": "7902a5fa-3fe9-45e1-a29d-44c1ab2514f0",
   "metadata": {},
   "source": [
    "<span style=\"color:dodgerblue\">\n",
    "\n",
    "Was also a **XGBoost classifier**.\n",
    "\n",
    "- training accuracy of **0.928**\n",
    "- test accuracy was **0.928** as well\n",
    "\n",
    "Other classification metrics for context are:\n",
    "- Precision/Positive Predictive Value: **0.885**\n",
    "- Recall/True Positive Rate: **0.885**\n",
    "- ROC AUC: **0.98**\n",
    "</span>"
   ]
  },
  {
   "cell_type": "markdown",
   "id": "0c6a1a19-8063-448a-9998-52a41982563e",
   "metadata": {},
   "source": [
    "<span style=\"color:blue\">\n",
    "This run is an improvement over that as well (again we're talking about differences in the hundredths).\n",
    "</span>"
   ]
  },
  {
   "cell_type": "markdown",
   "id": "a63e1601-6c60-4f5e-9c06-bb5313a49967",
   "metadata": {},
   "source": [
    "<span style=color:blue>    \n",
    "**So is it worth it to add these features? I think on balance it is.** \n",
    "    \n",
    "My reasoning is that I consider the addition of them:\n",
    "\n",
    "- `bside`\n",
    "- `pside`\n",
    "- `break_x`\n",
    "- `break_z`\n",
    "- `angle_x`\n",
    "- `angle_z`\n",
    "- `pitch_speed`\n",
    "        \n",
    "...to be 'costless', on the assumption that whatever process captures the original features that were used in the first run also 'simultaneously' capture these additional features; so no substantial extra effort is required to gather the data.\n",
    "</span>"
   ]
  },
  {
   "cell_type": "markdown",
   "id": "9aa09431-0d9b-4707-be97-4ccf0957b51e",
   "metadata": {},
   "source": [
    "---  \n",
    "\n",
    "<span style=\"font-size:0.5em;\">Tag 5</span>\n",
    "\n",
    "#### Tuning<a id='tuning'></a>\n",
    "\n",
    "<span style=\"font-size:0.5em;\"><a href='#toc'>Back to TOC</a></span>"
   ]
  },
  {
   "cell_type": "markdown",
   "id": "727b94f6-a7ec-449e-8323-331e81a13612",
   "metadata": {},
   "source": [
    "Let's do another round of random searching, just to make sure we get decent coverage of potential parameters.\n",
    "\n",
    "While the best classifer last round as an XGBoost classifier, on average was it the best?"
   ]
  },
  {
   "cell_type": "code",
   "execution_count": 123,
   "id": "7e6cef27-39a3-40a4-988a-45f6f5d99122",
   "metadata": {},
   "outputs": [
    {
     "data": {
      "application/com.datacamp.data-table.v1+json": {
       "is_truncated": false,
       "table": {
        "data": [
         {
          "index": 0,
          "mean_fit_time": 62.4537432988,
          "mean_score_time": 0.3158839544,
          "mean_test_score": 0.9307789021,
          "param_clf": {
           "base_score": null,
           "colsample_bylevel": null,
           "colsample_bytree": null,
           "gamma": null,
           "gpu_id": null,
           "interaction_constraints": null,
           "kwargs": {
            "criterion": "entropy",
            "max_features": "auto",
            "max_samples": 0.5,
            "min_samples_split": 0.38
           },
           "max_delta_step": null,
           "min_child_weight": null,
           "monotone_constraints": null,
           "n_jobs": null,
           "objective": "binary:logistic",
           "random_state": null,
           "reg_lambda": null,
           "scale_pos_weight": null,
           "subsample": null,
           "use_label_encoder": true,
           "verbosity": null
          },
          "param_clf__criterion": "entropy",
          "param_clf__max_depth": 8,
          "param_clf__max_features": "sqrt",
          "param_clf__max_samples": 0.25,
          "param_clf__min_samples_split": 0.18,
          "param_clf__n_estimators": 50,
          "params": {
           "clf": {
            "base_score": null,
            "colsample_bylevel": null,
            "colsample_bytree": null,
            "gamma": null,
            "gpu_id": null,
            "interaction_constraints": null,
            "kwargs": {
             "criterion": "entropy",
             "max_features": "auto",
             "max_samples": 0.5,
             "min_samples_split": 0.38
            },
            "max_delta_step": null,
            "min_child_weight": null,
            "monotone_constraints": null,
            "n_jobs": null,
            "objective": "binary:logistic",
            "random_state": null,
            "reg_lambda": null,
            "scale_pos_weight": null,
            "subsample": null,
            "use_label_encoder": true,
            "verbosity": null
           },
           "clf__criterion": "entropy",
           "clf__max_depth": 8,
           "clf__max_features": "sqrt",
           "clf__max_samples": 0.25,
           "clf__min_samples_split": 0.18,
           "clf__n_estimators": 50
          },
          "rank_test_score": 3,
          "split0_test_score": 0.9309854791,
          "split1_test_score": 0.9314235647,
          "split2_test_score": 0.9299276624,
          "std_fit_time": 0.5893970083,
          "std_score_time": 0.0939698582,
          "std_test_score": 0.0006279259
         },
         {
          "index": 1,
          "mean_fit_time": 6.9757712682,
          "mean_score_time": 0.4213556449,
          "mean_test_score": 0.6868649093,
          "param_clf": {
           "base_estimator": {
            "ccp_alpha": 0,
            "criterion": "gini",
            "max_depth": null,
            "max_leaf_nodes": null,
            "min_samples_leaf": 1,
            "min_weight_fraction_leaf": 0,
            "random_state": null,
            "splitter": "best"
           },
           "ccp_alpha": 0,
           "criterion": "gini",
           "estimator_params": [
            "criterion",
            "max_depth",
            "min_samples_split",
            "min_samples_leaf",
            "min_weight_fraction_leaf",
            "max_features",
            "max_leaf_nodes",
            "min_impurity_decrease",
            "random_state",
            "ccp_alpha"
           ],
           "max_depth": null,
           "max_leaf_nodes": null,
           "min_impurity_decrease": 0,
           "min_samples_split": 2,
           "n_estimators": 100,
           "n_jobs": null,
           "random_state": null,
           "verbose": 0
          },
          "param_clf__criterion": "gini",
          "param_clf__max_depth": 3,
          "param_clf__max_features": "sqrt",
          "param_clf__max_samples": 0.75,
          "param_clf__min_samples_split": 0.34,
          "param_clf__n_estimators": 100,
          "params": {
           "clf": {
            "base_estimator": {
             "ccp_alpha": 0,
             "criterion": "gini",
             "max_depth": null,
             "max_leaf_nodes": null,
             "min_samples_leaf": 1,
             "min_weight_fraction_leaf": 0,
             "random_state": null,
             "splitter": "best"
            },
            "ccp_alpha": 0,
            "criterion": "gini",
            "estimator_params": [
             "criterion",
             "max_depth",
             "min_samples_split",
             "min_samples_leaf",
             "min_weight_fraction_leaf",
             "max_features",
             "max_leaf_nodes",
             "min_impurity_decrease",
             "random_state",
             "ccp_alpha"
            ],
            "max_depth": null,
            "max_leaf_nodes": null,
            "min_impurity_decrease": 0,
            "min_samples_split": 2,
            "n_estimators": 100,
            "n_jobs": null,
            "random_state": null,
            "verbose": 0
           },
           "clf__criterion": "gini",
           "clf__max_depth": 3,
           "clf__max_features": "sqrt",
           "clf__max_samples": 0.75,
           "clf__min_samples_split": 0.34,
           "clf__n_estimators": 100
          },
          "rank_test_score": 6,
          "split0_test_score": 0.6863627136,
          "split1_test_score": 0.6878799859,
          "split2_test_score": 0.6863520286,
          "std_fit_time": 0.2909863084,
          "std_score_time": 0.0035883148,
          "std_test_score": 0.0007177808
         },
         {
          "index": 2,
          "mean_fit_time": 117.5109128157,
          "mean_score_time": 0.3194946448,
          "mean_test_score": 0.9310068491,
          "param_clf": {
           "base_score": null,
           "colsample_bylevel": null,
           "colsample_bytree": null,
           "gamma": null,
           "gpu_id": null,
           "interaction_constraints": null,
           "kwargs": {
            "criterion": "entropy",
            "max_features": "auto",
            "max_samples": 0.5,
            "min_samples_split": 0.38
           },
           "max_delta_step": null,
           "min_child_weight": null,
           "monotone_constraints": null,
           "n_jobs": null,
           "objective": "binary:logistic",
           "random_state": null,
           "reg_lambda": null,
           "scale_pos_weight": null,
           "subsample": null,
           "use_label_encoder": true,
           "verbosity": null
          },
          "param_clf__criterion": "gini",
          "param_clf__max_depth": 4,
          "param_clf__max_features": "log2",
          "param_clf__max_samples": 0.5,
          "param_clf__min_samples_split": 0.14,
          "param_clf__n_estimators": 200,
          "params": {
           "clf": {
            "base_score": null,
            "colsample_bylevel": null,
            "colsample_bytree": null,
            "gamma": null,
            "gpu_id": null,
            "interaction_constraints": null,
            "kwargs": {
             "criterion": "entropy",
             "max_features": "auto",
             "max_samples": 0.5,
             "min_samples_split": 0.38
            },
            "max_delta_step": null,
            "min_child_weight": null,
            "monotone_constraints": null,
            "n_jobs": null,
            "objective": "binary:logistic",
            "random_state": null,
            "reg_lambda": null,
            "scale_pos_weight": null,
            "subsample": null,
            "use_label_encoder": true,
            "verbosity": null
           },
           "clf__criterion": "gini",
           "clf__max_depth": 4,
           "clf__max_features": "log2",
           "clf__max_samples": 0.5,
           "clf__min_samples_split": 0.14,
           "clf__n_estimators": 200
          },
          "rank_test_score": 2,
          "split0_test_score": 0.9308679439,
          "split1_test_score": 0.9315410999,
          "split2_test_score": 0.9306115035,
          "std_fit_time": 0.8507152993,
          "std_score_time": 0.088851662,
          "std_test_score": 0.0003920105
         },
         {
          "index": 3,
          "mean_fit_time": 1.563656648,
          "mean_score_time": 0.3219729265,
          "mean_test_score": 0.6868649093,
          "param_clf": {
           "base_estimator": {
            "ccp_alpha": 0,
            "criterion": "gini",
            "max_depth": null,
            "max_leaf_nodes": null,
            "min_samples_leaf": 1,
            "min_weight_fraction_leaf": 0,
            "random_state": null,
            "splitter": "best"
           },
           "ccp_alpha": 0,
           "criterion": "gini",
           "estimator_params": [
            "criterion",
            "max_depth",
            "min_samples_split",
            "min_samples_leaf",
            "min_weight_fraction_leaf",
            "max_features",
            "max_leaf_nodes",
            "min_impurity_decrease",
            "random_state",
            "ccp_alpha"
           ],
           "max_depth": null,
           "max_leaf_nodes": null,
           "min_impurity_decrease": 0,
           "min_samples_split": 2,
           "n_estimators": 100,
           "n_jobs": null,
           "random_state": null,
           "verbose": 0
          },
          "param_clf__criterion": "gini",
          "param_clf__max_depth": 10,
          "param_clf__max_features": "log2",
          "param_clf__max_samples": 0.25,
          "param_clf__min_samples_split": 0.26,
          "param_clf__n_estimators": 100,
          "params": {
           "clf": {
            "base_estimator": {
             "ccp_alpha": 0,
             "criterion": "gini",
             "max_depth": null,
             "max_leaf_nodes": null,
             "min_samples_leaf": 1,
             "min_weight_fraction_leaf": 0,
             "random_state": null,
             "splitter": "best"
            },
            "ccp_alpha": 0,
            "criterion": "gini",
            "estimator_params": [
             "criterion",
             "max_depth",
             "min_samples_split",
             "min_samples_leaf",
             "min_weight_fraction_leaf",
             "max_features",
             "max_leaf_nodes",
             "min_impurity_decrease",
             "random_state",
             "ccp_alpha"
            ],
            "max_depth": null,
            "max_leaf_nodes": null,
            "min_impurity_decrease": 0,
            "min_samples_split": 2,
            "n_estimators": 100,
            "n_jobs": null,
            "random_state": null,
            "verbose": 0
           },
           "clf__criterion": "gini",
           "clf__max_depth": 10,
           "clf__max_features": "log2",
           "clf__max_samples": 0.25,
           "clf__min_samples_split": 0.26,
           "clf__n_estimators": 100
          },
          "rank_test_score": 6,
          "split0_test_score": 0.6863627136,
          "split1_test_score": 0.6878799859,
          "split2_test_score": 0.6863520286,
          "std_fit_time": 0.0282637212,
          "std_score_time": 0.001249817,
          "std_test_score": 0.0007177808
         },
         {
          "index": 4,
          "mean_fit_time": 131.9097104867,
          "mean_score_time": 0.3720413844,
          "mean_test_score": 0.9292794381,
          "param_clf": {
           "base_score": null,
           "colsample_bylevel": null,
           "colsample_bytree": null,
           "gamma": null,
           "gpu_id": null,
           "interaction_constraints": null,
           "kwargs": {
            "criterion": "entropy",
            "max_features": "auto",
            "max_samples": 0.5,
            "min_samples_split": 0.38
           },
           "max_delta_step": null,
           "min_child_weight": null,
           "monotone_constraints": null,
           "n_jobs": null,
           "objective": "binary:logistic",
           "random_state": null,
           "reg_lambda": null,
           "scale_pos_weight": null,
           "subsample": null,
           "use_label_encoder": true,
           "verbosity": null
          },
          "param_clf__criterion": "gini",
          "param_clf__max_depth": 9,
          "param_clf__max_features": "log2",
          "param_clf__max_samples": 0.75,
          "param_clf__min_samples_split": 0.42,
          "param_clf__n_estimators": 100,
          "params": {
           "clf": {
            "base_score": null,
            "colsample_bylevel": null,
            "colsample_bytree": null,
            "gamma": null,
            "gpu_id": null,
            "interaction_constraints": null,
            "kwargs": {
             "criterion": "entropy",
             "max_features": "auto",
             "max_samples": 0.5,
             "min_samples_split": 0.38
            },
            "max_delta_step": null,
            "min_child_weight": null,
            "monotone_constraints": null,
            "n_jobs": null,
            "objective": "binary:logistic",
            "random_state": null,
            "reg_lambda": null,
            "scale_pos_weight": null,
            "subsample": null,
            "use_label_encoder": true,
            "verbosity": null
           },
           "clf__criterion": "gini",
           "clf__max_depth": 9,
           "clf__max_features": "log2",
           "clf__max_samples": 0.75,
           "clf__min_samples_split": 0.42,
           "clf__n_estimators": 100
          },
          "rank_test_score": 5,
          "split0_test_score": 0.9294040966,
          "split1_test_score": 0.9300879377,
          "split2_test_score": 0.92834628,
          "std_fit_time": 3.794974256,
          "std_score_time": 0.0452654818,
          "std_test_score": 0.0007164718
         }
        ],
        "schema": {
         "fields": [
          {
           "name": "index",
           "type": "integer"
          },
          {
           "name": "mean_fit_time",
           "type": "number"
          },
          {
           "name": "std_fit_time",
           "type": "number"
          },
          {
           "name": "mean_score_time",
           "type": "number"
          },
          {
           "name": "std_score_time",
           "type": "number"
          },
          {
           "name": "param_clf__n_estimators",
           "type": "string"
          },
          {
           "name": "param_clf__min_samples_split",
           "type": "string"
          },
          {
           "name": "param_clf__max_samples",
           "type": "string"
          },
          {
           "name": "param_clf__max_features",
           "type": "string"
          },
          {
           "name": "param_clf__max_depth",
           "type": "string"
          },
          {
           "name": "param_clf__criterion",
           "type": "string"
          },
          {
           "name": "param_clf",
           "type": "string"
          },
          {
           "name": "params",
           "type": "string"
          },
          {
           "name": "split0_test_score",
           "type": "number"
          },
          {
           "name": "split1_test_score",
           "type": "number"
          },
          {
           "name": "split2_test_score",
           "type": "number"
          },
          {
           "name": "mean_test_score",
           "type": "number"
          },
          {
           "name": "std_test_score",
           "type": "number"
          },
          {
           "name": "rank_test_score",
           "type": "integer"
          }
         ],
         "pandas_version": "0.20.0",
         "primaryKey": [
          "index"
         ]
        }
       },
       "total_rows": 5
      },
      "text/html": [
       "<div>\n",
       "<style scoped>\n",
       "    .dataframe tbody tr th:only-of-type {\n",
       "        vertical-align: middle;\n",
       "    }\n",
       "\n",
       "    .dataframe tbody tr th {\n",
       "        vertical-align: top;\n",
       "    }\n",
       "\n",
       "    .dataframe thead th {\n",
       "        text-align: right;\n",
       "    }\n",
       "</style>\n",
       "<table border=\"1\" class=\"dataframe\">\n",
       "  <thead>\n",
       "    <tr style=\"text-align: right;\">\n",
       "      <th></th>\n",
       "      <th>mean_fit_time</th>\n",
       "      <th>std_fit_time</th>\n",
       "      <th>mean_score_time</th>\n",
       "      <th>std_score_time</th>\n",
       "      <th>param_clf__n_estimators</th>\n",
       "      <th>param_clf__min_samples_split</th>\n",
       "      <th>param_clf__max_samples</th>\n",
       "      <th>param_clf__max_features</th>\n",
       "      <th>param_clf__max_depth</th>\n",
       "      <th>param_clf__criterion</th>\n",
       "      <th>param_clf</th>\n",
       "      <th>params</th>\n",
       "      <th>split0_test_score</th>\n",
       "      <th>split1_test_score</th>\n",
       "      <th>split2_test_score</th>\n",
       "      <th>mean_test_score</th>\n",
       "      <th>std_test_score</th>\n",
       "      <th>rank_test_score</th>\n",
       "    </tr>\n",
       "  </thead>\n",
       "  <tbody>\n",
       "    <tr>\n",
       "      <th>0</th>\n",
       "      <td>62.453743</td>\n",
       "      <td>0.589397</td>\n",
       "      <td>0.315884</td>\n",
       "      <td>0.093970</td>\n",
       "      <td>50</td>\n",
       "      <td>0.18</td>\n",
       "      <td>0.25</td>\n",
       "      <td>sqrt</td>\n",
       "      <td>8</td>\n",
       "      <td>entropy</td>\n",
       "      <td>XGBClassifier(base_score=None, booster=None, c...</td>\n",
       "      <td>{'clf__n_estimators': 50, 'clf__min_samples_sp...</td>\n",
       "      <td>0.930985</td>\n",
       "      <td>0.931424</td>\n",
       "      <td>0.929928</td>\n",
       "      <td>0.930779</td>\n",
       "      <td>0.000628</td>\n",
       "      <td>3</td>\n",
       "    </tr>\n",
       "    <tr>\n",
       "      <th>1</th>\n",
       "      <td>6.975771</td>\n",
       "      <td>0.290986</td>\n",
       "      <td>0.421356</td>\n",
       "      <td>0.003588</td>\n",
       "      <td>100</td>\n",
       "      <td>0.34</td>\n",
       "      <td>0.75</td>\n",
       "      <td>sqrt</td>\n",
       "      <td>3</td>\n",
       "      <td>gini</td>\n",
       "      <td>RandomForestClassifier()</td>\n",
       "      <td>{'clf__n_estimators': 100, 'clf__min_samples_s...</td>\n",
       "      <td>0.686363</td>\n",
       "      <td>0.687880</td>\n",
       "      <td>0.686352</td>\n",
       "      <td>0.686865</td>\n",
       "      <td>0.000718</td>\n",
       "      <td>6</td>\n",
       "    </tr>\n",
       "    <tr>\n",
       "      <th>2</th>\n",
       "      <td>117.510913</td>\n",
       "      <td>0.850715</td>\n",
       "      <td>0.319495</td>\n",
       "      <td>0.088852</td>\n",
       "      <td>200</td>\n",
       "      <td>0.14</td>\n",
       "      <td>0.5</td>\n",
       "      <td>log2</td>\n",
       "      <td>4</td>\n",
       "      <td>gini</td>\n",
       "      <td>XGBClassifier(base_score=None, booster=None, c...</td>\n",
       "      <td>{'clf__n_estimators': 200, 'clf__min_samples_s...</td>\n",
       "      <td>0.930868</td>\n",
       "      <td>0.931541</td>\n",
       "      <td>0.930612</td>\n",
       "      <td>0.931007</td>\n",
       "      <td>0.000392</td>\n",
       "      <td>2</td>\n",
       "    </tr>\n",
       "    <tr>\n",
       "      <th>3</th>\n",
       "      <td>1.563657</td>\n",
       "      <td>0.028264</td>\n",
       "      <td>0.321973</td>\n",
       "      <td>0.001250</td>\n",
       "      <td>100</td>\n",
       "      <td>0.26</td>\n",
       "      <td>0.25</td>\n",
       "      <td>log2</td>\n",
       "      <td>10</td>\n",
       "      <td>gini</td>\n",
       "      <td>RandomForestClassifier()</td>\n",
       "      <td>{'clf__n_estimators': 100, 'clf__min_samples_s...</td>\n",
       "      <td>0.686363</td>\n",
       "      <td>0.687880</td>\n",
       "      <td>0.686352</td>\n",
       "      <td>0.686865</td>\n",
       "      <td>0.000718</td>\n",
       "      <td>6</td>\n",
       "    </tr>\n",
       "    <tr>\n",
       "      <th>4</th>\n",
       "      <td>131.909710</td>\n",
       "      <td>3.794974</td>\n",
       "      <td>0.372041</td>\n",
       "      <td>0.045265</td>\n",
       "      <td>100</td>\n",
       "      <td>0.42</td>\n",
       "      <td>0.75</td>\n",
       "      <td>log2</td>\n",
       "      <td>9</td>\n",
       "      <td>gini</td>\n",
       "      <td>XGBClassifier(base_score=None, booster=None, c...</td>\n",
       "      <td>{'clf__n_estimators': 100, 'clf__min_samples_s...</td>\n",
       "      <td>0.929404</td>\n",
       "      <td>0.930088</td>\n",
       "      <td>0.928346</td>\n",
       "      <td>0.929279</td>\n",
       "      <td>0.000716</td>\n",
       "      <td>5</td>\n",
       "    </tr>\n",
       "  </tbody>\n",
       "</table>\n",
       "</div>"
      ],
      "text/plain": [
       "   mean_fit_time  std_fit_time  mean_score_time  std_score_time  \\\n",
       "0      62.453743      0.589397         0.315884        0.093970   \n",
       "1       6.975771      0.290986         0.421356        0.003588   \n",
       "2     117.510913      0.850715         0.319495        0.088852   \n",
       "3       1.563657      0.028264         0.321973        0.001250   \n",
       "4     131.909710      3.794974         0.372041        0.045265   \n",
       "\n",
       "  param_clf__n_estimators param_clf__min_samples_split param_clf__max_samples  \\\n",
       "0                      50                         0.18                   0.25   \n",
       "1                     100                         0.34                   0.75   \n",
       "2                     200                         0.14                    0.5   \n",
       "3                     100                         0.26                   0.25   \n",
       "4                     100                         0.42                   0.75   \n",
       "\n",
       "  param_clf__max_features param_clf__max_depth param_clf__criterion  \\\n",
       "0                    sqrt                    8              entropy   \n",
       "1                    sqrt                    3                 gini   \n",
       "2                    log2                    4                 gini   \n",
       "3                    log2                   10                 gini   \n",
       "4                    log2                    9                 gini   \n",
       "\n",
       "                                           param_clf  \\\n",
       "0  XGBClassifier(base_score=None, booster=None, c...   \n",
       "1                           RandomForestClassifier()   \n",
       "2  XGBClassifier(base_score=None, booster=None, c...   \n",
       "3                           RandomForestClassifier()   \n",
       "4  XGBClassifier(base_score=None, booster=None, c...   \n",
       "\n",
       "                                              params  split0_test_score  \\\n",
       "0  {'clf__n_estimators': 50, 'clf__min_samples_sp...           0.930985   \n",
       "1  {'clf__n_estimators': 100, 'clf__min_samples_s...           0.686363   \n",
       "2  {'clf__n_estimators': 200, 'clf__min_samples_s...           0.930868   \n",
       "3  {'clf__n_estimators': 100, 'clf__min_samples_s...           0.686363   \n",
       "4  {'clf__n_estimators': 100, 'clf__min_samples_s...           0.929404   \n",
       "\n",
       "   split1_test_score  split2_test_score  mean_test_score  std_test_score  \\\n",
       "0           0.931424           0.929928         0.930779        0.000628   \n",
       "1           0.687880           0.686352         0.686865        0.000718   \n",
       "2           0.931541           0.930612         0.931007        0.000392   \n",
       "3           0.687880           0.686352         0.686865        0.000718   \n",
       "4           0.930088           0.928346         0.929279        0.000716   \n",
       "\n",
       "   rank_test_score  \n",
       "0                3  \n",
       "1                6  \n",
       "2                2  \n",
       "3                6  \n",
       "4                5  "
      ]
     },
     "execution_count": 123,
     "metadata": {},
     "output_type": "execute_result"
    }
   ],
   "source": [
    "df_rs_res.head()"
   ]
  },
  {
   "cell_type": "code",
   "execution_count": 181,
   "id": "97875cde-db4f-4874-9e91-5da94e730acf",
   "metadata": {},
   "outputs": [
    {
     "data": {
      "text/plain": [
       "'XGBClassifier'"
      ]
     },
     "execution_count": 181,
     "metadata": {},
     "output_type": "execute_result"
    }
   ],
   "source": [
    "type([list(x) for x in df_rs_res.iterrows()][0][1]['param_clf']).__name__"
   ]
  },
  {
   "cell_type": "code",
   "execution_count": 181,
   "id": "dde14e12-fa75-465a-8227-69b09c87990c",
   "metadata": {},
   "outputs": [
    {
     "data": {
      "text/plain": [
       "'XGBClassifier'"
      ]
     },
     "execution_count": 181,
     "metadata": {},
     "output_type": "execute_result"
    }
   ],
   "source": [
    "type([list(x) for x in df_rs_res.iterrows()][0][1]['param_clf']).__name__"
   ]
  },
  {
   "cell_type": "code",
   "execution_count": null,
   "id": "51fd584a-d532-4298-8c9b-292ad519ca20",
   "metadata": {},
   "outputs": [],
   "source": [
    "def get_type_name(obj):\n",
    "    return type(obj)"
   ]
  },
  {
   "cell_type": "code",
   "execution_count": 149,
   "id": "df3c2693-9e1c-4a9e-ab99-c950ba4de757",
   "metadata": {},
   "outputs": [],
   "source": [
    "zed = df_rs_res"
   ]
  },
  {
   "cell_type": "code",
   "execution_count": 197,
   "id": "ff44e1c9-4cab-461e-9124-bbcd2ce64798",
   "metadata": {},
   "outputs": [],
   "source": [
    "zed['type_clf'] = zed['param_clf'].apply(lambda x: type(x).__name__)"
   ]
  },
  {
   "cell_type": "code",
   "execution_count": null,
   "id": "de428bbc-6e83-42e3-97f1-8fde51ff1a27",
   "metadata": {},
   "outputs": [],
   "source": [
    "zed.groupby["
   ]
  },
  {
   "cell_type": "code",
   "execution_count": 185,
   "id": "f31cac1f-a0e4-4032-8cbb-a399642bdb9c",
   "metadata": {},
   "outputs": [
    {
     "ename": "AttributeError",
     "evalue": "type object 'type' has no attribute 'name'",
     "output_type": "error",
     "traceback": [
      "\u001b[0;31m---------------------------------------------------------------------------\u001b[0m",
      "\u001b[0;31mAttributeError\u001b[0m                            Traceback (most recent call last)",
      "\u001b[0;32m/tmp/ipykernel_6503/2990845010.py\u001b[0m in \u001b[0;36m<module>\u001b[0;34m\u001b[0m\n\u001b[0;32m----> 1\u001b[0;31m \u001b[0mzed\u001b[0m\u001b[0;34m[\u001b[0m\u001b[0;34m'type_clf'\u001b[0m\u001b[0;34m]\u001b[0m \u001b[0;34m=\u001b[0m \u001b[0mzed\u001b[0m\u001b[0;34m[\u001b[0m\u001b[0;34m'param_clf'\u001b[0m\u001b[0;34m]\u001b[0m\u001b[0;34m.\u001b[0m\u001b[0mapply\u001b[0m\u001b[0;34m(\u001b[0m\u001b[0mtype\u001b[0m\u001b[0;34m.\u001b[0m\u001b[0mname\u001b[0m\u001b[0;34m)\u001b[0m\u001b[0;34m\u001b[0m\u001b[0;34m\u001b[0m\u001b[0m\n\u001b[0m",
      "\u001b[0;31mAttributeError\u001b[0m: type object 'type' has no attribute 'name'"
     ]
    }
   ],
   "source": [
    "zed['type_clf'] = zed['param_clf'].apply(type.name)"
   ]
  },
  {
   "cell_type": "code",
   "execution_count": 151,
   "id": "fb51252d-d38e-4b8c-9edd-ea600b3d50d8",
   "metadata": {},
   "outputs": [
    {
     "data": {
      "application/com.datacamp.data-table.v1+json": {
       "is_truncated": false,
       "table": {
        "data": [
         {
          "index": 0,
          "mean_fit_time": 62.4537432988,
          "mean_score_time": 0.3158839544,
          "mean_test_score": 0.9307789021,
          "param_clf": {
           "base_score": null,
           "colsample_bylevel": null,
           "colsample_bytree": null,
           "gamma": null,
           "gpu_id": null,
           "interaction_constraints": null,
           "kwargs": {
            "criterion": "entropy",
            "max_features": "auto",
            "max_samples": 0.5,
            "min_samples_split": 0.38
           },
           "max_delta_step": null,
           "min_child_weight": null,
           "monotone_constraints": null,
           "n_jobs": null,
           "objective": "binary:logistic",
           "random_state": null,
           "reg_lambda": null,
           "scale_pos_weight": null,
           "subsample": null,
           "use_label_encoder": true,
           "verbosity": null
          },
          "param_clf__criterion": "entropy",
          "param_clf__max_depth": 8,
          "param_clf__max_features": "sqrt",
          "param_clf__max_samples": 0.25,
          "param_clf__min_samples_split": 0.18,
          "param_clf__n_estimators": 50,
          "params": {
           "clf": {
            "base_score": null,
            "colsample_bylevel": null,
            "colsample_bytree": null,
            "gamma": null,
            "gpu_id": null,
            "interaction_constraints": null,
            "kwargs": {
             "criterion": "entropy",
             "max_features": "auto",
             "max_samples": 0.5,
             "min_samples_split": 0.38
            },
            "max_delta_step": null,
            "min_child_weight": null,
            "monotone_constraints": null,
            "n_jobs": null,
            "objective": "binary:logistic",
            "random_state": null,
            "reg_lambda": null,
            "scale_pos_weight": null,
            "subsample": null,
            "use_label_encoder": true,
            "verbosity": null
           },
           "clf__criterion": "entropy",
           "clf__max_depth": 8,
           "clf__max_features": "sqrt",
           "clf__max_samples": 0.25,
           "clf__min_samples_split": 0.18,
           "clf__n_estimators": 50
          },
          "rank_test_score": 3,
          "split0_test_score": 0.9309854791,
          "split1_test_score": 0.9314235647,
          "split2_test_score": 0.9299276624,
          "std_fit_time": 0.5893970083,
          "std_score_time": 0.0939698582,
          "std_test_score": 0.0006279259,
          "type_clf": {
           "coef_": {
            "fdel": null,
            "fset": null
           },
           "feature_importances_": {
            "fdel": null,
            "fset": null
           },
           "intercept_": {
            "fdel": null,
            "fset": null
           }
          }
         },
         {
          "index": 1,
          "mean_fit_time": 6.9757712682,
          "mean_score_time": 0.4213556449,
          "mean_test_score": 0.6868649093,
          "param_clf": {
           "base_estimator": {
            "ccp_alpha": 0,
            "criterion": "gini",
            "max_depth": null,
            "max_leaf_nodes": null,
            "min_samples_leaf": 1,
            "min_weight_fraction_leaf": 0,
            "random_state": null,
            "splitter": "best"
           },
           "ccp_alpha": 0,
           "criterion": "gini",
           "estimator_params": [
            "criterion",
            "max_depth",
            "min_samples_split",
            "min_samples_leaf",
            "min_weight_fraction_leaf",
            "max_features",
            "max_leaf_nodes",
            "min_impurity_decrease",
            "random_state",
            "ccp_alpha"
           ],
           "max_depth": null,
           "max_leaf_nodes": null,
           "min_impurity_decrease": 0,
           "min_samples_split": 2,
           "n_estimators": 100,
           "n_jobs": null,
           "random_state": null,
           "verbose": 0
          },
          "param_clf__criterion": "gini",
          "param_clf__max_depth": 3,
          "param_clf__max_features": "sqrt",
          "param_clf__max_samples": 0.75,
          "param_clf__min_samples_split": 0.34,
          "param_clf__n_estimators": 100,
          "params": {
           "clf": {
            "base_estimator": {
             "ccp_alpha": 0,
             "criterion": "gini",
             "max_depth": null,
             "max_leaf_nodes": null,
             "min_samples_leaf": 1,
             "min_weight_fraction_leaf": 0,
             "random_state": null,
             "splitter": "best"
            },
            "ccp_alpha": 0,
            "criterion": "gini",
            "estimator_params": [
             "criterion",
             "max_depth",
             "min_samples_split",
             "min_samples_leaf",
             "min_weight_fraction_leaf",
             "max_features",
             "max_leaf_nodes",
             "min_impurity_decrease",
             "random_state",
             "ccp_alpha"
            ],
            "max_depth": null,
            "max_leaf_nodes": null,
            "min_impurity_decrease": 0,
            "min_samples_split": 2,
            "n_estimators": 100,
            "n_jobs": null,
            "random_state": null,
            "verbose": 0
           },
           "clf__criterion": "gini",
           "clf__max_depth": 3,
           "clf__max_features": "sqrt",
           "clf__max_samples": 0.75,
           "clf__min_samples_split": 0.34,
           "clf__n_estimators": 100
          },
          "rank_test_score": 6,
          "split0_test_score": 0.6863627136,
          "split1_test_score": 0.6878799859,
          "split2_test_score": 0.6863520286,
          "std_fit_time": 0.2909863084,
          "std_score_time": 0.0035883148,
          "std_test_score": 0.0007177808,
          "type_clf": {
           "feature_importances_": {
            "fdel": null,
            "fset": null
           },
           "n_features_": {
            "fdel": null,
            "fset": null
           }
          }
         },
         {
          "index": 2,
          "mean_fit_time": 117.5109128157,
          "mean_score_time": 0.3194946448,
          "mean_test_score": 0.9310068491,
          "param_clf": {
           "base_score": null,
           "colsample_bylevel": null,
           "colsample_bytree": null,
           "gamma": null,
           "gpu_id": null,
           "interaction_constraints": null,
           "kwargs": {
            "criterion": "entropy",
            "max_features": "auto",
            "max_samples": 0.5,
            "min_samples_split": 0.38
           },
           "max_delta_step": null,
           "min_child_weight": null,
           "monotone_constraints": null,
           "n_jobs": null,
           "objective": "binary:logistic",
           "random_state": null,
           "reg_lambda": null,
           "scale_pos_weight": null,
           "subsample": null,
           "use_label_encoder": true,
           "verbosity": null
          },
          "param_clf__criterion": "gini",
          "param_clf__max_depth": 4,
          "param_clf__max_features": "log2",
          "param_clf__max_samples": 0.5,
          "param_clf__min_samples_split": 0.14,
          "param_clf__n_estimators": 200,
          "params": {
           "clf": {
            "base_score": null,
            "colsample_bylevel": null,
            "colsample_bytree": null,
            "gamma": null,
            "gpu_id": null,
            "interaction_constraints": null,
            "kwargs": {
             "criterion": "entropy",
             "max_features": "auto",
             "max_samples": 0.5,
             "min_samples_split": 0.38
            },
            "max_delta_step": null,
            "min_child_weight": null,
            "monotone_constraints": null,
            "n_jobs": null,
            "objective": "binary:logistic",
            "random_state": null,
            "reg_lambda": null,
            "scale_pos_weight": null,
            "subsample": null,
            "use_label_encoder": true,
            "verbosity": null
           },
           "clf__criterion": "gini",
           "clf__max_depth": 4,
           "clf__max_features": "log2",
           "clf__max_samples": 0.5,
           "clf__min_samples_split": 0.14,
           "clf__n_estimators": 200
          },
          "rank_test_score": 2,
          "split0_test_score": 0.9308679439,
          "split1_test_score": 0.9315410999,
          "split2_test_score": 0.9306115035,
          "std_fit_time": 0.8507152993,
          "std_score_time": 0.088851662,
          "std_test_score": 0.0003920105,
          "type_clf": {
           "coef_": {
            "fdel": null,
            "fset": null
           },
           "feature_importances_": {
            "fdel": null,
            "fset": null
           },
           "intercept_": {
            "fdel": null,
            "fset": null
           }
          }
         },
         {
          "index": 3,
          "mean_fit_time": 1.563656648,
          "mean_score_time": 0.3219729265,
          "mean_test_score": 0.6868649093,
          "param_clf": {
           "base_estimator": {
            "ccp_alpha": 0,
            "criterion": "gini",
            "max_depth": null,
            "max_leaf_nodes": null,
            "min_samples_leaf": 1,
            "min_weight_fraction_leaf": 0,
            "random_state": null,
            "splitter": "best"
           },
           "ccp_alpha": 0,
           "criterion": "gini",
           "estimator_params": [
            "criterion",
            "max_depth",
            "min_samples_split",
            "min_samples_leaf",
            "min_weight_fraction_leaf",
            "max_features",
            "max_leaf_nodes",
            "min_impurity_decrease",
            "random_state",
            "ccp_alpha"
           ],
           "max_depth": null,
           "max_leaf_nodes": null,
           "min_impurity_decrease": 0,
           "min_samples_split": 2,
           "n_estimators": 100,
           "n_jobs": null,
           "random_state": null,
           "verbose": 0
          },
          "param_clf__criterion": "gini",
          "param_clf__max_depth": 10,
          "param_clf__max_features": "log2",
          "param_clf__max_samples": 0.25,
          "param_clf__min_samples_split": 0.26,
          "param_clf__n_estimators": 100,
          "params": {
           "clf": {
            "base_estimator": {
             "ccp_alpha": 0,
             "criterion": "gini",
             "max_depth": null,
             "max_leaf_nodes": null,
             "min_samples_leaf": 1,
             "min_weight_fraction_leaf": 0,
             "random_state": null,
             "splitter": "best"
            },
            "ccp_alpha": 0,
            "criterion": "gini",
            "estimator_params": [
             "criterion",
             "max_depth",
             "min_samples_split",
             "min_samples_leaf",
             "min_weight_fraction_leaf",
             "max_features",
             "max_leaf_nodes",
             "min_impurity_decrease",
             "random_state",
             "ccp_alpha"
            ],
            "max_depth": null,
            "max_leaf_nodes": null,
            "min_impurity_decrease": 0,
            "min_samples_split": 2,
            "n_estimators": 100,
            "n_jobs": null,
            "random_state": null,
            "verbose": 0
           },
           "clf__criterion": "gini",
           "clf__max_depth": 10,
           "clf__max_features": "log2",
           "clf__max_samples": 0.25,
           "clf__min_samples_split": 0.26,
           "clf__n_estimators": 100
          },
          "rank_test_score": 6,
          "split0_test_score": 0.6863627136,
          "split1_test_score": 0.6878799859,
          "split2_test_score": 0.6863520286,
          "std_fit_time": 0.0282637212,
          "std_score_time": 0.001249817,
          "std_test_score": 0.0007177808,
          "type_clf": {
           "feature_importances_": {
            "fdel": null,
            "fset": null
           },
           "n_features_": {
            "fdel": null,
            "fset": null
           }
          }
         },
         {
          "index": 4,
          "mean_fit_time": 131.9097104867,
          "mean_score_time": 0.3720413844,
          "mean_test_score": 0.9292794381,
          "param_clf": {
           "base_score": null,
           "colsample_bylevel": null,
           "colsample_bytree": null,
           "gamma": null,
           "gpu_id": null,
           "interaction_constraints": null,
           "kwargs": {
            "criterion": "entropy",
            "max_features": "auto",
            "max_samples": 0.5,
            "min_samples_split": 0.38
           },
           "max_delta_step": null,
           "min_child_weight": null,
           "monotone_constraints": null,
           "n_jobs": null,
           "objective": "binary:logistic",
           "random_state": null,
           "reg_lambda": null,
           "scale_pos_weight": null,
           "subsample": null,
           "use_label_encoder": true,
           "verbosity": null
          },
          "param_clf__criterion": "gini",
          "param_clf__max_depth": 9,
          "param_clf__max_features": "log2",
          "param_clf__max_samples": 0.75,
          "param_clf__min_samples_split": 0.42,
          "param_clf__n_estimators": 100,
          "params": {
           "clf": {
            "base_score": null,
            "colsample_bylevel": null,
            "colsample_bytree": null,
            "gamma": null,
            "gpu_id": null,
            "interaction_constraints": null,
            "kwargs": {
             "criterion": "entropy",
             "max_features": "auto",
             "max_samples": 0.5,
             "min_samples_split": 0.38
            },
            "max_delta_step": null,
            "min_child_weight": null,
            "monotone_constraints": null,
            "n_jobs": null,
            "objective": "binary:logistic",
            "random_state": null,
            "reg_lambda": null,
            "scale_pos_weight": null,
            "subsample": null,
            "use_label_encoder": true,
            "verbosity": null
           },
           "clf__criterion": "gini",
           "clf__max_depth": 9,
           "clf__max_features": "log2",
           "clf__max_samples": 0.75,
           "clf__min_samples_split": 0.42,
           "clf__n_estimators": 100
          },
          "rank_test_score": 5,
          "split0_test_score": 0.9294040966,
          "split1_test_score": 0.9300879377,
          "split2_test_score": 0.92834628,
          "std_fit_time": 3.794974256,
          "std_score_time": 0.0452654818,
          "std_test_score": 0.0007164718,
          "type_clf": {
           "coef_": {
            "fdel": null,
            "fset": null
           },
           "feature_importances_": {
            "fdel": null,
            "fset": null
           },
           "intercept_": {
            "fdel": null,
            "fset": null
           }
          }
         }
        ],
        "schema": {
         "fields": [
          {
           "name": "index",
           "type": "integer"
          },
          {
           "name": "mean_fit_time",
           "type": "number"
          },
          {
           "name": "std_fit_time",
           "type": "number"
          },
          {
           "name": "mean_score_time",
           "type": "number"
          },
          {
           "name": "std_score_time",
           "type": "number"
          },
          {
           "name": "param_clf__n_estimators",
           "type": "string"
          },
          {
           "name": "param_clf__min_samples_split",
           "type": "string"
          },
          {
           "name": "param_clf__max_samples",
           "type": "string"
          },
          {
           "name": "param_clf__max_features",
           "type": "string"
          },
          {
           "name": "param_clf__max_depth",
           "type": "string"
          },
          {
           "name": "param_clf__criterion",
           "type": "string"
          },
          {
           "name": "param_clf",
           "type": "string"
          },
          {
           "name": "params",
           "type": "string"
          },
          {
           "name": "split0_test_score",
           "type": "number"
          },
          {
           "name": "split1_test_score",
           "type": "number"
          },
          {
           "name": "split2_test_score",
           "type": "number"
          },
          {
           "name": "mean_test_score",
           "type": "number"
          },
          {
           "name": "std_test_score",
           "type": "number"
          },
          {
           "name": "rank_test_score",
           "type": "integer"
          },
          {
           "name": "type_clf",
           "type": "string"
          }
         ],
         "pandas_version": "0.20.0",
         "primaryKey": [
          "index"
         ]
        }
       },
       "total_rows": 5
      },
      "text/html": [
       "<div>\n",
       "<style scoped>\n",
       "    .dataframe tbody tr th:only-of-type {\n",
       "        vertical-align: middle;\n",
       "    }\n",
       "\n",
       "    .dataframe tbody tr th {\n",
       "        vertical-align: top;\n",
       "    }\n",
       "\n",
       "    .dataframe thead th {\n",
       "        text-align: right;\n",
       "    }\n",
       "</style>\n",
       "<table border=\"1\" class=\"dataframe\">\n",
       "  <thead>\n",
       "    <tr style=\"text-align: right;\">\n",
       "      <th></th>\n",
       "      <th>mean_fit_time</th>\n",
       "      <th>std_fit_time</th>\n",
       "      <th>mean_score_time</th>\n",
       "      <th>std_score_time</th>\n",
       "      <th>param_clf__n_estimators</th>\n",
       "      <th>param_clf__min_samples_split</th>\n",
       "      <th>param_clf__max_samples</th>\n",
       "      <th>param_clf__max_features</th>\n",
       "      <th>param_clf__max_depth</th>\n",
       "      <th>param_clf__criterion</th>\n",
       "      <th>param_clf</th>\n",
       "      <th>params</th>\n",
       "      <th>split0_test_score</th>\n",
       "      <th>split1_test_score</th>\n",
       "      <th>split2_test_score</th>\n",
       "      <th>mean_test_score</th>\n",
       "      <th>std_test_score</th>\n",
       "      <th>rank_test_score</th>\n",
       "      <th>type_clf</th>\n",
       "    </tr>\n",
       "  </thead>\n",
       "  <tbody>\n",
       "    <tr>\n",
       "      <th>0</th>\n",
       "      <td>62.453743</td>\n",
       "      <td>0.589397</td>\n",
       "      <td>0.315884</td>\n",
       "      <td>0.093970</td>\n",
       "      <td>50</td>\n",
       "      <td>0.18</td>\n",
       "      <td>0.25</td>\n",
       "      <td>sqrt</td>\n",
       "      <td>8</td>\n",
       "      <td>entropy</td>\n",
       "      <td>XGBClassifier(base_score=None, booster=None, c...</td>\n",
       "      <td>{'clf__n_estimators': 50, 'clf__min_samples_sp...</td>\n",
       "      <td>0.930985</td>\n",
       "      <td>0.931424</td>\n",
       "      <td>0.929928</td>\n",
       "      <td>0.930779</td>\n",
       "      <td>0.000628</td>\n",
       "      <td>3</td>\n",
       "      <td>&lt;class 'xgboost.sklearn.XGBClassifier'&gt;</td>\n",
       "    </tr>\n",
       "    <tr>\n",
       "      <th>1</th>\n",
       "      <td>6.975771</td>\n",
       "      <td>0.290986</td>\n",
       "      <td>0.421356</td>\n",
       "      <td>0.003588</td>\n",
       "      <td>100</td>\n",
       "      <td>0.34</td>\n",
       "      <td>0.75</td>\n",
       "      <td>sqrt</td>\n",
       "      <td>3</td>\n",
       "      <td>gini</td>\n",
       "      <td>RandomForestClassifier()</td>\n",
       "      <td>{'clf__n_estimators': 100, 'clf__min_samples_s...</td>\n",
       "      <td>0.686363</td>\n",
       "      <td>0.687880</td>\n",
       "      <td>0.686352</td>\n",
       "      <td>0.686865</td>\n",
       "      <td>0.000718</td>\n",
       "      <td>6</td>\n",
       "      <td>&lt;class 'sklearn.ensemble._forest.RandomForestC...</td>\n",
       "    </tr>\n",
       "    <tr>\n",
       "      <th>2</th>\n",
       "      <td>117.510913</td>\n",
       "      <td>0.850715</td>\n",
       "      <td>0.319495</td>\n",
       "      <td>0.088852</td>\n",
       "      <td>200</td>\n",
       "      <td>0.14</td>\n",
       "      <td>0.5</td>\n",
       "      <td>log2</td>\n",
       "      <td>4</td>\n",
       "      <td>gini</td>\n",
       "      <td>XGBClassifier(base_score=None, booster=None, c...</td>\n",
       "      <td>{'clf__n_estimators': 200, 'clf__min_samples_s...</td>\n",
       "      <td>0.930868</td>\n",
       "      <td>0.931541</td>\n",
       "      <td>0.930612</td>\n",
       "      <td>0.931007</td>\n",
       "      <td>0.000392</td>\n",
       "      <td>2</td>\n",
       "      <td>&lt;class 'xgboost.sklearn.XGBClassifier'&gt;</td>\n",
       "    </tr>\n",
       "    <tr>\n",
       "      <th>3</th>\n",
       "      <td>1.563657</td>\n",
       "      <td>0.028264</td>\n",
       "      <td>0.321973</td>\n",
       "      <td>0.001250</td>\n",
       "      <td>100</td>\n",
       "      <td>0.26</td>\n",
       "      <td>0.25</td>\n",
       "      <td>log2</td>\n",
       "      <td>10</td>\n",
       "      <td>gini</td>\n",
       "      <td>RandomForestClassifier()</td>\n",
       "      <td>{'clf__n_estimators': 100, 'clf__min_samples_s...</td>\n",
       "      <td>0.686363</td>\n",
       "      <td>0.687880</td>\n",
       "      <td>0.686352</td>\n",
       "      <td>0.686865</td>\n",
       "      <td>0.000718</td>\n",
       "      <td>6</td>\n",
       "      <td>&lt;class 'sklearn.ensemble._forest.RandomForestC...</td>\n",
       "    </tr>\n",
       "    <tr>\n",
       "      <th>4</th>\n",
       "      <td>131.909710</td>\n",
       "      <td>3.794974</td>\n",
       "      <td>0.372041</td>\n",
       "      <td>0.045265</td>\n",
       "      <td>100</td>\n",
       "      <td>0.42</td>\n",
       "      <td>0.75</td>\n",
       "      <td>log2</td>\n",
       "      <td>9</td>\n",
       "      <td>gini</td>\n",
       "      <td>XGBClassifier(base_score=None, booster=None, c...</td>\n",
       "      <td>{'clf__n_estimators': 100, 'clf__min_samples_s...</td>\n",
       "      <td>0.929404</td>\n",
       "      <td>0.930088</td>\n",
       "      <td>0.928346</td>\n",
       "      <td>0.929279</td>\n",
       "      <td>0.000716</td>\n",
       "      <td>5</td>\n",
       "      <td>&lt;class 'xgboost.sklearn.XGBClassifier'&gt;</td>\n",
       "    </tr>\n",
       "  </tbody>\n",
       "</table>\n",
       "</div>"
      ],
      "text/plain": [
       "   mean_fit_time  std_fit_time  mean_score_time  std_score_time  \\\n",
       "0      62.453743      0.589397         0.315884        0.093970   \n",
       "1       6.975771      0.290986         0.421356        0.003588   \n",
       "2     117.510913      0.850715         0.319495        0.088852   \n",
       "3       1.563657      0.028264         0.321973        0.001250   \n",
       "4     131.909710      3.794974         0.372041        0.045265   \n",
       "\n",
       "  param_clf__n_estimators param_clf__min_samples_split param_clf__max_samples  \\\n",
       "0                      50                         0.18                   0.25   \n",
       "1                     100                         0.34                   0.75   \n",
       "2                     200                         0.14                    0.5   \n",
       "3                     100                         0.26                   0.25   \n",
       "4                     100                         0.42                   0.75   \n",
       "\n",
       "  param_clf__max_features param_clf__max_depth param_clf__criterion  \\\n",
       "0                    sqrt                    8              entropy   \n",
       "1                    sqrt                    3                 gini   \n",
       "2                    log2                    4                 gini   \n",
       "3                    log2                   10                 gini   \n",
       "4                    log2                    9                 gini   \n",
       "\n",
       "                                           param_clf  \\\n",
       "0  XGBClassifier(base_score=None, booster=None, c...   \n",
       "1                           RandomForestClassifier()   \n",
       "2  XGBClassifier(base_score=None, booster=None, c...   \n",
       "3                           RandomForestClassifier()   \n",
       "4  XGBClassifier(base_score=None, booster=None, c...   \n",
       "\n",
       "                                              params  split0_test_score  \\\n",
       "0  {'clf__n_estimators': 50, 'clf__min_samples_sp...           0.930985   \n",
       "1  {'clf__n_estimators': 100, 'clf__min_samples_s...           0.686363   \n",
       "2  {'clf__n_estimators': 200, 'clf__min_samples_s...           0.930868   \n",
       "3  {'clf__n_estimators': 100, 'clf__min_samples_s...           0.686363   \n",
       "4  {'clf__n_estimators': 100, 'clf__min_samples_s...           0.929404   \n",
       "\n",
       "   split1_test_score  split2_test_score  mean_test_score  std_test_score  \\\n",
       "0           0.931424           0.929928         0.930779        0.000628   \n",
       "1           0.687880           0.686352         0.686865        0.000718   \n",
       "2           0.931541           0.930612         0.931007        0.000392   \n",
       "3           0.687880           0.686352         0.686865        0.000718   \n",
       "4           0.930088           0.928346         0.929279        0.000716   \n",
       "\n",
       "   rank_test_score                                           type_clf  \n",
       "0                3            <class 'xgboost.sklearn.XGBClassifier'>  \n",
       "1                6  <class 'sklearn.ensemble._forest.RandomForestC...  \n",
       "2                2            <class 'xgboost.sklearn.XGBClassifier'>  \n",
       "3                6  <class 'sklearn.ensemble._forest.RandomForestC...  \n",
       "4                5            <class 'xgboost.sklearn.XGBClassifier'>  "
      ]
     },
     "execution_count": 151,
     "metadata": {},
     "output_type": "execute_result"
    }
   ],
   "source": [
    "zed.head()"
   ]
  },
  {
   "cell_type": "code",
   "execution_count": 191,
   "id": "54b1e889-8db3-441e-aaba-f560f6e6939c",
   "metadata": {},
   "outputs": [],
   "source": [
    "ffff = zed.iloc[0,18]"
   ]
  },
  {
   "cell_type": "code",
   "execution_count": 193,
   "id": "ff6b0b04-e269-4c34-bac9-4c3fe86dee2c",
   "metadata": {},
   "outputs": [
    {
     "data": {
      "text/plain": [
       "'XGBClassifier'"
      ]
     },
     "execution_count": 193,
     "metadata": {},
     "output_type": "execute_result"
    }
   ],
   "source": [
    "ffff.__name__"
   ]
  },
  {
   "cell_type": "code",
   "execution_count": 190,
   "id": "516737af-d337-4163-b947-675fc82dac91",
   "metadata": {},
   "outputs": [
    {
     "data": {
      "text/plain": [
       "type"
      ]
     },
     "execution_count": 190,
     "metadata": {},
     "output_type": "execute_result"
    }
   ],
   "source": [
    "type(zed.iloc[0,18])"
   ]
  },
  {
   "cell_type": "code",
   "execution_count": 159,
   "id": "13898906-673a-4784-bfc2-faf6498e2b79",
   "metadata": {},
   "outputs": [
    {
     "data": {
      "application/com.datacamp.data-table.v1+json": {
       "is_truncated": false,
       "table": {
        "data": [
         {
          "index": 0,
          "mean_fit_time": 62.4537432988,
          "mean_score_time": 0.3158839544,
          "mean_test_score": 0.9307789021,
          "param_clf": {
           "base_score": null,
           "colsample_bylevel": null,
           "colsample_bytree": null,
           "gamma": null,
           "gpu_id": null,
           "interaction_constraints": null,
           "kwargs": {
            "criterion": "entropy",
            "max_features": "auto",
            "max_samples": 0.5,
            "min_samples_split": 0.38
           },
           "max_delta_step": null,
           "min_child_weight": null,
           "monotone_constraints": null,
           "n_jobs": null,
           "objective": "binary:logistic",
           "random_state": null,
           "reg_lambda": null,
           "scale_pos_weight": null,
           "subsample": null,
           "use_label_encoder": true,
           "verbosity": null
          },
          "param_clf__criterion": "entropy",
          "param_clf__max_depth": 8,
          "param_clf__max_features": "sqrt",
          "param_clf__max_samples": 0.25,
          "param_clf__min_samples_split": 0.18,
          "param_clf__n_estimators": 50,
          "params": {
           "clf": {
            "base_score": null,
            "colsample_bylevel": null,
            "colsample_bytree": null,
            "gamma": null,
            "gpu_id": null,
            "interaction_constraints": null,
            "kwargs": {
             "criterion": "entropy",
             "max_features": "auto",
             "max_samples": 0.5,
             "min_samples_split": 0.38
            },
            "max_delta_step": null,
            "min_child_weight": null,
            "monotone_constraints": null,
            "n_jobs": null,
            "objective": "binary:logistic",
            "random_state": null,
            "reg_lambda": null,
            "scale_pos_weight": null,
            "subsample": null,
            "use_label_encoder": true,
            "verbosity": null
           },
           "clf__criterion": "entropy",
           "clf__max_depth": 8,
           "clf__max_features": "sqrt",
           "clf__max_samples": 0.25,
           "clf__min_samples_split": 0.18,
           "clf__n_estimators": 50
          },
          "rank_test_score": 3,
          "split0_test_score": 0.9309854791,
          "split1_test_score": 0.9314235647,
          "split2_test_score": 0.9299276624,
          "std_fit_time": 0.5893970083,
          "std_score_time": 0.0939698582,
          "std_test_score": 0.0006279259,
          "type_clf": {
           "coef_": {
            "fdel": null,
            "fset": null
           },
           "feature_importances_": {
            "fdel": null,
            "fset": null
           },
           "intercept_": {
            "fdel": null,
            "fset": null
           }
          }
         },
         {
          "index": 1,
          "mean_fit_time": 6.9757712682,
          "mean_score_time": 0.4213556449,
          "mean_test_score": 0.6868649093,
          "param_clf": {
           "base_estimator": {
            "ccp_alpha": 0,
            "criterion": "gini",
            "max_depth": null,
            "max_leaf_nodes": null,
            "min_samples_leaf": 1,
            "min_weight_fraction_leaf": 0,
            "random_state": null,
            "splitter": "best"
           },
           "ccp_alpha": 0,
           "criterion": "gini",
           "estimator_params": [
            "criterion",
            "max_depth",
            "min_samples_split",
            "min_samples_leaf",
            "min_weight_fraction_leaf",
            "max_features",
            "max_leaf_nodes",
            "min_impurity_decrease",
            "random_state",
            "ccp_alpha"
           ],
           "max_depth": null,
           "max_leaf_nodes": null,
           "min_impurity_decrease": 0,
           "min_samples_split": 2,
           "n_estimators": 100,
           "n_jobs": null,
           "random_state": null,
           "verbose": 0
          },
          "param_clf__criterion": "gini",
          "param_clf__max_depth": 3,
          "param_clf__max_features": "sqrt",
          "param_clf__max_samples": 0.75,
          "param_clf__min_samples_split": 0.34,
          "param_clf__n_estimators": 100,
          "params": {
           "clf": {
            "base_estimator": {
             "ccp_alpha": 0,
             "criterion": "gini",
             "max_depth": null,
             "max_leaf_nodes": null,
             "min_samples_leaf": 1,
             "min_weight_fraction_leaf": 0,
             "random_state": null,
             "splitter": "best"
            },
            "ccp_alpha": 0,
            "criterion": "gini",
            "estimator_params": [
             "criterion",
             "max_depth",
             "min_samples_split",
             "min_samples_leaf",
             "min_weight_fraction_leaf",
             "max_features",
             "max_leaf_nodes",
             "min_impurity_decrease",
             "random_state",
             "ccp_alpha"
            ],
            "max_depth": null,
            "max_leaf_nodes": null,
            "min_impurity_decrease": 0,
            "min_samples_split": 2,
            "n_estimators": 100,
            "n_jobs": null,
            "random_state": null,
            "verbose": 0
           },
           "clf__criterion": "gini",
           "clf__max_depth": 3,
           "clf__max_features": "sqrt",
           "clf__max_samples": 0.75,
           "clf__min_samples_split": 0.34,
           "clf__n_estimators": 100
          },
          "rank_test_score": 6,
          "split0_test_score": 0.6863627136,
          "split1_test_score": 0.6878799859,
          "split2_test_score": 0.6863520286,
          "std_fit_time": 0.2909863084,
          "std_score_time": 0.0035883148,
          "std_test_score": 0.0007177808,
          "type_clf": {
           "feature_importances_": {
            "fdel": null,
            "fset": null
           },
           "n_features_": {
            "fdel": null,
            "fset": null
           }
          }
         },
         {
          "index": 2,
          "mean_fit_time": 117.5109128157,
          "mean_score_time": 0.3194946448,
          "mean_test_score": 0.9310068491,
          "param_clf": {
           "base_score": null,
           "colsample_bylevel": null,
           "colsample_bytree": null,
           "gamma": null,
           "gpu_id": null,
           "interaction_constraints": null,
           "kwargs": {
            "criterion": "entropy",
            "max_features": "auto",
            "max_samples": 0.5,
            "min_samples_split": 0.38
           },
           "max_delta_step": null,
           "min_child_weight": null,
           "monotone_constraints": null,
           "n_jobs": null,
           "objective": "binary:logistic",
           "random_state": null,
           "reg_lambda": null,
           "scale_pos_weight": null,
           "subsample": null,
           "use_label_encoder": true,
           "verbosity": null
          },
          "param_clf__criterion": "gini",
          "param_clf__max_depth": 4,
          "param_clf__max_features": "log2",
          "param_clf__max_samples": 0.5,
          "param_clf__min_samples_split": 0.14,
          "param_clf__n_estimators": 200,
          "params": {
           "clf": {
            "base_score": null,
            "colsample_bylevel": null,
            "colsample_bytree": null,
            "gamma": null,
            "gpu_id": null,
            "interaction_constraints": null,
            "kwargs": {
             "criterion": "entropy",
             "max_features": "auto",
             "max_samples": 0.5,
             "min_samples_split": 0.38
            },
            "max_delta_step": null,
            "min_child_weight": null,
            "monotone_constraints": null,
            "n_jobs": null,
            "objective": "binary:logistic",
            "random_state": null,
            "reg_lambda": null,
            "scale_pos_weight": null,
            "subsample": null,
            "use_label_encoder": true,
            "verbosity": null
           },
           "clf__criterion": "gini",
           "clf__max_depth": 4,
           "clf__max_features": "log2",
           "clf__max_samples": 0.5,
           "clf__min_samples_split": 0.14,
           "clf__n_estimators": 200
          },
          "rank_test_score": 2,
          "split0_test_score": 0.9308679439,
          "split1_test_score": 0.9315410999,
          "split2_test_score": 0.9306115035,
          "std_fit_time": 0.8507152993,
          "std_score_time": 0.088851662,
          "std_test_score": 0.0003920105,
          "type_clf": {
           "coef_": {
            "fdel": null,
            "fset": null
           },
           "feature_importances_": {
            "fdel": null,
            "fset": null
           },
           "intercept_": {
            "fdel": null,
            "fset": null
           }
          }
         },
         {
          "index": 3,
          "mean_fit_time": 1.563656648,
          "mean_score_time": 0.3219729265,
          "mean_test_score": 0.6868649093,
          "param_clf": {
           "base_estimator": {
            "ccp_alpha": 0,
            "criterion": "gini",
            "max_depth": null,
            "max_leaf_nodes": null,
            "min_samples_leaf": 1,
            "min_weight_fraction_leaf": 0,
            "random_state": null,
            "splitter": "best"
           },
           "ccp_alpha": 0,
           "criterion": "gini",
           "estimator_params": [
            "criterion",
            "max_depth",
            "min_samples_split",
            "min_samples_leaf",
            "min_weight_fraction_leaf",
            "max_features",
            "max_leaf_nodes",
            "min_impurity_decrease",
            "random_state",
            "ccp_alpha"
           ],
           "max_depth": null,
           "max_leaf_nodes": null,
           "min_impurity_decrease": 0,
           "min_samples_split": 2,
           "n_estimators": 100,
           "n_jobs": null,
           "random_state": null,
           "verbose": 0
          },
          "param_clf__criterion": "gini",
          "param_clf__max_depth": 10,
          "param_clf__max_features": "log2",
          "param_clf__max_samples": 0.25,
          "param_clf__min_samples_split": 0.26,
          "param_clf__n_estimators": 100,
          "params": {
           "clf": {
            "base_estimator": {
             "ccp_alpha": 0,
             "criterion": "gini",
             "max_depth": null,
             "max_leaf_nodes": null,
             "min_samples_leaf": 1,
             "min_weight_fraction_leaf": 0,
             "random_state": null,
             "splitter": "best"
            },
            "ccp_alpha": 0,
            "criterion": "gini",
            "estimator_params": [
             "criterion",
             "max_depth",
             "min_samples_split",
             "min_samples_leaf",
             "min_weight_fraction_leaf",
             "max_features",
             "max_leaf_nodes",
             "min_impurity_decrease",
             "random_state",
             "ccp_alpha"
            ],
            "max_depth": null,
            "max_leaf_nodes": null,
            "min_impurity_decrease": 0,
            "min_samples_split": 2,
            "n_estimators": 100,
            "n_jobs": null,
            "random_state": null,
            "verbose": 0
           },
           "clf__criterion": "gini",
           "clf__max_depth": 10,
           "clf__max_features": "log2",
           "clf__max_samples": 0.25,
           "clf__min_samples_split": 0.26,
           "clf__n_estimators": 100
          },
          "rank_test_score": 6,
          "split0_test_score": 0.6863627136,
          "split1_test_score": 0.6878799859,
          "split2_test_score": 0.6863520286,
          "std_fit_time": 0.0282637212,
          "std_score_time": 0.001249817,
          "std_test_score": 0.0007177808,
          "type_clf": {
           "feature_importances_": {
            "fdel": null,
            "fset": null
           },
           "n_features_": {
            "fdel": null,
            "fset": null
           }
          }
         },
         {
          "index": 4,
          "mean_fit_time": 131.9097104867,
          "mean_score_time": 0.3720413844,
          "mean_test_score": 0.9292794381,
          "param_clf": {
           "base_score": null,
           "colsample_bylevel": null,
           "colsample_bytree": null,
           "gamma": null,
           "gpu_id": null,
           "interaction_constraints": null,
           "kwargs": {
            "criterion": "entropy",
            "max_features": "auto",
            "max_samples": 0.5,
            "min_samples_split": 0.38
           },
           "max_delta_step": null,
           "min_child_weight": null,
           "monotone_constraints": null,
           "n_jobs": null,
           "objective": "binary:logistic",
           "random_state": null,
           "reg_lambda": null,
           "scale_pos_weight": null,
           "subsample": null,
           "use_label_encoder": true,
           "verbosity": null
          },
          "param_clf__criterion": "gini",
          "param_clf__max_depth": 9,
          "param_clf__max_features": "log2",
          "param_clf__max_samples": 0.75,
          "param_clf__min_samples_split": 0.42,
          "param_clf__n_estimators": 100,
          "params": {
           "clf": {
            "base_score": null,
            "colsample_bylevel": null,
            "colsample_bytree": null,
            "gamma": null,
            "gpu_id": null,
            "interaction_constraints": null,
            "kwargs": {
             "criterion": "entropy",
             "max_features": "auto",
             "max_samples": 0.5,
             "min_samples_split": 0.38
            },
            "max_delta_step": null,
            "min_child_weight": null,
            "monotone_constraints": null,
            "n_jobs": null,
            "objective": "binary:logistic",
            "random_state": null,
            "reg_lambda": null,
            "scale_pos_weight": null,
            "subsample": null,
            "use_label_encoder": true,
            "verbosity": null
           },
           "clf__criterion": "gini",
           "clf__max_depth": 9,
           "clf__max_features": "log2",
           "clf__max_samples": 0.75,
           "clf__min_samples_split": 0.42,
           "clf__n_estimators": 100
          },
          "rank_test_score": 5,
          "split0_test_score": 0.9294040966,
          "split1_test_score": 0.9300879377,
          "split2_test_score": 0.92834628,
          "std_fit_time": 3.794974256,
          "std_score_time": 0.0452654818,
          "std_test_score": 0.0007164718,
          "type_clf": {
           "coef_": {
            "fdel": null,
            "fset": null
           },
           "feature_importances_": {
            "fdel": null,
            "fset": null
           },
           "intercept_": {
            "fdel": null,
            "fset": null
           }
          }
         }
        ],
        "schema": {
         "fields": [
          {
           "name": "index",
           "type": "integer"
          },
          {
           "name": "mean_fit_time",
           "type": "number"
          },
          {
           "name": "std_fit_time",
           "type": "number"
          },
          {
           "name": "mean_score_time",
           "type": "number"
          },
          {
           "name": "std_score_time",
           "type": "number"
          },
          {
           "name": "param_clf__n_estimators",
           "type": "string"
          },
          {
           "name": "param_clf__min_samples_split",
           "type": "string"
          },
          {
           "name": "param_clf__max_samples",
           "type": "string"
          },
          {
           "name": "param_clf__max_features",
           "type": "string"
          },
          {
           "name": "param_clf__max_depth",
           "type": "string"
          },
          {
           "name": "param_clf__criterion",
           "type": "string"
          },
          {
           "name": "param_clf",
           "type": "string"
          },
          {
           "name": "params",
           "type": "string"
          },
          {
           "name": "split0_test_score",
           "type": "number"
          },
          {
           "name": "split1_test_score",
           "type": "number"
          },
          {
           "name": "split2_test_score",
           "type": "number"
          },
          {
           "name": "mean_test_score",
           "type": "number"
          },
          {
           "name": "std_test_score",
           "type": "number"
          },
          {
           "name": "rank_test_score",
           "type": "integer"
          },
          {
           "name": "type_clf",
           "type": "string"
          }
         ],
         "pandas_version": "0.20.0",
         "primaryKey": [
          "index"
         ]
        }
       },
       "total_rows": 5
      },
      "text/html": [
       "<div>\n",
       "<style scoped>\n",
       "    .dataframe tbody tr th:only-of-type {\n",
       "        vertical-align: middle;\n",
       "    }\n",
       "\n",
       "    .dataframe tbody tr th {\n",
       "        vertical-align: top;\n",
       "    }\n",
       "\n",
       "    .dataframe thead th {\n",
       "        text-align: right;\n",
       "    }\n",
       "</style>\n",
       "<table border=\"1\" class=\"dataframe\">\n",
       "  <thead>\n",
       "    <tr style=\"text-align: right;\">\n",
       "      <th></th>\n",
       "      <th>mean_fit_time</th>\n",
       "      <th>std_fit_time</th>\n",
       "      <th>mean_score_time</th>\n",
       "      <th>std_score_time</th>\n",
       "      <th>param_clf__n_estimators</th>\n",
       "      <th>param_clf__min_samples_split</th>\n",
       "      <th>param_clf__max_samples</th>\n",
       "      <th>param_clf__max_features</th>\n",
       "      <th>param_clf__max_depth</th>\n",
       "      <th>param_clf__criterion</th>\n",
       "      <th>param_clf</th>\n",
       "      <th>params</th>\n",
       "      <th>split0_test_score</th>\n",
       "      <th>split1_test_score</th>\n",
       "      <th>split2_test_score</th>\n",
       "      <th>mean_test_score</th>\n",
       "      <th>std_test_score</th>\n",
       "      <th>rank_test_score</th>\n",
       "      <th>type_clf</th>\n",
       "    </tr>\n",
       "  </thead>\n",
       "  <tbody>\n",
       "    <tr>\n",
       "      <th>0</th>\n",
       "      <td>62.453743</td>\n",
       "      <td>0.589397</td>\n",
       "      <td>0.315884</td>\n",
       "      <td>0.093970</td>\n",
       "      <td>50</td>\n",
       "      <td>0.18</td>\n",
       "      <td>0.25</td>\n",
       "      <td>sqrt</td>\n",
       "      <td>8</td>\n",
       "      <td>entropy</td>\n",
       "      <td>XGBClassifier(base_score=None, booster=None, c...</td>\n",
       "      <td>{'clf__n_estimators': 50, 'clf__min_samples_sp...</td>\n",
       "      <td>0.930985</td>\n",
       "      <td>0.931424</td>\n",
       "      <td>0.929928</td>\n",
       "      <td>0.930779</td>\n",
       "      <td>0.000628</td>\n",
       "      <td>3</td>\n",
       "      <td>&lt;class 'xgboost.sklearn.XGBClassifier'&gt;</td>\n",
       "    </tr>\n",
       "    <tr>\n",
       "      <th>1</th>\n",
       "      <td>6.975771</td>\n",
       "      <td>0.290986</td>\n",
       "      <td>0.421356</td>\n",
       "      <td>0.003588</td>\n",
       "      <td>100</td>\n",
       "      <td>0.34</td>\n",
       "      <td>0.75</td>\n",
       "      <td>sqrt</td>\n",
       "      <td>3</td>\n",
       "      <td>gini</td>\n",
       "      <td>RandomForestClassifier()</td>\n",
       "      <td>{'clf__n_estimators': 100, 'clf__min_samples_s...</td>\n",
       "      <td>0.686363</td>\n",
       "      <td>0.687880</td>\n",
       "      <td>0.686352</td>\n",
       "      <td>0.686865</td>\n",
       "      <td>0.000718</td>\n",
       "      <td>6</td>\n",
       "      <td>&lt;class 'sklearn.ensemble._forest.RandomForestC...</td>\n",
       "    </tr>\n",
       "    <tr>\n",
       "      <th>2</th>\n",
       "      <td>117.510913</td>\n",
       "      <td>0.850715</td>\n",
       "      <td>0.319495</td>\n",
       "      <td>0.088852</td>\n",
       "      <td>200</td>\n",
       "      <td>0.14</td>\n",
       "      <td>0.5</td>\n",
       "      <td>log2</td>\n",
       "      <td>4</td>\n",
       "      <td>gini</td>\n",
       "      <td>XGBClassifier(base_score=None, booster=None, c...</td>\n",
       "      <td>{'clf__n_estimators': 200, 'clf__min_samples_s...</td>\n",
       "      <td>0.930868</td>\n",
       "      <td>0.931541</td>\n",
       "      <td>0.930612</td>\n",
       "      <td>0.931007</td>\n",
       "      <td>0.000392</td>\n",
       "      <td>2</td>\n",
       "      <td>&lt;class 'xgboost.sklearn.XGBClassifier'&gt;</td>\n",
       "    </tr>\n",
       "    <tr>\n",
       "      <th>3</th>\n",
       "      <td>1.563657</td>\n",
       "      <td>0.028264</td>\n",
       "      <td>0.321973</td>\n",
       "      <td>0.001250</td>\n",
       "      <td>100</td>\n",
       "      <td>0.26</td>\n",
       "      <td>0.25</td>\n",
       "      <td>log2</td>\n",
       "      <td>10</td>\n",
       "      <td>gini</td>\n",
       "      <td>RandomForestClassifier()</td>\n",
       "      <td>{'clf__n_estimators': 100, 'clf__min_samples_s...</td>\n",
       "      <td>0.686363</td>\n",
       "      <td>0.687880</td>\n",
       "      <td>0.686352</td>\n",
       "      <td>0.686865</td>\n",
       "      <td>0.000718</td>\n",
       "      <td>6</td>\n",
       "      <td>&lt;class 'sklearn.ensemble._forest.RandomForestC...</td>\n",
       "    </tr>\n",
       "    <tr>\n",
       "      <th>4</th>\n",
       "      <td>131.909710</td>\n",
       "      <td>3.794974</td>\n",
       "      <td>0.372041</td>\n",
       "      <td>0.045265</td>\n",
       "      <td>100</td>\n",
       "      <td>0.42</td>\n",
       "      <td>0.75</td>\n",
       "      <td>log2</td>\n",
       "      <td>9</td>\n",
       "      <td>gini</td>\n",
       "      <td>XGBClassifier(base_score=None, booster=None, c...</td>\n",
       "      <td>{'clf__n_estimators': 100, 'clf__min_samples_s...</td>\n",
       "      <td>0.929404</td>\n",
       "      <td>0.930088</td>\n",
       "      <td>0.928346</td>\n",
       "      <td>0.929279</td>\n",
       "      <td>0.000716</td>\n",
       "      <td>5</td>\n",
       "      <td>&lt;class 'xgboost.sklearn.XGBClassifier'&gt;</td>\n",
       "    </tr>\n",
       "  </tbody>\n",
       "</table>\n",
       "</div>"
      ],
      "text/plain": [
       "   mean_fit_time  std_fit_time  mean_score_time  std_score_time  \\\n",
       "0      62.453743      0.589397         0.315884        0.093970   \n",
       "1       6.975771      0.290986         0.421356        0.003588   \n",
       "2     117.510913      0.850715         0.319495        0.088852   \n",
       "3       1.563657      0.028264         0.321973        0.001250   \n",
       "4     131.909710      3.794974         0.372041        0.045265   \n",
       "\n",
       "  param_clf__n_estimators param_clf__min_samples_split param_clf__max_samples  \\\n",
       "0                      50                         0.18                   0.25   \n",
       "1                     100                         0.34                   0.75   \n",
       "2                     200                         0.14                    0.5   \n",
       "3                     100                         0.26                   0.25   \n",
       "4                     100                         0.42                   0.75   \n",
       "\n",
       "  param_clf__max_features param_clf__max_depth param_clf__criterion  \\\n",
       "0                    sqrt                    8              entropy   \n",
       "1                    sqrt                    3                 gini   \n",
       "2                    log2                    4                 gini   \n",
       "3                    log2                   10                 gini   \n",
       "4                    log2                    9                 gini   \n",
       "\n",
       "                                           param_clf  \\\n",
       "0  XGBClassifier(base_score=None, booster=None, c...   \n",
       "1                           RandomForestClassifier()   \n",
       "2  XGBClassifier(base_score=None, booster=None, c...   \n",
       "3                           RandomForestClassifier()   \n",
       "4  XGBClassifier(base_score=None, booster=None, c...   \n",
       "\n",
       "                                              params  split0_test_score  \\\n",
       "0  {'clf__n_estimators': 50, 'clf__min_samples_sp...           0.930985   \n",
       "1  {'clf__n_estimators': 100, 'clf__min_samples_s...           0.686363   \n",
       "2  {'clf__n_estimators': 200, 'clf__min_samples_s...           0.930868   \n",
       "3  {'clf__n_estimators': 100, 'clf__min_samples_s...           0.686363   \n",
       "4  {'clf__n_estimators': 100, 'clf__min_samples_s...           0.929404   \n",
       "\n",
       "   split1_test_score  split2_test_score  mean_test_score  std_test_score  \\\n",
       "0           0.931424           0.929928         0.930779        0.000628   \n",
       "1           0.687880           0.686352         0.686865        0.000718   \n",
       "2           0.931541           0.930612         0.931007        0.000392   \n",
       "3           0.687880           0.686352         0.686865        0.000718   \n",
       "4           0.930088           0.928346         0.929279        0.000716   \n",
       "\n",
       "   rank_test_score                                           type_clf  \n",
       "0                3            <class 'xgboost.sklearn.XGBClassifier'>  \n",
       "1                6  <class 'sklearn.ensemble._forest.RandomForestC...  \n",
       "2                2            <class 'xgboost.sklearn.XGBClassifier'>  \n",
       "3                6  <class 'sklearn.ensemble._forest.RandomForestC...  \n",
       "4                5            <class 'xgboost.sklearn.XGBClassifier'>  "
      ]
     },
     "execution_count": 159,
     "metadata": {},
     "output_type": "execute_result"
    }
   ],
   "source": [
    "zed.head()"
   ]
  },
  {
   "cell_type": "code",
   "execution_count": 199,
   "id": "6a65be96-6228-4845-9005-a96b1b338985",
   "metadata": {},
   "outputs": [
    {
     "data": {
      "text/html": [
       "<div>\n",
       "<style scoped>\n",
       "    .dataframe tbody tr th:only-of-type {\n",
       "        vertical-align: middle;\n",
       "    }\n",
       "\n",
       "    .dataframe tbody tr th {\n",
       "        vertical-align: top;\n",
       "    }\n",
       "\n",
       "    .dataframe thead tr th {\n",
       "        text-align: left;\n",
       "    }\n",
       "\n",
       "    .dataframe thead tr:last-of-type th {\n",
       "        text-align: right;\n",
       "    }\n",
       "</style>\n",
       "<table border=\"1\" class=\"dataframe\">\n",
       "  <thead>\n",
       "    <tr>\n",
       "      <th></th>\n",
       "      <th>mean_test_score</th>\n",
       "    </tr>\n",
       "    <tr>\n",
       "      <th></th>\n",
       "      <th>mean</th>\n",
       "    </tr>\n",
       "    <tr>\n",
       "      <th>type_clf</th>\n",
       "      <th></th>\n",
       "    </tr>\n",
       "  </thead>\n",
       "  <tbody>\n",
       "    <tr>\n",
       "      <th>GradientBoostingClassifier</th>\n",
       "      <td>NaN</td>\n",
       "    </tr>\n",
       "    <tr>\n",
       "      <th>RandomForestClassifier</th>\n",
       "      <td>0.686865</td>\n",
       "    </tr>\n",
       "    <tr>\n",
       "      <th>XGBClassifier</th>\n",
       "      <td>0.930329</td>\n",
       "    </tr>\n",
       "  </tbody>\n",
       "</table>\n",
       "</div>"
      ],
      "text/plain": [
       "                           mean_test_score\n",
       "                                      mean\n",
       "type_clf                                  \n",
       "GradientBoostingClassifier             NaN\n",
       "RandomForestClassifier            0.686865\n",
       "XGBClassifier                     0.930329"
      ]
     },
     "execution_count": 199,
     "metadata": {},
     "output_type": "execute_result"
    }
   ],
   "source": [
    "zed.groupby(['type_clf']).agg({'mean_test_score': ['mean']})"
   ]
  },
  {
   "cell_type": "code",
   "execution_count": 124,
   "id": "ebf5147e-1baf-4806-9119-b2aff03385cb",
   "metadata": {},
   "outputs": [
    {
     "ename": "TypeError",
     "evalue": "'<' not supported between instances of 'RandomForestClassifier' and 'XGBClassifier'",
     "output_type": "error",
     "traceback": [
      "\u001b[0;31m---------------------------------------------------------------------------\u001b[0m",
      "\u001b[0;31mTypeError\u001b[0m                                 Traceback (most recent call last)",
      "\u001b[0;32m/usr/local/lib/python3.8/dist-packages/pandas/core/algorithms.py\u001b[0m in \u001b[0;36msafe_sort\u001b[0;34m(values, codes, na_sentinel, assume_unique, verify)\u001b[0m\n\u001b[1;32m   2122\u001b[0m         \u001b[0;32mtry\u001b[0m\u001b[0;34m:\u001b[0m\u001b[0;34m\u001b[0m\u001b[0;34m\u001b[0m\u001b[0m\n\u001b[0;32m-> 2123\u001b[0;31m             \u001b[0msorter\u001b[0m \u001b[0;34m=\u001b[0m \u001b[0mvalues\u001b[0m\u001b[0;34m.\u001b[0m\u001b[0margsort\u001b[0m\u001b[0;34m(\u001b[0m\u001b[0;34m)\u001b[0m\u001b[0;34m\u001b[0m\u001b[0;34m\u001b[0m\u001b[0m\n\u001b[0m\u001b[1;32m   2124\u001b[0m             \u001b[0mordered\u001b[0m \u001b[0;34m=\u001b[0m \u001b[0mvalues\u001b[0m\u001b[0;34m.\u001b[0m\u001b[0mtake\u001b[0m\u001b[0;34m(\u001b[0m\u001b[0msorter\u001b[0m\u001b[0;34m)\u001b[0m\u001b[0;34m\u001b[0m\u001b[0;34m\u001b[0m\u001b[0m\n",
      "\u001b[0;31mTypeError\u001b[0m: '<' not supported between instances of 'RandomForestClassifier' and 'XGBClassifier'",
      "\nDuring handling of the above exception, another exception occurred:\n",
      "\u001b[0;31mTypeError\u001b[0m                                 Traceback (most recent call last)",
      "\u001b[0;32m/tmp/ipykernel_6503/396641759.py\u001b[0m in \u001b[0;36m<module>\u001b[0;34m\u001b[0m\n\u001b[0;32m----> 1\u001b[0;31m \u001b[0mdf_rs_res\u001b[0m\u001b[0;34m.\u001b[0m\u001b[0mgroupby\u001b[0m\u001b[0;34m(\u001b[0m\u001b[0;34m'param_clf'\u001b[0m\u001b[0;34m)\u001b[0m\u001b[0;34m.\u001b[0m\u001b[0msize\u001b[0m\u001b[0;34m(\u001b[0m\u001b[0;34m)\u001b[0m\u001b[0;34m\u001b[0m\u001b[0;34m\u001b[0m\u001b[0m\n\u001b[0m",
      "\u001b[0;32m/usr/local/lib/python3.8/dist-packages/pandas/core/groupby/groupby.py\u001b[0m in \u001b[0;36msize\u001b[0;34m(self)\u001b[0m\n\u001b[1;32m   1627\u001b[0m             \u001b[0;32mor\u001b[0m \u001b[0ma\u001b[0m \u001b[0mDataFrame\u001b[0m \u001b[0;32mif\u001b[0m \u001b[0mas_index\u001b[0m \u001b[0;32mis\u001b[0m \u001b[0;32mFalse\u001b[0m\u001b[0;34m.\u001b[0m\u001b[0;34m\u001b[0m\u001b[0;34m\u001b[0m\u001b[0m\n\u001b[1;32m   1628\u001b[0m         \"\"\"\n\u001b[0;32m-> 1629\u001b[0;31m         \u001b[0mresult\u001b[0m \u001b[0;34m=\u001b[0m \u001b[0mself\u001b[0m\u001b[0;34m.\u001b[0m\u001b[0mgrouper\u001b[0m\u001b[0;34m.\u001b[0m\u001b[0msize\u001b[0m\u001b[0;34m(\u001b[0m\u001b[0;34m)\u001b[0m\u001b[0;34m\u001b[0m\u001b[0;34m\u001b[0m\u001b[0m\n\u001b[0m\u001b[1;32m   1630\u001b[0m \u001b[0;34m\u001b[0m\u001b[0m\n\u001b[1;32m   1631\u001b[0m         \u001b[0;31m# GH28330 preserve subclassed Series/DataFrames through calls\u001b[0m\u001b[0;34m\u001b[0m\u001b[0;34m\u001b[0m\u001b[0;34m\u001b[0m\u001b[0m\n",
      "\u001b[0;32m/usr/local/lib/python3.8/dist-packages/pandas/core/groupby/ops.py\u001b[0m in \u001b[0;36msize\u001b[0;34m(self)\u001b[0m\n\u001b[1;32m    272\u001b[0m         \u001b[0mCompute\u001b[0m \u001b[0mgroup\u001b[0m \u001b[0msizes\u001b[0m\u001b[0;34m.\u001b[0m\u001b[0;34m\u001b[0m\u001b[0;34m\u001b[0m\u001b[0m\n\u001b[1;32m    273\u001b[0m         \"\"\"\n\u001b[0;32m--> 274\u001b[0;31m         \u001b[0mids\u001b[0m\u001b[0;34m,\u001b[0m \u001b[0m_\u001b[0m\u001b[0;34m,\u001b[0m \u001b[0mngroup\u001b[0m \u001b[0;34m=\u001b[0m \u001b[0mself\u001b[0m\u001b[0;34m.\u001b[0m\u001b[0mgroup_info\u001b[0m\u001b[0;34m\u001b[0m\u001b[0;34m\u001b[0m\u001b[0m\n\u001b[0m\u001b[1;32m    275\u001b[0m         \u001b[0mids\u001b[0m \u001b[0;34m=\u001b[0m \u001b[0mensure_platform_int\u001b[0m\u001b[0;34m(\u001b[0m\u001b[0mids\u001b[0m\u001b[0;34m)\u001b[0m\u001b[0;34m\u001b[0m\u001b[0;34m\u001b[0m\u001b[0m\n\u001b[1;32m    276\u001b[0m         \u001b[0;32mif\u001b[0m \u001b[0mngroup\u001b[0m\u001b[0;34m:\u001b[0m\u001b[0;34m\u001b[0m\u001b[0;34m\u001b[0m\u001b[0m\n",
      "\u001b[0;32mpandas/_libs/properties.pyx\u001b[0m in \u001b[0;36mpandas._libs.properties.CachedProperty.__get__\u001b[0;34m()\u001b[0m\n",
      "\u001b[0;32m/usr/local/lib/python3.8/dist-packages/pandas/core/groupby/ops.py\u001b[0m in \u001b[0;36mgroup_info\u001b[0;34m(self)\u001b[0m\n\u001b[1;32m    298\u001b[0m     \u001b[0;34m@\u001b[0m\u001b[0mcache_readonly\u001b[0m\u001b[0;34m\u001b[0m\u001b[0;34m\u001b[0m\u001b[0m\n\u001b[1;32m    299\u001b[0m     \u001b[0;32mdef\u001b[0m \u001b[0mgroup_info\u001b[0m\u001b[0;34m(\u001b[0m\u001b[0mself\u001b[0m\u001b[0;34m)\u001b[0m\u001b[0;34m:\u001b[0m\u001b[0;34m\u001b[0m\u001b[0;34m\u001b[0m\u001b[0m\n\u001b[0;32m--> 300\u001b[0;31m         \u001b[0mcomp_ids\u001b[0m\u001b[0;34m,\u001b[0m \u001b[0mobs_group_ids\u001b[0m \u001b[0;34m=\u001b[0m \u001b[0mself\u001b[0m\u001b[0;34m.\u001b[0m\u001b[0m_get_compressed_codes\u001b[0m\u001b[0;34m(\u001b[0m\u001b[0;34m)\u001b[0m\u001b[0;34m\u001b[0m\u001b[0;34m\u001b[0m\u001b[0m\n\u001b[0m\u001b[1;32m    301\u001b[0m \u001b[0;34m\u001b[0m\u001b[0m\n\u001b[1;32m    302\u001b[0m         \u001b[0mngroups\u001b[0m \u001b[0;34m=\u001b[0m \u001b[0mlen\u001b[0m\u001b[0;34m(\u001b[0m\u001b[0mobs_group_ids\u001b[0m\u001b[0;34m)\u001b[0m\u001b[0;34m\u001b[0m\u001b[0;34m\u001b[0m\u001b[0m\n",
      "\u001b[0;32m/usr/local/lib/python3.8/dist-packages/pandas/core/groupby/ops.py\u001b[0m in \u001b[0;36m_get_compressed_codes\u001b[0;34m(self)\u001b[0m\n\u001b[1;32m    316\u001b[0m     \u001b[0;34m@\u001b[0m\u001b[0mfinal\u001b[0m\u001b[0;34m\u001b[0m\u001b[0;34m\u001b[0m\u001b[0m\n\u001b[1;32m    317\u001b[0m     \u001b[0;32mdef\u001b[0m \u001b[0m_get_compressed_codes\u001b[0m\u001b[0;34m(\u001b[0m\u001b[0mself\u001b[0m\u001b[0;34m)\u001b[0m \u001b[0;34m->\u001b[0m \u001b[0mTuple\u001b[0m\u001b[0;34m[\u001b[0m\u001b[0mnp\u001b[0m\u001b[0;34m.\u001b[0m\u001b[0mndarray\u001b[0m\u001b[0;34m,\u001b[0m \u001b[0mnp\u001b[0m\u001b[0;34m.\u001b[0m\u001b[0mndarray\u001b[0m\u001b[0;34m]\u001b[0m\u001b[0;34m:\u001b[0m\u001b[0;34m\u001b[0m\u001b[0;34m\u001b[0m\u001b[0m\n\u001b[0;32m--> 318\u001b[0;31m         \u001b[0mall_codes\u001b[0m \u001b[0;34m=\u001b[0m \u001b[0mself\u001b[0m\u001b[0;34m.\u001b[0m\u001b[0mcodes\u001b[0m\u001b[0;34m\u001b[0m\u001b[0;34m\u001b[0m\u001b[0m\n\u001b[0m\u001b[1;32m    319\u001b[0m         \u001b[0;32mif\u001b[0m \u001b[0mlen\u001b[0m\u001b[0;34m(\u001b[0m\u001b[0mall_codes\u001b[0m\u001b[0;34m)\u001b[0m \u001b[0;34m>\u001b[0m \u001b[0;36m1\u001b[0m\u001b[0;34m:\u001b[0m\u001b[0;34m\u001b[0m\u001b[0;34m\u001b[0m\u001b[0m\n\u001b[1;32m    320\u001b[0m             \u001b[0mgroup_index\u001b[0m \u001b[0;34m=\u001b[0m \u001b[0mget_group_index\u001b[0m\u001b[0;34m(\u001b[0m\u001b[0mall_codes\u001b[0m\u001b[0;34m,\u001b[0m \u001b[0mself\u001b[0m\u001b[0;34m.\u001b[0m\u001b[0mshape\u001b[0m\u001b[0;34m,\u001b[0m \u001b[0msort\u001b[0m\u001b[0;34m=\u001b[0m\u001b[0;32mTrue\u001b[0m\u001b[0;34m,\u001b[0m \u001b[0mxnull\u001b[0m\u001b[0;34m=\u001b[0m\u001b[0;32mTrue\u001b[0m\u001b[0;34m)\u001b[0m\u001b[0;34m\u001b[0m\u001b[0;34m\u001b[0m\u001b[0m\n",
      "\u001b[0;32m/usr/local/lib/python3.8/dist-packages/pandas/core/groupby/ops.py\u001b[0m in \u001b[0;36mcodes\u001b[0;34m(self)\u001b[0m\n\u001b[1;32m    257\u001b[0m     \u001b[0;34m@\u001b[0m\u001b[0mproperty\u001b[0m\u001b[0;34m\u001b[0m\u001b[0;34m\u001b[0m\u001b[0m\n\u001b[1;32m    258\u001b[0m     \u001b[0;32mdef\u001b[0m \u001b[0mcodes\u001b[0m\u001b[0;34m(\u001b[0m\u001b[0mself\u001b[0m\u001b[0;34m)\u001b[0m \u001b[0;34m->\u001b[0m \u001b[0mList\u001b[0m\u001b[0;34m[\u001b[0m\u001b[0mnp\u001b[0m\u001b[0;34m.\u001b[0m\u001b[0mndarray\u001b[0m\u001b[0;34m]\u001b[0m\u001b[0;34m:\u001b[0m\u001b[0;34m\u001b[0m\u001b[0;34m\u001b[0m\u001b[0m\n\u001b[0;32m--> 259\u001b[0;31m         \u001b[0;32mreturn\u001b[0m \u001b[0;34m[\u001b[0m\u001b[0mping\u001b[0m\u001b[0;34m.\u001b[0m\u001b[0mcodes\u001b[0m \u001b[0;32mfor\u001b[0m \u001b[0mping\u001b[0m \u001b[0;32min\u001b[0m \u001b[0mself\u001b[0m\u001b[0;34m.\u001b[0m\u001b[0mgroupings\u001b[0m\u001b[0;34m]\u001b[0m\u001b[0;34m\u001b[0m\u001b[0;34m\u001b[0m\u001b[0m\n\u001b[0m\u001b[1;32m    260\u001b[0m \u001b[0;34m\u001b[0m\u001b[0m\n\u001b[1;32m    261\u001b[0m     \u001b[0;34m@\u001b[0m\u001b[0mproperty\u001b[0m\u001b[0;34m\u001b[0m\u001b[0;34m\u001b[0m\u001b[0m\n",
      "\u001b[0;32m/usr/local/lib/python3.8/dist-packages/pandas/core/groupby/ops.py\u001b[0m in \u001b[0;36m<listcomp>\u001b[0;34m(.0)\u001b[0m\n\u001b[1;32m    257\u001b[0m     \u001b[0;34m@\u001b[0m\u001b[0mproperty\u001b[0m\u001b[0;34m\u001b[0m\u001b[0;34m\u001b[0m\u001b[0m\n\u001b[1;32m    258\u001b[0m     \u001b[0;32mdef\u001b[0m \u001b[0mcodes\u001b[0m\u001b[0;34m(\u001b[0m\u001b[0mself\u001b[0m\u001b[0;34m)\u001b[0m \u001b[0;34m->\u001b[0m \u001b[0mList\u001b[0m\u001b[0;34m[\u001b[0m\u001b[0mnp\u001b[0m\u001b[0;34m.\u001b[0m\u001b[0mndarray\u001b[0m\u001b[0;34m]\u001b[0m\u001b[0;34m:\u001b[0m\u001b[0;34m\u001b[0m\u001b[0;34m\u001b[0m\u001b[0m\n\u001b[0;32m--> 259\u001b[0;31m         \u001b[0;32mreturn\u001b[0m \u001b[0;34m[\u001b[0m\u001b[0mping\u001b[0m\u001b[0;34m.\u001b[0m\u001b[0mcodes\u001b[0m \u001b[0;32mfor\u001b[0m \u001b[0mping\u001b[0m \u001b[0;32min\u001b[0m \u001b[0mself\u001b[0m\u001b[0;34m.\u001b[0m\u001b[0mgroupings\u001b[0m\u001b[0;34m]\u001b[0m\u001b[0;34m\u001b[0m\u001b[0;34m\u001b[0m\u001b[0m\n\u001b[0m\u001b[1;32m    260\u001b[0m \u001b[0;34m\u001b[0m\u001b[0m\n\u001b[1;32m    261\u001b[0m     \u001b[0;34m@\u001b[0m\u001b[0mproperty\u001b[0m\u001b[0;34m\u001b[0m\u001b[0;34m\u001b[0m\u001b[0m\n",
      "\u001b[0;32m/usr/local/lib/python3.8/dist-packages/pandas/core/groupby/grouper.py\u001b[0m in \u001b[0;36mcodes\u001b[0;34m(self)\u001b[0m\n\u001b[1;32m    589\u001b[0m     \u001b[0;32mdef\u001b[0m \u001b[0mcodes\u001b[0m\u001b[0;34m(\u001b[0m\u001b[0mself\u001b[0m\u001b[0;34m)\u001b[0m \u001b[0;34m->\u001b[0m \u001b[0mnp\u001b[0m\u001b[0;34m.\u001b[0m\u001b[0mndarray\u001b[0m\u001b[0;34m:\u001b[0m\u001b[0;34m\u001b[0m\u001b[0;34m\u001b[0m\u001b[0m\n\u001b[1;32m    590\u001b[0m         \u001b[0;32mif\u001b[0m \u001b[0mself\u001b[0m\u001b[0;34m.\u001b[0m\u001b[0m_codes\u001b[0m \u001b[0;32mis\u001b[0m \u001b[0;32mNone\u001b[0m\u001b[0;34m:\u001b[0m\u001b[0;34m\u001b[0m\u001b[0;34m\u001b[0m\u001b[0m\n\u001b[0;32m--> 591\u001b[0;31m             \u001b[0mself\u001b[0m\u001b[0;34m.\u001b[0m\u001b[0m_make_codes\u001b[0m\u001b[0;34m(\u001b[0m\u001b[0;34m)\u001b[0m\u001b[0;34m\u001b[0m\u001b[0;34m\u001b[0m\u001b[0m\n\u001b[0m\u001b[1;32m    592\u001b[0m         \u001b[0;32mreturn\u001b[0m \u001b[0mself\u001b[0m\u001b[0;34m.\u001b[0m\u001b[0m_codes\u001b[0m\u001b[0;34m\u001b[0m\u001b[0;34m\u001b[0m\u001b[0m\n\u001b[1;32m    593\u001b[0m \u001b[0;34m\u001b[0m\u001b[0m\n",
      "\u001b[0;32m/usr/local/lib/python3.8/dist-packages/pandas/core/groupby/grouper.py\u001b[0m in \u001b[0;36m_make_codes\u001b[0;34m(self)\u001b[0m\n\u001b[1;32m    621\u001b[0m             \u001b[0;32melse\u001b[0m\u001b[0;34m:\u001b[0m\u001b[0;34m\u001b[0m\u001b[0;34m\u001b[0m\u001b[0m\n\u001b[1;32m    622\u001b[0m                 \u001b[0mna_sentinel\u001b[0m \u001b[0;34m=\u001b[0m \u001b[0;34m-\u001b[0m\u001b[0;36m1\u001b[0m\u001b[0;34m\u001b[0m\u001b[0;34m\u001b[0m\u001b[0m\n\u001b[0;32m--> 623\u001b[0;31m             codes, uniques = algorithms.factorize(\n\u001b[0m\u001b[1;32m    624\u001b[0m                 \u001b[0mself\u001b[0m\u001b[0;34m.\u001b[0m\u001b[0mgrouper\u001b[0m\u001b[0;34m,\u001b[0m \u001b[0msort\u001b[0m\u001b[0;34m=\u001b[0m\u001b[0mself\u001b[0m\u001b[0;34m.\u001b[0m\u001b[0msort\u001b[0m\u001b[0;34m,\u001b[0m \u001b[0mna_sentinel\u001b[0m\u001b[0;34m=\u001b[0m\u001b[0mna_sentinel\u001b[0m\u001b[0;34m\u001b[0m\u001b[0;34m\u001b[0m\u001b[0m\n\u001b[1;32m    625\u001b[0m             )\n",
      "\u001b[0;32m/usr/local/lib/python3.8/dist-packages/pandas/core/algorithms.py\u001b[0m in \u001b[0;36mfactorize\u001b[0;34m(values, sort, na_sentinel, size_hint)\u001b[0m\n\u001b[1;32m    725\u001b[0m \u001b[0;34m\u001b[0m\u001b[0m\n\u001b[1;32m    726\u001b[0m     \u001b[0;32mif\u001b[0m \u001b[0msort\u001b[0m \u001b[0;32mand\u001b[0m \u001b[0mlen\u001b[0m\u001b[0;34m(\u001b[0m\u001b[0muniques\u001b[0m\u001b[0;34m)\u001b[0m \u001b[0;34m>\u001b[0m \u001b[0;36m0\u001b[0m\u001b[0;34m:\u001b[0m\u001b[0;34m\u001b[0m\u001b[0;34m\u001b[0m\u001b[0m\n\u001b[0;32m--> 727\u001b[0;31m         uniques, codes = safe_sort(\n\u001b[0m\u001b[1;32m    728\u001b[0m             \u001b[0muniques\u001b[0m\u001b[0;34m,\u001b[0m \u001b[0mcodes\u001b[0m\u001b[0;34m,\u001b[0m \u001b[0mna_sentinel\u001b[0m\u001b[0;34m=\u001b[0m\u001b[0mna_sentinel\u001b[0m\u001b[0;34m,\u001b[0m \u001b[0massume_unique\u001b[0m\u001b[0;34m=\u001b[0m\u001b[0;32mTrue\u001b[0m\u001b[0;34m,\u001b[0m \u001b[0mverify\u001b[0m\u001b[0;34m=\u001b[0m\u001b[0;32mFalse\u001b[0m\u001b[0;34m\u001b[0m\u001b[0;34m\u001b[0m\u001b[0m\n\u001b[1;32m    729\u001b[0m         )\n",
      "\u001b[0;32m/usr/local/lib/python3.8/dist-packages/pandas/core/algorithms.py\u001b[0m in \u001b[0;36msafe_sort\u001b[0;34m(values, codes, na_sentinel, assume_unique, verify)\u001b[0m\n\u001b[1;32m   2130\u001b[0m                 \u001b[0mordered\u001b[0m \u001b[0;34m=\u001b[0m \u001b[0m_sort_tuples\u001b[0m\u001b[0;34m(\u001b[0m\u001b[0mvalues\u001b[0m\u001b[0;34m)\u001b[0m\u001b[0;34m\u001b[0m\u001b[0;34m\u001b[0m\u001b[0m\n\u001b[1;32m   2131\u001b[0m             \u001b[0;32melse\u001b[0m\u001b[0;34m:\u001b[0m\u001b[0;34m\u001b[0m\u001b[0;34m\u001b[0m\u001b[0m\n\u001b[0;32m-> 2132\u001b[0;31m                 \u001b[0mordered\u001b[0m \u001b[0;34m=\u001b[0m \u001b[0m_sort_mixed\u001b[0m\u001b[0;34m(\u001b[0m\u001b[0mvalues\u001b[0m\u001b[0;34m)\u001b[0m\u001b[0;34m\u001b[0m\u001b[0;34m\u001b[0m\u001b[0m\n\u001b[0m\u001b[1;32m   2133\u001b[0m \u001b[0;34m\u001b[0m\u001b[0m\n\u001b[1;32m   2134\u001b[0m     \u001b[0;31m# codes:\u001b[0m\u001b[0;34m\u001b[0m\u001b[0;34m\u001b[0m\u001b[0;34m\u001b[0m\u001b[0m\n",
      "\u001b[0;32m/usr/local/lib/python3.8/dist-packages/pandas/core/algorithms.py\u001b[0m in \u001b[0;36m_sort_mixed\u001b[0;34m(values)\u001b[0m\n\u001b[1;32m   2182\u001b[0m     \u001b[0;34m\"\"\" order ints before strings in 1d arrays, safe in py3 \"\"\"\u001b[0m\u001b[0;34m\u001b[0m\u001b[0;34m\u001b[0m\u001b[0m\n\u001b[1;32m   2183\u001b[0m     \u001b[0mstr_pos\u001b[0m \u001b[0;34m=\u001b[0m \u001b[0mnp\u001b[0m\u001b[0;34m.\u001b[0m\u001b[0marray\u001b[0m\u001b[0;34m(\u001b[0m\u001b[0;34m[\u001b[0m\u001b[0misinstance\u001b[0m\u001b[0;34m(\u001b[0m\u001b[0mx\u001b[0m\u001b[0;34m,\u001b[0m \u001b[0mstr\u001b[0m\u001b[0;34m)\u001b[0m \u001b[0;32mfor\u001b[0m \u001b[0mx\u001b[0m \u001b[0;32min\u001b[0m \u001b[0mvalues\u001b[0m\u001b[0;34m]\u001b[0m\u001b[0;34m,\u001b[0m \u001b[0mdtype\u001b[0m\u001b[0;34m=\u001b[0m\u001b[0mbool\u001b[0m\u001b[0;34m)\u001b[0m\u001b[0;34m\u001b[0m\u001b[0;34m\u001b[0m\u001b[0m\n\u001b[0;32m-> 2184\u001b[0;31m     \u001b[0mnums\u001b[0m \u001b[0;34m=\u001b[0m \u001b[0mnp\u001b[0m\u001b[0;34m.\u001b[0m\u001b[0msort\u001b[0m\u001b[0;34m(\u001b[0m\u001b[0mvalues\u001b[0m\u001b[0;34m[\u001b[0m\u001b[0;34m~\u001b[0m\u001b[0mstr_pos\u001b[0m\u001b[0;34m]\u001b[0m\u001b[0;34m)\u001b[0m\u001b[0;34m\u001b[0m\u001b[0;34m\u001b[0m\u001b[0m\n\u001b[0m\u001b[1;32m   2185\u001b[0m     \u001b[0mstrs\u001b[0m \u001b[0;34m=\u001b[0m \u001b[0mnp\u001b[0m\u001b[0;34m.\u001b[0m\u001b[0msort\u001b[0m\u001b[0;34m(\u001b[0m\u001b[0mvalues\u001b[0m\u001b[0;34m[\u001b[0m\u001b[0mstr_pos\u001b[0m\u001b[0;34m]\u001b[0m\u001b[0;34m)\u001b[0m\u001b[0;34m\u001b[0m\u001b[0;34m\u001b[0m\u001b[0m\n\u001b[1;32m   2186\u001b[0m     \u001b[0;32mreturn\u001b[0m \u001b[0mnp\u001b[0m\u001b[0;34m.\u001b[0m\u001b[0mconcatenate\u001b[0m\u001b[0;34m(\u001b[0m\u001b[0;34m[\u001b[0m\u001b[0mnums\u001b[0m\u001b[0;34m,\u001b[0m \u001b[0mnp\u001b[0m\u001b[0;34m.\u001b[0m\u001b[0masarray\u001b[0m\u001b[0;34m(\u001b[0m\u001b[0mstrs\u001b[0m\u001b[0;34m,\u001b[0m \u001b[0mdtype\u001b[0m\u001b[0;34m=\u001b[0m\u001b[0mobject\u001b[0m\u001b[0;34m)\u001b[0m\u001b[0;34m]\u001b[0m\u001b[0;34m)\u001b[0m\u001b[0;34m\u001b[0m\u001b[0;34m\u001b[0m\u001b[0m\n",
      "\u001b[0;32m/usr/local/lib/python3.8/dist-packages/numpy/core/overrides.py\u001b[0m in \u001b[0;36msort\u001b[0;34m(*args, **kwargs)\u001b[0m\n",
      "\u001b[0;32m/usr/local/lib/python3.8/dist-packages/numpy/core/fromnumeric.py\u001b[0m in \u001b[0;36msort\u001b[0;34m(a, axis, kind, order)\u001b[0m\n\u001b[1;32m   1002\u001b[0m     \u001b[0;32melse\u001b[0m\u001b[0;34m:\u001b[0m\u001b[0;34m\u001b[0m\u001b[0;34m\u001b[0m\u001b[0m\n\u001b[1;32m   1003\u001b[0m         \u001b[0ma\u001b[0m \u001b[0;34m=\u001b[0m \u001b[0masanyarray\u001b[0m\u001b[0;34m(\u001b[0m\u001b[0ma\u001b[0m\u001b[0;34m)\u001b[0m\u001b[0;34m.\u001b[0m\u001b[0mcopy\u001b[0m\u001b[0;34m(\u001b[0m\u001b[0morder\u001b[0m\u001b[0;34m=\u001b[0m\u001b[0;34m\"K\"\u001b[0m\u001b[0;34m)\u001b[0m\u001b[0;34m\u001b[0m\u001b[0;34m\u001b[0m\u001b[0m\n\u001b[0;32m-> 1004\u001b[0;31m     \u001b[0ma\u001b[0m\u001b[0;34m.\u001b[0m\u001b[0msort\u001b[0m\u001b[0;34m(\u001b[0m\u001b[0maxis\u001b[0m\u001b[0;34m=\u001b[0m\u001b[0maxis\u001b[0m\u001b[0;34m,\u001b[0m \u001b[0mkind\u001b[0m\u001b[0;34m=\u001b[0m\u001b[0mkind\u001b[0m\u001b[0;34m,\u001b[0m \u001b[0morder\u001b[0m\u001b[0;34m=\u001b[0m\u001b[0morder\u001b[0m\u001b[0;34m)\u001b[0m\u001b[0;34m\u001b[0m\u001b[0;34m\u001b[0m\u001b[0m\n\u001b[0m\u001b[1;32m   1005\u001b[0m     \u001b[0;32mreturn\u001b[0m \u001b[0ma\u001b[0m\u001b[0;34m\u001b[0m\u001b[0;34m\u001b[0m\u001b[0m\n\u001b[1;32m   1006\u001b[0m \u001b[0;34m\u001b[0m\u001b[0m\n",
      "\u001b[0;31mTypeError\u001b[0m: '<' not supported between instances of 'RandomForestClassifier' and 'XGBClassifier'"
     ]
    }
   ],
   "source": [
    "df_rs_res.groupby('param_clf').size()"
   ]
  },
  {
   "cell_type": "code",
   "execution_count": null,
   "id": "3132027f-7013-47d6-bf31-009fa7f22dae",
   "metadata": {},
   "outputs": [],
   "source": []
  },
  {
   "cell_type": "code",
   "execution_count": 118,
   "id": "ea07441d-9554-4ce6-aad9-42bcf62d2920",
   "metadata": {},
   "outputs": [
    {
     "data": {
      "text/plain": [
       "array([0.1, 0.2, 0.3, 0.4, 0.5])"
      ]
     },
     "execution_count": 118,
     "metadata": {},
     "output_type": "execute_result"
    }
   ],
   "source": [
    "np.linspace(0.1, 0.5, 5, endpoint=True)"
   ]
  },
  {
   "cell_type": "code",
   "execution_count": 108,
   "id": "7cc468f0-7701-4bb7-8307-5bd91f1eeeff",
   "metadata": {},
   "outputs": [
    {
     "data": {
      "text/plain": [
       "array([ 3,  4,  5,  6,  7,  8,  9, 10])"
      ]
     },
     "execution_count": 108,
     "metadata": {},
     "output_type": "execute_result"
    }
   ],
   "source": [
    "np.arange(3,11,1)"
   ]
  },
  {
   "cell_type": "code",
   "execution_count": 17,
   "id": "eb089dae-cba7-4415-a5f5-2b5756a70a5e",
   "metadata": {},
   "outputs": [],
   "source": [
    "# Create a pipeline\n",
    "pipe_2 = Pipeline([('clf', DummyEstimator())]) # Placeholder Estimator\n",
    "\n",
    "# Candidate learning algorithms and their hyperparameters\n",
    "# For selected hyperparameters aimed to select a reasonable range for each.\n",
    "search_space = [\n",
    "                {'clf': [XGBClassifier()],  # Actual Estimator\n",
    "                 'clf__n_estimators': [50, 100, 200],\n",
    "                 'clf__criterion': ['gini', 'entropy'],                 \n",
    "                 'clf__max_depth': np.arange(3,11,1),\n",
    "                 'clf__min_samples_split': np.linspace(0.1, 0.5, 10, endpoint=False),\n",
    "                 'clf__max_features': [\"auto\", \"sqrt\", \"log2\"],\n",
    "                 'clf__max_samples': [0.25, 0.5, 0.75, 1]\n",
    "                }\n",
    "               ]\n",
    "\n",
    "\n",
    "# GradientBoostingClassifier(\n",
    "# RandomForestClassifier(\n",
    "    \n",
    "# Create grid search \n",
    "# gs = GridSearchCV(pipe, search_space, random_state=random_state)\n",
    "rs = RandomizedSearchCV(pipe, search_space, random_state=random_state\n",
    "                        ,n_iter=10 # To limit search time \n",
    "                        ,cv=3      # I like 5 as rule of thumb, but again to limit search time\n",
    "                        ,verbose=True, refit=True, scoring='accuracy')"
   ]
  },
  {
   "cell_type": "markdown",
   "id": "643584af-d701-4d2a-a74b-d1d5aa74d837",
   "metadata": {},
   "source": [
    "---  \n",
    "\n",
    "<span style=\"font-size:0.5em;\">Tag 5</span>\n",
    "\n",
    "<a id='the_end'></a>\n",
    "\n",
    "<span style=\"font-size:0.5em;\"><a href='#toc'>Back to TOC</a></span>"
   ]
  },
  {
   "cell_type": "code",
   "execution_count": null,
   "id": "d0e22588-d009-4f9f-a893-850c0839466f",
   "metadata": {},
   "outputs": [],
   "source": []
  },
  {
   "cell_type": "code",
   "execution_count": 83,
   "id": "599781dc-e6cc-4e4d-87af-69852575eda1",
   "metadata": {},
   "outputs": [
    {
     "data": {
      "text/plain": [
       "<bound method Pipeline.get_params of Pipeline(steps=[('clf',\n",
       "                 XGBClassifier(base_score=0.5, booster='gbtree',\n",
       "                               colsample_bylevel=1, colsample_bynode=1,\n",
       "                               colsample_bytree=1, criterion='entropy', gamma=0,\n",
       "                               gpu_id=-1, importance_type='gain',\n",
       "                               interaction_constraints='',\n",
       "                               learning_rate=0.300000012, max_delta_step=0,\n",
       "                               max_depth=7, max_features='auto',\n",
       "                               max_samples=0.5, min_child_weight=1,\n",
       "                               min_samples_split=0.38, missing=nan,\n",
       "                               monotone_constraints='()', n_estimators=50,\n",
       "                               n_jobs=16, num_parallel_tree=1, random_state=0,\n",
       "                               reg_alpha=0, reg_lambda=1, scale_pos_weight=1,\n",
       "                               subsample=1, tree_method='exact',\n",
       "                               validate_parameters=1, verbosity=None))])>"
      ]
     },
     "execution_count": 83,
     "metadata": {},
     "output_type": "execute_result"
    }
   ],
   "source": [
    "rs_best.get_params"
   ]
  },
  {
   "cell_type": "code",
   "execution_count": 92,
   "id": "f19cf1cc-e076-4340-8c7c-258f39dad537",
   "metadata": {},
   "outputs": [
    {
     "data": {
      "text/plain": [
       "XGBClassifier(base_score=0.5, booster='gbtree', colsample_bylevel=1,\n",
       "              colsample_bynode=1, colsample_bytree=1, criterion='entropy',\n",
       "              gamma=0, gpu_id=-1, importance_type='gain',\n",
       "              interaction_constraints='', learning_rate=0.300000012,\n",
       "              max_delta_step=0, max_depth=7, max_features='auto',\n",
       "              max_samples=0.5, min_child_weight=1, min_samples_split=0.38,\n",
       "              missing=nan, monotone_constraints='()', n_estimators=50,\n",
       "              n_jobs=16, num_parallel_tree=1, random_state=0, reg_alpha=0,\n",
       "              reg_lambda=1, scale_pos_weight=1, subsample=1,\n",
       "              tree_method='exact', validate_parameters=1, verbosity=None)"
      ]
     },
     "execution_count": 92,
     "metadata": {},
     "output_type": "execute_result"
    }
   ],
   "source": [
    "rs_best.named_steps[\"clf\"]"
   ]
  },
  {
   "cell_type": "code",
   "execution_count": 93,
   "id": "3bcc01da-737a-49d3-9339-8dc7eb076b2a",
   "metadata": {},
   "outputs": [
    {
     "data": {
      "text/plain": [
       "sklearn.model_selection._search.RandomizedSearchCV"
      ]
     },
     "execution_count": 93,
     "metadata": {},
     "output_type": "execute_result"
    }
   ],
   "source": [
    "type(rs)"
   ]
  },
  {
   "cell_type": "code",
   "execution_count": 94,
   "id": "6cafc969-5434-4641-8f3e-397203d8e313",
   "metadata": {},
   "outputs": [
    {
     "data": {
      "text/plain": [
       "Pipeline(steps=[('clf',\n",
       "                 XGBClassifier(base_score=0.5, booster='gbtree',\n",
       "                               colsample_bylevel=1, colsample_bynode=1,\n",
       "                               colsample_bytree=1, criterion='entropy', gamma=0,\n",
       "                               gpu_id=-1, importance_type='gain',\n",
       "                               interaction_constraints='',\n",
       "                               learning_rate=0.300000012, max_delta_step=0,\n",
       "                               max_depth=7, max_features='auto',\n",
       "                               max_samples=0.5, min_child_weight=1,\n",
       "                               min_samples_split=0.38, missing=nan,\n",
       "                               monotone_constraints='()', n_estimators=50,\n",
       "                               n_jobs=16, num_parallel_tree=1, random_state=0,\n",
       "                               reg_alpha=0, reg_lambda=1, scale_pos_weight=1,\n",
       "                               subsample=1, tree_method='exact',\n",
       "                               validate_parameters=1, verbosity=None))])"
      ]
     },
     "execution_count": 94,
     "metadata": {},
     "output_type": "execute_result"
    }
   ],
   "source": [
    "rs.best_estimator_"
   ]
  },
  {
   "cell_type": "code",
   "execution_count": 99,
   "id": "16b52884-22f8-4f60-9fc0-48f3f7a64478",
   "metadata": {},
   "outputs": [],
   "source": [
    "z = rs.best_estimator_.named_steps[\"clf\"]"
   ]
  },
  {
   "cell_type": "code",
   "execution_count": 105,
   "id": "22eff407-087e-48cb-b230-6c68fbf19b66",
   "metadata": {},
   "outputs": [
    {
     "data": {
      "text/plain": [
       "(280767, 13)"
      ]
     },
     "execution_count": 105,
     "metadata": {},
     "output_type": "execute_result"
    }
   ],
   "source": [
    "X_train.shape"
   ]
  },
  {
   "cell_type": "code",
   "execution_count": 106,
   "id": "52588f5b-0b82-4c10-9ec7-06ae7b91963b",
   "metadata": {},
   "outputs": [
    {
     "data": {
      "text/plain": [
       "{'f2': 580,\n",
       " 'f5': 672,\n",
       " 'f1': 152,\n",
       " 'f3': 322,\n",
       " 'f9': 57,\n",
       " 'f8': 160,\n",
       " 'f4': 375,\n",
       " 'f7': 260,\n",
       " 'f0': 298,\n",
       " 'f6': 255,\n",
       " 'f11': 10}"
      ]
     },
     "execution_count": 106,
     "metadata": {},
     "output_type": "execute_result"
    }
   ],
   "source": [
    "z.get_booster().get_fscore()"
   ]
  },
  {
   "cell_type": "code",
   "execution_count": 107,
   "id": "a26c920c-dd2d-4843-8a08-bc6a5f4cc30c",
   "metadata": {},
   "outputs": [
    {
     "data": {
      "text/plain": [
       "Index(['break_x', 'stringer_zone_bottom', 'pz', 'angle_z', 'angle_x', 'px',\n",
       "       'break_z', 'pitch_speed', 'stringer_zone_top', 'bside_L', 'bside_R',\n",
       "       'pside_L', 'pside_R'],\n",
       "      dtype='object')"
      ]
     },
     "execution_count": 107,
     "metadata": {},
     "output_type": "execute_result"
    }
   ],
   "source": [
    "df_X.columns"
   ]
  },
  {
   "cell_type": "code",
   "execution_count": 103,
   "id": "caba7f3e-bdaf-483d-84d3-3c331aa695fb",
   "metadata": {},
   "outputs": [
    {
     "data": {
      "text/plain": [
       "11"
      ]
     },
     "execution_count": 103,
     "metadata": {},
     "output_type": "execute_result"
    }
   ],
   "source": [
    "len(z.get_booster().get_fscore())"
   ]
  },
  {
   "cell_type": "code",
   "execution_count": 102,
   "id": "d7a7c956-b8ac-436a-a95b-728cdfbf6380",
   "metadata": {},
   "outputs": [
    {
     "data": {
      "text/plain": [
       "(280767, 13)"
      ]
     },
     "execution_count": 102,
     "metadata": {},
     "output_type": "execute_result"
    }
   ],
   "source": [
    "X_train.shape"
   ]
  },
  {
   "cell_type": "code",
   "execution_count": 87,
   "id": "7dbdf9b9-9617-4edc-b3c2-d8ead00335ec",
   "metadata": {},
   "outputs": [
    {
     "ename": "AttributeError",
     "evalue": "'XGBClassifier' object has no attribute 'get_score'",
     "output_type": "error",
     "traceback": [
      "\u001b[0;31m---------------------------------------------------------------------------\u001b[0m",
      "\u001b[0;31mAttributeError\u001b[0m                            Traceback (most recent call last)",
      "\u001b[0;32m/tmp/ipykernel_6503/648120181.py\u001b[0m in \u001b[0;36m<module>\u001b[0;34m\u001b[0m\n\u001b[0;32m----> 1\u001b[0;31m \u001b[0mrs_best\u001b[0m\u001b[0;34m.\u001b[0m\u001b[0mnamed_steps\u001b[0m\u001b[0;34m[\u001b[0m\u001b[0;34m\"clf\"\u001b[0m\u001b[0;34m]\u001b[0m\u001b[0;34m.\u001b[0m\u001b[0mget_score\u001b[0m\u001b[0;34m(\u001b[0m\u001b[0;34m)\u001b[0m\u001b[0;34m\u001b[0m\u001b[0;34m\u001b[0m\u001b[0m\n\u001b[0m",
      "\u001b[0;31mAttributeError\u001b[0m: 'XGBClassifier' object has no attribute 'get_score'"
     ]
    }
   ],
   "source": [
    "rs_best.named_steps[\"clf\"].get_score()"
   ]
  },
  {
   "cell_type": "markdown",
   "id": "e9fc1490-d3b2-4169-83eb-69fc494a3bc7",
   "metadata": {
    "tags": []
   },
   "source": [
    "-----"
   ]
  }
 ],
 "metadata": {
  "kernelspec": {
   "display_name": "Python 3 (ipykernel)",
   "language": "python",
   "name": "python3"
  },
  "language_info": {
   "codemirror_mode": {
    "name": "ipython",
    "version": 3
   },
   "file_extension": ".py",
   "mimetype": "text/x-python",
   "name": "python",
   "nbconvert_exporter": "python",
   "pygments_lexer": "ipython3",
   "version": "3.8.10"
  },
  "toc-autonumbering": false,
  "toc-showmarkdowntxt": false,
  "widgets": {
   "application/vnd.jupyter.widget-state+json": {
    "state": {},
    "version_major": 2,
    "version_minor": 0
   }
  }
 },
 "nbformat": 4,
 "nbformat_minor": 5
}
