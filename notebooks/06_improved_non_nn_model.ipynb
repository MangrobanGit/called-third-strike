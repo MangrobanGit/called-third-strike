{
 "cells": [
  {
   "cell_type": "markdown",
   "id": "1d9a73fe-22ef-46f3-af36-3ed41d28fa72",
   "metadata": {},
   "source": [
    "# Called Third Strike\n",
    "### _Building a Strike Probability Model_\n",
    "<div>\n",
    "<img src=\"resources/baseball_umpire_home_plate_1.jpg\" width=\"600\"/>\n",
    "</div>\n",
    "\n",
    "---\n",
    "## Part 6. Improved non-neural network model\n",
    "\n",
    "This project's goal is to build probability models for as to whether a pitch will be called a strike or not. The intended models are to be:\n",
    "1. A neural network (NN) based approach.\n",
    "2. A non-NN based approach.\n",
    "\n",
    "---\n",
    "\n",
    "__**This Notebook's**__ objective is to iterate on the work done with the [first attempts](./04_first_quick_non_nn_model.ipynb) at a \"classical\" ML classication model. As with the ['improved' neural network model](./05_improved_neural_network.ipynb), we will be adding in these other features:\n",
    "- Included Handedness of both pitcher and batter; I hypothesize that this will have some signal with regards to the 'strike-ness' of the horizontal movement of the pitch. As for verticality, I think that the stringer data helps with that since it provides fairly concrete guardrails as to the strike-ness (assuming the umpire sees the same thing haha).\n",
    "- Include pitch break and angle. I hypothesize this acts like a proxy to the pitcher, without having to rely on the pitcher_IDs. Rough analogy but I think of it kind of like latent factors in ALS matrix factorization (which I need to brush up on heh).\n",
    "\n",
    "---\n",
    "---"
   ]
  },
  {
   "cell_type": "markdown",
   "id": "7c603889-4d23-4c1d-8e4d-8d45d1a72da4",
   "metadata": {},
   "source": [
    "### Table of Contents<a id='toc_6'></a>\n",
    "\n",
    "<a href='#data_prep'>1. Data Preprocessing</a>\n",
    "\n",
    "~<a href='#build_model'>2. Build Model</a>~ Straight to Random Search!\n",
    "\n",
    "<a href='#random_search'>3. Random Hyperparameter Search</a>\n",
    "\n",
    "<a href='#summary'>4. Summary</a>\n",
    "\n",
    "<a href='#6_wrapup'>5. Wrap Up `XGBoost`</a>\n",
    "\n",
    "...\n",
    "\n",
    "<a href='#6_the_end'>Go to the End</a>\n",
    "\n",
    "\n",
    "<span style=\"font-size:0.75em;\">Note that some hyperlinks in this notebook may only work in a local context.</span>\n",
    "\n",
    "---"
   ]
  },
  {
   "cell_type": "markdown",
   "id": "4fcfd9aa-eac1-4789-af6d-cf5700a82979",
   "metadata": {},
   "source": [
    "---  \n",
    "\n",
    "<span style=\"font-size:0.5em;\">Tag 1</span>\n",
    "\n",
    "### Data Preprocessing<a id='data_prep'></a>\n",
    "\n",
    "<span style=\"font-size:0.5em;\"><a href='#toc_6'>Back to TOC</a></span>\n"
   ]
  },
  {
   "cell_type": "markdown",
   "id": "053be28f-4156-45c6-8a93-99c50dd76e39",
   "metadata": {},
   "source": [
    "#### Libraries\n"
   ]
  },
  {
   "cell_type": "code",
   "execution_count": 1,
   "id": "907b6406-cf7b-41c0-baca-5095c77e7b17",
   "metadata": {},
   "outputs": [
    {
     "name": "stderr",
     "output_type": "stream",
     "text": [
      "2022-05-12 12:57:49.706741: W tensorflow/stream_executor/platform/default/dso_loader.cc:64] Could not load dynamic library 'libcudart.so.11.0'; dlerror: libcudart.so.11.0: cannot open shared object file: No such file or directory\n",
      "2022-05-12 12:57:49.706769: I tensorflow/stream_executor/cuda/cudart_stub.cc:29] Ignore above cudart dlerror if you do not have a GPU set up on your machine.\n"
     ]
    }
   ],
   "source": [
    "# Data wrangling and operations\n",
    "import pandas as pd\n",
    "import numpy as np\n",
    "from datetime import datetime, timezone\n",
    "import pytz\n",
    "import pickle\n",
    "\n",
    "# Visualization\n",
    "import matplotlib.pyplot as plt\n",
    "import seaborn as sns\n",
    "\n",
    "# try:\n",
    "#     import plotly_express as pex\n",
    "# except ImportError:\n",
    "#     !pip install plotly_express\n",
    "# except ModuleNotFoundError:\n",
    "#     !pip install plotly_express\n",
    "\n",
    "# Estimators\n",
    "from sklearn.linear_model import LinearRegression\n",
    "from sklearn.linear_model import LogisticRegression\n",
    "import xgboost as xgb\n",
    "from xgboost import XGBClassifier\n",
    "from sklearn.tree import DecisionTreeClassifier\n",
    "from sklearn.ensemble import BaggingClassifier, RandomForestClassifier\n",
    "from sklearn.ensemble import GradientBoostingClassifier\n",
    "from sklearn.base import BaseEstimator\n",
    "\n",
    "# Processing\n",
    "from sklearn.preprocessing import OneHotEncoder\n",
    "from sklearn.preprocessing import LabelBinarizer\n",
    "from sklearn.preprocessing import StandardScaler\n",
    "from sklearn.compose import ColumnTransformer\n",
    "from sklearn.model_selection import GridSearchCV\n",
    "from sklearn.model_selection import RandomizedSearchCV\n",
    "\n",
    "# Assessment\n",
    "from sklearn.pipeline import Pipeline\n",
    "from sklearn.model_selection import train_test_split\n",
    "from sklearn.model_selection import cross_val_score\n",
    "from sklearn.metrics import accuracy_score\n",
    "from sklearn.metrics import mean_squared_error, mean_absolute_error\n",
    "from sklearn.metrics import f1_score\n",
    "from sklearn.metrics import confusion_matrix\n",
    "from sklearn.metrics import recall_score, precision_score, auc\n",
    "from sklearn.metrics import roc_curve, RocCurveDisplay\n",
    "\n",
    "# Custom\n",
    "from project_helpers import DummyEstimator"
   ]
  },
  {
   "cell_type": "markdown",
   "id": "987afa32-26cc-421f-bfdd-dd2cd8a29e62",
   "metadata": {},
   "source": [
    "---\n",
    "\n",
    "#### Data Import \n",
    "\n",
    "Retrieve the latest version of our train/test files that we built during [initial exploration](./02_data_exploration.ipynb)."
   ]
  },
  {
   "cell_type": "code",
   "execution_count": 2,
   "id": "56973127-9122-4525-9194-c3545f95384f",
   "metadata": {},
   "outputs": [],
   "source": [
    "df_train = pd.read_pickle('../data/train_enriched.pkl')\n",
    "df_test = pd.read_pickle('../data/test_enriched.pkl')"
   ]
  },
  {
   "cell_type": "markdown",
   "id": "a0999ceb-8cfd-40a1-98c5-97162be73173",
   "metadata": {},
   "source": [
    "Let's refamiliarize ourselves with the features."
   ]
  },
  {
   "cell_type": "code",
   "execution_count": 3,
   "id": "ac6b3a5a-8999-4e9f-9c09-9b14b30813bb",
   "metadata": {},
   "outputs": [
    {
     "name": "stdout",
     "output_type": "stream",
     "text": [
      "<class 'pandas.core.frame.DataFrame'>\n",
      "Int64Index: 350959 entries, 0 to 354038\n",
      "Data columns (total 31 columns):\n",
      " #   Column                Non-Null Count   Dtype         \n",
      "---  ------                --------------   -----         \n",
      " 0   pitch_id              350959 non-null  object        \n",
      " 1   inning                350959 non-null  int64         \n",
      " 2   side                  350959 non-null  object        \n",
      " 3   run_diff              350959 non-null  int64         \n",
      " 4   at_bat_index          350959 non-null  int64         \n",
      " 5   pitch_of_ab           350959 non-null  int64         \n",
      " 6   batter                350959 non-null  int64         \n",
      " 7   pitcher               350959 non-null  int64         \n",
      " 8   catcher               350959 non-null  int64         \n",
      " 9   umpire                350959 non-null  int64         \n",
      " 10  bside                 350959 non-null  object        \n",
      " 11  pside                 350959 non-null  object        \n",
      " 12  stringer_zone_bottom  350959 non-null  float64       \n",
      " 13  stringer_zone_top     350959 non-null  float64       \n",
      " 14  on_1b_mlbid           106013 non-null  float64       \n",
      " 15  on_2b_mlbid           64287 non-null   float64       \n",
      " 16  on_3b_mlbid           31158 non-null   float64       \n",
      " 17  outs                  350959 non-null  int64         \n",
      " 18  balls                 350959 non-null  int64         \n",
      " 19  strikes               350959 non-null  int64         \n",
      " 20  pitch_speed           350959 non-null  float64       \n",
      " 21  px                    350959 non-null  float64       \n",
      " 22  pz                    350959 non-null  float64       \n",
      " 23  break_x               350959 non-null  float64       \n",
      " 24  break_z               350959 non-null  float64       \n",
      " 25  angle_x               350959 non-null  float64       \n",
      " 26  angle_z               350959 non-null  float64       \n",
      " 27  pitch_type            350959 non-null  object        \n",
      " 28  strike_bool           350959 non-null  int64         \n",
      " 29  game_date_dt          350959 non-null  datetime64[ns]\n",
      " 30  strike_bool_tf        350959 non-null  bool          \n",
      "dtypes: bool(1), datetime64[ns](1), float64(12), int64(12), object(5)\n",
      "memory usage: 83.3+ MB\n"
     ]
    }
   ],
   "source": [
    "df_train.info()"
   ]
  },
  {
   "cell_type": "markdown",
   "id": "c40f40c9-a8e1-481f-8695-767b80df332f",
   "metadata": {},
   "source": [
    "---\n",
    "\n",
    "#### Feature Selection and Prep, revisited\n",
    "\n",
    "Select features:"
   ]
  },
  {
   "cell_type": "markdown",
   "id": "e4f2815c-a590-445b-b633-2ce66fb878e6",
   "metadata": {},
   "source": [
    "For our initial super simple model, we had picked just four features: \n",
    "- `px` which is the horizontal location of the pitch at the plate\n",
    "- `pz` which is the vertical location\n",
    "- `stringer_zone_bottom` which is an estimate of current batter's strike zone bottom\n",
    "- `stringer_zone_top` which is an estimate of current batter's strike zone top"
   ]
  },
  {
   "cell_type": "code",
   "execution_count": 4,
   "id": "38506c32-d1a1-4bb3-ba0a-0968153418f5",
   "metadata": {},
   "outputs": [],
   "source": [
    "# Features selected\n",
    "feat_select = ['px', 'pz', 'stringer_zone_bottom', 'stringer_zone_top']"
   ]
  },
  {
   "cell_type": "markdown",
   "id": "c20eabfa-5e70-4269-b37e-d5aab577593c",
   "metadata": {},
   "source": [
    "But as mentioned in the intro, I want to try adding `bside` and `pside`, as well as vertical/horizontal breaks and angles (`break_x`, `break_z`, `angle_x`, `angle_z`), and `pitch_speed`. "
   ]
  },
  {
   "cell_type": "markdown",
   "id": "4a923ba1-1c96-4a18-ba32-8b349fb779af",
   "metadata": {},
   "source": [
    "##### Adding `break_x`, `break_z`, `angle_x`, `angle_z`, `pitch_speed`\n",
    "\n",
    "These are numeric so I will add on to `feat_select`"
   ]
  },
  {
   "cell_type": "code",
   "execution_count": 5,
   "id": "67287484-f02f-4435-9885-6df0e6a4779c",
   "metadata": {},
   "outputs": [
    {
     "data": {
      "text/plain": [
       "['angle_z',\n",
       " 'pitch_speed',\n",
       " 'px',\n",
       " 'angle_x',\n",
       " 'break_z',\n",
       " 'stringer_zone_top',\n",
       " 'break_x',\n",
       " 'stringer_zone_bottom',\n",
       " 'pz']"
      ]
     },
     "metadata": {},
     "output_type": "display_data"
    }
   ],
   "source": [
    "feat_select = feat_select + ['break_x', 'break_z', 'angle_x', 'angle_z', 'pitch_speed']\n",
    "feat_select = list(set(feat_select)) #Just to ensure no dupes if this cell gets executed again\n",
    "display(feat_select)"
   ]
  },
  {
   "cell_type": "markdown",
   "id": "a7fc4e27-662e-43de-879b-c48918a3e38f",
   "metadata": {},
   "source": [
    "##### Adding `b_side`, `p_side`\n",
    "\n",
    "These are strings so I will one-hot encode them."
   ]
  },
  {
   "cell_type": "code",
   "execution_count": 6,
   "id": "99c9fb2c-cc09-49dd-bf51-085463a9a8c3",
   "metadata": {},
   "outputs": [],
   "source": [
    "feat_cat_select = ['bside', 'pside']"
   ]
  },
  {
   "cell_type": "code",
   "execution_count": 7,
   "id": "ea566257-25aa-4ddf-bcde-f00cbb9d416c",
   "metadata": {},
   "outputs": [],
   "source": [
    "df_train_cat_ohe = pd.get_dummies(df_train[feat_cat_select])"
   ]
  },
  {
   "cell_type": "code",
   "execution_count": 8,
   "id": "0effabf6-ab9c-495b-a4a4-1167ca7e966b",
   "metadata": {},
   "outputs": [
    {
     "data": {
      "application/com.datacamp.data-table.v1+json": {
       "is_truncated": false,
       "table": {
        "data": [
         {
          "bside_L": 0,
          "bside_R": 1,
          "index": 0,
          "pside_L": 1,
          "pside_R": 0
         },
         {
          "bside_L": 1,
          "bside_R": 0,
          "index": 1,
          "pside_L": 0,
          "pside_R": 1
         },
         {
          "bside_L": 1,
          "bside_R": 0,
          "index": 2,
          "pside_L": 1,
          "pside_R": 0
         }
        ],
        "schema": {
         "fields": [
          {
           "name": "index",
           "type": "integer"
          },
          {
           "name": "bside_L",
           "type": "integer"
          },
          {
           "name": "bside_R",
           "type": "integer"
          },
          {
           "name": "pside_L",
           "type": "integer"
          },
          {
           "name": "pside_R",
           "type": "integer"
          }
         ],
         "pandas_version": "0.20.0",
         "primaryKey": [
          "index"
         ]
        }
       },
       "total_rows": 3
      },
      "text/html": [
       "<div>\n",
       "<style scoped>\n",
       "    .dataframe tbody tr th:only-of-type {\n",
       "        vertical-align: middle;\n",
       "    }\n",
       "\n",
       "    .dataframe tbody tr th {\n",
       "        vertical-align: top;\n",
       "    }\n",
       "\n",
       "    .dataframe thead th {\n",
       "        text-align: right;\n",
       "    }\n",
       "</style>\n",
       "<table border=\"1\" class=\"dataframe\">\n",
       "  <thead>\n",
       "    <tr style=\"text-align: right;\">\n",
       "      <th></th>\n",
       "      <th>bside_L</th>\n",
       "      <th>bside_R</th>\n",
       "      <th>pside_L</th>\n",
       "      <th>pside_R</th>\n",
       "    </tr>\n",
       "  </thead>\n",
       "  <tbody>\n",
       "    <tr>\n",
       "      <th>0</th>\n",
       "      <td>0</td>\n",
       "      <td>1</td>\n",
       "      <td>1</td>\n",
       "      <td>0</td>\n",
       "    </tr>\n",
       "    <tr>\n",
       "      <th>1</th>\n",
       "      <td>1</td>\n",
       "      <td>0</td>\n",
       "      <td>0</td>\n",
       "      <td>1</td>\n",
       "    </tr>\n",
       "    <tr>\n",
       "      <th>2</th>\n",
       "      <td>1</td>\n",
       "      <td>0</td>\n",
       "      <td>1</td>\n",
       "      <td>0</td>\n",
       "    </tr>\n",
       "  </tbody>\n",
       "</table>\n",
       "</div>"
      ],
      "text/plain": [
       "   bside_L  bside_R  pside_L  pside_R\n",
       "0        0        1        1        0\n",
       "1        1        0        0        1\n",
       "2        1        0        1        0"
      ]
     },
     "execution_count": 8,
     "metadata": {},
     "output_type": "execute_result"
    }
   ],
   "source": [
    "df_train_cat_ohe.head(3)"
   ]
  },
  {
   "cell_type": "code",
   "execution_count": 9,
   "id": "5678f19d-12ed-4047-a3f3-575f63c5c209",
   "metadata": {},
   "outputs": [
    {
     "data": {
      "text/plain": [
       "(350959, 4)"
      ]
     },
     "execution_count": 9,
     "metadata": {},
     "output_type": "execute_result"
    }
   ],
   "source": [
    "df_train_cat_ohe.shape"
   ]
  },
  {
   "cell_type": "markdown",
   "id": "d15574e0-60b0-4385-be19-d0786af47677",
   "metadata": {},
   "source": [
    "Prep features:\n",
    "\n",
    "Gather up all the selected features."
   ]
  },
  {
   "cell_type": "code",
   "execution_count": 10,
   "id": "b000ae21-12ac-4ee9-9ca8-8ce9445c1bc1",
   "metadata": {},
   "outputs": [
    {
     "name": "stdout",
     "output_type": "stream",
     "text": [
      "<class 'pandas.core.frame.DataFrame'>\n",
      "Int64Index: 350959 entries, 0 to 354038\n",
      "Data columns (total 13 columns):\n",
      " #   Column                Non-Null Count   Dtype  \n",
      "---  ------                --------------   -----  \n",
      " 0   angle_z               350959 non-null  float64\n",
      " 1   pitch_speed           350959 non-null  float64\n",
      " 2   px                    350959 non-null  float64\n",
      " 3   angle_x               350959 non-null  float64\n",
      " 4   break_z               350959 non-null  float64\n",
      " 5   stringer_zone_top     350959 non-null  float64\n",
      " 6   break_x               350959 non-null  float64\n",
      " 7   stringer_zone_bottom  350959 non-null  float64\n",
      " 8   pz                    350959 non-null  float64\n",
      " 9   bside_L               350959 non-null  uint8  \n",
      " 10  bside_R               350959 non-null  uint8  \n",
      " 11  pside_L               350959 non-null  uint8  \n",
      " 12  pside_R               350959 non-null  uint8  \n",
      "dtypes: float64(9), uint8(4)\n",
      "memory usage: 28.1 MB\n"
     ]
    },
    {
     "data": {
      "text/plain": [
       "None"
      ]
     },
     "metadata": {},
     "output_type": "display_data"
    }
   ],
   "source": [
    "# Get just the selected features\n",
    "df_X = pd.concat([df_train[feat_select], df_train_cat_ohe], axis=1)\n",
    "# df_X = df_train_cat_ohe.copy()\n",
    "display(df_X.info())"
   ]
  },
  {
   "cell_type": "code",
   "execution_count": 11,
   "id": "e44045e8-2a8b-4e6f-9e3f-ed286ac3c4d1",
   "metadata": {},
   "outputs": [
    {
     "data": {
      "application/com.datacamp.data-table.v1+json": {
       "is_truncated": false,
       "table": {
        "data": [
         {
          "angle_x": 3.02727,
          "angle_z": 5.59379,
          "break_x": 1.91535,
          "break_z": -9.54142,
          "bside_L": 0,
          "bside_R": 1,
          "index": 0,
          "pitch_speed": 97.4298,
          "pside_L": 1,
          "pside_R": 0,
          "px": -1.2981,
          "pz": 2.30217,
          "stringer_zone_bottom": 1.56,
          "stringer_zone_top": 3.41
         },
         {
          "angle_x": -1.56782,
          "angle_z": 6.86676,
          "break_x": -12.1373,
          "break_z": -21.9427,
          "bside_L": 1,
          "bside_R": 0,
          "index": 1,
          "pitch_speed": 91.7712,
          "pside_L": 0,
          "pside_R": 1,
          "px": 1.41222,
          "pz": 1.57443,
          "stringer_zone_bottom": 1.59,
          "stringer_zone_top": 3.47
         },
         {
          "angle_x": 2.04966,
          "angle_z": 7.17281,
          "break_x": -0.992261,
          "break_z": -25.5107,
          "bside_L": 1,
          "bside_R": 0,
          "index": 2,
          "pitch_speed": 87.813,
          "pside_L": 1,
          "pside_R": 0,
          "px": -0.18119,
          "pz": 2.11248,
          "stringer_zone_bottom": 1.68,
          "stringer_zone_top": 3.58
         },
         {
          "angle_x": 2.96845,
          "angle_z": 8.50392,
          "break_x": -2.8393,
          "break_z": -27.2509,
          "bside_L": 0,
          "bside_R": 1,
          "index": 3,
          "pitch_speed": 86.5546,
          "pside_L": 1,
          "pside_R": 0,
          "px": -0.885538,
          "pz": 0.598692,
          "stringer_zone_bottom": 1.63,
          "stringer_zone_top": 3.55
         },
         {
          "angle_x": -1.6463,
          "angle_z": 9.33291,
          "break_x": 8.90615,
          "break_z": -59.4133,
          "bside_L": 1,
          "bside_R": 0,
          "index": 5,
          "pitch_speed": 72.0904,
          "pside_L": 0,
          "pside_R": 1,
          "px": -1.45954,
          "pz": 3.39951,
          "stringer_zone_bottom": 1.5,
          "stringer_zone_top": 3.3
         }
        ],
        "schema": {
         "fields": [
          {
           "name": "index",
           "type": "integer"
          },
          {
           "name": "angle_z",
           "type": "number"
          },
          {
           "name": "pitch_speed",
           "type": "number"
          },
          {
           "name": "px",
           "type": "number"
          },
          {
           "name": "angle_x",
           "type": "number"
          },
          {
           "name": "break_z",
           "type": "number"
          },
          {
           "name": "stringer_zone_top",
           "type": "number"
          },
          {
           "name": "break_x",
           "type": "number"
          },
          {
           "name": "stringer_zone_bottom",
           "type": "number"
          },
          {
           "name": "pz",
           "type": "number"
          },
          {
           "name": "bside_L",
           "type": "integer"
          },
          {
           "name": "bside_R",
           "type": "integer"
          },
          {
           "name": "pside_L",
           "type": "integer"
          },
          {
           "name": "pside_R",
           "type": "integer"
          }
         ],
         "pandas_version": "0.20.0",
         "primaryKey": [
          "index"
         ]
        }
       },
       "total_rows": 5
      },
      "text/html": [
       "<div>\n",
       "<style scoped>\n",
       "    .dataframe tbody tr th:only-of-type {\n",
       "        vertical-align: middle;\n",
       "    }\n",
       "\n",
       "    .dataframe tbody tr th {\n",
       "        vertical-align: top;\n",
       "    }\n",
       "\n",
       "    .dataframe thead th {\n",
       "        text-align: right;\n",
       "    }\n",
       "</style>\n",
       "<table border=\"1\" class=\"dataframe\">\n",
       "  <thead>\n",
       "    <tr style=\"text-align: right;\">\n",
       "      <th></th>\n",
       "      <th>angle_z</th>\n",
       "      <th>pitch_speed</th>\n",
       "      <th>px</th>\n",
       "      <th>angle_x</th>\n",
       "      <th>break_z</th>\n",
       "      <th>stringer_zone_top</th>\n",
       "      <th>break_x</th>\n",
       "      <th>stringer_zone_bottom</th>\n",
       "      <th>pz</th>\n",
       "      <th>bside_L</th>\n",
       "      <th>bside_R</th>\n",
       "      <th>pside_L</th>\n",
       "      <th>pside_R</th>\n",
       "    </tr>\n",
       "  </thead>\n",
       "  <tbody>\n",
       "    <tr>\n",
       "      <th>0</th>\n",
       "      <td>5.59379</td>\n",
       "      <td>97.4298</td>\n",
       "      <td>-1.298100</td>\n",
       "      <td>3.02727</td>\n",
       "      <td>-9.54142</td>\n",
       "      <td>3.41</td>\n",
       "      <td>1.915350</td>\n",
       "      <td>1.56</td>\n",
       "      <td>2.302170</td>\n",
       "      <td>0</td>\n",
       "      <td>1</td>\n",
       "      <td>1</td>\n",
       "      <td>0</td>\n",
       "    </tr>\n",
       "    <tr>\n",
       "      <th>1</th>\n",
       "      <td>6.86676</td>\n",
       "      <td>91.7712</td>\n",
       "      <td>1.412220</td>\n",
       "      <td>-1.56782</td>\n",
       "      <td>-21.94270</td>\n",
       "      <td>3.47</td>\n",
       "      <td>-12.137300</td>\n",
       "      <td>1.59</td>\n",
       "      <td>1.574430</td>\n",
       "      <td>1</td>\n",
       "      <td>0</td>\n",
       "      <td>0</td>\n",
       "      <td>1</td>\n",
       "    </tr>\n",
       "    <tr>\n",
       "      <th>2</th>\n",
       "      <td>7.17281</td>\n",
       "      <td>87.8130</td>\n",
       "      <td>-0.181190</td>\n",
       "      <td>2.04966</td>\n",
       "      <td>-25.51070</td>\n",
       "      <td>3.58</td>\n",
       "      <td>-0.992261</td>\n",
       "      <td>1.68</td>\n",
       "      <td>2.112480</td>\n",
       "      <td>1</td>\n",
       "      <td>0</td>\n",
       "      <td>1</td>\n",
       "      <td>0</td>\n",
       "    </tr>\n",
       "    <tr>\n",
       "      <th>3</th>\n",
       "      <td>8.50392</td>\n",
       "      <td>86.5546</td>\n",
       "      <td>-0.885538</td>\n",
       "      <td>2.96845</td>\n",
       "      <td>-27.25090</td>\n",
       "      <td>3.55</td>\n",
       "      <td>-2.839300</td>\n",
       "      <td>1.63</td>\n",
       "      <td>0.598692</td>\n",
       "      <td>0</td>\n",
       "      <td>1</td>\n",
       "      <td>1</td>\n",
       "      <td>0</td>\n",
       "    </tr>\n",
       "    <tr>\n",
       "      <th>5</th>\n",
       "      <td>9.33291</td>\n",
       "      <td>72.0904</td>\n",
       "      <td>-1.459540</td>\n",
       "      <td>-1.64630</td>\n",
       "      <td>-59.41330</td>\n",
       "      <td>3.30</td>\n",
       "      <td>8.906150</td>\n",
       "      <td>1.50</td>\n",
       "      <td>3.399510</td>\n",
       "      <td>1</td>\n",
       "      <td>0</td>\n",
       "      <td>0</td>\n",
       "      <td>1</td>\n",
       "    </tr>\n",
       "  </tbody>\n",
       "</table>\n",
       "</div>"
      ],
      "text/plain": [
       "   angle_z  pitch_speed        px  angle_x   break_z  stringer_zone_top  \\\n",
       "0  5.59379      97.4298 -1.298100  3.02727  -9.54142               3.41   \n",
       "1  6.86676      91.7712  1.412220 -1.56782 -21.94270               3.47   \n",
       "2  7.17281      87.8130 -0.181190  2.04966 -25.51070               3.58   \n",
       "3  8.50392      86.5546 -0.885538  2.96845 -27.25090               3.55   \n",
       "5  9.33291      72.0904 -1.459540 -1.64630 -59.41330               3.30   \n",
       "\n",
       "     break_x  stringer_zone_bottom        pz  bside_L  bside_R  pside_L  \\\n",
       "0   1.915350                  1.56  2.302170        0        1        1   \n",
       "1 -12.137300                  1.59  1.574430        1        0        0   \n",
       "2  -0.992261                  1.68  2.112480        1        0        1   \n",
       "3  -2.839300                  1.63  0.598692        0        1        1   \n",
       "5   8.906150                  1.50  3.399510        1        0        0   \n",
       "\n",
       "   pside_R  \n",
       "0        0  \n",
       "1        1  \n",
       "2        0  \n",
       "3        0  \n",
       "5        1  "
      ]
     },
     "execution_count": 11,
     "metadata": {},
     "output_type": "execute_result"
    }
   ],
   "source": [
    "df_X.head()"
   ]
  },
  {
   "cell_type": "code",
   "execution_count": 12,
   "id": "f6e8fd70-39ad-459e-b29b-bedb6eb73a66",
   "metadata": {},
   "outputs": [
    {
     "data": {
      "text/plain": [
       "['angle_x',\n",
       " 'angle_z',\n",
       " 'break_x',\n",
       " 'break_z',\n",
       " 'bside_L',\n",
       " 'bside_R',\n",
       " 'pitch_speed',\n",
       " 'pside_L',\n",
       " 'pside_R',\n",
       " 'px',\n",
       " 'pz',\n",
       " 'stringer_zone_bottom',\n",
       " 'stringer_zone_top']"
      ]
     },
     "execution_count": 12,
     "metadata": {},
     "output_type": "execute_result"
    }
   ],
   "source": [
    "col_primary_order = list(df_X.columns)\n",
    "col_primary_order.sort()\n",
    "col_primary_order"
   ]
  },
  {
   "cell_type": "code",
   "execution_count": 13,
   "id": "fde5de63-4f6a-4d84-8722-014fff6f2ea8",
   "metadata": {},
   "outputs": [],
   "source": [
    "df_X = df_X[col_primary_order]"
   ]
  },
  {
   "cell_type": "code",
   "execution_count": 14,
   "id": "e13218dd-0bd8-46f0-9e7e-24105f3b5c07",
   "metadata": {},
   "outputs": [
    {
     "data": {
      "application/com.datacamp.data-table.v1+json": {
       "is_truncated": false,
       "table": {
        "data": [
         {
          "angle_x": 3.02727,
          "angle_z": 5.59379,
          "break_x": 1.91535,
          "break_z": -9.54142,
          "bside_L": 0,
          "bside_R": 1,
          "index": 0,
          "pitch_speed": 97.4298,
          "pside_L": 1,
          "pside_R": 0,
          "px": -1.2981,
          "pz": 2.30217,
          "stringer_zone_bottom": 1.56,
          "stringer_zone_top": 3.41
         },
         {
          "angle_x": -1.56782,
          "angle_z": 6.86676,
          "break_x": -12.1373,
          "break_z": -21.9427,
          "bside_L": 1,
          "bside_R": 0,
          "index": 1,
          "pitch_speed": 91.7712,
          "pside_L": 0,
          "pside_R": 1,
          "px": 1.41222,
          "pz": 1.57443,
          "stringer_zone_bottom": 1.59,
          "stringer_zone_top": 3.47
         },
         {
          "angle_x": 2.04966,
          "angle_z": 7.17281,
          "break_x": -0.992261,
          "break_z": -25.5107,
          "bside_L": 1,
          "bside_R": 0,
          "index": 2,
          "pitch_speed": 87.813,
          "pside_L": 1,
          "pside_R": 0,
          "px": -0.18119,
          "pz": 2.11248,
          "stringer_zone_bottom": 1.68,
          "stringer_zone_top": 3.58
         },
         {
          "angle_x": 2.96845,
          "angle_z": 8.50392,
          "break_x": -2.8393,
          "break_z": -27.2509,
          "bside_L": 0,
          "bside_R": 1,
          "index": 3,
          "pitch_speed": 86.5546,
          "pside_L": 1,
          "pside_R": 0,
          "px": -0.885538,
          "pz": 0.598692,
          "stringer_zone_bottom": 1.63,
          "stringer_zone_top": 3.55
         },
         {
          "angle_x": -1.6463,
          "angle_z": 9.33291,
          "break_x": 8.90615,
          "break_z": -59.4133,
          "bside_L": 1,
          "bside_R": 0,
          "index": 5,
          "pitch_speed": 72.0904,
          "pside_L": 0,
          "pside_R": 1,
          "px": -1.45954,
          "pz": 3.39951,
          "stringer_zone_bottom": 1.5,
          "stringer_zone_top": 3.3
         }
        ],
        "schema": {
         "fields": [
          {
           "name": "index",
           "type": "integer"
          },
          {
           "name": "angle_x",
           "type": "number"
          },
          {
           "name": "angle_z",
           "type": "number"
          },
          {
           "name": "break_x",
           "type": "number"
          },
          {
           "name": "break_z",
           "type": "number"
          },
          {
           "name": "bside_L",
           "type": "integer"
          },
          {
           "name": "bside_R",
           "type": "integer"
          },
          {
           "name": "pitch_speed",
           "type": "number"
          },
          {
           "name": "pside_L",
           "type": "integer"
          },
          {
           "name": "pside_R",
           "type": "integer"
          },
          {
           "name": "px",
           "type": "number"
          },
          {
           "name": "pz",
           "type": "number"
          },
          {
           "name": "stringer_zone_bottom",
           "type": "number"
          },
          {
           "name": "stringer_zone_top",
           "type": "number"
          }
         ],
         "pandas_version": "0.20.0",
         "primaryKey": [
          "index"
         ]
        }
       },
       "total_rows": 5
      },
      "text/html": [
       "<div>\n",
       "<style scoped>\n",
       "    .dataframe tbody tr th:only-of-type {\n",
       "        vertical-align: middle;\n",
       "    }\n",
       "\n",
       "    .dataframe tbody tr th {\n",
       "        vertical-align: top;\n",
       "    }\n",
       "\n",
       "    .dataframe thead th {\n",
       "        text-align: right;\n",
       "    }\n",
       "</style>\n",
       "<table border=\"1\" class=\"dataframe\">\n",
       "  <thead>\n",
       "    <tr style=\"text-align: right;\">\n",
       "      <th></th>\n",
       "      <th>angle_x</th>\n",
       "      <th>angle_z</th>\n",
       "      <th>break_x</th>\n",
       "      <th>break_z</th>\n",
       "      <th>bside_L</th>\n",
       "      <th>bside_R</th>\n",
       "      <th>pitch_speed</th>\n",
       "      <th>pside_L</th>\n",
       "      <th>pside_R</th>\n",
       "      <th>px</th>\n",
       "      <th>pz</th>\n",
       "      <th>stringer_zone_bottom</th>\n",
       "      <th>stringer_zone_top</th>\n",
       "    </tr>\n",
       "  </thead>\n",
       "  <tbody>\n",
       "    <tr>\n",
       "      <th>0</th>\n",
       "      <td>3.02727</td>\n",
       "      <td>5.59379</td>\n",
       "      <td>1.915350</td>\n",
       "      <td>-9.54142</td>\n",
       "      <td>0</td>\n",
       "      <td>1</td>\n",
       "      <td>97.4298</td>\n",
       "      <td>1</td>\n",
       "      <td>0</td>\n",
       "      <td>-1.298100</td>\n",
       "      <td>2.302170</td>\n",
       "      <td>1.56</td>\n",
       "      <td>3.41</td>\n",
       "    </tr>\n",
       "    <tr>\n",
       "      <th>1</th>\n",
       "      <td>-1.56782</td>\n",
       "      <td>6.86676</td>\n",
       "      <td>-12.137300</td>\n",
       "      <td>-21.94270</td>\n",
       "      <td>1</td>\n",
       "      <td>0</td>\n",
       "      <td>91.7712</td>\n",
       "      <td>0</td>\n",
       "      <td>1</td>\n",
       "      <td>1.412220</td>\n",
       "      <td>1.574430</td>\n",
       "      <td>1.59</td>\n",
       "      <td>3.47</td>\n",
       "    </tr>\n",
       "    <tr>\n",
       "      <th>2</th>\n",
       "      <td>2.04966</td>\n",
       "      <td>7.17281</td>\n",
       "      <td>-0.992261</td>\n",
       "      <td>-25.51070</td>\n",
       "      <td>1</td>\n",
       "      <td>0</td>\n",
       "      <td>87.8130</td>\n",
       "      <td>1</td>\n",
       "      <td>0</td>\n",
       "      <td>-0.181190</td>\n",
       "      <td>2.112480</td>\n",
       "      <td>1.68</td>\n",
       "      <td>3.58</td>\n",
       "    </tr>\n",
       "    <tr>\n",
       "      <th>3</th>\n",
       "      <td>2.96845</td>\n",
       "      <td>8.50392</td>\n",
       "      <td>-2.839300</td>\n",
       "      <td>-27.25090</td>\n",
       "      <td>0</td>\n",
       "      <td>1</td>\n",
       "      <td>86.5546</td>\n",
       "      <td>1</td>\n",
       "      <td>0</td>\n",
       "      <td>-0.885538</td>\n",
       "      <td>0.598692</td>\n",
       "      <td>1.63</td>\n",
       "      <td>3.55</td>\n",
       "    </tr>\n",
       "    <tr>\n",
       "      <th>5</th>\n",
       "      <td>-1.64630</td>\n",
       "      <td>9.33291</td>\n",
       "      <td>8.906150</td>\n",
       "      <td>-59.41330</td>\n",
       "      <td>1</td>\n",
       "      <td>0</td>\n",
       "      <td>72.0904</td>\n",
       "      <td>0</td>\n",
       "      <td>1</td>\n",
       "      <td>-1.459540</td>\n",
       "      <td>3.399510</td>\n",
       "      <td>1.50</td>\n",
       "      <td>3.30</td>\n",
       "    </tr>\n",
       "  </tbody>\n",
       "</table>\n",
       "</div>"
      ],
      "text/plain": [
       "   angle_x  angle_z    break_x   break_z  bside_L  bside_R  pitch_speed  \\\n",
       "0  3.02727  5.59379   1.915350  -9.54142        0        1      97.4298   \n",
       "1 -1.56782  6.86676 -12.137300 -21.94270        1        0      91.7712   \n",
       "2  2.04966  7.17281  -0.992261 -25.51070        1        0      87.8130   \n",
       "3  2.96845  8.50392  -2.839300 -27.25090        0        1      86.5546   \n",
       "5 -1.64630  9.33291   8.906150 -59.41330        1        0      72.0904   \n",
       "\n",
       "   pside_L  pside_R        px        pz  stringer_zone_bottom  \\\n",
       "0        1        0 -1.298100  2.302170                  1.56   \n",
       "1        0        1  1.412220  1.574430                  1.59   \n",
       "2        1        0 -0.181190  2.112480                  1.68   \n",
       "3        1        0 -0.885538  0.598692                  1.63   \n",
       "5        0        1 -1.459540  3.399510                  1.50   \n",
       "\n",
       "   stringer_zone_top  \n",
       "0               3.41  \n",
       "1               3.47  \n",
       "2               3.58  \n",
       "3               3.55  \n",
       "5               3.30  "
      ]
     },
     "execution_count": 14,
     "metadata": {},
     "output_type": "execute_result"
    }
   ],
   "source": [
    "df_X.head()"
   ]
  },
  {
   "cell_type": "markdown",
   "id": "4272f150-d2d1-42f6-8786-28066dbf8105",
   "metadata": {},
   "source": [
    "While we are at it, let's prep our targets:"
   ]
  },
  {
   "cell_type": "code",
   "execution_count": 15,
   "id": "a856e547-9af8-456b-a5cb-41c5296d7e41",
   "metadata": {},
   "outputs": [
    {
     "name": "stdout",
     "output_type": "stream",
     "text": [
      "<class 'pandas.core.frame.DataFrame'>\n",
      "Int64Index: 350959 entries, 0 to 354038\n",
      "Data columns (total 1 columns):\n",
      " #   Column       Non-Null Count   Dtype\n",
      "---  ------       --------------   -----\n",
      " 0   strike_bool  350959 non-null  int64\n",
      "dtypes: int64(1)\n",
      "memory usage: 5.4 MB\n"
     ]
    },
    {
     "data": {
      "text/plain": [
       "None"
      ]
     },
     "metadata": {},
     "output_type": "display_data"
    }
   ],
   "source": [
    "df_y = df_train['strike_bool']\n",
    "display(pd.DataFrame(df_y).info())"
   ]
  },
  {
   "cell_type": "markdown",
   "id": "50c18cfa-7637-4643-bb69-a146b0898a01",
   "metadata": {},
   "source": [
    "##### Prep Holdout\n",
    "\n",
    "Let's also perform the same with our holdout data so we can easily make predictions with our ultimately selected model."
   ]
  },
  {
   "cell_type": "markdown",
   "id": "41044bb7-645f-48b0-8816-77b5589289e7",
   "metadata": {},
   "source": [
    "One hot encoding selected cats:"
   ]
  },
  {
   "cell_type": "code",
   "execution_count": 16,
   "id": "dc738b54-0a2c-48a0-8175-97ca4fb0b6f1",
   "metadata": {},
   "outputs": [],
   "source": [
    "df_hold_cat_ohe = pd.get_dummies(df_test[feat_cat_select])"
   ]
  },
  {
   "cell_type": "code",
   "execution_count": 17,
   "id": "a6a91c54-0206-4d7a-934b-66ca9aa9b2f6",
   "metadata": {},
   "outputs": [
    {
     "data": {
      "application/com.datacamp.data-table.v1+json": {
       "is_truncated": false,
       "table": {
        "data": [
         {
          "bside_L": 1,
          "bside_R": 0,
          "index": 0,
          "pside_L": 0,
          "pside_R": 1
         },
         {
          "bside_L": 0,
          "bside_R": 1,
          "index": 1,
          "pside_L": 1,
          "pside_R": 0
         },
         {
          "bside_L": 0,
          "bside_R": 1,
          "index": 2,
          "pside_L": 0,
          "pside_R": 1
         },
         {
          "bside_L": 0,
          "bside_R": 1,
          "index": 3,
          "pside_L": 1,
          "pside_R": 0
         },
         {
          "bside_L": 0,
          "bside_R": 1,
          "index": 4,
          "pside_L": 0,
          "pside_R": 1
         }
        ],
        "schema": {
         "fields": [
          {
           "name": "index",
           "type": "integer"
          },
          {
           "name": "bside_L",
           "type": "integer"
          },
          {
           "name": "bside_R",
           "type": "integer"
          },
          {
           "name": "pside_L",
           "type": "integer"
          },
          {
           "name": "pside_R",
           "type": "integer"
          }
         ],
         "pandas_version": "0.20.0",
         "primaryKey": [
          "index"
         ]
        }
       },
       "total_rows": 5
      },
      "text/html": [
       "<div>\n",
       "<style scoped>\n",
       "    .dataframe tbody tr th:only-of-type {\n",
       "        vertical-align: middle;\n",
       "    }\n",
       "\n",
       "    .dataframe tbody tr th {\n",
       "        vertical-align: top;\n",
       "    }\n",
       "\n",
       "    .dataframe thead th {\n",
       "        text-align: right;\n",
       "    }\n",
       "</style>\n",
       "<table border=\"1\" class=\"dataframe\">\n",
       "  <thead>\n",
       "    <tr style=\"text-align: right;\">\n",
       "      <th></th>\n",
       "      <th>bside_L</th>\n",
       "      <th>bside_R</th>\n",
       "      <th>pside_L</th>\n",
       "      <th>pside_R</th>\n",
       "    </tr>\n",
       "  </thead>\n",
       "  <tbody>\n",
       "    <tr>\n",
       "      <th>0</th>\n",
       "      <td>1</td>\n",
       "      <td>0</td>\n",
       "      <td>0</td>\n",
       "      <td>1</td>\n",
       "    </tr>\n",
       "    <tr>\n",
       "      <th>1</th>\n",
       "      <td>0</td>\n",
       "      <td>1</td>\n",
       "      <td>1</td>\n",
       "      <td>0</td>\n",
       "    </tr>\n",
       "    <tr>\n",
       "      <th>2</th>\n",
       "      <td>0</td>\n",
       "      <td>1</td>\n",
       "      <td>0</td>\n",
       "      <td>1</td>\n",
       "    </tr>\n",
       "    <tr>\n",
       "      <th>3</th>\n",
       "      <td>0</td>\n",
       "      <td>1</td>\n",
       "      <td>1</td>\n",
       "      <td>0</td>\n",
       "    </tr>\n",
       "    <tr>\n",
       "      <th>4</th>\n",
       "      <td>0</td>\n",
       "      <td>1</td>\n",
       "      <td>0</td>\n",
       "      <td>1</td>\n",
       "    </tr>\n",
       "  </tbody>\n",
       "</table>\n",
       "</div>"
      ],
      "text/plain": [
       "   bside_L  bside_R  pside_L  pside_R\n",
       "0        1        0        0        1\n",
       "1        0        1        1        0\n",
       "2        0        1        0        1\n",
       "3        0        1        1        0\n",
       "4        0        1        0        1"
      ]
     },
     "execution_count": 17,
     "metadata": {},
     "output_type": "execute_result"
    }
   ],
   "source": [
    "df_hold_cat_ohe.head()"
   ]
  },
  {
   "cell_type": "code",
   "execution_count": 18,
   "id": "f5235b93-56de-4c6f-9f9a-39732366e7d4",
   "metadata": {},
   "outputs": [
    {
     "name": "stdout",
     "output_type": "stream",
     "text": [
      "<class 'pandas.core.frame.DataFrame'>\n",
      "RangeIndex: 18633 entries, 0 to 18632\n",
      "Data columns (total 13 columns):\n",
      " #   Column                Non-Null Count  Dtype  \n",
      "---  ------                --------------  -----  \n",
      " 0   angle_z               18633 non-null  float64\n",
      " 1   pitch_speed           18633 non-null  float64\n",
      " 2   px                    18633 non-null  float64\n",
      " 3   angle_x               18633 non-null  float64\n",
      " 4   break_z               18633 non-null  float64\n",
      " 5   stringer_zone_top     18633 non-null  float64\n",
      " 6   break_x               18633 non-null  float64\n",
      " 7   stringer_zone_bottom  18633 non-null  float64\n",
      " 8   pz                    18633 non-null  float64\n",
      " 9   bside_L               18633 non-null  uint8  \n",
      " 10  bside_R               18633 non-null  uint8  \n",
      " 11  pside_L               18633 non-null  uint8  \n",
      " 12  pside_R               18633 non-null  uint8  \n",
      "dtypes: float64(9), uint8(4)\n",
      "memory usage: 1.4 MB\n"
     ]
    },
    {
     "data": {
      "text/plain": [
       "None"
      ]
     },
     "metadata": {},
     "output_type": "display_data"
    }
   ],
   "source": [
    "# Get just the selected features\n",
    "df_holdout = pd.concat([df_test[feat_select], df_hold_cat_ohe], axis=1)\n",
    "# df_X = df_train_cat_ohe.copy()\n",
    "display(df_holdout.info())"
   ]
  },
  {
   "cell_type": "code",
   "execution_count": 19,
   "id": "023ae378-84dd-4c04-aaad-2c54b48c95df",
   "metadata": {},
   "outputs": [
    {
     "data": {
      "application/com.datacamp.data-table.v1+json": {
       "is_truncated": false,
       "table": {
        "data": [
         {
          "angle_x": 3.02727,
          "angle_z": 5.59379,
          "break_x": 1.91535,
          "break_z": -9.54142,
          "bside_L": 0,
          "bside_R": 1,
          "index": 0,
          "pitch_speed": 97.4298,
          "pside_L": 1,
          "pside_R": 0,
          "px": -1.2981,
          "pz": 2.30217,
          "stringer_zone_bottom": 1.56,
          "stringer_zone_top": 3.41
         },
         {
          "angle_x": -1.56782,
          "angle_z": 6.86676,
          "break_x": -12.1373,
          "break_z": -21.9427,
          "bside_L": 1,
          "bside_R": 0,
          "index": 1,
          "pitch_speed": 91.7712,
          "pside_L": 0,
          "pside_R": 1,
          "px": 1.41222,
          "pz": 1.57443,
          "stringer_zone_bottom": 1.59,
          "stringer_zone_top": 3.47
         },
         {
          "angle_x": 2.04966,
          "angle_z": 7.17281,
          "break_x": -0.992261,
          "break_z": -25.5107,
          "bside_L": 1,
          "bside_R": 0,
          "index": 2,
          "pitch_speed": 87.813,
          "pside_L": 1,
          "pside_R": 0,
          "px": -0.18119,
          "pz": 2.11248,
          "stringer_zone_bottom": 1.68,
          "stringer_zone_top": 3.58
         },
         {
          "angle_x": 2.96845,
          "angle_z": 8.50392,
          "break_x": -2.8393,
          "break_z": -27.2509,
          "bside_L": 0,
          "bside_R": 1,
          "index": 3,
          "pitch_speed": 86.5546,
          "pside_L": 1,
          "pside_R": 0,
          "px": -0.885538,
          "pz": 0.598692,
          "stringer_zone_bottom": 1.63,
          "stringer_zone_top": 3.55
         },
         {
          "angle_x": -1.6463,
          "angle_z": 9.33291,
          "break_x": 8.90615,
          "break_z": -59.4133,
          "bside_L": 1,
          "bside_R": 0,
          "index": 5,
          "pitch_speed": 72.0904,
          "pside_L": 0,
          "pside_R": 1,
          "px": -1.45954,
          "pz": 3.39951,
          "stringer_zone_bottom": 1.5,
          "stringer_zone_top": 3.3
         }
        ],
        "schema": {
         "fields": [
          {
           "name": "index",
           "type": "integer"
          },
          {
           "name": "angle_x",
           "type": "number"
          },
          {
           "name": "angle_z",
           "type": "number"
          },
          {
           "name": "break_x",
           "type": "number"
          },
          {
           "name": "break_z",
           "type": "number"
          },
          {
           "name": "bside_L",
           "type": "integer"
          },
          {
           "name": "bside_R",
           "type": "integer"
          },
          {
           "name": "pitch_speed",
           "type": "number"
          },
          {
           "name": "pside_L",
           "type": "integer"
          },
          {
           "name": "pside_R",
           "type": "integer"
          },
          {
           "name": "px",
           "type": "number"
          },
          {
           "name": "pz",
           "type": "number"
          },
          {
           "name": "stringer_zone_bottom",
           "type": "number"
          },
          {
           "name": "stringer_zone_top",
           "type": "number"
          }
         ],
         "pandas_version": "0.20.0",
         "primaryKey": [
          "index"
         ]
        }
       },
       "total_rows": 5
      },
      "text/html": [
       "<div>\n",
       "<style scoped>\n",
       "    .dataframe tbody tr th:only-of-type {\n",
       "        vertical-align: middle;\n",
       "    }\n",
       "\n",
       "    .dataframe tbody tr th {\n",
       "        vertical-align: top;\n",
       "    }\n",
       "\n",
       "    .dataframe thead th {\n",
       "        text-align: right;\n",
       "    }\n",
       "</style>\n",
       "<table border=\"1\" class=\"dataframe\">\n",
       "  <thead>\n",
       "    <tr style=\"text-align: right;\">\n",
       "      <th></th>\n",
       "      <th>angle_x</th>\n",
       "      <th>angle_z</th>\n",
       "      <th>break_x</th>\n",
       "      <th>break_z</th>\n",
       "      <th>bside_L</th>\n",
       "      <th>bside_R</th>\n",
       "      <th>pitch_speed</th>\n",
       "      <th>pside_L</th>\n",
       "      <th>pside_R</th>\n",
       "      <th>px</th>\n",
       "      <th>pz</th>\n",
       "      <th>stringer_zone_bottom</th>\n",
       "      <th>stringer_zone_top</th>\n",
       "    </tr>\n",
       "  </thead>\n",
       "  <tbody>\n",
       "    <tr>\n",
       "      <th>0</th>\n",
       "      <td>3.02727</td>\n",
       "      <td>5.59379</td>\n",
       "      <td>1.915350</td>\n",
       "      <td>-9.54142</td>\n",
       "      <td>0</td>\n",
       "      <td>1</td>\n",
       "      <td>97.4298</td>\n",
       "      <td>1</td>\n",
       "      <td>0</td>\n",
       "      <td>-1.298100</td>\n",
       "      <td>2.302170</td>\n",
       "      <td>1.56</td>\n",
       "      <td>3.41</td>\n",
       "    </tr>\n",
       "    <tr>\n",
       "      <th>1</th>\n",
       "      <td>-1.56782</td>\n",
       "      <td>6.86676</td>\n",
       "      <td>-12.137300</td>\n",
       "      <td>-21.94270</td>\n",
       "      <td>1</td>\n",
       "      <td>0</td>\n",
       "      <td>91.7712</td>\n",
       "      <td>0</td>\n",
       "      <td>1</td>\n",
       "      <td>1.412220</td>\n",
       "      <td>1.574430</td>\n",
       "      <td>1.59</td>\n",
       "      <td>3.47</td>\n",
       "    </tr>\n",
       "    <tr>\n",
       "      <th>2</th>\n",
       "      <td>2.04966</td>\n",
       "      <td>7.17281</td>\n",
       "      <td>-0.992261</td>\n",
       "      <td>-25.51070</td>\n",
       "      <td>1</td>\n",
       "      <td>0</td>\n",
       "      <td>87.8130</td>\n",
       "      <td>1</td>\n",
       "      <td>0</td>\n",
       "      <td>-0.181190</td>\n",
       "      <td>2.112480</td>\n",
       "      <td>1.68</td>\n",
       "      <td>3.58</td>\n",
       "    </tr>\n",
       "    <tr>\n",
       "      <th>3</th>\n",
       "      <td>2.96845</td>\n",
       "      <td>8.50392</td>\n",
       "      <td>-2.839300</td>\n",
       "      <td>-27.25090</td>\n",
       "      <td>0</td>\n",
       "      <td>1</td>\n",
       "      <td>86.5546</td>\n",
       "      <td>1</td>\n",
       "      <td>0</td>\n",
       "      <td>-0.885538</td>\n",
       "      <td>0.598692</td>\n",
       "      <td>1.63</td>\n",
       "      <td>3.55</td>\n",
       "    </tr>\n",
       "    <tr>\n",
       "      <th>5</th>\n",
       "      <td>-1.64630</td>\n",
       "      <td>9.33291</td>\n",
       "      <td>8.906150</td>\n",
       "      <td>-59.41330</td>\n",
       "      <td>1</td>\n",
       "      <td>0</td>\n",
       "      <td>72.0904</td>\n",
       "      <td>0</td>\n",
       "      <td>1</td>\n",
       "      <td>-1.459540</td>\n",
       "      <td>3.399510</td>\n",
       "      <td>1.50</td>\n",
       "      <td>3.30</td>\n",
       "    </tr>\n",
       "  </tbody>\n",
       "</table>\n",
       "</div>"
      ],
      "text/plain": [
       "   angle_x  angle_z    break_x   break_z  bside_L  bside_R  pitch_speed  \\\n",
       "0  3.02727  5.59379   1.915350  -9.54142        0        1      97.4298   \n",
       "1 -1.56782  6.86676 -12.137300 -21.94270        1        0      91.7712   \n",
       "2  2.04966  7.17281  -0.992261 -25.51070        1        0      87.8130   \n",
       "3  2.96845  8.50392  -2.839300 -27.25090        0        1      86.5546   \n",
       "5 -1.64630  9.33291   8.906150 -59.41330        1        0      72.0904   \n",
       "\n",
       "   pside_L  pside_R        px        pz  stringer_zone_bottom  \\\n",
       "0        1        0 -1.298100  2.302170                  1.56   \n",
       "1        0        1  1.412220  1.574430                  1.59   \n",
       "2        1        0 -0.181190  2.112480                  1.68   \n",
       "3        1        0 -0.885538  0.598692                  1.63   \n",
       "5        0        1 -1.459540  3.399510                  1.50   \n",
       "\n",
       "   stringer_zone_top  \n",
       "0               3.41  \n",
       "1               3.47  \n",
       "2               3.58  \n",
       "3               3.55  \n",
       "5               3.30  "
      ]
     },
     "execution_count": 19,
     "metadata": {},
     "output_type": "execute_result"
    }
   ],
   "source": [
    "df_X.head(5)"
   ]
  },
  {
   "cell_type": "code",
   "execution_count": 20,
   "id": "3a1a7fed-99da-4dc0-b678-fb92bf63e057",
   "metadata": {
    "tags": []
   },
   "outputs": [
    {
     "data": {
      "application/com.datacamp.data-table.v1+json": {
       "is_truncated": false,
       "table": {
        "data": [
         {
          "angle_x": -0.26113,
          "angle_z": 8.02184,
          "break_x": -16.1715,
          "break_z": -31.5262,
          "bside_L": 1,
          "bside_R": 0,
          "index": 0,
          "pitch_speed": 88.1309,
          "pside_L": 0,
          "pside_R": 1,
          "px": -0.689798,
          "pz": 0.880993,
          "stringer_zone_bottom": 1.53,
          "stringer_zone_top": 3.37
         },
         {
          "angle_x": -1.28544,
          "angle_z": 2.30556,
          "break_x": 12.7892,
          "break_z": -15.412,
          "bside_L": 0,
          "bside_R": 1,
          "index": 1,
          "pitch_speed": 93.8505,
          "pside_L": 1,
          "pside_R": 0,
          "px": 0.670993,
          "pz": 4.80701,
          "stringer_zone_bottom": 1.53,
          "stringer_zone_top": 3.37
         },
         {
          "angle_x": -3.15206,
          "angle_z": 7.95176,
          "break_x": 6.32436,
          "break_z": -30.0377,
          "bside_L": 0,
          "bside_R": 1,
          "index": 2,
          "pitch_speed": 87.1178,
          "pside_L": 0,
          "pside_R": 1,
          "px": 0.550363,
          "pz": 2.37494,
          "stringer_zone_bottom": 1.56,
          "stringer_zone_top": 3.41
         },
         {
          "angle_x": 0.699183,
          "angle_z": 6.08815,
          "break_x": 12.1115,
          "break_z": -20.9565,
          "bside_L": 0,
          "bside_R": 1,
          "index": 3,
          "pitch_speed": 92.9043,
          "pside_L": 1,
          "pside_R": 0,
          "px": 0.88475,
          "pz": 2.42076,
          "stringer_zone_bottom": 1.59,
          "stringer_zone_top": 3.47
         },
         {
          "angle_x": -2.41876,
          "angle_z": 6.37698,
          "break_x": 0.996405,
          "break_z": -25.6905,
          "bside_L": 0,
          "bside_R": 1,
          "index": 4,
          "pitch_speed": 86.5579,
          "pside_L": 0,
          "pside_R": 1,
          "px": -0.3433,
          "pz": 2.65081,
          "stringer_zone_bottom": 1.47,
          "stringer_zone_top": 3.41
         }
        ],
        "schema": {
         "fields": [
          {
           "name": "index",
           "type": "integer"
          },
          {
           "name": "angle_z",
           "type": "number"
          },
          {
           "name": "pitch_speed",
           "type": "number"
          },
          {
           "name": "px",
           "type": "number"
          },
          {
           "name": "angle_x",
           "type": "number"
          },
          {
           "name": "break_z",
           "type": "number"
          },
          {
           "name": "stringer_zone_top",
           "type": "number"
          },
          {
           "name": "break_x",
           "type": "number"
          },
          {
           "name": "stringer_zone_bottom",
           "type": "number"
          },
          {
           "name": "pz",
           "type": "number"
          },
          {
           "name": "bside_L",
           "type": "integer"
          },
          {
           "name": "bside_R",
           "type": "integer"
          },
          {
           "name": "pside_L",
           "type": "integer"
          },
          {
           "name": "pside_R",
           "type": "integer"
          }
         ],
         "pandas_version": "0.20.0",
         "primaryKey": [
          "index"
         ]
        }
       },
       "total_rows": 5
      },
      "text/html": [
       "<div>\n",
       "<style scoped>\n",
       "    .dataframe tbody tr th:only-of-type {\n",
       "        vertical-align: middle;\n",
       "    }\n",
       "\n",
       "    .dataframe tbody tr th {\n",
       "        vertical-align: top;\n",
       "    }\n",
       "\n",
       "    .dataframe thead th {\n",
       "        text-align: right;\n",
       "    }\n",
       "</style>\n",
       "<table border=\"1\" class=\"dataframe\">\n",
       "  <thead>\n",
       "    <tr style=\"text-align: right;\">\n",
       "      <th></th>\n",
       "      <th>angle_z</th>\n",
       "      <th>pitch_speed</th>\n",
       "      <th>px</th>\n",
       "      <th>angle_x</th>\n",
       "      <th>break_z</th>\n",
       "      <th>stringer_zone_top</th>\n",
       "      <th>break_x</th>\n",
       "      <th>stringer_zone_bottom</th>\n",
       "      <th>pz</th>\n",
       "      <th>bside_L</th>\n",
       "      <th>bside_R</th>\n",
       "      <th>pside_L</th>\n",
       "      <th>pside_R</th>\n",
       "    </tr>\n",
       "  </thead>\n",
       "  <tbody>\n",
       "    <tr>\n",
       "      <th>0</th>\n",
       "      <td>8.02184</td>\n",
       "      <td>88.1309</td>\n",
       "      <td>-0.689798</td>\n",
       "      <td>-0.261130</td>\n",
       "      <td>-31.5262</td>\n",
       "      <td>3.37</td>\n",
       "      <td>-16.171500</td>\n",
       "      <td>1.53</td>\n",
       "      <td>0.880993</td>\n",
       "      <td>1</td>\n",
       "      <td>0</td>\n",
       "      <td>0</td>\n",
       "      <td>1</td>\n",
       "    </tr>\n",
       "    <tr>\n",
       "      <th>1</th>\n",
       "      <td>2.30556</td>\n",
       "      <td>93.8505</td>\n",
       "      <td>0.670993</td>\n",
       "      <td>-1.285440</td>\n",
       "      <td>-15.4120</td>\n",
       "      <td>3.37</td>\n",
       "      <td>12.789200</td>\n",
       "      <td>1.53</td>\n",
       "      <td>4.807010</td>\n",
       "      <td>0</td>\n",
       "      <td>1</td>\n",
       "      <td>1</td>\n",
       "      <td>0</td>\n",
       "    </tr>\n",
       "    <tr>\n",
       "      <th>2</th>\n",
       "      <td>7.95176</td>\n",
       "      <td>87.1178</td>\n",
       "      <td>0.550363</td>\n",
       "      <td>-3.152060</td>\n",
       "      <td>-30.0377</td>\n",
       "      <td>3.41</td>\n",
       "      <td>6.324360</td>\n",
       "      <td>1.56</td>\n",
       "      <td>2.374940</td>\n",
       "      <td>0</td>\n",
       "      <td>1</td>\n",
       "      <td>0</td>\n",
       "      <td>1</td>\n",
       "    </tr>\n",
       "    <tr>\n",
       "      <th>3</th>\n",
       "      <td>6.08815</td>\n",
       "      <td>92.9043</td>\n",
       "      <td>0.884750</td>\n",
       "      <td>0.699183</td>\n",
       "      <td>-20.9565</td>\n",
       "      <td>3.47</td>\n",
       "      <td>12.111500</td>\n",
       "      <td>1.59</td>\n",
       "      <td>2.420760</td>\n",
       "      <td>0</td>\n",
       "      <td>1</td>\n",
       "      <td>1</td>\n",
       "      <td>0</td>\n",
       "    </tr>\n",
       "    <tr>\n",
       "      <th>4</th>\n",
       "      <td>6.37698</td>\n",
       "      <td>86.5579</td>\n",
       "      <td>-0.343300</td>\n",
       "      <td>-2.418760</td>\n",
       "      <td>-25.6905</td>\n",
       "      <td>3.41</td>\n",
       "      <td>0.996405</td>\n",
       "      <td>1.47</td>\n",
       "      <td>2.650810</td>\n",
       "      <td>0</td>\n",
       "      <td>1</td>\n",
       "      <td>0</td>\n",
       "      <td>1</td>\n",
       "    </tr>\n",
       "  </tbody>\n",
       "</table>\n",
       "</div>"
      ],
      "text/plain": [
       "   angle_z  pitch_speed        px   angle_x  break_z  stringer_zone_top  \\\n",
       "0  8.02184      88.1309 -0.689798 -0.261130 -31.5262               3.37   \n",
       "1  2.30556      93.8505  0.670993 -1.285440 -15.4120               3.37   \n",
       "2  7.95176      87.1178  0.550363 -3.152060 -30.0377               3.41   \n",
       "3  6.08815      92.9043  0.884750  0.699183 -20.9565               3.47   \n",
       "4  6.37698      86.5579 -0.343300 -2.418760 -25.6905               3.41   \n",
       "\n",
       "     break_x  stringer_zone_bottom        pz  bside_L  bside_R  pside_L  \\\n",
       "0 -16.171500                  1.53  0.880993        1        0        0   \n",
       "1  12.789200                  1.53  4.807010        0        1        1   \n",
       "2   6.324360                  1.56  2.374940        0        1        0   \n",
       "3  12.111500                  1.59  2.420760        0        1        1   \n",
       "4   0.996405                  1.47  2.650810        0        1        0   \n",
       "\n",
       "   pside_R  \n",
       "0        1  \n",
       "1        0  \n",
       "2        1  \n",
       "3        0  \n",
       "4        1  "
      ]
     },
     "execution_count": 20,
     "metadata": {},
     "output_type": "execute_result"
    }
   ],
   "source": [
    "df_holdout.head(5)"
   ]
  },
  {
   "cell_type": "code",
   "execution_count": 21,
   "id": "36309a3f-fe44-4db6-be9b-134063a499e1",
   "metadata": {},
   "outputs": [],
   "source": [
    "df_holdout = df_holdout[col_primary_order]"
   ]
  },
  {
   "cell_type": "code",
   "execution_count": 22,
   "id": "1652d6ff-b1bd-41dc-81ef-5c32b81f86e8",
   "metadata": {},
   "outputs": [
    {
     "data": {
      "application/com.datacamp.data-table.v1+json": {
       "is_truncated": false,
       "table": {
        "data": [
         {
          "angle_x": 3.02727,
          "angle_z": 5.59379,
          "break_x": 1.91535,
          "break_z": -9.54142,
          "bside_L": 0,
          "bside_R": 1,
          "index": 0,
          "pitch_speed": 97.4298,
          "pside_L": 1,
          "pside_R": 0,
          "px": -1.2981,
          "pz": 2.30217,
          "stringer_zone_bottom": 1.56,
          "stringer_zone_top": 3.41
         },
         {
          "angle_x": -1.56782,
          "angle_z": 6.86676,
          "break_x": -12.1373,
          "break_z": -21.9427,
          "bside_L": 1,
          "bside_R": 0,
          "index": 1,
          "pitch_speed": 91.7712,
          "pside_L": 0,
          "pside_R": 1,
          "px": 1.41222,
          "pz": 1.57443,
          "stringer_zone_bottom": 1.59,
          "stringer_zone_top": 3.47
         },
         {
          "angle_x": 2.04966,
          "angle_z": 7.17281,
          "break_x": -0.992261,
          "break_z": -25.5107,
          "bside_L": 1,
          "bside_R": 0,
          "index": 2,
          "pitch_speed": 87.813,
          "pside_L": 1,
          "pside_R": 0,
          "px": -0.18119,
          "pz": 2.11248,
          "stringer_zone_bottom": 1.68,
          "stringer_zone_top": 3.58
         },
         {
          "angle_x": 2.96845,
          "angle_z": 8.50392,
          "break_x": -2.8393,
          "break_z": -27.2509,
          "bside_L": 0,
          "bside_R": 1,
          "index": 3,
          "pitch_speed": 86.5546,
          "pside_L": 1,
          "pside_R": 0,
          "px": -0.885538,
          "pz": 0.598692,
          "stringer_zone_bottom": 1.63,
          "stringer_zone_top": 3.55
         },
         {
          "angle_x": -1.6463,
          "angle_z": 9.33291,
          "break_x": 8.90615,
          "break_z": -59.4133,
          "bside_L": 1,
          "bside_R": 0,
          "index": 5,
          "pitch_speed": 72.0904,
          "pside_L": 0,
          "pside_R": 1,
          "px": -1.45954,
          "pz": 3.39951,
          "stringer_zone_bottom": 1.5,
          "stringer_zone_top": 3.3
         }
        ],
        "schema": {
         "fields": [
          {
           "name": "index",
           "type": "integer"
          },
          {
           "name": "angle_x",
           "type": "number"
          },
          {
           "name": "angle_z",
           "type": "number"
          },
          {
           "name": "break_x",
           "type": "number"
          },
          {
           "name": "break_z",
           "type": "number"
          },
          {
           "name": "bside_L",
           "type": "integer"
          },
          {
           "name": "bside_R",
           "type": "integer"
          },
          {
           "name": "pitch_speed",
           "type": "number"
          },
          {
           "name": "pside_L",
           "type": "integer"
          },
          {
           "name": "pside_R",
           "type": "integer"
          },
          {
           "name": "px",
           "type": "number"
          },
          {
           "name": "pz",
           "type": "number"
          },
          {
           "name": "stringer_zone_bottom",
           "type": "number"
          },
          {
           "name": "stringer_zone_top",
           "type": "number"
          }
         ],
         "pandas_version": "0.20.0",
         "primaryKey": [
          "index"
         ]
        }
       },
       "total_rows": 5
      },
      "text/html": [
       "<div>\n",
       "<style scoped>\n",
       "    .dataframe tbody tr th:only-of-type {\n",
       "        vertical-align: middle;\n",
       "    }\n",
       "\n",
       "    .dataframe tbody tr th {\n",
       "        vertical-align: top;\n",
       "    }\n",
       "\n",
       "    .dataframe thead th {\n",
       "        text-align: right;\n",
       "    }\n",
       "</style>\n",
       "<table border=\"1\" class=\"dataframe\">\n",
       "  <thead>\n",
       "    <tr style=\"text-align: right;\">\n",
       "      <th></th>\n",
       "      <th>angle_x</th>\n",
       "      <th>angle_z</th>\n",
       "      <th>break_x</th>\n",
       "      <th>break_z</th>\n",
       "      <th>bside_L</th>\n",
       "      <th>bside_R</th>\n",
       "      <th>pitch_speed</th>\n",
       "      <th>pside_L</th>\n",
       "      <th>pside_R</th>\n",
       "      <th>px</th>\n",
       "      <th>pz</th>\n",
       "      <th>stringer_zone_bottom</th>\n",
       "      <th>stringer_zone_top</th>\n",
       "    </tr>\n",
       "  </thead>\n",
       "  <tbody>\n",
       "    <tr>\n",
       "      <th>0</th>\n",
       "      <td>3.02727</td>\n",
       "      <td>5.59379</td>\n",
       "      <td>1.915350</td>\n",
       "      <td>-9.54142</td>\n",
       "      <td>0</td>\n",
       "      <td>1</td>\n",
       "      <td>97.4298</td>\n",
       "      <td>1</td>\n",
       "      <td>0</td>\n",
       "      <td>-1.298100</td>\n",
       "      <td>2.302170</td>\n",
       "      <td>1.56</td>\n",
       "      <td>3.41</td>\n",
       "    </tr>\n",
       "    <tr>\n",
       "      <th>1</th>\n",
       "      <td>-1.56782</td>\n",
       "      <td>6.86676</td>\n",
       "      <td>-12.137300</td>\n",
       "      <td>-21.94270</td>\n",
       "      <td>1</td>\n",
       "      <td>0</td>\n",
       "      <td>91.7712</td>\n",
       "      <td>0</td>\n",
       "      <td>1</td>\n",
       "      <td>1.412220</td>\n",
       "      <td>1.574430</td>\n",
       "      <td>1.59</td>\n",
       "      <td>3.47</td>\n",
       "    </tr>\n",
       "    <tr>\n",
       "      <th>2</th>\n",
       "      <td>2.04966</td>\n",
       "      <td>7.17281</td>\n",
       "      <td>-0.992261</td>\n",
       "      <td>-25.51070</td>\n",
       "      <td>1</td>\n",
       "      <td>0</td>\n",
       "      <td>87.8130</td>\n",
       "      <td>1</td>\n",
       "      <td>0</td>\n",
       "      <td>-0.181190</td>\n",
       "      <td>2.112480</td>\n",
       "      <td>1.68</td>\n",
       "      <td>3.58</td>\n",
       "    </tr>\n",
       "    <tr>\n",
       "      <th>3</th>\n",
       "      <td>2.96845</td>\n",
       "      <td>8.50392</td>\n",
       "      <td>-2.839300</td>\n",
       "      <td>-27.25090</td>\n",
       "      <td>0</td>\n",
       "      <td>1</td>\n",
       "      <td>86.5546</td>\n",
       "      <td>1</td>\n",
       "      <td>0</td>\n",
       "      <td>-0.885538</td>\n",
       "      <td>0.598692</td>\n",
       "      <td>1.63</td>\n",
       "      <td>3.55</td>\n",
       "    </tr>\n",
       "    <tr>\n",
       "      <th>5</th>\n",
       "      <td>-1.64630</td>\n",
       "      <td>9.33291</td>\n",
       "      <td>8.906150</td>\n",
       "      <td>-59.41330</td>\n",
       "      <td>1</td>\n",
       "      <td>0</td>\n",
       "      <td>72.0904</td>\n",
       "      <td>0</td>\n",
       "      <td>1</td>\n",
       "      <td>-1.459540</td>\n",
       "      <td>3.399510</td>\n",
       "      <td>1.50</td>\n",
       "      <td>3.30</td>\n",
       "    </tr>\n",
       "  </tbody>\n",
       "</table>\n",
       "</div>"
      ],
      "text/plain": [
       "   angle_x  angle_z    break_x   break_z  bside_L  bside_R  pitch_speed  \\\n",
       "0  3.02727  5.59379   1.915350  -9.54142        0        1      97.4298   \n",
       "1 -1.56782  6.86676 -12.137300 -21.94270        1        0      91.7712   \n",
       "2  2.04966  7.17281  -0.992261 -25.51070        1        0      87.8130   \n",
       "3  2.96845  8.50392  -2.839300 -27.25090        0        1      86.5546   \n",
       "5 -1.64630  9.33291   8.906150 -59.41330        1        0      72.0904   \n",
       "\n",
       "   pside_L  pside_R        px        pz  stringer_zone_bottom  \\\n",
       "0        1        0 -1.298100  2.302170                  1.56   \n",
       "1        0        1  1.412220  1.574430                  1.59   \n",
       "2        1        0 -0.181190  2.112480                  1.68   \n",
       "3        1        0 -0.885538  0.598692                  1.63   \n",
       "5        0        1 -1.459540  3.399510                  1.50   \n",
       "\n",
       "   stringer_zone_top  \n",
       "0               3.41  \n",
       "1               3.47  \n",
       "2               3.58  \n",
       "3               3.55  \n",
       "5               3.30  "
      ]
     },
     "execution_count": 22,
     "metadata": {},
     "output_type": "execute_result"
    }
   ],
   "source": [
    "df_X.head(5)"
   ]
  },
  {
   "cell_type": "code",
   "execution_count": 23,
   "id": "a4073515-d729-4481-a8a2-85a105a85dab",
   "metadata": {},
   "outputs": [
    {
     "data": {
      "application/com.datacamp.data-table.v1+json": {
       "is_truncated": false,
       "table": {
        "data": [
         {
          "angle_x": -0.26113,
          "angle_z": 8.02184,
          "break_x": -16.1715,
          "break_z": -31.5262,
          "bside_L": 1,
          "bside_R": 0,
          "index": 0,
          "pitch_speed": 88.1309,
          "pside_L": 0,
          "pside_R": 1,
          "px": -0.689798,
          "pz": 0.880993,
          "stringer_zone_bottom": 1.53,
          "stringer_zone_top": 3.37
         },
         {
          "angle_x": -1.28544,
          "angle_z": 2.30556,
          "break_x": 12.7892,
          "break_z": -15.412,
          "bside_L": 0,
          "bside_R": 1,
          "index": 1,
          "pitch_speed": 93.8505,
          "pside_L": 1,
          "pside_R": 0,
          "px": 0.670993,
          "pz": 4.80701,
          "stringer_zone_bottom": 1.53,
          "stringer_zone_top": 3.37
         },
         {
          "angle_x": -3.15206,
          "angle_z": 7.95176,
          "break_x": 6.32436,
          "break_z": -30.0377,
          "bside_L": 0,
          "bside_R": 1,
          "index": 2,
          "pitch_speed": 87.1178,
          "pside_L": 0,
          "pside_R": 1,
          "px": 0.550363,
          "pz": 2.37494,
          "stringer_zone_bottom": 1.56,
          "stringer_zone_top": 3.41
         },
         {
          "angle_x": 0.699183,
          "angle_z": 6.08815,
          "break_x": 12.1115,
          "break_z": -20.9565,
          "bside_L": 0,
          "bside_R": 1,
          "index": 3,
          "pitch_speed": 92.9043,
          "pside_L": 1,
          "pside_R": 0,
          "px": 0.88475,
          "pz": 2.42076,
          "stringer_zone_bottom": 1.59,
          "stringer_zone_top": 3.47
         },
         {
          "angle_x": -2.41876,
          "angle_z": 6.37698,
          "break_x": 0.996405,
          "break_z": -25.6905,
          "bside_L": 0,
          "bside_R": 1,
          "index": 4,
          "pitch_speed": 86.5579,
          "pside_L": 0,
          "pside_R": 1,
          "px": -0.3433,
          "pz": 2.65081,
          "stringer_zone_bottom": 1.47,
          "stringer_zone_top": 3.41
         }
        ],
        "schema": {
         "fields": [
          {
           "name": "index",
           "type": "integer"
          },
          {
           "name": "angle_x",
           "type": "number"
          },
          {
           "name": "angle_z",
           "type": "number"
          },
          {
           "name": "break_x",
           "type": "number"
          },
          {
           "name": "break_z",
           "type": "number"
          },
          {
           "name": "bside_L",
           "type": "integer"
          },
          {
           "name": "bside_R",
           "type": "integer"
          },
          {
           "name": "pitch_speed",
           "type": "number"
          },
          {
           "name": "pside_L",
           "type": "integer"
          },
          {
           "name": "pside_R",
           "type": "integer"
          },
          {
           "name": "px",
           "type": "number"
          },
          {
           "name": "pz",
           "type": "number"
          },
          {
           "name": "stringer_zone_bottom",
           "type": "number"
          },
          {
           "name": "stringer_zone_top",
           "type": "number"
          }
         ],
         "pandas_version": "0.20.0",
         "primaryKey": [
          "index"
         ]
        }
       },
       "total_rows": 5
      },
      "text/html": [
       "<div>\n",
       "<style scoped>\n",
       "    .dataframe tbody tr th:only-of-type {\n",
       "        vertical-align: middle;\n",
       "    }\n",
       "\n",
       "    .dataframe tbody tr th {\n",
       "        vertical-align: top;\n",
       "    }\n",
       "\n",
       "    .dataframe thead th {\n",
       "        text-align: right;\n",
       "    }\n",
       "</style>\n",
       "<table border=\"1\" class=\"dataframe\">\n",
       "  <thead>\n",
       "    <tr style=\"text-align: right;\">\n",
       "      <th></th>\n",
       "      <th>angle_x</th>\n",
       "      <th>angle_z</th>\n",
       "      <th>break_x</th>\n",
       "      <th>break_z</th>\n",
       "      <th>bside_L</th>\n",
       "      <th>bside_R</th>\n",
       "      <th>pitch_speed</th>\n",
       "      <th>pside_L</th>\n",
       "      <th>pside_R</th>\n",
       "      <th>px</th>\n",
       "      <th>pz</th>\n",
       "      <th>stringer_zone_bottom</th>\n",
       "      <th>stringer_zone_top</th>\n",
       "    </tr>\n",
       "  </thead>\n",
       "  <tbody>\n",
       "    <tr>\n",
       "      <th>0</th>\n",
       "      <td>-0.261130</td>\n",
       "      <td>8.02184</td>\n",
       "      <td>-16.171500</td>\n",
       "      <td>-31.5262</td>\n",
       "      <td>1</td>\n",
       "      <td>0</td>\n",
       "      <td>88.1309</td>\n",
       "      <td>0</td>\n",
       "      <td>1</td>\n",
       "      <td>-0.689798</td>\n",
       "      <td>0.880993</td>\n",
       "      <td>1.53</td>\n",
       "      <td>3.37</td>\n",
       "    </tr>\n",
       "    <tr>\n",
       "      <th>1</th>\n",
       "      <td>-1.285440</td>\n",
       "      <td>2.30556</td>\n",
       "      <td>12.789200</td>\n",
       "      <td>-15.4120</td>\n",
       "      <td>0</td>\n",
       "      <td>1</td>\n",
       "      <td>93.8505</td>\n",
       "      <td>1</td>\n",
       "      <td>0</td>\n",
       "      <td>0.670993</td>\n",
       "      <td>4.807010</td>\n",
       "      <td>1.53</td>\n",
       "      <td>3.37</td>\n",
       "    </tr>\n",
       "    <tr>\n",
       "      <th>2</th>\n",
       "      <td>-3.152060</td>\n",
       "      <td>7.95176</td>\n",
       "      <td>6.324360</td>\n",
       "      <td>-30.0377</td>\n",
       "      <td>0</td>\n",
       "      <td>1</td>\n",
       "      <td>87.1178</td>\n",
       "      <td>0</td>\n",
       "      <td>1</td>\n",
       "      <td>0.550363</td>\n",
       "      <td>2.374940</td>\n",
       "      <td>1.56</td>\n",
       "      <td>3.41</td>\n",
       "    </tr>\n",
       "    <tr>\n",
       "      <th>3</th>\n",
       "      <td>0.699183</td>\n",
       "      <td>6.08815</td>\n",
       "      <td>12.111500</td>\n",
       "      <td>-20.9565</td>\n",
       "      <td>0</td>\n",
       "      <td>1</td>\n",
       "      <td>92.9043</td>\n",
       "      <td>1</td>\n",
       "      <td>0</td>\n",
       "      <td>0.884750</td>\n",
       "      <td>2.420760</td>\n",
       "      <td>1.59</td>\n",
       "      <td>3.47</td>\n",
       "    </tr>\n",
       "    <tr>\n",
       "      <th>4</th>\n",
       "      <td>-2.418760</td>\n",
       "      <td>6.37698</td>\n",
       "      <td>0.996405</td>\n",
       "      <td>-25.6905</td>\n",
       "      <td>0</td>\n",
       "      <td>1</td>\n",
       "      <td>86.5579</td>\n",
       "      <td>0</td>\n",
       "      <td>1</td>\n",
       "      <td>-0.343300</td>\n",
       "      <td>2.650810</td>\n",
       "      <td>1.47</td>\n",
       "      <td>3.41</td>\n",
       "    </tr>\n",
       "  </tbody>\n",
       "</table>\n",
       "</div>"
      ],
      "text/plain": [
       "    angle_x  angle_z    break_x  break_z  bside_L  bside_R  pitch_speed  \\\n",
       "0 -0.261130  8.02184 -16.171500 -31.5262        1        0      88.1309   \n",
       "1 -1.285440  2.30556  12.789200 -15.4120        0        1      93.8505   \n",
       "2 -3.152060  7.95176   6.324360 -30.0377        0        1      87.1178   \n",
       "3  0.699183  6.08815  12.111500 -20.9565        0        1      92.9043   \n",
       "4 -2.418760  6.37698   0.996405 -25.6905        0        1      86.5579   \n",
       "\n",
       "   pside_L  pside_R        px        pz  stringer_zone_bottom  \\\n",
       "0        0        1 -0.689798  0.880993                  1.53   \n",
       "1        1        0  0.670993  4.807010                  1.53   \n",
       "2        0        1  0.550363  2.374940                  1.56   \n",
       "3        1        0  0.884750  2.420760                  1.59   \n",
       "4        0        1 -0.343300  2.650810                  1.47   \n",
       "\n",
       "   stringer_zone_top  \n",
       "0               3.37  \n",
       "1               3.37  \n",
       "2               3.41  \n",
       "3               3.47  \n",
       "4               3.41  "
      ]
     },
     "execution_count": 23,
     "metadata": {},
     "output_type": "execute_result"
    }
   ],
   "source": [
    "df_holdout.head(5)"
   ]
  },
  {
   "cell_type": "markdown",
   "id": "4379dca5-6ed7-4edd-bba3-37617afea026",
   "metadata": {},
   "source": [
    "---\n",
    "\n",
    "#### Feature Engineering\n",
    "\n",
    "Select features:"
   ]
  },
  {
   "cell_type": "markdown",
   "id": "364ddb3b-f17e-47bf-9c0f-c51ae3d6e26a",
   "metadata": {},
   "source": [
    "We should need numerically represent our data (e.g. one-hot-encode any categorical features), as well as scale/normalize the data. \n",
    "\n",
    "All the selected features for this round are numerical, so we don't have to worry about encoding any categories. For scaling I'm choosing to *standardize*."
   ]
  },
  {
   "cell_type": "code",
   "execution_count": 24,
   "id": "48310753-73b3-4530-8ca9-1856e0b0d60e",
   "metadata": {},
   "outputs": [],
   "source": [
    "scaler = StandardScaler()\n",
    "X_scaled = scaler.fit_transform(df_X)"
   ]
  },
  {
   "cell_type": "markdown",
   "id": "80a68b84-b003-4364-a826-570c070f4935",
   "metadata": {},
   "source": [
    "Let's also scale our holdout data to make sure it is ready for predictions."
   ]
  },
  {
   "cell_type": "code",
   "execution_count": 25,
   "id": "29608e30-c3e2-4175-a25c-99544b770824",
   "metadata": {},
   "outputs": [
    {
     "data": {
      "text/plain": [
       "(350959, 13)"
      ]
     },
     "execution_count": 25,
     "metadata": {},
     "output_type": "execute_result"
    }
   ],
   "source": [
    "X_scaled.shape"
   ]
  },
  {
   "cell_type": "markdown",
   "id": "ffa8aa65-696f-41ec-8c8e-423a61c3b6de",
   "metadata": {},
   "source": [
    "`pickle` out the `scaler` for future use"
   ]
  },
  {
   "cell_type": "code",
   "execution_count": 26,
   "id": "1491755f-a1e8-4aa3-a600-a123bd858c57",
   "metadata": {},
   "outputs": [
    {
     "name": "stdout",
     "output_type": "stream",
     "text": [
      "skipping\n"
     ]
    }
   ],
   "source": [
    "%%script echo skipping\n",
    "str_ts = datetime.now(timezone.utc).astimezone(pytz.timezone('US/Pacific')).strftime(\"%Y%m%d_%H%M\")\n",
    "\n",
    "xgb_scaler_path = './models/xgb_scaler_' + str_ts + '.pickle'\n",
    "display(xgb_scaler_path)\n",
    "\n",
    "with open(xgb_scaler_path, 'wb') as f:\n",
    "    # Pickle the 'data' dictionary using the highest protocol available.\n",
    "    pickle.dump(scaler, f, pickle.HIGHEST_PROTOCOL)"
   ]
  },
  {
   "cell_type": "code",
   "execution_count": 27,
   "id": "0149e9ce-19df-448c-9e8a-14d7e12bac7b",
   "metadata": {},
   "outputs": [],
   "source": [
    "holdout_scaled = scaler.transform(df_holdout)"
   ]
  },
  {
   "cell_type": "code",
   "execution_count": 28,
   "id": "0e4685f1-8da6-4f92-b29d-fcc43d6d842c",
   "metadata": {},
   "outputs": [
    {
     "data": {
      "text/plain": [
       "(18633, 13)"
      ]
     },
     "execution_count": 28,
     "metadata": {},
     "output_type": "execute_result"
    }
   ],
   "source": [
    "holdout_scaled.shape"
   ]
  },
  {
   "cell_type": "markdown",
   "id": "4ecfa19b-73d0-4a23-823c-af2387fee0cb",
   "metadata": {},
   "source": [
    "---\n",
    "\n",
    "#### Train / Test\n",
    "\n",
    "\n",
    "Create train/test splits.\n",
    "\n",
    "Breakout parameters for easy access."
   ]
  },
  {
   "cell_type": "code",
   "execution_count": 29,
   "id": "9ae261da-ff35-46e0-9561-237f65d76a1d",
   "metadata": {},
   "outputs": [],
   "source": [
    "# Parameters\n",
    "test_size = 0.20\n",
    "random_state = 24"
   ]
  },
  {
   "cell_type": "code",
   "execution_count": 30,
   "id": "758d38a7-5a66-4383-af5a-cf244ae34374",
   "metadata": {},
   "outputs": [],
   "source": [
    "X_train, X_test, y_train, y_test = train_test_split(X_scaled, df_y, test_size=test_size\n",
    "                                                    ,stratify=df_y, random_state = random_state)"
   ]
  },
  {
   "cell_type": "markdown",
   "id": "827d5ee7-b2c8-417b-9c62-3fa63e66ff10",
   "metadata": {},
   "source": [
    "---  \n",
    "\n",
    "<span style=\"font-size:0.5em;\">Tag 2</span>\n",
    "\n",
    "### Build Model / Hyperparameter Search<a id='random_search'></a>\n",
    "\n",
    "<span style=\"font-size:0.5em;\"><a href='#toc_6'>Back to TOC</a></span>\n",
    "\n",
    "---  "
   ]
  },
  {
   "cell_type": "markdown",
   "id": "daa063d4-34c1-4287-b991-cfa218da9580",
   "metadata": {},
   "source": [
    "For expediency we are going to use a pipeline and random hyperparameter search to scour through different classifiers and hyperparameter sets to come up with a good candidate."
   ]
  },
  {
   "cell_type": "markdown",
   "id": "ffc5cc6a-a95b-4a61-b774-fe0ec70a1453",
   "metadata": {},
   "source": [
    "We'll use a `DummyEstimator` class to act as a placeholder to which we can pass the different classifiers. See [here](./project_helpers.py)."
   ]
  },
  {
   "cell_type": "markdown",
   "id": "652c91ea-a454-46b3-8a13-6161ebf55a22",
   "metadata": {},
   "source": [
    "Create the pipeline of dictionaries of classifiers and their respective grids of potential hyperparameters.\n",
    "\n",
    "I noticed in my first run that the grid parameters were erroneous for GBM. This time around let's skip GBM since we are already going to search XGBoost anyway. We almost make this case for also removing Random Forests, but I want those more 'classic' models to have something to compare against (and to see if they can perform well!).\n",
    "\n",
    "Also, the asset I'm using has a timeout 'feature' so I can't really run a large grid without tending to the notebook regularly. So I will break up the search into three pieces that should run for more manageable lengths of time."
   ]
  },
  {
   "cell_type": "code",
   "execution_count": 56,
   "id": "95072a54-a4ad-459e-ad51-b92f915a1aa0",
   "metadata": {
    "tags": []
   },
   "outputs": [],
   "source": [
    "# Create a pipeline\n",
    "pipe_lr = Pipeline([('clf', DummyEstimator())]) # Placeholder Estimator\n",
    "pipe_rf = Pipeline([('clf', DummyEstimator())]) # Placeholder Estimator\n",
    "pipe_xgb = Pipeline([('clf', DummyEstimator())]) # Placeholder Estimator\n",
    "\n",
    "# Candidate learning algorithms and their hyperparameters\n",
    "# For selected hyperparameters aimed to select a reasonable range for each.\n",
    "\n",
    "# Going to break up the search space into 3\n",
    "search_space_lr = [{'clf': [LogisticRegression()], # Actual Estimator\n",
    "                     'clf__C': [100, 10, 1.0, 0.1, 0.01]\n",
    "                    }\n",
    "                   ]\n",
    "\n",
    "search_space_rf = [{'clf': [RandomForestClassifier()],  # Actual Estimator\n",
    "                     'clf__n_estimators': [50, 100, 200],\n",
    "                     'clf__criterion': ['gini', 'entropy'],                 \n",
    "                     'clf__max_depth': np.arange(3,11,1),\n",
    "                     'clf__min_samples_split': np.linspace(0.1, 0.5, 10, endpoint=False),\n",
    "                     'clf__max_features': [\"auto\", \"sqrt\", \"log2\"],\n",
    "                     'clf__max_samples': [0.25, 0.5, 0.75, 1]\n",
    "                    }\n",
    "                   ]\n",
    "\n",
    "search_space_xgb = [{'clf': [XGBClassifier()],  # Actual Estimator\n",
    "                     'clf__n_estimators': [50, 100, 200],\n",
    "                     'clf__criterion': ['gini', 'entropy'],                 \n",
    "                     'clf__max_depth': np.arange(3,11,1),\n",
    "                     'clf__min_samples_split': np.linspace(0.1, 0.5, 10, endpoint=False),\n",
    "                     'clf__max_features': [\"auto\", \"sqrt\", \"log2\"],\n",
    "                     'clf__max_samples': [0.25, 0.5, 0.75, 1]\n",
    "                    }\n",
    "                   ]\n",
    "\n",
    "# Create grid search \n",
    "# gs = GridSearchCV(pipe, search_space, random_state=random_state)\n",
    "rs_lr = RandomizedSearchCV(pipe_lr, search_space_lr, random_state=random_state\n",
    "                        ,n_iter=5 # To limit search time \n",
    "                        ,cv=3      # I like 5 as rule of thumb, but again to limit search time\n",
    "                        ,verbose=True, refit=True, scoring='accuracy')\n",
    "\n",
    "rs_rf = RandomizedSearchCV(pipe_rf, search_space_rf, random_state=random_state\n",
    "                        ,n_iter=5 # To limit search time \n",
    "                        ,cv=3      # I like 5 as rule of thumb, but again to limit search time\n",
    "                        ,verbose=True, refit=True, scoring='accuracy')\n",
    "\n",
    "rs_xgb = RandomizedSearchCV(pipe_xgb, search_space_xgb, random_state=random_state\n",
    "                        ,n_iter=5 # To limit search time \n",
    "                        ,cv=3      # I like 5 as rule of thumb, but again to limit search time\n",
    "                        ,verbose=True, refit=True, scoring='accuracy')"
   ]
  },
  {
   "cell_type": "markdown",
   "id": "f89c3c4a-be0c-48dc-a83c-73963a480d53",
   "metadata": {},
   "source": [
    "Fit the LR random search cv object.\n",
    "\n",
    "Let's pickle the random search results."
   ]
  },
  {
   "cell_type": "markdown",
   "id": "28eb3aa8-fb28-4461-b4e4-70023cea4397",
   "metadata": {},
   "source": [
    "**Logistic Regression grid**"
   ]
  },
  {
   "cell_type": "code",
   "execution_count": 57,
   "id": "64059c7e-91f5-4b09-b96e-b2166dcf0b1b",
   "metadata": {},
   "outputs": [
    {
     "name": "stdout",
     "output_type": "stream",
     "text": [
      "Fitting 3 folds for each of 5 candidates, totalling 15 fits\n",
      "2022-05-12 14:09:17.586124\n"
     ]
    },
    {
     "data": {
      "text/plain": [
       "'classic_2nd_pass_best_model_lr_20220512_0709'"
      ]
     },
     "metadata": {},
     "output_type": "display_data"
    },
    {
     "data": {
      "text/plain": [
       "'./models/rs_results/classic_2nd_pass_best_model_lr_20220512_0709.pickle'"
      ]
     },
     "metadata": {},
     "output_type": "display_data"
    }
   ],
   "source": [
    "rs_lr_results = rs_lr.fit(X_train, y_train)\n",
    "print(datetime.now())\n",
    "\n",
    "#Timestamp\n",
    "str_ts = datetime.now(timezone.utc).astimezone(pytz.timezone('US/Pacific')).strftime(\"%Y%m%d_%H%M\")\n",
    "\n",
    "res_lr_nm = 'classic_2nd_pass_rs_lr_' + str_ts\n",
    "res_lr_file_path = './models/rs_results/' + res_lr_nm + '.pickle'\n",
    "\n",
    "best_lr_nm = 'classic_2nd_pass_best_model_lr_' + str_ts\n",
    "best_lr_file_path = './models/rs_results/' + best_lr_nm + '.pickle'\n",
    "\n",
    "display(best_lr_nm)\n",
    "display(best_lr_file_path)\n",
    "\n",
    "with open(res_lr_file_path, 'wb') as f:\n",
    "    # Pickle the 'data' dictionary using the highest protocol available.\n",
    "    pickle.dump(rs_lr_results, f, pickle.HIGHEST_PROTOCOL)\n",
    "\n",
    "with open(best_lr_file_path, 'wb') as f:\n",
    "    # Pickle the 'data' dictionary using the highest protocol available.\n",
    "    pickle.dump(rs_lr_results.best_estimator_, f, pickle.HIGHEST_PROTOCOL)"
   ]
  },
  {
   "cell_type": "markdown",
   "id": "0163b248-dcf9-4a8c-857f-1192d1e1d484",
   "metadata": {},
   "source": [
    "**Random Forest grid**"
   ]
  },
  {
   "cell_type": "code",
   "execution_count": 40,
   "id": "15290ab2-672a-41d8-9425-c7570ffe39b6",
   "metadata": {},
   "outputs": [
    {
     "name": "stdout",
     "output_type": "stream",
     "text": [
      "Fitting 3 folds for each of 5 candidates, totalling 15 fits\n",
      "2022-05-12 05:13:24.317918\n"
     ]
    },
    {
     "data": {
      "text/plain": [
       "'classic_2nd_pass_best_model_rf_20220511_2213'"
      ]
     },
     "metadata": {},
     "output_type": "display_data"
    },
    {
     "data": {
      "text/plain": [
       "'./models/rs_results/classic_2nd_pass_best_model_rf_20220511_2213.pickle'"
      ]
     },
     "metadata": {},
     "output_type": "display_data"
    }
   ],
   "source": [
    "rs_rf_results = rs_rf.fit(X_train, y_train)\n",
    "print(datetime.now())\n",
    "\n",
    "#Timestamp\n",
    "str_ts = datetime.now(timezone.utc).astimezone(pytz.timezone('US/Pacific')).strftime(\"%Y%m%d_%H%M\")\n",
    "\n",
    "res_rf_nm = 'classic_2nd_pass_rs_rf_' + str_ts\n",
    "res_rf_file_path = './models/rs_results/' + res_rf_nm + '.pickle'\n",
    "\n",
    "best_rf_nm = 'classic_2nd_pass_best_model_rf_' + str_ts\n",
    "best_rf_file_path = './models/rs_results/' + best_rf_nm + '.pickle'\n",
    "\n",
    "display(best_rf_nm)\n",
    "display(best_rf_file_path)\n",
    "\n",
    "with open(res_rf_file_path, 'wb') as f:\n",
    "    # Pickle the 'data' dictionary using the highest protocol available.\n",
    "    pickle.dump(rs_rf_results, f, pickle.HIGHEST_PROTOCOL)\n",
    "\n",
    "with open(best_rf_file_path, 'wb') as f:\n",
    "    # Pickle the 'data' dictionary using the highest protocol available.\n",
    "    pickle.dump(rs_rf_results.best_estimator_, f, pickle.HIGHEST_PROTOCOL)"
   ]
  },
  {
   "cell_type": "code",
   "execution_count": 41,
   "id": "22a52040-9bfb-4ec9-8cbf-2a50cd10e417",
   "metadata": {},
   "outputs": [
    {
     "name": "stdout",
     "output_type": "stream",
     "text": [
      "Fitting 3 folds for each of 5 candidates, totalling 15 fits\n",
      "[05:13:24] WARNING: ../src/learner.cc:541: \n",
      "Parameters: { criterion, max_features, max_samples, min_samples_split } might not be used.\n",
      "\n",
      "  This may not be accurate due to some parameters are only used in language bindings but\n",
      "  passed down to XGBoost core.  Or some parameters are not used but slip through this\n",
      "  verification. Please open an issue if you find above cases.\n",
      "\n",
      "\n",
      "[05:13:25] WARNING: ../src/learner.cc:1061: Starting in XGBoost 1.3.0, the default evaluation metric used with the objective 'binary:logistic' was changed from 'error' to 'logloss'. Explicitly set eval_metric if you'd like to restore the old behavior.\n",
      "[05:17:19] WARNING: ../src/learner.cc:541: \n",
      "Parameters: { criterion, max_features, max_samples, min_samples_split } might not be used.\n",
      "\n",
      "  This may not be accurate due to some parameters are only used in language bindings but\n",
      "  passed down to XGBoost core.  Or some parameters are not used but slip through this\n",
      "  verification. Please open an issue if you find above cases.\n",
      "\n",
      "\n",
      "[05:17:21] WARNING: ../src/learner.cc:1061: Starting in XGBoost 1.3.0, the default evaluation metric used with the objective 'binary:logistic' was changed from 'error' to 'logloss'. Explicitly set eval_metric if you'd like to restore the old behavior.\n",
      "[05:21:15] WARNING: ../src/learner.cc:541: \n",
      "Parameters: { criterion, max_features, max_samples, min_samples_split } might not be used.\n",
      "\n",
      "  This may not be accurate due to some parameters are only used in language bindings but\n",
      "  passed down to XGBoost core.  Or some parameters are not used but slip through this\n",
      "  verification. Please open an issue if you find above cases.\n",
      "\n",
      "\n",
      "[05:21:16] WARNING: ../src/learner.cc:1061: Starting in XGBoost 1.3.0, the default evaluation metric used with the objective 'binary:logistic' was changed from 'error' to 'logloss'. Explicitly set eval_metric if you'd like to restore the old behavior.\n",
      "[05:25:11] WARNING: ../src/learner.cc:541: \n",
      "Parameters: { criterion, max_features, max_samples, min_samples_split } might not be used.\n",
      "\n",
      "  This may not be accurate due to some parameters are only used in language bindings but\n",
      "  passed down to XGBoost core.  Or some parameters are not used but slip through this\n",
      "  verification. Please open an issue if you find above cases.\n",
      "\n",
      "\n",
      "[05:25:12] WARNING: ../src/learner.cc:1061: Starting in XGBoost 1.3.0, the default evaluation metric used with the objective 'binary:logistic' was changed from 'error' to 'logloss'. Explicitly set eval_metric if you'd like to restore the old behavior.\n",
      "[05:28:04] WARNING: ../src/learner.cc:541: \n",
      "Parameters: { criterion, max_features, max_samples, min_samples_split } might not be used.\n",
      "\n",
      "  This may not be accurate due to some parameters are only used in language bindings but\n",
      "  passed down to XGBoost core.  Or some parameters are not used but slip through this\n",
      "  verification. Please open an issue if you find above cases.\n",
      "\n",
      "\n",
      "[05:28:05] WARNING: ../src/learner.cc:1061: Starting in XGBoost 1.3.0, the default evaluation metric used with the objective 'binary:logistic' was changed from 'error' to 'logloss'. Explicitly set eval_metric if you'd like to restore the old behavior.\n",
      "[05:30:54] WARNING: ../src/learner.cc:541: \n",
      "Parameters: { criterion, max_features, max_samples, min_samples_split } might not be used.\n",
      "\n",
      "  This may not be accurate due to some parameters are only used in language bindings but\n",
      "  passed down to XGBoost core.  Or some parameters are not used but slip through this\n",
      "  verification. Please open an issue if you find above cases.\n",
      "\n",
      "\n",
      "[05:30:54] WARNING: ../src/learner.cc:1061: Starting in XGBoost 1.3.0, the default evaluation metric used with the objective 'binary:logistic' was changed from 'error' to 'logloss'. Explicitly set eval_metric if you'd like to restore the old behavior.\n",
      "[05:33:45] WARNING: ../src/learner.cc:541: \n",
      "Parameters: { criterion, max_features, max_samples, min_samples_split } might not be used.\n",
      "\n",
      "  This may not be accurate due to some parameters are only used in language bindings but\n",
      "  passed down to XGBoost core.  Or some parameters are not used but slip through this\n",
      "  verification. Please open an issue if you find above cases.\n",
      "\n",
      "\n",
      "[05:33:46] WARNING: ../src/learner.cc:1061: Starting in XGBoost 1.3.0, the default evaluation metric used with the objective 'binary:logistic' was changed from 'error' to 'logloss'. Explicitly set eval_metric if you'd like to restore the old behavior.\n",
      "[05:34:40] WARNING: ../src/learner.cc:541: \n",
      "Parameters: { criterion, max_features, max_samples, min_samples_split } might not be used.\n",
      "\n",
      "  This may not be accurate due to some parameters are only used in language bindings but\n",
      "  passed down to XGBoost core.  Or some parameters are not used but slip through this\n",
      "  verification. Please open an issue if you find above cases.\n",
      "\n",
      "\n",
      "[05:34:40] WARNING: ../src/learner.cc:1061: Starting in XGBoost 1.3.0, the default evaluation metric used with the objective 'binary:logistic' was changed from 'error' to 'logloss'. Explicitly set eval_metric if you'd like to restore the old behavior.\n",
      "[05:35:34] WARNING: ../src/learner.cc:541: \n",
      "Parameters: { criterion, max_features, max_samples, min_samples_split } might not be used.\n",
      "\n",
      "  This may not be accurate due to some parameters are only used in language bindings but\n",
      "  passed down to XGBoost core.  Or some parameters are not used but slip through this\n",
      "  verification. Please open an issue if you find above cases.\n",
      "\n",
      "\n",
      "[05:35:34] WARNING: ../src/learner.cc:1061: Starting in XGBoost 1.3.0, the default evaluation metric used with the objective 'binary:logistic' was changed from 'error' to 'logloss'. Explicitly set eval_metric if you'd like to restore the old behavior.\n",
      "[05:36:27] WARNING: ../src/learner.cc:541: \n",
      "Parameters: { criterion, max_features, max_samples, min_samples_split } might not be used.\n",
      "\n",
      "  This may not be accurate due to some parameters are only used in language bindings but\n",
      "  passed down to XGBoost core.  Or some parameters are not used but slip through this\n",
      "  verification. Please open an issue if you find above cases.\n",
      "\n",
      "\n",
      "[05:36:27] WARNING: ../src/learner.cc:1061: Starting in XGBoost 1.3.0, the default evaluation metric used with the objective 'binary:logistic' was changed from 'error' to 'logloss'. Explicitly set eval_metric if you'd like to restore the old behavior.\n",
      "[05:38:42] WARNING: ../src/learner.cc:541: \n",
      "Parameters: { criterion, max_features, max_samples, min_samples_split } might not be used.\n",
      "\n",
      "  This may not be accurate due to some parameters are only used in language bindings but\n",
      "  passed down to XGBoost core.  Or some parameters are not used but slip through this\n",
      "  verification. Please open an issue if you find above cases.\n",
      "\n",
      "\n",
      "[05:38:43] WARNING: ../src/learner.cc:1061: Starting in XGBoost 1.3.0, the default evaluation metric used with the objective 'binary:logistic' was changed from 'error' to 'logloss'. Explicitly set eval_metric if you'd like to restore the old behavior.\n",
      "[05:40:58] WARNING: ../src/learner.cc:541: \n",
      "Parameters: { criterion, max_features, max_samples, min_samples_split } might not be used.\n",
      "\n",
      "  This may not be accurate due to some parameters are only used in language bindings but\n",
      "  passed down to XGBoost core.  Or some parameters are not used but slip through this\n",
      "  verification. Please open an issue if you find above cases.\n",
      "\n",
      "\n",
      "[05:41:00] WARNING: ../src/learner.cc:1061: Starting in XGBoost 1.3.0, the default evaluation metric used with the objective 'binary:logistic' was changed from 'error' to 'logloss'. Explicitly set eval_metric if you'd like to restore the old behavior.\n",
      "[05:43:20] WARNING: ../src/learner.cc:541: \n",
      "Parameters: { criterion, max_features, max_samples, min_samples_split } might not be used.\n",
      "\n",
      "  This may not be accurate due to some parameters are only used in language bindings but\n",
      "  passed down to XGBoost core.  Or some parameters are not used but slip through this\n",
      "  verification. Please open an issue if you find above cases.\n",
      "\n",
      "\n",
      "[05:43:21] WARNING: ../src/learner.cc:1061: Starting in XGBoost 1.3.0, the default evaluation metric used with the objective 'binary:logistic' was changed from 'error' to 'logloss'. Explicitly set eval_metric if you'd like to restore the old behavior.\n",
      "[05:44:37] WARNING: ../src/learner.cc:541: \n",
      "Parameters: { criterion, max_features, max_samples, min_samples_split } might not be used.\n",
      "\n",
      "  This may not be accurate due to some parameters are only used in language bindings but\n",
      "  passed down to XGBoost core.  Or some parameters are not used but slip through this\n",
      "  verification. Please open an issue if you find above cases.\n",
      "\n",
      "\n",
      "[05:44:40] WARNING: ../src/learner.cc:1061: Starting in XGBoost 1.3.0, the default evaluation metric used with the objective 'binary:logistic' was changed from 'error' to 'logloss'. Explicitly set eval_metric if you'd like to restore the old behavior.\n",
      "[05:45:55] WARNING: ../src/learner.cc:541: \n",
      "Parameters: { criterion, max_features, max_samples, min_samples_split } might not be used.\n",
      "\n",
      "  This may not be accurate due to some parameters are only used in language bindings but\n",
      "  passed down to XGBoost core.  Or some parameters are not used but slip through this\n",
      "  verification. Please open an issue if you find above cases.\n",
      "\n",
      "\n",
      "[05:45:57] WARNING: ../src/learner.cc:1061: Starting in XGBoost 1.3.0, the default evaluation metric used with the objective 'binary:logistic' was changed from 'error' to 'logloss'. Explicitly set eval_metric if you'd like to restore the old behavior.\n",
      "[05:47:14] WARNING: ../src/learner.cc:541: \n",
      "Parameters: { criterion, max_features, max_samples, min_samples_split } might not be used.\n",
      "\n",
      "  This may not be accurate due to some parameters are only used in language bindings but\n",
      "  passed down to XGBoost core.  Or some parameters are not used but slip through this\n",
      "  verification. Please open an issue if you find above cases.\n",
      "\n",
      "\n",
      "[05:47:15] WARNING: ../src/learner.cc:1061: Starting in XGBoost 1.3.0, the default evaluation metric used with the objective 'binary:logistic' was changed from 'error' to 'logloss'. Explicitly set eval_metric if you'd like to restore the old behavior.\n",
      "2022-05-12 05:50:13.752792\n"
     ]
    },
    {
     "data": {
      "text/plain": [
       "'classic_2nd_pass_best_model_xgb_20220511_2250'"
      ]
     },
     "metadata": {},
     "output_type": "display_data"
    },
    {
     "data": {
      "text/plain": [
       "'./models/rs_results/classic_2nd_pass_best_model_xgb_20220511_2250.pickle'"
      ]
     },
     "metadata": {},
     "output_type": "display_data"
    }
   ],
   "source": [
    "rs_xgb_results = rs_xgb.fit(X_train, y_train)\n",
    "print(datetime.now())\n",
    "\n",
    "#Timestamp\n",
    "str_ts = datetime.now(timezone.utc).astimezone(pytz.timezone('US/Pacific')).strftime(\"%Y%m%d_%H%M\")\n",
    "\n",
    "res_xgb_nm = 'classic_2nd_pass_rs_xgb_' + str_ts\n",
    "res_xgb_file_path = './models/rs_results/' + res_xgb_nm + '.pickle'\n",
    "\n",
    "best_xgb_nm = 'classic_2nd_pass_best_model_xgb_' + str_ts\n",
    "best_xgb_file_path = './models/rs_results/' + best_xgb_nm + '.pickle'\n",
    "\n",
    "display(best_xgb_nm)\n",
    "display(best_xgb_file_path)\n",
    "\n",
    "with open(res_xgb_file_path, 'wb') as f:\n",
    "    # Pickle the 'data' dictionary using the highest protocol available.\n",
    "    pickle.dump(rs_xgb_results, f, pickle.HIGHEST_PROTOCOL)\n",
    "\n",
    "with open(best_xgb_file_path, 'wb') as f:\n",
    "    # Pickle the 'data' dictionary using the highest protocol available.\n",
    "    pickle.dump(rs_xgb_results.best_estimator_, f, pickle.HIGHEST_PROTOCOL)"
   ]
  },
  {
   "cell_type": "markdown",
   "id": "c02c0a59-39ac-4110-8c04-cad3ebacb288",
   "metadata": {},
   "source": [
    "##### \"Re-constitute\" results, if necessary"
   ]
  },
  {
   "cell_type": "markdown",
   "id": "9a3b517c-1233-43c2-9ffe-a8aea9ccd9da",
   "metadata": {},
   "source": [
    "Logistic Regression"
   ]
  },
  {
   "cell_type": "code",
   "execution_count": 59,
   "id": "37f3fda7-7f09-434d-8dd9-086c4a3915bc",
   "metadata": {
    "tags": []
   },
   "outputs": [],
   "source": [
    "# %%script echo skipping\n",
    "# Test loading pickle\n",
    "load_path_rs_lr = './models/rs_results/classic_2nd_pass_rs_lr_20220512_0709.pickle'\n",
    "load_path_best_lr = './models/rs_results/classic_2nd_pass_best_model_lr_20220512_0709.pickle'\n",
    "\n",
    "with open(load_path_rs_lr, 'rb') as f:\n",
    "    # The protocol version used is detected automatically, so we do not\n",
    "    # have to specify it.\n",
    "    rs_lr_results = pickle.load(f)    \n",
    "\n",
    "with open(load_path_best_lr, 'rb') as f:\n",
    "    best_lr = pickle.load(f)   "
   ]
  },
  {
   "cell_type": "markdown",
   "id": "2233b304-894f-413c-bb64-6bb41366fc1d",
   "metadata": {},
   "source": [
    "Random Forest"
   ]
  },
  {
   "cell_type": "code",
   "execution_count": 37,
   "id": "364b3de8-1968-4a64-aeb7-277498ae413d",
   "metadata": {
    "tags": []
   },
   "outputs": [],
   "source": [
    "# %%script echo skipping\n",
    "# Test loading pickle\n",
    "load_path_rs_rf = './models/rs_results/classic_2nd_pass_rs_rf_20220511_2213.pickle'\n",
    "load_path_best_rf = './models/rs_results/classic_2nd_pass_best_model_rf_20220511_2213.pickle'\n",
    "\n",
    "with open(load_path_rs_rf, 'rb') as f:\n",
    "    # The protocol version used is detected automatically, so we do not\n",
    "    # have to specify it.\n",
    "    rs_rf_results = pickle.load(f)    \n",
    "\n",
    "with open(load_path_best_rf, 'rb') as f:\n",
    "    best_rf = pickle.load(f)   "
   ]
  },
  {
   "cell_type": "markdown",
   "id": "43074426-a19b-4d0b-8114-8f8e94c5f10a",
   "metadata": {},
   "source": [
    "XGBoost"
   ]
  },
  {
   "cell_type": "code",
   "execution_count": 38,
   "id": "049dcd4a-99ed-45b9-8d4f-8aee62582ec7",
   "metadata": {
    "tags": []
   },
   "outputs": [],
   "source": [
    "# %%script echo skipping\n",
    "# Test loading pickle\n",
    "load_path_rs_xgb = './models/rs_results/classic_2nd_pass_rs_xgb_20220511_2250.pickle'\n",
    "load_path_best_xgb = './models/rs_results/classic_2nd_pass_best_model_xgb_20220511_2250.pickle'\n",
    "\n",
    "with open(load_path_rs_xgb, 'rb') as f:\n",
    "    # The protocol version used is detected automatically, so we do not\n",
    "    # have to specify it.\n",
    "    rs_xgb_results = pickle.load(f)    \n",
    "\n",
    "with open(load_path_best_xgb, 'rb') as f:\n",
    "    best_xgb = pickle.load(f)   "
   ]
  },
  {
   "cell_type": "markdown",
   "id": "08cc9046-e352-40e5-a943-8d84fe853a9e",
   "metadata": {},
   "source": [
    "Create combined `DataFrame` of cv results"
   ]
  },
  {
   "cell_type": "code",
   "execution_count": 60,
   "id": "197fb386-3933-40a4-9908-02d2eed8fd9d",
   "metadata": {},
   "outputs": [
    {
     "data": {
      "text/plain": [
       "'df LR shape: (5, 13)'"
      ]
     },
     "metadata": {},
     "output_type": "display_data"
    },
    {
     "data": {
      "text/plain": [
       "'df RF shape: (5, 18)'"
      ]
     },
     "metadata": {},
     "output_type": "display_data"
    },
    {
     "data": {
      "text/plain": [
       "'df XGB shape: (5, 18)'"
      ]
     },
     "metadata": {},
     "output_type": "display_data"
    },
    {
     "data": {
      "text/plain": [
       "LogisticRegression        5\n",
       "RandomForestClassifier    5\n",
       "XGBClassifier             5\n",
       "Name: clf_type, dtype: int64"
      ]
     },
     "execution_count": 60,
     "metadata": {},
     "output_type": "execute_result"
    }
   ],
   "source": [
    "df_rs_lr = pd.DataFrame(rs_lr_results.cv_results_)\n",
    "display(f'df LR shape: {df_rs_lr.shape}')\n",
    "df_rs_rf = pd.DataFrame(rs_rf_results.cv_results_)\n",
    "display(f'df RF shape: {df_rs_rf.shape}')\n",
    "df_rs_xgb = pd.DataFrame(rs_xgb_results.cv_results_)\n",
    "display(f'df XGB shape: {df_rs_xgb.shape}')\n",
    "\n",
    "# Combine dataframes\n",
    "df_rs_cv = pd.concat([df_rs_lr, df_rs_rf, df_rs_xgb], axis=0)\n",
    "\n",
    "# Create clf_type column\n",
    "df_rs_cv['clf_type'] = df_rs['param_clf'].apply(lambda x: type(x).__name__)\n",
    "df_rs_cv['clf_type'].value_counts()"
   ]
  },
  {
   "cell_type": "code",
   "execution_count": 61,
   "id": "ad0b42f4-e5f3-49b1-a36d-16a2f57a29bc",
   "metadata": {},
   "outputs": [
    {
     "data": {
      "application/com.datacamp.data-table.v1+json": {
       "is_truncated": false,
       "table": {
        "data": [
         {
          "index": 0,
          "mean_fit_time": 2.5380747318,
          "mean_score_time": 0.1016304493,
          "mean_test_score": 0.686836416,
          "param_clf": {
           "C": 100,
           "class_weight": null,
           "dual": false,
           "fit_intercept": true,
           "intercept_scaling": 1,
           "max_iter": 100,
           "n_jobs": null,
           "random_state": null,
           "solver": "lbfgs",
           "tol": 0.0001,
           "warm_start": false
          },
          "param_clf__C": 100,
          "params": {
           "clf": {
            "C": 100,
            "class_weight": null,
            "dual": false,
            "fit_intercept": true,
            "intercept_scaling": 1,
            "max_iter": 100,
            "n_jobs": null,
            "random_state": null,
            "solver": "lbfgs",
            "tol": 0.0001,
            "warm_start": false
           },
           "clf__C": 100
          },
          "rank_test_score": 1,
          "split0_test_score": 0.6863092885,
          "split1_test_score": 0.6878586159,
          "split2_test_score": 0.6863413435,
          "std_fit_time": 0.3906194703,
          "std_score_time": 0.0018081307,
          "std_test_score": 0.0007229229
         },
         {
          "index": 1,
          "mean_fit_time": 2.4630212784,
          "mean_score_time": 0.1024804115,
          "mean_test_score": 0.686836416,
          "param_clf": {
           "C": 100,
           "class_weight": null,
           "dual": false,
           "fit_intercept": true,
           "intercept_scaling": 1,
           "max_iter": 100,
           "n_jobs": null,
           "random_state": null,
           "solver": "lbfgs",
           "tol": 0.0001,
           "warm_start": false
          },
          "param_clf__C": 10,
          "params": {
           "clf": {
            "C": 100,
            "class_weight": null,
            "dual": false,
            "fit_intercept": true,
            "intercept_scaling": 1,
            "max_iter": 100,
            "n_jobs": null,
            "random_state": null,
            "solver": "lbfgs",
            "tol": 0.0001,
            "warm_start": false
           },
           "clf__C": 10
          },
          "rank_test_score": 1,
          "split0_test_score": 0.6863092885,
          "split1_test_score": 0.6878586159,
          "split2_test_score": 0.6863413435,
          "std_fit_time": 0.4159617363,
          "std_score_time": 0.0036469642,
          "std_test_score": 0.0007229229
         },
         {
          "index": 2,
          "mean_fit_time": 2.5294136206,
          "mean_score_time": 0.0687051614,
          "mean_test_score": 0.686836416,
          "param_clf": {
           "C": 100,
           "class_weight": null,
           "dual": false,
           "fit_intercept": true,
           "intercept_scaling": 1,
           "max_iter": 100,
           "n_jobs": null,
           "random_state": null,
           "solver": "lbfgs",
           "tol": 0.0001,
           "warm_start": false
          },
          "param_clf__C": 1,
          "params": {
           "clf": {
            "C": 100,
            "class_weight": null,
            "dual": false,
            "fit_intercept": true,
            "intercept_scaling": 1,
            "max_iter": 100,
            "n_jobs": null,
            "random_state": null,
            "solver": "lbfgs",
            "tol": 0.0001,
            "warm_start": false
           },
           "clf__C": 1
          },
          "rank_test_score": 1,
          "split0_test_score": 0.6863092885,
          "split1_test_score": 0.6878586159,
          "split2_test_score": 0.6863413435,
          "std_fit_time": 0.3329712666,
          "std_score_time": 0.0410695061,
          "std_test_score": 0.0007229229
         },
         {
          "index": 3,
          "mean_fit_time": 2.7679883639,
          "mean_score_time": 0.1317838033,
          "mean_test_score": 0.686836416,
          "param_clf": {
           "C": 100,
           "class_weight": null,
           "dual": false,
           "fit_intercept": true,
           "intercept_scaling": 1,
           "max_iter": 100,
           "n_jobs": null,
           "random_state": null,
           "solver": "lbfgs",
           "tol": 0.0001,
           "warm_start": false
          },
          "param_clf__C": 0.1,
          "params": {
           "clf": {
            "C": 100,
            "class_weight": null,
            "dual": false,
            "fit_intercept": true,
            "intercept_scaling": 1,
            "max_iter": 100,
            "n_jobs": null,
            "random_state": null,
            "solver": "lbfgs",
            "tol": 0.0001,
            "warm_start": false
           },
           "clf__C": 0.1
          },
          "rank_test_score": 1,
          "split0_test_score": 0.6863092885,
          "split1_test_score": 0.6878586159,
          "split2_test_score": 0.6863413435,
          "std_fit_time": 0.1677359147,
          "std_score_time": 0.0432860531,
          "std_test_score": 0.0007229229
         },
         {
          "index": 4,
          "mean_fit_time": 2.5630455017,
          "mean_score_time": 0.105218331,
          "mean_test_score": 0.686836416,
          "param_clf": {
           "C": 100,
           "class_weight": null,
           "dual": false,
           "fit_intercept": true,
           "intercept_scaling": 1,
           "max_iter": 100,
           "n_jobs": null,
           "random_state": null,
           "solver": "lbfgs",
           "tol": 0.0001,
           "warm_start": false
          },
          "param_clf__C": 0.01,
          "params": {
           "clf": {
            "C": 100,
            "class_weight": null,
            "dual": false,
            "fit_intercept": true,
            "intercept_scaling": 1,
            "max_iter": 100,
            "n_jobs": null,
            "random_state": null,
            "solver": "lbfgs",
            "tol": 0.0001,
            "warm_start": false
           },
           "clf__C": 0.01
          },
          "rank_test_score": 1,
          "split0_test_score": 0.6863092885,
          "split1_test_score": 0.6878586159,
          "split2_test_score": 0.6863413435,
          "std_fit_time": 0.3111105423,
          "std_score_time": 0.0050712098,
          "std_test_score": 0.0007229229
         }
        ],
        "schema": {
         "fields": [
          {
           "name": "index",
           "type": "integer"
          },
          {
           "name": "mean_fit_time",
           "type": "number"
          },
          {
           "name": "std_fit_time",
           "type": "number"
          },
          {
           "name": "mean_score_time",
           "type": "number"
          },
          {
           "name": "std_score_time",
           "type": "number"
          },
          {
           "name": "param_clf__C",
           "type": "string"
          },
          {
           "name": "param_clf",
           "type": "string"
          },
          {
           "name": "params",
           "type": "string"
          },
          {
           "name": "split0_test_score",
           "type": "number"
          },
          {
           "name": "split1_test_score",
           "type": "number"
          },
          {
           "name": "split2_test_score",
           "type": "number"
          },
          {
           "name": "mean_test_score",
           "type": "number"
          },
          {
           "name": "std_test_score",
           "type": "number"
          },
          {
           "name": "rank_test_score",
           "type": "integer"
          }
         ],
         "pandas_version": "0.20.0",
         "primaryKey": [
          "index"
         ]
        }
       },
       "total_rows": 5
      },
      "text/html": [
       "<div>\n",
       "<style scoped>\n",
       "    .dataframe tbody tr th:only-of-type {\n",
       "        vertical-align: middle;\n",
       "    }\n",
       "\n",
       "    .dataframe tbody tr th {\n",
       "        vertical-align: top;\n",
       "    }\n",
       "\n",
       "    .dataframe thead th {\n",
       "        text-align: right;\n",
       "    }\n",
       "</style>\n",
       "<table border=\"1\" class=\"dataframe\">\n",
       "  <thead>\n",
       "    <tr style=\"text-align: right;\">\n",
       "      <th></th>\n",
       "      <th>mean_fit_time</th>\n",
       "      <th>std_fit_time</th>\n",
       "      <th>mean_score_time</th>\n",
       "      <th>std_score_time</th>\n",
       "      <th>param_clf__C</th>\n",
       "      <th>param_clf</th>\n",
       "      <th>params</th>\n",
       "      <th>split0_test_score</th>\n",
       "      <th>split1_test_score</th>\n",
       "      <th>split2_test_score</th>\n",
       "      <th>mean_test_score</th>\n",
       "      <th>std_test_score</th>\n",
       "      <th>rank_test_score</th>\n",
       "    </tr>\n",
       "  </thead>\n",
       "  <tbody>\n",
       "    <tr>\n",
       "      <th>0</th>\n",
       "      <td>2.538075</td>\n",
       "      <td>0.390619</td>\n",
       "      <td>0.101630</td>\n",
       "      <td>0.001808</td>\n",
       "      <td>100</td>\n",
       "      <td>LogisticRegression(C=100)</td>\n",
       "      <td>{'clf__C': 100, 'clf': LogisticRegression(C=100)}</td>\n",
       "      <td>0.686309</td>\n",
       "      <td>0.687859</td>\n",
       "      <td>0.686341</td>\n",
       "      <td>0.686836</td>\n",
       "      <td>0.000723</td>\n",
       "      <td>1</td>\n",
       "    </tr>\n",
       "    <tr>\n",
       "      <th>1</th>\n",
       "      <td>2.463021</td>\n",
       "      <td>0.415962</td>\n",
       "      <td>0.102480</td>\n",
       "      <td>0.003647</td>\n",
       "      <td>10</td>\n",
       "      <td>LogisticRegression(C=100)</td>\n",
       "      <td>{'clf__C': 10, 'clf': LogisticRegression(C=100)}</td>\n",
       "      <td>0.686309</td>\n",
       "      <td>0.687859</td>\n",
       "      <td>0.686341</td>\n",
       "      <td>0.686836</td>\n",
       "      <td>0.000723</td>\n",
       "      <td>1</td>\n",
       "    </tr>\n",
       "    <tr>\n",
       "      <th>2</th>\n",
       "      <td>2.529414</td>\n",
       "      <td>0.332971</td>\n",
       "      <td>0.068705</td>\n",
       "      <td>0.041070</td>\n",
       "      <td>1.0</td>\n",
       "      <td>LogisticRegression(C=100)</td>\n",
       "      <td>{'clf__C': 1.0, 'clf': LogisticRegression(C=100)}</td>\n",
       "      <td>0.686309</td>\n",
       "      <td>0.687859</td>\n",
       "      <td>0.686341</td>\n",
       "      <td>0.686836</td>\n",
       "      <td>0.000723</td>\n",
       "      <td>1</td>\n",
       "    </tr>\n",
       "    <tr>\n",
       "      <th>3</th>\n",
       "      <td>2.767988</td>\n",
       "      <td>0.167736</td>\n",
       "      <td>0.131784</td>\n",
       "      <td>0.043286</td>\n",
       "      <td>0.1</td>\n",
       "      <td>LogisticRegression(C=100)</td>\n",
       "      <td>{'clf__C': 0.1, 'clf': LogisticRegression(C=100)}</td>\n",
       "      <td>0.686309</td>\n",
       "      <td>0.687859</td>\n",
       "      <td>0.686341</td>\n",
       "      <td>0.686836</td>\n",
       "      <td>0.000723</td>\n",
       "      <td>1</td>\n",
       "    </tr>\n",
       "    <tr>\n",
       "      <th>4</th>\n",
       "      <td>2.563046</td>\n",
       "      <td>0.311111</td>\n",
       "      <td>0.105218</td>\n",
       "      <td>0.005071</td>\n",
       "      <td>0.01</td>\n",
       "      <td>LogisticRegression(C=100)</td>\n",
       "      <td>{'clf__C': 0.01, 'clf': LogisticRegression(C=1...</td>\n",
       "      <td>0.686309</td>\n",
       "      <td>0.687859</td>\n",
       "      <td>0.686341</td>\n",
       "      <td>0.686836</td>\n",
       "      <td>0.000723</td>\n",
       "      <td>1</td>\n",
       "    </tr>\n",
       "  </tbody>\n",
       "</table>\n",
       "</div>"
      ],
      "text/plain": [
       "   mean_fit_time  std_fit_time  mean_score_time  std_score_time param_clf__C  \\\n",
       "0       2.538075      0.390619         0.101630        0.001808          100   \n",
       "1       2.463021      0.415962         0.102480        0.003647           10   \n",
       "2       2.529414      0.332971         0.068705        0.041070          1.0   \n",
       "3       2.767988      0.167736         0.131784        0.043286          0.1   \n",
       "4       2.563046      0.311111         0.105218        0.005071         0.01   \n",
       "\n",
       "                   param_clf  \\\n",
       "0  LogisticRegression(C=100)   \n",
       "1  LogisticRegression(C=100)   \n",
       "2  LogisticRegression(C=100)   \n",
       "3  LogisticRegression(C=100)   \n",
       "4  LogisticRegression(C=100)   \n",
       "\n",
       "                                              params  split0_test_score  \\\n",
       "0  {'clf__C': 100, 'clf': LogisticRegression(C=100)}           0.686309   \n",
       "1   {'clf__C': 10, 'clf': LogisticRegression(C=100)}           0.686309   \n",
       "2  {'clf__C': 1.0, 'clf': LogisticRegression(C=100)}           0.686309   \n",
       "3  {'clf__C': 0.1, 'clf': LogisticRegression(C=100)}           0.686309   \n",
       "4  {'clf__C': 0.01, 'clf': LogisticRegression(C=1...           0.686309   \n",
       "\n",
       "   split1_test_score  split2_test_score  mean_test_score  std_test_score  \\\n",
       "0           0.687859           0.686341         0.686836        0.000723   \n",
       "1           0.687859           0.686341         0.686836        0.000723   \n",
       "2           0.687859           0.686341         0.686836        0.000723   \n",
       "3           0.687859           0.686341         0.686836        0.000723   \n",
       "4           0.687859           0.686341         0.686836        0.000723   \n",
       "\n",
       "   rank_test_score  \n",
       "0                1  \n",
       "1                1  \n",
       "2                1  \n",
       "3                1  \n",
       "4                1  "
      ]
     },
     "execution_count": 61,
     "metadata": {},
     "output_type": "execute_result"
    }
   ],
   "source": [
    "df_rs_lr"
   ]
  },
  {
   "cell_type": "code",
   "execution_count": 64,
   "id": "379c511a-d277-4225-89cd-984ab5bb9523",
   "metadata": {},
   "outputs": [
    {
     "data": {
      "text/plain": [
       "Index(['mean_fit_time', 'std_fit_time', 'mean_score_time', 'std_score_time',\n",
       "       'param_clf__C', 'param_clf', 'params', 'split0_test_score',\n",
       "       'split1_test_score', 'split2_test_score', 'mean_test_score',\n",
       "       'std_test_score', 'rank_test_score', 'param_clf__n_estimators',\n",
       "       'param_clf__min_samples_split', 'param_clf__max_samples',\n",
       "       'param_clf__max_features', 'param_clf__max_depth',\n",
       "       'param_clf__criterion', 'clf_type'],\n",
       "      dtype='object')"
      ]
     },
     "execution_count": 64,
     "metadata": {},
     "output_type": "execute_result"
    }
   ],
   "source": [
    "df_rs_cv.columns"
   ]
  },
  {
   "cell_type": "markdown",
   "id": "2e95c095-41ba-4be7-81cc-d6bed731549c",
   "metadata": {},
   "source": [
    "**Let's looks at high level performance:**"
   ]
  },
  {
   "cell_type": "code",
   "execution_count": 62,
   "id": "32b72f78-3ece-4de0-a027-c17a0b36ee8e",
   "metadata": {},
   "outputs": [
    {
     "data": {
      "application/com.datacamp.data-table.v1+json": {
       "is_truncated": false,
       "table": {
        "data": [
         {
          "clf_type": "XGBClassifier",
          "index": 3,
          "mean_test_score": 0.9310068491
         },
         {
          "clf_type": "XGBClassifier",
          "index": 2,
          "mean_test_score": 0.9307646554
         },
         {
          "clf_type": "XGBClassifier",
          "index": 1,
          "mean_test_score": 0.9307290387
         },
         {
          "clf_type": "XGBClassifier",
          "index": 4,
          "mean_test_score": 0.9306008185
         },
         {
          "clf_type": "XGBClassifier",
          "index": 0,
          "mean_test_score": 0.929226013
         },
         {
          "clf_type": "RandomForestClassifier",
          "index": 4,
          "mean_test_score": 0.8394718753
         },
         {
          "clf_type": "RandomForestClassifier",
          "index": 0,
          "mean_test_score": 0.6868649093
         },
         {
          "clf_type": "RandomForestClassifier",
          "index": 1,
          "mean_test_score": 0.6868649093
         },
         {
          "clf_type": "RandomForestClassifier",
          "index": 2,
          "mean_test_score": 0.6868649093
         },
         {
          "clf_type": "RandomForestClassifier",
          "index": 3,
          "mean_test_score": 0.6868649093
         },
         {
          "clf_type": "LogisticRegression",
          "index": 0,
          "mean_test_score": 0.686836416
         },
         {
          "clf_type": "LogisticRegression",
          "index": 1,
          "mean_test_score": 0.686836416
         },
         {
          "clf_type": "LogisticRegression",
          "index": 2,
          "mean_test_score": 0.686836416
         },
         {
          "clf_type": "LogisticRegression",
          "index": 3,
          "mean_test_score": 0.686836416
         },
         {
          "clf_type": "LogisticRegression",
          "index": 4,
          "mean_test_score": 0.686836416
         }
        ],
        "schema": {
         "fields": [
          {
           "name": "index",
           "type": "integer"
          },
          {
           "name": "clf_type",
           "type": "string"
          },
          {
           "name": "mean_test_score",
           "type": "number"
          }
         ],
         "pandas_version": "0.20.0"
        }
       },
       "total_rows": 15
      },
      "text/html": [
       "<div>\n",
       "<style scoped>\n",
       "    .dataframe tbody tr th:only-of-type {\n",
       "        vertical-align: middle;\n",
       "    }\n",
       "\n",
       "    .dataframe tbody tr th {\n",
       "        vertical-align: top;\n",
       "    }\n",
       "\n",
       "    .dataframe thead th {\n",
       "        text-align: right;\n",
       "    }\n",
       "</style>\n",
       "<table border=\"1\" class=\"dataframe\">\n",
       "  <thead>\n",
       "    <tr style=\"text-align: right;\">\n",
       "      <th></th>\n",
       "      <th>clf_type</th>\n",
       "      <th>mean_test_score</th>\n",
       "    </tr>\n",
       "  </thead>\n",
       "  <tbody>\n",
       "    <tr>\n",
       "      <th>3</th>\n",
       "      <td>XGBClassifier</td>\n",
       "      <td>0.931007</td>\n",
       "    </tr>\n",
       "    <tr>\n",
       "      <th>2</th>\n",
       "      <td>XGBClassifier</td>\n",
       "      <td>0.930765</td>\n",
       "    </tr>\n",
       "    <tr>\n",
       "      <th>1</th>\n",
       "      <td>XGBClassifier</td>\n",
       "      <td>0.930729</td>\n",
       "    </tr>\n",
       "    <tr>\n",
       "      <th>4</th>\n",
       "      <td>XGBClassifier</td>\n",
       "      <td>0.930601</td>\n",
       "    </tr>\n",
       "    <tr>\n",
       "      <th>0</th>\n",
       "      <td>XGBClassifier</td>\n",
       "      <td>0.929226</td>\n",
       "    </tr>\n",
       "    <tr>\n",
       "      <th>4</th>\n",
       "      <td>RandomForestClassifier</td>\n",
       "      <td>0.839472</td>\n",
       "    </tr>\n",
       "    <tr>\n",
       "      <th>0</th>\n",
       "      <td>RandomForestClassifier</td>\n",
       "      <td>0.686865</td>\n",
       "    </tr>\n",
       "    <tr>\n",
       "      <th>1</th>\n",
       "      <td>RandomForestClassifier</td>\n",
       "      <td>0.686865</td>\n",
       "    </tr>\n",
       "    <tr>\n",
       "      <th>2</th>\n",
       "      <td>RandomForestClassifier</td>\n",
       "      <td>0.686865</td>\n",
       "    </tr>\n",
       "    <tr>\n",
       "      <th>3</th>\n",
       "      <td>RandomForestClassifier</td>\n",
       "      <td>0.686865</td>\n",
       "    </tr>\n",
       "    <tr>\n",
       "      <th>0</th>\n",
       "      <td>LogisticRegression</td>\n",
       "      <td>0.686836</td>\n",
       "    </tr>\n",
       "    <tr>\n",
       "      <th>1</th>\n",
       "      <td>LogisticRegression</td>\n",
       "      <td>0.686836</td>\n",
       "    </tr>\n",
       "    <tr>\n",
       "      <th>2</th>\n",
       "      <td>LogisticRegression</td>\n",
       "      <td>0.686836</td>\n",
       "    </tr>\n",
       "    <tr>\n",
       "      <th>3</th>\n",
       "      <td>LogisticRegression</td>\n",
       "      <td>0.686836</td>\n",
       "    </tr>\n",
       "    <tr>\n",
       "      <th>4</th>\n",
       "      <td>LogisticRegression</td>\n",
       "      <td>0.686836</td>\n",
       "    </tr>\n",
       "  </tbody>\n",
       "</table>\n",
       "</div>"
      ],
      "text/plain": [
       "                 clf_type  mean_test_score\n",
       "3           XGBClassifier         0.931007\n",
       "2           XGBClassifier         0.930765\n",
       "1           XGBClassifier         0.930729\n",
       "4           XGBClassifier         0.930601\n",
       "0           XGBClassifier         0.929226\n",
       "4  RandomForestClassifier         0.839472\n",
       "0  RandomForestClassifier         0.686865\n",
       "1  RandomForestClassifier         0.686865\n",
       "2  RandomForestClassifier         0.686865\n",
       "3  RandomForestClassifier         0.686865\n",
       "0      LogisticRegression         0.686836\n",
       "1      LogisticRegression         0.686836\n",
       "2      LogisticRegression         0.686836\n",
       "3      LogisticRegression         0.686836\n",
       "4      LogisticRegression         0.686836"
      ]
     },
     "execution_count": 62,
     "metadata": {},
     "output_type": "execute_result"
    }
   ],
   "source": [
    "df_rs_cv[['clf_type', 'mean_test_score']].sort_values(by=['mean_test_score'], ascending=[False])"
   ]
  },
  {
   "cell_type": "code",
   "execution_count": 66,
   "id": "f05cf5af-722e-4d34-8110-6d505bb62119",
   "metadata": {},
   "outputs": [
    {
     "data": {
      "application/com.datacamp.data-table.v1+json": {
       "is_truncated": false,
       "table": {
        "data": [
         {
          "0": 19.6664400101,
          "1": 3.2223052979,
          "2": 1.4188216527,
          "3": 2.7793835004,
          "4": 3.8782761892,
          "index": "mean_fit_time"
         },
         {
          "0": 0.1374011377,
          "1": 0.0279067889,
          "2": 0.0056564048,
          "3": 0.0089954133,
          "4": 0.1422266183,
          "index": "std_fit_time"
         },
         {
          "0": 0.889051199,
          "1": 0.6372217337,
          "2": 0.3171494802,
          "3": 0.6245807012,
          "4": 0.2502628167,
          "index": "mean_score_time"
         },
         {
          "0": 0.0019825815,
          "1": 0.015343218,
          "2": 0.000192996,
          "3": 0.00182217,
          "4": 0.0038611982,
          "index": "std_score_time"
         },
         {
          "0": 200,
          "1": 200,
          "2": 100,
          "3": 200,
          "4": 50,
          "index": "param_clf__n_estimators"
         },
         {
          "0": 0.26,
          "1": 0.46,
          "2": 0.26,
          "3": 0.38,
          "4": 0.14,
          "index": "param_clf__min_samples_split"
         },
         {
          "0": 0.75,
          "1": 0.5,
          "2": 1,
          "3": 1,
          "4": 0.5,
          "index": "param_clf__max_samples"
         },
         {
          "0": "sqrt",
          "1": "sqrt",
          "2": "log2",
          "3": "sqrt",
          "4": "auto",
          "index": "param_clf__max_features"
         },
         {
          "0": 7,
          "1": 5,
          "2": 3,
          "3": 4,
          "4": 9,
          "index": "param_clf__max_depth"
         },
         {
          "0": "entropy",
          "1": "gini",
          "2": "gini",
          "3": "entropy",
          "4": "gini",
          "index": "param_clf__criterion"
         },
         {
          "0": {
           "base_estimator": {
            "ccp_alpha": 0,
            "criterion": "gini",
            "max_depth": null,
            "max_leaf_nodes": null,
            "min_samples_leaf": 1,
            "min_weight_fraction_leaf": 0,
            "random_state": null,
            "splitter": "best"
           },
           "ccp_alpha": 0,
           "criterion": "gini",
           "estimator_params": [
            "criterion",
            "max_depth",
            "min_samples_split",
            "min_samples_leaf",
            "min_weight_fraction_leaf",
            "max_features",
            "max_leaf_nodes",
            "min_impurity_decrease",
            "random_state",
            "ccp_alpha"
           ],
           "max_depth": 9,
           "max_leaf_nodes": null,
           "min_impurity_decrease": 0,
           "min_samples_split": 0.14,
           "n_estimators": 50,
           "n_jobs": null,
           "random_state": null,
           "verbose": 0
          },
          "1": {
           "base_estimator": {
            "ccp_alpha": 0,
            "criterion": "gini",
            "max_depth": null,
            "max_leaf_nodes": null,
            "min_samples_leaf": 1,
            "min_weight_fraction_leaf": 0,
            "random_state": null,
            "splitter": "best"
           },
           "ccp_alpha": 0,
           "criterion": "gini",
           "estimator_params": [
            "criterion",
            "max_depth",
            "min_samples_split",
            "min_samples_leaf",
            "min_weight_fraction_leaf",
            "max_features",
            "max_leaf_nodes",
            "min_impurity_decrease",
            "random_state",
            "ccp_alpha"
           ],
           "max_depth": 9,
           "max_leaf_nodes": null,
           "min_impurity_decrease": 0,
           "min_samples_split": 0.14,
           "n_estimators": 50,
           "n_jobs": null,
           "random_state": null,
           "verbose": 0
          },
          "2": {
           "base_estimator": {
            "ccp_alpha": 0,
            "criterion": "gini",
            "max_depth": null,
            "max_leaf_nodes": null,
            "min_samples_leaf": 1,
            "min_weight_fraction_leaf": 0,
            "random_state": null,
            "splitter": "best"
           },
           "ccp_alpha": 0,
           "criterion": "gini",
           "estimator_params": [
            "criterion",
            "max_depth",
            "min_samples_split",
            "min_samples_leaf",
            "min_weight_fraction_leaf",
            "max_features",
            "max_leaf_nodes",
            "min_impurity_decrease",
            "random_state",
            "ccp_alpha"
           ],
           "max_depth": 9,
           "max_leaf_nodes": null,
           "min_impurity_decrease": 0,
           "min_samples_split": 0.14,
           "n_estimators": 50,
           "n_jobs": null,
           "random_state": null,
           "verbose": 0
          },
          "3": {
           "base_estimator": {
            "ccp_alpha": 0,
            "criterion": "gini",
            "max_depth": null,
            "max_leaf_nodes": null,
            "min_samples_leaf": 1,
            "min_weight_fraction_leaf": 0,
            "random_state": null,
            "splitter": "best"
           },
           "ccp_alpha": 0,
           "criterion": "gini",
           "estimator_params": [
            "criterion",
            "max_depth",
            "min_samples_split",
            "min_samples_leaf",
            "min_weight_fraction_leaf",
            "max_features",
            "max_leaf_nodes",
            "min_impurity_decrease",
            "random_state",
            "ccp_alpha"
           ],
           "max_depth": 9,
           "max_leaf_nodes": null,
           "min_impurity_decrease": 0,
           "min_samples_split": 0.14,
           "n_estimators": 50,
           "n_jobs": null,
           "random_state": null,
           "verbose": 0
          },
          "4": {
           "base_estimator": {
            "ccp_alpha": 0,
            "criterion": "gini",
            "max_depth": null,
            "max_leaf_nodes": null,
            "min_samples_leaf": 1,
            "min_weight_fraction_leaf": 0,
            "random_state": null,
            "splitter": "best"
           },
           "ccp_alpha": 0,
           "criterion": "gini",
           "estimator_params": [
            "criterion",
            "max_depth",
            "min_samples_split",
            "min_samples_leaf",
            "min_weight_fraction_leaf",
            "max_features",
            "max_leaf_nodes",
            "min_impurity_decrease",
            "random_state",
            "ccp_alpha"
           ],
           "max_depth": 9,
           "max_leaf_nodes": null,
           "min_impurity_decrease": 0,
           "min_samples_split": 0.14,
           "n_estimators": 50,
           "n_jobs": null,
           "random_state": null,
           "verbose": 0
          },
          "index": "param_clf"
         },
         {
          "0": {
           "clf": {
            "base_estimator": {
             "ccp_alpha": 0,
             "criterion": "gini",
             "max_depth": null,
             "max_leaf_nodes": null,
             "min_samples_leaf": 1,
             "min_weight_fraction_leaf": 0,
             "random_state": null,
             "splitter": "best"
            },
            "ccp_alpha": 0,
            "criterion": "gini",
            "estimator_params": [
             "criterion",
             "max_depth",
             "min_samples_split",
             "min_samples_leaf",
             "min_weight_fraction_leaf",
             "max_features",
             "max_leaf_nodes",
             "min_impurity_decrease",
             "random_state",
             "ccp_alpha"
            ],
            "max_depth": 9,
            "max_leaf_nodes": null,
            "min_impurity_decrease": 0,
            "min_samples_split": 0.14,
            "n_estimators": 50,
            "n_jobs": null,
            "random_state": null,
            "verbose": 0
           },
           "clf__criterion": "entropy",
           "clf__max_depth": 7,
           "clf__max_features": "sqrt",
           "clf__max_samples": 0.75,
           "clf__min_samples_split": 0.26,
           "clf__n_estimators": 200
          },
          "1": {
           "clf": {
            "base_estimator": {
             "ccp_alpha": 0,
             "criterion": "gini",
             "max_depth": null,
             "max_leaf_nodes": null,
             "min_samples_leaf": 1,
             "min_weight_fraction_leaf": 0,
             "random_state": null,
             "splitter": "best"
            },
            "ccp_alpha": 0,
            "criterion": "gini",
            "estimator_params": [
             "criterion",
             "max_depth",
             "min_samples_split",
             "min_samples_leaf",
             "min_weight_fraction_leaf",
             "max_features",
             "max_leaf_nodes",
             "min_impurity_decrease",
             "random_state",
             "ccp_alpha"
            ],
            "max_depth": 9,
            "max_leaf_nodes": null,
            "min_impurity_decrease": 0,
            "min_samples_split": 0.14,
            "n_estimators": 50,
            "n_jobs": null,
            "random_state": null,
            "verbose": 0
           },
           "clf__criterion": "gini",
           "clf__max_depth": 5,
           "clf__max_features": "sqrt",
           "clf__max_samples": 0.5,
           "clf__min_samples_split": 0.46,
           "clf__n_estimators": 200
          },
          "2": {
           "clf": {
            "base_estimator": {
             "ccp_alpha": 0,
             "criterion": "gini",
             "max_depth": null,
             "max_leaf_nodes": null,
             "min_samples_leaf": 1,
             "min_weight_fraction_leaf": 0,
             "random_state": null,
             "splitter": "best"
            },
            "ccp_alpha": 0,
            "criterion": "gini",
            "estimator_params": [
             "criterion",
             "max_depth",
             "min_samples_split",
             "min_samples_leaf",
             "min_weight_fraction_leaf",
             "max_features",
             "max_leaf_nodes",
             "min_impurity_decrease",
             "random_state",
             "ccp_alpha"
            ],
            "max_depth": 9,
            "max_leaf_nodes": null,
            "min_impurity_decrease": 0,
            "min_samples_split": 0.14,
            "n_estimators": 50,
            "n_jobs": null,
            "random_state": null,
            "verbose": 0
           },
           "clf__criterion": "gini",
           "clf__max_depth": 3,
           "clf__max_features": "log2",
           "clf__max_samples": 1,
           "clf__min_samples_split": 0.26,
           "clf__n_estimators": 100
          },
          "3": {
           "clf": {
            "base_estimator": {
             "ccp_alpha": 0,
             "criterion": "gini",
             "max_depth": null,
             "max_leaf_nodes": null,
             "min_samples_leaf": 1,
             "min_weight_fraction_leaf": 0,
             "random_state": null,
             "splitter": "best"
            },
            "ccp_alpha": 0,
            "criterion": "gini",
            "estimator_params": [
             "criterion",
             "max_depth",
             "min_samples_split",
             "min_samples_leaf",
             "min_weight_fraction_leaf",
             "max_features",
             "max_leaf_nodes",
             "min_impurity_decrease",
             "random_state",
             "ccp_alpha"
            ],
            "max_depth": 9,
            "max_leaf_nodes": null,
            "min_impurity_decrease": 0,
            "min_samples_split": 0.14,
            "n_estimators": 50,
            "n_jobs": null,
            "random_state": null,
            "verbose": 0
           },
           "clf__criterion": "entropy",
           "clf__max_depth": 4,
           "clf__max_features": "sqrt",
           "clf__max_samples": 1,
           "clf__min_samples_split": 0.38,
           "clf__n_estimators": 200
          },
          "4": {
           "clf": {
            "base_estimator": {
             "ccp_alpha": 0,
             "criterion": "gini",
             "max_depth": null,
             "max_leaf_nodes": null,
             "min_samples_leaf": 1,
             "min_weight_fraction_leaf": 0,
             "random_state": null,
             "splitter": "best"
            },
            "ccp_alpha": 0,
            "criterion": "gini",
            "estimator_params": [
             "criterion",
             "max_depth",
             "min_samples_split",
             "min_samples_leaf",
             "min_weight_fraction_leaf",
             "max_features",
             "max_leaf_nodes",
             "min_impurity_decrease",
             "random_state",
             "ccp_alpha"
            ],
            "max_depth": 9,
            "max_leaf_nodes": null,
            "min_impurity_decrease": 0,
            "min_samples_split": 0.14,
            "n_estimators": 50,
            "n_jobs": null,
            "random_state": null,
            "verbose": 0
           },
           "clf__criterion": "gini",
           "clf__max_depth": 9,
           "clf__max_features": "auto",
           "clf__max_samples": 0.5,
           "clf__min_samples_split": 0.14,
           "clf__n_estimators": 50
          },
          "index": "params"
         },
         {
          "0": 0.6863627136,
          "1": 0.6863627136,
          "2": 0.6863627136,
          "3": 0.6863627136,
          "4": 0.8970071269,
          "index": "split0_test_score"
         },
         {
          "0": 0.6878799859,
          "1": 0.6878799859,
          "2": 0.6878799859,
          "3": 0.6878799859,
          "4": 0.8559232388,
          "index": "split1_test_score"
         },
         {
          "0": 0.6863520286,
          "1": 0.6863520286,
          "2": 0.6863520286,
          "3": 0.6863520286,
          "4": 0.76548526,
          "index": "split2_test_score"
         },
         {
          "0": 0.6868649093,
          "1": 0.6868649093,
          "2": 0.6868649093,
          "3": 0.6868649093,
          "4": 0.8394718753,
          "index": "mean_test_score"
         },
         {
          "0": 0.0007177808,
          "1": 0.0007177808,
          "2": 0.0007177808,
          "3": 0.0007177808,
          "4": 0.0549392749,
          "index": "std_test_score"
         },
         {
          "0": 2,
          "1": 2,
          "2": 2,
          "3": 2,
          "4": 1,
          "index": "rank_test_score"
         }
        ],
        "schema": {
         "fields": [
          {
           "name": "index",
           "type": "string"
          },
          {
           "name": 0,
           "type": "string"
          },
          {
           "name": 1,
           "type": "string"
          },
          {
           "name": 2,
           "type": "string"
          },
          {
           "name": 3,
           "type": "string"
          },
          {
           "name": 4,
           "type": "string"
          }
         ],
         "pandas_version": "0.20.0",
         "primaryKey": [
          "index"
         ]
        }
       },
       "total_rows": 18
      },
      "text/html": [
       "<div>\n",
       "<style scoped>\n",
       "    .dataframe tbody tr th:only-of-type {\n",
       "        vertical-align: middle;\n",
       "    }\n",
       "\n",
       "    .dataframe tbody tr th {\n",
       "        vertical-align: top;\n",
       "    }\n",
       "\n",
       "    .dataframe thead th {\n",
       "        text-align: right;\n",
       "    }\n",
       "</style>\n",
       "<table border=\"1\" class=\"dataframe\">\n",
       "  <thead>\n",
       "    <tr style=\"text-align: right;\">\n",
       "      <th></th>\n",
       "      <th>0</th>\n",
       "      <th>1</th>\n",
       "      <th>2</th>\n",
       "      <th>3</th>\n",
       "      <th>4</th>\n",
       "    </tr>\n",
       "  </thead>\n",
       "  <tbody>\n",
       "    <tr>\n",
       "      <th>mean_fit_time</th>\n",
       "      <td>19.66644</td>\n",
       "      <td>3.222305</td>\n",
       "      <td>1.418822</td>\n",
       "      <td>2.779384</td>\n",
       "      <td>3.878276</td>\n",
       "    </tr>\n",
       "    <tr>\n",
       "      <th>std_fit_time</th>\n",
       "      <td>0.137401</td>\n",
       "      <td>0.027907</td>\n",
       "      <td>0.005656</td>\n",
       "      <td>0.008995</td>\n",
       "      <td>0.142227</td>\n",
       "    </tr>\n",
       "    <tr>\n",
       "      <th>mean_score_time</th>\n",
       "      <td>0.889051</td>\n",
       "      <td>0.637222</td>\n",
       "      <td>0.317149</td>\n",
       "      <td>0.624581</td>\n",
       "      <td>0.250263</td>\n",
       "    </tr>\n",
       "    <tr>\n",
       "      <th>std_score_time</th>\n",
       "      <td>0.001983</td>\n",
       "      <td>0.015343</td>\n",
       "      <td>0.000193</td>\n",
       "      <td>0.001822</td>\n",
       "      <td>0.003861</td>\n",
       "    </tr>\n",
       "    <tr>\n",
       "      <th>param_clf__n_estimators</th>\n",
       "      <td>200</td>\n",
       "      <td>200</td>\n",
       "      <td>100</td>\n",
       "      <td>200</td>\n",
       "      <td>50</td>\n",
       "    </tr>\n",
       "    <tr>\n",
       "      <th>param_clf__min_samples_split</th>\n",
       "      <td>0.26</td>\n",
       "      <td>0.46</td>\n",
       "      <td>0.26</td>\n",
       "      <td>0.38</td>\n",
       "      <td>0.14</td>\n",
       "    </tr>\n",
       "    <tr>\n",
       "      <th>param_clf__max_samples</th>\n",
       "      <td>0.75</td>\n",
       "      <td>0.5</td>\n",
       "      <td>1</td>\n",
       "      <td>1</td>\n",
       "      <td>0.5</td>\n",
       "    </tr>\n",
       "    <tr>\n",
       "      <th>param_clf__max_features</th>\n",
       "      <td>sqrt</td>\n",
       "      <td>sqrt</td>\n",
       "      <td>log2</td>\n",
       "      <td>sqrt</td>\n",
       "      <td>auto</td>\n",
       "    </tr>\n",
       "    <tr>\n",
       "      <th>param_clf__max_depth</th>\n",
       "      <td>7</td>\n",
       "      <td>5</td>\n",
       "      <td>3</td>\n",
       "      <td>4</td>\n",
       "      <td>9</td>\n",
       "    </tr>\n",
       "    <tr>\n",
       "      <th>param_clf__criterion</th>\n",
       "      <td>entropy</td>\n",
       "      <td>gini</td>\n",
       "      <td>gini</td>\n",
       "      <td>entropy</td>\n",
       "      <td>gini</td>\n",
       "    </tr>\n",
       "    <tr>\n",
       "      <th>param_clf</th>\n",
       "      <td>RandomForestClassifier(max_depth=9, max_sample...</td>\n",
       "      <td>RandomForestClassifier(max_depth=9, max_sample...</td>\n",
       "      <td>RandomForestClassifier(max_depth=9, max_sample...</td>\n",
       "      <td>RandomForestClassifier(max_depth=9, max_sample...</td>\n",
       "      <td>RandomForestClassifier(max_depth=9, max_sample...</td>\n",
       "    </tr>\n",
       "    <tr>\n",
       "      <th>params</th>\n",
       "      <td>{'clf__n_estimators': 200, 'clf__min_samples_s...</td>\n",
       "      <td>{'clf__n_estimators': 200, 'clf__min_samples_s...</td>\n",
       "      <td>{'clf__n_estimators': 100, 'clf__min_samples_s...</td>\n",
       "      <td>{'clf__n_estimators': 200, 'clf__min_samples_s...</td>\n",
       "      <td>{'clf__n_estimators': 50, 'clf__min_samples_sp...</td>\n",
       "    </tr>\n",
       "    <tr>\n",
       "      <th>split0_test_score</th>\n",
       "      <td>0.686363</td>\n",
       "      <td>0.686363</td>\n",
       "      <td>0.686363</td>\n",
       "      <td>0.686363</td>\n",
       "      <td>0.897007</td>\n",
       "    </tr>\n",
       "    <tr>\n",
       "      <th>split1_test_score</th>\n",
       "      <td>0.68788</td>\n",
       "      <td>0.68788</td>\n",
       "      <td>0.68788</td>\n",
       "      <td>0.68788</td>\n",
       "      <td>0.855923</td>\n",
       "    </tr>\n",
       "    <tr>\n",
       "      <th>split2_test_score</th>\n",
       "      <td>0.686352</td>\n",
       "      <td>0.686352</td>\n",
       "      <td>0.686352</td>\n",
       "      <td>0.686352</td>\n",
       "      <td>0.765485</td>\n",
       "    </tr>\n",
       "    <tr>\n",
       "      <th>mean_test_score</th>\n",
       "      <td>0.686865</td>\n",
       "      <td>0.686865</td>\n",
       "      <td>0.686865</td>\n",
       "      <td>0.686865</td>\n",
       "      <td>0.839472</td>\n",
       "    </tr>\n",
       "    <tr>\n",
       "      <th>std_test_score</th>\n",
       "      <td>0.000718</td>\n",
       "      <td>0.000718</td>\n",
       "      <td>0.000718</td>\n",
       "      <td>0.000718</td>\n",
       "      <td>0.054939</td>\n",
       "    </tr>\n",
       "    <tr>\n",
       "      <th>rank_test_score</th>\n",
       "      <td>2</td>\n",
       "      <td>2</td>\n",
       "      <td>2</td>\n",
       "      <td>2</td>\n",
       "      <td>1</td>\n",
       "    </tr>\n",
       "  </tbody>\n",
       "</table>\n",
       "</div>"
      ],
      "text/plain": [
       "                                                                              0  \\\n",
       "mean_fit_time                                                          19.66644   \n",
       "std_fit_time                                                           0.137401   \n",
       "mean_score_time                                                        0.889051   \n",
       "std_score_time                                                         0.001983   \n",
       "param_clf__n_estimators                                                     200   \n",
       "param_clf__min_samples_split                                               0.26   \n",
       "param_clf__max_samples                                                     0.75   \n",
       "param_clf__max_features                                                    sqrt   \n",
       "param_clf__max_depth                                                          7   \n",
       "param_clf__criterion                                                    entropy   \n",
       "param_clf                     RandomForestClassifier(max_depth=9, max_sample...   \n",
       "params                        {'clf__n_estimators': 200, 'clf__min_samples_s...   \n",
       "split0_test_score                                                      0.686363   \n",
       "split1_test_score                                                       0.68788   \n",
       "split2_test_score                                                      0.686352   \n",
       "mean_test_score                                                        0.686865   \n",
       "std_test_score                                                         0.000718   \n",
       "rank_test_score                                                               2   \n",
       "\n",
       "                                                                              1  \\\n",
       "mean_fit_time                                                          3.222305   \n",
       "std_fit_time                                                           0.027907   \n",
       "mean_score_time                                                        0.637222   \n",
       "std_score_time                                                         0.015343   \n",
       "param_clf__n_estimators                                                     200   \n",
       "param_clf__min_samples_split                                               0.46   \n",
       "param_clf__max_samples                                                      0.5   \n",
       "param_clf__max_features                                                    sqrt   \n",
       "param_clf__max_depth                                                          5   \n",
       "param_clf__criterion                                                       gini   \n",
       "param_clf                     RandomForestClassifier(max_depth=9, max_sample...   \n",
       "params                        {'clf__n_estimators': 200, 'clf__min_samples_s...   \n",
       "split0_test_score                                                      0.686363   \n",
       "split1_test_score                                                       0.68788   \n",
       "split2_test_score                                                      0.686352   \n",
       "mean_test_score                                                        0.686865   \n",
       "std_test_score                                                         0.000718   \n",
       "rank_test_score                                                               2   \n",
       "\n",
       "                                                                              2  \\\n",
       "mean_fit_time                                                          1.418822   \n",
       "std_fit_time                                                           0.005656   \n",
       "mean_score_time                                                        0.317149   \n",
       "std_score_time                                                         0.000193   \n",
       "param_clf__n_estimators                                                     100   \n",
       "param_clf__min_samples_split                                               0.26   \n",
       "param_clf__max_samples                                                        1   \n",
       "param_clf__max_features                                                    log2   \n",
       "param_clf__max_depth                                                          3   \n",
       "param_clf__criterion                                                       gini   \n",
       "param_clf                     RandomForestClassifier(max_depth=9, max_sample...   \n",
       "params                        {'clf__n_estimators': 100, 'clf__min_samples_s...   \n",
       "split0_test_score                                                      0.686363   \n",
       "split1_test_score                                                       0.68788   \n",
       "split2_test_score                                                      0.686352   \n",
       "mean_test_score                                                        0.686865   \n",
       "std_test_score                                                         0.000718   \n",
       "rank_test_score                                                               2   \n",
       "\n",
       "                                                                              3  \\\n",
       "mean_fit_time                                                          2.779384   \n",
       "std_fit_time                                                           0.008995   \n",
       "mean_score_time                                                        0.624581   \n",
       "std_score_time                                                         0.001822   \n",
       "param_clf__n_estimators                                                     200   \n",
       "param_clf__min_samples_split                                               0.38   \n",
       "param_clf__max_samples                                                        1   \n",
       "param_clf__max_features                                                    sqrt   \n",
       "param_clf__max_depth                                                          4   \n",
       "param_clf__criterion                                                    entropy   \n",
       "param_clf                     RandomForestClassifier(max_depth=9, max_sample...   \n",
       "params                        {'clf__n_estimators': 200, 'clf__min_samples_s...   \n",
       "split0_test_score                                                      0.686363   \n",
       "split1_test_score                                                       0.68788   \n",
       "split2_test_score                                                      0.686352   \n",
       "mean_test_score                                                        0.686865   \n",
       "std_test_score                                                         0.000718   \n",
       "rank_test_score                                                               2   \n",
       "\n",
       "                                                                              4  \n",
       "mean_fit_time                                                          3.878276  \n",
       "std_fit_time                                                           0.142227  \n",
       "mean_score_time                                                        0.250263  \n",
       "std_score_time                                                         0.003861  \n",
       "param_clf__n_estimators                                                      50  \n",
       "param_clf__min_samples_split                                               0.14  \n",
       "param_clf__max_samples                                                      0.5  \n",
       "param_clf__max_features                                                    auto  \n",
       "param_clf__max_depth                                                          9  \n",
       "param_clf__criterion                                                       gini  \n",
       "param_clf                     RandomForestClassifier(max_depth=9, max_sample...  \n",
       "params                        {'clf__n_estimators': 50, 'clf__min_samples_sp...  \n",
       "split0_test_score                                                      0.897007  \n",
       "split1_test_score                                                      0.855923  \n",
       "split2_test_score                                                      0.765485  \n",
       "mean_test_score                                                        0.839472  \n",
       "std_test_score                                                         0.054939  \n",
       "rank_test_score                                                               1  "
      ]
     },
     "execution_count": 66,
     "metadata": {},
     "output_type": "execute_result"
    }
   ],
   "source": [
    "df_rs_rf.T"
   ]
  },
  {
   "cell_type": "markdown",
   "id": "b04bd6d2-75cb-437d-ac94-71e338b3eb4e",
   "metadata": {},
   "source": [
    "**Observations:**  \n",
    "- `XGBoost` performs consisently above the others, which is to be expected. In real world it tends to do that as well :)\n",
    "- Random Forest lag behind with one combination breaking the .800 mark, which might have to do with it's larger `max_depth`\n",
    "- `LogisticRegression` was a non-starter. They all performed identically regardless. While I am curious to dig into that, it's not practical for the purposes of this exercise since we `XGBoost` performed far much better.\n"
   ]
  },
  {
   "cell_type": "markdown",
   "id": "e48563cb-2c7d-463f-886e-314551fe9f61",
   "metadata": {},
   "source": [
    "The most promising model came from the `XGBoost` run, so let's review the `best_model_`'s results."
   ]
  },
  {
   "cell_type": "code",
   "execution_count": 68,
   "id": "b6f8f689-32f1-4ea8-9145-b5a59d174dfd",
   "metadata": {},
   "outputs": [],
   "source": [
    "rs_results = rs_xgb_results\n",
    "rs_best = best_xgb"
   ]
  },
  {
   "cell_type": "markdown",
   "id": "2598e25e-1ad8-4dc3-862a-4deda729cbb2",
   "metadata": {},
   "source": [
    "#### Review Results\n",
    "\n",
    "Let's review the best model of the random selected models. Load from pickle if necessary."
   ]
  },
  {
   "cell_type": "markdown",
   "id": "e8584335-2930-431d-99f6-331dadfd78ca",
   "metadata": {},
   "source": [
    "Let's look at the best accuracy score, and the parameters that produced them."
   ]
  },
  {
   "cell_type": "code",
   "execution_count": 71,
   "id": "56c3099d-76a6-4dd6-aa70-8d75e3146bcb",
   "metadata": {},
   "outputs": [
    {
     "data": {
      "text/plain": [
       "0.9310068490955133"
      ]
     },
     "metadata": {},
     "output_type": "display_data"
    },
    {
     "data": {
      "text/plain": [
       "<bound method Pipeline.get_params of Pipeline(steps=[('clf',\n",
       "                 XGBClassifier(base_score=0.5, booster='gbtree',\n",
       "                               colsample_bylevel=1, colsample_bynode=1,\n",
       "                               colsample_bytree=1, criterion='entropy', gamma=0,\n",
       "                               gpu_id=-1, importance_type='gain',\n",
       "                               interaction_constraints='',\n",
       "                               learning_rate=0.300000012, max_delta_step=0,\n",
       "                               max_depth=4, max_features='sqrt', max_samples=1,\n",
       "                               min_child_weight=1, min_samples_split=0.38,\n",
       "                               missing=nan, monotone_constraints='()',\n",
       "                               n_estimators=200, n_jobs=16, num_parallel_tree=1,\n",
       "                               random_state=0, reg_alpha=0, reg_lambda=1,\n",
       "                               scale_pos_weight=1, subsample=1,\n",
       "                               tree_method='exact', validate_parameters=1,\n",
       "                               verbosity=None))])>"
      ]
     },
     "metadata": {},
     "output_type": "display_data"
    }
   ],
   "source": [
    "display(rs_results.best_score_, rs_best.get_params)"
   ]
  },
  {
   "cell_type": "markdown",
   "id": "2d03e6e1-db8d-482b-8b7d-d895fa46da73",
   "metadata": {},
   "source": [
    "Now let's look at performance vs Test."
   ]
  },
  {
   "cell_type": "code",
   "execution_count": 72,
   "id": "824a10c9-3c11-47dc-a8a5-2375a2c961ee",
   "metadata": {},
   "outputs": [
    {
     "data": {
      "text/plain": [
       "'test accuracy: 0.9318583314337816'"
      ]
     },
     "metadata": {},
     "output_type": "display_data"
    },
    {
     "data": {
      "text/plain": [
       "'train accuracy: 0.9310068490955133'"
      ]
     },
     "metadata": {},
     "output_type": "display_data"
    }
   ],
   "source": [
    "display(f\"test accuracy: {rs_best.score(X_test, y_test)}\")\n",
    "display(f\"train accuracy: {rs_results.best_score_}\")"
   ]
  },
  {
   "cell_type": "markdown",
   "id": "03e66852-72db-426f-98d2-be1220b5b902",
   "metadata": {},
   "source": [
    "Consistent, and aligns. That Test score is a smidge higher than train is a little weird, but isn't egregiously so, so will go with it for now."
   ]
  },
  {
   "cell_type": "markdown",
   "id": "ab2ea030-2591-4ca3-b829-ba3b0af68100",
   "metadata": {},
   "source": [
    "Let's get some predictions and review some high level classification metrics:"
   ]
  },
  {
   "cell_type": "code",
   "execution_count": 73,
   "id": "fac1d3e6-fa28-4cd8-9fc8-2e17dcdebd7f",
   "metadata": {},
   "outputs": [],
   "source": [
    "rs_pred = rs_best.predict(X_test)"
   ]
  },
  {
   "cell_type": "markdown",
   "id": "341b590e-455f-4ebd-90b5-98aa6c97f9d9",
   "metadata": {},
   "source": [
    "*Confusion Matrix*"
   ]
  },
  {
   "cell_type": "code",
   "execution_count": 74,
   "id": "195d2d59-ff3f-4679-82ea-2679ec000be6",
   "metadata": {},
   "outputs": [
    {
     "data": {
      "text/plain": [
       "array([[45715,  2497],\n",
       "       [ 2286, 19694]])"
      ]
     },
     "metadata": {},
     "output_type": "display_data"
    }
   ],
   "source": [
    "cm = confusion_matrix(y_test, rs_pred)\n",
    "display(cm)"
   ]
  },
  {
   "cell_type": "markdown",
   "id": "0292f14c-7b50-4080-ab0b-53e08a3beda4",
   "metadata": {},
   "source": [
    "*Accuracy*"
   ]
  },
  {
   "cell_type": "code",
   "execution_count": 75,
   "id": "f21711f9-ec8b-4140-bcdc-ac6311466bdc",
   "metadata": {},
   "outputs": [
    {
     "data": {
      "text/plain": [
       "'What % of pitches did we correctly categorize?'"
      ]
     },
     "metadata": {},
     "output_type": "display_data"
    },
    {
     "data": {
      "text/plain": [
       "'test accuracy: 0.932'"
      ]
     },
     "metadata": {},
     "output_type": "display_data"
    }
   ],
   "source": [
    "display(\"What % of pitches did we correctly categorize?\")\n",
    "display(f\"test accuracy: {round(rs_best.score(X_test, y_test), 3)}\")"
   ]
  },
  {
   "cell_type": "markdown",
   "id": "5bb9aa10-00aa-4acc-a837-e6e961860d13",
   "metadata": {},
   "source": [
    "*Precision*"
   ]
  },
  {
   "cell_type": "code",
   "execution_count": 76,
   "id": "f4f6fb94-fb75-4ce7-ae51-e346e355561d",
   "metadata": {},
   "outputs": [
    {
     "data": {
      "text/plain": [
       "'What % predicted strikes did we get correct?'"
      ]
     },
     "metadata": {},
     "output_type": "display_data"
    },
    {
     "data": {
      "text/plain": [
       "'Positive Predictive Value: 0.88748'"
      ]
     },
     "metadata": {},
     "output_type": "display_data"
    }
   ],
   "source": [
    "precision = precision_score(y_test, rs_pred)\n",
    "display(\"What % predicted strikes did we get correct?\")\n",
    "display(f\"Positive Predictive Value: {round(precision,5)}\")"
   ]
  },
  {
   "cell_type": "markdown",
   "id": "4cfc7e9a-f72e-499c-a35c-16958c2a701e",
   "metadata": {},
   "source": [
    "*Recall*"
   ]
  },
  {
   "cell_type": "code",
   "execution_count": 77,
   "id": "b527f3fb-3f4e-4442-93cc-13bdd1c3335c",
   "metadata": {},
   "outputs": [
    {
     "data": {
      "text/plain": [
       "'What percent of actual strikes did we get capture?'"
      ]
     },
     "metadata": {},
     "output_type": "display_data"
    },
    {
     "data": {
      "text/plain": [
       "'True Positive Rate: 0.896'"
      ]
     },
     "metadata": {},
     "output_type": "display_data"
    }
   ],
   "source": [
    "recall = recall_score(y_test, rs_pred)\n",
    "display(\"What percent of actual strikes did we get capture?\")\n",
    "display(f\"True Positive Rate: {round(recall, 5)}\")"
   ]
  },
  {
   "cell_type": "markdown",
   "id": "383452e8-766f-4136-ad3a-ef60ebcba0da",
   "metadata": {},
   "source": [
    "*ROC/AUC*"
   ]
  },
  {
   "cell_type": "code",
   "execution_count": 78,
   "id": "a5adb410-570d-49e9-bfdb-28d90c6ae77c",
   "metadata": {},
   "outputs": [
    {
     "data": {
      "image/png": "[encoded data removed]",
      "text/plain": [
       "<Figure size 432x288 with 1 Axes>"
      ]
     },
     "metadata": {
      "needs_background": "light"
     },
     "output_type": "display_data"
    }
   ],
   "source": [
    "fpr, tpr, thresholds = roc_curve(y_test, rs_best.predict_proba(X_test)[:,1])\n",
    "roc_auc = auc(fpr, tpr)\n",
    "roc_display = RocCurveDisplay(fpr=fpr, tpr=tpr, roc_auc=roc_auc)\n",
    "roc_display.plot()\n",
    "plt.show()"
   ]
  },
  {
   "cell_type": "markdown",
   "id": "4a64b5a0-47b6-4cf6-82ba-c851faa44042",
   "metadata": {},
   "source": [
    "AUC of 0.98!"
   ]
  },
  {
   "cell_type": "markdown",
   "id": "0739cd97-0ee2-456e-b70e-508fe2d36df6",
   "metadata": {},
   "source": [
    "---  \n",
    "\n",
    "<span style=\"font-size:0.5em;\">Tag 5</span>\n",
    "\n",
    "### Summary <a id='summary'></a>\n",
    "\n",
    "<span style=\"font-size:0.5em;\"><a href='#toc_6'>Back to TOC</a></span>"
   ]
  },
  {
   "cell_type": "markdown",
   "id": "608bbb32-1917-4c56-b3c8-04e887944e16",
   "metadata": {},
   "source": [
    "Show best model again:"
   ]
  },
  {
   "cell_type": "code",
   "execution_count": 79,
   "id": "cfad45e8-fa40-4172-8656-90b0dbdf4b4f",
   "metadata": {},
   "outputs": [
    {
     "data": {
      "text/plain": [
       "<bound method Pipeline.get_params of Pipeline(steps=[('clf',\n",
       "                 XGBClassifier(base_score=0.5, booster='gbtree',\n",
       "                               colsample_bylevel=1, colsample_bynode=1,\n",
       "                               colsample_bytree=1, criterion='entropy', gamma=0,\n",
       "                               gpu_id=-1, importance_type='gain',\n",
       "                               interaction_constraints='',\n",
       "                               learning_rate=0.300000012, max_delta_step=0,\n",
       "                               max_depth=4, max_features='sqrt', max_samples=1,\n",
       "                               min_child_weight=1, min_samples_split=0.38,\n",
       "                               missing=nan, monotone_constraints='()',\n",
       "                               n_estimators=200, n_jobs=16, num_parallel_tree=1,\n",
       "                               random_state=0, reg_alpha=0, reg_lambda=1,\n",
       "                               scale_pos_weight=1, subsample=1,\n",
       "                               tree_method='exact', validate_parameters=1,\n",
       "                               verbosity=None))])>"
      ]
     },
     "execution_count": 79,
     "metadata": {},
     "output_type": "execute_result"
    }
   ],
   "source": [
    "rs_best.get_params"
   ]
  },
  {
   "cell_type": "markdown",
   "id": "cb3ce25a-e8fa-460a-83f2-34fa9b47f173",
   "metadata": {},
   "source": [
    "<span style=\"color:blue\">\n",
    "    \n",
    "Our metric of choice is Accuracy, and the best model found by the random search over **5** iterations applying an `XGBClassifier` had a:  \n",
    "\n",
    "- training accuracy of **0.931**\n",
    "- test accuracy was **0.932** as well\n",
    "    \n",
    "Other classification metrics for context are:\n",
    "- Precision/Positive Predictive Value: **0.887**\n",
    "- Recall/True Positive Rate: **0.896**\n",
    "- ROC AUC: **0.98**\n",
    "\n",
    "All these metrics I would consider to be very good performance, contigent on specific use case of ultimate customer(s). For example a requirement might that the customer might want to maximize PPV as much as possible and would like to target >0.90.\n",
    "    \n",
    "Also, note that these results are basically in sync vs our most <u>[recent neural network](./05_improved_neural_network.ipynb#summary)</u>!    \n",
    "</span>"
   ]
  },
  {
   "cell_type": "markdown",
   "id": "01e2106a-a7f8-48b2-994a-790c5ffc85f8",
   "metadata": {},
   "source": [
    "<span style=\"color:blue\">\n",
    "Compare this to the first run, before the addition of 8 more features:\n",
    "</span>"
   ]
  },
  {
   "cell_type": "markdown",
   "id": "7902a5fa-3fe9-45e1-a29d-44c1ab2514f0",
   "metadata": {},
   "source": [
    "<span style=\"color:dodgerblue\">\n",
    "\n",
    "Was also a **XGBoost classifier**.\n",
    "\n",
    "- training accuracy of **0.928**\n",
    "- test accuracy was **0.928** as well\n",
    "\n",
    "Other classification metrics for context are:\n",
    "- Precision/Positive Predictive Value: **0.885**\n",
    "- Recall/True Positive Rate: **0.885**\n",
    "- ROC AUC: **0.98**\n",
    "</span>"
   ]
  },
  {
   "cell_type": "markdown",
   "id": "0c6a1a19-8063-448a-9998-52a41982563e",
   "metadata": {},
   "source": [
    "<span style=\"color:blue\">\n",
    "This run is an improvement over that as well (again we're talking about differences in the hundredths).\n",
    "</span>"
   ]
  },
  {
   "cell_type": "markdown",
   "id": "a63e1601-6c60-4f5e-9c06-bb5313a49967",
   "metadata": {},
   "source": [
    "<span style=color:blue>    \n",
    "**So is it worth it to add these features? I think on balance it is.** \n",
    "    \n",
    "My reasoning is that I consider the addition of them:\n",
    "\n",
    "- `bside`\n",
    "- `pside`\n",
    "- `break_x`\n",
    "- `break_z`\n",
    "- `angle_x`\n",
    "- `angle_z`\n",
    "- `pitch_speed`\n",
    "        \n",
    "...to be 'costless', on the assumption that whatever process captures the original features that were used in the first run also 'simultaneously' capture these additional features; so no substantial extra effort is required to gather the data.\n",
    "</span>"
   ]
  },
  {
   "cell_type": "markdown",
   "id": "9116ea3a-d6f8-4681-bdcd-8adc73a7c902",
   "metadata": {},
   "source": [
    "---  \n",
    "### 5. Wrap Up `XGBoost` <a id='6_wrapup'></a>\n",
    "\n",
    "<span style=\"font-size:0.5em;\"><a href='#toc_6'>Back to TOC</a></span>"
   ]
  },
  {
   "cell_type": "markdown",
   "id": "276eccfa-3b53-45ef-871d-29ebe3ea7df5",
   "metadata": {},
   "source": [
    "\n",
    "\n",
    "Another thing I'm curious about is feature importance. Let's extract and review."
   ]
  },
  {
   "cell_type": "code",
   "execution_count": 86,
   "id": "a06ae5a5-1a3a-4e9d-ab57-7bbfb1a4bd75",
   "metadata": {},
   "outputs": [
    {
     "data": {
      "text/plain": [
       "{'f_key': ['f10',\n",
       "  'f9',\n",
       "  'f11',\n",
       "  'f0',\n",
       "  'f1',\n",
       "  'f4',\n",
       "  'f12',\n",
       "  'f6',\n",
       "  'f2',\n",
       "  'f3',\n",
       "  'f7'],\n",
       " 'fi_vals': [477, 532, 102, 335, 261, 35, 122, 233, 278, 227, 17]}"
      ]
     },
     "metadata": {},
     "output_type": "display_data"
    }
   ],
   "source": [
    "# get feature importance values\n",
    "dict_fi = rs_best.named_steps['clf'].get_booster().get_fscore()\n",
    "\n",
    "fi_keys = list(dict_fi.keys())\n",
    "\n",
    "fi_vals = list(dict_fi.values())\n",
    "\n",
    "dict_fi = {'f_key': fi_keys\n",
    "           ,'fi_vals': fi_vals\n",
    "          }\n",
    "\n",
    "display(dict_fi)"
   ]
  },
  {
   "cell_type": "code",
   "execution_count": 88,
   "id": "e6ea9857-99a7-4f6f-a53d-516c311ee253",
   "metadata": {},
   "outputs": [
    {
     "data": {
      "text/plain": [
       "{'f_key': ['f0',\n",
       "  'f1',\n",
       "  'f2',\n",
       "  'f3',\n",
       "  'f4',\n",
       "  'f5',\n",
       "  'f6',\n",
       "  'f7',\n",
       "  'f8',\n",
       "  'f9',\n",
       "  'f10',\n",
       "  'f11',\n",
       "  'f12'],\n",
       " 'col_nm': ['angle_x',\n",
       "  'angle_z',\n",
       "  'break_x',\n",
       "  'break_z',\n",
       "  'bside_L',\n",
       "  'bside_R',\n",
       "  'pitch_speed',\n",
       "  'pside_L',\n",
       "  'pside_R',\n",
       "  'px',\n",
       "  'pz',\n",
       "  'stringer_zone_bottom',\n",
       "  'stringer_zone_top']}"
      ]
     },
     "metadata": {},
     "output_type": "display_data"
    }
   ],
   "source": [
    "# 'enumerate' column names\n",
    "dict_col = {'f_key': ['f' + str(x) for x in list(range(len(df_X.columns)))]\n",
    "            ,'col_nm': list(df_X.columns)\n",
    "           }\n",
    "\n",
    "display(dict_col)"
   ]
  },
  {
   "cell_type": "code",
   "execution_count": 89,
   "id": "8941cad4-1b8a-44ad-9ad7-89c3d8adff40",
   "metadata": {},
   "outputs": [],
   "source": [
    "# Join together\n",
    "df_fi_vals = pd.merge(pd.DataFrame(dict_fi), pd.DataFrame(dict_col), how='inner')"
   ]
  },
  {
   "cell_type": "code",
   "execution_count": 90,
   "id": "29ed3eab-baa5-48e2-9adc-25275cb116e0",
   "metadata": {},
   "outputs": [
    {
     "data": {
      "application/com.datacamp.data-table.v1+json": {
       "is_truncated": false,
       "table": {
        "data": [
         {
          "col_nm": "pz",
          "f_key": "f10",
          "fi_vals": 477,
          "index": 0
         },
         {
          "col_nm": "px",
          "f_key": "f9",
          "fi_vals": 532,
          "index": 1
         },
         {
          "col_nm": "stringer_zone_bottom",
          "f_key": "f11",
          "fi_vals": 102,
          "index": 2
         },
         {
          "col_nm": "angle_x",
          "f_key": "f0",
          "fi_vals": 335,
          "index": 3
         },
         {
          "col_nm": "angle_z",
          "f_key": "f1",
          "fi_vals": 261,
          "index": 4
         },
         {
          "col_nm": "bside_L",
          "f_key": "f4",
          "fi_vals": 35,
          "index": 5
         },
         {
          "col_nm": "stringer_zone_top",
          "f_key": "f12",
          "fi_vals": 122,
          "index": 6
         },
         {
          "col_nm": "pitch_speed",
          "f_key": "f6",
          "fi_vals": 233,
          "index": 7
         },
         {
          "col_nm": "break_x",
          "f_key": "f2",
          "fi_vals": 278,
          "index": 8
         },
         {
          "col_nm": "break_z",
          "f_key": "f3",
          "fi_vals": 227,
          "index": 9
         },
         {
          "col_nm": "pside_L",
          "f_key": "f7",
          "fi_vals": 17,
          "index": 10
         }
        ],
        "schema": {
         "fields": [
          {
           "name": "index",
           "type": "integer"
          },
          {
           "name": "f_key",
           "type": "string"
          },
          {
           "name": "fi_vals",
           "type": "integer"
          },
          {
           "name": "col_nm",
           "type": "string"
          }
         ],
         "pandas_version": "0.20.0",
         "primaryKey": [
          "index"
         ]
        }
       },
       "total_rows": 11
      },
      "text/html": [
       "<div>\n",
       "<style scoped>\n",
       "    .dataframe tbody tr th:only-of-type {\n",
       "        vertical-align: middle;\n",
       "    }\n",
       "\n",
       "    .dataframe tbody tr th {\n",
       "        vertical-align: top;\n",
       "    }\n",
       "\n",
       "    .dataframe thead th {\n",
       "        text-align: right;\n",
       "    }\n",
       "</style>\n",
       "<table border=\"1\" class=\"dataframe\">\n",
       "  <thead>\n",
       "    <tr style=\"text-align: right;\">\n",
       "      <th></th>\n",
       "      <th>f_key</th>\n",
       "      <th>fi_vals</th>\n",
       "      <th>col_nm</th>\n",
       "    </tr>\n",
       "  </thead>\n",
       "  <tbody>\n",
       "    <tr>\n",
       "      <th>0</th>\n",
       "      <td>f10</td>\n",
       "      <td>477</td>\n",
       "      <td>pz</td>\n",
       "    </tr>\n",
       "    <tr>\n",
       "      <th>1</th>\n",
       "      <td>f9</td>\n",
       "      <td>532</td>\n",
       "      <td>px</td>\n",
       "    </tr>\n",
       "    <tr>\n",
       "      <th>2</th>\n",
       "      <td>f11</td>\n",
       "      <td>102</td>\n",
       "      <td>stringer_zone_bottom</td>\n",
       "    </tr>\n",
       "    <tr>\n",
       "      <th>3</th>\n",
       "      <td>f0</td>\n",
       "      <td>335</td>\n",
       "      <td>angle_x</td>\n",
       "    </tr>\n",
       "    <tr>\n",
       "      <th>4</th>\n",
       "      <td>f1</td>\n",
       "      <td>261</td>\n",
       "      <td>angle_z</td>\n",
       "    </tr>\n",
       "    <tr>\n",
       "      <th>5</th>\n",
       "      <td>f4</td>\n",
       "      <td>35</td>\n",
       "      <td>bside_L</td>\n",
       "    </tr>\n",
       "    <tr>\n",
       "      <th>6</th>\n",
       "      <td>f12</td>\n",
       "      <td>122</td>\n",
       "      <td>stringer_zone_top</td>\n",
       "    </tr>\n",
       "    <tr>\n",
       "      <th>7</th>\n",
       "      <td>f6</td>\n",
       "      <td>233</td>\n",
       "      <td>pitch_speed</td>\n",
       "    </tr>\n",
       "    <tr>\n",
       "      <th>8</th>\n",
       "      <td>f2</td>\n",
       "      <td>278</td>\n",
       "      <td>break_x</td>\n",
       "    </tr>\n",
       "    <tr>\n",
       "      <th>9</th>\n",
       "      <td>f3</td>\n",
       "      <td>227</td>\n",
       "      <td>break_z</td>\n",
       "    </tr>\n",
       "    <tr>\n",
       "      <th>10</th>\n",
       "      <td>f7</td>\n",
       "      <td>17</td>\n",
       "      <td>pside_L</td>\n",
       "    </tr>\n",
       "  </tbody>\n",
       "</table>\n",
       "</div>"
      ],
      "text/plain": [
       "   f_key  fi_vals                col_nm\n",
       "0    f10      477                    pz\n",
       "1     f9      532                    px\n",
       "2    f11      102  stringer_zone_bottom\n",
       "3     f0      335               angle_x\n",
       "4     f1      261               angle_z\n",
       "5     f4       35               bside_L\n",
       "6    f12      122     stringer_zone_top\n",
       "7     f6      233           pitch_speed\n",
       "8     f2      278               break_x\n",
       "9     f3      227               break_z\n",
       "10    f7       17               pside_L"
      ]
     },
     "execution_count": 90,
     "metadata": {},
     "output_type": "execute_result"
    }
   ],
   "source": [
    "df_fi_vals"
   ]
  },
  {
   "cell_type": "code",
   "execution_count": 91,
   "id": "ab3a8a74-f72a-489b-bbd8-2baaefbd77f4",
   "metadata": {},
   "outputs": [],
   "source": [
    "sort_by_fi = (df_fi_vals[['col_nm', 'fi_vals']].sort_values(by=['fi_vals']\n",
    "                                              , axis=0, ascending=False)\n",
    "                                                ['col_nm']).values"
   ]
  },
  {
   "cell_type": "code",
   "execution_count": 92,
   "id": "ead5d5b8-8463-4ea9-bca6-c46048bf0f9b",
   "metadata": {},
   "outputs": [
    {
     "data": {
      "image/png": "[encoded data removed]",
      "text/plain": [
       "<Figure size 432x288 with 1 Axes>"
      ]
     },
     "metadata": {
      "needs_background": "light"
     },
     "output_type": "display_data"
    }
   ],
   "source": [
    "_ = sns.barplot(x='fi_vals', y='col_nm', data=df_fi_vals, color='skyblue'\n",
    "            ,order=sort_by_fi,)\n",
    "_.set(title=\"Feature Importances: Selected XGBoost Model\")\n",
    "plt.show()"
   ]
  },
  {
   "cell_type": "markdown",
   "id": "aa0b4ae3-40f0-47fc-a274-7a93811e9459",
   "metadata": {},
   "source": [
    "Of course, as with all feature importance analytics, there's a relationship that exists with how the features interact, and their relative importance can shuffle greatly as features swap in and out, so let's keep that in the back our minds. In other words, we shouldn't be surprised if we run a similar model with added features and the features move up and down in their relative 'ranking'.\n",
    "\n",
    "Having said that, this makes pretty intuitive sense, with regards to relative magnitude. \n",
    "- Location is extremely important to determining whether a pitch is a strike. Of course!\n",
    "- Next angle, break, and speed have some importance as well. I hypothesize this helps alot in determining the X/Y travel of the pitch and how the Umpire is seeing the pitch come in.\n",
    "- the Stringer values they hold some value, though i think maybe the algo figures out the thresholds independent of them.\n",
    "- Lastly is batside and pitchside, which I think makes sense relatively. Of course we would hope that handedness side would have no influence on how a strike is generally perceived by the Umpire, but I'm guessing there's a small impact with regards to how individual attack the individual batters. So if a pitcher has better control to one side rather than another contigent on batter side, we should a tiny ripple of that effect, which is what I think this might be saying.\n",
    "\n"
   ]
  },
  {
   "cell_type": "markdown",
   "id": "28274098-2ea7-46c2-8a76-475053f7bcdd",
   "metadata": {},
   "source": [
    "Let's designate our chosen model."
   ]
  },
  {
   "cell_type": "code",
   "execution_count": 94,
   "id": "1945e584-3001-4517-9e6b-dfd13fdba650",
   "metadata": {},
   "outputs": [],
   "source": [
    "# This was the best model from our first RandomSearch\n",
    "selected_model = rs_best"
   ]
  },
  {
   "cell_type": "markdown",
   "id": "043d8880-bf95-47fa-b143-063be051aacc",
   "metadata": {},
   "source": [
    "#### Make Predictions on Holdout\n",
    "\n",
    "##### Predicted Classes"
   ]
  },
  {
   "cell_type": "code",
   "execution_count": 95,
   "id": "ccebcb77-0d3e-46be-b10b-34cc99ba3d2f",
   "metadata": {},
   "outputs": [
    {
     "data": {
      "text/plain": [
       "(18633,)"
      ]
     },
     "metadata": {},
     "output_type": "display_data"
    }
   ],
   "source": [
    "pred_classes = selected_model.predict(holdout_scaled)\n",
    "display(pred_classes.shape)"
   ]
  },
  {
   "cell_type": "markdown",
   "id": "ebc7c467-8e7e-4835-bcfc-b1f2f3761b33",
   "metadata": {},
   "source": [
    "Quick look at results:"
   ]
  },
  {
   "cell_type": "code",
   "execution_count": 96,
   "id": "e57bddfc-e4f6-49ae-a7d5-33566d9f2a05",
   "metadata": {},
   "outputs": [
    {
     "data": {
      "text/plain": [
       "array([0, 0, 1, 1, 1, 0, 1, 0, 1, 0, 1, 1, 1, 0, 0, 0, 1, 0, 0, 1, 1, 0,\n",
       "       0, 0, 0, 0, 1, 1, 1, 0, 0, 1, 0, 0, 0, 0, 0, 1, 0, 1, 1, 0, 1, 1,\n",
       "       0, 1, 0, 0, 0, 0, 1, 0, 0, 0, 1, 1, 1, 0, 0, 0, 0, 1, 1, 0, 0, 0,\n",
       "       1, 0, 0, 0, 0, 1, 0, 0, 0, 1, 1, 1, 0, 0, 0, 1, 1, 0, 0, 0, 0, 0,\n",
       "       0, 1, 0, 1, 0, 0, 0, 0, 1, 0, 0, 0])"
      ]
     },
     "execution_count": 96,
     "metadata": {},
     "output_type": "execute_result"
    }
   ],
   "source": [
    "pred_classes[:100]"
   ]
  },
  {
   "cell_type": "markdown",
   "id": "3ceea53c-789f-4197-b3a3-de8faf844661",
   "metadata": {},
   "source": [
    "Look at relative ratio of strikes:"
   ]
  },
  {
   "cell_type": "code",
   "execution_count": 97,
   "id": "611a9498-be70-4959-8256-575c40f229d0",
   "metadata": {},
   "outputs": [
    {
     "data": {
      "text/plain": [
       "0    0.691944\n",
       "1    0.308056\n",
       "dtype: float64"
      ]
     },
     "execution_count": 97,
     "metadata": {},
     "output_type": "execute_result"
    }
   ],
   "source": [
    "df_pred = pd.DataFrame(pred_classes)\n",
    "df_pred.value_counts(normalize=True)"
   ]
  },
  {
   "cell_type": "markdown",
   "id": "df16a8cf-3984-4345-9bc8-aa3f3839a9de",
   "metadata": {},
   "source": [
    "For comparison, relative ratio in training data:"
   ]
  },
  {
   "cell_type": "code",
   "execution_count": 98,
   "id": "f9081a37-d839-497c-ae7e-cb6a1ef3c3c2",
   "metadata": {},
   "outputs": [
    {
     "data": {
      "text/plain": [
       "0    0.686864\n",
       "1    0.313136\n",
       "Name: strike_bool, dtype: float64"
      ]
     },
     "execution_count": 98,
     "metadata": {},
     "output_type": "execute_result"
    }
   ],
   "source": [
    "df_y.value_counts(normalize=True)"
   ]
  },
  {
   "cell_type": "markdown",
   "id": "97602af6-914a-4ac6-82e6-2d7b64761603",
   "metadata": {},
   "source": [
    "Pretty close! It could be a _dangerous_ assumption, but based on what we DO know of how the datasets were constructed, the fact that the ratios are so close makes me feel that our results are pretty good."
   ]
  },
  {
   "cell_type": "markdown",
   "id": "2b2da620-0f4b-46ba-88c7-ff758ed07e0f",
   "metadata": {},
   "source": [
    "##### Predicted Probabilities"
   ]
  },
  {
   "cell_type": "code",
   "execution_count": 99,
   "id": "cc1553a1-a905-43ce-82f7-857aca1c607d",
   "metadata": {},
   "outputs": [],
   "source": [
    "pred_proba = selected_model.predict_proba(holdout_scaled)"
   ]
  },
  {
   "cell_type": "markdown",
   "id": "1d4f2e23-a09e-4f61-ac02-5bcd253ece3d",
   "metadata": {},
   "source": [
    "Quick look at results:"
   ]
  },
  {
   "cell_type": "code",
   "execution_count": 100,
   "id": "228ff195-7b79-45b2-9675-bee5151091b2",
   "metadata": {},
   "outputs": [
    {
     "data": {
      "text/plain": [
       "array([[0.999, 0.001],\n",
       "       [1.   , 0.   ],\n",
       "       [0.009, 0.991],\n",
       "       [0.32 , 0.68 ],\n",
       "       [0.006, 0.994],\n",
       "       [1.   , 0.   ],\n",
       "       [0.024, 0.976],\n",
       "       [1.   , 0.   ],\n",
       "       [0.004, 0.996],\n",
       "       [0.994, 0.006],\n",
       "       [0.026, 0.974],\n",
       "       [0.056, 0.944],\n",
       "       [0.457, 0.543],\n",
       "       [1.   , 0.   ],\n",
       "       [0.985, 0.015],\n",
       "       [0.684, 0.316],\n",
       "       [0.483, 0.517],\n",
       "       [0.994, 0.006],\n",
       "       [1.   , 0.   ],\n",
       "       [0.017, 0.983]], dtype=float32)"
      ]
     },
     "execution_count": 100,
     "metadata": {},
     "output_type": "execute_result"
    }
   ],
   "source": [
    "np.round(pred_proba[:20], 3)"
   ]
  },
  {
   "cell_type": "code",
   "execution_count": 101,
   "id": "b07a6788-6a05-43cf-8e72-90a0282a7387",
   "metadata": {},
   "outputs": [],
   "source": [
    "pred_proba_strike_only = pred_proba[:, -1]"
   ]
  },
  {
   "cell_type": "code",
   "execution_count": 102,
   "id": "43f9a984-ef5c-4358-b411-4f843b720791",
   "metadata": {},
   "outputs": [
    {
     "data": {
      "text/plain": [
       "'./predictions/holdout/xgb_pred_vals_20220512_0808.csv'"
      ]
     },
     "metadata": {},
     "output_type": "display_data"
    },
    {
     "data": {
      "text/plain": [
       "'./predictions/holdout/xgb_pred_proba_20220512_0808.csv'"
      ]
     },
     "metadata": {},
     "output_type": "display_data"
    },
    {
     "data": {
      "text/plain": [
       "'./predictions/holdout/xgb_pred_proba_strike_only_20220512_0808.csv'"
      ]
     },
     "metadata": {},
     "output_type": "display_data"
    }
   ],
   "source": [
    "str_ts = datetime.now(timezone.utc).astimezone(pytz.timezone('US/Pacific')).strftime(\"%Y%m%d_%H%M\")\n",
    "file_class_nm = 'xgb_pred_vals_' + str_ts\n",
    "file_proba_nm = 'xgb_pred_proba_' + str_ts\n",
    "file_proba_stk_nm = 'xgb_pred_proba_strike_only_' + str_ts\n",
    "\n",
    "file_class_path = './predictions/holdout/' + file_class_nm + '.csv'\n",
    "file_proba_path = './predictions/holdout/' + file_proba_nm + '.csv'\n",
    "file_proba_stk_path = './predictions/holdout/' + file_proba_stk_nm + '.csv'\n",
    "\n",
    "display(file_class_path)\n",
    "display(file_proba_path)\n",
    "display(file_proba_stk_path)"
   ]
  },
  {
   "cell_type": "code",
   "execution_count": 103,
   "id": "d190034d-af4a-45ce-98b8-3b0bb917d0d8",
   "metadata": {},
   "outputs": [],
   "source": [
    "# save out predicted probabilities\n",
    "np.savetxt(file_class_path, pred_classes, delimiter=\",\")\n",
    "np.savetxt(file_proba_path, pred_proba, delimiter=\",\")\n",
    "np.savetxt(file_proba_stk_path, pred_proba_strike_only, delimiter=\",\")"
   ]
  },
  {
   "cell_type": "markdown",
   "id": "5d740778-978f-4c3b-8efc-a056eceba3c2",
   "metadata": {},
   "source": [
    "---  \n",
    "\n",
    "<span style=\"font-size:0.5em;\">End of Current Work</span>\n",
    "\n",
    "<a id='6_the_end'></a>\n",
    "\n",
    "<span style=\"font-size:0.5em;\"><a href='#toc_6'>Back to TOC</a></span>"
   ]
  },
  {
   "cell_type": "markdown",
   "id": "e9fc1490-d3b2-4169-83eb-69fc494a3bc7",
   "metadata": {
    "tags": []
   },
   "source": [
    "-----"
   ]
  }
 ],
 "metadata": {
  "kernelspec": {
   "display_name": "Python 3 (ipykernel)",
   "language": "python",
   "name": "python3"
  },
  "language_info": {
   "codemirror_mode": {
    "name": "ipython",
    "version": 3
   },
   "file_extension": ".py",
   "mimetype": "text/x-python",
   "name": "python",
   "nbconvert_exporter": "python",
   "pygments_lexer": "ipython3",
   "version": "3.8.10"
  },
  "toc-autonumbering": false,
  "toc-showmarkdowntxt": false,
  "widgets": {
   "application/vnd.jupyter.widget-state+json": {
    "state": {},
    "version_major": 2,
    "version_minor": 0
   }
  }
 },
 "nbformat": 4,
 "nbformat_minor": 5
}
